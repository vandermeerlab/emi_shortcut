{
 "cells": [
  {
   "cell_type": "code",
   "execution_count": null,
   "metadata": {
    "ExecuteTime": {
     "end_time": "2018-06-05T14:25:04.007211Z",
     "start_time": "2018-06-05T14:25:02.933125Z"
    },
    "collapsed": true
   },
   "outputs": [],
   "source": [
    "%matplotlib inline\n",
    "import matplotlib.pyplot as plt\n",
    "import numpy as np\n",
    "import os\n",
    "import nept\n",
    "\n",
    "from matplotlib import animation\n",
    "from IPython.display import HTML\n",
    "\n",
    "from startup import extract_xy, median_filter\n",
    "from loading_data import get_data, unzip_nvt_file, zip_nvt_file\n",
    "from analyze_decode_bytrial import get_trials\n",
    "\n",
    "import warnings\n",
    "warnings.filterwarnings(\"ignore\")"
   ]
  },
  {
   "cell_type": "code",
   "execution_count": null,
   "metadata": {
    "ExecuteTime": {
     "end_time": "2018-06-05T14:25:04.012181Z",
     "start_time": "2018-06-05T14:25:04.009183Z"
    },
    "collapsed": true
   },
   "outputs": [],
   "source": [
    "thisdir = os.getcwd()\n",
    "dataloc = os.path.join(thisdir, 'cache', 'data')\n",
    "pickle_filepath = os.path.join(thisdir, \"cache\", \"pickled\")\n",
    "output_filepath = os.path.join(thisdir, \"plots\", \"correcting_position\")"
   ]
  },
  {
   "cell_type": "code",
   "execution_count": null,
   "metadata": {
    "ExecuteTime": {
     "end_time": "2018-06-05T14:25:04.022191Z",
     "start_time": "2018-06-05T14:25:04.013179Z"
    },
    "collapsed": true
   },
   "outputs": [],
   "source": [
    "import info.r066d2 as info\n",
    "# import info.r063d8 as info"
   ]
  },
  {
   "cell_type": "code",
   "execution_count": null,
   "metadata": {
    "ExecuteTime": {
     "end_time": "2018-06-05T14:25:04.603042Z",
     "start_time": "2018-06-05T14:25:04.024174Z"
    },
    "collapsed": true
   },
   "outputs": [],
   "source": [
    "events, position, spikes, lfp, lfp_theta = get_data(info)"
   ]
  },
  {
   "cell_type": "code",
   "execution_count": null,
   "metadata": {
    "ExecuteTime": {
     "end_time": "2018-06-05T14:25:04.607752Z",
     "start_time": "2018-06-05T14:25:04.603042Z"
    },
    "collapsed": true
   },
   "outputs": [],
   "source": [
    "filename = os.path.join(dataloc, info.position_filename)"
   ]
  },
  {
   "cell_type": "code",
   "execution_count": null,
   "metadata": {
    "ExecuteTime": {
     "end_time": "2018-06-05T14:25:05.040521Z",
     "start_time": "2018-06-05T14:25:04.609750Z"
    },
    "collapsed": true
   },
   "outputs": [],
   "source": [
    "# Load raw position from file\n",
    "nvt_data = nept.load_nvt(filename)\n",
    "targets = nvt_data['targets']\n",
    "times = nvt_data['time']"
   ]
  },
  {
   "cell_type": "code",
   "execution_count": null,
   "metadata": {
    "ExecuteTime": {
     "end_time": "2018-06-05T14:25:06.531008Z",
     "start_time": "2018-06-05T14:25:05.042503Z"
    },
    "collapsed": true
   },
   "outputs": [],
   "source": [
    "# Initialize x, y arrays\n",
    "x = np.zeros(targets.shape)\n",
    "y = np.zeros(targets.shape)\n",
    "\n",
    "# X and Y are stored in a custom bitfield. See Neuralynx data file format documentation for details.\n",
    "# Briefly, each record contains up to 50 targets, each stored in 32bit field.\n",
    "# X field at [20:31] and Y at [4:15].\n",
    "# TODO: make into a separate function in nept\n",
    "for target in range(targets.shape[1]):\n",
    "    this_sample = targets[:, target]\n",
    "    for sample in range(targets.shape[0]):\n",
    "        # When the bitfield is equal to zero there is no valid data for that field\n",
    "        # and remains zero for the rest of the bitfields in the record.\n",
    "        if this_sample[target] == 0:\n",
    "            break\n",
    "        x[sample, target], y[sample, target] = extract_xy(int(this_sample[sample]))\n",
    "\n",
    "# Replacing targets with no samples with nan instead of 0\n",
    "x[x == 0] = np.nan\n",
    "y[y == 0] = np.nan\n",
    "\n",
    "# Scale the positions\n",
    "x = x / info.scale_targets[0]\n",
    "y = y / info.scale_targets[1]"
   ]
  },
  {
   "cell_type": "code",
   "execution_count": null,
   "metadata": {
    "ExecuteTime": {
     "end_time": "2018-06-05T14:25:08.407114Z",
     "start_time": "2018-06-05T14:25:06.531008Z"
    }
   },
   "outputs": [],
   "source": [
    "plt.plot(times, y, \"b.\", ms=2)\n",
    "plt.show()"
   ]
  },
  {
   "cell_type": "code",
   "execution_count": null,
   "metadata": {},
   "outputs": [],
   "source": [
    "plt.plot(x, y, \"b.\", ms=2)\n",
    "plt.show()"
   ]
  },
  {
   "cell_type": "code",
   "execution_count": null,
   "metadata": {
    "ExecuteTime": {
     "end_time": "2018-06-05T14:26:09.100077Z",
     "start_time": "2018-06-05T14:25:08.409052Z"
    }
   },
   "outputs": [],
   "source": [
    "# Finding which feeder led is on over time\n",
    "leds = []\n",
    "leds.extend([(event, 'led1') for event in events['led1']])\n",
    "leds.extend([(event, 'led2') for event in events['led2']])\n",
    "sorted_leds = np.sort(leds)\n",
    "print(sorted_leds)\n",
    "\n",
    "# Get an array of feeder locations when that feeder is actively flashing\n",
    "feeder_x_location = np.empty(times.shape[0]) * np.nan\n",
    "feeder_y_location = np.empty(times.shape[0]) * np.nan\n",
    "\n",
    "led_padding = 2\n",
    "\n",
    "ledoff = np.array(events[\"ledoff\"])\n",
    "if len(sorted_leds) != len(ledoff):\n",
    "    sorted_leds = sorted_leds[:-1]\n",
    "\n",
    "for i, (time, label) in enumerate(sorted_leds):\n",
    "    x_location = info.path_pts['feeder1'][0] if label == 'led1' else info.path_pts['feeder2'][0]\n",
    "    y_location = info.path_pts['feeder1'][1] if label == 'led1' else info.path_pts['feeder2'][1]\n",
    "    \n",
    "    next_off = ledoff[i]\n",
    "    if time > next_off:\n",
    "        next_off = next_off[i+1]\n",
    "    \n",
    "    on_idx = nept.find_nearest_idx(times, time)\n",
    "    off_idx = nept.find_nearest_idx(times, next_off)\n",
    "    \n",
    "    feeder_x_location[on_idx:off_idx+led_padding] = x_location\n",
    "    feeder_y_location[on_idx:off_idx+led_padding] = y_location"
   ]
  },
  {
   "cell_type": "code",
   "execution_count": null,
   "metadata": {
    "collapsed": true
   },
   "outputs": [],
   "source": []
  },
  {
   "cell_type": "code",
   "execution_count": null,
   "metadata": {
    "collapsed": true
   },
   "outputs": [],
   "source": []
  },
  {
   "cell_type": "code",
   "execution_count": null,
   "metadata": {
    "ExecuteTime": {
     "end_time": "2018-06-05T14:26:12.841294Z",
     "start_time": "2018-06-05T14:26:09.100077Z"
    },
    "collapsed": true
   },
   "outputs": [],
   "source": [
    "# Removing the contaminated samples that are closest to the feeder location\n",
    "def remove_feeder_contamination(original_targets, current_feeder, dist_to_feeder=5):\n",
    "    targets = np.array(original_targets)\n",
    "    for i, (target, feeder) in enumerate(zip(targets, current_feeder)):\n",
    "        if not np.isnan(feeder):\n",
    "            dist = np.abs(target - feeder) < dist_to_feeder\n",
    "            target[dist] = np.nan\n",
    "        targets[i] = target\n",
    "    return targets\n",
    "\n",
    "x = remove_feeder_contamination(x, feeder_x_location)\n",
    "y = remove_feeder_contamination(y, feeder_y_location)"
   ]
  },
  {
   "cell_type": "code",
   "execution_count": null,
   "metadata": {
    "ExecuteTime": {
     "end_time": "2018-06-05T14:26:14.613845Z",
     "start_time": "2018-06-05T14:26:12.841294Z"
    }
   },
   "outputs": [],
   "source": [
    "plt.plot(times, y, \"k.\", ms=2)\n",
    "plt.show()"
   ]
  },
  {
   "cell_type": "code",
   "execution_count": null,
   "metadata": {
    "ExecuteTime": {
     "end_time": "2018-06-05T14:26:15.108920Z",
     "start_time": "2018-06-05T14:26:14.614844Z"
    },
    "collapsed": true,
    "scrolled": false
   },
   "outputs": [],
   "source": [
    "# Removing the problem samples that are furthest from the previous location\n",
    "def remove_based_on_std(original_targets, std_thresh=10):\n",
    "    targets = np.array(original_targets)\n",
    "    stds = np.nanstd(targets, axis=1)[:, np.newaxis]\n",
    "    \n",
    "    # find idx where there is a large variation between targets\n",
    "    problem_samples = np.where(stds > std_thresh)[0]\n",
    "    \n",
    "    for i in problem_samples:\n",
    "        # find the previous mean to help determine which target is an issue\n",
    "        previous_idx = i-1\n",
    "        previous_mean = np.nanmean(targets[previous_idx])\n",
    "        \n",
    "        # if previous sample is nan, compare current sample to the one before that\n",
    "        while np.isnan(previous_mean):\n",
    "            previous_idx -= 1\n",
    "            previous_mean = np.nanmean(targets[previous_idx])\n",
    "        \n",
    "        # remove problem target\n",
    "        idx = np.nanargmax(np.abs(targets[i] - previous_mean))\n",
    "        targets[i][idx] = np.nan\n",
    "    \n",
    "    return targets\n",
    "\n",
    "x = remove_based_on_std(x)\n",
    "y = remove_based_on_std(y)"
   ]
  },
  {
   "cell_type": "code",
   "execution_count": null,
   "metadata": {},
   "outputs": [],
   "source": [
    "# Determining the percent of samples used\n",
    "len(x) / len(targets) * 100"
   ]
  },
  {
   "cell_type": "code",
   "execution_count": null,
   "metadata": {
    "ExecuteTime": {
     "end_time": "2018-06-05T14:26:15.373505Z",
     "start_time": "2018-06-05T14:26:15.108920Z"
    },
    "collapsed": true
   },
   "outputs": [],
   "source": [
    "# Calculating the mean of the remaining targets\n",
    "xx = np.nanmean(x, axis=1)\n",
    "yy = np.nanmean(y, axis=1)\n",
    "ttimes = times"
   ]
  },
  {
   "cell_type": "code",
   "execution_count": null,
   "metadata": {},
   "outputs": [],
   "source": [
    "# Determining the percent of samples used\n",
    "len(xx) / len(targets) * 100"
   ]
  },
  {
   "cell_type": "code",
   "execution_count": null,
   "metadata": {
    "ExecuteTime": {
     "end_time": "2018-06-05T14:26:15.561381Z",
     "start_time": "2018-06-05T14:26:15.374506Z"
    }
   },
   "outputs": [],
   "source": [
    "plt.plot(ttimes, yy, \"k.\", ms=2)\n",
    "plt.show()"
   ]
  },
  {
   "cell_type": "code",
   "execution_count": null,
   "metadata": {
    "ExecuteTime": {
     "end_time": "2018-06-05T14:26:15.567378Z",
     "start_time": "2018-06-05T14:26:15.562379Z"
    }
   },
   "outputs": [],
   "source": [
    "len(yy)"
   ]
  },
  {
   "cell_type": "code",
   "execution_count": null,
   "metadata": {
    "ExecuteTime": {
     "end_time": "2018-06-05T14:26:15.682312Z",
     "start_time": "2018-06-05T14:26:15.568376Z"
    },
    "collapsed": true
   },
   "outputs": [],
   "source": [
    "# Apply a median filter\n",
    "xx, yy = median_filter(xx, yy, kernel=9)"
   ]
  },
  {
   "cell_type": "code",
   "execution_count": null,
   "metadata": {},
   "outputs": [],
   "source": [
    "# Determining the percent of samples used\n",
    "len(xx) / len(targets) * 100"
   ]
  },
  {
   "cell_type": "code",
   "execution_count": null,
   "metadata": {
    "ExecuteTime": {
     "end_time": "2018-06-05T14:26:15.697303Z",
     "start_time": "2018-06-05T14:26:15.683311Z"
    },
    "collapsed": true
   },
   "outputs": [],
   "source": [
    "# Finding nan idx\n",
    "x_nan_idx = np.isnan(xx)\n",
    "y_nan_idx = np.isnan(yy)\n",
    "nan_idx = x_nan_idx | y_nan_idx\n",
    "\n",
    "# Removing nan samples\n",
    "xx = xx[~nan_idx]\n",
    "yy = yy[~nan_idx]\n",
    "ttimes = ttimes[~nan_idx]"
   ]
  },
  {
   "cell_type": "code",
   "execution_count": null,
   "metadata": {},
   "outputs": [],
   "source": [
    "# Determining the percent of samples used\n",
    "len(xx) / len(targets) * 100"
   ]
  },
  {
   "cell_type": "code",
   "execution_count": null,
   "metadata": {
    "ExecuteTime": {
     "end_time": "2018-06-05T14:26:15.710296Z",
     "start_time": "2018-06-05T14:26:15.698303Z"
    },
    "collapsed": true
   },
   "outputs": [],
   "source": [
    "# Construct a nept.Position object\n",
    "position = nept.Position(np.hstack(np.array([xx, yy])[..., np.newaxis]), ttimes)"
   ]
  },
  {
   "cell_type": "code",
   "execution_count": null,
   "metadata": {
    "ExecuteTime": {
     "end_time": "2018-06-05T14:26:15.912180Z",
     "start_time": "2018-06-05T14:26:15.712295Z"
    }
   },
   "outputs": [],
   "source": [
    "plt.plot(position.x, position.y, \"k.\", ms=1)\n",
    "plt.show()"
   ]
  },
  {
   "cell_type": "code",
   "execution_count": null,
   "metadata": {
    "ExecuteTime": {
     "end_time": "2018-06-05T14:26:16.197017Z",
     "start_time": "2018-06-05T14:26:15.913179Z"
    }
   },
   "outputs": [],
   "source": [
    "plt.plot(position.time, position.y, \"k.\", ms=4)\n",
    "plt.show()"
   ]
  },
  {
   "cell_type": "code",
   "execution_count": null,
   "metadata": {
    "ExecuteTime": {
     "end_time": "2018-06-05T14:26:16.289964Z",
     "start_time": "2018-06-05T14:26:16.198017Z"
    }
   },
   "outputs": [],
   "source": [
    "check_start = 60000\n",
    "check_end = 70000\n",
    "\n",
    "plt.plot(position.time[check_start:check_end], position.y[check_start:check_end], \"k.\", ms=5)\n",
    "plt.show()"
   ]
  },
  {
   "cell_type": "code",
   "execution_count": null,
   "metadata": {
    "ExecuteTime": {
     "end_time": "2018-06-05T14:26:16.296960Z",
     "start_time": "2018-06-05T14:26:16.291963Z"
    },
    "collapsed": true
   },
   "outputs": [],
   "source": [
    "trial_epochs = get_trials(events, info.task_times[\"phase3\"])\n",
    "trial_idx = 2\n",
    "start = trial_epochs[trial_idx].start\n",
    "stop = trial_epochs[trial_idx].stop"
   ]
  },
  {
   "cell_type": "code",
   "execution_count": null,
   "metadata": {
    "ExecuteTime": {
     "end_time": "2018-06-05T14:26:16.380912Z",
     "start_time": "2018-06-05T14:26:16.297960Z"
    }
   },
   "outputs": [],
   "source": [
    "trial = position.time_slice(start, stop)\n",
    "plt.plot(trial.x, trial.y, \"k.\")\n",
    "plt.show()"
   ]
  },
  {
   "cell_type": "code",
   "execution_count": null,
   "metadata": {
    "collapsed": true
   },
   "outputs": [],
   "source": []
  },
  {
   "cell_type": "code",
   "execution_count": null,
   "metadata": {
    "ExecuteTime": {
     "end_time": "2018-06-05T14:26:16.387908Z",
     "start_time": "2018-06-05T14:26:16.381911Z"
    }
   },
   "outputs": [],
   "source": [
    "# Determining the percent of samples used\n",
    "position.n_samples / len(targets) * 100"
   ]
  },
  {
   "cell_type": "code",
   "execution_count": null,
   "metadata": {
    "collapsed": true
   },
   "outputs": [],
   "source": []
  },
  {
   "cell_type": "code",
   "execution_count": null,
   "metadata": {
    "collapsed": true
   },
   "outputs": [],
   "source": []
  },
  {
   "cell_type": "code",
   "execution_count": null,
   "metadata": {
    "collapsed": true
   },
   "outputs": [],
   "source": []
  },
  {
   "cell_type": "code",
   "execution_count": null,
   "metadata": {
    "collapsed": true
   },
   "outputs": [],
   "source": []
  },
  {
   "cell_type": "code",
   "execution_count": null,
   "metadata": {
    "collapsed": true
   },
   "outputs": [],
   "source": []
  }
 ],
 "metadata": {
  "kernelspec": {
   "display_name": "Python 3",
   "language": "python",
   "name": "python3"
  },
  "language_info": {
   "codemirror_mode": {
    "name": "ipython",
    "version": 3
   },
   "file_extension": ".py",
   "mimetype": "text/x-python",
   "name": "python",
   "nbconvert_exporter": "python",
   "pygments_lexer": "ipython3",
   "version": "3.6.5"
  },
  "toc": {
   "colors": {
    "hover_highlight": "#DAA520",
    "running_highlight": "#FF0000",
    "selected_highlight": "#FFD700"
   },
   "moveMenuLeft": true,
   "nav_menu": {
    "height": "12px",
    "width": "252px"
   },
   "navigate_menu": true,
   "number_sections": true,
   "sideBar": true,
   "threshold": 4,
   "toc_cell": false,
   "toc_section_display": "block",
   "toc_window_display": false
  }
 },
 "nbformat": 4,
 "nbformat_minor": 2
}
