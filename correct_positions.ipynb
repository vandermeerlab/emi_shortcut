{
 "cells": [
  {
   "cell_type": "code",
   "execution_count": null,
   "metadata": {
    "ExecuteTime": {
     "end_time": "2018-06-25T16:40:39.325365Z",
     "start_time": "2018-06-25T16:40:39.315373Z"
    }
   },
   "outputs": [],
   "source": [
    "%matplotlib inline\n",
    "import matplotlib.pyplot as plt\n",
    "import numpy as np\n",
    "import os\n",
    "import nept\n",
    "import scipy\n",
    "\n",
    "from matplotlib import animation\n",
    "from IPython.display import HTML\n",
    "\n",
    "from loading_data import get_data, unzip_nvt_file, zip_nvt_file, extract_xy, median_filter, plot_correcting_position\n",
    "from utils_maze import get_trials\n",
    "\n",
    "import warnings\n",
    "warnings.filterwarnings(\"ignore\")"
   ]
  },
  {
   "cell_type": "code",
   "execution_count": null,
   "metadata": {
    "ExecuteTime": {
     "end_time": "2018-06-25T16:40:39.607286Z",
     "start_time": "2018-06-25T16:40:39.603288Z"
    }
   },
   "outputs": [],
   "source": [
    "thisdir = os.getcwd()\n",
    "dataloc = os.path.join(thisdir, 'cache', 'data')\n",
    "pickle_filepath = os.path.join(thisdir, \"cache\", \"pickled\")\n",
    "output_filepath = os.path.join(thisdir, \"plots\", \"correcting_position\")"
   ]
  },
  {
   "cell_type": "code",
   "execution_count": null,
   "metadata": {
    "ExecuteTime": {
     "end_time": "2018-06-25T16:40:39.886918Z",
     "start_time": "2018-06-25T16:40:39.883938Z"
    }
   },
   "outputs": [],
   "source": [
    "# import info.r066d7 as info\n",
    "import info.r067d1 as info"
   ]
  },
  {
   "cell_type": "code",
   "execution_count": null,
   "metadata": {
    "ExecuteTime": {
     "end_time": "2018-06-25T16:40:40.792401Z",
     "start_time": "2018-06-25T16:40:40.194745Z"
    }
   },
   "outputs": [],
   "source": [
    "events, position, _, _, _ = get_data(info)"
   ]
  },
  {
   "cell_type": "code",
   "execution_count": null,
   "metadata": {
    "ExecuteTime": {
     "end_time": "2018-06-25T16:40:41.198169Z",
     "start_time": "2018-06-25T16:40:40.794402Z"
    }
   },
   "outputs": [],
   "source": [
    "# Load raw position from file\n",
    "filename = os.path.join(dataloc, info.position_filename)\n",
    "nvt_data = nept.load_nvt(filename)\n",
    "targets = nvt_data['targets']\n",
    "times = nvt_data['time']"
   ]
  },
  {
   "cell_type": "code",
   "execution_count": null,
   "metadata": {
    "ExecuteTime": {
     "end_time": "2018-06-25T16:43:05.092638Z",
     "start_time": "2018-06-25T16:43:03.715426Z"
    }
   },
   "outputs": [],
   "source": [
    "# Initialize x, y arrays\n",
    "x = np.zeros(targets.shape)\n",
    "y = np.zeros(targets.shape)\n",
    "\n",
    "# X and Y are stored in a custom bitfield. See Neuralynx data file format documentation for details.\n",
    "# Briefly, each record contains up to 50 targets, each stored in 32bit field.\n",
    "# X field at [20:31] and Y at [4:15].\n",
    "# TODO: make into a separate function in nept\n",
    "for target in range(targets.shape[1]):\n",
    "    this_sample = targets[:, target]\n",
    "    for sample in range(targets.shape[0]):\n",
    "        # When the bitfield is equal to zero there is no valid data for that field\n",
    "        # and remains zero for the rest of the bitfields in the record.\n",
    "        if this_sample[target] == 0:\n",
    "            break\n",
    "        x[sample, target], y[sample, target] = extract_xy(int(this_sample[sample]))\n",
    "\n",
    "# Replacing targets with no samples with nan instead of 0\n",
    "x[x == 0] = np.nan\n",
    "y[y == 0] = np.nan\n",
    "\n",
    "# Scale the positions\n",
    "x /= info.scale_targets\n",
    "y /= info.scale_targets"
   ]
  },
  {
   "cell_type": "code",
   "execution_count": null,
   "metadata": {},
   "outputs": [],
   "source": [
    "info.position_problem_trials"
   ]
  },
  {
   "cell_type": "code",
   "execution_count": null,
   "metadata": {},
   "outputs": [],
   "source": []
  },
  {
   "cell_type": "code",
   "execution_count": null,
   "metadata": {},
   "outputs": [],
   "source": [
    "10291.127637 10381.640605999999"
   ]
  },
  {
   "cell_type": "code",
   "execution_count": null,
   "metadata": {
    "ExecuteTime": {
     "end_time": "2018-06-25T16:21:21.969702Z",
     "start_time": "2018-06-25T16:21:21.963704Z"
    }
   },
   "outputs": [],
   "source": [
    "np.where(times < 10381.6406059999)"
   ]
  },
  {
   "cell_type": "code",
   "execution_count": null,
   "metadata": {
    "ExecuteTime": {
     "end_time": "2018-06-25T16:25:02.329024Z",
     "start_time": "2018-06-25T16:25:02.323048Z"
    },
    "scrolled": false
   },
   "outputs": [],
   "source": [
    "s = 23520\n",
    "e = 23650\n",
    "y[s:e]"
   ]
  },
  {
   "cell_type": "code",
   "execution_count": null,
   "metadata": {
    "ExecuteTime": {
     "end_time": "2018-06-25T16:45:26.003000Z",
     "start_time": "2018-06-25T16:45:25.995985Z"
    }
   },
   "outputs": [],
   "source": [
    "feeder_y_location[s:e]"
   ]
  },
  {
   "cell_type": "code",
   "execution_count": null,
   "metadata": {
    "ExecuteTime": {
     "end_time": "2018-06-25T16:32:48.841100Z",
     "start_time": "2018-06-25T16:32:48.836103Z"
    }
   },
   "outputs": [],
   "source": [
    "info.path_pts['feeder1'][1],info.path_pts['feeder2'][1]"
   ]
  },
  {
   "cell_type": "code",
   "execution_count": null,
   "metadata": {},
   "outputs": [],
   "source": []
  },
  {
   "cell_type": "code",
   "execution_count": null,
   "metadata": {},
   "outputs": [],
   "source": []
  },
  {
   "cell_type": "code",
   "execution_count": null,
   "metadata": {
    "ExecuteTime": {
     "end_time": "2018-06-25T16:53:39.181802Z",
     "start_time": "2018-06-25T16:53:39.171808Z"
    }
   },
   "outputs": [],
   "source": [
    "sorted_leds[1750:1845]"
   ]
  },
  {
   "cell_type": "code",
   "execution_count": null,
   "metadata": {
    "ExecuteTime": {
     "end_time": "2018-06-25T16:46:05.690841Z",
     "start_time": "2018-06-25T16:46:05.683845Z"
    }
   },
   "outputs": [],
   "source": [
    "np.where(np.array(sl) < 10381.6406059999)"
   ]
  },
  {
   "cell_type": "code",
   "execution_count": null,
   "metadata": {
    "ExecuteTime": {
     "end_time": "2018-06-25T16:46:01.026890Z",
     "start_time": "2018-06-25T16:46:01.018896Z"
    }
   },
   "outputs": [],
   "source": [
    "leds = []\n",
    "leds.extend([event for event in events['led1']])\n",
    "leds.extend([event for event in events['led2']])\n",
    "sl = sorted(leds)"
   ]
  },
  {
   "cell_type": "code",
   "execution_count": null,
   "metadata": {},
   "outputs": [],
   "source": []
  },
  {
   "cell_type": "code",
   "execution_count": null,
   "metadata": {},
   "outputs": [],
   "source": []
  },
  {
   "cell_type": "code",
   "execution_count": null,
   "metadata": {},
   "outputs": [],
   "source": []
  },
  {
   "cell_type": "code",
   "execution_count": null,
   "metadata": {},
   "outputs": [],
   "source": [
    "np.where(times > 6521.45853)"
   ]
  },
  {
   "cell_type": "code",
   "execution_count": null,
   "metadata": {
    "scrolled": true
   },
   "outputs": [],
   "source": [
    "s = 159055\n",
    "e = s+10\n",
    "y[s:e]"
   ]
  },
  {
   "cell_type": "code",
   "execution_count": null,
   "metadata": {
    "scrolled": true
   },
   "outputs": [],
   "source": [
    "x[s:e]"
   ]
  },
  {
   "cell_type": "code",
   "execution_count": null,
   "metadata": {},
   "outputs": [],
   "source": [
    "plt.plot(times[s:e], y[s:e], \"k.\")\n",
    "plt.savefig(os.path.join(output_filepath, info.session_id+\" phase3trial18_time.png\"))\n",
    "plt.show()"
   ]
  },
  {
   "cell_type": "code",
   "execution_count": null,
   "metadata": {},
   "outputs": [],
   "source": [
    "plt.plot(times[s:e], x[s:e], \"k.\")\n",
    "plt.savefig(os.path.join(output_filepath, info.session_id+\" phase3trial18_time.png\"))\n",
    "plt.show()"
   ]
  },
  {
   "cell_type": "code",
   "execution_count": null,
   "metadata": {},
   "outputs": [],
   "source": [
    "85., 20."
   ]
  },
  {
   "cell_type": "code",
   "execution_count": null,
   "metadata": {
    "ExecuteTime": {
     "end_time": "2018-06-22T17:21:51.165231Z",
     "start_time": "2018-06-22T17:21:50.931969Z"
    }
   },
   "outputs": [],
   "source": [
    "plt.plot(x, y, \"k.\", ms=2)\n",
    "plt.plot(85., 20., \"r.\", ms=10)\n",
    "# plt.savefig(os.path.join(output_filepath, info.session_id+\" phase3trial18_full.png\"))\n",
    "plt.show()"
   ]
  },
  {
   "cell_type": "code",
   "execution_count": null,
   "metadata": {
    "ExecuteTime": {
     "end_time": "2018-06-22T17:06:30.274663Z",
     "start_time": "2018-06-22T17:06:28.336600Z"
    }
   },
   "outputs": [],
   "source": [
    "plt.plot(times, y, 'r.', ms=2)\n",
    "plt.show()"
   ]
  },
  {
   "cell_type": "code",
   "execution_count": null,
   "metadata": {},
   "outputs": [],
   "source": [
    "np.where(position.time > 6513.185586)"
   ]
  },
  {
   "cell_type": "code",
   "execution_count": null,
   "metadata": {},
   "outputs": [],
   "source": [
    "plt.plot(position.time[123980:124020], position.y[123980:124020], 'b.', ms=3)\n",
    "plt.show()"
   ]
  },
  {
   "cell_type": "code",
   "execution_count": null,
   "metadata": {},
   "outputs": [],
   "source": [
    "position.time[123980:124020]"
   ]
  },
  {
   "cell_type": "code",
   "execution_count": null,
   "metadata": {},
   "outputs": [],
   "source": []
  },
  {
   "cell_type": "code",
   "execution_count": null,
   "metadata": {},
   "outputs": [],
   "source": []
  },
  {
   "cell_type": "code",
   "execution_count": null,
   "metadata": {},
   "outputs": [],
   "source": []
  },
  {
   "cell_type": "code",
   "execution_count": null,
   "metadata": {},
   "outputs": [],
   "source": []
  },
  {
   "cell_type": "code",
   "execution_count": null,
   "metadata": {
    "ExecuteTime": {
     "end_time": "2018-06-25T16:43:22.826853Z",
     "start_time": "2018-06-25T16:43:13.724077Z"
    }
   },
   "outputs": [],
   "source": [
    "off_delay = np.median(np.diff(times))\n",
    "dist_thresh = 20\n",
    "\n",
    "# Finding which feeder led is on over time\n",
    "leds = []\n",
    "leds.extend([(event, 'led1') for event in events['led1']])\n",
    "leds.extend([(event, 'led2') for event in events['led2']])\n",
    "sorted_leds = sorted(leds)\n",
    "\n",
    "ledoff = events[\"ledoff\"]\n",
    "\n",
    "# Get an array of feeder locations when that feeder is actively flashing\n",
    "feeder_x_location = np.empty(times.shape[0]) * np.nan\n",
    "feeder_y_location = np.empty(times.shape[0]) * np.nan\n",
    "\n",
    "off_idx = 0\n",
    "\n",
    "for start, label in sorted_leds: \n",
    "    # Find next off idx\n",
    "    while off_idx < len(ledoff) and ledoff[off_idx] < start:\n",
    "        off_idx += 1\n",
    "    \n",
    "    # Discount the last event when last off missing\n",
    "    if off_idx >= len(ledoff):\n",
    "        break\n",
    "    \n",
    "    if label == 'led2':\n",
    "        x_location = info.path_pts['feeder1'][0]\n",
    "        y_location = info.path_pts['feeder1'][1]\n",
    "    elif label == 'led1':\n",
    "        x_location = info.path_pts['feeder2'][0]\n",
    "        y_location = info.path_pts['feeder2'][1]\n",
    "    else:\n",
    "        x_location = np.nan\n",
    "        y_location = np.nan\n",
    "#     x_location = info.path_pts['feeder1'][0] if label == 'led2' elif info.path_pts['feeder2'][0] if label == 'led1' else np.nan\n",
    "#     y_location = info.path_pts['feeder1'][1] if label == 'led2' elif info.path_pts['feeder2'][1] if label == 'led1' else np.nan\n",
    "        \n",
    "    feeder_x_location[np.logical_and(times>=start-off_delay, times<ledoff[off_idx]+off_delay)] = x_location\n",
    "    feeder_y_location[np.logical_and(times>=start-off_delay, times<ledoff[off_idx]+off_delay)] = y_location\n",
    "\n",
    "# Remove idx when led is on and target is close to active feeder location\n",
    "x_idx = np.abs(x - feeder_x_location[..., np.newaxis]) <= dist_thresh\n",
    "y_idx = np.abs(y - feeder_y_location[..., np.newaxis]) <= dist_thresh\n",
    "remove_idx = x_idx & y_idx\n",
    "\n",
    "x[remove_idx] = np.nan\n",
    "y[remove_idx] = np.nan\n",
    "\n",
    "# Remove samples close to error location (impossible locations)\n",
    "if 'error' in info.path_pts.keys():\n",
    "    for error_pt in info.path_pts['error']:\n",
    "        x_idx = np.abs(x - error_pt[0]) <= 20.\n",
    "        y_idx = np.abs(y - error_pt[1]) <= 20.\n",
    "        remove_idx = x_idx & y_idx\n",
    "        \n",
    "        x[remove_idx] = np.nan\n",
    "        y[remove_idx] = np.nan"
   ]
  },
  {
   "cell_type": "code",
   "execution_count": null,
   "metadata": {
    "ExecuteTime": {
     "end_time": "2018-06-25T16:43:22.833850Z",
     "start_time": "2018-06-25T16:43:22.827852Z"
    },
    "scrolled": false
   },
   "outputs": [],
   "source": [
    "# Remove problem samples along u-trajectory for R066d7\n",
    "if info.session_id == \"R066d7\":\n",
    "    starts_idx = nept.find_nearest_indices(times, info.position_problem_trials.starts)\n",
    "    stops_idx = nept.find_nearest_indices(times, info.position_problem_trials.stops)\n",
    "    for start, stop in zip(starts_idx, stops_idx):\n",
    "        x_idx = x[start:stop] <= 100.\n",
    "        y_idx = y[start:stop] <= 60.\n",
    "        remove_idx = x_idx & y_idx\n",
    "        \n",
    "        x[start:stop][remove_idx] = np.nan\n",
    "        y[start:stop][remove_idx] = np.nan"
   ]
  },
  {
   "cell_type": "code",
   "execution_count": null,
   "metadata": {
    "ExecuteTime": {
     "end_time": "2018-06-25T16:43:23.345557Z",
     "start_time": "2018-06-25T16:43:22.835848Z"
    }
   },
   "outputs": [],
   "source": [
    "# Removing the problem samples that are furthest from the previous location\n",
    "def remove_based_on_std(original_targets, std_thresh=2):\n",
    "    targets = np.array(original_targets)\n",
    "    stds = np.nanstd(targets, axis=1)[:, np.newaxis]\n",
    "    \n",
    "    # find idx where there is a large variation between targets\n",
    "    problem_samples = np.where(stds > std_thresh)[0]\n",
    "    \n",
    "    for i in problem_samples:\n",
    "        # find the previous mean to help determine which target is an issue\n",
    "        previous_idx = i-1\n",
    "        previous_mean = np.nanmean(targets[previous_idx])\n",
    "        \n",
    "        # if previous sample is nan, compare current sample to the one before that\n",
    "        while np.isnan(previous_mean):\n",
    "            previous_idx -= 1\n",
    "            previous_mean = np.nanmean(targets[previous_idx])\n",
    "        \n",
    "        # remove problem target\n",
    "        idx = np.nanargmax(np.abs(targets[i] - previous_mean))\n",
    "        targets[i][idx] = np.nan\n",
    "    \n",
    "    return targets\n",
    "\n",
    "x = remove_based_on_std(x)\n",
    "y = remove_based_on_std(y)"
   ]
  },
  {
   "cell_type": "code",
   "execution_count": null,
   "metadata": {
    "ExecuteTime": {
     "end_time": "2018-06-25T16:43:24.288034Z",
     "start_time": "2018-06-25T16:43:23.346556Z"
    }
   },
   "outputs": [],
   "source": [
    "# Calculating the mean of the remaining targets\n",
    "x = np.nanmean(x, axis=1)\n",
    "y = np.nanmean(y, axis=1)\n",
    "\n",
    "\n",
    "# Interpolating for nan samples\n",
    "def interpolate(time, array, nan_idx):\n",
    "    f = scipy.interpolate.interp1d(time[~nan_idx], array[~nan_idx], kind='linear', bounds_error=False)\n",
    "    array[nan_idx] = f(time[nan_idx])\n",
    "\n",
    "xx = np.array(x)\n",
    "yy = np.array(y)\n",
    "ttimes = np.array(times)\n",
    "\n",
    "maze_phases = [\"phase1\", \"phase2\", \"phase3\"]\n",
    "for task_time in info.task_times.keys():\n",
    "    # Interpolate positions to replace nans during maze phases\n",
    "    if task_time in maze_phases:\n",
    "        trial_epochs = get_trials(events, info.task_times[task_time])\n",
    "        for start, stop in zip(trial_epochs.starts, trial_epochs.stops):\n",
    "            idx = (times >= start) & (times < stop)\n",
    "\n",
    "            this_x = x[idx]\n",
    "            this_y = y[idx]\n",
    "            this_times = times[idx]\n",
    "\n",
    "            # Finding nan idx\n",
    "            x_nan_idx = np.isnan(this_x)\n",
    "            y_nan_idx = np.isnan(this_y)\n",
    "            nan_idx = x_nan_idx | y_nan_idx\n",
    "\n",
    "            interpolate(this_times, this_x, nan_idx)\n",
    "            interpolate(this_times, this_y, nan_idx)\n",
    "\n",
    "            xx[idx] = this_x\n",
    "            yy[idx] = this_y\n",
    "\n",
    "# Finding nan idx\n",
    "x_nan_idx = np.isnan(xx)\n",
    "y_nan_idx = np.isnan(yy)\n",
    "nan_idx = x_nan_idx | y_nan_idx\n",
    "\n",
    "# Removing nan idx\n",
    "xx = xx[~nan_idx]\n",
    "yy = yy[~nan_idx]\n",
    "ttimes = ttimes[~nan_idx]\n",
    "\n",
    "# Apply a median filter\n",
    "xx, yy = median_filter(xx, yy, kernel=11)\n",
    "\n",
    "position = nept.Position(np.hstack(np.array([xx, yy])[..., np.newaxis]), ttimes)\n",
    "\n",
    "plt.plot(position.x, position.y, \"k.\", ms=2)\n",
    "plt.show()"
   ]
  },
  {
   "cell_type": "code",
   "execution_count": null,
   "metadata": {
    "ExecuteTime": {
     "end_time": "2018-06-25T16:23:07.709638Z",
     "start_time": "2018-06-25T16:23:07.705640Z"
    }
   },
   "outputs": [],
   "source": []
  },
  {
   "cell_type": "code",
   "execution_count": null,
   "metadata": {
    "ExecuteTime": {
     "end_time": "2018-06-25T16:43:24.377983Z",
     "start_time": "2018-06-25T16:43:24.290016Z"
    }
   },
   "outputs": [],
   "source": [
    "s = 23520\n",
    "e = 23650\n",
    "plt.plot(position.time[s:e], position.y[s:e], \"b.\", ms=3)\n",
    "plt.show()"
   ]
  },
  {
   "cell_type": "code",
   "execution_count": null,
   "metadata": {},
   "outputs": [],
   "source": []
  },
  {
   "cell_type": "code",
   "execution_count": null,
   "metadata": {},
   "outputs": [],
   "source": []
  },
  {
   "cell_type": "code",
   "execution_count": null,
   "metadata": {
    "ExecuteTime": {
     "end_time": "2018-06-22T17:06:47.673642Z",
     "start_time": "2018-06-22T17:06:47.388805Z"
    }
   },
   "outputs": [],
   "source": [
    "plt.plot(position.x, position.y, \"k.\", ms=2)\n",
    "plt.plot(135., 6., \"r.\", ms=10)\n",
    "plt.plot(85., 20., \"r.\", ms=10)\n",
    "plt.plot(50., 15., \"r.\", ms=10)\n",
    "plt.show()"
   ]
  },
  {
   "cell_type": "code",
   "execution_count": null,
   "metadata": {
    "ExecuteTime": {
     "end_time": "2018-06-22T17:06:47.785579Z",
     "start_time": "2018-06-22T17:06:47.674642Z"
    }
   },
   "outputs": [],
   "source": [
    "rr = position.time_slice(6513.185586, 6590.)\n",
    "plt.plot(rr.time, rr.y, \"k.\")\n",
    "plt.show()"
   ]
  },
  {
   "cell_type": "code",
   "execution_count": null,
   "metadata": {},
   "outputs": [],
   "source": [
    "plt.plot(rr.time, rr.x, \"k.\")\n",
    "plt.show()"
   ]
  },
  {
   "cell_type": "code",
   "execution_count": null,
   "metadata": {},
   "outputs": [],
   "source": [
    "plt.plot(rr.x, rr.y, \"r.\")\n",
    "plt.show()"
   ]
  },
  {
   "cell_type": "code",
   "execution_count": null,
   "metadata": {
    "ExecuteTime": {
     "end_time": "2018-06-22T17:06:48.089405Z",
     "start_time": "2018-06-22T17:06:47.793574Z"
    }
   },
   "outputs": [],
   "source": [
    "plt.plot(position.time, position.y, \"k.\", ms=2)\n",
    "plt.show()"
   ]
  },
  {
   "cell_type": "code",
   "execution_count": null,
   "metadata": {
    "ExecuteTime": {
     "end_time": "2018-06-22T17:06:48.095402Z",
     "start_time": "2018-06-22T17:06:48.090404Z"
    }
   },
   "outputs": [],
   "source": [
    "# Determining the percent of samples used\n",
    "position.n_samples / targets.shape[0] * 100"
   ]
  },
  {
   "cell_type": "code",
   "execution_count": null,
   "metadata": {
    "ExecuteTime": {
     "end_time": "2018-06-25T16:14:23.480445Z",
     "start_time": "2018-06-25T16:14:23.474449Z"
    }
   },
   "outputs": [],
   "source": [
    "def plot_trials(info, position, events, filepath):\n",
    "    for phase in [\"phase1\", \"phase2\", \"phase3\"]:\n",
    "        trial_epochs = get_trials(events, info.task_times[phase])\n",
    "        for trial_idx in range(trial_epochs.n_epochs):\n",
    "            start = trial_epochs[trial_idx].start\n",
    "            stop = trial_epochs[trial_idx].stop\n",
    "\n",
    "            trial = position.time_slice(start, stop)\n",
    "            print(\"Trial\", trial_idx, \":\", start, stop)\n",
    "            plt.plot(trial.x, trial.y, \"k.\")\n",
    "            title = info.session_id + \" \" + phase + \" trial\" + str(trial_idx)\n",
    "            plt.title(title)\n",
    "            if filepath is not None:\n",
    "                plt.savefig(os.path.join(filepath, title))\n",
    "                plt.close()\n",
    "            else:\n",
    "                plt.show()\n",
    "                plt.close()"
   ]
  },
  {
   "cell_type": "code",
   "execution_count": null,
   "metadata": {
    "ExecuteTime": {
     "end_time": "2018-06-25T16:14:38.572213Z",
     "start_time": "2018-06-25T16:14:23.482444Z"
    },
    "scrolled": false
   },
   "outputs": [],
   "source": [
    "plot_trials(info, position, events, filepath=None)"
   ]
  },
  {
   "cell_type": "code",
   "execution_count": null,
   "metadata": {},
   "outputs": [],
   "source": []
  },
  {
   "cell_type": "code",
   "execution_count": null,
   "metadata": {},
   "outputs": [],
   "source": []
  },
  {
   "cell_type": "code",
   "execution_count": null,
   "metadata": {
    "ExecuteTime": {
     "end_time": "2018-06-22T17:07:14.004814Z",
     "start_time": "2018-06-22T17:07:00.630034Z"
    }
   },
   "outputs": [],
   "source": [
    "plot_correcting_position(info, position, targets, events)"
   ]
  },
  {
   "cell_type": "code",
   "execution_count": null,
   "metadata": {},
   "outputs": [],
   "source": []
  },
  {
   "cell_type": "code",
   "execution_count": null,
   "metadata": {},
   "outputs": [],
   "source": []
  }
 ],
 "metadata": {
  "kernelspec": {
   "display_name": "Python 3",
   "language": "python",
   "name": "python3"
  },
  "language_info": {
   "codemirror_mode": {
    "name": "ipython",
    "version": 3
   },
   "file_extension": ".py",
   "mimetype": "text/x-python",
   "name": "python",
   "nbconvert_exporter": "python",
   "pygments_lexer": "ipython3",
   "version": "3.6.5"
  },
  "toc": {
   "colors": {
    "hover_highlight": "#DAA520",
    "running_highlight": "#FF0000",
    "selected_highlight": "#FFD700"
   },
   "moveMenuLeft": true,
   "nav_menu": {
    "height": "12px",
    "width": "252px"
   },
   "navigate_menu": true,
   "number_sections": true,
   "sideBar": true,
   "threshold": 4,
   "toc_cell": false,
   "toc_section_display": "block",
   "toc_window_display": false
  }
 },
 "nbformat": 4,
 "nbformat_minor": 2
}
