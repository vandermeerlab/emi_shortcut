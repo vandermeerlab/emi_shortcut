{
 "cells": [
  {
   "cell_type": "code",
   "execution_count": null,
   "metadata": {
    "ExecuteTime": {
     "end_time": "2018-05-22T14:25:47.754471Z",
     "start_time": "2018-05-22T14:25:46.643161Z"
    },
    "collapsed": true
   },
   "outputs": [],
   "source": [
    "%matplotlib inline\n",
    "import matplotlib.pyplot as plt\n",
    "import numpy as np\n",
    "import os\n",
    "import nept\n",
    "\n",
    "from matplotlib import animation\n",
    "from IPython.display import HTML\n",
    "\n",
    "from startup import extract_xy, sort_led_locations, correct_targets, median_filter, remove_jumps_to_feeder\n",
    "from loading_data import get_data, unzip_nvt_file, zip_nvt_file\n",
    "from analyze_decode_bytrial import get_trials"
   ]
  },
  {
   "cell_type": "code",
   "execution_count": null,
   "metadata": {
    "ExecuteTime": {
     "end_time": "2018-05-22T14:25:47.759952Z",
     "start_time": "2018-05-22T14:25:47.756450Z"
    },
    "collapsed": true
   },
   "outputs": [],
   "source": [
    "thisdir = os.getcwd()\n",
    "dataloc = os.path.join(thisdir, 'cache', 'data')\n",
    "pickle_filepath = os.path.join(thisdir, \"cache\", \"pickled\")\n",
    "output_filepath = os.path.join(thisdir, \"plots\", \"correcting_position\")"
   ]
  },
  {
   "cell_type": "code",
   "execution_count": null,
   "metadata": {
    "ExecuteTime": {
     "end_time": "2018-05-22T14:25:47.774964Z",
     "start_time": "2018-05-22T14:25:47.761953Z"
    },
    "collapsed": true
   },
   "outputs": [],
   "source": [
    "import info.r068d6 as info"
   ]
  },
  {
   "cell_type": "code",
   "execution_count": null,
   "metadata": {
    "collapsed": true
   },
   "outputs": [],
   "source": []
  },
  {
   "cell_type": "code",
   "execution_count": null,
   "metadata": {
    "collapsed": true
   },
   "outputs": [],
   "source": []
  },
  {
   "cell_type": "code",
   "execution_count": null,
   "metadata": {
    "ExecuteTime": {
     "end_time": "2018-05-18T16:45:49.122111Z",
     "start_time": "2018-05-18T16:45:48.569219Z"
    },
    "collapsed": true
   },
   "outputs": [],
   "source": [
    "events, position, spikes, lfp, lfp_theta = get_data(info)"
   ]
  },
  {
   "cell_type": "code",
   "execution_count": null,
   "metadata": {
    "ExecuteTime": {
     "end_time": "2018-05-18T16:45:49.615461Z",
     "start_time": "2018-05-18T16:45:49.123613Z"
    }
   },
   "outputs": [],
   "source": [
    "plt.plot(position.x, position.y, \"b.\")\n",
    "plt.show()"
   ]
  },
  {
   "cell_type": "code",
   "execution_count": null,
   "metadata": {
    "ExecuteTime": {
     "end_time": "2018-05-18T16:45:49.622467Z",
     "start_time": "2018-05-18T16:45:49.616963Z"
    },
    "collapsed": true
   },
   "outputs": [],
   "source": [
    "xedges, yedges = nept.get_xyedges(position)\n",
    "\n",
    "trial_epochs = get_trials(events, info.task_times[\"phase3\"])\n",
    "trial_idx = 18\n",
    "start = trial_epochs[trial_idx].start\n",
    "stop = trial_epochs[trial_idx].stop"
   ]
  },
  {
   "cell_type": "code",
   "execution_count": null,
   "metadata": {
    "ExecuteTime": {
     "end_time": "2018-05-18T16:45:49.636976Z",
     "start_time": "2018-05-18T16:45:49.624468Z"
    },
    "collapsed": true
   },
   "outputs": [],
   "source": [
    "trial_position = position.time_slice(start, stop)"
   ]
  },
  {
   "cell_type": "code",
   "execution_count": null,
   "metadata": {
    "ExecuteTime": {
     "end_time": "2018-05-18T16:45:49.722037Z",
     "start_time": "2018-05-18T16:45:49.638978Z"
    }
   },
   "outputs": [],
   "source": [
    "plt.plot(trial_position.x, trial_position.y, \"g.\")\n",
    "plt.show()"
   ]
  },
  {
   "cell_type": "code",
   "execution_count": null,
   "metadata": {
    "ExecuteTime": {
     "end_time": "2018-05-18T16:45:49.833616Z",
     "start_time": "2018-05-18T16:45:49.724039Z"
    }
   },
   "outputs": [],
   "source": [
    "fig, ax = plt.subplots()\n",
    "\n",
    "xx, yy = np.meshgrid(xedges, yedges)\n",
    "\n",
    "pad_amount = 5\n",
    "ax.set_xlim((np.floor(np.min(trial_position.x))-pad_amount, np.ceil(np.max(trial_position.x))+pad_amount))\n",
    "ax.set_ylim((np.floor(np.min(trial_position.y))-pad_amount, np.ceil(np.max(trial_position.y))+pad_amount))\n",
    "\n",
    "plt.plot(trial_position.x, trial_position.y, \".\", color=\"#bdbdbd\")\n",
    "\n",
    "n_timebins = trial_position.n_samples\n",
    "rat_position, = ax.plot([], [], \"<\", color=\"r\")\n",
    "\n",
    "fig.tight_layout()\n",
    "\n",
    "\n",
    "def init():\n",
    "    rat_position.set_data([], [])\n",
    "    return rat_position\n",
    "\n",
    "\n",
    "def animate(i):\n",
    "    rat_position.set_data(trial_position.x[i], trial_position.y[i])\n",
    "    return rat_position\n",
    "\n",
    "anim = animation.FuncAnimation(fig, animate, frames=n_timebins, interval=80, \n",
    "                               blit=False, repeat=True)"
   ]
  },
  {
   "cell_type": "code",
   "execution_count": null,
   "metadata": {
    "ExecuteTime": {
     "end_time": "2018-05-18T16:46:07.176921Z",
     "start_time": "2018-05-18T16:45:49.835117Z"
    }
   },
   "outputs": [],
   "source": [
    "HTML(anim.to_html5_video())"
   ]
  },
  {
   "cell_type": "code",
   "execution_count": null,
   "metadata": {
    "collapsed": true
   },
   "outputs": [],
   "source": []
  },
  {
   "cell_type": "code",
   "execution_count": null,
   "metadata": {
    "ExecuteTime": {
     "end_time": "2018-05-18T14:24:36.672953Z",
     "start_time": "2018-05-18T14:24:36.669952Z"
    },
    "collapsed": true
   },
   "outputs": [],
   "source": []
  },
  {
   "cell_type": "code",
   "execution_count": null,
   "metadata": {
    "ExecuteTime": {
     "end_time": "2018-05-18T16:46:07.181925Z",
     "start_time": "2018-05-18T16:46:07.178423Z"
    },
    "collapsed": true
   },
   "outputs": [],
   "source": [
    "# unzip_nvt_file(dataloc, vt_filename)"
   ]
  },
  {
   "cell_type": "code",
   "execution_count": null,
   "metadata": {
    "ExecuteTime": {
     "end_time": "2018-05-18T16:46:07.192433Z",
     "start_time": "2018-05-18T16:46:07.183926Z"
    },
    "collapsed": true
   },
   "outputs": [],
   "source": [
    "# os.path.join(dataloc, vt_filename)"
   ]
  },
  {
   "cell_type": "code",
   "execution_count": null,
   "metadata": {
    "ExecuteTime": {
     "end_time": "2018-05-18T16:46:07.205442Z",
     "start_time": "2018-05-18T16:46:07.194434Z"
    },
    "collapsed": true
   },
   "outputs": [],
   "source": [
    "# vt_filename = info.position_filename[:-4]"
   ]
  },
  {
   "cell_type": "code",
   "execution_count": null,
   "metadata": {
    "ExecuteTime": {
     "end_time": "2018-05-18T16:46:07.217450Z",
     "start_time": "2018-05-18T16:46:07.206944Z"
    },
    "collapsed": true
   },
   "outputs": [],
   "source": [
    "# import zipfile\n",
    "# datapath=dataloc\n",
    "# filename=vt_filename\n",
    "\n",
    "# with zipfile.ZipFile(os.path.join(datapath, filename+'.zip'), 'r') as file:\n",
    "#         file.extractall(datapath)\n",
    "\n",
    "# # file.close()"
   ]
  },
  {
   "cell_type": "code",
   "execution_count": null,
   "metadata": {
    "ExecuteTime": {
     "end_time": "2018-05-18T16:46:07.228458Z",
     "start_time": "2018-05-18T16:46:07.218951Z"
    },
    "collapsed": true
   },
   "outputs": [],
   "source": [
    "# os.path.join(datapath, filename+'.zip')"
   ]
  },
  {
   "cell_type": "code",
   "execution_count": null,
   "metadata": {
    "collapsed": true
   },
   "outputs": [],
   "source": []
  },
  {
   "cell_type": "code",
   "execution_count": null,
   "metadata": {
    "collapsed": true
   },
   "outputs": [],
   "source": []
  },
  {
   "cell_type": "code",
   "execution_count": null,
   "metadata": {
    "ExecuteTime": {
     "end_time": "2018-05-22T14:26:36.095510Z",
     "start_time": "2018-05-22T14:26:35.583635Z"
    },
    "collapsed": true
   },
   "outputs": [],
   "source": [
    "position_filename = os.path.join(dataloc, info.position_filename)\n",
    "nvt_position = nept.load_nvt(position_filename)"
   ]
  },
  {
   "cell_type": "code",
   "execution_count": null,
   "metadata": {
    "collapsed": true
   },
   "outputs": [],
   "source": []
  },
  {
   "cell_type": "code",
   "execution_count": null,
   "metadata": {
    "collapsed": true
   },
   "outputs": [],
   "source": []
  },
  {
   "cell_type": "code",
   "execution_count": null,
   "metadata": {
    "ExecuteTime": {
     "end_time": "2018-05-18T16:46:07.695290Z",
     "start_time": "2018-05-18T16:46:07.674774Z"
    },
    "collapsed": true,
    "scrolled": true
   },
   "outputs": [],
   "source": [
    "raw_position = nept.Position(np.hstack(np.array([nvt_position['x'], nvt_position['y']])[..., np.newaxis]), \n",
    "                             nvt_position['time'])"
   ]
  },
  {
   "cell_type": "code",
   "execution_count": null,
   "metadata": {
    "ExecuteTime": {
     "end_time": "2018-05-18T16:46:07.700794Z",
     "start_time": "2018-05-18T16:46:07.697291Z"
    },
    "collapsed": true
   },
   "outputs": [],
   "source": [
    "sliced_raw_position = raw_position.time_slice(start, stop)"
   ]
  },
  {
   "cell_type": "code",
   "execution_count": null,
   "metadata": {
    "ExecuteTime": {
     "end_time": "2018-05-18T16:46:07.817376Z",
     "start_time": "2018-05-18T16:46:07.702795Z"
    }
   },
   "outputs": [],
   "source": [
    "plt.plot(sliced_raw_position.x, sliced_raw_position.y, 'k.')\n",
    "plt.show()"
   ]
  },
  {
   "cell_type": "code",
   "execution_count": null,
   "metadata": {
    "ExecuteTime": {
     "end_time": "2018-05-18T16:46:07.979491Z",
     "start_time": "2018-05-18T16:46:07.818877Z"
    }
   },
   "outputs": [],
   "source": [
    "position = sliced_raw_position\n",
    "fig, ax = plt.subplots()\n",
    "\n",
    "xx, yy = np.meshgrid(xedges, yedges)\n",
    "\n",
    "pad_amount = 5\n",
    "ax.set_xlim((np.floor(np.min(position.x))-pad_amount, np.ceil(np.max(position.x))+pad_amount))\n",
    "ax.set_ylim((np.floor(np.min(position.y))-pad_amount, np.ceil(np.max(position.y))+pad_amount))\n",
    "\n",
    "plt.plot(position.x, position.y, \".\", color=\"#bdbdbd\")\n",
    "\n",
    "n_timebins = position.n_samples\n",
    "rat_position, = ax.plot([], [], \"<\", color=\"r\")\n",
    "\n",
    "fig.tight_layout()\n",
    "\n",
    "\n",
    "def init():\n",
    "    rat_position.set_data([], [])\n",
    "    return rat_position\n",
    "\n",
    "\n",
    "def animate(i):\n",
    "    rat_position.set_data(position.x[i], position.y[i])\n",
    "    return rat_position\n",
    "\n",
    "raw_anim = animation.FuncAnimation(fig, animate, frames=n_timebins, interval=80, \n",
    "                                   blit=False, repeat=True)"
   ]
  },
  {
   "cell_type": "code",
   "execution_count": null,
   "metadata": {
    "ExecuteTime": {
     "end_time": "2018-05-18T16:46:26.997985Z",
     "start_time": "2018-05-18T16:46:07.980992Z"
    }
   },
   "outputs": [],
   "source": [
    "HTML(raw_anim.to_html5_video())"
   ]
  },
  {
   "cell_type": "code",
   "execution_count": null,
   "metadata": {
    "collapsed": true
   },
   "outputs": [],
   "source": []
  },
  {
   "cell_type": "markdown",
   "metadata": {},
   "source": [
    "load_shortcut_position in emi_shortcut goes through the following sequence to clean up the position data"
   ]
  },
  {
   "cell_type": "code",
   "execution_count": null,
   "metadata": {
    "ExecuteTime": {
     "end_time": "2018-05-18T16:46:27.006491Z",
     "start_time": "2018-05-18T16:46:26.999486Z"
    },
    "collapsed": true
   },
   "outputs": [],
   "source": [
    "def animate_trial(x, y, time, start, stop):\n",
    "    \n",
    "    position = nept.Position(np.hstack(np.array([x, y])[..., np.newaxis]), \n",
    "                             time)\n",
    "    \n",
    "    position = position.time_slice(start, stop)\n",
    "    \n",
    "    fig, ax = plt.subplots()\n",
    "\n",
    "    xx, yy = np.meshgrid(xedges, yedges)\n",
    "\n",
    "    pad_amount = 5\n",
    "    ax.set_xlim((np.floor(np.min(position.x))-pad_amount, np.ceil(np.max(position.x))+pad_amount))\n",
    "    ax.set_ylim((np.floor(np.min(position.y))-pad_amount, np.ceil(np.max(position.y))+pad_amount))\n",
    "\n",
    "    plt.plot(position.x, position.y, \".\", color=\"#bdbdbd\")\n",
    "\n",
    "    n_timebins = position.n_samples\n",
    "    rat_position, = ax.plot([], [], \"<\", color=\"r\")\n",
    "\n",
    "    fig.tight_layout()\n",
    "\n",
    "\n",
    "    def init():\n",
    "        rat_position.set_data([], [])\n",
    "        return rat_position\n",
    "\n",
    "\n",
    "    def animate(i):\n",
    "        rat_position.set_data(position.x[i], position.y[i])\n",
    "        return rat_position\n",
    "\n",
    "    anim = animation.FuncAnimation(fig, animate, frames=n_timebins, interval=80, \n",
    "                                   blit=False, repeat=True)\n",
    "    return anim"
   ]
  },
  {
   "cell_type": "code",
   "execution_count": null,
   "metadata": {
    "ExecuteTime": {
     "end_time": "2018-05-18T16:46:27.236654Z",
     "start_time": "2018-05-18T16:46:27.007992Z"
    }
   },
   "outputs": [],
   "source": [
    "filename = os.path.join(dataloc, info.position_filename)\n",
    "# events = nept.load_events(os.path.join(dataloc, info.event_filename), info.event_labels)"
   ]
  },
  {
   "cell_type": "code",
   "execution_count": null,
   "metadata": {
    "ExecuteTime": {
     "end_time": "2018-05-18T16:46:27.649947Z",
     "start_time": "2018-05-18T16:46:27.238156Z"
    },
    "collapsed": true
   },
   "outputs": [],
   "source": [
    "nvt_data = nept.load_nvt(filename)\n",
    "targets = nvt_data['targets']\n",
    "times = nvt_data['time']\n",
    "\n",
    "# Initialize x, y arrays\n",
    "x = np.zeros(targets.shape)\n",
    "y = np.zeros(targets.shape)\n",
    "# time = np.zeros(targets.shape)"
   ]
  },
  {
   "cell_type": "code",
   "execution_count": null,
   "metadata": {
    "ExecuteTime": {
     "end_time": "2018-05-18T16:46:27.655952Z",
     "start_time": "2018-05-18T16:46:27.651449Z"
    }
   },
   "outputs": [],
   "source": [
    "print(np.shape(nvt_data['x']))"
   ]
  },
  {
   "cell_type": "code",
   "execution_count": null,
   "metadata": {
    "ExecuteTime": {
     "end_time": "2018-05-18T16:46:27.682970Z",
     "start_time": "2018-05-18T16:46:27.657953Z"
    },
    "collapsed": true
   },
   "outputs": [],
   "source": [
    "nvt_position = nept.Position(np.hstack(np.array([nvt_data['x'], nvt_data['y']])[..., np.newaxis]), \n",
    "                             nvt_data['time'])"
   ]
  },
  {
   "cell_type": "code",
   "execution_count": null,
   "metadata": {
    "ExecuteTime": {
     "end_time": "2018-05-18T16:46:47.226481Z",
     "start_time": "2018-05-18T16:46:27.684473Z"
    }
   },
   "outputs": [],
   "source": [
    "# Check out animation for single trial\n",
    "anim = animate_trial(nvt_data['x'], nvt_data['y'], nvt_data['time'], start, stop)\n",
    "HTML(anim.to_html5_video())"
   ]
  },
  {
   "cell_type": "code",
   "execution_count": null,
   "metadata": {
    "ExecuteTime": {
     "end_time": "2018-05-18T16:46:49.122370Z",
     "start_time": "2018-05-18T16:46:47.228482Z"
    },
    "collapsed": true
   },
   "outputs": [],
   "source": [
    "# X and Y are stored in a custom bitfield. See Neuralynx data file format documentation for details.\n",
    "# Briefly, each record contains up to 50 targets, each stored in 32bit field.\n",
    "# X field at [20:31] and Y at [4:15].\n",
    "# TODO: make into a separate function in nept\n",
    "for target in range(targets.shape[1]):\n",
    "    this_sample = targets[:, target]\n",
    "    for sample in range(targets.shape[0]):\n",
    "        # When the bitfield is equal to zero there is no valid data for that field\n",
    "        # and remains zero for the rest of the bitfields in the record.\n",
    "        if this_sample[target] == 0:\n",
    "            break\n",
    "        x[sample, target], y[sample, target] = extract_xy(int(this_sample[sample]))"
   ]
  },
  {
   "cell_type": "code",
   "execution_count": null,
   "metadata": {
    "ExecuteTime": {
     "end_time": "2018-05-18T16:46:49.235906Z",
     "start_time": "2018-05-18T16:46:49.124353Z"
    },
    "collapsed": true
   },
   "outputs": [],
   "source": [
    "# Remove columns with no target data\n",
    "col_idx = (np.sum(x == 0, axis=0) == x.shape[0]) & (np.sum(y == 0, axis=0) == y.shape[0])\n",
    "x = np.array(x[:, ~col_idx])\n",
    "y = np.array(y[:, ~col_idx])"
   ]
  },
  {
   "cell_type": "code",
   "execution_count": null,
   "metadata": {
    "ExecuteTime": {
     "end_time": "2018-05-18T16:46:49.267428Z",
     "start_time": "2018-05-18T16:46:49.237908Z"
    },
    "collapsed": true
   },
   "outputs": [],
   "source": [
    "# Remove rows with no target data\n",
    "row_idx = (np.sum(x == 0, axis=1) == x.shape[1]) | (np.sum(y == 0, axis=1) == y.shape[1])\n",
    "x = np.array(x[~row_idx])\n",
    "y = np.array(y[~row_idx])\n",
    "times = np.array(times[~row_idx])"
   ]
  },
  {
   "cell_type": "code",
   "execution_count": null,
   "metadata": {
    "ExecuteTime": {
     "end_time": "2018-05-18T16:46:49.279437Z",
     "start_time": "2018-05-18T16:46:49.269430Z"
    },
    "collapsed": true
   },
   "outputs": [],
   "source": [
    "x = x / info.scale_targets[0]\n",
    "y = y / info.scale_targets[1]"
   ]
  },
  {
   "cell_type": "code",
   "execution_count": null,
   "metadata": {
    "ExecuteTime": {
     "end_time": "2018-05-18T16:46:49.440050Z",
     "start_time": "2018-05-18T16:46:49.281939Z"
    },
    "collapsed": true
   },
   "outputs": [],
   "source": [
    "feeder_x_location, feeder_y_location = sort_led_locations(info, events, times)"
   ]
  },
  {
   "cell_type": "code",
   "execution_count": null,
   "metadata": {
    "ExecuteTime": {
     "end_time": "2018-05-18T16:46:49.446556Z",
     "start_time": "2018-05-18T16:46:49.441552Z"
    },
    "collapsed": true
   },
   "outputs": [],
   "source": [
    "# Initialize out_x and out_y as the first target\n",
    "out_x = np.array(x[:, 0])\n",
    "out_y = np.array(y[:, 0])"
   ]
  },
  {
   "cell_type": "code",
   "execution_count": null,
   "metadata": {
    "ExecuteTime": {
     "end_time": "2018-05-18T16:47:07.582629Z",
     "start_time": "2018-05-18T16:46:49.448557Z"
    }
   },
   "outputs": [],
   "source": [
    "# Check out animation for single trial\n",
    "anim = animate_trial(out_x, out_y, times, start, stop)\n",
    "HTML(anim.to_html5_video())"
   ]
  },
  {
   "cell_type": "code",
   "execution_count": null,
   "metadata": {
    "ExecuteTime": {
     "end_time": "2018-05-18T16:47:07.593137Z",
     "start_time": "2018-05-18T16:47:07.584130Z"
    },
    "collapsed": true
   },
   "outputs": [],
   "source": [
    "# This correction method assumes we are working with two targets\n",
    "# (eg. subtracts the two targets, averages over two targets, etc.)\n",
    "if x.shape[1] == 1 and y.shape[1] == 1:\n",
    "    # Remove jumps to feeder location\n",
    "    out_x, out_y, times = remove_jumps_to_feeder(out_x, out_y, times, info)\n",
    "\n",
    "    # Apply a median filter\n",
    "    out_x, out_y = median_filter(out_x, out_y)\n",
    "\n",
    "    position = nept.Position(np.hstack(np.array([out_x, out_y])[..., np.newaxis]), times)\n",
    "    \n",
    "    1/0\n",
    "    \n",
    "elif x.shape[1] == 2 and y.shape[1] == 2:\n",
    "    # Find indices where only two targets were available\n",
    "    two_target_idx = (x[:, 1] != 0) | (y[:, 1] != 0)\n",
    "    subset_indices = [two_target_idx]\n",
    "\n",
    "elif x.shape[1] == 3 and y.shape[1] == 3:\n",
    "    # Find indices where all three targets are available\n",
    "    three_target_idx = (x[:, 2] != 0) | (y[:, 2] != 0)\n",
    "\n",
    "    # Find indices where only two targets are available\n",
    "    two_target_idx = ((x[:, 1] != 0) | (y[:, 1] != 0)) & ~three_target_idx\n",
    "    subset_indices = [two_target_idx, three_target_idx]\n",
    "\n",
    "else:\n",
    "    raise NotImplementedError(\n",
    "        \"this number of targets is not handled (%d x targets, %d y targets)\" % (x.shape[1], y.shape[1]))"
   ]
  },
  {
   "cell_type": "code",
   "execution_count": null,
   "metadata": {
    "ExecuteTime": {
     "end_time": "2018-05-18T16:47:07.691706Z",
     "start_time": "2018-05-18T16:47:07.595638Z"
    },
    "collapsed": true
   },
   "outputs": [],
   "source": [
    "for subset_idx in subset_indices:\n",
    "    subset_x, subset_y = correct_targets(x[subset_idx], y[subset_idx],\n",
    "                                         feeder_x_location[subset_idx], feeder_y_location[subset_idx])\n",
    "    out_x[subset_idx] = subset_x\n",
    "    out_y[subset_idx] = subset_y"
   ]
  },
  {
   "cell_type": "code",
   "execution_count": null,
   "metadata": {
    "ExecuteTime": {
     "end_time": "2018-05-18T16:47:26.951418Z",
     "start_time": "2018-05-18T16:47:07.693207Z"
    }
   },
   "outputs": [],
   "source": [
    "# Check out animation for single trial\n",
    "anim = animate_trial(out_x, out_y, times, start, stop)\n",
    "HTML(anim.to_html5_video())"
   ]
  },
  {
   "cell_type": "code",
   "execution_count": null,
   "metadata": {
    "ExecuteTime": {
     "end_time": "2018-05-18T16:47:40.689665Z",
     "start_time": "2018-05-18T16:47:26.953920Z"
    },
    "collapsed": true
   },
   "outputs": [],
   "source": [
    "# Remove jumps to feeder location\n",
    "nojump_x, nojump_y, ttimes = remove_jumps_to_feeder(out_x, out_y, times, info)"
   ]
  },
  {
   "cell_type": "code",
   "execution_count": null,
   "metadata": {
    "ExecuteTime": {
     "end_time": "2018-05-18T17:00:59.888522Z",
     "start_time": "2018-05-18T17:00:59.885038Z"
    }
   },
   "outputs": [],
   "source": [
    "print(\"total removed:\", len(out_x) - len(nojump_x))"
   ]
  },
  {
   "cell_type": "code",
   "execution_count": null,
   "metadata": {},
   "outputs": [],
   "source": [
    "plt.plot(ttimes, nojump_y, \"b.\", ms=3)\n",
    "plt.show()"
   ]
  },
  {
   "cell_type": "code",
   "execution_count": null,
   "metadata": {},
   "outputs": [],
   "source": [
    "len(nojump_y)"
   ]
  },
  {
   "cell_type": "code",
   "execution_count": null,
   "metadata": {
    "collapsed": true
   },
   "outputs": [],
   "source": []
  },
  {
   "cell_type": "code",
   "execution_count": null,
   "metadata": {
    "ExecuteTime": {
     "end_time": "2018-05-18T16:47:58.850051Z",
     "start_time": "2018-05-18T16:47:40.697671Z"
    }
   },
   "outputs": [],
   "source": [
    "# Check out animation for single trial\n",
    "anim = animate_trial(nojump_x, nojump_y, ttimes, start, stop)\n",
    "HTML(anim.to_html5_video())"
   ]
  },
  {
   "cell_type": "code",
   "execution_count": null,
   "metadata": {
    "ExecuteTime": {
     "end_time": "2018-05-18T16:47:59.356410Z",
     "start_time": "2018-05-18T16:47:58.852553Z"
    }
   },
   "outputs": [],
   "source": [
    "print(\"n_samples:\", len(out_x))\n",
    "plt.plot(out_x, out_y, '.')\n",
    "plt.show()"
   ]
  },
  {
   "cell_type": "code",
   "execution_count": null,
   "metadata": {
    "ExecuteTime": {
     "end_time": "2018-05-18T16:47:59.362432Z",
     "start_time": "2018-05-18T16:47:59.358412Z"
    }
   },
   "outputs": [],
   "source": [
    "print(out_x[:10])"
   ]
  },
  {
   "cell_type": "code",
   "execution_count": null,
   "metadata": {
    "ExecuteTime": {
     "end_time": "2018-05-18T16:47:59.488505Z",
     "start_time": "2018-05-18T16:47:59.364416Z"
    },
    "collapsed": true
   },
   "outputs": [],
   "source": [
    "# Apply a median filter\n",
    "out_x, out_y = median_filter(nojump_x, nojump_y)"
   ]
  },
  {
   "cell_type": "code",
   "execution_count": null,
   "metadata": {
    "ExecuteTime": {
     "end_time": "2018-05-18T16:47:59.505516Z",
     "start_time": "2018-05-18T16:47:59.490506Z"
    }
   },
   "outputs": [],
   "source": [
    "print(out_x[:10])"
   ]
  },
  {
   "cell_type": "code",
   "execution_count": null,
   "metadata": {
    "ExecuteTime": {
     "end_time": "2018-05-18T16:48:00.035392Z",
     "start_time": "2018-05-18T16:47:59.507518Z"
    }
   },
   "outputs": [],
   "source": [
    "print(\"n_samples:\", len(out_x))\n",
    "plt.plot(out_x, out_y, '.')\n",
    "plt.show()"
   ]
  },
  {
   "cell_type": "code",
   "execution_count": null,
   "metadata": {
    "ExecuteTime": {
     "end_time": "2018-05-18T16:48:00.046918Z",
     "start_time": "2018-05-18T16:48:00.037394Z"
    },
    "collapsed": true
   },
   "outputs": [],
   "source": [
    "# Construct a nept.Position object\n",
    "position = nept.Position(np.hstack(np.array([out_x, out_y])[..., np.newaxis]), ttimes)"
   ]
  },
  {
   "cell_type": "code",
   "execution_count": null,
   "metadata": {},
   "outputs": [],
   "source": [
    "writer = animation.writers['ffmpeg'](fps=18)\n",
    "dpi = 600\n",
    "anim.save(os.path.join(output_filepath, \"corrected-position-animation.mp4\"), writer=writer, dpi=dpi)\n",
    "\n",
    "plt.close()"
   ]
  },
  {
   "cell_type": "code",
   "execution_count": null,
   "metadata": {
    "ExecuteTime": {
     "end_time": "2018-05-18T16:48:36.706417Z",
     "start_time": "2018-05-18T16:48:18.626083Z"
    }
   },
   "outputs": [],
   "source": [
    "# Check out animation for single trial\n",
    "anim = animate_trial(position.x, position.y, position.time, start, stop)\n",
    "HTML(anim.to_html5_video())"
   ]
  },
  {
   "cell_type": "code",
   "execution_count": null,
   "metadata": {},
   "outputs": [],
   "source": [
    "plt.plot(position.time, position.x, \"k.\", ms=3)\n",
    "plt.show()"
   ]
  },
  {
   "cell_type": "code",
   "execution_count": null,
   "metadata": {},
   "outputs": [],
   "source": [
    "plt.plot(position.time, position.y, \"k.\", ms=3)\n",
    "plt.xlabel(\"time\")\n",
    "plt.ylabel(\"y\")\n",
    "ax.spines['right'].set_visible(False)\n",
    "ax.spines['top'].set_visible(False)\n",
    "ax.yaxis.set_ticks_position('left')\n",
    "ax.xaxis.set_ticks_position('bottom')\n",
    "plt.tight_layout()\n",
    "plt.savefig(os.path.join(output_filepath, \"corrected-position.png\"))\n",
    "# plt.show()"
   ]
  },
  {
   "cell_type": "code",
   "execution_count": null,
   "metadata": {},
   "outputs": [],
   "source": [
    "position.n_samples"
   ]
  },
  {
   "cell_type": "code",
   "execution_count": null,
   "metadata": {
    "collapsed": true
   },
   "outputs": [],
   "source": []
  }
 ],
 "metadata": {
  "kernelspec": {
   "display_name": "Python 3",
   "language": "python",
   "name": "python3"
  },
  "language_info": {
   "codemirror_mode": {
    "name": "ipython",
    "version": 3
   },
   "file_extension": ".py",
   "mimetype": "text/x-python",
   "name": "python",
   "nbconvert_exporter": "python",
   "pygments_lexer": "ipython3",
   "version": "3.6.5"
  },
  "toc": {
   "colors": {
    "hover_highlight": "#DAA520",
    "running_highlight": "#FF0000",
    "selected_highlight": "#FFD700"
   },
   "moveMenuLeft": true,
   "nav_menu": {
    "height": "12px",
    "width": "252px"
   },
   "navigate_menu": true,
   "number_sections": true,
   "sideBar": true,
   "threshold": 4,
   "toc_cell": false,
   "toc_section_display": "block",
   "toc_window_display": false
  }
 },
 "nbformat": 4,
 "nbformat_minor": 2
}
