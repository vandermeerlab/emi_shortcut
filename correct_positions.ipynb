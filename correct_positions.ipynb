{
 "cells": [
  {
   "cell_type": "code",
   "execution_count": null,
   "metadata": {
    "ExecuteTime": {
     "end_time": "2018-06-12T13:35:26.442916Z",
     "start_time": "2018-06-12T13:35:21.713631Z"
    },
    "collapsed": true
   },
   "outputs": [],
   "source": [
    "%matplotlib inline\n",
    "import matplotlib.pyplot as plt\n",
    "import numpy as np\n",
    "import os\n",
    "import nept\n",
    "\n",
    "from matplotlib import animation\n",
    "from IPython.display import HTML\n",
    "\n",
    "from loading_data import get_data, unzip_nvt_file, zip_nvt_file, extract_xy, median_filter\n",
    "from utils_maze import get_trials\n",
    "\n",
    "import warnings\n",
    "warnings.filterwarnings(\"ignore\")"
   ]
  },
  {
   "cell_type": "code",
   "execution_count": null,
   "metadata": {
    "ExecuteTime": {
     "end_time": "2018-06-12T13:35:26.448912Z",
     "start_time": "2018-06-12T13:35:26.444914Z"
    },
    "collapsed": true
   },
   "outputs": [],
   "source": [
    "thisdir = os.getcwd()\n",
    "dataloc = os.path.join(thisdir, 'cache', 'data')\n",
    "pickle_filepath = os.path.join(thisdir, \"cache\", \"pickled\")\n",
    "output_filepath = os.path.join(thisdir, \"plots\", \"correcting_position\")"
   ]
  },
  {
   "cell_type": "code",
   "execution_count": null,
   "metadata": {
    "ExecuteTime": {
     "end_time": "2018-06-12T13:35:26.627220Z",
     "start_time": "2018-06-12T13:35:26.449911Z"
    },
    "collapsed": true
   },
   "outputs": [],
   "source": [
    "import info.r068d5 as r068d5\n",
    "import info.r066d6 as r066d6\n",
    "info = r068d5\n",
    "# import info.r063d8 as info"
   ]
  },
  {
   "cell_type": "code",
   "execution_count": null,
   "metadata": {
    "collapsed": true
   },
   "outputs": [],
   "source": [
    "events, position, _, _, _ = get_data(info)"
   ]
  },
  {
   "cell_type": "code",
   "execution_count": null,
   "metadata": {
    "collapsed": true
   },
   "outputs": [],
   "source": [
    "# Load raw position from file\n",
    "filename = os.path.join(dataloc, info.position_filename)\n",
    "nvt_data = nept.load_nvt(filename)\n",
    "targets = nvt_data['targets']\n",
    "times = nvt_data['time']"
   ]
  },
  {
   "cell_type": "code",
   "execution_count": null,
   "metadata": {
    "collapsed": true
   },
   "outputs": [],
   "source": [
    "# Initialize x, y arrays\n",
    "x = np.zeros(targets.shape)\n",
    "y = np.zeros(targets.shape)\n",
    "\n",
    "# X and Y are stored in a custom bitfield. See Neuralynx data file format documentation for details.\n",
    "# Briefly, each record contains up to 50 targets, each stored in 32bit field.\n",
    "# X field at [20:31] and Y at [4:15].\n",
    "# TODO: make into a separate function in nept\n",
    "for target in range(targets.shape[1]):\n",
    "    this_sample = targets[:, target]\n",
    "    for sample in range(targets.shape[0]):\n",
    "        # When the bitfield is equal to zero there is no valid data for that field\n",
    "        # and remains zero for the rest of the bitfields in the record.\n",
    "        if this_sample[target] == 0:\n",
    "            break\n",
    "        x[sample, target], y[sample, target] = extract_xy(int(this_sample[sample]))\n",
    "\n",
    "# Replacing targets with no samples with nan instead of 0\n",
    "x[x == 0] = np.nan\n",
    "y[y == 0] = np.nan\n",
    "\n",
    "# # Scale the positions\n",
    "x /= info.scale_targets\n",
    "y /= info.scale_targets"
   ]
  },
  {
   "cell_type": "code",
   "execution_count": null,
   "metadata": {
    "collapsed": true
   },
   "outputs": [],
   "source": [
    "led_padding = 1\n",
    "# Finding which feeder led is on over time\n",
    "leds = []\n",
    "leds.extend([(event, 'led1') for event in events['led1']])\n",
    "leds.extend([(event, 'led2') for event in events['led2']])\n",
    "sorted_leds = sorted(leds)\n",
    "\n",
    "# Get an array of feeder locations when that feeder is actively flashing\n",
    "feeder_x_location = np.empty(times.shape[0]) * np.nan\n",
    "feeder_y_location = np.empty(times.shape[0]) * np.nan\n",
    "\n",
    "ledoff = events[\"ledoff\"]\n",
    "off_idx = 0\n",
    "\n",
    "for time, label in sorted_leds:\n",
    "    x_location = info.path_pts['feeder1'][0] if label == 'led1' else info.path_pts['feeder2'][0]\n",
    "    y_location = info.path_pts['feeder1'][1] if label == 'led1' else info.path_pts['feeder2'][1]\n",
    "    \n",
    "    # Find next off idx\n",
    "    while ledoff[off_idx] < time and off_idx < len(ledoff):\n",
    "        off_idx += 1\n",
    "    \n",
    "    # Discount the last event when last off missing\n",
    "    if off_idx >= len(ledoff):\n",
    "        break\n",
    "\n",
    "    start = nept.find_nearest_idx(times, time)\n",
    "    stop = nept.find_nearest_idx(times, ledoff[off_idx])\n",
    "    feeder_x_location[start:stop+led_padding] = x_location\n",
    "    feeder_y_location[start:stop+led_padding] = y_location\n",
    "\n",
    "\n",
    "# Removing the contaminated samples that are closest to the feeder location\n",
    "def remove_feeder_contamination(original_targets, current_feeder, dist_to_feeder=40):\n",
    "    targets = np.array(original_targets)\n",
    "    for i, (target, feeder) in enumerate(zip(targets, current_feeder)):\n",
    "        if not np.isnan(feeder):\n",
    "            dist = np.abs(target - feeder) < dist_to_feeder\n",
    "            target[dist] = np.nan\n",
    "        targets[i] = target\n",
    "    return targets\n",
    "\n",
    "x = remove_feeder_contamination(x, feeder_x_location)\n",
    "y = remove_feeder_contamination(y, feeder_y_location)\n",
    "\n",
    "\n",
    "# Removing the problem samples that are furthest from the previous location\n",
    "def remove_based_on_std(original_targets, std_thresh=2):\n",
    "    targets = np.array(original_targets)\n",
    "    stds = np.nanstd(targets, axis=1)[:, np.newaxis]\n",
    "    \n",
    "    # find idx where there is a large variation between targets\n",
    "    problem_samples = np.where(stds > std_thresh)[0]\n",
    "    \n",
    "    for i in problem_samples:\n",
    "        # find the previous mean to help determine which target is an issue\n",
    "        previous_idx = i-1\n",
    "        previous_mean = np.nanmean(targets[previous_idx])\n",
    "        \n",
    "        # if previous sample is nan, compare current sample to the one before that\n",
    "        while np.isnan(previous_mean):\n",
    "            previous_idx -= 1\n",
    "            previous_mean = np.nanmean(targets[previous_idx])\n",
    "        \n",
    "        # remove problem target\n",
    "        idx = np.nanargmax(np.abs(targets[i] - previous_mean))\n",
    "        targets[i][idx] = np.nan\n",
    "    \n",
    "    return targets\n",
    "\n",
    "x = remove_based_on_std(x)\n",
    "y = remove_based_on_std(y)\n",
    "\n",
    "# Calculating the mean of the remaining targets\n",
    "x = np.nanmean(x, axis=1)\n",
    "y = np.nanmean(y, axis=1)\n",
    "\n",
    "\n",
    "# Interpolating for nan samples\n",
    "def interpolate(time, array, nan_idx):\n",
    "    f = scipy.interpolate.interp1d(time[~nan_idx], array[~nan_idx], kind='linear', bounds_error=False)\n",
    "    array[nan_idx] = f(time[nan_idx])\n",
    "\n",
    "xx = np.array(x)\n",
    "yy = np.array(y)\n",
    "ttimes = np.array(times)\n",
    "\n",
    "maze_phases = [\"phase1\", \"phase2\", \"phase3\"]\n",
    "for task_time in info.task_times.keys():\n",
    "    # Interpolate positions to replace nans during maze phases\n",
    "    if task_time in maze_phases:\n",
    "        trial_epochs = get_trials(events, info.task_times[task_time])\n",
    "        for start, stop in zip(trial_epochs.starts, trial_epochs.stops):\n",
    "            idx = (times >= start) & (times < stop)\n",
    "\n",
    "            this_x = x[idx]\n",
    "            this_y = y[idx]\n",
    "            this_times = times[idx]\n",
    "\n",
    "            # Finding nan idx\n",
    "            x_nan_idx = np.isnan(this_x)\n",
    "            y_nan_idx = np.isnan(this_y)\n",
    "            nan_idx = x_nan_idx | y_nan_idx\n",
    "\n",
    "            interpolate(this_times, this_x, nan_idx)\n",
    "            interpolate(this_times, this_y, nan_idx)\n",
    "\n",
    "            xx[idx] = this_x\n",
    "            yy[idx] = this_y\n",
    "\n",
    "# Finding nan idx\n",
    "x_nan_idx = np.isnan(xx)\n",
    "y_nan_idx = np.isnan(yy)\n",
    "nan_idx = x_nan_idx | y_nan_idx\n",
    "\n",
    "# Removing nan idx\n",
    "xx = xx[~nan_idx]\n",
    "yy = yy[~nan_idx]\n",
    "ttimes = ttimes[~nan_idx]\n",
    "\n",
    "# Apply a median filter\n",
    "xx, yy = median_filter(xx, yy, kernel=11)\n",
    "\n",
    "position = nept.Position(np.hstack(np.array([xx, yy])[..., np.newaxis]), ttimes)\n",
    "\n",
    "plt.plot(position.x, position.y, \"k.\", ms=2)\n",
    "plt.show()"
   ]
  },
  {
   "cell_type": "code",
   "execution_count": null,
   "metadata": {
    "collapsed": true
   },
   "outputs": [],
   "source": []
  },
  {
   "cell_type": "code",
   "execution_count": null,
   "metadata": {
    "collapsed": true
   },
   "outputs": [],
   "source": []
  },
  {
   "cell_type": "code",
   "execution_count": null,
   "metadata": {
    "collapsed": true
   },
   "outputs": [],
   "source": []
  },
  {
   "cell_type": "code",
   "execution_count": null,
   "metadata": {
    "ExecuteTime": {
     "end_time": "2018-06-12T13:35:27.336813Z",
     "start_time": "2018-06-12T13:35:26.629217Z"
    },
    "collapsed": true
   },
   "outputs": [],
   "source": [
    "events, position, spikes, lfp, lfp_theta = get_data(info)"
   ]
  },
  {
   "cell_type": "code",
   "execution_count": null,
   "metadata": {
    "ExecuteTime": {
     "end_time": "2018-06-12T13:35:27.360799Z",
     "start_time": "2018-06-12T13:35:27.355802Z"
    },
    "collapsed": true
   },
   "outputs": [],
   "source": [
    "filename = os.path.join(dataloc, info.position_filename)"
   ]
  },
  {
   "cell_type": "code",
   "execution_count": null,
   "metadata": {
    "ExecuteTime": {
     "end_time": "2018-06-12T13:35:27.868509Z",
     "start_time": "2018-06-12T13:35:27.361799Z"
    },
    "collapsed": true
   },
   "outputs": [],
   "source": [
    "# Load raw position from file\n",
    "nvt_data = nept.load_nvt(filename)\n",
    "targets = nvt_data['targets']\n",
    "times = nvt_data['time']"
   ]
  },
  {
   "cell_type": "code",
   "execution_count": null,
   "metadata": {
    "ExecuteTime": {
     "end_time": "2018-06-12T13:35:28.732034Z",
     "start_time": "2018-06-12T13:35:27.869509Z"
    },
    "collapsed": true
   },
   "outputs": [],
   "source": [
    "# Initialize x, y arrays\n",
    "x = np.zeros(targets.shape)\n",
    "y = np.zeros(targets.shape)\n",
    "\n",
    "# X and Y are stored in a custom bitfield. See Neuralynx data file format documentation for details.\n",
    "# Briefly, each record contains up to 50 targets, each stored in 32bit field.\n",
    "# X field at [20:31] and Y at [4:15].\n",
    "# TODO: make into a separate function in nept\n",
    "for target in range(targets.shape[1]):\n",
    "    this_sample = targets[:, target]\n",
    "    for sample in range(targets.shape[0]):\n",
    "        # When the bitfield is equal to zero there is no valid data for that field\n",
    "        # and remains zero for the rest of the bitfields in the record.\n",
    "        if this_sample[target] == 0:\n",
    "            break\n",
    "        x[sample, target], y[sample, target] = extract_xy(int(this_sample[sample]))\n",
    "\n",
    "# Replacing targets with no samples with nan instead of 0\n",
    "x[x == 0] = np.nan\n",
    "y[y == 0] = np.nan\n",
    "\n",
    "# Scale the positions\n",
    "x = x / info.scale_targets[0]\n",
    "y = y / info.scale_targets[1]"
   ]
  },
  {
   "cell_type": "code",
   "execution_count": null,
   "metadata": {
    "ExecuteTime": {
     "end_time": "2018-06-12T13:35:30.740237Z",
     "start_time": "2018-06-12T13:35:28.733015Z"
    },
    "collapsed": true
   },
   "outputs": [],
   "source": [
    "plt.plot(times, y, \"b.\", ms=2)\n",
    "plt.show()"
   ]
  },
  {
   "cell_type": "code",
   "execution_count": null,
   "metadata": {
    "ExecuteTime": {
     "end_time": "2018-06-12T13:35:30.876159Z",
     "start_time": "2018-06-12T13:35:30.742236Z"
    },
    "collapsed": true
   },
   "outputs": [],
   "source": [
    "s = 79650\n",
    "e = 79685\n",
    "plt.plot(times[s:e], y[s:e], \"b.\", ms=10)\n",
    "plt.show()"
   ]
  },
  {
   "cell_type": "code",
   "execution_count": null,
   "metadata": {
    "ExecuteTime": {
     "end_time": "2018-06-12T13:35:31.808626Z",
     "start_time": "2018-06-12T13:35:30.877158Z"
    },
    "collapsed": true
   },
   "outputs": [],
   "source": [
    "# How many targets are taken for each timepoint?\n",
    "n_targets = []\n",
    "\n",
    "for i in range(len(targets)):\n",
    "    this_row = x[i]\n",
    "    n_targets.append(len(np.where(this_row > 0.)[0]))\n",
    "\n",
    "fig, ax = plt.subplots()\n",
    "plt.hist(n_targets, bins=[1,2,3,4,5], align=\"left\")\n",
    "plt.xticks([1, 2, 3, 4], [\"1\", \"2\", \"3\", \"4+\"])\n",
    "plt.xlabel(\"Number of targets\")\n",
    "plt.ylabel(\"Number of samples\")\n",
    "ax.spines['right'].set_visible(False)\n",
    "ax.spines['top'].set_visible(False)\n",
    "ax.yaxis.set_ticks_position('left')\n",
    "ax.xaxis.set_ticks_position('bottom')\n",
    "plt.tight_layout()\n",
    "# plt.savefig(os.path.join(output_filepath, \"n_targets.png\"))\n",
    "plt.show()"
   ]
  },
  {
   "cell_type": "code",
   "execution_count": null,
   "metadata": {
    "ExecuteTime": {
     "end_time": "2018-06-12T13:35:33.692550Z",
     "start_time": "2018-06-12T13:35:31.832613Z"
    },
    "collapsed": true
   },
   "outputs": [],
   "source": [
    "plt.plot(x, y, \"b.\", ms=2)\n",
    "plt.show()"
   ]
  },
  {
   "cell_type": "code",
   "execution_count": null,
   "metadata": {
    "ExecuteTime": {
     "end_time": "2018-06-12T13:37:23.936956Z",
     "start_time": "2018-06-12T13:35:33.694549Z"
    },
    "collapsed": true
   },
   "outputs": [],
   "source": [
    "led_padding = 1\n",
    "# Finding which feeder led is on over time\n",
    "leds = []\n",
    "leds.extend([(event, 'led1') for event in events['led1']])\n",
    "leds.extend([(event, 'led2') for event in events['led2']])\n",
    "sorted_leds = sorted(leds)\n",
    "\n",
    "# Get an array of feeder locations when that feeder is actively flashing\n",
    "feeder_x_location = np.empty(times.shape[0]) * np.nan\n",
    "feeder_y_location = np.empty(times.shape[0]) * np.nan\n",
    "\n",
    "ledoff = events[\"ledoff\"]\n",
    "off_idx = 0\n",
    "\n",
    "for time, label in sorted_leds:\n",
    "    x_location = info.path_pts['feeder1'][0] if label == 'led1' else info.path_pts['feeder2'][0]\n",
    "    y_location = info.path_pts['feeder1'][1] if label == 'led1' else info.path_pts['feeder2'][1]\n",
    "    \n",
    "    # Find next off idx\n",
    "    while ledoff[off_idx] < time and off_idx < len(ledoff):\n",
    "        off_idx += 1\n",
    "    \n",
    "    # Discount the last event when last off missing\n",
    "    if off_idx >= len(ledoff):\n",
    "        break\n",
    "\n",
    "    start = nept.find_nearest_idx(times, time)\n",
    "    stop = nept.find_nearest_idx(times, ledoff[off_idx])\n",
    "    feeder_x_location[start:stop+led_padding] = x_location\n",
    "    feeder_y_location[start:stop+led_padding] = y_location"
   ]
  },
  {
   "cell_type": "code",
   "execution_count": null,
   "metadata": {
    "ExecuteTime": {
     "end_time": "2018-06-12T13:37:26.159707Z",
     "start_time": "2018-06-12T13:37:23.937956Z"
    },
    "collapsed": true
   },
   "outputs": [],
   "source": [
    "# Removing the contaminated samples that are closest to the feeder location\n",
    "def remove_feeder_contamination(original_targets, current_feeder, dist_to_feeder=10):\n",
    "    targets = np.array(original_targets)\n",
    "    for i, (target, feeder) in enumerate(zip(targets, current_feeder)):\n",
    "        if not np.isnan(feeder):\n",
    "            dist = np.abs(target - feeder) < dist_to_feeder\n",
    "            target[dist] = np.nan\n",
    "        targets[i] = target\n",
    "    return targets\n",
    "\n",
    "x = remove_feeder_contamination(x, feeder_x_location)\n",
    "y = remove_feeder_contamination(y, feeder_y_location)"
   ]
  },
  {
   "cell_type": "code",
   "execution_count": null,
   "metadata": {
    "ExecuteTime": {
     "end_time": "2018-06-12T13:37:27.976065Z",
     "start_time": "2018-06-12T13:37:26.160706Z"
    },
    "collapsed": true
   },
   "outputs": [],
   "source": [
    "plt.plot(times, y, \"k.\", ms=2)\n",
    "plt.show()"
   ]
  },
  {
   "cell_type": "code",
   "execution_count": null,
   "metadata": {
    "ExecuteTime": {
     "end_time": "2018-06-12T13:37:28.114985Z",
     "start_time": "2018-06-12T13:37:27.978064Z"
    },
    "collapsed": true
   },
   "outputs": [],
   "source": [
    "plt.plot(times[s:e], y[s:e], \"k.\", ms=10)\n",
    "plt.show()"
   ]
  },
  {
   "cell_type": "code",
   "execution_count": null,
   "metadata": {
    "ExecuteTime": {
     "end_time": "2018-06-12T13:37:28.666293Z",
     "start_time": "2018-06-12T13:37:28.115985Z"
    },
    "collapsed": true,
    "scrolled": false
   },
   "outputs": [],
   "source": [
    "# Removing the problem samples that are furthest from the previous location\n",
    "def remove_based_on_std(original_targets, std_thresh=2):\n",
    "    targets = np.array(original_targets)\n",
    "    stds = np.nanstd(targets, axis=1)[:, np.newaxis]\n",
    "    \n",
    "    # find idx where there is a large variation between targets\n",
    "    problem_samples = np.where(stds > std_thresh)[0]\n",
    "    \n",
    "    for i in problem_samples:\n",
    "        # find the previous mean to help determine which target is an issue\n",
    "        previous_idx = i-1\n",
    "        previous_mean = np.nanmean(targets[previous_idx])\n",
    "        \n",
    "        # if previous sample is nan, compare current sample to the one before that\n",
    "        while np.isnan(previous_mean):\n",
    "            previous_idx -= 1\n",
    "            previous_mean = np.nanmean(targets[previous_idx])\n",
    "        \n",
    "        # remove problem target\n",
    "        idx = np.nanargmax(np.abs(targets[i] - previous_mean))\n",
    "        targets[i][idx] = np.nan\n",
    "    \n",
    "    return targets\n",
    "\n",
    "x = remove_based_on_std(x)\n",
    "y = remove_based_on_std(y)"
   ]
  },
  {
   "cell_type": "code",
   "execution_count": null,
   "metadata": {
    "ExecuteTime": {
     "end_time": "2018-06-12T13:37:28.805016Z",
     "start_time": "2018-06-12T13:37:28.666293Z"
    },
    "collapsed": true
   },
   "outputs": [],
   "source": [
    "plt.plot(times[s:e], y[s:e], \"k.\", ms=10)\n",
    "plt.show()"
   ]
  },
  {
   "cell_type": "code",
   "execution_count": null,
   "metadata": {
    "ExecuteTime": {
     "end_time": "2018-06-12T13:37:29.107168Z",
     "start_time": "2018-06-12T13:37:28.806015Z"
    },
    "collapsed": true
   },
   "outputs": [],
   "source": [
    "# Calculating the mean of the remaining targets\n",
    "xx = np.nanmean(x, axis=1)\n",
    "yy = np.nanmean(y, axis=1)\n",
    "ttimes = times"
   ]
  },
  {
   "cell_type": "code",
   "execution_count": null,
   "metadata": {
    "ExecuteTime": {
     "end_time": "2018-06-12T13:37:29.117163Z",
     "start_time": "2018-06-12T13:37:29.108168Z"
    },
    "collapsed": true
   },
   "outputs": [],
   "source": [
    "# Finding nan idx\n",
    "x_nan_idx = np.isnan(xx)\n",
    "y_nan_idx = np.isnan(yy)\n",
    "nan_idx = x_nan_idx | y_nan_idx\n",
    "\n",
    "# Removing nan samples\n",
    "xx = xx[~nan_idx]\n",
    "yy = yy[~nan_idx]\n",
    "ttimes = ttimes[~nan_idx]"
   ]
  },
  {
   "cell_type": "code",
   "execution_count": null,
   "metadata": {
    "ExecuteTime": {
     "end_time": "2018-06-12T13:37:29.125158Z",
     "start_time": "2018-06-12T13:37:29.118162Z"
    },
    "collapsed": true
   },
   "outputs": [],
   "source": [
    "# Determining the percent of samples used\n",
    "print(len(xx) / len(targets) * 100)\n",
    "print(len(xx))"
   ]
  },
  {
   "cell_type": "code",
   "execution_count": null,
   "metadata": {
    "ExecuteTime": {
     "end_time": "2018-06-12T13:37:29.391666Z",
     "start_time": "2018-06-12T13:37:29.127157Z"
    },
    "collapsed": true
   },
   "outputs": [],
   "source": [
    "plt.plot(ttimes, yy, \"k.\", ms=4)\n",
    "plt.show()"
   ]
  },
  {
   "cell_type": "code",
   "execution_count": null,
   "metadata": {
    "ExecuteTime": {
     "end_time": "2018-06-12T13:37:29.398662Z",
     "start_time": "2018-06-12T13:37:29.392649Z"
    },
    "collapsed": true
   },
   "outputs": [],
   "source": [
    "len(yy), len(targets)"
   ]
  },
  {
   "cell_type": "code",
   "execution_count": null,
   "metadata": {
    "ExecuteTime": {
     "end_time": "2018-06-12T13:37:29.554593Z",
     "start_time": "2018-06-12T13:37:29.400645Z"
    },
    "collapsed": true
   },
   "outputs": [],
   "source": [
    "# Apply a median filter\n",
    "xx, yy = median_filter(xx, yy, kernel=11)"
   ]
  },
  {
   "cell_type": "code",
   "execution_count": null,
   "metadata": {
    "ExecuteTime": {
     "end_time": "2018-06-12T13:37:29.564569Z",
     "start_time": "2018-06-12T13:37:29.556555Z"
    },
    "collapsed": true
   },
   "outputs": [],
   "source": [
    "# Determining the percent of samples used\n",
    "len(xx) / len(targets) * 100"
   ]
  },
  {
   "cell_type": "code",
   "execution_count": null,
   "metadata": {
    "ExecuteTime": {
     "end_time": "2018-06-12T13:37:29.575544Z",
     "start_time": "2018-06-12T13:37:29.566550Z"
    },
    "collapsed": true
   },
   "outputs": [],
   "source": [
    "# Finding nan idx\n",
    "x_nan_idx = np.isnan(xx)\n",
    "y_nan_idx = np.isnan(yy)\n",
    "nan_idx = x_nan_idx | y_nan_idx\n",
    "\n",
    "# Removing nan samples\n",
    "xx = xx[~nan_idx]\n",
    "yy = yy[~nan_idx]\n",
    "ttimes = ttimes[~nan_idx]"
   ]
  },
  {
   "cell_type": "code",
   "execution_count": null,
   "metadata": {
    "ExecuteTime": {
     "end_time": "2018-06-12T13:37:29.585910Z",
     "start_time": "2018-06-12T13:37:29.577544Z"
    },
    "collapsed": true
   },
   "outputs": [],
   "source": [
    "# Determining the percent of samples used\n",
    "len(xx) / len(targets) * 100"
   ]
  },
  {
   "cell_type": "code",
   "execution_count": null,
   "metadata": {
    "collapsed": true
   },
   "outputs": [],
   "source": []
  },
  {
   "cell_type": "code",
   "execution_count": null,
   "metadata": {
    "collapsed": true
   },
   "outputs": [],
   "source": [
    "import scipy"
   ]
  },
  {
   "cell_type": "code",
   "execution_count": null,
   "metadata": {
    "collapsed": true
   },
   "outputs": [],
   "source": [
    "f = interp1d"
   ]
  },
  {
   "cell_type": "code",
   "execution_count": null,
   "metadata": {
    "collapsed": true
   },
   "outputs": [],
   "source": [
    "2.54 * 7.2154"
   ]
  },
  {
   "cell_type": "code",
   "execution_count": null,
   "metadata": {
    "collapsed": true
   },
   "outputs": [],
   "source": [
    "2.54 * 7.1816"
   ]
  },
  {
   "cell_type": "code",
   "execution_count": null,
   "metadata": {
    "collapsed": true
   },
   "outputs": [],
   "source": []
  },
  {
   "cell_type": "code",
   "execution_count": null,
   "metadata": {
    "collapsed": true
   },
   "outputs": [],
   "source": [
    "position = nept.Position(np.hstack(np.array([xx, yy])[..., np.newaxis]), ttimes)\n",
    "plot_correcting_position(info, position, targets, output_filepath)"
   ]
  },
  {
   "cell_type": "code",
   "execution_count": null,
   "metadata": {
    "collapsed": true
   },
   "outputs": [],
   "source": []
  },
  {
   "cell_type": "code",
   "execution_count": null,
   "metadata": {
    "collapsed": true
   },
   "outputs": [],
   "source": []
  },
  {
   "cell_type": "code",
   "execution_count": null,
   "metadata": {
    "ExecuteTime": {
     "end_time": "2018-06-12T13:37:29.598134Z",
     "start_time": "2018-06-12T13:37:29.586909Z"
    },
    "collapsed": true
   },
   "outputs": [],
   "source": [
    "# Construct a nept.Position object\n",
    "position = nept.Position(np.hstack(np.array([xx, yy])[..., np.newaxis]), ttimes)"
   ]
  },
  {
   "cell_type": "code",
   "execution_count": null,
   "metadata": {
    "ExecuteTime": {
     "end_time": "2018-06-12T13:37:29.795744Z",
     "start_time": "2018-06-12T13:37:29.599115Z"
    },
    "collapsed": true
   },
   "outputs": [],
   "source": [
    "plt.plot(position.x, position.y, \"k.\", ms=2)\n",
    "plt.show()"
   ]
  },
  {
   "cell_type": "code",
   "execution_count": null,
   "metadata": {
    "ExecuteTime": {
     "end_time": "2018-06-12T13:37:30.059742Z",
     "start_time": "2018-06-12T13:37:29.795744Z"
    },
    "collapsed": true
   },
   "outputs": [],
   "source": [
    "plt.plot(position.time, position.y, \"k.\", ms=4)\n",
    "plt.show()"
   ]
  },
  {
   "cell_type": "code",
   "execution_count": null,
   "metadata": {
    "ExecuteTime": {
     "end_time": "2018-06-12T13:37:30.210844Z",
     "start_time": "2018-06-12T13:37:30.061740Z"
    },
    "collapsed": true
   },
   "outputs": [],
   "source": [
    "check_start = nept.find_nearest_idx(position.time, info.task_times[\"phase1\"].start) - 500\n",
    "check_end = check_start + 20000\n",
    "\n",
    "plt.plot(position.time[check_start:check_end], position.y[check_start:check_end], \"k.\", ms=5)\n",
    "plt.show()"
   ]
  },
  {
   "cell_type": "code",
   "execution_count": null,
   "metadata": {
    "ExecuteTime": {
     "end_time": "2018-06-12T13:37:30.222444Z",
     "start_time": "2018-06-12T13:37:30.210844Z"
    },
    "collapsed": true
   },
   "outputs": [],
   "source": [
    "trial_epochs = get_trials(events, info.task_times[\"phase3\"])\n",
    "trial_idx = 1\n",
    "start = trial_epochs[trial_idx].start\n",
    "stop = trial_epochs[trial_idx].stop"
   ]
  },
  {
   "cell_type": "code",
   "execution_count": null,
   "metadata": {
    "ExecuteTime": {
     "end_time": "2018-06-12T13:37:30.311962Z",
     "start_time": "2018-06-12T13:37:30.224441Z"
    },
    "collapsed": true
   },
   "outputs": [],
   "source": [
    "trial = position.time_slice(start, stop)\n",
    "plt.plot(trial.x, trial.y, \"k.\")\n",
    "plt.show()"
   ]
  },
  {
   "cell_type": "code",
   "execution_count": null,
   "metadata": {
    "collapsed": true
   },
   "outputs": [],
   "source": []
  },
  {
   "cell_type": "code",
   "execution_count": null,
   "metadata": {
    "ExecuteTime": {
     "end_time": "2018-06-12T13:37:30.321867Z",
     "start_time": "2018-06-12T13:37:30.311962Z"
    },
    "collapsed": true
   },
   "outputs": [],
   "source": [
    "# Determining the percent of samples used\n",
    "position.n_samples / len(targets) * 100"
   ]
  },
  {
   "cell_type": "code",
   "execution_count": null,
   "metadata": {
    "collapsed": true
   },
   "outputs": [],
   "source": []
  },
  {
   "cell_type": "code",
   "execution_count": null,
   "metadata": {
    "collapsed": true
   },
   "outputs": [],
   "source": []
  },
  {
   "cell_type": "code",
   "execution_count": null,
   "metadata": {
    "ExecuteTime": {
     "end_time": "2018-06-12T13:37:30.330860Z",
     "start_time": "2018-06-12T13:37:30.322864Z"
    },
    "collapsed": true
   },
   "outputs": [],
   "source": [
    "def plot_correcting_position(info, position, targets, savepath=None):\n",
    "    fig = plt.figure(figsize=(8, 8))\n",
    "\n",
    "    fig.suptitle(info.session_id, y=1.)\n",
    "\n",
    "    ax1 = plt.subplot(321)\n",
    "    ax1 = plt.plot(position.x, position.y, \"k.\", ms=5)\n",
    "\n",
    "    trial_epochs = get_trials(events, info.task_times[\"phase3\"])\n",
    "    trial_idx = 3\n",
    "    start = trial_epochs[trial_idx].start\n",
    "    stop = trial_epochs[trial_idx].stop\n",
    "    trial = position.time_slice(start, stop)\n",
    "    ax2 = plt.subplot(322)\n",
    "    ax2 = plt.plot(trial.x, trial.y, \"g.\", ms=5)\n",
    "\n",
    "    ax3 = plt.subplot(312)\n",
    "    ax3 = plt.plot(position.time, position.y, \"b.\", ms=5)\n",
    "\n",
    "    start_idx = nept.find_nearest_idx(position.time, info.task_times[\"phase3\"].start)\n",
    "    n_idx = 10000\n",
    "    stop_idx = start_idx + n_idx\n",
    "    ax4 = plt.subplot(313)\n",
    "    ax4 = plt.plot(position.time[start_idx:stop_idx], position.y[start_idx:stop_idx], \"r.\", ms=5)\n",
    "\n",
    "    plt.text(position.time[stop_idx], -25, str(round(position.n_samples / len(targets) * 100, 2))+\"%\")\n",
    "\n",
    "    # Cleaning up the plot\n",
    "    plt.tight_layout()\n",
    "\n",
    "    if savepath:\n",
    "        plt.savefig(os.path.join(savepath, info.session_id+\"-correcting_position.png\"))\n",
    "    else:\n",
    "        plt.show()"
   ]
  },
  {
   "cell_type": "code",
   "execution_count": null,
   "metadata": {
    "ExecuteTime": {
     "end_time": "2018-06-12T13:37:31.818585Z",
     "start_time": "2018-06-12T13:37:30.332858Z"
    },
    "collapsed": true
   },
   "outputs": [],
   "source": [
    "plot_correcting_position(info, position, targets, output_filepath)"
   ]
  },
  {
   "cell_type": "code",
   "execution_count": null,
   "metadata": {
    "ExecuteTime": {
     "end_time": "2018-06-12T13:37:31.829162Z",
     "start_time": "2018-06-12T13:37:31.818585Z"
    },
    "collapsed": true
   },
   "outputs": [],
   "source": [
    "filename = os.path.join(output_filepath, info.session_id+\"-position.csv\")"
   ]
  },
  {
   "cell_type": "code",
   "execution_count": null,
   "metadata": {
    "ExecuteTime": {
     "end_time": "2018-06-12T13:37:31.834159Z",
     "start_time": "2018-06-12T13:37:31.830161Z"
    },
    "collapsed": true
   },
   "outputs": [],
   "source": [
    "# np.savetxt(filename, np.hstack((position.x[:,np.newaxis], position.y[:,np.newaxis], position.time[:,np.newaxis])), delimiter=\",\", header=\"x,y,time\", comments=\"\")"
   ]
  },
  {
   "cell_type": "code",
   "execution_count": null,
   "metadata": {
    "collapsed": true
   },
   "outputs": [],
   "source": []
  },
  {
   "cell_type": "code",
   "execution_count": null,
   "metadata": {
    "ExecuteTime": {
     "end_time": "2018-06-12T13:37:31.854148Z",
     "start_time": "2018-06-12T13:37:31.836157Z"
    },
    "collapsed": true,
    "scrolled": true
   },
   "outputs": [],
   "source": [
    "targets[10:30]"
   ]
  },
  {
   "cell_type": "code",
   "execution_count": null,
   "metadata": {
    "collapsed": true
   },
   "outputs": [],
   "source": []
  },
  {
   "cell_type": "code",
   "execution_count": null,
   "metadata": {
    "collapsed": true
   },
   "outputs": [],
   "source": []
  },
  {
   "cell_type": "code",
   "execution_count": null,
   "metadata": {
    "collapsed": true
   },
   "outputs": [],
   "source": []
  }
 ],
 "metadata": {
  "kernelspec": {
   "display_name": "Python 3",
   "language": "python",
   "name": "python3"
  },
  "language_info": {
   "codemirror_mode": {
    "name": "ipython",
    "version": 3
   },
   "file_extension": ".py",
   "mimetype": "text/x-python",
   "name": "python",
   "nbconvert_exporter": "python",
   "pygments_lexer": "ipython3",
   "version": "3.6.5"
  },
  "toc": {
   "colors": {
    "hover_highlight": "#DAA520",
    "running_highlight": "#FF0000",
    "selected_highlight": "#FFD700"
   },
   "moveMenuLeft": true,
   "nav_menu": {
    "height": "12px",
    "width": "252px"
   },
   "navigate_menu": true,
   "number_sections": true,
   "sideBar": true,
   "threshold": 4,
   "toc_cell": false,
   "toc_section_display": "block",
   "toc_window_display": false
  }
 },
 "nbformat": 4,
 "nbformat_minor": 2
}
