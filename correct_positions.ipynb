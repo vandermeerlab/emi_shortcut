{
 "cells": [
  {
   "cell_type": "code",
   "execution_count": null,
   "metadata": {
    "ExecuteTime": {
     "end_time": "2018-05-30T16:52:39.862218Z",
     "start_time": "2018-05-30T16:52:38.729915Z"
    }
   },
   "outputs": [],
   "source": [
    "%matplotlib inline\n",
    "import matplotlib.pyplot as plt\n",
    "import numpy as np\n",
    "import os\n",
    "import nept\n",
    "\n",
    "from matplotlib import animation\n",
    "from IPython.display import HTML\n",
    "\n",
    "from startup import extract_xy, sort_led_locations, correct_targets, median_filter, remove_jumps_to_feeder\n",
    "from loading_data import get_data, unzip_nvt_file, zip_nvt_file\n",
    "from analyze_decode_bytrial import get_trials\n",
    "\n",
    "import warnings\n",
    "warnings.filterwarnings(\"ignore\")"
   ]
  },
  {
   "cell_type": "code",
   "execution_count": null,
   "metadata": {
    "ExecuteTime": {
     "end_time": "2018-05-30T16:52:39.867722Z",
     "start_time": "2018-05-30T16:52:39.864219Z"
    }
   },
   "outputs": [],
   "source": [
    "thisdir = os.getcwd()\n",
    "dataloc = os.path.join(thisdir, 'cache', 'data')\n",
    "pickle_filepath = os.path.join(thisdir, \"cache\", \"pickled\")\n",
    "output_filepath = os.path.join(thisdir, \"plots\", \"correcting_position\")"
   ]
  },
  {
   "cell_type": "code",
   "execution_count": null,
   "metadata": {
    "ExecuteTime": {
     "end_time": "2018-05-30T16:52:39.878730Z",
     "start_time": "2018-05-30T16:52:39.869223Z"
    }
   },
   "outputs": [],
   "source": [
    "import info.r066d2 as info"
   ]
  },
  {
   "cell_type": "code",
   "execution_count": null,
   "metadata": {
    "ExecuteTime": {
     "end_time": "2018-05-30T16:52:40.417613Z",
     "start_time": "2018-05-30T16:52:39.880730Z"
    }
   },
   "outputs": [],
   "source": [
    "events, position, spikes, lfp, lfp_theta = get_data(info)"
   ]
  },
  {
   "cell_type": "code",
   "execution_count": null,
   "metadata": {
    "ExecuteTime": {
     "end_time": "2018-05-30T16:52:40.423116Z",
     "start_time": "2018-05-30T16:52:40.419114Z"
    }
   },
   "outputs": [],
   "source": [
    "filename = os.path.join(dataloc, info.position_filename)\n",
    "variance_thresh = 5.\n",
    "epsilon = 0.01"
   ]
  },
  {
   "cell_type": "code",
   "execution_count": null,
   "metadata": {
    "ExecuteTime": {
     "end_time": "2018-05-30T16:52:40.823901Z",
     "start_time": "2018-05-30T16:52:40.424617Z"
    }
   },
   "outputs": [],
   "source": [
    "# Load raw position from file\n",
    "nvt_data = nept.load_nvt(filename)\n",
    "targets = nvt_data['targets']\n",
    "times = nvt_data['time']"
   ]
  },
  {
   "cell_type": "code",
   "execution_count": null,
   "metadata": {
    "ExecuteTime": {
     "end_time": "2018-05-30T17:00:02.525532Z",
     "start_time": "2018-05-30T17:00:00.456562Z"
    }
   },
   "outputs": [],
   "source": [
    "# Initialize x, y arrays\n",
    "x = np.zeros(targets.shape)\n",
    "y = np.zeros(targets.shape)\n",
    "\n",
    "# X and Y are stored in a custom bitfield. See Neuralynx data file format documentation for details.\n",
    "# Briefly, each record contains up to 50 targets, each stored in 32bit field.\n",
    "# X field at [20:31] and Y at [4:15].\n",
    "# TODO: make into a separate function in nept\n",
    "for target in range(targets.shape[1]):\n",
    "    this_sample = targets[:, target]\n",
    "    for sample in range(targets.shape[0]):\n",
    "        # When the bitfield is equal to zero there is no valid data for that field\n",
    "        # and remains zero for the rest of the bitfields in the record.\n",
    "        if this_sample[target] == 0:\n",
    "            break\n",
    "        x[sample, target], y[sample, target] = extract_xy(int(this_sample[sample]))\n",
    "\n",
    "# Replacing targets with no samples with nan instead of 0\n",
    "x[x == 0] = np.nan\n",
    "y[y == 0] = np.nan\n",
    "\n",
    "# Scale the positions\n",
    "x = x / info.scale_targets[0]\n",
    "y = y / info.scale_targets[1]"
   ]
  },
  {
   "cell_type": "code",
   "execution_count": null,
   "metadata": {},
   "outputs": [],
   "source": []
  },
  {
   "cell_type": "code",
   "execution_count": null,
   "metadata": {},
   "outputs": [],
   "source": []
  },
  {
   "cell_type": "code",
   "execution_count": null,
   "metadata": {
    "ExecuteTime": {
     "end_time": "2018-05-30T18:20:57.477281Z",
     "start_time": "2018-05-30T18:20:57.335703Z"
    }
   },
   "outputs": [],
   "source": [
    "plt.plot(times[9000:9400], y[9000:9400], \"r.\")\n",
    "# plt.ylim(20, 70)\n",
    "plt.show()"
   ]
  },
  {
   "cell_type": "code",
   "execution_count": null,
   "metadata": {
    "ExecuteTime": {
     "end_time": "2018-05-30T18:20:42.225822Z",
     "start_time": "2018-05-30T18:20:42.087128Z"
    }
   },
   "outputs": [],
   "source": [
    "plt.plot(x[9000:9400], y[9000:9400], \"r.\")\n",
    "# plt.ylim(20, 70)\n",
    "plt.show()"
   ]
  },
  {
   "cell_type": "code",
   "execution_count": null,
   "metadata": {
    "ExecuteTime": {
     "end_time": "2018-05-30T16:53:31.489939Z",
     "start_time": "2018-05-30T16:52:42.854843Z"
    }
   },
   "outputs": [],
   "source": [
    "# Finding which feeder led is on over time\n",
    "leds = []\n",
    "leds.extend([(event, 'led1') for event in events['led1']])\n",
    "leds.extend([(event, 'led2') for event in events['led2']])\n",
    "sorted_leds = sorted(leds)\n",
    "\n",
    "# Get an array of feeder locations when that feeder is actively flashing\n",
    "feeder_x_location = np.empty(times.shape[0]) * np.nan\n",
    "feeder_y_location = np.empty(times.shape[0]) * np.nan\n",
    "\n",
    "for time, label in sorted_leds:\n",
    "    idx = nept.find_nearest_idx(times, time)\n",
    "    x_location = info.path_pts['feeder1'][0] if label == 'led1' else info.path_pts['feeder2'][0]\n",
    "    y_location = info.path_pts['feeder2'][0] if label == 'led1' else info.path_pts['feeder2'][1]\n",
    "\n",
    "    feeder_x_location[idx:idx+4] = x_location\n",
    "    feeder_y_location[idx:idx+4] = y_location"
   ]
  },
  {
   "cell_type": "code",
   "execution_count": null,
   "metadata": {
    "ExecuteTime": {
     "end_time": "2018-05-30T16:53:36.218330Z",
     "start_time": "2018-05-30T16:53:31.491440Z"
    }
   },
   "outputs": [],
   "source": [
    "# Removing the contaminated samples that are closest to the feeder location\n",
    "def remove_contaminated(targets, current_feeder):\n",
    "    new_targets = targets\n",
    "    for i, (target, feeder) in enumerate(zip(targets, current_feeder)):\n",
    "        if not np.isnan(feeder):\n",
    "            idx = np.nanargmin(np.abs(target - feeder))\n",
    "            target[idx] = np.nan\n",
    "        new_targets[i] = target\n",
    "    return new_targets\n",
    "\n",
    "x = remove_contaminated(x, feeder_x_location)\n",
    "y = remove_contaminated(y, feeder_y_location)"
   ]
  },
  {
   "cell_type": "code",
   "execution_count": null,
   "metadata": {
    "ExecuteTime": {
     "end_time": "2018-05-30T16:53:36.471977Z",
     "start_time": "2018-05-30T16:53:36.220299Z"
    }
   },
   "outputs": [],
   "source": [
    "# Calculating the mean of the remaining targets\n",
    "xx = np.nanmean(x, axis=1)\n",
    "yy = np.nanmean(y, axis=1)\n",
    "ttimes = times"
   ]
  },
  {
   "cell_type": "code",
   "execution_count": null,
   "metadata": {
    "ExecuteTime": {
     "end_time": "2018-05-30T16:53:36.483986Z",
     "start_time": "2018-05-30T16:53:36.473478Z"
    }
   },
   "outputs": [],
   "source": [
    "position = nept.Position(np.hstack(np.array([xx, yy])[..., np.newaxis]), ttimes)"
   ]
  },
  {
   "cell_type": "code",
   "execution_count": null,
   "metadata": {
    "ExecuteTime": {
     "end_time": "2018-05-30T16:53:36.714650Z",
     "start_time": "2018-05-30T16:53:36.485987Z"
    }
   },
   "outputs": [],
   "source": [
    "plt.plot(position.x, position.y, \"k.\", ms=1)\n",
    "plt.show()"
   ]
  },
  {
   "cell_type": "code",
   "execution_count": null,
   "metadata": {
    "ExecuteTime": {
     "end_time": "2018-05-30T16:53:36.940811Z",
     "start_time": "2018-05-30T16:53:36.716651Z"
    }
   },
   "outputs": [],
   "source": [
    "plt.plot(position.time, position.y, \"k.\", ms=1)\n",
    "plt.show()"
   ]
  },
  {
   "cell_type": "code",
   "execution_count": null,
   "metadata": {
    "ExecuteTime": {
     "end_time": "2018-05-30T16:59:00.514431Z",
     "start_time": "2018-05-30T16:59:00.416843Z"
    }
   },
   "outputs": [],
   "source": [
    "plt.plot(position.time[9050:9100], position.y[9050:9100], \"k.\", ms=5)\n",
    "plt.ylim(20,70)\n",
    "plt.show()"
   ]
  },
  {
   "cell_type": "code",
   "execution_count": null,
   "metadata": {},
   "outputs": [],
   "source": []
  },
  {
   "cell_type": "code",
   "execution_count": null,
   "metadata": {},
   "outputs": [],
   "source": []
  },
  {
   "cell_type": "code",
   "execution_count": null,
   "metadata": {
    "ExecuteTime": {
     "end_time": "2018-05-30T15:49:54.968922Z",
     "start_time": "2018-05-30T15:49:53.216661Z"
    }
   },
   "outputs": [],
   "source": [
    "plt.plot(x, y, \"b.\", ms=1)\n",
    "plt.show()"
   ]
  },
  {
   "cell_type": "code",
   "execution_count": null,
   "metadata": {
    "ExecuteTime": {
     "end_time": "2018-05-30T15:49:56.844284Z",
     "start_time": "2018-05-30T15:49:54.970407Z"
    }
   },
   "outputs": [],
   "source": [
    "plt.plot(times, y, 'k.', ms=1)\n",
    "plt.show()"
   ]
  },
  {
   "cell_type": "code",
   "execution_count": null,
   "metadata": {
    "ExecuteTime": {
     "end_time": "2018-05-30T14:34:43.915992Z",
     "start_time": "2018-05-30T14:34:38.030759Z"
    }
   },
   "outputs": [],
   "source": [
    "# Get the feeder locations\n",
    "feeder_x, feeder_y = sort_led_locations(info, events, times)\n",
    "\n",
    "# One target is contaminated when the distance between the targets is large\n",
    "target_x_var = np.nanvar(x, axis=1)\n",
    "target_y_var = np.nanvar(y, axis=1)\n",
    "\n",
    "# Contaminated samples are using the feeder LED instead of the implant LEDs\n",
    "contaminated_x_idx = target_x_var > variance_thresh\n",
    "contaminated_y_idx = target_y_var > variance_thresh\n",
    "\n",
    "# Removing the contaminated samples that are closest to the feeder location\n",
    "def remove_contaminated_samples(targets, current_feeder, contaminated_idx):\n",
    "    contaminated_targets = targets[contaminated_idx]\n",
    "    contaminated_current_feeder = current_feeder[contaminated_idx]\n",
    "    for i, (target, feeder) in enumerate(zip(contaminated_targets, contaminated_current_feeder)):\n",
    "        if np.nansum(target) > 0:\n",
    "            nidx = np.nanargmin(np.abs(target - feeder))\n",
    "            target[nidx] = np.nan\n",
    "        contaminated_targets[i] = target\n",
    "    targets[contaminated_idx] = contaminated_targets\n",
    "    \n",
    "    return targets\n",
    "\n",
    "x = remove_contaminated_samples(x, feeder_x, contaminated_x_idx)\n",
    "y = remove_contaminated_samples(y, feeder_y, contaminated_y_idx)"
   ]
  },
  {
   "cell_type": "code",
   "execution_count": null,
   "metadata": {
    "ExecuteTime": {
     "end_time": "2018-05-30T14:37:41.208859Z",
     "start_time": "2018-05-30T14:37:41.012721Z"
    }
   },
   "outputs": [],
   "source": [
    "target_x_var = np.nanvar(x, axis=1)"
   ]
  },
  {
   "cell_type": "code",
   "execution_count": null,
   "metadata": {
    "ExecuteTime": {
     "end_time": "2018-05-30T14:37:43.053973Z",
     "start_time": "2018-05-30T14:37:42.852215Z"
    }
   },
   "outputs": [],
   "source": [
    "plt.hist(target_x_var, bins=50)"
   ]
  },
  {
   "cell_type": "code",
   "execution_count": null,
   "metadata": {},
   "outputs": [],
   "source": [
    "def sort_led_locations(info, events, times):\n",
    "    \"\"\"Combines and sorts led1 and led2 events\n",
    "\n",
    "    Parameters\n",
    "    ----------\n",
    "    info: module\n",
    "    events: dict of nept.Epochs\n",
    "    times: np.array\n",
    "\n",
    "    Returns\n",
    "    -------\n",
    "    feeder_x_location: np.array\n",
    "    feeder_y_location: np.array\n",
    "\n",
    "    \"\"\"\n",
    "    leds = []\n",
    "    leds.extend([(event, 'led1') for event in events['led1']])\n",
    "    leds.extend([(event, 'led2') for event in events['led2']])\n",
    "    sorted_leds = sorted(leds)\n",
    "\n",
    "    # Get an array of feeder locations when that feeder is actively flashing\n",
    "    feeder_x_location = np.zeros(times.shape[0])\n",
    "    feeder_y_location = np.zeros(times.shape[0])\n",
    "\n",
    "    feeder1_x = info.path_pts['feeder1'][0]\n",
    "    feeder1_y = info.path_pts['feeder1'][1]\n",
    "    feeder2_x = info.path_pts['feeder2'][0]\n",
    "    feeder2_y = info.path_pts['feeder2'][1]\n",
    "\n",
    "#     last_label = ''\n",
    "\n",
    "    for time, label in sorted_leds:\n",
    "#         if label == last_label:\n",
    "#             continue\n",
    "        idx = nept.find_nearest_idx(times, time)\n",
    "        x_location = feeder1_x if label == 'led1' else feeder2_x\n",
    "        y_location = feeder1_y if label == 'led1' else feeder2_y\n",
    "\n",
    "        feeder_x_location[idx] = x_location\n",
    "        feeder_y_location[idx] = y_location\n",
    "\n",
    "#         last_label = label\n",
    "    return feeder_x_location, feeder_y_location"
   ]
  },
  {
   "cell_type": "code",
   "execution_count": null,
   "metadata": {},
   "outputs": [],
   "source": []
  },
  {
   "cell_type": "code",
   "execution_count": null,
   "metadata": {},
   "outputs": [],
   "source": []
  },
  {
   "cell_type": "code",
   "execution_count": null,
   "metadata": {
    "ExecuteTime": {
     "end_time": "2018-05-30T16:37:04.964022Z",
     "start_time": "2018-05-30T16:36:13.489459Z"
    }
   },
   "outputs": [],
   "source": [
    "# herrrreeeeeee\n",
    "\n",
    "leds = []\n",
    "leds.extend([(event, 'led1') for event in events['led1']])\n",
    "leds.extend([(event, 'led2') for event in events['led2']])\n",
    "sorted_leds = sorted(leds)\n",
    "\n",
    "# Get an array of feeder locations when that feeder is actively flashing\n",
    "feeder_x_location = np.empty(times.shape[0]) * np.nan\n",
    "feeder_y_location = np.empty(times.shape[0]) * np.nan\n",
    "\n",
    "for time, label in sorted_leds:\n",
    "    idx = nept.find_nearest_idx(times, time)\n",
    "    x_location = info.path_pts['feeder1'][0] if label == 'led1' else info.path_pts['feeder2'][0]\n",
    "    y_location = info.path_pts['feeder2'][0] if label == 'led1' else info.path_pts['feeder2'][1]\n",
    "\n",
    "    feeder_x_location[idx:idx+4] = x_location\n",
    "    feeder_y_location[idx:idx+4] = y_location"
   ]
  },
  {
   "cell_type": "code",
   "execution_count": null,
   "metadata": {
    "ExecuteTime": {
     "end_time": "2018-05-30T16:37:04.973529Z",
     "start_time": "2018-05-30T16:37:04.966024Z"
    }
   },
   "outputs": [],
   "source": [
    "x[9014]"
   ]
  },
  {
   "cell_type": "code",
   "execution_count": null,
   "metadata": {
    "ExecuteTime": {
     "end_time": "2018-05-30T16:37:04.988039Z",
     "start_time": "2018-05-30T16:37:04.975531Z"
    }
   },
   "outputs": [],
   "source": [
    "feeder_x_location[9014]"
   ]
  },
  {
   "cell_type": "code",
   "execution_count": null,
   "metadata": {
    "ExecuteTime": {
     "end_time": "2018-05-30T16:37:05.004552Z",
     "start_time": "2018-05-30T16:37:04.989540Z"
    }
   },
   "outputs": [],
   "source": [
    "feeder_x_location[8970:9020], feeder_y_location[8970:9020]"
   ]
  },
  {
   "cell_type": "code",
   "execution_count": null,
   "metadata": {
    "ExecuteTime": {
     "end_time": "2018-05-30T16:40:32.052342Z",
     "start_time": "2018-05-30T16:40:31.816856Z"
    }
   },
   "outputs": [],
   "source": [
    "plt.plot(times[8970:9020], y[8970:9020], 'b.')\n",
    "plt.plot(times[8970:8974], y[8970:8974], 'r.')\n",
    "plt.plot(times[8978:8978+4], y[8978:8978+4], 'r.')\n",
    "plt.show()"
   ]
  },
  {
   "cell_type": "code",
   "execution_count": null,
   "metadata": {
    "ExecuteTime": {
     "end_time": "2018-05-30T16:47:30.732012Z",
     "start_time": "2018-05-30T16:47:25.945608Z"
    }
   },
   "outputs": [],
   "source": [
    "# Removing the contaminated samples that are closest to the feeder location\n",
    "def remove_contaminated(targets, current_feeder):\n",
    "    new_targets = targets\n",
    "    for i, (target, feeder) in enumerate(zip(targets, current_feeder)):\n",
    "        if not np.isnan(feeder):\n",
    "            idx = np.nanargmin(np.abs(target - feeder))\n",
    "            target[idx] = np.nan\n",
    "        new_targets[i] = target\n",
    "    return new_targets\n",
    "\n",
    "xxx = remove_contaminated(x, feeder_x_location)\n",
    "yyy = remove_contaminated(y, feeder_y_location)"
   ]
  },
  {
   "cell_type": "code",
   "execution_count": null,
   "metadata": {
    "ExecuteTime": {
     "end_time": "2018-05-30T16:47:31.441651Z",
     "start_time": "2018-05-30T16:47:31.432644Z"
    }
   },
   "outputs": [],
   "source": [
    "xxx[9013:9019]"
   ]
  },
  {
   "cell_type": "code",
   "execution_count": null,
   "metadata": {
    "ExecuteTime": {
     "end_time": "2018-05-30T16:49:27.757255Z",
     "start_time": "2018-05-30T16:49:27.384965Z"
    }
   },
   "outputs": [],
   "source": [
    "plt.plot(times[8970:9020], yyy[8970:9020], 'b.')\n",
    "plt.plot(times[8970:8974], yyy[8970:8974], 'r.')\n",
    "plt.plot(times[8978:8978+4], yyy[8978:8978+4], 'r.')\n",
    "plt.plot(times[9014:9018], yyy[9014:9018], 'c.')\n",
    "plt.ylim(20, 70)\n",
    "plt.show()"
   ]
  },
  {
   "cell_type": "code",
   "execution_count": null,
   "metadata": {},
   "outputs": [],
   "source": []
  },
  {
   "cell_type": "code",
   "execution_count": null,
   "metadata": {
    "ExecuteTime": {
     "end_time": "2018-05-30T14:34:45.755246Z",
     "start_time": "2018-05-30T14:34:43.917958Z"
    }
   },
   "outputs": [],
   "source": [
    "plt.plot(times, y, 'k.', ms=1)\n",
    "plt.show()"
   ]
  },
  {
   "cell_type": "code",
   "execution_count": null,
   "metadata": {
    "ExecuteTime": {
     "end_time": "2018-05-30T14:34:46.615856Z",
     "start_time": "2018-05-30T14:34:45.756746Z"
    }
   },
   "outputs": [],
   "source": [
    "# Removing the sample that is more than std + buffer from the mean of the targets for both x and y\n",
    "targets_x_mean = np.nanmean(x, axis=1)[:, np.newaxis]\n",
    "targets_x_std = np.nanstd(x, axis=1)[:, np.newaxis] + epsilon\n",
    "keep_x_idx = np.abs(x - targets_x_mean) < targets_x_std\n",
    "x[~keep_x_idx] = np.nan\n",
    "\n",
    "targets_y_mean = np.nanmean(y, axis=1)[:, np.newaxis]\n",
    "targets_y_std = np.nanstd(y, axis=1)[:, np.newaxis] + epsilon\n",
    "keep_y_idx = np.abs(y - targets_y_mean) < targets_y_std\n",
    "y[~keep_y_idx] = np.nan"
   ]
  },
  {
   "cell_type": "code",
   "execution_count": null,
   "metadata": {
    "ExecuteTime": {
     "end_time": "2018-05-30T16:48:05.383872Z",
     "start_time": "2018-05-30T16:48:05.122687Z"
    }
   },
   "outputs": [],
   "source": [
    "# Calculating the mean of the remaining targets\n",
    "xx = np.nanmean(x, axis=1)\n",
    "yy = np.nanmean(y, axis=1)\n",
    "ttimes = times"
   ]
  },
  {
   "cell_type": "code",
   "execution_count": null,
   "metadata": {
    "ExecuteTime": {
     "end_time": "2018-05-30T14:35:53.231708Z",
     "start_time": "2018-05-30T14:35:42.084292Z"
    }
   },
   "outputs": [],
   "source": [
    "# Remove jumps to feeder location\n",
    "xx, yy, ttimes = remove_jumps_to_feeder(xx, yy, times, info, jump_thresh=2, dist_thresh=10)"
   ]
  },
  {
   "cell_type": "code",
   "execution_count": null,
   "metadata": {
    "ExecuteTime": {
     "end_time": "2018-05-30T14:35:53.316268Z",
     "start_time": "2018-05-30T14:35:53.233210Z"
    }
   },
   "outputs": [],
   "source": [
    "# Apply a median filter\n",
    "xx, yy = median_filter(xx, yy)"
   ]
  },
  {
   "cell_type": "code",
   "execution_count": null,
   "metadata": {
    "ExecuteTime": {
     "end_time": "2018-05-30T16:48:15.756073Z",
     "start_time": "2018-05-30T16:48:15.744566Z"
    }
   },
   "outputs": [],
   "source": [
    "position = nept.Position(np.hstack(np.array([xx, yy])[..., np.newaxis]), ttimes)"
   ]
  },
  {
   "cell_type": "code",
   "execution_count": null,
   "metadata": {
    "ExecuteTime": {
     "end_time": "2018-05-30T14:35:53.578955Z",
     "start_time": "2018-05-30T14:35:53.335282Z"
    }
   },
   "outputs": [],
   "source": [
    "fig, ax = plt.subplots()\n",
    "plt.plot(position.time, position.y, \"k.\", ms=3)\n",
    "plt.xlabel(\"time\")\n",
    "plt.ylabel(\"y\")\n",
    "ax.spines['right'].set_visible(False)\n",
    "ax.spines['top'].set_visible(False)\n",
    "ax.yaxis.set_ticks_position('left')\n",
    "ax.xaxis.set_ticks_position('bottom')\n",
    "plt.tight_layout()\n",
    "plt.show()"
   ]
  },
  {
   "cell_type": "code",
   "execution_count": null,
   "metadata": {
    "ExecuteTime": {
     "end_time": "2018-05-30T14:35:53.584960Z",
     "start_time": "2018-05-30T14:35:53.580957Z"
    }
   },
   "outputs": [],
   "source": [
    "position.n_samples / len(targets) * 100"
   ]
  },
  {
   "cell_type": "code",
   "execution_count": null,
   "metadata": {
    "ExecuteTime": {
     "end_time": "2018-05-30T16:48:18.203729Z",
     "start_time": "2018-05-30T16:48:17.984556Z"
    }
   },
   "outputs": [],
   "source": [
    "plt.plot(position.x, position.y, \"b.\", ms=1)\n",
    "plt.show()"
   ]
  },
  {
   "cell_type": "code",
   "execution_count": null,
   "metadata": {
    "ExecuteTime": {
     "end_time": "2018-05-30T16:48:31.244006Z",
     "start_time": "2018-05-30T16:48:31.009120Z"
    }
   },
   "outputs": [],
   "source": [
    "plt.plot(position.time, position.y, \"b.\", ms=1)\n",
    "plt.show()"
   ]
  },
  {
   "cell_type": "code",
   "execution_count": null,
   "metadata": {},
   "outputs": [],
   "source": []
  },
  {
   "cell_type": "code",
   "execution_count": null,
   "metadata": {
    "ExecuteTime": {
     "end_time": "2018-05-30T14:35:31.193430Z",
     "start_time": "2018-05-30T14:35:31.187426Z"
    }
   },
   "outputs": [],
   "source": [
    "trial_epochs = get_trials(events, info.task_times[\"phase3\"])\n",
    "trial_idx = 7\n",
    "start = trial_epochs[trial_idx].start\n",
    "stop = trial_epochs[trial_idx].stop"
   ]
  },
  {
   "cell_type": "code",
   "execution_count": null,
   "metadata": {
    "ExecuteTime": {
     "end_time": "2018-05-30T14:35:31.482135Z",
     "start_time": "2018-05-30T14:35:31.194932Z"
    }
   },
   "outputs": [],
   "source": [
    "trial = position.time_slice(start, stop)\n",
    "plt.plot(trial.x, trial.y, \"k.\")\n",
    "plt.show()"
   ]
  },
  {
   "cell_type": "code",
   "execution_count": null,
   "metadata": {},
   "outputs": [],
   "source": []
  },
  {
   "cell_type": "code",
   "execution_count": null,
   "metadata": {},
   "outputs": [],
   "source": []
  },
  {
   "cell_type": "code",
   "execution_count": null,
   "metadata": {},
   "outputs": [],
   "source": []
  }
 ],
 "metadata": {
  "kernelspec": {
   "display_name": "Python 3",
   "language": "python",
   "name": "python3"
  },
  "language_info": {
   "codemirror_mode": {
    "name": "ipython",
    "version": 3
   },
   "file_extension": ".py",
   "mimetype": "text/x-python",
   "name": "python",
   "nbconvert_exporter": "python",
   "pygments_lexer": "ipython3",
   "version": "3.6.5"
  },
  "toc": {
   "colors": {
    "hover_highlight": "#DAA520",
    "running_highlight": "#FF0000",
    "selected_highlight": "#FFD700"
   },
   "moveMenuLeft": true,
   "nav_menu": {
    "height": "12px",
    "width": "252px"
   },
   "navigate_menu": true,
   "number_sections": true,
   "sideBar": true,
   "threshold": 4,
   "toc_cell": false,
   "toc_section_display": "block",
   "toc_window_display": false
  }
 },
 "nbformat": 4,
 "nbformat_minor": 2
}
