{
 "cells": [
  {
   "cell_type": "code",
   "execution_count": null,
   "metadata": {
    "ExecuteTime": {
     "end_time": "2018-07-09T17:18:19.525410Z",
     "start_time": "2018-07-09T17:18:19.518413Z"
    }
   },
   "outputs": [],
   "source": [
    "%matplotlib inline\n",
    "import matplotlib.pyplot as plt\n",
    "import numpy as np\n",
    "import itertools\n",
    "import scipy\n",
    "import os\n",
    "import nept\n",
    "\n",
    "from matplotlib import animation, rc\n",
    "from IPython.display import HTML\n",
    "\n",
    "from loading_data import get_data\n",
    "from analyze_tuning_curves import get_tuning_curves\n",
    "from utils_maze import get_trials\n",
    "from analyze_decode import get_decoded"
   ]
  },
  {
   "cell_type": "code",
   "execution_count": null,
   "metadata": {
    "ExecuteTime": {
     "end_time": "2018-07-09T17:18:20.522408Z",
     "start_time": "2018-07-09T17:18:20.517412Z"
    }
   },
   "outputs": [],
   "source": [
    "thisdir = os.getcwd()\n",
    "pickle_filepath = os.path.join(thisdir, \"cache\", \"pickled\")\n",
    "output_filepath = os.path.join(thisdir, \"plots\", \"test\")"
   ]
  },
  {
   "cell_type": "code",
   "execution_count": null,
   "metadata": {
    "ExecuteTime": {
     "end_time": "2018-07-09T17:18:21.099520Z",
     "start_time": "2018-07-09T17:18:21.096522Z"
    }
   },
   "outputs": [],
   "source": [
    "import info.r068d6 as info"
   ]
  },
  {
   "cell_type": "code",
   "execution_count": null,
   "metadata": {
    "ExecuteTime": {
     "end_time": "2018-07-09T17:18:22.384826Z",
     "start_time": "2018-07-09T17:18:21.765256Z"
    }
   },
   "outputs": [],
   "source": [
    "events, position, spikes, lfp, lfp_theta = get_data(info)\n",
    "\n",
    "position = position.time_slice(info.task_times['phase3'].start, info.task_times['phase3'].stop)\n",
    "spikes = [spiketrain.time_slice(info.task_times['phase3'].start, info.task_times['phase3'].stop) for spiketrain in spikes]"
   ]
  },
  {
   "cell_type": "code",
   "execution_count": null,
   "metadata": {
    "ExecuteTime": {
     "end_time": "2018-07-09T17:18:35.804373Z",
     "start_time": "2018-07-09T17:18:35.799395Z"
    }
   },
   "outputs": [],
   "source": [
    "xedges, yedges = nept.get_xyedges(position, binsize=8)\n",
    "\n",
    "trial_epochs = get_trials(events, info.task_times['phase3'])"
   ]
  },
  {
   "cell_type": "code",
   "execution_count": null,
   "metadata": {
    "ExecuteTime": {
     "end_time": "2018-07-09T17:19:06.199013Z",
     "start_time": "2018-07-09T17:19:04.766184Z"
    }
   },
   "outputs": [],
   "source": [
    "percents_decoded = []\n",
    "\n",
    "for trial_idx in range(trial_epochs.n_epochs):\n",
    "    trial_start = trial_epochs.starts[trial_idx]\n",
    "    trial_stop = trial_epochs.stops[trial_idx]\n",
    "\n",
    "    trial_times = nept.Epoch([trial_start, trial_stop])\n",
    "    neurons = get_tuning_curves(info, position, spikes, xedges, yedges, speed_limit=0.4,\n",
    "                                phase_id=\"phase3\", trial_times=trial_times, trial_number=trial_idx,\n",
    "                                cache=False)\n",
    "\n",
    "    args = dict(min_swr=3,\n",
    "                min_neurons=2,\n",
    "                min_spikes=1,\n",
    "                neurons=neurons,\n",
    "                info=info,\n",
    "                normalized=False,\n",
    "                window=0.025,\n",
    "                dt=0.025,\n",
    "                gaussian_std=0.0075,\n",
    "                speed_limit=0.4,\n",
    "                run_time=True,\n",
    "                decode_sequences=False,\n",
    "                min_proportion_decoded=0.1,\n",
    "                decoding_times=trial_times,\n",
    "                shuffle_id=False,\n",
    "                random_shuffle=False,\n",
    "                )\n",
    "\n",
    "    decode = dict()\n",
    "    decode['decoded'], decode['decoded_epochs'], decode['errors'], decode['position'], decode['likelihood'], decode['percent_decoded'] = get_decoded(**args)\n",
    "    percents_decoded.append(decode['percent_decoded'])\n",
    "    \n",
    "percents_decoded = np.array(percents_decoded)"
   ]
  },
  {
   "cell_type": "code",
   "execution_count": null,
   "metadata": {},
   "outputs": [],
   "source": [
    "cutoff = 50\n",
    "\n",
    "fig, ax = plt.subplots()\n",
    "ind = np.arange(len(percents_decoded))\n",
    "width = 0.8\n",
    "colours = ['#0072b2', '#009e73',  '#d55e00']\n",
    "\n",
    "ax.bar(ind, percents_decoded, width, color='k')\n",
    "ax.axhline(y=cutoff, linestyle=\":\", color=\"r\")\n",
    "ax.set_ylabel('Trial number')\n",
    "ax.set_ylabel('Percent of bins in decoding')\n",
    "ax.spines['top'].set_visible(False)\n",
    "ax.spines['right'].set_visible(False)\n",
    "ax.get_xaxis().tick_bottom()\n",
    "ax.get_yaxis().tick_left()"
   ]
  },
  {
   "cell_type": "code",
   "execution_count": null,
   "metadata": {},
   "outputs": [],
   "source": [
    "print(\"Number of trials below cutoff:\", np.sum(np.less(percents_decoded, cutoff)))"
   ]
  },
  {
   "cell_type": "code",
   "execution_count": null,
   "metadata": {},
   "outputs": [],
   "source": []
  },
  {
   "cell_type": "code",
   "execution_count": null,
   "metadata": {},
   "outputs": [],
   "source": []
  }
 ],
 "metadata": {
  "kernelspec": {
   "display_name": "Python 3",
   "language": "python",
   "name": "python3"
  },
  "language_info": {
   "codemirror_mode": {
    "name": "ipython",
    "version": 3
   },
   "file_extension": ".py",
   "mimetype": "text/x-python",
   "name": "python",
   "nbconvert_exporter": "python",
   "pygments_lexer": "ipython3",
   "version": "3.6.5"
  },
  "toc": {
   "colors": {
    "hover_highlight": "#DAA520",
    "running_highlight": "#FF0000",
    "selected_highlight": "#FFD700"
   },
   "moveMenuLeft": true,
   "nav_menu": {
    "height": "12px",
    "width": "252px"
   },
   "navigate_menu": true,
   "number_sections": true,
   "sideBar": true,
   "threshold": 4,
   "toc_cell": false,
   "toc_section_display": "block",
   "toc_window_display": false
  }
 },
 "nbformat": 4,
 "nbformat_minor": 2
}
