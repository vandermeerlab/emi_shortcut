{
 "cells": [
  {
   "cell_type": "code",
   "execution_count": null,
   "metadata": {
    "ExecuteTime": {
     "end_time": "2017-03-27T09:26:14.618074",
     "start_time": "2017-03-27T09:26:14.558050"
    },
    "collapsed": true
   },
   "outputs": [],
   "source": [
    "%matplotlib inline\n",
    "import matplotlib.pyplot as plt\n",
    "import numpy as np\n",
    "import nept\n"
   ]
  },
  {
   "cell_type": "code",
   "execution_count": null,
   "metadata": {
    "ExecuteTime": {
     "end_time": "2017-03-27T09:26:13.577387",
     "start_time": "2017-03-27T09:26:12.535632"
    },
    "collapsed": true
   },
   "outputs": [],
   "source": [
    "from run import info"
   ]
  },
  {
   "cell_type": "code",
   "execution_count": null,
   "metadata": {
    "ExecuteTime": {
     "end_time": "2017-03-27T10:46:44.777016",
     "start_time": "2017-03-27T10:46:44.773014"
    },
    "collapsed": false
   },
   "outputs": [],
   "source": [
    "infos = [info.r066d2, info.r066d3, info.r066d4, info.r066d5, info.r066d6, info.r066d7, info.r066d8]"
   ]
  },
  {
   "cell_type": "code",
   "execution_count": null,
   "metadata": {
    "ExecuteTime": {
     "end_time": "2017-03-27T10:55:06.386372",
     "start_time": "2017-03-27T10:55:06.316822"
    },
    "collapsed": true
   },
   "outputs": [],
   "source": [
    "def combine_behavior(infos):\n",
    "    durations = dict(u=[], shortcut=[], novel=[])\n",
    "    n_sessions = 0\n",
    "\n",
    "    trials = []\n",
    "    togethers = []\n",
    "\n",
    "    for info in infos:\n",
    "        print(info.session_id)\n",
    "\n",
    "        events, position, spikes, lfp, lfp_theta = get_data(info)\n",
    "\n",
    "        t_start = info.task_times['phase3'].start\n",
    "        t_stop = info.task_times['phase3'].stop\n",
    "\n",
    "        sliced_pos = position.time_slice(t_start, t_stop)\n",
    "\n",
    "        feeder1_times = []\n",
    "        for feeder1 in events['feeder1']:\n",
    "            if t_start < feeder1 < t_stop:\n",
    "                feeder1_times.append(feeder1)\n",
    "\n",
    "        feeder2_times = []\n",
    "        for feeder2 in events['feeder2']:\n",
    "            if t_start < feeder2 < t_stop:\n",
    "                feeder2_times.append(feeder2)\n",
    "\n",
    "        path_pos = get_zones(info, sliced_pos)\n",
    "\n",
    "        trials_idx = get_trial_idx(path_pos['u'].time, path_pos['shortcut'].time, path_pos['novel'].time,\n",
    "                                   feeder1_times, feeder2_times, t_stop)\n",
    "\n",
    "        trials.append(trials_idx)\n",
    "        \n",
    "        trial_epoch = nept.Epoch([trials_idx['start_trials'], trials_idx['stop_trials']])\n",
    "\n",
    "        n_sessions += 1\n",
    "\n",
    "        for key in durations:\n",
    "            for trial in trials_idx[key]:\n",
    "                durations[key].append(trial_epoch.durations[trial[0]])\n",
    "\n",
    "        for trial in trials:\n",
    "            togethers.append(sorted(trial['u'] + trial['shortcut'] + trial['novel']))\n",
    "\n",
    "    return durations, trials, togethers, n_sessions\n",
    "\n",
    "\n",
    "def bytrial_counts(togethers, min_length):\n",
    "    \"\"\"Finds the behavioral choice by trial for all animals combined.\n",
    "\n",
    "    Parameters\n",
    "    ----------\n",
    "    togethers : list\n",
    "    min_length : int\n",
    "\n",
    "    Returns\n",
    "    -------\n",
    "    means : dict\n",
    "        With u, shortcut, novel as keys\n",
    "    err : dict\n",
    "        With u, shortcut, novel as keys\n",
    "\n",
    "    \"\"\"\n",
    "    bytrial = dict(u=[], shortcut=[], novel=[])\n",
    "    for trial in range(min_length):\n",
    "        for key in bytrial:\n",
    "            bytrial[key].append([])\n",
    "\n",
    "    for session in togethers:\n",
    "        for trial in range(min_length):\n",
    "            for key in bytrial:\n",
    "                if session[trial][1] == key:\n",
    "                    bytrial[key][trial].append(1)\n",
    "                else:\n",
    "                    bytrial[key][trial].append(0)\n",
    "\n",
    "    means = dict(u=[], shortcut=[], novel=[])\n",
    "    err = dict(u=[], shortcut=[], novel=[])\n",
    "    for trial in range(min_length):\n",
    "        for key in bytrial:\n",
    "            means[key].append(np.mean(bytrial[key][trial]))\n",
    "            err[key].append(np.std(bytrial[key][trial]))\n",
    "\n",
    "    return means, err"
   ]
  },
  {
   "cell_type": "code",
   "execution_count": null,
   "metadata": {
    "ExecuteTime": {
     "end_time": "2017-03-27T09:34:54.674609",
     "start_time": "2017-03-27T09:34:54.670607"
    },
    "collapsed": true
   },
   "outputs": [],
   "source": [
    "from loading_data import get_data\n",
    "from utils_maze import get_trial_idx, get_zones\n",
    "import pandas as pd\n",
    "import os\n",
    "from utils_plotting import plot_proportions, plot_durations, plot_bytrial\n",
    "import scipy.stats as stats"
   ]
  },
  {
   "cell_type": "code",
   "execution_count": null,
   "metadata": {
    "ExecuteTime": {
     "end_time": "2017-03-27T09:33:44.144819",
     "start_time": "2017-03-27T09:33:44.141816"
    },
    "collapsed": true
   },
   "outputs": [],
   "source": [
    "output_filepath = 'e:/code/emi_shortcut/plots'"
   ]
  },
  {
   "cell_type": "code",
   "execution_count": null,
   "metadata": {
    "ExecuteTime": {
     "end_time": "2017-03-27T11:05:18.638390",
     "start_time": "2017-03-27T11:04:38.467773"
    },
    "collapsed": false,
    "scrolled": false
   },
   "outputs": [],
   "source": [
    "proportion_filename = 'all-behavior_proportions.png'\n",
    "duration_filename = 'all-behavior_durations.png'\n",
    "bytrial_filename = 'all-behavior_bytrial.png'\n",
    "\n",
    "total_n_sessions = 0\n",
    "\n",
    "durations_together = dict(trajectory=[], value=[])\n",
    "trials_together = dict(trajectory=[], value=[])\n",
    "\n",
    "durations, trials, togethers, n_sessions = combine_behavior(infos)\n",
    "total_n_sessions += n_sessions\n",
    "\n",
    "for key in durations:\n",
    "    for val in durations[key]:\n",
    "        durations_together['trajectory'].append(key)\n",
    "        durations_together['value'].append(val)\n",
    "\n",
    "for key in ['u', 'shortcut', 'novel']:\n",
    "    for trial in trials:\n",
    "        trials_together['trajectory'].append(key)\n",
    "        trials_together['value'].append(len(trial[key])/float(len(trial['start_trials'])))\n",
    "\n",
    "df_durations = pd.DataFrame(data=durations_together)\n",
    "df_trials = pd.DataFrame(data=trials_together)\n",
    "\n",
    "# proportion_savepath = os.path.join(output_filepath, proportion_filename)\n",
    "# plot_proportions(df_trials, proportion_savepath, total_n_sessions, early_late=False, figsize=(8, 5), savefig=False)\n",
    "\n",
    "# duration_savepath = os.path.join(output_filepath, duration_filename)\n",
    "# plot_durations(df_durations, duration_savepath, total_n_sessions, early_late=False, figsize=(8, 5), fliersize=3, savefig=False)\n",
    "\n",
    "min_length = 30\n",
    "means, sems = bytrial_counts(togethers, min_length)\n",
    "\n",
    "bytrial_savepath = os.path.join(output_filepath, bytrial_filename)\n",
    "plot_bytrial(means, sems, total_n_sessions, bytrial_savepath, figsize=(4, 5), savefig=False)"
   ]
  },
  {
   "cell_type": "code",
   "execution_count": null,
   "metadata": {
    "ExecuteTime": {
     "end_time": "2017-03-27T10:54:36.783662",
     "start_time": "2017-03-27T10:54:36.780161"
    },
    "collapsed": true
   },
   "outputs": [],
   "source": [
    "a = np.array([1,2,3,4,5])"
   ]
  },
  {
   "cell_type": "code",
   "execution_count": null,
   "metadata": {
    "ExecuteTime": {
     "end_time": "2017-03-27T10:54:44.904696",
     "start_time": "2017-03-27T10:54:44.900193"
    },
    "collapsed": false
   },
   "outputs": [],
   "source": [
    "a.mean()"
   ]
  },
  {
   "cell_type": "code",
   "execution_count": null,
   "metadata": {
    "ExecuteTime": {
     "end_time": "2017-03-27T10:54:54.256470",
     "start_time": "2017-03-27T10:54:54.252466"
    },
    "collapsed": false
   },
   "outputs": [],
   "source": [
    "a.std()"
   ]
  },
  {
   "cell_type": "code",
   "execution_count": null,
   "metadata": {
    "collapsed": true
   },
   "outputs": [],
   "source": []
  }
 ],
 "metadata": {
  "kernelspec": {
   "display_name": "Python 3",
   "language": "python",
   "name": "python3"
  },
  "language_info": {
   "codemirror_mode": {
    "name": "ipython",
    "version": 3
   },
   "file_extension": ".py",
   "mimetype": "text/x-python",
   "name": "python",
   "nbconvert_exporter": "python",
   "pygments_lexer": "ipython3",
   "version": "3.5.2"
  },
  "toc": {
   "colors": {
    "hover_highlight": "#DAA520",
    "running_highlight": "#FF0000",
    "selected_highlight": "#FFD700"
   },
   "moveMenuLeft": true,
   "nav_menu": {
    "height": "12px",
    "width": "252px"
   },
   "navigate_menu": true,
   "number_sections": true,
   "sideBar": true,
   "threshold": 4,
   "toc_cell": false,
   "toc_section_display": "block",
   "toc_window_display": false
  }
 },
 "nbformat": 4,
 "nbformat_minor": 0
}
