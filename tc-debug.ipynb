{
 "cells": [
  {
   "cell_type": "code",
   "execution_count": null,
   "metadata": {
    "ExecuteTime": {
     "end_time": "2020-10-01T01:39:51.343376Z",
     "start_time": "2020-10-01T01:39:50.388225Z"
    }
   },
   "outputs": [],
   "source": [
    "import cache\n",
    "import meta\n",
    "import meta_session\n",
    "\n",
    "import nept\n",
    "import numpy as np\n",
    "import scipy.stats\n",
    "from shapely.geometry import LineString, Point\n",
    "from shapely.ops import split\n",
    "import matplotlib.pyplot as plt\n",
    "%matplotlib inline"
   ]
  },
  {
   "cell_type": "code",
   "execution_count": null,
   "metadata": {
    "ExecuteTime": {
     "end_time": "2020-10-01T15:01:48.305605Z",
     "start_time": "2020-10-01T15:01:48.289635Z"
    }
   },
   "outputs": [],
   "source": [
    "info = meta_session.r063d2\n",
    "group = \"day1\"\n",
    "\n",
    "def get(key, info=None, group=None):\n",
    "    if info is not None:\n",
    "        return cache.load(f\"ind-{info.session_id}\", key)\n",
    "    return cache.load(f\"grp-{group}\", key)"
   ]
  },
  {
   "cell_type": "code",
   "execution_count": null,
   "metadata": {},
   "outputs": [],
   "source": []
  },
  {
   "cell_type": "code",
   "execution_count": null,
   "metadata": {},
   "outputs": [],
   "source": [
    "task_times = get(\"task_times\", info=info)\n",
    "lines = get(\"lines\", info=info)\n",
    "raw_linear = get(\"raw_linear\", info=info)\n",
    "spikes = get(\"spikes\", info=info)\n",
    "trials = get(\"trials\", info=info)"
   ]
  },
  {
   "cell_type": "code",
   "execution_count": null,
   "metadata": {},
   "outputs": [],
   "source": [
    "# Step 1\n",
    "linear = raw_linear[\"u_with_feeders\"]\n",
    "linear_max = (\n",
    "    lines[\"u_with_feeders\"].project(\n",
    "        Point(*info.path_pts[\"feeder2\"])\n",
    "    )\n",
    "    + meta.feeder_dist\n",
    ")\n",
    "maze_times = task_times[\"maze_times\"]\n",
    "trials = trials[\"u\"]\n",
    "edges = nept.get_edges(\n",
    "    0,\n",
    "    linear_max,\n",
    "    binsize=meta.tc_binsize,\n",
    "    lastbin=False,\n",
    ")\n",
    "speed_limit = meta.speed_limit\n",
    "t_smooth = meta.t_smooth\n",
    "gaussian_std = meta.gaussian_std\n",
    "tuning_spikes = spikes"
   ]
  },
  {
   "cell_type": "code",
   "execution_count": null,
   "metadata": {},
   "outputs": [],
   "source": [
    "# Step 2: restrict to maze times\n",
    "linear = linear[maze_times]\n",
    "tuning_spikes = [\n",
    "    spiketrain.time_slice(maze_times.starts, maze_times.stops)\n",
    "    for spiketrain in tuning_spikes\n",
    "]"
   ]
  },
  {
   "cell_type": "code",
   "execution_count": null,
   "metadata": {},
   "outputs": [],
   "source": [
    "# Step 3: restrict to trials\n",
    "linear = linear[trials]\n",
    "tuning_spikes = [\n",
    "    spiketrain.time_slice(trials.starts, trials.stops)\n",
    "    for spiketrain in tuning_spikes\n",
    "]"
   ]
  },
  {
   "cell_type": "code",
   "execution_count": null,
   "metadata": {},
   "outputs": [],
   "source": [
    "# Step 4: speed treshold\n",
    "run_epoch = nept.run_threshold(linear, thresh=speed_limit, t_smooth=t_smooth)\n",
    "linear = linear[run_epoch]\n",
    "tuning_spikes = [\n",
    "    spiketrain.time_slice(run_epoch.starts, run_epoch.stops)\n",
    "    for spiketrain in tuning_spikes\n",
    "]"
   ]
  },
  {
   "cell_type": "code",
   "execution_count": null,
   "metadata": {},
   "outputs": [],
   "source": [
    "# Step 5: remove inactive neurons\n",
    "min_n_spikes = 50\n",
    "keep_spikes_idx = []\n",
    "tuning_spikes = [spikes for spikes in tuning_spikes if len(spikes.time) > min_n_spikes]"
   ]
  },
  {
   "cell_type": "code",
   "execution_count": null,
   "metadata": {},
   "outputs": [],
   "source": []
  },
  {
   "cell_type": "code",
   "execution_count": null,
   "metadata": {},
   "outputs": [],
   "source": [
    "seconds_shown = 120\n",
    "\n",
    "_, (axtop, axbtm) = plt.subplots(nrows=2, sharex=True, figsize=(12, 10))\n",
    "\n",
    "epoch = nept.Epoch(\n",
    "    trials[0].start, trials[0].start + seconds_shown\n",
    ")\n",
    "axtop.plot(linear[epoch].time, linear[epoch].x, \".\")\n",
    "axbtm.eventplot(\n",
    "    [spike.time_slice(epoch.starts, epoch.stops).time for spike in tuning_spikes],\n",
    "    colors=[\"k\"],\n",
    "    linelengths=0.8,\n",
    "    linewidths=1,\n",
    ")\n",
    "axbtm.set_ylim(len(spikes) - 0.5, -0.5)\n",
    "axbtm.set_xlim(epoch.start, epoch.stop)"
   ]
  }
 ],
 "metadata": {
  "kernelspec": {
   "display_name": "Python 3",
   "language": "python",
   "name": "python3"
  },
  "language_info": {
   "codemirror_mode": {
    "name": "ipython",
    "version": 3
   },
   "file_extension": ".py",
   "mimetype": "text/x-python",
   "name": "python",
   "nbconvert_exporter": "python",
   "pygments_lexer": "ipython3",
   "version": "3.8.2"
  },
  "toc": {
   "colors": {
    "hover_highlight": "#DAA520",
    "running_highlight": "#FF0000",
    "selected_highlight": "#FFD700"
   },
   "moveMenuLeft": true,
   "nav_menu": {
    "height": "11.9792px",
    "width": "251.979px"
   },
   "navigate_menu": true,
   "number_sections": true,
   "sideBar": true,
   "threshold": 4,
   "toc_cell": false,
   "toc_section_display": "block",
   "toc_window_display": false
  },
  "widgets": {
   "state": {},
   "version": "1.1.2"
  }
 },
 "nbformat": 4,
 "nbformat_minor": 4
}
