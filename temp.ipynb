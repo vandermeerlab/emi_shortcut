{
 "cells": [
  {
   "cell_type": "code",
   "execution_count": null,
   "metadata": {
    "ExecuteTime": {
     "end_time": "2020-11-11T21:48:31.482697Z",
     "start_time": "2020-11-11T21:48:31.463709Z"
    }
   },
   "outputs": [],
   "source": [
    "import cache\n",
    "import meta\n",
    "import meta_session\n",
    "\n",
    "import nept\n",
    "import numpy as np\n",
    "import pandas as pd\n",
    "import scipy.stats\n",
    "import scipy.signal\n",
    "from scipy.ndimage import median_filter\n",
    "from shapely.geometry import LineString, Point\n",
    "from shapely.ops import split\n",
    "import statsmodels.api as sm\n",
    "import matplotlib.pyplot as plt\n",
    "from matplotlib.ticker import MaxNLocator\n",
    "\n",
    "from utils import save_ttest_results\n",
    "\n",
    "%matplotlib inline"
   ]
  },
  {
   "cell_type": "code",
   "execution_count": null,
   "metadata": {
    "ExecuteTime": {
     "end_time": "2020-11-11T18:30:16.855573Z",
     "start_time": "2020-11-11T18:30:16.841580Z"
    }
   },
   "outputs": [],
   "source": [
    "info = meta_session.r066d2\n",
    "group = \"combined\"\n",
    "\n",
    "def get(key, info=None, group=None):\n",
    "    if info is not None:\n",
    "        return cache.load(f\"ind-{info.session_id}\", key)\n",
    "    return cache.load(f\"grp-{group}\", key)"
   ]
  },
  {
   "cell_type": "code",
   "execution_count": null,
   "metadata": {
    "ExecuteTime": {
     "end_time": "2020-11-11T21:47:54.581640Z",
     "start_time": "2020-11-11T21:47:54.559653Z"
    }
   },
   "outputs": [],
   "source": [
    "swr_n_byphase = get(\"swr_n_byphase\", group=group)\n",
    "replay_n_byphase = get(\"replay_n_byphase\", group=group)"
   ]
  },
  {
   "cell_type": "code",
   "execution_count": null,
   "metadata": {},
   "outputs": [],
   "source": []
  },
  {
   "cell_type": "code",
   "execution_count": null,
   "metadata": {},
   "outputs": [],
   "source": []
  },
  {
   "cell_type": "code",
   "execution_count": null,
   "metadata": {},
   "outputs": [],
   "source": [
    "############ appear/disappear bybin"
   ]
  },
  {
   "cell_type": "code",
   "execution_count": null,
   "metadata": {
    "ExecuteTime": {
     "end_time": "2020-11-11T18:30:16.919596Z",
     "start_time": "2020-11-11T18:30:16.857571Z"
    }
   },
   "outputs": [],
   "source": [
    "tc_appear_maxpeaks = get(\"tc_appear_maxpeaks\", group=group)"
   ]
  },
  {
   "cell_type": "code",
   "execution_count": null,
   "metadata": {
    "ExecuteTime": {
     "end_time": "2020-11-11T18:32:23.049696Z",
     "start_time": "2020-11-11T18:32:23.040701Z"
    }
   },
   "outputs": [],
   "source": [
    "array = tc_appear_maxpeaks[\"phases12\"]"
   ]
  },
  {
   "cell_type": "code",
   "execution_count": null,
   "metadata": {
    "ExecuteTime": {
     "end_time": "2020-11-11T19:06:28.370523Z",
     "start_time": "2020-11-11T19:06:28.351514Z"
    }
   },
   "outputs": [],
   "source": [
    "landmarks = np.zeros(meta.n_bins)"
   ]
  },
  {
   "cell_type": "code",
   "execution_count": null,
   "metadata": {
    "ExecuteTime": {
     "end_time": "2020-11-11T19:06:37.761525Z",
     "start_time": "2020-11-11T19:06:37.743516Z"
    }
   },
   "outputs": [],
   "source": [
    "meta.std_axvlines[\"u\"]"
   ]
  },
  {
   "cell_type": "code",
   "execution_count": null,
   "metadata": {
    "ExecuteTime": {
     "end_time": "2020-11-11T19:19:44.932592Z",
     "start_time": "2020-11-11T19:19:44.911584Z"
    }
   },
   "outputs": [],
   "source": [
    "n = 1\n",
    "landmark_idx = []\n",
    "for pt in meta.std_axvlines[\"u\"]:\n",
    "    if pt == 0:\n",
    "        landmark_idx.append(list(np.arange(pt, pt+n+1, 1)))\n",
    "    elif 0 < pt < 100:\n",
    "        landmark_idx.append(list(np.arange(pt-n, pt+n+1, 1)))\n",
    "    elif pt == 100:\n",
    "        landmark_idx.append(list(np.arange(pt-n-1, pt, 1)))\n",
    "landmark_idx = np.array([idx for sublist in landmark_idx for idx in sublist])"
   ]
  },
  {
   "cell_type": "code",
   "execution_count": null,
   "metadata": {
    "ExecuteTime": {
     "end_time": "2020-11-11T19:19:45.277213Z",
     "start_time": "2020-11-11T19:19:45.264199Z"
    }
   },
   "outputs": [],
   "source": [
    "landmark_idx"
   ]
  },
  {
   "cell_type": "code",
   "execution_count": null,
   "metadata": {
    "ExecuteTime": {
     "end_time": "2020-11-11T19:19:56.307716Z",
     "start_time": "2020-11-11T19:19:56.287727Z"
    }
   },
   "outputs": [],
   "source": [
    "landmark_idx.size"
   ]
  },
  {
   "cell_type": "code",
   "execution_count": null,
   "metadata": {
    "ExecuteTime": {
     "end_time": "2020-11-11T19:19:47.056758Z",
     "start_time": "2020-11-11T19:19:47.039517Z"
    }
   },
   "outputs": [],
   "source": [
    "array"
   ]
  },
  {
   "cell_type": "code",
   "execution_count": null,
   "metadata": {
    "ExecuteTime": {
     "end_time": "2020-11-11T19:19:47.842096Z",
     "start_time": "2020-11-11T19:19:47.832083Z"
    }
   },
   "outputs": [],
   "source": [
    "array[landmark_idx]"
   ]
  },
  {
   "cell_type": "code",
   "execution_count": null,
   "metadata": {
    "ExecuteTime": {
     "end_time": "2020-11-11T20:47:55.910974Z",
     "start_time": "2020-11-11T20:47:55.904001Z"
    }
   },
   "outputs": [],
   "source": [
    "intersection_idx = [19, 20, 21, 79, 80, 81]\n",
    "turn_idx = [39, 40, 41, 59, 60, 61]\n",
    "end_idx = [0, 1, 98, 99]"
   ]
  },
  {
   "cell_type": "code",
   "execution_count": null,
   "metadata": {},
   "outputs": [],
   "source": [
    "n=10000\n",
    "p=10/19\n",
    "k=0\n",
    "scipy.stats.binom.cdf(k,n,p)"
   ]
  },
  {
   "cell_type": "code",
   "execution_count": null,
   "metadata": {},
   "outputs": [],
   "source": []
  },
  {
   "cell_type": "code",
   "execution_count": null,
   "metadata": {},
   "outputs": [],
   "source": []
  },
  {
   "cell_type": "code",
   "execution_count": null,
   "metadata": {
    "ExecuteTime": {
     "end_time": "2020-11-11T20:48:10.513546Z",
     "start_time": "2020-11-11T20:48:10.495557Z"
    }
   },
   "outputs": [],
   "source": [
    "n = np.sum(array[intersection_idx])        # Number of total bets\n",
    "p = 1/meta.n_bins * landmark_idx.size  # Probability of getting \"red\" at the roulette\n",
    "max_sbets = array.size  # Maximum number of successful bets\n",
    "\n",
    "hh = scipy.stats.binom(n, p)\n",
    "\n",
    "total_p = 0\n",
    "for k in range(1, max_sbets + 1):  # DO NOT FORGET THAT THE LAST INDEX IS NOT USED\n",
    "    total_p += hh.pmf(k)\n",
    "total_p * 2 # times 2 to calculate two-sided probability"
   ]
  },
  {
   "cell_type": "code",
   "execution_count": null,
   "metadata": {
    "ExecuteTime": {
     "end_time": "2020-11-11T20:43:58.674559Z",
     "start_time": "2020-11-11T20:43:58.654551Z"
    }
   },
   "outputs": [],
   "source": [
    "1/100"
   ]
  },
  {
   "cell_type": "code",
   "execution_count": null,
   "metadata": {},
   "outputs": [],
   "source": []
  },
  {
   "cell_type": "code",
   "execution_count": null,
   "metadata": {
    "ExecuteTime": {
     "end_time": "2020-11-11T18:52:40.508521Z",
     "start_time": "2020-11-11T18:52:40.496530Z"
    }
   },
   "outputs": [],
   "source": [
    "n = 15         # Number of total bets\n",
    "p = 18./38     # Probability of getting \"red\" at the roulette\n",
    "max_sbets = 4  # Maximum number of successful bets\n",
    "\n",
    "hh = scipy.stats.binom(n, p)\n",
    "\n",
    "total_p = 0\n",
    "for k in range(1, max_sbets + 1):  # DO NOT FORGET THAT THE LAST INDEX IS NOT USED\n",
    "    total_p += hh.pmf(k)\n",
    "total_p"
   ]
  },
  {
   "cell_type": "code",
   "execution_count": null,
   "metadata": {},
   "outputs": [],
   "source": []
  },
  {
   "cell_type": "code",
   "execution_count": null,
   "metadata": {},
   "outputs": [],
   "source": []
  },
  {
   "cell_type": "code",
   "execution_count": null,
   "metadata": {},
   "outputs": [],
   "source": []
  },
  {
   "cell_type": "code",
   "execution_count": null,
   "metadata": {},
   "outputs": [],
   "source": []
  },
  {
   "cell_type": "code",
   "execution_count": null,
   "metadata": {
    "ExecuteTime": {
     "end_time": "2020-11-11T18:36:13.066828Z",
     "start_time": "2020-11-11T18:36:13.055835Z"
    }
   },
   "outputs": [],
   "source": [
    "######### tc correlation btw phases"
   ]
  },
  {
   "cell_type": "code",
   "execution_count": null,
   "metadata": {
    "ExecuteTime": {
     "end_time": "2020-11-11T18:37:31.112484Z",
     "start_time": "2020-11-11T18:37:31.079522Z"
    }
   },
   "outputs": [],
   "source": [
    "tc_correlations = get(\"tc_correlations\", group=group)"
   ]
  },
  {
   "cell_type": "code",
   "execution_count": null,
   "metadata": {
    "ExecuteTime": {
     "end_time": "2020-11-11T18:37:36.375514Z",
     "start_time": "2020-11-11T18:37:36.367519Z"
    }
   },
   "outputs": [],
   "source": [
    "tc_correlations"
   ]
  },
  {
   "cell_type": "code",
   "execution_count": null,
   "metadata": {
    "ExecuteTime": {
     "end_time": "2020-11-11T18:39:01.524373Z",
     "start_time": "2020-11-11T18:39:01.519375Z"
    }
   },
   "outputs": [],
   "source": [
    "stats, pval = scipy.stats.ranksums(tc_correlations[\"phases12\"], tc_correlations[\"phases23\"])"
   ]
  },
  {
   "cell_type": "code",
   "execution_count": null,
   "metadata": {
    "ExecuteTime": {
     "end_time": "2020-11-11T18:39:05.048499Z",
     "start_time": "2020-11-11T18:39:05.039503Z"
    }
   },
   "outputs": [],
   "source": [
    "pval"
   ]
  },
  {
   "cell_type": "code",
   "execution_count": null,
   "metadata": {
    "ExecuteTime": {
     "end_time": "2020-11-11T18:44:20.321514Z",
     "start_time": "2020-11-11T18:44:20.303506Z"
    }
   },
   "outputs": [],
   "source": [
    "stats"
   ]
  },
  {
   "cell_type": "code",
   "execution_count": null,
   "metadata": {},
   "outputs": [],
   "source": []
  }
 ],
 "metadata": {
  "kernelspec": {
   "display_name": "Python 3",
   "language": "python",
   "name": "python3"
  },
  "language_info": {
   "codemirror_mode": {
    "name": "ipython",
    "version": 3
   },
   "file_extension": ".py",
   "mimetype": "text/x-python",
   "name": "python",
   "nbconvert_exporter": "python",
   "pygments_lexer": "ipython3",
   "version": "3.7.7"
  },
  "toc": {
   "colors": {
    "hover_highlight": "#DAA520",
    "running_highlight": "#FF0000",
    "selected_highlight": "#FFD700"
   },
   "moveMenuLeft": true,
   "nav_menu": {
    "height": "11.9792px",
    "width": "251.979px"
   },
   "navigate_menu": true,
   "number_sections": true,
   "sideBar": true,
   "threshold": 4,
   "toc_cell": false,
   "toc_section_display": "block",
   "toc_window_display": false
  },
  "widgets": {
   "state": {},
   "version": "1.1.2"
  }
 },
 "nbformat": 4,
 "nbformat_minor": 4
}
