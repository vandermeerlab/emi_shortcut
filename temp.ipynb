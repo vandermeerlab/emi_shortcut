{
 "cells": [
  {
   "cell_type": "code",
   "execution_count": 1,
   "metadata": {
    "ExecuteTime": {
     "end_time": "2020-11-03T04:32:40.491178Z",
     "start_time": "2020-11-03T04:32:37.827332Z"
    }
   },
   "outputs": [],
   "source": [
    "import cache\n",
    "import meta\n",
    "import meta_session\n",
    "\n",
    "import nept\n",
    "import numpy as np\n",
    "import pandas as pd\n",
    "import scipy.stats\n",
    "import scipy.signal\n",
    "from shapely.geometry import LineString, Point\n",
    "from shapely.ops import split\n",
    "import statsmodels.api as sm\n",
    "import matplotlib.pyplot as plt\n",
    "\n",
    "from utils import save_ttest_results\n",
    "\n",
    "%matplotlib inline"
   ]
  },
  {
   "cell_type": "code",
   "execution_count": 2,
   "metadata": {
    "ExecuteTime": {
     "end_time": "2020-11-03T04:32:40.507169Z",
     "start_time": "2020-11-03T04:32:40.493194Z"
    }
   },
   "outputs": [],
   "source": [
    "info = meta_session.r063d6\n",
    "group = \"combined\"\n",
    "\n",
    "def get(key, info=None, group=None):\n",
    "    if info is not None:\n",
    "        return cache.load(f\"ind-{info.session_id}\", key)\n",
    "    return cache.load(f\"grp-{group}\", key)"
   ]
  },
  {
   "cell_type": "code",
   "execution_count": 118,
   "metadata": {
    "ExecuteTime": {
     "end_time": "2020-11-03T18:58:23.593514Z",
     "start_time": "2020-11-03T18:58:23.573524Z"
    }
   },
   "outputs": [],
   "source": [
    "position_byzone = get(\"position_byzone\", info=info)\n",
    "replays_byphase = get(\"replays_byphase\", info=info)\n",
    "task_times = get(\"task_times\", info=info)\n",
    "swrs_byphase = get(\"swrs_byphase\", info=info)\n",
    "swrs_byphase_feederonly = get(\"swrs_byphase_feederonly\", info=info)\n",
    "replays_byphase_feederonly = get(\"replays_byphase_feederonly\", info=info)\n",
    "replay_n_byexperience_feederonly = get(\"replay_n_byexperience_feederonly\", group=group)\n",
    "replay_proportions_byexperience_feederonly = get(\"replay_proportions_byexperience_feederonly\", group=group)"
   ]
  },
  {
   "cell_type": "code",
   "execution_count": 121,
   "metadata": {
    "ExecuteTime": {
     "end_time": "2020-11-03T21:24:45.251722Z",
     "start_time": "2020-11-03T21:24:45.234730Z"
    }
   },
   "outputs": [
    {
     "data": {
      "text/plain": [
       "{'u': {'familiar_phase12': 47,\n",
       "  'first_shortcut': 1,\n",
       "  'shortcut_phase3': 96,\n",
       "  'familiar_phase3': 21},\n",
       " 'full_shortcut': {'familiar_phase12': 47,\n",
       "  'first_shortcut': 2,\n",
       "  'shortcut_phase3': 98,\n",
       "  'familiar_phase3': 29},\n",
       " 'only_u': {'familiar_phase12': 37,\n",
       "  'first_shortcut': 1,\n",
       "  'shortcut_phase3': 69,\n",
       "  'familiar_phase3': 15},\n",
       " 'only_full_shortcut': {'familiar_phase12': 37,\n",
       "  'first_shortcut': 2,\n",
       "  'shortcut_phase3': 71,\n",
       "  'familiar_phase3': 23},\n",
       " 'both': {'familiar_phase12': 10,\n",
       "  'first_shortcut': 0,\n",
       "  'shortcut_phase3': 27,\n",
       "  'familiar_phase3': 6}}"
      ]
     },
     "execution_count": 121,
     "metadata": {},
     "output_type": "execute_result"
    }
   ],
   "source": [
    "replay_n_byexperience_feederonly"
   ]
  },
  {
   "cell_type": "code",
   "execution_count": 119,
   "metadata": {
    "ExecuteTime": {
     "end_time": "2020-11-03T18:58:23.987522Z",
     "start_time": "2020-11-03T18:58:23.973530Z"
    }
   },
   "outputs": [
    {
     "data": {
      "text/plain": [
       "{'u': {'familiar_phase12': 47,\n",
       "  'first_shortcut': 1,\n",
       "  'shortcut_phase3': 96,\n",
       "  'familiar_phase3': 21},\n",
       " 'full_shortcut': {'familiar_phase12': 47,\n",
       "  'first_shortcut': 2,\n",
       "  'shortcut_phase3': 98,\n",
       "  'familiar_phase3': 29},\n",
       " 'only_u': {'familiar_phase12': 37,\n",
       "  'first_shortcut': 1,\n",
       "  'shortcut_phase3': 69,\n",
       "  'familiar_phase3': 15},\n",
       " 'only_full_shortcut': {'familiar_phase12': 37,\n",
       "  'first_shortcut': 2,\n",
       "  'shortcut_phase3': 71,\n",
       "  'familiar_phase3': 23},\n",
       " 'both': {'familiar_phase12': 10,\n",
       "  'first_shortcut': 0,\n",
       "  'shortcut_phase3': 27,\n",
       "  'familiar_phase3': 6}}"
      ]
     },
     "execution_count": 119,
     "metadata": {},
     "output_type": "execute_result"
    }
   ],
   "source": [
    "replay_n_byexperience_feederonly"
   ]
  },
  {
   "cell_type": "code",
   "execution_count": 116,
   "metadata": {
    "ExecuteTime": {
     "end_time": "2020-11-03T18:57:33.400150Z",
     "start_time": "2020-11-03T18:57:33.389176Z"
    }
   },
   "outputs": [
    {
     "data": {
      "text/plain": [
       "{'u': {'familiar_phase12': 0.14826498422712933,\n",
       "  'first_shortcut': 0.058823529411764705,\n",
       "  'shortcut_phase3': 0.17391304347826086,\n",
       "  'familiar_phase3': 0.1390728476821192},\n",
       " 'full_shortcut': {'familiar_phase12': 0.14826498422712933,\n",
       "  'first_shortcut': 0.11764705882352941,\n",
       "  'shortcut_phase3': 0.17753623188405798,\n",
       "  'familiar_phase3': 0.19205298013245034},\n",
       " 'only_u': {'familiar_phase12': 0.1167192429022082,\n",
       "  'first_shortcut': 0.058823529411764705,\n",
       "  'shortcut_phase3': 0.125,\n",
       "  'familiar_phase3': 0.09933774834437085},\n",
       " 'only_full_shortcut': {'familiar_phase12': 0.1167192429022082,\n",
       "  'first_shortcut': 0.11764705882352941,\n",
       "  'shortcut_phase3': 0.1286231884057971,\n",
       "  'familiar_phase3': 0.152317880794702},\n",
       " 'both': {'familiar_phase12': 0.031545741324921134,\n",
       "  'first_shortcut': 0.0,\n",
       "  'shortcut_phase3': 0.04891304347826087,\n",
       "  'familiar_phase3': 0.039735099337748346},\n",
       " 'difference': {'familiar_phase12': 0.0,\n",
       "  'first_shortcut': 0.058823529411764705,\n",
       "  'shortcut_phase3': 0.00362318840579709,\n",
       "  'familiar_phase3': 0.05298013245033113},\n",
       " 'contrast': {'familiar_phase12': 0.0,\n",
       "  'first_shortcut': 0.33333333333333337,\n",
       "  'shortcut_phase3': 0.014285714285714238,\n",
       "  'familiar_phase3': 0.2105263157894737}}"
      ]
     },
     "execution_count": 116,
     "metadata": {},
     "output_type": "execute_result"
    }
   ],
   "source": [
    "replay_proportions_byexperience_feederonly"
   ]
  },
  {
   "cell_type": "code",
   "execution_count": 114,
   "metadata": {
    "ExecuteTime": {
     "end_time": "2020-11-03T18:54:50.758460Z",
     "start_time": "2020-11-03T18:54:50.739471Z"
    }
   },
   "outputs": [
    {
     "data": {
      "text/plain": [
       "dict_keys(['u', 'full_shortcut', 'only_u', 'only_full_shortcut', 'both'])"
      ]
     },
     "execution_count": 114,
     "metadata": {},
     "output_type": "execute_result"
    }
   ],
   "source": [
    "replays_byphase.keys()"
   ]
  },
  {
   "cell_type": "code",
   "execution_count": null,
   "metadata": {},
   "outputs": [],
   "source": []
  },
  {
   "cell_type": "code",
   "execution_count": 100,
   "metadata": {
    "ExecuteTime": {
     "end_time": "2020-11-03T16:50:40.013585Z",
     "start_time": "2020-11-03T16:50:39.991578Z"
    }
   },
   "outputs": [],
   "source": [
    "replays_byphase_feederonly = get(\"replays_byphase_feederonly\", info=info)"
   ]
  },
  {
   "cell_type": "code",
   "execution_count": 103,
   "metadata": {
    "ExecuteTime": {
     "end_time": "2020-11-03T16:58:56.180060Z",
     "start_time": "2020-11-03T16:58:56.174065Z"
    }
   },
   "outputs": [
    {
     "data": {
      "text/plain": [
       "3"
      ]
     },
     "execution_count": 103,
     "metadata": {},
     "output_type": "execute_result"
    }
   ],
   "source": [
    "replays_byphase_feederonly[\"full_shortcut\"][\"phase3\"].n_epochs"
   ]
  },
  {
   "cell_type": "code",
   "execution_count": 102,
   "metadata": {
    "ExecuteTime": {
     "end_time": "2020-11-03T16:50:53.557628Z",
     "start_time": "2020-11-03T16:50:53.535622Z"
    }
   },
   "outputs": [
    {
     "data": {
      "text/plain": [
       "{'u': {'prerecord': <nept.core.epoch.Epoch at 0x1b1b5854f48>,\n",
       "  'phase1': <nept.core.epoch.Epoch at 0x1b1b5854d48>,\n",
       "  'pauseA': <nept.core.epoch.Epoch at 0x1b1b5830588>,\n",
       "  'phase2': <nept.core.epoch.Epoch at 0x1b1b683c808>,\n",
       "  'pauseB': <nept.core.epoch.Epoch at 0x1b1b683c9c8>,\n",
       "  'phase3': <nept.core.epoch.Epoch at 0x1b1b683ccc8>,\n",
       "  'postrecord': <nept.core.epoch.Epoch at 0x1b1b683c388>},\n",
       " 'full_shortcut': {'prerecord': <nept.core.epoch.Epoch at 0x1b1b683b988>,\n",
       "  'phase1': <nept.core.epoch.Epoch at 0x1b1b683b348>,\n",
       "  'pauseA': <nept.core.epoch.Epoch at 0x1b1b683b4c8>,\n",
       "  'phase2': <nept.core.epoch.Epoch at 0x1b1b683bdc8>,\n",
       "  'pauseB': <nept.core.epoch.Epoch at 0x1b1b683bb08>,\n",
       "  'phase3': <nept.core.epoch.Epoch at 0x1b1b683b708>,\n",
       "  'postrecord': <nept.core.epoch.Epoch at 0x1b1b683bf48>},\n",
       " 'only_u': {'prerecord': <nept.core.epoch.Epoch at 0x1b1b683bc48>,\n",
       "  'phase1': <nept.core.epoch.Epoch at 0x1b1b683bbc8>,\n",
       "  'pauseA': <nept.core.epoch.Epoch at 0x1b1b683bb48>,\n",
       "  'phase2': <nept.core.epoch.Epoch at 0x1b1b683b7c8>,\n",
       "  'pauseB': <nept.core.epoch.Epoch at 0x1b1b683bac8>,\n",
       "  'phase3': <nept.core.epoch.Epoch at 0x1b1b683ba08>,\n",
       "  'postrecord': <nept.core.epoch.Epoch at 0x1b1b683b508>},\n",
       " 'only_full_shortcut': {'prerecord': <nept.core.epoch.Epoch at 0x1b1b683b048>,\n",
       "  'phase1': <nept.core.epoch.Epoch at 0x1b1b683b908>,\n",
       "  'pauseA': <nept.core.epoch.Epoch at 0x1b1b683b8c8>,\n",
       "  'phase2': <nept.core.epoch.Epoch at 0x1b1b683b9c8>,\n",
       "  'pauseB': <nept.core.epoch.Epoch at 0x1b1b683b6c8>,\n",
       "  'phase3': <nept.core.epoch.Epoch at 0x1b1b683b808>,\n",
       "  'postrecord': <nept.core.epoch.Epoch at 0x1b1b683b5c8>},\n",
       " 'both': {'prerecord': <nept.core.epoch.Epoch at 0x1b1b683b188>,\n",
       "  'phase1': <nept.core.epoch.Epoch at 0x1b1b683b408>,\n",
       "  'pauseA': <nept.core.epoch.Epoch at 0x1b1b683b748>,\n",
       "  'phase2': <nept.core.epoch.Epoch at 0x1b1b683bb88>,\n",
       "  'pauseB': <nept.core.epoch.Epoch at 0x1b1b683bcc8>,\n",
       "  'phase3': <nept.core.epoch.Epoch at 0x1b1b683b1c8>,\n",
       "  'postrecord': <nept.core.epoch.Epoch at 0x1b1b683b288>}}"
      ]
     },
     "execution_count": 102,
     "metadata": {},
     "output_type": "execute_result"
    }
   ],
   "source": [
    "replays_byphase"
   ]
  },
  {
   "cell_type": "code",
   "execution_count": 36,
   "metadata": {
    "ExecuteTime": {
     "end_time": "2020-11-03T16:10:35.022003Z",
     "start_time": "2020-11-03T16:10:35.015986Z"
    }
   },
   "outputs": [
    {
     "data": {
      "text/plain": [
       "array([7111.510146, 7179.519146, 7215.224896, 7305.988146, 7555.133146,\n",
       "       7615.182646, 7875.802146, 7990.097646, 8242.951396, 8256.684896,\n",
       "       8263.660146, 8356.501646, 8686.449896, 8791.817646, 8818.667396,\n",
       "       9039.863396, 9083.460896, 9177.106146, 9216.514396, 9557.821896])"
      ]
     },
     "execution_count": 36,
     "metadata": {},
     "output_type": "execute_result"
    }
   ],
   "source": [
    "replays_centers = replays.centers\n",
    "replays_centers"
   ]
  },
  {
   "cell_type": "code",
   "execution_count": 23,
   "metadata": {
    "ExecuteTime": {
     "end_time": "2020-11-03T16:08:12.579387Z",
     "start_time": "2020-11-03T16:08:12.560379Z"
    }
   },
   "outputs": [
    {
     "data": {
      "text/plain": [
       "<nept.core.position.Position at 0x1b1aa7c16c8>"
      ]
     },
     "execution_count": 23,
     "metadata": {},
     "output_type": "execute_result"
    }
   ],
   "source": [
    "position_byzone[\"u_feeder1\"]"
   ]
  },
  {
   "cell_type": "code",
   "execution_count": 94,
   "metadata": {
    "ExecuteTime": {
     "end_time": "2020-11-03T16:45:10.414681Z",
     "start_time": "2020-11-03T16:45:10.351690Z"
    }
   },
   "outputs": [],
   "source": [
    "replays_infeeders = {trajectory: {phase: [] for phase in meta.run_times} for trajectory in meta.trajectories}\n",
    "for trajectory in meta.trajectories:\n",
    "    for phase in meta.run_times:\n",
    "        starts = []\n",
    "        stops = []\n",
    "        for replay in replays_byphase[trajectory][phase]:\n",
    "            for feeder in [\"u_feeder1\", \"u_feeder2\", \"full_shortcut_feeder1\", \"full_shortcut_feeder2\"]:\n",
    "                feeder_time = position_byzone[feeder].time\n",
    "                if replay.starts not in starts:\n",
    "                    if np.allclose(replay.centers, feeder_time[nept.find_nearest_idx(position_byzone[feeder].time, replay.centers)]):\n",
    "                        starts.append(replay.start)\n",
    "                        stops.append(replay.stop)\n",
    "        if len(starts) > 0:\n",
    "            replays_infeeders[trajectory][phase] = nept.Epoch(starts, stops)\n",
    "        else:\n",
    "            replays_infeeders[trajectory][phase] = nept.Epoch([], [])"
   ]
  },
  {
   "cell_type": "code",
   "execution_count": 97,
   "metadata": {
    "ExecuteTime": {
     "end_time": "2020-11-03T16:45:22.733679Z",
     "start_time": "2020-11-03T16:45:22.719687Z"
    }
   },
   "outputs": [
    {
     "data": {
      "text/plain": [
       "array([], dtype=float64)"
      ]
     },
     "execution_count": 97,
     "metadata": {},
     "output_type": "execute_result"
    }
   ],
   "source": [
    "replays_infeeders[\"u\"][\"phase1\"].starts"
   ]
  },
  {
   "cell_type": "code",
   "execution_count": null,
   "metadata": {},
   "outputs": [],
   "source": []
  },
  {
   "cell_type": "code",
   "execution_count": 90,
   "metadata": {
    "ExecuteTime": {
     "end_time": "2020-11-03T16:44:31.054715Z",
     "start_time": "2020-11-03T16:44:31.048700Z"
    }
   },
   "outputs": [
    {
     "data": {
      "text/plain": [
       "<nept.core.epoch.Epoch at 0x1b1b6845148>"
      ]
     },
     "execution_count": 90,
     "metadata": {},
     "output_type": "execute_result"
    }
   ],
   "source": [
    "nept.Epoch([], [])"
   ]
  },
  {
   "cell_type": "code",
   "execution_count": null,
   "metadata": {},
   "outputs": [],
   "source": []
  }
 ],
 "metadata": {
  "kernelspec": {
   "display_name": "Python 3",
   "language": "python",
   "name": "python3"
  },
  "language_info": {
   "codemirror_mode": {
    "name": "ipython",
    "version": 3
   },
   "file_extension": ".py",
   "mimetype": "text/x-python",
   "name": "python",
   "nbconvert_exporter": "python",
   "pygments_lexer": "ipython3",
   "version": "3.7.7"
  },
  "toc": {
   "colors": {
    "hover_highlight": "#DAA520",
    "running_highlight": "#FF0000",
    "selected_highlight": "#FFD700"
   },
   "moveMenuLeft": true,
   "nav_menu": {
    "height": "11.9792px",
    "width": "251.979px"
   },
   "navigate_menu": true,
   "number_sections": true,
   "sideBar": true,
   "threshold": 4,
   "toc_cell": false,
   "toc_section_display": "block",
   "toc_window_display": false
  },
  "widgets": {
   "state": {},
   "version": "1.1.2"
  }
 },
 "nbformat": 4,
 "nbformat_minor": 4
}
