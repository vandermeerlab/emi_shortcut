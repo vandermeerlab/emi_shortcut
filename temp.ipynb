{
 "cells": [
  {
   "cell_type": "code",
   "execution_count": 1,
   "metadata": {
    "ExecuteTime": {
     "end_time": "2020-10-30T15:35:40.838067Z",
     "start_time": "2020-10-30T15:35:38.177365Z"
    }
   },
   "outputs": [],
   "source": [
    "import cache\n",
    "import meta\n",
    "import meta_session\n",
    "\n",
    "import nept\n",
    "import numpy as np\n",
    "import pandas as pd\n",
    "import scipy.stats\n",
    "import scipy.signal\n",
    "from shapely.geometry import LineString, Point\n",
    "from shapely.ops import split\n",
    "import statsmodels.api as sm\n",
    "import matplotlib.pyplot as plt\n",
    "\n",
    "from utils import save_ttest_results\n",
    "\n",
    "%matplotlib inline"
   ]
  },
  {
   "cell_type": "code",
   "execution_count": 2,
   "metadata": {
    "ExecuteTime": {
     "end_time": "2020-10-30T15:35:40.854052Z",
     "start_time": "2020-10-30T15:35:40.840041Z"
    }
   },
   "outputs": [],
   "source": [
    "info = meta_session.r063d6\n",
    "group = \"combined\"\n",
    "\n",
    "def get(key, info=None, group=None):\n",
    "    if info is not None:\n",
    "        return cache.load(f\"ind-{info.session_id}\", key)\n",
    "    return cache.load(f\"grp-{group}\", key)"
   ]
  },
  {
   "cell_type": "code",
   "execution_count": 5,
   "metadata": {
    "ExecuteTime": {
     "end_time": "2020-10-30T15:36:25.716655Z",
     "start_time": "2020-10-30T15:36:25.704642Z"
    }
   },
   "outputs": [],
   "source": [
    "swr_rate_byphase_restonly = get(\"swr_rate_byphase_restonly\", group=group)"
   ]
  },
  {
   "cell_type": "code",
   "execution_count": 6,
   "metadata": {
    "ExecuteTime": {
     "end_time": "2020-10-30T15:36:25.952703Z",
     "start_time": "2020-10-30T15:36:25.937244Z"
    },
    "scrolled": false
   },
   "outputs": [
    {
     "data": {
      "text/plain": [
       "{'prerecord': [0.1244719769081249,\n",
       "  0.04888990866719722,\n",
       "  0.1423433978052302,\n",
       "  0.12372936812786428,\n",
       "  0.015794622024388902,\n",
       "  0.22076995139528652,\n",
       "  0.23554846380199235,\n",
       "  0.054625337917307525,\n",
       "  0.09499156111933894,\n",
       "  0.12554328151600996,\n",
       "  0.2121594659544107,\n",
       "  0.1884777265235031,\n",
       "  0.18624152349462952,\n",
       "  0.09508165964732618,\n",
       "  0.07896415741575524,\n",
       "  0.16767117929306258,\n",
       "  0.10211358646564933,\n",
       "  0.07973280093835004,\n",
       "  0.077526455529161,\n",
       "  0.09489153904678499,\n",
       "  0.05793203229875594,\n",
       "  0.12307723361025104,\n",
       "  0.07421676212142118,\n",
       "  0.16041355721349973,\n",
       "  0.10486255148928227,\n",
       "  0.1328312628915158,\n",
       "  0.1242709240633338],\n",
       " 'phase1': [0.03547786911367943,\n",
       "  0.060534663130114956,\n",
       "  0.0275843216508442,\n",
       "  0.043157947941181864,\n",
       "  0.0,\n",
       "  0.06083543107418651,\n",
       "  0.15316647434346742,\n",
       "  0.02172319379608843,\n",
       "  0.019857742902814987,\n",
       "  0.018341636194636992,\n",
       "  0.03311699984355581,\n",
       "  0.031966705525394,\n",
       "  0.02562326762155204,\n",
       "  0.0,\n",
       "  0.013249179316022599,\n",
       "  0.10577788570570124,\n",
       "  0.0,\n",
       "  0.03688530795662965,\n",
       "  0.0,\n",
       "  0.06786400602889808,\n",
       "  0.020471901905197362,\n",
       "  0.05744384071127458,\n",
       "  0.026300980810258764,\n",
       "  0.10831873221723913,\n",
       "  0.02527530206545102,\n",
       "  0.07825476025010827,\n",
       "  0.09250114588363946],\n",
       " 'pauseA': [0.26319540239041467,\n",
       "  0.08649386604963401,\n",
       "  0.09922970625162135,\n",
       "  0.2955299238911352,\n",
       "  0.016998360202188242,\n",
       "  0.45652995666964313,\n",
       "  0.1993348537646769,\n",
       "  0.08194504044471317,\n",
       "  0.1427572807402885,\n",
       "  0.1855094335359956,\n",
       "  0.14029840854183442,\n",
       "  0.08430392174994304,\n",
       "  0.10078037469094543,\n",
       "  0.16898271644279306,\n",
       "  0.11477260426714467,\n",
       "  0.5317195392119008,\n",
       "  0.06295903035546024,\n",
       "  0.14338502506869438,\n",
       "  0.10516539614248345,\n",
       "  0.04970626332222678,\n",
       "  0.5875845442349329,\n",
       "  0.15620564003894086,\n",
       "  0.08058394643980615,\n",
       "  0.2184604031396279,\n",
       "  0.04087869458379222,\n",
       "  0.18500032874557495,\n",
       "  0.21594779741790804],\n",
       " 'phase2': [0.11590974099882326,\n",
       "  0.09822970137493,\n",
       "  0.021754554413861912,\n",
       "  0.05732273725719582,\n",
       "  0.0,\n",
       "  0.1185123611429625,\n",
       "  0.19716756123231732,\n",
       "  0.15249668088795681,\n",
       "  0.0806291827320824,\n",
       "  0.10847259949594809,\n",
       "  0.029336778691563065,\n",
       "  0.09279970613616739,\n",
       "  0.13849951340200417,\n",
       "  0.11486273972253942,\n",
       "  0.0394647362306768,\n",
       "  0.09950727084204435,\n",
       "  0.06400923125770525,\n",
       "  0.06651463448335691,\n",
       "  0.0625017642099531,\n",
       "  0.18868079460154485,\n",
       "  0.11058536453274861,\n",
       "  0.09151924376446036,\n",
       "  0.049184996872747556,\n",
       "  0.0891146426322375,\n",
       "  0.10494021523299285,\n",
       "  0.10572267117457972,\n",
       "  0.20096734618028425],\n",
       " 'pauseB': [0.2621087599537665,\n",
       "  0.34746717168974717,\n",
       "  0.21565838829906903,\n",
       "  0.3101737008933551,\n",
       "  0.06196077985902975,\n",
       "  0.4728991934157366,\n",
       "  0.4612771747560523,\n",
       "  0.2577096044043386,\n",
       "  0.15208640184237743,\n",
       "  0.2211769765458545,\n",
       "  0.08087326302427342,\n",
       "  0.23096179955405616,\n",
       "  0.1611732492551303,\n",
       "  0.2985767886277014,\n",
       "  0.162478246153997,\n",
       "  0.26138200064176415,\n",
       "  0.07684824102223624,\n",
       "  0.16994900662165224,\n",
       "  0.14844758464233826,\n",
       "  0.39419067872016295,\n",
       "  0.08456244545797868,\n",
       "  0.06650772318441407,\n",
       "  0.10184548526723247,\n",
       "  0.1520032141978591,\n",
       "  0.09521383233548701,\n",
       "  0.20010705188526545,\n",
       "  0.19136058425459776],\n",
       " 'phase3': [0.13642147749059938,\n",
       "  0.07343004734498704,\n",
       "  0.06919695892818736,\n",
       "  0.028713512877781046,\n",
       "  0.04155191004125231,\n",
       "  0.06365511218874094,\n",
       "  0.24005705570579913,\n",
       "  0.18895189426389059,\n",
       "  0.13965544170319638,\n",
       "  0.20926008330776877,\n",
       "  0.10043092385778958,\n",
       "  0.15056002735364818,\n",
       "  0.13413886845905296,\n",
       "  0.11158167834927743,\n",
       "  0.13472600852961766,\n",
       "  0.16272742298714654,\n",
       "  0.11915244884171705,\n",
       "  0.11348818066509318,\n",
       "  0.04586475176413106,\n",
       "  0.18483661289916437,\n",
       "  0.12151149907152245,\n",
       "  0.116358586114646,\n",
       "  0.10735260888440513,\n",
       "  0.1407864270820588,\n",
       "  0.05525511323043563,\n",
       "  0.059049244596636,\n",
       "  0.14482495900723114],\n",
       " 'postrecord': [0.13953232670991594,\n",
       "  0.0777146323363504,\n",
       "  0.4011965154759809,\n",
       "  0.16449572390623327,\n",
       "  0.0,\n",
       "  0.110589264945227,\n",
       "  0.12312924201785082,\n",
       "  0.2623811783602158,\n",
       "  0.09073757941579066,\n",
       "  0.13853345437462625,\n",
       "  0.13244448602612896,\n",
       "  0.297264205676311,\n",
       "  0.20786098603405215,\n",
       "  0.19678789245437112,\n",
       "  0.5340395807832743,\n",
       "  0.32997347362281354,\n",
       "  0.0,\n",
       "  0.14214536077136405,\n",
       "  0.2892421036327221,\n",
       "  0.4022648314539406,\n",
       "  0.20482355443658634,\n",
       "  0.09569800465832022,\n",
       "  0.10241431601682088,\n",
       "  0.11927638832050295,\n",
       "  0.09363301140431284,\n",
       "  0.2494866266903767,\n",
       "  0.1427682586339664]}"
      ]
     },
     "execution_count": 6,
     "metadata": {},
     "output_type": "execute_result"
    }
   ],
   "source": [
    "swr_rate_byphase_restonly"
   ]
  },
  {
   "cell_type": "code",
   "execution_count": null,
   "metadata": {
    "ExecuteTime": {
     "end_time": "2020-10-29T22:32:04.578592Z",
     "start_time": "2020-10-29T22:32:04.565599Z"
    }
   },
   "outputs": [],
   "source": [
    "swr_n_byphase = get(\"swr_n_byphase\", group=group)\n",
    "replay_n_byphase = get(\"replay_n_byphase\", group=group)\n",
    "\n",
    "swr_n_byexperience = get(\"swr_n_byexperience\", group=group)\n",
    "replay_n_byexperience = get(\"replay_n_byexperience\", group=group)"
   ]
  },
  {
   "cell_type": "code",
   "execution_count": null,
   "metadata": {
    "ExecuteTime": {
     "end_time": "2020-10-29T22:32:04.642555Z",
     "start_time": "2020-10-29T22:32:04.596582Z"
    }
   },
   "outputs": [],
   "source": [
    "# replay prop over task time for u and shortcut\n",
    "alpha = 0.05\n",
    "pairs = [(\"pauseA\", \"pauseB\"), (\"prerecord\", \"postrecord\"), (\"phase1\", \"phase2\"), (\"phase2\", \"phase3\")]\n",
    "\n",
    "for trajectory in meta.trajectories:\n",
    "    print(trajectory)\n",
    "    for pair in pairs:\n",
    "        n1 = swr_n_byphase[pair[0]]\n",
    "        p1 = replay_n_byphase[trajectory][pair[0]] / swr_n_byphase[pair[0]]\n",
    "\n",
    "        n2 = swr_n_byphase[pair[1]]\n",
    "        p2 = replay_n_byphase[trajectory][pair[1]] / swr_n_byphase[pair[1]]\n",
    "\n",
    "        population1 = np.random.binomial(1, p1, n1)\n",
    "        population2 = np.random.binomial(1, p2, n2)\n",
    "        t_stat, p_val, n = sm.stats.ttest_ind(population1, population2)\n",
    "        print(pair, p_val, p_val<alpha)"
   ]
  },
  {
   "cell_type": "code",
   "execution_count": null,
   "metadata": {
    "ExecuteTime": {
     "end_time": "2020-10-29T22:32:08.409523Z",
     "start_time": "2020-10-29T22:32:08.355555Z"
    }
   },
   "outputs": [],
   "source": [
    "# replay prop btw u, shortcut for each task_time\n",
    "for task_time in meta.task_times:\n",
    "    n1 = swr_n_byphase[task_time]\n",
    "    p1 = replay_n_byphase[\"u\"][task_time] / swr_n_byphase[task_time]\n",
    "\n",
    "    n2 = swr_n_byphase[task_time]\n",
    "    p2 = replay_n_byphase[\"full_shortcut\"][task_time] / swr_n_byphase[task_time]\n",
    "\n",
    "    population1 = np.random.binomial(1, p1, n1)\n",
    "    population2 = np.random.binomial(1, p2, n2)\n",
    "    t_stat, p_val, n = sm.stats.ttest_ind(population1, population2)\n",
    "    print(task_time, p_val, p_val<alpha)"
   ]
  },
  {
   "cell_type": "code",
   "execution_count": null,
   "metadata": {
    "ExecuteTime": {
     "end_time": "2020-10-29T22:32:08.809299Z",
     "start_time": "2020-10-29T22:32:08.793305Z"
    }
   },
   "outputs": [],
   "source": [
    "# replay prop btw u, shortcut for each experience time\n",
    "for task_time in meta.experiences:\n",
    "    n1 = swr_n_byexperience[task_time]\n",
    "    p1 = replay_n_byexperience[\"only_u\"][task_time] / swr_n_byexperience[task_time]\n",
    "\n",
    "    n2 = swr_n_byexperience[task_time]\n",
    "    p2 = replay_n_byexperience[\"only_full_shortcut\"][task_time] / swr_n_byexperience[task_time]\n",
    "\n",
    "    population1 = np.random.binomial(1, p1, n1)\n",
    "    population2 = np.random.binomial(1, p2, n2)\n",
    "    t_stat, p_val, n = sm.stats.ttest_ind(population1, population2)\n",
    "    print(task_time, p_val, p_val<alpha)"
   ]
  },
  {
   "cell_type": "code",
   "execution_count": null,
   "metadata": {},
   "outputs": [],
   "source": []
  },
  {
   "cell_type": "code",
   "execution_count": null,
   "metadata": {},
   "outputs": [],
   "source": []
  },
  {
   "cell_type": "code",
   "execution_count": null,
   "metadata": {},
   "outputs": [],
   "source": []
  }
 ],
 "metadata": {
  "kernelspec": {
   "display_name": "Python 3",
   "language": "python",
   "name": "python3"
  },
  "language_info": {
   "codemirror_mode": {
    "name": "ipython",
    "version": 3
   },
   "file_extension": ".py",
   "mimetype": "text/x-python",
   "name": "python",
   "nbconvert_exporter": "python",
   "pygments_lexer": "ipython3",
   "version": "3.7.7"
  },
  "toc": {
   "colors": {
    "hover_highlight": "#DAA520",
    "running_highlight": "#FF0000",
    "selected_highlight": "#FFD700"
   },
   "moveMenuLeft": true,
   "nav_menu": {
    "height": "11.9792px",
    "width": "251.979px"
   },
   "navigate_menu": true,
   "number_sections": true,
   "sideBar": true,
   "threshold": 4,
   "toc_cell": false,
   "toc_section_display": "block",
   "toc_window_display": false
  },
  "widgets": {
   "state": {},
   "version": "1.1.2"
  }
 },
 "nbformat": 4,
 "nbformat_minor": 4
}
