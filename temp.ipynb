{
 "cells": [
  {
   "cell_type": "code",
   "execution_count": null,
   "metadata": {
    "ExecuteTime": {
     "end_time": "2020-11-11T05:30:26.197512Z",
     "start_time": "2020-11-11T05:30:23.637633Z"
    }
   },
   "outputs": [],
   "source": [
    "import cache\n",
    "import meta\n",
    "import meta_session\n",
    "\n",
    "import nept\n",
    "import numpy as np\n",
    "import pandas as pd\n",
    "import scipy.stats\n",
    "import scipy.signal\n",
    "from scipy.ndimage import median_filter\n",
    "from shapely.geometry import LineString, Point\n",
    "from shapely.ops import split\n",
    "import statsmodels.api as sm\n",
    "import matplotlib.pyplot as plt\n",
    "from matplotlib.ticker import MaxNLocator\n",
    "\n",
    "from utils import save_ttest_results\n",
    "\n",
    "%matplotlib inline"
   ]
  },
  {
   "cell_type": "code",
   "execution_count": null,
   "metadata": {
    "ExecuteTime": {
     "end_time": "2020-11-11T05:36:04.548655Z",
     "start_time": "2020-11-11T05:36:04.532645Z"
    }
   },
   "outputs": [],
   "source": [
    "info = meta_session.r066d2\n",
    "group = \"combined\"\n",
    "\n",
    "def get(key, info=None, group=None):\n",
    "    if info is not None:\n",
    "        return cache.load(f\"ind-{info.session_id}\", key)\n",
    "    return cache.load(f\"grp-{group}\", key)"
   ]
  },
  {
   "cell_type": "code",
   "execution_count": null,
   "metadata": {
    "ExecuteTime": {
     "end_time": "2020-11-11T05:36:04.999663Z",
     "start_time": "2020-11-11T05:36:04.988650Z"
    }
   },
   "outputs": [],
   "source": [
    "replay_durations = get(\"replay_durations\", group=group)"
   ]
  },
  {
   "cell_type": "code",
   "execution_count": null,
   "metadata": {},
   "outputs": [],
   "source": []
  }
 ],
 "metadata": {
  "kernelspec": {
   "display_name": "Python 3",
   "language": "python",
   "name": "python3"
  },
  "language_info": {
   "codemirror_mode": {
    "name": "ipython",
    "version": 3
   },
   "file_extension": ".py",
   "mimetype": "text/x-python",
   "name": "python",
   "nbconvert_exporter": "python",
   "pygments_lexer": "ipython3",
   "version": "3.7.7"
  },
  "toc": {
   "colors": {
    "hover_highlight": "#DAA520",
    "running_highlight": "#FF0000",
    "selected_highlight": "#FFD700"
   },
   "moveMenuLeft": true,
   "nav_menu": {
    "height": "11.9792px",
    "width": "251.979px"
   },
   "navigate_menu": true,
   "number_sections": true,
   "sideBar": true,
   "threshold": 4,
   "toc_cell": false,
   "toc_section_display": "block",
   "toc_window_display": false
  },
  "widgets": {
   "state": {},
   "version": "1.1.2"
  }
 },
 "nbformat": 4,
 "nbformat_minor": 4
}
