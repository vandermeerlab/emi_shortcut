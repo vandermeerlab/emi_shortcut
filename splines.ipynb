{
 "cells": [
  {
   "cell_type": "code",
   "execution_count": null,
   "metadata": {
    "collapsed": true
   },
   "outputs": [],
   "source": [
    "import matplotlib.pyplot as plt\n",
    "%matplotlib inline\n",
    "import numpy as np\n",
    "from scipy import interpolate"
   ]
  },
  {
   "cell_type": "code",
   "execution_count": null,
   "metadata": {
    "collapsed": false
   },
   "outputs": [],
   "source": [
    "def f0(x, y):\n",
    "    return np.sin(2*np.pi*x)**2 + np.sin(2*np.pi*y)**2\n",
    "\n",
    "grid_xn, grid_yn = np.mgrid[0:1:200j, 0:1:200j]\n",
    "xn = grid_xn[:,0]\n",
    "yn = grid_yn[0,:]\n",
    "z0 = f0(grid_xn, grid_yn)\n",
    "\n",
    "plt.pcolor(grid_xn, grid_yn, z0)\n",
    "plt.colorbar()\n",
    "plt.show()"
   ]
  },
  {
   "cell_type": "code",
   "execution_count": null,
   "metadata": {
    "collapsed": false
   },
   "outputs": [],
   "source": [
    "points = np.random.rand(500, 2)\n",
    "values = f0(points[:, 0], points[:, 1])\n",
    "\n",
    "f = interpolate.NearestNDInterpolator(points, values)\n",
    "zn = f(grid_xn, grid_yn)\n",
    "\n",
    "plt.scatter(points[:, 0], points[:, 1], c=values)\n",
    "plt.colorbar()\n",
    "plt.axis([0,1,0,1])\n",
    "plt.show()"
   ]
  },
  {
   "cell_type": "code",
   "execution_count": null,
   "metadata": {
    "collapsed": false
   },
   "outputs": [],
   "source": [
    "f = interpolate.NearestNDInterpolator(points, values)\n",
    "zn = f(grid_xn, grid_yn)\n",
    "\n",
    "plt.pcolor(grid_xn, grid_yn, zn)\n",
    "plt.colorbar()\n",
    "plt.show()"
   ]
  },
  {
   "cell_type": "code",
   "execution_count": null,
   "metadata": {
    "collapsed": false
   },
   "outputs": [],
   "source": [
    "zn = interpolate.griddata(\n",
    "    points, values, (grid_xn, grid_yn), fill_value=0, method='cubic')\n",
    "\n",
    "plt.pcolor(grid_xn, grid_yn, zn)\n",
    "plt.colorbar()\n",
    "plt.show()"
   ]
  },
  {
   "cell_type": "code",
   "execution_count": null,
   "metadata": {
    "collapsed": true
   },
   "outputs": [],
   "source": []
  }
 ],
 "metadata": {
  "kernelspec": {
   "display_name": "Python 3",
   "language": "python",
   "name": "python3"
  },
  "language_info": {
   "codemirror_mode": {
    "name": "ipython",
    "version": 3
   },
   "file_extension": ".py",
   "mimetype": "text/x-python",
   "name": "python",
   "nbconvert_exporter": "python",
   "pygments_lexer": "ipython3",
   "version": "3.5.2"
  }
 },
 "nbformat": 4,
 "nbformat_minor": 0
}
