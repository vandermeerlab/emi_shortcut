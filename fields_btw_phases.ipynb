{
 "cells": [
  {
   "cell_type": "code",
   "execution_count": null,
   "metadata": {
    "ExecuteTime": {
     "end_time": "2018-07-16T16:25:26.862404Z",
     "start_time": "2018-07-16T16:25:25.892960Z"
    }
   },
   "outputs": [],
   "source": [
    "%matplotlib inline\n",
    "import matplotlib.pyplot as plt\n",
    "import matplotlib\n",
    "import numpy as np\n",
    "import itertools\n",
    "import scipy\n",
    "import os\n",
    "import nept\n",
    "\n",
    "from loading_data import get_data"
   ]
  },
  {
   "cell_type": "code",
   "execution_count": null,
   "metadata": {
    "ExecuteTime": {
     "end_time": "2018-07-16T16:25:26.867400Z",
     "start_time": "2018-07-16T16:25:26.863403Z"
    }
   },
   "outputs": [],
   "source": [
    "thisdir = os.getcwd()\n",
    "pickle_filepath = os.path.join(thisdir, \"cache\", \"pickled\")\n",
    "output_filepath = os.path.join(thisdir, \"plots\", \"phase_fields\")"
   ]
  },
  {
   "cell_type": "code",
   "execution_count": null,
   "metadata": {
    "ExecuteTime": {
     "end_time": "2018-07-16T16:25:27.028308Z",
     "start_time": "2018-07-16T16:25:26.868400Z"
    }
   },
   "outputs": [],
   "source": [
    "from analyze_tc_shifts import get_tuning_curves, get_pearsons_correlation, find_intersection, find_neighbours, plot_tc_corr, compare_correlations"
   ]
  },
  {
   "cell_type": "code",
   "execution_count": null,
   "metadata": {
    "ExecuteTime": {
     "end_time": "2018-07-16T16:25:27.034305Z",
     "start_time": "2018-07-16T16:25:27.029308Z"
    }
   },
   "outputs": [],
   "source": [
    "import info.r067d6 as r067d6\n",
    "import info.r067d7 as r067d7\n",
    "import info.r068d7 as r068d7\n",
    "# infos = [r067d7, r068d7]\n",
    "\n",
    "from run import spike_sorted_infos\n",
    "infos = spike_sorted_infos"
   ]
  },
  {
   "cell_type": "code",
   "execution_count": null,
   "metadata": {
    "ExecuteTime": {
     "end_time": "2018-07-16T16:25:27.044299Z",
     "start_time": "2018-07-16T16:25:27.035304Z"
    }
   },
   "outputs": [],
   "source": [
    "def plot_correlation(correlation, stable_neighbours, novel_neighbours, filepath):\n",
    "    n_colours = 15\n",
    "    colours = [(1., 1., 1.)]\n",
    "    colours.extend(matplotlib.cm.copper_r(np.linspace(0, 1, n_colours-1)))\n",
    "    cmap = matplotlib.colors.ListedColormap(colours)\n",
    "    correlation[np.isnan(correlation)] = -np.nanmax(correlation) / n_colours\n",
    "\n",
    "    plt.imshow(correlation, vmax=1.0, cmap=cmap)\n",
    "    for point in stable_neighbours:\n",
    "        plt.plot(point[0], point[1], 'r.', ms=15)\n",
    "    for point in novel_neighbours:\n",
    "        plt.plot(point[0], point[1], 'b.', ms=15)\n",
    "    plt.colorbar()\n",
    "    plt.tight_layout()\n",
    "    plt.savefig(filepath)\n",
    "    plt.close()\n",
    "#     plt.show()"
   ]
  },
  {
   "cell_type": "code",
   "execution_count": null,
   "metadata": {
    "ExecuteTime": {
     "end_time": "2018-07-16T17:34:08.138657Z",
     "start_time": "2018-07-16T16:25:27.046298Z"
    },
    "scrolled": false
   },
   "outputs": [],
   "source": [
    "for binsize in [4, 6, 8, 10, 12, 14, 16]:\n",
    "    corr_stable12 = []\n",
    "    corr_stable13 = []\n",
    "    corr_stable23 = []\n",
    "\n",
    "    corr_novel12 = []\n",
    "    corr_novel13 = []\n",
    "    corr_novel23 = []\n",
    "\n",
    "    for info in infos:\n",
    "        print(info.session_id)\n",
    "        events, position, spikes, lfp, _ = get_data(info)\n",
    "        xedges, yedges = nept.get_xyedges(position, binsize=binsize)\n",
    "\n",
    "        tc_shape = (len(yedges) - 1, len(xedges) - 1)\n",
    "\n",
    "        shortcut1 = find_intersection(info, \"shortcut1\", xedges, yedges)\n",
    "        shortcut2 = find_intersection(info, \"shortcut2\", xedges, yedges)\n",
    "        novel1 = find_intersection(info, \"novel1\", xedges, yedges)\n",
    "    #     novel2 = find_intersec/tion(info, \"novel2\", xedges, yedges)\n",
    "        stable1 = find_intersection(info, \"stable1\", xedges, yedges)\n",
    "\n",
    "        novel_points = [shortcut1, shortcut2, novel1]\n",
    "        stable_points = [stable1]\n",
    "        novel_neighbours = find_neighbours(tc_shape, novel_points, neighbour_size=2)\n",
    "        stable_neighbours = find_neighbours(tc_shape, stable_points, neighbour_size=2)\n",
    "\n",
    "        corr12 = get_pearsons_correlation(info, \"phase1\", \"phase2\", xedges, yedges, position, spikes)\n",
    "        corr13 = get_pearsons_correlation(info, \"phase1\", \"phase3\", xedges, yedges, position, spikes)\n",
    "        corr23 = get_pearsons_correlation(info, \"phase2\", \"phase3\", xedges, yedges, position, spikes)\n",
    "        corr33 = get_pearsons_correlation(info, \"phase3\", \"phase3\", xedges, yedges, position, spikes)\n",
    "\n",
    "        stable12, novel12 = compare_correlations(corr12, stable_neighbours, novel_neighbours)\n",
    "        stable13, novel13 = compare_correlations(corr13, stable_neighbours, novel_neighbours)\n",
    "        stable23, novel23 = compare_correlations(corr23, stable_neighbours, novel_neighbours)\n",
    "\n",
    "        if not np.isnan(stable12):\n",
    "            corr_stable12.append(stable12)\n",
    "        if not np.isnan(novel12):\n",
    "            corr_novel12.append(novel12)\n",
    "        if not np.isnan(stable13):\n",
    "            corr_stable13.append(stable13)\n",
    "        if not np.isnan(novel13):\n",
    "            corr_novel13.append(novel13)\n",
    "        if not np.isnan(stable23):\n",
    "            corr_stable23.append(stable23)\n",
    "        if not np.isnan(novel23):\n",
    "            corr_novel23.append(novel23)\n",
    "\n",
    "        print(\"phases 1 and 2. Mean correlation for stable:\", stable12, \"compared to novel:\", novel12, \"segments\")\n",
    "        print(\"phases 1 and 3. Mean correlation for stable:\", stable13, \"compared to novel:\", novel13, \"segments\")\n",
    "        print(\"phases 2 and 3. Mean correlation for stable:\", stable23, \"compared to novel:\", novel23, \"segments\")\n",
    "\n",
    "#         filepath = os.path.join(output_filepath, info.session_id + \"_phase-shift12.png\")\n",
    "#         plot_correlation(corr12, stable_neighbours, novel_neighbours, filepath)\n",
    "#         filepath = os.path.join(output_filepath, info.session_id + \"_phase-shift13.png\")\n",
    "#         plot_correlation(corr13, stable_neighbours, novel_neighbours, filepath)\n",
    "#         filepath = os.path.join(output_filepath, info.session_id + \"_phase-shift23.png\")\n",
    "#         plot_correlation(corr23, stable_neighbours, novel_neighbours, filepath)\n",
    "\n",
    "    print([corr_stable12, corr_novel12, corr_stable13, corr_novel13, corr_stable23, corr_novel23])\n",
    "    x = np.arange(6) + 1\n",
    "    plt.boxplot([corr_stable12, corr_novel12, corr_stable13, corr_novel13, corr_stable23, corr_novel23])\n",
    "    labels = [\"stable12\", \"novel12\", \"stable13\", \"novel13\", \"stable23\", \"novel23\"]\n",
    "    plt.xticks(x, labels, rotation='vertical')\n",
    "    filepath = os.path.join(output_filepath, \"Mean correlation_binsize-\"+str(binsize)+\".png\")\n",
    "    plt.tight_layout()\n",
    "    plt.savefig(filepath)\n",
    "    plt.close()\n",
    "    # plt.show()"
   ]
  },
  {
   "cell_type": "code",
   "execution_count": null,
   "metadata": {},
   "outputs": [],
   "source": []
  },
  {
   "cell_type": "code",
   "execution_count": null,
   "metadata": {},
   "outputs": [],
   "source": []
  },
  {
   "cell_type": "code",
   "execution_count": null,
   "metadata": {},
   "outputs": [],
   "source": []
  }
 ],
 "metadata": {
  "kernelspec": {
   "display_name": "Python 3",
   "language": "python",
   "name": "python3"
  },
  "language_info": {
   "codemirror_mode": {
    "name": "ipython",
    "version": 3
   },
   "file_extension": ".py",
   "mimetype": "text/x-python",
   "name": "python",
   "nbconvert_exporter": "python",
   "pygments_lexer": "ipython3",
   "version": "3.6.5"
  },
  "toc": {
   "colors": {
    "hover_highlight": "#DAA520",
    "running_highlight": "#FF0000",
    "selected_highlight": "#FFD700"
   },
   "moveMenuLeft": true,
   "nav_menu": {
    "height": "12px",
    "width": "252px"
   },
   "navigate_menu": true,
   "number_sections": true,
   "sideBar": true,
   "threshold": 4,
   "toc_cell": false,
   "toc_section_display": "block",
   "toc_window_display": false
  }
 },
 "nbformat": 4,
 "nbformat_minor": 2
}
