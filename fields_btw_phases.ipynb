{
 "cells": [
  {
   "cell_type": "code",
   "execution_count": null,
   "metadata": {
    "ExecuteTime": {
     "end_time": "2018-06-26T13:00:12.346654Z",
     "start_time": "2018-06-26T13:00:11.673041Z"
    },
    "collapsed": true
   },
   "outputs": [],
   "source": [
    "%matplotlib inline\n",
    "import matplotlib.pyplot as plt\n",
    "import numpy as np\n",
    "import itertools\n",
    "import scipy\n",
    "import os\n",
    "import nept\n",
    "\n",
    "from loading_data import get_data"
   ]
  },
  {
   "cell_type": "code",
   "execution_count": null,
   "metadata": {
    "ExecuteTime": {
     "end_time": "2018-06-26T13:00:12.352651Z",
     "start_time": "2018-06-26T13:00:12.348653Z"
    },
    "collapsed": true
   },
   "outputs": [],
   "source": [
    "thisdir = os.getcwd()\n",
    "pickle_filepath = os.path.join(thisdir, \"cache\", \"pickled\")\n",
    "output_filepath = os.path.join(thisdir, \"plots\", \"phase_fields\")"
   ]
  },
  {
   "cell_type": "code",
   "execution_count": null,
   "metadata": {
    "ExecuteTime": {
     "end_time": "2018-06-26T13:00:12.702468Z",
     "start_time": "2018-06-26T13:00:12.354651Z"
    },
    "collapsed": true
   },
   "outputs": [],
   "source": [
    "from analyze_tc_shifts import get_tuning_curves, get_pearsons_correlation, find_intersection, find_neighbours, plot_tc_corr, compare_correlations"
   ]
  },
  {
   "cell_type": "code",
   "execution_count": null,
   "metadata": {
    "ExecuteTime": {
     "end_time": "2018-06-26T13:00:12.708448Z",
     "start_time": "2018-06-26T13:00:12.704450Z"
    },
    "collapsed": true
   },
   "outputs": [],
   "source": [
    "import info.r067d6 as r067d6\n",
    "import info.r067d7 as r067d7\n",
    "import info.r068d7 as r068d7"
   ]
  },
  {
   "cell_type": "code",
   "execution_count": null,
   "metadata": {
    "ExecuteTime": {
     "end_time": "2018-06-26T13:00:12.718441Z",
     "start_time": "2018-06-26T13:00:12.710447Z"
    },
    "collapsed": true
   },
   "outputs": [],
   "source": [
    "infos = [r067d7, r068d7]"
   ]
  },
  {
   "cell_type": "code",
   "execution_count": null,
   "metadata": {
    "ExecuteTime": {
     "end_time": "2018-06-26T13:02:50.505220Z",
     "start_time": "2018-06-26T13:00:12.719441Z"
    },
    "scrolled": false
   },
   "outputs": [],
   "source": [
    "corr_stable12 = []\n",
    "corr_stable13 = []\n",
    "corr_stable23 = []\n",
    "\n",
    "corr_novel12 = []\n",
    "corr_novel13 = []\n",
    "corr_novel23 = []\n",
    "\n",
    "for info in infos:\n",
    "    print(info.session_id)\n",
    "    events, position, spikes, lfp, _ = get_data(info)\n",
    "    xedges, yedges = nept.get_xyedges(position, binsize=3)\n",
    "\n",
    "    tc_shape = (len(yedges) - 1, len(xedges) - 1)\n",
    "\n",
    "    shortcut1 = find_intersection(info, \"shortcut1\", xedges, yedges)\n",
    "    shortcut2 = find_intersection(info, \"shortcut2\", xedges, yedges)\n",
    "    novel1 = find_intersection(info, \"novel1\", xedges, yedges)\n",
    "#     novel2 = find_intersec/tion(info, \"novel2\", xedges, yedges)\n",
    "    stable1 = find_intersection(info, \"stable1\", xedges, yedges)\n",
    "\n",
    "    novel_points = [shortcut1, shortcut2, novel1]\n",
    "    stable_points = [stable1]\n",
    "    novel_neighbours = find_neighbours(tc_shape, novel_points, neighbour_size=2)\n",
    "    stable_neighbours = find_neighbours(tc_shape, stable_points, neighbour_size=2)\n",
    "\n",
    "    corr12 = get_pearsons_correlation(info, \"phase1\", \"phase2\", xedges, yedges, position, spikes)\n",
    "    corr13 = get_pearsons_correlation(info, \"phase1\", \"phase3\", xedges, yedges, position, spikes)\n",
    "    corr23 = get_pearsons_correlation(info, \"phase2\", \"phase3\", xedges, yedges, position, spikes)\n",
    "    corr33 = get_pearsons_correlation(info, \"phase3\", \"phase3\", xedges, yedges, position, spikes)\n",
    "\n",
    "    stable12, novel12 = compare_correlations(corr12, stable_neighbours, novel_neighbours)\n",
    "    stable13, novel13 = compare_correlations(corr13, stable_neighbours, novel_neighbours)\n",
    "    stable23, novel23 = compare_correlations(corr23, stable_neighbours, novel_neighbours)\n",
    "\n",
    "    if not np.isnan(stable12):\n",
    "        corr_stable12.append(stable12)\n",
    "    if not np.isnan(novel12):\n",
    "        corr_novel12.append(novel12)\n",
    "    if not np.isnan(stable13):\n",
    "        corr_stable13.append(stable13)\n",
    "    if not np.isnan(novel13):\n",
    "        corr_novel13.append(novel13)\n",
    "    if not np.isnan(stable23):\n",
    "        corr_stable23.append(stable23)\n",
    "    if not np.isnan(novel23):\n",
    "        corr_novel23.append(novel23)\n",
    "\n",
    "    print(\"phases 1 and 2. Average correlation for stable:\", stable12, \"compared to novel:\", novel12, \"segments\")\n",
    "    print(\"phases 1 and 3. Average correlation for stable:\", stable13, \"compared to novel:\", novel13, \"segments\")\n",
    "    print(\"phases 2 and 3. Average correlation for stable:\", stable23, \"compared to novel:\", novel23, \"segments\")\n",
    "    \n",
    "    filepath = None\n",
    "\n",
    "#     filepath = os.path.join(output_filepath, info.session_id + \"_phase-shift12.png\")\n",
    "    plot_tc_corr(corr12, stable_neighbours, novel_neighbours, filepath)\n",
    "\n",
    "#     filepath = os.path.join(output_filepath, info.session_id + \"_phase-shift13.png\")\n",
    "    plot_tc_corr(corr13, stable_neighbours, novel_neighbours, filepath)\n",
    "\n",
    "#     filepath = os.path.join(output_filepath, info.session_id + \"_phase-shift23.png\")\n",
    "    plot_tc_corr(corr23, stable_neighbours, novel_neighbours, filepath)\n",
    "\n",
    "#     filepath = os.path.join(output_filepath, info.session_id + \"_phase-shift33.png\")\n",
    "    plot_tc_corr(corr33, stable_neighbours, novel_neighbours, filepath)\n",
    "\n",
    "print([corr_stable12, corr_novel12, corr_stable13, corr_novel13, corr_stable23, corr_novel23])\n",
    "x = np.arange(6) + 1\n",
    "plt.boxplot([corr_stable12, corr_novel12, corr_stable13, corr_novel13, corr_stable23, corr_novel23])\n",
    "labels = [\"corr_stable12\", \"corr_novel12\", \"corr_stable13\", \"corr_novel13\", \"corr_stable23\", \"corr_novel23\"]\n",
    "plt.xticks(x, labels, rotation='vertical')\n",
    "plt.show()"
   ]
  },
  {
   "cell_type": "code",
   "execution_count": null,
   "metadata": {
    "ExecuteTime": {
     "end_time": "2018-06-26T13:02:50.510218Z",
     "start_time": "2018-06-26T13:02:50.506220Z"
    },
    "collapsed": true
   },
   "outputs": [],
   "source": [
    "# events, position, spikes, lfp, _ = get_data(r067d7)\n",
    "\n",
    "# plt.plot(position.x, position.y, \"k.\", ms=3)\n",
    "# plt.plot(r067d7.path_pts[\"stable1\"][0], r067d7.path_pts[\"stable1\"][1], \"r.\", ms=10)\n",
    "# plt.show()"
   ]
  },
  {
   "cell_type": "code",
   "execution_count": null,
   "metadata": {
    "collapsed": true
   },
   "outputs": [],
   "source": []
  },
  {
   "cell_type": "code",
   "execution_count": null,
   "metadata": {
    "collapsed": true
   },
   "outputs": [],
   "source": []
  },
  {
   "cell_type": "code",
   "execution_count": null,
   "metadata": {},
   "outputs": [],
   "source": [
    "info = r067d7\n",
    "events, position, spikes, lfp, _ = get_data(info)\n",
    "xedges, yedges = nept.get_xyedges(position, binsize=3)\n",
    "phase1 = \"phase1\" \n",
    "phase2 = \"phase2\"\n",
    "\n",
    "tuning_curves1 = get_tuning_curves(info, position, spikes, xedges, yedges, phase=phase1)\n",
    "tuning_curves2 = get_tuning_curves(info, position, spikes, xedges, yedges, phase=phase2)\n",
    "\n",
    "correlation = np.zeros((tuning_curves1.shape[1], tuning_curves1.shape[2]))\n",
    "for ii in range(tuning_curves1.shape[1]):\n",
    "    for jj in range(tuning_curves1.shape[2]):\n",
    "        neurons1_pixel = []\n",
    "        neurons2_pixel = []\n",
    "        for neuron in range(len(tuning_curves1)):\n",
    "            if not (np.isnan(tuning_curves1[neuron][ii][jj]) | np.isnan(tuning_curves2[neuron][ii][jj])):\n",
    "                neurons1_pixel.append(tuning_curves1[neuron][ii][jj])\n",
    "                neurons2_pixel.append(tuning_curves2[neuron][ii][jj])\n",
    "\n",
    "            correlation[ii][jj] = np.corrcoef(neurons1_pixel, neurons2_pixel)[1, 0]\n"
   ]
  },
  {
   "cell_type": "code",
   "execution_count": null,
   "metadata": {},
   "outputs": [],
   "source": [
    "correlation"
   ]
  },
  {
   "cell_type": "code",
   "execution_count": null,
   "metadata": {},
   "outputs": [],
   "source": [
    "tuning_curves2[~np.isnan(tuning_curves2)].shape"
   ]
  },
  {
   "cell_type": "code",
   "execution_count": null,
   "metadata": {},
   "outputs": [],
   "source": [
    "a = np.array([np.nan, 2, 3, 4, np.nan])\n",
    "b = np.array([1, 2, np.nan, 3, np.nan])\n",
    "mask = ~(np.isnan(a) | np.isnan(b))\n",
    "\n",
    "a = a[mask]\n",
    "b = b[mask]\n",
    "\n",
    "correlation = np.zeros(len(a))\n",
    "print(correlation)\n",
    "for i in range(len(a)):\n",
    "    correlation[i] = np.corrcoef(a[i], b[i])[1, 0]\n",
    "    print(correlation)"
   ]
  },
  {
   "cell_type": "code",
   "execution_count": null,
   "metadata": {},
   "outputs": [],
   "source": [
    "t = np.array([1,2,3,4,8,9])\n",
    "y = np.array([2,4,6,8,10,12,13,15])\n",
    "np.corrcoef(t, y)"
   ]
  },
  {
   "cell_type": "code",
   "execution_count": null,
   "metadata": {},
   "outputs": [],
   "source": [
    "a, b"
   ]
  },
  {
   "cell_type": "code",
   "execution_count": null,
   "metadata": {},
   "outputs": [],
   "source": [
    "correlation = np.zeros((tuning_curves1.shape[1], tuning_curves1.shape[2]))\n",
    "for ii in range(tuning_curves1.shape[1]):\n",
    "    for jj in range(tuning_curves1.shape[2]):\n",
    "        neurons1_pixel = []\n",
    "        neurons2_pixel = []\n",
    "        for neuron in range(len(tuning_curves1)):\n",
    "            neurons1_pixel.append(tuning_curves1[neuron][ii][jj])\n",
    "            neurons2_pixel.append(tuning_curves2[neuron][ii][jj])\n",
    "\n",
    "            correlation[ii][jj] = np.corrcoef(neurons1_pixel, neurons2_pixel)[1, 0]"
   ]
  },
  {
   "cell_type": "code",
   "execution_count": null,
   "metadata": {},
   "outputs": [],
   "source": [
    "info = r067d7\n",
    "events, position, spikes, lfp, _ = get_data(info)\n",
    "xedges, yedges = nept.get_xyedges(position, binsize=3)\n",
    "phase1 = \"phase1\" \n",
    "phase2 = \"phase2\"\n",
    "\n",
    "tuning_curves1 = get_tuning_curves(info, position, spikes, xedges, yedges, phase=phase1)\n",
    "tuning_curves2 = get_tuning_curves(info, position, spikes, xedges, yedges, phase=phase2)\n",
    "\n",
    "for neuron in range(len(tuning_curves1)):\n",
    "    num_mask = ~(np.isnan(tuning_curves1[neuron]) | np.isnan(tuning_curves2[neuron]))\n",
    "    neurons1 = tuning_curves1[neuron][num_mask]\n",
    "    neurons2 = tuning_curves2[neuron][num_mask]\n",
    "    corr = np.corrcoef(neurons1, neurons2)[1, 0]"
   ]
  },
  {
   "cell_type": "code",
   "execution_count": null,
   "metadata": {},
   "outputs": [],
   "source": [
    "corr"
   ]
  },
  {
   "cell_type": "code",
   "execution_count": null,
   "metadata": {},
   "outputs": [],
   "source": [
    "correlation = np.zeros(len(tuning_curves1))\n",
    "for i in range(len(tuning_curves1)):\n",
    "    correlation[i] = np.corrcoef(tuning_curves1[i], tuning_curves2[i])[1, 0]"
   ]
  },
  {
   "cell_type": "code",
   "execution_count": null,
   "metadata": {},
   "outputs": [],
   "source": [
    "tuning_curves1.shape"
   ]
  },
  {
   "cell_type": "code",
   "execution_count": null,
   "metadata": {},
   "outputs": [],
   "source": [
    "len(tuning_curves1)"
   ]
  },
  {
   "cell_type": "code",
   "execution_count": null,
   "metadata": {
    "collapsed": true
   },
   "outputs": [],
   "source": []
  },
  {
   "cell_type": "code",
   "execution_count": null,
   "metadata": {
    "collapsed": true
   },
   "outputs": [],
   "source": []
  },
  {
   "cell_type": "code",
   "execution_count": null,
   "metadata": {
    "collapsed": true
   },
   "outputs": [],
   "source": []
  },
  {
   "cell_type": "code",
   "execution_count": null,
   "metadata": {
    "ExecuteTime": {
     "end_time": "2018-06-26T13:02:51.054906Z",
     "start_time": "2018-06-26T13:00:11.700Z"
    },
    "collapsed": true
   },
   "outputs": [],
   "source": [
    "fig, ax = plt.subplots()\n",
    "\n",
    "boxplot = ax.boxplot([corr_stable12, corr_novel12, corr_stable12, corr_novel12, corr_stable12, corr_novel12], \n",
    "                     positions=[1, 2, 4, 5, 7, 8], widths=0.75, patch_artist=True)\n",
    "\n",
    "colours = ['#bf812d', '#35978f', '#bf812d', '#35978f', '#bf812d', '#35978f']\n",
    "for patch, colour in zip(boxplot['boxes'], colours):\n",
    "    patch.set_facecolor(colour)\n",
    "\n",
    "plt.setp(boxplot['medians'], color='k')\n",
    "\n",
    "plt.ylim(0.3, 1.)\n",
    "labels = [\"Phases 1-2\", \"Phases 1-3\", \"Phases 2-3\"]\n",
    "plt.xticks([1.5, 4.5, 7.5], labels)\n",
    "plt.ylabel(\"Mean correlation\")\n",
    "\n",
    "hB, = plt.plot([1, 1], '-', color='#bf812d')\n",
    "hR, = plt.plot([1, 1],'-', color='#35978f')\n",
    "plt.legend((hB, hR), ('Stable segments', 'Novel segments'), bbox_to_anchor=(1., 1.))\n",
    "hB.set_visible(False)\n",
    "hR.set_visible(False)\n",
    "\n",
    "ax.spines['right'].set_visible(False)\n",
    "ax.spines['top'].set_visible(False)\n",
    "ax.yaxis.set_ticks_position('left')\n",
    "ax.xaxis.set_ticks_position('bottom')\n",
    "\n",
    "plt.tight_layout()\n",
    "plt.show()"
   ]
  },
  {
   "cell_type": "code",
   "execution_count": null,
   "metadata": {
    "collapsed": true
   },
   "outputs": [],
   "source": []
  },
  {
   "cell_type": "code",
   "execution_count": null,
   "metadata": {
    "collapsed": true
   },
   "outputs": [],
   "source": []
  },
  {
   "cell_type": "code",
   "execution_count": null,
   "metadata": {
    "ExecuteTime": {
     "end_time": "2018-06-26T13:02:51.056904Z",
     "start_time": "2018-06-26T13:00:11.706Z"
    },
    "collapsed": true
   },
   "outputs": [],
   "source": [
    "info = r067d7\n",
    "\n",
    "events, position, spikes, lfp, lfp_theta = get_data(info)\n",
    "xedges, yedges = nept.get_xyedges(position, binsize=3)\n",
    "\n",
    "tc_shape = (len(yedges) - 1, len(xedges) - 1)"
   ]
  },
  {
   "cell_type": "code",
   "execution_count": null,
   "metadata": {
    "ExecuteTime": {
     "end_time": "2018-06-26T13:02:51.057904Z",
     "start_time": "2018-06-26T13:00:11.709Z"
    },
    "collapsed": true
   },
   "outputs": [],
   "source": [
    "position1 = position.time_slice(info.task_times[\"phase1\"].start, info.task_times[\"phase1\"].stop)\n",
    "position2 = position.time_slice(info.task_times[\"phase2\"].start, info.task_times[\"phase2\"].stop)\n",
    "position3 = position.time_slice(info.task_times[\"phase3\"].start, info.task_times[\"phase3\"].stop)"
   ]
  },
  {
   "cell_type": "code",
   "execution_count": null,
   "metadata": {
    "ExecuteTime": {
     "end_time": "2018-06-26T13:02:51.058904Z",
     "start_time": "2018-06-26T13:00:11.712Z"
    },
    "collapsed": true
   },
   "outputs": [],
   "source": [
    "plt.plot(position1.x, position1.y, \"g.\")\n",
    "plt.plot(position2.x, position2.y, \"b.\")\n",
    "plt.plot(position3.x, position3.y, \"r.\")\n",
    "plt.show()"
   ]
  },
  {
   "cell_type": "code",
   "execution_count": null,
   "metadata": {
    "ExecuteTime": {
     "end_time": "2018-06-26T13:02:51.059903Z",
     "start_time": "2018-06-26T13:00:11.715Z"
    },
    "collapsed": true
   },
   "outputs": [],
   "source": [
    "info.session_id"
   ]
  },
  {
   "cell_type": "code",
   "execution_count": null,
   "metadata": {
    "ExecuteTime": {
     "end_time": "2018-06-26T13:02:51.060903Z",
     "start_time": "2018-06-26T13:00:11.719Z"
    },
    "collapsed": true,
    "scrolled": false
   },
   "outputs": [],
   "source": [
    "xx, yy = np.meshgrid(xedges, yedges)\n",
    "\n",
    "phase = \"phase1\"\n",
    "sliced_position = position.time_slice(info.task_times[phase].start, info.task_times[phase].stop)\n",
    "sliced_spikes = [spiketrain.time_slice(info.task_times[phase].start, info.task_times[phase].stop) for spiketrain in spikes]\n",
    "\n",
    "neurons = get_tuning_curves(info, sliced_position, sliced_spikes, xedges, yedges, speed_limit=4., \n",
    "                            phase_id=phase, min_n_spikes=None, trial_times=None, trial_number=None, cache=False)\n",
    "\n",
    "multiple_tuning_curves = np.zeros(neurons.tuning_shape)\n",
    "for i in range(neurons.n_neurons):\n",
    "# for i in [9, 10]:\n",
    "#     print(i)\n",
    "    multiple_tuning_curves += neurons.tuning_curves[i]\n",
    "\n",
    "plt.figure(figsize=(6, 5))\n",
    "pp = plt.pcolormesh(xx, yy, multiple_tuning_curves, vmin=0.01, cmap=\"Greys\")\n",
    "plt.colorbar(pp)\n",
    "#     plt.axis('off')\n",
    "plt.tight_layout()\n",
    "plt.show()"
   ]
  },
  {
   "cell_type": "code",
   "execution_count": null,
   "metadata": {
    "ExecuteTime": {
     "end_time": "2018-06-26T13:02:51.061902Z",
     "start_time": "2018-06-26T13:00:11.722Z"
    },
    "collapsed": true,
    "scrolled": false
   },
   "outputs": [],
   "source": [
    "xx, yy = np.meshgrid(xedges, yedges)\n",
    "\n",
    "phase = \"phase3\"\n",
    "sliced_position = position.time_slice(info.task_times[phase].start, info.task_times[phase].stop)\n",
    "sliced_spikes = [spiketrain.time_slice(info.task_times[phase].start, info.task_times[phase].stop) for spiketrain in spikes]\n",
    "\n",
    "neurons = get_tuning_curves(info, sliced_position, sliced_spikes, xedges, yedges, speed_limit=3., \n",
    "                            phase_id=phase, min_n_spikes=None, trial_times=None, trial_number=None, cache=False)\n",
    "\n",
    "t = np.zeros(neurons.tuning_shape)\n",
    "multiple_tuning_curves = np.zeros(neurons.tuning_shape)\n",
    "\n",
    "for i in range(neurons.n_neurons):\n",
    "#     print(i)\n",
    "    multiple_tuning_curves += neurons.tuning_curves[i]\n",
    "    t += neurons.tuning_curves[i]\n",
    "\n",
    "plt.figure(figsize=(6, 5))\n",
    "# pp = plt.pcolormesh(xx, yy, t, vmin=0.01, vmax=0.5, cmap=\"Blues\")\n",
    "pp = plt.pcolormesh(xx, yy, multiple_tuning_curves, vmin=0.01, cmap=\"Greys\")\n",
    "plt.colorbar(pp)\n",
    "#     plt.axis('off')\n",
    "plt.tight_layout()\n",
    "plt.show()"
   ]
  },
  {
   "cell_type": "code",
   "execution_count": null,
   "metadata": {
    "collapsed": true
   },
   "outputs": [],
   "source": []
  },
  {
   "cell_type": "code",
   "execution_count": null,
   "metadata": {
    "collapsed": true
   },
   "outputs": [],
   "source": []
  },
  {
   "cell_type": "code",
   "execution_count": null,
   "metadata": {
    "collapsed": true
   },
   "outputs": [],
   "source": []
  },
  {
   "cell_type": "code",
   "execution_count": null,
   "metadata": {
    "ExecuteTime": {
     "end_time": "2018-06-26T13:02:51.061902Z",
     "start_time": "2018-06-26T13:00:11.729Z"
    },
    "collapsed": true
   },
   "outputs": [],
   "source": [
    "np.where(multiple_tuning_curves == np.max(multiple_tuning_curves))[0]"
   ]
  },
  {
   "cell_type": "code",
   "execution_count": null,
   "metadata": {
    "ExecuteTime": {
     "end_time": "2018-06-26T13:02:51.062901Z",
     "start_time": "2018-06-26T13:00:11.732Z"
    },
    "collapsed": true
   },
   "outputs": [],
   "source": [
    "np.where(multiple_tuning_curves == np.max(multiple_tuning_curves))[0]"
   ]
  },
  {
   "cell_type": "code",
   "execution_count": null,
   "metadata": {
    "ExecuteTime": {
     "end_time": "2018-06-26T13:02:51.063901Z",
     "start_time": "2018-06-26T13:00:11.735Z"
    },
    "collapsed": true
   },
   "outputs": [],
   "source": [
    "total_spikes = 0\n",
    "for i in range(neurons.n_neurons):\n",
    "    n_spikes = len(spikes[i].time)\n",
    "    print(n_spikes)\n",
    "    total_spikes += n_spikes\n",
    "print('total spikes:', total_spikes)"
   ]
  },
  {
   "cell_type": "code",
   "execution_count": null,
   "metadata": {
    "collapsed": true
   },
   "outputs": [],
   "source": []
  },
  {
   "cell_type": "code",
   "execution_count": null,
   "metadata": {
    "collapsed": true
   },
   "outputs": [],
   "source": []
  },
  {
   "cell_type": "code",
   "execution_count": null,
   "metadata": {
    "collapsed": true
   },
   "outputs": [],
   "source": []
  },
  {
   "cell_type": "code",
   "execution_count": null,
   "metadata": {
    "collapsed": true
   },
   "outputs": [],
   "source": []
  },
  {
   "cell_type": "code",
   "execution_count": null,
   "metadata": {
    "collapsed": true
   },
   "outputs": [],
   "source": []
  },
  {
   "cell_type": "code",
   "execution_count": null,
   "metadata": {
    "collapsed": true
   },
   "outputs": [],
   "source": []
  },
  {
   "cell_type": "code",
   "execution_count": null,
   "metadata": {
    "ExecuteTime": {
     "end_time": "2018-06-26T13:02:51.064901Z",
     "start_time": "2018-06-26T13:00:11.747Z"
    },
    "collapsed": true
   },
   "outputs": [],
   "source": [
    "phase1 = \"phase1\"\n",
    "phase2 = \"phase3\"\n",
    "\n",
    "sliced_position1 = position.time_slice(info.task_times[phase1].start, info.task_times[phase1].stop)\n",
    "sliced_spikes1 = [spiketrain.time_slice(info.task_times[phase1].start, info.task_times[phase1].stop) for spiketrain in spikes]\n",
    "neurons1 = get_tuning_curves(info, sliced_position1, sliced_spikes1, xedges, yedges, speed_limit=4., phase_id=phase1, min_n_spikes=None, trial_times=None, trial_number=None, cache=False)\n",
    "\n",
    "sliced_position2 = position.time_slice(info.task_times[phase2].start, info.task_times[phase2].stop)\n",
    "sliced_spikes2 = [spiketrain.time_slice(info.task_times[phase2].start, info.task_times[phase2].stop) for spiketrain in spikes]\n",
    "neurons2 = get_tuning_curves(info, sliced_position2, sliced_spikes2, xedges, yedges, speed_limit=4., phase_id=phase2, min_n_spikes=None, trial_times=None, trial_number=None, cache=False)"
   ]
  },
  {
   "cell_type": "code",
   "execution_count": null,
   "metadata": {
    "collapsed": true
   },
   "outputs": [],
   "source": []
  },
  {
   "cell_type": "code",
   "execution_count": null,
   "metadata": {
    "ExecuteTime": {
     "end_time": "2018-06-26T13:02:51.065900Z",
     "start_time": "2018-06-26T13:00:11.752Z"
    },
    "collapsed": true
   },
   "outputs": [],
   "source": [
    "xx, yy = np.meshgrid(xedges, yedges)\n",
    "cmap = plt.cm.get_cmap('bone_r')"
   ]
  },
  {
   "cell_type": "code",
   "execution_count": null,
   "metadata": {
    "ExecuteTime": {
     "end_time": "2018-06-26T13:02:51.066900Z",
     "start_time": "2018-06-26T13:00:11.755Z"
    },
    "collapsed": true,
    "scrolled": false
   },
   "outputs": [],
   "source": [
    "neurons = neurons2\n",
    "\n",
    "for i in range(neurons.n_neurons):\n",
    "    multiple_tuning_curves = np.zeros(neurons.tuning_shape)\n",
    "#     print(i)\n",
    "    multiple_tuning_curves += neurons.tuning_curves[i]\n",
    "\n",
    "plt.figure(figsize=(6, 5))\n",
    "pp = plt.pcolormesh(xx, yy, multiple_tuning_curves, vmin=0.01, cmap=cmap)\n",
    "#     plt.colorbar(pp)\n",
    "plt.axis('off')\n",
    "plt.tight_layout()\n",
    "plt.show()"
   ]
  },
  {
   "cell_type": "code",
   "execution_count": null,
   "metadata": {
    "collapsed": true
   },
   "outputs": [],
   "source": []
  },
  {
   "cell_type": "code",
   "execution_count": null,
   "metadata": {
    "collapsed": true
   },
   "outputs": [],
   "source": []
  },
  {
   "cell_type": "code",
   "execution_count": null,
   "metadata": {
    "collapsed": true
   },
   "outputs": [],
   "source": []
  },
  {
   "cell_type": "code",
   "execution_count": null,
   "metadata": {
    "collapsed": true
   },
   "outputs": [],
   "source": []
  },
  {
   "cell_type": "code",
   "execution_count": null,
   "metadata": {
    "ExecuteTime": {
     "end_time": "2018-06-26T13:02:51.067899Z",
     "start_time": "2018-06-26T13:00:11.765Z"
    },
    "collapsed": true,
    "scrolled": false
   },
   "outputs": [],
   "source": [
    "# for info in infos:\n",
    "events, position, spikes, lfp, lfp_theta = get_data(info)\n",
    "xedges, yedges = nept.get_xyedges(position)\n",
    "\n",
    "tc_shape = (len(yedges) - 1, len(xedges) - 1)\n",
    "\n",
    "shortcut1 = find_intersection(info, \"shortcut1\", xedges, yedges)\n",
    "shortcut2 = find_intersection(info, \"shortcut2\", xedges, yedges)\n",
    "novel1 = find_intersection(info, \"novel1\", xedges, yedges)\n",
    "# novel2 = find_intersection(info, \"novel2\", xedges, yedges)\n",
    "stable1 = (np.array([1]), np.array([10]))\n",
    "\n",
    "novel_points = [shortcut1, shortcut2, novel1]\n",
    "stable_points = [stable1]\n",
    "\n",
    "novel_neighbours = find_neighbours(tc_shape, novel_points, neighbour_size=2)\n",
    "stable_neighbours = find_neighbours(tc_shape, stable_points, neighbour_size=2)\n",
    "\n",
    "corr12 = get_pearsons_correlation(info, \"phase1\", \"phase2\", xedges, yedges, position, spikes)\n",
    "corr13 = get_pearsons_correlation(info, \"phase1\", \"phase3\", xedges, yedges, position, spikes)\n",
    "corr23 = get_pearsons_correlation(info, \"phase2\", \"phase3\", xedges, yedges, position, spikes)\n",
    "corr33 = get_pearsons_correlation(info, \"phase3\", \"phase3\", xedges, yedges, position, spikes)\n",
    "\n",
    "filepath = os.path.join(output_filepath, info.session_id + \"_phase-shift12.png\")\n",
    "plot_tc_corr(corr12, stable_neighbours, novel_neighbours)\n",
    "\n",
    "plot_tc_corr(corr13, stable_neighbours, novel_neighbours)\n",
    "\n",
    "plot_tc_corr(corr23, stable_neighbours, novel_neighbours)\n",
    "\n",
    "filepath = os.path.join(output_filepath, info.session_id + \"_phase-shift33.png\")\n",
    "plot_tc_corr(corr33, stable_neighbours, novel_neighbours)"
   ]
  },
  {
   "cell_type": "code",
   "execution_count": null,
   "metadata": {
    "ExecuteTime": {
     "end_time": "2018-06-26T13:02:51.068898Z",
     "start_time": "2018-06-26T13:00:11.769Z"
    },
    "collapsed": true
   },
   "outputs": [],
   "source": [
    "def compare_correlations(correlations, stable_neighbours, novel_neighbours):\n",
    "    stable_corr = [correlations[pt[1]][pt[0]] for pt in stable_neighbours]\n",
    "    novel_corr = [correlations[pt[1]][pt[0]] for pt in novel_neighbours]\n",
    "    \n",
    "    stable = np.nanmean(stable_corr)\n",
    "    novel = np.nanmean(novel_corr)\n",
    "\n",
    "    return stable, novel\n",
    "\n",
    "compare_correlations(corr12, stable_neighbours, novel_neighbours)"
   ]
  },
  {
   "cell_type": "code",
   "execution_count": null,
   "metadata": {
    "ExecuteTime": {
     "end_time": "2018-06-26T13:02:51.069898Z",
     "start_time": "2018-06-26T13:00:11.772Z"
    },
    "collapsed": true
   },
   "outputs": [],
   "source": [
    "compare_correlations(corr13, stable_neighbours, novel_neighbours)"
   ]
  },
  {
   "cell_type": "code",
   "execution_count": null,
   "metadata": {
    "ExecuteTime": {
     "end_time": "2018-06-26T13:02:51.069898Z",
     "start_time": "2018-06-26T13:00:11.775Z"
    },
    "collapsed": true
   },
   "outputs": [],
   "source": [
    "compare_correlations(corr23, stable_neighbours, novel_neighbours)"
   ]
  },
  {
   "cell_type": "code",
   "execution_count": null,
   "metadata": {
    "ExecuteTime": {
     "end_time": "2018-06-26T13:02:51.070897Z",
     "start_time": "2018-06-26T13:00:11.778Z"
    },
    "collapsed": true
   },
   "outputs": [],
   "source": [
    "compare_correlations(corr33, stable_neighbours, novel_neighbours)"
   ]
  },
  {
   "cell_type": "code",
   "execution_count": null,
   "metadata": {
    "ExecuteTime": {
     "end_time": "2018-06-26T13:02:51.071896Z",
     "start_time": "2018-06-26T13:00:11.781Z"
    },
    "collapsed": true
   },
   "outputs": [],
   "source": [
    "yy = [0.9448256327499559, 0.87462859828618689] \n",
    "tt = [0.81271753867513286, 0.38649566177067601]"
   ]
  },
  {
   "cell_type": "code",
   "execution_count": null,
   "metadata": {
    "ExecuteTime": {
     "end_time": "2018-06-26T13:02:51.072896Z",
     "start_time": "2018-06-26T13:00:11.786Z"
    },
    "collapsed": true
   },
   "outputs": [],
   "source": [
    "x = np.arange(2) + 1\n",
    "plt.boxplot([yy, tt])\n",
    "labels = ['yy', 'tt']\n",
    "plt.xticks(x, labels, rotation='vertical')\n",
    "plt.show()"
   ]
  },
  {
   "cell_type": "code",
   "execution_count": null,
   "metadata": {
    "collapsed": true
   },
   "outputs": [],
   "source": []
  },
  {
   "cell_type": "code",
   "execution_count": null,
   "metadata": {
    "collapsed": true
   },
   "outputs": [],
   "source": []
  }
 ],
 "metadata": {
  "kernelspec": {
   "display_name": "Python 3",
   "language": "python",
   "name": "python3"
  },
  "language_info": {
   "codemirror_mode": {
    "name": "ipython",
    "version": 3
   },
   "file_extension": ".py",
   "mimetype": "text/x-python",
   "name": "python",
   "nbconvert_exporter": "python",
   "pygments_lexer": "ipython3",
   "version": "3.6.5"
  },
  "toc": {
   "colors": {
    "hover_highlight": "#DAA520",
    "running_highlight": "#FF0000",
    "selected_highlight": "#FFD700"
   },
   "moveMenuLeft": true,
   "nav_menu": {
    "height": "12px",
    "width": "252px"
   },
   "navigate_menu": true,
   "number_sections": true,
   "sideBar": true,
   "threshold": 4,
   "toc_cell": false,
   "toc_section_display": "block",
   "toc_window_display": false
  }
 },
 "nbformat": 4,
 "nbformat_minor": 2
}
