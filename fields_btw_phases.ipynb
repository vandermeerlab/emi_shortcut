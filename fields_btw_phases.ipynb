{
 "cells": [
  {
   "cell_type": "code",
   "execution_count": null,
   "metadata": {
    "ExecuteTime": {
     "end_time": "2018-05-08T12:51:04.971167Z",
     "start_time": "2018-05-08T12:50:58.184592Z"
    },
    "collapsed": true
   },
   "outputs": [],
   "source": [
    "%matplotlib inline\n",
    "import matplotlib.pyplot as plt\n",
    "import numpy as np\n",
    "import itertools\n",
    "import scipy\n",
    "import os\n",
    "import nept\n",
    "\n",
    "from loading_data import get_data\n",
    "from analyze_tuning_curves import get_tuning_curves"
   ]
  },
  {
   "cell_type": "code",
   "execution_count": null,
   "metadata": {
    "ExecuteTime": {
     "end_time": "2018-05-08T12:51:05.132785Z",
     "start_time": "2018-05-08T12:51:05.128281Z"
    },
    "collapsed": true
   },
   "outputs": [],
   "source": [
    "thisdir = os.getcwd()\n",
    "pickle_filepath = os.path.join(thisdir, \"cache\", \"pickled\")\n",
    "output_filepath = os.path.join(thisdir, \"plots\", \"phase_fields\")"
   ]
  },
  {
   "cell_type": "code",
   "execution_count": null,
   "metadata": {
    "ExecuteTime": {
     "end_time": "2018-05-08T12:51:18.086360Z",
     "start_time": "2018-05-08T12:51:16.655899Z"
    },
    "collapsed": true
   },
   "outputs": [],
   "source": [
    "from analyze_tc_shifts import get_pearsons_correlation, find_intersection, find_neighbours, plot_tc_corr, compare_correlations"
   ]
  },
  {
   "cell_type": "code",
   "execution_count": null,
   "metadata": {
    "ExecuteTime": {
     "end_time": "2018-05-08T13:33:16.848325Z",
     "start_time": "2018-05-08T13:33:16.843822Z"
    },
    "collapsed": true
   },
   "outputs": [],
   "source": [
    "import info.r067d6 as r067d6\n",
    "import info.r067d7 as r067d7\n",
    "import info.r068d7 as r068d7"
   ]
  },
  {
   "cell_type": "code",
   "execution_count": null,
   "metadata": {
    "ExecuteTime": {
     "end_time": "2018-05-07T16:31:46.458952Z",
     "start_time": "2018-05-07T16:31:46.455450Z"
    },
    "collapsed": true
   },
   "outputs": [],
   "source": [
    "infos = [r067d7, r068d7]"
   ]
  },
  {
   "cell_type": "code",
   "execution_count": null,
   "metadata": {
    "ExecuteTime": {
     "end_time": "2018-05-07T16:31:58.810772Z",
     "start_time": "2018-05-07T16:31:48.581995Z"
    },
    "collapsed": true
   },
   "outputs": [],
   "source": [
    "corr_stable12 = []\n",
    "corr_stable13 = []\n",
    "corr_stable23 = []\n",
    "\n",
    "corr_novel12 = []\n",
    "corr_novel13 = []\n",
    "corr_novel23 = []\n",
    "\n",
    "for info in infos:\n",
    "    events, position, spikes, lfp, lfp_theta = get_data(info)\n",
    "    xedges, yedges = nept.get_xyedges(position)\n",
    "\n",
    "    tc_shape = (len(yedges) - 1, len(xedges) - 1)\n",
    "\n",
    "    shortcut1 = find_intersection(info, \"shortcut1\", xedges, yedges)\n",
    "    shortcut2 = find_intersection(info, \"shortcut2\", xedges, yedges)\n",
    "    novel1 = find_intersection(info, \"novel1\", xedges, yedges)\n",
    "    # novel2 = find_intersection(info, \"novel2\", xedges, yedges)\n",
    "    stable1 = find_intersection(info, \"stable1\", xedges, yedges)\n",
    "\n",
    "    novel_points = [shortcut1, shortcut2, novel1]\n",
    "    stable_points = [stable1]\n",
    "    novel_neighbours = find_neighbours(tc_shape, novel_points, neighbour_size=2)\n",
    "    stable_neighbours = find_neighbours(tc_shape, stable_points, neighbour_size=2)\n",
    "\n",
    "    corr12 = get_pearsons_correlation(info, \"phase1\", \"phase2\", xedges, yedges, position, spikes)\n",
    "    corr13 = get_pearsons_correlation(info, \"phase1\", \"phase3\", xedges, yedges, position, spikes)\n",
    "    corr23 = get_pearsons_correlation(info, \"phase2\", \"phase3\", xedges, yedges, position, spikes)\n",
    "    corr33 = get_pearsons_correlation(info, \"phase3\", \"phase3\", xedges, yedges, position, spikes)\n",
    "\n",
    "    stable12, novel12 = compare_correlations(corr12, stable_neighbours, novel_neighbours)\n",
    "    stable13, novel13 = compare_correlations(corr13, stable_neighbours, novel_neighbours)\n",
    "    stable23, novel23 = compare_correlations(corr23, stable_neighbours, novel_neighbours)\n",
    "\n",
    "    if not np.isnan(stable12):\n",
    "        corr_stable12.append(stable12)\n",
    "    if not np.isnan(novel12):\n",
    "        corr_novel12.append(novel12)\n",
    "    if not np.isnan(stable13):\n",
    "        corr_stable13.append(stable13)\n",
    "    if not np.isnan(novel13):\n",
    "        corr_novel13.append(novel13)\n",
    "    if not np.isnan(stable23):\n",
    "        corr_stable23.append(stable23)\n",
    "    if not np.isnan(novel23):\n",
    "        corr_novel23.append(novel23)\n",
    "\n",
    "    print(\"phases 1 and 2. Average correlation for stable:\", stable12, \"compared to novel:\", novel12, \"segments\")\n",
    "    print(\"phases 1 and 3. Average correlation for stable:\", stable13, \"compared to novel:\", novel13, \"segments\")\n",
    "    print(\"phases 2 and 3. Average correlation for stable:\", stable23, \"compared to novel:\", novel23, \"segments\")\n",
    "\n",
    "    filepath = os.path.join(output_filepath, info.session_id + \"_phase-shift12.png\")\n",
    "    plot_tc_corr(corr12, stable_neighbours, novel_neighbours, filepath)\n",
    "\n",
    "    filepath = os.path.join(output_filepath, info.session_id + \"_phase-shift13.png\")\n",
    "    plot_tc_corr(corr13, stable_neighbours, novel_neighbours, filepath)\n",
    "\n",
    "    filepath = os.path.join(output_filepath, info.session_id + \"_phase-shift23.png\")\n",
    "    plot_tc_corr(corr23, stable_neighbours, novel_neighbours, filepath)\n",
    "\n",
    "    filepath = os.path.join(output_filepath, info.session_id + \"_phase-shift33.png\")\n",
    "    plot_tc_corr(corr33, stable_neighbours, novel_neighbours, filepath)\n",
    "\n",
    "print([corr_stable12, corr_novel12, corr_stable13, corr_novel13, corr_stable23, corr_novel23])\n",
    "x = np.arange(6) + 1\n",
    "plt.boxplot([corr_stable12, corr_novel12, corr_stable13, corr_novel13, corr_stable23, corr_novel23])\n",
    "labels = [\"corr_stable12\", \"corr_novel12\", \"corr_stable13\", \"corr_novel13\", \"corr_stable23\", \"corr_novel23\"]\n",
    "plt.xticks(x, labels, rotation='vertical')\n",
    "plt.show()"
   ]
  },
  {
   "cell_type": "code",
   "execution_count": null,
   "metadata": {
    "ExecuteTime": {
     "end_time": "2018-05-07T16:36:01.127918Z",
     "start_time": "2018-05-07T16:36:00.663288Z"
    },
    "collapsed": true
   },
   "outputs": [],
   "source": [
    "fig, ax = plt.subplots()\n",
    "\n",
    "boxplot = ax.boxplot([corr_stable12, corr_novel12, corr_stable12, corr_novel12, corr_stable12, corr_novel12], \n",
    "                     positions=[1, 2, 4, 5, 7, 8], widths=0.75, patch_artist=True)\n",
    "\n",
    "colours = ['#bf812d', '#35978f', '#bf812d', '#35978f', '#bf812d', '#35978f']\n",
    "for patch, colour in zip(boxplot['boxes'], colours):\n",
    "    patch.set_facecolor(colour)\n",
    "\n",
    "plt.setp(boxplot['medians'], color='k')\n",
    "\n",
    "plt.ylim(0.3, 1.)\n",
    "labels = [\"Phases 1-2\", \"Phases 1-3\", \"Phases 2-3\"]\n",
    "plt.xticks([1.5, 4.5, 7.5], labels)\n",
    "plt.ylabel(\"Mean correlation\")\n",
    "\n",
    "hB, = plt.plot([1, 1], '-', color='#bf812d')\n",
    "hR, = plt.plot([1, 1],'-', color='#35978f')\n",
    "plt.legend((hB, hR), ('Stable segments', 'Novel segments'), bbox_to_anchor=(1., 1.))\n",
    "hB.set_visible(False)\n",
    "hR.set_visible(False)\n",
    "\n",
    "ax.spines['right'].set_visible(False)\n",
    "ax.spines['top'].set_visible(False)\n",
    "ax.yaxis.set_ticks_position('left')\n",
    "ax.xaxis.set_ticks_position('bottom')\n",
    "\n",
    "plt.tight_layout()\n",
    "plt.show()"
   ]
  },
  {
   "cell_type": "code",
   "execution_count": null,
   "metadata": {
    "collapsed": true
   },
   "outputs": [],
   "source": []
  },
  {
   "cell_type": "code",
   "execution_count": null,
   "metadata": {
    "collapsed": true
   },
   "outputs": [],
   "source": []
  },
  {
   "cell_type": "code",
   "execution_count": null,
   "metadata": {
    "ExecuteTime": {
     "end_time": "2018-05-08T14:06:43.341703Z",
     "start_time": "2018-05-08T14:06:42.754287Z"
    },
    "collapsed": true
   },
   "outputs": [],
   "source": [
    "info = r067d7\n",
    "\n",
    "events, position, spikes, lfp, lfp_theta = get_data(info)\n",
    "xedges, yedges = nept.get_xyedges(position)\n",
    "\n",
    "tc_shape = (len(yedges) - 1, len(xedges) - 1)"
   ]
  },
  {
   "cell_type": "code",
   "execution_count": null,
   "metadata": {
    "ExecuteTime": {
     "end_time": "2018-05-08T14:06:43.354212Z",
     "start_time": "2018-05-08T14:06:43.343204Z"
    },
    "collapsed": true
   },
   "outputs": [],
   "source": [
    "position1 = position.time_slice(info.task_times[\"phase1\"].start, info.task_times[\"phase1\"].stop)\n",
    "position2 = position.time_slice(info.task_times[\"phase2\"].start, info.task_times[\"phase2\"].stop)\n",
    "position3 = position.time_slice(info.task_times[\"phase3\"].start, info.task_times[\"phase3\"].stop)"
   ]
  },
  {
   "cell_type": "code",
   "execution_count": null,
   "metadata": {
    "ExecuteTime": {
     "end_time": "2018-05-08T14:06:43.689467Z",
     "start_time": "2018-05-08T14:06:43.356714Z"
    },
    "collapsed": true
   },
   "outputs": [],
   "source": [
    "plt.plot(position1.x, position1.y, \"g.\")\n",
    "plt.plot(position2.x, position2.y, \"b.\")\n",
    "plt.plot(position3.x, position3.y, \"r.\")\n",
    "plt.show()"
   ]
  },
  {
   "cell_type": "code",
   "execution_count": null,
   "metadata": {
    "ExecuteTime": {
     "end_time": "2018-05-08T14:06:47.207451Z",
     "start_time": "2018-05-08T14:06:47.201948Z"
    },
    "collapsed": true
   },
   "outputs": [],
   "source": [
    "info.session_id"
   ]
  },
  {
   "cell_type": "code",
   "execution_count": null,
   "metadata": {
    "ExecuteTime": {
     "end_time": "2018-05-08T13:54:52.678468Z",
     "start_time": "2018-05-08T13:54:51.890910Z"
    },
    "collapsed": true,
    "scrolled": false
   },
   "outputs": [],
   "source": [
    "xx, yy = np.meshgrid(xedges, yedges)\n",
    "\n",
    "phase = \"phase1\"\n",
    "sliced_position = position.time_slice(info.task_times[phase].start, info.task_times[phase].stop)\n",
    "sliced_spikes = [spiketrain.time_slice(info.task_times[phase].start, info.task_times[phase].stop) for spiketrain in spikes]\n",
    "\n",
    "neurons = get_tuning_curves(info, sliced_position, sliced_spikes, xedges, yedges, speed_limit=4., \n",
    "                            phase_id=phase, min_n_spikes=None, trial_times=None, trial_number=None, cache=False)\n",
    "\n",
    "multiple_tuning_curves = np.zeros(neurons.tuning_shape)\n",
    "for i in range(neurons.n_neurons):\n",
    "# for i in [9, 10]:\n",
    "#     print(i)\n",
    "    multiple_tuning_curves += neurons.tuning_curves[i]\n",
    "\n",
    "plt.figure(figsize=(6, 5))\n",
    "pp = plt.pcolormesh(xx, yy, multiple_tuning_curves, vmin=0.01, cmap=\"Greys\")\n",
    "plt.colorbar(pp)\n",
    "#     plt.axis('off')\n",
    "plt.tight_layout()\n",
    "plt.show()"
   ]
  },
  {
   "cell_type": "code",
   "execution_count": null,
   "metadata": {
    "ExecuteTime": {
     "end_time": "2018-05-08T14:06:51.080970Z",
     "start_time": "2018-05-08T14:06:50.442522Z"
    },
    "collapsed": true,
    "scrolled": false
   },
   "outputs": [],
   "source": [
    "xx, yy = np.meshgrid(xedges, yedges)\n",
    "\n",
    "phase = \"phase3\"\n",
    "sliced_position = position.time_slice(info.task_times[phase].start, info.task_times[phase].stop)\n",
    "sliced_spikes = [spiketrain.time_slice(info.task_times[phase].start, info.task_times[phase].stop) for spiketrain in spikes]\n",
    "\n",
    "neurons = get_tuning_curves(info, sliced_position, sliced_spikes, xedges, yedges, speed_limit=3., \n",
    "                            phase_id=phase, min_n_spikes=None, trial_times=None, trial_number=None, cache=False)\n",
    "\n",
    "t = np.zeros(neurons.tuning_shape)\n",
    "multiple_tuning_curves = np.zeros(neurons.tuning_shape)\n",
    "\n",
    "for i in range(neurons.n_neurons):\n",
    "#     print(i)\n",
    "    multiple_tuning_curves += neurons.tuning_curves[i]\n",
    "    t += neurons.tuning_curves[i]\n",
    "\n",
    "plt.figure(figsize=(6, 5))\n",
    "# pp = plt.pcolormesh(xx, yy, t, vmin=0.01, vmax=0.5, cmap=\"Blues\")\n",
    "pp = plt.pcolormesh(xx, yy, multiple_tuning_curves, vmin=0.01, cmap=\"Greys\")\n",
    "plt.colorbar(pp)\n",
    "#     plt.axis('off')\n",
    "plt.tight_layout()\n",
    "plt.show()"
   ]
  },
  {
   "cell_type": "code",
   "execution_count": null,
   "metadata": {
    "collapsed": true
   },
   "outputs": [],
   "source": []
  },
  {
   "cell_type": "code",
   "execution_count": null,
   "metadata": {
    "collapsed": true
   },
   "outputs": [],
   "source": [
    "def get_tuning_curves(info, sliced_position, sliced_spikes, xedges, yedges, speed_limit=4, min_n_spikes=100,\n",
    "                      t_smooth=0.5, phase_id=None, trial_times=None, \n",
    "                      trial_number=None, cache=True):\n",
    "    \"\"\"\n",
    "\n",
    "    Parameters\n",
    "    ----------\n",
    "    info: module\n",
    "    sliced_position: nept.Position\n",
    "    speed_limit: float\n",
    "    min_n_spikes: int or None\n",
    "    phase_id: str\n",
    "    trial_times: nept.Epoch or None\n",
    "    trial_number: int or None\n",
    "    cache: bool\n",
    "\n",
    "    Returns\n",
    "    -------\n",
    "    neurons: nept.Neurons\n",
    "\n",
    "    \"\"\"\n",
    "    print('generating tuning curves for', info.session_id)\n",
    "\n",
    "    if trial_times is not None and trial_times.n_epochs != 1:\n",
    "        raise AssertionError(\"trial_times must only contain one epoch (start, stop)\")\n",
    "\n",
    "    if trial_number is None:\n",
    "        trial_number = \"\"\n",
    "\n",
    "    if trial_times is None:\n",
    "        trial_times = nept.Epoch([], [])\n",
    "\n",
    "    phase1 = nept.Epoch([info.task_times['phase1'].start, info.task_times['phase1'].stop])\n",
    "    phase2 = nept.Epoch([info.task_times['phase2'].start, info.task_times['phase2'].stop])\n",
    "    phase3 = nept.Epoch([info.task_times['phase3'].start, info.task_times['phase3'].stop])\n",
    "\n",
    "    if phase_id is None:\n",
    "        track_starts = []\n",
    "        track_stops = []\n",
    "        for phase in [phase1, phase2, phase3]:\n",
    "            if phase.overlaps(trial_times).durations.size > 0:\n",
    "                if trial_times.start < phase.start:\n",
    "                    phase = nept.Epoch([trial_times.stop, phase.stop])\n",
    "                elif trial_times.stop > phase.stop:\n",
    "                    phase = nept.Epoch([phase.start, trial_times.start])\n",
    "                else:\n",
    "                    phase = nept.Epoch([[phase.start, trial_times.stop], [trial_times.start, phase.stop]])\n",
    "            track_starts.extend(phase.starts)\n",
    "            track_stops.extend(phase.stops)\n",
    "        filename = info.session_id + '_neurons_all-phases' + str(trial_number) + '.pkl'\n",
    "    else:\n",
    "        phase = nept.Epoch([info.task_times[phase_id].start, info.task_times[phase_id].stop])\n",
    "\n",
    "        track_starts = []\n",
    "        track_stops = []\n",
    "        if phase.overlaps(trial_times).durations.size > 0:\n",
    "            if trial_times.start < phase.start:\n",
    "                phase = nept.Epoch([trial_times.stop, phase.stop])\n",
    "            elif trial_times.stop > phase.stop:\n",
    "                phase = nept.Epoch([phase.start, trial_times.start])\n",
    "            else:\n",
    "                phase = nept.Epoch([[phase.start, trial_times.stop], [trial_times.start, phase.stop]])\n",
    "\n",
    "            track_starts.extend(phase.starts)\n",
    "            track_stops.extend(phase.stops)\n",
    "        filename = info.session_id + '_neurons' + str(trial_number) + '.pkl'\n",
    "\n",
    "    # limit position to only times when the subject is moving faster than a certain threshold\n",
    "    run_epoch = nept.run_threshold(sliced_position, thresh=speed_limit, t_smooth=t_smooth)\n",
    "    run_position = sliced_position[run_epoch]\n",
    "\n",
    "    track_spikes = [spiketrain.time_slice(run_epoch.starts, run_epoch.stops) for spiketrain in sliced_spikes]\n",
    "\n",
    "    filtered_spikes = []\n",
    "    tuning_spikes = []\n",
    "    if min_n_spikes is not None:\n",
    "        for neuron, neuron_all in zip(track_spikes, sliced_spikes):\n",
    "            if len(neuron.time) > min_n_spikes:\n",
    "                tuning_spikes.append(neuron)\n",
    "                filtered_spikes.append(neuron_all)\n",
    "    else:\n",
    "        tuning_spikes = track_spikes\n",
    "        filtered_spikes = sliced_spikes\n",
    "\n",
    "    tuning_curves = nept.tuning_curve_2d(run_position, tuning_spikes, xedges, yedges,\n",
    "                                         occupied_thresh=0.5, gaussian_std=0.3)\n",
    "\n",
    "    neurons = nept.Neurons(np.array(filtered_spikes), tuning_curves)\n",
    "\n",
    "    if cache:\n",
    "        pickled_tc = os.path.join(pickle_filepath, filename)\n",
    "\n",
    "        with open(pickled_tc, 'wb') as fileobj:\n",
    "            pickle.dump(neurons, fileobj)\n",
    "\n",
    "    return neurons"
   ]
  },
  {
   "cell_type": "code",
   "execution_count": null,
   "metadata": {
    "collapsed": true
   },
   "outputs": [],
   "source": []
  },
  {
   "cell_type": "code",
   "execution_count": null,
   "metadata": {
    "collapsed": true
   },
   "outputs": [],
   "source": []
  },
  {
   "cell_type": "code",
   "execution_count": null,
   "metadata": {
    "ExecuteTime": {
     "end_time": "2018-05-08T13:33:39.068784Z",
     "start_time": "2018-05-08T13:33:39.064281Z"
    },
    "collapsed": true
   },
   "outputs": [],
   "source": [
    "np.where(multiple_tuning_curves == np.max(multiple_tuning_curves))[0]"
   ]
  },
  {
   "cell_type": "code",
   "execution_count": null,
   "metadata": {
    "ExecuteTime": {
     "end_time": "2018-05-08T13:33:39.081793Z",
     "start_time": "2018-05-08T13:33:39.070285Z"
    },
    "collapsed": true
   },
   "outputs": [],
   "source": [
    "np.where(multiple_tuning_curves == np.max(multiple_tuning_curves))[0]"
   ]
  },
  {
   "cell_type": "code",
   "execution_count": null,
   "metadata": {
    "ExecuteTime": {
     "end_time": "2018-05-08T14:08:04.301592Z",
     "start_time": "2018-05-08T14:08:04.290103Z"
    },
    "collapsed": true
   },
   "outputs": [],
   "source": [
    "total_spikes = 0\n",
    "for i in range(neurons.n_neurons):\n",
    "    n_spikes = len(spikes[i].time)\n",
    "    print(n_spikes)\n",
    "    total_spikes += n_spikes\n",
    "print('total spikes:', total_spikes)"
   ]
  },
  {
   "cell_type": "code",
   "execution_count": null,
   "metadata": {
    "collapsed": true
   },
   "outputs": [],
   "source": []
  },
  {
   "cell_type": "code",
   "execution_count": null,
   "metadata": {
    "collapsed": true
   },
   "outputs": [],
   "source": []
  },
  {
   "cell_type": "code",
   "execution_count": null,
   "metadata": {
    "collapsed": true
   },
   "outputs": [],
   "source": []
  },
  {
   "cell_type": "code",
   "execution_count": null,
   "metadata": {
    "collapsed": true
   },
   "outputs": [],
   "source": []
  },
  {
   "cell_type": "code",
   "execution_count": null,
   "metadata": {
    "collapsed": true
   },
   "outputs": [],
   "source": []
  },
  {
   "cell_type": "code",
   "execution_count": null,
   "metadata": {
    "collapsed": true
   },
   "outputs": [],
   "source": []
  },
  {
   "cell_type": "code",
   "execution_count": null,
   "metadata": {
    "collapsed": true
   },
   "outputs": [],
   "source": [
    "phase1 = \"phase1\"\n",
    "phase2 = \"phase3\"\n",
    "\n",
    "sliced_position1 = position.time_slice(info.task_times[phase1].start, info.task_times[phase1].stop)\n",
    "sliced_spikes1 = [spiketrain.time_slice(info.task_times[phase1].start, info.task_times[phase1].stop) for spiketrain in spikes]\n",
    "neurons1 = get_tuning_curves(info, sliced_position1, sliced_spikes1, xedges, yedges, speed_limit=4., phase_id=phase1, min_n_spikes=None, trial_times=None, trial_number=None, cache=False)\n",
    "\n",
    "sliced_position2 = position.time_slice(info.task_times[phase2].start, info.task_times[phase2].stop)\n",
    "sliced_spikes2 = [spiketrain.time_slice(info.task_times[phase2].start, info.task_times[phase2].stop) for spiketrain in spikes]\n",
    "neurons2 = get_tuning_curves(info, sliced_position2, sliced_spikes2, xedges, yedges, speed_limit=4., phase_id=phase2, min_n_spikes=None, trial_times=None, trial_number=None, cache=False)"
   ]
  },
  {
   "cell_type": "code",
   "execution_count": null,
   "metadata": {
    "collapsed": true
   },
   "outputs": [],
   "source": []
  },
  {
   "cell_type": "code",
   "execution_count": null,
   "metadata": {
    "collapsed": true
   },
   "outputs": [],
   "source": [
    "xx, yy = np.meshgrid(xedges, yedges)\n",
    "cmap = plt.cm.get_cmap('bone_r')"
   ]
  },
  {
   "cell_type": "code",
   "execution_count": null,
   "metadata": {
    "collapsed": true,
    "scrolled": false
   },
   "outputs": [],
   "source": [
    "neurons = neurons2\n",
    "\n",
    "for i in range(neurons.n_neurons):\n",
    "    multiple_tuning_curves = np.zeros(neurons.tuning_shape)\n",
    "#     print(i)\n",
    "    multiple_tuning_curves += neurons.tuning_curves[i]\n",
    "\n",
    "plt.figure(figsize=(6, 5))\n",
    "pp = plt.pcolormesh(xx, yy, multiple_tuning_curves, vmin=0.01, cmap=cmap)\n",
    "#     plt.colorbar(pp)\n",
    "plt.axis('off')\n",
    "plt.tight_layout()\n",
    "plt.show()"
   ]
  },
  {
   "cell_type": "code",
   "execution_count": null,
   "metadata": {
    "collapsed": true
   },
   "outputs": [],
   "source": []
  },
  {
   "cell_type": "code",
   "execution_count": null,
   "metadata": {
    "collapsed": true
   },
   "outputs": [],
   "source": []
  },
  {
   "cell_type": "code",
   "execution_count": null,
   "metadata": {
    "collapsed": true
   },
   "outputs": [],
   "source": []
  },
  {
   "cell_type": "code",
   "execution_count": null,
   "metadata": {
    "collapsed": true
   },
   "outputs": [],
   "source": []
  },
  {
   "cell_type": "code",
   "execution_count": null,
   "metadata": {
    "ExecuteTime": {
     "end_time": "2018-02-09T16:11:58.892312Z",
     "start_time": "2018-02-09T16:11:14.573803Z"
    },
    "collapsed": true,
    "scrolled": false
   },
   "outputs": [],
   "source": [
    "# for info in infos:\n",
    "events, position, spikes, lfp, lfp_theta = get_data(info)\n",
    "xedges, yedges = nept.get_xyedges(position)\n",
    "\n",
    "tc_shape = (len(yedges) - 1, len(xedges) - 1)\n",
    "\n",
    "shortcut1 = find_intersection(info, \"shortcut1\", xedges, yedges)\n",
    "shortcut2 = find_intersection(info, \"shortcut2\", xedges, yedges)\n",
    "novel1 = find_intersection(info, \"novel1\", xedges, yedges)\n",
    "# novel2 = find_intersection(info, \"novel2\", xedges, yedges)\n",
    "stable1 = (np.array([1]), np.array([10]))\n",
    "\n",
    "novel_points = [shortcut1, shortcut2, novel1]\n",
    "stable_points = [stable1]\n",
    "\n",
    "novel_neighbours = find_neighbours(tc_shape, novel_points, neighbour_size=2)\n",
    "stable_neighbours = find_neighbours(tc_shape, stable_points, neighbour_size=2)\n",
    "\n",
    "corr12 = get_pearsons_correlation(info, \"phase1\", \"phase2\", xedges, yedges, position, spikes)\n",
    "corr13 = get_pearsons_correlation(info, \"phase1\", \"phase3\", xedges, yedges, position, spikes)\n",
    "corr23 = get_pearsons_correlation(info, \"phase2\", \"phase3\", xedges, yedges, position, spikes)\n",
    "corr33 = get_pearsons_correlation(info, \"phase3\", \"phase3\", xedges, yedges, position, spikes)\n",
    "\n",
    "filepath = os.path.join(output_filepath, info.session_id + \"_phase-shift12.png\")\n",
    "plot_tc_corr(corr12, stable_neighbours, novel_neighbours)\n",
    "\n",
    "plot_tc_corr(corr13, stable_neighbours, novel_neighbours)\n",
    "\n",
    "plot_tc_corr(corr23, stable_neighbours, novel_neighbours)\n",
    "\n",
    "filepath = os.path.join(output_filepath, info.session_id + \"_phase-shift33.png\")\n",
    "plot_tc_corr(corr33, stable_neighbours, novel_neighbours)"
   ]
  },
  {
   "cell_type": "code",
   "execution_count": null,
   "metadata": {
    "ExecuteTime": {
     "end_time": "2018-02-09T15:33:27.516696Z",
     "start_time": "2018-02-09T15:33:27.500684Z"
    },
    "collapsed": true
   },
   "outputs": [],
   "source": [
    "def compare_correlations(correlations, stable_neighbours, novel_neighbours):\n",
    "    stable_corr = [correlations[pt[1]][pt[0]] for pt in stable_neighbours]\n",
    "    novel_corr = [correlations[pt[1]][pt[0]] for pt in novel_neighbours]\n",
    "    \n",
    "    stable = np.nanmean(stable_corr)\n",
    "    novel = np.nanmean(novel_corr)\n",
    "\n",
    "    return stable, novel\n",
    "\n",
    "compare_correlations(corr12, stable_neighbours, novel_neighbours)"
   ]
  },
  {
   "cell_type": "code",
   "execution_count": null,
   "metadata": {
    "ExecuteTime": {
     "end_time": "2018-02-09T15:33:27.531705Z",
     "start_time": "2018-02-09T15:33:27.518697Z"
    },
    "collapsed": true
   },
   "outputs": [],
   "source": [
    "compare_correlations(corr13, stable_neighbours, novel_neighbours)"
   ]
  },
  {
   "cell_type": "code",
   "execution_count": null,
   "metadata": {
    "ExecuteTime": {
     "end_time": "2018-02-09T15:33:27.547718Z",
     "start_time": "2018-02-09T15:33:27.532706Z"
    },
    "collapsed": true
   },
   "outputs": [],
   "source": [
    "compare_correlations(corr23, stable_neighbours, novel_neighbours)"
   ]
  },
  {
   "cell_type": "code",
   "execution_count": null,
   "metadata": {
    "ExecuteTime": {
     "end_time": "2018-02-09T15:33:27.560726Z",
     "start_time": "2018-02-09T15:33:27.548718Z"
    },
    "collapsed": true
   },
   "outputs": [],
   "source": [
    "compare_correlations(corr33, stable_neighbours, novel_neighbours)"
   ]
  },
  {
   "cell_type": "code",
   "execution_count": null,
   "metadata": {
    "ExecuteTime": {
     "end_time": "2018-02-09T15:33:27.576737Z",
     "start_time": "2018-02-09T15:33:27.561727Z"
    },
    "collapsed": true
   },
   "outputs": [],
   "source": [
    "yy = [0.9448256327499559, 0.87462859828618689] \n",
    "tt = [0.81271753867513286, 0.38649566177067601]"
   ]
  },
  {
   "cell_type": "code",
   "execution_count": null,
   "metadata": {
    "ExecuteTime": {
     "end_time": "2018-02-09T15:59:09.640874Z",
     "start_time": "2018-02-09T15:59:09.442734Z"
    },
    "collapsed": true
   },
   "outputs": [],
   "source": [
    "x = np.arange(2) + 1\n",
    "plt.boxplot([yy, tt])\n",
    "labels = ['yy', 'tt']\n",
    "plt.xticks(x, labels, rotation='vertical')\n",
    "plt.show()"
   ]
  },
  {
   "cell_type": "code",
   "execution_count": null,
   "metadata": {
    "collapsed": true
   },
   "outputs": [],
   "source": []
  },
  {
   "cell_type": "code",
   "execution_count": null,
   "metadata": {
    "collapsed": true
   },
   "outputs": [],
   "source": []
  }
 ],
 "metadata": {
  "kernelspec": {
   "display_name": "Python 3",
   "language": "python",
   "name": "python3"
  },
  "language_info": {
   "codemirror_mode": {
    "name": "ipython",
    "version": 3
   },
   "file_extension": ".py",
   "mimetype": "text/x-python",
   "name": "python",
   "nbconvert_exporter": "python",
   "pygments_lexer": "ipython3",
   "version": "3.6.5"
  },
  "toc": {
   "colors": {
    "hover_highlight": "#DAA520",
    "running_highlight": "#FF0000",
    "selected_highlight": "#FFD700"
   },
   "moveMenuLeft": true,
   "nav_menu": {
    "height": "12px",
    "width": "252px"
   },
   "navigate_menu": true,
   "number_sections": true,
   "sideBar": true,
   "threshold": 4,
   "toc_cell": false,
   "toc_section_display": "block",
   "toc_window_display": false
  }
 },
 "nbformat": 4,
 "nbformat_minor": 2
}
