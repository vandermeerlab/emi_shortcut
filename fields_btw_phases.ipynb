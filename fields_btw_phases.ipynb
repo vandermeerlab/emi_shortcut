{
 "cells": [
  {
   "cell_type": "code",
   "execution_count": null,
   "metadata": {
    "ExecuteTime": {
     "end_time": "2018-06-22T13:04:08.312131Z",
     "start_time": "2018-06-22T13:04:07.618510Z"
    }
   },
   "outputs": [],
   "source": [
    "%matplotlib inline\n",
    "import matplotlib.pyplot as plt\n",
    "import numpy as np\n",
    "import itertools\n",
    "import scipy\n",
    "import os\n",
    "import nept\n",
    "\n",
    "from loading_data import get_data"
   ]
  },
  {
   "cell_type": "code",
   "execution_count": null,
   "metadata": {
    "ExecuteTime": {
     "end_time": "2018-06-22T13:04:08.318110Z",
     "start_time": "2018-06-22T13:04:08.314112Z"
    }
   },
   "outputs": [],
   "source": [
    "thisdir = os.getcwd()\n",
    "pickle_filepath = os.path.join(thisdir, \"cache\", \"pickled\")\n",
    "output_filepath = os.path.join(thisdir, \"plots\", \"phase_fields\")"
   ]
  },
  {
   "cell_type": "code",
   "execution_count": null,
   "metadata": {
    "ExecuteTime": {
     "end_time": "2018-06-22T13:04:08.694312Z",
     "start_time": "2018-06-22T13:04:08.319109Z"
    }
   },
   "outputs": [],
   "source": [
    "from analyze_tc_shifts import get_tuning_curves, get_pearsons_correlation, find_intersection, find_neighbours, plot_tc_corr, compare_correlations"
   ]
  },
  {
   "cell_type": "code",
   "execution_count": null,
   "metadata": {
    "ExecuteTime": {
     "end_time": "2018-06-22T13:04:08.699307Z",
     "start_time": "2018-06-22T13:04:08.695293Z"
    }
   },
   "outputs": [],
   "source": [
    "import info.r067d6 as r067d6\n",
    "import info.r067d7 as r067d7\n",
    "import info.r068d7 as r068d7"
   ]
  },
  {
   "cell_type": "code",
   "execution_count": null,
   "metadata": {
    "ExecuteTime": {
     "end_time": "2018-06-22T13:04:08.709301Z",
     "start_time": "2018-06-22T13:04:08.700291Z"
    }
   },
   "outputs": [],
   "source": [
    "infos = [r067d7, r068d7]"
   ]
  },
  {
   "cell_type": "code",
   "execution_count": null,
   "metadata": {
    "ExecuteTime": {
     "start_time": "2018-06-22T13:04:07.627Z"
    }
   },
   "outputs": [],
   "source": [
    "corr_stable12 = []\n",
    "corr_stable13 = []\n",
    "corr_stable23 = []\n",
    "\n",
    "corr_novel12 = []\n",
    "corr_novel13 = []\n",
    "corr_novel23 = []\n",
    "\n",
    "for info in infos:\n",
    "    events, position, spikes, lfp, lfp_theta = get_data(info)\n",
    "    xedges, yedges = nept.get_xyedges(position, binsize=3)\n",
    "\n",
    "    tc_shape = (len(yedges) - 1, len(xedges) - 1)\n",
    "\n",
    "    shortcut1 = find_intersection(info, \"shortcut1\", xedges, yedges)\n",
    "    shortcut2 = find_intersection(info, \"shortcut2\", xedges, yedges)\n",
    "    novel1 = find_intersection(info, \"novel1\", xedges, yedges)\n",
    "#     novel2 = find_intersec/tion(info, \"novel2\", xedges, yedges)\n",
    "    stable1 = find_intersection(info, \"stable1\", xedges, yedges)\n",
    "\n",
    "    novel_points = [shortcut1, shortcut2, novel1]\n",
    "    stable_points = [stable1]\n",
    "    novel_neighbours = find_neighbours(tc_shape, novel_points, neighbour_size=2)\n",
    "    stable_neighbours = find_neighbours(tc_shape, stable_points, neighbour_size=2)\n",
    "\n",
    "    corr12 = get_pearsons_correlation(info, \"phase1\", \"phase2\", xedges, yedges, position, spikes)\n",
    "    corr13 = get_pearsons_correlation(info, \"phase1\", \"phase3\", xedges, yedges, position, spikes)\n",
    "    corr23 = get_pearsons_correlation(info, \"phase2\", \"phase3\", xedges, yedges, position, spikes)\n",
    "    corr33 = get_pearsons_correlation(info, \"phase3\", \"phase3\", xedges, yedges, position, spikes)\n",
    "\n",
    "    stable12, novel12 = compare_correlations(corr12, stable_neighbours, novel_neighbours)\n",
    "    stable13, novel13 = compare_correlations(corr13, stable_neighbours, novel_neighbours)\n",
    "    stable23, novel23 = compare_correlations(corr23, stable_neighbours, novel_neighbours)\n",
    "\n",
    "    if not np.isnan(stable12):\n",
    "        corr_stable12.append(stable12)\n",
    "    if not np.isnan(novel12):\n",
    "        corr_novel12.append(novel12)\n",
    "    if not np.isnan(stable13):\n",
    "        corr_stable13.append(stable13)\n",
    "    if not np.isnan(novel13):\n",
    "        corr_novel13.append(novel13)\n",
    "    if not np.isnan(stable23):\n",
    "        corr_stable23.append(stable23)\n",
    "    if not np.isnan(novel23):\n",
    "        corr_novel23.append(novel23)\n",
    "\n",
    "    print(\"phases 1 and 2. Average correlation for stable:\", stable12, \"compared to novel:\", novel12, \"segments\")\n",
    "    print(\"phases 1 and 3. Average correlation for stable:\", stable13, \"compared to novel:\", novel13, \"segments\")\n",
    "    print(\"phases 2 and 3. Average correlation for stable:\", stable23, \"compared to novel:\", novel23, \"segments\")\n",
    "    \n",
    "    filepath = None\n",
    "\n",
    "#     filepath = os.path.join(output_filepath, info.session_id + \"_phase-shift12.png\")\n",
    "    plot_tc_corr(corr12, stable_neighbours, novel_neighbours, filepath)\n",
    "\n",
    "#     filepath = os.path.join(output_filepath, info.session_id + \"_phase-shift13.png\")\n",
    "    plot_tc_corr(corr13, stable_neighbours, novel_neighbours, filepath)\n",
    "\n",
    "#     filepath = os.path.join(output_filepath, info.session_id + \"_phase-shift23.png\")\n",
    "    plot_tc_corr(corr23, stable_neighbours, novel_neighbours, filepath)\n",
    "\n",
    "#     filepath = os.path.join(output_filepath, info.session_id + \"_phase-shift33.png\")\n",
    "    plot_tc_corr(corr33, stable_neighbours, novel_neighbours, filepath)\n",
    "\n",
    "print([corr_stable12, corr_novel12, corr_stable13, corr_novel13, corr_stable23, corr_novel23])\n",
    "x = np.arange(6) + 1\n",
    "plt.boxplot([corr_stable12, corr_novel12, corr_stable13, corr_novel13, corr_stable23, corr_novel23])\n",
    "labels = [\"corr_stable12\", \"corr_novel12\", \"corr_stable13\", \"corr_novel13\", \"corr_stable23\", \"corr_novel23\"]\n",
    "plt.xticks(x, labels, rotation='vertical')\n",
    "plt.show()"
   ]
  },
  {
   "cell_type": "code",
   "execution_count": null,
   "metadata": {
    "ExecuteTime": {
     "start_time": "2018-06-22T13:04:07.630Z"
    }
   },
   "outputs": [],
   "source": [
    "fig, ax = plt.subplots()\n",
    "\n",
    "boxplot = ax.boxplot([corr_stable12, corr_novel12, corr_stable12, corr_novel12, corr_stable12, corr_novel12], \n",
    "                     positions=[1, 2, 4, 5, 7, 8], widths=0.75, patch_artist=True)\n",
    "\n",
    "colours = ['#bf812d', '#35978f', '#bf812d', '#35978f', '#bf812d', '#35978f']\n",
    "for patch, colour in zip(boxplot['boxes'], colours):\n",
    "    patch.set_facecolor(colour)\n",
    "\n",
    "plt.setp(boxplot['medians'], color='k')\n",
    "\n",
    "plt.ylim(0.3, 1.)\n",
    "labels = [\"Phases 1-2\", \"Phases 1-3\", \"Phases 2-3\"]\n",
    "plt.xticks([1.5, 4.5, 7.5], labels)\n",
    "plt.ylabel(\"Mean correlation\")\n",
    "\n",
    "hB, = plt.plot([1, 1], '-', color='#bf812d')\n",
    "hR, = plt.plot([1, 1],'-', color='#35978f')\n",
    "plt.legend((hB, hR), ('Stable segments', 'Novel segments'), bbox_to_anchor=(1., 1.))\n",
    "hB.set_visible(False)\n",
    "hR.set_visible(False)\n",
    "\n",
    "ax.spines['right'].set_visible(False)\n",
    "ax.spines['top'].set_visible(False)\n",
    "ax.yaxis.set_ticks_position('left')\n",
    "ax.xaxis.set_ticks_position('bottom')\n",
    "\n",
    "plt.tight_layout()\n",
    "plt.show()"
   ]
  },
  {
   "cell_type": "code",
   "execution_count": null,
   "metadata": {},
   "outputs": [],
   "source": []
  },
  {
   "cell_type": "code",
   "execution_count": null,
   "metadata": {},
   "outputs": [],
   "source": []
  },
  {
   "cell_type": "code",
   "execution_count": null,
   "metadata": {
    "ExecuteTime": {
     "start_time": "2018-06-22T13:04:07.634Z"
    }
   },
   "outputs": [],
   "source": [
    "info = r067d7\n",
    "\n",
    "events, position, spikes, lfp, lfp_theta = get_data(info)\n",
    "xedges, yedges = nept.get_xyedges(position)\n",
    "\n",
    "tc_shape = (len(yedges) - 1, len(xedges) - 1)"
   ]
  },
  {
   "cell_type": "code",
   "execution_count": null,
   "metadata": {
    "ExecuteTime": {
     "start_time": "2018-06-22T13:04:07.636Z"
    }
   },
   "outputs": [],
   "source": [
    "position1 = position.time_slice(info.task_times[\"phase1\"].start, info.task_times[\"phase1\"].stop)\n",
    "position2 = position.time_slice(info.task_times[\"phase2\"].start, info.task_times[\"phase2\"].stop)\n",
    "position3 = position.time_slice(info.task_times[\"phase3\"].start, info.task_times[\"phase3\"].stop)"
   ]
  },
  {
   "cell_type": "code",
   "execution_count": null,
   "metadata": {
    "ExecuteTime": {
     "start_time": "2018-06-22T13:04:07.638Z"
    }
   },
   "outputs": [],
   "source": [
    "plt.plot(position1.x, position1.y, \"g.\")\n",
    "plt.plot(position2.x, position2.y, \"b.\")\n",
    "plt.plot(position3.x, position3.y, \"r.\")\n",
    "plt.show()"
   ]
  },
  {
   "cell_type": "code",
   "execution_count": null,
   "metadata": {
    "ExecuteTime": {
     "start_time": "2018-06-22T13:04:07.642Z"
    }
   },
   "outputs": [],
   "source": [
    "info.session_id"
   ]
  },
  {
   "cell_type": "code",
   "execution_count": null,
   "metadata": {
    "ExecuteTime": {
     "start_time": "2018-06-22T13:04:07.647Z"
    },
    "scrolled": false
   },
   "outputs": [],
   "source": [
    "xx, yy = np.meshgrid(xedges, yedges)\n",
    "\n",
    "phase = \"phase1\"\n",
    "sliced_position = position.time_slice(info.task_times[phase].start, info.task_times[phase].stop)\n",
    "sliced_spikes = [spiketrain.time_slice(info.task_times[phase].start, info.task_times[phase].stop) for spiketrain in spikes]\n",
    "\n",
    "neurons = get_tuning_curves(info, sliced_position, sliced_spikes, xedges, yedges, speed_limit=4., \n",
    "                            phase_id=phase, min_n_spikes=None, trial_times=None, trial_number=None, cache=False)\n",
    "\n",
    "multiple_tuning_curves = np.zeros(neurons.tuning_shape)\n",
    "for i in range(neurons.n_neurons):\n",
    "# for i in [9, 10]:\n",
    "#     print(i)\n",
    "    multiple_tuning_curves += neurons.tuning_curves[i]\n",
    "\n",
    "plt.figure(figsize=(6, 5))\n",
    "pp = plt.pcolormesh(xx, yy, multiple_tuning_curves, vmin=0.01, cmap=\"Greys\")\n",
    "plt.colorbar(pp)\n",
    "#     plt.axis('off')\n",
    "plt.tight_layout()\n",
    "plt.show()"
   ]
  },
  {
   "cell_type": "code",
   "execution_count": null,
   "metadata": {
    "ExecuteTime": {
     "start_time": "2018-06-22T13:04:07.649Z"
    },
    "scrolled": false
   },
   "outputs": [],
   "source": [
    "xx, yy = np.meshgrid(xedges, yedges)\n",
    "\n",
    "phase = \"phase3\"\n",
    "sliced_position = position.time_slice(info.task_times[phase].start, info.task_times[phase].stop)\n",
    "sliced_spikes = [spiketrain.time_slice(info.task_times[phase].start, info.task_times[phase].stop) for spiketrain in spikes]\n",
    "\n",
    "neurons = get_tuning_curves(info, sliced_position, sliced_spikes, xedges, yedges, speed_limit=3., \n",
    "                            phase_id=phase, min_n_spikes=None, trial_times=None, trial_number=None, cache=False)\n",
    "\n",
    "t = np.zeros(neurons.tuning_shape)\n",
    "multiple_tuning_curves = np.zeros(neurons.tuning_shape)\n",
    "\n",
    "for i in range(neurons.n_neurons):\n",
    "#     print(i)\n",
    "    multiple_tuning_curves += neurons.tuning_curves[i]\n",
    "    t += neurons.tuning_curves[i]\n",
    "\n",
    "plt.figure(figsize=(6, 5))\n",
    "# pp = plt.pcolormesh(xx, yy, t, vmin=0.01, vmax=0.5, cmap=\"Blues\")\n",
    "pp = plt.pcolormesh(xx, yy, multiple_tuning_curves, vmin=0.01, cmap=\"Greys\")\n",
    "plt.colorbar(pp)\n",
    "#     plt.axis('off')\n",
    "plt.tight_layout()\n",
    "plt.show()"
   ]
  },
  {
   "cell_type": "code",
   "execution_count": null,
   "metadata": {},
   "outputs": [],
   "source": []
  },
  {
   "cell_type": "code",
   "execution_count": null,
   "metadata": {},
   "outputs": [],
   "source": []
  },
  {
   "cell_type": "code",
   "execution_count": null,
   "metadata": {},
   "outputs": [],
   "source": []
  },
  {
   "cell_type": "code",
   "execution_count": null,
   "metadata": {
    "ExecuteTime": {
     "start_time": "2018-06-22T13:04:07.653Z"
    }
   },
   "outputs": [],
   "source": [
    "np.where(multiple_tuning_curves == np.max(multiple_tuning_curves))[0]"
   ]
  },
  {
   "cell_type": "code",
   "execution_count": null,
   "metadata": {
    "ExecuteTime": {
     "start_time": "2018-06-22T13:04:07.658Z"
    }
   },
   "outputs": [],
   "source": [
    "np.where(multiple_tuning_curves == np.max(multiple_tuning_curves))[0]"
   ]
  },
  {
   "cell_type": "code",
   "execution_count": null,
   "metadata": {
    "ExecuteTime": {
     "start_time": "2018-06-22T13:04:07.663Z"
    }
   },
   "outputs": [],
   "source": [
    "total_spikes = 0\n",
    "for i in range(neurons.n_neurons):\n",
    "    n_spikes = len(spikes[i].time)\n",
    "    print(n_spikes)\n",
    "    total_spikes += n_spikes\n",
    "print('total spikes:', total_spikes)"
   ]
  },
  {
   "cell_type": "code",
   "execution_count": null,
   "metadata": {},
   "outputs": [],
   "source": []
  },
  {
   "cell_type": "code",
   "execution_count": null,
   "metadata": {},
   "outputs": [],
   "source": []
  },
  {
   "cell_type": "code",
   "execution_count": null,
   "metadata": {},
   "outputs": [],
   "source": []
  },
  {
   "cell_type": "code",
   "execution_count": null,
   "metadata": {},
   "outputs": [],
   "source": []
  },
  {
   "cell_type": "code",
   "execution_count": null,
   "metadata": {},
   "outputs": [],
   "source": []
  },
  {
   "cell_type": "code",
   "execution_count": null,
   "metadata": {},
   "outputs": [],
   "source": []
  },
  {
   "cell_type": "code",
   "execution_count": null,
   "metadata": {
    "ExecuteTime": {
     "start_time": "2018-06-22T13:04:07.674Z"
    }
   },
   "outputs": [],
   "source": [
    "phase1 = \"phase1\"\n",
    "phase2 = \"phase3\"\n",
    "\n",
    "sliced_position1 = position.time_slice(info.task_times[phase1].start, info.task_times[phase1].stop)\n",
    "sliced_spikes1 = [spiketrain.time_slice(info.task_times[phase1].start, info.task_times[phase1].stop) for spiketrain in spikes]\n",
    "neurons1 = get_tuning_curves(info, sliced_position1, sliced_spikes1, xedges, yedges, speed_limit=4., phase_id=phase1, min_n_spikes=None, trial_times=None, trial_number=None, cache=False)\n",
    "\n",
    "sliced_position2 = position.time_slice(info.task_times[phase2].start, info.task_times[phase2].stop)\n",
    "sliced_spikes2 = [spiketrain.time_slice(info.task_times[phase2].start, info.task_times[phase2].stop) for spiketrain in spikes]\n",
    "neurons2 = get_tuning_curves(info, sliced_position2, sliced_spikes2, xedges, yedges, speed_limit=4., phase_id=phase2, min_n_spikes=None, trial_times=None, trial_number=None, cache=False)"
   ]
  },
  {
   "cell_type": "code",
   "execution_count": null,
   "metadata": {},
   "outputs": [],
   "source": []
  },
  {
   "cell_type": "code",
   "execution_count": null,
   "metadata": {
    "ExecuteTime": {
     "start_time": "2018-06-22T13:04:07.679Z"
    }
   },
   "outputs": [],
   "source": [
    "xx, yy = np.meshgrid(xedges, yedges)\n",
    "cmap = plt.cm.get_cmap('bone_r')"
   ]
  },
  {
   "cell_type": "code",
   "execution_count": null,
   "metadata": {
    "ExecuteTime": {
     "start_time": "2018-06-22T13:04:07.682Z"
    },
    "scrolled": false
   },
   "outputs": [],
   "source": [
    "neurons = neurons2\n",
    "\n",
    "for i in range(neurons.n_neurons):\n",
    "    multiple_tuning_curves = np.zeros(neurons.tuning_shape)\n",
    "#     print(i)\n",
    "    multiple_tuning_curves += neurons.tuning_curves[i]\n",
    "\n",
    "plt.figure(figsize=(6, 5))\n",
    "pp = plt.pcolormesh(xx, yy, multiple_tuning_curves, vmin=0.01, cmap=cmap)\n",
    "#     plt.colorbar(pp)\n",
    "plt.axis('off')\n",
    "plt.tight_layout()\n",
    "plt.show()"
   ]
  },
  {
   "cell_type": "code",
   "execution_count": null,
   "metadata": {},
   "outputs": [],
   "source": []
  },
  {
   "cell_type": "code",
   "execution_count": null,
   "metadata": {},
   "outputs": [],
   "source": []
  },
  {
   "cell_type": "code",
   "execution_count": null,
   "metadata": {},
   "outputs": [],
   "source": []
  },
  {
   "cell_type": "code",
   "execution_count": null,
   "metadata": {},
   "outputs": [],
   "source": []
  },
  {
   "cell_type": "code",
   "execution_count": null,
   "metadata": {
    "ExecuteTime": {
     "start_time": "2018-06-22T13:04:07.687Z"
    },
    "scrolled": false
   },
   "outputs": [],
   "source": [
    "# for info in infos:\n",
    "events, position, spikes, lfp, lfp_theta = get_data(info)\n",
    "xedges, yedges = nept.get_xyedges(position)\n",
    "\n",
    "tc_shape = (len(yedges) - 1, len(xedges) - 1)\n",
    "\n",
    "shortcut1 = find_intersection(info, \"shortcut1\", xedges, yedges)\n",
    "shortcut2 = find_intersection(info, \"shortcut2\", xedges, yedges)\n",
    "novel1 = find_intersection(info, \"novel1\", xedges, yedges)\n",
    "# novel2 = find_intersection(info, \"novel2\", xedges, yedges)\n",
    "stable1 = (np.array([1]), np.array([10]))\n",
    "\n",
    "novel_points = [shortcut1, shortcut2, novel1]\n",
    "stable_points = [stable1]\n",
    "\n",
    "novel_neighbours = find_neighbours(tc_shape, novel_points, neighbour_size=2)\n",
    "stable_neighbours = find_neighbours(tc_shape, stable_points, neighbour_size=2)\n",
    "\n",
    "corr12 = get_pearsons_correlation(info, \"phase1\", \"phase2\", xedges, yedges, position, spikes)\n",
    "corr13 = get_pearsons_correlation(info, \"phase1\", \"phase3\", xedges, yedges, position, spikes)\n",
    "corr23 = get_pearsons_correlation(info, \"phase2\", \"phase3\", xedges, yedges, position, spikes)\n",
    "corr33 = get_pearsons_correlation(info, \"phase3\", \"phase3\", xedges, yedges, position, spikes)\n",
    "\n",
    "filepath = os.path.join(output_filepath, info.session_id + \"_phase-shift12.png\")\n",
    "plot_tc_corr(corr12, stable_neighbours, novel_neighbours)\n",
    "\n",
    "plot_tc_corr(corr13, stable_neighbours, novel_neighbours)\n",
    "\n",
    "plot_tc_corr(corr23, stable_neighbours, novel_neighbours)\n",
    "\n",
    "filepath = os.path.join(output_filepath, info.session_id + \"_phase-shift33.png\")\n",
    "plot_tc_corr(corr33, stable_neighbours, novel_neighbours)"
   ]
  },
  {
   "cell_type": "code",
   "execution_count": null,
   "metadata": {
    "ExecuteTime": {
     "start_time": "2018-06-22T13:04:07.691Z"
    }
   },
   "outputs": [],
   "source": [
    "def compare_correlations(correlations, stable_neighbours, novel_neighbours):\n",
    "    stable_corr = [correlations[pt[1]][pt[0]] for pt in stable_neighbours]\n",
    "    novel_corr = [correlations[pt[1]][pt[0]] for pt in novel_neighbours]\n",
    "    \n",
    "    stable = np.nanmean(stable_corr)\n",
    "    novel = np.nanmean(novel_corr)\n",
    "\n",
    "    return stable, novel\n",
    "\n",
    "compare_correlations(corr12, stable_neighbours, novel_neighbours)"
   ]
  },
  {
   "cell_type": "code",
   "execution_count": null,
   "metadata": {
    "ExecuteTime": {
     "start_time": "2018-06-22T13:04:07.695Z"
    }
   },
   "outputs": [],
   "source": [
    "compare_correlations(corr13, stable_neighbours, novel_neighbours)"
   ]
  },
  {
   "cell_type": "code",
   "execution_count": null,
   "metadata": {
    "ExecuteTime": {
     "start_time": "2018-06-22T13:04:07.698Z"
    }
   },
   "outputs": [],
   "source": [
    "compare_correlations(corr23, stable_neighbours, novel_neighbours)"
   ]
  },
  {
   "cell_type": "code",
   "execution_count": null,
   "metadata": {
    "ExecuteTime": {
     "start_time": "2018-06-22T13:04:07.701Z"
    }
   },
   "outputs": [],
   "source": [
    "compare_correlations(corr33, stable_neighbours, novel_neighbours)"
   ]
  },
  {
   "cell_type": "code",
   "execution_count": null,
   "metadata": {
    "ExecuteTime": {
     "start_time": "2018-06-22T13:04:07.704Z"
    }
   },
   "outputs": [],
   "source": [
    "yy = [0.9448256327499559, 0.87462859828618689] \n",
    "tt = [0.81271753867513286, 0.38649566177067601]"
   ]
  },
  {
   "cell_type": "code",
   "execution_count": null,
   "metadata": {
    "ExecuteTime": {
     "start_time": "2018-06-22T13:04:07.708Z"
    }
   },
   "outputs": [],
   "source": [
    "x = np.arange(2) + 1\n",
    "plt.boxplot([yy, tt])\n",
    "labels = ['yy', 'tt']\n",
    "plt.xticks(x, labels, rotation='vertical')\n",
    "plt.show()"
   ]
  },
  {
   "cell_type": "code",
   "execution_count": null,
   "metadata": {},
   "outputs": [],
   "source": []
  },
  {
   "cell_type": "code",
   "execution_count": null,
   "metadata": {},
   "outputs": [],
   "source": []
  }
 ],
 "metadata": {
  "kernelspec": {
   "display_name": "Python 3",
   "language": "python",
   "name": "python3"
  },
  "language_info": {
   "codemirror_mode": {
    "name": "ipython",
    "version": 3
   },
   "file_extension": ".py",
   "mimetype": "text/x-python",
   "name": "python",
   "nbconvert_exporter": "python",
   "pygments_lexer": "ipython3",
   "version": "3.6.5"
  },
  "toc": {
   "colors": {
    "hover_highlight": "#DAA520",
    "running_highlight": "#FF0000",
    "selected_highlight": "#FFD700"
   },
   "moveMenuLeft": true,
   "nav_menu": {
    "height": "12px",
    "width": "252px"
   },
   "navigate_menu": true,
   "number_sections": true,
   "sideBar": true,
   "threshold": 4,
   "toc_cell": false,
   "toc_section_display": "block",
   "toc_window_display": false
  }
 },
 "nbformat": 4,
 "nbformat_minor": 2
}
