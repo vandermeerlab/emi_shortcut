{
 "cells": [
  {
   "cell_type": "code",
   "execution_count": null,
   "metadata": {
    "ExecuteTime": {
     "end_time": "2018-09-10T20:08:24.631997Z",
     "start_time": "2018-09-10T20:08:18.740414Z"
    }
   },
   "outputs": [],
   "source": [
    "%matplotlib inline\n",
    "import matplotlib.pyplot as plt\n",
    "import matplotlib.gridspec as gridspec\n",
    "from matplotlib.patches import Patch\n",
    "import numpy as np\n",
    "import scipy\n",
    "import os\n",
    "import scalebar\n",
    "import nept\n",
    "\n",
    "from loading_data import get_data\n",
    "from analyze_tuning_curves import get_only_tuning_curves\n",
    "from utils_plotting import plot_over_space\n",
    "from utils_maze import get_zones, get_bin_centers, get_matched_trials"
   ]
  },
  {
   "cell_type": "code",
   "execution_count": null,
   "metadata": {
    "ExecuteTime": {
     "end_time": "2018-09-10T20:08:24.639009Z",
     "start_time": "2018-09-10T20:08:24.634995Z"
    }
   },
   "outputs": [],
   "source": [
    "thisdir = os.getcwd()\n",
    "pickle_filepath = os.path.join(thisdir, \"cache\", \"pickled\")\n",
    "output_filepath = os.path.join(thisdir, \"plots\", \"trials\", \"decoding\")\n",
    "if not os.path.exists(output_filepath):\n",
    "    os.makedirs(output_filepath)"
   ]
  },
  {
   "cell_type": "code",
   "execution_count": null,
   "metadata": {
    "ExecuteTime": {
     "end_time": "2018-09-10T20:15:56.872351Z",
     "start_time": "2018-09-10T20:15:56.868333Z"
    }
   },
   "outputs": [],
   "source": [
    "import info.r068d8 as r068d8\n",
    "import info.r068d3 as r068d3\n",
    "infos = [r068d8, r068d3]\n",
    "from run import analysis_infos\n",
    "# infos = analysis_infos"
   ]
  },
  {
   "cell_type": "code",
   "execution_count": null,
   "metadata": {
    "ExecuteTime": {
     "end_time": "2018-09-10T20:08:25.296594Z",
     "start_time": "2018-09-10T20:08:25.287576Z"
    }
   },
   "outputs": [],
   "source": [
    "def bin_spikes(spikes, time, dt, window=None, gaussian_std=None, normalized=True):\n",
    "    \"\"\"Bins spikes using a sliding window.\n",
    "\n",
    "    Parameters\n",
    "    ----------\n",
    "    spikes: list\n",
    "        Of nept.SpikeTrain\n",
    "    time: np.array\n",
    "    window: float or None\n",
    "        Length of the sliding window, in seconds. If None, will default to dt.\n",
    "    dt: float\n",
    "    gaussian_std: float or None\n",
    "    normalized: boolean\n",
    "\n",
    "    Returns\n",
    "    -------\n",
    "    binned_spikes: nept.AnalogSignal\n",
    "\n",
    "    \"\"\"\n",
    "    if window is None:\n",
    "        window = dt\n",
    "\n",
    "    bin_edges = time\n",
    "\n",
    "    given_n_bins = window / dt\n",
    "    n_bins = int(round(given_n_bins))\n",
    "    if abs(n_bins - given_n_bins) > 0.01:\n",
    "        warnings.warn(\"dt does not divide window evenly. \"\n",
    "                      \"Using window %g instead.\" % (n_bins*dt))\n",
    "\n",
    "    if normalized:\n",
    "        square_filter = np.ones(n_bins) * (1 / n_bins)\n",
    "    else:\n",
    "        square_filter = np.ones(n_bins)\n",
    "\n",
    "    counts = np.zeros((len(spikes), len(bin_edges) - 1))\n",
    "    for idx, spiketrain in enumerate(spikes):\n",
    "        counts[idx] = np.convolve(np.histogram(spiketrain.time, bins=bin_edges)[0].astype(float),\n",
    "                                  square_filter, mode=\"same\")\n",
    "\n",
    "    if gaussian_std is not None:\n",
    "        counts = nept.gaussian_filter(counts, gaussian_std, dt=dt, normalized=normalized, axis=1)\n",
    "\n",
    "    return nept.AnalogSignal(counts, bin_edges[:-1])"
   ]
  },
  {
   "cell_type": "code",
   "execution_count": null,
   "metadata": {
    "ExecuteTime": {
     "end_time": "2018-09-10T20:08:25.319578Z",
     "start_time": "2018-09-10T20:08:25.301566Z"
    }
   },
   "outputs": [],
   "source": [
    "def plot_summary_individual(info, means, position, lfp, spikes, start, stop, likelihood, \n",
    "                            zones, filepath=None, savefig=False):\n",
    "    buffer=0.1\n",
    "\n",
    "    sliced_spikes = [spiketrain.time_slice(start-buffer, stop+buffer) for spiketrain in spikes]\n",
    "\n",
    "    rows = len(sliced_spikes)\n",
    "    add_rows = int(rows / 8)\n",
    "\n",
    "    ms = 600 / rows\n",
    "    mew = 0.7\n",
    "    spike_loc = 1\n",
    "\n",
    "    fig = plt.figure(figsize=(8, 8))\n",
    "    gs1 = gridspec.GridSpec(3, 2)\n",
    "    gs1.update(wspace=0.3, hspace=0.3)\n",
    "\n",
    "    ax1 = plt.subplot(gs1[1:, 0])\n",
    "    for idx, neuron_spikes in enumerate(sliced_spikes):\n",
    "        ax1.plot(neuron_spikes.time, np.ones(len(neuron_spikes.time)) + (idx * spike_loc), '|',\n",
    "                 color='k', ms=ms, mew=mew)\n",
    "\n",
    "    ax1.axis('off')\n",
    "\n",
    "    ax2 = plt.subplot(gs1[0, 0], sharex=ax1)\n",
    "\n",
    "    start_idx = nept.find_nearest_idx(lfp.time, start - buffer)\n",
    "    stop_idx = nept.find_nearest_idx(lfp.time, stop + buffer)\n",
    "    ax2.plot(lfp.time[start_idx:stop_idx], lfp.data[start_idx:stop_idx], '#3288bd', lw=0.3)\n",
    "\n",
    "    start_idx = nept.find_nearest_idx(lfp.time, start)\n",
    "    stop_idx = nept.find_nearest_idx(lfp.time, stop)\n",
    "    ax2.plot(lfp.time[start_idx:stop_idx], lfp.data[start_idx:stop_idx], 'k', lw=0.4)\n",
    "\n",
    "    ax2.axis(\"off\")\n",
    "\n",
    "    scalebar.add_scalebar(ax2, matchy=False, bbox_transform=fig.transFigure,\n",
    "                          bbox_to_anchor=(0.25, 0.05), units='ms')\n",
    "\n",
    "    likelihood[np.isnan(likelihood)] = 0\n",
    "    \n",
    "    xx, yy = np.meshgrid(info.xedges, info.yedges)\n",
    "    xcenters, ycenters = get_bin_centers(info)\n",
    "    xxx, yyy = np.meshgrid(xcenters, ycenters)\n",
    "\n",
    "    ax3 = plt.subplot(gs1[0, 1])\n",
    "    sliced_position = position.time_slice(info.task_times[\"phase3\"].starts, info.task_times[\"phase3\"].stops)\n",
    "    ax3.plot(sliced_position.x, sliced_position.y, \"y.\", ms=1, alpha=0.2)\n",
    "    pp = ax3.pcolormesh(xx, yy, likelihood, cmap='bone_r')\n",
    "    ax3.contour(xxx, yyy, zones[\"u\"], levels=0, colors='#2b8cbe')\n",
    "    ax3.contour(xxx, yyy, zones[\"shortcut\"], levels=0, colors='#31a354')\n",
    "    ax3.contour(xxx, yyy, zones[\"novel\"], levels=0, colors='#d95f0e')\n",
    "\n",
    "    plt.colorbar(pp)\n",
    "    ax3.axis('off')\n",
    "\n",
    "    ax4 = plt.subplot(gs1[1:, 1])\n",
    "    n = np.arange(len(maze_segments))\n",
    "    ax4.bar(n, means, color=['#2b8cbe', '#31a354', '#d95f0e', '#bdbdbd'], edgecolor='k')\n",
    "    ax4.set_xticks(n)\n",
    "    ax4.set_xticklabels(maze_segments, rotation=90)\n",
    "    ax4.set_ylim([0, 1.])\n",
    "    \n",
    "    plt.tight_layout()\n",
    "    \n",
    "    if savefig:\n",
    "        plt.savefig(filepath)\n",
    "        plt.close()\n",
    "    else:\n",
    "        plt.show()"
   ]
  },
  {
   "cell_type": "code",
   "execution_count": null,
   "metadata": {
    "ExecuteTime": {
     "end_time": "2018-09-10T20:08:25.335571Z",
     "start_time": "2018-09-10T20:08:25.321579Z"
    }
   },
   "outputs": [],
   "source": [
    "def plot_likelihood_overspace(info, position, likelihoods, zones, filepath=None):\n",
    "    \n",
    "    xx, yy = np.meshgrid(info.xedges, info.yedges)\n",
    "    xcenters, ycenters = get_bin_centers(info)\n",
    "    xxx, yyy = np.meshgrid(xcenters, ycenters)\n",
    "    \n",
    "    sliced_position = position.time_slice(info.task_times[\"phase3\"].starts, info.task_times[\"phase3\"].stops)\n",
    "    plt.plot(sliced_position.x, sliced_position.y, \"b.\", ms=1, alpha=0.2)\n",
    "    pp = plt.pcolormesh(xx, yy, np.nanmean(likelihoods, axis=0), vmax=0.2, cmap='bone_r')\n",
    "    plt.contour(xxx, yyy, zones[\"u\"], levels=0, colors='#2b8cbe', corner_mask=False)\n",
    "    plt.contour(xxx, yyy, zones[\"shortcut\"], levels=0, colors='#31a354', corner_mask=False)\n",
    "    plt.contour(xxx, yyy, zones[\"novel\"], levels=0, colors='#d95f0e', corner_mask=False)\n",
    "\n",
    "    plt.colorbar(pp)\n",
    "    plt.axis('off')\n",
    "    if filepath is not None:\n",
    "        plt.savefig(os.path.join(output_filepath, filename+\".png\"))\n",
    "        plt.close()\n",
    "    else:\n",
    "        plt.show()"
   ]
  },
  {
   "cell_type": "code",
   "execution_count": null,
   "metadata": {
    "ExecuteTime": {
     "end_time": "2018-09-10T20:08:25.347565Z",
     "start_time": "2018-09-10T20:08:25.337570Z"
    }
   },
   "outputs": [],
   "source": [
    "def get_likelihood(spikes, tuning_curves, start, stop):\n",
    "    sliced_spikes = [spiketrain.time_slice(start, stop) for spiketrain in spikes]\n",
    "    t_window = stop-start # 0.1 for running, 0.025 for swr\n",
    "    counts = bin_spikes(sliced_spikes, np.array([start, stop]), dt=t_window, window=t_window,\n",
    "                        gaussian_std=0.0075, normalized=False)\n",
    "    likelihood = nept.bayesian_prob(counts, decoding_tc, binsize=t_window, min_neurons=3, min_spikes=1)\n",
    "\n",
    "    return likelihood.reshape(tuning_curves.shape[1], tuning_curves.shape[2])"
   ]
  },
  {
   "cell_type": "code",
   "execution_count": null,
   "metadata": {
    "ExecuteTime": {
     "end_time": "2018-09-11T19:21:01.384624Z",
     "start_time": "2018-09-11T19:21:01.370635Z"
    }
   },
   "outputs": [],
   "source": [
    "def plot_combined(summary_likelihoods, n_all_swrs, task_times, maze_segments, n_sessions, filename=None):\n",
    "    \n",
    "    trajectory_means = {key: [] for key in maze_segments}\n",
    "    trajectory_sems = {key: [] for key in maze_segments}\n",
    "    max_val = 0\n",
    "    \n",
    "    for trajectory in maze_segments:\n",
    "        for task_time in task_times:\n",
    "            max_val = max(np.max(summary_likelihoods[task_time][trajectory]), max_val)\n",
    "\n",
    "        trajectory_means[trajectory] = [np.nanmean(summary_likelihoods[task_time][trajectory]) for task_time in task_times]\n",
    "        trajectory_sems[trajectory] = [scipy.stats.sem(summary_likelihoods[task_time][trajectory]) for task_time in task_times] \n",
    "\n",
    "    fig = plt.figure(figsize=(12,6))\n",
    "    gs1 = gridspec.GridSpec(1, 4)\n",
    "    gs1.update(wspace=0.3, hspace=0.)\n",
    "\n",
    "    n = np.arange(len(task_times))\n",
    "    ax1 = plt.subplot(gs1[0])\n",
    "    ax1.bar(n, trajectory_means[\"u\"], yerr=trajectory_sems[\"u\"], color=\"#2b8cbe\")\n",
    "    ax2 = plt.subplot(gs1[1])\n",
    "    ax2.bar(n, trajectory_means[\"shortcut\"], yerr=trajectory_sems[\"shortcut\"], color=\"#31a354\")\n",
    "    ax3 = plt.subplot(gs1[2])\n",
    "    ax3.bar(n, trajectory_means[\"novel\"], yerr=trajectory_sems[\"novel\"], color=\"#d95f0e\")\n",
    "    ax4 = plt.subplot(gs1[3])\n",
    "    ax4.bar(n, trajectory_means[\"other\"], yerr=trajectory_sems[\"other\"], color=\"#bdbdbd\")\n",
    "    \n",
    "    for ax in [ax1, ax2, ax3, ax4]:\n",
    "        ax.set_ylim([0, max_val])\n",
    "        \n",
    "        ax.set_xticks(np.arange(len(task_times)))\n",
    "        ax.set_xticklabels(task_times, rotation = 90)\n",
    "\n",
    "        ax.spines['right'].set_visible(False)\n",
    "        ax.spines['top'].set_visible(False)\n",
    "        ax.yaxis.set_ticks_position('left')\n",
    "        ax.xaxis.set_ticks_position('bottom')\n",
    "\n",
    "        for i, task_time in enumerate(task_times):\n",
    "            ax.text(i, 0.01, str(n_all_swrs[task_time]), ha=\"center\", fontsize=14)\n",
    "\n",
    "    for ax in [ax2, ax3, ax4]:\n",
    "        ax.set_yticklabels([])\n",
    "    \n",
    "    plt.text(1., 1., \"n sessions: \"+ str(n_sessions), horizontalalignment='left', \n",
    "             verticalalignment='top', fontsize=14)\n",
    "\n",
    "    fig.suptitle(filename, fontsize=18)\n",
    "#     ax1.set_ylabel(\"Proportion\")\n",
    "\n",
    "    legend_elements = [Patch(facecolor='#2b8cbe', edgecolor='k', label=\"u\"),\n",
    "                       Patch(facecolor='#31a354', edgecolor='k', label=\"shortcut\"),\n",
    "                       Patch(facecolor='#d95f0e', edgecolor='k', label=\"novel\"),\n",
    "                       Patch(facecolor='#bdbdbd', edgecolor='k', label=\"other\")]\n",
    "    plt.legend(handles=legend_elements, bbox_to_anchor=(1.05, 1.0))\n",
    "    \n",
    "    gs1.tight_layout(fig)\n",
    "    \n",
    "    if filename is not None:\n",
    "        plt.savefig(os.path.join(output_filepath, filename+\".png\"))\n",
    "        plt.close()\n",
    "    else:\n",
    "        plt.show()"
   ]
  },
  {
   "cell_type": "code",
   "execution_count": null,
   "metadata": {
    "ExecuteTime": {
     "end_time": "2018-09-11T19:24:15.837223Z",
     "start_time": "2018-09-11T19:24:15.827248Z"
    }
   },
   "outputs": [],
   "source": [
    "def plot_stacked_summary(summary_likelihoods, n_all_swrs, task_times, maze_segments, n_sessions, filename=None):\n",
    "    \n",
    "    trajectory_means = {key: [] for key in maze_segments}\n",
    "    trajectory_sems = {key: [] for key in maze_segments}\n",
    "\n",
    "    for trajectory in maze_segments:              \n",
    "        trajectory_means[trajectory] = [np.nanmean(summary_likelihoods[task_time][trajectory]) for task_time in task_times]\n",
    "        trajectory_sems[trajectory] = [scipy.stats.sem(summary_likelihoods[task_time][trajectory]) for task_time in task_times] \n",
    "\n",
    "    fig, ax = plt.subplots(figsize=(7,5))\n",
    "    n = np.arange(len(task_times))\n",
    "    pu = plt.bar(n, trajectory_means[\"u\"], yerr=trajectory_sems[\"u\"], color=\"#2b8cbe\")\n",
    "    ps = plt.bar(n, trajectory_means[\"shortcut\"], yerr=trajectory_sems[\"shortcut\"],\n",
    "                 bottom=trajectory_means[\"u\"], color=\"#31a354\")\n",
    "    pn = plt.bar(n, trajectory_means[\"novel\"], yerr=trajectory_sems[\"novel\"],\n",
    "                 bottom=np.array(trajectory_means[\"u\"])+np.array(trajectory_means[\"shortcut\"]), color=\"#d95f0e\")\n",
    "    po = plt.bar(n, trajectory_means[\"other\"], yerr=trajectory_sems[\"other\"],\n",
    "                 bottom=np.array(trajectory_means[\"u\"])+np.array(trajectory_means[\"shortcut\"])+np.array(trajectory_means[\"novel\"]), color=\"#bdbdbd\")\n",
    "    plt.xticks(n, task_times)\n",
    "    plt.title(filename)\n",
    "\n",
    "    for i, task_time in enumerate(task_times):\n",
    "        ax.text(i, 0.01, str(n_all_swrs[task_time]), ha=\"center\", fontsize=14)\n",
    "    \n",
    "    plt.text(2.8, -0.15, \"n sessions: \"+ str(n_sessions), fontsize=14)\n",
    "\n",
    "    ax.spines['right'].set_visible(False)\n",
    "    ax.spines['top'].set_visible(False)\n",
    "    ax.yaxis.set_ticks_position('left')\n",
    "    ax.xaxis.set_ticks_position('bottom')\n",
    "\n",
    "    plt.tight_layout()\n",
    "    if filename is not None:\n",
    "        plt.savefig(os.path.join(output_filepath, filename+\".png\"))\n",
    "        plt.close()\n",
    "    else:\n",
    "        plt.show()"
   ]
  },
  {
   "cell_type": "code",
   "execution_count": null,
   "metadata": {
    "ExecuteTime": {
     "end_time": "2018-09-11T19:24:16.206156Z",
     "start_time": "2018-09-11T19:24:16.074224Z"
    }
   },
   "outputs": [],
   "source": [
    "filename = \"Average posteriors during SWRs_sum-stacked\"\n",
    "plot_stacked_summary(likelihoods_sum, n_all_swrs, task_times, maze_segments, n_sessions, filename)"
   ]
  },
  {
   "cell_type": "code",
   "execution_count": null,
   "metadata": {
    "ExecuteTime": {
     "end_time": "2018-09-10T20:16:23.199733Z",
     "start_time": "2018-09-10T20:16:23.195734Z"
    }
   },
   "outputs": [],
   "source": [
    "plot_individual = False\n",
    "plot_session = True"
   ]
  },
  {
   "cell_type": "code",
   "execution_count": null,
   "metadata": {
    "ExecuteTime": {
     "end_time": "2018-09-10T20:37:20.360019Z",
     "start_time": "2018-09-10T20:29:52.758601Z"
    },
    "scrolled": false
   },
   "outputs": [],
   "source": [
    "task_times = [\"prerecord\", \"pauseA\", \"pauseB\", \"postrecord\"]\n",
    "maze_segments = [\"u\", \"shortcut\", \"novel\", \"other\"]\n",
    "\n",
    "n_sessions = len(infos)\n",
    "likelihoods_sum = {k: {trajectory: [] for trajectory in maze_segments} for k in task_times}\n",
    "\n",
    "n_all_swrs = {k: 0 for k in task_times}\n",
    "    \n",
    "for info in infos:\n",
    "    print(info.session_id)\n",
    "    events, position, spikes, lfp, _ = get_data(info)\n",
    "    \n",
    "    tuning_curves = get_only_tuning_curves(info,\n",
    "                                           position,\n",
    "                                           spikes,\n",
    "                                           info.task_times[\"phase3\"])\n",
    "\n",
    "    tc_shape = tuning_curves.shape\n",
    "    decoding_tc = tuning_curves.reshape(tc_shape[0], tc_shape[1] * tc_shape[2])\n",
    "    \n",
    "    # Define zones\n",
    "    zones = dict()\n",
    "    zones[\"u\"], zones[\"shortcut\"], zones[\"novel\"] = get_zones(info, position, subset=True)\n",
    "    combined_zones = zones[\"u\"] + zones[\"shortcut\"] + zones[\"novel\"]\n",
    "    zones[\"other\"] = ~combined_zones\n",
    "\n",
    "    # Find SWRs for the whole session\n",
    "    z_thresh = 2.0\n",
    "    power_thresh = 3.0\n",
    "    merge_thresh = 0.02\n",
    "    min_length = 0.05\n",
    "    swrs = nept.detect_swr_hilbert(lfp, fs=info.fs, thresh=(140.0, 250.0), z_thresh=z_thresh,\n",
    "                                   power_thresh=power_thresh, merge_thresh=merge_thresh, min_length=min_length)\n",
    "    swrs = nept.find_multi_in_epochs(spikes, swrs, min_involved=4)\n",
    "\n",
    "    rest_epochs = nept.rest_threshold(position, thresh=12., t_smooth=0.8)\n",
    "\n",
    "    # Restrict SWRs to those during epochs of interest during rest\n",
    "    task_times = [\"prerecord\", \"pauseA\", \"pauseB\", \"postrecord\"]\n",
    "    \n",
    "    session_likelihoods_max = {k: {trajectory: [] for trajectory in maze_segments} for k in task_times}\n",
    "    session_likelihoods_mean = {k: {trajectory: [] for trajectory in maze_segments} for k in task_times}\n",
    "    session_likelihoods_sum = {k: {trajectory: [] for trajectory in maze_segments} for k in task_times}\n",
    "\n",
    "    for i, task_time in enumerate(task_times):\n",
    "        epochs_of_interest = info.task_times[task_time].intersect(rest_epochs)\n",
    "\n",
    "        phase_swrs = epochs_of_interest.overlaps(swrs)\n",
    "        phase_swrs = phase_swrs[phase_swrs.durations >= 0.05]\n",
    "        \n",
    "        likelihoods = []\n",
    "        n_all_swrs[task_time] += phase_swrs.n_epochs\n",
    "\n",
    "        for i, (start, stop) in enumerate(zip(phase_swrs.starts, phase_swrs.stops)):\n",
    "            likelihood = get_likelihood(spikes, tuning_curves, start, stop)\n",
    "            \n",
    "            likelihoods.append(likelihood)\n",
    "            \n",
    "            for trajectory in maze_segments:\n",
    "                likelihoods_sum[task_time][trajectory].append(np.nansum(likelihood[zones[trajectory]]))\n",
    "                session_likelihoods_sum[task_time][trajectory].append(np.nansum(likelihood[zones[trajectory]]))\n",
    "         \n",
    "            if plot_individual:\n",
    "                filename = info.session_id + \"_\" + task_time + \"_summary-swr\" + str(i) + \"_sum.png\"\n",
    "                filepath = os.path.join(output_filepath, \"swr\", \"sum\", filename)\n",
    "                # TODO should this be nansum or nanmean?\n",
    "                means = [np.nansum(likelihood[zones[trajectory]]) for trajectory in maze_segments]\n",
    "                plot_summary_individual(info, means, position, lfp, spikes, start, stop, likelihood, \n",
    "                                        zones, filepath, savefig=True)\n",
    "        \n",
    "        filename = info.session_id+\"-average-likelihood-overspace_\"+task_time\n",
    "        if len(likelihoods) > 0:\n",
    "            plot_likelihood_overspace(info, position, likelihoods, zones, filename)\n",
    "      \n",
    "    if plot_session:\n",
    "        if len(likelihoods) > 0:\n",
    "            filename = info.session_id + \" average posteriors during SWRs_sum\"\n",
    "            plot_combined(session_likelihoods_sum, n_all_swrs, task_times, maze_segments, n_sessions, filename)\n",
    "\n",
    "            filename = info.session_id + \" average posteriors during SWRs_sum-stacked\"\n",
    "            plot_stacked_summary(session_likelihoods_sum, n_all_swrs, task_times, maze_segments, n_sessions, filename)\n",
    "\n",
    "filename = \"Average posteriors during SWRs_sum\"\n",
    "plot_combined(likelihoods_sum, n_all_swrs, task_times, maze_segments, n_sessions, filename)\n",
    "\n",
    "filename = \"Average posteriors during SWRs_sum-stacked\"\n",
    "plot_stacked_summary(likelihoods_sum, n_all_swrs, task_times, maze_segments, n_sessions, filename)"
   ]
  },
  {
   "cell_type": "code",
   "execution_count": null,
   "metadata": {
    "ExecuteTime": {
     "end_time": "2018-09-11T15:40:04.591124Z",
     "start_time": "2018-09-11T15:40:04.586146Z"
    }
   },
   "outputs": [],
   "source": [
    "likelihoods"
   ]
  },
  {
   "cell_type": "code",
   "execution_count": null,
   "metadata": {
    "ExecuteTime": {
     "end_time": "2018-09-11T15:44:19.741521Z",
     "start_time": "2018-09-11T15:44:19.737522Z"
    }
   },
   "outputs": [],
   "source": [
    "info.session_id"
   ]
  },
  {
   "cell_type": "code",
   "execution_count": null,
   "metadata": {
    "ExecuteTime": {
     "end_time": "2018-09-11T15:43:16.861487Z",
     "start_time": "2018-09-11T15:43:16.856472Z"
    }
   },
   "outputs": [],
   "source": [
    "session_likelihoods_max[\"postrecord\"][\"u\"]"
   ]
  },
  {
   "cell_type": "code",
   "execution_count": null,
   "metadata": {},
   "outputs": [],
   "source": []
  }
 ],
 "metadata": {
  "kernelspec": {
   "display_name": "Python 3",
   "language": "python",
   "name": "python3"
  },
  "language_info": {
   "codemirror_mode": {
    "name": "ipython",
    "version": 3
   },
   "file_extension": ".py",
   "mimetype": "text/x-python",
   "name": "python",
   "nbconvert_exporter": "python",
   "pygments_lexer": "ipython3",
   "version": "3.6.5"
  },
  "toc": {
   "colors": {
    "hover_highlight": "#DAA520",
    "running_highlight": "#FF0000",
    "selected_highlight": "#FFD700"
   },
   "moveMenuLeft": true,
   "nav_menu": {
    "height": "12px",
    "width": "252px"
   },
   "navigate_menu": true,
   "number_sections": true,
   "sideBar": true,
   "threshold": 4,
   "toc_cell": false,
   "toc_section_display": "block",
   "toc_window_display": false
  }
 },
 "nbformat": 4,
 "nbformat_minor": 2
}
