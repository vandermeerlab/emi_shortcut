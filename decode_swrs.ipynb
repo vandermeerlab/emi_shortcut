{
 "cells": [
  {
   "cell_type": "code",
   "execution_count": null,
   "metadata": {
    "ExecuteTime": {
     "end_time": "2018-09-07T17:24:05.043565Z",
     "start_time": "2018-09-07T17:24:03.829415Z"
    }
   },
   "outputs": [],
   "source": [
    "%matplotlib inline\n",
    "import matplotlib.pyplot as plt\n",
    "import matplotlib.gridspec as gridspec\n",
    "from matplotlib.patches import Patch\n",
    "import numpy as np\n",
    "import scipy\n",
    "import os\n",
    "import scalebar\n",
    "import nept\n",
    "\n",
    "from loading_data import get_data\n",
    "from analyze_tuning_curves import get_only_tuning_curves\n",
    "from utils_plotting import plot_over_space\n",
    "from utils_maze import get_zones, get_bin_centers, get_matched_trials"
   ]
  },
  {
   "cell_type": "code",
   "execution_count": null,
   "metadata": {
    "ExecuteTime": {
     "end_time": "2018-09-07T17:24:05.053642Z",
     "start_time": "2018-09-07T17:24:05.047155Z"
    }
   },
   "outputs": [],
   "source": [
    "thisdir = os.getcwd()\n",
    "pickle_filepath = os.path.join(thisdir, \"cache\", \"pickled\")\n",
    "output_filepath = os.path.join(thisdir, \"plots\", \"trials\", \"decoding\")\n",
    "if not os.path.exists(output_filepath):\n",
    "    os.makedirs(output_filepath)"
   ]
  },
  {
   "cell_type": "code",
   "execution_count": null,
   "metadata": {
    "ExecuteTime": {
     "end_time": "2018-09-07T17:24:05.099556Z",
     "start_time": "2018-09-07T17:24:05.057636Z"
    }
   },
   "outputs": [],
   "source": [
    "import info.r063d2 as r063d2\n",
    "import info.r063d3 as r063d3\n",
    "infos = [r063d2, r063d3]\n",
    "from run import analysis_infos\n",
    "# infos = analysis_infos"
   ]
  },
  {
   "cell_type": "code",
   "execution_count": null,
   "metadata": {
    "ExecuteTime": {
     "end_time": "2018-09-07T17:24:05.110037Z",
     "start_time": "2018-09-07T17:24:05.102551Z"
    }
   },
   "outputs": [],
   "source": [
    "def bin_spikes(spikes, time, dt, window=None, gaussian_std=None, normalized=True):\n",
    "    \"\"\"Bins spikes using a sliding window.\n",
    "\n",
    "    Parameters\n",
    "    ----------\n",
    "    spikes: list\n",
    "        Of nept.SpikeTrain\n",
    "    time: np.array\n",
    "    window: float or None\n",
    "        Length of the sliding window, in seconds. If None, will default to dt.\n",
    "    dt: float\n",
    "    gaussian_std: float or None\n",
    "    normalized: boolean\n",
    "\n",
    "    Returns\n",
    "    -------\n",
    "    binned_spikes: nept.AnalogSignal\n",
    "\n",
    "    \"\"\"\n",
    "    if window is None:\n",
    "        window = dt\n",
    "\n",
    "    bin_edges = time\n",
    "\n",
    "    given_n_bins = window / dt\n",
    "    n_bins = int(round(given_n_bins))\n",
    "    if abs(n_bins - given_n_bins) > 0.01:\n",
    "        warnings.warn(\"dt does not divide window evenly. \"\n",
    "                      \"Using window %g instead.\" % (n_bins*dt))\n",
    "\n",
    "    if normalized:\n",
    "        square_filter = np.ones(n_bins) * (1 / n_bins)\n",
    "    else:\n",
    "        square_filter = np.ones(n_bins)\n",
    "\n",
    "    counts = np.zeros((len(spikes), len(bin_edges) - 1))\n",
    "    for idx, spiketrain in enumerate(spikes):\n",
    "        counts[idx] = np.convolve(np.histogram(spiketrain.time, bins=bin_edges)[0].astype(float),\n",
    "                                  square_filter, mode=\"same\")\n",
    "\n",
    "    if gaussian_std is not None:\n",
    "        counts = nept.gaussian_filter(counts, gaussian_std, dt=dt, normalized=normalized, axis=1)\n",
    "\n",
    "    return nept.AnalogSignal(counts, bin_edges[:-1])"
   ]
  },
  {
   "cell_type": "code",
   "execution_count": null,
   "metadata": {},
   "outputs": [],
   "source": []
  },
  {
   "cell_type": "code",
   "execution_count": null,
   "metadata": {},
   "outputs": [],
   "source": [
    "# shuffled_id = False\n",
    "# if shuffled_id:\n",
    "#     tuning_curves = np.random.permutation(tuning_curves)"
   ]
  },
  {
   "cell_type": "code",
   "execution_count": null,
   "metadata": {
    "ExecuteTime": {
     "end_time": "2018-09-07T17:26:00.725783Z",
     "start_time": "2018-09-07T17:26:00.712789Z"
    },
    "scrolled": true
   },
   "outputs": [],
   "source": [
    "# Average decoded likelihood for each trajectory\n",
    "def get_combined_likelihoods(info, position, spikes, lfp, zones):\n",
    "    tuning_curves = get_only_tuning_curves(info,\n",
    "                                           position,\n",
    "                                           spikes,\n",
    "                                           info.task_times[\"phase3\"])\n",
    "    tc_shape = tuning_curves.shape\n",
    "    decoding_tc = tuning_curves.reshape(tc_shape[0], tc_shape[1] * tc_shape[2])\n",
    "\n",
    "    # Find SWRs for the whole session\n",
    "    z_thresh = 2.0\n",
    "    power_thresh = 3.0\n",
    "    merge_thresh = 0.02\n",
    "    min_length = 0.05\n",
    "    swrs = nept.detect_swr_hilbert(lfp, fs=info.fs, thresh=(140.0, 250.0), z_thresh=z_thresh,\n",
    "                                   power_thresh=power_thresh, merge_thresh=merge_thresh, min_length=min_length)\n",
    "    swrs = nept.find_multi_in_epochs(spikes, swrs, min_involved=4)\n",
    "\n",
    "    rest_epochs = nept.rest_threshold(position, thresh=12., t_smooth=0.8)\n",
    "\n",
    "    # Restrict SWRs to those during epochs of interest during rest\n",
    "    task_times = [\"prerecord\", \"pauseA\", \"pauseB\", \"postrecord\"]\n",
    "    data_average = {k: {key: [] for key in zones.keys()} for k in task_times}\n",
    "    data_max = {k: {key: [] for key in zones.keys()} for k in task_times}\n",
    "    likelihoods = {k: [] for k in task_times}\n",
    "    likelihood_array = dict()\n",
    "    n_swrs = dict()\n",
    "\n",
    "    for task_time in task_times:\n",
    "        epochs_of_interest = info.task_times[task_time].intersect(rest_epochs)\n",
    "\n",
    "        phase_swrs = epochs_of_interest.overlaps(swrs)\n",
    "        phase_swrs = phase_swrs[phase_swrs.durations >= 0.05]\n",
    "\n",
    "        n_swrs[task_time] = phase_swrs.n_epochs\n",
    "\n",
    "        for start, stop in zip(phase_swrs.starts, phase_swrs.stops):\n",
    "            sliced_spikes = [spiketrain.time_slice(start, stop) for spiketrain in spikes]\n",
    "\n",
    "            t_window = stop-start # 0.1 for running, 0.025 for swr\n",
    "\n",
    "            counts = bin_spikes(sliced_spikes, np.array([start, stop]), dt=t_window, window=t_window,\n",
    "                                     gaussian_std=0.0075, normalized=False)\n",
    "\n",
    "            likelihood = nept.bayesian_prob(counts, decoding_tc, binsize=t_window, min_neurons=3, min_spikes=1)\n",
    "\n",
    "            # Remove nans from likelihood and reshape for plotting\n",
    "            keep_idx = np.sum(np.isnan(likelihood), axis=1) < likelihood.shape[1]\n",
    "            likelihood = likelihood[keep_idx]\n",
    "            likelihoods[task_time].append(likelihood.reshape(1, tc_shape[1], tc_shape[2]))\n",
    "\n",
    "        for swr_likelihood in likelihoods[task_time]:\n",
    "            for maze_segment in zones.keys():\n",
    "                data_average[task_time][maze_segment].append(np.nanmean(swr_likelihood[0][zones[maze_segment]]))\n",
    "                data_max[task_time][maze_segment].append(np.nanmax(swr_likelihood[0][zones[maze_segment]]))\n",
    "                \n",
    "        if likelihoods[task_time]:\n",
    "            likelihood_array[task_time] = np.concatenate(likelihoods[task_time])\n",
    "        else:\n",
    "            likelihood_array[task_time] = np.array([])\n",
    "    \n",
    "    return data_average, data_max, n_swrs, likelihood_array"
   ]
  },
  {
   "cell_type": "code",
   "execution_count": null,
   "metadata": {
    "ExecuteTime": {
     "end_time": "2018-09-07T17:24:05.138983Z",
     "start_time": "2018-09-07T17:24:05.127504Z"
    }
   },
   "outputs": [],
   "source": [
    "# stacked barplot\n",
    "def plot_decoded_stacked_summary(all_data, n_all_swrs, task_times, maze_segments, n_sessions, savefig=False):\n",
    "    trajectory_means = {key: [] for key in maze_segments}\n",
    "    trajectory_sems = {key: [] for key in maze_segments}\n",
    "\n",
    "    for trajectory in maze_segments:\n",
    "\n",
    "        tt = {key: [] for key in task_times}\n",
    "        n_swrs = {key: 0 for key in task_times}\n",
    "\n",
    "        for i, session in enumerate(all_data):\n",
    "            for task_time in task_times:\n",
    "                tt[task_time].extend(session[task_time][trajectory])\n",
    "\n",
    "                n_swrs[task_time] += n_all_swrs[i][task_time]\n",
    "        trajectory_means[trajectory] = [np.nanmean(tt[\"prerecord\"]), np.nanmean(tt[\"pauseA\"]), np.nanmean(tt[\"pauseB\"]), np.nanmean(tt[\"postrecord\"])]\n",
    "        trajectory_sems[trajectory] = [scipy.stats.sem(tt[\"prerecord\"]), scipy.stats.sem(tt[\"pauseA\"]), scipy.stats.sem(tt[\"pauseB\"]), scipy.stats.sem(tt[\"postrecord\"])]\n",
    "\n",
    "    fig, ax = plt.subplots(figsize=(7,5))\n",
    "    n = np.arange(len(task_times))\n",
    "    pu = plt.bar(n, trajectory_means[\"u\"], yerr=trajectory_sems[\"u\"], color=\"#2b8cbe\")\n",
    "    ps = plt.bar(n, trajectory_means[\"shortcut\"], yerr=trajectory_sems[\"shortcut\"],\n",
    "                 bottom=trajectory_means[\"u\"], color=\"#31a354\")\n",
    "    pn = plt.bar(n, trajectory_means[\"novel\"], yerr=trajectory_sems[\"novel\"],\n",
    "                 bottom=np.array(trajectory_means[\"u\"])+np.array(trajectory_means[\"shortcut\"]), color=\"#d95f0e\")\n",
    "    po = plt.bar(n, trajectory_means[\"other\"], yerr=trajectory_sems[\"other\"],\n",
    "                 bottom=np.array(trajectory_means[\"u\"])+np.array(trajectory_means[\"shortcut\"])+np.array(trajectory_means[\"novel\"]), color=\"#bdbdbd\")\n",
    "    plt.xticks(n, task_times)\n",
    "    if n_sessions == 1:\n",
    "        title = info.session_id + \" average posteriors during SWRs\"\n",
    "    else:\n",
    "        title = \"Average posteriors during SWRs\"\n",
    "    plt.title(title)\n",
    "#     plt.ylabel(\"Proportion\")\n",
    "\n",
    "    for i, task_time in enumerate(task_times):\n",
    "        ax.text(i, 0.01, str(n_swrs[task_time]), ha=\"center\", fontsize=14)\n",
    "\n",
    "    ax.spines['right'].set_visible(False)\n",
    "    ax.spines['top'].set_visible(False)\n",
    "    ax.yaxis.set_ticks_position('left')\n",
    "    ax.xaxis.set_ticks_position('bottom')\n",
    "\n",
    "    plt.tight_layout()\n",
    "    if savefig:\n",
    "        plt.savefig(os.path.join(output_filepath, title+\"_stacked.png\"))\n",
    "        plt.close()\n",
    "    else:\n",
    "        plt.show()"
   ]
  },
  {
   "cell_type": "code",
   "execution_count": null,
   "metadata": {
    "ExecuteTime": {
     "end_time": "2018-09-07T17:24:05.153956Z",
     "start_time": "2018-09-07T17:24:05.140980Z"
    }
   },
   "outputs": [],
   "source": [
    "def plot_decoded_combined_average_summary(all_data, n_all_swrs, task_times, maze_segments, n_sessions, savefig=False):\n",
    "    trajectory_means = {key: [] for key in maze_segments}\n",
    "    trajectory_sems = {key: [] for key in maze_segments}\n",
    "\n",
    "    for trajectory in maze_segments:\n",
    "\n",
    "        tt = {key: [] for key in task_times}\n",
    "        n_swrs = {key: 0 for key in task_times}\n",
    "\n",
    "        for i, session in enumerate(all_data):\n",
    "            for task_time in task_times:\n",
    "                tt[task_time].extend(session[task_time][trajectory])\n",
    "\n",
    "                n_swrs[task_time] += n_all_swrs[i][task_time]\n",
    "        trajectory_means[trajectory] = [np.nanmean(tt[\"prerecord\"]), np.nanmean(tt[\"pauseA\"]), np.nanmean(tt[\"pauseB\"]), np.nanmean(tt[\"postrecord\"])]\n",
    "        trajectory_sems[trajectory] = [scipy.stats.sem(tt[\"prerecord\"]), scipy.stats.sem(tt[\"pauseA\"]), scipy.stats.sem(tt[\"pauseB\"]), scipy.stats.sem(tt[\"postrecord\"])]\n",
    "\n",
    "    fig = plt.figure(figsize=(12,6))\n",
    "    gs1 = gridspec.GridSpec(1, 4)\n",
    "    gs1.update(wspace=0.3, hspace=0.)\n",
    "\n",
    "    n = np.arange(len(task_times))\n",
    "    ax1 = plt.subplot(gs1[0])\n",
    "    ax1.bar(n, trajectory_means[\"u\"], yerr=trajectory_sems[\"u\"], color=\"#2b8cbe\")\n",
    "    ax2 = plt.subplot(gs1[1])\n",
    "    ax2.bar(n, trajectory_means[\"shortcut\"], yerr=trajectory_sems[\"shortcut\"], color=\"#31a354\")\n",
    "    ax3 = plt.subplot(gs1[2])\n",
    "    ax3.bar(n, trajectory_means[\"novel\"], yerr=trajectory_sems[\"novel\"], color=\"#d95f0e\")\n",
    "    ax4 = plt.subplot(gs1[3])\n",
    "    ax4.bar(n, trajectory_means[\"other\"], yerr=trajectory_sems[\"other\"], color=\"#bdbdbd\")\n",
    "\n",
    "    for ax in [ax1, ax2, ax3, ax4]:\n",
    "        ax.set_ylim([0, 0.6])\n",
    "        \n",
    "        ax.set_xticks(np.arange(len(task_times)))\n",
    "        ax.set_xticklabels(task_times, rotation = 90)\n",
    "\n",
    "        ax.spines['right'].set_visible(False)\n",
    "        ax.spines['top'].set_visible(False)\n",
    "        ax.yaxis.set_ticks_position('left')\n",
    "        ax.xaxis.set_ticks_position('bottom')\n",
    "\n",
    "        for i, task_time in enumerate(task_times):\n",
    "            ax.text(i, 0.01, str(n_swrs[task_time]), ha=\"center\", fontsize=14)\n",
    "\n",
    "    for ax in [ax2, ax3, ax4]:\n",
    "        ax.set_yticklabels([])\n",
    "\n",
    "    if n_sessions == 1:\n",
    "        title = info.session_id + \" average posteriors during SWRs\"\n",
    "    else:\n",
    "        title = \"Average posteriors during SWRs\"\n",
    "    fig.suptitle(title, fontsize=18)\n",
    "#     ax1.set_ylabel(\"Proportion\")\n",
    "\n",
    "    legend_elements = [Patch(facecolor='#2b8cbe', edgecolor='k', label=\"u\"),\n",
    "                       Patch(facecolor='#31a354', edgecolor='k', label=\"shortcut\"),\n",
    "                       Patch(facecolor='#d95f0e', edgecolor='k', label=\"novel\"),\n",
    "                       Patch(facecolor='#bdbdbd', edgecolor='k', label=\"other\")]\n",
    "    plt.legend(handles=legend_elements, bbox_to_anchor=(1.05, 1.0))\n",
    "    \n",
    "    gs1.tight_layout(fig)\n",
    "    \n",
    "    if savefig:\n",
    "        plt.savefig(os.path.join(output_filepath, title+\"_combined-average.png\"))\n",
    "        plt.close()\n",
    "    else:\n",
    "        plt.show()"
   ]
  },
  {
   "cell_type": "code",
   "execution_count": null,
   "metadata": {
    "ExecuteTime": {
     "end_time": "2018-09-07T17:24:05.170924Z",
     "start_time": "2018-09-07T17:24:05.155951Z"
    }
   },
   "outputs": [],
   "source": [
    "def plot_decoded_combined_max_summary(all_data, n_all_swrs, task_times, maze_segments, n_sessions, savefig=False):\n",
    "    trajectory_means = {key: [] for key in maze_segments}\n",
    "    trajectory_sems = {key: [] for key in maze_segments}\n",
    "\n",
    "    for trajectory in maze_segments:\n",
    "\n",
    "        tt = {key: [] for key in task_times}\n",
    "        n_swrs = {key: 0 for key in task_times}\n",
    "\n",
    "        for i, session in enumerate(all_data):\n",
    "            for task_time in task_times:\n",
    "                tt[task_time].extend(session[task_time][trajectory])\n",
    "\n",
    "                n_swrs[task_time] += n_all_swrs[i][task_time]\n",
    "        trajectory_means[trajectory] = [np.nanmean(tt[\"prerecord\"]), np.nanmean(tt[\"pauseA\"]), np.nanmean(tt[\"pauseB\"]), np.nanmean(tt[\"postrecord\"])]\n",
    "        trajectory_sems[trajectory] = [scipy.stats.sem(tt[\"prerecord\"]), scipy.stats.sem(tt[\"pauseA\"]), scipy.stats.sem(tt[\"pauseB\"]), scipy.stats.sem(tt[\"postrecord\"])]\n",
    "\n",
    "    fig = plt.figure(figsize=(12,6))\n",
    "    gs1 = gridspec.GridSpec(1, 4)\n",
    "    gs1.update(wspace=0.3, hspace=0.)\n",
    "\n",
    "    n = np.arange(len(task_times))\n",
    "    ax1 = plt.subplot(gs1[0])\n",
    "    ax1.bar(n, trajectory_means[\"u\"], yerr=trajectory_sems[\"u\"], color=\"#2b8cbe\")\n",
    "    ax2 = plt.subplot(gs1[1])\n",
    "    ax2.bar(n, trajectory_means[\"shortcut\"], yerr=trajectory_sems[\"shortcut\"], color=\"#31a354\")\n",
    "    ax3 = plt.subplot(gs1[2])\n",
    "    ax3.bar(n, trajectory_means[\"novel\"], yerr=trajectory_sems[\"novel\"], color=\"#d95f0e\")\n",
    "    ax4 = plt.subplot(gs1[3])\n",
    "    ax4.bar(n, trajectory_means[\"other\"], yerr=trajectory_sems[\"other\"], color=\"#bdbdbd\")\n",
    "\n",
    "    for ax in [ax1, ax2, ax3, ax4]:\n",
    "        ax.set_ylim([0, 0.6])\n",
    "        \n",
    "        ax.set_xticks(np.arange(len(task_times)))\n",
    "        ax.set_xticklabels(task_times, rotation = 90)\n",
    "\n",
    "        ax.spines['right'].set_visible(False)\n",
    "        ax.spines['top'].set_visible(False)\n",
    "        ax.yaxis.set_ticks_position('left')\n",
    "        ax.xaxis.set_ticks_position('bottom')\n",
    "\n",
    "        for i, task_time in enumerate(task_times):\n",
    "            ax.text(i, 0.01, str(n_swrs[task_time]), ha=\"center\", fontsize=14)\n",
    "\n",
    "    for ax in [ax2, ax3, ax4]:\n",
    "        ax.set_yticklabels([])\n",
    "\n",
    "    if n_sessions == 1:\n",
    "        title = info.session_id + \" average max posteriors during SWRs\"\n",
    "    else:\n",
    "        title = \"Average posteriors during SWRs\"\n",
    "    fig.suptitle(title, fontsize=18)\n",
    "#     ax1.set_ylabel(\"Proportion\")\n",
    "\n",
    "    legend_elements = [Patch(facecolor='#2b8cbe', edgecolor='k', label=\"u\"),\n",
    "                       Patch(facecolor='#31a354', edgecolor='k', label=\"shortcut\"),\n",
    "                       Patch(facecolor='#d95f0e', edgecolor='k', label=\"novel\"),\n",
    "                       Patch(facecolor='#bdbdbd', edgecolor='k', label=\"other\")]\n",
    "    plt.legend(handles=legend_elements, bbox_to_anchor=(1.05, 1.0))\n",
    "\n",
    "    for i, task_time in enumerate(task_times):\n",
    "        ax1.text(i, 0.01, str(n_swrs[task_time]), ha=\"center\", fontsize=14)\n",
    "    \n",
    "    gs1.tight_layout(fig)\n",
    "    \n",
    "    if savefig:\n",
    "        plt.savefig(os.path.join(output_filepath, title+\"_combined-max.png\"))\n",
    "        plt.close()\n",
    "    else:\n",
    "        plt.show()"
   ]
  },
  {
   "cell_type": "code",
   "execution_count": null,
   "metadata": {
    "ExecuteTime": {
     "end_time": "2018-09-07T17:24:05.179907Z",
     "start_time": "2018-09-07T17:24:05.172421Z"
    }
   },
   "outputs": [],
   "source": [
    "def plot_likelihood_overspace(info, position, likelihoods, zones, savefig=False):\n",
    "    \n",
    "    xx, yy = np.meshgrid(info.xedges, info.yedges)\n",
    "    xcenters, ycenters = get_bin_centers(info)\n",
    "    xxx, yyy = np.meshgrid(xcenters, ycenters)\n",
    "    \n",
    "    sliced_position = position.time_slice(info.task_times[\"phase3\"].starts, info.task_times[\"phase3\"].stops)\n",
    "    plt.plot(sliced_position.x, sliced_position.y, \"b.\", ms=1, alpha=0.2)\n",
    "    pp = plt.pcolormesh(xx, yy, np.nanmean(likelihoods[task_time], axis=0), vmax=0.2, cmap='bone_r')\n",
    "    plt.contour(xxx, yyy, zones[\"u\"], levels=0, colors='#2b8cbe', corner_mask=False)\n",
    "    plt.contour(xxx, yyy, zones[\"shortcut\"], levels=0, colors='#31a354', corner_mask=False)\n",
    "    plt.contour(xxx, yyy, zones[\"novel\"], levels=0, colors='#d95f0e', corner_mask=False)\n",
    "\n",
    "    plt.colorbar(pp)\n",
    "    plt.axis('off')\n",
    "    if savefig:\n",
    "        filename = info.session_id+\"-average-likelihood-overspace_\"+ordered_task_times[i]+\".png\"\n",
    "        plt.savefig(os.path.join(output_filepath, filename))\n",
    "        plt.close()\n",
    "    else:\n",
    "        plt.show()"
   ]
  },
  {
   "cell_type": "code",
   "execution_count": null,
   "metadata": {
    "ExecuteTime": {
     "end_time": "2018-09-07T17:24:05.202367Z",
     "start_time": "2018-09-07T17:24:05.194880Z"
    }
   },
   "outputs": [],
   "source": [
    "task_times = [\"prerecord\", \"pauseA\", \"pauseB\", \"postrecord\"]\n",
    "maze_segments = [\"u\", \"shortcut\", \"novel\", \"other\"]\n",
    "ordered_task_times = [\"1-prerecord\", \"2-pauseA\", \"3-pauseB\", \"4-postrecord\"]"
   ]
  },
  {
   "cell_type": "code",
   "execution_count": null,
   "metadata": {
    "ExecuteTime": {
     "end_time": "2018-09-07T17:24:05.213345Z",
     "start_time": "2018-09-07T17:24:05.204362Z"
    }
   },
   "outputs": [],
   "source": [
    "savefig = True"
   ]
  },
  {
   "cell_type": "code",
   "execution_count": null,
   "metadata": {
    "ExecuteTime": {
     "end_time": "2018-09-07T17:24:45.862394Z",
     "start_time": "2018-09-07T17:24:05.215341Z"
    },
    "scrolled": false
   },
   "outputs": [],
   "source": [
    "# plot individual sessions       \n",
    "for info in infos:\n",
    "    events, position, spikes, lfp, _ = get_data(info)\n",
    "\n",
    "    zones = dict()\n",
    "    zones[\"u\"], zones[\"shortcut\"], zones[\"novel\"] = get_zones(info, position, subset=True)\n",
    "    combined_zones = zones[\"u\"] + zones[\"shortcut\"] + zones[\"novel\"]\n",
    "    zones[\"other\"] = ~combined_zones\n",
    "    \n",
    "    data_average, data_max, n_swrs, likelihoods = get_combined_likelihoods(info, position, spikes, lfp, zones)\n",
    "    \n",
    "    plot_decoded_stacked_summary([data_average], [n_swrs], task_times, maze_segments, n_sessions=1, savefig=savefig)\n",
    "    plot_decoded_combined_average_summary([data_average], [n_swrs], task_times, maze_segments, n_sessions=1, savefig=savefig)\n",
    "    plot_decoded_combined_max_summary([data_max], [n_swrs], task_times, maze_segments, n_sessions=1, savefig=savefig)\n",
    "    \n",
    "    for i, task_time in enumerate(task_times):\n",
    "        if likelihoods[task_time].size > 0:\n",
    "            plot_likelihood_overspace(info, position, likelihoods, zones, savefig=True)"
   ]
  },
  {
   "cell_type": "code",
   "execution_count": null,
   "metadata": {
    "ExecuteTime": {
     "end_time": "2018-09-07T17:25:23.396566Z",
     "start_time": "2018-09-07T17:24:45.863866Z"
    },
    "scrolled": true
   },
   "outputs": [],
   "source": [
    "# plot combined sessions\n",
    "all_data_average = []\n",
    "all_data_max = []\n",
    "n_all_swrs = []\n",
    "\n",
    "for info in infos:\n",
    "    events, position, spikes, lfp, _ = get_data(info)\n",
    "    \n",
    "    zones = dict()\n",
    "    zones[\"u\"], zones[\"shortcut\"], zones[\"novel\"] = get_zones(info, position, subset=True)\n",
    "    combined_zones = zones[\"u\"] + zones[\"shortcut\"] + zones[\"novel\"]\n",
    "    zones[\"other\"] = ~combined_zones\n",
    "    \n",
    "    data_average, data_max, n_swrs, likelihoods = get_combined_likelihoods(info, position, spikes, lfp, zones)\n",
    "\n",
    "all_data_average.append(data_average)\n",
    "all_data_max.append(data_max)\n",
    "n_all_swrs.append(n_swrs)\n",
    "\n",
    "plot_decoded_stacked_summary(all_data_average, n_all_swrs, task_times, maze_segments, n_sessions=len(infos), savefig=savefig)\n",
    "plot_decoded_combined_average_summary(all_data_average, n_all_swrs, task_times, maze_segments, n_sessions=len(infos), savefig=savefig)\n",
    "plot_decoded_combined_max_summary(all_data_max, n_all_swrs, task_times, maze_segments, n_sessions=len(infos), savefig=savefig)"
   ]
  },
  {
   "cell_type": "code",
   "execution_count": null,
   "metadata": {},
   "outputs": [],
   "source": []
  },
  {
   "cell_type": "code",
   "execution_count": null,
   "metadata": {
    "ExecuteTime": {
     "end_time": "2018-09-07T17:25:23.540247Z",
     "start_time": "2018-09-07T17:25:23.398511Z"
    }
   },
   "outputs": [],
   "source": [
    "1/0"
   ]
  },
  {
   "cell_type": "code",
   "execution_count": null,
   "metadata": {
    "ExecuteTime": {
     "end_time": "2018-09-07T18:45:12.966415Z",
     "start_time": "2018-09-07T18:45:12.951961Z"
    },
    "scrolled": false
   },
   "outputs": [],
   "source": [
    "def plot_summary_mean(info, position, lfp, spikes, start, stop, likelihood, tc_shape, zones, filepath=None, savefig=False):\n",
    "    buffer=0.1\n",
    "\n",
    "    sliced_spikes = [spiketrain.time_slice(start-buffer, stop+buffer) for spiketrain in spikes]\n",
    "\n",
    "    rows = len(sliced_spikes)\n",
    "    add_rows = int(rows / 8)\n",
    "\n",
    "    ms = 600 / rows\n",
    "    mew = 0.7\n",
    "    spike_loc = 1\n",
    "\n",
    "    fig = plt.figure(figsize=(8, 8))\n",
    "    gs1 = gridspec.GridSpec(3, 2)\n",
    "    gs1.update(wspace=0.3, hspace=0.3)\n",
    "\n",
    "    ax1 = plt.subplot(gs1[1:, 0])\n",
    "    for idx, neuron_spikes in enumerate(sliced_spikes):\n",
    "        ax1.plot(neuron_spikes.time, np.ones(len(neuron_spikes.time)) + (idx * spike_loc), '|',\n",
    "                 color='k', ms=ms, mew=mew)\n",
    "\n",
    "    ax1.axis('off')\n",
    "\n",
    "    ax2 = plt.subplot(gs1[0, 0], sharex=ax1)\n",
    "\n",
    "    start_idx = nept.find_nearest_idx(lfp.time, start - buffer)\n",
    "    stop_idx = nept.find_nearest_idx(lfp.time, stop + buffer)\n",
    "    ax2.plot(lfp.time[start_idx:stop_idx], lfp.data[start_idx:stop_idx], '#3288bd', lw=0.3)\n",
    "\n",
    "    start_idx = nept.find_nearest_idx(lfp.time, start)\n",
    "    stop_idx = nept.find_nearest_idx(lfp.time, stop)\n",
    "    ax2.plot(lfp.time[start_idx:stop_idx], lfp.data[start_idx:stop_idx], 'k', lw=0.4)\n",
    "\n",
    "    ax2.axis(\"off\")\n",
    "\n",
    "    scalebar.add_scalebar(ax2, matchy=False, bbox_transform=fig.transFigure,\n",
    "                          bbox_to_anchor=(0.25, 0.05), units='ms')\n",
    "\n",
    "\n",
    "    likelihood = likelihood.reshape(tc_shape[1], tc_shape[2])\n",
    "    likelihood[np.isnan(likelihood)] = 0\n",
    "    \n",
    "    xx, yy = np.meshgrid(info.xedges, info.yedges)\n",
    "    xcenters, ycenters = get_bin_centers(info)\n",
    "    xxx, yyy = np.meshgrid(xcenters, ycenters)\n",
    "\n",
    "    ax3 = plt.subplot(gs1[0, 1])\n",
    "    sliced_position = position.time_slice(info.task_times[\"phase3\"].starts, info.task_times[\"phase3\"].stops)\n",
    "    ax3.plot(sliced_position.x, sliced_position.y, \"y.\", ms=1, alpha=0.2)\n",
    "    pp = ax3.pcolormesh(xx, yy, likelihood, cmap='bone_r')\n",
    "    ax3.contour(xxx, yyy, zones[\"u\"], levels=0, colors='#2b8cbe')\n",
    "    ax3.contour(xxx, yyy, zones[\"shortcut\"], levels=0, colors='#31a354')\n",
    "    ax3.contour(xxx, yyy, zones[\"novel\"], levels=0, colors='#d95f0e')\n",
    "\n",
    "    plt.colorbar(pp)\n",
    "    ax3.axis('off')\n",
    "\n",
    "    ax4 = plt.subplot(gs1[1:, 1])\n",
    "    means = [np.nanmean(likelihood[zones[trajectory]]) for trajectory in maze_segments]\n",
    "    sems = [scipy.stats.sem(likelihood[zones[trajectory]]) for trajectory in maze_segments]\n",
    "    n = np.arange(len(maze_segments))\n",
    "    ax4.bar(n, means, yerr=sems, color=['#2b8cbe', '#31a354', '#d95f0e', '#bdbdbd'], edgecolor='k')\n",
    "    ax4.set_xticks(n)\n",
    "    ax4.set_xticklabels(maze_segments, rotation=90)\n",
    "    ax4.set_ylim([0, 0.1])\n",
    "    \n",
    "    plt.tight_layout()\n",
    "    \n",
    "    if savefig:\n",
    "        plt.savefig(filepath)\n",
    "        plt.close()\n",
    "    else:\n",
    "        plt.show()"
   ]
  },
  {
   "cell_type": "code",
   "execution_count": null,
   "metadata": {
    "ExecuteTime": {
     "end_time": "2018-09-07T18:45:13.238935Z",
     "start_time": "2018-09-07T18:45:13.224960Z"
    }
   },
   "outputs": [],
   "source": [
    "def plot_summary_max(info, position, lfp, spikes, start, stop, likelihood, tc_shape, zones, filepath=None, savefig=False):\n",
    "    buffer=0.1\n",
    "\n",
    "    sliced_spikes = [spiketrain.time_slice(start-buffer, stop+buffer) for spiketrain in spikes]\n",
    "\n",
    "    rows = len(sliced_spikes)\n",
    "    add_rows = int(rows / 8)\n",
    "\n",
    "    ms = 600 / rows\n",
    "    mew = 0.7\n",
    "    spike_loc = 1\n",
    "\n",
    "    fig = plt.figure(figsize=(8, 8))\n",
    "    gs1 = gridspec.GridSpec(3, 2)\n",
    "    gs1.update(wspace=0.3, hspace=0.3)\n",
    "\n",
    "    ax1 = plt.subplot(gs1[1:, 0])\n",
    "    for idx, neuron_spikes in enumerate(sliced_spikes):\n",
    "        ax1.plot(neuron_spikes.time, np.ones(len(neuron_spikes.time)) + (idx * spike_loc), '|',\n",
    "                 color='k', ms=ms, mew=mew)\n",
    "\n",
    "    ax1.axis('off')\n",
    "\n",
    "    ax2 = plt.subplot(gs1[0, 0], sharex=ax1)\n",
    "\n",
    "    start_idx = nept.find_nearest_idx(lfp.time, start - buffer)\n",
    "    stop_idx = nept.find_nearest_idx(lfp.time, stop + buffer)\n",
    "    ax2.plot(lfp.time[start_idx:stop_idx], lfp.data[start_idx:stop_idx], '#3288bd', lw=0.3)\n",
    "\n",
    "    start_idx = nept.find_nearest_idx(lfp.time, start)\n",
    "    stop_idx = nept.find_nearest_idx(lfp.time, stop)\n",
    "    ax2.plot(lfp.time[start_idx:stop_idx], lfp.data[start_idx:stop_idx], 'k', lw=0.4)\n",
    "\n",
    "    ax2.axis(\"off\")\n",
    "\n",
    "    scalebar.add_scalebar(ax2, matchy=False, bbox_transform=fig.transFigure,\n",
    "                          bbox_to_anchor=(0.25, 0.05), units='ms')\n",
    "\n",
    "    likelihood = likelihood.reshape(tc_shape[1], tc_shape[2])\n",
    "    likelihood[np.isnan(likelihood)] = 0\n",
    "    \n",
    "    xx, yy = np.meshgrid(info.xedges, info.yedges)\n",
    "    xcenters, ycenters = get_bin_centers(info)\n",
    "    xxx, yyy = np.meshgrid(xcenters, ycenters)\n",
    "\n",
    "    ax3 = plt.subplot(gs1[0, 1])\n",
    "    sliced_position = position.time_slice(info.task_times[\"phase3\"].starts, info.task_times[\"phase3\"].stops)\n",
    "    ax3.plot(sliced_position.x, sliced_position.y, \"y.\", ms=1, alpha=0.2)\n",
    "    pp = ax3.pcolormesh(xx, yy, likelihood, cmap='bone_r')\n",
    "    ax3.contour(xxx, yyy, zones[\"u\"], levels=0, colors='#2b8cbe')\n",
    "    ax3.contour(xxx, yyy, zones[\"shortcut\"], levels=0, colors='#31a354')\n",
    "    ax3.contour(xxx, yyy, zones[\"novel\"], levels=0, colors='#d95f0e')\n",
    "\n",
    "    plt.colorbar(pp)\n",
    "    ax3.axis('off')\n",
    "\n",
    "    ax4 = plt.subplot(gs1[1:, 1])\n",
    "    means = [np.nanmax(likelihood[zones[trajectory]]) for trajectory in maze_segments]\n",
    "    n = np.arange(len(maze_segments))\n",
    "    ax4.bar(n, means, color=['#2b8cbe', '#31a354', '#d95f0e', '#bdbdbd'], edgecolor='k')\n",
    "    ax4.set_xticks(n)\n",
    "    ax4.set_xticklabels(maze_segments, rotation=90)\n",
    "    ax4.set_ylim([0, 1.])\n",
    "    \n",
    "    plt.tight_layout()\n",
    "    \n",
    "    if savefig:\n",
    "        plt.savefig(filepath)\n",
    "        plt.close()\n",
    "    else:\n",
    "        plt.show()"
   ]
  },
  {
   "cell_type": "code",
   "execution_count": null,
   "metadata": {
    "ExecuteTime": {
     "end_time": "2018-09-07T18:45:13.950111Z",
     "start_time": "2018-09-07T18:45:13.945120Z"
    }
   },
   "outputs": [],
   "source": [
    "def get_likelihood(spikes, tuning_curves, start, stop):\n",
    "    sliced_spikes = [spiketrain.time_slice(start, stop) for spiketrain in spikes]\n",
    "    t_window = stop-start # 0.1 for running, 0.025 for swr\n",
    "    counts = bin_spikes(sliced_spikes, np.array([start, stop]), dt=t_window, window=t_window,\n",
    "                        gaussian_std=0.0075, normalized=False)\n",
    "    likelihood = nept.bayesian_prob(counts, decoding_tc, binsize=t_window, min_neurons=3, min_spikes=1)\n",
    "    \n",
    "    return likelihood"
   ]
  },
  {
   "cell_type": "code",
   "execution_count": null,
   "metadata": {
    "ExecuteTime": {
     "end_time": "2018-09-07T18:46:50.824816Z",
     "start_time": "2018-09-07T18:45:14.425484Z"
    },
    "scrolled": false
   },
   "outputs": [],
   "source": [
    "for info in infos:\n",
    "    events, position, spikes, lfp, _ = get_data(info)\n",
    "    \n",
    "    tuning_curves = get_only_tuning_curves(info,\n",
    "                                           position,\n",
    "                                           spikes,\n",
    "                                           info.task_times[\"phase3\"])\n",
    "\n",
    "    tc_shape = tuning_curves.shape\n",
    "    decoding_tc = tuning_curves.reshape(tc_shape[0], tc_shape[1] * tc_shape[2])\n",
    "    \n",
    "    # Define zones\n",
    "    zones = dict()\n",
    "    zones[\"u\"], zones[\"shortcut\"], zones[\"novel\"] = get_zones(info, position, subset=True)\n",
    "    combined_zones = zones[\"u\"] + zones[\"shortcut\"] + zones[\"novel\"]\n",
    "    zones[\"other\"] = ~combined_zones\n",
    "\n",
    "    # Find SWRs for the whole session\n",
    "    z_thresh = 2.0\n",
    "    power_thresh = 3.0\n",
    "    merge_thresh = 0.02\n",
    "    min_length = 0.05\n",
    "    swrs = nept.detect_swr_hilbert(lfp, fs=info.fs, thresh=(140.0, 250.0), z_thresh=z_thresh,\n",
    "                                   power_thresh=power_thresh, merge_thresh=merge_thresh, min_length=min_length)\n",
    "    swrs = nept.find_multi_in_epochs(spikes, swrs, min_involved=4)\n",
    "\n",
    "    rest_epochs = nept.rest_threshold(position, thresh=12., t_smooth=0.8)\n",
    "\n",
    "    # Restrict SWRs to those during epochs of interest during rest\n",
    "    task_times = [\"prerecord\", \"pauseA\", \"pauseB\", \"postrecord\"]\n",
    "    \n",
    "    data = {k: {key: [] for key in zones.keys()} for k in task_times}\n",
    "    likelihoods = {k: [] for k in task_times}\n",
    "    likelihood_array = dict()\n",
    "    n_swrs = dict()\n",
    "\n",
    "    for task_time in task_times:\n",
    "        epochs_of_interest = info.task_times[task_time].intersect(rest_epochs)\n",
    "\n",
    "        phase_swrs = epochs_of_interest.overlaps(swrs)\n",
    "        phase_swrs = phase_swrs[phase_swrs.durations >= 0.05]\n",
    "\n",
    "        n_swrs[task_time] = phase_swrs.n_epochs\n",
    "\n",
    "        for i, (start, stop) in enumerate(zip(phase_swrs.starts[:5], phase_swrs.stops[:5])):\n",
    "            likelihood = get_likelihood(spikes, tuning_curves, start, stop)\n",
    "            \n",
    "            likelihoods[task_time].append(likelihood.reshape(tc_shape[1], tc_shape[2]))\n",
    "\n",
    "            filename = info.session_id + \"_\" + task_time + \"_summary-swr\" + str(i) + \"_average.png\"\n",
    "            filepath = os.path.join(output_filepath, \"swr\", filename)\n",
    "            plot_summary_mean(info, position, lfp, spikes, start, stop, likelihood, \n",
    "                              tc_shape, zones, filepath, savefig=True)\n",
    "\n",
    "            filename = info.session_id + \"_\" + task_time + \"_summary-swr\" + str(i) + \"_max.png\"\n",
    "            filepath = os.path.join(output_filepath, \"swr\", filename)\n",
    "            plot_summary_max(info, position, lfp, spikes, start, stop, likelihood, \n",
    "                             tc_shape, zones, filepath, savefig=True)\n",
    "\n",
    "#         # Remove nans from likelihood and reshape for plotting\n",
    "#         keep_idx = np.sum(np.isnan(likelihood), axis=1) < likelihood.shape[1]\n",
    "#         likelihood = likelihood[keep_idx]\n",
    "#         likelihoods[task_time].append(likelihood.reshape(1, tc_shape[1], tc_shape[2]))\n",
    "\n",
    "#     for swr_likelihood in likelihoods[task_time]:\n",
    "#         for maze_segment in zones.keys():\n",
    "#             data[task_time][maze_segment].append(np.nansum(swr_likelihood[0][zones[maze_segment]]))\n",
    "#     if likelihoods[task_time]:\n",
    "#         likelihood_array[task_time] = np.concatenate(likelihoods[task_time])\n",
    "#     else:\n",
    "#         likelihood_array[task_time] = np.array([])"
   ]
  },
  {
   "cell_type": "code",
   "execution_count": null,
   "metadata": {},
   "outputs": [],
   "source": []
  },
  {
   "cell_type": "code",
   "execution_count": null,
   "metadata": {
    "ExecuteTime": {
     "end_time": "2018-09-07T18:13:37.372995Z",
     "start_time": "2018-09-07T18:13:37.357525Z"
    }
   },
   "outputs": [],
   "source": [
    "[np.nanmax(likelihoods[\"prerecord\"][zones[trajectory]], axis=0) for trajectory in maze_segments]"
   ]
  },
  {
   "cell_type": "code",
   "execution_count": null,
   "metadata": {
    "ExecuteTime": {
     "end_time": "2018-09-07T18:48:12.332241Z",
     "start_time": "2018-09-07T18:48:12.327730Z"
    }
   },
   "outputs": [],
   "source": [
    "letssee = [np.nanmax(likelihoods[task_time], axis=1) for task_time in task_times]"
   ]
  },
  {
   "cell_type": "code",
   "execution_count": null,
   "metadata": {
    "ExecuteTime": {
     "end_time": "2018-09-07T18:52:56.452593Z",
     "start_time": "2018-09-07T18:52:56.448101Z"
    }
   },
   "outputs": [],
   "source": [
    "np.nanmax(likelihoods[\"prerecord\"][0][zones[\"shortcut\"]])"
   ]
  },
  {
   "cell_type": "code",
   "execution_count": null,
   "metadata": {},
   "outputs": [],
   "source": []
  },
  {
   "cell_type": "code",
   "execution_count": null,
   "metadata": {
    "ExecuteTime": {
     "end_time": "2018-09-07T18:47:50.925192Z",
     "start_time": "2018-09-07T18:47:50.920221Z"
    }
   },
   "outputs": [],
   "source": [
    "len(likelihoods[\"prerecord\"])"
   ]
  },
  {
   "cell_type": "code",
   "execution_count": null,
   "metadata": {},
   "outputs": [],
   "source": []
  },
  {
   "cell_type": "code",
   "execution_count": null,
   "metadata": {},
   "outputs": [],
   "source": []
  },
  {
   "cell_type": "code",
   "execution_count": null,
   "metadata": {},
   "outputs": [],
   "source": []
  },
  {
   "cell_type": "code",
   "execution_count": null,
   "metadata": {
    "ExecuteTime": {
     "end_time": "2018-09-07T17:25:23.544241Z",
     "start_time": "2018-09-07T17:24:03.949Z"
    }
   },
   "outputs": [],
   "source": [
    "1/0"
   ]
  },
  {
   "cell_type": "code",
   "execution_count": null,
   "metadata": {
    "ExecuteTime": {
     "end_time": "2018-09-07T17:25:23.545239Z",
     "start_time": "2018-09-07T17:24:03.958Z"
    }
   },
   "outputs": [],
   "source": [
    "likelihood = likelihood.reshape(tc_shape[1], tc_shape[2])\n",
    "likelihood[np.isnan(likelihood)] = 0\n",
    "\n",
    "means = [np.nanmean(likelihood[zones[trajectory]]) for trajectory in maze_segments]\n",
    "sems = [scipy.stats.sem(likelihood[zones[trajectory]]) for trajectory in maze_segments]\n",
    "n = np.arange(len(maze_segments))\n",
    "plt.bar(n, means, yerr=sems, color=['#2b8cbe', '#31a354', '#d95f0e', '#bdbdbd'], edgecolor='k')\n",
    "plt.xticks(n, maze_segments)\n",
    "plt.show()"
   ]
  },
  {
   "cell_type": "code",
   "execution_count": null,
   "metadata": {},
   "outputs": [],
   "source": []
  },
  {
   "cell_type": "code",
   "execution_count": null,
   "metadata": {
    "ExecuteTime": {
     "end_time": "2018-09-07T17:25:23.546237Z",
     "start_time": "2018-09-07T17:24:03.973Z"
    }
   },
   "outputs": [],
   "source": [
    "plot_summary(info, position, lfp, spikes, start, stop, likelihood)"
   ]
  },
  {
   "cell_type": "code",
   "execution_count": null,
   "metadata": {},
   "outputs": [],
   "source": []
  },
  {
   "cell_type": "code",
   "execution_count": null,
   "metadata": {
    "ExecuteTime": {
     "end_time": "2018-09-07T17:25:23.547236Z",
     "start_time": "2018-09-07T17:24:03.991Z"
    }
   },
   "outputs": [],
   "source": [
    "1/0"
   ]
  },
  {
   "cell_type": "code",
   "execution_count": null,
   "metadata": {
    "ExecuteTime": {
     "end_time": "2018-09-07T17:25:23.548233Z",
     "start_time": "2018-09-07T17:24:03.998Z"
    },
    "scrolled": false
   },
   "outputs": [],
   "source": [
    "# Assign swr to a trajectory\n",
    "def get_max_likelihoods(info):\n",
    "    events, position, spikes, lfp, _ = get_data(info)\n",
    "\n",
    "    u_zone, shortcut_zone, novel_zone = get_zones(info, position, subset=False)\n",
    "    combined_zones = u_zone+shortcut_zone+novel_zone\n",
    "    other_zone = ~combined_zones\n",
    "\n",
    "    tuning_curves = get_only_tuning_curves(info,\n",
    "                                           position,\n",
    "                                           spikes,\n",
    "                                           info.task_times[\"phase3\"])\n",
    "    tc_shape = tuning_curves.shape\n",
    "    decoding_tc = tuning_curves.reshape(tc_shape[0], tc_shape[1] * tc_shape[2])\n",
    "\n",
    "    # Find SWRs for the whole session\n",
    "    z_thresh = 2.0\n",
    "    power_thresh = 3.0\n",
    "    merge_thresh = 0.02\n",
    "    min_length = 0.05\n",
    "    swrs = nept.detect_swr_hilbert(lfp, fs=info.fs, thresh=(140.0, 250.0), z_thresh=z_thresh,\n",
    "                                   power_thresh=power_thresh, merge_thresh=merge_thresh, min_length=min_length)\n",
    "    swrs = nept.find_multi_in_epochs(spikes, swrs, min_involved=4)\n",
    "\n",
    "    rest_epochs = nept.rest_threshold(position, thresh=12., t_smooth=0.8)\n",
    "\n",
    "    # Restrict SWRs to those during epochs of interest during rest\n",
    "    task_times = [\"prerecord\", \"pauseA\", \"pauseB\", \"postrecord\"]\n",
    "    maze_segments = [\"u\", \"shortcut\", \"novel\", \"other\"]\n",
    "    data = {k: {key: 0 for key in maze_segments} for k in task_times}\n",
    "\n",
    "    n_swrs = dict()\n",
    "\n",
    "    for task_time in task_times:\n",
    "        epochs_of_interest = info.task_times[task_time].intersect(rest_epochs)\n",
    "\n",
    "        phase_swrs = epochs_of_interest.overlaps(swrs)\n",
    "        phase_swrs = phase_swrs[phase_swrs.durations >= 0.05]\n",
    "\n",
    "        n_swrs[task_time] = phase_swrs.n_epochs\n",
    "\n",
    "        likelihoods = []\n",
    "\n",
    "        for start, stop in zip(phase_swrs.starts, phase_swrs.stops):\n",
    "            sliced_spikes = [spiketrain.time_slice(start, stop) for spiketrain in spikes]\n",
    "\n",
    "            t_window = stop-start # 0.1 for running, 0.025 for swr\n",
    "\n",
    "            counts = bin_spikes(sliced_spikes, np.array([start, stop]), dt=t_window, window=t_window,\n",
    "                                     gaussian_std=0.0075, normalized=False)\n",
    "\n",
    "            likelihood = nept.bayesian_prob(counts, decoding_tc, binsize=t_window, min_neurons=3, min_spikes=1)\n",
    "\n",
    "            # Remove nans from likelihood and reshape for plotting\n",
    "            keep_idx = np.sum(np.isnan(likelihood), axis=1) < likelihood.shape[1]\n",
    "            likelihood = likelihood[keep_idx]\n",
    "            likelihoods.append(likelihood.reshape(np.shape(likelihood)[0], tc_shape[1], tc_shape[2]))\n",
    "\n",
    "        for swr_likelihood in likelihoods:\n",
    "            data[task_time][\"u\"] += int(np.any(u_zone & (swr_likelihood == np.nanmax(swr_likelihood))))\n",
    "            data[task_time][\"shortcut\"] += int(np.any(shortcut_zone & (swr_likelihood == np.nanmax(swr_likelihood))))\n",
    "            data[task_time][\"novel\"] += int(np.any(novel_zone & (swr_likelihood == np.nanmax(swr_likelihood))))\n",
    "            data[task_time][\"other\"] += int(np.any(other_zone & (swr_likelihood == np.nanmax(swr_likelihood))))\n",
    "        \n",
    "        if phase_swrs.n_epochs > 0:\n",
    "            data[task_time][\"u\"] /= phase_swrs.n_epochs\n",
    "            data[task_time][\"shortcut\"] /= phase_swrs.n_epochs\n",
    "            data[task_time][\"novel\"] /= phase_swrs.n_epochs\n",
    "            data[task_time][\"other\"] /= phase_swrs.n_epochs\n",
    "        \n",
    "    return data, n_swrs, likelihoods"
   ]
  },
  {
   "cell_type": "code",
   "execution_count": null,
   "metadata": {
    "ExecuteTime": {
     "end_time": "2018-09-07T17:25:23.549231Z",
     "start_time": "2018-09-07T17:24:04.007Z"
    },
    "scrolled": false
   },
   "outputs": [],
   "source": [
    "def plot_max_decoded_summary(all_data, n_all_swrs, task_times, maze_segments, n_sessions):\n",
    "\n",
    "    for task_time in task_times:\n",
    "        us = []\n",
    "        shortcuts = []\n",
    "        novels = []\n",
    "        others = []\n",
    "\n",
    "        n_swrs = 0\n",
    "\n",
    "        for i, session in enumerate(all_data):\n",
    "            us.append(session[task_time][\"u\"])\n",
    "            shortcuts.append(session[task_time][\"shortcut\"])\n",
    "            novels.append(session[task_time][\"novel\"])\n",
    "            others.append(session[task_time][\"other\"])\n",
    "\n",
    "        means = [np.nanmean(us), np.nanmean(shortcuts), np.nanmean(novels), np.nanmean(others)]\n",
    "        sems = [scipy.stats.sem(us), scipy.stats.sem(shortcuts), scipy.stats.sem(novels), scipy.stats.sem(others)]\n",
    "\n",
    "        xx, yy = np.meshgrid(info.xedges, info.yedges)\n",
    "\n",
    "        fig, ax = plt.subplots(figsize=(7,5))\n",
    "        n = np.arange(len(maze_segments))\n",
    "        plt.bar(n, means, yerr=sems, color=\"#99d8c9\")\n",
    "        plt.xticks(n, maze_segments)\n",
    "        plt.text(0.95, 0.95, \"n sessions: \"+str(len(all_data)),\n",
    "             horizontalalignment='center',\n",
    "             verticalalignment='center',\n",
    "             transform = ax.transAxes,\n",
    "             fontsize=14)\n",
    "        if n_sessions == 1:\n",
    "             title = info.session_id + \"decoded zone during SWRs in \" + task_time\n",
    "        else:\n",
    "            title = \"Decoded zone during SWRs in \" + task_time\n",
    "        plt.title(title)\n",
    "\n",
    "        ax.spines['right'].set_visible(False)\n",
    "        ax.spines['top'].set_visible(False)\n",
    "        ax.yaxis.set_ticks_position('left')\n",
    "        ax.xaxis.set_ticks_position('bottom')\n",
    "\n",
    "        plt.tight_layout()\n",
    "\n",
    "        plt.savefig(os.path.join(output_filepath, title+\".png\"))\n",
    "        plt.close()\n",
    "\n",
    "    #     plt.show()\n",
    "    \n",
    "    \n",
    "    for trajectory in maze_segments:\n",
    "        trajectory_means = []\n",
    "        trajectory_sems = []\n",
    "\n",
    "        tt = {key: [] for key in task_times}\n",
    "        n_swrs = {key: 0 for key in task_times}\n",
    "\n",
    "        for i, session in enumerate(all_data):\n",
    "            for task_time in task_times:\n",
    "                tt[task_time].append(session[task_time][trajectory])\n",
    "\n",
    "                n_swrs[task_time] += n_all_swrs[i][task_time]\n",
    "        trajectory_means = [np.nanmean(tt[\"prerecord\"]), np.nanmean(tt[\"pauseA\"]), np.nanmean(tt[\"pauseB\"]), np.nanmean(tt[\"postrecord\"])]\n",
    "        trajectory_sems = [scipy.stats.sem(tt[\"prerecord\"]), scipy.stats.sem(tt[\"pauseA\"]), scipy.stats.sem(tt[\"pauseB\"]), scipy.stats.sem(tt[\"postrecord\"])]\n",
    "\n",
    "        fig, ax = plt.subplots(figsize=(7,5))\n",
    "        n = np.arange(len(task_times))\n",
    "        plt.bar(n, trajectory_means, yerr=trajectory_sems, color=\"#41ae76\")\n",
    "        plt.xticks(n, task_times)\n",
    "        if n_sessions == 1:\n",
    "             title = info.session_id + \"decoded zone during SWRs for \" + trajectory\n",
    "        else:\n",
    "            title = \"Decoded zone during SWRs for \" + trajectory\n",
    "        plt.title(title)\n",
    "\n",
    "        for i, task_time in enumerate(task_times):\n",
    "            ax.text(i, 0.01, str(n_swrs[task_time]), ha=\"center\", fontsize=14)\n",
    "\n",
    "        ax.spines['right'].set_visible(False)\n",
    "        ax.spines['top'].set_visible(False)\n",
    "        ax.yaxis.set_ticks_position('left')\n",
    "        ax.xaxis.set_ticks_position('bottom')\n",
    "\n",
    "        plt.tight_layout()\n",
    "\n",
    "        plt.savefig(os.path.join(output_filepath, title+\".png\"))\n",
    "        plt.close()\n",
    "\n",
    "    #     plt.show()"
   ]
  },
  {
   "cell_type": "code",
   "execution_count": null,
   "metadata": {
    "ExecuteTime": {
     "end_time": "2018-09-07T17:25:23.549730Z",
     "start_time": "2018-09-07T17:24:04.016Z"
    }
   },
   "outputs": [],
   "source": [
    "# plot individual sessions\n",
    "for info in infos:\n",
    "    all_data = []\n",
    "    n_all_swrs = []\n",
    "    \n",
    "    data, n_swrs, likelihoods = get_max_likelihoods(info)\n",
    "\n",
    "    all_data.append(data)\n",
    "    n_all_swrs.append(n_swrs)\n",
    "    \n",
    "    plot_max_decoded_summary(all_data, n_all_swrs, task_times, maze_segments, n_sessions=1)"
   ]
  },
  {
   "cell_type": "code",
   "execution_count": null,
   "metadata": {
    "ExecuteTime": {
     "end_time": "2018-09-07T17:25:23.550729Z",
     "start_time": "2018-09-07T17:24:04.033Z"
    }
   },
   "outputs": [],
   "source": [
    "# plot combined sessions\n",
    "all_data = []\n",
    "n_all_swrs = []\n",
    "\n",
    "for info in infos:\n",
    "    data, n_swrs, likelihoods = get_max_likelihoods(info)\n",
    "\n",
    "all_data.append(data)\n",
    "n_all_swrs.append(n_swrs)\n",
    "\n",
    "plot_max_decoded_summary(all_data, n_all_swrs, task_times, maze_segments, n_sessions=len(infos))"
   ]
  },
  {
   "cell_type": "code",
   "execution_count": null,
   "metadata": {},
   "outputs": [],
   "source": []
  },
  {
   "cell_type": "code",
   "execution_count": null,
   "metadata": {},
   "outputs": [],
   "source": []
  },
  {
   "cell_type": "code",
   "execution_count": null,
   "metadata": {},
   "outputs": [],
   "source": []
  },
  {
   "cell_type": "code",
   "execution_count": null,
   "metadata": {},
   "outputs": [],
   "source": []
  }
 ],
 "metadata": {
  "kernelspec": {
   "display_name": "Python 3",
   "language": "python",
   "name": "python3"
  },
  "language_info": {
   "codemirror_mode": {
    "name": "ipython",
    "version": 3
   },
   "file_extension": ".py",
   "mimetype": "text/x-python",
   "name": "python",
   "nbconvert_exporter": "python",
   "pygments_lexer": "ipython3",
   "version": "3.6.5"
  },
  "toc": {
   "colors": {
    "hover_highlight": "#DAA520",
    "running_highlight": "#FF0000",
    "selected_highlight": "#FFD700"
   },
   "moveMenuLeft": true,
   "nav_menu": {
    "height": "12px",
    "width": "252px"
   },
   "navigate_menu": true,
   "number_sections": true,
   "sideBar": true,
   "threshold": 4,
   "toc_cell": false,
   "toc_section_display": "block",
   "toc_window_display": false
  }
 },
 "nbformat": 4,
 "nbformat_minor": 2
}
