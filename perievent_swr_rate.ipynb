{
 "cells": [
  {
   "cell_type": "code",
   "execution_count": null,
   "metadata": {
    "ExecuteTime": {
     "end_time": "2018-07-17T18:38:01.587861Z",
     "start_time": "2018-07-17T18:38:00.625412Z"
    },
    "collapsed": true
   },
   "outputs": [],
   "source": [
    "%matplotlib inline\n",
    "import matplotlib.pyplot as plt\n",
    "import numpy as np\n",
    "import os\n",
    "import nept\n",
    "\n",
    "from loading_data import get_data\n",
    "from analyze_tuning_curves import get_tuning_curves\n",
    "from utils_maze import get_trial_idx, get_zones, align_to_event"
   ]
  },
  {
   "cell_type": "code",
   "execution_count": null,
   "metadata": {
    "ExecuteTime": {
     "end_time": "2018-07-17T18:38:01.592859Z",
     "start_time": "2018-07-17T18:38:01.589861Z"
    },
    "collapsed": true
   },
   "outputs": [],
   "source": [
    "thisdir = os.getcwd()\n",
    "pickle_filepath = os.path.join(thisdir, \"cache\", \"pickled\")\n",
    "output_filepath = os.path.join(thisdir, \"plots\", \"binned_swrs\")"
   ]
  },
  {
   "cell_type": "code",
   "execution_count": null,
   "metadata": {
    "ExecuteTime": {
     "end_time": "2018-07-17T18:38:01.667815Z",
     "start_time": "2018-07-17T18:38:01.594858Z"
    },
    "collapsed": true
   },
   "outputs": [],
   "source": [
    "import info.r068d1 as r068d1\n",
    "import info.r063d4 as r063d4\n",
    "infos =[r068d1, r063d4]\n",
    "\n",
    "from run import spike_sorted_infos\n",
    "# infos = spike_sorted_infos"
   ]
  },
  {
   "cell_type": "code",
   "execution_count": null,
   "metadata": {
    "ExecuteTime": {
     "end_time": "2018-07-17T18:38:01.919673Z",
     "start_time": "2018-07-17T18:38:00.673Z"
    },
    "collapsed": true
   },
   "outputs": [],
   "source": [
    "def get_perievent(epochs, event, t_bins, t_before, t_after, binsize, std):\n",
    "    \n",
    "    sliced_epochs = epochs.overlaps(nept.Epoch([event-t_before, event+t_after]))\n",
    "    \n",
    "    # Bin the swrs\n",
    "    swr_counts = np.histogram(sliced_epochs.centers, bins=t_bins)[0]\n",
    "\n",
    "    # Smooth the binned swrs with a gaussian filter\n",
    "    filter_swr = nept.gaussian_filter(swr_counts, std=std, dt=binsize, axis=0)\n",
    "\n",
    "    return nept.AnalogSignal(filter_swr, t_bins[:-1]-event)"
   ]
  },
  {
   "cell_type": "code",
   "execution_count": null,
   "metadata": {
    "ExecuteTime": {
     "end_time": "2018-07-17T18:38:01.675812Z",
     "start_time": "2018-07-17T18:38:01.669816Z"
    },
    "collapsed": true
   },
   "outputs": [],
   "source": [
    "def plot_binned_swr(info, binned_swr, filepath):\n",
    "    plt.plot(binned_swr.time, binned_swr.data, ms=3)\n",
    "    \n",
    "    xtick_labels = [\"prerecord\", \"phase1\", \"pauseA\", \"phase2\", \"pauseB\", \"phase3\", \"postrecord\"]\n",
    "    xtick_location = []\n",
    "    for phase in xtick_labels:\n",
    "        plt.axvline(x=info.task_times[phase].start, color=\"k\", linestyle='--', ms=3)\n",
    "        xtick_location.append(info.task_times[phase].start)\n",
    "    \n",
    "    plt.xticks(xtick_location, xtick_labels, rotation=75)\n",
    "    plt.tight_layout()\n",
    "#     plt.savefig(os.path.join(filepath, info.session_id+\"-binned_swr.png\"))\n",
    "#     plt.close()\n",
    "    plt.show()"
   ]
  },
  {
   "cell_type": "code",
   "execution_count": null,
   "metadata": {
    "ExecuteTime": {
     "end_time": "2018-07-17T18:38:01.691801Z",
     "start_time": "2018-07-17T18:38:01.677810Z"
    },
    "collapsed": true
   },
   "outputs": [],
   "source": [
    "def find_means(list_of_analogsignals):\n",
    "    times = list_of_analogsignals[0].time\n",
    "    datas = np.zeros((len(times), len(list_of_analogsignals)))\n",
    "    for i, this_analogsignal in enumerate(list_of_analogsignals):\n",
    "        datas[:, i] = np.squeeze(this_analogsignal.data)\n",
    "    datas = np.mean(datas, axis=1)\n",
    "    \n",
    "    return nept.AnalogSignal(datas, times)\n",
    "\n",
    "\n",
    "def plot_perievent(perievent, speed, title):\n",
    "    fig, (ax1, ax2) = plt.subplots(2, sharex=True)\n",
    "    ax1.plot(perievent.time, perievent.data, color=\"b\")\n",
    "    ax1.axvline(x=0, color=\"k\", linestyle='--')\n",
    "    ax2.plot(speed.time, speed.data, color=\"g\")\n",
    "    ax2.axvline(x=0, color=\"k\", linestyle='--')\n",
    "    plt.title(\"Speed\", fontsize=16)\n",
    "    fig.suptitle(title, fontsize=16)\n",
    "    plt.tight_layout()\n",
    "#     plt.savefig(os.path.join(output_filepath, title+\".png\"))\n",
    "#     plt.close()\n",
    "    plt.show()"
   ]
  },
  {
   "cell_type": "code",
   "execution_count": null,
   "metadata": {
    "ExecuteTime": {
     "end_time": "2018-07-17T18:38:01.907681Z",
     "start_time": "2018-07-17T18:38:01.693801Z"
    },
    "scrolled": false
   },
   "outputs": [],
   "source": [
    "shortcut_perievents = []\n",
    "u_perievents = []\n",
    "u_end_perievents = []\n",
    "shortcut_end_perievents = []\n",
    "shortcut_speed = []\n",
    "shortcut_end_speed = []\n",
    "u_speed = []\n",
    "u_end_speed = []\n",
    "\n",
    "t_before = 10\n",
    "t_after = 20\n",
    "\n",
    "for info in infos:\n",
    "    print(info.session_id)\n",
    "    events, position, spikes, lfp, _ = get_data(info)\n",
    "\n",
    "    # Find SWRs for the whole session\n",
    "    z_thresh = 2.0\n",
    "    power_thresh = 3.0\n",
    "    merge_thresh = 0.02\n",
    "    min_length = 0.05\n",
    "    swrs = nept.detect_swr_hilbert(lfp, fs=info.fs, thresh=(140.0, 250.0), z_thresh=z_thresh,\n",
    "                                   power_thresh=power_thresh, merge_thresh=merge_thresh, min_length=min_length)\n",
    "\n",
    "    # Restrict SWRs to those with 4 or more participating neurons\n",
    "    swrs = nept.find_multi_in_epochs(spikes, swrs, min_involved=4)\n",
    "\n",
    "    # Find rest epochs for entire session\n",
    "    epochs_of_interest = nept.rest_threshold(position, thresh=12., t_smooth=0.8)\n",
    "\n",
    "    swrs = epochs_of_interest.overlaps(swrs)\n",
    "    swrs = swrs[swrs.durations >= 0.05]\n",
    "\n",
    "    # Get times of interest\n",
    "    t_start = info.task_times['phase3'].start\n",
    "    t_stop = info.task_times['phase3'].stop\n",
    "\n",
    "    sliced_pos = position.time_slice(t_start, t_stop)\n",
    "\n",
    "    feeder1_times = []\n",
    "    for feeder1 in events['feeder1']:\n",
    "        if t_start < feeder1 < t_stop:\n",
    "            feeder1_times.append(feeder1)\n",
    "\n",
    "    feeder2_times = []\n",
    "    for feeder2 in events['feeder2']:\n",
    "        if t_start < feeder2 < t_stop:\n",
    "            feeder2_times.append(feeder2)\n",
    "\n",
    "    path_pos = get_zones(info, sliced_pos)\n",
    "\n",
    "    trials_idx, trial_epochs = get_trial_idx(path_pos['u'].time, \n",
    "                                             path_pos['shortcut'].time, \n",
    "                                             path_pos['novel'].time,\n",
    "                                             feeder1_times, \n",
    "                                             feeder2_times, \n",
    "                                             t_stop)\n",
    "    \n",
    "    first_shortcut = trial_epochs[trials_idx['shortcut'][0][0]].start\n",
    "    shortcut_end = trial_epochs[trials_idx['shortcut'][0][0]].stop\n",
    "    first_u = trial_epochs[trials_idx['u'][0][0]].start\n",
    "    u_end = trial_epochs[trials_idx['u'][0][0]].stop\n",
    "    \n",
    "    def find_perievent(epoch, position, time_of_interest, binsize=1., std=1.5, t_smooth=1.):\n",
    "        t_bins = np.arange(time_of_interest-t_before, time_of_interest+t_after+binsize, binsize)\n",
    "        epoch_perievent = get_perievent(epoch, time_of_interest, t_bins, \n",
    "                                        t_before, t_after, binsize, std)\n",
    "\n",
    "        perievent_time = t_bins[:-1]\n",
    "        sliced_position = position.time_slice(time_of_interest-t_before, time_of_interest+t_after)\n",
    "        perievent_x = np.interp(perievent_time, sliced_position.time, sliced_position.x)\n",
    "        perievent_y = np.interp(perievent_time, sliced_position.time, sliced_position.y)\n",
    "        perievent_position = nept.Position(np.hstack((perievent_x[..., np.newaxis],\n",
    "                                                      perievent_y[..., np.newaxis])), \n",
    "                                           perievent_time-time_of_interest)\n",
    "        speed_perievent = perievent_position.speed(t_smooth=t_smooth)\n",
    "\n",
    "        return epoch_perievent, speed_perievent\n",
    "\n",
    "    # Shortcut start\n",
    "    epoch_perievent, speed_perievent = find_perievent(swrs, position, first_shortcut)\n",
    "    shortcut_perievents.append(epoch_perievent)\n",
    "    shortcut_speed.append(speed_perievent)\n",
    "    \n",
    "    # Shortcut end\n",
    "    epoch_perievent, speed_perievent = find_perievent(swrs, position, first_shortcut)\n",
    "    shortcut_end_perievents.append(epoch_perievent)\n",
    "    shortcut_end_speed.append(speed_perievent)\n",
    "    \n",
    "    # U start\n",
    "    epoch_perievent, speed_perievent = find_perievent(swrs, position, first_shortcut)\n",
    "    u_perievents.append(epoch_perievent)\n",
    "    u_speed.append(speed_perievent)\n",
    "    \n",
    "    # U end\n",
    "    epoch_perievent, speed_perievent = find_perievent(swrs, position, first_shortcut)\n",
    "    u_end_perievents.append(epoch_perievent)\n",
    "    u_end_speed.append(speed_perievent)\n",
    "\n",
    "shortcut_start = find_means(shortcut_perievents)\n",
    "shortcut_speed_start = find_means(shortcut_speed)\n",
    "plot_perievent(shortcut_start, shortcut_speed_start, \"SWR perievent first shortcut start\")\n",
    "\n",
    "shortcut_end = find_means(shortcut_end_perievents)\n",
    "shortcut_speed_end = find_means(shortcut_end_speed)\n",
    "plot_perievent(shortcut_end, shortcut_speed_end, \"SWR perievent first shortcut end\")\n",
    "\n",
    "u_start = find_means(u_perievents)\n",
    "u_speed_start = find_means(u_speed)\n",
    "plot_perievent(u_start, u_speed_start, \"SWR perievent first U start\")\n",
    "\n",
    "u_end = find_means(u_end_perievents)\n",
    "u_speed_end = find_means(u_end_speed)\n",
    "plot_perievent(u_end, u_speed_end, \"SWR perievent first U end\")"
   ]
  },
  {
   "cell_type": "code",
   "execution_count": null,
   "metadata": {
    "collapsed": true
   },
   "outputs": [],
   "source": []
  },
  {
   "cell_type": "code",
   "execution_count": null,
   "metadata": {
    "collapsed": true
   },
   "outputs": [],
   "source": []
  },
  {
   "cell_type": "code",
   "execution_count": null,
   "metadata": {
    "ExecuteTime": {
     "end_time": "2018-07-17T18:38:20.594986Z",
     "start_time": "2018-07-17T18:38:12.334713Z"
    }
   },
   "outputs": [],
   "source": [
    "print(info.session_id)\n",
    "events, position, spikes, lfp, _ = get_data(info)\n",
    "\n",
    "# Remove interneurons\n",
    "max_mean_firing = 5\n",
    "interneurons = np.zeros(len(spikes), dtype=bool)\n",
    "for i, spike in enumerate(spikes):\n",
    "    if len(spike.time) / info.session_length >= max_mean_firing:\n",
    "        interneurons[i] = True\n",
    "spikes = spikes[~interneurons]\n",
    "\n",
    "# Find SWRs for the whole session\n",
    "z_thresh = 2.0\n",
    "power_thresh = 3.0\n",
    "merge_thresh = 0.02\n",
    "min_length = 0.05\n",
    "swrs = nept.detect_swr_hilbert(lfp, fs=info.fs, thresh=(140.0, 250.0), z_thresh=z_thresh,\n",
    "                               power_thresh=power_thresh, merge_thresh=merge_thresh, min_length=min_length)\n",
    "\n",
    "# Restrict SWRs to those with 4 or more participating neurons\n",
    "swrs = nept.find_multi_in_epochs(spikes, swrs, min_involved=4)\n",
    "\n",
    "# Find rest epochs for entire session\n",
    "epochs_of_interest = nept.rest_threshold(position, thresh=12., t_smooth=0.8)\n",
    "\n",
    "swrs = epochs_of_interest.overlaps(swrs)\n",
    "swrs = swrs[swrs.durations >= 0.05]"
   ]
  },
  {
   "cell_type": "code",
   "execution_count": null,
   "metadata": {
    "ExecuteTime": {
     "end_time": "2018-07-17T18:38:28.131674Z",
     "start_time": "2018-07-17T18:38:20.742902Z"
    },
    "collapsed": true
   },
   "outputs": [],
   "source": [
    "# Get times of interest\n",
    "t_start = info.task_times['phase3'].start\n",
    "t_stop = info.task_times['phase3'].stop\n",
    "\n",
    "sliced_pos = position.time_slice(t_start, t_stop)\n",
    "\n",
    "feeder1_times = []\n",
    "for feeder1 in events['feeder1']:\n",
    "    if t_start < feeder1 < t_stop:\n",
    "        feeder1_times.append(feeder1)\n",
    "\n",
    "feeder2_times = []\n",
    "for feeder2 in events['feeder2']:\n",
    "    if t_start < feeder2 < t_stop:\n",
    "        feeder2_times.append(feeder2)\n",
    "\n",
    "path_pos = get_zones(info, sliced_pos)\n",
    "\n",
    "trials_idx, trial_epochs = get_trial_idx(path_pos['u'].time, \n",
    "                                         path_pos['shortcut'].time, \n",
    "                                         path_pos['novel'].time,\n",
    "                                         feeder1_times, \n",
    "                                         feeder2_times, \n",
    "                                         t_stop)\n",
    "\n",
    "first_shortcut = trial_epochs[trials_idx['shortcut'][0][0]].start\n",
    "shortcut_end = trial_epochs[trials_idx['shortcut'][0][0]].stop\n",
    "first_u = trial_epochs[trials_idx['u'][0][0]].start\n",
    "u_end = trial_epochs[trials_idx['u'][0][0]].stop"
   ]
  },
  {
   "cell_type": "code",
   "execution_count": null,
   "metadata": {},
   "outputs": [],
   "source": [
    "plt.plot(swrs.centers, np.ones(swrs.n_epochs), \".\")\n",
    "plt.axvline(first_shortcut, color=\"k\", linestyle=\"--\")\n",
    "plt.xlim(first_shortcut-t_before, first_shortcut+t_after)\n",
    "plt.show()"
   ]
  },
  {
   "cell_type": "code",
   "execution_count": null,
   "metadata": {},
   "outputs": [],
   "source": [
    "binsize = 1.\n",
    "std = 1.5\n",
    "event = first_shortcut\n",
    "\n",
    "t_bins = np.arange(event-t_before, event+t_after+binsize, binsize)\n",
    "\n",
    "# First shortcut start\n",
    "shortcut_perievent = get_perievent(swrs, first_shortcut, t_bins, t_before, t_after, binsize=binsize, std=std)"
   ]
  },
  {
   "cell_type": "code",
   "execution_count": null,
   "metadata": {
    "collapsed": true
   },
   "outputs": [],
   "source": [
    "sliced_position = position.time_slice(first_shortcut-t_before, first_shortcut+t_after)\n",
    "shortcut_position = nept.Position(sliced_position.data, sliced_position.time-first_shortcut)\n",
    "shortcut_speed = shortcut_position.speed(t_smooth=1.)"
   ]
  },
  {
   "cell_type": "code",
   "execution_count": null,
   "metadata": {
    "collapsed": true
   },
   "outputs": [],
   "source": [
    "sliced_position = position.time_slice(first_shortcut-t_before, first_shortcut+t_after)\n"
   ]
  },
  {
   "cell_type": "code",
   "execution_count": null,
   "metadata": {
    "collapsed": true
   },
   "outputs": [],
   "source": [
    "sliced_position = position.time_slice(first_shortcut-t_before, first_shortcut+t_after)\n",
    "perievent_time = t_bins[:-1]\n",
    "perievent_x = np.interp(perievent_time, sliced_position.time, sliced_position.x)\n",
    "perievent_y = np.interp(perievent_time, sliced_position.time, sliced_position.y)\n",
    "perievent_position = nept.Position(np.hstack((perievent_x[..., np.newaxis],\n",
    "                                              perievent_y[..., np.newaxis])), perievent_time-first_shortcut)\n",
    "shortcut_speed = perievent_position.speed(t_smooth=1.)"
   ]
  },
  {
   "cell_type": "code",
   "execution_count": null,
   "metadata": {},
   "outputs": [],
   "source": [
    "perievent_time"
   ]
  },
  {
   "cell_type": "code",
   "execution_count": null,
   "metadata": {},
   "outputs": [],
   "source": [
    "actual_x = np.interp(decoded.time, exp_position.time, exp_position.x)\n",
    "actual_y = np.interp(decoded.time, exp_position.time, exp_position.y)\n",
    "actual_position = nept.Position(np.hstack((actual_x[..., np.newaxis],\n",
    "                                           actual_y[..., np.newaxis])), decoded.time)"
   ]
  },
  {
   "cell_type": "code",
   "execution_count": null,
   "metadata": {
    "collapsed": true
   },
   "outputs": [],
   "source": []
  },
  {
   "cell_type": "code",
   "execution_count": null,
   "metadata": {},
   "outputs": [],
   "source": [
    "plt.plot(shortcut_perievent.time, shortcut_perievent.data)\n",
    "plt.axvline(0, color=\"k\", linestyle=\"--\")\n",
    "plt.show()"
   ]
  },
  {
   "cell_type": "code",
   "execution_count": null,
   "metadata": {
    "collapsed": true
   },
   "outputs": [],
   "source": []
  },
  {
   "cell_type": "code",
   "execution_count": null,
   "metadata": {},
   "outputs": [],
   "source": [
    "plot_perievent(shortcut_perievent, shortcut_speed, \" d\")"
   ]
  },
  {
   "cell_type": "code",
   "execution_count": null,
   "metadata": {
    "collapsed": true
   },
   "outputs": [],
   "source": []
  },
  {
   "cell_type": "code",
   "execution_count": null,
   "metadata": {
    "ExecuteTime": {
     "end_time": "2018-07-17T18:38:20.600983Z",
     "start_time": "2018-07-17T18:38:20.596985Z"
    },
    "collapsed": true
   },
   "outputs": [],
   "source": [
    "# Bin the swrs\n",
    "binsize = 1.\n",
    "t_bins = np.arange(lfp.time.min(), lfp.time.max()+binsize, binsize)\n",
    "swr_counts = np.histogram(swrs.centers, bins=t_bins)[0]\n",
    "\n",
    "# Smooth the binned swrs with a gaussian filter\n",
    "std = 1.5\n",
    "filter_swr = nept.gaussian_filter(swr_counts, std=std, dt=binsize, axis=0)\n",
    "smoothed_swrs = nept.AnalogSignal(filter_swr, t_bins[:-1])"
   ]
  },
  {
   "cell_type": "code",
   "execution_count": null,
   "metadata": {
    "ExecuteTime": {
     "end_time": "2018-07-17T18:38:20.741903Z",
     "start_time": "2018-07-17T18:38:20.602983Z"
    }
   },
   "outputs": [],
   "source": [
    "# Plot\n",
    "plot_binned_swr(info, smoothed_swrs, output_filepath)"
   ]
  },
  {
   "cell_type": "code",
   "execution_count": null,
   "metadata": {
    "ExecuteTime": {
     "end_time": "2018-07-17T18:38:28.136672Z",
     "start_time": "2018-07-17T18:38:28.132674Z"
    },
    "collapsed": true
   },
   "outputs": [],
   "source": [
    "t_before = 50\n",
    "t_after = 50"
   ]
  },
  {
   "cell_type": "code",
   "execution_count": null,
   "metadata": {
    "ExecuteTime": {
     "end_time": "2018-07-17T18:38:28.152663Z",
     "start_time": "2018-07-17T18:38:28.138671Z"
    }
   },
   "outputs": [],
   "source": [
    "first_shortcut "
   ]
  },
  {
   "cell_type": "code",
   "execution_count": null,
   "metadata": {
    "ExecuteTime": {
     "end_time": "2018-07-17T18:38:01.916675Z",
     "start_time": "2018-07-17T18:38:00.664Z"
    },
    "collapsed": true
   },
   "outputs": [],
   "source": [
    "n_before = t_before * binsize"
   ]
  },
  {
   "cell_type": "code",
   "execution_count": null,
   "metadata": {
    "ExecuteTime": {
     "end_time": "2018-07-17T18:38:01.917675Z",
     "start_time": "2018-07-17T18:38:00.667Z"
    }
   },
   "outputs": [],
   "source": [
    "n_before"
   ]
  },
  {
   "cell_type": "code",
   "execution_count": null,
   "metadata": {
    "ExecuteTime": {
     "end_time": "2018-07-17T18:38:01.918674Z",
     "start_time": "2018-07-17T18:38:00.670Z"
    }
   },
   "outputs": [],
   "source": [
    "smoothed_swrs"
   ]
  },
  {
   "cell_type": "code",
   "execution_count": null,
   "metadata": {
    "ExecuteTime": {
     "end_time": "2018-07-17T18:38:01.920673Z",
     "start_time": "2018-07-17T18:38:00.676Z"
    }
   },
   "outputs": [],
   "source": [
    "shortcut_perievent = align_to_event(smoothed_swrs, first_shortcut, t_before, t_after)\n",
    "shortcut_perievent.time, shortcut_perievent.data.shape"
   ]
  },
  {
   "cell_type": "code",
   "execution_count": null,
   "metadata": {},
   "outputs": [],
   "source": [
    "testing = get_perievent(swrs, first_shortcut, t_before, t_after)\n",
    "testing.time, testing.data.shape"
   ]
  },
  {
   "cell_type": "code",
   "execution_count": null,
   "metadata": {
    "collapsed": true
   },
   "outputs": [],
   "source": []
  },
  {
   "cell_type": "code",
   "execution_count": null,
   "metadata": {
    "collapsed": true
   },
   "outputs": [],
   "source": []
  },
  {
   "cell_type": "code",
   "execution_count": null,
   "metadata": {
    "ExecuteTime": {
     "end_time": "2018-07-17T18:38:01.921673Z",
     "start_time": "2018-07-17T18:38:00.681Z"
    },
    "collapsed": true
   },
   "outputs": [],
   "source": [
    "shortcut_position = align_to_event(position, first_shortcut, t_before, t_after)\n",
    "shortcut_position = nept.Position(shortcut_position.data, shortcut_position.time)\n",
    "shortcut_speed = shortcut_position.speed(t_smooth=1.)"
   ]
  },
  {
   "cell_type": "code",
   "execution_count": null,
   "metadata": {
    "ExecuteTime": {
     "end_time": "2018-07-17T18:38:01.922672Z",
     "start_time": "2018-07-17T18:38:00.683Z"
    },
    "collapsed": true
   },
   "outputs": [],
   "source": [
    "plot_perievent(shortcut_perievent, shortcut_speed, \"testing123\")"
   ]
  },
  {
   "cell_type": "code",
   "execution_count": null,
   "metadata": {
    "collapsed": true
   },
   "outputs": [],
   "source": []
  },
  {
   "cell_type": "code",
   "execution_count": null,
   "metadata": {
    "collapsed": true
   },
   "outputs": [],
   "source": []
  },
  {
   "cell_type": "code",
   "execution_count": null,
   "metadata": {
    "collapsed": true
   },
   "outputs": [],
   "source": [
    "spikes.shape"
   ]
  },
  {
   "cell_type": "code",
   "execution_count": null,
   "metadata": {
    "collapsed": true
   },
   "outputs": [],
   "source": [
    "session_length = info.task_times[\"postrecord\"].stop - info.task_times[\"prerecord\"].start"
   ]
  },
  {
   "cell_type": "code",
   "execution_count": null,
   "metadata": {
    "collapsed": true
   },
   "outputs": [],
   "source": [
    "session_length"
   ]
  },
  {
   "cell_type": "code",
   "execution_count": null,
   "metadata": {
    "collapsed": true
   },
   "outputs": [],
   "source": [
    "# Remove neurons that have a rate greater than 5 Hz\n",
    "max_rate = 5.\n",
    "session_length = info.task_times[\"postrecord\"].stop - info.task_times[\"prerecord\"].start\n",
    "spikes = [spiketrain for spiketrain in spikes if spiketrain.n_spikes/session_length < max_rate]\n",
    "\n",
    "# Remove neurons that have fewer than 100 spikes in a session\n",
    "min_spikes = 100\n",
    "spikes = np.asarray([spiketrain for spiketrain in spikes if spiketrain.n_spikes > 100])"
   ]
  },
  {
   "cell_type": "code",
   "execution_count": null,
   "metadata": {
    "collapsed": true
   },
   "outputs": [],
   "source": [
    "spikes.shape"
   ]
  },
  {
   "cell_type": "code",
   "execution_count": null,
   "metadata": {
    "collapsed": true
   },
   "outputs": [],
   "source": [
    "spikes[0].n_spikes"
   ]
  },
  {
   "cell_type": "code",
   "execution_count": null,
   "metadata": {
    "collapsed": true
   },
   "outputs": [],
   "source": []
  },
  {
   "cell_type": "code",
   "execution_count": null,
   "metadata": {
    "ExecuteTime": {
     "end_time": "2018-07-17T18:38:01.922672Z",
     "start_time": "2018-07-17T18:38:00.695Z"
    },
    "collapsed": true
   },
   "outputs": [],
   "source": [
    "def align_to_event(analogsignal, event, t_before, t_after):\n",
    "    idx = nept.find_nearest_idx(analogsignal.time, event)\n",
    "    event_of_interest = analogsignal.time[idx]\n",
    "\n",
    "    sliced = analogsignal.time_slice(event_of_interest - t_before, event_of_interest + t_after)\n",
    "\n",
    "    print(len(sliced.time))\n",
    "    \n",
    "    time = sliced.time - event_of_interest\n",
    "    data = np.squeeze(sliced.data)\n",
    "    \n",
    "    dt = np.median(np.diff(analogsignal.time))\n",
    "    print(len(np.arange(-t_before, t_after, dt)))\n",
    "\n",
    "    return nept.AnalogSignal(data, time)"
   ]
  },
  {
   "cell_type": "code",
   "execution_count": null,
   "metadata": {
    "ExecuteTime": {
     "end_time": "2018-07-17T18:38:01.923672Z",
     "start_time": "2018-07-17T18:38:00.698Z"
    },
    "collapsed": true
   },
   "outputs": [],
   "source": [
    "shortcut_position = align_to_event(position, first_shortcut, t_before, t_after)\n",
    "shortcut_position = nept.Position(shortcut_position.data, shortcut_position.time)\n",
    "print(shortcut_position.time.shape)"
   ]
  },
  {
   "cell_type": "code",
   "execution_count": null,
   "metadata": {
    "ExecuteTime": {
     "end_time": "2018-07-17T18:38:01.924671Z",
     "start_time": "2018-07-17T18:38:00.704Z"
    },
    "collapsed": true
   },
   "outputs": [],
   "source": [
    "dt = np.median(np.diff(position.time))\n",
    "np.arange(-t_before, t_after, dt)[:10]"
   ]
  },
  {
   "cell_type": "code",
   "execution_count": null,
   "metadata": {
    "ExecuteTime": {
     "end_time": "2018-07-17T18:38:01.925670Z",
     "start_time": "2018-07-17T18:38:00.707Z"
    },
    "collapsed": true
   },
   "outputs": [],
   "source": [
    "first_shortcut"
   ]
  },
  {
   "cell_type": "code",
   "execution_count": null,
   "metadata": {
    "ExecuteTime": {
     "end_time": "2018-07-17T18:38:01.927669Z",
     "start_time": "2018-07-17T18:38:00.712Z"
    },
    "collapsed": true
   },
   "outputs": [],
   "source": [
    "t_before, t_after"
   ]
  },
  {
   "cell_type": "code",
   "execution_count": null,
   "metadata": {
    "ExecuteTime": {
     "end_time": "2018-07-17T18:38:01.927669Z",
     "start_time": "2018-07-17T18:38:00.716Z"
    },
    "collapsed": true
   },
   "outputs": [],
   "source": [
    "idx = nept.find_nearest_idx(position.time, first_shortcut)\n",
    "position.time[133207:133237]"
   ]
  },
  {
   "cell_type": "code",
   "execution_count": null,
   "metadata": {
    "ExecuteTime": {
     "end_time": "2018-07-17T18:38:01.928668Z",
     "start_time": "2018-07-17T18:38:00.719Z"
    },
    "collapsed": true
   },
   "outputs": [],
   "source": [
    "idx = nept.find_nearest_idx(position.time, position.time[133217] - 10)\n",
    "position.time[idx]"
   ]
  },
  {
   "cell_type": "code",
   "execution_count": null,
   "metadata": {
    "ExecuteTime": {
     "end_time": "2018-07-17T18:38:01.929667Z",
     "start_time": "2018-07-17T18:38:00.723Z"
    },
    "collapsed": true
   },
   "outputs": [],
   "source": [
    "mask = (position.time >= event_of_interest-t_before) & (position.time <= event_of_interest+t_after)"
   ]
  },
  {
   "cell_type": "code",
   "execution_count": null,
   "metadata": {
    "ExecuteTime": {
     "end_time": "2018-07-17T18:38:01.930668Z",
     "start_time": "2018-07-17T18:38:00.726Z"
    },
    "collapsed": true
   },
   "outputs": [],
   "source": [
    "times = position.time[mask]\n",
    "data = position.data[mask]"
   ]
  },
  {
   "cell_type": "code",
   "execution_count": null,
   "metadata": {
    "ExecuteTime": {
     "end_time": "2018-07-17T18:38:01.931666Z",
     "start_time": "2018-07-17T18:38:00.729Z"
    },
    "collapsed": true
   },
   "outputs": [],
   "source": [
    "len(times)"
   ]
  },
  {
   "cell_type": "code",
   "execution_count": null,
   "metadata": {
    "ExecuteTime": {
     "end_time": "2018-07-17T18:38:01.932665Z",
     "start_time": "2018-07-17T18:38:00.733Z"
    },
    "collapsed": true
   },
   "outputs": [],
   "source": [
    "event_of_interest = position.time[idx]\n",
    "\n",
    "sliced = position.time_slice(event_of_interest - t_before, event_of_interest + t_after)"
   ]
  },
  {
   "cell_type": "code",
   "execution_count": null,
   "metadata": {
    "ExecuteTime": {
     "end_time": "2018-07-17T18:38:01.933665Z",
     "start_time": "2018-07-17T18:38:00.736Z"
    },
    "collapsed": true
   },
   "outputs": [],
   "source": [
    "event_of_interest"
   ]
  },
  {
   "cell_type": "code",
   "execution_count": null,
   "metadata": {
    "ExecuteTime": {
     "end_time": "2018-07-17T18:38:01.935664Z",
     "start_time": "2018-07-17T18:38:00.739Z"
    },
    "collapsed": true
   },
   "outputs": [],
   "source": [
    "sliced.time"
   ]
  },
  {
   "cell_type": "code",
   "execution_count": null,
   "metadata": {
    "ExecuteTime": {
     "end_time": "2018-07-17T18:38:01.936664Z",
     "start_time": "2018-07-17T18:38:00.743Z"
    },
    "collapsed": true
   },
   "outputs": [],
   "source": [
    "analogsignal = position\n",
    "event = first_shortcut\n",
    "\n",
    "idx = nept.find_nearest_idx(analogsignal.time, event)\n",
    "event_of_interest = analogsignal.time[idx]\n",
    "\n",
    "sliced = analogsignal.time_slice(event_of_interest - t_before, event_of_interest + t_after)\n",
    "\n",
    "dt = np.median(np.diff(analogsignal.time))\n",
    "newtime = np.concatenate([np.linspace(-t_before, 0, num=int(t_before/dt)), \n",
    "                          np.linspace(0+dt, t_after, num=int(t_after/dt))])\n",
    "\n",
    "if sliced.n_samples < len(newtime):\n",
    "    print(\"need to fix this\")"
   ]
  },
  {
   "cell_type": "code",
   "execution_count": null,
   "metadata": {
    "ExecuteTime": {
     "end_time": "2018-07-17T18:38:01.937663Z",
     "start_time": "2018-07-17T18:38:00.747Z"
    },
    "collapsed": true
   },
   "outputs": [],
   "source": [
    "n_stop_missing = int(t_after/dt) - sliced[event_of_interest < sliced.time].n_samples"
   ]
  },
  {
   "cell_type": "code",
   "execution_count": null,
   "metadata": {
    "ExecuteTime": {
     "end_time": "2018-07-17T18:38:01.938661Z",
     "start_time": "2018-07-17T18:38:00.751Z"
    },
    "collapsed": true
   },
   "outputs": [],
   "source": [
    "n_start_missing = int(t_before/dt) - sliced[event_of_interest > sliced.time].n_samples"
   ]
  },
  {
   "cell_type": "code",
   "execution_count": null,
   "metadata": {
    "ExecuteTime": {
     "end_time": "2018-07-17T18:38:01.938661Z",
     "start_time": "2018-07-17T18:38:00.755Z"
    },
    "collapsed": true
   },
   "outputs": [],
   "source": [
    "n_start_missing, n_stop_missing"
   ]
  },
  {
   "cell_type": "code",
   "execution_count": null,
   "metadata": {
    "ExecuteTime": {
     "end_time": "2018-07-17T18:38:01.940661Z",
     "start_time": "2018-07-17T18:38:00.758Z"
    },
    "collapsed": true
   },
   "outputs": [],
   "source": [
    "newdata = np.insert(sliced.data, 0, np.zeros(n_start_missing))\n",
    "print(len(newdata))\n",
    "newdata = np.concatenate([newdata, np.zeros(n_stop_missing)])"
   ]
  },
  {
   "cell_type": "code",
   "execution_count": null,
   "metadata": {
    "ExecuteTime": {
     "end_time": "2018-07-17T18:38:01.940661Z",
     "start_time": "2018-07-17T18:38:00.763Z"
    },
    "collapsed": true
   },
   "outputs": [],
   "source": [
    "len(sliced.data)"
   ]
  },
  {
   "cell_type": "code",
   "execution_count": null,
   "metadata": {
    "ExecuteTime": {
     "end_time": "2018-07-17T18:38:01.941660Z",
     "start_time": "2018-07-17T18:38:00.766Z"
    },
    "collapsed": true
   },
   "outputs": [],
   "source": [
    "len(newdata)"
   ]
  },
  {
   "cell_type": "code",
   "execution_count": null,
   "metadata": {
    "collapsed": true
   },
   "outputs": [],
   "source": []
  }
 ],
 "metadata": {
  "kernelspec": {
   "display_name": "Python 3",
   "language": "python",
   "name": "python3"
  },
  "language_info": {
   "codemirror_mode": {
    "name": "ipython",
    "version": 3
   },
   "file_extension": ".py",
   "mimetype": "text/x-python",
   "name": "python",
   "nbconvert_exporter": "python",
   "pygments_lexer": "ipython3",
   "version": "3.6.5"
  },
  "toc": {
   "colors": {
    "hover_highlight": "#DAA520",
    "running_highlight": "#FF0000",
    "selected_highlight": "#FFD700"
   },
   "moveMenuLeft": true,
   "nav_menu": {
    "height": "12px",
    "width": "252px"
   },
   "navigate_menu": true,
   "number_sections": true,
   "sideBar": true,
   "threshold": 4,
   "toc_cell": false,
   "toc_section_display": "block",
   "toc_window_display": false
  }
 },
 "nbformat": 4,
 "nbformat_minor": 2
}
