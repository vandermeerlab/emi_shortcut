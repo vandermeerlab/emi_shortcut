{
 "cells": [
  {
   "cell_type": "code",
   "execution_count": null,
   "metadata": {
    "ExecuteTime": {
     "end_time": "2018-07-03T16:51:58.611459Z",
     "start_time": "2018-07-03T16:51:54.085053Z"
    },
    "collapsed": true
   },
   "outputs": [],
   "source": [
    "%matplotlib inline\n",
    "import matplotlib.pyplot as plt\n",
    "import numpy as np\n",
    "import os\n",
    "import nept\n",
    "\n",
    "from loading_data import get_data\n",
    "from analyze_tuning_curves import get_tuning_curves\n",
    "from utils_maze import get_trial_idx, get_zones, align_to_event"
   ]
  },
  {
   "cell_type": "code",
   "execution_count": null,
   "metadata": {
    "ExecuteTime": {
     "end_time": "2018-07-03T16:51:58.617456Z",
     "start_time": "2018-07-03T16:51:58.613458Z"
    },
    "collapsed": true
   },
   "outputs": [],
   "source": [
    "thisdir = os.getcwd()\n",
    "pickle_filepath = os.path.join(thisdir, \"cache\", \"pickled\")\n",
    "output_filepath = os.path.join(thisdir, \"plots\", \"binned_swrs\")"
   ]
  },
  {
   "cell_type": "code",
   "execution_count": null,
   "metadata": {
    "ExecuteTime": {
     "end_time": "2018-07-03T16:52:01.002341Z",
     "start_time": "2018-07-03T16:51:58.619455Z"
    },
    "collapsed": true
   },
   "outputs": [],
   "source": [
    "import info.r068d1 as r068d1\n",
    "import info.r063d6 as r063d6\n",
    "# infos =[r068d1, r063d6]\n",
    "\n",
    "from run import spike_sorted_infos\n",
    "infos = spike_sorted_infos"
   ]
  },
  {
   "cell_type": "code",
   "execution_count": null,
   "metadata": {
    "ExecuteTime": {
     "end_time": "2018-07-03T16:52:01.011336Z",
     "start_time": "2018-07-03T16:52:01.004341Z"
    },
    "collapsed": true
   },
   "outputs": [],
   "source": [
    "def plot_binned_swr(info, binned_swr, filepath):\n",
    "    plt.plot(binned_swr.time, binned_swr.data, ms=3)\n",
    "    \n",
    "    xtick_labels = [\"prerecord\", \"phase1\", \"pauseA\", \"phase2\", \"pauseB\", \"phase3\", \"postrecord\"]\n",
    "    xtick_location = []\n",
    "    for phase in xtick_labels:\n",
    "        plt.axvline(x=info.task_times[phase].start, color=\"k\", linestyle='--', ms=3)\n",
    "        xtick_location.append(info.task_times[phase].start)\n",
    "    \n",
    "    plt.xticks(xtick_location, xtick_labels, rotation=75)\n",
    "    plt.tight_layout()\n",
    "    plt.savefig(os.path.join(filepath, info.session_id+\"-binned_swr.png\"))\n",
    "    plt.close()\n",
    "#     plt.show()"
   ]
  },
  {
   "cell_type": "code",
   "execution_count": null,
   "metadata": {
    "ExecuteTime": {
     "end_time": "2018-07-03T16:52:01.028327Z",
     "start_time": "2018-07-03T16:52:01.013336Z"
    },
    "collapsed": true
   },
   "outputs": [],
   "source": [
    "def get_shortcuts(info, position, events):\n",
    "    t_start = info.task_times['phase3'].start\n",
    "    t_stop = info.task_times['phase3'].stop\n",
    "\n",
    "    sliced_pos = position.time_slice(t_start, t_stop)\n",
    "\n",
    "    feeder1_times = []\n",
    "    for feeder1 in events['feeder1']:\n",
    "        if t_start < feeder1 < t_stop:\n",
    "            feeder1_times.append(feeder1)\n",
    "\n",
    "    feeder2_times = []\n",
    "    for feeder2 in events['feeder2']:\n",
    "        if t_start < feeder2 < t_stop:\n",
    "            feeder2_times.append(feeder2)\n",
    "\n",
    "    path_pos = get_zones(info, sliced_pos)\n",
    "\n",
    "    trials_idx, trial_epochs = get_trial_idx(path_pos['u'].time, path_pos['shortcut'].time, path_pos['novel'].time,\n",
    "                                             feeder1_times, feeder2_times, t_stop)\n",
    "\n",
    "\n",
    "    first_shortcut = trial_epochs[trials_idx['shortcut'][0][0]].start\n",
    "    u = trial_epochs[trials_idx['u'][0][0]].start\n",
    "    \n",
    "    return first_shortcut, u"
   ]
  },
  {
   "cell_type": "code",
   "execution_count": null,
   "metadata": {
    "ExecuteTime": {
     "end_time": "2018-07-03T16:53:52.453651Z",
     "start_time": "2018-07-03T16:52:01.030325Z"
    },
    "scrolled": true
   },
   "outputs": [],
   "source": [
    "shortcut_perievents = []\n",
    "u_perievents = []\n",
    "\n",
    "for info in infos:\n",
    "    print(info.session_id)\n",
    "    events, position, spikes, lfp, _ = get_data(info)\n",
    "\n",
    "    # Remove interneurons\n",
    "    max_mean_firing = 5\n",
    "    interneurons = np.zeros(len(spikes), dtype=bool)\n",
    "    for i, spike in enumerate(spikes):\n",
    "        if len(spike.time) / info.session_length >= max_mean_firing:\n",
    "            interneurons[i] = True\n",
    "    spikes = spikes[~interneurons]\n",
    "\n",
    "    # Find SWRs for the whole session\n",
    "    z_thresh = 2.0\n",
    "    power_thresh = 3.0\n",
    "    merge_thresh = 0.02\n",
    "    min_length = 0.05\n",
    "    swrs = nept.detect_swr_hilbert(lfp, fs=info.fs, thresh=(140.0, 250.0), z_thresh=z_thresh,\n",
    "                                   power_thresh=power_thresh, merge_thresh=merge_thresh, min_length=min_length)\n",
    "\n",
    "    # Restrict SWRs to those with 4 or more participating neurons\n",
    "    swrs = nept.find_multi_in_epochs(spikes, swrs, min_involved=4)\n",
    "\n",
    "    # Find rest epochs for entire session\n",
    "    epochs_of_interest = nept.rest_threshold(position, thresh=4., t_smooth=0.05)\n",
    "\n",
    "    swrs = epochs_of_interest.overlaps(swrs)\n",
    "    swrs = swrs[swrs.durations >= 0.05]\n",
    "\n",
    "    # Bin the swrs\n",
    "    binsize = 3.\n",
    "    t_bins = np.arange(lfp.time.min(), lfp.time.max()+binsize, binsize)\n",
    "    swr_counts = np.histogram(swrs.centers, bins=t_bins)[0]\n",
    "\n",
    "    # Smooth the binned swrs with a gaussian filter\n",
    "    std = binsize * 5\n",
    "    smoothed_swrs = nept.AnalogSignal(nept.gaussian_filter(swr_counts, std=std, dt=binsize, axis=0), t_bins[:-1])\n",
    "\n",
    "    # Plot\n",
    "    plot_binned_swr(info, smoothed_swrs, output_filepath)\n",
    "\n",
    "    first_shortcut, first_u = get_shortcuts(info, position, events)\n",
    "\n",
    "    shortcut_perievent = align_to_event(smoothed_swrs, first_shortcut, t_before=100, t_after=200)\n",
    "    shortcut_perievents.append(shortcut_perievent)\n",
    "\n",
    "    u_perievent = align_to_event(smoothed_swrs, first_u, t_before=100, t_after=200)\n",
    "    u_perievents.append(u_perievent)\n",
    "\n",
    "\n",
    "times = shortcut_perievents[0].time\n",
    "datas = np.zeros((len(times), len(shortcut_perievents)))\n",
    "for i, perievent in enumerate(shortcut_perievents):\n",
    "    datas[:, i] = np.squeeze(perievent.data)\n",
    "datas = np.mean(datas, axis=1)\n",
    "\n",
    "plt.plot(times, datas)\n",
    "plt.axvline(x=0, color=\"k\", linestyle='--')\n",
    "plt.tight_layout()\n",
    "plt.savefig(os.path.join(output_filepath, \"combined_perievent-first-shortcut.png\"))\n",
    "plt.close()\n",
    "#     plt.show()\n",
    "\n",
    "\n",
    "times = u_perievents[0].time\n",
    "datas = np.zeros((len(times), len(u_perievents)))\n",
    "for i, perievent in enumerate(u_perievents):\n",
    "    datas[:, i] = np.squeeze(perievent.data)\n",
    "datas = np.mean(datas, axis=1)\n",
    "\n",
    "plt.plot(times, datas)\n",
    "plt.axvline(x=0, color=\"k\", linestyle='--')\n",
    "plt.tight_layout()\n",
    "plt.savefig(os.path.join(output_filepath, \"combined_perievent-first-u.png\"))\n",
    "plt.close()\n",
    "#     plt.show()"
   ]
  },
  {
   "cell_type": "code",
   "execution_count": null,
   "metadata": {
    "collapsed": true
   },
   "outputs": [],
   "source": []
  },
  {
   "cell_type": "code",
   "execution_count": null,
   "metadata": {
    "ExecuteTime": {
     "end_time": "2018-07-03T16:53:52.661532Z",
     "start_time": "2018-07-03T16:51:54.122Z"
    },
    "collapsed": true,
    "scrolled": true
   },
   "outputs": [],
   "source": [
    "# for perievent in perievents:\n",
    "#     plt.plot(perievent.time, perievent.data)\n",
    "#     plt.axvline(x=0, color=\"k\", linestyle='--')\n",
    "#     plt.show()"
   ]
  },
  {
   "cell_type": "code",
   "execution_count": null,
   "metadata": {
    "collapsed": true
   },
   "outputs": [],
   "source": []
  },
  {
   "cell_type": "code",
   "execution_count": null,
   "metadata": {
    "ExecuteTime": {
     "end_time": "2018-07-03T16:53:52.663532Z",
     "start_time": "2018-07-03T16:51:54.126Z"
    },
    "collapsed": true
   },
   "outputs": [],
   "source": [
    "# epochs_of_interest = epochs_of_interest.intersect(rest_epochs)\n",
    "# epochs_of_interest.n_epochs"
   ]
  },
  {
   "cell_type": "code",
   "execution_count": null,
   "metadata": {
    "collapsed": true
   },
   "outputs": [],
   "source": []
  }
 ],
 "metadata": {
  "kernelspec": {
   "display_name": "Python 3",
   "language": "python",
   "name": "python3"
  },
  "language_info": {
   "codemirror_mode": {
    "name": "ipython",
    "version": 3
   },
   "file_extension": ".py",
   "mimetype": "text/x-python",
   "name": "python",
   "nbconvert_exporter": "python",
   "pygments_lexer": "ipython3",
   "version": "3.6.5"
  },
  "toc": {
   "colors": {
    "hover_highlight": "#DAA520",
    "running_highlight": "#FF0000",
    "selected_highlight": "#FFD700"
   },
   "moveMenuLeft": true,
   "nav_menu": {
    "height": "12px",
    "width": "252px"
   },
   "navigate_menu": true,
   "number_sections": true,
   "sideBar": true,
   "threshold": 4,
   "toc_cell": false,
   "toc_section_display": "block",
   "toc_window_display": false
  }
 },
 "nbformat": 4,
 "nbformat_minor": 2
}
