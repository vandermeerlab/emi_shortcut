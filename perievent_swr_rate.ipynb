{
 "cells": [
  {
   "cell_type": "code",
   "execution_count": null,
   "metadata": {
    "collapsed": true
   },
   "outputs": [],
   "source": [
    "%matplotlib inline\n",
    "import matplotlib.pyplot as plt\n",
    "import numpy as np\n",
    "import os\n",
    "import nept\n",
    "\n",
    "from loading_data import get_data\n",
    "from analyze_tuning_curves import get_tuning_curves\n",
    "from utils_maze import get_trial_idx, get_zones, align_to_event"
   ]
  },
  {
   "cell_type": "code",
   "execution_count": null,
   "metadata": {
    "collapsed": true
   },
   "outputs": [],
   "source": [
    "thisdir = os.getcwd()\n",
    "pickle_filepath = os.path.join(thisdir, \"cache\", \"pickled\")\n",
    "output_filepath = os.path.join(thisdir, \"plots\", \"binned_swrs\")"
   ]
  },
  {
   "cell_type": "code",
   "execution_count": null,
   "metadata": {
    "collapsed": true
   },
   "outputs": [],
   "source": [
    "import info.r063d5 as r063d5\n",
    "import info.r063d6 as r063d6\n",
    "infos =[r063d5, r063d6]\n",
    "\n",
    "from run import spike_sorted_infos\n",
    "# infos = spike_sorted_infos"
   ]
  },
  {
   "cell_type": "code",
   "execution_count": null,
   "metadata": {
    "collapsed": true
   },
   "outputs": [],
   "source": [
    "def plot_binned_swr(info, binned_swr, filepath):\n",
    "    plt.plot(binned_swr.time, binned_swr.data, ms=3)\n",
    "    \n",
    "    xtick_labels = [\"prerecord\", \"phase1\", \"pauseA\", \"phase2\", \"pauseB\", \"phase3\", \"postrecord\"]\n",
    "    xtick_location = []\n",
    "    for phase in xtick_labels:\n",
    "        plt.axvline(x=info.task_times[phase].start, color=\"k\", linestyle='--', ms=3)\n",
    "        xtick_location.append(info.task_times[phase].start)\n",
    "    \n",
    "    plt.xticks(xtick_location, xtick_labels, rotation=75)\n",
    "    plt.tight_layout()\n",
    "    plt.savefig(os.path.join(filepath, info.session_id+\"-binned_swr.png\"))\n",
    "    plt.close()\n",
    "#     plt.show()"
   ]
  },
  {
   "cell_type": "code",
   "execution_count": null,
   "metadata": {
    "collapsed": true
   },
   "outputs": [],
   "source": [
    "def get_first_shortcut(info, position, events):\n",
    "    t_start = info.task_times['phase3'].start\n",
    "    t_stop = info.task_times['phase3'].stop\n",
    "\n",
    "    sliced_pos = position.time_slice(t_start, t_stop)\n",
    "\n",
    "    feeder1_times = []\n",
    "    for feeder1 in events['feeder1']:\n",
    "        if t_start < feeder1 < t_stop:\n",
    "            feeder1_times.append(feeder1)\n",
    "\n",
    "    feeder2_times = []\n",
    "    for feeder2 in events['feeder2']:\n",
    "        if t_start < feeder2 < t_stop:\n",
    "            feeder2_times.append(feeder2)\n",
    "\n",
    "    path_pos = get_zones(info, sliced_pos)\n",
    "\n",
    "    trials_idx, trial_epochs = get_trial_idx(path_pos['u'].time, path_pos['shortcut'].time, path_pos['novel'].time,\n",
    "                                             feeder1_times, feeder2_times, t_stop)\n",
    "\n",
    "\n",
    "    first_shortcut = trial_epochs[trials_idx['shortcut'][0][0]].start\n",
    "    second_shortcut = trial_epochs[trials_idx['shortcut'][1][0]].start\n",
    "    \n",
    "    return first_shortcut"
   ]
  },
  {
   "cell_type": "code",
   "execution_count": null,
   "metadata": {
    "scrolled": false
   },
   "outputs": [],
   "source": [
    "perievents = []\n",
    "\n",
    "for info in infos:\n",
    "    print(info.session_id)\n",
    "    events, position, spikes, lfp, _ = get_data(info)\n",
    "\n",
    "    # Remove interneurons\n",
    "    max_mean_firing = 5\n",
    "    interneurons = np.zeros(len(spikes), dtype=bool)\n",
    "    for i, spike in enumerate(spikes):\n",
    "        if len(spike.time) / info.session_length >= max_mean_firing:\n",
    "            interneurons[i] = True\n",
    "    spikes = spikes[~interneurons]\n",
    "\n",
    "    # Find SWRs for the whole session\n",
    "    z_thresh = 2.0\n",
    "    power_thresh = 3.0\n",
    "    merge_thresh = 0.02\n",
    "    min_length = 0.05\n",
    "    swrs = nept.detect_swr_hilbert(lfp, fs=info.fs, thresh=(140.0, 250.0), z_thresh=z_thresh,\n",
    "                                   power_thresh=power_thresh, merge_thresh=merge_thresh, min_length=min_length)\n",
    "\n",
    "    # Restrict SWRs to those with 4 or more participating neurons\n",
    "    swrs = nept.find_multi_in_epochs(spikes, swrs, min_involved=4)\n",
    "    \n",
    "    # Find rest epochs for entire session\n",
    "    epochs_of_interest = nept.rest_threshold(position, thresh=4., t_smooth=0.05)\n",
    "\n",
    "    swrs = epochs_of_interest.overlaps(swrs)\n",
    "    swrs = swrs[swrs.durations >= 0.05]\n",
    "\n",
    "    binsize = 3.\n",
    "    t_bins = np.arange(lfp.time.min(), lfp.time.max()+binsize, binsize)\n",
    "\n",
    "    swr_counts = np.histogram(swrs.centers, bins=t_bins)[0]\n",
    "    binned_swr = nept.AnalogSignal(swr_counts, t_bins[:-1])\n",
    "    \n",
    "    plot_binned_swr(info, binned_swr, output_filepath)\n",
    "    \n",
    "    first_shortcut = get_first_shortcut(info, position, events)\n",
    "\n",
    "    perievent = align_to_event(binned_swr, first_shortcut, t_before=100, t_after=200)\n",
    "    \n",
    "    perievents.append(perievent)\n",
    "    \n",
    "    \n",
    "times = perievents[0].time\n",
    "\n",
    "datas = np.zeros((len(times), len(perievents)))\n",
    "for i, perievent in enumerate(perievents):\n",
    "    datas[:, i] = np.squeeze(perievent.data)\n",
    "datas = np.mean(datas, axis=1)\n",
    "\n",
    "\n",
    "plt.plot(times, datas)\n",
    "plt.axvline(x=0, color=\"k\", linestyle='--')\n",
    "plt.tight_layout()\n",
    "plt.savefig(os.path.join(output_filepath, \"combined_perievent-first-shortcut.png\"))\n",
    "plt.close()\n",
    "#     plt.show()"
   ]
  },
  {
   "cell_type": "code",
   "execution_count": null,
   "metadata": {
    "collapsed": true,
    "scrolled": true
   },
   "outputs": [],
   "source": [
    "# for perievent in perievents:\n",
    "#     plt.plot(perievent.time, perievent.data)\n",
    "#     plt.axvline(x=0, color=\"k\", linestyle='--')\n",
    "#     plt.show()"
   ]
  },
  {
   "cell_type": "code",
   "execution_count": null,
   "metadata": {
    "collapsed": true
   },
   "outputs": [],
   "source": []
  },
  {
   "cell_type": "code",
   "execution_count": null,
   "metadata": {
    "collapsed": true
   },
   "outputs": [],
   "source": []
  },
  {
   "cell_type": "code",
   "execution_count": null,
   "metadata": {
    "collapsed": true
   },
   "outputs": [],
   "source": [
    "# epochs_of_interest = epochs_of_interest.intersect(rest_epochs)\n",
    "# epochs_of_interest.n_epochs"
   ]
  },
  {
   "cell_type": "code",
   "execution_count": null,
   "metadata": {
    "collapsed": true
   },
   "outputs": [],
   "source": []
  }
 ],
 "metadata": {
  "kernelspec": {
   "display_name": "Python 3",
   "language": "python",
   "name": "python3"
  },
  "language_info": {
   "codemirror_mode": {
    "name": "ipython",
    "version": 3
   },
   "file_extension": ".py",
   "mimetype": "text/x-python",
   "name": "python",
   "nbconvert_exporter": "python",
   "pygments_lexer": "ipython3",
   "version": "3.6.5"
  }
 },
 "nbformat": 4,
 "nbformat_minor": 2
}
