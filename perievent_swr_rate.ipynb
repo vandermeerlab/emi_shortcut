{
 "cells": [
  {
   "cell_type": "code",
   "execution_count": null,
   "metadata": {
    "ExecuteTime": {
     "end_time": "2018-07-09T15:35:32.462964Z",
     "start_time": "2018-07-09T15:35:31.715390Z"
    },
    "collapsed": true
   },
   "outputs": [],
   "source": [
    "%matplotlib inline\n",
    "import matplotlib.pyplot as plt\n",
    "import numpy as np\n",
    "import os\n",
    "import nept\n",
    "\n",
    "from loading_data import get_data\n",
    "from analyze_tuning_curves import get_tuning_curves\n",
    "from utils_maze import get_trial_idx, get_zones, align_to_event"
   ]
  },
  {
   "cell_type": "code",
   "execution_count": null,
   "metadata": {
    "ExecuteTime": {
     "end_time": "2018-07-09T15:35:32.468960Z",
     "start_time": "2018-07-09T15:35:32.464962Z"
    },
    "collapsed": true
   },
   "outputs": [],
   "source": [
    "thisdir = os.getcwd()\n",
    "pickle_filepath = os.path.join(thisdir, \"cache\", \"pickled\")\n",
    "output_filepath = os.path.join(thisdir, \"plots\", \"binned_swrs\")"
   ]
  },
  {
   "cell_type": "code",
   "execution_count": null,
   "metadata": {
    "ExecuteTime": {
     "end_time": "2018-07-09T15:35:32.877725Z",
     "start_time": "2018-07-09T15:35:32.470958Z"
    },
    "collapsed": true
   },
   "outputs": [],
   "source": [
    "import info.r068d1 as r068d1\n",
    "import info.r063d6 as r063d6\n",
    "# infos =[r068d1, r063d6]\n",
    "\n",
    "from run import spike_sorted_infos\n",
    "infos = spike_sorted_infos"
   ]
  },
  {
   "cell_type": "code",
   "execution_count": null,
   "metadata": {
    "ExecuteTime": {
     "end_time": "2018-07-09T15:35:32.885720Z",
     "start_time": "2018-07-09T15:35:32.879725Z"
    },
    "collapsed": true
   },
   "outputs": [],
   "source": [
    "def plot_binned_swr(info, binned_swr, filepath):\n",
    "    plt.plot(binned_swr.time, binned_swr.data, ms=3)\n",
    "    \n",
    "    xtick_labels = [\"prerecord\", \"phase1\", \"pauseA\", \"phase2\", \"pauseB\", \"phase3\", \"postrecord\"]\n",
    "    xtick_location = []\n",
    "    for phase in xtick_labels:\n",
    "        plt.axvline(x=info.task_times[phase].start, color=\"k\", linestyle='--', ms=3)\n",
    "        xtick_location.append(info.task_times[phase].start)\n",
    "    \n",
    "    plt.xticks(xtick_location, xtick_labels, rotation=75)\n",
    "    plt.tight_layout()\n",
    "    plt.savefig(os.path.join(filepath, info.session_id+\"-binned_swr.png\"))\n",
    "    plt.close()\n",
    "#     plt.show()"
   ]
  },
  {
   "cell_type": "code",
   "execution_count": null,
   "metadata": {
    "ExecuteTime": {
     "end_time": "2018-07-09T15:57:57.976857Z",
     "start_time": "2018-07-09T15:35:32.887719Z"
    },
    "scrolled": false
   },
   "outputs": [],
   "source": [
    "shortcut_perievents = []\n",
    "u_perievents = []\n",
    "shortcut_end_perievents = []\n",
    "\n",
    "t_before = 30\n",
    "t_after = 60\n",
    "\n",
    "for info in infos:\n",
    "    print(info.session_id)\n",
    "    events, position, spikes, lfp, _ = get_data(info)\n",
    "\n",
    "    # Remove interneurons\n",
    "    max_mean_firing = 5\n",
    "    interneurons = np.zeros(len(spikes), dtype=bool)\n",
    "    for i, spike in enumerate(spikes):\n",
    "        if len(spike.time) / info.session_length >= max_mean_firing:\n",
    "            interneurons[i] = True\n",
    "    spikes = spikes[~interneurons]\n",
    "\n",
    "    # Find SWRs for the whole session\n",
    "    z_thresh = 2.0\n",
    "    power_thresh = 3.0\n",
    "    merge_thresh = 0.02\n",
    "    min_length = 0.05\n",
    "    swrs = nept.detect_swr_hilbert(lfp, fs=info.fs, thresh=(140.0, 250.0), z_thresh=z_thresh,\n",
    "                                   power_thresh=power_thresh, merge_thresh=merge_thresh, min_length=min_length)\n",
    "\n",
    "    # Restrict SWRs to those with 4 or more participating neurons\n",
    "    swrs = nept.find_multi_in_epochs(spikes, swrs, min_involved=4)\n",
    "\n",
    "    # Find rest epochs for entire session\n",
    "    epochs_of_interest = nept.rest_threshold(position, thresh=15., t_smooth=1.0)\n",
    "\n",
    "    swrs = epochs_of_interest.overlaps(swrs)\n",
    "    swrs = swrs[swrs.durations >= 0.05]\n",
    "\n",
    "    # Bin the swrs\n",
    "    binsize = 3.\n",
    "    t_bins = np.arange(lfp.time.min(), lfp.time.max()+binsize, binsize)\n",
    "    swr_counts = np.histogram(swrs.centers, bins=t_bins)[0]\n",
    "\n",
    "    # Smooth the binned swrs with a gaussian filter\n",
    "    std = binsize * 2\n",
    "    filter_swr = nept.gaussian_filter(swr_counts, std=std, dt=binsize, axis=0)\n",
    "    smoothed_swrs = nept.AnalogSignal(filter_swr, t_bins[:-1])\n",
    "    \n",
    "    s_swrs = nept.AnalogSignal(swr_counts, t_bins[:-1])\n",
    "\n",
    "    # Plot\n",
    "    plot_binned_swr(info, smoothed_swrs, output_filepath)\n",
    "    \n",
    "    \n",
    "    # Get times of interest\n",
    "    t_start = info.task_times['phase3'].start\n",
    "    t_stop = info.task_times['phase3'].stop\n",
    "\n",
    "    sliced_pos = position.time_slice(t_start, t_stop)\n",
    "\n",
    "    feeder1_times = []\n",
    "    for feeder1 in events['feeder1']:\n",
    "        if t_start < feeder1 < t_stop:\n",
    "            feeder1_times.append(feeder1)\n",
    "\n",
    "    feeder2_times = []\n",
    "    for feeder2 in events['feeder2']:\n",
    "        if t_start < feeder2 < t_stop:\n",
    "            feeder2_times.append(feeder2)\n",
    "\n",
    "    path_pos = get_zones(info, sliced_pos)\n",
    "\n",
    "    trials_idx, trial_epochs = get_trial_idx(path_pos['u'].time, \n",
    "                                             path_pos['shortcut'].time, \n",
    "                                             path_pos['novel'].time,\n",
    "                                             feeder1_times, \n",
    "                                             feeder2_times, \n",
    "                                             t_stop)\n",
    "\n",
    "    first_shortcut = trial_epochs[trials_idx['shortcut'][0][0]].start\n",
    "    shortcut_end = trial_epochs[trials_idx['shortcut'][0][0]].stop\n",
    "    first_u = trial_epochs[trials_idx['u'][0][0]].start\n",
    "\n",
    "    shortcut_perievent = align_to_event(smoothed_swrs, first_shortcut, t_before, t_after)\n",
    "    shortcut_perievents.append(shortcut_perievent)\n",
    "    \n",
    "    shortcut_end_perievent = align_to_event(smoothed_swrs, shortcut_end, t_before, t_after)\n",
    "    shortcut_end_perievents.append(shortcut_end_perievent)\n",
    "\n",
    "    u_perievent = align_to_event(smoothed_swrs, first_u, t_before, t_after)\n",
    "    u_perievents.append(u_perievent)\n",
    "\n",
    "\n",
    "shortcut_position = align_to_event(position, first_shortcut, t_before, t_after)\n",
    "shortcut_position = nept.Position(shortcut_position.data, shortcut_position.time)\n",
    "shortcut_speed = shortcut_position.speed(t_smooth=1.)\n",
    "\n",
    "times = shortcut_perievents[0].time\n",
    "datas = np.zeros((len(times), len(shortcut_perievents)))\n",
    "for i, perievent in enumerate(shortcut_perievents):\n",
    "    datas[:, i] = np.squeeze(perievent.data)\n",
    "datas = np.mean(datas, axis=1)\n",
    "\n",
    "fig, (ax1, ax2) = plt.subplots(2, sharex=True)\n",
    "ax1.plot(times, datas, color=\"b\")\n",
    "ax1.axvline(x=0, color=\"k\", linestyle='--')\n",
    "ax2.plot(shortcut_speed.time, shortcut_speed.data, color=\"g\")\n",
    "ax2.axvline(x=0, color=\"k\", linestyle='--')\n",
    "plt.title(\"Speed\", fontsize=16)\n",
    "fig.suptitle(\"SWR perievent first shortcut start\", fontsize=16)\n",
    "plt.tight_layout()\n",
    "plt.savefig(os.path.join(output_filepath, \"combined_perievent-first-shortcut.png\"))\n",
    "plt.close()\n",
    "# plt.show()\n",
    "\n",
    "shortcut_end_position = align_to_event(position, shortcut_end, t_before, t_after)\n",
    "shortcut_end_position = nept.Position(shortcut_position.data, shortcut_position.time)\n",
    "shortcut_end_speed = shortcut_position.speed(t_smooth=1.)\n",
    "\n",
    "times = shortcut_perievents[0].time\n",
    "datas = np.zeros((len(times), len(shortcut_end_perievents)))\n",
    "for i, perievent in enumerate(shortcut_end_perievents):\n",
    "    datas[:, i] = np.squeeze(perievent.data)\n",
    "datas = np.mean(datas, axis=1)\n",
    "\n",
    "fig, (ax1, ax2) = plt.subplots(2, sharex=True)\n",
    "ax1.plot(times, datas, color=\"b\")\n",
    "ax1.axvline(x=0, color=\"k\", linestyle='--')\n",
    "ax2.plot(shortcut_end_speed.time, shortcut_end_speed.data, color=\"g\")\n",
    "ax2.axvline(x=0, color=\"k\", linestyle='--')\n",
    "plt.title(\"Speed\", fontsize=16)\n",
    "fig.suptitle(\"SWR perievent first shortcut end\", fontsize=16)\n",
    "plt.tight_layout()\n",
    "plt.savefig(os.path.join(output_filepath, \"combined_perievent-first-shortcut-end.png\"))\n",
    "plt.close()\n",
    "# plt.show()\n",
    "\n",
    "\n",
    "u_position = align_to_event(position, first_u, t_before, t_after)\n",
    "u_position = nept.Position(u_position.data, u_position.time)\n",
    "u_speed = u_position.speed(t_smooth=1.)\n",
    "\n",
    "times = u_perievents[0].time\n",
    "datas = np.zeros((len(times), len(u_perievents)))\n",
    "for i, perievent in enumerate(u_perievents):\n",
    "    datas[:, i] = np.squeeze(perievent.data)\n",
    "datas = np.mean(datas, axis=1)\n",
    "\n",
    "fig, (ax1, ax2) = plt.subplots(2, sharex=True)\n",
    "ax1.plot(times, datas, color=\"b\")\n",
    "ax1.axvline(x=0, color=\"k\", linestyle='--')\n",
    "ax2.plot(u_speed.time, u_speed.data, color=\"g\")\n",
    "ax2.axvline(x=0, color=\"k\", linestyle='--')\n",
    "plt.title(\"Speed\", fontsize=16)\n",
    "fig.suptitle(\"SWR perievent first U\", fontsize=16)\n",
    "plt.tight_layout()\n",
    "plt.savefig(os.path.join(output_filepath, \"combined_perievent-first-u.png\"))\n",
    "plt.close()\n",
    "# plt.show()"
   ]
  },
  {
   "cell_type": "code",
   "execution_count": null,
   "metadata": {
    "ExecuteTime": {
     "end_time": "2018-07-09T15:57:57.989690Z",
     "start_time": "2018-07-09T15:57:57.977368Z"
    }
   },
   "outputs": [],
   "source": [
    "perievent.time"
   ]
  },
  {
   "cell_type": "code",
   "execution_count": null,
   "metadata": {
    "collapsed": true
   },
   "outputs": [],
   "source": []
  },
  {
   "cell_type": "code",
   "execution_count": null,
   "metadata": {
    "ExecuteTime": {
     "end_time": "2018-07-09T15:57:58.169587Z",
     "start_time": "2018-07-09T15:57:57.991688Z"
    }
   },
   "outputs": [],
   "source": [
    "event = trial_epochs[trials_idx['u'][1][0]].start\n",
    "analogsignal = smoothed_swrs\n",
    "\n",
    "sliced = analogsignal.time_slice(event - t_before, event + t_after)\n",
    "\n",
    "idx = nept.find_nearest_idx(sliced.time, event)\n",
    "\n",
    "time = sliced.time - sliced.time[idx]\n",
    "data = np.squeeze(sliced.data)"
   ]
  },
  {
   "cell_type": "code",
   "execution_count": null,
   "metadata": {
    "ExecuteTime": {
     "end_time": "2018-07-09T15:57:58.169587Z",
     "start_time": "2018-07-09T15:35:31.762Z"
    },
    "collapsed": true
   },
   "outputs": [],
   "source": [
    "indices = [(analogsignal.time > event-t_before+0.1) & (analogsignal.time < event+t_after)]\n",
    "indices = np.any(np.column_stack(indices), axis=1)"
   ]
  },
  {
   "cell_type": "code",
   "execution_count": null,
   "metadata": {
    "ExecuteTime": {
     "end_time": "2018-07-09T15:57:58.171586Z",
     "start_time": "2018-07-09T15:35:31.768Z"
    },
    "collapsed": true
   },
   "outputs": [],
   "source": [
    "analogsignal[indices].n_samples"
   ]
  },
  {
   "cell_type": "code",
   "execution_count": null,
   "metadata": {
    "ExecuteTime": {
     "end_time": "2018-07-09T15:57:58.172586Z",
     "start_time": "2018-07-09T15:35:31.773Z"
    },
    "collapsed": true
   },
   "outputs": [],
   "source": [
    "indices"
   ]
  },
  {
   "cell_type": "code",
   "execution_count": null,
   "metadata": {
    "ExecuteTime": {
     "end_time": "2018-07-09T15:57:58.173585Z",
     "start_time": "2018-07-09T15:35:31.777Z"
    },
    "collapsed": true
   },
   "outputs": [],
   "source": [
    "sliced.n_samples"
   ]
  },
  {
   "cell_type": "code",
   "execution_count": null,
   "metadata": {
    "collapsed": true
   },
   "outputs": [],
   "source": []
  },
  {
   "cell_type": "code",
   "execution_count": null,
   "metadata": {
    "ExecuteTime": {
     "end_time": "2018-07-09T15:57:58.174585Z",
     "start_time": "2018-07-09T15:35:31.782Z"
    },
    "collapsed": true
   },
   "outputs": [],
   "source": [
    "u_position = align_to_event(position, first_u, t_before, t_after)\n",
    "u_position = nept.Position(u_position.data, u_position.time)\n",
    "u_speed = u_position.speed(t_smooth=1.)\n",
    "\n",
    "times = u_perievents[0].time\n",
    "datas = np.zeros((len(times), len(u_perievents)))\n",
    "for i, perievent in enumerate(u_perievents):\n",
    "    datas[:, i] = np.squeeze(perievent.data)\n",
    "datas = np.mean(datas, axis=1)\n",
    "\n",
    "fig, (ax1, ax2) = plt.subplots(2, sharex=True)\n",
    "ax1.plot(times, datas, color=\"b\")\n",
    "ax1.axvline(x=0, color=\"k\", linestyle='--')\n",
    "ax2.plot(u_speed.time, u_speed.data, color=\"g\")\n",
    "ax2.axvline(x=0, color=\"k\", linestyle='--')\n",
    "fig.suptitle(\"Perievent first U\", fontsize=16)\n",
    "plt.tight_layout()\n",
    "plt.savefig(os.path.join(output_filepath, \"combined_perievent-first-u.png\"))\n",
    "plt.close()\n",
    "# plt.show()"
   ]
  },
  {
   "cell_type": "code",
   "execution_count": null,
   "metadata": {
    "ExecuteTime": {
     "end_time": "2018-07-09T15:57:58.175584Z",
     "start_time": "2018-07-09T15:35:31.789Z"
    },
    "collapsed": true
   },
   "outputs": [],
   "source": [
    "datas = np.zeros((len(times), len(u_perievents)))"
   ]
  },
  {
   "cell_type": "code",
   "execution_count": null,
   "metadata": {
    "ExecuteTime": {
     "end_time": "2018-07-09T15:57:58.176583Z",
     "start_time": "2018-07-09T15:35:31.795Z"
    },
    "collapsed": true
   },
   "outputs": [],
   "source": [
    "times"
   ]
  },
  {
   "cell_type": "code",
   "execution_count": null,
   "metadata": {
    "ExecuteTime": {
     "end_time": "2018-07-09T15:57:58.177583Z",
     "start_time": "2018-07-09T15:35:31.801Z"
    },
    "collapsed": true
   },
   "outputs": [],
   "source": [
    "perievent.time"
   ]
  },
  {
   "cell_type": "code",
   "execution_count": null,
   "metadata": {
    "ExecuteTime": {
     "end_time": "2018-07-09T15:57:58.178582Z",
     "start_time": "2018-07-09T15:35:31.805Z"
    },
    "collapsed": true
   },
   "outputs": [],
   "source": [
    "u_perievents[1].time"
   ]
  },
  {
   "cell_type": "code",
   "execution_count": null,
   "metadata": {
    "collapsed": true
   },
   "outputs": [],
   "source": []
  }
 ],
 "metadata": {
  "kernelspec": {
   "display_name": "Python 3",
   "language": "python",
   "name": "python3"
  },
  "language_info": {
   "codemirror_mode": {
    "name": "ipython",
    "version": 3
   },
   "file_extension": ".py",
   "mimetype": "text/x-python",
   "name": "python",
   "nbconvert_exporter": "python",
   "pygments_lexer": "ipython3",
   "version": "3.6.5"
  },
  "toc": {
   "colors": {
    "hover_highlight": "#DAA520",
    "running_highlight": "#FF0000",
    "selected_highlight": "#FFD700"
   },
   "moveMenuLeft": true,
   "nav_menu": {
    "height": "12px",
    "width": "252px"
   },
   "navigate_menu": true,
   "number_sections": true,
   "sideBar": true,
   "threshold": 4,
   "toc_cell": false,
   "toc_section_display": "block",
   "toc_window_display": false
  }
 },
 "nbformat": 4,
 "nbformat_minor": 2
}
