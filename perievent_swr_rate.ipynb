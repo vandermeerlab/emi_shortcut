{
 "cells": [
  {
   "cell_type": "code",
   "execution_count": null,
   "metadata": {
    "ExecuteTime": {
     "end_time": "2018-07-17T18:38:01.587861Z",
     "start_time": "2018-07-17T18:38:00.625412Z"
    },
    "collapsed": true
   },
   "outputs": [],
   "source": [
    "%matplotlib inline\n",
    "import matplotlib.pyplot as plt\n",
    "import numpy as np\n",
    "import os\n",
    "import nept\n",
    "\n",
    "from loading_data import get_data\n",
    "from analyze_tuning_curves import get_tuning_curves\n",
    "from utils_maze import get_trial_idx, get_zones, align_to_event"
   ]
  },
  {
   "cell_type": "code",
   "execution_count": null,
   "metadata": {
    "ExecuteTime": {
     "end_time": "2018-07-17T18:38:01.592859Z",
     "start_time": "2018-07-17T18:38:01.589861Z"
    },
    "collapsed": true
   },
   "outputs": [],
   "source": [
    "thisdir = os.getcwd()\n",
    "pickle_filepath = os.path.join(thisdir, \"cache\", \"pickled\")\n",
    "output_filepath = os.path.join(thisdir, \"plots\", \"binned_swrs\")\n",
    "if not os.path.exists(output_filepath):\n",
    "    os.makedirs(output_filepath)"
   ]
  },
  {
   "cell_type": "code",
   "execution_count": null,
   "metadata": {
    "ExecuteTime": {
     "end_time": "2018-07-17T18:38:01.667815Z",
     "start_time": "2018-07-17T18:38:01.594858Z"
    },
    "collapsed": true
   },
   "outputs": [],
   "source": [
    "import info.r068d2 as info\n",
    "import info.r063d4 as r063d4\n",
    "# infos =[info, r063d4]\n",
    "\n",
    "from run import spike_sorted_infos\n",
    "infos = spike_sorted_infos"
   ]
  },
  {
   "cell_type": "code",
   "execution_count": null,
   "metadata": {
    "ExecuteTime": {
     "end_time": "2018-07-17T18:38:01.919673Z",
     "start_time": "2018-07-17T18:38:00.673Z"
    },
    "collapsed": true
   },
   "outputs": [],
   "source": [
    "def get_perievent(epochs, event, t_bins, std=1.5):\n",
    "    epochs = epochs.copy()\n",
    "    dt = t_bins[1] - t_bins[0]\n",
    "    \n",
    "    binned = np.histogram(epochs.centers, bins=t_bins)[0]\n",
    "    smoothed = nept.gaussian_filter(binned, std=std, dt=dt, axis=0)\n",
    "    \n",
    "    rate = smoothed / dt\n",
    "\n",
    "    return nept.AnalogSignal(rate, t_bins[:-1]-event)"
   ]
  },
  {
   "cell_type": "code",
   "execution_count": null,
   "metadata": {
    "ExecuteTime": {
     "end_time": "2018-07-17T18:38:01.675812Z",
     "start_time": "2018-07-17T18:38:01.669816Z"
    },
    "collapsed": true
   },
   "outputs": [],
   "source": [
    "# def plot_binned_swr(info, binned_swr, filepath):\n",
    "#     plt.plot(binned_swr.time, binned_swr.data, ms=3)\n",
    "    \n",
    "#     xtick_labels = [\"prerecord\", \"phase1\", \"pauseA\", \"phase2\", \"pauseB\", \"phase3\", \"postrecord\"]\n",
    "#     xtick_location = []\n",
    "#     for phase in xtick_labels:\n",
    "#         plt.axvline(x=info.task_times[phase].start, color=\"k\", linestyle='--', ms=3)\n",
    "#         xtick_location.append(info.task_times[phase].start)\n",
    "    \n",
    "#     plt.xticks(xtick_location, xtick_labels, rotation=75)\n",
    "#     plt.tight_layout()\n",
    "#     if filepath is not None:\n",
    "#         plt.savefig(os.path.join(filepath, info.session_id+\"-binned_swr.png\"))\n",
    "#         plt.close()\n",
    "#     else:\n",
    "#         plt.show()\n",
    "\n",
    "def find_perievent(epoch, position, event, t_before, t_after, binsize, t_smooth=0.8):\n",
    "    t_bins = np.arange(event-t_before, event+t_after+binsize, binsize)\n",
    "    epoch_perievent = get_perievent(epoch, event, t_bins)\n",
    "\n",
    "    perievent_time = t_bins[:-1]\n",
    "    sliced_position = position.time_slice(perievent_time[0], perievent_time[-1])\n",
    "    perievent_x = np.interp(perievent_time, sliced_position.time, sliced_position.x)\n",
    "    perievent_y = np.interp(perievent_time, sliced_position.time, sliced_position.y)\n",
    "    perievent_position = nept.Position(np.hstack((perievent_x[..., np.newaxis],\n",
    "                                                  perievent_y[..., np.newaxis])), \n",
    "                                       perievent_time-event)\n",
    "    speed_perievent = perievent_position.speed(t_smooth=t_smooth)\n",
    "\n",
    "    return epoch_perievent, speed_perievent"
   ]
  },
  {
   "cell_type": "code",
   "execution_count": null,
   "metadata": {
    "ExecuteTime": {
     "end_time": "2018-07-17T18:38:01.691801Z",
     "start_time": "2018-07-17T18:38:01.677810Z"
    },
    "collapsed": true
   },
   "outputs": [],
   "source": [
    "def find_means(list_of_analogsignals):\n",
    "    times = list_of_analogsignals[0].time\n",
    "    datas = np.zeros((len(times), len(list_of_analogsignals)))\n",
    "    for i, this_analogsignal in enumerate(list_of_analogsignals):\n",
    "        datas[:, i] = np.squeeze(this_analogsignal.data)\n",
    "    datas = np.mean(datas, axis=1)\n",
    "    \n",
    "    return nept.AnalogSignal(datas, times)\n",
    "\n",
    "\n",
    "def plot_perievent(perievent, speed, title, savefig=True):\n",
    "    fig, (ax1, ax2) = plt.subplots(2, sharex=True)\n",
    "    ax1.plot(perievent.time, perievent.data, color=\"b\")\n",
    "    ax1.axvline(x=0, color=\"k\", linestyle='--')\n",
    "#     ax1.set_ylim([0, 0.05])\n",
    "    ax2.plot(speed.time, speed.data, color=\"g\")\n",
    "    ax2.axvline(x=0, color=\"k\", linestyle='--')\n",
    "    plt.title(\"Speed\", fontsize=16)\n",
    "    fig.suptitle(title, fontsize=16)\n",
    "    plt.tight_layout()\n",
    "    if savefig:\n",
    "        plt.savefig(os.path.join(output_filepath, title+\".png\"))\n",
    "        plt.close()\n",
    "    else:\n",
    "        plt.show()"
   ]
  },
  {
   "cell_type": "code",
   "execution_count": null,
   "metadata": {
    "collapsed": true
   },
   "outputs": [],
   "source": [
    "def get_event_times(info, position, events):\n",
    "    t_start = info.task_times['phase3'].start\n",
    "    t_stop = info.task_times['phase3'].stop\n",
    "\n",
    "    sliced_pos = position.time_slice(t_start, t_stop)\n",
    "\n",
    "    feeder1_times = []\n",
    "    for feeder1 in events['feeder1']:\n",
    "        if t_start < feeder1 < t_stop:\n",
    "            feeder1_times.append(feeder1)\n",
    "\n",
    "    feeder2_times = []\n",
    "    for feeder2 in events['feeder2']:\n",
    "        if t_start < feeder2 < t_stop:\n",
    "            feeder2_times.append(feeder2)\n",
    "\n",
    "    path_pos = get_zones(info, sliced_pos)\n",
    "\n",
    "    trials_idx, trial_epochs = get_trial_idx(path_pos['u'].time, \n",
    "                                             path_pos['shortcut'].time, \n",
    "                                             path_pos['novel'].time,\n",
    "                                             feeder1_times, \n",
    "                                             feeder2_times, \n",
    "                                             t_stop)\n",
    "\n",
    "    shortcut_epochs = [trial_epochs[idx] for idx in trials_idx[\"shortcut\"]]\n",
    "    u_epochs = [trial_epochs[idx] for idx in trials_idx[\"u\"]]\n",
    "    novel_epochs = [trial_epochs[idx] for idx in trials_idx[\"novel\"]]\n",
    "    \n",
    "    shortcut_starts = [(\"shortcut_start\", i, epoch.start) for i, epoch in enumerate(shortcut_epochs)]\n",
    "    shortcut_stops = [(\"shortcut_stop\", i, epoch.stop) for i, epoch in enumerate(shortcut_epochs)]\n",
    "    u_starts = [(\"u_start\", i, epoch.start) for i, epoch in enumerate(shortcut_epochs)]\n",
    "    u_stops = [(\"u_stop\", i, epoch.stop) for i, epoch in enumerate(shortcut_epochs)]\n",
    "    novel_starts = [(\"novel_start\", i, epoch.start) for i, epoch in enumerate(shortcut_epochs)]\n",
    "    novel_stops = [(\"novel_stop\", i, epoch.stop) for i, epoch in enumerate(shortcut_epochs)]\n",
    "    \n",
    "    events_of_interest = shortcut_starts + shortcut_stops + u_starts + u_stops + novel_starts + novel_stops\n",
    "    \n",
    "    return events_of_interest\n",
    "\n",
    "def get_swrs(info, position, spikes, lfp):\n",
    "    z_thresh = 2.0\n",
    "    power_thresh = 3.0\n",
    "    merge_thresh = 0.02\n",
    "    min_length = 0.05\n",
    "    swrs = nept.detect_swr_hilbert(lfp, fs=info.fs, thresh=(140.0, 250.0), z_thresh=z_thresh,\n",
    "                                   power_thresh=power_thresh, merge_thresh=merge_thresh, min_length=min_length)\n",
    "\n",
    "    # Restrict SWRs to those with 4 or more participating neurons\n",
    "    swrs = nept.find_multi_in_epochs(spikes, swrs, min_involved=4)\n",
    "\n",
    "    # Find rest epochs for entire session\n",
    "    epochs_of_interest = nept.rest_threshold(position, thresh=12., t_smooth=0.8)\n",
    "\n",
    "    swrs = epochs_of_interest.overlaps(swrs)\n",
    "    swrs = swrs[swrs.durations >= 0.05]\n",
    "    \n",
    "    return swrs"
   ]
  },
  {
   "cell_type": "code",
   "execution_count": null,
   "metadata": {
    "collapsed": true
   },
   "outputs": [],
   "source": [
    "def combine_events(swrs, positions, events, t_before, t_after, binsize, title):\n",
    "    perievents = []\n",
    "    speeds = []\n",
    "\n",
    "    for swr, position, event in zip(swrs, positions, events):\n",
    "        epoch_perievent, speed_perievent = find_perievent(swr, position, event, t_before, t_after, binsize)\n",
    "        perievents.append(epoch_perievent)\n",
    "        speeds.append(speed_perievent)\n",
    "    \n",
    "    mean_swrs = find_means(perievents)\n",
    "    mean_speed = find_means(speeds)\n",
    "    plot_perievent(mean_swrs, mean_speed, title)"
   ]
  },
  {
   "cell_type": "code",
   "execution_count": null,
   "metadata": {},
   "outputs": [],
   "source": [
    "swrs = []\n",
    "positions = []\n",
    "events_of_interest = []\n",
    "\n",
    "t_before = 20.\n",
    "t_after = 40.\n",
    "binsize = 1.\n",
    "\n",
    "for info in infos:\n",
    "    print(info.session_id)\n",
    "    events, position, spikes, lfp, _ = get_data(info)\n",
    "    events_of_interest.extend(get_event_times(info, position, events))\n",
    "    swrs.append(get_swrs(info, position, spikes, lfp))\n",
    "    positions.append(position)\n",
    "    \n",
    "    \n",
    "for idx in range(5):\n",
    "    title = \"SWR rate for shortcut start trial\"+str(idx+1)\n",
    "    events = [event[2] for event in events_of_interest if (event[0] == \"shortcut_start\" and event[1] == idx)]\n",
    "    combine_events(swrs, positions, events, t_before, t_after, binsize, title)\n",
    "    \n",
    "    title = \"SWR rate for shortcut end trial\"+str(idx+1)\n",
    "    events = [event[2] for event in events_of_interest if (event[0] == \"shortcut_stop\" and event[1] == idx)]\n",
    "    combine_events(swrs, positions, events, t_before, t_after, binsize, title)\n",
    "    \n",
    "title = \"SWR rate for u start trial1\"\n",
    "events = [event[2] for event in events_of_interest if (event[0] == \"u_start\" and event[1] == 0)]\n",
    "combine_events(swrs, positions, events, t_before, t_after, binsize, title)\n",
    "\n",
    "title = \"SWR rate for u end trial1\"\n",
    "events = [event[2] for event in events_of_interest if (event[0] == \"u_stop\" and event[1] == 0)]\n",
    "combine_events(swrs, positions, events, t_before, t_after, binsize, title)\n",
    "\n",
    "title = \"SWR rate for u start trial1\"\n",
    "events = [event[2] for event in events_of_interest if (event[0] == \"u_start\" and event[1] == 0)]\n",
    "combine_events(swrs, positions, events, t_before, t_after, binsize, title)\n",
    "\n",
    "title = \"SWR rate for u end trial1\"\n",
    "events = [event[2] for event in events_of_interest if (event[0] == \"u_stop\" and event[1] == 0)]\n",
    "combine_events(swrs, positions, events, t_before, t_after, binsize, title)"
   ]
  },
  {
   "cell_type": "code",
   "execution_count": null,
   "metadata": {
    "collapsed": true
   },
   "outputs": [],
   "source": []
  },
  {
   "cell_type": "code",
   "execution_count": null,
   "metadata": {
    "collapsed": true
   },
   "outputs": [],
   "source": []
  }
 ],
 "metadata": {
  "kernelspec": {
   "display_name": "Python 3",
   "language": "python",
   "name": "python3"
  },
  "language_info": {
   "codemirror_mode": {
    "name": "ipython",
    "version": 3
   },
   "file_extension": ".py",
   "mimetype": "text/x-python",
   "name": "python",
   "nbconvert_exporter": "python",
   "pygments_lexer": "ipython3",
   "version": "3.6.5"
  },
  "toc": {
   "colors": {
    "hover_highlight": "#DAA520",
    "running_highlight": "#FF0000",
    "selected_highlight": "#FFD700"
   },
   "moveMenuLeft": true,
   "nav_menu": {
    "height": "12px",
    "width": "252px"
   },
   "navigate_menu": true,
   "number_sections": true,
   "sideBar": true,
   "threshold": 4,
   "toc_cell": false,
   "toc_section_display": "block",
   "toc_window_display": false
  }
 },
 "nbformat": 4,
 "nbformat_minor": 2
}
