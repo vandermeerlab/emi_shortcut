{
 "cells": [
  {
   "cell_type": "code",
   "execution_count": null,
   "metadata": {
    "collapsed": true
   },
   "outputs": [],
   "source": [
    "%matplotlib inline\n",
    "import os\n",
    "import matplotlib.pyplot as plt\n",
    "import numpy as np\n",
    "import scipy.signal as signal\n",
    "import vdmlab as vdm\n",
    "\n",
    "from startup import load_shortcut_position\n",
    "from startup import extract_xy"
   ]
  },
  {
   "cell_type": "code",
   "execution_count": null,
   "metadata": {
    "collapsed": true
   },
   "outputs": [],
   "source": [
    "# import info.r063d2 as info # 2 targets\n",
    "# import info.r066d1 as info # 3 targets\n",
    "# import info.r066d5 as info # 1 target"
   ]
  },
  {
   "cell_type": "code",
   "execution_count": null,
   "metadata": {
    "collapsed": true
   },
   "outputs": [],
   "source": [
    "import info.r068d8 as info"
   ]
  },
  {
   "cell_type": "code",
   "execution_count": null,
   "metadata": {
    "collapsed": false
   },
   "outputs": [],
   "source": [
    "dataloc = 'C:/Users/Emily/code/emi_shortcut/cache/data'\n",
    "\n",
    "events = vdm.load_events(os.path.join(dataloc, info.event_filename[-26:]), info.event_labels)"
   ]
  },
  {
   "cell_type": "code",
   "execution_count": null,
   "metadata": {
    "collapsed": true
   },
   "outputs": [],
   "source": [
    "def sort_led_locations(info, events, times):\n",
    "    \"\"\"Combines and sorts led1 and led2 events\n",
    "    \n",
    "    Parameters\n",
    "    ----------\n",
    "    info: module\n",
    "    events: dict of vdm.Epochs\n",
    "    times: np.array\n",
    "    \n",
    "    Returns\n",
    "    -------\n",
    "    feeder_x_location: np.array\n",
    "    feeder_y_location: np.array\n",
    "    \n",
    "    \"\"\"\n",
    "    leds = []\n",
    "    leds.extend([(event, 'led1') for event in events['led1']])\n",
    "    leds.extend([(event, 'led2') for event in events['led2']])\n",
    "    sorted_leds = sorted(leds)\n",
    "\n",
    "    # Get an array of feeder locations when that feeder is actively flashing\n",
    "    feeder_x_location = np.zeros(times.shape[0])\n",
    "    feeder_y_location = np.zeros(times.shape[0])\n",
    "\n",
    "    feeder1_x = info.path_pts['feeder1'][0]\n",
    "    feeder1_y = info.path_pts['feeder1'][1]\n",
    "    feeder2_x = info.path_pts['feeder2'][0]\n",
    "    feeder2_y = info.path_pts['feeder2'][1]\n",
    "\n",
    "    last_label = ''\n",
    "\n",
    "    for time, label in sorted_leds:\n",
    "        if label == last_label:\n",
    "            continue\n",
    "        idx = vdm.find_nearest_idx(times, time)\n",
    "        x_location = feeder1_x if label == 'led1' else feeder2_x\n",
    "        y_location = feeder1_y if label == 'led1' else feeder2_y\n",
    "\n",
    "        feeder_x_location[idx:] = x_location\n",
    "        feeder_y_location[idx:] = y_location\n",
    "\n",
    "        last_label = label\n",
    "    return feeder_x_location, feeder_y_location\n",
    "\n",
    "\n",
    "def correct_targets(subset_x, subset_y, feeder_x, feeder_y):\n",
    "    \n",
    "    col_idx = (np.sum(subset_x == 0, axis=0) == subset_x.shape[0]) & (np.sum(subset_y == 0, axis=0) == subset_y.shape[0])\n",
    "    subset_x = subset_x[:, ~col_idx]\n",
    "    subset_y = subset_y[:, ~col_idx]\n",
    "    \n",
    "    x = np.array(subset_x[:, 0])\n",
    "    y = np.array(subset_y[:, 0])\n",
    "    \n",
    "    # One target is contaminated when the distance between the targets is large   \n",
    "    target_x_var = np.var(subset_x, axis=1)\n",
    "    target_y_var = np.var(subset_y, axis=1)\n",
    "\n",
    "    # Contaminated samples are using the feeder LED instead of the implant LEDs\n",
    "    contamination_thresh = 5\n",
    "    contaminated_idx = (target_x_var > contamination_thresh) | (target_y_var > contamination_thresh)\n",
    "\n",
    "    # Non contaminated implant LED samples with targets get averaged\n",
    "    idx = ~contaminated_idx\n",
    "    x[idx] = np.mean(subset_x[idx], axis=1)\n",
    "    y[idx] = np.mean(subset_y[idx], axis=1)\n",
    "\n",
    "    # For contaminated samples, we use the sample that is furthest from the feeder location\n",
    "    feeder_x_dist = subset_x - feeder_x[..., np.newaxis]\n",
    "    feeder_y_dist = subset_y - feeder_y[..., np.newaxis]\n",
    "    feeder_dist = np.sqrt(feeder_x_dist**2 + feeder_y_dist**2)\n",
    "    \n",
    "    furthest_idx = np.argmax(feeder_dist, axis=1)\n",
    "\n",
    "    idx = contaminated_idx\n",
    "    x[idx] = subset_x[idx, furthest_idx[idx]]\n",
    "    y[idx] = subset_y[idx, furthest_idx[idx]]\n",
    "    \n",
    "    return x, y\n",
    "\n",
    "\n",
    "def remove_jumps_to_feeder(x, y, time, info, time_thresh=1.0, jump_thresh=20, dist_thresh=5):  \n",
    "    # Find those indices that have unnatural jumps in the position.\n",
    "    # Remove jump points within to the feeder location. \n",
    "    # Not including jumps due to jumps in time (eg. from stopping the recording).\n",
    "    \n",
    "    feeder1_x = info.path_pts['feeder1'][0]\n",
    "    feeder1_y = info.path_pts['feeder1'][1]\n",
    "    feeder2_x = info.path_pts['feeder2'][0]\n",
    "    feeder2_y = info.path_pts['feeder2'][1]\n",
    "    \n",
    "    while True: \n",
    "        jumps = np.append(np.array([0]), np.sqrt(np.diff(x)**2 + np.diff(y)**2))\n",
    "        remove_idx = jumps > jump_thresh\n",
    "\n",
    "        time_jumps = np.append(np.diff(time) > time_thresh, np.array([False], dtype=bool))    \n",
    "        remove_idx[time_jumps] = False\n",
    "\n",
    "        dist_feeder1 = np.sqrt((x - feeder1_x)**2 + (y - feeder1_y)**2)\n",
    "        dist_feeder2 = np.sqrt((x - feeder2_x)**2 + (y - feeder2_y)**2)\n",
    "        dist_feeder = np.minimum(dist_feeder1, dist_feeder2)\n",
    "        dist_jumps = dist_feeder > dist_thresh\n",
    "        remove_idx[dist_jumps] = False\n",
    "\n",
    "        if np.sum(remove_idx) > 0:\n",
    "            x = x[~remove_idx]\n",
    "            y = y[~remove_idx]\n",
    "            time = time[~remove_idx] \n",
    "        else:\n",
    "            break\n",
    "            \n",
    "    return x, y, time\n",
    "\n",
    "\n",
    "def median_filter(x, y, kernel=3):\n",
    "    # Applying a median filter to the x and y positions\n",
    "    \n",
    "    x = signal.medfilt(x, kernel_size=kernel)\n",
    "    y = signal.medfilt(y, kernel_size=kernel)\n",
    "    \n",
    "    return x, y\n",
    "\n",
    "\n",
    "def load_shortcut_position(info, filename):\n",
    "    \"\"\"Loads and corrects shortcut position.\n",
    "\n",
    "    Parameters\n",
    "    ----------\n",
    "    info: module\n",
    "    filename: str\n",
    "    events: dict\n",
    "\n",
    "    Returns\n",
    "    -------\n",
    "    position: vdm.Position\n",
    "\n",
    "    \"\"\"\n",
    "    nvt_data = vdm.load_nvt(filename)\n",
    "    targets = nvt_data['targets']\n",
    "    times = nvt_data['time']\n",
    "\n",
    "    # Initialize x, y arrays\n",
    "    x = np.zeros(targets.shape)\n",
    "    y = np.zeros(targets.shape)\n",
    "    # time = np.zeros(targets.shape)\n",
    "\n",
    "    # X and Y are stored in a custom bitfield. See Neuralynx data file format documentation for details.\n",
    "    # Briefly, each record contains up to 50 targets, each stored in 32bit field.\n",
    "    # X field at [20:31] and Y at [4:15]. \n",
    "    # TODO: make into a separate function in vdmlab\n",
    "    for target in range(targets.shape[1]):\n",
    "        this_sample = targets[:, target]\n",
    "        for sample in range(targets.shape[0]):\n",
    "            # When the bitfield is equal to zero there is no valid data for that field\n",
    "            # and remains zero for the rest of the bitfields in the record.\n",
    "            if this_sample[target] == 0:\n",
    "                break\n",
    "            x[sample, target], y[sample, target] = extract_xy(int(this_sample[sample]))\n",
    "\n",
    "    # Remove columns with no target data\n",
    "    col_idx = (np.sum(x == 0, axis=0) == x.shape[0]) & (np.sum(y == 0, axis=0) == y.shape[0])\n",
    "    x = np.array(x[:, ~col_idx])\n",
    "    y = np.array(y[:, ~col_idx])\n",
    "    \n",
    "    # Remove rows with no target data\n",
    "    row_idx = (np.sum(x == 0, axis=1) == x.shape[1]) | (np.sum(y == 0, axis=1) == y.shape[1])\n",
    "    x = np.array(x[~row_idx])\n",
    "    y = np.array(y[~row_idx])\n",
    "    times = np.array(times[~row_idx])\n",
    "    \n",
    "    x = x / info.scale_targets[0]\n",
    "    y = y / info.scale_targets[1]\n",
    "    \n",
    "    feeder_x_location, feeder_y_location = sort_led_locations(info, events, times)\n",
    "\n",
    "    # Initialize out_x and out_y as the first target\n",
    "    out_x = np.array(x[:, 0])\n",
    "    out_y = np.array(y[:, 0])\n",
    "    \n",
    "    #TODO: take out plotting\n",
    "    plt.plot(out_x, out_y, 'k.', ms=1)\n",
    "    plt.plot(info.path_pts['feeder1'][0], info.path_pts['feeder1'][1], 'b.', ms=10)\n",
    "    plt.plot(info.path_pts['feeder2'][0], info.path_pts['feeder2'][1], 'b.', ms=10)\n",
    "    plt.show()\n",
    "    \n",
    "    # This correction method assumes we are working with two targets\n",
    "    # (eg. subtracts the two targets, averages over two targets, etc.)\n",
    "    if x.shape[1] == 1 and y.shape[1] == 1:\n",
    "        # Remove jumps to feeder location\n",
    "        out_x, out_y, times = remove_jumps_to_feeder(out_x, out_y, times, info)\n",
    "        \n",
    "        # Apply a median filter\n",
    "        out_x, out_y = median_filter(out_x, out_y)\n",
    "        \n",
    "        position = vdm.Position(np.hstack(np.array([out_x, out_y])[..., np.newaxis]), times)\n",
    "\n",
    "        return position\n",
    "    \n",
    "    elif x.shape[1] == 2 and y.shape[1] == 2:\n",
    "        # Find indices where only two targets were available\n",
    "        two_target_idx = (x[:, 1] != 0) | (y[:, 1] != 0)\n",
    "        subset_indices = [two_target_idx]        \n",
    "    \n",
    "    elif x.shape[1] == 3 and y.shape[1] == 3:\n",
    "        # Find indices where all three targets are available\n",
    "        three_target_idx = (x[:, 2] != 0) | (y[:, 2] != 0)\n",
    "        \n",
    "        # Find indices where only two targets are available\n",
    "        two_target_idx = ((x[:, 1] != 0) | (y[:, 1] != 0)) & ~three_target_idx\n",
    "        subset_indices = [two_target_idx, three_target_idx]\n",
    "        \n",
    "    else:\n",
    "        raise NotImplementedError(\"this number of targets is not handled (%d x targets, %d y targets)\" %(x.shape[1], y.shape[1]))\n",
    "\n",
    "    for subset_idx in subset_indices:\n",
    "        subset_x, subset_y = correct_targets(x[subset_idx], y[subset_idx], \n",
    "                                             feeder_x_location[subset_idx], feeder_y_location[subset_idx])\n",
    "        out_x[subset_idx] = subset_x\n",
    "        out_y[subset_idx] = subset_y\n",
    "\n",
    "    # Remove jumps to feeder location\n",
    "    out_x, out_y, times = remove_jumps_to_feeder(out_x, out_y, times, info)\n",
    "\n",
    "    # Apply a median filter\n",
    "    out_x, out_y = median_filter(out_x, out_y)\n",
    "\n",
    "    # Construct a vdm.Position object\n",
    "    position = vdm.Position(np.hstack(np.array([out_x, out_y])[..., np.newaxis]), times)\n",
    "\n",
    "    return position"
   ]
  },
  {
   "cell_type": "code",
   "execution_count": null,
   "metadata": {
    "collapsed": false
   },
   "outputs": [],
   "source": [
    "position = load_shortcut_position(info, os.path.join(dataloc, info.position_filename[-23:]))"
   ]
  },
  {
   "cell_type": "code",
   "execution_count": null,
   "metadata": {
    "collapsed": false
   },
   "outputs": [],
   "source": [
    "dist = np.append(np.array([0]), position[:-1].distance(position[1:]))\n",
    "idx = dist > 10\n",
    "plt.plot(position.x, position.y, 'b.', ms=2)\n",
    "plt.plot(position.x[idx], position.y[idx], 'r.', ms=10)\n",
    "plt.show()"
   ]
  },
  {
   "cell_type": "code",
   "execution_count": null,
   "metadata": {
    "collapsed": false
   },
   "outputs": [],
   "source": [
    "np.sum(position.x == 0 & np.sum(position.y == 0))"
   ]
  },
  {
   "cell_type": "code",
   "execution_count": null,
   "metadata": {
    "collapsed": false
   },
   "outputs": [],
   "source": [
    "dist = position[:-1].distance(position[1:])\n",
    "print('n_jumps:', np.sum(dist > 10))"
   ]
  },
  {
   "cell_type": "code",
   "execution_count": null,
   "metadata": {
    "collapsed": false
   },
   "outputs": [],
   "source": [
    "plt.plot(position.x, position.y, 'b.', ms=2)\n",
    "plt.show()"
   ]
  },
  {
   "cell_type": "code",
   "execution_count": null,
   "metadata": {
    "collapsed": false
   },
   "outputs": [],
   "source": [
    "plt.plot(position.time, position.x, 'b.', ms=2)\n",
    "plt.show()"
   ]
  },
  {
   "cell_type": "code",
   "execution_count": null,
   "metadata": {
    "collapsed": false
   },
   "outputs": [],
   "source": [
    "plt.plot(position.time, position.y, 'b.', ms=2)\n",
    "plt.show()"
   ]
  },
  {
   "cell_type": "code",
   "execution_count": null,
   "metadata": {
    "collapsed": true
   },
   "outputs": [],
   "source": []
  },
  {
   "cell_type": "code",
   "execution_count": null,
   "metadata": {
    "collapsed": true
   },
   "outputs": [],
   "source": []
  }
 ],
 "metadata": {
  "anaconda-cloud": {},
  "kernelspec": {
   "display_name": "Python [conda env:py3]",
   "language": "python",
   "name": "conda-env-py3-py"
  },
  "language_info": {
   "codemirror_mode": {
    "name": "ipython",
    "version": 3
   },
   "file_extension": ".py",
   "mimetype": "text/x-python",
   "name": "python",
   "nbconvert_exporter": "python",
   "pygments_lexer": "ipython3",
   "version": "3.5.2"
  }
 },
 "nbformat": 4,
 "nbformat_minor": 1
}
