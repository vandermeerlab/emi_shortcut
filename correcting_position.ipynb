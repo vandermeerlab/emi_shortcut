{
 "cells": [
  {
   "cell_type": "code",
   "execution_count": null,
   "metadata": {
    "collapsed": true
   },
   "outputs": [],
   "source": [
    "%matplotlib inline\n",
    "import os\n",
    "import matplotlib.pyplot as plt\n",
    "import numpy as np\n",
    "import scipy.signal as signal\n",
    "import vdmlab as vdm\n",
    "\n",
    "from startup import load_shortcut_position\n",
    "from startup import extract_xy"
   ]
  },
  {
   "cell_type": "code",
   "execution_count": null,
   "metadata": {
    "collapsed": true
   },
   "outputs": [],
   "source": [
    "# import info.r063d2 as info\n",
    "# import info.r066d1 as info\n",
    "import info.r066d5 as info"
   ]
  },
  {
   "cell_type": "code",
   "execution_count": null,
   "metadata": {
    "collapsed": false
   },
   "outputs": [],
   "source": [
    "dataloc = 'C:/Users/Emily/code/emi_shortcut/cache/data'\n",
    "\n",
    "events = vdm.load_events(os.path.join(dataloc, info.event_filename[-26:]), info.event_labels)"
   ]
  },
  {
   "cell_type": "code",
   "execution_count": null,
   "metadata": {
    "collapsed": true
   },
   "outputs": [],
   "source": [
    "def load_shortcut_position(info, filename, events):\n",
    "    \"\"\"Loads and corrects shortcut position.\n",
    "\n",
    "    Parameters\n",
    "    ----------\n",
    "    info: module\n",
    "    filename: str\n",
    "    events: dict\n",
    "\n",
    "    Returns\n",
    "    -------\n",
    "    position: vdm.Position\n",
    "\n",
    "    \"\"\"\n",
    "    nvt_data = vdm.load_nvt(filename)\n",
    "    targets = nvt_data['targets']\n",
    "    times = nvt_data['time']\n",
    "\n",
    "    # Initialize x, y arrays\n",
    "    x = np.zeros(targets.shape)\n",
    "    y = np.zeros(targets.shape)\n",
    "    # time = np.zeros(targets.shape)\n",
    "\n",
    "    # X and Y are stored in a custom bitfield. See Neuralynx data file format documentation for details.\n",
    "    # Briefly, each record contains up to 50 targets, each stored in 32bit field.\n",
    "    # X field at [20:31] and Y at [4:15].\n",
    "    for target in range(targets.shape[1]):\n",
    "        this_sample = targets[:, target]\n",
    "        for sample in range(targets.shape[0]):\n",
    "            # When the bitfield is equal to zero there is no valid data for that field\n",
    "            # and remains zero for the rest of the bitfields in the record.\n",
    "            if this_sample[target] == 0:\n",
    "                break\n",
    "            x[sample, target], y[sample, target] = extract_xy(int(this_sample[sample]))\n",
    "    \n",
    "    x = x / 3.6\n",
    "    y = y / 3.6\n",
    "\n",
    "    # Remove columns with no target data\n",
    "    col_idx = (np.sum(x == 0, axis=0) == x.shape[0]) & (np.sum(y == 0, axis=0) == y.shape[0])\n",
    "    xs = np.array(x[:, ~col_idx])\n",
    "    ys = np.array(y[:, ~col_idx])\n",
    "\n",
    "    # Put the LED events in the same array, sorted by time\n",
    "    leds = []\n",
    "    leds.extend([(event, 'led1') for event in events['led1']])\n",
    "    leds.extend([(event, 'led2') for event in events['led2']])\n",
    "    sorted_leds = sorted(leds)\n",
    "\n",
    "    # Get an array of feeder locations when that feeder is actively flashing\n",
    "    feeder_x_location = np.zeros(xs.shape[0])\n",
    "    feeder_y_location = np.zeros(ys.shape[0])\n",
    "\n",
    "    feeder1_x = info.path_pts['feeder1'][0]\n",
    "    feeder1_y = info.path_pts['feeder1'][1]\n",
    "    feeder2_x = info.path_pts['feeder2'][0]\n",
    "    feeder2_y = info.path_pts['feeder2'][1]\n",
    "\n",
    "    last_label = ''\n",
    "\n",
    "    for time, label in sorted_leds:\n",
    "        if label == last_label:\n",
    "            continue\n",
    "        idx = vdm.find_nearest_idx(times, time)\n",
    "        x_location = feeder1_x if label == 'led1' else feeder2_x\n",
    "        y_location = feeder1_y if label == 'led1' else feeder2_y\n",
    "\n",
    "        feeder_x_location[idx:] = x_location\n",
    "        feeder_y_location[idx:] = y_location\n",
    "\n",
    "        last_label = label\n",
    "\n",
    "    # Initialize xx and yy as the first target\n",
    "    xx = np.array(xs[:, 0])\n",
    "    yy = np.array(ys[:, 0])\n",
    "    \n",
    "    plt.plot(xx, yy, 'k.', ms=1)\n",
    "    plt.plot(feeder1_x, feeder1_y, 'r.', ms=10)\n",
    "    plt.plot(feeder2_x, feeder2_y, 'r.', ms=10)\n",
    "    plt.show()\n",
    "    \n",
    "    # This correction method assumes we are working with two targets\n",
    "    # (eg. subtracts the two targets, averages over two targets, etc.)\n",
    "    if xs.shape[1] == 1 and ys.shape[1] == 1:\n",
    "        position = vdm.Position(np.hstack(np.array([xx, yy])[..., np.newaxis]), times)\n",
    "        dist = position[:-1].distance(position[1:])\n",
    "        print('n_jumps:', np.sum(dist > 30))\n",
    "        return position\n",
    "\n",
    "    # Find indices where only one target was available\n",
    "#     one_target_idx = (xs[:, 1] == 0) | (ys[:, 1] == 0)\n",
    "    one_target_idx = (xs[:, 1:] == 0) | (ys[:, 1:] == 0)\n",
    "    one_target_idx = np.prod(one_target_idx[..., np.newaxis], axis=1, dtype=bool)[:, 0]\n",
    "\n",
    "    # One target is contaminated when the distance between the two targets is large   \n",
    "    target_x_dist = np.var(xs, axis=1)\n",
    "    target_y_dist = np.var(ys, axis=1)\n",
    "    \n",
    "    # Contaminated samples are using the feeder LED instead of the implant LEDs\n",
    "    contamination_thresh = 5\n",
    "    contaminated_idx = (target_x_dist > contamination_thresh) | (target_y_dist > contamination_thresh)\n",
    "\n",
    "    # Non contaminated implant LED samples with targets get averaged\n",
    "    idx = ~contaminated_idx & ~one_target_idx\n",
    "    xx[idx] = np.mean(xs[idx], axis=1)\n",
    "    yy[idx] = np.mean(ys[idx], axis=1)\n",
    "\n",
    "    # For contaminated samples, we use the sample that is furthest from the feeder location\n",
    "    feeder_x_dist = np.abs(xs - feeder_x_location[..., np.newaxis])\n",
    "    feeder_y_dist = np.abs(ys - feeder_y_location[..., np.newaxis])\n",
    "\n",
    "    feeder_dist = feeder_x_dist + feeder_y_dist\n",
    "    furthest_idx = np.argmax(feeder_dist, axis=1)\n",
    "\n",
    "    idx = contaminated_idx & ~one_target_idx\n",
    "    xx[idx] = xs[idx, furthest_idx[idx]]\n",
    "    yy[idx] = ys[idx, furthest_idx[idx]]\n",
    "    \n",
    "    \n",
    "    final_x = np.array(xx)\n",
    "    final_y = np.array(yy)\n",
    "    final_time = np.array(times)\n",
    "\n",
    "    # Find those indices that have all targets contaminated by the feeder LEDs\n",
    "    # by locating unnatural jumps in the position. Not including jumps that are\n",
    "    # due to jumps in time (eg. from stopping the recording). \n",
    "    time_thresh = 1.\n",
    "    jump_thresh = 10\n",
    "    dist_thresh = 10\n",
    "\n",
    "    while True: \n",
    "        jumps = np.append(np.array([0]), np.sqrt(np.diff(final_x)**2 + np.diff(final_y)**2))\n",
    "        remove_idx = jumps > jump_thresh\n",
    "\n",
    "        time_jumps = np.append(np.diff(final_time) > time_thresh, np.array([False], dtype=bool))    \n",
    "        remove_idx[time_jumps] = False\n",
    "\n",
    "        dist_feeder1 = np.sqrt((final_x - feeder1_x)**2 + (final_y - feeder1_y)**2)\n",
    "        dist_feeder2 = np.sqrt((final_x - feeder2_x)**2 + (final_y - feeder2_y)**2)\n",
    "        dist_feeder = np.minimum(dist_feeder1, dist_feeder2)\n",
    "        dist_jumps = dist_feeder > dist_thresh\n",
    "        remove_idx[dist_jumps] = False\n",
    "\n",
    "        if np.sum(remove_idx) > 0:\n",
    "            final_x = final_x[~remove_idx]\n",
    "            final_y = final_y[~remove_idx]\n",
    "            final_time = final_time[~remove_idx] \n",
    "\n",
    "        else:\n",
    "            break\n",
    "\n",
    "    # Applying a median filter to the x and y positions\n",
    "    kernel = 3\n",
    "    xx = signal.medfilt(final_x, kernel_size=kernel)\n",
    "    yy = signal.medfilt(final_y, kernel_size=kernel)\n",
    "\n",
    "    # Construct a vdm.Position object\n",
    "    position = vdm.Position(np.hstack(np.array([xx, yy])[..., np.newaxis]), final_time)\n",
    "    \n",
    "    dist = position[:-1].distance(position[1:])\n",
    "    print('n_jumps:', np.sum(dist > 30))\n",
    "\n",
    "    return position"
   ]
  },
  {
   "cell_type": "code",
   "execution_count": null,
   "metadata": {
    "collapsed": false
   },
   "outputs": [],
   "source": [
    "position = load_shortcut_position(info, os.path.join(dataloc, info.position_filename[-23:]), events)"
   ]
  },
  {
   "cell_type": "code",
   "execution_count": null,
   "metadata": {
    "collapsed": false
   },
   "outputs": [],
   "source": [
    "dist = np.append(np.array([0]), position[:-1].distance(position[1:]))\n",
    "idx = dist > 10\n",
    "plt.plot(position.x, position.y, 'b.', ms=2)\n",
    "plt.plot(position.x[idx], position.y[idx], 'r.', ms=2)\n",
    "plt.show()"
   ]
  },
  {
   "cell_type": "code",
   "execution_count": null,
   "metadata": {
    "collapsed": false
   },
   "outputs": [],
   "source": [
    "plt.plot(position.x, position.y, 'b.', ms=2)\n",
    "plt.show()"
   ]
  },
  {
   "cell_type": "code",
   "execution_count": null,
   "metadata": {
    "collapsed": true
   },
   "outputs": [],
   "source": []
  },
  {
   "cell_type": "code",
   "execution_count": null,
   "metadata": {
    "collapsed": true
   },
   "outputs": [],
   "source": []
  },
  {
   "cell_type": "code",
   "execution_count": null,
   "metadata": {
    "collapsed": false
   },
   "outputs": [],
   "source": [
    "def plot_2d(position_x, position_y):\n",
    "    binsize = 1\n",
    "    xedges = np.arange(position_x.min(), position_x.max() + binsize, binsize)\n",
    "    yedges = np.arange(position_y.min(), position_y.max() + binsize, binsize)\n",
    "    xx, yy = np.meshgrid(xedges, yedges)\n",
    "\n",
    "    position_2d, pos_xedges, pos_yedges = np.histogram2d(position_y, position_x, bins=[yedges, xedges])\n",
    "\n",
    "    pp = plt.pcolormesh(xx, yy, position_2d, cmap='YlGn')\n",
    "    plt.colorbar(pp)\n",
    "    plt.show()"
   ]
  },
  {
   "cell_type": "code",
   "execution_count": null,
   "metadata": {
    "collapsed": false
   },
   "outputs": [],
   "source": [
    "plot_2d(position.x, position.y)"
   ]
  },
  {
   "cell_type": "code",
   "execution_count": null,
   "metadata": {
    "collapsed": true
   },
   "outputs": [],
   "source": []
  }
 ],
 "metadata": {
  "anaconda-cloud": {},
  "kernelspec": {
   "display_name": "Python [conda env:py3]",
   "language": "python",
   "name": "conda-env-py3-py"
  },
  "language_info": {
   "codemirror_mode": {
    "name": "ipython",
    "version": 3
   },
   "file_extension": ".py",
   "mimetype": "text/x-python",
   "name": "python",
   "nbconvert_exporter": "python",
   "pygments_lexer": "ipython3",
   "version": "3.5.2"
  }
 },
 "nbformat": 4,
 "nbformat_minor": 1
}
