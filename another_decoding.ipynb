{
 "cells": [
  {
   "cell_type": "code",
   "execution_count": null,
   "metadata": {
    "ExecuteTime": {
     "end_time": "2018-08-03T12:39:57.959444Z",
     "start_time": "2018-08-03T12:39:52.108516Z"
    },
    "collapsed": true
   },
   "outputs": [],
   "source": [
    "%matplotlib inline\n",
    "import matplotlib.pyplot as plt\n",
    "from matplotlib import gridspec\n",
    "import matplotlib\n",
    "import numpy as np\n",
    "import itertools\n",
    "import scipy\n",
    "import pandas as pd\n",
    "import pickle\n",
    "import seaborn as sns\n",
    "from scipy import stats\n",
    "import os\n",
    "import nept\n",
    "\n",
    "from matplotlib import animation, rc\n",
    "from IPython.display import HTML\n",
    "\n",
    "from loading_data import get_data\n",
    "from analyze_tuning_curves import get_only_tuning_curves\n",
    "from analyze_decode_bytrial import decode_trial\n",
    "from analyze_decode import get_decoded_zones\n",
    "from utils_maze import find_zones, get_trials, get_zones, get_trial_idx"
   ]
  },
  {
   "cell_type": "code",
   "execution_count": null,
   "metadata": {
    "ExecuteTime": {
     "end_time": "2018-08-03T12:39:57.964570Z",
     "start_time": "2018-08-03T12:39:57.959444Z"
    },
    "collapsed": true
   },
   "outputs": [],
   "source": [
    "thisdir = os.getcwd()\n",
    "pickle_filepath = os.path.join(thisdir, \"cache\", \"pickled\")\n",
    "output_filepath = os.path.join(thisdir, \"plots\", \"check_decode\")\n",
    "if not os.path.exists(output_filepath):\n",
    "    os.makedirs(output_filepath)"
   ]
  },
  {
   "cell_type": "code",
   "execution_count": null,
   "metadata": {
    "ExecuteTime": {
     "end_time": "2018-08-03T16:19:37.490063Z",
     "start_time": "2018-08-03T16:19:37.486085Z"
    },
    "collapsed": true
   },
   "outputs": [],
   "source": [
    "import info.r066d2 as r066d2\n",
    "import info.r063d6 as r063d6\n",
    "infos = [r066d2, r063d6]\n",
    "\n",
    "from run import spike_sorted_infos\n",
    "# infos = spike_sorted_infos"
   ]
  },
  {
   "cell_type": "code",
   "execution_count": null,
   "metadata": {
    "ExecuteTime": {
     "end_time": "2018-08-03T15:58:56.323962Z",
     "start_time": "2018-08-03T15:58:56.317984Z"
    },
    "collapsed": true
   },
   "outputs": [],
   "source": [
    "def plot_tuning_curves(info, tuning_curves):\n",
    "    xx, yy = np.meshgrid(info.xedges, info.yedges)\n",
    "    multiple_tuning_curves = np.zeros(tuning_curves[0].shape)\n",
    "    cmap = plt.cm.get_cmap('bone_r', 25)\n",
    "    plt.figure()\n",
    "\n",
    "    for tuning_curve in tuning_curves:\n",
    "        multiple_tuning_curves += tuning_curve\n",
    "\n",
    "    pp = plt.pcolormesh(xx, yy, multiple_tuning_curves, cmap=cmap)\n",
    "    plt.colorbar(pp)\n",
    "    plt.axis('off')\n",
    "    plt.tight_layout()\n",
    "    title = info.session_id + '-tuning_curve-all'\n",
    "    plt.title(title)\n",
    "    plt.tight_layout()\n",
    "    plt.show()"
   ]
  },
  {
   "cell_type": "code",
   "execution_count": null,
   "metadata": {
    "ExecuteTime": {
     "end_time": "2018-08-03T15:58:56.939892Z",
     "start_time": "2018-08-03T15:58:56.933895Z"
    },
    "collapsed": true
   },
   "outputs": [],
   "source": [
    "def plot_counts(counts):\n",
    "    fig = plt.figure(figsize=(6, 7))\n",
    "    ax = plt.subplot(111)\n",
    "    pp = plt.pcolormesh(counts.data.T, cmap='bone_r')\n",
    "    plt.colorbar(pp)\n",
    "    ax.set_xticks([])\n",
    "    ax.spines['top'].set_visible(False)\n",
    "    ax.spines['right'].set_visible(False)\n",
    "    ax.spines['bottom'].set_visible(False)\n",
    "    ax.get_yaxis().tick_left()\n",
    "    plt.show()"
   ]
  },
  {
   "cell_type": "code",
   "execution_count": null,
   "metadata": {
    "collapsed": true
   },
   "outputs": [],
   "source": []
  },
  {
   "cell_type": "code",
   "execution_count": null,
   "metadata": {
    "collapsed": true
   },
   "outputs": [],
   "source": []
  },
  {
   "cell_type": "code",
   "execution_count": null,
   "metadata": {
    "collapsed": true
   },
   "outputs": [],
   "source": []
  },
  {
   "cell_type": "code",
   "execution_count": null,
   "metadata": {
    "ExecuteTime": {
     "end_time": "2018-08-03T15:58:58.473440Z",
     "start_time": "2018-08-03T15:58:58.470442Z"
    },
    "collapsed": true
   },
   "outputs": [],
   "source": [
    "shuffled_id = False"
   ]
  },
  {
   "cell_type": "code",
   "execution_count": null,
   "metadata": {
    "ExecuteTime": {
     "end_time": "2018-08-03T15:43:28.600539Z",
     "start_time": "2018-08-03T15:43:23.597395Z"
    },
    "collapsed": true
   },
   "outputs": [],
   "source": []
  },
  {
   "cell_type": "code",
   "execution_count": null,
   "metadata": {
    "ExecuteTime": {
     "end_time": "2018-08-03T16:47:40.099007Z",
     "start_time": "2018-08-03T16:45:25.173552Z"
    },
    "collapsed": true,
    "scrolled": true
   },
   "outputs": [],
   "source": [
    "all_errors = []\n",
    "all_proportions = []\n",
    "\n",
    "session_ids = []\n",
    "\n",
    "for info in infos:\n",
    "    print(info.session_id)\n",
    "    session_ids.append(info.session_id)\n",
    "    \n",
    "    events, position, spikes, _, _ = get_data(info)\n",
    "\n",
    "    phase = info.task_times[\"phase3\"]\n",
    "    trials = get_trials(events, phase)\n",
    "\n",
    "    true_position_session = []\n",
    "    session_errors = []\n",
    "    session_proportions = []\n",
    "\n",
    "    for trial in trials:\n",
    "        epoch_of_interest = phase.excludes(trial)\n",
    "\n",
    "        tuning_curves = get_only_tuning_curves(position, \n",
    "                                               spikes, \n",
    "                                               info.xedges, \n",
    "                                               info.yedges, \n",
    "                                               epoch_of_interest)\n",
    "\n",
    "        if shuffled_id:\n",
    "            tuning_curves = np.random.permutation(tuning_curves)\n",
    "\n",
    "    #     plot_tuning_curves(info, tuning_curves)\n",
    "\n",
    "        sliced_position = position.time_slice(trial.start, trial.stop)\n",
    "    #     print(\"n_times in trial:\", sliced_position.n_samples)\n",
    "\n",
    "        sliced_spikes = [spiketrain.time_slice(trial.start, \n",
    "                                               trial.stop) for spiketrain in spikes]\n",
    "\n",
    "\n",
    "        # limit position and spikes to only times when the subject is running\n",
    "        run_epoch = nept.run_threshold(sliced_position, thresh=8., t_smooth=0.8)\n",
    "        sliced_position = sliced_position[run_epoch]\n",
    "    #     print(\"n_times running:\", sliced_position.n_samples)\n",
    "    #     plt.plot(sliced_position.x, sliced_position.y, \"k.\")\n",
    "    #     plt.show()\n",
    "\n",
    "        n_spikes = 0\n",
    "        for spiketrain in sliced_spikes:\n",
    "            n_spikes += spiketrain.n_spikes\n",
    "    #     print(\"n_spikes in trial:\", n_spikes)\n",
    "\n",
    "        sliced_spikes = [spiketrain.time_slice(run_epoch.start, \n",
    "                                               run_epoch.stop) for spiketrain in sliced_spikes]\n",
    "\n",
    "        n_spikes = 0\n",
    "        for spiketrain in sliced_spikes:\n",
    "            n_spikes += spiketrain.n_spikes\n",
    "    #     print(\"n_spikes running:\", n_spikes)\n",
    "\n",
    "    #     epochs_interest = nept.Epoch(np.array([sliced_position.time[0], sliced_position.time[-1]]))\n",
    "\n",
    "        counts = nept.bin_spikes(sliced_spikes, sliced_position.time, dt=0.025, window=0.025,\n",
    "                                 gaussian_std=0.0075, normalized=False)\n",
    "\n",
    "    #     plot_counts(counts)\n",
    "\n",
    "        min_neurons = 3\n",
    "\n",
    "        tc_shape = tuning_curves.shape\n",
    "        decoding_tc = tuning_curves.reshape(tc_shape[0], tc_shape[1] * tc_shape[2])\n",
    "\n",
    "        likelihood = nept.bayesian_prob(counts, decoding_tc, binsize=0.025, min_neurons=min_neurons)\n",
    "    #     print(\"bins with prob:\", likelihood.size - np.sum(np.isnan(likelihood)))\n",
    "\n",
    "        # Find decoded location based on max likelihood for each valid timestep\n",
    "        xcenters = (info.xedges[1:] + info.xedges[:-1]) / 2.\n",
    "        ycenters = (info.yedges[1:] + info.yedges[:-1]) / 2.\n",
    "        xy_centers = nept.cartesian(xcenters, ycenters)\n",
    "\n",
    "        decoded = nept.decode_location(likelihood, xy_centers, counts.time)\n",
    "\n",
    "    #     print(\"n_decoded:\", decoded.n_samples)\n",
    "        session_proportions.append(decoded.n_samples/len(counts.time))\n",
    "    #     print(\"Proportion decoded: %.2f\" % (decoded.n_samples/len(counts.time)))\n",
    "\n",
    "    #     session_decoded.append(decoded)\n",
    "\n",
    "        # Remove nans from likelihood and reshape for plotting\n",
    "        keep_idx = np.sum(np.isnan(likelihood), axis=1) < likelihood.shape[1]\n",
    "        likelihood = likelihood[keep_idx]\n",
    "        likelihood = likelihood.reshape(np.shape(likelihood)[0], tc_shape[1], tc_shape[2])\n",
    "\n",
    "    #     session_likelihoods.append(likelihood)\n",
    "\n",
    "    #     n_active_neurons = np.asarray([n_active if n_active >= min_neurons else 0 \n",
    "    #                                    for n_active in np.sum(counts.data >= 1, axis=1)])\n",
    "    #     n_active_neurons = n_active_neurons[keep_idx]\n",
    "    #     session_n_active.append(n_active_neurons)\n",
    "\n",
    "        f_xy = scipy.interpolate.interp1d(sliced_position.time, sliced_position.data.T, kind=\"nearest\")\n",
    "        counts_xy = f_xy(decoded.time)\n",
    "        true_position = nept.Position(np.hstack((counts_xy[0][..., np.newaxis],\n",
    "                                                 counts_xy[1][..., np.newaxis])),\n",
    "                                      decoded.time)\n",
    "\n",
    "        true_position_session.append(true_position)\n",
    "\n",
    "        trial_errors = true_position.distance(decoded)\n",
    "        session_errors.extend(trial_errors)\n",
    "    #     print(\"mean error: %.fcm\" % np.mean(trial_errors))\n",
    "\n",
    "#     print(\"Proportion decoded: %.2f\" % np.mean(session_proportions))\n",
    "#     print(\"mean error: %.fcm\" % np.mean(session_errors))\n",
    "\n",
    "    all_errors.append(session_errors)\n",
    "    all_proportions.append(session_proportions)\n",
    "    #     for error, x, y in zip(trial_errors, true_position.x, true_position.y):\n",
    "    #         x_idx = nept.find_nearest_idx(xcenters, x)\n",
    "    #         y_idx = nept.find_nearest_idx(ycenters, y)\n",
    "    #         error_byactual_position[y_idx][x_idx] += error\n",
    "    #         n_byactual_position[y_idx][x_idx] += 1\n",
    "\n",
    "    #     session_errors.append(trial_errors)"
   ]
  },
  {
   "cell_type": "code",
   "execution_count": null,
   "metadata": {
    "collapsed": true
   },
   "outputs": [],
   "source": []
  },
  {
   "cell_type": "code",
   "execution_count": null,
   "metadata": {
    "collapsed": true
   },
   "outputs": [],
   "source": []
  },
  {
   "cell_type": "code",
   "execution_count": null,
   "metadata": {
    "ExecuteTime": {
     "end_time": "2018-08-03T16:14:48.444765Z",
     "start_time": "2018-08-03T16:14:48.231560Z"
    },
    "collapsed": true
   },
   "outputs": [],
   "source": [
    "# Proportion decoded\n",
    "y_pos = np.arange(len(session_ids))\n",
    "plt.bar(y_pos, np.mean(all_proportions, axis=1), align='center', alpha=0.7)\n",
    "plt.xticks(y_pos, session_ids, rotation=90, fontsize=10)\n",
    "plt.ylabel('Proportion')\n",
    "plt.title(\"Samples decoded with %d cm bins\" % 12)\n",
    "plt.tight_layout()\n",
    "plt.show()\n",
    "# plt.savefig(os.path.join(output_filepath, \"proportion-decoded.png\"))\n",
    "# plt.close()"
   ]
  },
  {
   "cell_type": "code",
   "execution_count": null,
   "metadata": {
    "ExecuteTime": {
     "end_time": "2018-08-03T16:47:40.108002Z",
     "start_time": "2018-08-03T16:47:40.101005Z"
    },
    "collapsed": true
   },
   "outputs": [],
   "source": [
    "def plot_over_space(info, values, positions, title, filepath=None):\n",
    "    xcenters = info.xedges[:-1] + (info.xedges[1:] - info.xedges[:-1]) / 2.\n",
    "    ycenters = info.yedges[:-1] + (info.yedges[1:] - info.yedges[:-1]) / 2.\n",
    "\n",
    "    count_position = np.zeros((len(info.yedges), len(info.xedges)))\n",
    "    n_position = np.ones((len(info.yedges), len(info.xedges)))\n",
    "\n",
    "    for trial_values, trial_positions in zip(values, positions):\n",
    "        for these_values, x, y in zip(trial_values, trial_positions.x, trial_positions.y):\n",
    "            x_idx = nept.find_nearest_idx(xcenters, x)\n",
    "            y_idx = nept.find_nearest_idx(ycenters, y)\n",
    "            if np.isscalar(these_values):\n",
    "                count_position[y_idx][x_idx] += these_values\n",
    "            else:\n",
    "                count_position[y_idx][x_idx] += these_values[y_idx][x_idx]\n",
    "            n_position[y_idx][x_idx] += 1\n",
    "    over_space = count_position / n_position\n",
    "    \n",
    "    xx, yy = np.meshgrid(info.xedges, info.yedges)\n",
    "    pp = plt.pcolormesh(xx, yy, over_space, vmin=0., cmap='bone_r')\n",
    "    plt.colorbar(pp)\n",
    "    plt.title(title)\n",
    "    plt.axis('off')\n",
    "    if filepath is not None:\n",
    "        plt.savefig(filepath)\n",
    "        plt.close()\n",
    "    else:\n",
    "        plt.show()\n",
    "\n",
    "    return over_space"
   ]
  },
  {
   "cell_type": "code",
   "execution_count": null,
   "metadata": {
    "ExecuteTime": {
     "end_time": "2018-08-03T16:47:40.224935Z",
     "start_time": "2018-08-03T16:47:40.109001Z"
    },
    "collapsed": true
   },
   "outputs": [],
   "source": [
    "title = info.session_id+\" posterior\"\n",
    "tt = plot_over_space(info, likelihood[0], true_position, title)"
   ]
  },
  {
   "cell_type": "code",
   "execution_count": null,
   "metadata": {
    "ExecuteTime": {
     "end_time": "2018-08-03T16:43:43.105943Z",
     "start_time": "2018-08-03T16:43:43.093968Z"
    },
    "collapsed": true
   },
   "outputs": [],
   "source": [
    "title = info.session_id+\" errors\"\n",
    "vv = plot_over_space(info, session_errors[0], true_position, title)"
   ]
  },
  {
   "cell_type": "code",
   "execution_count": null,
   "metadata": {
    "collapsed": true
   },
   "outputs": [],
   "source": []
  },
  {
   "cell_type": "code",
   "execution_count": null,
   "metadata": {
    "ExecuteTime": {
     "end_time": "2018-08-03T16:42:21.036241Z",
     "start_time": "2018-08-03T16:42:21.029245Z"
    },
    "collapsed": true
   },
   "outputs": [],
   "source": [
    "np.shape(session_errors)"
   ]
  },
  {
   "cell_type": "code",
   "execution_count": null,
   "metadata": {
    "ExecuteTime": {
     "end_time": "2018-08-03T16:43:48.464282Z",
     "start_time": "2018-08-03T16:43:48.460283Z"
    },
    "collapsed": true
   },
   "outputs": [],
   "source": [
    "np.shape(true_position.x)"
   ]
  },
  {
   "cell_type": "code",
   "execution_count": null,
   "metadata": {
    "ExecuteTime": {
     "end_time": "2018-08-03T16:47:40.231931Z",
     "start_time": "2018-08-03T16:47:40.225933Z"
    },
    "collapsed": true
   },
   "outputs": [],
   "source": [
    "true_position_session"
   ]
  },
  {
   "cell_type": "code",
   "execution_count": null,
   "metadata": {
    "collapsed": true
   },
   "outputs": [],
   "source": []
  }
 ],
 "metadata": {
  "kernelspec": {
   "display_name": "Python 3",
   "language": "python",
   "name": "python3"
  },
  "language_info": {
   "codemirror_mode": {
    "name": "ipython",
    "version": 3
   },
   "file_extension": ".py",
   "mimetype": "text/x-python",
   "name": "python",
   "nbconvert_exporter": "python",
   "pygments_lexer": "ipython3",
   "version": "3.6.5"
  },
  "toc": {
   "colors": {
    "hover_highlight": "#DAA520",
    "running_highlight": "#FF0000",
    "selected_highlight": "#FFD700"
   },
   "moveMenuLeft": true,
   "nav_menu": {
    "height": "12px",
    "width": "252px"
   },
   "navigate_menu": true,
   "number_sections": true,
   "sideBar": true,
   "threshold": 4,
   "toc_cell": false,
   "toc_section_display": "block",
   "toc_window_display": false
  }
 },
 "nbformat": 4,
 "nbformat_minor": 2
}
