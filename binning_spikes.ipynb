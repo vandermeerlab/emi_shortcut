{
 "cells": [
  {
   "cell_type": "code",
   "execution_count": null,
   "metadata": {
    "collapsed": false
   },
   "outputs": [],
   "source": [
    "%matplotlib inline\n",
    "import matplotlib.pyplot as plt\n",
    "import numpy as np\n",
    "from scipy import signal\n",
    "import warnings\n",
    "import nept"
   ]
  },
  {
   "cell_type": "code",
   "execution_count": null,
   "metadata": {
    "collapsed": true
   },
   "outputs": [],
   "source": [
    "def get_counts(spikes, edges, gaussian_std=None, n_gaussian_std=5):\n",
    "    dt = np.median(np.diff(edges))\n",
    "\n",
    "    if gaussian_std is not None:\n",
    "        n_points = n_gaussian_std * gaussian_std * 2 / dt\n",
    "        n_points = max(n_points, 1.0)\n",
    "        if n_points % 2 == 0:\n",
    "            n_points += 1\n",
    "        if n_points > len(edges):\n",
    "            raise ValueError(\"gaussian_std is too large for these times\")\n",
    "        gaussian_filter = signal.gaussian(n_points, gaussian_std/dt)\n",
    "        gaussian_filter /= np.sum(gaussian_filter)\n",
    "\n",
    "    counts = np.zeros((len(spikes), len(edges)-1))\n",
    "    for idx, spiketrain in enumerate(spikes):\n",
    "        counts[idx] = np.histogram(spiketrain.time, bins=edges)[0]\n",
    "        if gaussian_std is not None and gaussian_std > dt:\n",
    "            counts[idx] = np.convolve(counts[idx], gaussian_filter, mode='same')\n",
    "\n",
    "    return nept.AnalogSignal(counts.T, edges[:-1])"
   ]
  },
  {
   "cell_type": "code",
   "execution_count": null,
   "metadata": {
    "collapsed": false
   },
   "outputs": [],
   "source": [
    "spikes = [nept.SpikeTrain([1., 1., 1., 5., 5., 7.])]\n",
    "\n",
    "edges = [0, 2.5, 4, 5, 6, 10]\n",
    "counts = get_counts(spikes, edges)"
   ]
  },
  {
   "cell_type": "code",
   "execution_count": null,
   "metadata": {
    "collapsed": false
   },
   "outputs": [],
   "source": [
    "counts.data, counts.time"
   ]
  },
  {
   "cell_type": "code",
   "execution_count": null,
   "metadata": {
    "collapsed": true
   },
   "outputs": [],
   "source": []
  },
  {
   "cell_type": "code",
   "execution_count": null,
   "metadata": {
    "collapsed": true
   },
   "outputs": [],
   "source": [
    "position = nept.Position(np.array([1., 6.]), np.array([0., 4.1]))"
   ]
  },
  {
   "cell_type": "code",
   "execution_count": null,
   "metadata": {
    "collapsed": true
   },
   "outputs": [],
   "source": [
    "edges = nept.get_edges(position, binsize=0.5, lastbin=True)"
   ]
  },
  {
   "cell_type": "code",
   "execution_count": null,
   "metadata": {
    "collapsed": false
   },
   "outputs": [],
   "source": [
    "edges"
   ]
  },
  {
   "cell_type": "code",
   "execution_count": null,
   "metadata": {
    "collapsed": true
   },
   "outputs": [],
   "source": [
    "np.array([0., 0.5, 1., 1.5, 2., 2.5, 3., 3.5, 4., 4.1])"
   ]
  },
  {
   "cell_type": "code",
   "execution_count": null,
   "metadata": {
    "collapsed": true
   },
   "outputs": [],
   "source": [
    "spikes = [nept.SpikeTrain([0.8, 1.1, 1.2, 1.2, 2.1, 3.1]),\n",
    "          nept.SpikeTrain([0.8, 1.1, 1.2, 1.2, 2.1, 3.1])]\n",
    "position = nept.Position(np.array([1., 6.]), np.array([0., 4.]))"
   ]
  },
  {
   "cell_type": "code",
   "execution_count": null,
   "metadata": {
    "collapsed": false
   },
   "outputs": [],
   "source": [
    "window = 2.2 \n",
    "dt = 0.5\n",
    "\n",
    "n_bins = window / dt\n",
    "rounded_n_bins = round(n_bins)\n",
    "if abs(n_bins - rounded_n_bins) > 0.01:\n",
    "    warnings.warn(\"window advance does not divide the window size evenly. \"\n",
    "                  \"Using window size \" + str(rounded_n_bins*dt) + \" instead.\")"
   ]
  },
  {
   "cell_type": "code",
   "execution_count": null,
   "metadata": {
    "collapsed": true
   },
   "outputs": [],
   "source": [
    "def bin_spikes(spikes, position, window_size, window_advance, gaussian_std=None, n_gaussian_std=5, normalized=True):\n",
    "    \"\"\"Bins spikes using a sliding window.\n",
    "    \n",
    "    Parameters\n",
    "    ----------    \n",
    "    spikes: list\n",
    "        Of nept.SpikeTrain\n",
    "    position: nept.Position\n",
    "    window: float\n",
    "    window_advance: float\n",
    "    gaussian_std: float\n",
    "    n_gaussian_std: int\n",
    "    normalized: boolean\n",
    "    \n",
    "    Returns\n",
    "    -------\n",
    "    binned_spikes: nept.AnalogSignal\n",
    "    \n",
    "    \"\"\"\n",
    "    bin_edges = np.arange(position.time[0], position.time[-1], window_advance)\n",
    "    \n",
    "    given_n_bins = window_size / window_advance\n",
    "    n_bins = round(given_n_bins)\n",
    "    if abs(n_bins - given_n_bins) > 0.01:\n",
    "        warnings.warn(\"window advance does not divide the window size evenly. \"\n",
    "                      \"Using window size \" + str(n_bins*window_advance) + \" instead.\")\n",
    "    if normalized:\n",
    "        square_filter = np.ones(n_bins) * (1 / n_bins)\n",
    "    else:\n",
    "        square_filter = np.ones(n_bins)\n",
    "    \n",
    "    if gaussian_std is not None:\n",
    "        n_points = n_gaussian_std * gaussian_std * 2 / window_advance\n",
    "        n_points = max(n_points, 1.0)\n",
    "        if n_points % 2 == 0:\n",
    "            n_points += 1\n",
    "        gaussian_filter = signal.gaussian(n_points, gaussian_std / window_advance)\n",
    "        gaussian_filter /= np.sum(gaussian_filter)\n",
    "        \n",
    "        smoothed_spikes = []\n",
    "        for spiketrain in spikes:\n",
    "            smoothed_spikes.append(nept.SpikeTrain(np.convolve(spiketrain.time, \n",
    "                                                               gaussian_filter, \n",
    "                                                               mode='same'), \n",
    "                                                   spiketrain.label))\n",
    "    else:\n",
    "        smoothed_spikes = spikes\n",
    "    \n",
    "    counts = np.zeros((len(smoothed_spikes), len(bin_edges)-1))\n",
    "    for idx, spiketrain in enumerate(smoothed_spikes):\n",
    "        counts[idx] = np.convolve(np.histogram(spiketrain.time, bins=bin_edges)[0], \n",
    "                                  square_filter, \n",
    "                                  mode='same')\n",
    "    \n",
    "    return nept.AnalogSignal(counts.T, bin_edges[:-1])"
   ]
  },
  {
   "cell_type": "code",
   "execution_count": null,
   "metadata": {
    "collapsed": false
   },
   "outputs": [],
   "source": [
    "t = bin_spikes(spikes, position, window_size=2, window_advance=0.5, gaussian_std=None)"
   ]
  },
  {
   "cell_type": "code",
   "execution_count": null,
   "metadata": {
    "collapsed": false
   },
   "outputs": [],
   "source": [
    "t.data"
   ]
  },
  {
   "cell_type": "code",
   "execution_count": null,
   "metadata": {
    "collapsed": false
   },
   "outputs": [],
   "source": [
    "np.array([[0.25, 0.25], [1., 1.], [1., 1.], [1.25, 1.25], [1., 1.], [0.5, 0.5], [0.5 , 0.5]])"
   ]
  },
  {
   "cell_type": "code",
   "execution_count": null,
   "metadata": {
    "collapsed": false
   },
   "outputs": [],
   "source": [
    "t = bin_spikes(spikes, position, window_size=2, window_advance=0.5, gaussian_std=1, normalized=True)"
   ]
  },
  {
   "cell_type": "code",
   "execution_count": null,
   "metadata": {
    "collapsed": false
   },
   "outputs": [],
   "source": [
    "t.data"
   ]
  },
  {
   "cell_type": "code",
   "execution_count": null,
   "metadata": {
    "collapsed": false
   },
   "outputs": [],
   "source": [
    "np.array([[4.25], [5.25], [5.25], [2.], [1.], [0.], [0.]])"
   ]
  },
  {
   "cell_type": "code",
   "execution_count": null,
   "metadata": {
    "collapsed": true
   },
   "outputs": [],
   "source": []
  },
  {
   "cell_type": "code",
   "execution_count": null,
   "metadata": {
    "collapsed": true
   },
   "outputs": [],
   "source": []
  }
 ],
 "metadata": {
  "anaconda-cloud": {},
  "kernelspec": {
   "display_name": "Python [default]",
   "language": "python",
   "name": "python3"
  },
  "language_info": {
   "codemirror_mode": {
    "name": "ipython",
    "version": 3
   },
   "file_extension": ".py",
   "mimetype": "text/x-python",
   "name": "python",
   "nbconvert_exporter": "python",
   "pygments_lexer": "ipython3",
   "version": "3.5.2"
  }
 },
 "nbformat": 4,
 "nbformat_minor": 0
}
