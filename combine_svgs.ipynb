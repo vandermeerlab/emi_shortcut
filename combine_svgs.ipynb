{
 "cells": [
  {
   "cell_type": "code",
   "execution_count": null,
   "metadata": {},
   "outputs": [],
   "source": [
    "from analyze_combined import svgfig, el, savefig, svg_to_pdf"
   ]
  },
  {
   "cell_type": "code",
   "execution_count": null,
   "metadata": {},
   "outputs": [],
   "source": [
    "def fig_decoding():\n",
    "    padding = 50\n",
    "    full_width = 1800 + padding\n",
    "    full_height = 950 + padding\n",
    "\n",
    "    example_error = paths.plot_file(\n",
    "        \"R068d5\", \"decoding\", \"R068d5-full_shortcut-12-n_active.svg\"\n",
    "    )\n",
    "    decoding_error = paths.plot_file(\"decoding\", \"combined_std_error.svg\")\n",
    "    error_byposition = paths.plot_file(\"decoding\", \"full_standard_error_by_std_position.svg\")\n",
    "    decoded_byposition = paths.plot_file(\"decoding\", \"full_standard_decoded_swr_by_std_counts_phase3.svg\")\n",
    "    likelihood_byposition = paths.plot_file(\"decoding\", \"full_standard_likelihood_swr_by_std_counts_phase3.svg\")\n",
    "    decoded_proportions = None\n",
    "\n",
    "    fig = svgfig(full_width, full_height)\n",
    "    fig.append(\n",
    "        el(\n",
    "            \"A\",\n",
    "            decoding_error,\n",
    "            20 + padding / 2,\n",
    "            20 + padding / 2,\n",
    "            offset=(-padding / 3, 0),\n",
    "        )\n",
    "    )\n",
    "    fig.append(\n",
    "        el(\n",
    "            \"B\",\n",
    "            example_error,\n",
    "            500 + padding / 2,\n",
    "            40 + padding / 2,\n",
    "            offset=(-padding / 3, 0),\n",
    "        )\n",
    "    )\n",
    "    fig.append(\n",
    "        el(\n",
    "            \"C\",\n",
    "            error_byposition,\n",
    "            950 + padding / 2,\n",
    "            10 + padding / 2,\n",
    "            offset=(-padding / 3, 0),\n",
    "        )\n",
    "    )\n",
    "    fig.append(\n",
    "        el(\n",
    "            \"D\",\n",
    "            decoded_byposition,\n",
    "            20 + padding / 2,\n",
    "            500 + padding / 2,\n",
    "            offset=(-padding / 3, 0),\n",
    "        )\n",
    "    )\n",
    "    fig.append(\n",
    "        el(\n",
    "            \"E\",\n",
    "            likelihood_byposition,\n",
    "            920 + padding / 2,\n",
    "            500 + padding / 2,\n",
    "            offset=(-padding / 3, 0),\n",
    "        )\n",
    "    )\n",
    "    \n",
    "    savefig(fig, paths.plot_file(\"temp\", \"decoding.svg\", mkdir=True))\n",
    "\n",
    "\n",
    "def task_combined_decoding():\n",
    "    \"\"\"Combined decoding plots\"\"\"\n",
    "    return {\n",
    "        \"actions\": [\n",
    "            (fig_decoding,),\n",
    "            svg_to_pdf(\n",
    "                paths.plot_file(\"temp\", \"decoding.svg\"),\n",
    "                paths.plot_file(\"temp\", \"decoding.pdf\"),\n",
    "            ),\n",
    "        ],\n",
    "        \"file_dep\": [\n",
    "            paths.plot_file(\n",
    "                \"R068d5\", \"decoding\", \"R068d5-full_shortcut-12-n_active.svg\"\n",
    "            ),\n",
    "            paths.plot_file(\"decoding\", \"combined_std_error.svg\"),\n",
    "            paths.plot_file(\"decoding\", \"full_standard_error_by_std_position.svg\"),\n",
    "            paths.plot_file(\"decoding\", \"full_standard_decoded_swr_by_std_counts_phase3.svg\"),\n",
    "            paths.plot_file(\"decoding\", \"full_standard_likelihood_swr_by_std_counts_phase3.svg\"),\n",
    "        ],\n",
    "        \"targets\": [\n",
    "            paths.plot_file(\"temp\", \"decoding.svg\"),\n",
    "            paths.plot_file(\"temp\", \"decoding.pdf\"),\n",
    "        ],\n",
    "    }"
   ]
  },
  {
   "cell_type": "code",
   "execution_count": null,
   "metadata": {},
   "outputs": [],
   "source": [
    "fig_decoding()\n",
    "svg_to_pdf(paths.plot_file(\"temp\", \"decoding.svg\"), paths.plot_file(\"temp\", \"decoding.pdf\"))"
   ]
  },
  {
   "cell_type": "code",
   "execution_count": null,
   "metadata": {},
   "outputs": [],
   "source": []
  }
 ],
 "metadata": {
  "kernelspec": {
   "display_name": "Python 3",
   "language": "python",
   "name": "python3"
  },
  "language_info": {
   "codemirror_mode": {
    "name": "ipython",
    "version": 3
   },
   "file_extension": ".py",
   "mimetype": "text/x-python",
   "name": "python",
   "nbconvert_exporter": "python",
   "pygments_lexer": "ipython3",
   "version": "3.8.3"
  },
  "toc": {
   "colors": {
    "hover_highlight": "#DAA520",
    "running_highlight": "#FF0000",
    "selected_highlight": "#FFD700"
   },
   "moveMenuLeft": true,
   "nav_menu": {
    "height": "12px",
    "width": "252px"
   },
   "navigate_menu": true,
   "number_sections": true,
   "sideBar": true,
   "threshold": 4,
   "toc_cell": false,
   "toc_section_display": "block",
   "toc_window_display": false
  }
 },
 "nbformat": 4,
 "nbformat_minor": 4
}
