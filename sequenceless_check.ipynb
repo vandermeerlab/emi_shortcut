{
 "cells": [
  {
   "cell_type": "code",
   "execution_count": null,
   "metadata": {
    "collapsed": true
   },
   "outputs": [],
   "source": [
    "# %matplotlib inline\n",
    "import matplotlib.pyplot as plt\n",
    "import matplotlib.gridspec as gridspec\n",
    "from matplotlib.patches import Patch\n",
    "import numpy as np\n",
    "import warnings\n",
    "import random\n",
    "import mpld3\n",
    "import scipy\n",
    "import pickle\n",
    "import os\n",
    "import nept\n",
    "import scalebar\n",
    "\n",
    "from loading_data import get_data\n",
    "from analyze_tuning_curves import get_only_tuning_curves\n",
    "from utils_maze import get_zones\n",
    "from utils_maze import get_bin_centers\n",
    "\n",
    "thisdir = os.getcwd()\n",
    "pickle_filepath = os.path.join(thisdir, \"cache\", \"pickled\")\n",
    "output_filepath = os.path.join(thisdir, \"plots\", \"trials\", \"decoding\", \"classy\", \"compare_task-times\")\n",
    "if not os.path.exists(output_filepath):\n",
    "    os.makedirs(output_filepath)\n",
    "\n",
    "# Set random seeds\n",
    "random.seed(0)\n",
    "np.random.seed(0)\n",
    "\n",
    "# mpld3.enable_notebook()"
   ]
  },
  {
   "cell_type": "code",
   "execution_count": null,
   "metadata": {
    "collapsed": true
   },
   "outputs": [],
   "source": [
    "colours = dict()\n",
    "colours[\"u\"] = \"#2b8cbe\"\n",
    "colours[\"shortcut\"] = \"#31a354\"\n",
    "colours[\"novel\"] = \"#d95f0e\"\n",
    "colours[\"other\"] = \"#bdbdbd\"\n",
    "\n",
    "task_labels = [\"prerecord\", \"pauseA\", \"pauseB\", \"postrecord\"]\n",
    "zone_labels = [\"u\", \"shortcut\", \"novel\", \"other\"]"
   ]
  },
  {
   "cell_type": "code",
   "execution_count": null,
   "metadata": {
    "collapsed": true
   },
   "outputs": [],
   "source": [
    "from analyze_classy_decode import Session, TaskTime"
   ]
  },
  {
   "cell_type": "code",
   "execution_count": null,
   "metadata": {
    "collapsed": true
   },
   "outputs": [],
   "source": [
    "import info.r063d5 as info"
   ]
  },
  {
   "cell_type": "code",
   "execution_count": null,
   "metadata": {
    "collapsed": true
   },
   "outputs": [],
   "source": [
    "events, position, spikes, lfp, lfp_theta = get_data(info)"
   ]
  },
  {
   "cell_type": "code",
   "execution_count": null,
   "metadata": {
    "collapsed": true
   },
   "outputs": [],
   "source": [
    "print(info.session_id)\n",
    "true_path = os.path.join(pickle_filepath, info.session_id + \"_likelihoods_true.pkl\")\n",
    "\n",
    "with open(true_path, 'rb') as fileobj:\n",
    "    true_session = pickle.load(fileobj)\n",
    "\n",
    "passthresh_path = os.path.join(pickle_filepath, info.session_id + \"_likelihoods_true_passthresh.pkl\")\n",
    "\n",
    "with open(passthresh_path, 'rb') as fileobj:\n",
    "    passthresh_session = pickle.load(fileobj)\n",
    "\n",
    "n_shuffles = 100\n",
    "shuffled_path = os.path.join(pickle_filepath,\n",
    "                             info.session_id + \"_likelihoods_shuffled-%03d.pkl\" % n_shuffles)\n",
    "\n",
    "with open(shuffled_path, 'rb') as fileobj:\n",
    "    shuffled_session = pickle.load(fileobj)"
   ]
  },
  {
   "cell_type": "code",
   "execution_count": null,
   "metadata": {
    "collapsed": true
   },
   "outputs": [],
   "source": []
  },
  {
   "cell_type": "code",
   "execution_count": null,
   "metadata": {
    "collapsed": true
   },
   "outputs": [],
   "source": [
    "start = info.task_times[\"prerecord\"].start\n",
    "# stop = info.task_times[\"prerecord\"].stop\n",
    "\n",
    "stop = start+2\n",
    "sliced_lfp = lfp.time_slice(start, stop)"
   ]
  },
  {
   "cell_type": "code",
   "execution_count": null,
   "metadata": {
    "collapsed": true
   },
   "outputs": [],
   "source": [
    "plt.plot(sliced_lfp.time, sliced_lfp.data)\n",
    "plt.show()"
   ]
  },
  {
   "cell_type": "code",
   "execution_count": null,
   "metadata": {
    "collapsed": true
   },
   "outputs": [],
   "source": [
    "swr_lfps = []\n",
    "swrs_epochs = getattr(true_session, \"prerecord\").swrs\n",
    "for start, stop in zip(swrs_epochs.starts, swrs_epochs.stops):\n",
    "    swr_lfps.append(lfp.time_slice(start, stop))"
   ]
  },
  {
   "cell_type": "code",
   "execution_count": null,
   "metadata": {
    "collapsed": true
   },
   "outputs": [],
   "source": [
    "for swr_lfp in swr_lfps:\n",
    "    plt.plot(swr_lfp.time, swr_lfp.data)\n",
    "plt.show()"
   ]
  },
  {
   "cell_type": "code",
   "execution_count": null,
   "metadata": {
    "collapsed": true
   },
   "outputs": [],
   "source": []
  },
  {
   "cell_type": "code",
   "execution_count": null,
   "metadata": {
    "collapsed": true
   },
   "outputs": [],
   "source": []
  },
  {
   "cell_type": "code",
   "execution_count": null,
   "metadata": {
    "collapsed": true
   },
   "outputs": [],
   "source": []
  },
  {
   "cell_type": "code",
   "execution_count": null,
   "metadata": {
    "collapsed": true
   },
   "outputs": [],
   "source": [
    "all_spikes = np.sort(np.concatenate([spiketrain.time for spiketrain in spikes]))\n",
    "sliced_all_spikes = all_spikes[(start <= all_spikes) & (all_spikes <= stop)]"
   ]
  },
  {
   "cell_type": "code",
   "execution_count": null,
   "metadata": {
    "collapsed": true,
    "scrolled": false
   },
   "outputs": [],
   "source": [
    "fig = plt.figure(figsize=(12,6))\n",
    "plt.plot(sliced_lfp.time, sliced_lfp.data)\n",
    "for swr_lfp in swr_lfps:\n",
    "    plt.plot(swr_lfp.time, swr_lfp.data)\n",
    "plt.plot(sliced_all_spikes, np.ones(len(sliced_all_spikes))*0.0002, \".\")\n",
    "plt.show()"
   ]
  },
  {
   "cell_type": "code",
   "execution_count": null,
   "metadata": {
    "collapsed": true
   },
   "outputs": [],
   "source": []
  },
  {
   "cell_type": "code",
   "execution_count": null,
   "metadata": {
    "collapsed": true
   },
   "outputs": [],
   "source": [
    "from analyze_classy_decode import detect_swr_hilbert_limited_zscore"
   ]
  },
  {
   "cell_type": "code",
   "execution_count": null,
   "metadata": {
    "collapsed": true
   },
   "outputs": [],
   "source": [
    "z_thresh = 3\n",
    "\n",
    "swr_params = dict()\n",
    "swr_params[\"z_thresh\"] = z_thresh\n",
    "swr_params[\"merge_thresh\"] = 0.02\n",
    "swr_params[\"min_length\"] = 0.05\n",
    "swr_params[\"swr_thresh\"] = (140.0, 250.0)\n",
    "swr_params[\"min_involved\"] = 4\n",
    "\n",
    "# swrs = detect_swr_hilbert_limited_zscore(lfp,\n",
    "#                                          fs=info.fs,\n",
    "#                                          thresh=swr_params[\"swr_thresh\"],\n",
    "#                                          times_for_zscore=nept.Epoch(info.task_times[\"pauseB\"].start,\n",
    "#                                                                      info.task_times[\"pauseB\"].stop),\n",
    "#                                          z_thresh=swr_params[\"z_thresh\"],\n",
    "#                                          merge_thresh=swr_params[\"merge_thresh\"],\n",
    "#                                          min_length=swr_params[\"min_length\"])\n",
    "# swrs = nept.find_multi_in_epochs(spikes, swrs, min_involved=swr_params[\"min_involved\"])\n",
    "\n",
    "swrs = nept.detect_swr_hilbert(lfp,\n",
    "                                         fs=info.fs,\n",
    "                                         z_thresh=swr_params[\"z_thresh\"],\n",
    "                                         merge_thresh=swr_params[\"merge_thresh\"],\n",
    "                                         min_length=swr_params[\"min_length\"])\n",
    "swrs = nept.find_multi_in_epochs(spikes, swrs, min_involved=swr_params[\"min_involved\"])"
   ]
  },
  {
   "cell_type": "code",
   "execution_count": null,
   "metadata": {
    "collapsed": true
   },
   "outputs": [],
   "source": [
    "swrs.n_epochs"
   ]
  },
  {
   "cell_type": "code",
   "execution_count": null,
   "metadata": {
    "collapsed": true
   },
   "outputs": [],
   "source": [
    "# epochs_of_interest = info.task_times[\"prerecord\"]\n",
    "epochs_of_interest = nept.Epoch(start, stop)\n",
    "phase_swrs = epochs_of_interest.overlaps(swrs)"
   ]
  },
  {
   "cell_type": "code",
   "execution_count": null,
   "metadata": {
    "collapsed": true
   },
   "outputs": [],
   "source": [
    "phase_swrs.n_epochs"
   ]
  },
  {
   "cell_type": "code",
   "execution_count": null,
   "metadata": {
    "collapsed": true
   },
   "outputs": [],
   "source": [
    "swr_lfps = []\n",
    "for start, stop in zip(phase_swrs.starts, phase_swrs.stops):\n",
    "    swr_lfps.append(lfp.time_slice(start, stop))"
   ]
  },
  {
   "cell_type": "code",
   "execution_count": null,
   "metadata": {
    "collapsed": true
   },
   "outputs": [],
   "source": [
    "fig = plt.figure(figsize=(12,6))\n",
    "plt.plot(sliced_lfp.time, sliced_lfp.data)\n",
    "for swr_lfp in swr_lfps:\n",
    "    plt.plot(swr_lfp.time, swr_lfp.data)\n",
    "plt.plot(sliced_all_spikes, np.ones(len(sliced_all_spikes))*0.0002, \".\")\n",
    "plt.show()"
   ]
  },
  {
   "cell_type": "code",
   "execution_count": null,
   "metadata": {
    "collapsed": true
   },
   "outputs": [],
   "source": [
    "swr_lfps = []\n",
    "for start, stop in zip(phase_swrs.starts, phase_swrs.stops):\n",
    "    swr_lfps.append(lfp.time_slice(start, stop))"
   ]
  },
  {
   "cell_type": "code",
   "execution_count": null,
   "metadata": {
    "collapsed": true
   },
   "outputs": [],
   "source": [
    "bin_edges = nept.get_edges(sliced_all_spikes, 0.025)\n",
    "\n",
    "n_bins = 3\n",
    "square_filter = np.ones(n_bins)\n",
    "shouldthisbesquare = np.convolve(np.histogram(sliced_all_spikes, bins=bin_edges)[0].astype(float), \n",
    "                                 square_filter, mode=\"same\")\n",
    "times = np.linspace(sliced_lfp.time[0], sliced_lfp.time[-1], shouldthisbesquare.shape[0])"
   ]
  },
  {
   "cell_type": "code",
   "execution_count": null,
   "metadata": {
    "collapsed": true
   },
   "outputs": [],
   "source": [
    "scalelfpby = 20000\n",
    "\n",
    "fig = plt.figure(figsize=(12,6))\n",
    "plt.plot(times, shouldthisbesquare, \"k\")\n",
    "plt.plot(sliced_lfp.time, sliced_lfp.data*scalelfpby, \"b\")\n",
    "plt.plot(sliced_all_spikes, np.ones(len(sliced_all_spikes))*10, \"c.\")\n",
    "for swr in swrs:\n",
    "    plt.plot(swr.start, [1], \"r.\")\n",
    "plt.show()"
   ]
  },
  {
   "cell_type": "code",
   "execution_count": null,
   "metadata": {
    "collapsed": true
   },
   "outputs": [],
   "source": []
  },
  {
   "cell_type": "code",
   "execution_count": null,
   "metadata": {
    "collapsed": true
   },
   "outputs": [],
   "source": []
  },
  {
   "cell_type": "code",
   "execution_count": null,
   "metadata": {
    "collapsed": true
   },
   "outputs": [],
   "source": []
  },
  {
   "cell_type": "code",
   "execution_count": null,
   "metadata": {
    "collapsed": true
   },
   "outputs": [],
   "source": []
  },
  {
   "cell_type": "code",
   "execution_count": null,
   "metadata": {
    "collapsed": true
   },
   "outputs": [],
   "source": []
  },
  {
   "cell_type": "code",
   "execution_count": null,
   "metadata": {
    "collapsed": true
   },
   "outputs": [],
   "source": []
  },
  {
   "cell_type": "code",
   "execution_count": null,
   "metadata": {
    "collapsed": true
   },
   "outputs": [],
   "source": [
    "bin_edges = nept.get_edges(sliced_all_spikes, 0.025)\n",
    "\n",
    "n_bins = 3\n",
    "square_filter = np.ones(n_bins)\n",
    "shouldthisbesquare = np.convolve(np.histogram(sliced_all_spikes, bins=bin_edges)[0].astype(float), square_filter, mode=\"same\")"
   ]
  },
  {
   "cell_type": "code",
   "execution_count": null,
   "metadata": {
    "collapsed": true
   },
   "outputs": [],
   "source": [
    "fig = plt.figure(figsize=(12,6))\n",
    "plt.plot(sliced_lfp.time, sliced_lfp.data)\n",
    "plt.plot(sliced_all_spikes, np.ones(len(sliced_all_spikes))*0.0002, \".\")\n",
    "plt.show()"
   ]
  },
  {
   "cell_type": "code",
   "execution_count": null,
   "metadata": {
    "collapsed": true
   },
   "outputs": [],
   "source": [
    "times = np.linspace(sliced_lfp.time[0], sliced_lfp.time[-1], shouldthisbesquare.shape[0])"
   ]
  },
  {
   "cell_type": "code",
   "execution_count": null,
   "metadata": {
    "collapsed": true
   },
   "outputs": [],
   "source": [
    "plt.plot(times, shouldthisbesquare)\n",
    "plt.plot(sliced_all_spikes, np.ones(len(sliced_all_spikes)), \".\")\n",
    "plt.show()"
   ]
  },
  {
   "cell_type": "code",
   "execution_count": null,
   "metadata": {
    "collapsed": true
   },
   "outputs": [],
   "source": []
  },
  {
   "cell_type": "code",
   "execution_count": null,
   "metadata": {
    "collapsed": true
   },
   "outputs": [],
   "source": []
  },
  {
   "cell_type": "code",
   "execution_count": null,
   "metadata": {
    "collapsed": true
   },
   "outputs": [],
   "source": []
  },
  {
   "cell_type": "code",
   "execution_count": null,
   "metadata": {
    "collapsed": true
   },
   "outputs": [],
   "source": []
  },
  {
   "cell_type": "code",
   "execution_count": null,
   "metadata": {
    "collapsed": true
   },
   "outputs": [],
   "source": []
  },
  {
   "cell_type": "code",
   "execution_count": null,
   "metadata": {
    "collapsed": true
   },
   "outputs": [],
   "source": []
  }
 ],
 "metadata": {
  "kernelspec": {
   "display_name": "Python 3",
   "language": "python",
   "name": "python3"
  },
  "language_info": {
   "codemirror_mode": {
    "name": "ipython",
    "version": 3
   },
   "file_extension": ".py",
   "mimetype": "text/x-python",
   "name": "python",
   "nbconvert_exporter": "python",
   "pygments_lexer": "ipython3",
   "version": "3.6.5"
  }
 },
 "nbformat": 4,
 "nbformat_minor": 2
}
