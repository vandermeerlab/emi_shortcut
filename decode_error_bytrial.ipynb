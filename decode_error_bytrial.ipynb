{
 "cells": [
  {
   "cell_type": "code",
   "execution_count": null,
   "metadata": {
    "ExecuteTime": {
     "end_time": "2018-01-31T17:07:53.444350Z",
     "start_time": "2018-01-31T17:07:52.380452Z"
    },
    "collapsed": true
   },
   "outputs": [],
   "source": [
    "%matplotlib inline\n",
    "import matplotlib.pyplot as plt\n",
    "import numpy as np\n",
    "import scipy\n",
    "import os\n",
    "import nept\n",
    "\n",
    "from loading_data import get_data\n",
    "from analyze_tuning_curves import get_tuning_curves\n",
    "from analyze_decode_bytrial import get_trials, decode_trial\n",
    "from analyze_decode import get_decoded_zones"
   ]
  },
  {
   "cell_type": "code",
   "execution_count": null,
   "metadata": {
    "ExecuteTime": {
     "end_time": "2018-01-31T17:07:53.449338Z",
     "start_time": "2018-01-31T17:07:53.445334Z"
    },
    "collapsed": true
   },
   "outputs": [],
   "source": [
    "import info.r067d2 as info"
   ]
  },
  {
   "cell_type": "code",
   "execution_count": null,
   "metadata": {
    "ExecuteTime": {
     "end_time": "2018-01-31T17:07:53.464348Z",
     "start_time": "2018-01-31T17:07:53.450338Z"
    },
    "collapsed": true
   },
   "outputs": [],
   "source": [
    "thisdir = os.getcwd()\n",
    "pickle_filepath = os.path.join(thisdir, \"cache\", \"pickled\")\n",
    "output_filepath = os.path.join(thisdir, \"plots\", \"test\")"
   ]
  },
  {
   "cell_type": "code",
   "execution_count": null,
   "metadata": {
    "ExecuteTime": {
     "end_time": "2018-01-31T17:16:27.350834Z",
     "start_time": "2018-01-31T17:07:53.467350Z"
    },
    "collapsed": true,
    "scrolled": true
   },
   "outputs": [],
   "source": [
    "shuffled = False\n",
    "\n",
    "events, position, spikes, lfp, lfp_theta = get_data(info)\n",
    "\n",
    "position = position.time_slice(info.task_times['phase3'].start, info.task_times['phase3'].stop)\n",
    "spikes = [spiketrain.time_slice(info.task_times['phase3'].start, info.task_times['phase3'].stop) for spiketrain in spikes]\n",
    "\n",
    "xedges, yedges = nept.get_xyedges(position)\n",
    "\n",
    "trial_epochs = get_trials(events, info.task_times['phase3'])\n",
    "\n",
    "all_trials = []\n",
    "\n",
    "# for trial_idx in range(trial_epochs.n_epochs):\n",
    "for trial_idx in range(2):\n",
    "    trial_start = trial_epochs.starts[trial_idx]\n",
    "    trial_stop = trial_epochs.stops[trial_idx]\n",
    "\n",
    "    trial_times = nept.Epoch([trial_start, trial_stop])\n",
    "    neurons = get_tuning_curves(info, position, spikes, xedges, yedges, speed_limit=0.4,\n",
    "                                phase_id=\"phase3\", trial_times=trial_times, trial_number=trial_idx,\n",
    "                                cache=False)\n",
    "\n",
    "    decode = decode_trial(info, neurons, trial_times, trial_idx, shuffled)\n",
    "\n",
    "    all_trials.append(decode)\n",
    "\n",
    "error_byactual_position = np.zeros((len(yedges), len(xedges)))\n",
    "n_byactual_position = np.ones((len(yedges), len(xedges)))\n",
    "\n",
    "for decode in all_trials:\n",
    "    for error, x, y in zip(decode['errors'], decode['position'].x, decode['position'].y):\n",
    "        x_idx = nept.find_nearest_idx(xedges, x)\n",
    "        y_idx = nept.find_nearest_idx(yedges, y)\n",
    "        error_byactual_position[y_idx][x_idx] += error\n",
    "        n_byactual_position[y_idx][x_idx] += 1\n",
    "\n",
    "error_byactual = error_byactual_position / n_byactual_position\n",
    "\n",
    "xx, yy = np.meshgrid(xedges, yedges)\n",
    "\n",
    "print(\"error\")\n",
    "pp = plt.pcolormesh(xx, yy, error_byactual, vmin=0., cmap='bone_r')\n",
    "plt.colorbar(pp)\n",
    "plt.axis('off')\n",
    "if not shuffled:\n",
    "    filename = \"decoding_wout_current_trial-\" + info.session_id + \"-error.png\"\n",
    "else:\n",
    "    filename = \"decoding_wout_current_trial-\" + info.session_id + \"-error-shuffled.png\"\n",
    "plt.savefig(os.path.join(output_filepath, filename))\n",
    "plt.close()\n",
    "\n",
    "print(\"position occupancy\")\n",
    "pp = plt.pcolormesh(xx, yy, n_byactual_position, vmin=0., vmax=500., cmap=\"pink_r\")\n",
    "plt.colorbar(pp)\n",
    "plt.axis('off')\n",
    "if not shuffled:\n",
    "    filename = \"decoding_wout_current_trial-\" + info.session_id + \"-occupancy.png\"\n",
    "else:\n",
    "    filename = \"decoding_wout_current_trial-\" + info.session_id + \"-occupancy-shuffled.png\"\n",
    "plt.savefig(os.path.join(output_filepath, filename))\n",
    "plt.close()"
   ]
  },
  {
   "cell_type": "code",
   "execution_count": null,
   "metadata": {
    "ExecuteTime": {
     "end_time": "2018-01-31T17:16:27.357823Z",
     "start_time": "2018-01-31T17:16:27.351835Z"
    },
    "collapsed": true
   },
   "outputs": [],
   "source": [
    "len(all_trials)"
   ]
  },
  {
   "cell_type": "code",
   "execution_count": null,
   "metadata": {
    "ExecuteTime": {
     "end_time": "2018-01-31T17:16:30.823916Z",
     "start_time": "2018-01-31T17:16:27.358823Z"
    },
    "collapsed": true
   },
   "outputs": [],
   "source": [
    "trajectory_errors = dict(u=[], shortcut=[], novel=[])\n",
    "\n",
    "for decode in all_trials:\n",
    "    decoded_zones, zone_errors, actual_position = get_decoded_zones(info, decode[\"decoded\"], decode[\"position\"], \"phase3\")\n",
    "    trajectory_errors[\"u\"].extend(zone_errors[\"u\"])\n",
    "    trajectory_errors[\"shortcut\"].extend(zone_errors[\"shortcut\"])\n",
    "    trajectory_errors[\"novel\"].extend(zone_errors[\"novel\"])"
   ]
  },
  {
   "cell_type": "code",
   "execution_count": null,
   "metadata": {
    "ExecuteTime": {
     "end_time": "2018-01-31T17:16:31.009554Z",
     "start_time": "2018-01-31T17:16:30.825418Z"
    },
    "collapsed": true
   },
   "outputs": [],
   "source": [
    "plt.plot(decoded_zones['shortcut'].x, decoded_zones['shortcut'].y, \"g.\")\n",
    "plt.show()"
   ]
  },
  {
   "cell_type": "code",
   "execution_count": null,
   "metadata": {
    "ExecuteTime": {
     "end_time": "2018-01-31T17:16:31.020565Z",
     "start_time": "2018-01-31T17:16:31.011556Z"
    },
    "collapsed": true
   },
   "outputs": [],
   "source": [
    "output = dict()\n",
    "output['zones'] = decoded_zones\n",
    "output['errors'] = decode[\"errors\"]\n",
    "output['zone_errors'] = zone_errors\n",
    "output['times'] = decode[\"decoded\"].n_samples\n",
    "output['actual'] = actual_position\n",
    "output['decoded'] = decode[\"decoded\"]\n",
    "output['epochs'] = decode[\"decoded_epochs\"]"
   ]
  },
  {
   "cell_type": "code",
   "execution_count": null,
   "metadata": {
    "ExecuteTime": {
     "end_time": "2018-01-31T19:17:05.856632Z",
     "start_time": "2018-01-31T19:17:05.656490Z"
    },
    "collapsed": true
   },
   "outputs": [],
   "source": [
    "fig, ax = plt.subplots()\n",
    "ind = np.arange(3)\n",
    "width = 0.9\n",
    "\n",
    "means = [np.mean(trajectory_errors['u']),\n",
    "         np.mean(trajectory_errors['shortcut']),\n",
    "         np.mean(trajectory_errors['novel'])]\n",
    "# yerr = [scipy.stats.sem(trajectory_errors['u']),\n",
    "#         scipy.stats.sem(trajectory_errors['shortcut']),\n",
    "#         scipy.stats.sem(trajectory_errors['novel'])]\n",
    "yerr = [np.std(trajectory_errors['u']),\n",
    "        np.std(trajectory_errors['shortcut']),\n",
    "        np.std(trajectory_errors['novel'])]\n",
    "plt.bar(ind, means, width=width, color=[\"#0072b2ff\", \"#009e73ff\", \"#d55e00ff\"], yerr=yerr)\n",
    "ax.set_xticks(ind + width / 100)\n",
    "ax.set_xticklabels(('u', 'shortcut', 'dead-end'))\n",
    "ax.set_ylabel('Average error (cm)')\n",
    "plt.show()"
   ]
  },
  {
   "cell_type": "code",
   "execution_count": null,
   "metadata": {
    "collapsed": true
   },
   "outputs": [],
   "source": []
  },
  {
   "cell_type": "code",
   "execution_count": null,
   "metadata": {
    "collapsed": true
   },
   "outputs": [],
   "source": []
  },
  {
   "cell_type": "code",
   "execution_count": null,
   "metadata": {
    "collapsed": true
   },
   "outputs": [],
   "source": []
  },
  {
   "cell_type": "code",
   "execution_count": null,
   "metadata": {
    "collapsed": true
   },
   "outputs": [],
   "source": []
  },
  {
   "cell_type": "code",
   "execution_count": null,
   "metadata": {
    "collapsed": true
   },
   "outputs": [],
   "source": []
  }
 ],
 "metadata": {
  "kernelspec": {
   "display_name": "Python 3",
   "language": "python",
   "name": "python3"
  },
  "language_info": {
   "codemirror_mode": {
    "name": "ipython",
    "version": 3
   },
   "file_extension": ".py",
   "mimetype": "text/x-python",
   "name": "python",
   "nbconvert_exporter": "python",
   "pygments_lexer": "ipython3",
   "version": "3.6.1"
  },
  "toc": {
   "colors": {
    "hover_highlight": "#DAA520",
    "running_highlight": "#FF0000",
    "selected_highlight": "#FFD700"
   },
   "moveMenuLeft": true,
   "nav_menu": {
    "height": "12px",
    "width": "252px"
   },
   "navigate_menu": true,
   "number_sections": true,
   "sideBar": true,
   "threshold": 4,
   "toc_cell": false,
   "toc_section_display": "block",
   "toc_window_display": false
  }
 },
 "nbformat": 4,
 "nbformat_minor": 2
}
