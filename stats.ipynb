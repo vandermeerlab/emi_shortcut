{
 "cells": [
  {
   "cell_type": "code",
   "execution_count": null,
   "metadata": {
    "ExecuteTime": {
     "end_time": "2020-09-18T15:39:44.397907Z",
     "start_time": "2020-09-18T15:39:38.996003Z"
    }
   },
   "outputs": [],
   "source": [
    "%matplotlib inline\n",
    "import matplotlib.pyplot as plt\n",
    "import numpy as np\n",
    "import os\n",
    "import pandas as pd\n",
    "import nept\n",
    "import rpy2\n",
    "import pickle\n",
    "import pandas as pd\n",
    "import pymer4\n",
    "import seaborn as sns\n",
    "from scipy import stats\n",
    "\n",
    "import meta_session\n",
    "import cache"
   ]
  },
  {
   "cell_type": "code",
   "execution_count": null,
   "metadata": {},
   "outputs": [],
   "source": []
  },
  {
   "cell_type": "code",
   "execution_count": null,
   "metadata": {},
   "outputs": [],
   "source": []
  },
  {
   "cell_type": "code",
   "execution_count": null,
   "metadata": {
    "ExecuteTime": {
     "end_time": "2020-09-14T15:12:10.350424Z",
     "start_time": "2020-09-14T15:12:10.324439Z"
    }
   },
   "outputs": [],
   "source": [
    "df = cache.load(\"grp-combined\", \"replays_byphase_df\")\n",
    "\n",
    "df"
   ]
  },
  {
   "cell_type": "code",
   "execution_count": null,
   "metadata": {},
   "outputs": [],
   "source": [
    "1/0"
   ]
  },
  {
   "cell_type": "code",
   "execution_count": null,
   "metadata": {},
   "outputs": [],
   "source": []
  },
  {
   "cell_type": "code",
   "execution_count": null,
   "metadata": {
    "ExecuteTime": {
     "end_time": "2020-09-18T15:39:44.428890Z",
     "start_time": "2020-09-18T15:39:44.399907Z"
    }
   },
   "outputs": [],
   "source": [
    "df = cache.load(\"grp-combined\", \"trial_proportions_bytrial_df\")\n",
    "\n",
    "df"
   ]
  },
  {
   "cell_type": "code",
   "execution_count": null,
   "metadata": {
    "ExecuteTime": {
     "end_time": "2020-09-18T15:59:41.265647Z",
     "start_time": "2020-09-18T15:59:41.249638Z"
    }
   },
   "outputs": [],
   "source": [
    "df[df['trajectory']=='u']"
   ]
  },
  {
   "cell_type": "code",
   "execution_count": null,
   "metadata": {
    "ExecuteTime": {
     "end_time": "2020-09-18T15:59:50.523375Z",
     "start_time": "2020-09-18T15:59:50.141594Z"
    }
   },
   "outputs": [],
   "source": [
    "model = pymer4.Lmer('proportions ~ trial', data=df[df['trajectory']=='u'])\n",
    "\n",
    "# Fit and print an R/statsmodels style summary \n",
    "# with t/z-tests, CIs, and p-values\n",
    "print(model.fit())"
   ]
  },
  {
   "cell_type": "code",
   "execution_count": null,
   "metadata": {},
   "outputs": [],
   "source": []
  },
  {
   "cell_type": "code",
   "execution_count": null,
   "metadata": {
    "ExecuteTime": {
     "end_time": "2020-09-18T15:42:12.030267Z",
     "start_time": "2020-09-18T15:42:11.938320Z"
    }
   },
   "outputs": [],
   "source": [
    "import statsmodels.api as sm\n",
    "import statsmodels.formula.api as smf\n",
    "\n",
    "model = smf.mixedlm(\"proportions ~ trial\", df, groups=df[\"trajectory\"])\n",
    "modelfit = model.fit()\n",
    "print(modelfit.summary())"
   ]
  },
  {
   "cell_type": "code",
   "execution_count": null,
   "metadata": {},
   "outputs": [],
   "source": []
  },
  {
   "cell_type": "code",
   "execution_count": null,
   "metadata": {},
   "outputs": [],
   "source": [
    "1/0"
   ]
  },
  {
   "cell_type": "code",
   "execution_count": null,
   "metadata": {
    "ExecuteTime": {
     "end_time": "2020-09-18T20:55:45.247995Z",
     "start_time": "2020-09-18T20:55:45.219012Z"
    },
    "scrolled": true
   },
   "outputs": [],
   "source": [
    "df = cache.load(\"grp-combined\", \"trial_proportions_bytrial_df\")\n",
    "df"
   ]
  },
  {
   "cell_type": "code",
   "execution_count": null,
   "metadata": {
    "ExecuteTime": {
     "end_time": "2020-09-18T18:35:05.482339Z",
     "start_time": "2020-09-18T18:35:05.459333Z"
    }
   },
   "outputs": [],
   "source": [
    "print(df.to_string())"
   ]
  },
  {
   "cell_type": "code",
   "execution_count": null,
   "metadata": {
    "ExecuteTime": {
     "end_time": "2020-09-18T18:35:06.308394Z",
     "start_time": "2020-09-18T18:35:06.290406Z"
    }
   },
   "outputs": [],
   "source": [
    "print(df.describe())"
   ]
  },
  {
   "cell_type": "code",
   "execution_count": null,
   "metadata": {
    "ExecuteTime": {
     "end_time": "2020-09-12T00:45:38.072612Z",
     "start_time": "2020-09-12T00:45:34.693549Z"
    }
   },
   "outputs": [],
   "source": [
    "model = pymer4.Lmer('proportions ~ trajectory + (1|trial)', data=df)\n",
    "\n",
    "# Fit and print an R/statsmodels style summary \n",
    "# with t/z-tests, CIs, and p-values\n",
    "print(model.fit())"
   ]
  },
  {
   "cell_type": "code",
   "execution_count": null,
   "metadata": {
    "ExecuteTime": {
     "end_time": "2020-09-12T00:48:18.439422Z",
     "start_time": "2020-09-12T00:48:18.420416Z"
    }
   },
   "outputs": [],
   "source": [
    "print(model)"
   ]
  },
  {
   "cell_type": "code",
   "execution_count": null,
   "metadata": {},
   "outputs": [],
   "source": []
  },
  {
   "cell_type": "code",
   "execution_count": null,
   "metadata": {},
   "outputs": [],
   "source": []
  },
  {
   "cell_type": "code",
   "execution_count": null,
   "metadata": {},
   "outputs": [],
   "source": []
  },
  {
   "cell_type": "code",
   "execution_count": null,
   "metadata": {},
   "outputs": [],
   "source": [
    "df = cache.load(\"grp-combined\", \"trial_proportions_bytrial_df\")\n",
    "df"
   ]
  },
  {
   "cell_type": "code",
   "execution_count": null,
   "metadata": {
    "ExecuteTime": {
     "end_time": "2020-09-18T18:35:51.270706Z",
     "start_time": "2020-09-18T18:35:51.249719Z"
    }
   },
   "outputs": [],
   "source": [
    "alpha=0.05\n",
    "\n",
    "u=df[df['trajectory']=='u']['proportions'].values.tolist()\n",
    "shortcut=df[df['trajectory']=='full_shortcut']['proportions'].values.tolist()\n",
    "novel=df[df['trajectory']=='novel']['proportions'].values.tolist()\n",
    "\n",
    "t_check=stats.ttest_ind(u.values.tolist(), shortcut.values.tolist())\n",
    "if(t_check[1] < alpha):\n",
    "    print(f'u different from shortcut at p={t_check[1]}')\n",
    "    \n",
    "t_check=stats.ttest_ind(u.values.tolist(), novel.values.tolist())\n",
    "if(t_check[1] < alpha):\n",
    "    print(f'u different from novel at p={t_check[1]}')\n",
    "    \n",
    "t_check=stats.ttest_ind(shortcut.values.tolist(), novel.values.tolist())\n",
    "if(t_check[1] < alpha):\n",
    "    print(f'shortcut different from novel at p={t_check[1]}')"
   ]
  },
  {
   "cell_type": "code",
   "execution_count": null,
   "metadata": {
    "ExecuteTime": {
     "end_time": "2020-09-10T21:28:04.534926Z",
     "start_time": "2020-09-10T21:28:04.515448Z"
    }
   },
   "outputs": [],
   "source": [
    "stats.ttest_ind(u, shortcut)"
   ]
  },
  {
   "cell_type": "code",
   "execution_count": null,
   "metadata": {
    "ExecuteTime": {
     "end_time": "2020-09-18T18:36:24.593987Z",
     "start_time": "2020-09-18T18:36:24.576998Z"
    }
   },
   "outputs": [],
   "source": [
    "u=df[df['trajectory']=='u']['proportions']"
   ]
  },
  {
   "cell_type": "code",
   "execution_count": null,
   "metadata": {
    "ExecuteTime": {
     "end_time": "2020-09-18T18:36:35.056956Z",
     "start_time": "2020-09-18T18:36:35.041947Z"
    }
   },
   "outputs": [],
   "source": [
    "u.describe()"
   ]
  },
  {
   "cell_type": "code",
   "execution_count": null,
   "metadata": {},
   "outputs": [],
   "source": []
  },
  {
   "cell_type": "code",
   "execution_count": null,
   "metadata": {},
   "outputs": [],
   "source": []
  },
  {
   "cell_type": "code",
   "execution_count": null,
   "metadata": {},
   "outputs": [],
   "source": [
    "1/0"
   ]
  },
  {
   "cell_type": "code",
   "execution_count": null,
   "metadata": {
    "ExecuteTime": {
     "end_time": "2020-09-07T18:33:39.791167Z",
     "start_time": "2020-09-07T18:33:39.773177Z"
    }
   },
   "outputs": [],
   "source": [
    "trial_proportions = [{'proportion': 0.5833333333333334, 'trajectory': 'u', 'rat_id': \"R063\", 'session': \"2\"},\n",
    "                     {'proportion': 0.3541666666666667, 'trajectory': 'u', 'rat_id': \"R066\", 'session': \"2\"},\n",
    "                     {'proportion': 0.3333333333333333, 'trajectory': 'u', 'rat_id': \"R067\", 'session': \"2\"},\n",
    "                     {'proportion': 0.2682926829268293, 'trajectory': 'u', 'rat_id': \"R068\", 'session': \"2\"},\n",
    "                     {'proportion': 0.3541666666666667, 'trajectory': 'shortcut', 'rat_id': \"R063\", 'session': \"2\"},\n",
    "                     {'proportion': 0.5833333333333334, 'trajectory': 'shortcut', 'rat_id': \"R066\", 'session': \"2\"},\n",
    "                     {'proportion': 0.6515151515151515, 'trajectory': 'shortcut', 'rat_id': \"R067\", 'session': \"2\"},\n",
    "                     {'proportion': 0.7073170731707317, 'trajectory': 'shortcut', 'rat_id': \"R068\", 'session': \"2\"},\n",
    "                     {'proportion': 0.0625, 'trajectory': 'novel', 'rat_id': \"R063\", 'session': \"2\"},\n",
    "                     {'proportion': 0.0625, 'trajectory': 'novel', 'rat_id': \"R066\", 'session': \"2\"},\n",
    "                     {'proportion': 0.015151515151515152, 'trajectory': 'novel', 'rat_id': \"R067\", 'session': \"2\"},\n",
    "                     {'proportion': 0.024390243902439025, 'trajectory': 'novel', 'rat_id': \"R068\", 'session': \"2\"}]"
   ]
  },
  {
   "cell_type": "code",
   "execution_count": null,
   "metadata": {
    "ExecuteTime": {
     "end_time": "2020-09-07T18:33:39.806177Z",
     "start_time": "2020-09-07T18:33:39.793165Z"
    }
   },
   "outputs": [],
   "source": [
    "df = pd.DataFrame.from_dict(trial_proportions)"
   ]
  },
  {
   "cell_type": "code",
   "execution_count": null,
   "metadata": {
    "ExecuteTime": {
     "end_time": "2020-09-07T18:33:39.838158Z",
     "start_time": "2020-09-07T18:33:39.808175Z"
    }
   },
   "outputs": [],
   "source": [
    "df"
   ]
  },
  {
   "cell_type": "code",
   "execution_count": null,
   "metadata": {
    "ExecuteTime": {
     "end_time": "2020-09-07T18:33:39.869140Z",
     "start_time": "2020-09-07T18:33:39.840157Z"
    }
   },
   "outputs": [],
   "source": [
    "cat1 = df[df['trajectory']=='u']['proportion']\n",
    "cat2 = df[df['trajectory']=='shortcut']['proportion']\n",
    "\n",
    "t, p_value = ttest_ind(cat1, cat2)\n",
    "t, p_value"
   ]
  },
  {
   "cell_type": "code",
   "execution_count": null,
   "metadata": {},
   "outputs": [],
   "source": []
  },
  {
   "cell_type": "code",
   "execution_count": null,
   "metadata": {
    "ExecuteTime": {
     "end_time": "2020-09-07T18:33:49.969084Z",
     "start_time": "2020-09-07T18:33:39.871139Z"
    }
   },
   "outputs": [],
   "source": [
    "model = pymer4.Lmer('proportion ~ 1 + (1|trajectory)', data=df)\n",
    "\n",
    "# Fit and print an R/statsmodels style summary \n",
    "# with t/z-tests, CIs, and p-values\n",
    "print(model.fit())"
   ]
  },
  {
   "cell_type": "code",
   "execution_count": null,
   "metadata": {
    "ExecuteTime": {
     "end_time": "2020-09-07T18:33:49.984076Z",
     "start_time": "2020-09-07T18:33:49.971083Z"
    }
   },
   "outputs": [],
   "source": [
    "# Get population level coefficients\n",
    "print(model.coefs)"
   ]
  },
  {
   "cell_type": "code",
   "execution_count": null,
   "metadata": {
    "ExecuteTime": {
     "end_time": "2020-09-07T18:33:50.015059Z",
     "start_time": "2020-09-07T18:33:49.987074Z"
    }
   },
   "outputs": [],
   "source": [
    "# Get group level coefficients (just the first 5)\n",
    "# Each row here is a unique intercept and slope\n",
    "# which vary because we parameterized our rfx that way above\n",
    "print(model.fixef.head(5))"
   ]
  },
  {
   "cell_type": "code",
   "execution_count": null,
   "metadata": {
    "ExecuteTime": {
     "end_time": "2020-09-07T18:33:50.031049Z",
     "start_time": "2020-09-07T18:33:50.018058Z"
    }
   },
   "outputs": [],
   "source": [
    "# Get group level deviates from population level coefficients (i.e. rfx)\n",
    "print(model.ranef.head(5))"
   ]
  },
  {
   "cell_type": "code",
   "execution_count": null,
   "metadata": {
    "ExecuteTime": {
     "end_time": "2020-09-07T18:33:50.236932Z",
     "start_time": "2020-09-07T18:33:50.037045Z"
    }
   },
   "outputs": [],
   "source": [
    "# Visualize coefficients with group/cluster fits overlaid (\"forest plot\")\n",
    "model.plot_summary()"
   ]
  },
  {
   "cell_type": "code",
   "execution_count": null,
   "metadata": {
    "ExecuteTime": {
     "end_time": "2020-09-07T18:33:50.648697Z",
     "start_time": "2020-09-07T18:33:50.240929Z"
    }
   },
   "outputs": [],
   "source": [
    "# Plot coefficients for each group/cluster as separate regressions\n",
    "model.plot('trajectory', plot_ci=True, ylabel='predicted DV')"
   ]
  },
  {
   "cell_type": "code",
   "execution_count": null,
   "metadata": {},
   "outputs": [],
   "source": []
  },
  {
   "cell_type": "code",
   "execution_count": null,
   "metadata": {},
   "outputs": [],
   "source": []
  },
  {
   "cell_type": "code",
   "execution_count": null,
   "metadata": {
    "ExecuteTime": {
     "end_time": "2020-09-07T18:33:50.651695Z",
     "start_time": "2020-09-07T18:33:29.553Z"
    }
   },
   "outputs": [],
   "source": [
    "1/0"
   ]
  },
  {
   "cell_type": "code",
   "execution_count": null,
   "metadata": {
    "ExecuteTime": {
     "end_time": "2020-09-07T18:33:50.652695Z",
     "start_time": "2020-09-07T18:33:29.556Z"
    }
   },
   "outputs": [],
   "source": [
    "df = pd.read_csv(os.path.join('E:\\\\code\\\\pymer4\\\\pymer4\\\\resources', 'sample_data.csv'))\n",
    "print(df.head())"
   ]
  },
  {
   "cell_type": "code",
   "execution_count": null,
   "metadata": {
    "ExecuteTime": {
     "end_time": "2020-09-07T18:33:50.653694Z",
     "start_time": "2020-09-07T18:33:29.559Z"
    }
   },
   "outputs": [],
   "source": [
    "model = pymer4.Lmer('DV ~ IV2 + (IV2|Group)', data=df)\n",
    "\n",
    "# Fit and print an R/statsmodels style summary \n",
    "# with t/z-tests, CIs, and p-values\n",
    "print(model.fit())"
   ]
  },
  {
   "cell_type": "code",
   "execution_count": null,
   "metadata": {
    "ExecuteTime": {
     "end_time": "2020-09-07T18:33:50.654693Z",
     "start_time": "2020-09-07T18:33:40.521Z"
    }
   },
   "outputs": [],
   "source": [
    "# Get population level coefficients\n",
    "print(model.coefs)"
   ]
  },
  {
   "cell_type": "code",
   "execution_count": null,
   "metadata": {
    "ExecuteTime": {
     "end_time": "2020-09-07T18:33:50.655692Z",
     "start_time": "2020-09-07T18:33:40.525Z"
    }
   },
   "outputs": [],
   "source": [
    "# Get group level coefficients (just the first 5)\n",
    "# Each row here is a unique intercept and slope\n",
    "# which vary because we parameterized our rfx that way above\n",
    "print(model.fixef.head(5))"
   ]
  },
  {
   "cell_type": "code",
   "execution_count": null,
   "metadata": {
    "ExecuteTime": {
     "end_time": "2020-09-07T18:33:50.657229Z",
     "start_time": "2020-09-07T18:33:40.527Z"
    }
   },
   "outputs": [],
   "source": [
    "# Get group level deviates from population level coefficients (i.e. rfx)\n",
    "print(model.ranef.head(5))"
   ]
  },
  {
   "cell_type": "code",
   "execution_count": null,
   "metadata": {
    "ExecuteTime": {
     "end_time": "2020-09-07T18:33:50.658197Z",
     "start_time": "2020-09-07T18:33:40.530Z"
    }
   },
   "outputs": [],
   "source": [
    "# Visualize coefficients with group/cluster fits overlaid (\"forest plot\")\n",
    "model.plot_summary()"
   ]
  },
  {
   "cell_type": "code",
   "execution_count": null,
   "metadata": {
    "ExecuteTime": {
     "end_time": "2020-09-07T18:33:50.659197Z",
     "start_time": "2020-09-07T18:33:40.532Z"
    }
   },
   "outputs": [],
   "source": [
    "# Plot coefficients for each group/cluster as separate regressions\n",
    "model.plot('IV2', plot_ci=True, ylabel='predicted DV')"
   ]
  },
  {
   "cell_type": "code",
   "execution_count": null,
   "metadata": {},
   "outputs": [],
   "source": []
  },
  {
   "cell_type": "code",
   "execution_count": null,
   "metadata": {},
   "outputs": [],
   "source": []
  },
  {
   "cell_type": "code",
   "execution_count": null,
   "metadata": {},
   "outputs": [],
   "source": []
  },
  {
   "cell_type": "code",
   "execution_count": null,
   "metadata": {
    "ExecuteTime": {
     "end_time": "2020-09-07T18:33:50.660196Z",
     "start_time": "2020-09-07T18:33:40.538Z"
    }
   },
   "outputs": [],
   "source": [
    "cat2"
   ]
  },
  {
   "cell_type": "code",
   "execution_count": null,
   "metadata": {
    "ExecuteTime": {
     "end_time": "2020-09-07T18:33:50.661196Z",
     "start_time": "2020-09-07T18:33:40.541Z"
    }
   },
   "outputs": [],
   "source": [
    "t, p_value = ttest_ind(df['u'], df['novel'])\n",
    "t, p_value"
   ]
  },
  {
   "cell_type": "code",
   "execution_count": null,
   "metadata": {
    "ExecuteTime": {
     "end_time": "2020-09-07T18:33:50.662195Z",
     "start_time": "2020-09-07T18:33:40.544Z"
    }
   },
   "outputs": [],
   "source": [
    "t, p_value = ttest_ind(df['shortcut'], df['novel'])\n",
    "t, p_value"
   ]
  },
  {
   "cell_type": "code",
   "execution_count": null,
   "metadata": {},
   "outputs": [],
   "source": []
  },
  {
   "cell_type": "code",
   "execution_count": null,
   "metadata": {},
   "outputs": [],
   "source": []
  },
  {
   "cell_type": "code",
   "execution_count": null,
   "metadata": {},
   "outputs": [],
   "source": []
  },
  {
   "cell_type": "code",
   "execution_count": null,
   "metadata": {},
   "outputs": [],
   "source": []
  },
  {
   "cell_type": "code",
   "execution_count": null,
   "metadata": {},
   "outputs": [],
   "source": []
  },
  {
   "cell_type": "code",
   "execution_count": null,
   "metadata": {
    "ExecuteTime": {
     "end_time": "2020-09-07T18:33:51.903995Z",
     "start_time": "2020-09-07T18:33:51.877009Z"
    }
   },
   "outputs": [],
   "source": [
    "1/0"
   ]
  },
  {
   "cell_type": "code",
   "execution_count": null,
   "metadata": {
    "ExecuteTime": {
     "end_time": "2020-09-07T18:33:52.923476Z",
     "start_time": "2020-09-07T18:33:52.016929Z"
    }
   },
   "outputs": [],
   "source": [
    "df = pd.read_csv(os.path.join(pymer4.get_resource_path(), 'sample_data.csv'))\n",
    "print(df.head())"
   ]
  },
  {
   "cell_type": "code",
   "execution_count": null,
   "metadata": {
    "ExecuteTime": {
     "end_time": "2020-09-07T18:33:53.082385Z",
     "start_time": "2020-09-07T18:33:52.926473Z"
    }
   },
   "outputs": [],
   "source": [
    "model = pymer4.Lm('DV ~ IV1 + IV2', data=df)\n",
    "print(model.fit())"
   ]
  },
  {
   "cell_type": "code",
   "execution_count": null,
   "metadata": {
    "ExecuteTime": {
     "end_time": "2020-09-07T18:33:53.098375Z",
     "start_time": "2020-09-07T18:33:53.084383Z"
    }
   },
   "outputs": [],
   "source": [
    "print(model.AIC)"
   ]
  },
  {
   "cell_type": "code",
   "execution_count": null,
   "metadata": {
    "ExecuteTime": {
     "end_time": "2020-09-07T18:33:53.114366Z",
     "start_time": "2020-09-07T18:33:53.100374Z"
    }
   },
   "outputs": [],
   "source": [
    "print(model.residuals[:10])"
   ]
  },
  {
   "cell_type": "code",
   "execution_count": null,
   "metadata": {
    "ExecuteTime": {
     "end_time": "2020-09-07T18:33:53.130357Z",
     "start_time": "2020-09-07T18:33:53.116365Z"
    }
   },
   "outputs": [],
   "source": [
    "print(model.data.head())"
   ]
  },
  {
   "cell_type": "code",
   "execution_count": null,
   "metadata": {
    "ExecuteTime": {
     "end_time": "2020-09-07T18:33:53.773989Z",
     "start_time": "2020-09-07T18:33:53.132356Z"
    }
   },
   "outputs": [],
   "source": [
    "sns.regplot(x='fits', y='DV', data=model.data, fit_reg=True)"
   ]
  },
  {
   "cell_type": "code",
   "execution_count": null,
   "metadata": {
    "ExecuteTime": {
     "end_time": "2020-09-07T18:33:59.082559Z",
     "start_time": "2020-09-07T18:33:53.775989Z"
    }
   },
   "outputs": [],
   "source": [
    "model = pymer4.Lmer('DV ~ IV2 + (IV2|Group)', data=df)\n",
    "print(model.fit())"
   ]
  },
  {
   "cell_type": "code",
   "execution_count": null,
   "metadata": {
    "ExecuteTime": {
     "end_time": "2020-09-07T18:33:59.097624Z",
     "start_time": "2020-09-07T18:33:59.085557Z"
    }
   },
   "outputs": [],
   "source": [
    "print(model.coefs)"
   ]
  },
  {
   "cell_type": "code",
   "execution_count": null,
   "metadata": {},
   "outputs": [],
   "source": []
  },
  {
   "cell_type": "code",
   "execution_count": null,
   "metadata": {},
   "outputs": [],
   "source": []
  },
  {
   "cell_type": "code",
   "execution_count": null,
   "metadata": {},
   "outputs": [],
   "source": []
  },
  {
   "cell_type": "code",
   "execution_count": null,
   "metadata": {
    "ExecuteTime": {
     "end_time": "2020-09-07T18:33:59.129717Z",
     "start_time": "2020-09-07T18:33:59.099623Z"
    }
   },
   "outputs": [],
   "source": [
    "def trial_proportions_stats(info, *, trial_proportions):\n",
    "    print(trial_proportions)\n",
    "    pass"
   ]
  },
  {
   "cell_type": "code",
   "execution_count": null,
   "metadata": {
    "ExecuteTime": {
     "end_time": "2020-09-07T18:33:59.145870Z",
     "start_time": "2020-09-07T18:33:59.131706Z"
    }
   },
   "outputs": [],
   "source": [
    "proportions = pickle.load(open(\"E://code//emi_placefields//cache//ind-R068d1//trial_proportions.pkl\", \"rb\"))"
   ]
  },
  {
   "cell_type": "code",
   "execution_count": null,
   "metadata": {
    "ExecuteTime": {
     "end_time": "2020-09-07T18:33:59.160997Z",
     "start_time": "2020-09-07T18:33:59.148831Z"
    }
   },
   "outputs": [],
   "source": [
    "proportions"
   ]
  },
  {
   "cell_type": "code",
   "execution_count": null,
   "metadata": {},
   "outputs": [],
   "source": []
  },
  {
   "cell_type": "code",
   "execution_count": null,
   "metadata": {},
   "outputs": [],
   "source": []
  },
  {
   "cell_type": "code",
   "execution_count": null,
   "metadata": {
    "ExecuteTime": {
     "end_time": "2020-09-07T18:33:59.191268Z",
     "start_time": "2020-09-07T18:33:59.164040Z"
    }
   },
   "outputs": [],
   "source": [
    "rpy2.robjects.numpy2ri.activate()\n",
    "\n",
    "nr,nc = B.shape\n",
    "Br = ro.r.matrix(B, nrow=nr, ncol=nc)\n",
    "\n",
    "ro.r.assign(\"B\", Br)"
   ]
  },
  {
   "cell_type": "code",
   "execution_count": null,
   "metadata": {},
   "outputs": [],
   "source": []
  }
 ],
 "metadata": {
  "kernelspec": {
   "display_name": "Python 3",
   "language": "python",
   "name": "python3"
  },
  "language_info": {
   "codemirror_mode": {
    "name": "ipython",
    "version": 3
   },
   "file_extension": ".py",
   "mimetype": "text/x-python",
   "name": "python",
   "nbconvert_exporter": "python",
   "pygments_lexer": "ipython3",
   "version": "3.7.7"
  },
  "toc": {
   "colors": {
    "hover_highlight": "#DAA520",
    "running_highlight": "#FF0000",
    "selected_highlight": "#FFD700"
   },
   "moveMenuLeft": true,
   "nav_menu": {
    "height": "12px",
    "width": "252px"
   },
   "navigate_menu": true,
   "number_sections": true,
   "sideBar": true,
   "threshold": 4,
   "toc_cell": false,
   "toc_section_display": "block",
   "toc_window_display": false
  }
 },
 "nbformat": 4,
 "nbformat_minor": 4
}
