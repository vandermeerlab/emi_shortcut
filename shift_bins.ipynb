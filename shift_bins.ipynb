{
 "cells": [
  {
   "cell_type": "code",
   "execution_count": null,
   "metadata": {
    "ExecuteTime": {
     "end_time": "2018-07-25T15:36:42.377390Z",
     "start_time": "2018-07-25T15:36:41.415407Z"
    }
   },
   "outputs": [],
   "source": [
    "%matplotlib inline\n",
    "import matplotlib.pyplot as plt\n",
    "import numpy as np\n",
    "import scipy\n",
    "import os\n",
    "import nept\n",
    "\n",
    "from loading_data import get_data"
   ]
  },
  {
   "cell_type": "code",
   "execution_count": null,
   "metadata": {
    "ExecuteTime": {
     "end_time": "2018-07-25T15:36:42.383390Z",
     "start_time": "2018-07-25T15:36:42.379408Z"
    }
   },
   "outputs": [],
   "source": [
    "thisdir = os.getcwd()\n",
    "pickle_filepath = os.path.join(thisdir, \"cache\", \"pickled\")\n",
    "output_filepath = os.path.join(thisdir, \"plots\", \"shift_bins\")\n",
    "if not os.path.exists(output_filepath):\n",
    "    os.makedirs(output_filepath)"
   ]
  },
  {
   "cell_type": "code",
   "execution_count": null,
   "metadata": {
    "ExecuteTime": {
     "end_time": "2018-07-25T15:36:42.456347Z",
     "start_time": "2018-07-25T15:36:42.385389Z"
    }
   },
   "outputs": [],
   "source": [
    "import info.r063d2 as r063d2\n",
    "import info.r063d3 as r063d3\n",
    "# infos = [r063d2, r063d3]\n",
    "from run import spike_sorted_infos\n",
    "infos = spike_sorted_infos"
   ]
  },
  {
   "cell_type": "code",
   "execution_count": null,
   "metadata": {
    "ExecuteTime": {
     "end_time": "2018-07-25T15:36:42.465342Z",
     "start_time": "2018-07-25T15:36:42.458347Z"
    }
   },
   "outputs": [],
   "source": [
    "def plot_occupancy(occupancy, xx, yy, pad, binsize, min_occupied, filepath=None):\n",
    "    fig, ax = plt.subplots()\n",
    "    pp = plt.pcolormesh(xx, yy, occupancy, vmax=10., cmap=\"Greys\")\n",
    "    proportion_occupied = min_occupied/occupancy.size\n",
    "    ax.text(0.95, 0.05, \"Occupied: %.2f\" % proportion_occupied,\n",
    "            horizontalalignment='right',\n",
    "            verticalalignment='top',\n",
    "            transform = plt.gcf().transFigure,\n",
    "            fontsize=12)\n",
    "\n",
    "    colourbar = plt.colorbar(pp)\n",
    "    \n",
    "    ax.spines['right'].set_visible(False)\n",
    "    ax.spines['top'].set_visible(False)\n",
    "    ax.yaxis.set_ticks_position('left')\n",
    "    ax.xaxis.set_ticks_position('bottom')\n",
    "    \n",
    "    plt.tight_layout()\n",
    "    if filepath is not None:\n",
    "        plt.savefig(os.path.join(filepath, info.session_id+\"-occupancies_\"+str(binsize)+\"cm_shifted-\"+str(pad)+\".png\"))\n",
    "        plt.close()\n",
    "    else:\n",
    "        plt.show()"
   ]
  },
  {
   "cell_type": "code",
   "execution_count": null,
   "metadata": {
    "ExecuteTime": {
     "end_time": "2018-07-25T15:36:42.476336Z",
     "start_time": "2018-07-25T15:36:42.466342Z"
    }
   },
   "outputs": [],
   "source": [
    "def get_xyedges(position, binsize, pad):\n",
    "    \"\"\"Gets edges based on position min and max.\n",
    "\n",
    "    Parameters\n",
    "    ----------\n",
    "    position: 2D nept.Position\n",
    "    binsize: int\n",
    "\n",
    "    Returns\n",
    "    -------\n",
    "    xedges: np.array\n",
    "    yedges: np.array\n",
    "\n",
    "    \"\"\"\n",
    "    if position.dimensions < 2:\n",
    "        raise ValueError(\"position must be 2-dimensional\")\n",
    "\n",
    "    xedges = np.arange(position.x.min()-pad, position.x.max() + binsize, binsize)\n",
    "    yedges = np.arange(position.y.min()-pad, position.y.max() + binsize, binsize)\n",
    "\n",
    "    return xedges, yedges"
   ]
  },
  {
   "cell_type": "code",
   "execution_count": null,
   "metadata": {
    "ExecuteTime": {
     "end_time": "2018-07-25T15:43:54.801179Z",
     "start_time": "2018-07-25T15:36:42.478335Z"
    },
    "scrolled": false
   },
   "outputs": [],
   "source": [
    "for info in infos:\n",
    "    events, position, spikes, _, _ = get_data(info)\n",
    "    for binsize in [6, 8, 10, 12, 14, 16, 18, 20]:\n",
    "        xedges, yedges = get_xyedges(position, binsize=binsize, pad=0)\n",
    "        min_occupied = len(xedges) * len(yedges)\n",
    "        for pad in range(binsize):\n",
    "            xedges, yedges = get_xyedges(position, binsize=binsize, pad=pad)\n",
    "            phase = \"phase3\"\n",
    "            sliced_position = position.time_slice(info.task_times[phase].start, info.task_times[phase].stop)\n",
    "\n",
    "            # Limit position to only running times\n",
    "            run_epoch = nept.run_threshold(sliced_position, thresh=10., t_smooth=0.8)\n",
    "            run_position = sliced_position[run_epoch]\n",
    "\n",
    "            occupancy = nept.get_occupancy(run_position, yedges, xedges)\n",
    "\n",
    "            n_occupied = np.zeros(occupancy.shape).astype(bool)\n",
    "            n_occupied[occupancy>0] = True\n",
    "            if np.sum(n_occupied) < min_occupied:\n",
    "                min_occupied = np.sum(n_occupied)\n",
    "                min_occupancy = occupancy\n",
    "                min_pad = pad\n",
    "                min_binsize = binsize\n",
    "                min_xedges = xedges\n",
    "                min_yedges = yedges\n",
    "    #         xx, yy = np.meshgrid(xedges, yedges)\n",
    "    #         plot_occupancy(occupancy, xx, yy, pad, binsize, filepath=None)\n",
    "\n",
    "        xx, yy = np.meshgrid(min_xedges, min_yedges)\n",
    "        plot_occupancy(min_occupancy, xx, yy, min_pad, min_binsize, min_occupied, filepath=output_filepath)"
   ]
  },
  {
   "cell_type": "code",
   "execution_count": null,
   "metadata": {},
   "outputs": [],
   "source": []
  },
  {
   "cell_type": "code",
   "execution_count": null,
   "metadata": {},
   "outputs": [],
   "source": []
  },
  {
   "cell_type": "code",
   "execution_count": null,
   "metadata": {},
   "outputs": [],
   "source": []
  }
 ],
 "metadata": {
  "kernelspec": {
   "display_name": "Python 3",
   "language": "python",
   "name": "python3"
  },
  "language_info": {
   "codemirror_mode": {
    "name": "ipython",
    "version": 3
   },
   "file_extension": ".py",
   "mimetype": "text/x-python",
   "name": "python",
   "nbconvert_exporter": "python",
   "pygments_lexer": "ipython3",
   "version": "3.6.5"
  },
  "toc": {
   "colors": {
    "hover_highlight": "#DAA520",
    "running_highlight": "#FF0000",
    "selected_highlight": "#FFD700"
   },
   "moveMenuLeft": true,
   "nav_menu": {
    "height": "12px",
    "width": "252px"
   },
   "navigate_menu": true,
   "number_sections": true,
   "sideBar": true,
   "threshold": 4,
   "toc_cell": false,
   "toc_section_display": "block",
   "toc_window_display": false
  }
 },
 "nbformat": 4,
 "nbformat_minor": 2
}
