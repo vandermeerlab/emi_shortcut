{
 "cells": [
  {
   "cell_type": "code",
   "execution_count": null,
   "metadata": {
    "collapsed": true
   },
   "outputs": [],
   "source": [
    "%matplotlib inline\n",
    "import numpy as np\n",
    "import matplotlib.pyplot as plt\n",
    "from shapely.geometry import Point, LineString\n",
    "import os\n",
    "import pickle\n",
    "from collections import OrderedDict\n",
    "\n",
    "import vdmlab as vdm\n",
    "\n",
    "from loading_data import get_data\n",
    "from utils_maze import get_xyedges, find_zones\n",
    "from plot_decode import get_combined, compare_lengths, get_proportions\n",
    "from utils_plotting import plot_decoded_compare"
   ]
  },
  {
   "cell_type": "code",
   "execution_count": null,
   "metadata": {
    "collapsed": true
   },
   "outputs": [],
   "source": [
    "import info.test as info"
   ]
  },
  {
   "cell_type": "code",
   "execution_count": null,
   "metadata": {
    "collapsed": true
   },
   "outputs": [],
   "source": [
    "data_filepath = 'C:/Users/Emily/code/emi_shortcut/cache/data'\n",
    "pickle_filepath = 'C:/Users/Emily/code/emi_shortcut/cache/pickled'"
   ]
  },
  {
   "cell_type": "code",
   "execution_count": null,
   "metadata": {
    "collapsed": false
   },
   "outputs": [],
   "source": [
    "events, position, spikes, lfp, lfp_theta = get_data(info)\n",
    "xedges, yedges = get_xyedges(position)"
   ]
  },
  {
   "cell_type": "code",
   "execution_count": null,
   "metadata": {
    "collapsed": true
   },
   "outputs": [],
   "source": []
  },
  {
   "cell_type": "code",
   "execution_count": null,
   "metadata": {
    "collapsed": false
   },
   "outputs": [],
   "source": [
    "plt.plot(position.x, position.y, 'b.', ms=2)\n",
    "plt.show()"
   ]
  },
  {
   "cell_type": "code",
   "execution_count": null,
   "metadata": {
    "collapsed": false
   },
   "outputs": [],
   "source": [
    "from analyze_tuning_curves import analyze\n",
    "tuning_curve = analyze(info)"
   ]
  },
  {
   "cell_type": "code",
   "execution_count": null,
   "metadata": {
    "collapsed": true
   },
   "outputs": [],
   "source": [
    "# tuning_curve_filename = 'R068d1' + '_tuning-curve.pkl'\n",
    "# pickled_tuning_curve = os.path.join(pickle_filepath, tuning_curve_filename)\n",
    "# with open(pickled_tuning_curve, 'rb') as fileobj:\n",
    "#     tuning_curve = pickle.load(fileobj)"
   ]
  },
  {
   "cell_type": "code",
   "execution_count": null,
   "metadata": {
    "collapsed": false,
    "scrolled": true
   },
   "outputs": [],
   "source": [
    "xx, yy = np.meshgrid(xedges, yedges)\n",
    "\n",
    "for ii in range(5):\n",
    "    print(ii)\n",
    "    pp = plt.pcolormesh(xx, yy, tuning_curve[ii], cmap='pink_r')\n",
    "    plt.colorbar(pp)\n",
    "    plt.axis('off')\n",
    "    plt.show()"
   ]
  },
  {
   "cell_type": "code",
   "execution_count": null,
   "metadata": {
    "collapsed": true
   },
   "outputs": [],
   "source": []
  },
  {
   "cell_type": "code",
   "execution_count": null,
   "metadata": {
    "collapsed": false
   },
   "outputs": [],
   "source": [
    "from analyze_decode import analyze\n",
    "experiment_times = ['phase3']\n",
    "for experiment_time in experiment_times:\n",
    "    analyze(info, tuning_curve, experiment_time, min_length=2)"
   ]
  },
  {
   "cell_type": "code",
   "execution_count": null,
   "metadata": {
    "collapsed": true
   },
   "outputs": [],
   "source": [
    "def compare_test(infos, combined_zones, timebin=0.025):\n",
    "    lengths = dict(u=[], shortcut=[], novel=[])\n",
    "    for info in infos:\n",
    "        lengths['u'].append(LineString(info.u_trajectory).length)\n",
    "        lengths['shortcut'].append(LineString(info.shortcut_trajectory).length)\n",
    "        lengths['novel'].append(LineString(info.novel_trajectory).length)\n",
    "\n",
    "    by_track_length = []\n",
    "\n",
    "    for i, session in enumerate(combined_zones):\n",
    "        normalized = OrderedDict()\n",
    "        for exp in combined_zones[0].keys():\n",
    "            normalized[exp] = dict()\n",
    "\n",
    "        for exp in session.keys():\n",
    "            for trajectory in session[exp].keys():\n",
    "                normalized[exp][trajectory] = (session[exp][trajectory].n_samples * timebin)\n",
    "\n",
    "        by_track_length.append(normalized)\n",
    "\n",
    "    return by_track_length"
   ]
  },
  {
   "cell_type": "code",
   "execution_count": null,
   "metadata": {
    "collapsed": false
   },
   "outputs": [],
   "source": [
    "infos = [info]\n",
    "\n",
    "experiment_times = ['phase3']\n",
    "sessions = get_combined(infos, experiment_times)\n",
    "norm_length = compare_test(infos, sessions)\n",
    "proportion = get_proportions(norm_length)\n",
    "\n",
    "plot_decoded_compare(proportion, ylabel='Proportion of time relative to track length')"
   ]
  },
  {
   "cell_type": "code",
   "execution_count": null,
   "metadata": {
    "collapsed": true
   },
   "outputs": [],
   "source": [
    "experiment_time = experiment_times[0]\n",
    "filename = '_decode-' + experiment_time + '.pkl'\n",
    "decode_filename = info.session_id + filename\n",
    "pickled_decoded = os.path.join(pickle_filepath, decode_filename)\n",
    "\n",
    "if os.path.isfile(pickled_decoded):\n",
    "    with open(pickled_decoded, 'rb') as fileobj:\n",
    "        decoded = pickle.load(fileobj)"
   ]
  },
  {
   "cell_type": "code",
   "execution_count": null,
   "metadata": {
    "collapsed": false
   },
   "outputs": [],
   "source": [
    "plt.plot(position.x, position.y, 'y.', ms=1)\n",
    "plt.plot(decoded['decoded'].x, decoded['decoded'].y, 'b.', ms=2)\n",
    "plt.show()"
   ]
  },
  {
   "cell_type": "code",
   "execution_count": null,
   "metadata": {
    "collapsed": false
   },
   "outputs": [],
   "source": [
    "decoded['decoded'].n_samples"
   ]
  },
  {
   "cell_type": "code",
   "execution_count": null,
   "metadata": {
    "collapsed": true
   },
   "outputs": [],
   "source": []
  },
  {
   "cell_type": "code",
   "execution_count": null,
   "metadata": {
    "collapsed": true
   },
   "outputs": [],
   "source": []
  },
  {
   "cell_type": "code",
   "execution_count": null,
   "metadata": {
    "collapsed": true
   },
   "outputs": [],
   "source": []
  },
  {
   "cell_type": "code",
   "execution_count": null,
   "metadata": {
    "collapsed": false
   },
   "outputs": [],
   "source": [
    "for neuron in spikes:\n",
    "    print(len(neuron.time))"
   ]
  },
  {
   "cell_type": "code",
   "execution_count": null,
   "metadata": {
    "collapsed": true
   },
   "outputs": [],
   "source": []
  },
  {
   "cell_type": "code",
   "execution_count": null,
   "metadata": {
    "collapsed": false,
    "scrolled": true
   },
   "outputs": [],
   "source": [
    "zone = find_zones(info, remove_feeder=True)\n",
    "for neuron in spikes:\n",
    "    plt.plot(position.x, position.y, 'y.', ms=1)\n",
    "    for spike in neuron.time:\n",
    "        idx = vdm.find_nearest_idx(position.time, spike)\n",
    "        point = Point([position.x[idx], position.y[idx]])\n",
    "        if zone['u'].contains(point):\n",
    "            plt.plot(point.xy[0], point.xy[1], 'b.', ms=2)\n",
    "        if zone['shortcut'].contains(point):\n",
    "            plt.plot(point.xy[0], point.xy[1], 'g.', ms=2)\n",
    "        if zone['novel'].contains(point):\n",
    "            plt.plot(point.xy[0], point.xy[1], 'r.', ms=2)\n",
    "    plt.show()"
   ]
  },
  {
   "cell_type": "code",
   "execution_count": null,
   "metadata": {
    "collapsed": true
   },
   "outputs": [],
   "source": []
  },
  {
   "cell_type": "code",
   "execution_count": null,
   "metadata": {
    "collapsed": false
   },
   "outputs": [],
   "source": [
    "print(len(spikes))"
   ]
  },
  {
   "cell_type": "code",
   "execution_count": null,
   "metadata": {
    "collapsed": false
   },
   "outputs": [],
   "source": [
    "print(len(spikes[1].time))"
   ]
  },
  {
   "cell_type": "code",
   "execution_count": null,
   "metadata": {
    "collapsed": true
   },
   "outputs": [],
   "source": [
    "# keep_idx = np.array([1, 3, 5, 7, 9])\n",
    "# spikes = np.array(spikes)\n",
    "# filtered_spikes = spikes[keep_idx]"
   ]
  },
  {
   "cell_type": "code",
   "execution_count": null,
   "metadata": {
    "collapsed": false
   },
   "outputs": [],
   "source": [
    "# zone = find_zones(info, remove_feeder=True)\n",
    "# \n",
    "# def get_n_spikes(spikes, zone, track):\n",
    "#     for i, neuron in enumerate(spikes):\n",
    "#         label = neuron.label\n",
    "#         trajectory = []\n",
    "#         for spike in neuron.time:\n",
    "#             idx = vdm.find_nearest_idx(position.time, spike)\n",
    "#             point = Point([position.x[idx], position.y[idx]])\n",
    "#             if zone[track].contains(point):\n",
    "#                 trajectory.append(spike)\n",
    "#         print(track, i, ':', len(trajectory))\n",
    "    \n",
    "# get_n_spikes(spikes, zone, track='u')\n",
    "# get_n_spikes(spikes, zone, track='shortcut')\n",
    "# get_n_spikes(spikes, zone, track='novel')"
   ]
  },
  {
   "cell_type": "code",
   "execution_count": null,
   "metadata": {
    "collapsed": true
   },
   "outputs": [],
   "source": []
  },
  {
   "cell_type": "code",
   "execution_count": null,
   "metadata": {
    "collapsed": false
   },
   "outputs": [],
   "source": [
    "n_spikes = 100\n",
    "zone = find_zones(info, remove_feeder=True)\n",
    "\n",
    "new_spikes = []\n",
    "for neuron in [spikes[1]]:\n",
    "    label = neuron.label\n",
    "    trajectory = []\n",
    "    for spike in neuron.time:\n",
    "        idx = vdm.find_nearest_idx(position.time, spike)\n",
    "        point = Point([position.x[idx], position.y[idx]])\n",
    "        if zone['u'].contains(point):\n",
    "            trajectory.append(spike)\n",
    "    time = trajectory[:n_spikes]\n",
    "    new_spikes.append(vdm.SpikeTrain(time, label))\n",
    "    \n",
    "for neuron in [spikes[17]]:\n",
    "    label = neuron.label\n",
    "    trajectory = []\n",
    "    for spike in neuron.time:\n",
    "        idx = vdm.find_nearest_idx(position.time, spike)\n",
    "        point = Point([position.x[idx], position.y[idx]])\n",
    "        if zone['novel'].contains(point):\n",
    "            trajectory.append(spike)\n",
    "    time = trajectory[:n_spikes]\n",
    "    new_spikes.append(vdm.SpikeTrain(time, label))\n",
    "    \n",
    "for neuron in [spikes[11], spikes[13], spikes[27], spikes[34], spikes[49]]:\n",
    "    label = neuron.label\n",
    "    trajectory = []\n",
    "    for spike in neuron.time:\n",
    "        idx = vdm.find_nearest_idx(position.time, spike)\n",
    "        point = Point([position.x[idx], position.y[idx]])\n",
    "        if zone['shortcut'].contains(point):\n",
    "            trajectory.append(spike)\n",
    "    time = trajectory[:n_spikes]\n",
    "    new_spikes.append(vdm.SpikeTrain(time, label))"
   ]
  },
  {
   "cell_type": "code",
   "execution_count": null,
   "metadata": {
    "collapsed": false
   },
   "outputs": [],
   "source": [
    "for neuron in new_spikes:\n",
    "    print(len(neuron.time))\n",
    "len(new_spikes)"
   ]
  },
  {
   "cell_type": "code",
   "execution_count": null,
   "metadata": {
    "collapsed": true
   },
   "outputs": [],
   "source": []
  },
  {
   "cell_type": "code",
   "execution_count": null,
   "metadata": {
    "collapsed": true
   },
   "outputs": [],
   "source": [
    "filename = 'test-spike.pkl'\n",
    "pickled_path = os.path.join(data_filepath, filename)\n",
    "with open(pickled_path, 'wb') as fileobj:\n",
    "    pickle.dump(new_spikes, fileobj)"
   ]
  },
  {
   "cell_type": "code",
   "execution_count": null,
   "metadata": {
    "collapsed": true
   },
   "outputs": [],
   "source": []
  }
 ],
 "metadata": {
  "anaconda-cloud": {},
  "kernelspec": {
   "display_name": "Python [conda env:py3]",
   "language": "python",
   "name": "conda-env-py3-py"
  },
  "language_info": {
   "codemirror_mode": {
    "name": "ipython",
    "version": 3
   },
   "file_extension": ".py",
   "mimetype": "text/x-python",
   "name": "python",
   "nbconvert_exporter": "python",
   "pygments_lexer": "ipython3",
   "version": "3.5.2"
  }
 },
 "nbformat": 4,
 "nbformat_minor": 1
}
