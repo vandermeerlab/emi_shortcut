{
 "cells": [
  {
   "cell_type": "code",
   "execution_count": null,
   "metadata": {
    "collapsed": true
   },
   "outputs": [],
   "source": [
    "%matplotlib inline\n",
    "import numpy as np\n",
    "import matplotlib.pyplot as plt\n",
    "from shapely.geometry import Point, LineString\n",
    "import os\n",
    "import pickle\n",
    "from collections import OrderedDict\n",
    "\n",
    "import nept\n",
    "\n",
    "from loading_data import get_data\n",
    "from utils_maze import get_xyedges, find_zones, expand_line, speed_threshold\n",
    "from plot_decode import get_combined, compare_lengths, get_proportions\n",
    "from utils_plotting import plot_decoded_compare, plot_intersects, plot_zone"
   ]
  },
  {
   "cell_type": "code",
   "execution_count": null,
   "metadata": {
    "collapsed": false
   },
   "outputs": [],
   "source": [
    "import info.test as info"
   ]
  },
  {
   "cell_type": "code",
   "execution_count": null,
   "metadata": {
    "collapsed": true
   },
   "outputs": [],
   "source": [
    "data_filepath = 'C:/Users/Emily/code/emi_shortcut/cache/data'\n",
    "pickle_filepath = 'C:/Users/Emily/code/emi_shortcut/cache/pickled'"
   ]
  },
  {
   "cell_type": "code",
   "execution_count": null,
   "metadata": {
    "collapsed": false
   },
   "outputs": [],
   "source": []
  },
  {
   "cell_type": "code",
   "execution_count": null,
   "metadata": {
    "collapsed": true
   },
   "outputs": [],
   "source": []
  },
  {
   "cell_type": "code",
   "execution_count": null,
   "metadata": {
    "collapsed": true
   },
   "outputs": [],
   "source": []
  },
  {
   "cell_type": "code",
   "execution_count": null,
   "metadata": {
    "collapsed": false
   },
   "outputs": [],
   "source": [
    "zone = dict()\n",
    "\n",
    "u_start = Point(info.u_trajectory[0])\n",
    "u_stop = Point(info.u_trajectory[-1])\n",
    "u_line = LineString(info.u_trajectory)\n",
    "zone['u'] = expand_line(u_start, u_stop, u_line, expand_by=1)\n",
    "\n",
    "shortcut_start = Point(info.shortcut_trajectory[0])\n",
    "shortcut_stop = Point(info.shortcut_trajectory[-1])\n",
    "shortcut_line = LineString(info.shortcut_trajectory)\n",
    "zone['shortcut'] = expand_line(shortcut_start, shortcut_stop, shortcut_line, expand_by=1)\n",
    "\n",
    "novel_start = Point(info.novel_trajectory[0])\n",
    "novel_stop = Point(info.novel_trajectory[-1])\n",
    "novel_line = LineString(info.novel_trajectory)\n",
    "zone['novel'] = expand_line(novel_start, novel_stop, novel_line, expand_by=1)"
   ]
  },
  {
   "cell_type": "code",
   "execution_count": null,
   "metadata": {
    "collapsed": false
   },
   "outputs": [],
   "source": [
    "for z in zone.keys():\n",
    "    plot_zone(zone[z])"
   ]
  },
  {
   "cell_type": "code",
   "execution_count": null,
   "metadata": {
    "collapsed": true
   },
   "outputs": [],
   "source": [
    "position_time = np.linspace(0, 10, 11)"
   ]
  },
  {
   "cell_type": "code",
   "execution_count": null,
   "metadata": {
    "collapsed": false
   },
   "outputs": [],
   "source": [
    "position_y = np.ones(11) * 10\n",
    "position_y += np.random.uniform(-0.1, 0.1, size=11)"
   ]
  },
  {
   "cell_type": "code",
   "execution_count": null,
   "metadata": {
    "collapsed": false
   },
   "outputs": [],
   "source": [
    "position_x = np.ones(11)\n",
    "position_x[0:3] = position_x[0:3] * 15\n",
    "position_x[3:6] = position_x[3:6] * 45\n",
    "position_x[6:9] = position_x[6:9] * 75"
   ]
  },
  {
   "cell_type": "code",
   "execution_count": null,
   "metadata": {
    "collapsed": false
   },
   "outputs": [],
   "source": [
    "position_data = np.array([position_x, position_y]).T"
   ]
  },
  {
   "cell_type": "code",
   "execution_count": null,
   "metadata": {
    "collapsed": false
   },
   "outputs": [],
   "source": [
    "position = nept.Position(position_data, position_time)"
   ]
  },
  {
   "cell_type": "code",
   "execution_count": null,
   "metadata": {
    "collapsed": false
   },
   "outputs": [],
   "source": [
    "plt.plot(position.x, position.y, 'g.', ms=10)\n",
    "for z in zone.keys():\n",
    "    plot_zone(zone[z])\n",
    "plt.ylim(8, 12)\n",
    "plt.show()"
   ]
  },
  {
   "cell_type": "code",
   "execution_count": null,
   "metadata": {
    "collapsed": false
   },
   "outputs": [],
   "source": [
    "# spikes = [nept.SpikeTrain(np.ones(10), '01'),\n",
    "#           nept.SpikeTrain(np.ones(5)*2, '02'),\n",
    "#           nept.SpikeTrain(np.ones(10)*4, '01'),\n",
    "#           nept.SpikeTrain(np.ones(5)*5, '02'),\n",
    "#           nept.SpikeTrain(np.ones(10)*7, '01'),\n",
    "#           nept.SpikeTrain(np.ones(5)*8, '02')]\n",
    "\n",
    "broad = np.ones(10)\n",
    "broad[:8] = broad[:8] * 5\n",
    "broad[8:] = broad[8:] * 8\n",
    "\n",
    "spikes = [nept.SpikeTrain(np.ones(5)*2, '02'),\n",
    "          nept.SpikeTrain(np.ones(10)*4, '01'),\n",
    "          nept.SpikeTrain(broad, '02')]\n",
    "# spikes = [nept.SpikeTrain(np.array([5.]), '01')]"
   ]
  },
  {
   "cell_type": "code",
   "execution_count": null,
   "metadata": {
    "collapsed": false
   },
   "outputs": [],
   "source": [
    "lfp_time = position_time\n",
    "lfp_data = np.ones(len(lfp_time))\n",
    "lfp = nept.AnalogSignal(lfp_data, lfp_time)"
   ]
  },
  {
   "cell_type": "code",
   "execution_count": null,
   "metadata": {
    "collapsed": true
   },
   "outputs": [],
   "source": [
    "events = nept.Epoch(np.array([0., 10.]))"
   ]
  },
  {
   "cell_type": "code",
   "execution_count": null,
   "metadata": {
    "collapsed": false
   },
   "outputs": [],
   "source": [
    "filename = 'test-event.pkl'\n",
    "pickled_path = os.path.join(data_filepath, filename)\n",
    "with open(pickled_path, 'wb') as fileobj:\n",
    "    pickle.dump(events, fileobj)\n",
    "    \n",
    "filename = 'test-lfp_swr.pkl'\n",
    "pickled_path = os.path.join(data_filepath, filename)\n",
    "with open(pickled_path, 'wb') as fileobj:\n",
    "    pickle.dump(lfp, fileobj)\n",
    "    \n",
    "filename = 'test-lfp_theta.pkl'\n",
    "pickled_path = os.path.join(data_filepath, filename)\n",
    "with open(pickled_path, 'wb') as fileobj:\n",
    "    pickle.dump(lfp, fileobj)\n",
    "    \n",
    "filename = 'test-position.pkl'\n",
    "pickled_path = os.path.join(data_filepath, filename)\n",
    "with open(pickled_path, 'wb') as fileobj:\n",
    "    pickle.dump(position, fileobj)\n",
    "    \n",
    "filename = 'test-spike.pkl'\n",
    "pickled_path = os.path.join(data_filepath, filename)\n",
    "with open(pickled_path, 'wb') as fileobj:\n",
    "    pickle.dump(spikes, fileobj)"
   ]
  },
  {
   "cell_type": "code",
   "execution_count": null,
   "metadata": {
    "collapsed": true
   },
   "outputs": [],
   "source": []
  },
  {
   "cell_type": "code",
   "execution_count": null,
   "metadata": {
    "collapsed": true
   },
   "outputs": [],
   "source": []
  },
  {
   "cell_type": "code",
   "execution_count": null,
   "metadata": {
    "collapsed": true
   },
   "outputs": [],
   "source": []
  },
  {
   "cell_type": "code",
   "execution_count": null,
   "metadata": {
    "collapsed": true
   },
   "outputs": [],
   "source": [
    "events, position, spikes, lfp, lfp_theta = get_data(info)\n",
    "xedges, yedges = get_xyedges(position)"
   ]
  },
  {
   "cell_type": "code",
   "execution_count": null,
   "metadata": {
    "collapsed": false
   },
   "outputs": [],
   "source": [
    "from analyze_tuning_curves import analyze\n",
    "tuning_curve = analyze(info, speed_limit=0.0)"
   ]
  },
  {
   "cell_type": "code",
   "execution_count": null,
   "metadata": {
    "collapsed": true
   },
   "outputs": [],
   "source": []
  },
  {
   "cell_type": "code",
   "execution_count": null,
   "metadata": {
    "collapsed": false
   },
   "outputs": [],
   "source": [
    "xx, yy = np.meshgrid(xedges, yedges)\n",
    "\n",
    "for ii in range(len(tuning_curve)):\n",
    "    print(ii)\n",
    "    pp = plt.pcolormesh(xx, yy, tuning_curve[ii], cmap='pink_r')\n",
    "    plt.colorbar(pp)\n",
    "#     plt.axis('off')\n",
    "    plt.show()"
   ]
  },
  {
   "cell_type": "code",
   "execution_count": null,
   "metadata": {
    "collapsed": true
   },
   "outputs": [],
   "source": []
  },
  {
   "cell_type": "code",
   "execution_count": null,
   "metadata": {
    "collapsed": false
   },
   "outputs": [],
   "source": [
    "from analyze_decode import get_decoded, analyze, point_in_zones\n",
    "experiment_time = 'phase3'"
   ]
  },
  {
   "cell_type": "code",
   "execution_count": null,
   "metadata": {
    "collapsed": false
   },
   "outputs": [],
   "source": [
    "decode = get_decoded(info, tuning_curve, experiment_time, speed_limit=0.)"
   ]
  },
  {
   "cell_type": "code",
   "execution_count": null,
   "metadata": {
    "collapsed": false
   },
   "outputs": [],
   "source": [
    "yy = analyze(info, tuning_curve, experiment_time, speed_limit=0.)"
   ]
  },
  {
   "cell_type": "code",
   "execution_count": null,
   "metadata": {
    "collapsed": true
   },
   "outputs": [],
   "source": []
  },
  {
   "cell_type": "code",
   "execution_count": null,
   "metadata": {
    "collapsed": false
   },
   "outputs": [],
   "source": [
    "infos = [info]\n",
    "\n",
    "experiment_times = ['phase3']\n",
    "sessions = get_combined(infos, experiment_times)\n",
    "norm_length = compare_lengths(infos, sessions)\n",
    "proportion = get_proportions(norm_length)\n",
    "plot_decoded_compare(proportion, ylabel='Proportion of time relative to track length')"
   ]
  },
  {
   "cell_type": "code",
   "execution_count": null,
   "metadata": {
    "collapsed": false
   },
   "outputs": [],
   "source": [
    "sessions[0]['phase3']['u'].time, sessions[0]['phase3']['shortcut'].time, sessions[0]['phase3']['novel'].time"
   ]
  },
  {
   "cell_type": "code",
   "execution_count": null,
   "metadata": {
    "collapsed": true
   },
   "outputs": [],
   "source": []
  },
  {
   "cell_type": "code",
   "execution_count": null,
   "metadata": {
    "collapsed": true
   },
   "outputs": [],
   "source": []
  }
 ],
 "metadata": {
  "anaconda-cloud": {},
  "kernelspec": {
   "display_name": "Python [default]",
   "language": "python",
   "name": "python3"
  },
  "language_info": {
   "codemirror_mode": {
    "name": "ipython",
    "version": 3
   },
   "file_extension": ".py",
   "mimetype": "text/x-python",
   "name": "python",
   "nbconvert_exporter": "python",
   "pygments_lexer": "ipython3",
   "version": "3.5.2"
  }
 },
 "nbformat": 4,
 "nbformat_minor": 1
}
