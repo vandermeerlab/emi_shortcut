{
 "cells": [
  {
   "cell_type": "code",
   "execution_count": null,
   "metadata": {
    "ExecuteTime": {
     "end_time": "2018-07-16T14:11:00.691566Z",
     "start_time": "2018-07-16T14:10:59.602191Z"
    },
    "collapsed": true
   },
   "outputs": [],
   "source": [
    "%matplotlib inline\n",
    "import matplotlib.pyplot as plt\n",
    "import matplotlib\n",
    "import numpy as np\n",
    "import itertools\n",
    "import scipy\n",
    "import os\n",
    "import nept\n",
    "\n",
    "from loading_data import get_data\n",
    "from analyze_tuning_curves import get_tuning_curves"
   ]
  },
  {
   "cell_type": "code",
   "execution_count": null,
   "metadata": {
    "ExecuteTime": {
     "end_time": "2018-07-16T14:11:00.697563Z",
     "start_time": "2018-07-16T14:11:00.693564Z"
    },
    "collapsed": true
   },
   "outputs": [],
   "source": [
    "thisdir = os.getcwd()\n",
    "pickle_filepath = os.path.join(thisdir, \"cache\", \"pickled\")\n",
    "output_filepath = os.path.join(thisdir, \"plots\", \"check_tc\")"
   ]
  },
  {
   "cell_type": "code",
   "execution_count": null,
   "metadata": {
    "ExecuteTime": {
     "end_time": "2018-07-16T14:11:00.772519Z",
     "start_time": "2018-07-16T14:11:00.699561Z"
    },
    "collapsed": true
   },
   "outputs": [],
   "source": [
    "from run import spike_sorted_infos\n",
    "import info.r063d6 as info\n",
    "# infos = [info]\n",
    "infos = spike_sorted_infos"
   ]
  },
  {
   "cell_type": "code",
   "execution_count": null,
   "metadata": {
    "ExecuteTime": {
     "end_time": "2018-07-16T14:11:00.780514Z",
     "start_time": "2018-07-16T14:11:00.774519Z"
    },
    "collapsed": true
   },
   "outputs": [],
   "source": [
    "def plot_individual_tuning_curves(tuning_curves, n_colours, cmap, xx, yy, filepath=None):\n",
    "    # Plot individual tuning curves\n",
    "    for i, tuning_curve in enumerate(tuning_curves):    \n",
    "        tuning_curve = np.array(tuning_curve)\n",
    "        tuning_curve[np.isnan(tuning_curve)] = -np.nanmax(tuning_curve) / n_colours\n",
    "\n",
    "        plt.figure()\n",
    "        pp = plt.pcolormesh(xx, yy, tuning_curve, cmap=cmap)\n",
    "\n",
    "        colourbar = plt.colorbar(pp)\n",
    "        plt.tight_layout()\n",
    "        if filepath is not None:\n",
    "            plt.savefig(os.path.join(output_filepath, info.session_id+\"-tuning_curve\"+str(i)+\".png\"))\n",
    "            plt.close()\n",
    "        else:\n",
    "            plt.show()"
   ]
  },
  {
   "cell_type": "code",
   "execution_count": null,
   "metadata": {
    "ExecuteTime": {
     "end_time": "2018-07-16T14:11:00.790510Z",
     "start_time": "2018-07-16T14:11:00.782514Z"
    },
    "collapsed": true
   },
   "outputs": [],
   "source": [
    "def plot_combined_tuning_curves(tuning_curves, n_colours, cmap, xx, yy, pad, n_below_thresh, \n",
    "                                filepath=None):\n",
    "    # Plot all tuning curves in the session\n",
    "    multiple_tuning_curves = np.zeros((tuning_curves.shape[1], tuning_curves.shape[2]))\n",
    "    for tuning_curve in tuning_curves:\n",
    "        multiple_tuning_curves += tuning_curve\n",
    "\n",
    "    multiple_tuning_curves = multiple_tuning_curves / np.nansum(multiple_tuning_curves)\n",
    "    multiple_tuning_curves = np.array(multiple_tuning_curves)\n",
    "    multiple_tuning_curves[np.isnan(multiple_tuning_curves)] = -np.nanmax(multiple_tuning_curves) / n_colours\n",
    "\n",
    "    plt.figure()\n",
    "    pp = plt.pcolormesh(xx, yy, multiple_tuning_curves, cmap=cmap)\n",
    "    plt.text(-1., -30., \"N occupied bins below thresh: \"+str(n_below_thresh), fontsize=14)\n",
    "    plt.colorbar(pp)\n",
    "    plt.title(info.session_id + \" tuning curves (normalized)\")\n",
    "    plt.tight_layout()\n",
    "    if filepath is not None:\n",
    "        filename = info.session_id+\"-all-tuning_curves-min_shifted-\"+str(pad)+\".png\"\n",
    "        plt.savefig(os.path.join(filepath, filename))\n",
    "        plt.close()\n",
    "    else:\n",
    "        plt.show()"
   ]
  },
  {
   "cell_type": "code",
   "execution_count": null,
   "metadata": {
    "ExecuteTime": {
     "end_time": "2018-07-16T14:11:00.800503Z",
     "start_time": "2018-07-16T14:11:00.791509Z"
    },
    "collapsed": true
   },
   "outputs": [],
   "source": [
    "def plot_occupancy(occupancy, xx, yy, pad, filepath=None):\n",
    "    plt.figure()\n",
    "    pp = plt.pcolormesh(xx, yy, occupancy, vmax=10., cmap=\"Greys\")\n",
    "\n",
    "    colourbar = plt.colorbar(pp)\n",
    "    plt.tight_layout()\n",
    "    if filepath is not None:\n",
    "        plt.savefig(os.path.join(filepath, info.session_id+\"-occupancies_shifted-\"+str(pad)+\".png\"))\n",
    "        plt.close()\n",
    "    else:\n",
    "        plt.show()"
   ]
  },
  {
   "cell_type": "code",
   "execution_count": null,
   "metadata": {
    "collapsed": true
   },
   "outputs": [],
   "source": [
    "def get_xyedges(position, binsize, pad):\n",
    "    \"\"\"Gets edges based on position min and max.\n",
    "\n",
    "    Parameters\n",
    "    ----------\n",
    "    position: 2D nept.Position\n",
    "    binsize: int\n",
    "\n",
    "    Returns\n",
    "    -------\n",
    "    xedges: np.array\n",
    "    yedges: np.array\n",
    "\n",
    "    \"\"\"\n",
    "    if position.dimensions < 2:\n",
    "        raise ValueError(\"position must be 2-dimensional\")\n",
    "\n",
    "    xedges = np.arange(position.x.min()-pad, position.x.max() + binsize, binsize)\n",
    "    yedges = np.arange(position.y.min()-pad, position.y.max() + binsize, binsize)\n",
    "\n",
    "    return xedges, yedges"
   ]
  },
  {
   "cell_type": "code",
   "execution_count": null,
   "metadata": {
    "ExecuteTime": {
     "end_time": "2018-07-16T14:20:51.247190Z",
     "start_time": "2018-07-16T14:11:00.802503Z"
    },
    "scrolled": true
   },
   "outputs": [],
   "source": [
    "overall_n_below_threshs = []\n",
    "for binsize in [8, 10, 12, 14, 16]:\n",
    "    print(\"Binsize:\", binsize)\n",
    "    binsize_n_below_threshs = []\n",
    "    for info in infos:\n",
    "        filepath = os.path.join(output_filepath, \"binsize\"+str(binsize)+\"cm\")\n",
    "        if not os.path.exists(filepath):\n",
    "            os.makedirs(filepath)\n",
    "\n",
    "        _, position, spikes, _, _ = get_data(info)\n",
    "        for pad in range(binsize):\n",
    "            xedges, yedges = get_xyedges(position, binsize=binsize, pad=pad)\n",
    "\n",
    "            phase = \"phase3\"\n",
    "            sliced_position = position.time_slice(info.task_times[phase].start, info.task_times[phase].stop)\n",
    "            sliced_spikes = [spiketrain.time_slice(info.task_times[phase].start, info.task_times[phase].stop) for spiketrain in spikes]\n",
    "\n",
    "            # Limit position and spikes to only running times\n",
    "            run_epoch = nept.run_threshold(sliced_position, thresh=10., t_smooth=0.8)\n",
    "            run_position = sliced_position[run_epoch]\n",
    "            track_spikes = np.asarray([spiketrain.time_slice(run_epoch.starts, run_epoch.stops) for spiketrain in sliced_spikes])\n",
    "\n",
    "            # Remove neurons with too few or too many spikes\n",
    "            len_epochs = np.sum(run_epoch.durations)\n",
    "            min_n_spikes = 0.4 * len_epochs\n",
    "            max_n_spikes = 5 * len_epochs\n",
    "\n",
    "            keep_idx = np.zeros(len(track_spikes), dtype=bool)\n",
    "            for i, spiketrain in enumerate(track_spikes):\n",
    "                if len(spiketrain.time) >= min_n_spikes and len(spiketrain.time) <= max_n_spikes:\n",
    "                    keep_idx[i] = True\n",
    "            tuning_spikes = track_spikes[keep_idx]\n",
    "\n",
    "            occupancy = nept.get_occupancy(run_position, yedges, xedges)\n",
    "            occupied_thresh = 1.\n",
    "            n_below_thresh = np.sum(occupancy > 0) - np.sum(occupancy > occupied_thresh)\n",
    "            print(\"N occupied bins below thresh:\", n_below_thresh)\n",
    "            binsize_n_below_threshs.append(n_below_thresh)\n",
    "            tuning_curves = nept.tuning_curve_2d(run_position, tuning_spikes, xedges, yedges, \n",
    "                                                 occupied_thresh=occupied_thresh, gaussian_std=0.3)\n",
    "\n",
    "            xx, yy = np.meshgrid(xedges, yedges)\n",
    "\n",
    "            n_colours = 15.\n",
    "            colours = [(1., 1., 1.)]\n",
    "            colours.extend(matplotlib.cm.copper_r(np.linspace(0, 1, n_colours-1)))\n",
    "            cmap = matplotlib.colors.ListedColormap(colours)\n",
    "\n",
    "            plot_occupancy(occupancy, xx, yy, pad, filepath)\n",
    "\n",
    "            plot_combined_tuning_curves(tuning_curves, n_colours, cmap, xx, yy, \n",
    "                                        pad, n_below_thresh=n_below_thresh, \n",
    "                                        filepath=filepath)\n",
    "\n",
    "        #     plot_individual_tuning_curves(tuning_curves, n_colours, cmap, xx, yy, filepath)\n",
    "        overall_n_below_threshs.append(binsize_n_below_threshs)"
   ]
  },
  {
   "cell_type": "code",
   "execution_count": null,
   "metadata": {
    "ExecuteTime": {
     "end_time": "2018-07-16T16:45:19.702757Z",
     "start_time": "2018-07-16T16:45:19.615807Z"
    }
   },
   "outputs": [],
   "source": [
    "plt.plot([8, 10, 12, 14, 16], \n",
    "         np.mean(overall_n_below_threshs, axis=1))\n",
    "plt.title(\"N below occupancy thresh\")\n",
    "plt.show()"
   ]
  },
  {
   "cell_type": "code",
   "execution_count": null,
   "metadata": {
    "collapsed": true
   },
   "outputs": [],
   "source": []
  },
  {
   "cell_type": "code",
   "execution_count": null,
   "metadata": {
    "collapsed": true
   },
   "outputs": [],
   "source": []
  },
  {
   "cell_type": "code",
   "execution_count": null,
   "metadata": {
    "ExecuteTime": {
     "end_time": "2018-07-16T14:20:51.393106Z",
     "start_time": "2018-07-16T14:20:51.249189Z"
    },
    "collapsed": true
   },
   "outputs": [],
   "source": [
    "position = run_position\n",
    "spikes = tuning_spikes \n",
    "gaussian_std=0.3\n",
    "occupied_thresh = 0.\n",
    "\n",
    "position_2d = nept.get_occupancy(position, yedges, xedges)\n",
    "shape = position_2d.shape\n",
    "occupied_idx = position_2d > occupied_thresh\n",
    "\n",
    "tuning_curves = np.full(((len(spikes),) + shape), np.nan)\n",
    "for i, spiketrain in enumerate(spikes):\n",
    "    f_xy = scipy.interpolate.interp1d(position.time, position.data.T, kind=\"nearest\")\n",
    "    spikes_xy = f_xy(spiketrain.time)\n",
    "\n",
    "    spikes_2d, spikes_xedges, spikes_yedges = np.histogram2d(spikes_xy[1], spikes_xy[0], bins=[yedges, xedges])\n",
    "    tuning_curves[i, occupied_idx] = spikes_2d[occupied_idx] / position_2d[occupied_idx]\n",
    "\n",
    "if gaussian_std is not None:\n",
    "    xbinsize = xedges[1] - xedges[0]\n",
    "    ybinsize = yedges[1] - yedges[0]\n",
    "    tuning_curves = nept.gaussian_filter(tuning_curves, gaussian_std, dt=xbinsize, axis=1)\n",
    "    tuning_curves = nept.gaussian_filter(tuning_curves, gaussian_std, dt=ybinsize, axis=2)"
   ]
  },
  {
   "cell_type": "code",
   "execution_count": null,
   "metadata": {
    "collapsed": true
   },
   "outputs": [],
   "source": []
  }
 ],
 "metadata": {
  "kernelspec": {
   "display_name": "Python 3",
   "language": "python",
   "name": "python3"
  },
  "language_info": {
   "codemirror_mode": {
    "name": "ipython",
    "version": 3
   },
   "file_extension": ".py",
   "mimetype": "text/x-python",
   "name": "python",
   "nbconvert_exporter": "python",
   "pygments_lexer": "ipython3",
   "version": "3.6.5"
  },
  "toc": {
   "colors": {
    "hover_highlight": "#DAA520",
    "running_highlight": "#FF0000",
    "selected_highlight": "#FFD700"
   },
   "moveMenuLeft": true,
   "nav_menu": {
    "height": "12px",
    "width": "252px"
   },
   "navigate_menu": true,
   "number_sections": true,
   "sideBar": true,
   "threshold": 4,
   "toc_cell": false,
   "toc_section_display": "block",
   "toc_window_display": false
  }
 },
 "nbformat": 4,
 "nbformat_minor": 2
}
