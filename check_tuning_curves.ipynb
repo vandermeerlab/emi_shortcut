{
 "cells": [
  {
   "cell_type": "code",
   "execution_count": null,
   "metadata": {
    "collapsed": true
   },
   "outputs": [],
   "source": [
    "%matplotlib inline\n",
    "import matplotlib.pyplot as plt\n",
    "import numpy as np\n",
    "import itertools\n",
    "import scipy\n",
    "import os\n",
    "import nept\n",
    "\n",
    "from loading_data import get_data\n",
    "from analyze_tuning_curves import get_tuning_curves"
   ]
  },
  {
   "cell_type": "code",
   "execution_count": null,
   "metadata": {
    "collapsed": true
   },
   "outputs": [],
   "source": [
    "thisdir = os.getcwd()\n",
    "pickle_filepath = os.path.join(thisdir, \"cache\", \"pickled\")\n",
    "output_filepath = os.path.join(thisdir, \"plots\", \"check_tc\")"
   ]
  },
  {
   "cell_type": "code",
   "execution_count": null,
   "metadata": {
    "collapsed": true
   },
   "outputs": [],
   "source": [
    "import info.r068d7 as info"
   ]
  },
  {
   "cell_type": "code",
   "execution_count": null,
   "metadata": {
    "collapsed": true
   },
   "outputs": [],
   "source": [
    "events, position, spikes, lfp, lfp_theta = get_data(info)\n",
    "xedges, yedges = nept.get_xyedges(position, binsize=3)"
   ]
  },
  {
   "cell_type": "code",
   "execution_count": null,
   "metadata": {},
   "outputs": [],
   "source": [
    "phase = \"phase3\"\n",
    "sliced_position = position.time_slice(info.task_times[phase].start, info.task_times[phase].stop)\n",
    "sliced_spikes = [spiketrain.time_slice(info.task_times[phase].start, info.task_times[phase].stop) for spiketrain in spikes]\n",
    "\n",
    "# Limit position and spikes to only running times\n",
    "run_epoch = nept.run_threshold(sliced_position, thresh=0.167, t_smooth=0.5)\n",
    "run_position = sliced_position[run_epoch]\n",
    "track_spikes = np.asarray([spiketrain.time_slice(run_epoch.starts, run_epoch.stops) for spiketrain in sliced_spikes])\n",
    "\n",
    "# Remove neurons with too few or too many spikes\n",
    "len_epochs = np.sum(run_epoch.durations)\n",
    "min_n_spikes = 0.4 * len_epochs\n",
    "max_n_spikes = 5 * len_epochs\n",
    "\n",
    "keep_idx = np.zeros(len(track_spikes), dtype=bool)\n",
    "for i, spiketrain in enumerate(track_spikes):\n",
    "    if len(spiketrain.time) >= min_n_spikes and len(spiketrain.time) <= max_n_spikes:\n",
    "        keep_idx[i] = True\n",
    "tuning_spikes = track_spikes[keep_idx]\n",
    "\n",
    "tuning_curves = nept.tuning_curve_2d(run_position, tuning_spikes, xedges, yedges, occupied_thresh=0.5, gaussian_std=0.3)\n",
    "tuning_curves[np.isnan(tuning_curves)] = 0."
   ]
  },
  {
   "cell_type": "code",
   "execution_count": null,
   "metadata": {},
   "outputs": [],
   "source": [
    "# Plot individual tuning curves\n",
    "xx, yy = np.meshgrid(xedges, yedges)\n",
    "\n",
    "for i, tuning_curve in enumerate(tuning_curves):\n",
    "    plt.figure()\n",
    "    pp = plt.pcolormesh(xx, yy, tuning_curve, cmap=\"Greys\")\n",
    "    plt.colorbar(pp)\n",
    "    plt.tight_layout()\n",
    "    plt.savefig(os.path.join(output_filepath, info.session_id+\"-tuning_curve\"+str(i)+\".png\"))\n",
    "    plt.close()\n",
    "#     plt.show()"
   ]
  },
  {
   "cell_type": "code",
   "execution_count": null,
   "metadata": {},
   "outputs": [],
   "source": [
    "# Plot all tuning curves in the session\n",
    "multiple_tuning_curves = np.zeros((tuning_curves.shape[1], tuning_curves.shape[2]))\n",
    "for tuning_curve in tuning_curves:\n",
    "    multiple_tuning_curves += tuning_curve\n",
    "    \n",
    "multiple_tuning_curves = multiple_tuning_curves / np.sum(multiple_tuning_curves)\n",
    "\n",
    "plt.figure(figsize=(6, 5))\n",
    "pp = plt.pcolormesh(xx, yy, multiple_tuning_curves, cmap=\"Greys\")\n",
    "plt.colorbar(pp)\n",
    "plt.title(info.session_id + \" tuning curves (normalized)\")\n",
    "plt.tight_layout()\n",
    "plt.savefig(os.path.join(output_filepath, info.session_id+\"-all-tuning_curves.png\"))\n",
    "plt.close()\n",
    "# plt.show()"
   ]
  },
  {
   "cell_type": "code",
   "execution_count": null,
   "metadata": {
    "collapsed": true
   },
   "outputs": [],
   "source": []
  },
  {
   "cell_type": "code",
   "execution_count": null,
   "metadata": {
    "collapsed": true
   },
   "outputs": [],
   "source": []
  },
  {
   "cell_type": "code",
   "execution_count": null,
   "metadata": {
    "collapsed": true
   },
   "outputs": [],
   "source": []
  },
  {
   "cell_type": "code",
   "execution_count": null,
   "metadata": {
    "collapsed": true
   },
   "outputs": [],
   "source": []
  }
 ],
 "metadata": {
  "kernelspec": {
   "display_name": "Python 3",
   "language": "python",
   "name": "python3"
  },
  "language_info": {
   "codemirror_mode": {
    "name": "ipython",
    "version": 3
   },
   "file_extension": ".py",
   "mimetype": "text/x-python",
   "name": "python",
   "nbconvert_exporter": "python",
   "pygments_lexer": "ipython3",
   "version": "3.6.5"
  }
 },
 "nbformat": 4,
 "nbformat_minor": 2
}
