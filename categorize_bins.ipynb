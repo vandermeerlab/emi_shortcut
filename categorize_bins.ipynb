{
 "cells": [
  {
   "cell_type": "code",
   "execution_count": null,
   "metadata": {
    "ExecuteTime": {
     "end_time": "2018-07-25T17:04:44.191110Z",
     "start_time": "2018-07-25T17:04:43.244034Z"
    },
    "collapsed": true
   },
   "outputs": [],
   "source": [
    "%matplotlib inline\n",
    "import matplotlib.pyplot as plt\n",
    "import numpy as np\n",
    "import scipy\n",
    "from shapely.geometry import Point, LineString\n",
    "import os\n",
    "import nept\n",
    "\n",
    "from loading_data import get_data"
   ]
  },
  {
   "cell_type": "code",
   "execution_count": null,
   "metadata": {
    "ExecuteTime": {
     "end_time": "2018-07-25T17:19:01.783536Z",
     "start_time": "2018-07-25T17:19:01.779539Z"
    },
    "collapsed": true
   },
   "outputs": [],
   "source": [
    "import info.r067d1 as info\n",
    "from run import spike_sorted_infos\n",
    "infos = spike_sorted_infos"
   ]
  },
  {
   "cell_type": "code",
   "execution_count": null,
   "metadata": {
    "collapsed": true
   },
   "outputs": [],
   "source": [
    "thisdir = os.getcwd()\n",
    "pickle_filepath = os.path.join(thisdir, \"cache\", \"pickled\")\n",
    "output_filepath = os.path.join(thisdir, \"plots\", \"maze-zones\")\n",
    "if not os.path.exists(output_filepath):\n",
    "    os.makedirs(output_filepath)"
   ]
  },
  {
   "cell_type": "code",
   "execution_count": null,
   "metadata": {
    "ExecuteTime": {
     "end_time": "2018-07-25T18:03:20.916998Z",
     "start_time": "2018-07-25T18:03:20.907004Z"
    },
    "collapsed": true
   },
   "outputs": [],
   "source": [
    "def expand_line(start_pt, stop_pt, line, expand_by):\n",
    "    \"\"\"Expands shapely line into a zone.\n",
    "\n",
    "    Parameters\n",
    "    ----------\n",
    "    start_pt : shapely.Point\n",
    "    stop_pt : shapely.Point\n",
    "    line : shapely.LineString\n",
    "    expand_by : int or float\n",
    "\n",
    "    Returns\n",
    "    -------\n",
    "    zone : shapely.Polygon\n",
    "\n",
    "    \"\"\"\n",
    "    line_expanded = line.buffer(expand_by)\n",
    "    zone = start_pt.union(line_expanded).union(stop_pt)\n",
    "\n",
    "    return zone\n",
    "\n",
    "\n",
    "def find_zones(info, remove_feeder, expand_by):\n",
    "    \"\"\"Finds zones from ideal trajectories.\n",
    "\n",
    "    Parameters\n",
    "    ----------\n",
    "    info : shortcut module\n",
    "    remove_feeder: boolean\n",
    "    expand_by : int or float\n",
    "        Amount to expand the line.\n",
    "\n",
    "    Returns\n",
    "    -------\n",
    "    zone : dict\n",
    "        With shapely.Polygon as values.\n",
    "        Keys are u, shortcut, novel.\n",
    "\n",
    "    \"\"\"\n",
    "    u_line = LineString(info.u_trajectory)\n",
    "    shortcut_line = LineString(info.shortcut_trajectory)\n",
    "    novel_line = LineString(info.novel_trajectory)\n",
    "\n",
    "    feeder1 = Point(info.path_pts['feeder1'][0], info.path_pts['feeder1'][1]).buffer(expand_by*1.2)\n",
    "    feeder2 = Point(info.path_pts['feeder2'][0], info.path_pts['feeder2'][1]).buffer(expand_by*1.2)\n",
    "\n",
    "    u_zone = expand_line(Point(info.u_trajectory[0]), \n",
    "                         Point(info.u_trajectory[-1]), \n",
    "                         u_line, expand_by)\n",
    "    shortcut_zone = expand_line(Point(info.shortcut_trajectory[0]), \n",
    "                                Point(info.shortcut_trajectory[-1]), \n",
    "                                shortcut_line, expand_by)\n",
    "    novel_zone = expand_line(Point(info.novel_trajectory[0]), \n",
    "                             Point(info.novel_trajectory[-1]), \n",
    "                             novel_line, expand_by)\n",
    "\n",
    "    zone = dict()\n",
    "    zone['u'] = u_zone\n",
    "    zone['shortcut'] = shortcut_zone.difference(u_zone)\n",
    "    zone['shortcut'] = zone['shortcut'].difference(novel_zone)\n",
    "    zone['novel'] = novel_zone.difference(u_zone)\n",
    "\n",
    "    if remove_feeder:\n",
    "        for feeder in [feeder1, feeder2]:\n",
    "            zone['u'] = zone['u'].difference(feeder)\n",
    "            zone['shortcut'] = zone['shortcut'].difference(feeder)\n",
    "            zone['novel'] = zone['novel'].difference(feeder)\n",
    "\n",
    "    return zone"
   ]
  },
  {
   "cell_type": "code",
   "execution_count": null,
   "metadata": {
    "ExecuteTime": {
     "end_time": "2018-07-25T18:03:48.427933Z",
     "start_time": "2018-07-25T18:03:20.918996Z"
    },
    "scrolled": true
   },
   "outputs": [],
   "source": [
    "for info in infos:\n",
    "    print(info.session_id)\n",
    "    events, position, spikes, _, _ = get_data(info)\n",
    "    xedge, yedge = nept.get_xyedges(position, binsize=8)\n",
    "\n",
    "    binned_maze_shape = (len(yedge)-1, len(xedge)-1)\n",
    "    xx, yy = np.meshgrid(xedge, yedge)\n",
    "\n",
    "    zones = find_zones(info, remove_feeder=True, expand_by=15)\n",
    "\n",
    "    xcenters = xedge[:-1] + (xedge[1:] - xedge[:-1]) / 2\n",
    "    ycenters = yedge[:-1] + (yedge[1:] - yedge[:-1]) / 2\n",
    "\n",
    "    u_zone = np.zeros(binned_maze_shape).astype(bool)\n",
    "    shortcut_zone = np.zeros(binned_maze_shape).astype(bool)\n",
    "    novel_zone = np.zeros(binned_maze_shape).astype(bool)\n",
    "\n",
    "    for i, x in enumerate(xcenters):\n",
    "        for j, y in enumerate(ycenters):\n",
    "            if zones[\"u\"].contains(Point(x,y)):\n",
    "                u_zone[j][i] = True\n",
    "            elif zones[\"shortcut\"].contains(Point(x,y)):\n",
    "                shortcut_zone[j][i] = True\n",
    "            elif zones[\"novel\"].contains(Point(x,y)):\n",
    "                novel_zone[j][i] = True\n",
    "\n",
    "    sliced_position = position.time_slice(info.task_times[\"phase3\"].start, info.task_times[\"phase3\"].stop)\n",
    "    occupancy = nept.get_occupancy(sliced_position, yedge, xedge)\n",
    "\n",
    "    u_pos = np.zeros(binned_maze_shape).astype(bool)\n",
    "    u_pos[occupancy > 0.] = True\n",
    "    u_area = np.zeros(binned_maze_shape).astype(bool)\n",
    "    u_area[u_pos & u_zone] = True\n",
    "\n",
    "    shortcut_pos = np.zeros(binned_maze_shape).astype(bool)\n",
    "    shortcut_pos[(occupancy > 0.) & (~u_area)] = True\n",
    "    shortcut_area = np.zeros(binned_maze_shape).astype(bool)\n",
    "    shortcut_area[shortcut_pos & shortcut_zone] = True\n",
    "\n",
    "    novel_pos = np.zeros(binned_maze_shape).astype(bool)\n",
    "    novel_pos[(occupancy > 0.) & (~u_area)] = True\n",
    "    novel_area = np.zeros(binned_maze_shape).astype(bool)\n",
    "    novel_area[novel_pos & novel_zone] = True\n",
    "\n",
    "    combined = np.zeros(binned_maze_shape)\n",
    "    combined[u_area] = 1\n",
    "    combined[shortcut_area] = 2\n",
    "    combined[novel_area] = 3\n",
    "\n",
    "    plt.figure()\n",
    "    pp = plt.pcolormesh(xx, yy, combined, cmap=\"PuBuGn\")\n",
    "    plt.plot(position.x, position.y, \"k.\", ms=2)\n",
    "    plt.tight_layout()\n",
    "    filename = info.session_id + \"_maze-zones.png\"\n",
    "    plt.savefig(os.path.join(output_filepath, filename))\n",
    "    plt.close()\n",
    "#     plt.show()"
   ]
  },
  {
   "cell_type": "code",
   "execution_count": null,
   "metadata": {
    "collapsed": true
   },
   "outputs": [],
   "source": []
  },
  {
   "cell_type": "code",
   "execution_count": null,
   "metadata": {
    "collapsed": true
   },
   "outputs": [],
   "source": []
  },
  {
   "cell_type": "code",
   "execution_count": null,
   "metadata": {
    "collapsed": true
   },
   "outputs": [],
   "source": []
  },
  {
   "cell_type": "code",
   "execution_count": null,
   "metadata": {
    "collapsed": true
   },
   "outputs": [],
   "source": []
  },
  {
   "cell_type": "code",
   "execution_count": null,
   "metadata": {
    "ExecuteTime": {
     "end_time": "2018-07-25T17:46:36.629384Z",
     "start_time": "2018-07-25T17:46:36.625386Z"
    },
    "collapsed": true
   },
   "outputs": [],
   "source": [
    "import info.r068d6 as info"
   ]
  },
  {
   "cell_type": "code",
   "execution_count": null,
   "metadata": {
    "ExecuteTime": {
     "end_time": "2018-07-25T17:46:37.554892Z",
     "start_time": "2018-07-25T17:46:36.913221Z"
    },
    "collapsed": true
   },
   "outputs": [],
   "source": [
    "_, position, _, _, _ = get_data(info)"
   ]
  },
  {
   "cell_type": "code",
   "execution_count": null,
   "metadata": {
    "ExecuteTime": {
     "end_time": "2018-07-25T17:46:37.853740Z",
     "start_time": "2018-07-25T17:46:37.555892Z"
    }
   },
   "outputs": [],
   "source": [
    "plt.plot(position.x, position.y, \"r.\", ms=5)\n",
    "plt.plot(53, 133, \"k.\")\n",
    "plt.plot(53, 123, \"k.\")\n",
    "plt.show()"
   ]
  },
  {
   "cell_type": "code",
   "execution_count": null,
   "metadata": {
    "ExecuteTime": {
     "end_time": "2018-07-25T17:56:35.804821Z",
     "start_time": "2018-07-25T17:56:35.796845Z"
    },
    "collapsed": true
   },
   "outputs": [],
   "source": [
    "idx = nept.find_nearest_idx(position.time, 2574.3)"
   ]
  },
  {
   "cell_type": "code",
   "execution_count": null,
   "metadata": {},
   "outputs": [],
   "source": [
    "idx = 26963"
   ]
  },
  {
   "cell_type": "code",
   "execution_count": null,
   "metadata": {
    "ExecuteTime": {
     "end_time": "2018-07-25T17:59:28.454750Z",
     "start_time": "2018-07-25T17:59:28.450752Z"
    }
   },
   "outputs": [],
   "source": [
    "s = 1000\n",
    "e = 50000"
   ]
  },
  {
   "cell_type": "code",
   "execution_count": null,
   "metadata": {
    "ExecuteTime": {
     "end_time": "2018-07-25T17:59:28.822189Z",
     "start_time": "2018-07-25T17:59:28.699242Z"
    }
   },
   "outputs": [],
   "source": [
    "ee = s+200\n",
    "# plt.plot(position.time[idx], position.y[idx], \"b.\", ms=20)\n",
    "plt.plot(position.x[s:e], position.y[s:e], \"r.\", ms=4)\n",
    "# plt.plot(position.time[s:ee], position.y[s:ee], \"k.\", ms=10)\n",
    "plt.show()"
   ]
  },
  {
   "cell_type": "code",
   "execution_count": null,
   "metadata": {
    "ExecuteTime": {
     "end_time": "2018-07-25T17:57:26.736223Z",
     "start_time": "2018-07-25T17:57:26.731246Z"
    }
   },
   "outputs": [],
   "source": [
    "position.time[idx]"
   ]
  },
  {
   "cell_type": "code",
   "execution_count": null,
   "metadata": {
    "ExecuteTime": {
     "end_time": "2018-07-25T17:53:58.681587Z",
     "start_time": "2018-07-25T17:53:58.675608Z"
    }
   },
   "outputs": [],
   "source": [
    "position.time[s:e]"
   ]
  },
  {
   "cell_type": "code",
   "execution_count": null,
   "metadata": {
    "ExecuteTime": {
     "end_time": "2018-07-25T17:17:02.431396Z",
     "start_time": "2018-07-25T17:17:02.426380Z"
    }
   },
   "outputs": [],
   "source": [
    "81925+7"
   ]
  },
  {
   "cell_type": "code",
   "execution_count": null,
   "metadata": {
    "collapsed": true
   },
   "outputs": [],
   "source": []
  }
 ],
 "metadata": {
  "kernelspec": {
   "display_name": "Python 3",
   "language": "python",
   "name": "python3"
  },
  "language_info": {
   "codemirror_mode": {
    "name": "ipython",
    "version": 3
   },
   "file_extension": ".py",
   "mimetype": "text/x-python",
   "name": "python",
   "nbconvert_exporter": "python",
   "pygments_lexer": "ipython3",
   "version": "3.6.5"
  },
  "toc": {
   "colors": {
    "hover_highlight": "#DAA520",
    "running_highlight": "#FF0000",
    "selected_highlight": "#FFD700"
   },
   "moveMenuLeft": true,
   "nav_menu": {
    "height": "12px",
    "width": "252px"
   },
   "navigate_menu": true,
   "number_sections": true,
   "sideBar": true,
   "threshold": 4,
   "toc_cell": false,
   "toc_section_display": "block",
   "toc_window_display": false
  }
 },
 "nbformat": 4,
 "nbformat_minor": 2
}
