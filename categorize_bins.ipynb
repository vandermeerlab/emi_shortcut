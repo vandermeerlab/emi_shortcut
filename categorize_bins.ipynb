{
 "cells": [
  {
   "cell_type": "code",
   "execution_count": null,
   "metadata": {
    "ExecuteTime": {
     "end_time": "2018-08-27T18:32:02.584314Z",
     "start_time": "2018-08-27T18:32:01.486571Z"
    }
   },
   "outputs": [],
   "source": [
    "%matplotlib inline\n",
    "import matplotlib.pyplot as plt\n",
    "import numpy as np\n",
    "import scipy\n",
    "from shapely.geometry import Point, LineString\n",
    "import os\n",
    "import nept\n",
    "\n",
    "from loading_data import get_data\n",
    "from utils_maze import get_bin_centers"
   ]
  },
  {
   "cell_type": "code",
   "execution_count": null,
   "metadata": {
    "ExecuteTime": {
     "end_time": "2018-08-27T18:32:02.618272Z",
     "start_time": "2018-08-27T18:32:02.586305Z"
    }
   },
   "outputs": [],
   "source": [
    "# import info.r067d1 as info\n",
    "from run import analysis_infos\n",
    "infos = analysis_infos"
   ]
  },
  {
   "cell_type": "code",
   "execution_count": null,
   "metadata": {
    "ExecuteTime": {
     "end_time": "2018-08-27T18:32:02.623269Z",
     "start_time": "2018-08-27T18:32:02.619270Z"
    }
   },
   "outputs": [],
   "source": [
    "thisdir = os.getcwd()\n",
    "pickle_filepath = os.path.join(thisdir, \"cache\", \"pickled\")\n",
    "output_filepath = os.path.join(thisdir, \"plots\", \"maze-zones\")\n",
    "if not os.path.exists(output_filepath):\n",
    "    os.makedirs(output_filepath)"
   ]
  },
  {
   "cell_type": "code",
   "execution_count": null,
   "metadata": {
    "ExecuteTime": {
     "end_time": "2018-08-27T18:32:02.640259Z",
     "start_time": "2018-08-27T18:32:02.625266Z"
    }
   },
   "outputs": [],
   "source": [
    "def expand_line(start_pt, stop_pt, line, expand_by):\n",
    "    \"\"\"Expands shapely line into a zone.\n",
    "\n",
    "    Parameters\n",
    "    ----------\n",
    "    start_pt : shapely.Point\n",
    "    stop_pt : shapely.Point\n",
    "    line : shapely.LineString\n",
    "    expand_by : int or float\n",
    "\n",
    "    Returns\n",
    "    -------\n",
    "    zone : shapely.Polygon\n",
    "\n",
    "    \"\"\"\n",
    "    line_expanded = line.buffer(expand_by)\n",
    "    zone = start_pt.union(line_expanded).union(stop_pt)\n",
    "\n",
    "    return zone\n",
    "\n",
    "\n",
    "def find_zones(info, remove_feeder, expand_by):\n",
    "    \"\"\"Finds zones from ideal trajectories.\n",
    "\n",
    "    Parameters\n",
    "    ----------\n",
    "    info : shortcut module\n",
    "    remove_feeder: boolean\n",
    "    expand_by : int or float\n",
    "        Amount to expand the line.\n",
    "\n",
    "    Returns\n",
    "    -------\n",
    "    zone : dict\n",
    "        With shapely.Polygon as values.\n",
    "        Keys are u, shortcut, novel.\n",
    "\n",
    "    \"\"\"\n",
    "    u_line = LineString(info.u_trajectory)\n",
    "    shortcut_line = LineString(info.shortcut_trajectory)\n",
    "    novel_line = LineString(info.novel_trajectory)\n",
    "\n",
    "    feeder1 = Point(info.path_pts['feeder1'][0], info.path_pts['feeder1'][1]).buffer(expand_by*1.3)\n",
    "    feeder2 = Point(info.path_pts['feeder2'][0], info.path_pts['feeder2'][1]).buffer(expand_by*1.3)\n",
    "\n",
    "    u_zone = expand_line(Point(info.u_trajectory[0]), \n",
    "                         Point(info.u_trajectory[-1]), \n",
    "                         u_line, expand_by)\n",
    "    shortcut_zone = expand_line(Point(info.shortcut_trajectory[0]), \n",
    "                                Point(info.shortcut_trajectory[-1]), \n",
    "                                shortcut_line, expand_by)\n",
    "    novel_zone = expand_line(Point(info.novel_trajectory[0]), \n",
    "                             Point(info.novel_trajectory[-1]), \n",
    "                             novel_line, expand_by)\n",
    "\n",
    "    zone = dict()\n",
    "    zone['u'] = u_zone\n",
    "    zone['shortcut'] = shortcut_zone.difference(u_zone)\n",
    "    zone['shortcut'] = zone['shortcut'].difference(novel_zone)\n",
    "    zone['novel'] = novel_zone.difference(u_zone)\n",
    "\n",
    "    if remove_feeder:\n",
    "        for feeder in [feeder1, feeder2]:\n",
    "            zone['u'] = zone['u'].difference(feeder)\n",
    "            zone['shortcut'] = zone['shortcut'].difference(feeder)\n",
    "            zone['novel'] = zone['novel'].difference(feeder)\n",
    "\n",
    "    return zone\n",
    "\n",
    "\n",
    "def find_subset_zones(info, remove_feeder, expand_by):\n",
    "    \"\"\"Finds zones from ideal trajectories.\n",
    "\n",
    "    Parameters\n",
    "    ----------\n",
    "    info : shortcut module\n",
    "    remove_feeder: boolean\n",
    "    expand_by : int or float\n",
    "        Amount to expand the line.\n",
    "\n",
    "    Returns\n",
    "    -------\n",
    "    zone : dict\n",
    "        With shapely.Polygon as values.\n",
    "        Keys are u, shortcut, novel.\n",
    "\n",
    "    \"\"\"\n",
    "    u_line = LineString(info.u_trajectory)\n",
    "    shortcut_line = LineString(info.shortcut_trajectory)\n",
    "    novel_line = LineString(info.novel_trajectory)\n",
    "    u_subset_line = LineString(info.u_segment)\n",
    "\n",
    "    feeder1 = Point(info.path_pts['feeder1'][0], info.path_pts['feeder1'][1]).buffer(expand_by*1.3)\n",
    "    feeder2 = Point(info.path_pts['feeder2'][0], info.path_pts['feeder2'][1]).buffer(expand_by*1.3)\n",
    "\n",
    "    u_zone = expand_line(Point(info.u_trajectory[0]), \n",
    "                         Point(info.u_trajectory[-1]), \n",
    "                         u_line, expand_by)\n",
    "    shortcut_zone = expand_line(Point(info.shortcut_trajectory[0]), \n",
    "                                Point(info.shortcut_trajectory[-1]), \n",
    "                                shortcut_line, expand_by)\n",
    "    novel_zone = expand_line(Point(info.novel_trajectory[0]), \n",
    "                             Point(info.novel_trajectory[-1]), \n",
    "                             novel_line, expand_by)\n",
    "    u_subset_zone = expand_line(Point(info.u_segment[0]),\n",
    "                                Point(info.u_segment[-1]),\n",
    "                                u_subset_line, expand_by)\n",
    "\n",
    "    zone = dict()\n",
    "    zone['u'] = u_subset_zone\n",
    "    zone['shortcut'] = shortcut_zone.difference(u_zone)\n",
    "    zone['shortcut'] = zone['shortcut'].difference(novel_zone)\n",
    "    zone['novel'] = novel_zone.difference(u_zone)\n",
    "\n",
    "    if remove_feeder:\n",
    "        for feeder in [feeder1, feeder2]:\n",
    "            zone['u'] = zone['u'].difference(feeder)\n",
    "            zone['shortcut'] = zone['shortcut'].difference(feeder)\n",
    "            zone['novel'] = zone['novel'].difference(feeder)\n",
    "\n",
    "    return zone"
   ]
  },
  {
   "cell_type": "code",
   "execution_count": null,
   "metadata": {
    "ExecuteTime": {
     "end_time": "2018-08-27T18:32:20.611723Z",
     "start_time": "2018-08-27T18:32:02.641258Z"
    },
    "scrolled": false
   },
   "outputs": [],
   "source": [
    "for info in infos:\n",
    "    print(info.session_id)\n",
    "    events, position, spikes, _, _ = get_data(info)\n",
    "\n",
    "    binned_maze_shape = (len(info.yedges)-1, len(info.xedges)-1)\n",
    "    xx, yy = np.meshgrid(info.xedges, info.yedges)\n",
    "\n",
    "    zones = find_subset_zones(info, remove_feeder=True, expand_by=15)\n",
    "\n",
    "    xcenters, ycenters = get_bin_centers(info)\n",
    "\n",
    "    u_zone = np.zeros(binned_maze_shape).astype(bool)\n",
    "    shortcut_zone = np.zeros(binned_maze_shape).astype(bool)\n",
    "    novel_zone = np.zeros(binned_maze_shape).astype(bool)\n",
    "\n",
    "    for i, x in enumerate(xcenters):\n",
    "        for j, y in enumerate(ycenters):\n",
    "            if zones[\"u\"].contains(Point(x,y)):\n",
    "                u_zone[j][i] = True\n",
    "            elif zones[\"shortcut\"].contains(Point(x,y)):\n",
    "                shortcut_zone[j][i] = True\n",
    "            elif zones[\"novel\"].contains(Point(x,y)):\n",
    "                novel_zone[j][i] = True\n",
    "\n",
    "    sliced_position = position.time_slice(info.task_times[\"phase3\"].start, info.task_times[\"phase3\"].stop)\n",
    "    occupancy = nept.get_occupancy(sliced_position, info.yedges, info.xedges)\n",
    "\n",
    "    phase1_position = position.time_slice(info.task_times[\"phase1\"].start, info.task_times[\"phase1\"].stop)\n",
    "    phase1_occupancy = nept.get_occupancy(phase1_position, info.yedges, info.xedges)\n",
    "    phase2_position = position.time_slice(info.task_times[\"phase2\"].start, info.task_times[\"phase2\"].stop)\n",
    "    phase2_occupancy = nept.get_occupancy(phase2_position, info.yedges, info.xedges)\n",
    "    u_pos = np.zeros(binned_maze_shape).astype(bool)\n",
    "    u_pos[occupancy > 0.] = True\n",
    "    u_pos[phase1_occupancy > 0.] = True\n",
    "    u_pos[phase2_occupancy > 0.] = True\n",
    "    u_area = np.zeros(binned_maze_shape).astype(bool)\n",
    "    u_area[u_pos & u_zone] = True\n",
    "\n",
    "    shortcut_pos = np.zeros(binned_maze_shape).astype(bool)\n",
    "    shortcut_pos[(occupancy > 0.) & (~u_area)] = True\n",
    "    shortcut_area = np.zeros(binned_maze_shape).astype(bool)\n",
    "    shortcut_area[shortcut_pos & shortcut_zone] = True\n",
    "\n",
    "    novel_pos = np.zeros(binned_maze_shape).astype(bool)\n",
    "    novel_pos[(occupancy > 0.) & (~u_area)] = True\n",
    "    novel_area = np.zeros(binned_maze_shape).astype(bool)\n",
    "    novel_area[novel_pos & novel_zone] = True\n",
    "\n",
    "    combined = np.zeros(binned_maze_shape)\n",
    "    combined[u_area] = 1\n",
    "    combined[shortcut_area] = 2\n",
    "    combined[novel_area] = 3\n",
    "\n"
   ]
  },
  {
   "cell_type": "code",
   "execution_count": null,
   "metadata": {
    "ExecuteTime": {
     "end_time": "2018-08-27T18:32:20.849589Z",
     "start_time": "2018-08-27T18:32:20.613723Z"
    }
   },
   "outputs": [],
   "source": [
    "plt.figure()\n",
    "pp = plt.pcolormesh(xx, yy, combined, cmap=\"PuBuGn\")\n",
    "plt.plot(position.x, position.y, \"k.\", ms=2)\n",
    "plt.tight_layout()\n",
    "filename = info.session_id + \"_maze-zones_subset.png\"\n",
    "savepath = os.path.join(output_filepath, \"subsets\")\n",
    "if not os.path.exists(savepath):\n",
    "    os.makedirs(savepath)\n",
    "# plt.savefig(os.path.join(savepath, filename))\n",
    "# plt.close()\n",
    "plt.show()"
   ]
  },
  {
   "cell_type": "code",
   "execution_count": null,
   "metadata": {
    "ExecuteTime": {
     "end_time": "2018-08-27T18:32:20.855586Z",
     "start_time": "2018-08-27T18:32:20.850588Z"
    }
   },
   "outputs": [],
   "source": [
    "novel_area"
   ]
  },
  {
   "cell_type": "code",
   "execution_count": null,
   "metadata": {
    "ExecuteTime": {
     "end_time": "2018-08-27T18:32:20.869595Z",
     "start_time": "2018-08-27T18:32:20.857584Z"
    }
   },
   "outputs": [],
   "source": [
    "combined"
   ]
  },
  {
   "cell_type": "code",
   "execution_count": null,
   "metadata": {
    "ExecuteTime": {
     "end_time": "2018-08-27T18:32:20.877573Z",
     "start_time": "2018-08-27T18:32:20.870576Z"
    }
   },
   "outputs": [],
   "source": [
    "# import info.r063d7 as r063\n",
    "# import info.r066d7 as r066\n",
    "# import info.r067d3 as r067\n",
    "# import info.r068d6 as r068\n",
    "\n",
    "# # infos = [r066, r067, r068]\n",
    "# infos = [r067]\n",
    "\n",
    "# for info in infos:\n",
    "#     print(info.session_id)\n",
    "#     _, position, _, _, _ = get_data(info)\n",
    "#     u_segment = [info.path_pts[i] for i in ['turn1', 'pt1', 'turn2']]\n",
    "\n",
    "#     plt.plot(position.x, position.y, \"y.\")\n",
    "#     for yy in u_segment:\n",
    "#         plt.plot(yy[0], yy[1], \"b.\")\n",
    "#     plt.show()"
   ]
  },
  {
   "cell_type": "code",
   "execution_count": null,
   "metadata": {},
   "outputs": [],
   "source": []
  }
 ],
 "metadata": {
  "kernelspec": {
   "display_name": "Python 3",
   "language": "python",
   "name": "python3"
  },
  "language_info": {
   "codemirror_mode": {
    "name": "ipython",
    "version": 3
   },
   "file_extension": ".py",
   "mimetype": "text/x-python",
   "name": "python",
   "nbconvert_exporter": "python",
   "pygments_lexer": "ipython3",
   "version": "3.6.5"
  },
  "toc": {
   "colors": {
    "hover_highlight": "#DAA520",
    "running_highlight": "#FF0000",
    "selected_highlight": "#FFD700"
   },
   "moveMenuLeft": true,
   "nav_menu": {
    "height": "12px",
    "width": "252px"
   },
   "navigate_menu": true,
   "number_sections": true,
   "sideBar": true,
   "threshold": 4,
   "toc_cell": false,
   "toc_section_display": "block",
   "toc_window_display": false
  }
 },
 "nbformat": 4,
 "nbformat_minor": 2
}
