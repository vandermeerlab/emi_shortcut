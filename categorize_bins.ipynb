{
 "cells": [
  {
   "cell_type": "code",
   "execution_count": null,
   "metadata": {
    "collapsed": true
   },
   "outputs": [],
   "source": [
    "%matplotlib inline\n",
    "import matplotlib.pyplot as plt\n",
    "from matplotlib import gridspec\n",
    "import matplotlib\n",
    "import numpy as np\n",
    "import itertools\n",
    "import scipy\n",
    "import pandas as pd\n",
    "import seaborn as sns\n",
    "from scipy import stats\n",
    "import os\n",
    "import nept\n",
    "\n",
    "from loading_data import get_data\n",
    "from analyze_tuning_curves import get_only_tuning_curves\n",
    "from analyze_decode_bytrial import decode_trial\n",
    "from analyze_decode import get_decoded_zones\n",
    "from utils_maze import find_zones, get_trials, get_zones, get_trial_idx"
   ]
  },
  {
   "cell_type": "code",
   "execution_count": null,
   "metadata": {
    "collapsed": true
   },
   "outputs": [],
   "source": [
    "import info.r063d2 as info"
   ]
  },
  {
   "cell_type": "code",
   "execution_count": null,
   "metadata": {
    "collapsed": true
   },
   "outputs": [],
   "source": [
    "events, position, spikes, _, _ = get_data(info)\n",
    "xedge, yedge = nept.get_xyedges(position, binsize=8)"
   ]
  },
  {
   "cell_type": "code",
   "execution_count": null,
   "metadata": {},
   "outputs": [],
   "source": [
    "len(xedge), len(yedge)"
   ]
  },
  {
   "cell_type": "code",
   "execution_count": null,
   "metadata": {
    "collapsed": true
   },
   "outputs": [],
   "source": [
    "phase = \"phase3\"\n",
    "t_start = info.task_times[phase].start\n",
    "t_stop = info.task_times[phase].stop\n",
    "\n",
    "sliced_pos = position.time_slice(t_start, t_stop)\n",
    "\n",
    "feeder1_times = []\n",
    "for feeder1 in events['feeder1']:\n",
    "    if t_start < feeder1 < t_stop:\n",
    "        feeder1_times.append(feeder1)\n",
    "\n",
    "feeder2_times = []\n",
    "for feeder2 in events['feeder2']:\n",
    "    if t_start < feeder2 < t_stop:\n",
    "        feeder2_times.append(feeder2)\n",
    "\n",
    "path_pos = get_zones(info, sliced_pos)\n",
    "\n",
    "trials_idx, trial_epochs = get_trial_idx(path_pos['u'].time, \n",
    "                                         path_pos['shortcut'].time, \n",
    "                                         path_pos['novel'].time,\n",
    "                                         feeder1_times, \n",
    "                                         feeder2_times, \n",
    "                                         t_stop)\n",
    "\n",
    "shortcut_epochs = [trial_epochs[idx] for idx in trials_idx[\"shortcut\"]]\n",
    "u_epochs = [trial_epochs[idx] for idx in trials_idx[\"u\"]]\n",
    "novel_epochs = [trial_epochs[idx] for idx in trials_idx[\"novel\"]]"
   ]
  },
  {
   "cell_type": "code",
   "execution_count": null,
   "metadata": {},
   "outputs": [],
   "source": [
    "plt.plot(position.x, position.y, \".\")\n",
    "plt.show()"
   ]
  },
  {
   "cell_type": "code",
   "execution_count": null,
   "metadata": {},
   "outputs": [],
   "source": [
    "binned_maze_shape = (len(yedge)-1, len(xedge)-1)"
   ]
  },
  {
   "cell_type": "code",
   "execution_count": null,
   "metadata": {
    "collapsed": true
   },
   "outputs": [],
   "source": [
    "xx, yy = np.meshgrid(xedge, yedge)"
   ]
  },
  {
   "cell_type": "code",
   "execution_count": null,
   "metadata": {},
   "outputs": [],
   "source": [
    "u_pos = np.zeros(binned_maze_shape).astype(bool)\n",
    "\n",
    "u_position = position.time_slice(info.task_times[\"phase1\"].start, info.task_times[\"phase1\"].stop)\n",
    "u_occupancy = nept.get_occupancy(u_position, yedge, xedge)\n",
    "u_pos[u_occupancy > 0.] = True\n",
    "\n",
    "u_position = position.time_slice(info.task_times[\"phase2\"].start, info.task_times[\"phase2\"].stop)\n",
    "u_occupancy = nept.get_occupancy(u_position, yedge, xedge)\n",
    "u_pos[u_occupancy > 0.] = True"
   ]
  },
  {
   "cell_type": "code",
   "execution_count": null,
   "metadata": {},
   "outputs": [],
   "source": [
    "plt.figure()\n",
    "pp = plt.pcolormesh(xx, yy, u_pos, cmap=\"Greys\")\n",
    "colourbar = plt.colorbar(pp)\n",
    "plt.tight_layout()"
   ]
  },
  {
   "cell_type": "code",
   "execution_count": null,
   "metadata": {},
   "outputs": [],
   "source": [
    "filtered = scipy.signal.convolve2d(u_pos, kernel, mode='same')"
   ]
  },
  {
   "cell_type": "code",
   "execution_count": null,
   "metadata": {},
   "outputs": [],
   "source": [
    "plt.figure()\n",
    "pp = plt.pcolormesh(xx, yy, u_area, cmap=\"Greys\")\n",
    "colourbar = plt.colorbar(pp)\n",
    "plt.tight_layout()"
   ]
  },
  {
   "cell_type": "code",
   "execution_count": null,
   "metadata": {
    "collapsed": true
   },
   "outputs": [],
   "source": [
    "u_area =  np.zeros(binned_maze_shape).astype(bool)\n",
    "filtered = scipy.signal.convolve2d(u_pos, kernel, mode='same')\n",
    "u_area[filtered>0] = True"
   ]
  },
  {
   "cell_type": "code",
   "execution_count": null,
   "metadata": {
    "collapsed": true
   },
   "outputs": [],
   "source": [
    "\n",
    "filtered = scipy.signal.convolve2d(shortcut_pos, kernel, mode='same')\n",
    "shortcut_area[filtered>0] = True"
   ]
  },
  {
   "cell_type": "code",
   "execution_count": null,
   "metadata": {
    "collapsed": true
   },
   "outputs": [],
   "source": [
    "novel_area =  np.zeros(binned_maze_shape).astype(bool)\n",
    "filtered = scipy.signal.convolve2d(novel_pos, kernel, mode='same')\n",
    "novel_area[filtered>0] = True"
   ]
  },
  {
   "cell_type": "code",
   "execution_count": null,
   "metadata": {},
   "outputs": [],
   "source": [
    "plt.figure()\n",
    "pp = plt.pcolormesh(xx, yy, novel_area, cmap=\"Greys\")\n",
    "colourbar = plt.colorbar(pp)\n",
    "plt.tight_layout()"
   ]
  },
  {
   "cell_type": "code",
   "execution_count": null,
   "metadata": {
    "collapsed": true
   },
   "outputs": [],
   "source": [
    "shortcut_area =  np.zeros(binned_maze_shape).astype(bool)\n",
    "shortcut_pos = np.zeros(binned_maze_shape).astype(bool)\n",
    "\n",
    "shortcut_position = position.time_slice(info.task_times[\"phase3\"].start, info.task_times[\"phase3\"].stop)\n",
    "shortcut_occupancy = nept.get_occupancy(shortcut_position, yedge, xedge)\n",
    "shortcut_pos[(shortcut_occupancy > 0.1) & (~u_area)] = True\n",
    "filtered = scipy.signal.convolve2d(shortcut_pos, kernel, mode='same')\n",
    "shortcut_pos[filtered<=1] = False\n",
    "filtered = scipy.signal.convolve2d(shortcut_pos, kernel, mode='same')\n",
    "shortcut_area[filtered>0] = True"
   ]
  },
  {
   "cell_type": "code",
   "execution_count": null,
   "metadata": {},
   "outputs": [],
   "source": [
    "plt.figure()\n",
    "pp = plt.pcolormesh(xx, yy, shortcut_pos, cmap=\"Greys\")\n",
    "colourbar = plt.colorbar(pp)\n",
    "plt.tight_layout()"
   ]
  },
  {
   "cell_type": "code",
   "execution_count": null,
   "metadata": {
    "collapsed": true
   },
   "outputs": [],
   "source": []
  },
  {
   "cell_type": "code",
   "execution_count": null,
   "metadata": {
    "collapsed": true
   },
   "outputs": [],
   "source": []
  },
  {
   "cell_type": "code",
   "execution_count": null,
   "metadata": {
    "collapsed": true
   },
   "outputs": [],
   "source": []
  },
  {
   "cell_type": "code",
   "execution_count": null,
   "metadata": {
    "collapsed": true
   },
   "outputs": [],
   "source": []
  },
  {
   "cell_type": "code",
   "execution_count": null,
   "metadata": {
    "collapsed": true
   },
   "outputs": [],
   "source": [
    "kernel = [[0,1,0],[1,1,1],[0,1,0]]"
   ]
  },
  {
   "cell_type": "code",
   "execution_count": null,
   "metadata": {},
   "outputs": [],
   "source": [
    "shortcut_pos = np.zeros(binned_maze_shape).astype(bool)\n",
    "for epoch in shortcut_epochs:\n",
    "    shortcut_position = position.time_slice(epoch.start, epoch.stop)\n",
    "    shortcut_occupancy = nept.get_occupancy(shortcut_position, yedge, xedge)\n",
    "    shortcut_pos[(shortcut_occupancy > 0.04) & (~u_pos)] = True\n",
    "filtered = scipy.signal.convolve2d(shortcut_pos, kernel, mode='same')\n",
    "shortcut_pos[filtered<=1] = False"
   ]
  },
  {
   "cell_type": "code",
   "execution_count": null,
   "metadata": {},
   "outputs": [],
   "source": [
    "novel_pos = np.zeros(binned_maze_shape).astype(bool)\n",
    "for epoch in novel_epochs:\n",
    "    novel_position = position.time_slice(epoch.start, epoch.stop)\n",
    "    novel_occupancy = nept.get_occupancy(novel_position, yedge, xedge)\n",
    "    novel_pos[(novel_occupancy > 0.04) & (~doesthiswork) & (~shortcut_pos)] = True\n",
    "filtered = scipy.signal.convolve2d(novel_pos, kernel, mode='same')\n",
    "novel_pos[filtered<=1] = False"
   ]
  },
  {
   "cell_type": "code",
   "execution_count": null,
   "metadata": {},
   "outputs": [],
   "source": [
    "plt.figure()\n",
    "pp = plt.pcolormesh(xx, yy, novel_pos, cmap=\"Greys\")\n",
    "colourbar = plt.colorbar(pp)\n",
    "plt.tight_layout()"
   ]
  },
  {
   "cell_type": "code",
   "execution_count": null,
   "metadata": {},
   "outputs": [],
   "source": [
    "plt.figure()\n",
    "plt.pcolormesh(xx, yy, u_pos + shortcut_pos + novel_pos, cmap=\"Greys\")\n",
    "colourbar = plt.colorbar(pp)\n",
    "plt.tight_layout()"
   ]
  },
  {
   "cell_type": "code",
   "execution_count": null,
   "metadata": {
    "collapsed": true
   },
   "outputs": [],
   "source": []
  }
 ],
 "metadata": {
  "kernelspec": {
   "display_name": "Python 3",
   "language": "python",
   "name": "python3"
  },
  "language_info": {
   "codemirror_mode": {
    "name": "ipython",
    "version": 3
   },
   "file_extension": ".py",
   "mimetype": "text/x-python",
   "name": "python",
   "nbconvert_exporter": "python",
   "pygments_lexer": "ipython3",
   "version": "3.6.5"
  }
 },
 "nbformat": 4,
 "nbformat_minor": 2
}
