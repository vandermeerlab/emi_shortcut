{
 "cells": [
  {
   "cell_type": "code",
   "execution_count": null,
   "metadata": {
    "ExecuteTime": {
     "end_time": "2018-08-27T18:32:02.584314Z",
     "start_time": "2018-08-27T18:32:01.486571Z"
    },
    "collapsed": true
   },
   "outputs": [],
   "source": [
    "%matplotlib inline\n",
    "import matplotlib.pyplot as plt\n",
    "import numpy as np\n",
    "import scipy\n",
    "from shapely.geometry import Point, LineString\n",
    "import os\n",
    "import nept\n",
    "\n",
    "from loading_data import get_data\n",
    "from utils_maze import get_bin_centers, find_zones"
   ]
  },
  {
   "cell_type": "code",
   "execution_count": null,
   "metadata": {
    "ExecuteTime": {
     "end_time": "2018-08-27T18:32:02.618272Z",
     "start_time": "2018-08-27T18:32:02.586305Z"
    },
    "collapsed": true
   },
   "outputs": [],
   "source": [
    "# import info.r067d1 as info\n",
    "from run import analysis_infos\n",
    "infos = analysis_infos"
   ]
  },
  {
   "cell_type": "code",
   "execution_count": null,
   "metadata": {
    "ExecuteTime": {
     "end_time": "2018-08-27T18:32:02.623269Z",
     "start_time": "2018-08-27T18:32:02.619270Z"
    },
    "collapsed": true
   },
   "outputs": [],
   "source": [
    "thisdir = os.getcwd()\n",
    "pickle_filepath = os.path.join(thisdir, \"cache\", \"pickled\")\n",
    "output_filepath = os.path.join(thisdir, \"plots\", \"maze-zones\")\n",
    "if not os.path.exists(output_filepath):\n",
    "    os.makedirs(output_filepath)"
   ]
  },
  {
   "cell_type": "code",
   "execution_count": null,
   "metadata": {
    "ExecuteTime": {
     "end_time": "2018-08-27T18:32:20.611723Z",
     "start_time": "2018-08-27T18:32:02.641258Z"
    },
    "collapsed": true,
    "scrolled": false
   },
   "outputs": [],
   "source": [
    "for info in infos:\n",
    "    print(info.session_id)\n",
    "    events, position, spikes, _, _ = get_data(info)\n",
    "\n",
    "    binned_maze_shape = (len(info.yedges)-1, len(info.xedges)-1)\n",
    "    xx, yy = np.meshgrid(info.xedges, info.yedges)\n",
    "\n",
    "    zones = find_zones(info, remove_feeder=True, expand_by=15, subset=True)\n",
    "\n",
    "    xcenters, ycenters = get_bin_centers(info)\n",
    "\n",
    "    u_zone = np.zeros(binned_maze_shape).astype(bool)\n",
    "    shortcut_zone = np.zeros(binned_maze_shape).astype(bool)\n",
    "    novel_zone = np.zeros(binned_maze_shape).astype(bool)\n",
    "\n",
    "    for i, x in enumerate(xcenters):\n",
    "        for j, y in enumerate(ycenters):\n",
    "            if zones[\"u\"].contains(Point(x,y)):\n",
    "                u_zone[j][i] = True\n",
    "            elif zones[\"shortcut\"].contains(Point(x,y)):\n",
    "                shortcut_zone[j][i] = True\n",
    "            elif zones[\"novel\"].contains(Point(x,y)):\n",
    "                novel_zone[j][i] = True\n",
    "\n",
    "    sliced_position = position.time_slice(info.task_times[\"phase3\"].start, info.task_times[\"phase3\"].stop)\n",
    "    occupancy = nept.get_occupancy(sliced_position, info.yedges, info.xedges)\n",
    "\n",
    "    phase1_position = position.time_slice(info.task_times[\"phase1\"].start, info.task_times[\"phase1\"].stop)\n",
    "    phase1_occupancy = nept.get_occupancy(phase1_position, info.yedges, info.xedges)\n",
    "    phase2_position = position.time_slice(info.task_times[\"phase2\"].start, info.task_times[\"phase2\"].stop)\n",
    "    phase2_occupancy = nept.get_occupancy(phase2_position, info.yedges, info.xedges)\n",
    "    u_pos = np.zeros(binned_maze_shape).astype(bool)\n",
    "    u_pos[occupancy > 0.] = True\n",
    "    u_pos[phase1_occupancy > 0.] = True\n",
    "    u_pos[phase2_occupancy > 0.] = True\n",
    "    u_area = np.zeros(binned_maze_shape).astype(bool)\n",
    "    u_area[u_pos & u_zone] = True\n",
    "\n",
    "    shortcut_pos = np.zeros(binned_maze_shape).astype(bool)\n",
    "    shortcut_pos[(occupancy > 0.) & (~u_area)] = True\n",
    "    shortcut_area = np.zeros(binned_maze_shape).astype(bool)\n",
    "    shortcut_area[shortcut_pos & shortcut_zone] = True\n",
    "\n",
    "    novel_pos = np.zeros(binned_maze_shape).astype(bool)\n",
    "    novel_pos[(occupancy > 0.) & (~u_area)] = True\n",
    "    novel_area = np.zeros(binned_maze_shape).astype(bool)\n",
    "    novel_area[novel_pos & novel_zone] = True\n",
    "\n",
    "    combined = np.zeros(binned_maze_shape)\n",
    "    combined[u_area] = 1\n",
    "    combined[shortcut_area] = 2\n",
    "    combined[novel_area] = 3\n",
    "\n"
   ]
  },
  {
   "cell_type": "code",
   "execution_count": null,
   "metadata": {
    "ExecuteTime": {
     "end_time": "2018-08-27T18:32:20.849589Z",
     "start_time": "2018-08-27T18:32:20.613723Z"
    },
    "collapsed": true
   },
   "outputs": [],
   "source": [
    "plt.figure()\n",
    "pp = plt.pcolormesh(xx, yy, combined, cmap=\"PuBuGn\")\n",
    "plt.plot(position.x, position.y, \"k.\", ms=2)\n",
    "plt.tight_layout()\n",
    "filename = info.session_id + \"_maze-zones_subset.png\"\n",
    "savepath = os.path.join(output_filepath, \"subsets\")\n",
    "if not os.path.exists(savepath):\n",
    "    os.makedirs(savepath)\n",
    "# plt.savefig(os.path.join(savepath, filename))\n",
    "# plt.close()\n",
    "plt.show()"
   ]
  },
  {
   "cell_type": "code",
   "execution_count": null,
   "metadata": {
    "ExecuteTime": {
     "end_time": "2018-08-27T18:32:20.855586Z",
     "start_time": "2018-08-27T18:32:20.850588Z"
    },
    "collapsed": true
   },
   "outputs": [],
   "source": [
    "novel_area"
   ]
  },
  {
   "cell_type": "code",
   "execution_count": null,
   "metadata": {
    "ExecuteTime": {
     "end_time": "2018-08-27T18:32:20.869595Z",
     "start_time": "2018-08-27T18:32:20.857584Z"
    },
    "collapsed": true
   },
   "outputs": [],
   "source": [
    "combined"
   ]
  },
  {
   "cell_type": "code",
   "execution_count": null,
   "metadata": {
    "ExecuteTime": {
     "end_time": "2018-08-27T18:32:20.877573Z",
     "start_time": "2018-08-27T18:32:20.870576Z"
    },
    "collapsed": true
   },
   "outputs": [],
   "source": [
    "# import info.r063d7 as r063\n",
    "# import info.r066d7 as r066\n",
    "# import info.r067d3 as r067\n",
    "# import info.r068d6 as r068\n",
    "\n",
    "# # infos = [r066, r067, r068]\n",
    "# infos = [r067]\n",
    "\n",
    "# for info in infos:\n",
    "#     print(info.session_id)\n",
    "#     _, position, _, _, _ = get_data(info)\n",
    "#     u_segment = [info.path_pts[i] for i in ['turn1', 'pt1', 'turn2']]\n",
    "\n",
    "#     plt.plot(position.x, position.y, \"y.\")\n",
    "#     for yy in u_segment:\n",
    "#         plt.plot(yy[0], yy[1], \"b.\")\n",
    "#     plt.show()"
   ]
  },
  {
   "cell_type": "code",
   "execution_count": null,
   "metadata": {
    "collapsed": true
   },
   "outputs": [],
   "source": []
  }
 ],
 "metadata": {
  "kernelspec": {
   "display_name": "Python 3",
   "language": "python",
   "name": "python3"
  },
  "language_info": {
   "codemirror_mode": {
    "name": "ipython",
    "version": 3
   },
   "file_extension": ".py",
   "mimetype": "text/x-python",
   "name": "python",
   "nbconvert_exporter": "python",
   "pygments_lexer": "ipython3",
   "version": "3.6.5"
  },
  "toc": {
   "colors": {
    "hover_highlight": "#DAA520",
    "running_highlight": "#FF0000",
    "selected_highlight": "#FFD700"
   },
   "moveMenuLeft": true,
   "nav_menu": {
    "height": "12px",
    "width": "252px"
   },
   "navigate_menu": true,
   "number_sections": true,
   "sideBar": true,
   "threshold": 4,
   "toc_cell": false,
   "toc_section_display": "block",
   "toc_window_display": false
  }
 },
 "nbformat": 4,
 "nbformat_minor": 2
}
