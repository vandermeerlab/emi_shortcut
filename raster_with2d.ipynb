{
 "cells": [
  {
   "cell_type": "code",
   "execution_count": 1,
   "metadata": {
    "collapsed": true
   },
   "outputs": [],
   "source": [
    "%matplotlib inline\n",
    "import os\n",
    "import numpy as np\n",
    "import pickle\n",
    "import matplotlib.pyplot as plt\n",
    "from shapely.geometry import Point, LineString\n",
    "import vdmlab as vdm\n",
    "from analyze_maze import find_zones\n",
    "from analyze_fields import get_unique_fields, categorize_fields\n",
    "from analyze_tuning_curves import get_tc_1d, get_odd_firing_idx"
   ]
  },
  {
   "cell_type": "code",
   "execution_count": 2,
   "metadata": {
    "collapsed": false
   },
   "outputs": [],
   "source": [
    "from load_data import get_pos, get_spikes, get_lfp\n",
    "import info.r063d2 as info"
   ]
  },
  {
   "cell_type": "code",
   "execution_count": 3,
   "metadata": {
    "collapsed": true
   },
   "outputs": [],
   "source": [
    "# pickle_filepath = 'C:/Users/Emily/Code/emi_shortcut/cache/pickled'\n",
    "# output_filepath = 'C:/Users/Emily/Code/emi_shortcut/plots/sequence/'\n",
    "\n",
    "pickle_filepath = 'E:/code/emi_shortcut/cache/pickled'\n",
    "output_filepath = 'E:/code/emi_shortcut/plots/sequence/'"
   ]
  },
  {
   "cell_type": "code",
   "execution_count": 4,
   "metadata": {
    "collapsed": true
   },
   "outputs": [],
   "source": [
    "pos = get_pos(info.pos_mat, info.pxl_to_cm)\n",
    "lfp = get_lfp(info.good_swr[0])\n",
    "spikes = get_spikes(info.spike_mat)"
   ]
  },
  {
   "cell_type": "code",
   "execution_count": 5,
   "metadata": {
    "collapsed": true
   },
   "outputs": [],
   "source": [
    "times = info.task_times['phase3']"
   ]
  },
  {
   "cell_type": "code",
   "execution_count": 6,
   "metadata": {
    "collapsed": true
   },
   "outputs": [],
   "source": [
    "sliced_spikes = [spiketrain.time_slice(times.start, times.stop) for spiketrain in spikes]\n",
    "sliced_pos = pos.time_slice(times.start, times.stop)"
   ]
  },
  {
   "cell_type": "code",
   "execution_count": 7,
   "metadata": {
    "collapsed": false
   },
   "outputs": [],
   "source": [
    "# plt.plot(sliced_pos.x, sliced_pos.y, 'g.', ms=2)\n",
    "# plt.show()"
   ]
  },
  {
   "cell_type": "code",
   "execution_count": 8,
   "metadata": {
    "collapsed": false
   },
   "outputs": [],
   "source": [
    "binsize = 3\n",
    "xedges = np.arange(sliced_pos.x.min(), sliced_pos.x.max() + binsize, binsize)\n",
    "yedges = np.arange(sliced_pos.y.min(), sliced_pos.y.max() + binsize, binsize)\n",
    "\n",
    "tc_filename = info.session_id + '_tuning-curve.pkl'\n",
    "pickled_tuning_curve = os.path.join(pickle_filepath, tc_filename)\n",
    "with open(pickled_tuning_curve, 'rb') as fileobj:\n",
    "    tuning_curves = pickle.load(fileobj)\n",
    "# tuning_curves = vdm.tuning_curve_2d(sliced_pos, sliced_spikes, xedges, yedges, gaussian_sigma=0.1)"
   ]
  },
  {
   "cell_type": "code",
   "execution_count": 9,
   "metadata": {
    "collapsed": true
   },
   "outputs": [],
   "source": [
    "xcenters = (xedges[1:] + xedges[:-1]) / 2.\n",
    "ycenters = (yedges[1:] + yedges[:-1]) / 2.\n",
    "xy_centers = vdm.cartesian(xcenters, ycenters)"
   ]
  },
  {
   "cell_type": "code",
   "execution_count": 10,
   "metadata": {
    "collapsed": false
   },
   "outputs": [],
   "source": [
    "zones = find_zones(info, expand_by=4)\n",
    "\n",
    "field_thresh = 1.0\n",
    "fields_tunings = categorize_fields(tuning_curves, zones, xedges, yedges, field_thresh=field_thresh)"
   ]
  },
  {
   "cell_type": "code",
   "execution_count": 11,
   "metadata": {
    "collapsed": false
   },
   "outputs": [],
   "source": [
    "u_line = LineString(info.u_trajectory)\n",
    "shortcut_line = LineString(info.shortcut_trajectory)\n",
    "novel_line = LineString(info.novel_trajectory)"
   ]
  },
  {
   "cell_type": "code",
   "execution_count": 12,
   "metadata": {
    "collapsed": false
   },
   "outputs": [],
   "source": [
    "u_dist = []\n",
    "for neuron in fields_tunings['u']:\n",
    "    yy = ycenters[np.where(fields_tunings['u'][neuron] == fields_tunings['u'][neuron].max())[0][0]]\n",
    "    xx = xcenters[np.where(fields_tunings['u'][neuron] == fields_tunings['u'][neuron].max())[1][0]]\n",
    "\n",
    "    pt = Point(xx, yy)\n",
    "    if zones['u'].contains(pt):\n",
    "        u_dist.append((u_line.project(pt), neuron))"
   ]
  },
  {
   "cell_type": "code",
   "execution_count": 13,
   "metadata": {
    "collapsed": false
   },
   "outputs": [
    {
     "name": "stdout",
     "output_type": "stream",
     "text": [
      "25\n"
     ]
    }
   ],
   "source": [
    "ordered_dist_u = sorted(u_dist, key=lambda x:x[0])\n",
    "sort_idx = []\n",
    "for neuron in ordered_dist_u:\n",
    "    sort_idx.append(neuron[1])\n",
    "\n",
    "sort_spikes = []\n",
    "sort_tuning_curves = []\n",
    "for neuron in sort_idx:\n",
    "    sort_tuning_curves.append(fields_tunings['u'][neuron])\n",
    "    sort_spikes.append(spikes[neuron])\n",
    "print(len(sort_spikes))"
   ]
  },
  {
   "cell_type": "code",
   "execution_count": 14,
   "metadata": {
    "collapsed": false
   },
   "outputs": [],
   "source": [
    "odd_firing_idx = get_odd_firing_idx(sort_tuning_curves, max_mean_firing=2)"
   ]
  },
  {
   "cell_type": "code",
   "execution_count": 15,
   "metadata": {
    "collapsed": false
   },
   "outputs": [],
   "source": [
    "ordered_spikes = []\n",
    "ordered_fields =[]\n",
    "for i, neuron in enumerate(sort_spikes):\n",
    "    if i not in odd_firing_idx:\n",
    "        ordered_spikes.append(neuron)\n",
    "        ordered_fields.append(sort_tuning_curves[i])"
   ]
  },
  {
   "cell_type": "code",
   "execution_count": 16,
   "metadata": {
    "collapsed": false
   },
   "outputs": [
    {
     "name": "stdout",
     "output_type": "stream",
     "text": [
      "24\n"
     ]
    }
   ],
   "source": [
    "print(len(ordered_spikes))"
   ]
  },
  {
   "cell_type": "code",
   "execution_count": 18,
   "metadata": {
    "collapsed": false,
    "scrolled": true
   },
   "outputs": [
    {
     "data": {
      "image/png": "[encoded data removed]",
      "text/plain": [
       "<matplotlib.figure.Figure at 0x232cedb7208>"
      ]
     },
     "metadata": {},
     "output_type": "display_data"
    }
   ],
   "source": [
    "import seaborn as sns\n",
    "sns.set_style('white')\n",
    "sns.set_style('ticks')\n",
    "\n",
    "# start_time = info.sequence['u']['run'].starts[0]\n",
    "# stop_time = info.sequence['u']['run'].stops[0]\n",
    "\n",
    "# start_time = info.task_times['phase2'].start + 170\n",
    "# stop_time = info.task_times['phase2'].start + 210\n",
    "\n",
    "\n",
    "\n",
    "def plot_sequence(ordered_spikes, lfp, start_time, stop_time, plot_name):\n",
    "    ms = 6.\n",
    "    mew = 0.6\n",
    "    loc = 4\n",
    "    spike_loc = 1\n",
    "\n",
    "    rows = len(ordered_spikes)\n",
    "    cols = 1\n",
    "    fig = plt.figure(figsize=(2, 3))\n",
    "#     fig = plt.figure()\n",
    "    ax1 = plt.subplot2grid((rows+2, cols), (1, 0), rowspan=rows)\n",
    "    ax2 = plt.subplot2grid((rows+2, cols), (rows+1, 0), sharex=ax1)\n",
    "\n",
    "    for idx, neuron_spikes in enumerate(ordered_spikes):\n",
    "        ax1.plot(neuron_spikes.time, np.ones(len(neuron_spikes.time))+(idx*spike_loc)-1, '|', \n",
    "                 color='k', ms=ms, mew=mew)\n",
    "    ax1.set_xlim([start_time, stop_time])\n",
    "    ax1.set_ylim([-0.5, len(ordered_spikes)*spike_loc])\n",
    "\n",
    "#     start_idx = vdm.find_nearest_idx(lfp.time, start_time)\n",
    "#     stop_idx = vdm.find_nearest_idx(lfp.time, stop_time)\n",
    "#     ax2.plot(lfp.time[start_idx:stop_idx], lfp.data[start_idx:stop_idx]*8000-5, 'k', lw=1)\n",
    "    \n",
    "    ax2.plot(lfp.time, lfp.data*9000-5, 'k', lw=3)\n",
    "    ax2.set_xlim([start_time, stop_time])\n",
    "    ax2.set_ylim([np.min(lfp.data)-17, np.max(lfp.data)+3])\n",
    "\n",
    "    vdm.add_scalebar(ax1, matchy=False, bbox_transform=ax1.transAxes, \n",
    "                     bbox_to_anchor=(1.0, -0.17), units='ms')\n",
    "\n",
    "    plt.setp(ax1, xticks=[], xticklabels=[])\n",
    "    plt.setp(ax2, xticks=[], xticklabels=[], yticks=[], yticklabels=[])\n",
    "\n",
    "\n",
    "    sns.despine(bottom=True)\n",
    "\n",
    "    plt.show()\n",
    "\n",
    "#     savepath = output_filepath + info.session_id + plot_name + '.pdf'\n",
    "#     plt.savefig(savepath, bbox_inches='tight', transparent=True)\n",
    "\n",
    "#     savepath = output_filepath + info.session_id + plot_name + '.png'\n",
    "#     plt.savefig(savepath, bbox_inches='tight', transparent=True)\n",
    "\n",
    "# for idx in r067_idx:\n",
    "#     print(idx)\n",
    "#     start_time = decoded['decoded'].time[idx[0]]\n",
    "#     stop_time = decoded['decoded'].time[idx[1]]\n",
    "#     plot_sequence(ordered_spikes, lfp, start_time, stop_time, '-example_swr-sequence')\n",
    "\n",
    "seq = 0\n",
    "time = 'swr'\n",
    "# start_time = 9133.55\n",
    "# stop_time = 9134\n",
    "start_time = info.sequence['u'][time].starts[seq]\n",
    "stop_time = info.sequence['u'][time].stops[seq]\n",
    "plot_sequence(ordered_spikes, lfp, start_time, stop_time, '-example_' + time + '-sequence')"
   ]
  },
  {
   "cell_type": "code",
   "execution_count": 33,
   "metadata": {
    "collapsed": false
   },
   "outputs": [
    {
     "data": {
      "image/png": "[encoded data removed]",
      "text/plain": [
       "<matplotlib.figure.Figure at 0x232ced15438>"
      ]
     },
     "metadata": {},
     "output_type": "display_data"
    }
   ],
   "source": [
    "import numpy as np\n",
    "import matplotlib.pyplot as plt\n",
    "\n",
    "fig, (ax1, ax2) = plt.subplots(nrows=2, sharex=True)\n",
    "\n",
    "x = np.linspace(0, np.pi, 100)\n",
    "\n",
    "line1, = ax1.plot(x, np.cos(3*x), color='red')\n",
    "line2, = ax2.plot(x, np.sin(4*x), color='green')\n",
    "\n",
    "# The key to the position is bbox_to_anchor: Place it at x=0.5, y=0\n",
    "# in axes coordinates.\n",
    "# \"upper center\" is basically saying center horizontal alignment and \n",
    "# top vertical alignment in this case\n",
    "ax2.legend([line1, line2], ['yep', 'nope'], bbox_to_anchor=[0.5, -0.3], \n",
    "           loc=3, ncol=2, borderaxespad=0.1)\n",
    "\n",
    "plt.show()"
   ]
  },
  {
   "cell_type": "code",
   "execution_count": null,
   "metadata": {
    "collapsed": true
   },
   "outputs": [],
   "source": []
  },
  {
   "cell_type": "code",
   "execution_count": null,
   "metadata": {
    "collapsed": false
   },
   "outputs": [],
   "source": [
    "info.session_id"
   ]
  },
  {
   "cell_type": "code",
   "execution_count": null,
   "metadata": {
    "collapsed": true
   },
   "outputs": [],
   "source": [
    "plt.close()"
   ]
  },
  {
   "cell_type": "code",
   "execution_count": null,
   "metadata": {
    "collapsed": false
   },
   "outputs": [],
   "source": [
    "# R068d2\n",
    "start_time = decoded['decoded'].time[39760]\n",
    "stop_time = decoded['decoded'].time[39765]\n",
    "print(start_time, stop_time)"
   ]
  },
  {
   "cell_type": "code",
   "execution_count": null,
   "metadata": {
    "collapsed": false
   },
   "outputs": [],
   "source": [
    "r067_idx = [(6057, 6060), (10614, 10616), (11750, 11753), (18015, 18018), \n",
    "            (18894, 18898), (22253, 22257)]"
   ]
  },
  {
   "cell_type": "code",
   "execution_count": null,
   "metadata": {
    "collapsed": false
   },
   "outputs": [],
   "source": [
    "evt = 5\n",
    "print(decoded['decoded'].time[r067_idx[evt][0]], decoded['decoded'].time[r067_idx[evt][1]])"
   ]
  },
  {
   "cell_type": "code",
   "execution_count": null,
   "metadata": {
    "collapsed": true
   },
   "outputs": [],
   "source": [
    "decode_filename = info.session_id + '_decode-tracks.pkl'\n",
    "pickled_decoded = os.path.join(pickle_filepath, decode_filename)\n",
    "with open(pickled_decoded, 'rb') as fileobj:\n",
    "    decoded = pickle.load(fileobj)"
   ]
  },
  {
   "cell_type": "code",
   "execution_count": null,
   "metadata": {
    "collapsed": false
   },
   "outputs": [],
   "source": [
    "distance = np.diff(decoded['decoded'].time) > 0.025"
   ]
  },
  {
   "cell_type": "code",
   "execution_count": null,
   "metadata": {
    "collapsed": false
   },
   "outputs": [],
   "source": [
    "duration = 10\n",
    "indexes = []\n",
    "for i in range(len(distance)):\n",
    "    if i+duration < len(distance):\n",
    "        if distance[i:i+duration].all():\n",
    "            indexes.append((i, i+duration))\n",
    "len(indexes)"
   ]
  },
  {
   "cell_type": "code",
   "execution_count": null,
   "metadata": {
    "collapsed": true
   },
   "outputs": [],
   "source": []
  },
  {
   "cell_type": "code",
   "execution_count": null,
   "metadata": {
    "collapsed": true
   },
   "outputs": [],
   "source": []
  },
  {
   "cell_type": "code",
   "execution_count": null,
   "metadata": {
    "collapsed": true
   },
   "outputs": [],
   "source": []
  },
  {
   "cell_type": "code",
   "execution_count": null,
   "metadata": {
    "collapsed": false
   },
   "outputs": [],
   "source": [
    "len(distance)"
   ]
  },
  {
   "cell_type": "code",
   "execution_count": null,
   "metadata": {
    "collapsed": false,
    "scrolled": true
   },
   "outputs": [],
   "source": [
    "%matplotlib inline\n",
    "\n",
    "xx, yy = np.meshgrid(xedges, yedges)\n",
    "for key in fields_tunings['u']:\n",
    "    print(key)\n",
    "    pp = plt.pcolormesh(xx, yy, fields_tunings['u'][key], cmap='YlGn')\n",
    "    plt.colorbar(pp)\n",
    "    plt.axis('off')\n",
    "    plt.show()"
   ]
  },
  {
   "cell_type": "code",
   "execution_count": null,
   "metadata": {
    "collapsed": false
   },
   "outputs": [],
   "source": [
    "info.task_times['phase2'].start + 130"
   ]
  },
  {
   "cell_type": "code",
   "execution_count": null,
   "metadata": {
    "collapsed": false
   },
   "outputs": [],
   "source": [
    "rows*cols"
   ]
  },
  {
   "cell_type": "code",
   "execution_count": null,
   "metadata": {
    "collapsed": false
   },
   "outputs": [],
   "source": [
    "len(tuning_curves)"
   ]
  },
  {
   "cell_type": "code",
   "execution_count": null,
   "metadata": {
    "collapsed": true
   },
   "outputs": [],
   "source": [
    "r068d2_fields = [2, 4, 5, 7, 8, 11, 14, 15, \n",
    "                 16, 18, 19, 24, 27, 30, 36, 38, \n",
    "                 43, 51, 54, 55, 57, 64, 69, 70, \n",
    "                 78, 81, 83, 85, 89, 91, 92, 93, \n",
    "                 96, 98, 101, 102, 105, 106, 109, 111]"
   ]
  },
  {
   "cell_type": "code",
   "execution_count": null,
   "metadata": {
    "collapsed": false
   },
   "outputs": [],
   "source": [
    "import matplotlib.gridspec as gridspec\n",
    "\n",
    "u_line = LineString(info.u_trajectory)\n",
    "shortcut_line = LineString(info.shortcut_trajectory)\n",
    "novel_line = LineString(info.novel_trajectory)\n",
    "\n",
    "rows = 8\n",
    "cols = 5\n",
    "fig = plt.figure(figsize=(12, 4))\n",
    "\n",
    "grids = gridspec.GridSpec(cols, rows)\n",
    "grids.update(wspace=0.02, hspace=0.02)\n",
    "\n",
    "xx, yy = np.meshgrid(xedges, yedges)\n",
    "\n",
    "for i, idx in zip(range(rows*cols), r068d2_fields):\n",
    "    ax = plt.subplot(grids[i])\n",
    "    pp = ax.pcolormesh(xx, yy, tuning_curves[idx], cmap='YlGn')\n",
    "    ax.plot(u_line.xy[0], u_line.xy[1], 'k', lw=0.5)\n",
    "    ax.plot(shortcut_line.xy[0], shortcut_line.xy[1], 'k', lw=0.5)\n",
    "    ax.plot(novel_line.xy[0], novel_line.xy[1], 'k', lw=0.5)\n",
    "    ax.axis('off')\n",
    "\n",
    "# plt.show()\n",
    "\n",
    "savepath = output_filepath + info.session_id + 'many_tuning-curves.pdf'\n",
    "plt.savefig(savepath, dpi=600, bbox_inches='tight', transparent=True)"
   ]
  },
  {
   "cell_type": "code",
   "execution_count": null,
   "metadata": {
    "collapsed": true
   },
   "outputs": [],
   "source": []
  },
  {
   "cell_type": "code",
   "execution_count": null,
   "metadata": {
    "collapsed": true
   },
   "outputs": [],
   "source": []
  },
  {
   "cell_type": "code",
   "execution_count": null,
   "metadata": {
    "collapsed": true
   },
   "outputs": [],
   "source": []
  },
  {
   "cell_type": "code",
   "execution_count": null,
   "metadata": {
    "collapsed": true
   },
   "outputs": [],
   "source": []
  },
  {
   "cell_type": "markdown",
   "metadata": {},
   "source": [
    "# saving many tuning curves same plot"
   ]
  },
  {
   "cell_type": "code",
   "execution_count": null,
   "metadata": {
    "collapsed": false,
    "scrolled": false
   },
   "outputs": [],
   "source": [
    "import matplotlib.gridspec as gridspec\n",
    "\n",
    "rows = 8\n",
    "cols = 14\n",
    "fig = plt.figure(figsize=(10, 10))\n",
    "\n",
    "grids = gridspec.GridSpec(cols, rows)\n",
    "grids.update(wspace=0.02, hspace=0.05)\n",
    "\n",
    "xx, yy = np.meshgrid(xedges, yedges)\n",
    "for i in range(rows*cols):\n",
    "    ax = plt.subplot(grids[i])\n",
    "    pp = ax.pcolormesh(xx, yy, tuning_curves[i], cmap='YlGn')\n",
    "    ax.axis('off')\n",
    "\n",
    "savepath = 'E:/code/emi_shortcut/plots/tuning/' + info.session_id + 'many_tuning-curves.png'\n",
    "plt.savefig(savepath, dpi=300, bbox_inches='tight')"
   ]
  },
  {
   "cell_type": "code",
   "execution_count": null,
   "metadata": {
    "collapsed": true
   },
   "outputs": [],
   "source": []
  },
  {
   "cell_type": "code",
   "execution_count": null,
   "metadata": {
    "collapsed": true
   },
   "outputs": [],
   "source": []
  }
 ],
 "metadata": {
  "kernelspec": {
   "display_name": "Python 3",
   "language": "python",
   "name": "python3"
  },
  "language_info": {
   "codemirror_mode": {
    "name": "ipython",
    "version": 3
   },
   "file_extension": ".py",
   "mimetype": "text/x-python",
   "name": "python",
   "nbconvert_exporter": "python",
   "pygments_lexer": "ipython3",
   "version": "3.5.2"
  }
 },
 "nbformat": 4,
 "nbformat_minor": 0
}
