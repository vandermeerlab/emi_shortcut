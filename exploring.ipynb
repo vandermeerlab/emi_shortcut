{
 "cells": [
  {
   "cell_type": "code",
   "execution_count": null,
   "metadata": {
    "ExecuteTime": {
     "end_time": "2017-04-10T08:50:40.487708",
     "start_time": "2017-04-10T08:50:37.332711"
    },
    "collapsed": false
   },
   "outputs": [],
   "source": [
    "%matplotlib inline\n",
    "import matplotlib.pyplot as plt\n",
    "import numpy as np\n",
    "import pickle\n",
    "import os\n",
    "import nept\n",
    "\n",
    "from loading_data import get_data"
   ]
  },
  {
   "cell_type": "code",
   "execution_count": null,
   "metadata": {
    "ExecuteTime": {
     "end_time": "2017-04-10T09:30:53.348385",
     "start_time": "2017-04-10T09:30:53.176800"
    },
    "collapsed": true
   },
   "outputs": [],
   "source": [
    "import info.r066d3 as info"
   ]
  },
  {
   "cell_type": "code",
   "execution_count": null,
   "metadata": {
    "ExecuteTime": {
     "end_time": "2017-04-10T09:30:53.516703",
     "start_time": "2017-04-10T09:30:53.512218"
    },
    "collapsed": true
   },
   "outputs": [],
   "source": [
    "home = os.path.expanduser(\"~\")\n",
    "emi_shortcut = os.path.join(home, \"code\", \"emi_shortcut\")\n",
    "pickle_filepath = os.path.join(emi_shortcut, \"cache\", \"pickled\")\n",
    "# pickle_filepath = 'E:/code/emi_shortcut/cache/pickled'\n",
    "output_filepath = os.path.join(emi_shortcut, \"plots\")"
   ]
  },
  {
   "cell_type": "code",
   "execution_count": null,
   "metadata": {
    "ExecuteTime": {
     "end_time": "2017-04-10T09:30:54.487648",
     "start_time": "2017-04-10T09:30:53.943261"
    },
    "collapsed": false
   },
   "outputs": [],
   "source": [
    "events, position, spikes, lfp, lfp_theta = get_data(info)\n",
    "xedges, yedges = nept.get_xyedges(position)"
   ]
  },
  {
   "cell_type": "code",
   "execution_count": null,
   "metadata": {
    "collapsed": true
   },
   "outputs": [],
   "source": []
  },
  {
   "cell_type": "markdown",
   "metadata": {},
   "source": [
    "# Saving many tuning curves on the same plot"
   ]
  },
  {
   "cell_type": "code",
   "execution_count": null,
   "metadata": {
    "collapsed": true
   },
   "outputs": [],
   "source": [
    "import matplotlib.gridspec as gridspec\n",
    "\n",
    "rows = 8\n",
    "cols = 14\n",
    "fig = plt.figure(figsize=(10, 10))\n",
    "\n",
    "grids = gridspec.GridSpec(cols, rows)\n",
    "grids.update(wspace=0.02, hspace=0.05)\n",
    "\n",
    "xx, yy = np.meshgrid(xedges, yedges)\n",
    "for i in range(rows*cols):\n",
    "    ax = plt.subplot(grids[i])\n",
    "    pp = ax.pcolormesh(xx, yy, tuning_curves[i], cmap='pink_r')\n",
    "    ax.axis('off')\n",
    "    \n",
    "plt.show()\n",
    "\n",
    "# savepath = 'E:/code/emi_shortcut/plots/tuning/' + info.session_id + 'many_tuning-curves.png'\n",
    "# plt.savefig(savepath, dpi=300, bbox_inches='tight')"
   ]
  },
  {
   "cell_type": "code",
   "execution_count": null,
   "metadata": {
    "collapsed": true
   },
   "outputs": [],
   "source": []
  },
  {
   "cell_type": "markdown",
   "metadata": {},
   "source": [
    "# Testing Neuralynx events"
   ]
  },
  {
   "cell_type": "code",
   "execution_count": null,
   "metadata": {
    "collapsed": true
   },
   "outputs": [],
   "source": [
    "dataloc = 'C:/Users/EmilyWork/Desktop/20170104'\n",
    "session = '2017-01-05_test1'\n",
    "event_filename = 'Events.nev'\n",
    "# event_labels = dict(on='on',\n",
    "#                     off='off')\n",
    "event_labels = dict(on='TTL Output on AcqSystem1_0 board 0 port 3 value (0x0002).',\n",
    "                    off='TTL Output on AcqSystem1_0 board 0 port 3 value (0x0000).')"
   ]
  },
  {
   "cell_type": "code",
   "execution_count": null,
   "metadata": {
    "collapsed": true
   },
   "outputs": [],
   "source": [
    "filepath = os.path.join(dataloc, session, event_filename)\n",
    "events = nept.load_events(filepath, event_labels)"
   ]
  },
  {
   "cell_type": "code",
   "execution_count": null,
   "metadata": {
    "collapsed": true
   },
   "outputs": [],
   "source": [
    "len(events['off']), len(events['on'])"
   ]
  },
  {
   "cell_type": "code",
   "execution_count": null,
   "metadata": {
    "collapsed": true
   },
   "outputs": [],
   "source": []
  }
 ],
 "metadata": {
  "anaconda-cloud": {},
  "kernelspec": {
   "display_name": "Python 3",
   "language": "python",
   "name": "python3"
  },
  "language_info": {
   "codemirror_mode": {
    "name": "ipython",
    "version": 3
   },
   "file_extension": ".py",
   "mimetype": "text/x-python",
   "name": "python",
   "nbconvert_exporter": "python",
   "pygments_lexer": "ipython3",
   "version": "3.5.2"
  },
  "toc": {
   "colors": {
    "hover_highlight": "#DAA520",
    "running_highlight": "#FF0000",
    "selected_highlight": "#FFD700"
   },
   "moveMenuLeft": true,
   "nav_menu": {
    "height": "62px",
    "width": "252px"
   },
   "navigate_menu": true,
   "number_sections": true,
   "sideBar": true,
   "threshold": 4,
   "toc_cell": false,
   "toc_section_display": "block",
   "toc_window_display": false
  }
 },
 "nbformat": 4,
 "nbformat_minor": 1
}
