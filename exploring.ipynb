{
 "cells": [
  {
   "cell_type": "code",
   "execution_count": null,
   "metadata": {
    "collapsed": false
   },
   "outputs": [],
   "source": [
    "%matplotlib inline\n",
    "import numpy as np\n",
    "import matplotlib.pyplot as plt\n",
    "from shapely.geometry import Point, LineString\n",
    "import pickle\n",
    "import seaborn as sns\n",
    "import os\n",
    "\n",
    "import vdmlab as vdm\n",
    "\n",
    "from load_data import get_pos, get_spikes, get_lfp\n",
    "from tuning_curves_functions import get_tc_1d, get_odd_firing_idx\n",
    "\n",
    "import info.R063d2_info as r063d2\n",
    "import info.R063d3_info as r063d3\n",
    "import info.R063d4_info as r063d4\n",
    "import info.R063d5_info as r063d5\n",
    "import info.R063d6_info as r063d6\n",
    "import info.R066d1_info as r066d1\n",
    "import info.R066d2_info as r066d2\n",
    "import info.R066d3_info as r066d3\n",
    "import info.R066d4_info as r066d4\n",
    "import info.R067d1_info as r067d1\n",
    "import info.R067d2_info as r067d2"
   ]
  },
  {
   "cell_type": "code",
   "execution_count": null,
   "metadata": {
    "collapsed": true
   },
   "outputs": [],
   "source": [
    "pickle_filepath = 'E:\\\\code\\\\python-vdmlab\\\\projects\\\\emily_shortcut\\\\cache\\\\pickled\\\\'\n",
    "output_filepath = 'E:\\\\code\\\\python-vdmlab\\\\projects\\\\emily_shortcut\\\\plots\\\\'\n",
    "# pickle_filepath = 'C:\\\\Users\\\\Emily\\\\Code\\\\python-vdmlab\\\\projects\\\\emily_shortcut\\\\cache\\\\pickled\\\\'\n",
    "# output_filepath = 'C:\\\\Users\\\\Emily\\\\Code\\\\python-vdmlab\\\\projects\\\\emily_shortcut\\\\plots\\\\'"
   ]
  },
  {
   "cell_type": "code",
   "execution_count": null,
   "metadata": {
    "collapsed": false
   },
   "outputs": [],
   "source": [
    "info = r063d4"
   ]
  },
  {
   "cell_type": "code",
   "execution_count": null,
   "metadata": {
    "collapsed": false
   },
   "outputs": [],
   "source": [
    "print(info.session_id)\n",
    "pos = get_pos(info.pos_mat, info.pxl_to_cm)\n",
    "csc = get_lfp(info.good_swr[0])\n",
    "spikes = get_spikes(info.spike_mat)"
   ]
  },
  {
   "cell_type": "code",
   "execution_count": null,
   "metadata": {
    "collapsed": true
   },
   "outputs": [],
   "source": []
  },
  {
   "cell_type": "code",
   "execution_count": null,
   "metadata": {
    "collapsed": true
   },
   "outputs": [],
   "source": [
    "y = np.array([[0.0, 1.0],\n",
    "              [1.6, 2.0]])\n",
    "\n",
    "w = np.array([[0.5, 1.2],\n",
    "              [2.0, 2.2]])"
   ]
  },
  {
   "cell_type": "code",
   "execution_count": null,
   "metadata": {
    "collapsed": false
   },
   "outputs": [],
   "source": [
    "def intersect(this, other):\n",
    "    new_starts = []\n",
    "    new_stops = []\n",
    "    for y in this:\n",
    "        for w in other:\n",
    "            if (y[0] <= w[0] and y[1] >= w[1]) or (y[0] <= w[0] and y[1] < w[1] and y[1] > w[0]) or \\\n",
    "                (y[0] > w[0] and y[1] >= w[1] and y[0] < w[1]) or (y[0] > w[0] and y[1] < w[1]):\n",
    "                new_starts.append(y[0])\n",
    "                new_stops.append(y[1])\n",
    "    \n",
    "    return np.hstack((np.array(new_starts)[..., np.newaxis],\n",
    "                      np.array(new_stops)[..., np.newaxis]))\n",
    "\n",
    "intersects = intersect(y, w)\n",
    "intersects"
   ]
  },
  {
   "cell_type": "code",
   "execution_count": null,
   "metadata": {
    "collapsed": false
   },
   "outputs": [],
   "source": [
    "def union(yarray, warray):\n",
    "    new_starts = []\n",
    "    new_stops = []\n",
    "    for y in yarray:\n",
    "        for w in warray:\n",
    "            if y[0] <= w[0] and y[1] >= w[1]:\n",
    "                new_starts.append(w[0])\n",
    "                new_stops.append(w[1])\n",
    "            elif y[0] <= w[0] and y[1] < w[1] and y[1] > w[0]:\n",
    "                new_starts.append(w[0])\n",
    "                new_stops.append(y[1])\n",
    "            elif y[0] > w[0] and y[1] >= w[1] and y[0] < w[1]:\n",
    "                new_starts.append(y[0])\n",
    "                new_stops.append(w[1])\n",
    "            elif y[0] > w[0] and y[1] < w[1]:\n",
    "                new_starts.append(y[0])\n",
    "                new_stops.append(y[1])\n",
    "                \n",
    "    return np.hstack(\n",
    "            (np.array(new_starts)[..., np.newaxis],\n",
    "             np.array(new_stops)[..., np.newaxis]))\n",
    "    \n",
    "merged = union(y, w)\n",
    "print(merged)"
   ]
  },
  {
   "cell_type": "code",
   "execution_count": null,
   "metadata": {
    "collapsed": false
   },
   "outputs": [],
   "source": [
    "import numpy as np\n",
    "\n",
    "ep1 = np.array([[0.0, 1.0],\n",
    "                [0.9, 1.5],\n",
    "                [1.6, 2.0]])\n",
    "\n",
    "def merge(ep, gap=0.0):\n",
    "    ends = ep[:-1, 1] + gap\n",
    "    starts = ep[1:, 0]\n",
    "    to_merge = (ends - starts) >= 0\n",
    "    \n",
    "    new_starts = [ep[0, 0]]\n",
    "    new_ends = []\n",
    "    \n",
    "    for i in range(ep.shape[0] - 1):\n",
    "        if not to_merge[i]:\n",
    "            new_ends.append(ep[i, 1])\n",
    "            new_starts.append(ep[i+1, 0])\n",
    "\n",
    "    new_ends.append(ep[-1, 1])\n",
    "    return np.array(np.hstack(\n",
    "            (np.array(new_starts)[..., np.newaxis],\n",
    "             np.array(new_ends)[..., np.newaxis])))\n",
    "\n",
    "print(merge(ep1, gap=-0.11))"
   ]
  },
  {
   "cell_type": "code",
   "execution_count": null,
   "metadata": {
    "collapsed": true
   },
   "outputs": [],
   "source": []
  },
  {
   "cell_type": "code",
   "execution_count": null,
   "metadata": {
    "collapsed": true
   },
   "outputs": [],
   "source": [
    "y = np.array([[0.0, 1.0],\n",
    "              [1.6, 2.0],\n",
    "              [0.9, 1.5]])"
   ]
  },
  {
   "cell_type": "code",
   "execution_count": null,
   "metadata": {
    "collapsed": false
   },
   "outputs": [],
   "source": [
    "y = np.sort(y, axis=0)\n",
    "print(type(y))"
   ]
  },
  {
   "cell_type": "code",
   "execution_count": null,
   "metadata": {
    "collapsed": false
   },
   "outputs": [],
   "source": [
    "times = np.array([0, 2, 4, 10])\n",
    "dur = np.array([2.5, 0.5, 0.5, 0.5])"
   ]
  },
  {
   "cell_type": "code",
   "execution_count": null,
   "metadata": {
    "collapsed": false
   },
   "outputs": [],
   "source": [
    "stop_epoch = times + dur\n",
    "times = np.hstack((times[..., np.newaxis], stop_epoch[..., np.newaxis]))\n",
    "print(times.shape)\n",
    "print(dur.shape)"
   ]
  },
  {
   "cell_type": "code",
   "execution_count": null,
   "metadata": {
    "collapsed": false
   },
   "outputs": [],
   "source": [
    "times"
   ]
  },
  {
   "cell_type": "code",
   "execution_count": null,
   "metadata": {
    "collapsed": true
   },
   "outputs": [],
   "source": [
    "y = np.array([[  -1. ,   1.5],\n",
    "              [  3. ,   4.7]])"
   ]
  },
  {
   "cell_type": "code",
   "execution_count": null,
   "metadata": {
    "collapsed": false
   },
   "outputs": [],
   "source": [
    "y"
   ]
  },
  {
   "cell_type": "code",
   "execution_count": null,
   "metadata": {
    "collapsed": false
   },
   "outputs": [],
   "source": [
    "intersects = []\n",
    "for time in times:\n",
    "    for e in y:\n",
    "        if (time[1] >= e[0] and time[0] <= e[0]) or (time[1] >= e[1] and time[0] > e[0]) or (time[1] <= e[0] and time[1] < e[0]):\n",
    "            intersects.append(time)\n",
    "print(intersects)"
   ]
  },
  {
   "cell_type": "code",
   "execution_count": null,
   "metadata": {
    "collapsed": true
   },
   "outputs": [],
   "source": []
  },
  {
   "cell_type": "code",
   "execution_count": null,
   "metadata": {
    "collapsed": true
   },
   "outputs": [],
   "source": []
  },
  {
   "cell_type": "code",
   "execution_count": null,
   "metadata": {
    "collapsed": true
   },
   "outputs": [],
   "source": []
  },
  {
   "cell_type": "code",
   "execution_count": null,
   "metadata": {
    "collapsed": true
   },
   "outputs": [],
   "source": []
  }
 ],
 "metadata": {
  "kernelspec": {
   "display_name": "Python 3",
   "language": "python",
   "name": "python3"
  },
  "language_info": {
   "codemirror_mode": {
    "name": "ipython",
    "version": 3
   },
   "file_extension": ".py",
   "mimetype": "text/x-python",
   "name": "python",
   "nbconvert_exporter": "python",
   "pygments_lexer": "ipython3",
   "version": "3.5.2"
  }
 },
 "nbformat": 4,
 "nbformat_minor": 0
}
