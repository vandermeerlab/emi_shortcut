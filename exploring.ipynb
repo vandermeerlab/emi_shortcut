{
 "cells": [
  {
   "cell_type": "code",
   "execution_count": null,
   "metadata": {
    "collapsed": false
   },
   "outputs": [],
   "source": [
    "# %matplotlib inline\n",
    "import numpy as np\n",
    "import matplotlib.pyplot as plt\n",
    "from shapely.geometry import Point, LineString\n",
    "import pickle\n",
    "import seaborn as sns\n",
    "import os\n",
    "\n",
    "import vdmlab as vdm\n",
    "\n",
    "from tuning_curves_functions import get_tc, get_odd_firing_idx, linearize\n",
    "\n",
    "import info.R063d2_info as r063d2\n",
    "import info.R063d3_info as r063d3\n",
    "import info.R063d4_info as r063d4\n",
    "import info.R063d5_info as r063d5\n",
    "import info.R063d6_info as r063d6\n",
    "import info.R066d1_info as r066d1\n",
    "import info.R066d2_info as r066d2\n",
    "import info.R066d3_info as r066d3\n",
    "import info.R066d4_info as r066d4"
   ]
  },
  {
   "cell_type": "code",
   "execution_count": null,
   "metadata": {
    "collapsed": true
   },
   "outputs": [],
   "source": [
    "pickle_filepath = 'E:\\\\code\\\\python-vdmlab\\\\projects\\\\emily_shortcut\\\\cache\\\\pickled\\\\'\n",
    "output_filepath = 'E:\\\\code\\\\python-vdmlab\\\\projects\\\\emily_shortcut\\\\plots\\\\sequence\\\\'\n",
    "# pickle_filepath = 'C:\\\\Users\\\\Emily\\\\Code\\\\python-vdmlab\\\\projects\\\\emily_shortcut\\\\cache\\\\pickled\\\\'\n",
    "# output_filepath = 'C:\\\\Users\\\\Emily\\\\Code\\\\python-vdmlab\\\\projects\\\\emily_shortcut\\\\plots\\\\sequence\\\\'"
   ]
  },
  {
   "cell_type": "code",
   "execution_count": null,
   "metadata": {
    "collapsed": false
   },
   "outputs": [],
   "source": [
    "info = r063d4"
   ]
  },
  {
   "cell_type": "code",
   "execution_count": null,
   "metadata": {
    "collapsed": false
   },
   "outputs": [],
   "source": [
    "print(info.session_id)\n",
    "pos = info.get_pos(info.pxl_to_cm)\n",
    "csc = info.get_csc(info.good_swr[0])\n",
    "spikes = info.get_spikes()"
   ]
  },
  {
   "cell_type": "code",
   "execution_count": null,
   "metadata": {
    "collapsed": false
   },
   "outputs": [],
   "source": [
    "print(info.session_id)\n",
    "pos = info.get_pos(info.pxl_to_cm)\n",
    "csc = info.get_csc(info.good_swr[0])\n",
    "spikes = info.get_spikes()\n",
    "\n",
    "tc = get_tc(info, pos, pickle_filepath, expand_by=2)\n",
    "\n",
    "heatmap_filename = info.session_id + '_spike_heatmaps.pkl'\n",
    "pickled_spike_heatmaps = os.path.join(pickle_filepath, heatmap_filename)\n",
    "if os.path.isfile(pickled_spike_heatmaps):\n",
    "    with open(pickled_spike_heatmaps, 'rb') as fileobj:\n",
    "        spike_heatmaps = pickle.load(fileobj)\n",
    "else:\n",
    "    spikes = info.get_spikes()\n",
    "\n",
    "    all_neurons = list(range(1, len(spikes['time'])))\n",
    "    spike_heatmaps = vdm.get_heatmaps(all_neurons, spikes, pos)\n",
    "    with open(pickled_spike_heatmaps, 'wb') as fileobj:\n",
    "        pickle.dump(spike_heatmaps, fileobj)\n",
    "\n",
    "swr_times, swr_idx, filtered_butter = vdm.detect_swr_hilbert(csc, fs=info.fs)"
   ]
  },
  {
   "cell_type": "code",
   "execution_count": null,
   "metadata": {
    "collapsed": false
   },
   "outputs": [],
   "source": [
    "def get_speed(pos, smooth=True, t_smooth=0.5):\n",
    "    \"\"\"Finds the velocity of the animal from 2D position.\n",
    "    \n",
    "    Parameters\n",
    "    ----------\n",
    "    pos : dict\n",
    "        With x, y, time as keys.\n",
    "    smooth : bool\n",
    "        Whether smoothing occurs. Default is True.\n",
    "    t_smooth : float\n",
    "        Range over which smoothing occurs in seconds. Default is 0.5 seconds.\n",
    "    \n",
    "    Returns\n",
    "    -------\n",
    "    speed : dict\n",
    "        With time (floats), velocity (floats) as keys.\n",
    "    \n",
    "    \"\"\"\n",
    "    speed = dict()\n",
    "    speed['time'] = pos['time']\n",
    "    speed['velocity'] = np.sqrt((pos['x'][1:] - pos['x'][:-1]) ** 2 + (pos['y'][1:] - pos['y'][:-1]) ** 2)\n",
    "    speed['velocity'] = np.hstack(([0], speed['velocity']))\n",
    "\n",
    "    dt = np.median(np.diff(speed['time']))\n",
    "\n",
    "    filter_length = np.ceil(t_smooth/dt)\n",
    "    speed['smoothed'] = np.convolve(speed['velocity'], np.ones(int(filter_length))/filter_length, 'same')\n",
    "    \n",
    "    return speed"
   ]
  },
  {
   "cell_type": "code",
   "execution_count": null,
   "metadata": {
    "collapsed": false
   },
   "outputs": [],
   "source": [
    "speed = get_speed(pos)\n",
    "\n",
    "run_threshold = 0.45\n",
    "t_run = speed['time'][speed['smoothed'] >= run_threshold]\n",
    "\n",
    "run_idx = np.zeros(pos['time'].shape, dtype=bool)\n",
    "for idx in t_run:\n",
    "    run_idx |= (pos['time'] == idx)\n",
    "    \n",
    "run_pos = dict()\n",
    "run_pos['x'] = pos['x'][run_idx]\n",
    "run_pos['y'] = pos['y'][run_idx]\n",
    "run_pos['time'] = pos['time'][run_idx]"
   ]
  },
  {
   "cell_type": "code",
   "execution_count": null,
   "metadata": {
    "collapsed": false
   },
   "outputs": [],
   "source": [
    "plt.plot(run_pos['x'], run_pos['y'], 'b.')\n",
    "plt.show()"
   ]
  },
  {
   "cell_type": "code",
   "execution_count": null,
   "metadata": {
    "collapsed": true
   },
   "outputs": [],
   "source": [
    "tc = get_tc(info, run_pos, pickle_filepath)"
   ]
  },
  {
   "cell_type": "code",
   "execution_count": null,
   "metadata": {
    "collapsed": true
   },
   "outputs": [],
   "source": []
  },
  {
   "cell_type": "code",
   "execution_count": null,
   "metadata": {
    "collapsed": true
   },
   "outputs": [],
   "source": []
  },
  {
   "cell_type": "code",
   "execution_count": null,
   "metadata": {
    "collapsed": true
   },
   "outputs": [],
   "source": []
  },
  {
   "cell_type": "code",
   "execution_count": null,
   "metadata": {
    "collapsed": true
   },
   "outputs": [],
   "source": []
  },
  {
   "cell_type": "code",
   "execution_count": null,
   "metadata": {
    "collapsed": true
   },
   "outputs": [],
   "source": []
  },
  {
   "cell_type": "code",
   "execution_count": null,
   "metadata": {
    "collapsed": false,
    "scrolled": false
   },
   "outputs": [],
   "source": [
    "colours = ['#bd0026', '#fc4e2a', '#ef3b2c', '#ec7014', '#fe9929', \n",
    "           '#78c679', '#41ab5d', '#238443', '#66c2a4', '#41b6c4', \n",
    "           '#1d91c0', '#8c6bb1', '#225ea8', '#88419d', '#ae017e', \n",
    "           '#dd3497', '#f768a1', '#fcbba1', '#fc9272', '#fb6a4a', \n",
    "           '#e31a1c', '#fb6a4a', '#993404', '#b30000', '#800026',\n",
    "           '#bd0026', '#fc4e2a', '#fb6a4a', '#ef3b2c', '#ec7014', \n",
    "           '#fe9929', '#78c679', '#41ab5d', '#238443', '#66c2a4', \n",
    "           '#41b6c4', '#1d91c0', '#8c6bb1', '#225ea8', '#88419d', \n",
    "           '#ae017e', '#dd3497', '#f768a1', '#fcbba1', '#fc9272', \n",
    "           '#fb6a4a', '#e31a1c', '#fb6a4a', '#993404', '#b30000', \n",
    "           '#800026', 'k', 'k', 'k', 'k', 'k', 'k', 'k', 'k', 'k']"
   ]
  },
  {
   "cell_type": "code",
   "execution_count": null,
   "metadata": {
    "collapsed": true
   },
   "outputs": [],
   "source": [
    "colours = ['#1d91c0', '#045a8d', '#8c96c6', \n",
    "           '#238443', '#74c476', '#7fcdbb', \n",
    "           '#d7301f', '#dd3497', '#ec7014']"
   ]
  },
  {
   "cell_type": "code",
   "execution_count": null,
   "metadata": {
    "collapsed": false
   },
   "outputs": [],
   "source": [
    "all_u_fields = vdm.find_fields(tc['u'])\n",
    "all_shortcut_fields = vdm.find_fields(tc['shortcut'])\n",
    "all_novel_fields = vdm.find_fields(tc['novel'])\n",
    "\n",
    "# u_compare = vdm.find_fields(tc['u'], hz_thres=3)\n",
    "# shortcut_compare = vdm.find_fields(tc['shortcut'], hz_thres=3)\n",
    "# novel_compare = vdm.find_fields(tc['novel'], hz_thres=3)\n",
    "\n",
    "# u_fields_unique = vdm.unique_fields(all_u_fields, shortcut_compare, novel_compare)\n",
    "# shortcut_fields_unique = vdm.unique_fields(all_shortcut_fields, u_compare, novel_compare)\n",
    "# novel_fields_unique = vdm.unique_fields(all_novel_fields, u_compare, shortcut_compare)\n",
    "\n",
    "u_fields_sized = vdm.sized_fields(all_u_fields, max_length=15)\n",
    "shortcut_fields_sized = vdm.sized_fields(all_shortcut_fields, max_length=15)\n",
    "novel_fields_sized = vdm.sized_fields(all_novel_fields, max_length=15)\n",
    "\n",
    "u_fields_single = vdm.get_single_field(u_fields_sized)\n",
    "shortcut_fields_single = vdm.get_single_field(shortcut_fields_sized)\n",
    "novel_fields_single = vdm.get_single_field(novel_fields_sized)\n",
    "\n",
    "sort_idx = vdm.get_sort_idx(tc['u'])\n",
    "odd_firing_idx = get_odd_firing_idx(tc['u'])\n",
    "\n",
    "u_tc = []\n",
    "u_field_spikes = []\n",
    "for idx in sort_idx:\n",
    "    if idx not in odd_firing_idx:\n",
    "        if idx in u_fields_single:\n",
    "            u_field_spikes.append(spikes['time'][idx])\n",
    "            u_tc.append(tc['u'][idx])\n",
    "            \n",
    "sort_idx = vdm.get_sort_idx(tc['shortcut'])\n",
    "odd_firing_idx = get_odd_firing_idx(tc['shortcut'])\n",
    "\n",
    "shortcut_tc = []\n",
    "shortcut_field_spikes = []\n",
    "for idx in sort_idx:\n",
    "    if idx not in odd_firing_idx:\n",
    "        if idx in shortcut_fields_single:\n",
    "            shortcut_field_spikes.append(spikes['time'][idx])\n",
    "            shortcut_tc.append(tc['shortcut'][idx])\n",
    "            \n",
    "sort_idx = vdm.get_sort_idx(tc['novel'])\n",
    "odd_firing_idx = get_odd_firing_idx(tc['novel'])\n",
    "\n",
    "novel_tc = []\n",
    "novel_field_spikes = []\n",
    "for idx in sort_idx:\n",
    "    if idx not in odd_firing_idx:\n",
    "        if idx in novel_fields_single:\n",
    "            novel_field_spikes.append(spikes['time'][idx])\n",
    "            novel_tc.append(tc['novel'][idx])"
   ]
  },
  {
   "cell_type": "code",
   "execution_count": null,
   "metadata": {
    "collapsed": false
   },
   "outputs": [],
   "source": [
    "c = ['k', 'r', 'k', 'k', 'c', 'm', 'k', 'r', 'y', 'b', 'g', 'm', 'c', 'y', '#e7298a', '#41ab5d']\n",
    "for idx, tc in enumerate(novel_tc):\n",
    "    plt.plot(tc, color=c[idx])\n",
    "plt.show()\n"
   ]
  },
  {
   "cell_type": "code",
   "execution_count": null,
   "metadata": {
    "collapsed": true
   },
   "outputs": [],
   "source": []
  },
  {
   "cell_type": "code",
   "execution_count": null,
   "metadata": {
    "collapsed": false
   },
   "outputs": [],
   "source": [
    "print(len(u_field_spikes), len(shortcut_field_spikes), len(novel_field_spikes))"
   ]
  },
  {
   "cell_type": "code",
   "execution_count": null,
   "metadata": {
    "collapsed": false
   },
   "outputs": [],
   "source": [
    "# for_u = [u_field_spikes[0], u_field_spikes[1], u_field_spikes[3]]\n",
    "# for_shortcut = [shortcut_field_spikes[2], shortcut_field_spikes[4], shortcut_field_spikes[13]]\n",
    "# for_novel = [novel_field_spikes[0], novel_field_spikes[1]]\n",
    "\n",
    "for_u = [u_field_spikes[0], u_field_spikes[4], u_field_spikes[8], u_field_spikes[7]]\n",
    "for_shortcut = [shortcut_field_spikes[1], shortcut_field_spikes[3], shortcut_field_spikes[11], shortcut_field_spikes[12]]\n",
    "for_novel = [novel_field_spikes[0], novel_field_spikes[1], novel_field_spikes[2], novel_field_spikes[3]]"
   ]
  },
  {
   "cell_type": "code",
   "execution_count": null,
   "metadata": {
    "collapsed": true
   },
   "outputs": [],
   "source": []
  },
  {
   "cell_type": "code",
   "execution_count": null,
   "metadata": {
    "collapsed": true
   },
   "outputs": [],
   "source": []
  },
  {
   "cell_type": "code",
   "execution_count": null,
   "metadata": {
    "collapsed": true
   },
   "outputs": [],
   "source": [
    "all_u_fields = vdm.find_fields(tc['u'], hz_thres=8)\n",
    "all_shortcut_fields = vdm.find_fields(tc['shortcut'], hz_thres=8)\n",
    "all_novel_fields = vdm.find_fields(tc['novel'], hz_thres=8)\n",
    "\n",
    "# u_compare = vdm.find_fields(tc['u'], hz_thres=3)\n",
    "# shortcut_compare = vdm.find_fields(tc['shortcut'], hz_thres=3)\n",
    "# novel_compare = vdm.find_fields(tc['novel'], hz_thres=3)\n",
    "\n",
    "# u_fields_unique = vdm.unique_fields(all_u_fields, shortcut_compare, novel_compare)\n",
    "# shortcut_fields_unique = vdm.unique_fields(all_shortcut_fields, u_compare, novel_compare)\n",
    "# novel_fields_unique = vdm.unique_fields(all_novel_fields, u_compare, shortcut_compare)\n",
    "\n",
    "u_fields_size = vdm.sized_fields(all_u_fields, min_length=3, max_length=15)\n",
    "shortcut_fields_size = vdm.sized_fields(all_shortcut_fields, min_length=3, max_length=15)\n",
    "novel_fields_size = vdm.sized_fields(all_novel_fields, min_length=3, max_length=15)\n",
    "\n",
    "u_fields = vdm.get_single_field(u_fields_size)\n",
    "shortcut_fields = vdm.get_single_field(shortcut_fields_size)\n",
    "novel_fields = vdm.get_single_field(novel_fields_size)"
   ]
  },
  {
   "cell_type": "code",
   "execution_count": null,
   "metadata": {
    "collapsed": false
   },
   "outputs": [],
   "source": [
    "this_tc = tc['u']\n",
    "\n",
    "sort_idx = vdm.get_sort_idx(this_tc)\n",
    "\n",
    "odd_firing_idx = get_odd_firing_idx(this_tc)\n",
    "\n",
    "these_fields = []\n",
    "for key in u_fields:\n",
    "    these_fields.append(key)\n",
    "\n",
    "field_spikes = []\n",
    "field_tc = []\n",
    "for idx in sort_idx:\n",
    "    if idx not in odd_firing_idx:\n",
    "        if idx in these_fields:\n",
    "            field_spikes.append(spikes['time'][idx])\n",
    "            field_tc.append(this_tc[idx])"
   ]
  },
  {
   "cell_type": "code",
   "execution_count": null,
   "metadata": {
    "collapsed": false
   },
   "outputs": [],
   "source": [
    "speed = vdm.get_speed(pos)\n",
    "\n",
    "t_run = speed['time'][speed['smoothed'] >= info.run_threshold]\n",
    "\n",
    "run_idx = np.zeros(pos['time'].shape, dtype=bool)\n",
    "for idx in t_run:\n",
    "    run_idx |= (pos['time'] == idx)\n",
    "    \n",
    "run_pos = dict()\n",
    "run_pos['x'] = pos['x'][run_idx]\n",
    "run_pos['y'] = pos['y'][run_idx]\n",
    "run_pos['time'] = pos['time'][run_idx]"
   ]
  },
  {
   "cell_type": "code",
   "execution_count": null,
   "metadata": {
    "collapsed": true
   },
   "outputs": [],
   "source": [
    "t_start = info.task_times['prerecord'][0]\n",
    "t_stop = info.task_times['postrecord'][1]\n",
    "linear, zone = linearize(info, run_pos, t_start, t_stop, expand_by=2)"
   ]
  },
  {
   "cell_type": "code",
   "execution_count": null,
   "metadata": {
    "collapsed": false
   },
   "outputs": [],
   "source": [
    "this_linear = linear['u']"
   ]
  },
  {
   "cell_type": "code",
   "execution_count": null,
   "metadata": {
    "collapsed": false
   },
   "outputs": [],
   "source": [
    "print(len(these_fields))"
   ]
  },
  {
   "cell_type": "code",
   "execution_count": null,
   "metadata": {
    "collapsed": false
   },
   "outputs": [],
   "source": [
    "sns.set_style('white')\n",
    "sns.set_style('ticks')"
   ]
  },
  {
   "cell_type": "code",
   "execution_count": null,
   "metadata": {
    "collapsed": false,
    "scrolled": false
   },
   "outputs": [],
   "source": [
    "# swr = 1991\n",
    "# # for swr in [2090, 2196]:\n",
    "\n",
    "# print(swr)\n",
    "ms = 10\n",
    "loc = 1\n",
    "\n",
    "# start_time = info.sequence['u']['run_start'][1]\n",
    "# stop_time = info.sequence['u']['run_stop'][1]\n",
    "\n",
    "# start_time_swr = info.sequence['u']['swr_start'][1]\n",
    "# stop_time_swr = info.sequence['u']['swr_stop'][1]\n",
    "\n",
    "start_time = 3632\n",
    "stop_time = 3667\n",
    "\n",
    "# start_time_swr = 8206.82\n",
    "# stop_time_swr = 8207.38\n",
    "\n",
    "start_time_swr = 8965.4\n",
    "stop_time_swr = 8966\n",
    "\n",
    "\n",
    "# for i, (start_time, stop_time, start_time_swr, stop_time_swr) in enumerate(zip(info.sequence['run_start'], \n",
    "#                                                                                info.sequence['run_stop'], \n",
    "#                                                                                info.sequence['swr_start'], \n",
    "#                                                                                info.sequence['swr_stop'])):\n",
    "spike_loc = 2\n",
    "\n",
    "rows = len(field_spikes)+1\n",
    "cols = 7\n",
    "fig = plt.figure()\n",
    "ax1 = plt.subplot2grid((rows, cols), (0, 1), rowspan=rows, colspan=4)\n",
    "ax2 = plt.subplot2grid((rows, cols), (0, 5), rowspan=rows, colspan=2)\n",
    "\n",
    "max_position = np.zeros(len(this_linear['time']))\n",
    "max_position.fill(np.max(this_linear['position']/90))\n",
    "ax1.plot(this_linear['time'], max_position, color='#bdbdbd', lw=1)\n",
    "ax1.plot(this_linear['time'], this_linear['position']/90, 'b.', ms=4)\n",
    "ax1.plot(csc['time'], csc['data']*800+1.25, 'k', lw=1)\n",
    "\n",
    "for sw_start, sw_stop in zip(swr_idx['start'], swr_idx['stop']):\n",
    "    ax1.plot(csc['time'][sw_start:sw_stop], csc['data'][sw_start:sw_stop]*800+1.25, 'r', lw=2)\n",
    "    \n",
    "for idx, neuron_spikes in enumerate(field_spikes):\n",
    "    ax1.plot(neuron_spikes, np.ones(len(neuron_spikes))+(idx*spike_loc+3), '|', \n",
    "             color=colours[int(np.floor((idx*spike_loc+3)/spike_loc))], ms=ms, mew=2)\n",
    "ax1.set_xlim([start_time, stop_time])\n",
    "ax1.set_ylim([0, len(field_spikes)*spike_loc+3])\n",
    "vdm.add_scalebar(ax1, matchy=False, loc=loc)\n",
    "# plt.setp(ax1, xticks=[], xticklabels=[], yticks=[])\n",
    "\n",
    "ax2.plot(csc['time'], csc['data']*1000+1.25, 'k', lw=1)\n",
    "ax2.plot(csc['time'], filtered_butter*1000+0.5, 'b', lw=1)\n",
    "for sw_start, sw_stop in zip(swr_idx['start'], swr_idx['stop']):\n",
    "    ax2.plot(csc['time'][sw_start:sw_stop], csc['data'][sw_start:sw_stop]*1000+1.25, 'r', lw=2)\n",
    "\n",
    "for j, neuron_spikes in enumerate(field_spikes):\n",
    "    ax2.plot(neuron_spikes, np.ones(len(neuron_spikes))+(j*spike_loc+3), '|', \n",
    "             color=colours[int(np.floor((j*spike_loc+3)/spike_loc))], ms=ms, mew=2)\n",
    "ax2.set_xlim([start_time_swr, stop_time_swr])\n",
    "ax2.set_ylim([0, len(field_spikes)*spike_loc+3])\n",
    "vdm.add_scalebar(ax2, matchy=False, loc=loc)\n",
    "# plt.setp(ax2, xticks=[], xticklabels=[], yticks=[])\n",
    "\n",
    "x = list(range(0, len(field_tc[0])))\n",
    "\n",
    "for ax_loc in range(0, rows-1):\n",
    "    ax = plt.subplot2grid((rows, cols), (ax_loc, 0))\n",
    "\n",
    "    idx = rows - ax_loc - 1\n",
    "    ax.plot(field_tc[idx-1], color=colours[idx-1])\n",
    "    ax.fill_between(x, 0, field_tc[idx-1], facecolor=colours[idx-1])\n",
    "    max_loc = np.where(field_tc[idx-1] == np.max(field_tc[idx-1]))[0][0]\n",
    "    ax.text(max_loc-3, 1, str(int(np.ceil(np.max(field_tc[idx-1])))))\n",
    "    ax.spines['right'].set_visible(False)\n",
    "    ax.spines['top'].set_visible(False)\n",
    "    plt.setp(ax, xticks=[], xticklabels=[], yticks=[])\n",
    "\n",
    "sns.despine()\n",
    "plt.show()\n",
    "#     filename = info.session_id + '_sequence-swr' + str(i) + '.png'\n",
    "#     print(filename)\n",
    "#     savepath = os.path.join(output_filepath, filename)\n",
    "#     plt.savefig(savepath, dpi=300, bbox_inches='tight')\n",
    "#     plt.close()"
   ]
  },
  {
   "cell_type": "code",
   "execution_count": null,
   "metadata": {
    "collapsed": true
   },
   "outputs": [],
   "source": []
  },
  {
   "cell_type": "code",
   "execution_count": null,
   "metadata": {
    "collapsed": true
   },
   "outputs": [],
   "source": []
  },
  {
   "cell_type": "code",
   "execution_count": null,
   "metadata": {
    "collapsed": true
   },
   "outputs": [],
   "source": []
  },
  {
   "cell_type": "code",
   "execution_count": null,
   "metadata": {
    "collapsed": false,
    "scrolled": true
   },
   "outputs": [],
   "source": [
    "for trajectory in ['shortcut']:\n",
    "\n",
    "    print(info.session_id, trajectory)\n",
    "    pos = info.get_pos(info.pxl_to_cm)\n",
    "    csc = info.get_csc()\n",
    "    spikes = info.get_spikes()\n",
    "\n",
    "    tc = get_tc(info, pos, pickle_filepath)\n",
    "\n",
    "    filename = info.session_id + '_spike_heatmaps.pkl'\n",
    "    pickled_spike_heatmaps = os.path.join(pickle_filepath, filename)\n",
    "    if os.path.isfile(pickled_spike_heatmaps):\n",
    "        with open(pickled_spike_heatmaps, 'rb') as fileobj:\n",
    "            spike_heatmaps = pickle.load(fileobj)\n",
    "    else:\n",
    "        spikes = info.get_spikes()\n",
    "\n",
    "        all_neurons = list(range(1, len(spikes['time'])))\n",
    "        spike_heatmaps = vdm.get_heatmaps(all_neurons, spikes, pos)\n",
    "        with open(pickled_spike_heatmaps, 'wb') as fileobj:\n",
    "            pickle.dump(spike_heatmaps, fileobj)\n",
    "\n",
    "    t_start = info.task_times['prerecord'][0]\n",
    "    t_stop = info.task_times['postrecord'][1]\n",
    "    linear, zone = linearize(info, pos)\n",
    "\n",
    "    # swr_times, swr_idx, filtered_butter = vdm.detect_swr_hilbert(csc, fs=info.fs)\n",
    "\n",
    "    sort_idx = vdm.get_sort_idx(tc[trajectory])\n",
    "\n",
    "    odd_firing_idx = get_odd_firing_idx(tc[trajectory])\n",
    "\n",
    "\n",
    "    all_fields = vdm.find_fields(tc[trajectory])\n",
    "\n",
    "    # u_compare = vdm.find_fields(tc['u'], hz_thres=3)\n",
    "    # shortcut_compare = vdm.find_fields(tc['shortcut'], hz_thres=3)\n",
    "    # novel_compare = vdm.find_fields(tc['novel'], hz_thres=3)\n",
    "    #\n",
    "    # u_fields_unique = vdm.unique_fields(all_u_fields, shortcut_compare, novel_compare)\n",
    "    # shortcut_fields_unique = vdm.unique_fields(all_shortcut_fields, u_compare, novel_compare)\n",
    "    # novel_fields_unique = vdm.unique_fields(all_novel_fields, u_compare, shortcut_compare)\n",
    "\n",
    "    fields_size = vdm.sized_fields(all_fields, max_length=15)\n",
    "    with_fields = vdm.get_single_field(fields_size)\n",
    "\n",
    "    sequence = info.sequence[trajectory]\n",
    "    this_linear = linear[trajectory]\n",
    "\n",
    "    these_fields = []\n",
    "    for key in with_fields:\n",
    "        these_fields.append(key)\n",
    "\n",
    "    field_spikes = []\n",
    "    field_tc = []\n",
    "    for idx in sort_idx:\n",
    "        if idx not in odd_firing_idx:\n",
    "            if idx in these_fields:\n",
    "                field_spikes.append(spikes['time'][idx])\n",
    "                field_tc.append(tc[trajectory][idx])"
   ]
  },
  {
   "cell_type": "code",
   "execution_count": null,
   "metadata": {
    "collapsed": false,
    "scrolled": false
   },
   "outputs": [],
   "source": [
    "sequence = info.sequence['shortcut']\n",
    "\n",
    "start_time = info.sequence['shortcut']['run_start'][0]\n",
    "stop_time = info.sequence['shortcut']['run_stop'][0]\n",
    "\n",
    "start_time_swr = info.sequence['shortcut']['swr_start'][0]\n",
    "stop_time_swr = info.sequence['shortcut']['swr_stop'][0]\n",
    "\n",
    "lfp_pos_y = 2\n",
    "rows = len(field_spikes) + lfp_pos_y\n",
    "cols = 7\n",
    "\n",
    "spike_loc = lfp_pos_y + 1/rows \n",
    "\n",
    "fig = plt.figure()\n",
    "\n",
    "ax1 = plt.subplot2grid((rows, cols), (rows-lfp_pos_y, 1),  colspan=4)\n",
    "# max_position = np.zeros(len(this_linear['time']))\n",
    "# max_position.fill(np.max(this_linear['position']))\n",
    "ax1.plot(this_linear['time'], np.zeros(len(this_linear['time'])), color='#bdbdbd', lw=1)\n",
    "ax1.plot(this_linear['time'], -this_linear['position'], 'k', lw=1)\n",
    "ax1.set_xlim([start_time, stop_time])\n",
    "plt.setp(ax1, xticks=[], xticklabels=[], yticks=[])\n",
    "sns.despine(ax=ax1)\n",
    "\n",
    "for ax_loc in range(0, rows-lfp_pos_y-1):\n",
    "    ax = plt.subplot2grid((rows, cols), (ax_loc, 1), colspan=4, sharex=ax1)\n",
    "    spike_y = (ax_loc * spike_loc + lfp_pos_y)\n",
    "    ax.plot(field_spikes[ax_loc], np.ones(len(field_spikes[ax_loc]))+spike_y, '|',\n",
    "             color=sequence['colours'][ax_loc], ms=sequence['ms'], mew=1)\n",
    "    ax.set_xlim([start_time, stop_time])\n",
    "    if ax_loc == 0:\n",
    "        vdm.add_scalebar(ax, matchy=False, bbox_transform=ax.transAxes, bbox_to_anchor=(0.9, 1.1))\n",
    "    if ax_loc == rows-lfp_pos_y-1:\n",
    "        sns.despine(ax=ax)\n",
    "    else:\n",
    "        sns.despine(ax=ax, bottom=True)\n",
    "    plt.setp(ax, xticks=[], xticklabels=[], yticks=[])\n",
    "\n",
    "ax2 = plt.subplot2grid((rows, cols), (rows-lfp_pos_y, 5), colspan=2)\n",
    "ax2.plot(csc['time'], csc['data']*1000*(1*1/rows), 'k', lw=1)\n",
    "ax2.set_xlim([start_time_swr, stop_time_swr])\n",
    "# plt.plot(csc['time'], filtered_butter*1000+0.5, 'b', lw=1)\n",
    "plt.setp(ax2, xticks=[], xticklabels=[], yticks=[])\n",
    "sns.despine(ax=ax2)\n",
    "\n",
    "for ax_loc in range(0, rows-lfp_pos_y-1):\n",
    "    ax = plt.subplot2grid((rows, cols), (ax_loc, 5), colspan=2, sharex=ax2)\n",
    "    spike_y = (ax_loc * spike_loc + lfp_pos_y)\n",
    "    ax.plot(field_spikes[ax_loc], np.ones(len(field_spikes[ax_loc]))+spike_y, '|',\n",
    "             color=sequence['colours'][ax_loc],\n",
    "             ms=sequence['ms'], mew=1)\n",
    "    ax.set_xlim([start_time_swr, stop_time_swr])\n",
    "    if ax_loc == 0:\n",
    "        vdm.add_scalebar(ax, matchy=False, bbox_transform=ax.transAxes, bbox_to_anchor=(0.9, 1.1))\n",
    "    if ax_loc == rows-lfp_pos_y-1:\n",
    "        sns.despine(ax=ax)\n",
    "    else:\n",
    "        sns.despine(ax=ax, bottom=True)\n",
    "    plt.setp(ax, xticks=[], xticklabels=[], yticks=[])\n",
    "\n",
    "x = list(range(0, np.shape(field_tc)[1]))\n",
    "\n",
    "for ax_loc in range(0, rows-lfp_pos_y-1):\n",
    "    ax = plt.subplot2grid((rows, cols), (ax_loc, 0))\n",
    "    ax.plot(field_tc[ax_loc], color=sequence['colours'][ax_loc])\n",
    "    ax.fill_between(x, 0, field_tc[ax_loc], facecolor=sequence['colours'][ax_loc])\n",
    "    max_loc = np.where(field_tc[ax_loc] == np.max(field_tc[ax_loc]))[0][0]\n",
    "    ax.text(max_loc-3, 1, str(int(np.ceil(np.max(field_tc[ax_loc])))), fontsize=8)\n",
    "    plt.setp(ax, xticks=[], xticklabels=[], yticks=[])\n",
    "    sns.despine(ax=ax)\n",
    "\n",
    "# plt.tight_layout()\n",
    "fig.subplots_adjust(hspace=0, wspace=0.1)\n",
    "plt.show()"
   ]
  },
  {
   "cell_type": "code",
   "execution_count": null,
   "metadata": {
    "collapsed": false
   },
   "outputs": [],
   "source": []
  },
  {
   "cell_type": "code",
   "execution_count": null,
   "metadata": {
    "collapsed": false
   },
   "outputs": [],
   "source": []
  },
  {
   "cell_type": "code",
   "execution_count": null,
   "metadata": {
    "collapsed": false
   },
   "outputs": [],
   "source": [
    "rows-lfp_pos_y-1"
   ]
  },
  {
   "cell_type": "code",
   "execution_count": null,
   "metadata": {
    "collapsed": false
   },
   "outputs": [],
   "source": [
    "sequence['colours'][i]"
   ]
  },
  {
   "cell_type": "code",
   "execution_count": null,
   "metadata": {
    "collapsed": true
   },
   "outputs": [],
   "source": []
  },
  {
   "cell_type": "code",
   "execution_count": null,
   "metadata": {
    "collapsed": true
   },
   "outputs": [],
   "source": []
  },
  {
   "cell_type": "code",
   "execution_count": null,
   "metadata": {
    "collapsed": true
   },
   "outputs": [],
   "source": []
  },
  {
   "cell_type": "code",
   "execution_count": null,
   "metadata": {
    "collapsed": false
   },
   "outputs": [],
   "source": [
    "print(len(this_linear['time']))"
   ]
  },
  {
   "cell_type": "code",
   "execution_count": null,
   "metadata": {
    "collapsed": false
   },
   "outputs": [],
   "source": [
    "4882+30"
   ]
  },
  {
   "cell_type": "code",
   "execution_count": null,
   "metadata": {
    "collapsed": false
   },
   "outputs": [],
   "source": [
    "max_position = np.zeros(len(linear['u']['time']))\n",
    "max_position.fill(np.max(linear['u']['position']/90))\n",
    "plt.plot(linear['u']['time'], max_position, color='#969696', lw=1)\n",
    "plt.plot(linear['u']['time'], np.array(linear['u']['position'])/90, 'k')\n",
    "plt.xlim(start_time, stop_time)\n",
    "plt.show()"
   ]
  },
  {
   "cell_type": "code",
   "execution_count": null,
   "metadata": {
    "collapsed": false
   },
   "outputs": [],
   "source": [
    "max_position = np.zeros(len(linear['u']['time']))\n",
    "max_position.fill(np.max(linear['u']['position']/90))\n",
    "print(max_position)"
   ]
  },
  {
   "cell_type": "code",
   "execution_count": null,
   "metadata": {
    "collapsed": false
   },
   "outputs": [],
   "source": [
    "plt.plot(csc['time'], csc['data']*1000+1.25, 'b')\n",
    "plt.plot(csc['time'], filtered_butter*1000+0.5, 'b')\n",
    "plt.xlim(start_time_swr, stop_time_swr)\n",
    "plt.ylim(0, 2)\n",
    "plt.show()\n"
   ]
  },
  {
   "cell_type": "code",
   "execution_count": null,
   "metadata": {
    "collapsed": false
   },
   "outputs": [],
   "source": [
    "print('run:', start_time, stop_time)\n",
    "print('swr:', start_time_swr, stop_time_swr)"
   ]
  },
  {
   "cell_type": "code",
   "execution_count": null,
   "metadata": {
    "collapsed": false
   },
   "outputs": [],
   "source": [
    "print(np.where(field_tc[idx-1] == np.max(field_tc[idx-1]))[0][0])"
   ]
  },
  {
   "cell_type": "code",
   "execution_count": null,
   "metadata": {
    "collapsed": false
   },
   "outputs": [],
   "source": [
    "14609.0 - 14579.0"
   ]
  },
  {
   "cell_type": "code",
   "execution_count": null,
   "metadata": {
    "collapsed": false
   },
   "outputs": [],
   "source": [
    "ordered_spikes = []\n",
    "for idx in sort_idx:\n",
    "    if idx not in odd_firing_idx:\n",
    "        ordered_spikes.append(spikes['time'][idx])"
   ]
  },
  {
   "cell_type": "code",
   "execution_count": null,
   "metadata": {
    "collapsed": true
   },
   "outputs": [],
   "source": [
    "all_neurons = []\n",
    "for neuron_spikes in field_spikes:\n",
    "    this_neuron = []\n",
    "    for swr_start, swr_stop in zip(swr_times['start'], swr_times['stop']):\n",
    "        start_idx = vdm.find_nearest_idx(neuron_spikes, swr_start)\n",
    "        stop_idx = vdm.find_nearest_idx(neuron_spikes, swr_stop)\n",
    "        this_neuron.append(len(neuron_spikes[start_idx:stop_idx]))\n",
    "    all_neurons.append(this_neuron)"
   ]
  },
  {
   "cell_type": "code",
   "execution_count": null,
   "metadata": {
    "collapsed": false
   },
   "outputs": [],
   "source": [
    "count_mult_neurons = []\n",
    "for i, swr_start in enumerate(swr_times['start']):\n",
    "    count_single_neurons = []\n",
    "    for swr_spike_num in all_neurons:\n",
    "        if swr_spike_num[i] > 0:\n",
    "            count_single_neurons.append(i)\n",
    "            if len(count_single_neurons) > 2:\n",
    "                if i not in count_mult_neurons:\n",
    "                    count_mult_neurons.append(i)\n",
    "print('Swr events with multiple neurons:', len(count_mult_neurons))\n",
    "print('Number of neurons:', len(field_spikes))"
   ]
  },
  {
   "cell_type": "code",
   "execution_count": null,
   "metadata": {
    "collapsed": false,
    "scrolled": true
   },
   "outputs": [],
   "source": [
    "for get_this in count_mult_neurons:\n",
    "    mult_idx = get_this\n",
    "    print(mult_idx)\n",
    "\n",
    "    plt.plot(csc['time'], csc['data']*10500)\n",
    "    for swr_start, swr_stop in zip(swr_idx['start'], swr_idx['stop']):\n",
    "        plt.plot(csc['time'][swr_start:swr_stop], csc['data'][swr_start:swr_stop]*10500, 'r')\n",
    "\n",
    "    for i, neuron_spikes in enumerate(field_spikes):\n",
    "        plt.plot(neuron_spikes, np.ones(len(neuron_spikes))+i*2+1, '|', color='k', ms=10, mew=1)\n",
    "    plt.xlim(csc['time'][swr_idx['start'][idx]]-1, csc['time'][swr_idx['start'][idx]]+1)\n",
    "\n",
    "    plt.ylim(-5, len(field_spikes)*2+1)\n",
    "    plt.xlim(swr_times['start'][mult_idx]-0.1, swr_times['stop'][mult_idx]+0.1)\n",
    "    plt.show()"
   ]
  },
  {
   "cell_type": "code",
   "execution_count": null,
   "metadata": {
    "collapsed": false
   },
   "outputs": [],
   "source": [
    "swr_idx['start']"
   ]
  },
  {
   "cell_type": "code",
   "execution_count": null,
   "metadata": {
    "collapsed": true
   },
   "outputs": [],
   "source": []
  },
  {
   "cell_type": "code",
   "execution_count": null,
   "metadata": {
    "collapsed": true
   },
   "outputs": [],
   "source": []
  },
  {
   "cell_type": "code",
   "execution_count": null,
   "metadata": {
    "collapsed": true
   },
   "outputs": [],
   "source": []
  }
 ],
 "metadata": {
  "kernelspec": {
   "display_name": "Python 3",
   "language": "python",
   "name": "python3"
  },
  "language_info": {
   "codemirror_mode": {
    "name": "ipython",
    "version": 3
   },
   "file_extension": ".py",
   "mimetype": "text/x-python",
   "name": "python",
   "nbconvert_exporter": "python",
   "pygments_lexer": "ipython3",
   "version": "3.5.2"
  }
 },
 "nbformat": 4,
 "nbformat_minor": 0
}
