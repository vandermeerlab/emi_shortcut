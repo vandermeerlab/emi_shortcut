{
 "cells": [
  {
   "cell_type": "code",
   "execution_count": null,
   "metadata": {
    "ExecuteTime": {
     "end_time": "2017-03-28T08:16:49.597985",
     "start_time": "2017-03-28T08:16:48.904222"
    },
    "collapsed": false
   },
   "outputs": [],
   "source": [
    "%matplotlib inline\n",
    "import matplotlib.pyplot as plt\n",
    "import numpy as np\n",
    "import pickle\n",
    "import os\n",
    "import nept\n",
    "\n",
    "from loading_data import get_data"
   ]
  },
  {
   "cell_type": "code",
   "execution_count": null,
   "metadata": {
    "collapsed": false
   },
   "outputs": [],
   "source": [
    "import math"
   ]
  },
  {
   "cell_type": "code",
   "execution_count": null,
   "metadata": {
    "collapsed": false
   },
   "outputs": [],
   "source": [
    "sig = nept.get_edges(position, np.median(np.diff(position.time)), lastbin=True)\n",
    "frame_len = 0.02\n",
    "frame_step = 0.005\n",
    "\n",
    "slen = len(sig)\n",
    "if slen <= frame_len:\n",
    "    numframes = 1\n",
    "else:\n",
    "    numframes = 1 + int(math.ceil((1.0 * slen - frame_len) / frame_step))\n",
    "\n",
    "padlen = int((numframes - 1) * frame_step + frame_len)\n",
    "padsignal = np.concatenate((sig,  np.zeros(padlen - slen)))\n",
    "\n",
    "indices = (np.tile(np.arange(frame_len), (numframes, 1))\n",
    "           + np.tile(np.arange(0, numframes * frame_step, frame_step),\n",
    "                     (frame_len, 1)).T.astype(dtype=np.int32))\n",
    "frames = padsignal[indices]\n",
    "win = np.tile(winfunc(frame_len), (numframes, 1))\n",
    "\n",
    "yy = frames * win\n",
    "print(yy)"
   ]
  },
  {
   "cell_type": "code",
   "execution_count": null,
   "metadata": {
    "collapsed": false
   },
   "outputs": [],
   "source": [
    "binsize = 0.02\n",
    "stepsize = 0.005\n",
    "\n",
    "n_counts = binsize / stepsize\n",
    "\n",
    "newarray = np.array([1])\n",
    "this_position = nept.Position([np.insert(position.x[0:-len(newarray)], 0, np.array(np.zeros(len(newarray))))],\n",
    "                               np.insert(position.time[0:-len(newarray)], 0, np.array(np.min(position.time)-newarray)))\n",
    "edges = nept.get_edges(this_position, stepsize, lastbin=True)\n",
    "\n",
    "counts = np.zeros((len(spikes), len(edges)-1))\n",
    "for idx, spiketrain in enumerate(spikes):\n",
    "    counts[idx] = np.histogram(spiketrain.time, bins=edges)[0]"
   ]
  },
  {
   "cell_type": "code",
   "execution_count": null,
   "metadata": {
    "collapsed": false
   },
   "outputs": [],
   "source": [
    "position.time"
   ]
  },
  {
   "cell_type": "code",
   "execution_count": null,
   "metadata": {
    "collapsed": false
   },
   "outputs": [],
   "source": [
    "spikes = [nept.SpikeTrain([0.8, 1.1, 1.2, 1.2, 2.1, 3.1])]\n",
    "position = nept.Position(np.array([1., 6.]), np.array([0., 4.]))\n",
    "\n",
    "binsize = 0.02\n",
    "stepsize = 0.005\n",
    "\n",
    "def test_binning(position, spikes, binsize=0.025, stepsize=0.0125):\n",
    "    edges = nept.get_edges(position, stepsize, lastbin=False)\n",
    "    final_counts = np.zeros((len(spikes), len(edges)-1))\n",
    "\n",
    "    count = 0\n",
    "    for num in range(int(binsize / stepsize)):\n",
    "        count += 1\n",
    "        these_edges = np.arange(edges[num], edges[-1]+(stepsize*count), stepsize)\n",
    "\n",
    "        counts = np.zeros((len(spikes), len(these_edges)-1))\n",
    "        for idx, spiketrain in enumerate(spikes):\n",
    "            counts[idx] = np.histogram(spiketrain.time, bins=these_edges)[0]\n",
    "        final_counts += counts\n",
    "        \n",
    "    return final_counts"
   ]
  },
  {
   "cell_type": "code",
   "execution_count": null,
   "metadata": {
    "collapsed": false
   },
   "outputs": [],
   "source": [
    "final_counts"
   ]
  },
  {
   "cell_type": "code",
   "execution_count": null,
   "metadata": {
    "collapsed": false
   },
   "outputs": [],
   "source": [
    "print(len(counts[0]))"
   ]
  },
  {
   "cell_type": "code",
   "execution_count": null,
   "metadata": {
    "collapsed": false
   },
   "outputs": [],
   "source": [
    "print(counts)"
   ]
  },
  {
   "cell_type": "code",
   "execution_count": null,
   "metadata": {
    "collapsed": true
   },
   "outputs": [],
   "source": []
  },
  {
   "cell_type": "code",
   "execution_count": null,
   "metadata": {
    "collapsed": true
   },
   "outputs": [],
   "source": []
  },
  {
   "cell_type": "code",
   "execution_count": null,
   "metadata": {
    "collapsed": true
   },
   "outputs": [],
   "source": []
  },
  {
   "cell_type": "code",
   "execution_count": null,
   "metadata": {
    "collapsed": false
   },
   "outputs": [],
   "source": [
    "int(math.ceil((1.0 * slen - frame_len))"
   ]
  },
  {
   "cell_type": "code",
   "execution_count": null,
   "metadata": {
    "collapsed": true
   },
   "outputs": [],
   "source": []
  },
  {
   "cell_type": "code",
   "execution_count": null,
   "metadata": {
    "collapsed": true
   },
   "outputs": [],
   "source": [
    "def framesig(sig, frame_len, frame_step, winfunc=lambda x: np.ones(x)):\n",
    "    \"\"\"Frame a signal into overlapping frames.\n",
    "    Parameters\n",
    "    ----------\n",
    "    sig : array_like\n",
    "        The audio signal to frame.\n",
    "    frame_len : int\n",
    "        Length of each frame, in samples.\n",
    "    frame_step : int\n",
    "        Number of samples after the start of the previous frame\n",
    "        that the next frame should begin.\n",
    "    winfunc : function, optional\n",
    "        The analysis window to apply to each frame. Default: No window\n",
    "    Returns\n",
    "    -------\n",
    "    Numpy array of frames with shape (NUMFRAMES, frame_len).\n",
    "    \"\"\"\n",
    "\n",
    "    slen = len(sig)\n",
    "    frame_len = int(round(frame_len))\n",
    "    frame_step = int(round(frame_step))\n",
    "    if slen <= frame_len:\n",
    "        numframes = 1\n",
    "    else:\n",
    "        numframes = 1 + int(math.ceil((1.0 * slen - frame_len) / frame_step))\n",
    "\n",
    "    padlen = int((numframes - 1) * frame_step + frame_len)\n",
    "    padsignal = np.concatenate((sig,  np.zeros(padlen - slen)))\n",
    "\n",
    "    indices = (np.tile(np.arange(frame_len), (numframes, 1))\n",
    "               + np.tile(np.arange(0, numframes * frame_step, frame_step),\n",
    "                         (frame_len, 1)).T.astype(dtype=np.int32))\n",
    "    frames = padsignal[indices]\n",
    "    win = np.tile(winfunc(frame_len), (numframes, 1))\n",
    "    return frames * win"
   ]
  },
  {
   "cell_type": "code",
   "execution_count": null,
   "metadata": {
    "collapsed": true
   },
   "outputs": [],
   "source": []
  },
  {
   "cell_type": "code",
   "execution_count": null,
   "metadata": {
    "collapsed": true
   },
   "outputs": [],
   "source": []
  },
  {
   "cell_type": "code",
   "execution_count": null,
   "metadata": {
    "collapsed": true
   },
   "outputs": [],
   "source": []
  },
  {
   "cell_type": "code",
   "execution_count": null,
   "metadata": {
    "collapsed": true
   },
   "outputs": [],
   "source": [
    "import info.r066d3 as info"
   ]
  },
  {
   "cell_type": "code",
   "execution_count": null,
   "metadata": {
    "collapsed": true
   },
   "outputs": [],
   "source": [
    "home = os.path.expanduser(\"~\")\n",
    "emi_shortcut = os.path.join(home, \"code\", \"emi_shortcut\")\n",
    "pickle_filepath = os.path.join(emi_shortcut, \"cache\", \"pickled\")\n",
    "# pickle_filepath = 'E:/code/emi_shortcut/cache/pickled'\n",
    "output_filepath = os.path.join(emi_shortcut, \"plots\")"
   ]
  },
  {
   "cell_type": "code",
   "execution_count": null,
   "metadata": {
    "collapsed": false
   },
   "outputs": [],
   "source": [
    "events, position, spikes, lfp, lfp_theta = get_data(info)\n",
    "xedges, yedges = nept.get_xyedges(position)"
   ]
  },
  {
   "cell_type": "code",
   "execution_count": null,
   "metadata": {
    "collapsed": false
   },
   "outputs": [],
   "source": [
    "type(position) == nept.objects.Position"
   ]
  },
  {
   "cell_type": "code",
   "execution_count": null,
   "metadata": {
    "collapsed": true
   },
   "outputs": [],
   "source": []
  },
  {
   "cell_type": "markdown",
   "metadata": {},
   "source": [
    "# Saving many tuning curves on the same plot"
   ]
  },
  {
   "cell_type": "code",
   "execution_count": null,
   "metadata": {
    "collapsed": true
   },
   "outputs": [],
   "source": [
    "import matplotlib.gridspec as gridspec\n",
    "\n",
    "rows = 8\n",
    "cols = 14\n",
    "fig = plt.figure(figsize=(10, 10))\n",
    "\n",
    "grids = gridspec.GridSpec(cols, rows)\n",
    "grids.update(wspace=0.02, hspace=0.05)\n",
    "\n",
    "xx, yy = np.meshgrid(xedges, yedges)\n",
    "for i in range(rows*cols):\n",
    "    ax = plt.subplot(grids[i])\n",
    "    pp = ax.pcolormesh(xx, yy, tuning_curves[i], cmap='pink_r')\n",
    "    ax.axis('off')\n",
    "    \n",
    "plt.show()\n",
    "\n",
    "# savepath = 'E:/code/emi_shortcut/plots/tuning/' + info.session_id + 'many_tuning-curves.png'\n",
    "# plt.savefig(savepath, dpi=300, bbox_inches='tight')"
   ]
  },
  {
   "cell_type": "code",
   "execution_count": null,
   "metadata": {
    "collapsed": true
   },
   "outputs": [],
   "source": []
  },
  {
   "cell_type": "markdown",
   "metadata": {},
   "source": [
    "# Testing Neuralynx events"
   ]
  },
  {
   "cell_type": "code",
   "execution_count": null,
   "metadata": {
    "collapsed": true
   },
   "outputs": [],
   "source": [
    "dataloc = 'C:/Users/EmilyWork/Desktop/20170104'\n",
    "session = '2017-01-05_test1'\n",
    "event_filename = 'Events.nev'\n",
    "# event_labels = dict(on='on',\n",
    "#                     off='off')\n",
    "event_labels = dict(on='TTL Output on AcqSystem1_0 board 0 port 3 value (0x0002).',\n",
    "                    off='TTL Output on AcqSystem1_0 board 0 port 3 value (0x0000).')"
   ]
  },
  {
   "cell_type": "code",
   "execution_count": null,
   "metadata": {
    "collapsed": true
   },
   "outputs": [],
   "source": [
    "filepath = os.path.join(dataloc, session, event_filename)\n",
    "events = nept.load_events(filepath, event_labels)"
   ]
  },
  {
   "cell_type": "code",
   "execution_count": null,
   "metadata": {
    "collapsed": true
   },
   "outputs": [],
   "source": [
    "len(events['off']), len(events['on'])"
   ]
  },
  {
   "cell_type": "code",
   "execution_count": null,
   "metadata": {
    "collapsed": true
   },
   "outputs": [],
   "source": []
  }
 ],
 "metadata": {
  "anaconda-cloud": {},
  "kernelspec": {
   "display_name": "Python 3",
   "language": "python",
   "name": "python3"
  },
  "language_info": {
   "codemirror_mode": {
    "name": "ipython",
    "version": 3
   },
   "file_extension": ".py",
   "mimetype": "text/x-python",
   "name": "python",
   "nbconvert_exporter": "python",
   "pygments_lexer": "ipython3",
   "version": "3.5.2"
  },
  "toc": {
   "colors": {
    "hover_highlight": "#DAA520",
    "running_highlight": "#FF0000",
    "selected_highlight": "#FFD700"
   },
   "moveMenuLeft": true,
   "nav_menu": {
    "height": "62px",
    "width": "252px"
   },
   "navigate_menu": true,
   "number_sections": true,
   "sideBar": true,
   "threshold": 4,
   "toc_cell": false,
   "toc_section_display": "block",
   "toc_window_display": false
  }
 },
 "nbformat": 4,
 "nbformat_minor": 1
}
