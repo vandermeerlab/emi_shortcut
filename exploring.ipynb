{
 "cells": [
  {
   "cell_type": "code",
   "execution_count": null,
   "metadata": {
    "collapsed": true
   },
   "outputs": [],
   "source": [
    "%matplotlib inline\n",
    "import matplotlib.pyplot as plt\n",
    "import numpy as np\n",
    "import scipy.signal as signal\n",
    "import vdmlab as vdm"
   ]
  },
  {
   "cell_type": "code",
   "execution_count": null,
   "metadata": {
    "collapsed": true
   },
   "outputs": [],
   "source": [
    "def test_filter(spikes, edges, gaussian_std):\n",
    "    dt = np.median(np.diff(edges))\n",
    "\n",
    "    if gaussian_std is not None:\n",
    "        n_points = 3 * gaussian_std * 2 / dt\n",
    "        if n_points > len(edges):\n",
    "            raise ValueError(\"gaussian_std is too large for these times\")\n",
    "        if n_points < 2:\n",
    "            print('No gaussian filter applied. Check that gaussian_std > dt if filter desired.')\n",
    "        gaussian_filter = signal.gaussian(n_points, gaussian_std/dt)\n",
    "        gaussian_filter /= np.sum(gaussian_filter)\n",
    "\n",
    "    counts = np.zeros((len(spikes), len(edges)-1))\n",
    "    for idx, spiketrain in enumerate(spikes):\n",
    "        counts[idx] = np.histogram(spiketrain.time, bins=edges)[0]\n",
    "        if gaussian_std is not None and gaussian_std > dt:\n",
    "            counts[idx] = np.convolve(counts[idx], gaussian_filter, mode='same')\n",
    "    return counts"
   ]
  },
  {
   "cell_type": "code",
   "execution_count": null,
   "metadata": {
    "collapsed": true
   },
   "outputs": [],
   "source": [
    "dt = np.median(np.diff(edges))\n",
    "n_points = 3 * gaussian_std * 2 / dt\n",
    "gaussian_filter = signal.gaussian(n_points, gaussian_std/dt)\n",
    "gaussian_filter /= np.sum(gaussian_filter)"
   ]
  },
  {
   "cell_type": "code",
   "execution_count": null,
   "metadata": {
    "collapsed": false
   },
   "outputs": [],
   "source": [
    "mwin = 1.\n",
    "mstd = 0.002\n",
    "mdt = 0.025\n",
    "mwindow = mwin / mdt \n",
    "if mwindow % 2 == 0:\n",
    "    mwindow += 1\n",
    "print(mwindow)\n",
    "mgaussstd = mstd / mdt\n",
    "print(mgaussstd)\n",
    "mfilter = signal.gaussian(mwindow, mgaussstd)\n",
    "print(mfilter)"
   ]
  },
  {
   "cell_type": "code",
   "execution_count": null,
   "metadata": {
    "collapsed": false
   },
   "outputs": [],
   "source": [
    "plt.plot(mfilter)\n",
    "plt.show()"
   ]
  },
  {
   "cell_type": "code",
   "execution_count": null,
   "metadata": {
    "collapsed": false
   },
   "outputs": [],
   "source": [
    "pdt = 0.025\n",
    "pwin = 0.025\n",
    "pstd = 0.005\n",
    "\n",
    "# n_points = 3 * pstd * 2 / pdt\n",
    "n_points = pwin / pdt\n",
    "print(n_points)\n",
    "gaussian_filter = signal.gaussian(n_points, pstd/pdt)\n",
    "# gaussian_filter /= np.sum(gaussian_filter)"
   ]
  },
  {
   "cell_type": "code",
   "execution_count": null,
   "metadata": {
    "collapsed": false
   },
   "outputs": [],
   "source": [
    "gaussian_filter"
   ]
  },
  {
   "cell_type": "code",
   "execution_count": null,
   "metadata": {
    "collapsed": false
   },
   "outputs": [],
   "source": [
    "signal = np.random.uniform(-1, 1, size=100)\n",
    "plt.plot(signal)\n",
    "plt.plot(np.convolve(signal, gaussian_filter))"
   ]
  },
  {
   "cell_type": "code",
   "execution_count": null,
   "metadata": {
    "collapsed": true
   },
   "outputs": [],
   "source": []
  },
  {
   "cell_type": "code",
   "execution_count": null,
   "metadata": {
    "collapsed": true
   },
   "outputs": [],
   "source": []
  },
  {
   "cell_type": "code",
   "execution_count": null,
   "metadata": {
    "collapsed": false
   },
   "outputs": [],
   "source": [
    "sig = vdm.SpikeTrain(np.array([ 0., 0., 0., 0., 1., 1., 1., 2., 2., 2., 2.]))\n",
    "spikes = [sig]\n",
    "edges = np.array([0., 0.1, 0.2, 0.3, 0.4, 0.5, 0.6, 0.7, 0.8, 0.9, 1.0])\n"
   ]
  },
  {
   "cell_type": "code",
   "execution_count": null,
   "metadata": {
    "collapsed": false
   },
   "outputs": [],
   "source": [
    "spikes[0].time"
   ]
  },
  {
   "cell_type": "code",
   "execution_count": null,
   "metadata": {
    "collapsed": false
   },
   "outputs": [],
   "source": [
    "dt"
   ]
  },
  {
   "cell_type": "code",
   "execution_count": null,
   "metadata": {
    "collapsed": false
   },
   "outputs": [],
   "source": [
    "gaussian_std = 0.1\n",
    "c = test_filter(spikes, edges, gaussian_std)"
   ]
  },
  {
   "cell_type": "code",
   "execution_count": null,
   "metadata": {
    "collapsed": false
   },
   "outputs": [],
   "source": [
    "c"
   ]
  },
  {
   "cell_type": "code",
   "execution_count": null,
   "metadata": {
    "collapsed": false
   },
   "outputs": [],
   "source": [
    "np.convolve([1,2,3], [0,1,0.5], 'same')"
   ]
  },
  {
   "cell_type": "code",
   "execution_count": null,
   "metadata": {
    "collapsed": true
   },
   "outputs": [],
   "source": []
  },
  {
   "cell_type": "code",
   "execution_count": null,
   "metadata": {
    "collapsed": true
   },
   "outputs": [],
   "source": []
  },
  {
   "cell_type": "code",
   "execution_count": null,
   "metadata": {
    "collapsed": true
   },
   "outputs": [],
   "source": []
  },
  {
   "cell_type": "code",
   "execution_count": null,
   "metadata": {
    "collapsed": false
   },
   "outputs": [],
   "source": [
    "%matplotlib inline\n",
    "import numpy as np\n",
    "import matplotlib.pyplot as plt\n",
    "from shapely.geometry import Point, LineString\n",
    "import pickle\n",
    "import seaborn as sns\n",
    "import os\n",
    "\n",
    "import vdmlab as vdm\n",
    "\n",
    "from load_data import get_pos, get_spikes, get_lfp\n",
    "from tuning_curves_functions import get_tc_1d, get_odd_firing_idx\n",
    "\n",
    "import info.R063d2_info as r063d2\n",
    "import info.R063d3_info as r063d3\n",
    "import info.R063d4_info as r063d4\n",
    "import info.R063d5_info as r063d5\n",
    "import info.R063d6_info as r063d6\n",
    "import info.R066d1_info as r066d1\n",
    "import info.R066d2_info as r066d2\n",
    "import info.R066d3_info as r066d3\n",
    "import info.R066d4_info as r066d4\n",
    "import info.R067d1_info as r067d1\n",
    "import info.R067d2_info as r067d2"
   ]
  },
  {
   "cell_type": "code",
   "execution_count": null,
   "metadata": {
    "collapsed": false
   },
   "outputs": [],
   "source": [
    "import numpy as np\n",
    "import matplotlib.pyplot as plt\n",
    "%matplotlib inline\n",
    "import scipy.signal"
   ]
  },
  {
   "cell_type": "code",
   "execution_count": null,
   "metadata": {
    "collapsed": true
   },
   "outputs": [],
   "source": [
    "times = np.linspace(0, 0.1, 11)"
   ]
  },
  {
   "cell_type": "code",
   "execution_count": null,
   "metadata": {
    "collapsed": false
   },
   "outputs": [],
   "source": [
    "times"
   ]
  },
  {
   "cell_type": "code",
   "execution_count": null,
   "metadata": {
    "collapsed": false
   },
   "outputs": [],
   "source": [
    "gaussian_std = 0.01\n",
    "dt = np.median(np.diff(times))\n",
    "n_points = 3 * gaussian_std * 2 / dt"
   ]
  },
  {
   "cell_type": "code",
   "execution_count": null,
   "metadata": {
    "collapsed": false
   },
   "outputs": [],
   "source": [
    "out = scipy.signal.gaussian(n_points, gaussian_std/dt)"
   ]
  },
  {
   "cell_type": "code",
   "execution_count": null,
   "metadata": {
    "collapsed": false
   },
   "outputs": [],
   "source": [
    "out"
   ]
  },
  {
   "cell_type": "code",
   "execution_count": null,
   "metadata": {
    "collapsed": false
   },
   "outputs": [],
   "source": [
    "plt.plot(times[:len(out)], out)\n",
    "plt.show()"
   ]
  },
  {
   "cell_type": "code",
   "execution_count": null,
   "metadata": {
    "collapsed": true
   },
   "outputs": [],
   "source": []
  },
  {
   "cell_type": "code",
   "execution_count": null,
   "metadata": {
    "collapsed": false
   },
   "outputs": [],
   "source": [
    "import vdmlab as vdm\n",
    "from load_data import get_pos, get_spikes, get_lfp\n",
    "\n",
    "import sys\n",
    "sys.path.append('E:\\\\code\\\\python-vdmlab\\\\projects\\\\emily_shortcut\\\\info')\n",
    "import info.r063d2 as r063d2\n",
    "import info.r063d3 as r063d3\n",
    "import info.r063d4 as r063d4\n",
    "import info.r063d5 as r063d5\n",
    "import info.r063d6 as r063d6\n",
    "import info.r066d1 as r066d1\n",
    "import info.r066d2 as r066d2\n",
    "import info.r066d4 as r066d4\n",
    "import info.r066d5 as r066d5\n",
    "import info.r066d6 as r066d6\n",
    "import info.r067d1 as r067d1\n",
    "import info.r067d2 as r067d2\n",
    "import info.r067d3 as r067d3\n",
    "import info.r067d4 as r067d4\n",
    "import info.r067d5 as r067d5\n",
    "import info.r067d6 as r067d6\n",
    "import info.r068d1 as r068d1\n",
    "import info.r068d2 as r068d2\n",
    "import info.r068d3 as r068d3\n",
    "import info.r068d4 as r068d4\n",
    "import info.r068d5 as r068d5\n",
    "import info.r068d6 as r068d6"
   ]
  },
  {
   "cell_type": "code",
   "execution_count": null,
   "metadata": {
    "collapsed": true
   },
   "outputs": [],
   "source": [
    "info = r063d2"
   ]
  },
  {
   "cell_type": "code",
   "execution_count": null,
   "metadata": {
    "collapsed": true
   },
   "outputs": [],
   "source": [
    "spikes4 = get_spikes(info.session + '-spike4.mat')\n",
    "spikes = get_spikes(info.session + '-spike.mat')"
   ]
  },
  {
   "cell_type": "code",
   "execution_count": null,
   "metadata": {
    "collapsed": false
   },
   "outputs": [],
   "source": [
    "print('4+s:', len(spikes4))\n",
    "print('5s:', len(spikes) - len(spikes4))\n"
   ]
  },
  {
   "cell_type": "code",
   "execution_count": null,
   "metadata": {
    "collapsed": true
   },
   "outputs": [],
   "source": []
  },
  {
   "cell_type": "code",
   "execution_count": null,
   "metadata": {
    "collapsed": true
   },
   "outputs": [],
   "source": []
  },
  {
   "cell_type": "code",
   "execution_count": null,
   "metadata": {
    "collapsed": true
   },
   "outputs": [],
   "source": []
  },
  {
   "cell_type": "code",
   "execution_count": null,
   "metadata": {
    "collapsed": true
   },
   "outputs": [],
   "source": [
    "pickle_filepath = 'E:\\\\code\\\\python-vdmlab\\\\projects\\\\emily_shortcut\\\\cache\\\\pickled\\\\'\n",
    "output_filepath = 'E:\\\\code\\\\python-vdmlab\\\\projects\\\\emily_shortcut\\\\plots\\\\'\n",
    "# pickle_filepath = 'C:\\\\Users\\\\Emily\\\\Code\\\\python-vdmlab\\\\projects\\\\emily_shortcut\\\\cache\\\\pickled\\\\'\n",
    "# output_filepath = 'C:\\\\Users\\\\Emily\\\\Code\\\\python-vdmlab\\\\projects\\\\emily_shortcut\\\\plots\\\\'"
   ]
  },
  {
   "cell_type": "code",
   "execution_count": null,
   "metadata": {
    "collapsed": false
   },
   "outputs": [],
   "source": [
    "info = r063d4"
   ]
  },
  {
   "cell_type": "code",
   "execution_count": null,
   "metadata": {
    "collapsed": false
   },
   "outputs": [],
   "source": [
    "print(info.session_id)\n",
    "pos = get_pos(info.pos_mat, info.pxl_to_cm)\n",
    "csc = get_lfp(info.good_swr[0])\n",
    "spikes = get_spikes(info.spike_mat)"
   ]
  },
  {
   "cell_type": "code",
   "execution_count": null,
   "metadata": {
    "collapsed": true
   },
   "outputs": [],
   "source": []
  },
  {
   "cell_type": "code",
   "execution_count": null,
   "metadata": {
    "collapsed": true
   },
   "outputs": [],
   "source": []
  },
  {
   "cell_type": "code",
   "execution_count": null,
   "metadata": {
    "collapsed": true
   },
   "outputs": [],
   "source": [
    "import numpy as np\n",
    "import vdmlab as vdm\n",
    "import matplotlib.pyplot as plt"
   ]
  },
  {
   "cell_type": "code",
   "execution_count": null,
   "metadata": {
    "collapsed": true
   },
   "outputs": [],
   "source": [
    "times = np.array([1.0, 2.0, 3.0, 4.0, 5.0])\n",
    "data = np.array([0.0, 0.5, 1.0, 0.7, 1.7])"
   ]
  },
  {
   "cell_type": "code",
   "execution_count": null,
   "metadata": {
    "collapsed": false
   },
   "outputs": [],
   "source": [
    "pos = vdm.Position(data, times)\n",
    "speed = pos.speed()\n",
    "speed.data"
   ]
  },
  {
   "cell_type": "code",
   "execution_count": null,
   "metadata": {
    "collapsed": false
   },
   "outputs": [],
   "source": [
    "what = pos[1:].distance(pos[:-1])"
   ]
  },
  {
   "cell_type": "code",
   "execution_count": null,
   "metadata": {
    "collapsed": false
   },
   "outputs": [],
   "source": [
    "what"
   ]
  },
  {
   "cell_type": "code",
   "execution_count": null,
   "metadata": {
    "collapsed": false
   },
   "outputs": [],
   "source": [
    "np.diff(pos.time)"
   ]
  },
  {
   "cell_type": "code",
   "execution_count": null,
   "metadata": {
    "collapsed": false
   },
   "outputs": [],
   "source": [
    "if not np.all(np.diff(pos.time) == np.median(np.diff(pos.time))):\n",
    "    print('failed')"
   ]
  },
  {
   "cell_type": "code",
   "execution_count": null,
   "metadata": {
    "collapsed": false
   },
   "outputs": [],
   "source": [
    "np.median(np.diff(pos.time))"
   ]
  },
  {
   "cell_type": "code",
   "execution_count": null,
   "metadata": {
    "collapsed": true
   },
   "outputs": [],
   "source": []
  },
  {
   "cell_type": "code",
   "execution_count": null,
   "metadata": {
    "collapsed": false
   },
   "outputs": [],
   "source": [
    "import numpy as np\n",
    "import vdmlab as vdm\n",
    "import matplotlib.pyplot as plt\n",
    "%matplotlib inline"
   ]
  },
  {
   "cell_type": "code",
   "execution_count": null,
   "metadata": {
    "collapsed": true
   },
   "outputs": [],
   "source": [
    "from load_data import get_pos, get_spikes, get_lfp\n",
    "import info.R063d3_info as r063d3\n",
    "import info.R063d2_info as r063d2\n",
    "import info.R063d4_info as r063d4"
   ]
  },
  {
   "cell_type": "code",
   "execution_count": null,
   "metadata": {
    "collapsed": true
   },
   "outputs": [],
   "source": [
    "info = r063d4"
   ]
  },
  {
   "cell_type": "code",
   "execution_count": null,
   "metadata": {
    "collapsed": true
   },
   "outputs": [],
   "source": [
    "pos = get_pos(info.pos_mat, info.pxl_to_cm)"
   ]
  },
  {
   "cell_type": "code",
   "execution_count": null,
   "metadata": {
    "collapsed": false
   },
   "outputs": [],
   "source": [
    "speed = pos.speed(t_smooth=0.2)"
   ]
  },
  {
   "cell_type": "code",
   "execution_count": null,
   "metadata": {
    "collapsed": false
   },
   "outputs": [],
   "source": [
    "1/np.median(np.diff(pos.time))"
   ]
  },
  {
   "cell_type": "code",
   "execution_count": null,
   "metadata": {
    "collapsed": false
   },
   "outputs": [],
   "source": [
    "speed.data = speed.data * np.median(np.diff(pos.time))"
   ]
  },
  {
   "cell_type": "code",
   "execution_count": null,
   "metadata": {
    "collapsed": false
   },
   "outputs": [],
   "source": [
    "plt.plot(speed.time, speed.data, 'b.')\n",
    "plt.ylim(0, 5)\n",
    "plt.show()"
   ]
  },
  {
   "cell_type": "code",
   "execution_count": null,
   "metadata": {
    "collapsed": false
   },
   "outputs": [],
   "source": [
    "plt.hist(speed.data, bins=100)\n",
    "plt.xlim(0, 50)\n",
    "plt.show()"
   ]
  },
  {
   "cell_type": "code",
   "execution_count": null,
   "metadata": {
    "collapsed": false
   },
   "outputs": [],
   "source": [
    "thresh = 25\n",
    "run_idx = np.squeeze(speed.data) >= thresh\n",
    "running = pos[run_idx]"
   ]
  },
  {
   "cell_type": "code",
   "execution_count": null,
   "metadata": {
    "collapsed": false
   },
   "outputs": [],
   "source": [
    "plt.plot(running.x, running.y, 'g.')\n",
    "plt.show()"
   ]
  },
  {
   "cell_type": "code",
   "execution_count": null,
   "metadata": {
    "collapsed": false
   },
   "outputs": [],
   "source": [
    "plt.plot(running.time, running.x, 'r.')\n",
    "plt.show()"
   ]
  },
  {
   "cell_type": "code",
   "execution_count": null,
   "metadata": {
    "collapsed": false
   },
   "outputs": [],
   "source": [
    "plt.plot(running.time, running.y, 'c.')\n",
    "plt.show()"
   ]
  },
  {
   "cell_type": "code",
   "execution_count": null,
   "metadata": {
    "collapsed": true
   },
   "outputs": [],
   "source": []
  },
  {
   "cell_type": "code",
   "execution_count": null,
   "metadata": {
    "collapsed": true
   },
   "outputs": [],
   "source": []
  }
 ],
 "metadata": {
  "kernelspec": {
   "display_name": "Python 3",
   "language": "python",
   "name": "python3"
  },
  "language_info": {
   "codemirror_mode": {
    "name": "ipython",
    "version": 3
   },
   "file_extension": ".py",
   "mimetype": "text/x-python",
   "name": "python",
   "nbconvert_exporter": "python",
   "pygments_lexer": "ipython3",
   "version": "3.5.2"
  }
 },
 "nbformat": 4,
 "nbformat_minor": 0
}
