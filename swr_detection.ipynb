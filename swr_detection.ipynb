{
 "cells": [
  {
   "cell_type": "code",
   "execution_count": null,
   "metadata": {
    "ExecuteTime": {
     "end_time": "2018-12-10T19:28:46.652037Z",
     "start_time": "2018-12-10T19:28:21.950837Z"
    }
   },
   "outputs": [],
   "source": [
    "import matplotlib.pyplot as plt\n",
    "from matplotlib.lines import Line2D\n",
    "from collections import OrderedDict\n",
    "import os\n",
    "import numpy as np\n",
    "import scipy\n",
    "import nept\n",
    "\n",
    "from loading_data import get_data\n",
    "\n",
    "import info.r068d7 as r068d7\n",
    "import info.r068d8 as r068d8\n",
    "\n",
    "from run import analysis_infos\n",
    "\n",
    "infos = analysis_infos\n",
    "# infos = [r068d7, r068d8]\n",
    "\n",
    "thisdir = os.getcwd()\n",
    "pickle_filepath = os.path.join(thisdir, \"cache\", \"pickled\")\n",
    "output_filepath = os.path.join(thisdir, \"plots\", \"n_swrs\")\n",
    "if not os.path.exists(output_filepath):\n",
    "    os.makedirs(output_filepath)\n",
    "    \n",
    "# thisdir = os.path.dirname(os.path.realpath(__file__))\n",
    "# output_filepath = os.path.join(thisdir, \"plots\", \"n_swrs\")\n",
    "# if not os.path.exists(output_filepath):\n",
    "#     os.makedirs(output_filepath)\n",
    "\n",
    "n_swr_before_mua = OrderedDict()\n",
    "n_swr_after_mua = OrderedDict()\n",
    "\n",
    "for info in infos:\n",
    "    events, position, spikes, lfp, lfp_theta = get_data(info)\n",
    "    \n",
    "#     n_swr_before_mua = OrderedDict()\n",
    "#     n_swr_after_mua = OrderedDict()\n",
    "\n",
    "    task_times = [\"prerecord\", \"pauseA\", \"pauseB\", \"postrecord\"]\n",
    "#     task_times = [\"pauseB\", \"postrecord\"]\n",
    "    for task_time in task_times:\n",
    "        # parameters\n",
    "        z_thresh = 1.\n",
    "        merge_thresh = 0.01\n",
    "        min_length = 0.03\n",
    "        fs = info.fs\n",
    "        thresh = (140.0, 250.0)\n",
    "        min_involved = 4\n",
    "\n",
    "        rest_labels = [\"prerecord\", \"pauseA\", \"pauseB\", \"postrecord\"]\n",
    "        rest_starts = [info.task_times[task_label].start for task_label in rest_labels]\n",
    "        rest_stops = [info.task_times[task_label].stop for task_label in rest_labels]\n",
    "        rest_lfp = lfp.time_slice(rest_starts, rest_stops)\n",
    "\n",
    "        swrs = nept.detect_swr_hilbert(rest_lfp, fs, thresh, z_thresh, merge_thresh=merge_thresh, min_length=min_length)\n",
    "        swrs = nept.find_multi_in_epochs(spikes, swrs, min_involved=min_involved)\n",
    "\n",
    "        swrs = swrs.time_slice(info.task_times[task_time].start, info.task_times[task_time].stop)\n",
    "\n",
    "        print(task_time, \"n_swrs before mua thresh:\", swrs.n_epochs)\n",
    "        n_swr_before_mua[task_time] = swrs.n_epochs\n",
    "        sliced_lfp = lfp.time_slice(info.task_times[task_time].start, info.task_times[task_time].stop)\n",
    "\n",
    "        all_spikes = np.sort(np.concatenate([spiketrain.time for spiketrain in spikes]))\n",
    "\n",
    "        dt = 0.02\n",
    "        std = 0.01\n",
    "        bin_edges = nept.get_edges(sliced_lfp.time, dt)\n",
    "\n",
    "        convolved_spikes = np.histogram(all_spikes, bins=bin_edges)[0].astype(float)\n",
    "        convolved_spikes = nept.gaussian_filter(convolved_spikes, std=std, dt=dt)\n",
    "\n",
    "        z_spikes_thresh = 2\n",
    "        multi_unit = nept.get_epoch_from_zscored_thresh(convolved_spikes, bin_edges, thresh=z_spikes_thresh)\n",
    "\n",
    "        #for plotting\n",
    "        sliced_all_spikes = all_spikes[(info.task_times[task_time].start <= all_spikes) &\n",
    "                                       (all_spikes <= info.task_times[task_time].stop)]\n",
    "        zscored = scipy.stats.zscore(convolved_spikes)\n",
    "        zthresh_idx = (np.abs(zscored - z_spikes_thresh)).argmin()\n",
    "        raw_thresh = convolved_spikes[zthresh_idx]\n",
    "\n",
    "        swrs_with_mua = multi_unit.overlaps(swrs)\n",
    "        # swrs_with_mua = swrs.overlaps(multi_unit)\n",
    "        print(task_time, \"n_swrs after mua thresh:\", swrs_with_mua.n_epochs)\n",
    "        n_swr_after_mua[task_time] = swrs_with_mua.n_epochs\n",
    "\n",
    "        if 0:\n",
    "            # Finding epochs close to the threshold\n",
    "            zscored_lfp = nept.AnalogSignal(scipy.stats.zscore(rest_lfp.data), rest_lfp.time)\n",
    "            sliced_zscored_lfp = zscored_lfp.time_slice(info.task_times[task_time].start, info.task_times[task_time].stop)\n",
    "\n",
    "            dist_from_thresh = np.zeros(swrs_with_mua.n_epochs)\n",
    "            for i, (start, stop) in enumerate(zip(swrs_with_mua.starts, swrs_with_mua.stops)):\n",
    "                this_swr_lfp = sliced_zscored_lfp.time_slice(start, stop)\n",
    "                dist_from_thresh[i] = np.abs(z_thresh - np.max(this_swr_lfp.data))\n",
    "\n",
    "            n_near_thresh = 10\n",
    "            n_near_thresh = min(n_near_thresh, swrs_with_mua.n_epochs-1)\n",
    "            idx_near_thresh = np.argpartition(dist_from_thresh, n_near_thresh)[:n_near_thresh]\n",
    "            print(\"Mean distance of\", str(n_near_thresh), \"near thresh:\",\n",
    "                  str(np.round(np.mean(dist_from_thresh[idx_near_thresh]), 3)))\n",
    "\n",
    "            fig, ax = plt.subplots()\n",
    "            plt.plot(bin_edges[:-1], convolved_spikes/(50*2000)+0.00025, \"g\")\n",
    "            plt.axhline(raw_thresh/(50*2000)+0.00025, color=\"k\")\n",
    "            plt.plot(sliced_lfp.time, sliced_lfp.data)\n",
    "            plt.plot(sliced_all_spikes, np.ones(len(sliced_all_spikes))*0.0002, \".\")\n",
    "            for start, stop in zip(swrs.starts, swrs.stops):\n",
    "                this_swr_lfp = lfp.time_slice(start, stop)\n",
    "                plt.plot(this_swr_lfp.time, this_swr_lfp.data, color=\"c\")\n",
    "            for start, stop in zip(multi_unit.starts, multi_unit.stops):\n",
    "                this_swr_lfp = lfp.time_slice(start, stop)\n",
    "                plt.plot(this_swr_lfp.time, this_swr_lfp.data, \"y\")\n",
    "            for i, (start, stop) in enumerate(zip(swrs_with_mua.starts, swrs_with_mua.stops)):\n",
    "                plt.fill_between([start, stop], np.max(lfp.data), np.min(lfp.data), color=\"#cccccc\")\n",
    "                if i in idx_near_thresh:\n",
    "                    color = \"r\"\n",
    "                else:\n",
    "                    color = \"b\"\n",
    "                this_swr_lfp = lfp.time_slice(start, stop)\n",
    "                plt.plot(this_swr_lfp.time, this_swr_lfp.data, color=color)\n",
    "            plt.text(0.01, 0.01, \"n_swrs: \" + str(swrs_with_mua.n_epochs), transform=ax.transAxes)\n",
    "\n",
    "            custom_lines = [Line2D([0], [0], color=\"c\", lw=2),\n",
    "                            Line2D([0], [0], color=\"y\", lw=2),\n",
    "                            Line2D([0], [0], color=\"r\", lw=2),\n",
    "                            Line2D([0], [0], color=\"#cccccc\", lw=2)]\n",
    "            ax.legend(custom_lines, ['SWRs', 'MUA', 'SWRs-MUA-near_thresh', 'SWRs-MUA'], fontsize=12)\n",
    "            plt.title(info.session_id+\" \" + task_time + \" lfp_thresh:\"+str(z_thresh)+\", mua_thresh:\"+str(z_spikes_thresh),\n",
    "                      fontsize=12)\n",
    "            # plt.xlim(info.task_times[task_time].start, info.task_times[task_time].stop)\n",
    "            plt.show()\n",
    "\n",
    "\n",
    "        # plt.savefig(os.path.join(output_filepath, info.session_id+\"_check-swr-prerecord_zthresh\"+str(z_thresh)+\".png\"))\n",
    "        # plt.close()\n",
    "\n",
    "#     plt.bar(n_swr_before_mua.keys(), n_swr_before_mua.values(), width=1, color='g')\n",
    "#     plt.title(info.session_id + \" n_swrs before MUA\")\n",
    "#     plt.show()\n",
    "\n",
    "title = \"n_swrs_by_phase\"\n",
    "plt.bar(n_swr_after_mua.keys(), n_swr_after_mua.values(), width=1, color='g')\n",
    "plt.title(title)\n",
    "# plt.savefig(os.path.join(output_filepath, title+\".png\"))\n",
    "# plt.close()\n",
    "plt.show()\n"
   ]
  },
  {
   "cell_type": "code",
   "execution_count": null,
   "metadata": {},
   "outputs": [],
   "source": [
    "fig, ax = plt.subplots()\n",
    "title = \"n_swrs_by_phase\"\n",
    "ax.bar(n_swr_after_mua.keys(), n_swr_after_mua.values(), width=1, color='g')\n",
    "for i, v in enumerate(n_swr_after_mua.values()):\n",
    "    ax.text(i, v + 3, str(v))\n",
    "plt.title(title)\n",
    "plt.ylim(0, max(n_swr_after_mua.values())+50)\n",
    "# plt.savefig(os.path.join(output_filepath, title+\".png\"))\n",
    "# plt.close()\n",
    "plt.show()"
   ]
  },
  {
   "cell_type": "code",
   "execution_count": null,
   "metadata": {},
   "outputs": [],
   "source": [
    "max(n_swr_after_mua.values()) +10"
   ]
  },
  {
   "cell_type": "code",
   "execution_count": null,
   "metadata": {
    "collapsed": true
   },
   "outputs": [],
   "source": []
  },
  {
   "cell_type": "code",
   "execution_count": null,
   "metadata": {
    "collapsed": true
   },
   "outputs": [],
   "source": []
  },
  {
   "cell_type": "code",
   "execution_count": null,
   "metadata": {
    "collapsed": true
   },
   "outputs": [],
   "source": [
    "1/0"
   ]
  },
  {
   "cell_type": "code",
   "execution_count": null,
   "metadata": {
    "collapsed": true
   },
   "outputs": [],
   "source": []
  },
  {
   "cell_type": "code",
   "execution_count": null,
   "metadata": {
    "collapsed": true
   },
   "outputs": [],
   "source": []
  },
  {
   "cell_type": "code",
   "execution_count": null,
   "metadata": {
    "collapsed": true
   },
   "outputs": [],
   "source": []
  },
  {
   "cell_type": "code",
   "execution_count": null,
   "metadata": {
    "ExecuteTime": {
     "end_time": "2018-12-05T19:01:06.600767Z",
     "start_time": "2018-12-05T19:00:53.419233Z"
    },
    "collapsed": true
   },
   "outputs": [],
   "source": [
    "%matplotlib inline\n",
    "import matplotlib.pyplot as plt\n",
    "import os\n",
    "import numpy as np\n",
    "import scipy\n",
    "import nept\n",
    "\n",
    "from loading_data import get_data\n",
    "\n",
    "import info.r063d5 as info\n",
    "events, position, spikes, lfp, lfp_theta = get_data(info)\n",
    "\n",
    "task_time = \"prerecord\"\n",
    "\n",
    "# parameters\n",
    "z_thresh = 1.5\n",
    "merge_thresh = 0.01\n",
    "min_length = 0.03\n",
    "fs = info.fs\n",
    "thresh = (140.0, 250.0)\n",
    "min_involved = 4\n",
    "\n",
    "rest_labels = [\"prerecord\", \"pauseA\", \"pauseB\", \"postrecord\"]\n",
    "rest_starts = [info.task_times[task_label].start for task_label in rest_labels]\n",
    "rest_stops = [info.task_times[task_label].stop for task_label in rest_labels]\n",
    "rest_lfp = lfp.time_slice(rest_starts, rest_stops)\n",
    "\n",
    "swrs = nept.detect_swr_hilbert(rest_lfp, fs, thresh, z_thresh, merge_thresh=merge_thresh, min_length=min_length)\n",
    "swrs = nept.find_multi_in_epochs(spikes, swrs, min_involved=min_involved)\n",
    "\n",
    "swrs = swrs.time_slice(info.task_times[task_time].start, info.task_times[task_time].stop)\n",
    "\n",
    "print(\"n_swrs before mua thresh:\", swrs.n_epochs)\n",
    "sliced_lfp = lfp.time_slice(info.task_times[task_time].start, info.task_times[task_time].stop)\n",
    "\n",
    "all_spikes = np.sort(np.concatenate([spiketrain.time for spiketrain in spikes]))\n",
    "\n",
    "dt = 0.02\n",
    "std = 0.01\n",
    "bin_edges = nept.get_edges(sliced_lfp.time, dt)\n",
    "\n",
    "convolved_spikes = np.histogram(all_spikes, bins=bin_edges)[0].astype(float)\n",
    "convolved_spikes = nept.gaussian_filter(convolved_spikes, std=std, dt=dt)\n",
    "\n",
    "z_spikes_thresh = 2\n",
    "multi_unit = nept.get_epoch_from_zscored_thresh(convolved_spikes, bin_edges, thresh=z_spikes_thresh)\n",
    "\n",
    "#for plotting\n",
    "sliced_all_spikes = all_spikes[(info.task_times[task_time].start <= all_spikes) & (all_spikes <= info.task_times[task_time].stop)]\n",
    "zscored = scipy.stats.zscore(convolved_spikes)\n",
    "zthresh_idx = (np.abs(zscored - z_spikes_thresh)).argmin()\n",
    "raw_thresh = convolved_spikes[zthresh_idx]\n",
    "\n",
    "these_swrs = multi_unit.overlaps(swrs)"
   ]
  },
  {
   "cell_type": "code",
   "execution_count": null,
   "metadata": {
    "collapsed": true
   },
   "outputs": [],
   "source": []
  },
  {
   "cell_type": "code",
   "execution_count": null,
   "metadata": {
    "ExecuteTime": {
     "end_time": "2018-12-05T19:01:06.608744Z",
     "start_time": "2018-12-05T19:01:06.602748Z"
    },
    "collapsed": true
   },
   "outputs": [],
   "source": [
    "these_swrs.n_epochs"
   ]
  },
  {
   "cell_type": "code",
   "execution_count": null,
   "metadata": {
    "ExecuteTime": {
     "end_time": "2018-12-05T19:01:06.858601Z",
     "start_time": "2018-12-05T19:01:06.609743Z"
    },
    "collapsed": true
   },
   "outputs": [],
   "source": [
    "zscored_lfp = nept.AnalogSignal(scipy.stats.zscore(rest_lfp.data), rest_lfp.time)\n",
    "sliced_zscored_lfp = zscored_lfp.time_slice(info.task_times[task_time].start, info.task_times[task_time].stop)"
   ]
  },
  {
   "cell_type": "code",
   "execution_count": null,
   "metadata": {
    "ExecuteTime": {
     "end_time": "2018-12-05T19:01:08.465945Z",
     "start_time": "2018-12-05T19:01:06.859600Z"
    },
    "collapsed": true
   },
   "outputs": [],
   "source": [
    "plt.plot(zscored_lfp.time, zscored_lfp.data)\n",
    "plt.show()"
   ]
  },
  {
   "cell_type": "code",
   "execution_count": null,
   "metadata": {
    "collapsed": true
   },
   "outputs": [],
   "source": []
  },
  {
   "cell_type": "code",
   "execution_count": null,
   "metadata": {
    "ExecuteTime": {
     "end_time": "2018-12-05T19:01:08.830721Z",
     "start_time": "2018-12-05T19:01:08.467928Z"
    },
    "collapsed": true
   },
   "outputs": [],
   "source": [
    "zscored_lfp = nept.AnalogSignal(scipy.stats.zscore(rest_lfp.data), rest_lfp.time)\n",
    "sliced_zscored_lfp = zscored_lfp.time_slice(info.task_times[task_time].start, info.task_times[task_time].stop)\n",
    "\n",
    "dist_from_thresh = np.zeros(these_swrs.n_epochs)\n",
    "for i, (start, stop) in enumerate(zip(these_swrs.starts, these_swrs.stops)):\n",
    "    this_swr_lfp = sliced_zscored_lfp.time_slice(start, stop)\n",
    "    dist_from_thresh[i] = np.abs(z_thresh - np.max(this_swr_lfp.data))\n",
    "dist_from_thresh"
   ]
  },
  {
   "cell_type": "code",
   "execution_count": null,
   "metadata": {
    "ExecuteTime": {
     "end_time": "2018-12-05T19:01:08.987632Z",
     "start_time": "2018-12-05T19:01:08.832719Z"
    },
    "collapsed": true
   },
   "outputs": [],
   "source": [
    "n_near_thresh = 53\n",
    "n_near_thresh = min(n_near_thresh, these_swrs.n_epochs-1)\n",
    "idx_near_thresh = np.argpartition(dist_from_thresh, n_near_thresh)[:n_near_thresh]\n",
    "okletsdothis[idx_near_thresh]"
   ]
  },
  {
   "cell_type": "code",
   "execution_count": null,
   "metadata": {
    "collapsed": true
   },
   "outputs": [],
   "source": []
  },
  {
   "cell_type": "code",
   "execution_count": null,
   "metadata": {
    "collapsed": true
   },
   "outputs": [],
   "source": []
  },
  {
   "cell_type": "code",
   "execution_count": null,
   "metadata": {
    "collapsed": true
   },
   "outputs": [],
   "source": []
  },
  {
   "cell_type": "code",
   "execution_count": null,
   "metadata": {
    "collapsed": true
   },
   "outputs": [],
   "source": [
    "1/0"
   ]
  },
  {
   "cell_type": "code",
   "execution_count": null,
   "metadata": {
    "collapsed": true
   },
   "outputs": [],
   "source": []
  },
  {
   "cell_type": "code",
   "execution_count": null,
   "metadata": {
    "collapsed": true
   },
   "outputs": [],
   "source": []
  },
  {
   "cell_type": "code",
   "execution_count": null,
   "metadata": {
    "collapsed": true
   },
   "outputs": [],
   "source": []
  },
  {
   "cell_type": "code",
   "execution_count": null,
   "metadata": {
    "collapsed": true
   },
   "outputs": [],
   "source": []
  },
  {
   "cell_type": "code",
   "execution_count": null,
   "metadata": {
    "collapsed": true
   },
   "outputs": [],
   "source": []
  },
  {
   "cell_type": "code",
   "execution_count": null,
   "metadata": {
    "collapsed": true
   },
   "outputs": [],
   "source": []
  },
  {
   "cell_type": "code",
   "execution_count": null,
   "metadata": {
    "collapsed": true
   },
   "outputs": [],
   "source": []
  },
  {
   "cell_type": "code",
   "execution_count": null,
   "metadata": {
    "collapsed": true
   },
   "outputs": [],
   "source": []
  },
  {
   "cell_type": "code",
   "execution_count": null,
   "metadata": {
    "ExecuteTime": {
     "end_time": "2018-12-04T18:36:08.641554Z",
     "start_time": "2018-12-04T18:36:02.756461Z"
    },
    "collapsed": true
   },
   "outputs": [],
   "source": [
    "%matplotlib inline\n",
    "import matplotlib\n",
    "import matplotlib.pyplot as plt\n",
    "import os\n",
    "import numpy as np\n",
    "import scipy\n",
    "# import mpld3\n",
    "import nept\n",
    "\n",
    "from loading_data import get_data\n",
    "\n",
    "# mpld3.enable_notebook()"
   ]
  },
  {
   "cell_type": "code",
   "execution_count": null,
   "metadata": {
    "ExecuteTime": {
     "end_time": "2018-12-04T18:36:08.809458Z",
     "start_time": "2018-12-04T18:36:08.642554Z"
    },
    "collapsed": true
   },
   "outputs": [],
   "source": [
    "import info.r063d5 as info"
   ]
  },
  {
   "cell_type": "code",
   "execution_count": null,
   "metadata": {
    "ExecuteTime": {
     "end_time": "2018-12-04T18:36:09.423266Z",
     "start_time": "2018-12-04T18:36:08.810457Z"
    },
    "collapsed": true
   },
   "outputs": [],
   "source": [
    "events, position, spikes, lfp, lfp_theta = get_data(info)"
   ]
  },
  {
   "cell_type": "code",
   "execution_count": null,
   "metadata": {
    "ExecuteTime": {
     "end_time": "2018-12-04T18:36:09.428303Z",
     "start_time": "2018-12-04T18:36:09.425304Z"
    },
    "collapsed": true
   },
   "outputs": [],
   "source": [
    "start = info.task_times[\"prerecord\"].start\n",
    "stop = info.task_times[\"prerecord\"].stop\n",
    "\n",
    "# parameters\n",
    "z_thresh = 1.5\n",
    "merge_thresh = 0.02\n",
    "min_length = 0.05\n",
    "fs = info.fs\n",
    "thresh = (140.0, 250.0)\n",
    "min_involved = 4"
   ]
  },
  {
   "cell_type": "code",
   "execution_count": null,
   "metadata": {
    "ExecuteTime": {
     "end_time": "2018-12-04T18:36:13.446705Z",
     "start_time": "2018-12-04T18:36:09.434299Z"
    },
    "collapsed": true
   },
   "outputs": [],
   "source": [
    "swrs = nept.detect_swr_hilbert(lfp, fs, thresh, z_thresh, merge_thresh=merge_thresh, min_length=min_length)\n",
    "\n",
    "start_keeps = (swrs.starts >= start) & (swrs.starts <= stop)\n",
    "stop_keeps = (swrs.stops >= start) & (swrs.stops <= stop)\n",
    "swrs = nept.Epoch([swrs.starts[start_keeps], swrs.stops[stop_keeps]])\n",
    "\n",
    "swrs.n_epochs"
   ]
  },
  {
   "cell_type": "code",
   "execution_count": null,
   "metadata": {
    "ExecuteTime": {
     "end_time": "2018-12-04T18:36:22.794310Z",
     "start_time": "2018-12-04T18:36:13.447704Z"
    },
    "collapsed": true,
    "scrolled": true
   },
   "outputs": [],
   "source": [
    "buffer=0.1\n",
    "\n",
    "for start, stop in zip(swrs.starts, swrs.stops):\n",
    "    this_swr_lfp = lfp.time_slice(start-buffer, stop+buffer)\n",
    "    plt.plot(this_swr_lfp.time, this_swr_lfp.data, \"k\")\n",
    "    this_swr_lfp = lfp.time_slice(start, stop)\n",
    "    plt.plot(this_swr_lfp.time, this_swr_lfp.data, \"r\")\n",
    "    plt.show()"
   ]
  },
  {
   "cell_type": "code",
   "execution_count": null,
   "metadata": {
    "collapsed": true
   },
   "outputs": [],
   "source": [
    "start = info.task_times[\"prerecord\"].start\n",
    "stop = info.task_times[\"prerecord\"].stop\n",
    "\n",
    "sliced_lfp = lfp.time_slice(start, stop)\n",
    "plt.plot(sliced_lfp.time, sliced_lfp.data, \"k\")\n",
    "\n",
    "for start, stop in zip(swrs.starts, swrs.stops):\n",
    "    this_swr_lfp = lfp.time_slice(start, stop)\n",
    "    plt.plot(this_swr_lfp.time, this_swr_lfp.data, \"r\")\n",
    "plt.show()"
   ]
  },
  {
   "cell_type": "code",
   "execution_count": null,
   "metadata": {
    "collapsed": true
   },
   "outputs": [],
   "source": []
  },
  {
   "cell_type": "code",
   "execution_count": null,
   "metadata": {
    "collapsed": true
   },
   "outputs": [],
   "source": []
  },
  {
   "cell_type": "code",
   "execution_count": null,
   "metadata": {
    "collapsed": true
   },
   "outputs": [],
   "source": [
    "all_spikes = np.sort(np.concatenate([spiketrain.time for spiketrain in spikes]))\n",
    "sliced_all_spikes = all_spikes[(start <= all_spikes) & (all_spikes <= stop)]\n",
    "\n",
    "dt = 0.025\n",
    "bin_edges = nept.get_edges(sliced_all_spikes, dt)\n",
    "\n",
    "std = 0.01\n",
    "filtered_spikes = np.histogram(sliced_all_spikes, bins=bin_edges)[0].astype(float)\n",
    "filtered_spikes = nept.gaussian_filter(filtered_spikes, std=std, dt=dt)"
   ]
  },
  {
   "cell_type": "code",
   "execution_count": null,
   "metadata": {
    "collapsed": true
   },
   "outputs": [],
   "source": [
    "fig, ax = plt.subplots()\n",
    "plt.plot(bin_edges[:-1], filtered_spikes)\n",
    "ax.fill_between((2200, 2210), 100, color=\"k\", alpha=0.1)\n",
    "plt.show()"
   ]
  },
  {
   "cell_type": "code",
   "execution_count": null,
   "metadata": {
    "collapsed": true
   },
   "outputs": [],
   "source": []
  },
  {
   "cell_type": "code",
   "execution_count": null,
   "metadata": {
    "collapsed": true
   },
   "outputs": [],
   "source": [
    "bin_edges = nept.get_edges(sliced_all_spikes, 0.025)\n",
    "\n",
    "n_bins = 3\n",
    "square_filter = np.ones(n_bins)\n",
    "shouldthisbesquare = np.convolve(np.histogram(sliced_all_spikes, bins=bin_edges)[0].astype(float), \n",
    "                                 square_filter, mode=\"same\")\n",
    "times = np.linspace(sliced_lfp.time[0], sliced_lfp.time[-1], shouldthisbesquare.shape[0])"
   ]
  },
  {
   "cell_type": "code",
   "execution_count": null,
   "metadata": {
    "collapsed": true
   },
   "outputs": [],
   "source": []
  },
  {
   "cell_type": "code",
   "execution_count": null,
   "metadata": {
    "collapsed": true
   },
   "outputs": [],
   "source": [
    "sliced_lfp = lfp.time_slice(start, stop)"
   ]
  },
  {
   "cell_type": "code",
   "execution_count": null,
   "metadata": {
    "collapsed": true
   },
   "outputs": [],
   "source": [
    "plt.plot(sliced_lfp.time, sliced_lfp.data)\n",
    "plt.show()"
   ]
  },
  {
   "cell_type": "code",
   "execution_count": null,
   "metadata": {
    "collapsed": true
   },
   "outputs": [],
   "source": []
  },
  {
   "cell_type": "code",
   "execution_count": null,
   "metadata": {
    "collapsed": true
   },
   "outputs": [],
   "source": []
  },
  {
   "cell_type": "code",
   "execution_count": null,
   "metadata": {
    "collapsed": true
   },
   "outputs": [],
   "source": []
  },
  {
   "cell_type": "code",
   "execution_count": null,
   "metadata": {
    "collapsed": true
   },
   "outputs": [],
   "source": [
    "1/0"
   ]
  },
  {
   "cell_type": "code",
   "execution_count": null,
   "metadata": {
    "collapsed": true
   },
   "outputs": [],
   "source": []
  },
  {
   "cell_type": "code",
   "execution_count": null,
   "metadata": {
    "collapsed": true
   },
   "outputs": [],
   "source": [
    "events, position, spikes, lfp, lfp_theta = get_data(info)\n",
    "\n",
    "start = info.task_times[\"prerecord\"].start\n",
    "stop = info.task_times[\"prerecord\"].stop\n",
    "\n",
    "# parameters\n",
    "z_thresh = 1.\n",
    "merge_thresh = 0.01\n",
    "min_length = 0.03\n",
    "fs = info.fs\n",
    "thresh = (140.0, 250.0)\n",
    "min_involved = 4\n",
    "\n",
    "swrs = nept.detect_swr_hilbert(lfp, fs, thresh, z_thresh, merge_thresh=merge_thresh, min_length=min_length)\n",
    "swrs = nept.find_multi_in_epochs(spikes, swrs, min_involved=min_involved)\n",
    "\n",
    "swrs = swrs.time_slice(start, stop)\n",
    "\n",
    "print(swrs.n_epochs)\n",
    "\n",
    "sliced_lfp = lfp.time_slice(start, stop)\n",
    "\n",
    "all_spikes = np.sort(np.concatenate([spiketrain.time for spiketrain in spikes]))\n",
    "sliced_all_spikes = all_spikes[(start <= all_spikes) & (all_spikes <= stop)]\n",
    "\n",
    "dt = 0.02\n",
    "std = 0.01\n",
    "firing_thresh = 20\n",
    "bin_edges = nept.get_edges(sliced_all_spikes, dt)\n",
    "\n",
    "convolved_spikes = np.histogram(sliced_all_spikes, bins=bin_edges)[0].astype(float)\n",
    "convolved_spikes = nept.gaussian_filter(convolved_spikes, std=std, dt=dt)\n",
    "\n",
    "plt.plot(bin_edges[:-1], convolved_spikes)\n",
    "plt.show()\n",
    "\n",
    "# # Finding locations where the firing rate is above thresh\n",
    "# detect = convolved_spikes > firing_thresh\n",
    "# detect = np.hstack([0, detect, 0])  # pad to detect first or last element change\n",
    "# signal_change = np.diff(detect.astype(int))\n",
    "\n",
    "# start_idx = np.where(signal_change == 1)[0]\n",
    "# stop_idx = np.where(signal_change == -1)[0] - 1\n",
    "\n",
    "# high_firing_rates = nept.Epoch([lfp.time[start_idx], lfp.time[stop_idx]])\n",
    "\n",
    "# fig, ax = plt.subplots()\n",
    "# plt.plot(sliced_lfp.time, sliced_lfp.data)\n",
    "# plt.plot(sliced_all_spikes, np.ones(len(sliced_all_spikes))*0.0002, \".\")\n",
    "# plt.plot(bin_edges[:-1], convolved_spikes/(50*2000)+0.00025)\n",
    "# for start, stop in zip(swrs.starts, swrs.stops):\n",
    "#     this_swr_lfp = lfp.time_slice(start, stop)\n",
    "#     plt.plot(this_swr_lfp.time, this_swr_lfp.data, \"r\")\n",
    "# for start, stop in zip(high_firing_rates.starts, high_firing_rates.stops):\n",
    "#     ax.fill_between((start, stop), 50, color=\"k\", alpha=0.1)\n",
    "# plt.show()"
   ]
  },
  {
   "cell_type": "code",
   "execution_count": null,
   "metadata": {
    "collapsed": true
   },
   "outputs": [],
   "source": [
    "plt.plot(bin_edges[:-1], convolved_spikes)\n",
    "plt.show()"
   ]
  },
  {
   "cell_type": "code",
   "execution_count": null,
   "metadata": {
    "collapsed": true
   },
   "outputs": [],
   "source": [
    "firing_rate_above_thresh = convolved_spikes >= firing_thresh\n",
    "for start, stop in zip(swrs.starts, swrs.stops):\n",
    "    start_idx = nept.find_nearest_idx(lfp.time, start)\n",
    "    stop_idx = nept.find_nearest_idx(lfp.time, stop)\n",
    "    if np.any(firing_rate_above_thresh[start_idx:stop_idx]):\n",
    "        print(\"huh\")"
   ]
  },
  {
   "cell_type": "code",
   "execution_count": null,
   "metadata": {
    "collapsed": true
   },
   "outputs": [],
   "source": []
  },
  {
   "cell_type": "code",
   "execution_count": null,
   "metadata": {
    "collapsed": true
   },
   "outputs": [],
   "source": []
  },
  {
   "cell_type": "code",
   "execution_count": null,
   "metadata": {
    "collapsed": true
   },
   "outputs": [],
   "source": [
    "1/0"
   ]
  },
  {
   "cell_type": "code",
   "execution_count": null,
   "metadata": {
    "collapsed": true
   },
   "outputs": [],
   "source": []
  },
  {
   "cell_type": "code",
   "execution_count": null,
   "metadata": {
    "collapsed": true
   },
   "outputs": [],
   "source": [
    "# Filtering signal with butterworth fitler\n",
    "filtered_butter = nept.butter_bandpass(lfp.data, thresh, fs)\n",
    "\n",
    "# Get LFP power (using Hilbert) and z-score the power\n",
    "# Zero padding to nearest regular number to speed up fast fourier transforms (FFT) computed in the hilbert function.\n",
    "# Regular numbers are composites of the prime factors 2, 3, and 5.\n",
    "hilbert_n = nept.next_regular(lfp.n_samples)\n",
    "power = np.abs(scipy.signal.hilbert(filtered_butter, N=hilbert_n))\n",
    "power = power[:lfp.n_samples]  # removing the zero padding now that the power is computed\n",
    "zpower = scipy.stats.zscore(power)\n",
    "\n",
    "# Finding locations where the power changes\n",
    "detect = zpower > z_thresh\n",
    "detect = np.hstack([0, detect, 0])  # pad to detect first or last element change\n",
    "signal_change = np.diff(detect.astype(int))\n",
    "\n",
    "start_swr_idx = np.where(signal_change == 1)[0]\n",
    "stop_swr_idx = np.where(signal_change == -1)[0] - 1\n",
    "\n",
    "# Getting times associated with these power changes\n",
    "start_time = lfp.time[start_swr_idx]\n",
    "stop_time = lfp.time[stop_swr_idx]\n",
    "\n",
    "# Removing doubles\n",
    "start_times = start_time[(stop_time - start_time) != 0]\n",
    "stop_times = stop_time[(stop_time - start_time) != 0]\n",
    "\n",
    "swrs = nept.Epoch(np.array([start_times, stop_times]))\n",
    "\n",
    "# Merging epochs that are closer - in time - than the merge_threshold.\n",
    "swrs = swrs.merge(gap=merge_thresh)\n",
    "\n",
    "# Removing epochs that are shorter - in time - than the min_length value.\n",
    "keep_indices = swrs.durations >= min_length\n",
    "swrs = nept.Epoch([swrs.starts[keep_indices], swrs.stops[keep_indices]])"
   ]
  },
  {
   "cell_type": "code",
   "execution_count": null,
   "metadata": {
    "collapsed": true
   },
   "outputs": [],
   "source": [
    "swrs.n_epochs"
   ]
  },
  {
   "cell_type": "code",
   "execution_count": null,
   "metadata": {
    "collapsed": true
   },
   "outputs": [],
   "source": []
  },
  {
   "cell_type": "code",
   "execution_count": null,
   "metadata": {
    "collapsed": true
   },
   "outputs": [],
   "source": []
  },
  {
   "cell_type": "code",
   "execution_count": null,
   "metadata": {
    "collapsed": true
   },
   "outputs": [],
   "source": []
  },
  {
   "cell_type": "code",
   "execution_count": null,
   "metadata": {
    "collapsed": true
   },
   "outputs": [],
   "source": [
    "swr_lfps = []\n",
    "for start, stop in zip(swrs.starts, swrs.stops):\n",
    "    swr_lfps.append(lfp.time_slice(start, stop))"
   ]
  },
  {
   "cell_type": "code",
   "execution_count": null,
   "metadata": {
    "collapsed": true
   },
   "outputs": [],
   "source": [
    "plt.plot(lfp.time, lfp.data)\n",
    "for swr_lfp in swr_lfps[:5]:\n",
    "    plt.plot(swr_lfp.time, swr_lfp.data)\n",
    "plt.show()"
   ]
  },
  {
   "cell_type": "code",
   "execution_count": null,
   "metadata": {
    "collapsed": true
   },
   "outputs": [],
   "source": []
  },
  {
   "cell_type": "code",
   "execution_count": null,
   "metadata": {
    "collapsed": true
   },
   "outputs": [],
   "source": []
  },
  {
   "cell_type": "code",
   "execution_count": null,
   "metadata": {
    "collapsed": true
   },
   "outputs": [],
   "source": []
  },
  {
   "cell_type": "code",
   "execution_count": null,
   "metadata": {
    "collapsed": true
   },
   "outputs": [],
   "source": []
  },
  {
   "cell_type": "code",
   "execution_count": null,
   "metadata": {
    "collapsed": true
   },
   "outputs": [],
   "source": [
    "times_for_zscore = nept.Epoch([info.task_times[\"pauseB\"].start, info.task_times[\"pauseB\"].stop])"
   ]
  },
  {
   "cell_type": "code",
   "execution_count": null,
   "metadata": {
    "collapsed": true
   },
   "outputs": [],
   "source": [
    "sliced_power_lfp = power_lfp.time_slice(times_for_zscore.start, times_for_zscore.stop)\n",
    "zpower = scipy.stats.zscore(np.squeeze(sliced_power_lfp.data))"
   ]
  },
  {
   "cell_type": "code",
   "execution_count": null,
   "metadata": {
    "collapsed": true
   },
   "outputs": [],
   "source": [
    "plt.plot(zpower)\n",
    "plt.show()"
   ]
  },
  {
   "cell_type": "code",
   "execution_count": null,
   "metadata": {
    "collapsed": true
   },
   "outputs": [],
   "source": [
    "zthresh_idx = (np.abs(zpower - z_thresh)).argmin()"
   ]
  },
  {
   "cell_type": "code",
   "execution_count": null,
   "metadata": {
    "collapsed": true
   },
   "outputs": [],
   "source": [
    "zthresh_idx = (np.abs(zpower - z_thresh)).argmin()\n",
    "power_thresh = sliced_power_lfp.data[zthresh_idx][0]"
   ]
  },
  {
   "cell_type": "code",
   "execution_count": null,
   "metadata": {
    "collapsed": true
   },
   "outputs": [],
   "source": [
    "sliced_power_lfp.data[zthresh_idx]"
   ]
  },
  {
   "cell_type": "code",
   "execution_count": null,
   "metadata": {
    "collapsed": true
   },
   "outputs": [],
   "source": [
    "plt.plot(power_lfp.time, power_lfp.data)\n",
    "plt.axhline(power_thresh, color=\"m\")\n",
    "plt.show()"
   ]
  },
  {
   "cell_type": "code",
   "execution_count": null,
   "metadata": {
    "collapsed": true
   },
   "outputs": [],
   "source": [
    "detect = np.squeeze(power_lfp.data) > power_thresh\n",
    "detect = np.hstack([0, detect, 0])  # pad to detect first or last element change\n",
    "signal_change = np.diff(detect.astype(int))\n",
    "\n",
    "start_swr_idx = np.where(signal_change == 1)[0]\n",
    "stop_swr_idx = np.where(signal_change == -1)[0] - 1"
   ]
  },
  {
   "cell_type": "code",
   "execution_count": null,
   "metadata": {
    "collapsed": true
   },
   "outputs": [],
   "source": [
    "start_times = lfp.time[start_swr_idx]\n",
    "stop_times = lfp.time[stop_swr_idx]\n",
    "\n",
    "these_swrs = nept.Epoch([start_times, stop_times])"
   ]
  },
  {
   "cell_type": "code",
   "execution_count": null,
   "metadata": {
    "collapsed": true
   },
   "outputs": [],
   "source": [
    "start_times[0], stop_times[0]"
   ]
  },
  {
   "cell_type": "code",
   "execution_count": null,
   "metadata": {
    "collapsed": true
   },
   "outputs": [],
   "source": [
    "start_times = lfp.time[start_swr_idx]\n",
    "stop_times = lfp.time[stop_swr_idx]\n",
    "\n",
    "no_double = start_time[1:] - stop_time[:-1]\n",
    "merge_idx = np.where(no_double < merge_thresh)[0]\n",
    "start_merged = np.delete(start_time, merge_idx + 1)\n",
    "stop_merged = np.delete(stop_time, merge_idx)\n",
    "start_merged_idx = np.delete(start_swr_idx, merge_idx + 1)\n",
    "stop_merged_idx = np.delete(stop_swr_idx, merge_idx)"
   ]
  },
  {
   "cell_type": "code",
   "execution_count": null,
   "metadata": {
    "collapsed": true
   },
   "outputs": [],
   "source": [
    "no_double"
   ]
  },
  {
   "cell_type": "code",
   "execution_count": null,
   "metadata": {
    "collapsed": true
   },
   "outputs": [],
   "source": [
    "len(stop_merged_idx)"
   ]
  },
  {
   "cell_type": "code",
   "execution_count": null,
   "metadata": {
    "collapsed": true
   },
   "outputs": [],
   "source": [
    "swr_len = stop_merged - start_merged\n",
    "short_idx = np.where(swr_len < min_length)[0]\n",
    "start_merged = np.delete(start_merged, short_idx)\n",
    "stop_merged = np.delete(stop_merged, short_idx)\n",
    "start_merged_idx = np.delete(start_merged_idx, short_idx)\n",
    "stop_merged_idx = np.delete(stop_merged_idx, short_idx)"
   ]
  },
  {
   "cell_type": "code",
   "execution_count": null,
   "metadata": {
    "collapsed": true
   },
   "outputs": [],
   "source": [
    "swrs = nept.Epoch(np.array([start_merged, stop_merged]))"
   ]
  },
  {
   "cell_type": "code",
   "execution_count": null,
   "metadata": {
    "collapsed": true
   },
   "outputs": [],
   "source": [
    "swrs.n_epochs"
   ]
  },
  {
   "cell_type": "code",
   "execution_count": null,
   "metadata": {
    "collapsed": true
   },
   "outputs": [],
   "source": [
    "swr_lfps = []\n",
    "for start, stop in zip(swrs.starts, swrs.stops):\n",
    "    swr_lfps.append(lfp.time_slice(start, stop))"
   ]
  },
  {
   "cell_type": "code",
   "execution_count": null,
   "metadata": {
    "collapsed": true
   },
   "outputs": [],
   "source": [
    "start = info.task_times[\"prerecord\"].start\n",
    "stop = info.task_times[\"prerecord\"].stop\n",
    "sliced_lfp = lfp.time_slice(start, stop)"
   ]
  },
  {
   "cell_type": "code",
   "execution_count": null,
   "metadata": {
    "collapsed": true
   },
   "outputs": [],
   "source": [
    "plt.plot(sliced_lfp.time, sliced_lfp.data)\n",
    "for swr_lfp in swr_lfps:\n",
    "    plt.plot(swr_lfp.time, swr_lfp.data)\n",
    "plt.show()"
   ]
  },
  {
   "cell_type": "code",
   "execution_count": null,
   "metadata": {
    "collapsed": true
   },
   "outputs": [],
   "source": []
  }
 ],
 "metadata": {
  "kernelspec": {
   "display_name": "Python 3",
   "language": "python",
   "name": "python3"
  },
  "language_info": {
   "codemirror_mode": {
    "name": "ipython",
    "version": 3
   },
   "file_extension": ".py",
   "mimetype": "text/x-python",
   "name": "python",
   "nbconvert_exporter": "python",
   "pygments_lexer": "ipython3",
   "version": "3.6.5"
  },
  "toc": {
   "colors": {
    "hover_highlight": "#DAA520",
    "running_highlight": "#FF0000",
    "selected_highlight": "#FFD700"
   },
   "moveMenuLeft": true,
   "nav_menu": {
    "height": "12px",
    "width": "252px"
   },
   "navigate_menu": true,
   "number_sections": true,
   "sideBar": true,
   "threshold": 4,
   "toc_cell": false,
   "toc_section_display": "block",
   "toc_window_display": false
  }
 },
 "nbformat": 4,
 "nbformat_minor": 2
}
