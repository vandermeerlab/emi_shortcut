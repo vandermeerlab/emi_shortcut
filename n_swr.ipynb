{
 "cells": [
  {
   "cell_type": "code",
   "execution_count": null,
   "metadata": {
    "ExecuteTime": {
     "end_time": "2019-03-15T17:57:06.396965Z",
     "start_time": "2019-03-15T17:57:05.297887Z"
    }
   },
   "outputs": [],
   "source": [
    "%matplotlib inline\n",
    "import matplotlib.pyplot as plt\n",
    "import matplotlib.gridspec as gridspec\n",
    "from matplotlib.patches import Patch\n",
    "import numpy as np\n",
    "import scipy\n",
    "import os\n",
    "import scalebar\n",
    "import nept\n",
    "\n",
    "from loading_data import get_data\n",
    "from analyze_tuning_curves import get_only_tuning_curves\n",
    "from utils_plotting import plot_over_space\n",
    "from utils_maze import get_zones, get_bin_centers, get_matched_trials"
   ]
  },
  {
   "cell_type": "code",
   "execution_count": null,
   "metadata": {
    "ExecuteTime": {
     "end_time": "2019-03-15T17:57:06.403934Z",
     "start_time": "2019-03-15T17:57:06.396965Z"
    }
   },
   "outputs": [],
   "source": [
    "thisdir = os.getcwd()\n",
    "pickle_filepath = os.path.join(thisdir, \"cache\", \"pickled\")\n",
    "output_filepath = os.path.join(thisdir, \"plots\", \"supplemental\", \"n_swrs\")\n",
    "if not os.path.exists(output_filepath):\n",
    "    os.makedirs(output_filepath)"
   ]
  },
  {
   "cell_type": "code",
   "execution_count": null,
   "metadata": {
    "ExecuteTime": {
     "end_time": "2019-03-15T17:57:06.441913Z",
     "start_time": "2019-03-15T17:57:06.405933Z"
    }
   },
   "outputs": [],
   "source": [
    "import info.r066d1 as r066d1\n",
    "import info.r063d3 as r063d3\n",
    "# infos = [r066d1]\n",
    "from run import analysis_infos, day8_infos\n",
    "infos = analysis_infos\n",
    "# infos = day8_infos"
   ]
  },
  {
   "cell_type": "code",
   "execution_count": null,
   "metadata": {
    "ExecuteTime": {
     "end_time": "2019-03-15T17:57:06.447909Z",
     "start_time": "2019-03-15T17:57:06.443911Z"
    }
   },
   "outputs": [],
   "source": [
    "# swr params\n",
    "z_thresh = 2.0\n",
    "merge_thresh = 0.02\n",
    "min_length = 0.05\n",
    "swr_thresh = (140.0, 250.0)\n",
    "\n",
    "task_times = [\"prerecord\", \"phase1\", \"pauseA\", \"phase2\", \"pauseB\", \"phase3\", \"postrecord\"]\n",
    "maze_segments = [\"u\", \"shortcut\", \"novel\", \"other\"]"
   ]
  },
  {
   "cell_type": "code",
   "execution_count": null,
   "metadata": {
    "ExecuteTime": {
     "end_time": "2019-03-15T18:04:50.954417Z",
     "start_time": "2019-03-15T17:57:06.449908Z"
    }
   },
   "outputs": [],
   "source": [
    "savefig = True\n",
    "\n",
    "for info in infos:\n",
    "    print(info.session_id)\n",
    "    events, position, spikes, lfp, _ = get_data(info)\n",
    "    \n",
    "    speed = position.speed()\n",
    "\n",
    "    # Find SWRs for the whole session\n",
    "    \n",
    "    swrs = nept.detect_swr_hilbert(lfp, fs=info.fs, thresh=swr_thresh, z_thresh=z_thresh,\n",
    "                                   merge_thresh=merge_thresh, min_length=min_length)\n",
    "    swrs = nept.find_multi_in_epochs(spikes, swrs, min_involved=4)\n",
    "\n",
    "    rest_epochs = nept.rest_threshold(position, thresh=12., t_smooth=0.8)\n",
    "\n",
    "    # Restrict SWRs to those during epochs of interest during rest    \n",
    "    phase_swrs = dict()\n",
    "    n_swrs = {task_time: 0 for task_time in task_times}\n",
    "    \n",
    "    for task_time in task_times:\n",
    "        epochs_of_interest = info.task_times[task_time].intersect(rest_epochs)\n",
    "\n",
    "        phase_swrs[task_time] = epochs_of_interest.overlaps(swrs)\n",
    "        phase_swrs[task_time] = phase_swrs[task_time][phase_swrs[task_time].durations >= 0.05]\n",
    "        \n",
    "        n_swrs[task_time] += phase_swrs[task_time].n_epochs\n",
    "\n",
    "    print(n_swrs)\n",
    "    \n",
    "    fig, ax1 = plt.subplots()\n",
    "\n",
    "    ax1.hist(swrs.centers, bins=50, color=\"k\")\n",
    "    for task_time in task_times:\n",
    "        ax1.axvspan(info.task_times[task_time].start, info.task_times[task_time].stop, alpha=0.2)\n",
    "    ax1.set_ylabel('Number of SWRs')\n",
    "\n",
    "    ax2 = ax1.twinx()\n",
    "    ax2.plot(speed.time, speed.data, color=\"g\", alpha=0.5)\n",
    "    ax2.set_ylim(0, 200)\n",
    "    ax2.set_ylabel('Speed', color=\"g\")\n",
    "\n",
    "    ax1.set_xlabel(\"Time\", color=\"tab:blue\")\n",
    "    plt.xticks([], [])\n",
    "    title = info.session_id+\" n_swrs\"\n",
    "    plt.title(title)\n",
    "\n",
    "    plt.tight_layout()\n",
    "\n",
    "    if savefig:\n",
    "        plt.savefig(os.path.join(output_filepath, title+\"_binned.png\"))\n",
    "        plt.close()\n",
    "    else:\n",
    "        plt.show()\n",
    "    \n",
    "    fig, ax1 = plt.subplots()\n",
    "    ax1.plot(swrs.centers, np.ones(swrs.n_epochs), \"|\", color=\"k\")\n",
    "    for task_time in task_times:\n",
    "        ax1.axvspan(info.task_times[task_time].start, info.task_times[task_time].stop, alpha=0.2)\n",
    "    ax1.set_ylabel('Number of SWRs')\n",
    "\n",
    "    ax2 = ax1.twinx()\n",
    "    ax2.plot(speed.time, speed.data, color=\"g\", alpha=0.5)\n",
    "    ax2.set_ylim(0, 200)\n",
    "    ax2.set_ylabel('Speed', color=\"g\")\n",
    "\n",
    "    ax1.set_xlabel(\"Time (s)\", color=\"tab:blue\")\n",
    "    plt.xticks([], [])\n",
    "    \n",
    "    plt.tight_layout()\n",
    "\n",
    "    if savefig:\n",
    "        plt.savefig(os.path.join(output_filepath, title+\".png\"))\n",
    "        plt.close()\n",
    "    else:\n",
    "        plt.show()"
   ]
  },
  {
   "cell_type": "code",
   "execution_count": null,
   "metadata": {
    "ExecuteTime": {
     "end_time": "2019-03-15T18:04:50.964919Z",
     "start_time": "2019-03-15T18:04:50.954417Z"
    }
   },
   "outputs": [],
   "source": [
    "# fig, ax1 = plt.subplots()\n",
    "\n",
    "# ax1.plot(swrs.centers, np.ones(swrs.n_epochs), \"|\", color=\"k\")\n",
    "# for task_time in task_times:\n",
    "#     ax1.axvspan(info.task_times[task_time].start, info.task_times[task_time].stop, alpha=0.2)\n",
    "# ax1.set_ylabel('Number of SWRs')\n",
    "\n",
    "# ax2 = ax1.twinx()\n",
    "# ax2.plot(speed.time, speed.data, color=\"g\", alpha=0.5)\n",
    "# ax2.set_ylim(0, 200)\n",
    "# ax2.set_ylabel('Speed', color=\"g\")\n",
    "\n",
    "# ax1.set_xlabel(\"Time (s)\", color=\"tab:blue\")\n",
    "# plt.xticks([], [])\n",
    "\n",
    "# plt.show()"
   ]
  },
  {
   "cell_type": "code",
   "execution_count": null,
   "metadata": {
    "ExecuteTime": {
     "end_time": "2019-03-15T18:04:50.970915Z",
     "start_time": "2019-03-15T18:04:50.966917Z"
    }
   },
   "outputs": [],
   "source": [
    "# fig, ax1 = plt.subplots()\n",
    "\n",
    "# ax1.hist(swrs.centers, bins=50, color=\"k\")\n",
    "# for task_time in task_times:\n",
    "#     ax1.axvspan(info.task_times[task_time].start, info.task_times[task_time].stop, alpha=0.2)\n",
    "# ax1.set_ylabel('Number of SWRs')\n",
    "\n",
    "# ax2 = ax1.twinx()\n",
    "# ax2.plot(speed.time, speed.data, color=\"g\", alpha=0.5)\n",
    "# ax2.set_ylim(0, 200)\n",
    "# ax2.set_ylabel('Speed', color=\"g\")\n",
    "\n",
    "# ax1.set_xlabel(\"Time\", color=\"tab:blue\")\n",
    "# plt.xticks([], [])\n",
    "# title = info.session_id+\" n_swrs\"\n",
    "# plt.title(title)\n",
    "\n",
    "# plt.tight_layout()\n",
    "\n",
    "# plt.show()\n",
    "# # plt.savefig(os.path.join(output_filepath, title+\".png\"))\n",
    "# # plt.close()"
   ]
  },
  {
   "cell_type": "code",
   "execution_count": null,
   "metadata": {
    "ExecuteTime": {
     "end_time": "2019-03-15T18:04:50.998517Z",
     "start_time": "2019-03-15T18:04:50.972914Z"
    }
   },
   "outputs": [],
   "source": [
    "speed = position.speed()"
   ]
  },
  {
   "cell_type": "code",
   "execution_count": null,
   "metadata": {
    "ExecuteTime": {
     "end_time": "2019-03-15T18:04:51.011360Z",
     "start_time": "2019-03-15T18:04:50.998517Z"
    }
   },
   "outputs": [],
   "source": [
    "speed"
   ]
  },
  {
   "cell_type": "code",
   "execution_count": null,
   "metadata": {},
   "outputs": [],
   "source": []
  }
 ],
 "metadata": {
  "kernelspec": {
   "display_name": "Python 3",
   "language": "python",
   "name": "python3"
  },
  "language_info": {
   "codemirror_mode": {
    "name": "ipython",
    "version": 3
   },
   "file_extension": ".py",
   "mimetype": "text/x-python",
   "name": "python",
   "nbconvert_exporter": "python",
   "pygments_lexer": "ipython3",
   "version": "3.6.5"
  },
  "toc": {
   "colors": {
    "hover_highlight": "#DAA520",
    "running_highlight": "#FF0000",
    "selected_highlight": "#FFD700"
   },
   "moveMenuLeft": true,
   "nav_menu": {
    "height": "12px",
    "width": "252px"
   },
   "navigate_menu": true,
   "number_sections": true,
   "sideBar": true,
   "threshold": 4,
   "toc_cell": false,
   "toc_section_display": "block",
   "toc_window_display": false
  }
 },
 "nbformat": 4,
 "nbformat_minor": 2
}
