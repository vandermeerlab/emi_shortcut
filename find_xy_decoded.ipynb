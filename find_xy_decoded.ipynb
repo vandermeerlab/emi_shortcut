{
 "cells": [
  {
   "cell_type": "code",
   "execution_count": null,
   "metadata": {
    "collapsed": true
   },
   "outputs": [],
   "source": [
    "%matplotlib inline\n",
    "import numpy as np\n",
    "import matplotlib.pyplot as plt\n",
    "from shapely.geometry import Point, LineString\n",
    "import pickle\n",
    "import seaborn as sns\n",
    "import os\n",
    "\n",
    "import vdmlab as vdm"
   ]
  },
  {
   "cell_type": "code",
   "execution_count": null,
   "metadata": {
    "collapsed": true
   },
   "outputs": [],
   "source": [
    "pickle_filepath = 'E:\\\\code\\\\emi_shortcut\\\\cache\\\\pickled\\\\'\n",
    "output_filepath = 'E:\\\\code\\\\emi_shortcut\\\\plots\\\\decode\\\\'\n",
    "# pickle_filepath = 'C:\\\\Users\\\\Emily\\\\Code\\\\emily_shortcut\\\\cache\\\\pickled\\\\'\n",
    "# output_filepath = 'C:\\\\Users\\\\Emily\\\\Code\\\\emily_shortcut\\\\plots\\\\decode\\\\'"
   ]
  },
  {
   "cell_type": "code",
   "execution_count": null,
   "metadata": {
    "collapsed": true
   },
   "outputs": [],
   "source": []
  },
  {
   "cell_type": "code",
   "execution_count": null,
   "metadata": {
    "collapsed": false
   },
   "outputs": [],
   "source": [
    "decode_filename = 'R063d2_decode-tracks.pkl'\n",
    "pickled_decoded = os.path.join(pickle_filepath, decode_filename)\n",
    "with open(pickled_decoded, 'rb') as fileobj:\n",
    "    decoded = pickle.load(fileobj)"
   ]
  },
  {
   "cell_type": "code",
   "execution_count": null,
   "metadata": {
    "collapsed": false
   },
   "outputs": [],
   "source": [
    "sns.set_style('white')\n",
    "sns.set_style('ticks')\n",
    "\n",
    "fig, ax = plt.subplots(figsize=(4, 3))\n",
    "ax.plot(decoded['decoded'].time, decoded['decoded'].x, '#bdbdbd')\n",
    "ax.plot(decoded['actual']['u'].time, decoded['actual']['u'].x, 'k')\n",
    "plt.xlim(5950, 6122)\n",
    "plt.ylabel('X position')\n",
    "plt.legend(['Decoded', 'Actual'], bbox_to_anchor=(1.29, 1.0))\n",
    "vdm.add_scalebar(ax, matchy=False, bbox_transform=ax.transAxes, bbox_to_anchor=(1.0, -0.09))\n",
    "plt.tight_layout()\n",
    "plt.setp(ax, xticks=[], xticklabels=[], yticks=[])\n",
    "sns.despine(bottom=True, offset=10)\n",
    "# plt.show()\n",
    "\n",
    "savepath = output_filepath + 'R063d2' + '-example_x-decoded.pdf'\n",
    "plt.savefig(savepath, bbox_inches='tight', transparent=True)"
   ]
  },
  {
   "cell_type": "code",
   "execution_count": null,
   "metadata": {
    "collapsed": false
   },
   "outputs": [],
   "source": [
    "fig, ax = plt.subplots(figsize=(4, 3))\n",
    "ax.plot(decoded['decoded'].time, decoded['decoded'].y, '#bdbdbd')\n",
    "ax.plot(decoded['actual']['u'].time, decoded['actual']['u'].y, 'k')\n",
    "plt.xlim(5950, 6122)\n",
    "plt.ylabel('Y position')\n",
    "plt.legend(['Decoded', 'Actual'], bbox_to_anchor=(1.29, 1.0))\n",
    "vdm.add_scalebar(ax, matchy=False, bbox_transform=ax.transAxes, bbox_to_anchor=(1.0, -0.09))\n",
    "plt.tight_layout()\n",
    "plt.setp(ax, xticks=[], xticklabels=[], yticks=[])\n",
    "sns.despine(bottom=True, offset=10)\n",
    "# plt.show()\n",
    "\n",
    "savepath = output_filepath + 'R063d2' + '-example_y-decoded.pdf'\n",
    "plt.savefig(savepath, bbox_inches='tight', transparent=True)"
   ]
  },
  {
   "cell_type": "code",
   "execution_count": null,
   "metadata": {
    "collapsed": true
   },
   "outputs": [],
   "source": []
  }
 ],
 "metadata": {
  "kernelspec": {
   "display_name": "Python 3",
   "language": "python",
   "name": "python3"
  },
  "language_info": {
   "codemirror_mode": {
    "name": "ipython",
    "version": 3
   },
   "file_extension": ".py",
   "mimetype": "text/x-python",
   "name": "python",
   "nbconvert_exporter": "python",
   "pygments_lexer": "ipython3",
   "version": "3.5.2"
  }
 },
 "nbformat": 4,
 "nbformat_minor": 0
}
