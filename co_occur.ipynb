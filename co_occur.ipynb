{
 "cells": [
  {
   "cell_type": "code",
   "execution_count": 1,
   "metadata": {
    "collapsed": true
   },
   "outputs": [],
   "source": [
    "%matplotlib inline\n",
    "import os\n",
    "import numpy as np\n",
    "import matplotlib.pyplot as plt\n",
    "import pickle\n",
    "from scipy.interpolate import InterpolatedUnivariateSpline\n",
    "import random\n",
    "import seaborn as sns\n",
    "from shapely.geometry import Point\n",
    "\n",
    "import vdmlab as vdm\n",
    "\n",
    "from load_data import get_pos, get_spikes, get_lfp\n",
    "# from tuning_curves_functions import get_tc_1d\n",
    "from field_functions import get_unique_fields\n",
    "from maze_functions import trajectory_fields, find_zones\n",
    "from plotting_functions import plot_cooccur\n",
    "\n",
    "import info.R063d2_info as r063d2\n",
    "import info.R063d3_info as r063d3"
   ]
  },
  {
   "cell_type": "code",
   "execution_count": 2,
   "metadata": {
    "collapsed": true
   },
   "outputs": [],
   "source": [
    "# pickle_filepath = 'C:\\\\Users\\\\Emily\\\\Code\\\\emi_shortcut\\\\cache\\\\pickled\\\\'\n",
    "# output_filepath = 'C:\\\\Users\\\\Emily\\\\Code\\\\emi_shortcut\\\\plots\\\\'\n",
    "output_filepath = 'E:\\\\code\\\\emi_shortcut\\\\cache\\\\pickled\\\\'\n",
    "output_filepath = 'E:\\\\code\\\\emi_shortcut\\\\plots\\\\'"
   ]
  },
  {
   "cell_type": "code",
   "execution_count": 223,
   "metadata": {
    "collapsed": false
   },
   "outputs": [
    {
     "name": "stdout",
     "output_type": "stream",
     "text": [
      "R063d3\n",
      "pauseA\n"
     ]
    },
    {
     "ename": "NameError",
     "evalue": "name 'get_unique_fields' is not defined",
     "output_type": "error",
     "traceback": [
      "\u001b[0;31m---------------------------------------------------------------------------\u001b[0m",
      "\u001b[0;31mNameError\u001b[0m                                 Traceback (most recent call last)",
      "\u001b[0;32m<ipython-input-223-4867640de1a7>\u001b[0m in \u001b[0;36m<module>\u001b[0;34m()\u001b[0m\n\u001b[1;32m     43\u001b[0m         \u001b[0mkeys\u001b[0m \u001b[0;34m=\u001b[0m \u001b[0;34m[\u001b[0m\u001b[0;34m'u'\u001b[0m\u001b[0;34m,\u001b[0m \u001b[0;34m'shortcut'\u001b[0m\u001b[0;34m,\u001b[0m \u001b[0;34m'novel'\u001b[0m\u001b[0;34m]\u001b[0m\u001b[0;34m\u001b[0m\u001b[0m\n\u001b[1;32m     44\u001b[0m         \u001b[0munique_fields\u001b[0m \u001b[0;34m=\u001b[0m \u001b[0mdict\u001b[0m\u001b[0;34m(\u001b[0m\u001b[0;34m)\u001b[0m\u001b[0;34m\u001b[0m\u001b[0m\n\u001b[0;32m---> 45\u001b[0;31m         \u001b[0munique_fields\u001b[0m\u001b[0;34m[\u001b[0m\u001b[0;34m'u'\u001b[0m\u001b[0;34m]\u001b[0m \u001b[0;34m=\u001b[0m \u001b[0mget_unique_fields\u001b[0m\u001b[0;34m(\u001b[0m\u001b[0mfields_tunings\u001b[0m\u001b[0;34m[\u001b[0m\u001b[0;34m'u'\u001b[0m\u001b[0;34m]\u001b[0m\u001b[0;34m,\u001b[0m \u001b[0mfields_tunings\u001b[0m\u001b[0;34m[\u001b[0m\u001b[0;34m'shortcut'\u001b[0m\u001b[0;34m]\u001b[0m\u001b[0;34m,\u001b[0m \u001b[0mfields_tunings\u001b[0m\u001b[0;34m[\u001b[0m\u001b[0;34m'novel'\u001b[0m\u001b[0;34m]\u001b[0m\u001b[0;34m)\u001b[0m\u001b[0;34m\u001b[0m\u001b[0m\n\u001b[0m\u001b[1;32m     46\u001b[0m         \u001b[0munique_fields\u001b[0m\u001b[0;34m[\u001b[0m\u001b[0;34m'shortcut'\u001b[0m\u001b[0;34m]\u001b[0m \u001b[0;34m=\u001b[0m \u001b[0mget_unique_fields\u001b[0m\u001b[0;34m(\u001b[0m\u001b[0mfields_tunings\u001b[0m\u001b[0;34m[\u001b[0m\u001b[0;34m'shortcut'\u001b[0m\u001b[0;34m]\u001b[0m\u001b[0;34m,\u001b[0m \u001b[0mfields_tunings\u001b[0m\u001b[0;34m[\u001b[0m\u001b[0;34m'novel'\u001b[0m\u001b[0;34m]\u001b[0m\u001b[0;34m,\u001b[0m \u001b[0mfields_tunings\u001b[0m\u001b[0;34m[\u001b[0m\u001b[0;34m'u'\u001b[0m\u001b[0;34m]\u001b[0m\u001b[0;34m)\u001b[0m\u001b[0;34m\u001b[0m\u001b[0m\n\u001b[1;32m     47\u001b[0m         \u001b[0munique_fields\u001b[0m\u001b[0;34m[\u001b[0m\u001b[0;34m'novel'\u001b[0m\u001b[0;34m]\u001b[0m \u001b[0;34m=\u001b[0m \u001b[0mget_unique_fields\u001b[0m\u001b[0;34m(\u001b[0m\u001b[0mfields_tunings\u001b[0m\u001b[0;34m[\u001b[0m\u001b[0;34m'novel'\u001b[0m\u001b[0;34m]\u001b[0m\u001b[0;34m,\u001b[0m \u001b[0mfields_tunings\u001b[0m\u001b[0;34m[\u001b[0m\u001b[0;34m'u'\u001b[0m\u001b[0;34m]\u001b[0m\u001b[0;34m,\u001b[0m \u001b[0mfields_tunings\u001b[0m\u001b[0;34m[\u001b[0m\u001b[0;34m'shortcut'\u001b[0m\u001b[0;34m]\u001b[0m\u001b[0;34m)\u001b[0m\u001b[0;34m\u001b[0m\u001b[0m\n",
      "\u001b[0;31mNameError\u001b[0m: name 'get_unique_fields' is not defined"
     ]
    }
   ],
   "source": [
    "infos = [r063d3]\n",
    "experiment_times = ['pauseA']\n",
    "\n",
    "for info in infos:\n",
    "    print(info.session_id)\n",
    "    for experiment_time in experiment_times:\n",
    "        print(experiment_time)\n",
    "        \n",
    "        lfp = get_lfp(info.good_swr[0])\n",
    "        position = get_pos(info.pos_mat, info.pxl_to_cm)\n",
    "        spikes = get_spikes(info.spike_mat)\n",
    "\n",
    "        speed = position.speed(t_smooth=0.5)\n",
    "        run_idx = np.squeeze(speed.data) >= info.run_threshold\n",
    "        run_pos = position[run_idx]\n",
    "\n",
    "        t_start = info.task_times[experiment_time].start\n",
    "        t_stop = info.task_times[experiment_time].stop\n",
    "        \n",
    "        sliced_lfp = lfp.time_slice(t_start, t_stop)\n",
    "        \n",
    "        sliced_spikes = [spiketrain.time_slice(t_start, t_stop) for spiketrain in spikes]\n",
    "        \n",
    "        t_start_tc = info.task_times['phase3'].start\n",
    "        t_stop_tc = info.task_times['phase3'].stop\n",
    "        \n",
    "        tc_pos = run_pos.time_slice(t_start_tc, t_stop_tc)\n",
    "\n",
    "        tc_spikes = [spiketrain.time_slice(t_start_tc, t_stop_tc) for spiketrain in spikes]\n",
    "\n",
    "        binsize = 3\n",
    "        xedges = np.arange(tc_pos.x.min(), tc_pos.x.max() + binsize, binsize)\n",
    "        yedges = np.arange(tc_pos.y.min(), tc_pos.y.max() + binsize, binsize)\n",
    "\n",
    "        tuning_curves = vdm.tuning_curve_2d(tc_pos, tc_spikes, xedges, yedges, gaussian_sigma=0.1)\n",
    "        \n",
    "        zones = find_zones(info)\n",
    "        \n",
    "#         fields_tc, fields_spikes = trajectory_fields(tuning_curves, tc_spikes, zones, xedges, yedges, field_thresh=1.)\n",
    "\n",
    "        fields_tunings = categorize_fields(tuning_curves, zones, xedges, yedges, field_thresh=5.)\n",
    "        \n",
    "        keys = ['u', 'shortcut', 'novel']\n",
    "        unique_fields = dict()\n",
    "        unique_fields['u'] = get_unique_fields(fields_tunings['u'], fields_tunings['shortcut'], fields_tunings['novel'])\n",
    "        unique_fields['shortcut'] = get_unique_fields(fields_tunings['shortcut'], fields_tunings['novel'], fields_tunings['u'])\n",
    "        unique_fields['novel'] = get_unique_fields(fields_tunings['novel'], fields_tunings['u'], fields_tunings['shortcut'])\n",
    "\n",
    "        field_spikes = dict(u=[], shortcut=[], novel=[])\n",
    "        for field in field_spikes:\n",
    "            for key in fields:\n",
    "                field_spikes[field].append(spikes[key])\n",
    "\n",
    "        swrs = vdm.detect_swr_hilbert(sliced_lfp, fs=info.fs, thresh=(140.0, 250.0), power_thres=5)\n",
    "        \n",
    "        swr_intervals = []\n",
    "        for swr in swrs:\n",
    "            swr_intervals.append([swr.time[0], swr.time[-1]])\n",
    "        swr_intervals = np.array(swr_intervals).T         \n",
    "                \n",
    "        count_matrix = dict()\n",
    "        for key in fields_spikes:\n",
    "            count_matrix[key] = vdm.spike_counts(fields_spikes[key], swr_intervals, window=0.1)\n",
    "            \n",
    "        tetrode_mask = dict()\n",
    "        for key in fields_spikes:\n",
    "            tetrode_mask[key] = vdm.get_tetrode_mask(fields_spikes[key])\n",
    "        \n",
    "        probs = dict()\n",
    "        for key in fields_spikes:\n",
    "            probs[key] = vdm.compute_cooccur(count_matrix[key], tetrode_mask[key], num_shuffles=10000)\n",
    "            \n",
    "        filename = 'testing_cooccur-' + experiment_time + '.png'\n",
    "        savepath = os.path.join(output_filepath, filename)\n",
    "        plot_cooccur(probs, savepath=None)"
   ]
  },
  {
   "cell_type": "code",
   "execution_count": 4,
   "metadata": {
    "collapsed": false
   },
   "outputs": [
    {
     "data": {
      "text/plain": [
       "(110, 100, 84)"
      ]
     },
     "execution_count": 4,
     "metadata": {},
     "output_type": "execute_result"
    }
   ],
   "source": [
    "len(fields_spikes['u']), len(fields_spikes['shortcut']), len(fields_spikes['novel'])"
   ]
  },
  {
   "cell_type": "code",
   "execution_count": null,
   "metadata": {
    "collapsed": false
   },
   "outputs": [],
   "source": [
    "len(fields_neuron['u']), len(fields_neuron['shortcut']), len(fields_neuron['novel']), len(fields_neuron['pedestal'])"
   ]
  },
  {
   "cell_type": "code",
   "execution_count": 89,
   "metadata": {
    "collapsed": false
   },
   "outputs": [
    {
     "data": {
      "text/plain": [
       "[<matplotlib.lines.Line2D at 0x1bd06cd40f0>]"
      ]
     },
     "execution_count": 89,
     "metadata": {},
     "output_type": "execute_result"
    },
    {
     "data": {
      "image/png": "[encoded data removed]",
      "text/plain": [
       "<matplotlib.figure.Figure at 0x1bd06cd42e8>"
      ]
     },
     "metadata": {},
     "output_type": "display_data"
    }
   ],
   "source": [
    "from plotting_functions import plot_intersects, plot_zone\n",
    "\n",
    "for zone in zones:\n",
    "    if zones[zone].geom_type == 'MultiPolygon':\n",
    "        plot_intersects(zones[zone])\n",
    "    elif zones[zone].geom_type == 'Polygon':\n",
    "        plot_zone(zones[zone])\n",
    "    else:\n",
    "        continue\n",
    "\n",
    "plt.plot(77.56975984316288, 66.92093904767174, '.', ms=20)"
   ]
  },
  {
   "cell_type": "code",
   "execution_count": null,
   "metadata": {
    "collapsed": true
   },
   "outputs": [],
   "source": []
  },
  {
   "cell_type": "code",
   "execution_count": null,
   "metadata": {
    "collapsed": true
   },
   "outputs": [],
   "source": []
  },
  {
   "cell_type": "code",
   "execution_count": 57,
   "metadata": {
    "collapsed": true
   },
   "outputs": [],
   "source": [
    "from scipy.ndimage import filters\n",
    "from scipy.ndimage.morphology import generate_binary_structure, binary_erosion\n",
    "def find_fields_2d(tuning_curves, neighborhood_size, threshold):\n",
    "    fields_mask = []\n",
    "    for tuning_curve in tuning_curves:\n",
    "        max_points = filters.maximum_filter(tuning_curve, neighborhood_size)\n",
    "        maxima = (tuning_curve == max_points)\n",
    "        min_points = filters.minimum_filter(tuning_curve, neighborhood_size)\n",
    "        diff = ((max_points - min_points) > threshold)\n",
    "        maxima[diff == 0] = 0\n",
    "        fields_mask.append(maxima)\n",
    "    return fields_mask"
   ]
  },
  {
   "cell_type": "code",
   "execution_count": 58,
   "metadata": {
    "collapsed": false
   },
   "outputs": [],
   "source": [
    "neighborhood_size = 2\n",
    "threshold = 0.1\n",
    "fields_mask = find_fields_2d(tuning_curves, neighborhood_size, threshold)"
   ]
  },
  {
   "cell_type": "code",
   "execution_count": null,
   "metadata": {
    "collapsed": true
   },
   "outputs": [],
   "source": []
  },
  {
   "cell_type": "code",
   "execution_count": 187,
   "metadata": {
    "collapsed": false
   },
   "outputs": [],
   "source": [
    "from scipy import ndimage\n",
    "\n",
    "def get_field_mask(tuning_curves, field_thresh):\n",
    "    \"\"\"Finds mask for field detection from 2D tuning curves.\n",
    "    \n",
    "    Parameters\n",
    "    ----------\n",
    "    tuning_curves: list of np.arrays\n",
    "        Where each inner array is the tuning curve for an individual neuron.\n",
    "    field_thresh: float\n",
    "    \n",
    "    Returns\n",
    "    -------\n",
    "    field_mask: list of bool arrays\n",
    "    \n",
    "    \"\"\"\n",
    "    field_mask = []\n",
    "    \n",
    "    for tuning_curve in tuning_curves:\n",
    "        mask = tuning_curve > field_thresh\n",
    "\n",
    "        # Remove noise\n",
    "        open_field = ndimage.binary_opening(mask)\n",
    "        field_mask.append(ndimage.binary_closing(open_field))\n",
    "\n",
    "    return field_mask\n",
    "\n",
    "\n",
    "def categorize_fields(tuning_curves, zone, xedges, yedges, field_thresh):\n",
    "    \"\"\"Sorts tuning curves into zones based on peak tuning.\n",
    "    \n",
    "    Parameters\n",
    "    ----------\n",
    "    tuning_curves: list of np.arrays\n",
    "        Where each inner array is the tuning curve for an individual neuron.\n",
    "    zone: dict\n",
    "        With u, ushort, unovel, shortcut, shortped, novel, novelped, pedestal keys.\n",
    "        Each contains a shapely.Polygon object as values.\n",
    "    xedges: np.array\n",
    "    yedges: np.array\n",
    "    field_thresh: float\n",
    "    \n",
    "    Returns\n",
    "    -------\n",
    "    fields_tc: dict\n",
    "        With u, shortcut, novel (dict) as keys.\n",
    "        Each inner dict contains the index for the neuron as a key and \n",
    "        the tuning curve as the value.\n",
    "    \"\"\"\n",
    "    \n",
    "    field_masks = get_field_mask(tuning_curves, field_thresh)\n",
    "    \n",
    "    xcenters = (xedges[1:] + xedges[:-1]) / 2.\n",
    "    ycenters = (yedges[1:] + yedges[:-1]) / 2.\n",
    "\n",
    "    xy_centers = vdm.cartesian(xcenters, ycenters)\n",
    "\n",
    "    fields_tc = dict(u=dict(), shortcut=dict(), novel=dict(), pedestal=dict())\n",
    "    \n",
    "    for i, field_mask in enumerate(field_masks):\n",
    "        field = xy_centers[np.ravel(field_mask)]\n",
    "        \n",
    "        for pt in field:\n",
    "            point = Point([pt[0], pt[1]])\n",
    "            if (i not in fields_tc['u']) and (zone['u'].contains(point) or \n",
    "                                              zone['ushort'].contains(point) or \n",
    "                                              zone['unovel'].contains(point)):\n",
    "                fields_tc['u'][i] = tuning_curves[i]\n",
    "                \n",
    "            if (i not in fields_tc['shortcut']) and (zone['shortcut'].contains(point) or \n",
    "                                                     zone['shortped'].contains(point)):\n",
    "                fields_tc['shortcut'][i] = tuning_curves[i]\n",
    "                \n",
    "            if (i not in fields_tc['novel']) and (zone['novel'].contains(point) or \n",
    "                                                  zone['novelped'].contains(point)):\n",
    "                    fields_tc['novel'][i] = tuning_curves[i]\n",
    "    return fields_tc"
   ]
  },
  {
   "cell_type": "code",
   "execution_count": 208,
   "metadata": {
    "collapsed": true
   },
   "outputs": [],
   "source": [
    "field_thresh = 5.\n",
    "field_masks = get_field_mask(tuning_curves, field_thresh)"
   ]
  },
  {
   "cell_type": "code",
   "execution_count": 209,
   "metadata": {
    "collapsed": false
   },
   "outputs": [],
   "source": [
    "fields_tunings = categorize_fields(tuning_curves, zones, xedges, yedges, field_thresh)"
   ]
  },
  {
   "cell_type": "code",
   "execution_count": 210,
   "metadata": {
    "collapsed": false
   },
   "outputs": [
    {
     "data": {
      "text/plain": [
       "(26, 27, 14, 0)"
      ]
     },
     "execution_count": 210,
     "metadata": {},
     "output_type": "execute_result"
    }
   ],
   "source": [
    "len(fields_tunings['u']), len(fields_tunings['shortcut']), len(fields_tunings['novel']), len(fields_tunings['pedestal'])"
   ]
  },
  {
   "cell_type": "code",
   "execution_count": 200,
   "metadata": {
    "collapsed": false
   },
   "outputs": [
    {
     "data": {
      "image/png": "[encoded data removed]",
      "text/plain": [
       "<matplotlib.figure.Figure at 0x1bd06b3c5f8>"
      ]
     },
     "metadata": {},
     "output_type": "display_data"
    }
   ],
   "source": [
    "field_mask = field_masks[8]\n",
    "l=500\n",
    "\n",
    "plt.imshow(field_mask[:l, :l], cmap=plt.cm.gray)\n",
    "plt.axis('off')\n",
    "\n",
    "plt.subplots_adjust(wspace=0.02, hspace=0.3, top=1, bottom=0.1, left=0, right=1)\n",
    "plt.show()"
   ]
  },
  {
   "cell_type": "code",
   "execution_count": 219,
   "metadata": {
    "collapsed": false
   },
   "outputs": [
    {
     "data": {
      "image/png": "[encoded data removed]",
      "text/plain": [
       "<matplotlib.figure.Figure at 0x1bd074b37f0>"
      ]
     },
     "metadata": {},
     "output_type": "display_data"
    },
    {
     "data": {
      "image/png": "[encoded data removed]",
      "text/plain": [
       "<matplotlib.figure.Figure at 0x1bd06bbf710>"
      ]
     },
     "metadata": {},
     "output_type": "display_data"
    }
   ],
   "source": [
    "plt.figure()\n",
    "xx, yy = np.meshgrid(xedges, yedges)\n",
    "u_keys = novel_fields_unique.keys()\n",
    "for key in u_keys:\n",
    "    pp = plt.pcolormesh(xx, yy, fields_tunings['novel'][key], cmap='YlGn')\n",
    "    plt.colorbar(pp)\n",
    "    plt.axis('off')\n",
    "    plt.show()"
   ]
  },
  {
   "cell_type": "code",
   "execution_count": 174,
   "metadata": {
    "collapsed": false
   },
   "outputs": [
    {
     "data": {
      "text/plain": [
       "dict_keys([64, 3, 68, 7, 74, 11, 14, 82, 83, 85, 22, 23, 25, 71, 93, 30, 95, 97, 113, 37, 103, 43, 109, 47, 48, 49, 115, 53, 54, 55, 87, 61])"
      ]
     },
     "execution_count": 174,
     "metadata": {},
     "output_type": "execute_result"
    }
   ],
   "source": [
    "fields_tunings['u'].keys()"
   ]
  },
  {
   "cell_type": "code",
   "execution_count": 222,
   "metadata": {
    "collapsed": false
   },
   "outputs": [
    {
     "ename": "ImportError",
     "evalue": "cannot import name 'get_unique_fields'",
     "output_type": "error",
     "traceback": [
      "\u001b[0;31m---------------------------------------------------------------------------\u001b[0m",
      "\u001b[0;31mImportError\u001b[0m                               Traceback (most recent call last)",
      "\u001b[0;32m<ipython-input-222-f13f4e351ba9>\u001b[0m in \u001b[0;36m<module>\u001b[0;34m()\u001b[0m\n\u001b[0;32m----> 1\u001b[0;31m \u001b[0;32mfrom\u001b[0m \u001b[0mfield_functions\u001b[0m \u001b[0;32mimport\u001b[0m \u001b[0mget_unique_fields\u001b[0m\u001b[0;34m\u001b[0m\u001b[0m\n\u001b[0m\u001b[1;32m      2\u001b[0m \u001b[0mkeys\u001b[0m \u001b[0;34m=\u001b[0m \u001b[0;34m[\u001b[0m\u001b[0;34m'u'\u001b[0m\u001b[0;34m,\u001b[0m \u001b[0;34m'shortcut'\u001b[0m\u001b[0;34m,\u001b[0m \u001b[0;34m'novel'\u001b[0m\u001b[0;34m]\u001b[0m\u001b[0;34m\u001b[0m\u001b[0m\n\u001b[1;32m      3\u001b[0m \u001b[0munique_fields\u001b[0m \u001b[0;34m=\u001b[0m \u001b[0mdict\u001b[0m\u001b[0;34m(\u001b[0m\u001b[0;34m)\u001b[0m\u001b[0;34m\u001b[0m\u001b[0m\n\u001b[1;32m      4\u001b[0m \u001b[0munique_fields\u001b[0m\u001b[0;34m[\u001b[0m\u001b[0;34m'u'\u001b[0m\u001b[0;34m]\u001b[0m \u001b[0;34m=\u001b[0m \u001b[0mget_unique_fields\u001b[0m\u001b[0;34m(\u001b[0m\u001b[0mfields_tunings\u001b[0m\u001b[0;34m[\u001b[0m\u001b[0;34m'u'\u001b[0m\u001b[0;34m]\u001b[0m\u001b[0;34m,\u001b[0m \u001b[0mfields_tunings\u001b[0m\u001b[0;34m[\u001b[0m\u001b[0;34m'shortcut'\u001b[0m\u001b[0;34m]\u001b[0m\u001b[0;34m,\u001b[0m \u001b[0mfields_tunings\u001b[0m\u001b[0;34m[\u001b[0m\u001b[0;34m'novel'\u001b[0m\u001b[0;34m]\u001b[0m\u001b[0;34m)\u001b[0m\u001b[0;34m\u001b[0m\u001b[0m\n\u001b[1;32m      5\u001b[0m \u001b[0munique_fields\u001b[0m\u001b[0;34m[\u001b[0m\u001b[0;34m'shortcut'\u001b[0m\u001b[0;34m]\u001b[0m \u001b[0;34m=\u001b[0m \u001b[0mget_unique_fields\u001b[0m\u001b[0;34m(\u001b[0m\u001b[0mfields_tunings\u001b[0m\u001b[0;34m[\u001b[0m\u001b[0;34m'shortcut'\u001b[0m\u001b[0;34m]\u001b[0m\u001b[0;34m,\u001b[0m \u001b[0mfields_tunings\u001b[0m\u001b[0;34m[\u001b[0m\u001b[0;34m'novel'\u001b[0m\u001b[0;34m]\u001b[0m\u001b[0;34m,\u001b[0m \u001b[0mfields_tunings\u001b[0m\u001b[0;34m[\u001b[0m\u001b[0;34m'u'\u001b[0m\u001b[0;34m]\u001b[0m\u001b[0;34m)\u001b[0m\u001b[0;34m\u001b[0m\u001b[0m\n",
      "\u001b[0;31mImportError\u001b[0m: cannot import name 'get_unique_fields'"
     ]
    }
   ],
   "source": [
    "from field_functions import get_unique_fields\n",
    "keys = ['u', 'shortcut', 'novel']\n",
    "unique_fields = dict()\n",
    "unique_fields['u'] = get_unique_fields(fields_tunings['u'], fields_tunings['shortcut'], fields_tunings['novel'])\n",
    "unique_fields['shortcut'] = get_unique_fields(fields_tunings['shortcut'], fields_tunings['novel'], fields_tunings['u'])\n",
    "unique_fields['novel'] = get_unique_fields(fields_tunings['novel'], fields_tunings['u'], fields_tunings['shortcut'])\n",
    "\n",
    "field_spikes = dict(u=[], shortcut=[], novel=[])\n",
    "for field in field_spikes:\n",
    "    for key in fields:\n",
    "        field_spikes[field].append(spikes[key])"
   ]
  },
  {
   "cell_type": "code",
   "execution_count": 220,
   "metadata": {
    "collapsed": false
   },
   "outputs": [
    {
     "ename": "NameError",
     "evalue": "name 'keys' is not defined",
     "output_type": "error",
     "traceback": [
      "\u001b[0;31m---------------------------------------------------------------------------\u001b[0m",
      "\u001b[0;31mNameError\u001b[0m                                 Traceback (most recent call last)",
      "\u001b[0;32m<ipython-input-220-ff8bb4d09b09>\u001b[0m in \u001b[0;36m<module>\u001b[0;34m()\u001b[0m\n\u001b[0;32m----> 1\u001b[0;31m \u001b[0mkeys\u001b[0m\u001b[0;34m\u001b[0m\u001b[0m\n\u001b[0m",
      "\u001b[0;31mNameError\u001b[0m: name 'keys' is not defined"
     ]
    }
   ],
   "source": [
    "keys"
   ]
  },
  {
   "cell_type": "code",
   "execution_count": null,
   "metadata": {
    "collapsed": true
   },
   "outputs": [],
   "source": []
  },
  {
   "cell_type": "code",
   "execution_count": null,
   "metadata": {
    "collapsed": true
   },
   "outputs": [],
   "source": []
  }
 ],
 "metadata": {
  "kernelspec": {
   "display_name": "Python 3",
   "language": "python",
   "name": "python3"
  },
  "language_info": {
   "codemirror_mode": {
    "name": "ipython",
    "version": 3
   },
   "file_extension": ".py",
   "mimetype": "text/x-python",
   "name": "python",
   "nbconvert_exporter": "python",
   "pygments_lexer": "ipython3",
   "version": "3.5.2"
  }
 },
 "nbformat": 4,
 "nbformat_minor": 0
}
