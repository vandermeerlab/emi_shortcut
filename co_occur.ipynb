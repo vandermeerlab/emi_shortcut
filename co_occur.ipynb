{
 "cells": [
  {
   "cell_type": "code",
   "execution_count": null,
   "metadata": {
    "collapsed": false
   },
   "outputs": [],
   "source": [
    "%matplotlib inline\n",
    "import os\n",
    "import numpy as np\n",
    "import matplotlib.pyplot as plt\n",
    "import pickle\n",
    "from scipy.interpolate import InterpolatedUnivariateSpline\n",
    "import random\n",
    "import seaborn as sns\n",
    "from shapely.geometry import Point\n",
    "\n",
    "import vdmlab as vdm\n",
    "\n",
    "from load_data import get_pos, get_spikes, get_lfp\n",
    "from field_functions import get_unique_fields, categorize_fields\n",
    "from maze_functions import trajectory_fields, find_zones\n",
    "from plotting_functions import plot_cooccur\n",
    "\n",
    "import info.R063d2_info as r063d2\n",
    "import info.R063d3_info as r063d3"
   ]
  },
  {
   "cell_type": "code",
   "execution_count": null,
   "metadata": {
    "collapsed": true
   },
   "outputs": [],
   "source": [
    "# pickle_filepath = 'C:\\\\Users\\\\Emily\\\\Code\\\\emi_shortcut\\\\cache\\\\pickled\\\\'\n",
    "# output_filepath = 'C:\\\\Users\\\\Emily\\\\Code\\\\emi_shortcut\\\\plots\\\\'\n",
    "output_filepath = 'E:\\\\code\\\\emi_shortcut\\\\cache\\\\pickled\\\\'\n",
    "output_filepath = 'E:\\\\code\\\\emi_shortcut\\\\plots\\\\'"
   ]
  },
  {
   "cell_type": "code",
   "execution_count": null,
   "metadata": {
    "collapsed": false
   },
   "outputs": [],
   "source": [
    "infos = [r063d3]\n",
    "\n",
    "field_thresh = 1.\n",
    "power_thresh = 5.\n",
    "z_thresh = 3.\n",
    "merge_thresh = 0.02\n",
    "min_length = 0.01\n",
    "\n",
    "for info in infos:\n",
    "    print(info.session_id)\n",
    "\n",
    "    lfp = get_lfp(info.good_swr[0])\n",
    "    position = get_pos(info.pos_mat, info.pxl_to_cm)\n",
    "    spikes = get_spikes(info.spike_mat)\n",
    "\n",
    "    speed = position.speed(t_smooth=0.5)\n",
    "    run_idx = np.squeeze(speed.data) >= info.run_threshold\n",
    "    run_pos = position[run_idx]\n",
    "\n",
    "    t_start_tc = info.task_times['phase3'].start\n",
    "    t_stop_tc = info.task_times['phase3'].stop\n",
    "\n",
    "    tc_pos = run_pos.time_slice(t_start_tc, t_stop_tc)\n",
    "\n",
    "    tc_spikes = [spiketrain.time_slice(t_start_tc, t_stop_tc) for spiketrain in spikes]\n",
    "\n",
    "    binsize = 3\n",
    "    xedges = np.arange(tc_pos.x.min(), tc_pos.x.max() + binsize, binsize)\n",
    "    yedges = np.arange(tc_pos.y.min(), tc_pos.y.max() + binsize, binsize)\n",
    "\n",
    "    tuning_curves = vdm.tuning_curve_2d(tc_pos, tc_spikes, xedges, yedges, gaussian_sigma=0.1)\n",
    "\n",
    "    zones = find_zones(info)\n",
    "\n",
    "    fields_tunings = categorize_fields(tuning_curves, zones, xedges, yedges, field_thresh=field_thresh)\n",
    "\n",
    "    keys = ['u', 'shortcut', 'novel']\n",
    "    unique_fields = dict()\n",
    "    unique_fields['u'] = get_unique_fields(fields_tunings['u'],\n",
    "                                           fields_tunings['shortcut'],\n",
    "                                           fields_tunings['novel'])\n",
    "    unique_fields['shortcut'] = get_unique_fields(fields_tunings['shortcut'],\n",
    "                                                  fields_tunings['novel'],\n",
    "                                                  fields_tunings['u'])\n",
    "    unique_fields['novel'] = get_unique_fields(fields_tunings['novel'],\n",
    "                                               fields_tunings['u'],\n",
    "                                               fields_tunings['shortcut'])\n",
    "\n",
    "    field_spikes = dict(u=[], shortcut=[], novel=[])\n",
    "    for field in unique_fields.keys():\n",
    "        for key in unique_fields[field]:\n",
    "            field_spikes[field].append(spikes[key])\n",
    "\n",
    "    experiment_times = ['pauseA']\n",
    "    for experiment_time in experiment_times:\n",
    "        print(experiment_time)\n",
    "\n",
    "        t_start = info.task_times[experiment_time].start\n",
    "        t_stop = info.task_times[experiment_time].stop\n",
    "\n",
    "        sliced_lfp = lfp.time_slice(t_start, t_stop)\n",
    "\n",
    "        sliced_spikes = [spiketrain.time_slice(t_start, t_stop) for spiketrain in spikes]\n",
    "\n",
    "        swrs = vdm.detect_swr_hilbert(sliced_lfp, fs=info.fs, thresh=(140.0, 250.0), z_thresh=z_thresh,\n",
    "                                      power_thresh=power_thresh, merge_thresh=merge_thresh, min_length=min_length)\n",
    "        \n",
    "        multi_swrs = vdm.find_multi_in_epochs(spikes, swrs, min_involved=3)\n",
    "\n",
    "        count_matrix = dict()\n",
    "        for key in field_spikes:\n",
    "            count_matrix[key] = vdm.spike_counts(field_spikes[key], multi_swrs)\n",
    "\n",
    "        tetrode_mask = dict()\n",
    "        for key in field_spikes:\n",
    "            tetrode_mask[key] = vdm.get_tetrode_mask(field_spikes[key])\n",
    "\n",
    "        probs = dict()\n",
    "        for key in field_spikes:\n",
    "            probs[key] = vdm.compute_cooccur(count_matrix[key], tetrode_mask[key], num_shuffles=10000)\n",
    "\n",
    "        filename = 'testing_cooccur-' + experiment_time + '.png'\n",
    "        savepath = os.path.join(output_filepath, filename)\n",
    "        plot_cooccur(probs, savepath=None)"
   ]
  },
  {
   "cell_type": "code",
   "execution_count": null,
   "metadata": {
    "collapsed": true
   },
   "outputs": [],
   "source": []
  },
  {
   "cell_type": "code",
   "execution_count": null,
   "metadata": {
    "collapsed": true
   },
   "outputs": [],
   "source": []
  }
 ],
 "metadata": {
  "kernelspec": {
   "display_name": "Python 3",
   "language": "python",
   "name": "python3"
  },
  "language_info": {
   "codemirror_mode": {
    "name": "ipython",
    "version": 3
   },
   "file_extension": ".py",
   "mimetype": "text/x-python",
   "name": "python",
   "nbconvert_exporter": "python",
   "pygments_lexer": "ipython3",
   "version": "3.5.2"
  }
 },
 "nbformat": 4,
 "nbformat_minor": 0
}
