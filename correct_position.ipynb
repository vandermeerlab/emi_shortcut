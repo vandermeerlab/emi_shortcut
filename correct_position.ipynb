{
 "cells": [
  {
   "cell_type": "code",
   "execution_count": null,
   "metadata": {
    "collapsed": false
   },
   "outputs": [],
   "source": [
    "%matplotlib inline\n",
    "import numpy as np\n",
    "import matplotlib.pyplot as plt\n",
    "from shapely.geometry import Point, LineString\n",
    "\n",
    "import vdmlab as vdm\n",
    "\n",
    "from load_data import get_pos, get_raw_pos, get_events\n",
    "from analyze_maze import spikes_by_position\n",
    "from analyze_plotting import plot_intersects, plot_zone\n",
    "\n",
    "import sys\n",
    "sys.path.append('E:\\\\code\\\\python-vdmlab\\\\projects\\\\emily_shortcut\\\\info')\n",
    "import info.r063d2 as r063d2"
   ]
  },
  {
   "cell_type": "code",
   "execution_count": null,
   "metadata": {
    "collapsed": true
   },
   "outputs": [],
   "source": [
    "# output_path = 'C:\\\\Users\\\\Emily\\\\Code\\\\emi_shortcut\\\\cache\\\\matlab\\\\spike_pos\\\\'\n",
    "output_path = 'E:\\\\code\\\\emi_shortcut\\\\cache\\\\matlab\\\\spike_pos\\\\'\n",
    "info = r063d2"
   ]
  },
  {
   "cell_type": "code",
   "execution_count": null,
   "metadata": {
    "collapsed": false
   },
   "outputs": [],
   "source": [
    "pos = get_pos(info.pos_mat, info.pxl_to_cm)\n",
    "raw = get_raw_pos(info.raw_pos_mat, info.pxl_to_cm)\n",
    "events = get_events(info.event_mat)"
   ]
  },
  {
   "cell_type": "code",
   "execution_count": null,
   "metadata": {
    "collapsed": false
   },
   "outputs": [],
   "source": [
    "len(pos.x)"
   ]
  },
  {
   "cell_type": "code",
   "execution_count": null,
   "metadata": {
    "collapsed": false
   },
   "outputs": [],
   "source": [
    "len(raw.x)"
   ]
  },
  {
   "cell_type": "code",
   "execution_count": null,
   "metadata": {
    "collapsed": false
   },
   "outputs": [],
   "source": [
    "# Plot to check\n",
    "plt.plot(pos.x, pos.y, 'b.', ms=1)\n",
    "plt.show()"
   ]
  },
  {
   "cell_type": "code",
   "execution_count": null,
   "metadata": {
    "collapsed": false
   },
   "outputs": [],
   "source": [
    "# Plot to check\n",
    "plt.plot(raw.x, raw.y, 'b.', ms=1)\n",
    "plt.show()"
   ]
  },
  {
   "cell_type": "code",
   "execution_count": null,
   "metadata": {
    "collapsed": false
   },
   "outputs": [],
   "source": [
    "len(events['led1']), len(events['led2'])"
   ]
  },
  {
   "cell_type": "code",
   "execution_count": null,
   "metadata": {
    "collapsed": false
   },
   "outputs": [],
   "source": [
    "events.keys()"
   ]
  },
  {
   "cell_type": "code",
   "execution_count": null,
   "metadata": {
    "collapsed": false
   },
   "outputs": [],
   "source": [
    "for event in events['led1']:\n",
    "    idx = vdm.find_nearest_idx(raw.time, event)\n",
    "    plt.plot(raw.x[idx], raw.y[idx], 'r.', ms=2)\n",
    "    plt.plot(raw.x[idx-1], raw.y[idx-1], 'b.', ms=2)\n",
    "    plt.plot(raw.x[idx-2], raw.y[idx-2], 'c.', ms=2)\n",
    "plt.show()"
   ]
  },
  {
   "cell_type": "code",
   "execution_count": null,
   "metadata": {
    "collapsed": false
   },
   "outputs": [],
   "source": [
    "for event in events['led2']:\n",
    "    idx = vdm.find_nearest_idx(raw.time, event)\n",
    "    plt.plot(raw.x[idx], raw.y[idx], 'r.', ms=2)\n",
    "    plt.plot(raw.x[idx-1], raw.y[idx-1], 'b.', ms=2)\n",
    "    plt.plot(raw.x[idx-2], raw.y[idx-2], 'c.', ms=2)\n",
    "plt.show()"
   ]
  },
  {
   "cell_type": "code",
   "execution_count": null,
   "metadata": {
    "collapsed": false
   },
   "outputs": [],
   "source": [
    "def remove_position(position, events, feeder1, feeder2):\n",
    "    \"\"\"Removes position that occurs at event times.\n",
    "    \n",
    "    Parameters\n",
    "    ----------\n",
    "    position: vdmlab.Postition\n",
    "    event: np.array\n",
    "    \n",
    "    Returns\n",
    "    -------\n",
    "    filtered_position: vdmlab.Position\n",
    "\n",
    "    \"\"\"\n",
    "    max_idx = len(position.x)\n",
    "    \n",
    "    light_on = []\n",
    "    for event in events['led1']:\n",
    "        idx = vdm.find_nearest_idx(position.time, event)\n",
    "        light_on.append(idx)\n",
    "        if idx < max_idx-3:\n",
    "            light_on.append(idx+1)\n",
    "            light_on.append(idx+2)\n",
    "            light_on.append(idx+3)\n",
    "        \n",
    "    for event in events['led2']:\n",
    "        idx = vdm.find_nearest_idx(position.time, event)\n",
    "        light_on.append(idx)\n",
    "        if idx < max_idx-3:\n",
    "            light_on.append(idx+1)\n",
    "            light_on.append(idx+2)\n",
    "            light_on.append(idx+3)\n",
    "    \n",
    "    remove_idx = []\n",
    "    for idx in light_on:\n",
    "        point = Point(position.x[idx], position.y[idx])\n",
    "        if feeder1.contains(point) or feeder2.contains(point):\n",
    "            remove_idx.append(idx)\n",
    "    \n",
    "    remove_idx = np.array(remove_idx)\n",
    "        \n",
    "    return position_remove(position, remove_idx)\n",
    "    "
   ]
  },
  {
   "cell_type": "code",
   "execution_count": null,
   "metadata": {
    "collapsed": false
   },
   "outputs": [],
   "source": [
    "np.diff(raw.x[:10])"
   ]
  },
  {
   "cell_type": "code",
   "execution_count": null,
   "metadata": {
    "collapsed": true
   },
   "outputs": [],
   "source": [
    "def position_remove(position, remove_idx):\n",
    "    x = np.delete(position.x, remove_idx)\n",
    "    y = np.delete(position.y, remove_idx)\n",
    "    time = np.delete(position.time, remove_idx)\n",
    "    \n",
    "    return vdm.Position(np.hstack(np.array([x, y])[..., np.newaxis]), time)"
   ]
  },
  {
   "cell_type": "code",
   "execution_count": null,
   "metadata": {
    "collapsed": true
   },
   "outputs": [],
   "source": [
    "feeder_radius = 40\n",
    "feeder1_pt = Point(info.path_pts['feeder1'])\n",
    "feeder1 = feeder1_pt.buffer(feeder_radius)\n",
    "\n",
    "feeder2_pt = Point(info.path_pts['feeder2'])\n",
    "feeder2 = feeder2_pt.buffer(feeder_radius)"
   ]
  },
  {
   "cell_type": "code",
   "execution_count": null,
   "metadata": {
    "collapsed": false
   },
   "outputs": [],
   "source": [
    "fixed = remove_position(raw, events, feeder1, feeder2)"
   ]
  },
  {
   "cell_type": "code",
   "execution_count": null,
   "metadata": {
    "collapsed": false
   },
   "outputs": [],
   "source": [
    "len(pos.time), len(fixed.time)"
   ]
  },
  {
   "cell_type": "code",
   "execution_count": null,
   "metadata": {
    "collapsed": false
   },
   "outputs": [],
   "source": [
    "plt.plot(raw.x, raw.y, 'b.', ms=1)\n",
    "# plt.plot(feeder1.exterior.xy[0], feeder1.exterior.xy[1], 'r')\n",
    "# plt.plot(feeder2.exterior.xy[0], feeder2.exterior.xy[1], 'g')\n",
    "plt.show()"
   ]
  },
  {
   "cell_type": "code",
   "execution_count": null,
   "metadata": {
    "collapsed": false
   },
   "outputs": [],
   "source": [
    "raw"
   ]
  },
  {
   "cell_type": "code",
   "execution_count": null,
   "metadata": {
    "collapsed": true
   },
   "outputs": [],
   "source": [
    "# Literally from position_shortcut.m\n",
    "\n",
    "def light_on(events):\n",
    "    starts = events['led1']\n",
    "    stops = events['led1'] + 3\n",
    "    \n",
    "    led1_epochs = vdm.Epoch(starts, stops-starts)\n",
    "    \n",
    "    starts = events['led2']\n",
    "    stops = events['led2'] + 3\n",
    "    \n",
    "    led2_epochs = vdm.Epoch(starts, stops-starts)\n",
    "    \n",
    "    return led1_epochs.join(led2_epochs)"
   ]
  },
  {
   "cell_type": "code",
   "execution_count": null,
   "metadata": {
    "collapsed": false
   },
   "outputs": [],
   "source": [
    "light_epochs = light_on(events)"
   ]
  },
  {
   "cell_type": "code",
   "execution_count": null,
   "metadata": {
    "collapsed": false
   },
   "outputs": [],
   "source": [
    "light_epochs.n_epochs"
   ]
  },
  {
   "cell_type": "code",
   "execution_count": null,
   "metadata": {
    "collapsed": true
   },
   "outputs": [],
   "source": []
  },
  {
   "cell_type": "code",
   "execution_count": null,
   "metadata": {
    "collapsed": true
   },
   "outputs": [],
   "source": [
    "expand_by = 5\n",
    "feeder1_center = Point(info.path_pts['feeder1'][0], info.path_pts['feeder1'][1])\n",
    "feeder1 = feeder1_center.buffer(expand_by*2)\n",
    "feeder2_center = Point(info.path_pts['feeder2'][0], info.path_pts['feeder2'][1])\n",
    "feeder2 = feeder2_center.buffer(expand_by*2)"
   ]
  },
  {
   "cell_type": "code",
   "execution_count": null,
   "metadata": {
    "collapsed": false
   },
   "outputs": [],
   "source": [
    "plt.plot(raw.x, raw.y, 'g.', ms=1)\n",
    "plot_zone(feeder1)\n",
    "plot_zone(feeder2)\n",
    "plt.show()"
   ]
  },
  {
   "cell_type": "code",
   "execution_count": null,
   "metadata": {
    "collapsed": true
   },
   "outputs": [],
   "source": []
  },
  {
   "cell_type": "code",
   "execution_count": null,
   "metadata": {
    "collapsed": true
   },
   "outputs": [],
   "source": [
    "def correct_position(position, events, feeder1, feeder2):\n",
    "    \"\"\"Removes positions above a certain speed threshold\n",
    "\n",
    "    Parameters\n",
    "    ----------\n",
    "    position : vdmlab.Position\n",
    "    events: dict\n",
    "        With led1, feederoff, type, feeder1, pb2, ledoff, led2, pboff, label, pb1, feeder2 as keys.\n",
    "\n",
    "    Returns\n",
    "    -------\n",
    "    filtered_position : vdmlab.Position\n",
    "\n",
    "    \"\"\"\n",
    "    remove_idx = []\n",
    "    for event in events['feederoff']:\n",
    "        idx = vdm.find_nearest_idx(raw.time, event)\n",
    "        for i in range(5):\n",
    "            point = Point([pos.x[idx-i], pos.y[idx-i]])\n",
    "            if feeder1.contains(point) or feeder2.contains(point):\n",
    "                remove_idx.append(i)\n",
    "    \n",
    "    return position[~np.hstack(remove_idx)]"
   ]
  },
  {
   "cell_type": "code",
   "execution_count": null,
   "metadata": {
    "collapsed": false,
    "scrolled": false
   },
   "outputs": [],
   "source": [
    "test = correct_position(raw, events, feeder1, feeder2)"
   ]
  },
  {
   "cell_type": "code",
   "execution_count": null,
   "metadata": {
    "collapsed": false
   },
   "outputs": [],
   "source": [
    "plt.plot(test.x, test.y, 'g.', ms=1)\n",
    "plt.show()"
   ]
  },
  {
   "cell_type": "code",
   "execution_count": null,
   "metadata": {
    "collapsed": true
   },
   "outputs": [],
   "source": []
  }
 ],
 "metadata": {
  "kernelspec": {
   "display_name": "Python 3",
   "language": "python",
   "name": "python3"
  },
  "language_info": {
   "codemirror_mode": {
    "name": "ipython",
    "version": 3
   },
   "file_extension": ".py",
   "mimetype": "text/x-python",
   "name": "python",
   "nbconvert_exporter": "python",
   "pygments_lexer": "ipython3",
   "version": "3.5.2"
  }
 },
 "nbformat": 4,
 "nbformat_minor": 0
}
