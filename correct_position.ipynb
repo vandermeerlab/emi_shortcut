{
 "cells": [
  {
   "cell_type": "code",
   "execution_count": null,
   "metadata": {
    "collapsed": true
   },
   "outputs": [],
   "source": [
    "%matplotlib inline\n",
    "import matplotlib.pyplot as plt\n",
    "from shapely.geometry import Point, LineString, MultiPoint\n",
    "import os\n",
    "import numpy as np\n",
    "import scipy.io as sio\n",
    "import scipy.signal as signal\n",
    "import vdmlab as vdm"
   ]
  },
  {
   "cell_type": "code",
   "execution_count": null,
   "metadata": {
    "collapsed": true
   },
   "outputs": [],
   "source": [
    "import info.r063d2 as r063d2\n",
    "import info.r063d3 as r063d3\n",
    "info = r063d2"
   ]
  },
  {
   "cell_type": "code",
   "execution_count": null,
   "metadata": {
    "collapsed": true
   },
   "outputs": [],
   "source": [
    "# pos_filename = 'C:/Users/Emily/Desktop/R063-2015-03-20-VT1.nvt'\n",
    "# position = vdm.load_position(pos_filename, info.pxl_to_cm)"
   ]
  },
  {
   "cell_type": "code",
   "execution_count": null,
   "metadata": {
    "collapsed": false
   },
   "outputs": [],
   "source": [
    "evt_filename = 'C:/Users/Emily/Desktop/R063-2015-03-20-Events.nev'\n",
    "labels = dict(led1='TTL Output on AcqSystem1_0 board 0 port 2 value (0x0001).',\n",
    "              led2='TTL Output on AcqSystem1_0 board 0 port 2 value (0x0002).',\n",
    "              ledoff='TTL Output on AcqSystem1_0 board 0 port 2 value (0x0000).',\n",
    "              pb1id='TTL Input on AcqSystem1_0 board 0 port 1 value (0x0040).',\n",
    "              pb2id='TTL Input on AcqSystem1_0 board 0 port 1 value (0x0020).',\n",
    "              pboff='TTL Input on AcqSystem1_0 board 0 port 1 value (0x0000).',\n",
    "              feeder1='TTL Output on AcqSystem1_0 board 0 port 0 value (0x0004).',\n",
    "              feeder2='TTL Output on AcqSystem1_0 board 0 port 0 value (0x0040).',\n",
    "              feederoff='TTL Output on AcqSystem1_0 board 0 port 0 value (0x0000).')\n",
    "\n",
    "events = vdm.load_events(evt_filename, labels)\n",
    "\n",
    "pos_filename = 'C:/Users/Emily/Desktop/R063-2015-03-20-VT1.nvt'"
   ]
  },
  {
   "cell_type": "code",
   "execution_count": null,
   "metadata": {
    "collapsed": false
   },
   "outputs": [],
   "source": [
    "def extract_xy(target, info):\n",
    "    \"\"\"Extracts x and y from neuralynx target. Converts to cm.\n",
    "    \n",
    "    Parameters\n",
    "    ----------\n",
    "    target: np.array\n",
    "    \n",
    "    Returns\n",
    "    -------\n",
    "    x: np.array\n",
    "    y: np.array\n",
    "    \n",
    "    \"\"\"\n",
    "    binary_target = \"{:032b}\".format(target)\n",
    "    x = int(binary_target[20:31], 2) / info.pxl_to_cm[0]\n",
    "    y = int(binary_target[4:15], 2) / info.pxl_to_cm[1]\n",
    "    \n",
    "    return x, y"
   ]
  },
  {
   "cell_type": "code",
   "execution_count": null,
   "metadata": {
    "collapsed": false
   },
   "outputs": [],
   "source": [
    "def load_shortcut_position(info, pos_filename, events):\n",
    "    \"\"\"Loads and corrects shortcut position.\n",
    "    \n",
    "    Parameters\n",
    "    ----------\n",
    "    info: module\n",
    "    pos_filename: str\n",
    "    events: dict\n",
    "    \n",
    "    Returns\n",
    "    -------\n",
    "    position: vdm.Position\n",
    "    \n",
    "    \"\"\"\n",
    "    nvt_data = vdm.load_nvt(pos_filename)\n",
    "    targets = nvt_data['targets']\n",
    "    times = nvt_data['time']\n",
    "\n",
    "    # Initialize x, y arrays\n",
    "    x = np.zeros(targets.shape)\n",
    "    y = np.zeros(targets.shape)\n",
    "    # time = np.zeros(targets.shape)\n",
    "\n",
    "    # X and Y are stored in a custom bitfield. See Neuralynx data file format documentation for details.\n",
    "    # Briefly, each record contains up to 50 targets, each stored in 32bit field. \n",
    "    # X field at [20:31] and Y at [4:15].\n",
    "    for target in range(targets.shape[1]):\n",
    "        this_sample = targets[:, target]\n",
    "        for sample in range(targets.shape[0]):\n",
    "            # When the bitfield is equal to zero there is no valid data for that field\n",
    "            # and remains zero for the rest of the bitfields in the record.\n",
    "            if this_sample[target] == 0:\n",
    "                break\n",
    "            x[sample, target], y[sample, target] = extract_xy(int(this_sample[sample]), info)\n",
    "\n",
    "    # Remove columns with no target data\n",
    "    col_idx = (np.sum(x==0, axis=0) == x.shape[0]) & (np.sum(y==0, axis=0) == y.shape[0])\n",
    "    xs = np.array(x[:, ~col_idx])\n",
    "    ys = np.array(y[:, ~col_idx])\n",
    "\n",
    "    # This correction method assumes we are working with two targets \n",
    "    # (eg. subtracts the two targets, averages over two targets, etc.)\n",
    "    if xs.shape[1] != 2 or ys.shape[1] != 2:\n",
    "        raise ValueError(\"must have two targets for x and y\")\n",
    "\n",
    "    # Put the LED events in the same array, sorted by time\n",
    "    leds = []\n",
    "    leds.extend([(event, 'led1') for event in events['led1']])\n",
    "    leds.extend([(event, 'led2') for event in events['led2']])\n",
    "    sorted_leds = sorted(leds)\n",
    "\n",
    "    # Get an array of feeder locations when that feeder is actively flashing\n",
    "    feeder_x_location = np.zeros(xs.shape[0])\n",
    "    feeder_y_location = np.zeros(ys.shape[0])\n",
    "\n",
    "    feeder1_x = info.path_pts['feeder1'][0]\n",
    "    feeder1_y = info.path_pts['feeder1'][1]\n",
    "    feeder2_x = info.path_pts['feeder2'][0]\n",
    "    feeder2_y = info.path_pts['feeder2'][1]\n",
    "\n",
    "    last_label = ''\n",
    "\n",
    "    for time, label in sorted_leds:\n",
    "        if label == last_label:\n",
    "            continue\n",
    "        idx = vdm.find_nearest_idx(times, time)\n",
    "        x_location = feeder1_x if label == 'led1' else feeder2_x\n",
    "        y_location = feeder1_y if label == 'led1' else feeder2_y\n",
    "\n",
    "        feeder_x_location[idx:] = x_location\n",
    "        feeder_y_location[idx:] = y_location\n",
    "\n",
    "        last_label = label\n",
    "\n",
    "    # Initialize xx and yy as the first target\n",
    "    xx = np.array(xs[:, 0])\n",
    "    yy = np.array(ys[:, 0])\n",
    "\n",
    "    # Find indices where only one target was available\n",
    "    one_target_idx = (xs[:, 1]==0) | (ys[:, 1]==0)\n",
    "\n",
    "    # One target is contaminated when the distance between the two targets is large\n",
    "    target_x_dist = np.abs(xs[:, 1] - xs[:, 0])\n",
    "    target_y_dist = np.abs(ys[:, 1] - ys[:, 0])\n",
    "\n",
    "    # Contaminated samples are using the feeder LED instead of the implant LEDs\n",
    "    contamination_thresh = 5\n",
    "    contaminated_idx = (target_x_dist > contamination_thresh) | (target_y_dist > contamination_thresh)\n",
    "\n",
    "    # Non contaminated implant LED samples with two targets get averaged\n",
    "    idx = ~contaminated_idx & ~one_target_idx\n",
    "    xx[idx] = np.mean(xs[idx], axis=1)\n",
    "    yy[idx] = np.mean(ys[idx], axis=1)\n",
    "\n",
    "    # For contaminated samples, we use the sample that is furthest from the feeder location\n",
    "    feeder_x_dist = np.abs(xs - feeder_x_location[..., np.newaxis])\n",
    "    feeder_y_dist = np.abs(ys - feeder_y_location[..., np.newaxis])\n",
    "\n",
    "    feeder_dist = feeder_x_dist + feeder_y_dist\n",
    "    furthest_idx = np.argmax(feeder_dist, axis=1)\n",
    "\n",
    "    idx = contaminated_idx & ~one_target_idx\n",
    "    xx[idx] = xs[idx, furthest_idx[idx]]\n",
    "    yy[idx] = ys[idx, furthest_idx[idx]]\n",
    "\n",
    "    # Applying a median filter to the x and y positions\n",
    "    kernel = 7\n",
    "    filtered_x = signal.medfilt(xx, kernel_size=kernel)\n",
    "    filtered_y = signal.medfilt(yy, kernel_size=kernel)\n",
    "\n",
    "    # Construct a vdm.Position object\n",
    "    position = vdm.Position(np.hstack(np.array([filtered_x, filtered_y])[..., np.newaxis]), times)\n",
    "    \n",
    "    return position"
   ]
  },
  {
   "cell_type": "code",
   "execution_count": null,
   "metadata": {
    "collapsed": true
   },
   "outputs": [],
   "source": [
    "position = load_shortcut_position(info, pos_filename, events)"
   ]
  },
  {
   "cell_type": "code",
   "execution_count": null,
   "metadata": {
    "collapsed": false
   },
   "outputs": [],
   "source": [
    "np.sum(np.sqrt(np.diff(position.x)**2 + np.diff(position.y)**2)>10)"
   ]
  },
  {
   "cell_type": "code",
   "execution_count": null,
   "metadata": {
    "collapsed": false
   },
   "outputs": [],
   "source": [
    "plt.plot(position.x, position.y, 'g.', ms=2)\n",
    "idx = np.where(np.append(np.sqrt(np.diff(position.x)**2 + np.diff(position.y)**2), np.array([0]))>10)[0]\n",
    "plt.plot(position.x[idx], position.y[idx], 'r.', ms=10)\n",
    "plt.plot(position.x[idx-1], position.y[idx-1], 'k.', ms=10)\n",
    "plt.plot(position.x[idx+1], position.y[idx+1], 'm.', ms=10)\n",
    "plt.show()"
   ]
  },
  {
   "cell_type": "code",
   "execution_count": null,
   "metadata": {
    "collapsed": false
   },
   "outputs": [],
   "source": [
    "plt.plot(position.x, position.y, 'g.', ms=2)\n",
    "plt.show()"
   ]
  },
  {
   "cell_type": "code",
   "execution_count": null,
   "metadata": {
    "collapsed": false
   },
   "outputs": [],
   "source": [
    "plt.plot(position.time, position.y, 'b.', ms=2)\n",
    "plt.show()"
   ]
  },
  {
   "cell_type": "code",
   "execution_count": null,
   "metadata": {
    "collapsed": false
   },
   "outputs": [],
   "source": [
    "plt.plot(position.time, position.x, 'k.', ms=2)\n",
    "plt.show()"
   ]
  },
  {
   "cell_type": "code",
   "execution_count": null,
   "metadata": {
    "collapsed": true
   },
   "outputs": [],
   "source": []
  },
  {
   "cell_type": "code",
   "execution_count": null,
   "metadata": {
    "collapsed": false,
    "scrolled": false
   },
   "outputs": [],
   "source": [
    "final_x = np.array(xx)\n",
    "final_y = np.array(yy)\n",
    "final_time = np.array(ttime)\n",
    "\n",
    "# Find those indices that have both targets contaminated by the feeder LEDs\n",
    "# by locating unnatural jumps in the position. Not including jumps that are\n",
    "# due to jumps in time (from stopping the recording). \n",
    "time_thresh = 1.\n",
    "jump_thresh = 50\n",
    "dist_thresh = 60\n",
    "\n",
    "while True: \n",
    "    jumps = np.append(np.array([0]), np.sqrt(np.diff(final_x)**2 + np.diff(final_y)**2))\n",
    "    remove_idx = jumps > jump_thresh\n",
    "    print(np.sum(remove_idx))\n",
    "\n",
    "    time_jumps = np.append(np.diff(final_time) > time_thresh, np.array([False], dtype=bool))    \n",
    "    remove_idx[time_jumps] = False\n",
    "    print(np.sum(remove_idx))\n",
    "    \n",
    "#     dist_feeder1 = np.sqrt((final_x - feeder1_x)**2 + (final_y - feeder1_y)**2)\n",
    "#     dist_feeder2 = np.sqrt((final_x - feeder2_x)**2 + (final_y - feeder2_y)**2)\n",
    "#     dist_feeder = np.minimum(dist_feeder1, dist_feeder2)\n",
    "#     dist_jumps = dist_feeder > dist_thresh\n",
    "#     remove_idx[dist_jumps] = False\n",
    "\n",
    "    if np.sum(remove_idx) > 0:\n",
    "        final_x = final_x[~remove_idx]\n",
    "        final_y = final_y[~remove_idx]\n",
    "        final_time = final_time[~remove_idx] \n",
    "\n",
    "    else:\n",
    "        break"
   ]
  },
  {
   "cell_type": "code",
   "execution_count": null,
   "metadata": {
    "collapsed": true
   },
   "outputs": [],
   "source": [
    "filtered_x = signal.medfilt(final_x)\n",
    "filtered_y = signal.medfilt(final_y)"
   ]
  },
  {
   "cell_type": "code",
   "execution_count": null,
   "metadata": {
    "collapsed": false
   },
   "outputs": [],
   "source": [
    "len(final_x)"
   ]
  },
  {
   "cell_type": "code",
   "execution_count": null,
   "metadata": {
    "collapsed": false
   },
   "outputs": [],
   "source": [
    "np.sum(np.sqrt(np.diff(final_x)**2 + np.diff(final_y)**2)>100)"
   ]
  },
  {
   "cell_type": "code",
   "execution_count": null,
   "metadata": {
    "collapsed": false
   },
   "outputs": [],
   "source": [
    "np.sum(np.sqrt(np.diff(filtered_x)**2 + np.diff(filtered_y)**2)>100)"
   ]
  },
  {
   "cell_type": "code",
   "execution_count": null,
   "metadata": {
    "collapsed": false
   },
   "outputs": [],
   "source": [
    "plt.hist(np.sqrt(np.diff(filtered_x)**2 + np.diff(filtered_y)**2))\n",
    "plt.show()"
   ]
  },
  {
   "cell_type": "code",
   "execution_count": null,
   "metadata": {
    "collapsed": false
   },
   "outputs": [],
   "source": [
    "plt.plot(filtered_x, filtered_y, 'g.', ms=2)\n",
    "plt.show()"
   ]
  },
  {
   "cell_type": "code",
   "execution_count": null,
   "metadata": {
    "collapsed": true
   },
   "outputs": [],
   "source": []
  },
  {
   "cell_type": "code",
   "execution_count": null,
   "metadata": {
    "collapsed": true
   },
   "outputs": [],
   "source": [
    "def extract_color(target):\n",
    "    binary_target = \"{:032b}\".format(target)\n",
    "    \n",
    "    color = dict()\n",
    "    color['red'] = int(binary_target[1], 2)\n",
    "    color['green'] = int(binary_target[2], 2)\n",
    "    color['blue'] = int(binary_target[3], 2)\n",
    "    color['raw_red'] = int(binary_target[17], 2)\n",
    "    color['raw_green'] = int(binary_target[18], 2)\n",
    "    color['raw_blue'] = int(binary_target[19], 2)\n",
    "    color['intensity'] = int(binary_target[16], 2)\n",
    "    \n",
    "    return color"
   ]
  },
  {
   "cell_type": "code",
   "execution_count": null,
   "metadata": {
    "collapsed": true
   },
   "outputs": [],
   "source": []
  },
  {
   "cell_type": "code",
   "execution_count": null,
   "metadata": {
    "collapsed": false
   },
   "outputs": [],
   "source": [
    "%matplotlib inline\n",
    "import numpy as np\n",
    "import matplotlib.pyplot as plt\n",
    "from shapely.geometry import Point, LineString, MultiPoint\n",
    "\n",
    "import vdmlab as vdm\n",
    "\n",
    "from load_data import get_pos, get_raw_pos, get_events\n",
    "from analyze_maze import spikes_by_position\n",
    "from analyze_plotting import plot_intersects, plot_zone\n",
    "\n",
    "import sys\n",
    "# sys.path.append('E:\\\\code\\\\python-vdmlab\\\\projects\\\\emily_shortcut\\\\info')\n",
    "sys.path.append('C:\\\\Users\\\\Emily\\\\Code\\\\emi_shortcut\\\\info')\n",
    "import info.r063d2 as r063d2"
   ]
  },
  {
   "cell_type": "code",
   "execution_count": null,
   "metadata": {
    "collapsed": true
   },
   "outputs": [],
   "source": [
    "output_path = 'C:\\\\Users\\\\Emily\\\\Code\\\\emi_shortcut\\\\cache\\\\matlab\\\\spike_pos\\\\'\n",
    "# output_path = 'E:\\\\code\\\\emi_shortcut\\\\cache\\\\matlab\\\\spike_pos\\\\'\n",
    "import info.r063d2 as r063d2\n",
    "info = r063d2"
   ]
  },
  {
   "cell_type": "code",
   "execution_count": null,
   "metadata": {
    "collapsed": false,
    "scrolled": false
   },
   "outputs": [],
   "source": [
    "corrected = get_pos(info.pos_mat, info.pxl_to_cm)\n",
    "raw = get_raw_pos(info.raw_pos_mat, info.pxl_to_cm)\n",
    "events = get_events(info.event_mat)"
   ]
  },
  {
   "cell_type": "code",
   "execution_count": null,
   "metadata": {
    "collapsed": false
   },
   "outputs": [],
   "source": [
    "np.sum(np.sqrt(np.diff(corrected.x)**2 + np.diff(corrected.y)**2)>10)"
   ]
  },
  {
   "cell_type": "code",
   "execution_count": null,
   "metadata": {
    "collapsed": false
   },
   "outputs": [],
   "source": [
    "len(raw.x) - len(corrected.x)"
   ]
  },
  {
   "cell_type": "code",
   "execution_count": null,
   "metadata": {
    "collapsed": false
   },
   "outputs": [],
   "source": [
    "len(raw.x), len(corrected.x)"
   ]
  },
  {
   "cell_type": "code",
   "execution_count": null,
   "metadata": {
    "collapsed": false
   },
   "outputs": [],
   "source": [
    "# Plot to check\n",
    "plt.plot(corrected.x, corrected.y, 'b.', ms=2)\n",
    "plt.show()"
   ]
  },
  {
   "cell_type": "code",
   "execution_count": null,
   "metadata": {
    "collapsed": false
   },
   "outputs": [],
   "source": [
    "plt.hist(np.sqrt(np.diff(corrected.x)**2 + np.diff(corrected.y)**2), 100)\n",
    "plt.show()"
   ]
  },
  {
   "cell_type": "code",
   "execution_count": null,
   "metadata": {
    "collapsed": false
   },
   "outputs": [],
   "source": [
    "corrected.n_samples # 229833"
   ]
  },
  {
   "cell_type": "code",
   "execution_count": null,
   "metadata": {
    "collapsed": false
   },
   "outputs": [],
   "source": [
    "# Plot to check\n",
    "plt.plot(raw.x, raw.y, 'b.', ms=1)\n",
    "plt.show()"
   ]
  },
  {
   "cell_type": "code",
   "execution_count": null,
   "metadata": {
    "collapsed": true
   },
   "outputs": [],
   "source": []
  }
 ],
 "metadata": {
  "anaconda-cloud": {},
  "kernelspec": {
   "display_name": "Python [default]",
   "language": "python",
   "name": "python3"
  },
  "language_info": {
   "codemirror_mode": {
    "name": "ipython",
    "version": 3
   },
   "file_extension": ".py",
   "mimetype": "text/x-python",
   "name": "python",
   "nbconvert_exporter": "python",
   "pygments_lexer": "ipython3",
   "version": "3.5.2"
  }
 },
 "nbformat": 4,
 "nbformat_minor": 0
}
