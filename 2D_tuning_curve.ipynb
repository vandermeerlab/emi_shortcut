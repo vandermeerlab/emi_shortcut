{
 "cells": [
  {
   "cell_type": "code",
   "execution_count": null,
   "metadata": {
    "collapsed": true
   },
   "outputs": [],
   "source": [
    "%matplotlib inline\n",
    "import matplotlib.pyplot as plt\n",
    "import numpy as np\n",
    "\n",
    "from scipy.ndimage.filters import gaussian_filter\n",
    "import scipy.signal as signal\n",
    "\n",
    "import vdmlab as vdm"
   ]
  },
  {
   "cell_type": "code",
   "execution_count": null,
   "metadata": {
    "collapsed": false
   },
   "outputs": [],
   "source": [
    "pos = dict()\n",
    "pos['x'] = np.array([1, 5, 9])\n",
    "pos['y'] = np.array([6, 10, 1])\n",
    "pos['time'] = np.array([0, 1, 2])\n",
    "\n",
    "plt.plot(pos['x'], pos['y'], 'b.', ms=10)\n",
    "plt.xlim(0.5, 9.5)\n",
    "plt.ylim(0.5, 10.5)\n",
    "plt.show()"
   ]
  },
  {
   "cell_type": "code",
   "execution_count": null,
   "metadata": {
    "collapsed": false
   },
   "outputs": [],
   "source": [
    "spikes = np.array([[0.1, 2.1, 2.3],\n",
    "                   [0.2, 0.7, 1.1]])"
   ]
  },
  {
   "cell_type": "code",
   "execution_count": null,
   "metadata": {
    "collapsed": false
   },
   "outputs": [],
   "source": [
    "binsize = 3\n",
    "xedges = np.arange(pos['x'].min(), pos['x'].max(), binsize)\n",
    "yedges = np.arange(pos['y'].min(), pos['y'].max(), binsize)\n",
    "if (xedges[-1] != pos['x'].max()) or (yedges[-1] != pos['y'].max()):\n",
    "    xedges = np.hstack((xedges, pos['x'].max()))\n",
    "    yedges = np.hstack((yedges, pos['y'].max()))"
   ]
  },
  {
   "cell_type": "code",
   "execution_count": null,
   "metadata": {
    "collapsed": false
   },
   "outputs": [],
   "source": [
    "sampling_rate = 1/30.\n",
    "\n",
    "position_heatmap, pos_xedges, pos_yedges = np.histogram2d(pos['y'], pos['x'], bins=[yedges, xedges])\n",
    "\n",
    "position_heatmap *= sampling_rate\n",
    "\n",
    "shape = position_heatmap.shape\n",
    "position_heatmap.flatten()\n",
    "occupied_idx = position_heatmap > 0\n",
    "# np.reshape(occupied_idx, shape)\n",
    "\n",
    "tuning_curves = []\n",
    "for neuron_spikes in spikes:\n",
    "    counts_x = []\n",
    "    counts_y = []\n",
    "    for spike_time in neuron_spikes:\n",
    "        spike_idx = vdm.find_nearest_idx(pos['time'], spike_time)\n",
    "        counts_x.append(pos['x'][spike_idx])\n",
    "        counts_y.append(pos['y'][spike_idx])\n",
    "    counts_heatmap, counts_xedges, counts_yedges = np.histogram2d(counts_y, counts_x, bins=[yedges, xedges])\n",
    "    \n",
    "    firing_rate = np.zeros(shape)\n",
    "    firing_rate.flatten()\n",
    "    counts_heatmap.flatten()\n",
    "    position_heatmap.flatten()\n",
    "    firing_rate[occupied_idx] = counts_heatmap[occupied_idx] / position_heatmap[occupied_idx]\n",
    "    np.reshape(firing_rate, shape)\n",
    "\n",
    "    tuning_curves.append(firing_rate)\n"
   ]
  },
  {
   "cell_type": "code",
   "execution_count": null,
   "metadata": {
    "collapsed": false
   },
   "outputs": [],
   "source": [
    "tuning_curves"
   ]
  },
  {
   "cell_type": "code",
   "execution_count": null,
   "metadata": {
    "collapsed": false
   },
   "outputs": [],
   "source": [
    "filter_type = 'gaussian'\n",
    "# filter_type = None\n",
    "gaussian_sigma = 0.5\n",
    "\n",
    "if filter_type == 'gaussian':\n",
    "    tc = []\n",
    "    for firing_rate in tuning_curves:\n",
    "        tc.append(gaussian_filter(firing_rate, gaussian_sigma))\n",
    "else:\n",
    "    print('Tuning curve with no filter.')\n",
    "    tc = tuning_curves"
   ]
  },
  {
   "cell_type": "code",
   "execution_count": null,
   "metadata": {
    "collapsed": false
   },
   "outputs": [],
   "source": [
    "tc"
   ]
  },
  {
   "cell_type": "code",
   "execution_count": null,
   "metadata": {
    "collapsed": false
   },
   "outputs": [],
   "source": [
    "plt.figure()\n",
    "# plt.plot(pos['x'], pos['y'], 'k.', ms=0.2)\n",
    "# xedges = np.linspace(np.min(pos['x'])-2, np.max(pos['x'])+2, num_bins+1)\n",
    "# yedges = np.linspace(np.min(pos['y'])-2, np.max(pos['y'])+2, num_bins+1)\n",
    "xx, yy = np.meshgrid(xedges, yedges)\n",
    "\n",
    "# if plot_log:\n",
    "#     pp = plt.pcolormesh(xx, yy, heatmaps, norm=SymLogNorm(linthresh=1.0, vmax=vmax), cmap='YlGn')\n",
    "# else:\n",
    "for tuning_curve in tc:\n",
    "    pp = plt.pcolormesh(xx, yy, tuning_curve, cmap='YlGn')\n",
    "    plt.colorbar(pp)\n",
    "    plt.axis('off')\n",
    "    plt.show()"
   ]
  },
  {
   "cell_type": "code",
   "execution_count": null,
   "metadata": {
    "collapsed": true
   },
   "outputs": [],
   "source": []
  },
  {
   "cell_type": "code",
   "execution_count": null,
   "metadata": {
    "collapsed": false
   },
   "outputs": [],
   "source": [
    "yedges"
   ]
  },
  {
   "cell_type": "code",
   "execution_count": null,
   "metadata": {
    "collapsed": true
   },
   "outputs": [],
   "source": [
    "xedges = np.linspace(np.min(pos['x'])-2, np.max(pos['x'])+2, num_bins+1)\n",
    "yedges = np.linspace(np.min(pos['y'])-2, np.max(pos['y'])+2, num_bins+1)\n",
    "\n",
    "heatmaps = dict()\n",
    "count = 1\n",
    "for neuron in neuron_list:\n",
    "    field_x = []\n",
    "    field_y = []\n",
    "    for spike in spikes['time'][neuron]:\n",
    "        spike_idx = find_nearest_idx(pos['time'], spike)\n",
    "        field_x.append(pos['x'][spike_idx])\n",
    "        field_y.append(pos['y'][spike_idx])\n",
    "        heatmap, out_xedges, out_yedges = np.histogram2d(field_x, field_y, bins=[xedges, yedges])\n",
    "    heatmaps[neuron] = heatmap.T\n",
    "    print(str(neuron) + ' of ' + str(len(neuron_list)))\n",
    "    count += 1"
   ]
  },
  {
   "cell_type": "code",
   "execution_count": null,
   "metadata": {
    "collapsed": true
   },
   "outputs": [],
   "source": [
    "linear_start = np.min(linear['position'])\n",
    "linear_stop = np.max(linear['position'])\n",
    "edges = np.arange(linear_start, linear_stop, binsize)\n",
    "if edges[-1] < linear_stop:\n",
    "    edges = np.hstack([edges, linear_stop])\n",
    "\n",
    "position_counts = np.histogram(linear['position'], bins=edges)[0]\n",
    "position_counts = position_counts.astype(float)\n",
    "position_counts *= sampling_rate\n",
    "occupied_idx = position_counts > 0\n",
    "\n",
    "tc = []\n",
    "for idx, neuron_spikes in enumerate(spike_times):\n",
    "    counts_idx = []\n",
    "    for spike_time in neuron_spikes:\n",
    "        bin_idx = find_nearest_idx(linear['time'], spike_time)\n",
    "        counts_idx.append(linear['position'][bin_idx])\n",
    "    spike_counts = np.histogram(counts_idx, bins=edges)[0]\n",
    "\n",
    "    firing_rate = np.zeros(len(edges)-1)\n",
    "    firing_rate[occupied_idx] = spike_counts[occupied_idx] / position_counts[occupied_idx]\n",
    "    tc.append(firing_rate)\n",
    "\n",
    "if filter_type == 'gaussian':\n",
    "    filter_multiplier = 6\n",
    "    out_tc = []\n",
    "    gaussian_filter = signal.get_window(('gaussian', gaussian_std), gaussian_std*filter_multiplier)\n",
    "    normalized_gaussian = gaussian_filter / np.sum(gaussian_filter)\n",
    "    for firing_rate in tc:\n",
    "        out_tc.append(np.convolve(firing_rate, normalized_gaussian, mode='same'))\n",
    "else:\n",
    "    print('Tuning curve with no filter.')\n",
    "    out_tc = tc"
   ]
  },
  {
   "cell_type": "code",
   "execution_count": null,
   "metadata": {
    "collapsed": true
   },
   "outputs": [],
   "source": []
  }
 ],
 "metadata": {
  "kernelspec": {
   "display_name": "Python 3",
   "language": "python",
   "name": "python3"
  },
  "language_info": {
   "codemirror_mode": {
    "name": "ipython",
    "version": 3
   },
   "file_extension": ".py",
   "mimetype": "text/x-python",
   "name": "python",
   "nbconvert_exporter": "python",
   "pygments_lexer": "ipython3",
   "version": "3.5.2"
  }
 },
 "nbformat": 4,
 "nbformat_minor": 0
}
