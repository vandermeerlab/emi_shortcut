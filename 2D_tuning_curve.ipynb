{
 "cells": [
  {
   "cell_type": "code",
   "execution_count": null,
   "metadata": {
    "collapsed": true
   },
   "outputs": [],
   "source": [
    "%matplotlib inline\n",
    "import matplotlib.pyplot as plt\n",
    "import numpy as np\n",
    "\n",
    "from scipy.ndimage.filters import gaussian_filter\n",
    "\n",
    "import vdmlab as vdm"
   ]
  },
  {
   "cell_type": "code",
   "execution_count": null,
   "metadata": {
    "collapsed": false
   },
   "outputs": [],
   "source": [
    "pos = dict()\n",
    "pos['x'] = np.array([2, 4, 6, 8, 10, 8, 6])\n",
    "pos['y'] = np.array([7, 5, 3, 1, 3, 5, 9])\n",
    "pos['time'] = np.array([0., 1., 2., 3., 4., 5., 6.,])\n",
    "\n",
    "plt.plot(pos['x'], pos['y'], '.', ms=10)\n",
    "plt.xlim(0.5, 10.5)\n",
    "plt.ylim(0.5, 10.5)\n",
    "plt.show()"
   ]
  },
  {
   "cell_type": "code",
   "execution_count": null,
   "metadata": {
    "collapsed": true
   },
   "outputs": [],
   "source": [
    "binsize = 2\n",
    "xedges = np.arange(pos['x'].min(), pos['x'].max(), binsize)\n",
    "yedges = np.arange(pos['y'].min(), pos['y'].max(), binsize)\n",
    "if (xedges[-1] != pos['x'].max()) or (yedges[-1] != pos['y'].max()):\n",
    "    xedges = np.hstack((xedges, pos['x'].max()))\n",
    "    yedges = np.hstack((yedges, pos['y'].max()))"
   ]
  },
  {
   "cell_type": "code",
   "execution_count": null,
   "metadata": {
    "collapsed": false
   },
   "outputs": [],
   "source": [
    "spikes = dict()\n",
    "spikes['time'] = np.array([[0.1, 2.1, 2.3],\n",
    "                           [0.2, 0.7, 1.1]])"
   ]
  },
  {
   "cell_type": "code",
   "execution_count": null,
   "metadata": {
    "collapsed": false
   },
   "outputs": [],
   "source": [
    "tuning_curves = tuning_curve_2d(spikes, pos, xedges, yedges, smooth=False)"
   ]
  },
  {
   "cell_type": "code",
   "execution_count": null,
   "metadata": {
    "collapsed": false
   },
   "outputs": [],
   "source": [
    "plt.figure()\n",
    "xx, yy = np.meshgrid(xedges, yedges)\n",
    "for tuning_curve in tuning_curves:\n",
    "    pp = plt.pcolormesh(xx, yy, tuning_curve, cmap='YlGn')\n",
    "    plt.colorbar(pp)\n",
    "    plt.axis('off')\n",
    "    plt.show()"
   ]
  },
  {
   "cell_type": "code",
   "execution_count": null,
   "metadata": {
    "collapsed": true
   },
   "outputs": [],
   "source": []
  },
  {
   "cell_type": "code",
   "execution_count": null,
   "metadata": {
    "collapsed": false
   },
   "outputs": [],
   "source": [
    "a = np.array([[0,1,1],\n",
    "              [3,4,5]])\n",
    "a = a.flatten()\n",
    "b = np.array([True, True, True, False, False, True])\n",
    "c = np.array([0,0,0,0,0,0])"
   ]
  },
  {
   "cell_type": "code",
   "execution_count": null,
   "metadata": {
    "collapsed": false
   },
   "outputs": [],
   "source": [
    "c[b] = a[b] * a[b]\n",
    "c"
   ]
  },
  {
   "cell_type": "code",
   "execution_count": null,
   "metadata": {
    "collapsed": true
   },
   "outputs": [],
   "source": []
  },
  {
   "cell_type": "code",
   "execution_count": null,
   "metadata": {
    "collapsed": false
   },
   "outputs": [],
   "source": [
    "def tuning_curve_2d(spikes, position, xedges, yedges, sampling_rate=1/30., gaussian_sigma=None):\n",
    "    \"\"\"Creates 2D tuning curves based on spikes and 2D position.\n",
    "    \n",
    "    Parameters\n",
    "    ----------\n",
    "    spikes : dict\n",
    "        With time (floats) and labels (str) as keys. Where each inner array \n",
    "        represents the spike times for an individual neuron.\n",
    "    position : dict\n",
    "        With x (floats), y (floats), time (floats) as keys.\n",
    "    xedges : np.array\n",
    "    yedges : np.array\n",
    "    sampling_rate : float\n",
    "    gaussian_sigma : float\n",
    "        Sigma used in gaussian filter if filtering.\n",
    "    \n",
    "    Returns\n",
    "    -------\n",
    "    tuning_curves : np.array\n",
    "        Where each inner array is the tuning curve for an individual neuron.\n",
    "    \"\"\"\n",
    "    position_2d, pos_xedges, pos_yedges = np.histogram2d(position['y'], position['x'], bins=[yedges, xedges])\n",
    "    position_2d *= sampling_rate\n",
    "    shape = position_2d.shape\n",
    "#     position_2d = position_2d.flatten()\n",
    "    occupied_idx = position_2d > 0\n",
    "\n",
    "    count = 1\n",
    "    tc = []\n",
    "    for neuron_spikes in spikes['time']:\n",
    "        print('Neuron:', count)\n",
    "        count += 1\n",
    "        spikes_x = []\n",
    "        spikes_y = []\n",
    "        for spike_time in neuron_spikes:\n",
    "            spike_idx = vdm.find_nearest_idx(position['time'], spike_time)\n",
    "            spikes_x.append(position['x'][spike_idx])\n",
    "            spikes_y.append(position['y'][spike_idx])\n",
    "        spikes_2d, spikes_xedges, spikes_yedges = np.histogram2d(spikes_y, spikes_x, bins=[yedges, xedges])\n",
    "        \n",
    "        firing_rate = np.zeros(shape)\n",
    "#         firing_rate = firing_rate.flatten()\n",
    "#         spikes_2d = spikes_2d.flatten()\n",
    "        firing_rate[occupied_idx] = spikes_2d[occupied_idx] / position_2d[occupied_idx]\n",
    "#         firing_rate = np.reshape(firing_rate, shape)\n",
    "\n",
    "        tc.append(firing_rate)\n",
    "        \n",
    "    if gaussian_sigma is not None:\n",
    "        tuning_curves = []\n",
    "        for firing_rate in tc:\n",
    "            tuning_curves.append(gaussian_filter(firing_rate, gaussian_sigma))\n",
    "    else:\n",
    "        print('Tuning curves with no filter.')\n",
    "        tuning_curves = tc\n",
    "    return tuning_curves"
   ]
  },
  {
   "cell_type": "code",
   "execution_count": null,
   "metadata": {
    "collapsed": true
   },
   "outputs": [],
   "source": []
  },
  {
   "cell_type": "code",
   "execution_count": null,
   "metadata": {
    "collapsed": true
   },
   "outputs": [],
   "source": [
    "from load_data import get_pos, get_spikes\n",
    "\n",
    "import info.R063d3_info as r063d3"
   ]
  },
  {
   "cell_type": "code",
   "execution_count": null,
   "metadata": {
    "collapsed": true
   },
   "outputs": [],
   "source": [
    "info = r063d3"
   ]
  },
  {
   "cell_type": "code",
   "execution_count": null,
   "metadata": {
    "collapsed": true
   },
   "outputs": [],
   "source": [
    "pos = get_pos(info.pos_mat, info.pxl_to_cm)\n",
    "spikes = get_spikes(info.spike_mat)"
   ]
  },
  {
   "cell_type": "code",
   "execution_count": null,
   "metadata": {
    "collapsed": false
   },
   "outputs": [],
   "source": [
    "binsize = 3\n",
    "xedges = np.arange(pos['x'].min(), pos['x'].max()+binsize, binsize)\n",
    "yedges = np.arange(pos['y'].min(), pos['y'].max()+binsize, binsize)\n",
    "# if (xedges[-1] != pos['x'].max()) or (yedges[-1] != pos['y'].max()):\n",
    "#     xedges = np.hstack((xedges, pos['x'].max()))\n",
    "#     yedges = np.hstack((yedges, pos['y'].max()))"
   ]
  },
  {
   "cell_type": "code",
   "execution_count": null,
   "metadata": {
    "collapsed": true
   },
   "outputs": [],
   "source": [
    "speed = vdm.get_speed(pos)\n",
    "t_run = speed['time'][speed['smoothed'] >= info.run_threshold]\n",
    "run_idx = np.zeros(pos['time'].shape, dtype=bool)\n",
    "for idx in t_run:\n",
    "    run_idx |= (pos['time'] == idx)\n",
    "\n",
    "run_pos = dict()\n",
    "run_pos['x'] = pos['x'][run_idx]\n",
    "run_pos['y'] = pos['y'][run_idx]\n",
    "run_pos['time'] = pos['time'][run_idx]"
   ]
  },
  {
   "cell_type": "code",
   "execution_count": null,
   "metadata": {
    "collapsed": false
   },
   "outputs": [],
   "source": [
    "t_start = info.task_times['phase3'][0]\n",
    "t_stop = info.task_times['phase3'][1]\n",
    "\n",
    "t_start_idx = vdm.find_nearest_idx(run_pos['time'], t_start)\n",
    "t_stop_idx = vdm.find_nearest_idx(run_pos['time'], t_stop)\n",
    "\n",
    "sliced_pos = dict()\n",
    "sliced_pos['x'] = run_pos['x'][t_start_idx:t_stop_idx]\n",
    "sliced_pos['y'] = run_pos['y'][t_start_idx:t_stop_idx]\n",
    "sliced_pos['time'] = run_pos['time'][t_start_idx:t_stop_idx]\n",
    "\n",
    "sliced_spikes = dict()\n",
    "sliced_spikes['time'] = vdm.time_slice(spikes['time'], t_start, t_stop)\n",
    "sliced_spikes['label'] = spikes['label']"
   ]
  },
  {
   "cell_type": "code",
   "execution_count": null,
   "metadata": {
    "collapsed": false
   },
   "outputs": [],
   "source": [
    "plt.plot(sliced_pos['x'], sliced_pos['y'], 'g.', ms=1)\n",
    "plt.show()"
   ]
  },
  {
   "cell_type": "code",
   "execution_count": null,
   "metadata": {
    "collapsed": false
   },
   "outputs": [],
   "source": [
    "phase_spikes = dict()\n",
    "phase_spikes['time'] = sliced_spikes['time'][:5]"
   ]
  },
  {
   "cell_type": "code",
   "execution_count": null,
   "metadata": {
    "collapsed": false
   },
   "outputs": [],
   "source": [
    "tuning_curves = tuning_curve_2d(phase_spikes, sliced_pos, xedges, yedges, gaussian_sigma=0.5)"
   ]
  },
  {
   "cell_type": "code",
   "execution_count": null,
   "metadata": {
    "collapsed": false
   },
   "outputs": [],
   "source": [
    "import pickle\n",
    "import os\n",
    "pickle_filepath = 'C:\\\\Users\\\\Emily\\\\Code\\\\emi_shortcut\\\\cache\\\\pickled\\\\'\n",
    "tc_filename = info.session_id + '_tuning_2d.pkl'\n",
    "pickled_tc = os.path.join(pickle_filepath, tc_filename)\n",
    "\n",
    "with open(pickled_tc, 'wb') as fileobj:\n",
    "    pickle.dump(tuning_curves, fileobj)"
   ]
  },
  {
   "cell_type": "code",
   "execution_count": null,
   "metadata": {
    "collapsed": false
   },
   "outputs": [],
   "source": [
    "tuning_curves[0]"
   ]
  },
  {
   "cell_type": "code",
   "execution_count": null,
   "metadata": {
    "collapsed": false
   },
   "outputs": [],
   "source": [
    "def plot_2d(this, xedges, yedges):\n",
    "    plt.figure()\n",
    "    xx, yy = np.meshgrid(xedges, yedges)\n",
    "    pp = plt.pcolormesh(xx, yy, this, cmap='YlGn')\n",
    "    plt.colorbar(pp)\n",
    "    plt.axis('off')\n",
    "    plt.show()"
   ]
  },
  {
   "cell_type": "code",
   "execution_count": null,
   "metadata": {
    "collapsed": false
   },
   "outputs": [],
   "source": [
    "# plt.figure()\n",
    "\n",
    "xx, yy = np.meshgrid(xedges, yedges)\n",
    "for tuning in tuning_curves[:9]:\n",
    "#     plt.plot(sliced_pos['x'], sliced_pos['y'], 'b.', ms=1)\n",
    "    pp = plt.pcolormesh(xx, yy, tuning, cmap='YlGn')\n",
    "    plt.colorbar(pp)\n",
    "    plt.axis('off')\n",
    "    plt.show()"
   ]
  },
  {
   "cell_type": "code",
   "execution_count": null,
   "metadata": {
    "collapsed": true
   },
   "outputs": [],
   "source": []
  }
 ],
 "metadata": {
  "kernelspec": {
   "display_name": "Python 3",
   "language": "python",
   "name": "python3"
  },
  "language_info": {
   "codemirror_mode": {
    "name": "ipython",
    "version": 3
   },
   "file_extension": ".py",
   "mimetype": "text/x-python",
   "name": "python",
   "nbconvert_exporter": "python",
   "pygments_lexer": "ipython3",
   "version": "3.5.2"
  }
 },
 "nbformat": 4,
 "nbformat_minor": 0
}
