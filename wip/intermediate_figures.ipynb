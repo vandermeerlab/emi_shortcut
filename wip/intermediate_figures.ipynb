{
 "cells": [
  {
   "cell_type": "code",
   "execution_count": null,
   "metadata": {
    "ExecuteTime": {
     "end_time": "2017-03-31T10:50:47.632785",
     "start_time": "2017-03-31T10:50:46.671552"
    },
    "collapsed": true
   },
   "outputs": [],
   "source": [
    "%matplotlib inline\n",
    "import matplotlib.pyplot as plt\n",
    "import numpy as np\n",
    "import pickle\n",
    "import os\n",
    "import pandas as pd\n",
    "from collections import OrderedDict\n",
    "from shapely.geometry import Point, LineString\n",
    "\n",
    "import scalebar\n",
    "\n",
    "import nept\n",
    "import scalebar\n",
    "\n",
    "from loading_data import get_data\n",
    "from utils_maze import get_xyedges, find_zones, speed_threshold\n",
    "from analyze_decode import point_in_zones\n",
    "\n",
    "from utils_fields import categorize_fields\n",
    "from analyze_tuning_curves import get_odd_firing_idx\n",
    "from plot_sequence_raster import plot_sequence"
   ]
  },
  {
   "cell_type": "code",
   "execution_count": null,
   "metadata": {
    "ExecuteTime": {
     "end_time": "2017-03-31T10:50:47.637288",
     "start_time": "2017-03-31T10:50:47.633786"
    },
    "collapsed": true
   },
   "outputs": [],
   "source": [
    "output_filepath = 'E:/code/emi_shortcut/plots/intermediate'\n",
    "pickle_filepath = 'E:/code/emi_shortcut/cache/pickled'\n",
    "\n",
    "# output_filepath = 'C:/Users/Emily/code/emi_shortcut/plots/intermediate'\n",
    "# pickle_filepath = 'C:/Users/Emily/code/emi_shortcut/cache/pickled'"
   ]
  },
  {
   "cell_type": "code",
   "execution_count": null,
   "metadata": {
    "ExecuteTime": {
     "end_time": "2017-03-31T10:50:47.677817",
     "start_time": "2017-03-31T10:50:47.638289"
    },
    "collapsed": true
   },
   "outputs": [],
   "source": [
    "import info.r066d3 as info"
   ]
  },
  {
   "cell_type": "code",
   "execution_count": null,
   "metadata": {
    "collapsed": true
   },
   "outputs": [],
   "source": []
  },
  {
   "cell_type": "code",
   "execution_count": null,
   "metadata": {
    "ExecuteTime": {
     "end_time": "2017-03-31T10:50:48.186679",
     "start_time": "2017-03-31T10:50:47.679319"
    },
    "collapsed": true
   },
   "outputs": [],
   "source": [
    "events, position, spikes, lfp, lfp_theta = get_data(info)\n",
    "xedges, yedges = nept.get_xyedges(position)\n",
    "\n",
    "zones = find_zones(info, remove_feeder=True, expand_by=8)\n",
    "\n",
    "experiment_time = 'phase1'\n",
    "filename = '_decode-' + experiment_time + '.pkl'\n",
    "decode_filename = info.session_id + filename\n",
    "pickled_decoded = os.path.join(pickle_filepath, decode_filename)\n",
    "\n",
    "with open(pickled_decoded, 'rb') as fileobj:\n",
    "    decode = pickle.load(fileobj)"
   ]
  },
  {
   "cell_type": "code",
   "execution_count": null,
   "metadata": {
    "collapsed": true
   },
   "outputs": [],
   "source": []
  },
  {
   "cell_type": "code",
   "execution_count": null,
   "metadata": {
    "ExecuteTime": {
     "end_time": "2017-03-31T10:51:10.196287",
     "start_time": "2017-03-31T10:50:48.188180"
    },
    "collapsed": true
   },
   "outputs": [],
   "source": [
    "zones = find_zones(info, remove_feeder=True, expand_by=6)\n",
    "\n",
    "novel_idx = []\n",
    "shortcut_idx = []\n",
    "u_idx = []\n",
    "pedestal_idx = []\n",
    "other_idx = []\n",
    "\n",
    "for i, (x, y) in enumerate(zip(position.x, position.y)):\n",
    "    point = Point([x, y])\n",
    "    if zones['novel'].contains(point):\n",
    "        novel_idx.append(i)\n",
    "        continue\n",
    "    elif zones['shortcut'].contains(point):\n",
    "        shortcut_idx.append(i)\n",
    "        continue\n",
    "    elif zones['u'].contains(point):\n",
    "        u_idx.append(i)\n",
    "        continue\n",
    "    elif zones['pedestal'].contains(point):\n",
    "        pedestal_idx.append(i)\n",
    "        continue\n",
    "    else:\n",
    "        other_idx.append(i)"
   ]
  },
  {
   "cell_type": "code",
   "execution_count": null,
   "metadata": {
    "ExecuteTime": {
     "end_time": "2017-03-31T10:51:10.502982",
     "start_time": "2017-03-31T10:51:10.197766"
    },
    "collapsed": true
   },
   "outputs": [],
   "source": [
    "fig = plt.figure(figsize=(8, 6))\n",
    "ax = fig.add_subplot(111)\n",
    "ax.plot(position.x, position.y, '.', color='k', ms=1)\n",
    "ax.plot(position.x[u_idx], position.y[u_idx], '.', color='#0072b2', ms=2)\n",
    "ax.plot(position.x[shortcut_idx], position.y[shortcut_idx], '.', color='#009e73', ms=2)\n",
    "ax.plot(position.x[novel_idx], position.y[novel_idx], '.', color='#d55e00', ms=2)\n",
    "\n",
    "ax.set_yticklabels([])\n",
    "ax.set_xticklabels([])\n",
    "ax.axis('off')\n",
    "\n",
    "# savepath = os.path.join(output_filepath, 'recording_trajectories.png')\n",
    "# plt.savefig(savepath, bbox_inches='tight', transparent=True)\n",
    "\n",
    "plt.show()"
   ]
  },
  {
   "cell_type": "code",
   "execution_count": null,
   "metadata": {
    "collapsed": true
   },
   "outputs": [],
   "source": []
  },
  {
   "cell_type": "code",
   "execution_count": null,
   "metadata": {
    "ExecuteTime": {
     "end_time": "2017-03-31T10:51:10.829214",
     "start_time": "2017-03-31T10:51:10.504484"
    },
    "collapsed": true
   },
   "outputs": [],
   "source": [
    "xx, yy = np.meshgrid(xedges, yedges)\n",
    "histogram, xs, ys = np.histogram2d(decode['decoded'].x, decode['decoded'].y, bins=xx.shape)\n",
    "\n",
    "cmap = plt.cm.get_cmap('bone_r')\n",
    "pp = plt.pcolormesh(yy, xx, histogram, vmin=0., vmax=50., cmap=cmap)\n",
    "plt.colorbar(pp)\n",
    "plt.axis('off')\n",
    "# plt.show()\n",
    "\n",
    "savepath = os.path.join(output_filepath, 'r063d6_decoded.png')\n",
    "plt.savefig(savepath, bbox_inches='tight', transparent=True)"
   ]
  },
  {
   "cell_type": "code",
   "execution_count": null,
   "metadata": {
    "collapsed": true
   },
   "outputs": [],
   "source": []
  },
  {
   "cell_type": "code",
   "execution_count": null,
   "metadata": {
    "ExecuteTime": {
     "end_time": "2017-03-31T10:51:13.191641",
     "start_time": "2017-03-31T10:51:10.830216"
    },
    "collapsed": true,
    "scrolled": true
   },
   "outputs": [],
   "source": [
    "for idx in range(10):\n",
    "    start = nept.find_nearest_idx(decode['decoded'].time, decode['epochs'].starts[idx])\n",
    "    stop = nept.find_nearest_idx(decode['decoded'].time, decode['epochs'].stops[idx])\n",
    "\n",
    "    xx, yy = np.meshgrid(xedges, yedges)\n",
    "    histogram, xs, ys = np.histogram2d(decode['decoded'].x[start:stop], decode['decoded'].y[start:stop], bins=xx.shape)\n",
    "\n",
    "    cmap = plt.cm.get_cmap('bone_r', 25)\n",
    "    pp = plt.pcolormesh(yy, xx, histogram, cmap=cmap)\n",
    "    plt.colorbar(pp)\n",
    "    # plt.axis('off')\n",
    "    plt.show()"
   ]
  },
  {
   "cell_type": "code",
   "execution_count": null,
   "metadata": {
    "collapsed": true
   },
   "outputs": [],
   "source": []
  },
  {
   "cell_type": "code",
   "execution_count": null,
   "metadata": {
    "ExecuteTime": {
     "end_time": "2017-03-31T10:51:13.200917",
     "start_time": "2017-03-31T10:51:13.192895"
    },
    "collapsed": true
   },
   "outputs": [],
   "source": [
    "neurons_filename = info.session_id + '_neurons.pkl'\n",
    "pickled_neurons = os.path.join(pickle_filepath, neurons_filename)\n",
    "with open(pickled_neurons, 'rb') as fileobj:\n",
    "    neurons = pickle.load(fileobj)"
   ]
  },
  {
   "cell_type": "code",
   "execution_count": null,
   "metadata": {
    "ExecuteTime": {
     "end_time": "2017-03-31T10:51:13.487605",
     "start_time": "2017-03-31T10:51:13.202402"
    },
    "collapsed": true
   },
   "outputs": [],
   "source": [
    "multiple_tuning_curves = np.zeros(neurons.tuning_shape)\n",
    "multiple_tuning_curves += neurons.tuning_curves[28]\n",
    "multiple_tuning_curves += neurons.tuning_curves[11]\n",
    "multiple_tuning_curves += neurons.tuning_curves[10]\n",
    "multiple_tuning_curves += neurons.tuning_curves[4]\n",
    "\n",
    "plt.figure(figsize=(6, 5))\n",
    "pp = plt.pcolormesh(xx, yy, multiple_tuning_curves, cmap='bone_r')\n",
    "plt.colorbar(pp)\n",
    "plt.axis('off')\n",
    "plt.tight_layout()\n",
    "plt.show()\n",
    "# plt.savefig(os.path.join(output_filepath, info.session_id + '-tuning_curve-28.png'))\n",
    "# plt.savefig(os.path.join(output_filepath, info.session_id + '-tuning_curve-28-11.png'))\n",
    "# plt.savefig(os.path.join(output_filepath, info.session_id + '-tuning_curve-28-11-10.png'))\n",
    "# plt.savefig(os.path.join(output_filepath, info.session_id + '-tuning_curve-28-11-10-4.png'))\n",
    "# plt.close()"
   ]
  },
  {
   "cell_type": "code",
   "execution_count": null,
   "metadata": {
    "ExecuteTime": {
     "end_time": "2017-03-31T10:51:13.604688",
     "start_time": "2017-03-31T10:51:13.489106"
    },
    "collapsed": true
   },
   "outputs": [],
   "source": [
    "all_tuning_curves = np.zeros(neurons.tuning_shape)\n",
    "for tc in neurons.tuning_curves:\n",
    "    all_tuning_curves += tc\n",
    "\n",
    "plt.figure(figsize=(6, 5))\n",
    "pp = plt.pcolormesh(xx, yy, all_tuning_curves, vmin=100., vmax=400., cmap='bone_r')\n",
    "# plt.colorbar(pp)\n",
    "plt.axis('off')\n",
    "plt.show()\n",
    "\n",
    "# plt.savefig(os.path.join(output_filepath, info.session_id + '-tuning_curve-all.png'))\n",
    "# plt.close()"
   ]
  },
  {
   "cell_type": "code",
   "execution_count": null,
   "metadata": {
    "collapsed": true
   },
   "outputs": [],
   "source": []
  },
  {
   "cell_type": "code",
   "execution_count": null,
   "metadata": {
    "ExecuteTime": {
     "end_time": "2017-03-31T10:24:31.555982",
     "start_time": "2017-03-31T10:24:31.550978"
    },
    "collapsed": true
   },
   "outputs": [],
   "source": [
    "experiment_time = 'phase3'\n",
    "shuffle_id = False\n",
    "window_size=0.025\n",
    "window_advance=0.025\n",
    "speed_limit=0.4\n",
    "min_swr=3\n",
    "sequence_speed=5\n",
    "sequence_len=3\n",
    "min_epochs=3"
   ]
  },
  {
   "cell_type": "code",
   "execution_count": null,
   "metadata": {
    "ExecuteTime": {
     "end_time": "2017-03-31T10:24:33.216727",
     "start_time": "2017-03-31T10:24:32.591302"
    },
    "collapsed": true
   },
   "outputs": [],
   "source": [
    "track_times = ['phase1', 'phase2', 'phase3', 'tracks']\n",
    "pedestal_times = ['pauseA', 'pauseB', 'prerecord', 'postrecord']\n",
    "\n",
    "events, position, all_spikes, lfp, lfp_theta = get_data(info)\n",
    "xedges, yedges = nept.get_xyedges(position)\n",
    "\n",
    "exp_start = info.task_times[experiment_time].start\n",
    "exp_stop = info.task_times[experiment_time].stop\n",
    "\n",
    "sliced_spikes = neurons.time_slice(exp_start, exp_stop)\n",
    "sliced_spikes = sliced_spikes.spikes\n",
    "\n",
    "if experiment_time in track_times:\n",
    "    run_position = run_position[speed_threshold(position, speed_limit=speed_limit)]\n",
    "else:\n",
    "    run_position = position\n",
    "\n",
    "exp_position = run_position.time_slice(exp_start, exp_stop)\n",
    "\n",
    "if shuffle_id:\n",
    "    tuning_curves = np.random.permutation(neurons.tuning_curves)\n",
    "else:\n",
    "    tuning_curves = neurons.tuning_curves"
   ]
  },
  {
   "cell_type": "code",
   "execution_count": null,
   "metadata": {
    "ExecuteTime": {
     "end_time": "2017-03-31T10:24:33.945300",
     "start_time": "2017-03-31T10:24:33.733650"
    },
    "collapsed": true
   },
   "outputs": [],
   "source": [
    "xx, yy = np.meshgrid(xedges, yedges)\n",
    "histogram, xs, ys = np.histogram2d(exp_position.x, exp_position.y, bins=xx.shape)\n",
    "\n",
    "cmap = plt.cm.get_cmap('bone_r')\n",
    "pp = plt.pcolormesh(yy, xx, histogram, cmap=cmap)\n",
    "plt.colorbar(pp)\n",
    "plt.axis('off')\n",
    "plt.show()"
   ]
  },
  {
   "cell_type": "code",
   "execution_count": null,
   "metadata": {
    "ExecuteTime": {
     "end_time": "2017-03-31T10:24:44.863104",
     "start_time": "2017-03-31T10:24:34.766426"
    },
    "collapsed": true
   },
   "outputs": [],
   "source": [
    "if experiment_time in track_times:\n",
    "    epochs_interest = nept.Epoch(np.hstack([exp_start, exp_stop]))\n",
    "elif experiment_time in pedestal_times:\n",
    "    sliced_lfp = lfp.time_slice(exp_start, exp_stop)\n",
    "\n",
    "    z_thresh = 3.0\n",
    "    power_thresh = 5.0\n",
    "    merge_thresh = 0.02\n",
    "    min_length = 0.05\n",
    "    swrs = nept.detect_swr_hilbert(sliced_lfp, fs=info.fs, thresh=(140.0, 250.0), z_thresh=z_thresh,\n",
    "                                   power_thresh=power_thresh, merge_thresh=merge_thresh, min_length=min_length)\n",
    "\n",
    "    min_involved = 4\n",
    "    multi_swr = nept.find_multi_in_epochs(sliced_spikes, swrs, min_involved=min_involved)\n",
    "\n",
    "    if multi_swr.n_epochs < min_swr:\n",
    "        epochs_interest = nept.Epoch(np.array([[], []]))\n",
    "    else:\n",
    "        epochs_interest = multi_swr\n",
    "\n",
    "    print('sharp-wave ripples, total:', swrs.n_epochs)\n",
    "    print('sharp-wave ripples, min', min_involved, 'neurons :', multi_swr.n_epochs)\n",
    "    print('sharp-wave ripples, used :', epochs_interest.n_epochs)\n",
    "    print('sharp-wave ripples, mean durations: ', np.mean(epochs_interest.durations))\n",
    "\n",
    "else:\n",
    "    raise ValueError(\"unrecognized experimental phase. Must be in ['prerecord', 'phase1', 'pauseA', 'phase2', \"\n",
    "                     \"'pauseB', phase3', 'postrecord'].\")\n",
    "\n",
    "time_edges = nept.get_edges(exp_position.time, window_advance, lastbin=True)\n",
    "counts = nept.bin_spikes(sliced_spikes, exp_position.time, dt=window_advance, window=window_size,\n",
    "                         gaussian_std=None, normalized=False)\n",
    "\n",
    "tc_shape = tuning_curves.shape\n",
    "decoding_tc = tuning_curves.reshape(tc_shape[0], tc_shape[1] * tc_shape[2])\n",
    "\n",
    "min_neurons = 2\n",
    "min_spikes = 1\n",
    "likelihood = nept.bayesian_prob(counts, decoding_tc, window_size, min_neurons=min_neurons, min_spikes=min_spikes)"
   ]
  },
  {
   "cell_type": "code",
   "execution_count": null,
   "metadata": {
    "ExecuteTime": {
     "end_time": "2017-03-31T10:24:46.656880",
     "start_time": "2017-03-31T10:24:44.864106"
    },
    "collapsed": true
   },
   "outputs": [],
   "source": [
    "xcenters = (xedges[1:] + xedges[:-1]) / 2.\n",
    "ycenters = (yedges[1:] + yedges[:-1]) / 2.\n",
    "xy_centers = nept.cartesian(xcenters, ycenters)\n",
    "\n",
    "decoded = nept.decode_location(likelihood, xy_centers, time_edges)\n",
    "nan_idx = np.logical_and(np.isnan(decoded.x), np.isnan(decoded.y))\n",
    "decoded = decoded[~nan_idx]\n",
    "\n",
    "sequences = nept.remove_teleports(decoded, speed_thresh=sequence_speed, min_length=sequence_len)\n",
    "decoded_epochs = epochs_interest.intersect(sequences)\n",
    "decoded_epochs = decoded_epochs.expand(0.05)\n",
    "\n",
    "if decoded_epochs.n_epochs < min_epochs:\n",
    "    decoded = nept.Position(np.array([[], []]), np.array([]))\n",
    "else:\n",
    "    decoded = decoded[decoded_epochs]\n",
    "\n",
    "actual_x = np.interp(decoded.time, exp_position.time, exp_position.x)\n",
    "actual_y = np.interp(decoded.time, exp_position.time, exp_position.y)\n",
    "actual_position = nept.Position(np.hstack((actual_x[..., np.newaxis],\n",
    "                                           actual_y[..., np.newaxis])), decoded.time)\n",
    "errors = actual_position.distance(decoded)"
   ]
  },
  {
   "cell_type": "code",
   "execution_count": null,
   "metadata": {
    "ExecuteTime": {
     "end_time": "2017-03-31T10:24:46.865544",
     "start_time": "2017-03-31T10:24:46.658381"
    },
    "collapsed": true
   },
   "outputs": [],
   "source": [
    "histogram, xs, ys = np.histogram2d(actual_position.x, actual_position.y, bins=xx.shape)\n",
    "\n",
    "pp = plt.pcolormesh(yy, xx, histogram, vmin=0., vmax=350., cmap='bone_r')\n",
    "plt.colorbar(pp)\n",
    "plt.axis('off')\n",
    "plt.show()"
   ]
  },
  {
   "cell_type": "code",
   "execution_count": null,
   "metadata": {
    "collapsed": true
   },
   "outputs": [],
   "source": []
  },
  {
   "cell_type": "code",
   "execution_count": null,
   "metadata": {
    "ExecuteTime": {
     "end_time": "2017-03-31T10:25:09.226671",
     "start_time": "2017-03-31T10:25:06.766862"
    },
    "collapsed": true
   },
   "outputs": [],
   "source": [
    "zones = find_zones(info, remove_feeder=True, expand_by=8)\n",
    "decoded_zones = point_in_zones(decoded, zones)\n",
    "\n",
    "keys = ['u', 'shortcut', 'novel']\n",
    "\n",
    "errors = dict()\n",
    "actual_pos = dict()\n",
    "if experiment_time in ['phase1', 'phase2', 'phase3', 'tracks']:\n",
    "    for trajectory in keys:\n",
    "        actual_x = np.interp(decoded_zones[trajectory].time, exp_position.time, exp_position.x)\n",
    "        actual_y = np.interp(decoded_zones[trajectory].time, exp_position.time, exp_position.y)\n",
    "        actual_pos[trajectory] = nept.Position(np.hstack((actual_x[..., np.newaxis],\n",
    "                                                               actual_y[..., np.newaxis])),\n",
    "                                                    decoded_zones[trajectory].time)\n",
    "        if actual_pos[trajectory].n_samples > 0:\n",
    "            errors[trajectory] = actual_pos[trajectory].distance(decoded_zones[trajectory])\n",
    "else:\n",
    "    for trajectory in decoded_zones:\n",
    "        errors[trajectory] = []\n",
    "        actual_pos[trajectory] = []"
   ]
  },
  {
   "cell_type": "code",
   "execution_count": null,
   "metadata": {
    "collapsed": true
   },
   "outputs": [],
   "source": []
  },
  {
   "cell_type": "code",
   "execution_count": null,
   "metadata": {
    "collapsed": true
   },
   "outputs": [],
   "source": []
  },
  {
   "cell_type": "code",
   "execution_count": null,
   "metadata": {
    "ExecuteTime": {
     "end_time": "2017-03-31T10:25:12.256459",
     "start_time": "2017-03-31T10:25:12.126867"
    },
    "collapsed": true
   },
   "outputs": [],
   "source": [
    "xcenters = (xedges[1:] + xedges[:-1]) / 2.\n",
    "ycenters = (yedges[1:] + yedges[:-1]) / 2.\n",
    "xy_centers = nept.cartesian(xcenters, ycenters)\n",
    "\n",
    "field_thresh = 1.0\n",
    "fields_tunings = categorize_fields(neurons.tuning_curves, zones, xedges, yedges, \n",
    "                                   field_thresh=field_thresh)\n",
    "\n",
    "u_line = LineString(info.u_trajectory)\n",
    "\n",
    "u_dist = []\n",
    "for neuron in fields_tunings['u']:\n",
    "    yy = ycenters[np.where(fields_tunings['u'][neuron] == fields_tunings['u'][neuron].max())[0][0]]\n",
    "    xx = xcenters[np.where(fields_tunings['u'][neuron] == fields_tunings['u'][neuron].max())[1][0]]\n",
    "\n",
    "    pt = Point(xx, yy)\n",
    "    if zones['u'].contains(pt):\n",
    "        u_dist.append((u_line.project(pt), neuron))\n",
    "        \n",
    "ordered_dist_u = sorted(u_dist, key=lambda x:x[0])\n",
    "sort_idx = []\n",
    "for neuron in ordered_dist_u:\n",
    "    sort_idx.append(neuron[1])\n",
    "    \n",
    "sort_spikes = []\n",
    "sort_tuning_curves = []\n",
    "for neuron in sort_idx:\n",
    "    sort_tuning_curves.append(fields_tunings['u'][neuron])\n",
    "    sort_spikes.append(neurons.spikes[neuron])\n",
    "    \n",
    "odd_firing_idx = get_odd_firing_idx(sort_tuning_curves, max_mean_firing=2)\n",
    "\n",
    "ordered_spikes = []\n",
    "ordered_fields =[]\n",
    "for i, neuron in enumerate(sort_spikes):\n",
    "    if i not in odd_firing_idx:\n",
    "        ordered_spikes.append(neuron)\n",
    "        ordered_fields.append(sort_tuning_curves[i])"
   ]
  },
  {
   "cell_type": "code",
   "execution_count": null,
   "metadata": {
    "ExecuteTime": {
     "end_time": "2017-03-31T10:25:21.558299",
     "start_time": "2017-03-31T10:25:16.599273"
    },
    "collapsed": true,
    "scrolled": true
   },
   "outputs": [],
   "source": [
    "for idx in range(10):\n",
    "    plot_sequence(ordered_spikes,\n",
    "                  decode['epochs'].starts[idx], \n",
    "                  decode['epochs'].stops[idx],\n",
    "                  ms_fraction=300,\n",
    "                  lfp=lfp,\n",
    "                  position=None)"
   ]
  },
  {
   "cell_type": "code",
   "execution_count": null,
   "metadata": {
    "collapsed": true
   },
   "outputs": [],
   "source": []
  },
  {
   "cell_type": "code",
   "execution_count": null,
   "metadata": {
    "ExecuteTime": {
     "end_time": "2017-03-31T10:29:36.395338",
     "start_time": "2017-03-31T10:29:36.391353"
    },
    "collapsed": true
   },
   "outputs": [],
   "source": [
    "errors['u'].shape"
   ]
  },
  {
   "cell_type": "code",
   "execution_count": null,
   "metadata": {
    "ExecuteTime": {
     "end_time": "2017-03-31T10:26:42.027392",
     "start_time": "2017-03-31T10:26:41.830185"
    },
    "collapsed": true
   },
   "outputs": [],
   "source": [
    "error_hist_byactual = np.zeros((len(yedges), len(xedges)))\n",
    "n_hist_byactual = np.ones((len(yedges), len(xedges)))\n",
    "error_x = []\n",
    "error_y = []\n",
    "\n",
    "for error, x, y in zip(errors, actual_position.x, actual_position.y):\n",
    "    x_idx = nept.find_nearest_idx(xedges, x)\n",
    "    y_idx = nept.find_nearest_idx(yedges, y)\n",
    "    error_hist_byactual[y_idx][x_idx] += error\n",
    "    n_hist_byactual[y_idx][x_idx] += 1\n",
    "\n",
    "error_byactual = error_hist_byactual / n_hist_byactual"
   ]
  },
  {
   "cell_type": "code",
   "execution_count": null,
   "metadata": {
    "ExecuteTime": {
     "end_time": "2017-03-31T10:05:40.635492",
     "start_time": "2017-03-31T10:05:40.463107"
    },
    "collapsed": true
   },
   "outputs": [],
   "source": [
    "pp = plt.pcolormesh(xx, yy, error_hist_byactual, vmin=0., vmax=500., cmap='bone_r')\n",
    "plt.colorbar(pp)\n",
    "plt.axis('off')\n",
    "plt.show()"
   ]
  },
  {
   "cell_type": "code",
   "execution_count": null,
   "metadata": {
    "ExecuteTime": {
     "end_time": "2017-03-31T10:05:42.063420",
     "start_time": "2017-03-31T10:05:41.887039"
    },
    "collapsed": true
   },
   "outputs": [],
   "source": [
    "pp = plt.pcolormesh(xx, yy, n_hist_byactual, vmin=0., vmax=500., cmap='bone_r')\n",
    "plt.colorbar(pp)\n",
    "plt.axis('off')\n",
    "plt.show()"
   ]
  },
  {
   "cell_type": "code",
   "execution_count": null,
   "metadata": {
    "ExecuteTime": {
     "end_time": "2017-03-31T10:05:42.588711",
     "start_time": "2017-03-31T10:05:42.576684"
    },
    "collapsed": true
   },
   "outputs": [],
   "source": [
    "pp = plt.pcolormesh(xx, yy, error_byactual, vmin=0., vmax=50., cmap='bone_r')\n",
    "plt.colorbar(pp)\n",
    "plt.axis('off')\n",
    "plt.show()\n",
    "\n",
    "# filename = 'error_decoded.png'\n",
    "# plt.savefig(os.path.join(output_filepath, filename), transparent=True)\n",
    "# plt.close()"
   ]
  },
  {
   "cell_type": "code",
   "execution_count": null,
   "metadata": {
    "collapsed": true
   },
   "outputs": [],
   "source": []
  },
  {
   "cell_type": "code",
   "execution_count": null,
   "metadata": {
    "ExecuteTime": {
     "end_time": "2017-03-31T10:30:34.120021",
     "start_time": "2017-03-31T10:30:34.103010"
    },
    "collapsed": true
   },
   "outputs": [],
   "source": [
    "error_hist_bydecode = np.zeros((len(yedges), len(xedges)))\n",
    "n_hist_bydecode = np.ones((len(yedges), len(xedges)))\n",
    "\n",
    "error_x = []\n",
    "error_y = []\n",
    "for error, x, y in zip(errors, decoded.x, decoded.y):\n",
    "    x_idx = nept.find_nearest_idx(xedges, x)\n",
    "    y_idx = nept.find_nearest_idx(yedges, y)\n",
    "    error_hist_bydecode[y_idx][x_idx] += error\n",
    "    n_hist_bydecode[y_idx][x_idx] += 1\n",
    "\n",
    "error_bydecode = error_hist_bydecode / n_hist_bydecode"
   ]
  },
  {
   "cell_type": "code",
   "execution_count": null,
   "metadata": {
    "ExecuteTime": {
     "end_time": "2017-03-31T10:05:47.580901",
     "start_time": "2017-03-31T10:05:47.393251"
    },
    "collapsed": true
   },
   "outputs": [],
   "source": [
    "pp = plt.pcolormesh(xx, yy, error_hist_bydecode, vmin=0., vmax=10000., cmap='bone_r')\n",
    "plt.colorbar(pp)\n",
    "plt.axis('off')\n",
    "plt.show()"
   ]
  },
  {
   "cell_type": "code",
   "execution_count": null,
   "metadata": {
    "ExecuteTime": {
     "end_time": "2017-03-31T10:05:48.378445",
     "start_time": "2017-03-31T10:05:48.193832"
    },
    "collapsed": true
   },
   "outputs": [],
   "source": [
    "pp = plt.pcolormesh(xx, yy, n_hist_bydecode, vmin=0., vmax=500., cmap='bone_r')\n",
    "plt.colorbar(pp)\n",
    "plt.axis('off')\n",
    "plt.show()"
   ]
  },
  {
   "cell_type": "code",
   "execution_count": null,
   "metadata": {
    "ExecuteTime": {
     "end_time": "2017-03-31T10:05:49.027732",
     "start_time": "2017-03-31T10:05:49.015743"
    },
    "collapsed": true
   },
   "outputs": [],
   "source": [
    "pp = plt.pcolormesh(xx, yy, error_bydecode, vmin=0., vmax=50., cmap='bone_r')\n",
    "plt.colorbar(pp)\n",
    "plt.axis('off')\n",
    "plt.show()\n",
    "\n",
    "# filename = 'error_decoded.png'\n",
    "# plt.savefig(os.path.join(output_filepath, filename), transparent=True)\n",
    "# plt.close()"
   ]
  },
  {
   "cell_type": "code",
   "execution_count": null,
   "metadata": {
    "collapsed": true
   },
   "outputs": [],
   "source": []
  },
  {
   "cell_type": "code",
   "execution_count": null,
   "metadata": {
    "ExecuteTime": {
     "end_time": "2017-03-31T10:31:55.854915",
     "start_time": "2017-03-31T10:31:55.850912"
    },
    "collapsed": true
   },
   "outputs": [],
   "source": [
    "decoded.x"
   ]
  },
  {
   "cell_type": "code",
   "execution_count": null,
   "metadata": {
    "collapsed": true
   },
   "outputs": [],
   "source": []
  },
  {
   "cell_type": "code",
   "execution_count": null,
   "metadata": {
    "ExecuteTime": {
     "end_time": "2017-03-31T10:36:56.759734",
     "start_time": "2017-03-31T10:36:56.615609"
    },
    "collapsed": true
   },
   "outputs": [],
   "source": [
    "fig = plt.figure(figsize=(6, 3))\n",
    "# ax = plt.subplot(111)\n",
    "plt.plot(decoded.time, decoded.x, '#9970ab', ms=1)\n",
    "plt.plot(position.time, position.x, 'k', ms=3)\n",
    "plt.xlim(25250, 25400)\n",
    "# scalebar.add_scalebar(ax, matchy=False, bbox_transform=fig.transFigure,\n",
    "#                       bbox_to_anchor=(0.9, 0.1), units='ms')\n",
    "plt.axis('off')\n",
    "plt.tight_layout()\n",
    "# plt.show()\n",
    "plt.savefig(os.path.join(output_filepath, info.session_id + '-decoded-x.png'), transparent=True)\n",
    "plt.close()"
   ]
  },
  {
   "cell_type": "code",
   "execution_count": null,
   "metadata": {
    "ExecuteTime": {
     "end_time": "2017-03-31T10:36:57.350520",
     "start_time": "2017-03-31T10:36:57.239941"
    },
    "collapsed": true
   },
   "outputs": [],
   "source": [
    "fig = plt.figure(figsize=(6, 3))\n",
    "ax = plt.subplot(111)\n",
    "plt.plot(decoded.time, decoded.y, '#5aae61', ms=1)\n",
    "plt.plot(position.time, position.y, 'k', ms=3)\n",
    "# plt.xlim(6650, 6700)\n",
    "plt.xlim(25250, 25400)\n",
    "scalebar.add_scalebar(ax, matchy=False, bbox_transform=fig.transFigure,\n",
    "                         bbox_to_anchor=(0.9, 0.1), units='s')\n",
    "plt.axis('off')\n",
    "# plt.show()\n",
    "plt.savefig(os.path.join(output_filepath, info.session_id + '-decoded-y.png'), transparent=True)\n",
    "plt.close()"
   ]
  },
  {
   "cell_type": "code",
   "execution_count": null,
   "metadata": {
    "ExecuteTime": {
     "end_time": "2017-03-31T10:37:15.347540",
     "start_time": "2017-03-31T10:37:15.343037"
    },
    "collapsed": true
   },
   "outputs": [],
   "source": [
    "os.path.join(output_filepath, info.session_id)"
   ]
  },
  {
   "cell_type": "code",
   "execution_count": null,
   "metadata": {
    "collapsed": true
   },
   "outputs": [],
   "source": []
  },
  {
   "cell_type": "code",
   "execution_count": null,
   "metadata": {
    "ExecuteTime": {
     "end_time": "2017-03-31T11:37:18.111516",
     "start_time": "2017-03-31T11:37:18.098005"
    },
    "collapsed": true
   },
   "outputs": [],
   "source": [
    "%matplotlib inline\n",
    "import matplotlib.pyplot as plt\n",
    "import numpy as np\n",
    "import pickle\n",
    "import os\n",
    "import pandas as pd\n",
    "from collections import OrderedDict\n",
    "from shapely.geometry import Point, LineString\n",
    "\n",
    "import nept\n",
    "\n",
    "from loading_data import get_data\n",
    "from utils_maze import get_xyedges, find_zones, speed_threshold\n",
    "# from analyze_decode import get_edges, point_in_zones\n",
    "\n",
    "# output_filepath = 'E:/code/emi_shortcut/plots/intermediate'\n",
    "# pickle_filepath = 'E:/code/emi_shortcut/cache/pickled'\n",
    "\n",
    "from utils_fields import categorize_fields\n",
    "from analyze_tuning_curves import get_odd_firing_idx\n",
    "from plot_sequence_raster import plot_sequence"
   ]
  },
  {
   "cell_type": "code",
   "execution_count": null,
   "metadata": {
    "ExecuteTime": {
     "end_time": "2017-03-31T11:37:19.107769",
     "start_time": "2017-03-31T11:37:18.536863"
    },
    "collapsed": true
   },
   "outputs": [],
   "source": [
    "events, position, spikes, lfp, lfp_theta = get_data(info)\n",
    "xedges, yedges = nept.get_xyedges(position)\n",
    "zones = find_zones(info, remove_feeder=True, expand_by=8)\n",
    "\n",
    "neurons_filename = info.session_id + '_neurons.pkl'\n",
    "pickled_neurons = os.path.join(pickle_filepath, neurons_filename)\n",
    "with open(pickled_neurons, 'rb') as fileobj:\n",
    "    neurons = pickle.load(fileobj)\n",
    "    \n",
    "xcenters = (xedges[1:] + xedges[:-1]) / 2.\n",
    "ycenters = (yedges[1:] + yedges[:-1]) / 2.\n",
    "xy_centers = nept.cartesian(xcenters, ycenters)"
   ]
  },
  {
   "cell_type": "code",
   "execution_count": null,
   "metadata": {
    "collapsed": true
   },
   "outputs": [],
   "source": []
  },
  {
   "cell_type": "code",
   "execution_count": null,
   "metadata": {
    "ExecuteTime": {
     "end_time": "2017-03-31T11:37:20.125819",
     "start_time": "2017-03-31T11:37:19.993225"
    },
    "collapsed": true
   },
   "outputs": [],
   "source": [
    "xcenters = (xedges[1:] + xedges[:-1]) / 2.\n",
    "ycenters = (yedges[1:] + yedges[:-1]) / 2.\n",
    "xy_centers = nept.cartesian(xcenters, ycenters)\n",
    "\n",
    "field_thresh = 1.0\n",
    "fields_tunings = categorize_fields(neurons.tuning_curves, zones, xedges, yedges, \n",
    "                                   field_thresh=field_thresh)\n",
    "\n",
    "u_line = LineString(info.u_trajectory)\n",
    "\n",
    "u_dist = []\n",
    "for neuron in fields_tunings['u']:\n",
    "    yy = ycenters[np.where(fields_tunings['u'][neuron] == fields_tunings['u'][neuron].max())[0][0]]\n",
    "    xx = xcenters[np.where(fields_tunings['u'][neuron] == fields_tunings['u'][neuron].max())[1][0]]\n",
    "\n",
    "    pt = Point(xx, yy)\n",
    "    if zones['u'].contains(pt):\n",
    "        u_dist.append((u_line.project(pt), neuron))\n",
    "        \n",
    "ordered_dist_u = sorted(u_dist, key=lambda x:x[0])\n",
    "sort_idx = []\n",
    "for neuron in ordered_dist_u:\n",
    "    sort_idx.append(neuron[1])\n",
    "    \n",
    "sort_spikes = []\n",
    "sort_tuning_curves = []\n",
    "for neuron in sort_idx:\n",
    "    sort_tuning_curves.append(fields_tunings['u'][neuron])\n",
    "    sort_spikes.append(neurons.spikes[neuron])\n",
    "    \n",
    "odd_firing_idx = get_odd_firing_idx(sort_tuning_curves, max_mean_firing=2)\n",
    "\n",
    "ordered_spikes = []\n",
    "ordered_fields =[]\n",
    "for i, neuron in enumerate(sort_spikes):\n",
    "    if i not in odd_firing_idx:\n",
    "        ordered_spikes.append(neuron)\n",
    "        ordered_fields.append(sort_tuning_curves[i])\n",
    "        \n",
    "# plot_sequence(ordered_spikes,\n",
    "#               decode['epochs'].starts[0], \n",
    "#               decode['epochs'].stops[0],\n",
    "#               ms_fraction=10,\n",
    "#               lfp=lfp,\n",
    "#               position=None)"
   ]
  },
  {
   "cell_type": "code",
   "execution_count": null,
   "metadata": {
    "collapsed": true
   },
   "outputs": [],
   "source": []
  },
  {
   "cell_type": "code",
   "execution_count": null,
   "metadata": {
    "ExecuteTime": {
     "end_time": "2017-03-30T12:31:05.236632",
     "start_time": "2017-03-30T12:31:04.959410"
    },
    "collapsed": true
   },
   "outputs": [],
   "source": [
    "plt.plot(position.x, position.y, 'k.', ms=1)\n",
    "plt.show()"
   ]
  },
  {
   "cell_type": "code",
   "execution_count": null,
   "metadata": {
    "ExecuteTime": {
     "end_time": "2017-03-30T12:31:06.637442",
     "start_time": "2017-03-30T12:31:06.097059"
    },
    "collapsed": true
   },
   "outputs": [],
   "source": [
    "seq = 1\n",
    "times = 'swr'\n",
    "filename = info.session_id + '_swr.png'\n",
    "plot_sequence(ordered_spikes,\n",
    "              info.sequence['u'][times].starts[seq], \n",
    "              info.sequence['u'][times].stops[seq],\n",
    "              ms_fraction=250,\n",
    "              lfp=lfp,\n",
    "              position=None,\n",
    "              savepath=None)"
   ]
  },
  {
   "cell_type": "code",
   "execution_count": null,
   "metadata": {
    "ExecuteTime": {
     "end_time": "2017-03-30T12:31:08.546520",
     "start_time": "2017-03-30T12:31:08.224791"
    },
    "collapsed": true
   },
   "outputs": [],
   "source": [
    "seq = 1\n",
    "times = 'run'\n",
    "filename = info.session_id + '_run.png'\n",
    "plot_sequence(ordered_spikes,\n",
    "              info.sequence['u'][times].starts[seq], \n",
    "              info.sequence['u'][times].stops[seq],\n",
    "              ms_fraction=150,\n",
    "              lfp=None,\n",
    "              position=position,\n",
    "              savepath=None)"
   ]
  },
  {
   "cell_type": "code",
   "execution_count": null,
   "metadata": {
    "ExecuteTime": {
     "end_time": "2017-03-29T11:31:27.334378",
     "start_time": "2017-03-29T11:31:27.053197"
    },
    "collapsed": true
   },
   "outputs": [],
   "source": [
    "xx, yy = np.meshgrid(xedges, yedges)\n",
    "\n",
    "all_tuning_curves = np.zeros(neurons.tuning_shape)\n",
    "for i in range(neurons.n_neurons):\n",
    "    all_tuning_curves += neurons.tuning_curves[i]\n",
    "\n",
    "pp = plt.pcolormesh(xx, yy, all_tuning_curves, cmap='pink_r')\n",
    "plt.colorbar(pp)\n",
    "plt.axis('off')\n",
    "plt.show()\n",
    "# plt.savefig(os.path.join(output_filepath, info.session_id+'_tuning.png'))"
   ]
  },
  {
   "cell_type": "code",
   "execution_count": null,
   "metadata": {
    "collapsed": true
   },
   "outputs": [],
   "source": []
  },
  {
   "cell_type": "code",
   "execution_count": null,
   "metadata": {
    "ExecuteTime": {
     "end_time": "2017-03-29T11:31:37.789469",
     "start_time": "2017-03-29T11:31:37.277522"
    },
    "collapsed": true
   },
   "outputs": [],
   "source": [
    "fig = plt.figure(figsize=(4, 3))\n",
    "ax = plt.subplot(111)\n",
    "start = info.sequence['u']['swr'].starts[1]\n",
    "stop = info.sequence['u']['swr'].stops[1]\n",
    "start_idx = nept.find_nearest_idx(lfp.time, start)\n",
    "stop_idx = nept.find_nearest_idx(lfp.time, stop)\n",
    "plt.plot(lfp.time[start_idx:stop_idx], lfp.data[start_idx:stop_idx], 'k', lw=0.8)\n",
    "plt.axis('off')\n",
    "scalebar.add_scalebar(ax, matchy=False, bbox_transform=fig.transFigure, bbox_to_anchor=(0.9, 0.2), units='ms')\n",
    "plt.show()\n",
    "# plt.savefig(os.path.join(output_filepath, info.session_id + '-swr1.png'), transparent=True)\n",
    "# plt.close()"
   ]
  },
  {
   "cell_type": "code",
   "execution_count": null,
   "metadata": {
    "ExecuteTime": {
     "end_time": "2017-03-29T11:31:40.160949",
     "start_time": "2017-03-29T11:31:39.654393"
    },
    "collapsed": true
   },
   "outputs": [],
   "source": [
    "fig = plt.figure(figsize=(4, 3))\n",
    "ax = plt.subplot(111)\n",
    "start = info.sequence['u']['swr'].starts[0]\n",
    "stop = info.sequence['u']['swr'].stops[0]\n",
    "start_idx = nept.find_nearest_idx(lfp.time, start)\n",
    "stop_idx = nept.find_nearest_idx(lfp.time, stop)\n",
    "plt.plot(lfp.time[start_idx:stop_idx], lfp.data[start_idx:stop_idx], 'k', lw=0.8)\n",
    "plt.axis('off')\n",
    "scalebar.add_scalebar(ax, matchy=False, bbox_transform=fig.transFigure, bbox_to_anchor=(0.9, 0.1), units='ms')\n",
    "plt.show()\n",
    "# plt.savefig(os.path.join(output_filepath, info.session_id + '-swr2.png'), transparent=True)\n",
    "# plt.close()"
   ]
  },
  {
   "cell_type": "code",
   "execution_count": null,
   "metadata": {
    "collapsed": true
   },
   "outputs": [],
   "source": []
  },
  {
   "cell_type": "code",
   "execution_count": null,
   "metadata": {
    "collapsed": true
   },
   "outputs": [],
   "source": []
  },
  {
   "cell_type": "code",
   "execution_count": null,
   "metadata": {
    "collapsed": true
   },
   "outputs": [],
   "source": []
  },
  {
   "cell_type": "code",
   "execution_count": null,
   "metadata": {
    "ExecuteTime": {
     "end_time": "2017-03-31T11:37:26.908255",
     "start_time": "2017-03-31T11:37:26.865207"
    },
    "collapsed": true
   },
   "outputs": [],
   "source": [
    "# experiment_time = 'phase2'\n",
    "exp_start = info.sequence['u']['run'].starts[1]\n",
    "exp_stop = info.sequence['u']['run'].stops[1]\n",
    "\n",
    "sliced_spikes = neurons.time_slice(exp_start, exp_stop)\n",
    "sliced_spikes = sliced_spikes.spikes\n",
    "\n",
    "speed_limit = 0.4\n",
    "run_position = position[speed_threshold(position, speed_limit=speed_limit)]\n",
    "exp_position = run_position.time_slice(exp_start, exp_stop)"
   ]
  },
  {
   "cell_type": "code",
   "execution_count": null,
   "metadata": {
    "ExecuteTime": {
     "end_time": "2017-03-31T11:37:27.780397",
     "start_time": "2017-03-31T11:37:27.666336"
    },
    "collapsed": true
   },
   "outputs": [],
   "source": [
    "field_thresh = 1.0\n",
    "fields_tunings = categorize_fields(neurons.tuning_curves, zones, xedges, yedges, \n",
    "                                   field_thresh=field_thresh)\n",
    "\n",
    "u_line = LineString(info.u_trajectory)\n",
    "\n",
    "u_dist = []\n",
    "for neuron in fields_tunings['u']:\n",
    "    yy = ycenters[np.where(fields_tunings['u'][neuron] == fields_tunings['u'][neuron].max())[0][0]]\n",
    "    xx = xcenters[np.where(fields_tunings['u'][neuron] == fields_tunings['u'][neuron].max())[1][0]]\n",
    "\n",
    "    pt = Point(xx, yy)\n",
    "    if zones['u'].contains(pt):\n",
    "        u_dist.append((u_line.project(pt), neuron))\n",
    "        \n",
    "ordered_dist_u = sorted(u_dist, key=lambda x:x[0])\n",
    "sort_idx = []\n",
    "for neuron in ordered_dist_u:\n",
    "    sort_idx.append(neuron[1])\n",
    "    \n",
    "sort_spikes = []\n",
    "sort_tuning_curves = []\n",
    "for neuron in sort_idx:\n",
    "    sort_tuning_curves.append(fields_tunings['u'][neuron])\n",
    "    sort_spikes.append(sliced_spikes[neuron])\n",
    "    \n",
    "odd_firing_idx = get_odd_firing_idx(sort_tuning_curves, max_mean_firing=2)\n",
    "\n",
    "ordered_spikes = []\n",
    "ordered_fields =[]\n",
    "for i, neuron in enumerate(sort_spikes):\n",
    "    if i not in odd_firing_idx:\n",
    "        ordered_spikes.append(neuron)\n",
    "        ordered_fields.append(sort_tuning_curves[i])"
   ]
  },
  {
   "cell_type": "code",
   "execution_count": null,
   "metadata": {
    "ExecuteTime": {
     "end_time": "2017-03-31T11:37:34.338392",
     "start_time": "2017-03-31T11:37:34.330368"
    },
    "collapsed": true
   },
   "outputs": [],
   "source": [
    "window_size = 0.025\n",
    "window_advance = 0.025\n",
    "time_edges = nept.get_edges(exp_position.time, window_advance, lastbin=True)\n",
    "counts = nept.bin_spikes(ordered_spikes, exp_position.time, dt=window_advance, window=window_size,\n",
    "                             gaussian_std=None, normalized=True)\n",
    "# counts = nept.get_counts(ordered_spikes, time_edges, gaussian_std=0.005)"
   ]
  },
  {
   "cell_type": "code",
   "execution_count": null,
   "metadata": {
    "ExecuteTime": {
     "end_time": "2017-03-31T11:59:23.940122",
     "start_time": "2017-03-31T11:59:23.585389"
    },
    "collapsed": true
   },
   "outputs": [],
   "source": [
    "start = info.sequence['u']['run'].starts[1] \n",
    "stop = info.sequence['u']['run'].stops[1] \n",
    "\n",
    "plt.rc('xtick', labelsize=16) \n",
    "plt.rc('ytick', labelsize=16) \n",
    "\n",
    "fig = plt.figure(figsize=(5, 7))\n",
    "ax = plt.subplot(111)\n",
    "pp = plt.pcolormesh(counts.data.T, cmap='bone_r')\n",
    "# pp = plt.pcolormesh(counts.time_slice(start, stop).data.T, cmap='bone_r')\n",
    "plt.colorbar(pp)\n",
    "ax.set_xticks([])\n",
    "ax.spines['top'].set_visible(False)\n",
    "ax.spines['right'].set_visible(False)\n",
    "ax.spines['bottom'].set_visible(False)\n",
    "ax.get_yaxis().tick_left()\n",
    "# plt.show()\n",
    "plt.savefig(os.path.join(output_filepath, info.session_id + '-binned-spikes.png'), transparent=True)\n",
    "plt.close()"
   ]
  },
  {
   "cell_type": "code",
   "execution_count": null,
   "metadata": {
    "ExecuteTime": {
     "end_time": "2017-03-30T13:08:58.981055",
     "start_time": "2017-03-30T13:08:58.817916"
    },
    "collapsed": true
   },
   "outputs": [],
   "source": [
    "spike_loc = 1\n",
    "rows = len(ordered_spikes)\n",
    "ms_fraction = 150\n",
    "ms=20\n",
    "mew = 0.5\n",
    "\n",
    "fig = plt.figure(figsize=(4.5, 6))\n",
    "ax = plt.subplot(111)\n",
    "for idx, neuron_spikes in enumerate(ordered_spikes):\n",
    "    ax.plot(neuron_spikes.time, np.ones(len(neuron_spikes.time))+(idx*spike_loc), '|',\n",
    "             color='k', ms=ms, mew=mew)\n",
    "ax.set_xticks([])\n",
    "ax.set_xlim([start, stop])\n",
    "ax.spines['top'].set_visible(False)\n",
    "ax.spines['right'].set_visible(False)\n",
    "ax.spines['bottom'].set_visible(False)\n",
    "ax.get_xaxis().tick_bottom()\n",
    "ax.get_yaxis().tick_left()\n",
    "plt.tight_layout()\n",
    "# plt.show()\n",
    "plt.savefig(os.path.join(output_filepath, info.session_id + '-raw-spikes.png'), transparent=True)\n",
    "plt.close()"
   ]
  },
  {
   "cell_type": "code",
   "execution_count": null,
   "metadata": {
    "collapsed": true
   },
   "outputs": [],
   "source": [
    "print(info.sequence['u']['run'].starts[1], info.sequence['u']['run'].stops[1])\n",
    "\n",
    "seq = 1\n",
    "times = 'run'\n",
    "filename = info.session_id + '_run.png'\n",
    "plot_sequence(ordered_spikes,\n",
    "              info.sequence['u'][times].starts[seq], \n",
    "              info.sequence['u'][times].stops[seq],\n",
    "              ms_fraction=150,\n",
    "              lfp=None,\n",
    "              position=position)"
   ]
  },
  {
   "cell_type": "code",
   "execution_count": null,
   "metadata": {
    "collapsed": true
   },
   "outputs": [],
   "source": [
    "start_idx, stop_idx"
   ]
  },
  {
   "cell_type": "code",
   "execution_count": null,
   "metadata": {
    "collapsed": true
   },
   "outputs": [],
   "source": [
    "counts"
   ]
  },
  {
   "cell_type": "code",
   "execution_count": null,
   "metadata": {
    "collapsed": true
   },
   "outputs": [],
   "source": []
  }
 ],
 "metadata": {
  "anaconda-cloud": {},
  "kernelspec": {
   "display_name": "Python 3",
   "language": "python",
   "name": "python3"
  },
  "language_info": {
   "codemirror_mode": {
    "name": "ipython",
    "version": 3
   },
   "file_extension": ".py",
   "mimetype": "text/x-python",
   "name": "python",
   "nbconvert_exporter": "python",
   "pygments_lexer": "ipython3",
   "version": "3.5.2"
  },
  "toc": {
   "colors": {
    "hover_highlight": "#DAA520",
    "running_highlight": "#FF0000",
    "selected_highlight": "#FFD700"
   },
   "moveMenuLeft": true,
   "nav_menu": {
    "height": "12px",
    "width": "252px"
   },
   "navigate_menu": true,
   "number_sections": true,
   "sideBar": true,
   "threshold": 4,
   "toc_cell": false,
   "toc_section_display": "block",
   "toc_window_display": false
  }
 },
 "nbformat": 4,
 "nbformat_minor": 1
}
