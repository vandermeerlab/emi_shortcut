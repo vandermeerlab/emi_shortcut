{
 "cells": [
  {
   "cell_type": "code",
   "execution_count": null,
   "metadata": {
    "ExecuteTime": {
     "end_time": "2017-03-31T13:28:38.063034",
     "start_time": "2017-03-31T13:28:37.345525"
    },
    "collapsed": true
   },
   "outputs": [],
   "source": [
    "%matplotlib inline\n",
    "import matplotlib.pyplot as plt\n",
    "import os\n",
    "import numpy as np\n",
    "\n",
    "import nept\n",
    "\n",
    "from loading_data import get_data"
   ]
  },
  {
   "cell_type": "code",
   "execution_count": null,
   "metadata": {
    "ExecuteTime": {
     "end_time": "2017-03-31T13:28:38.326272",
     "start_time": "2017-03-31T13:28:38.064035"
    },
    "collapsed": true
   },
   "outputs": [],
   "source": [
    "from run import spike_sorted_infos\n",
    "infos = spike_sorted_infos"
   ]
  },
  {
   "cell_type": "code",
   "execution_count": null,
   "metadata": {
    "ExecuteTime": {
     "end_time": "2017-03-31T13:28:38.330242",
     "start_time": "2017-03-31T13:28:38.327222"
    },
    "collapsed": true
   },
   "outputs": [],
   "source": [
    "datapath = 'E:/code/emi_shortcut/cache/data'"
   ]
  },
  {
   "cell_type": "code",
   "execution_count": null,
   "metadata": {
    "ExecuteTime": {
     "end_time": "2017-03-31T13:28:40.136509",
     "start_time": "2017-03-31T13:28:38.331725"
    },
    "collapsed": false
   },
   "outputs": [],
   "source": [
    "n_neurons4 = []\n",
    "n_neurons5 = []\n",
    "temp = []\n",
    "for info in infos:\n",
    "    spikepath = os.path.join(datapath, info.spikes_filepath)\n",
    "    spikes4 = nept.load_spikes(spikepath, load_questionable=False)\n",
    "    spikes5 = nept.load_spikes(spikepath, load_questionable=True)\n",
    "    print('All neurons', info.session_id, ':', len(spikes5))\n",
    "    print('Quality 4+ neurons', info.session_id, ':', len(spikes4))\n",
    "    print('Poor quality 5 neurons', info.session_id, ':', len(spikes5) - len(spikes4))\n",
    "    print('---------')"
   ]
  },
  {
   "cell_type": "code",
   "execution_count": null,
   "metadata": {
    "collapsed": true
   },
   "outputs": [],
   "source": []
  }
 ],
 "metadata": {
  "kernelspec": {
   "display_name": "Python 3",
   "language": "python",
   "name": "python3"
  },
  "language_info": {
   "codemirror_mode": {
    "name": "ipython",
    "version": 3
   },
   "file_extension": ".py",
   "mimetype": "text/x-python",
   "name": "python",
   "nbconvert_exporter": "python",
   "pygments_lexer": "ipython3",
   "version": "3.5.2"
  },
  "toc": {
   "colors": {
    "hover_highlight": "#DAA520",
    "running_highlight": "#FF0000",
    "selected_highlight": "#FFD700"
   },
   "moveMenuLeft": true,
   "nav_menu": {
    "height": "12px",
    "width": "252px"
   },
   "navigate_menu": true,
   "number_sections": true,
   "sideBar": true,
   "threshold": 4,
   "toc_cell": false,
   "toc_section_display": "block",
   "toc_window_display": false
  }
 },
 "nbformat": 4,
 "nbformat_minor": 0
}
