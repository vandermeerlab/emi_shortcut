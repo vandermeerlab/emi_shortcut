{
 "cells": [
  {
   "cell_type": "code",
   "execution_count": null,
   "metadata": {
    "ExecuteTime": {
     "end_time": "2017-03-26T11:01:25.980896",
     "start_time": "2017-03-26T11:01:25.877323"
    },
    "collapsed": true
   },
   "outputs": [],
   "source": [
    "import os\n",
    "import numpy as np\n",
    "import zipfile"
   ]
  },
  {
   "cell_type": "code",
   "execution_count": null,
   "metadata": {
    "ExecuteTime": {
     "end_time": "2017-03-26T11:01:30.097451",
     "start_time": "2017-03-26T11:01:30.092946"
    },
    "collapsed": false
   },
   "outputs": [],
   "source": [
    "filename = 'R066-2014-11-27-VT1'\n",
    "datapath = 'E:/temp'"
   ]
  },
  {
   "cell_type": "code",
   "execution_count": null,
   "metadata": {
    "ExecuteTime": {
     "end_time": "2017-03-26T11:01:30.876876",
     "start_time": "2017-03-26T11:01:30.869871"
    },
    "collapsed": false
   },
   "outputs": [],
   "source": [
    "#unzip the file\n",
    "def unzip_nvt_file(datapath, filename, other):\n",
    "    \"\"\"Extracts a videotracking (*.nvt) file\n",
    "    \n",
    "    Parameters\n",
    "    ----------\n",
    "    datapath: str\n",
    "    filename: str\n",
    "    \n",
    "    \"\"\"\n",
    "    with zipfile.ZipFile(os.path.join(datapath, filename+'.zip'), 'r') as f:\n",
    "        f.extractall(other)"
   ]
  },
  {
   "cell_type": "code",
   "execution_count": null,
   "metadata": {
    "ExecuteTime": {
     "end_time": "2017-03-26T11:01:32.825458",
     "start_time": "2017-03-26T11:01:32.816452"
    },
    "collapsed": false
   },
   "outputs": [],
   "source": [
    "#zip the file\n",
    "def zip_nvt_file(datapath, filename):\n",
    "    \"\"\"Compresses a videotracking (*.nvt) file\n",
    "    \n",
    "    Parameters\n",
    "    ----------\n",
    "    datapath: str\n",
    "    filename: str\n",
    "    \n",
    "    \"\"\"\n",
    "    file = zipfile.ZipFile(os.path.join(datapath, filename+'.zip'), 'w')\n",
    "    file.write(os.path.join(datapath, filename+'.nvt'), filename+'.nvt', \n",
    "               compress_type=zipfile.ZIP_DEFLATED)\n",
    "\n",
    "    file.close()"
   ]
  },
  {
   "cell_type": "code",
   "execution_count": null,
   "metadata": {
    "ExecuteTime": {
     "end_time": "2017-03-24T10:58:28.890911",
     "start_time": "2017-03-24T10:58:28.823864"
    },
    "collapsed": true
   },
   "outputs": [],
   "source": [
    "os.remove(os.path.join(datapath, filename+'.nvt'))"
   ]
  },
  {
   "cell_type": "code",
   "execution_count": null,
   "metadata": {
    "collapsed": true
   },
   "outputs": [],
   "source": []
  },
  {
   "cell_type": "code",
   "execution_count": null,
   "metadata": {
    "ExecuteTime": {
     "end_time": "2017-03-26T11:17:35.185914",
     "start_time": "2017-03-26T11:17:33.749395"
    },
    "collapsed": false
   },
   "outputs": [],
   "source": [
    "from run import spike_sorted_infos, info\n",
    "\n",
    "infos = [info.r063d2]\n",
    "\n",
    "thisdir = 'E:\\code\\emi_shortcut'\n",
    "datapath = os.path.join(thisdir, 'cache', 'data')\n",
    "\n",
    "\n",
    "for this_info in spike_sorted_infos:\n",
    "    position_path = os.path.join(datapath, 'data-working', this_info.rat_id,\n",
    "                                 this_info.session+'_recording')\n",
    "#     zip_nvt_file(position_path, this_info.session+'-VT1')\n",
    "    \n",
    "#     os.remove(os.path.join(position_path, this_info.session+'-VT1.zip'))\n",
    "#     os.remove(os.path.join(position_path, this_info.session+'-VT1.nvt'))\n",
    "    \n",
    "#     unzip_nvt_file(position_path, this_info.session+'-VT1', position_path)\n",
    "#     unzip_nvt_file(position_path, this_info.session+'-VT1', 'E:/')"
   ]
  },
  {
   "cell_type": "code",
   "execution_count": null,
   "metadata": {
    "ExecuteTime": {
     "end_time": "2017-03-24T16:53:01.570141",
     "start_time": "2017-03-24T16:52:58.685949"
    },
    "collapsed": false
   },
   "outputs": [],
   "source": [
    "datapath = 'E:/temp'\n",
    "filename = 'R066-2014-11-27-VT1'\n",
    "\n",
    "# zip_nvt_file(datapath, filename)\n",
    " \n",
    "unzip_nvt_file(datapath, filename)"
   ]
  },
  {
   "cell_type": "code",
   "execution_count": null,
   "metadata": {
    "collapsed": true
   },
   "outputs": [],
   "source": []
  }
 ],
 "metadata": {
  "kernelspec": {
   "display_name": "Python 3",
   "language": "python",
   "name": "python3"
  },
  "language_info": {
   "codemirror_mode": {
    "name": "ipython",
    "version": 3
   },
   "file_extension": ".py",
   "mimetype": "text/x-python",
   "name": "python",
   "nbconvert_exporter": "python",
   "pygments_lexer": "ipython3",
   "version": "3.5.2"
  },
  "toc": {
   "colors": {
    "hover_highlight": "#DAA520",
    "running_highlight": "#FF0000",
    "selected_highlight": "#FFD700"
   },
   "moveMenuLeft": true,
   "nav_menu": {
    "height": "12px",
    "width": "252px"
   },
   "navigate_menu": true,
   "number_sections": true,
   "sideBar": true,
   "threshold": 4,
   "toc_cell": false,
   "toc_section_display": "block",
   "toc_window_display": false
  }
 },
 "nbformat": 4,
 "nbformat_minor": 0
}
