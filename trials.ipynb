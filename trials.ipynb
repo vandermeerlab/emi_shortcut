{
 "cells": [
  {
   "cell_type": "code",
   "execution_count": null,
   "metadata": {
    "ExecuteTime": {
     "end_time": "2018-01-26T20:46:17.526600Z",
     "start_time": "2018-01-26T20:46:16.505302Z"
    }
   },
   "outputs": [],
   "source": [
    "%matplotlib inline\n",
    "import matplotlib.pyplot as plt\n",
    "import numpy as np\n",
    "import os\n",
    "import nept\n",
    "import pickle\n",
    "\n",
    "from loading_data import get_data\n",
    "from plot_behavior import combine_behavior\n",
    "from analyze_tuning_curves import get_tuning_curves\n",
    "from analyze_decode import get_decoded, zone_sort, point_in_zones"
   ]
  },
  {
   "cell_type": "code",
   "execution_count": null,
   "metadata": {
    "ExecuteTime": {
     "end_time": "2018-01-26T20:46:17.560122Z",
     "start_time": "2018-01-26T20:46:17.528077Z"
    },
    "collapsed": true
   },
   "outputs": [],
   "source": [
    "import info.r066d5 as info"
   ]
  },
  {
   "cell_type": "code",
   "execution_count": null,
   "metadata": {
    "ExecuteTime": {
     "end_time": "2018-01-26T20:46:17.565103Z",
     "start_time": "2018-01-26T20:46:17.561600Z"
    },
    "collapsed": true
   },
   "outputs": [],
   "source": [
    "from loading_data import load_data"
   ]
  },
  {
   "cell_type": "code",
   "execution_count": null,
   "metadata": {
    "ExecuteTime": {
     "end_time": "2018-01-26T20:46:17.577628Z",
     "start_time": "2018-01-26T20:46:17.566604Z"
    },
    "collapsed": true
   },
   "outputs": [],
   "source": [
    "thisdir = os.getcwd()\n",
    "pickle_filepath = os.path.join(thisdir, \"cache\", \"pickled\")\n",
    "output_filepath = os.path.join(thisdir, \"plots\", \"decode_wout_trial\")"
   ]
  },
  {
   "cell_type": "code",
   "execution_count": null,
   "metadata": {
    "ExecuteTime": {
     "end_time": "2018-01-26T20:46:17.922543Z",
     "start_time": "2018-01-26T20:46:17.917038Z"
    }
   },
   "outputs": [],
   "source": [
    "from analyze_decode_bytrial import get_trials, decode_trial"
   ]
  },
  {
   "cell_type": "code",
   "execution_count": null,
   "metadata": {
    "ExecuteTime": {
     "end_time": "2018-01-26T20:46:24.060069Z",
     "start_time": "2018-01-26T20:46:18.318944Z"
    }
   },
   "outputs": [],
   "source": [
    "# events, position, spikes, lfp, lfp_theta = get_data(info)\n",
    "events, position, spikes, lfp_swr, lfp_theta = load_data(info)\n",
    "\n",
    "position = position.time_slice(info.task_times['phase3'].start, info.task_times['phase3'].stop)\n",
    "spikes = [spiketrain.time_slice(info.task_times['phase3'].start, info.task_times['phase3'].stop) for spiketrain in spikes]\n",
    "\n",
    "xedges, yedges = nept.get_xyedges(position)\n",
    "\n",
    "trial_epochs = get_trials(events, info.task_times['phase3'])"
   ]
  },
  {
   "cell_type": "code",
   "execution_count": null,
   "metadata": {
    "ExecuteTime": {
     "end_time": "2018-01-26T20:46:24.354280Z",
     "start_time": "2018-01-26T20:46:24.061571Z"
    }
   },
   "outputs": [],
   "source": [
    "plt.plot(position.time, position.y, 'b.')\n",
    "plt.show()"
   ]
  },
  {
   "cell_type": "code",
   "execution_count": null,
   "metadata": {
    "ExecuteTime": {
     "end_time": "2018-01-26T20:46:24.360284Z",
     "start_time": "2018-01-26T20:46:24.355780Z"
    }
   },
   "outputs": [],
   "source": [
    "position.n_samples"
   ]
  },
  {
   "cell_type": "code",
   "execution_count": null,
   "metadata": {
    "collapsed": true
   },
   "outputs": [],
   "source": []
  },
  {
   "cell_type": "code",
   "execution_count": null,
   "metadata": {
    "collapsed": true
   },
   "outputs": [],
   "source": []
  },
  {
   "cell_type": "code",
   "execution_count": null,
   "metadata": {
    "collapsed": true
   },
   "outputs": [],
   "source": []
  },
  {
   "cell_type": "code",
   "execution_count": null,
   "metadata": {
    "ExecuteTime": {
     "end_time": "2018-01-26T20:50:04.218885Z",
     "start_time": "2018-01-26T20:46:24.361784Z"
    },
    "scrolled": true
   },
   "outputs": [],
   "source": [
    "%%time\n",
    "all_trials = []\n",
    "shuffled = False\n",
    "\n",
    "for this_trial in range(trial_epochs.n_epochs):\n",
    "# for this_trial in [1]:\n",
    "    print(\"trial:\", this_trial)\n",
    "    \n",
    "    trial_start = trial_epochs.starts[this_trial]\n",
    "    trial_stop = trial_epochs.stops[this_trial]\n",
    "    \n",
    "    trial_times = nept.Epoch([trial_start, trial_stop])\n",
    "    trial_number = \"test\"\n",
    "    neurons = get_tuning_curves(info, position, spikes, xedges, yedges, speed_limit=0.4, phase_id=\"phase3\", trial_times=trial_times, trial_number=trial_number, cache=False)\n",
    "    \n",
    "    decode = decode_trial(info, neurons, trial_times, this_trial, shuffled)\n",
    "    \n",
    "    all_trials.append(decode)"
   ]
  },
  {
   "cell_type": "code",
   "execution_count": null,
   "metadata": {
    "ExecuteTime": {
     "end_time": "2018-01-26T20:50:04.906375Z",
     "start_time": "2018-01-26T20:50:04.220386Z"
    },
    "scrolled": false
   },
   "outputs": [],
   "source": [
    "xx, yy = np.meshgrid(xedges, yedges)\n",
    "\n",
    "error_byactual_position = np.zeros((len(yedges), len(xedges)))\n",
    "n_byactual_position = np.ones((len(yedges), len(xedges)))\n",
    "\n",
    "for idx, decode in enumerate(all_trials):\n",
    "    for error, x, y in zip(decode['errors'], decode['position'].x, decode['position'].y):\n",
    "        x_idx = nept.find_nearest_idx(xedges, x)\n",
    "        y_idx = nept.find_nearest_idx(yedges, y)\n",
    "        error_byactual_position[y_idx][x_idx] += error\n",
    "        n_byactual_position[y_idx][x_idx] += 1\n",
    "\n",
    "    error_byactual = error_byactual_position / n_byactual_position\n",
    "    \n",
    "print(\"error\")\n",
    "pp = plt.pcolormesh(xx, yy, error_byactual, vmin=0., cmap='bone_r')\n",
    "plt.colorbar(pp)\n",
    "plt.axis('off')\n",
    "plt.show()\n",
    "# plt.savefig(os.path.join(output_filepath, \"decoding_wout_current_trial-\" + info.session_id + \"-error.png\"))"
   ]
  },
  {
   "cell_type": "code",
   "execution_count": null,
   "metadata": {
    "ExecuteTime": {
     "end_time": "2018-01-26T20:50:05.195080Z",
     "start_time": "2018-01-26T20:50:04.907876Z"
    }
   },
   "outputs": [],
   "source": [
    "print(\"position occupancy\")\n",
    "pp = plt.pcolormesh(xx, yy, n_byactual_position, vmin=0., vmax=1000., cmap=\"pink_r\")\n",
    "plt.colorbar(pp)\n",
    "plt.axis('off')\n",
    "plt.show()\n",
    "# plt.savefig(os.path.join(output_filepath, \"decoding_wout_current_trial-\" + info.session_id + \"-occupancy.png\"))"
   ]
  },
  {
   "cell_type": "code",
   "execution_count": null,
   "metadata": {
    "ExecuteTime": {
     "end_time": "2018-01-26T20:50:05.445775Z",
     "start_time": "2018-01-26T20:50:05.196581Z"
    }
   },
   "outputs": [],
   "source": [
    "print(\"tuning curves\")\n",
    "xx, yy = np.meshgrid(xedges, yedges)\n",
    "\n",
    "all_tuning_curves = np.zeros(neurons.tuning_shape)\n",
    "for i in range(neurons.n_neurons):\n",
    "    all_tuning_curves += neurons.tuning_curves[i]\n",
    "\n",
    "pp = plt.pcolormesh(xx, yy, all_tuning_curves, cmap='pink_r')\n",
    "plt.colorbar(pp)\n",
    "plt.axis('off')\n",
    "plt.show()"
   ]
  },
  {
   "cell_type": "code",
   "execution_count": null,
   "metadata": {
    "collapsed": true
   },
   "outputs": [],
   "source": []
  },
  {
   "cell_type": "code",
   "execution_count": null,
   "metadata": {
    "collapsed": true
   },
   "outputs": [],
   "source": []
  },
  {
   "cell_type": "code",
   "execution_count": null,
   "metadata": {
    "collapsed": true
   },
   "outputs": [],
   "source": []
  },
  {
   "cell_type": "code",
   "execution_count": null,
   "metadata": {
    "ExecuteTime": {
     "end_time": "2018-01-26T15:40:10.432347Z",
     "start_time": "2018-01-26T15:40:04.056309Z"
    },
    "scrolled": true
   },
   "outputs": [],
   "source": [
    "# idx = 31\n",
    "for i, (start, stop) in enumerate(zip(trial_epochs.starts, trial_epochs.stops)):\n",
    "    print(i)\n",
    "    pos = position.time_slice(start, stop)\n",
    "    \n",
    "    plt.plot(pos.x, pos.y, 'g.')\n",
    "    plt.plot(pos.x[-5:], pos.y[-5:], 'r.')\n",
    "    plt.plot(pos.x[:5], pos.y[:5], 'c.')\n",
    "    plt.show()"
   ]
  },
  {
   "cell_type": "code",
   "execution_count": null,
   "metadata": {
    "ExecuteTime": {
     "end_time": "2018-01-26T20:01:28.895042Z",
     "start_time": "2018-01-26T20:01:28.676870Z"
    }
   },
   "outputs": [],
   "source": [
    "plt.plot(decode['position'].x, decode['position'].y, 'g.')\n",
    "plt.show()"
   ]
  },
  {
   "cell_type": "code",
   "execution_count": null,
   "metadata": {
    "ExecuteTime": {
     "end_time": "2018-01-26T19:26:13.022286Z",
     "start_time": "2018-01-26T19:26:12.762603Z"
    }
   },
   "outputs": [],
   "source": [
    "plt.plot(position.time, position.x, 'b.')\n",
    "plt.show()"
   ]
  },
  {
   "cell_type": "code",
   "execution_count": null,
   "metadata": {
    "collapsed": true
   },
   "outputs": [],
   "source": []
  },
  {
   "cell_type": "code",
   "execution_count": null,
   "metadata": {
    "ExecuteTime": {
     "end_time": "2018-01-23T20:03:38.042810Z",
     "start_time": "2018-01-23T20:03:15.103Z"
    },
    "scrolled": true
   },
   "outputs": [],
   "source": [
    "for decode in all_trials:\n",
    "    print(\"decoded\")\n",
    "    xx, yy = np.meshgrid(xedges, yedges)\n",
    "    histogram, xs, ys = np.histogram2d(decode['decoded'].x, decode['decoded'].y, bins=xx.shape)\n",
    "\n",
    "    cmap = plt.cm.get_cmap('bone_r')\n",
    "    pp = plt.pcolormesh(yy, xx, histogram, vmin=0., vmax=800., cmap=cmap)\n",
    "    plt.colorbar(pp)\n",
    "    plt.axis('off')\n",
    "    plt.show()\n",
    "    \n",
    "    print(\"position\")\n",
    "    xx, yy = np.meshgrid(xedges, yedges)\n",
    "    histogram, xs, ys = np.histogram2d(decode['position'].x, decode['position'].y, bins=xx.shape)\n",
    "\n",
    "    cmap = plt.cm.get_cmap(\"pink_r\")\n",
    "    pp = plt.pcolormesh(yy, xx, histogram, vmin=0., vmax=50., cmap=cmap)\n",
    "    plt.colorbar(pp)\n",
    "    plt.axis('off')\n",
    "    plt.show()"
   ]
  },
  {
   "cell_type": "code",
   "execution_count": null,
   "metadata": {
    "ExecuteTime": {
     "end_time": "2018-01-23T20:07:18.417863Z",
     "start_time": "2018-01-23T20:07:18.212199Z"
    }
   },
   "outputs": [],
   "source": [
    "for decode in all_trials:\n",
    "    plt.plot(decode['position'].x, decode['position'].y, '.')\n",
    "plt.show()"
   ]
  },
  {
   "cell_type": "code",
   "execution_count": null,
   "metadata": {
    "ExecuteTime": {
     "end_time": "2018-01-23T20:03:38.044812Z",
     "start_time": "2018-01-23T20:03:15.110Z"
    }
   },
   "outputs": [],
   "source": [
    "for decode in all_trials:\n",
    "    plt.plot(decode['decoded'][59:63].x, decode['decoded'][59:63].y, '.')\n",
    "plt.show()"
   ]
  },
  {
   "cell_type": "code",
   "execution_count": null,
   "metadata": {
    "ExecuteTime": {
     "end_time": "2018-01-23T20:03:38.045312Z",
     "start_time": "2018-01-23T20:03:15.114Z"
    }
   },
   "outputs": [],
   "source": [
    "decode.keys()"
   ]
  },
  {
   "cell_type": "code",
   "execution_count": null,
   "metadata": {
    "collapsed": true
   },
   "outputs": [],
   "source": []
  },
  {
   "cell_type": "code",
   "execution_count": null,
   "metadata": {
    "collapsed": true
   },
   "outputs": [],
   "source": []
  },
  {
   "cell_type": "code",
   "execution_count": null,
   "metadata": {
    "collapsed": true
   },
   "outputs": [],
   "source": []
  },
  {
   "cell_type": "code",
   "execution_count": null,
   "metadata": {
    "collapsed": true
   },
   "outputs": [],
   "source": []
  },
  {
   "cell_type": "code",
   "execution_count": null,
   "metadata": {
    "ExecuteTime": {
     "end_time": "2018-01-23T21:31:34.057414Z",
     "start_time": "2018-01-23T21:28:07.427Z"
    }
   },
   "outputs": [],
   "source": [
    "plt.plot(decode['decoded'].x, decode['decoded'].y, 'k.')\n",
    "plt.plot(decode['position'].x, decode['position'].y, 'b.', ms=1)\n",
    "plt.show()"
   ]
  },
  {
   "cell_type": "code",
   "execution_count": null,
   "metadata": {
    "ExecuteTime": {
     "end_time": "2018-01-23T20:03:38.048314Z",
     "start_time": "2018-01-23T20:03:15.129Z"
    }
   },
   "outputs": [],
   "source": [
    "print(\"decoded\")\n",
    "xx, yy = np.meshgrid(xedges, yedges)\n",
    "histogram, xs, ys = np.histogram2d(decode['decoded'].x, decode['decoded'].y, bins=xx.shape)\n",
    "\n",
    "cmap = plt.cm.get_cmap('bone_r')\n",
    "pp = plt.pcolormesh(yy, xx, histogram, vmin=0., vmax=800., cmap=cmap)\n",
    "plt.colorbar(pp)\n",
    "plt.axis('off')\n",
    "plt.show()"
   ]
  },
  {
   "cell_type": "code",
   "execution_count": null,
   "metadata": {
    "ExecuteTime": {
     "end_time": "2018-01-23T20:03:38.049815Z",
     "start_time": "2018-01-23T20:03:15.133Z"
    }
   },
   "outputs": [],
   "source": [
    "print(\"position\")\n",
    "xx, yy = np.meshgrid(xedges, yedges)\n",
    "histogram, xs, ys = np.histogram2d(decode['position'].x, decode['position'].y, bins=xx.shape)\n",
    "\n",
    "cmap = plt.cm.get_cmap(\"pink_r\")\n",
    "pp = plt.pcolormesh(yy, xx, histogram, vmin=0., vmax=50., cmap=cmap)\n",
    "plt.colorbar(pp)\n",
    "plt.axis('off')\n",
    "plt.show()"
   ]
  },
  {
   "cell_type": "code",
   "execution_count": null,
   "metadata": {
    "ExecuteTime": {
     "end_time": "2018-01-23T20:03:38.050315Z",
     "start_time": "2018-01-23T20:03:15.138Z"
    },
    "collapsed": true
   },
   "outputs": [],
   "source": [
    "error_hist_byactual = np.zeros((len(yedges), len(xedges)))\n",
    "n_hist_byactual = np.ones((len(yedges), len(xedges)))\n",
    "error_x = []\n",
    "error_y = []\n",
    "\n",
    "for error, x, y in zip(decode['errors'], position.x, position.y):\n",
    "    x_idx = nept.find_nearest_idx(xedges, x)\n",
    "    y_idx = nept.find_nearest_idx(yedges, y)\n",
    "    error_hist_byactual[y_idx][x_idx] += error\n",
    "    n_hist_byactual[y_idx][x_idx] += 1\n",
    "\n",
    "error_byactual = error_hist_byactual / n_hist_byactual"
   ]
  },
  {
   "cell_type": "code",
   "execution_count": null,
   "metadata": {
    "ExecuteTime": {
     "end_time": "2018-01-23T20:03:38.051817Z",
     "start_time": "2018-01-23T20:03:15.142Z"
    }
   },
   "outputs": [],
   "source": [
    "pp = plt.pcolormesh(xx, yy, error_byactual, cmap='bone_r')\n",
    "plt.colorbar(pp)\n",
    "plt.axis('off')\n",
    "plt.show()"
   ]
  },
  {
   "cell_type": "code",
   "execution_count": null,
   "metadata": {
    "ExecuteTime": {
     "end_time": "2018-01-23T20:03:38.053818Z",
     "start_time": "2018-01-23T20:03:15.146Z"
    }
   },
   "outputs": [],
   "source": [
    "pp = plt.pcolormesh(xx, yy, n_hist_byactual, vmin=0., vmax=50., cmap=\"pink_r\")\n",
    "plt.colorbar(pp)\n",
    "plt.axis('off')\n",
    "plt.show()"
   ]
  },
  {
   "cell_type": "code",
   "execution_count": null,
   "metadata": {
    "ExecuteTime": {
     "end_time": "2018-01-23T20:03:38.055319Z",
     "start_time": "2018-01-23T20:03:15.151Z"
    }
   },
   "outputs": [],
   "source": [
    "pp = plt.pcolormesh(xx, yy, error_hist_byactual, vmin=0., vmax=50., cmap=\"pink_r\")\n",
    "plt.colorbar(pp)\n",
    "plt.axis('off')\n",
    "plt.show()"
   ]
  },
  {
   "cell_type": "code",
   "execution_count": null,
   "metadata": {
    "collapsed": true
   },
   "outputs": [],
   "source": []
  },
  {
   "cell_type": "code",
   "execution_count": null,
   "metadata": {
    "collapsed": true
   },
   "outputs": [],
   "source": []
  },
  {
   "cell_type": "code",
   "execution_count": null,
   "metadata": {
    "collapsed": true
   },
   "outputs": [],
   "source": []
  },
  {
   "cell_type": "code",
   "execution_count": null,
   "metadata": {
    "collapsed": true
   },
   "outputs": [],
   "source": []
  },
  {
   "cell_type": "code",
   "execution_count": null,
   "metadata": {
    "collapsed": true
   },
   "outputs": [],
   "source": []
  },
  {
   "cell_type": "code",
   "execution_count": null,
   "metadata": {
    "ExecuteTime": {
     "end_time": "2018-01-25T19:48:24.523176Z",
     "start_time": "2018-01-25T19:48:22.891015Z"
    },
    "collapsed": true
   },
   "outputs": [],
   "source": [
    "%matplotlib inline\n",
    "import matplotlib.pyplot as plt\n",
    "import numpy as np\n",
    "import os\n",
    "import nept\n",
    "import pickle\n",
    "\n",
    "from loading_data import get_data\n",
    "from plot_behavior import combine_behavior\n",
    "from analyze_tuning_curves import get_tuning_curves\n",
    "from analyze_decode import get_decoded, zone_sort, point_in_zones\n",
    "\n",
    "import info.r063d2 as info\n",
    "\n",
    "events, position, spikes, lfp, lfp_theta = get_data(info)"
   ]
  },
  {
   "cell_type": "code",
   "execution_count": null,
   "metadata": {
    "ExecuteTime": {
     "end_time": "2018-01-25T19:48:32.864606Z",
     "start_time": "2018-01-25T19:48:24.524677Z"
    }
   },
   "outputs": [],
   "source": [
    "from startup import load_shortcut_position\n",
    "from loading_data import unzip_nvt_file\n",
    "\n",
    "thisdir = os.getcwd()\n",
    "dataloc = os.path.join(thisdir, 'cache', 'data')\n",
    "position_path = os.path.join(dataloc, 'data-working', info.rat_id, info.session+'_recording')\n",
    "unzip_nvt_file(position_path, info.session+'-VT1')\n",
    "position = load_shortcut_position(info, os.path.join(dataloc, info.position_filename), events)\n",
    "os.remove(os.path.join(position_path, info.session+'-VT1.nvt'))"
   ]
  },
  {
   "cell_type": "code",
   "execution_count": null,
   "metadata": {
    "ExecuteTime": {
     "end_time": "2018-01-25T19:48:33.550593Z",
     "start_time": "2018-01-25T19:48:32.866107Z"
    }
   },
   "outputs": [],
   "source": [
    "plt.plot(position.time, position.x, 'k.')\n",
    "plt.show()"
   ]
  },
  {
   "cell_type": "code",
   "execution_count": null,
   "metadata": {
    "ExecuteTime": {
     "end_time": "2018-01-25T19:48:34.205058Z",
     "start_time": "2018-01-25T19:48:33.552095Z"
    }
   },
   "outputs": [],
   "source": [
    "plt.plot(position.time, position.y, 'm.')\n",
    "plt.show()"
   ]
  },
  {
   "cell_type": "code",
   "execution_count": null,
   "metadata": {
    "ExecuteTime": {
     "end_time": "2018-01-25T19:48:34.211563Z",
     "start_time": "2018-01-25T19:48:34.207061Z"
    }
   },
   "outputs": [],
   "source": [
    "position.n_samples"
   ]
  },
  {
   "cell_type": "code",
   "execution_count": null,
   "metadata": {
    "ExecuteTime": {
     "end_time": "2018-01-25T19:31:51.015565Z",
     "start_time": "2018-01-25T19:31:51.011063Z"
    }
   },
   "outputs": [],
   "source": [
    "# time_thresh=1.0, jump_thresh=20, dist_thresh=5 -> 22518\n",
    "# time_thresh=1.0, jump_thresh=10, dist_thresh=5 -> 225113\n",
    "# time_thresh=1.0, jump_thresh=10, dist_thresh=2 -> 236120\n",
    "# time_thresh=1.0, jump_thresh=10, dist_thresh=1 -> 237942\n",
    "# time_thresh=1.0, jump_thresh=10, dist_thresh=3 -> 234790\n",
    "# time_thresh=1.0, jump_thresh=20, dist_thresh=3 -> 234795\n",
    "# time_thresh=1.0, jump_thresh=20, dist_thresh=2 -> 236125 *\n",
    "# time_thresh=1.0, jump_thresh=30, dist_thresh=2 -> \n",
    "position.n_samples "
   ]
  },
  {
   "cell_type": "code",
   "execution_count": null,
   "metadata": {
    "collapsed": true
   },
   "outputs": [],
   "source": []
  }
 ],
 "metadata": {
  "kernelspec": {
   "display_name": "Python 3",
   "language": "python",
   "name": "python3"
  },
  "language_info": {
   "codemirror_mode": {
    "name": "ipython",
    "version": 3
   },
   "file_extension": ".py",
   "mimetype": "text/x-python",
   "name": "python",
   "nbconvert_exporter": "python",
   "pygments_lexer": "ipython3",
   "version": "3.6.1"
  },
  "toc": {
   "colors": {
    "hover_highlight": "#DAA520",
    "running_highlight": "#FF0000",
    "selected_highlight": "#FFD700"
   },
   "moveMenuLeft": true,
   "nav_menu": {
    "height": "12px",
    "width": "252px"
   },
   "navigate_menu": true,
   "number_sections": true,
   "sideBar": true,
   "threshold": 4,
   "toc_cell": false,
   "toc_section_display": "block",
   "toc_window_display": false
  }
 },
 "nbformat": 4,
 "nbformat_minor": 2
}
