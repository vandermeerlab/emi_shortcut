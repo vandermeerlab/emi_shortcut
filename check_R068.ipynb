{
 "cells": [
  {
   "cell_type": "code",
   "execution_count": null,
   "metadata": {
    "ExecuteTime": {
     "end_time": "2018-12-11T19:55:59.486195Z",
     "start_time": "2018-12-11T19:55:58.581713Z"
    },
    "collapsed": true
   },
   "outputs": [],
   "source": [
    "%matplotlib inline\n",
    "import matplotlib.pyplot as plt\n",
    "import os\n",
    "import numpy as np\n",
    "import nept\n",
    "\n",
    "from loading_data import get_data"
   ]
  },
  {
   "cell_type": "code",
   "execution_count": null,
   "metadata": {
    "ExecuteTime": {
     "end_time": "2018-12-11T19:58:01.231354Z",
     "start_time": "2018-12-11T19:58:00.627700Z"
    }
   },
   "outputs": [],
   "source": [
    "import info.r068d8 as info\n",
    "\n",
    "# dataloc = os.path.abspath(os.path.join(\"E:\\code\\emi_shortcut\", 'cache', 'data'))\n",
    "\n",
    "# lfp = nept.load_lfp(os.path.join(dataloc, info.lfp_swr_filename))\n",
    "events, position, spikes, lfp, lfp_theta = get_data(info)\n",
    "\n",
    "sliced_lfp = lfp.time_slice(4876, 4885)\n",
    "print(np.median(sliced_lfp.data))"
   ]
  },
  {
   "cell_type": "code",
   "execution_count": null,
   "metadata": {},
   "outputs": [],
   "source": [
    "plt.plot(lfp.time, lfp.data)\n",
    "plt.show()"
   ]
  },
  {
   "cell_type": "code",
   "execution_count": null,
   "metadata": {},
   "outputs": [],
   "source": [
    "plt.plot(lfp.time, lfp.data)\n",
    "plt.show()"
   ]
  },
  {
   "cell_type": "code",
   "execution_count": null,
   "metadata": {
    "collapsed": true
   },
   "outputs": [],
   "source": []
  },
  {
   "cell_type": "code",
   "execution_count": null,
   "metadata": {
    "collapsed": true
   },
   "outputs": [],
   "source": []
  },
  {
   "cell_type": "code",
   "execution_count": null,
   "metadata": {
    "collapsed": true
   },
   "outputs": [],
   "source": []
  },
  {
   "cell_type": "code",
   "execution_count": null,
   "metadata": {
    "ExecuteTime": {
     "end_time": "2018-12-11T20:00:04.927023Z",
     "start_time": "2018-12-11T20:00:04.764116Z"
    }
   },
   "outputs": [],
   "source": [
    "plt.plot(sliced_lfp.time, sliced_lfp.data, \".\")\n",
    "plt.show()"
   ]
  },
  {
   "cell_type": "code",
   "execution_count": null,
   "metadata": {
    "collapsed": true
   },
   "outputs": [],
   "source": []
  },
  {
   "cell_type": "code",
   "execution_count": null,
   "metadata": {
    "collapsed": true
   },
   "outputs": [],
   "source": []
  },
  {
   "cell_type": "code",
   "execution_count": null,
   "metadata": {},
   "outputs": [],
   "source": [
    "import matplotlib.pyplot as plt\n",
    "from matplotlib.lines import Line2D\n",
    "import os\n",
    "import numpy as np\n",
    "import scipy\n",
    "import nept\n",
    "\n",
    "from loading_data import get_data\n",
    "\n",
    "import info.r068d8 as info\n",
    "events, position, spikes, lfp, lfp_theta = get_data(info)\n",
    "\n",
    "task_times = [\"prerecord\", \"postrecord\"]\n",
    "# task_times = [\"postrecord\"]\n",
    "for task_time in task_times:\n",
    "    # parameters\n",
    "    z_thresh = 2.\n",
    "    merge_thresh = 0.01\n",
    "    min_length = 0.03\n",
    "    fs = info.fs\n",
    "    thresh = (140.0, 250.0)\n",
    "    min_involved = 4\n",
    "\n",
    "    rest_labels = [\"prerecord\", \"pauseA\", \"pauseB\", \"postrecord\"]\n",
    "    rest_starts = [info.task_times[task_label].start for task_label in rest_labels]\n",
    "    rest_stops = [info.task_times[task_label].stop for task_label in rest_labels]\n",
    "    rest_lfp = lfp.time_slice(rest_starts, rest_stops)\n",
    "\n",
    "    swrs, power, swr_zscored = nept.detect_swr_hilbert(rest_lfp, fs, thresh, z_thresh, merge_thresh=merge_thresh, min_length=min_length)\n",
    "    swrs = nept.find_multi_in_epochs(spikes, swrs, min_involved=min_involved)\n",
    "\n",
    "    swrs_i = swrs.time_slice(info.task_times[task_time].start, info.task_times[task_time].stop)\n",
    "\n",
    "    print(\"n_swrs before mua thresh:\", swrs.n_epochs)\n",
    "    sliced_lfp = lfp.time_slice(info.task_times[task_time].start, info.task_times[task_time].stop)\n",
    "\n",
    "    all_spikes = np.sort(np.concatenate([spiketrain.time for spiketrain in spikes]))\n",
    "\n",
    "    dt = 0.02\n",
    "    std = 0.01\n",
    "    bin_edges = nept.get_edges(sliced_lfp.time, dt)\n",
    "\n",
    "    convolved_spikes = np.histogram(all_spikes, bins=bin_edges)[0].astype(float)\n",
    "    convolved_spikes = nept.gaussian_filter(convolved_spikes, std=std, dt=dt)\n",
    "\n",
    "    z_spikes_thresh = 2\n",
    "    multi_unit, mua_zscored = nept.get_epoch_from_zscored_thresh(convolved_spikes, bin_edges, thresh=z_spikes_thresh)\n",
    "\n",
    "    #for plotting\n",
    "    sliced_all_spikes = all_spikes[(info.task_times[task_time].start <= all_spikes) &\n",
    "                                   (all_spikes <= info.task_times[task_time].stop)]\n",
    "    zscored = scipy.stats.zscore(convolved_spikes)\n",
    "    zthresh_idx = (np.abs(zscored - z_spikes_thresh)).argmin()\n",
    "    raw_thresh = convolved_spikes[zthresh_idx]\n",
    "\n",
    "    swrs_with_mua = multi_unit.overlaps(swrs)\n",
    "    # swrs_with_mua = swrs.overlaps(multi_unit)\n",
    "    print(\"n_swrs after mua thresh:\", swrs_with_mua.n_epochs)\n",
    "\n",
    "    # Finding epochs close to the threshold\n",
    "    zscored_lfp = nept.AnalogSignal(scipy.stats.zscore(rest_lfp.data), rest_lfp.time)\n",
    "    sliced_zscored_lfp = zscored_lfp.time_slice(info.task_times[task_time].start, info.task_times[task_time].stop)\n",
    "\n",
    "    dist_from_thresh = np.zeros(swrs_with_mua.n_epochs)\n",
    "    for i, (start, stop) in enumerate(zip(swrs_with_mua.starts, swrs_with_mua.stops)):\n",
    "        this_swr_lfp = sliced_zscored_lfp.time_slice(start, stop)\n",
    "        dist_from_thresh[i] = np.abs(z_thresh - np.max(this_swr_lfp.data))\n",
    "\n",
    "    n_near_thresh = 10\n",
    "    n_near_thresh = min(n_near_thresh, swrs_with_mua.n_epochs-1)\n",
    "    idx_near_thresh = np.argpartition(dist_from_thresh, n_near_thresh)[:n_near_thresh]\n",
    "    print(\"Mean distance of\", str(n_near_thresh), \"near thresh:\",\n",
    "          str(np.round(np.mean(dist_from_thresh[idx_near_thresh]), 3)))\n",
    "\n",
    "    fig, ax = plt.subplots()\n",
    "    plt.plot(bin_edges[:-1], convolved_spikes/(50*2000)+0.00025, \"g\")\n",
    "    plt.axhline(raw_thresh/(50*2000)+0.00025, color=\"k\")\n",
    "    plt.plot(sliced_lfp.time, sliced_lfp.data)\n",
    "    plt.plot(sliced_all_spikes, np.ones(len(sliced_all_spikes))*0.0002, \".\")\n",
    "    for start, stop in zip(swrs.starts, swrs.stops):\n",
    "        this_swr_lfp = lfp.time_slice(start, stop)\n",
    "        plt.plot(this_swr_lfp.time, this_swr_lfp.data, color=\"c\")\n",
    "    for start, stop in zip(multi_unit.starts, multi_unit.stops):\n",
    "        this_swr_lfp = lfp.time_slice(start, stop)\n",
    "        plt.plot(this_swr_lfp.time, this_swr_lfp.data, \"y\")\n",
    "    for i, (start, stop) in enumerate(zip(swrs_with_mua.starts, swrs_with_mua.stops)):\n",
    "        plt.fill_between([start, stop], np.max(lfp.data), np.min(lfp.data), color=\"#cccccc\")\n",
    "        if i in idx_near_thresh:\n",
    "            color = \"r\"\n",
    "        else:\n",
    "            color = \"b\"\n",
    "        this_swr_lfp = lfp.time_slice(start, stop)\n",
    "        plt.plot(this_swr_lfp.time, this_swr_lfp.data, color=color)\n",
    "    plt.text(0.01, 0.01, \"n_swrs: \" + str(swrs_with_mua.n_epochs), transform=ax.transAxes)\n",
    "\n",
    "    custom_lines = [Line2D([0], [0], color=\"c\", lw=2),\n",
    "                    Line2D([0], [0], color=\"y\", lw=2),\n",
    "                    Line2D([0], [0], color=\"r\", lw=2),\n",
    "                    Line2D([0], [0], color=\"#cccccc\", lw=2)]\n",
    "    ax.legend(custom_lines, ['SWRs', 'MUA', 'SWRs-MUA-near_thresh', 'SWRs-MUA'], fontsize=12)\n",
    "    plt.title(info.session_id+\" \" + task_time + \" lfp_thresh:\"+str(z_thresh)+\", mua_thresh:\"+str(z_spikes_thresh),\n",
    "              fontsize=12)\n",
    "    # plt.xlim(info.task_times[task_time].start, info.task_times[task_time].stop)\n",
    "    plt.show()\n",
    "\n",
    "\n",
    "    # plt.savefig(os.path.join(output_filepath, info.session_id+\"_check-swr-prerecord_zthresh\"+str(z_thresh)+\".png\"))\n",
    "    # plt.close()"
   ]
  },
  {
   "cell_type": "code",
   "execution_count": null,
   "metadata": {},
   "outputs": [],
   "source": [
    "plt.plot(rest_lfp.time, swr_zscored)\n",
    "plt.xlim(8600, 8650)\n",
    "plt.ylim(0, 3)\n",
    "plt.show()"
   ]
  },
  {
   "cell_type": "code",
   "execution_count": null,
   "metadata": {},
   "outputs": [],
   "source": [
    "swrs.n_epochs"
   ]
  },
  {
   "cell_type": "code",
   "execution_count": null,
   "metadata": {},
   "outputs": [],
   "source": [
    "swrs_i.n_epochs"
   ]
  },
  {
   "cell_type": "code",
   "execution_count": null,
   "metadata": {
    "collapsed": true
   },
   "outputs": [],
   "source": []
  }
 ],
 "metadata": {
  "kernelspec": {
   "display_name": "Python 3",
   "language": "python",
   "name": "python3"
  },
  "language_info": {
   "codemirror_mode": {
    "name": "ipython",
    "version": 3
   },
   "file_extension": ".py",
   "mimetype": "text/x-python",
   "name": "python",
   "nbconvert_exporter": "python",
   "pygments_lexer": "ipython3",
   "version": "3.6.5"
  },
  "toc": {
   "colors": {
    "hover_highlight": "#DAA520",
    "running_highlight": "#FF0000",
    "selected_highlight": "#FFD700"
   },
   "moveMenuLeft": true,
   "nav_menu": {
    "height": "12px",
    "width": "252px"
   },
   "navigate_menu": true,
   "number_sections": true,
   "sideBar": true,
   "threshold": 4,
   "toc_cell": false,
   "toc_section_display": "block",
   "toc_window_display": false
  }
 },
 "nbformat": 4,
 "nbformat_minor": 2
}
