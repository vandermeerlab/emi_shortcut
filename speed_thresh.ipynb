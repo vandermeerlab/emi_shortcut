{
 "cells": [
  {
   "cell_type": "code",
   "execution_count": null,
   "metadata": {
    "ExecuteTime": {
     "end_time": "2018-07-03T16:32:47.733185Z",
     "start_time": "2018-07-03T16:32:46.987613Z"
    }
   },
   "outputs": [],
   "source": [
    "%matplotlib inline\n",
    "import matplotlib.pyplot as plt\n",
    "import numpy as np\n",
    "import os\n",
    "import nept\n",
    "import scipy\n",
    "\n",
    "from loading_data import get_data\n",
    "from utils_maze import get_trials"
   ]
  },
  {
   "cell_type": "code",
   "execution_count": null,
   "metadata": {
    "ExecuteTime": {
     "end_time": "2018-07-03T16:32:47.739183Z",
     "start_time": "2018-07-03T16:32:47.735185Z"
    }
   },
   "outputs": [],
   "source": [
    "thisdir = os.getcwd()\n",
    "dataloc = os.path.join(thisdir, 'cache', 'data')\n",
    "pickle_filepath = os.path.join(thisdir, \"cache\", \"pickled\")\n",
    "output_filepath = os.path.join(thisdir, \"plots\")"
   ]
  },
  {
   "cell_type": "code",
   "execution_count": null,
   "metadata": {
    "ExecuteTime": {
     "end_time": "2018-07-03T16:32:47.781159Z",
     "start_time": "2018-07-03T16:32:47.741182Z"
    }
   },
   "outputs": [],
   "source": [
    "import info.r063d3 as info\n",
    "# import info.r067d1 as info"
   ]
  },
  {
   "cell_type": "code",
   "execution_count": null,
   "metadata": {
    "ExecuteTime": {
     "end_time": "2018-07-03T16:32:48.486755Z",
     "start_time": "2018-07-03T16:32:47.782158Z"
    }
   },
   "outputs": [],
   "source": [
    "events, position, _, _, _ = get_data(info)"
   ]
  },
  {
   "cell_type": "code",
   "execution_count": null,
   "metadata": {
    "ExecuteTime": {
     "end_time": "2018-07-03T16:32:48.521735Z",
     "start_time": "2018-07-03T16:32:48.488754Z"
    }
   },
   "outputs": [],
   "source": [
    "spd = position.speed(t_smooth=None)"
   ]
  },
  {
   "cell_type": "code",
   "execution_count": null,
   "metadata": {
    "ExecuteTime": {
     "end_time": "2018-07-03T16:32:48.708629Z",
     "start_time": "2018-07-03T16:32:48.522734Z"
    }
   },
   "outputs": [],
   "source": [
    "plt.figure()\n",
    "plt.hist(spd.data, bins=[0, 2, 4, 6, 8, 10, 15, 20, 40, 60, 80, 200])\n",
    "print(np.mean(spd.data))"
   ]
  },
  {
   "cell_type": "code",
   "execution_count": null,
   "metadata": {
    "ExecuteTime": {
     "end_time": "2018-07-03T16:32:48.788583Z",
     "start_time": "2018-07-03T16:32:48.710627Z"
    }
   },
   "outputs": [],
   "source": [
    "huh = nept.run_threshold(position, thresh=6., t_smooth=0.5)\n",
    "runs = huh.merge(gap=0.5)"
   ]
  },
  {
   "cell_type": "code",
   "execution_count": null,
   "metadata": {
    "ExecuteTime": {
     "end_time": "2018-07-03T16:33:13.516985Z",
     "start_time": "2018-07-03T16:32:48.790583Z"
    }
   },
   "outputs": [],
   "source": [
    "s = 16100\n",
    "e = 16300\n",
    "fig, ax = plt.subplots()\n",
    "ax.plot(position.time, position.y, \".\", ms=3)\n",
    "for start, stop in zip(runs.starts, runs.stops):\n",
    "    ax.fill_between([start, stop], np.max(position.y), color=\"k\", alpha=0.2)\n",
    "for start, stop in zip(huh.starts, huh.stops):\n",
    "    ax.fill_between([start, stop], np.max(position.y)/2, color=\"c\", alpha=0.3)\n",
    "plt.xlim(s, e)\n",
    "plt.show()"
   ]
  },
  {
   "cell_type": "code",
   "execution_count": null,
   "metadata": {
    "ExecuteTime": {
     "end_time": "2018-07-03T16:33:13.523980Z",
     "start_time": "2018-07-03T16:33:13.518983Z"
    }
   },
   "outputs": [],
   "source": [
    "huh.n_epochs, runs.n_epochs"
   ]
  },
  {
   "cell_type": "code",
   "execution_count": null,
   "metadata": {
    "ExecuteTime": {
     "end_time": "2018-07-03T16:36:45.965888Z",
     "start_time": "2018-07-03T16:36:45.914918Z"
    }
   },
   "outputs": [],
   "source": [
    "speed = position.speed(t_smooth=5.)"
   ]
  },
  {
   "cell_type": "code",
   "execution_count": null,
   "metadata": {
    "ExecuteTime": {
     "end_time": "2018-07-03T16:41:01.440587Z",
     "start_time": "2018-07-03T16:41:01.244619Z"
    }
   },
   "outputs": [],
   "source": [
    "plt.plot(speed.time, speed.data)\n",
    "plt.axhline(4, color=\"k\")\n",
    "plt.axhline(10, color=\"r\")\n",
    "plt.show()"
   ]
  },
  {
   "cell_type": "code",
   "execution_count": null,
   "metadata": {},
   "outputs": [],
   "source": []
  }
 ],
 "metadata": {
  "kernelspec": {
   "display_name": "Python 3",
   "language": "python",
   "name": "python3"
  },
  "language_info": {
   "codemirror_mode": {
    "name": "ipython",
    "version": 3
   },
   "file_extension": ".py",
   "mimetype": "text/x-python",
   "name": "python",
   "nbconvert_exporter": "python",
   "pygments_lexer": "ipython3",
   "version": "3.6.5"
  },
  "toc": {
   "colors": {
    "hover_highlight": "#DAA520",
    "running_highlight": "#FF0000",
    "selected_highlight": "#FFD700"
   },
   "moveMenuLeft": true,
   "nav_menu": {
    "height": "12px",
    "width": "252px"
   },
   "navigate_menu": true,
   "number_sections": true,
   "sideBar": true,
   "threshold": 4,
   "toc_cell": false,
   "toc_section_display": "block",
   "toc_window_display": false
  }
 },
 "nbformat": 4,
 "nbformat_minor": 2
}
