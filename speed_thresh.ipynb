{
 "cells": [
  {
   "cell_type": "code",
   "execution_count": null,
   "metadata": {
    "ExecuteTime": {
     "end_time": "2018-07-02T16:37:03.068529Z",
     "start_time": "2018-07-02T16:37:02.381892Z"
    }
   },
   "outputs": [],
   "source": [
    "%matplotlib inline\n",
    "import matplotlib.pyplot as plt\n",
    "import numpy as np\n",
    "import os\n",
    "import nept\n",
    "import scipy\n",
    "\n",
    "from loading_data import get_data\n",
    "from utils_maze import get_trials"
   ]
  },
  {
   "cell_type": "code",
   "execution_count": null,
   "metadata": {
    "ExecuteTime": {
     "end_time": "2018-07-02T16:37:03.074527Z",
     "start_time": "2018-07-02T16:37:03.070528Z"
    }
   },
   "outputs": [],
   "source": [
    "thisdir = os.getcwd()\n",
    "dataloc = os.path.join(thisdir, 'cache', 'data')\n",
    "pickle_filepath = os.path.join(thisdir, \"cache\", \"pickled\")\n",
    "output_filepath = os.path.join(thisdir, \"plots\")"
   ]
  },
  {
   "cell_type": "code",
   "execution_count": null,
   "metadata": {
    "ExecuteTime": {
     "end_time": "2018-07-02T16:37:03.110505Z",
     "start_time": "2018-07-02T16:37:03.075525Z"
    }
   },
   "outputs": [],
   "source": [
    "import info.r066d8 as info\n",
    "# import info.r067d1 as info"
   ]
  },
  {
   "cell_type": "code",
   "execution_count": null,
   "metadata": {
    "ExecuteTime": {
     "end_time": "2018-07-02T16:37:09.985466Z",
     "start_time": "2018-07-02T16:37:03.111505Z"
    }
   },
   "outputs": [],
   "source": [
    "events, position, _, _, _ = get_data(info)"
   ]
  },
  {
   "cell_type": "code",
   "execution_count": null,
   "metadata": {
    "ExecuteTime": {
     "end_time": "2018-07-02T16:37:10.030440Z",
     "start_time": "2018-07-02T16:37:09.987465Z"
    }
   },
   "outputs": [],
   "source": [
    "spd = position.speed(t_smooth=None)"
   ]
  },
  {
   "cell_type": "code",
   "execution_count": null,
   "metadata": {
    "ExecuteTime": {
     "end_time": "2018-07-02T16:37:10.236324Z",
     "start_time": "2018-07-02T16:37:10.031440Z"
    }
   },
   "outputs": [],
   "source": [
    "plt.figure()\n",
    "plt.hist(spd.data, bins=[0, 2, 4, 6, 8, 10, 15, 20, 40, 60, 80, 200])\n",
    "print(np.mean(spd.data))"
   ]
  },
  {
   "cell_type": "code",
   "execution_count": null,
   "metadata": {
    "ExecuteTime": {
     "end_time": "2018-07-02T16:37:10.297288Z",
     "start_time": "2018-07-02T16:37:10.238323Z"
    }
   },
   "outputs": [],
   "source": [
    "huh = nept.run_threshold(position, thresh=5., t_smooth=0.5)\n",
    "runs = huh.merge(gap=0.5)"
   ]
  },
  {
   "cell_type": "code",
   "execution_count": null,
   "metadata": {
    "ExecuteTime": {
     "end_time": "2018-07-02T16:37:37.699938Z",
     "start_time": "2018-07-02T16:37:10.298287Z"
    }
   },
   "outputs": [],
   "source": [
    "s = 16100\n",
    "e = 16300\n",
    "fig, ax = plt.subplots()\n",
    "ax.plot(position.time, position.y, \".\", ms=3)\n",
    "for start, stop in zip(runs.starts, runs.stops):\n",
    "    ax.fill_between([start, stop], np.max(position.y), color=\"k\", alpha=0.2)\n",
    "for start, stop in zip(huh.starts, huh.stops):\n",
    "    ax.fill_between([start, stop], np.max(position.y)/2, color=\"c\", alpha=0.3)\n",
    "plt.xlim(s, e)\n",
    "plt.show()"
   ]
  },
  {
   "cell_type": "code",
   "execution_count": null,
   "metadata": {
    "ExecuteTime": {
     "end_time": "2018-07-02T16:37:37.705935Z",
     "start_time": "2018-07-02T16:37:37.700938Z"
    }
   },
   "outputs": [],
   "source": [
    "huh.n_epochs, runs.n_epochs"
   ]
  },
  {
   "cell_type": "code",
   "execution_count": null,
   "metadata": {},
   "outputs": [],
   "source": []
  }
 ],
 "metadata": {
  "kernelspec": {
   "display_name": "Python 3",
   "language": "python",
   "name": "python3"
  },
  "language_info": {
   "codemirror_mode": {
    "name": "ipython",
    "version": 3
   },
   "file_extension": ".py",
   "mimetype": "text/x-python",
   "name": "python",
   "nbconvert_exporter": "python",
   "pygments_lexer": "ipython3",
   "version": "3.6.5"
  },
  "toc": {
   "colors": {
    "hover_highlight": "#DAA520",
    "running_highlight": "#FF0000",
    "selected_highlight": "#FFD700"
   },
   "moveMenuLeft": true,
   "nav_menu": {
    "height": "12px",
    "width": "252px"
   },
   "navigate_menu": true,
   "number_sections": true,
   "sideBar": true,
   "threshold": 4,
   "toc_cell": false,
   "toc_section_display": "block",
   "toc_window_display": false
  }
 },
 "nbformat": 4,
 "nbformat_minor": 2
}
