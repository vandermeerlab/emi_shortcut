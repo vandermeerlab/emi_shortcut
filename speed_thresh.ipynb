{
 "cells": [
  {
   "cell_type": "code",
   "execution_count": null,
   "metadata": {
    "ExecuteTime": {
     "end_time": "2018-07-09T15:35:29.638889Z",
     "start_time": "2018-07-09T15:35:24.728115Z"
    }
   },
   "outputs": [],
   "source": [
    "%matplotlib inline\n",
    "import matplotlib.pyplot as plt\n",
    "import numpy as np\n",
    "import os\n",
    "import nept\n",
    "import scipy\n",
    "\n",
    "from loading_data import get_data\n",
    "from utils_maze import get_trials"
   ]
  },
  {
   "cell_type": "code",
   "execution_count": null,
   "metadata": {
    "ExecuteTime": {
     "end_time": "2018-07-09T15:35:29.643887Z",
     "start_time": "2018-07-09T15:35:29.640889Z"
    }
   },
   "outputs": [],
   "source": [
    "thisdir = os.getcwd()\n",
    "dataloc = os.path.join(thisdir, 'cache', 'data')\n",
    "pickle_filepath = os.path.join(thisdir, \"cache\", \"pickled\")\n",
    "output_filepath = os.path.join(thisdir, \"plots\", \"speed\")"
   ]
  },
  {
   "cell_type": "code",
   "execution_count": null,
   "metadata": {
    "ExecuteTime": {
     "end_time": "2018-07-09T15:35:30.405823Z",
     "start_time": "2018-07-09T15:35:29.649884Z"
    }
   },
   "outputs": [],
   "source": [
    "import info.r063d3 as info\n",
    "# import info.r067d1 as info"
   ]
  },
  {
   "cell_type": "code",
   "execution_count": null,
   "metadata": {
    "ExecuteTime": {
     "end_time": "2018-07-09T15:35:31.175698Z",
     "start_time": "2018-07-09T15:35:30.406823Z"
    }
   },
   "outputs": [],
   "source": [
    "events, position, _, _, _ = get_data(info)"
   ]
  },
  {
   "cell_type": "code",
   "execution_count": null,
   "metadata": {
    "ExecuteTime": {
     "end_time": "2018-07-09T15:35:31.321615Z",
     "start_time": "2018-07-09T15:35:31.176698Z"
    }
   },
   "outputs": [],
   "source": [
    "spd = position.speed(t_smooth=None)"
   ]
  },
  {
   "cell_type": "code",
   "execution_count": null,
   "metadata": {
    "ExecuteTime": {
     "end_time": "2018-07-09T15:35:31.611450Z",
     "start_time": "2018-07-09T15:35:31.323613Z"
    }
   },
   "outputs": [],
   "source": [
    "plt.figure()\n",
    "plt.hist(spd.data, bins=[0, 2, 4, 6, 8, 10, 15, 20, 40, 60, 80, 200])\n",
    "print(np.mean(spd.data))"
   ]
  },
  {
   "cell_type": "code",
   "execution_count": null,
   "metadata": {
    "ExecuteTime": {
     "end_time": "2018-07-09T16:05:03.261767Z",
     "start_time": "2018-07-09T16:05:03.250774Z"
    }
   },
   "outputs": [],
   "source": [
    "s = nept.find_nearest_idx(position.time, info.task_times[\"phase3\"].start)\n",
    "e = nept.find_nearest_idx(position.time, info.task_times[\"phase3\"].stop)"
   ]
  },
  {
   "cell_type": "code",
   "execution_count": null,
   "metadata": {
    "ExecuteTime": {
     "end_time": "2018-07-09T16:05:03.538113Z",
     "start_time": "2018-07-09T16:05:03.522123Z"
    }
   },
   "outputs": [],
   "source": [
    "runs = nept.run_threshold(position[s:e], thresh=6., t_smooth=0.5)"
   ]
  },
  {
   "cell_type": "code",
   "execution_count": null,
   "metadata": {
    "ExecuteTime": {
     "end_time": "2018-07-09T16:06:49.075547Z",
     "start_time": "2018-07-09T16:06:44.722762Z"
    }
   },
   "outputs": [],
   "source": [
    "fig, ax = plt.subplots()\n",
    "ax.plot(position[s:e].time, position.y[s:e], \".\", ms=3)\n",
    "for start, stop in zip(runs.starts, runs.stops):\n",
    "    ax.fill_between([start, stop], np.max(position.y), color=\"k\", alpha=0.2)\n",
    "plt.xlim(6500, 6600)\n",
    "plt.show()"
   ]
  },
  {
   "cell_type": "code",
   "execution_count": null,
   "metadata": {
    "ExecuteTime": {
     "end_time": "2018-07-09T16:07:07.093745Z",
     "start_time": "2018-07-09T16:07:06.985734Z"
    }
   },
   "outputs": [],
   "source": [
    "plt.plot(position.time[s:e], position.y[s:e], \".\", ms=3)\n",
    "plt.xlim(6500, 6600)\n",
    "plt.show()"
   ]
  },
  {
   "cell_type": "code",
   "execution_count": null,
   "metadata": {
    "ExecuteTime": {
     "end_time": "2018-07-09T17:12:46.725490Z",
     "start_time": "2018-07-09T17:12:46.708501Z"
    }
   },
   "outputs": [],
   "source": [
    "speed = position[s:e].speed(t_smooth=0.5)"
   ]
  },
  {
   "cell_type": "code",
   "execution_count": null,
   "metadata": {
    "ExecuteTime": {
     "end_time": "2018-07-09T17:12:47.312411Z",
     "start_time": "2018-07-09T17:12:47.165355Z"
    }
   },
   "outputs": [],
   "source": [
    "plt.plot(position.time[s:e], position.y[s:e]*0.5, \"k.\", ms=1)\n",
    "plt.plot(speed.time, speed.data, color=\"r\")\n",
    "plt.axhline(4, color=\"g\")\n",
    "plt.axhline(10, color=\"b\")\n",
    "plt.xlim(6400, 6600)\n",
    "plt.ylim(0, 100)\n",
    "plt.show()"
   ]
  },
  {
   "cell_type": "code",
   "execution_count": null,
   "metadata": {},
   "outputs": [],
   "source": []
  },
  {
   "cell_type": "code",
   "execution_count": null,
   "metadata": {},
   "outputs": [],
   "source": []
  },
  {
   "cell_type": "code",
   "execution_count": null,
   "metadata": {
    "ExecuteTime": {
     "end_time": "2018-07-09T17:09:19.849925Z",
     "start_time": "2018-07-09T17:09:19.845928Z"
    }
   },
   "outputs": [],
   "source": [
    "times = np.array([1.0, 2.0, 3.0, 4.0, 5.0, 6.0])\n",
    "data = np.array([0.0, 0.5, 0.5, 0.5, 0.0, 0.0])\n",
    "\n",
    "pos = nept.Position(data, times)\n",
    "speed = pos.speed(t_smooth=None)"
   ]
  },
  {
   "cell_type": "code",
   "execution_count": null,
   "metadata": {
    "ExecuteTime": {
     "end_time": "2018-07-09T17:09:20.447083Z",
     "start_time": "2018-07-09T17:09:20.342407Z"
    }
   },
   "outputs": [],
   "source": [
    "plt.plot(pos.time, pos.data, color=\"k\")\n",
    "plt.plot(speed.time, speed.data, color=\"r\")\n",
    "plt.show()"
   ]
  },
  {
   "cell_type": "code",
   "execution_count": null,
   "metadata": {
    "ExecuteTime": {
     "end_time": "2018-07-09T17:09:21.267957Z",
     "start_time": "2018-07-09T17:09:21.261980Z"
    }
   },
   "outputs": [],
   "source": [
    "speed.data"
   ]
  },
  {
   "cell_type": "code",
   "execution_count": null,
   "metadata": {
    "ExecuteTime": {
     "end_time": "2018-07-09T17:09:36.089129Z",
     "start_time": "2018-07-09T17:09:36.086130Z"
    }
   },
   "outputs": [],
   "source": [
    "speed = pos[1:].distance(pos[:-1])"
   ]
  },
  {
   "cell_type": "code",
   "execution_count": null,
   "metadata": {
    "ExecuteTime": {
     "end_time": "2018-07-09T17:09:36.411392Z",
     "start_time": "2018-07-09T17:09:36.407394Z"
    }
   },
   "outputs": [],
   "source": [
    "speed /= np.diff(pos.time)\n",
    "speed = np.hstack(([0], speed))"
   ]
  },
  {
   "cell_type": "code",
   "execution_count": null,
   "metadata": {
    "ExecuteTime": {
     "end_time": "2018-07-09T17:09:37.972032Z",
     "start_time": "2018-07-09T17:09:37.966036Z"
    }
   },
   "outputs": [],
   "source": [
    "speed"
   ]
  },
  {
   "cell_type": "code",
   "execution_count": null,
   "metadata": {
    "ExecuteTime": {
     "end_time": "2018-07-09T17:09:55.155402Z",
     "start_time": "2018-07-09T17:09:55.150405Z"
    }
   },
   "outputs": [],
   "source": [
    "np.diff(pos.time)"
   ]
  },
  {
   "cell_type": "code",
   "execution_count": null,
   "metadata": {},
   "outputs": [],
   "source": []
  }
 ],
 "metadata": {
  "kernelspec": {
   "display_name": "Python 3",
   "language": "python",
   "name": "python3"
  },
  "language_info": {
   "codemirror_mode": {
    "name": "ipython",
    "version": 3
   },
   "file_extension": ".py",
   "mimetype": "text/x-python",
   "name": "python",
   "nbconvert_exporter": "python",
   "pygments_lexer": "ipython3",
   "version": "3.6.5"
  },
  "toc": {
   "colors": {
    "hover_highlight": "#DAA520",
    "running_highlight": "#FF0000",
    "selected_highlight": "#FFD700"
   },
   "moveMenuLeft": true,
   "nav_menu": {
    "height": "12px",
    "width": "252px"
   },
   "navigate_menu": true,
   "number_sections": true,
   "sideBar": true,
   "threshold": 4,
   "toc_cell": false,
   "toc_section_display": "block",
   "toc_window_display": false
  }
 },
 "nbformat": 4,
 "nbformat_minor": 2
}
