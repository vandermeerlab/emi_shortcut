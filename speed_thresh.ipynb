{
 "cells": [
  {
   "cell_type": "code",
   "execution_count": null,
   "metadata": {
    "ExecuteTime": {
     "end_time": "2018-07-16T16:10:56.482842Z",
     "start_time": "2018-07-16T16:10:55.471692Z"
    }
   },
   "outputs": [],
   "source": [
    "%matplotlib inline\n",
    "import matplotlib.pyplot as plt\n",
    "import numpy as np\n",
    "import os\n",
    "import nept\n",
    "import scipy\n",
    "\n",
    "from loading_data import get_data\n",
    "from utils_maze import get_trials"
   ]
  },
  {
   "cell_type": "code",
   "execution_count": null,
   "metadata": {
    "ExecuteTime": {
     "end_time": "2018-07-16T16:10:56.488839Z",
     "start_time": "2018-07-16T16:10:56.484841Z"
    }
   },
   "outputs": [],
   "source": [
    "thisdir = os.getcwd()\n",
    "dataloc = os.path.join(thisdir, 'cache', 'data')\n",
    "pickle_filepath = os.path.join(thisdir, \"cache\", \"pickled\")\n",
    "output_filepath = os.path.join(thisdir, \"plots\", \"speed\")"
   ]
  },
  {
   "cell_type": "code",
   "execution_count": null,
   "metadata": {
    "ExecuteTime": {
     "end_time": "2018-07-16T16:10:56.565795Z",
     "start_time": "2018-07-16T16:10:56.490838Z"
    }
   },
   "outputs": [],
   "source": [
    "import info.r066d4 as info\n",
    "# import info.r068d8 as info\n",
    "# infos = [r066d1, r068d8]\n",
    "from run import spike_sorted_infos\n",
    "# infos = spike_sorted_infos"
   ]
  },
  {
   "cell_type": "code",
   "execution_count": null,
   "metadata": {
    "ExecuteTime": {
     "end_time": "2018-07-16T16:10:57.449308Z",
     "start_time": "2018-07-16T16:10:56.855630Z"
    }
   },
   "outputs": [],
   "source": [
    "events, position, spikes, _, _ = get_data(info)\n",
    "xedges, yedges = nept.get_xyedges(position, binsize=8)"
   ]
  },
  {
   "cell_type": "code",
   "execution_count": null,
   "metadata": {
    "ExecuteTime": {
     "end_time": "2018-07-16T16:10:57.654172Z",
     "start_time": "2018-07-16T16:10:57.451290Z"
    },
    "scrolled": false
   },
   "outputs": [],
   "source": [
    "trials = get_trials(events, info.task_times[\"phase3\"])\n",
    "# for trial in trials:\n",
    "trial = trials[0]\n",
    "sliced_position = position.time_slice(trial.start, trial.stop)\n",
    "plt.plot(sliced_position.time, sliced_position.y, \"k.\", ms=4)\n",
    "plt.show()\n",
    "\n",
    "run_epoch = nept.run_threshold(sliced_position, thresh=10., t_smooth=0.8)\n",
    "sliced_position = sliced_position[run_epoch]\n",
    "\n",
    "plt.plot(sliced_position.time, sliced_position.y, \"k.\", ms=4)\n",
    "plt.show()"
   ]
  },
  {
   "cell_type": "code",
   "execution_count": null,
   "metadata": {
    "ExecuteTime": {
     "end_time": "2018-07-16T16:07:23.996344Z",
     "start_time": "2018-07-16T16:07:23.991347Z"
    }
   },
   "outputs": [],
   "source": [
    "trials[0].stop"
   ]
  },
  {
   "cell_type": "code",
   "execution_count": null,
   "metadata": {},
   "outputs": [],
   "source": []
  },
  {
   "cell_type": "code",
   "execution_count": null,
   "metadata": {},
   "outputs": [],
   "source": []
  },
  {
   "cell_type": "code",
   "execution_count": null,
   "metadata": {
    "ExecuteTime": {
     "end_time": "2018-07-16T15:00:56.142565Z",
     "start_time": "2018-07-16T15:00:56.136568Z"
    }
   },
   "outputs": [],
   "source": [
    "def gaussian_filter(signal, std, dt=1.0, normalized=True, axis=-1, n_stds=3):\n",
    "    \"\"\"Filters a signal with a gaussian kernel.\n",
    "\n",
    "    Parameters\n",
    "    ----------\n",
    "    signal : np.array\n",
    "    std : float\n",
    "    dt : float\n",
    "        Defaults to 1.0\n",
    "    normalized : bool\n",
    "    axis : int\n",
    "        Defaults to -1\n",
    "\n",
    "    Returns\n",
    "    -------\n",
    "    Filtered signal\n",
    "\n",
    "    \"\"\"\n",
    "    n_points = (n_stds * std * 2) / dt\n",
    "    n_points = int(round(n_points))\n",
    "    if n_points % 2 == 0:\n",
    "        n_points += 1\n",
    "    if n_points <= 1.0:\n",
    "        warnings.warn(\"std is too small for given dt. Signal is unchanged.\")\n",
    "        return signal\n",
    "    gaussian_filter = scipy.signal.gaussian(n_points, std / dt)\n",
    "    if normalized:\n",
    "        gaussian_filter /= np.sum(gaussian_filter)\n",
    "\n",
    "    print(gaussian_filter.shape)\n",
    "    return np.apply_along_axis(\n",
    "        lambda v: scipy.signal.convolve(v, gaussian_filter, mode=\"same\"), axis=axis, arr=signal)"
   ]
  },
  {
   "cell_type": "code",
   "execution_count": null,
   "metadata": {
    "ExecuteTime": {
     "end_time": "2018-07-16T15:01:20.734850Z",
     "start_time": "2018-07-16T15:01:20.727854Z"
    }
   },
   "outputs": [],
   "source": [
    "signal = np.array([1., 3., 7.])\n",
    "std = 1.0\n",
    "dt = 1.0\n",
    "\n",
    "gaussian_filter(signal, std, dt=dt)"
   ]
  },
  {
   "cell_type": "code",
   "execution_count": null,
   "metadata": {
    "ExecuteTime": {
     "end_time": "2018-07-16T15:01:24.284364Z",
     "start_time": "2018-07-16T15:01:24.280365Z"
    }
   },
   "outputs": [],
   "source": [
    "(3 * 1 * 2) / 1"
   ]
  },
  {
   "cell_type": "code",
   "execution_count": null,
   "metadata": {
    "ExecuteTime": {
     "end_time": "2018-07-16T15:01:24.677138Z",
     "start_time": "2018-07-16T15:01:24.672141Z"
    }
   },
   "outputs": [],
   "source": [
    "np.convolve([3, 4], [1, 1, 5, 5], mode='same')"
   ]
  },
  {
   "cell_type": "code",
   "execution_count": null,
   "metadata": {
    "ExecuteTime": {
     "end_time": "2018-07-16T15:01:25.015945Z",
     "start_time": "2018-07-16T15:01:25.010947Z"
    }
   },
   "outputs": [],
   "source": [
    "[1*4+3*1,1*4+3*5,5*4+3*5]"
   ]
  },
  {
   "cell_type": "code",
   "execution_count": null,
   "metadata": {},
   "outputs": [],
   "source": []
  },
  {
   "cell_type": "code",
   "execution_count": null,
   "metadata": {
    "ExecuteTime": {
     "end_time": "2018-07-16T14:33:15.913123Z",
     "start_time": "2018-07-16T14:33:15.904129Z"
    }
   },
   "outputs": [],
   "source": [
    "def plot_run_thresh(info, thresh, t_smooth, filepath=None):\n",
    "    events, position, _, _, _ = get_data(info)\n",
    "    speed = position.speed(t_smooth=1.)\n",
    "\n",
    "    s = nept.find_nearest_idx(position.time, info.task_times[\"pauseB\"].stop-30)\n",
    "    e = nept.find_nearest_idx(position.time, info.task_times[\"phase3\"].stop)\n",
    "\n",
    "    runs = nept.run_threshold(position, thresh=thresh, t_smooth=t_smooth)\n",
    "\n",
    "    fig, ax = plt.subplots(figsize=(8,6))\n",
    "    ax.plot(position[s:e].time, position.x[s:e], ms=3)\n",
    "    ax.plot(position[s:e].time, position.y[s:e], ms=3)\n",
    "    plt.plot(speed.time, speed.data, color=\"k\")\n",
    "    for start, stop in zip(runs.starts, runs.stops):\n",
    "        ax.fill_between([start, stop], np.max([np.max(position.x), \n",
    "                                              np.max(position.y)]), \n",
    "                        color=\"k\", alpha=0.2)\n",
    "    plt.axhline(thresh, color=\"g\")\n",
    "    plt.xlim(info.task_times[\"phase3\"].start+10, info.task_times[\"phase3\"].start+150)\n",
    "    plt.legend([\"X\", \"Y\", \"Speed\", \"thresh\"], bbox_to_anchor=(1.0, 1.0))\n",
    "    \n",
    "    plt.tight_layout()\n",
    "   \n",
    "    if filepath is not None:\n",
    "        filename = info.session_id+\"-run_thresh-\"+str(thresh)+\"-t_smooth-\"+str(t_smooth)+\".png\"\n",
    "        plt.savefig(os.path.join(filepath, filename))\n",
    "        plt.close()\n",
    "    else:\n",
    "        plt.show()"
   ]
  },
  {
   "cell_type": "code",
   "execution_count": null,
   "metadata": {
    "ExecuteTime": {
     "end_time": "2018-07-16T14:33:16.239936Z",
     "start_time": "2018-07-16T14:33:16.231940Z"
    }
   },
   "outputs": [],
   "source": [
    "def plot_rest_thresh(info, thresh, t_smooth, filepath=None):\n",
    "    print(info.session_id)\n",
    "    print(\"Thresh:\", thresh)\n",
    "    print(\"t_smooth:\", t_smooth)\n",
    "    events, position, _, _, _ = get_data(info)\n",
    "    speed = position.speed(t_smooth=1.)\n",
    "\n",
    "    s = nept.find_nearest_idx(position.time, info.task_times[\"pauseB\"].stop-30)\n",
    "    e = nept.find_nearest_idx(position.time, info.task_times[\"phase3\"].stop)\n",
    "\n",
    "    runs = nept.rest_threshold(position, thresh=thresh, t_smooth=t_smooth)\n",
    "\n",
    "    fig, ax = plt.subplots(figsize=(8,6))\n",
    "    ax.plot(position[s:e].time, position.x[s:e], ms=3)\n",
    "    ax.plot(position[s:e].time, position.y[s:e], ms=3)\n",
    "    plt.plot(speed.time, speed.data, color=\"k\")\n",
    "    for start, stop in zip(runs.starts, runs.stops):\n",
    "        ax.fill_between([start, stop], np.max([np.max(position.x), \n",
    "                                              np.max(position.y)]), \n",
    "                        color=\"k\", alpha=0.2)\n",
    "    plt.axhline(thresh, color=\"g\")\n",
    "    plt.xlim(info.task_times[\"phase3\"].start+10, info.task_times[\"phase3\"].start+150)\n",
    "    plt.legend([\"X\", \"Y\", \"Speed\", \"thresh\"], bbox_to_anchor=(1.0, 0.9))\n",
    "    \n",
    "    plt.tight_layout()\n",
    "    \n",
    "    if filepath is not None:\n",
    "        filename = info.session_id+\"-rest_thresh-\"+str(thresh)+\"-t_smooth-\"+str(t_smooth)+\".png\"\n",
    "        plt.savefig(os.path.join(filepath, filename))\n",
    "        plt.close()\n",
    "    else:\n",
    "        plt.show()"
   ]
  },
  {
   "cell_type": "code",
   "execution_count": null,
   "metadata": {
    "ExecuteTime": {
     "end_time": "2018-07-16T14:36:58.703725Z",
     "start_time": "2018-07-16T14:33:47.464698Z"
    },
    "scrolled": true
   },
   "outputs": [],
   "source": [
    "for info in infos:\n",
    "    plot_rest_thresh(info, thresh=12., t_smooth=0.8, filepath=output_filepath)"
   ]
  },
  {
   "cell_type": "code",
   "execution_count": null,
   "metadata": {
    "ExecuteTime": {
     "end_time": "2018-07-16T14:40:46.743808Z",
     "start_time": "2018-07-16T14:36:58.705724Z"
    },
    "scrolled": false
   },
   "outputs": [],
   "source": [
    "for info in infos:\n",
    "    plot_run_thresh(info, thresh=10., t_smooth=0.8, filepath=output_filepath)"
   ]
  },
  {
   "cell_type": "code",
   "execution_count": null,
   "metadata": {},
   "outputs": [],
   "source": []
  },
  {
   "cell_type": "code",
   "execution_count": null,
   "metadata": {},
   "outputs": [],
   "source": []
  }
 ],
 "metadata": {
  "kernelspec": {
   "display_name": "Python 3",
   "language": "python",
   "name": "python3"
  },
  "language_info": {
   "codemirror_mode": {
    "name": "ipython",
    "version": 3
   },
   "file_extension": ".py",
   "mimetype": "text/x-python",
   "name": "python",
   "nbconvert_exporter": "python",
   "pygments_lexer": "ipython3",
   "version": "3.6.5"
  },
  "toc": {
   "colors": {
    "hover_highlight": "#DAA520",
    "running_highlight": "#FF0000",
    "selected_highlight": "#FFD700"
   },
   "moveMenuLeft": true,
   "nav_menu": {
    "height": "12px",
    "width": "252px"
   },
   "navigate_menu": true,
   "number_sections": true,
   "sideBar": true,
   "threshold": 4,
   "toc_cell": false,
   "toc_section_display": "block",
   "toc_window_display": false
  }
 },
 "nbformat": 4,
 "nbformat_minor": 2
}
