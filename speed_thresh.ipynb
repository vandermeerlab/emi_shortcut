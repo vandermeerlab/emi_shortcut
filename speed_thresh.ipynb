{
 "cells": [
  {
   "cell_type": "code",
   "execution_count": null,
   "metadata": {
    "ExecuteTime": {
     "end_time": "2018-07-10T15:41:01.411106Z",
     "start_time": "2018-07-10T15:41:00.699910Z"
    }
   },
   "outputs": [],
   "source": [
    "%matplotlib inline\n",
    "import matplotlib.pyplot as plt\n",
    "import numpy as np\n",
    "import os\n",
    "import nept\n",
    "import scipy\n",
    "\n",
    "from loading_data import get_data\n",
    "from utils_maze import get_trials"
   ]
  },
  {
   "cell_type": "code",
   "execution_count": null,
   "metadata": {
    "ExecuteTime": {
     "end_time": "2018-07-10T15:41:01.417923Z",
     "start_time": "2018-07-10T15:41:01.411106Z"
    }
   },
   "outputs": [],
   "source": [
    "thisdir = os.getcwd()\n",
    "dataloc = os.path.join(thisdir, 'cache', 'data')\n",
    "pickle_filepath = os.path.join(thisdir, \"cache\", \"pickled\")\n",
    "output_filepath = os.path.join(thisdir, \"plots\", \"speed\")"
   ]
  },
  {
   "cell_type": "code",
   "execution_count": null,
   "metadata": {
    "ExecuteTime": {
     "end_time": "2018-07-10T16:09:15.402089Z",
     "start_time": "2018-07-10T16:09:15.397092Z"
    }
   },
   "outputs": [],
   "source": [
    "import info.r068d8 as info\n",
    "infos = [info]\n",
    "from run import spike_sorted_infos\n",
    "# infos = spike_sorted_infos"
   ]
  },
  {
   "cell_type": "code",
   "execution_count": null,
   "metadata": {
    "ExecuteTime": {
     "end_time": "2018-07-10T17:19:10.508715Z",
     "start_time": "2018-07-10T17:19:10.500702Z"
    }
   },
   "outputs": [],
   "source": [
    "def plot_speed_thresh(thresh, t_smooth):\n",
    "    events, position, _, _, _ = get_data(info)\n",
    "    speed = position.speed(t_smooth=1.)\n",
    "\n",
    "    s = nept.find_nearest_idx(position.time, info.task_times[\"pauseB\"].stop-30)\n",
    "    e = nept.find_nearest_idx(position.time, info.task_times[\"phase3\"].stop)\n",
    "\n",
    "    runs = nept.run_threshold(position, thresh=thresh, t_smooth=t_smooth)\n",
    "\n",
    "    fig, ax = plt.subplots()\n",
    "    ax.plot(position[s:e].time, position.x[s:e], \".\", ms=3)\n",
    "    ax.plot(position[s:e].time, position.y[s:e], \".\", ms=3)\n",
    "    plt.plot(speed.time, speed.data, color=\"k\")\n",
    "    for start, stop in zip(runs.starts, runs.stops):\n",
    "        ax.fill_between([start, stop], np.max([np.max(position.x), \n",
    "                                              np.max(position.y)]), \n",
    "                        color=\"k\", alpha=0.2)\n",
    "    plt.axhline(thresh, color=\"g\")\n",
    "    plt.xlim(6500, 6800)\n",
    "    plt.show()"
   ]
  },
  {
   "cell_type": "code",
   "execution_count": null,
   "metadata": {
    "ExecuteTime": {
     "end_time": "2018-07-10T17:19:12.418990Z",
     "start_time": "2018-07-10T17:19:10.884661Z"
    }
   },
   "outputs": [],
   "source": [
    "plot_speed_thresh(thresh=15., t_smooth=1.)"
   ]
  },
  {
   "cell_type": "code",
   "execution_count": null,
   "metadata": {
    "ExecuteTime": {
     "end_time": "2018-07-10T17:32:41.660139Z",
     "start_time": "2018-07-10T17:32:38.942673Z"
    }
   },
   "outputs": [],
   "source": [
    "plot_speed_thresh(thresh=10., t_smooth=0.5)"
   ]
  },
  {
   "cell_type": "code",
   "execution_count": null,
   "metadata": {
    "ExecuteTime": {
     "end_time": "2018-07-10T17:19:16.475407Z",
     "start_time": "2018-07-10T17:19:14.313320Z"
    }
   },
   "outputs": [],
   "source": [
    "plot_speed_thresh(thresh=5., t_smooth=1.)"
   ]
  },
  {
   "cell_type": "code",
   "execution_count": null,
   "metadata": {},
   "outputs": [],
   "source": []
  },
  {
   "cell_type": "code",
   "execution_count": null,
   "metadata": {},
   "outputs": [],
   "source": []
  },
  {
   "cell_type": "code",
   "execution_count": null,
   "metadata": {},
   "outputs": [],
   "source": []
  },
  {
   "cell_type": "code",
   "execution_count": null,
   "metadata": {},
   "outputs": [],
   "source": []
  },
  {
   "cell_type": "code",
   "execution_count": null,
   "metadata": {
    "ExecuteTime": {
     "end_time": "2018-07-10T16:31:50.857273Z",
     "start_time": "2018-07-10T16:31:50.723927Z"
    }
   },
   "outputs": [],
   "source": [
    "plt.figure()\n",
    "plt.hist(speed.data, bins=[0, 2, 4, 6, 8, 10, 15, 20, 40, 60, 80, 200])\n",
    "print(np.mean(speed.data))"
   ]
  },
  {
   "cell_type": "code",
   "execution_count": null,
   "metadata": {},
   "outputs": [],
   "source": []
  },
  {
   "cell_type": "code",
   "execution_count": null,
   "metadata": {},
   "outputs": [],
   "source": []
  }
 ],
 "metadata": {
  "kernelspec": {
   "display_name": "Python 3",
   "language": "python",
   "name": "python3"
  },
  "language_info": {
   "codemirror_mode": {
    "name": "ipython",
    "version": 3
   },
   "file_extension": ".py",
   "mimetype": "text/x-python",
   "name": "python",
   "nbconvert_exporter": "python",
   "pygments_lexer": "ipython3",
   "version": "3.6.5"
  },
  "toc": {
   "colors": {
    "hover_highlight": "#DAA520",
    "running_highlight": "#FF0000",
    "selected_highlight": "#FFD700"
   },
   "moveMenuLeft": true,
   "nav_menu": {
    "height": "12px",
    "width": "252px"
   },
   "navigate_menu": true,
   "number_sections": true,
   "sideBar": true,
   "threshold": 4,
   "toc_cell": false,
   "toc_section_display": "block",
   "toc_window_display": false
  }
 },
 "nbformat": 4,
 "nbformat_minor": 2
}
