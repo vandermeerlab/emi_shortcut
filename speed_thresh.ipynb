{
 "cells": [
  {
   "cell_type": "code",
   "execution_count": null,
   "metadata": {
    "collapsed": true
   },
   "outputs": [],
   "source": [
    "%matplotlib inline\n",
    "import matplotlib.pyplot as plt\n",
    "import numpy as np\n",
    "import os\n",
    "import nept\n",
    "import scipy\n",
    "\n",
    "from loading_data import get_data\n",
    "from utils_maze import get_trials"
   ]
  },
  {
   "cell_type": "code",
   "execution_count": null,
   "metadata": {
    "collapsed": true
   },
   "outputs": [],
   "source": [
    "thisdir = os.getcwd()\n",
    "dataloc = os.path.join(thisdir, 'cache', 'data')\n",
    "pickle_filepath = os.path.join(thisdir, \"cache\", \"pickled\")\n",
    "output_filepath = os.path.join(thisdir, \"plots\")"
   ]
  },
  {
   "cell_type": "code",
   "execution_count": null,
   "metadata": {
    "collapsed": true
   },
   "outputs": [],
   "source": [
    "import info.r066d8 as info\n",
    "# import info.r067d1 as info"
   ]
  },
  {
   "cell_type": "code",
   "execution_count": null,
   "metadata": {
    "collapsed": true
   },
   "outputs": [],
   "source": [
    "events, position, _, _, _ = get_data(info)"
   ]
  },
  {
   "cell_type": "code",
   "execution_count": null,
   "metadata": {
    "collapsed": true
   },
   "outputs": [],
   "source": [
    "def speed(self, t_smooth=None):\n",
    "    \"\"\"Finds the speed of the animal from position.\n",
    "\n",
    "    Parameters\n",
    "    ----------\n",
    "    pos : nept.Position\n",
    "    t_smooth : float or None\n",
    "        Range over which smoothing occurs in seconds.\n",
    "        Default is None (no smoothing).\n",
    "\n",
    "    Returns\n",
    "    -------\n",
    "    speed : nept.AnalogSignal\n",
    "    \"\"\"\n",
    "    pos = self\n",
    "    dt = np.median(np.diff(pos.time))\n",
    "    \n",
    "    if t_smooth is not None:\n",
    "        filt_length = np.ceil(t_smooth / dt)\n",
    "        filt = np.ones(int(filt_length)) / filt_length\n",
    "        x = np.convolve(pos.x, filt, 'same')\n",
    "        y = np.convolve(pos.y, filt, 'same')\n",
    "        pos = nept.Position(np.vstack([x, y]), pos.time)\n",
    "    \n",
    "    speed = pos[1:].distance(pos[:-1])\n",
    "    \n",
    "    plt.figure()\n",
    "    plt.hist(speed, bins=[0, 0.5, 1, 1.5, 2, 3, 4, 20, 100])\n",
    "    print(np.mean(speed))\n",
    "    \n",
    "    speed /= np.diff(pos.time)\n",
    "    speed = np.hstack(([0], speed))\n",
    "    \n",
    "    plt.figure()\n",
    "    plt.hist(speed, bins=[0, 2, 4, 6, 8, 10, 15, 20, 40, 60, 80, 200])\n",
    "    print(np.mean(speed))\n",
    "\n",
    "#     plt.figure()\n",
    "#     plt.plot(pos.time, speed)\n",
    "#     plt.axhline(4, color='c')\n",
    "    \n",
    "#     plt.figure()\n",
    "#     plt.hist(speed, bins=[0, 2, 4, 6, 8, 10, 15, 20, 40, 60, 80, 200])\n",
    "#     print(np.mean(speed))\n",
    "    \n",
    "    plt.figure()\n",
    "    plt.plot(pos.time, speed)\n",
    "    plt.axhline(4, color='c')\n",
    "    \n",
    "    return nept.AnalogSignal(speed, pos.time)"
   ]
  },
  {
   "cell_type": "code",
   "execution_count": null,
   "metadata": {},
   "outputs": [],
   "source": [
    "spd = position.speed(t_smooth=None)"
   ]
  },
  {
   "cell_type": "code",
   "execution_count": null,
   "metadata": {},
   "outputs": [],
   "source": [
    "plt.figure()\n",
    "plt.hist(spd.data, bins=[0, 2, 4, 6, 8, 10, 15, 20, 40, 60, 80, 200])\n",
    "print(np.mean(spd.data))"
   ]
  },
  {
   "cell_type": "code",
   "execution_count": null,
   "metadata": {},
   "outputs": [],
   "source": [
    "huh = nept.run_threshold(position, thresh=5., t_smooth=0.5)\n",
    "runs = huh.merge(gap=0.5)"
   ]
  },
  {
   "cell_type": "code",
   "execution_count": null,
   "metadata": {},
   "outputs": [],
   "source": [
    "s = 16100\n",
    "e = 16300\n",
    "fig, ax = plt.subplots()\n",
    "ax.plot(position.time, position.y, \".\", ms=3)\n",
    "for start, stop in zip(runs.starts, runs.stops):\n",
    "    ax.fill_between([start, stop], np.max(position.y), color=\"k\", alpha=0.2)\n",
    "for start, stop in zip(huh.starts, huh.stops):\n",
    "    ax.fill_between([start, stop], np.max(position.y)/2, color=\"c\", alpha=0.3)\n",
    "plt.xlim(s, e)\n",
    "plt.show()"
   ]
  },
  {
   "cell_type": "code",
   "execution_count": null,
   "metadata": {},
   "outputs": [],
   "source": [
    "huh.n_epochs, runs.n_epochs"
   ]
  },
  {
   "cell_type": "code",
   "execution_count": null,
   "metadata": {
    "collapsed": true
   },
   "outputs": [],
   "source": []
  }
 ],
 "metadata": {
  "kernelspec": {
   "display_name": "Python 3",
   "language": "python",
   "name": "python3"
  },
  "language_info": {
   "codemirror_mode": {
    "name": "ipython",
    "version": 3
   },
   "file_extension": ".py",
   "mimetype": "text/x-python",
   "name": "python",
   "nbconvert_exporter": "python",
   "pygments_lexer": "ipython3",
   "version": "3.6.5"
  }
 },
 "nbformat": 4,
 "nbformat_minor": 2
}
