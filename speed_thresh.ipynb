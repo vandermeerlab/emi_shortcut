{
 "cells": [
  {
   "cell_type": "code",
   "execution_count": null,
   "metadata": {
    "ExecuteTime": {
     "end_time": "2018-07-10T15:41:01.411106Z",
     "start_time": "2018-07-10T15:41:00.699910Z"
    },
    "collapsed": true
   },
   "outputs": [],
   "source": [
    "%matplotlib inline\n",
    "import matplotlib.pyplot as plt\n",
    "import numpy as np\n",
    "import os\n",
    "import nept\n",
    "import scipy\n",
    "\n",
    "from loading_data import get_data\n",
    "from utils_maze import get_trials"
   ]
  },
  {
   "cell_type": "code",
   "execution_count": null,
   "metadata": {
    "ExecuteTime": {
     "end_time": "2018-07-10T15:41:01.417923Z",
     "start_time": "2018-07-10T15:41:01.411106Z"
    },
    "collapsed": true
   },
   "outputs": [],
   "source": [
    "thisdir = os.getcwd()\n",
    "dataloc = os.path.join(thisdir, 'cache', 'data')\n",
    "pickle_filepath = os.path.join(thisdir, \"cache\", \"pickled\")\n",
    "output_filepath = os.path.join(thisdir, \"plots\", \"speed\")"
   ]
  },
  {
   "cell_type": "code",
   "execution_count": null,
   "metadata": {
    "ExecuteTime": {
     "end_time": "2018-07-10T16:09:15.402089Z",
     "start_time": "2018-07-10T16:09:15.397092Z"
    },
    "collapsed": true
   },
   "outputs": [],
   "source": [
    "import info.r068d7 as r068d7\n",
    "import info.r068d8 as r068d8\n",
    "# infos = [r068d7, r068d8]\n",
    "from run import spike_sorted_infos\n",
    "infos = spike_sorted_infos"
   ]
  },
  {
   "cell_type": "code",
   "execution_count": null,
   "metadata": {
    "ExecuteTime": {
     "end_time": "2018-07-10T17:19:10.508715Z",
     "start_time": "2018-07-10T17:19:10.500702Z"
    },
    "collapsed": true
   },
   "outputs": [],
   "source": [
    "def plot_run_thresh(info, thresh, t_smooth, filepath=None):\n",
    "    events, position, _, _, _ = get_data(info)\n",
    "    speed = position.speed(t_smooth=1.)\n",
    "\n",
    "    s = nept.find_nearest_idx(position.time, info.task_times[\"pauseB\"].stop-30)\n",
    "    e = nept.find_nearest_idx(position.time, info.task_times[\"phase3\"].stop)\n",
    "\n",
    "    runs = nept.run_threshold(position, thresh=thresh, t_smooth=t_smooth)\n",
    "\n",
    "    fig, ax = plt.subplots(figsize=(8,6))\n",
    "    ax.plot(position[s:e].time, position.x[s:e], ms=3)\n",
    "    ax.plot(position[s:e].time, position.y[s:e], ms=3)\n",
    "    plt.plot(speed.time, speed.data, color=\"k\")\n",
    "    for start, stop in zip(runs.starts, runs.stops):\n",
    "        ax.fill_between([start, stop], np.max([np.max(position.x), \n",
    "                                              np.max(position.y)]), \n",
    "                        color=\"k\", alpha=0.2)\n",
    "    plt.axhline(thresh, color=\"g\")\n",
    "    plt.xlim(info.task_times[\"phase3\"].start+10, info.task_times[\"phase3\"].start+150)\n",
    "    plt.legend([\"X\", \"Y\", \"Speed\", \"thresh\"], bbox_to_anchor=(1.0, 1.0))\n",
    "    \n",
    "    plt.tight_layout()\n",
    "   \n",
    "    if filepath is not None:\n",
    "        filename = info.session_id+\"-run_thresh-\"+str(thresh)+\"-t_smooth-\"+str(t_smooth)+\".png\"\n",
    "        plt.savefig(os.path.join(filepath, filename))\n",
    "        plt.close()\n",
    "    else:\n",
    "        plt.show()"
   ]
  },
  {
   "cell_type": "code",
   "execution_count": null,
   "metadata": {
    "collapsed": true
   },
   "outputs": [],
   "source": [
    "def plot_rest_thresh(info, thresh, t_smooth, filepath=None):\n",
    "    print(info.session_id)\n",
    "    print(\"Thresh:\", thresh)\n",
    "    print(\"t_smooth:\", t_smooth)\n",
    "    events, position, _, _, _ = get_data(info)\n",
    "    speed = position.speed(t_smooth=1.)\n",
    "\n",
    "    s = nept.find_nearest_idx(position.time, info.task_times[\"pauseB\"].stop-30)\n",
    "    e = nept.find_nearest_idx(position.time, info.task_times[\"phase3\"].stop)\n",
    "\n",
    "    runs = nept.rest_threshold(position, thresh=thresh, t_smooth=t_smooth)\n",
    "\n",
    "    fig, ax = plt.subplots(figsize=(8,6))\n",
    "    ax.plot(position[s:e].time, position.x[s:e], ms=3)\n",
    "    ax.plot(position[s:e].time, position.y[s:e], ms=3)\n",
    "    plt.plot(speed.time, speed.data, color=\"k\")\n",
    "    for start, stop in zip(runs.starts, runs.stops):\n",
    "        ax.fill_between([start, stop], np.max([np.max(position.x), \n",
    "                                              np.max(position.y)]), \n",
    "                        color=\"k\", alpha=0.2)\n",
    "    plt.axhline(thresh, color=\"g\")\n",
    "    plt.xlim(info.task_times[\"phase3\"].start+10, info.task_times[\"phase3\"].start+150)\n",
    "    plt.legend([\"X\", \"Y\", \"Speed\", \"thresh\"], bbox_to_anchor=(1.0, 0.9))\n",
    "    \n",
    "    plt.tight_layout()\n",
    "    \n",
    "    if filepath is not None:\n",
    "        filename = info.session_id+\"-rest_thresh-\"+str(thresh)+\"-t_smooth-\"+str(t_smooth)+\".png\"\n",
    "        plt.savefig(os.path.join(filepath, filename))\n",
    "        plt.close()\n",
    "    else:\n",
    "        plt.show()"
   ]
  },
  {
   "cell_type": "code",
   "execution_count": null,
   "metadata": {
    "scrolled": false
   },
   "outputs": [],
   "source": [
    "for info in infos:\n",
    "    plot_rest_thresh(info, thresh=12., t_smooth=0.8, filepath=output_filepath)"
   ]
  },
  {
   "cell_type": "code",
   "execution_count": null,
   "metadata": {
    "ExecuteTime": {
     "end_time": "2018-07-10T17:19:12.418990Z",
     "start_time": "2018-07-10T17:19:10.884661Z"
    },
    "scrolled": false
   },
   "outputs": [],
   "source": [
    "for info in infos:\n",
    "    plot_run_thresh(info, thresh=10., t_smooth=0.8, filepath=output_filepath)"
   ]
  },
  {
   "cell_type": "code",
   "execution_count": null,
   "metadata": {
    "collapsed": true
   },
   "outputs": [],
   "source": []
  },
  {
   "cell_type": "code",
   "execution_count": null,
   "metadata": {
    "collapsed": true
   },
   "outputs": [],
   "source": []
  },
  {
   "cell_type": "code",
   "execution_count": null,
   "metadata": {
    "collapsed": true
   },
   "outputs": [],
   "source": [
    "from matplotlib import animation, rc\n",
    "from IPython.display import HTML"
   ]
  },
  {
   "cell_type": "code",
   "execution_count": null,
   "metadata": {},
   "outputs": [],
   "source": [
    "events, position, _, _, _ = get_data(info)\n",
    "xedges, yedges = nept.get_xyedges(position, binsize=8)\n",
    "start = nept.find_nearest_idx(position.time, info.task_times[\"phase3\"].start)\n",
    "position = position[start:start+400]"
   ]
  },
  {
   "cell_type": "code",
   "execution_count": null,
   "metadata": {},
   "outputs": [],
   "source": [
    "plt.plot(position.time, position.y, \"k.\")\n",
    "plt.show()"
   ]
  },
  {
   "cell_type": "code",
   "execution_count": null,
   "metadata": {},
   "outputs": [],
   "source": [
    "runs = nept.run_threshold(position, thresh=10., t_smooth=0.5)\n",
    "running = position[runs]"
   ]
  },
  {
   "cell_type": "code",
   "execution_count": null,
   "metadata": {},
   "outputs": [],
   "source": [
    "fig = plt.figure(figsize=(12, 10))\n",
    "\n",
    "ax1 = plt.subplot()\n",
    "\n",
    "xx, yy = np.meshgrid(xedges, yedges)\n",
    "\n",
    "ax1.plot(position.x, position.y, \"y.\")\n",
    "\n",
    "pad_amount = 5\n",
    "ax1.set_xlim((np.floor(np.min(position.x))-pad_amount, np.ceil(np.max(position.x))+pad_amount))\n",
    "ax1.set_ylim((np.floor(np.min(position.y))-pad_amount, np.ceil(np.max(position.y))+pad_amount))\n",
    "\n",
    "n_timebins = running.n_samples\n",
    "\n",
    "running_position, = ax1.plot([], [], \"<\", color=\"r\")\n",
    "rat_position, = ax1.plot([], [], \"<\", color=\"b\")\n",
    "\n",
    "fig.tight_layout()\n",
    "\n",
    "\n",
    "def init():\n",
    "    running_position.set_data([], [])\n",
    "    rat_position.set_data([], [])\n",
    "    return (running_position, rat_position)\n",
    "\n",
    "\n",
    "def animate(i):\n",
    "    running_position.set_data(running.x[i], running.y[i])\n",
    "    rat_position.set_data(position.x[i], position.y[i])\n",
    "\n",
    "    return (running_position, rat_position)\n",
    "\n",
    "anim = animation.FuncAnimation(fig, animate, frames=n_timebins, interval=80, \n",
    "                               blit=False, repeat=False)"
   ]
  },
  {
   "cell_type": "code",
   "execution_count": null,
   "metadata": {},
   "outputs": [],
   "source": [
    "HTML(anim.to_html5_video())"
   ]
  },
  {
   "cell_type": "code",
   "execution_count": null,
   "metadata": {
    "collapsed": true
   },
   "outputs": [],
   "source": []
  },
  {
   "cell_type": "code",
   "execution_count": null,
   "metadata": {
    "collapsed": true
   },
   "outputs": [],
   "source": []
  }
 ],
 "metadata": {
  "kernelspec": {
   "display_name": "Python 3",
   "language": "python",
   "name": "python3"
  },
  "language_info": {
   "codemirror_mode": {
    "name": "ipython",
    "version": 3
   },
   "file_extension": ".py",
   "mimetype": "text/x-python",
   "name": "python",
   "nbconvert_exporter": "python",
   "pygments_lexer": "ipython3",
   "version": "3.6.5"
  },
  "toc": {
   "colors": {
    "hover_highlight": "#DAA520",
    "running_highlight": "#FF0000",
    "selected_highlight": "#FFD700"
   },
   "moveMenuLeft": true,
   "nav_menu": {
    "height": "12px",
    "width": "252px"
   },
   "navigate_menu": true,
   "number_sections": true,
   "sideBar": true,
   "threshold": 4,
   "toc_cell": false,
   "toc_section_display": "block",
   "toc_window_display": false
  }
 },
 "nbformat": 4,
 "nbformat_minor": 2
}
