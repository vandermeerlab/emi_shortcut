{
 "cells": [
  {
   "cell_type": "code",
   "execution_count": null,
   "metadata": {
    "ExecuteTime": {
     "end_time": "2018-07-09T15:35:29.638889Z",
     "start_time": "2018-07-09T15:35:24.728115Z"
    },
    "collapsed": true
   },
   "outputs": [],
   "source": [
    "%matplotlib inline\n",
    "import matplotlib.pyplot as plt\n",
    "import numpy as np\n",
    "import os\n",
    "import nept\n",
    "import scipy\n",
    "\n",
    "from loading_data import get_data\n",
    "from utils_maze import get_trials"
   ]
  },
  {
   "cell_type": "code",
   "execution_count": null,
   "metadata": {
    "ExecuteTime": {
     "end_time": "2018-07-09T15:35:29.643887Z",
     "start_time": "2018-07-09T15:35:29.640889Z"
    },
    "collapsed": true
   },
   "outputs": [],
   "source": [
    "thisdir = os.getcwd()\n",
    "dataloc = os.path.join(thisdir, 'cache', 'data')\n",
    "pickle_filepath = os.path.join(thisdir, \"cache\", \"pickled\")\n",
    "output_filepath = os.path.join(thisdir, \"plots\", \"speed\")"
   ]
  },
  {
   "cell_type": "code",
   "execution_count": null,
   "metadata": {
    "ExecuteTime": {
     "end_time": "2018-07-09T15:35:30.405823Z",
     "start_time": "2018-07-09T15:35:29.649884Z"
    },
    "collapsed": true
   },
   "outputs": [],
   "source": [
    "import info.r068d8 as info\n",
    "from run import spike_sorted_infos\n",
    "infos = spike_sorted_infos"
   ]
  },
  {
   "cell_type": "code",
   "execution_count": null,
   "metadata": {
    "ExecuteTime": {
     "end_time": "2018-07-09T16:06:49.075547Z",
     "start_time": "2018-07-09T16:06:44.722762Z"
    },
    "scrolled": false
   },
   "outputs": [],
   "source": [
    "for info in  infos:\n",
    "    print(info.session_id)\n",
    "    events, position, _, _, _ = get_data(info)\n",
    "    speed = position.speed(t_smooth=1.)\n",
    "\n",
    "    s = nept.find_nearest_idx(position.time, info.task_times[\"pauseB\"].stop-30)\n",
    "    e = nept.find_nearest_idx(position.time, info.task_times[\"phase3\"].stop)\n",
    "\n",
    "    runs = nept.run_threshold(position, thresh=15., t_smooth=1.)\n",
    "\n",
    "    fig, ax = plt.subplots()\n",
    "    ax.plot(position[s:e].time, position.x[s:e], \".\", ms=3)\n",
    "    plt.plot(speed.time, speed.data, color=\"r\")\n",
    "    for start, stop in zip(runs.starts, runs.stops):\n",
    "        ax.fill_between([start, stop], np.max(position.y), color=\"k\", alpha=0.2)\n",
    "    plt.axhline(4, color=\"g\")\n",
    "    plt.axhline(10, color=\"b\")\n",
    "    plt.xlim(6500, 7000)\n",
    "    plt.show()"
   ]
  },
  {
   "cell_type": "code",
   "execution_count": null,
   "metadata": {
    "collapsed": true
   },
   "outputs": [],
   "source": []
  },
  {
   "cell_type": "code",
   "execution_count": null,
   "metadata": {
    "collapsed": true
   },
   "outputs": [],
   "source": []
  },
  {
   "cell_type": "code",
   "execution_count": null,
   "metadata": {
    "ExecuteTime": {
     "end_time": "2018-07-09T15:35:31.611450Z",
     "start_time": "2018-07-09T15:35:31.323613Z"
    }
   },
   "outputs": [],
   "source": [
    "plt.figure()\n",
    "plt.hist(speed.data, bins=[0, 2, 4, 6, 8, 10, 15, 20, 40, 60, 80, 200])\n",
    "print(np.mean(spd.data))"
   ]
  },
  {
   "cell_type": "code",
   "execution_count": null,
   "metadata": {
    "collapsed": true
   },
   "outputs": [],
   "source": []
  },
  {
   "cell_type": "code",
   "execution_count": null,
   "metadata": {
    "collapsed": true
   },
   "outputs": [],
   "source": []
  }
 ],
 "metadata": {
  "kernelspec": {
   "display_name": "Python 3",
   "language": "python",
   "name": "python3"
  },
  "language_info": {
   "codemirror_mode": {
    "name": "ipython",
    "version": 3
   },
   "file_extension": ".py",
   "mimetype": "text/x-python",
   "name": "python",
   "nbconvert_exporter": "python",
   "pygments_lexer": "ipython3",
   "version": "3.6.5"
  },
  "toc": {
   "colors": {
    "hover_highlight": "#DAA520",
    "running_highlight": "#FF0000",
    "selected_highlight": "#FFD700"
   },
   "moveMenuLeft": true,
   "nav_menu": {
    "height": "12px",
    "width": "252px"
   },
   "navigate_menu": true,
   "number_sections": true,
   "sideBar": true,
   "threshold": 4,
   "toc_cell": false,
   "toc_section_display": "block",
   "toc_window_display": false
  }
 },
 "nbformat": 4,
 "nbformat_minor": 2
}
