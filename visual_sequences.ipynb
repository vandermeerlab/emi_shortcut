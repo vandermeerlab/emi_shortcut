{
 "cells": [
  {
   "cell_type": "code",
   "execution_count": null,
   "metadata": {
    "ExecuteTime": {
     "end_time": "2017-08-09T10:13:34.887717",
     "start_time": "2017-08-09T10:13:33.936040"
    },
    "collapsed": true
   },
   "outputs": [],
   "source": [
    "%matplotlib inline\n",
    "import matplotlib.pyplot as plt\n",
    "import numpy as np\n",
    "import pickle\n",
    "import os\n",
    "import nept\n",
    "\n",
    "from loading_data import get_data"
   ]
  },
  {
   "cell_type": "code",
   "execution_count": null,
   "metadata": {
    "ExecuteTime": {
     "end_time": "2017-08-09T10:13:34.920740",
     "start_time": "2017-08-09T10:13:34.888718"
    },
    "collapsed": true
   },
   "outputs": [],
   "source": [
    "import info.r066d1 as info"
   ]
  },
  {
   "cell_type": "code",
   "execution_count": null,
   "metadata": {
    "ExecuteTime": {
     "end_time": "2017-08-09T10:13:34.926745",
     "start_time": "2017-08-09T10:13:34.922742"
    },
    "collapsed": true
   },
   "outputs": [],
   "source": [
    "# home = os.path.expanduser(\"~\")\n",
    "home = \"E:/\"\n",
    "emi_shortcut = os.path.join(home, \"code\", \"emi_shortcut\")\n",
    "pickle_filepath = os.path.join(emi_shortcut, \"cache\", \"pickled\")\n",
    "output_filepath = os.path.join(emi_shortcut, \"plots\")"
   ]
  },
  {
   "cell_type": "code",
   "execution_count": null,
   "metadata": {
    "ExecuteTime": {
     "end_time": "2017-08-09T10:13:35.631246",
     "start_time": "2017-08-09T10:13:34.928747"
    },
    "collapsed": true
   },
   "outputs": [],
   "source": [
    "events, position, spikes, lfp, lfp_theta = get_data(info)\n",
    "xedges, yedges = nept.get_xyedges(position)"
   ]
  },
  {
   "cell_type": "code",
   "execution_count": null,
   "metadata": {
    "ExecuteTime": {
     "end_time": "2017-08-09T10:13:35.651276",
     "start_time": "2017-08-09T10:13:35.632246"
    },
    "collapsed": true
   },
   "outputs": [],
   "source": [
    "neurons_filename = info.session_id + '_neurons.pkl'\n",
    "pickled_neurons = os.path.join(pickle_filepath, neurons_filename)\n",
    "with open(pickled_neurons, 'rb') as fileobj:\n",
    "    neurons = pickle.load(fileobj)"
   ]
  },
  {
   "cell_type": "code",
   "execution_count": null,
   "metadata": {
    "ExecuteTime": {
     "end_time": "2017-08-09T10:13:35.661267",
     "start_time": "2017-08-09T10:13:35.653261"
    },
    "collapsed": true
   },
   "outputs": [],
   "source": [
    "experiment_time = 'phase3'\n",
    "t_start = info.task_times[experiment_time].start\n",
    "t_stop = info.task_times[experiment_time].stop\n",
    "\n",
    "args = dict(min_swr=3,\n",
    "            min_neurons=2,\n",
    "            min_spikes=2,\n",
    "            t_start=t_start,\n",
    "            t_stop=t_stop,\n",
    "            neurons=neurons,\n",
    "            info=info,\n",
    "            normalized=False,\n",
    "            sequence_speed=10.,\n",
    "            sequence_len=4,\n",
    "            min_epochs=3,\n",
    "            window=0.025,\n",
    "            dt=0.025,\n",
    "            gaussian_std=0.,\n",
    "            shuffle_id=False,\n",
    "            run_time=True)"
   ]
  },
  {
   "cell_type": "code",
   "execution_count": null,
   "metadata": {
    "ExecuteTime": {
     "end_time": "2017-08-09T10:13:35.674276",
     "start_time": "2017-08-09T10:13:35.662286"
    },
    "collapsed": true
   },
   "outputs": [],
   "source": [
    "from analyze_decode import get_decoded"
   ]
  },
  {
   "cell_type": "code",
   "execution_count": null,
   "metadata": {
    "ExecuteTime": {
     "end_time": "2017-08-09T10:13:53.874215",
     "start_time": "2017-08-09T10:13:35.675278"
    }
   },
   "outputs": [],
   "source": [
    "decoded, decoded_epochs, errors, actual_position = get_decoded(**args)"
   ]
  },
  {
   "cell_type": "code",
   "execution_count": null,
   "metadata": {
    "collapsed": true
   },
   "outputs": [],
   "source": []
  },
  {
   "cell_type": "code",
   "execution_count": null,
   "metadata": {
    "collapsed": true
   },
   "outputs": [],
   "source": []
  },
  {
   "cell_type": "code",
   "execution_count": null,
   "metadata": {
    "ExecuteTime": {
     "end_time": "2017-08-09T10:13:53.887227",
     "start_time": "2017-08-09T10:13:53.877218"
    },
    "collapsed": true
   },
   "outputs": [],
   "source": [
    "phase3 = position.time_slice(t_start, t_stop)"
   ]
  },
  {
   "cell_type": "code",
   "execution_count": null,
   "metadata": {
    "ExecuteTime": {
     "end_time": "2017-08-09T10:13:53.898233",
     "start_time": "2017-08-09T10:13:53.889227"
    }
   },
   "outputs": [],
   "source": [
    "phase3.time"
   ]
  },
  {
   "cell_type": "code",
   "execution_count": null,
   "metadata": {
    "ExecuteTime": {
     "end_time": "2017-08-09T10:13:54.507668",
     "start_time": "2017-08-09T10:13:53.900235"
    }
   },
   "outputs": [],
   "source": [
    "# max_idx = np.where(decoded_epochs.durations == np.max(decoded_epochs.durations))\n",
    "# start = decoded_epochs[max_idx].start\n",
    "# stop = decoded_epochs[max_idx].stop\n",
    "\n",
    "start = 25000.\n",
    "stop = 25100.\n",
    "\n",
    "pos = position.time_slice(start, stop)\n",
    "plt.plot(phase3.x, phase3.y, '.')\n",
    "plt.plot(pos.x, pos.y, '.')\n",
    "plt.show()\n",
    "\n",
    "checkit = decoded.time_slice(start, stop)\n",
    "plt.plot(phase3.x, phase3.y, '.')\n",
    "plt.plot(checkit.x, checkit.y, '.')\n",
    "plt.show()"
   ]
  },
  {
   "cell_type": "code",
   "execution_count": null,
   "metadata": {
    "collapsed": true
   },
   "outputs": [],
   "source": []
  },
  {
   "cell_type": "code",
   "execution_count": null,
   "metadata": {
    "ExecuteTime": {
     "end_time": "2017-08-09T10:13:54.672784",
     "start_time": "2017-08-09T10:13:54.509668"
    }
   },
   "outputs": [],
   "source": [
    "plt.plot(pos.time, pos.y, '.')\n",
    "plt.plot(checkit.time, checkit.y, '.')"
   ]
  },
  {
   "cell_type": "code",
   "execution_count": null,
   "metadata": {
    "ExecuteTime": {
     "end_time": "2017-08-09T10:13:54.678788",
     "start_time": "2017-08-09T10:13:54.674785"
    }
   },
   "outputs": [],
   "source": [
    "large_idx = np.where(decoded_epochs.durations >= np.max(decoded_epochs.durations)-7.)[0]\n",
    "print(len(large_idx))"
   ]
  },
  {
   "cell_type": "code",
   "execution_count": null,
   "metadata": {
    "collapsed": true
   },
   "outputs": [],
   "source": []
  },
  {
   "cell_type": "code",
   "execution_count": null,
   "metadata": {
    "ExecuteTime": {
     "end_time": "2017-08-09T10:13:54.690797",
     "start_time": "2017-08-09T10:13:54.680790"
    },
    "collapsed": true
   },
   "outputs": [],
   "source": [
    "def find_distance_adjacent(position):\n",
    "    ok = position.data[:-1]\n",
    "    tmi = position.data[1:]\n",
    "    \n",
    "    dist = np.zeros(len(ok))\n",
    "    for idx in range(ok.shape[1]):\n",
    "        dist += (ok[:, idx] - tmi[:, idx]) ** 2\n",
    "        \n",
    "    return np.sqrt(dist)"
   ]
  },
  {
   "cell_type": "code",
   "execution_count": null,
   "metadata": {
    "ExecuteTime": {
     "end_time": "2017-08-09T10:13:54.705807",
     "start_time": "2017-08-09T10:13:54.692799"
    }
   },
   "outputs": [],
   "source": [
    "def printthis(idx):\n",
    "    print('Idx:', idx)\n",
    "    \n",
    "    rr = decoded_epochs[idx]\n",
    "    pp = decoded.time_slice(rr.start, rr.stop)\n",
    "    dd = find_distance_adjacent(pp)\n",
    "\n",
    "    # number of points\n",
    "    print('Number of points:', len(pp.data))\n",
    "\n",
    "    # mean distance between adjacent points\n",
    "    if len(dd) > 0:\n",
    "        print('Mean distance between adjacent points:', np.mean(dd))\n",
    "\n",
    "    # total distance\n",
    "    print('Total distance:', np.sum(dd))\n",
    "\n",
    "    # time duration\n",
    "    print('Time duration:', rr.durations[0])\n",
    "    \n",
    "    print(' ')"
   ]
  },
  {
   "cell_type": "code",
   "execution_count": null,
   "metadata": {
    "ExecuteTime": {
     "end_time": "2017-08-09T10:13:54.765850",
     "start_time": "2017-08-09T10:13:54.707809"
    },
    "collapsed": true
   },
   "outputs": [],
   "source": [
    "def find_idx(idx, n_points=10., max_dist=3., total_dist=20., t_duration=0.5):    \n",
    "    rr = decoded_epochs[idx]\n",
    "    pp = decoded.time_slice(rr.start, rr.stop)\n",
    "    dd = find_distance_adjacent(pp)\n",
    "\n",
    "    # number of points\n",
    "    if len(pp.data) > n_points:\n",
    "        # mean distance between adjacent points\n",
    "        if np.mean(dd) < max_dist:\n",
    "            # total distance\n",
    "            if np.sum(dd) > total_dist:\n",
    "                # time duration\n",
    "                if rr.durations[0] > t_duration:\n",
    "#                     print(idx)\n",
    "                    return idx\n",
    "    else:\n",
    "        return np.nan"
   ]
  },
  {
   "cell_type": "code",
   "execution_count": null,
   "metadata": {
    "ExecuteTime": {
     "end_time": "2017-08-09T10:13:55.024034",
     "start_time": "2017-08-09T10:13:54.767852"
    },
    "scrolled": false
   },
   "outputs": [],
   "source": [
    "passed = []\n",
    "for idx in range(decoded_epochs.n_epochs):\n",
    "    this_idx = find_idx(idx)\n",
    "#     print(this_idx)\n",
    "    if this_idx is not None:\n",
    "        if not np.isnan(this_idx):\n",
    "            passed.append(idx)"
   ]
  },
  {
   "cell_type": "code",
   "execution_count": null,
   "metadata": {
    "ExecuteTime": {
     "end_time": "2017-08-09T10:13:55.030038",
     "start_time": "2017-08-09T10:13:55.026035"
    },
    "scrolled": false
   },
   "outputs": [],
   "source": [
    "len(passed)"
   ]
  },
  {
   "cell_type": "code",
   "execution_count": null,
   "metadata": {
    "ExecuteTime": {
     "end_time": "2017-08-09T10:14:17.508686",
     "start_time": "2017-08-09T10:13:55.032040"
    },
    "scrolled": true
   },
   "outputs": [],
   "source": [
    "for i in passed:\n",
    "    print(i)\n",
    "    \n",
    "    start = decoded_epochs[i].start\n",
    "    stop = decoded_epochs[i].stop\n",
    "\n",
    "    checkit = decoded.time_slice(start, stop)\n",
    "    pos = position.time_slice(start, stop)\n",
    "\n",
    "    cmap_position = plt.get_cmap('Greys')\n",
    "    cmap_decoded = plt.get_cmap('RdPu')\n",
    "    colours_position = cmap_position(np.linspace(0.25, 0.75, pos.n_samples))\n",
    "    colours_decoded = cmap_decoded(np.linspace(0.25, 0.75, checkit.n_samples))\n",
    "    plt.plot(phase3.x, phase3.y, '.', color='#f7fbff')\n",
    "    for dec_x, dec_y, pos_x, pos_y, idx in zip(checkit.x, checkit.y, pos.x, pos.y, range(checkit.n_samples)):\n",
    "        plt.plot(pos_x, pos_y, '.', ms=7, color=colours_position[idx], markerfacecolor='none')\n",
    "        plt.plot(dec_x, dec_y, '.', ms=7, color=colours_decoded[idx], markerfacecolor='none')\n",
    "    plt.show()"
   ]
  },
  {
   "cell_type": "code",
   "execution_count": null,
   "metadata": {
    "ExecuteTime": {
     "end_time": "2017-08-09T10:14:17.965010",
     "start_time": "2017-08-09T10:14:17.510688"
    }
   },
   "outputs": [],
   "source": [
    "for i in [621]:\n",
    "    print(i)\n",
    "    \n",
    "    start = decoded_epochs[i].start\n",
    "    stop = decoded_epochs[i].stop\n",
    "\n",
    "    checkit = decoded.time_slice(start, stop)\n",
    "    pos = position.time_slice(start, stop)\n",
    "    \n",
    "    print('decoded:', checkit.n_samples)\n",
    "    print('actual:', pos.n_samples)\n",
    "\n",
    "    cmap_position = plt.get_cmap('Greys')\n",
    "    cmap_decoded = plt.get_cmap('YlGn')\n",
    "    colours_position = cmap_position(np.linspace(0.25, 0.75, pos.n_samples))\n",
    "    colours_decoded = cmap_decoded(np.linspace(0.25, 0.75, checkit.n_samples))\n",
    "    plt.plot(phase3.x, phase3.y, '.', color='#f7fbff')\n",
    "    for dec_x, dec_y, pos_x, pos_y, idx in zip(checkit.x, checkit.y, pos.x, pos.y, range(checkit.n_samples)):\n",
    "        plt.plot(pos_x, pos_y, '.', ms=7, color=colours_position[idx], markerfacecolor='none')\n",
    "        plt.plot(dec_x, dec_y, '.', ms=7, color=colours_decoded[idx], markerfacecolor='none')\n",
    "    plt.show()"
   ]
  },
  {
   "cell_type": "code",
   "execution_count": null,
   "metadata": {
    "collapsed": true
   },
   "outputs": [],
   "source": []
  },
  {
   "cell_type": "code",
   "execution_count": null,
   "metadata": {
    "collapsed": true
   },
   "outputs": [],
   "source": []
  },
  {
   "cell_type": "code",
   "execution_count": null,
   "metadata": {
    "collapsed": true
   },
   "outputs": [],
   "source": []
  },
  {
   "cell_type": "code",
   "execution_count": null,
   "metadata": {
    "collapsed": true
   },
   "outputs": [],
   "source": []
  }
 ],
 "metadata": {
  "anaconda-cloud": {},
  "kernelspec": {
   "display_name": "Python 3",
   "language": "python",
   "name": "python3"
  },
  "language_info": {
   "codemirror_mode": {
    "name": "ipython",
    "version": 3
   },
   "file_extension": ".py",
   "mimetype": "text/x-python",
   "name": "python",
   "nbconvert_exporter": "python",
   "pygments_lexer": "ipython3",
   "version": "3.6.5"
  },
  "toc": {
   "colors": {
    "hover_highlight": "#DAA520",
    "running_highlight": "#FF0000",
    "selected_highlight": "#FFD700"
   },
   "moveMenuLeft": true,
   "nav_menu": {
    "height": "12px",
    "width": "252px"
   },
   "navigate_menu": true,
   "number_sections": true,
   "sideBar": true,
   "threshold": 4,
   "toc_cell": false,
   "toc_section_display": "block",
   "toc_window_display": false
  }
 },
 "nbformat": 4,
 "nbformat_minor": 2
}
