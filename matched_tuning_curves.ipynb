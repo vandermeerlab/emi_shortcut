{
 "cells": [
  {
   "cell_type": "code",
   "execution_count": null,
   "metadata": {
    "ExecuteTime": {
     "end_time": "2018-09-04T20:00:27.298545Z",
     "start_time": "2018-09-04T20:00:26.142206Z"
    },
    "collapsed": true
   },
   "outputs": [],
   "source": [
    "%matplotlib inline\n",
    "import matplotlib.pyplot as plt\n",
    "import numpy as np\n",
    "import os\n",
    "import nept\n",
    "\n",
    "from loading_data import get_data\n",
    "from analyze_tuning_curves import get_only_tuning_curves\n",
    "from utils_maze import get_bin_centers, get_zones, get_xy_idx, get_matched_trials, get_all_trials"
   ]
  },
  {
   "cell_type": "code",
   "execution_count": null,
   "metadata": {
    "ExecuteTime": {
     "end_time": "2018-09-04T20:00:27.305542Z",
     "start_time": "2018-09-04T20:00:27.300544Z"
    },
    "collapsed": true
   },
   "outputs": [],
   "source": [
    "thisdir = os.getcwd()\n",
    "pickle_filepath = os.path.join(thisdir, \"cache\", \"pickled\")\n",
    "output_filepath = os.path.join(thisdir, \"plots\", \"trials\", \"tuning_curves\")\n",
    "if not os.path.exists(output_filepath):\n",
    "    os.makedirs(output_filepath)"
   ]
  },
  {
   "cell_type": "code",
   "execution_count": null,
   "metadata": {
    "ExecuteTime": {
     "end_time": "2018-09-04T20:00:27.348518Z",
     "start_time": "2018-09-04T20:00:27.307540Z"
    },
    "collapsed": true
   },
   "outputs": [],
   "source": [
    "import info.r063d7 as r063d7\n",
    "import info.r063d8 as r063d8\n",
    "import info.r068d3 as r068d3\n",
    "import info.r068d5 as r068d5\n",
    "# infos = [r063d7]\n",
    "from run import analysis_infos\n",
    "infos = analysis_infos"
   ]
  },
  {
   "cell_type": "code",
   "execution_count": null,
   "metadata": {
    "collapsed": true
   },
   "outputs": [],
   "source": [
    "savefig = False"
   ]
  },
  {
   "cell_type": "code",
   "execution_count": null,
   "metadata": {
    "ExecuteTime": {
     "end_time": "2018-09-04T20:00:30.316366Z",
     "start_time": "2018-09-04T20:00:27.350515Z"
    },
    "scrolled": false
   },
   "outputs": [],
   "source": [
    "for info in infos:\n",
    "    print(info.session_id)\n",
    "    events, position, spikes, _, _ = get_data(info)\n",
    "        \n",
    "    phase = info.task_times[\"phase3\"]\n",
    "    sliced_position = position.time_slice(phase.start, phase.stop)\n",
    "\n",
    "    # trials = get_trials(events, phase)\n",
    "    trials = get_matched_trials(info, sliced_position, subset=False)\n",
    "#     trials = get_all_trials(info, sliced_position, subset=False)\n",
    "\n",
    "    error_byactual_position = np.zeros((len(info.yedges), len(info.xedges)))\n",
    "    n_byactual_position = np.ones((len(info.yedges), len(info.xedges)))\n",
    "\n",
    "    session_n_active = []\n",
    "    session_likelihoods = []\n",
    "    session_decoded = []\n",
    "    session_actual = []\n",
    "    session_errors = []\n",
    "    n_timebins = []\n",
    "\n",
    "    for trial in trials:\n",
    "        starts = [start for start in trials.starts if start != trial.start]\n",
    "        stops = [stop for stop in trials.stops if stop != trial.stop]\n",
    "        epoch_of_interest = nept.Epoch([starts, stops])\n",
    "\n",
    "        tuning_curves = get_only_tuning_curves(info,\n",
    "                                               position,\n",
    "                                               spikes,\n",
    "                                               epoch_of_interest)\n",
    "\n",
    "    xx, yy = np.meshgrid(info.xedges, info.yedges)\n",
    "\n",
    "    all_tuning_curves = np.zeros((tuning_curves.shape[1], tuning_curves.shape[2]))\n",
    "    for i in range(tuning_curves.shape[0]):\n",
    "        all_tuning_curves += tuning_curves[i]\n",
    "\n",
    "    plt.plot(sliced_position.x, sliced_position.y, \"b.\", ms=1, alpha=0.2)\n",
    "    pp = plt.pcolormesh(xx, yy, all_tuning_curves, vmax=200., cmap='pink_r')\n",
    "    plt.colorbar(pp)\n",
    "    plt.axis('off')\n",
    "    if savefig:\n",
    "        plt.savefig(os.path.join(output_filepath, info.session_id+\"_trials_tuning-curves.png\"))\n",
    "        plt.close()\n",
    "    else:\n",
    "        plt.show()\n",
    "\n",
    "    trial_positions = position.time_slice(trials.starts, trials.stops)\n",
    "    occupancy = nept.get_occupancy(trial_positions, info.yedges, info.xedges)\n",
    "    \n",
    "    plt.figure()\n",
    "    plt.plot(sliced_position.x, sliced_position.y, \"b.\", ms=1, alpha=0.2)\n",
    "    pp = plt.pcolormesh(xx, yy, occupancy, vmax=20., cmap=\"Greys\")\n",
    "    colourbar = plt.colorbar(pp)\n",
    "    plt.axis('off')\n",
    "    if savefig:\n",
    "        plt.savefig(os.path.join(output_filepath, info.session_id+\"_trials_occupancy.png\"))\n",
    "        plt.close()\n",
    "    else:\n",
    "        plt.show()"
   ]
  },
  {
   "cell_type": "code",
   "execution_count": null,
   "metadata": {
    "ExecuteTime": {
     "end_time": "2018-09-04T20:00:30.316366Z",
     "start_time": "2018-09-04T20:00:26.161Z"
    }
   },
   "outputs": [],
   "source": [
    "starts = [print(start) for start in trials.starts if start == trial.start]"
   ]
  },
  {
   "cell_type": "code",
   "execution_count": null,
   "metadata": {
    "ExecuteTime": {
     "end_time": "2018-09-04T20:01:44.734842Z",
     "start_time": "2018-09-04T20:01:44.727847Z"
    }
   },
   "outputs": [],
   "source": [
    "len(np.unique(trials.starts))"
   ]
  },
  {
   "cell_type": "code",
   "execution_count": null,
   "metadata": {
    "ExecuteTime": {
     "end_time": "2018-09-04T20:01:50.451647Z",
     "start_time": "2018-09-04T20:01:50.446649Z"
    }
   },
   "outputs": [],
   "source": [
    "len(np.unique(trials.stops))"
   ]
  },
  {
   "cell_type": "code",
   "execution_count": null,
   "metadata": {
    "collapsed": true
   },
   "outputs": [],
   "source": []
  }
 ],
 "metadata": {
  "kernelspec": {
   "display_name": "Python 3",
   "language": "python",
   "name": "python3"
  },
  "language_info": {
   "codemirror_mode": {
    "name": "ipython",
    "version": 3
   },
   "file_extension": ".py",
   "mimetype": "text/x-python",
   "name": "python",
   "nbconvert_exporter": "python",
   "pygments_lexer": "ipython3",
   "version": "3.6.5"
  },
  "toc": {
   "colors": {
    "hover_highlight": "#DAA520",
    "running_highlight": "#FF0000",
    "selected_highlight": "#FFD700"
   },
   "moveMenuLeft": true,
   "nav_menu": {
    "height": "12px",
    "width": "252px"
   },
   "navigate_menu": true,
   "number_sections": true,
   "sideBar": true,
   "threshold": 4,
   "toc_cell": false,
   "toc_section_display": "block",
   "toc_window_display": false
  }
 },
 "nbformat": 4,
 "nbformat_minor": 2
}
