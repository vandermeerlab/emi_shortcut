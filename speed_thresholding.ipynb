{
 "cells": [
  {
   "cell_type": "code",
   "execution_count": null,
   "metadata": {
    "ExecuteTime": {
     "end_time": "2018-06-12T13:35:33.610597Z",
     "start_time": "2018-06-12T13:35:32.941997Z"
    }
   },
   "outputs": [],
   "source": [
    "%matplotlib inline\n",
    "import matplotlib.pyplot as plt\n",
    "import numpy as np\n",
    "import os\n",
    "import nept"
   ]
  },
  {
   "cell_type": "code",
   "execution_count": null,
   "metadata": {
    "ExecuteTime": {
     "end_time": "2018-06-12T15:16:19.901850Z",
     "start_time": "2018-06-12T15:16:19.844882Z"
    }
   },
   "outputs": [],
   "source": [
    "def speed_threshold(position, thresh, direction):\n",
    "    \"\"\"Finds the epochs where speed is greater or lesser than a threshold.\n",
    "    \n",
    "    Parameters\n",
    "    ----------\n",
    "    position: nept.Position\n",
    "    thresh: float\n",
    "    direction: str\n",
    "        Must be \"greater\" or \"lesser\"\n",
    "    \n",
    "    Returns\n",
    "    -------\n",
    "    nept.Epoch\n",
    "    \"\"\"\n",
    "    speed = position.speed()\n",
    "    if direction == \"greater\":\n",
    "        changes = np.diff(np.hstack(([0], (np.squeeze(speed.data) >= thresh).astype(int))))\n",
    "    elif direction == \"lesser\":\n",
    "        changes = np.diff(np.hstack(([0], (np.squeeze(speed.data) <= thresh).astype(int))))\n",
    "    else:\n",
    "        raise ValueError(\"Must be 'lesser' or 'greater'\")\n",
    "\n",
    "    starts = np.where(changes == 1)[0]\n",
    "    stops = np.where(changes == -1)[0]\n",
    "\n",
    "    if len(starts) != len(stops):\n",
    "        assert len(starts) - len(stops) == 1\n",
    "        stops = np.hstack((stops, position.n_samples - 1))\n",
    "\n",
    "    if starts[-1] == stops[-1]:\n",
    "        print(\"Last sample not included in speed thresholding\")\n",
    "        starts = starts[:-1]\n",
    "        stops = stops[:-1]\n",
    "\n",
    "    data = np.vstack([position.time[starts], position.time[stops]]).T\n",
    "    return nept.Epoch(data)\n",
    "\n",
    "\n",
    "def run_threshold(position, thresh):\n",
    "    return speed_threshold(position, thresh, direction=\"greater\")\n",
    "    \n",
    "\n",
    "def rest_threshold(position, thresh):\n",
    "    return speed_threshold(position, thresh, direction=\"lesser\")"
   ]
  },
  {
   "cell_type": "code",
   "execution_count": null,
   "metadata": {
    "ExecuteTime": {
     "end_time": "2018-06-12T15:19:28.172955Z",
     "start_time": "2018-06-12T15:19:28.165959Z"
    }
   },
   "outputs": [],
   "source": [
    "times = np.array([0.0, 1.0, 2.0, 3.0, 4.0, 5.0])\n",
    "data = np.array([0.0, 0.5, 1.0, 0.7, 1.7, 2.0])\n",
    "\n",
    "position = nept.Position(data, times)\n",
    "\n",
    "run_epoch = run_threshold(position, thresh=0.4)\n",
    "rest_epoch = rest_threshold(position, thresh=0.4)\n",
    "\n",
    "# assert np.allclose(run_epoch.starts, np.array([2., 5.]))\n",
    "# assert np.allclose(run_epoch.stops, np.array([3., 6.]))"
   ]
  },
  {
   "cell_type": "code",
   "execution_count": null,
   "metadata": {
    "ExecuteTime": {
     "end_time": "2018-06-12T15:19:28.402225Z",
     "start_time": "2018-06-12T15:19:28.396249Z"
    }
   },
   "outputs": [],
   "source": [
    "run_epoch.starts, run_epoch.stops"
   ]
  },
  {
   "cell_type": "code",
   "execution_count": null,
   "metadata": {
    "ExecuteTime": {
     "end_time": "2018-06-12T15:19:28.649442Z",
     "start_time": "2018-06-12T15:19:28.645464Z"
    }
   },
   "outputs": [],
   "source": [
    "rest_epoch.starts, rest_epoch.stops"
   ]
  },
  {
   "cell_type": "code",
   "execution_count": null,
   "metadata": {
    "ExecuteTime": {
     "end_time": "2018-06-12T15:19:29.004389Z",
     "start_time": "2018-06-12T15:19:28.908445Z"
    }
   },
   "outputs": [],
   "source": [
    "speed = position.speed()\n",
    "\n",
    "plt.plot(speed.time, speed.data, \"k.\")\n",
    "plt.show()"
   ]
  },
  {
   "cell_type": "code",
   "execution_count": null,
   "metadata": {
    "ExecuteTime": {
     "end_time": "2018-06-12T15:11:12.505536Z",
     "start_time": "2018-06-12T15:11:12.499539Z"
    }
   },
   "outputs": [],
   "source": [
    "ep = rest_thresh(position, thresh=0.4)\n",
    "print(ep.starts, ep.stops)"
   ]
  },
  {
   "cell_type": "code",
   "execution_count": null,
   "metadata": {
    "ExecuteTime": {
     "end_time": "2018-06-12T13:38:51.005419Z",
     "start_time": "2018-06-12T13:38:51.000420Z"
    }
   },
   "outputs": [],
   "source": [
    "ep = run_thresh(position, thresh=0.4)\n",
    "print(ep.starts, ep.stops)"
   ]
  },
  {
   "cell_type": "code",
   "execution_count": null,
   "metadata": {
    "ExecuteTime": {
     "end_time": "2018-06-12T13:47:43.612965Z",
     "start_time": "2018-06-12T13:47:43.607987Z"
    }
   },
   "outputs": [],
   "source": [
    "data = np.array([1., 1.2, 1.4, 8.6, 8.5, 8.4, 3.3, 3.4, 3.3, 1.2])\n",
    "time = np.arange(0, 10)\n",
    "position = nept.Position(data, time)\n",
    "\n",
    "running = run_thresh(position, thresh=1)"
   ]
  },
  {
   "cell_type": "code",
   "execution_count": null,
   "metadata": {
    "ExecuteTime": {
     "end_time": "2018-06-12T13:47:44.126389Z",
     "start_time": "2018-06-12T13:47:44.032443Z"
    }
   },
   "outputs": [],
   "source": [
    "speed = position.speed()\n",
    "\n",
    "plt.plot(speed.time, speed.data, \"k.\")\n",
    "plt.show()"
   ]
  },
  {
   "cell_type": "code",
   "execution_count": null,
   "metadata": {
    "ExecuteTime": {
     "end_time": "2018-06-12T13:47:54.269872Z",
     "start_time": "2018-06-12T13:47:54.264875Z"
    }
   },
   "outputs": [],
   "source": [
    "running.starts, running.stops"
   ]
  },
  {
   "cell_type": "code",
   "execution_count": null,
   "metadata": {
    "ExecuteTime": {
     "end_time": "2018-06-12T13:48:05.092835Z",
     "start_time": "2018-06-12T13:48:05.088838Z"
    }
   },
   "outputs": [],
   "source": [
    "yy = position[running]"
   ]
  },
  {
   "cell_type": "code",
   "execution_count": null,
   "metadata": {
    "ExecuteTime": {
     "end_time": "2018-06-12T13:49:03.622723Z",
     "start_time": "2018-06-12T13:49:03.616744Z"
    }
   },
   "outputs": [],
   "source": [
    "yy.data, yy.time"
   ]
  },
  {
   "cell_type": "code",
   "execution_count": null,
   "metadata": {
    "ExecuteTime": {
     "end_time": "2018-06-12T13:48:11.833747Z",
     "start_time": "2018-06-12T13:48:11.817757Z"
    }
   },
   "outputs": [],
   "source": [
    "assert np.allclose(yy.data, np.array([[1.2],[1.4],[8.6],[3.3],[3.4],[3.3],[1.2]]))"
   ]
  },
  {
   "cell_type": "code",
   "execution_count": null,
   "metadata": {},
   "outputs": [],
   "source": []
  }
 ],
 "metadata": {
  "kernelspec": {
   "display_name": "Python 3",
   "language": "python",
   "name": "python3"
  },
  "language_info": {
   "codemirror_mode": {
    "name": "ipython",
    "version": 3
   },
   "file_extension": ".py",
   "mimetype": "text/x-python",
   "name": "python",
   "nbconvert_exporter": "python",
   "pygments_lexer": "ipython3",
   "version": "3.6.5"
  },
  "toc": {
   "colors": {
    "hover_highlight": "#DAA520",
    "running_highlight": "#FF0000",
    "selected_highlight": "#FFD700"
   },
   "moveMenuLeft": true,
   "nav_menu": {
    "height": "12px",
    "width": "252px"
   },
   "navigate_menu": true,
   "number_sections": true,
   "sideBar": true,
   "threshold": 4,
   "toc_cell": false,
   "toc_section_display": "block",
   "toc_window_display": false
  }
 },
 "nbformat": 4,
 "nbformat_minor": 2
}
