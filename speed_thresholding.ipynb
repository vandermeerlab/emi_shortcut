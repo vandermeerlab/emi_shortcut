{
 "cells": [
  {
   "cell_type": "code",
   "execution_count": null,
   "metadata": {
    "collapsed": true
   },
   "outputs": [],
   "source": [
    "%matplotlib inline\n",
    "import matplotlib.pyplot as plt\n",
    "import numpy as np\n",
    "import os\n",
    "import nept"
   ]
  },
  {
   "cell_type": "code",
   "execution_count": null,
   "metadata": {},
   "outputs": [],
   "source": [
    "def speed_threshold(position, speed_thresh):\n",
    "    \"\"\"Finds times where position is above a certain speed threshold\n",
    "\n",
    "    Parameters\n",
    "    ----------\n",
    "    position: nept.Position\n",
    "    speed_thresh: float\n",
    "\n",
    "    Returns\n",
    "    -------\n",
    "    run_epoch: nept.Epoch\n",
    "\n",
    "    \"\"\"\n",
    "    speed = position.speed()\n",
    "    idx = np.where(np.diff(np.squeeze(speed.data) >= speed_thresh))[0]\n",
    "    \n",
    "    starts = position.time[idx[::2]]\n",
    "    stops = position.time[idx[1::2]]\n",
    "\n",
    "    # missing stop\n",
    "    if len(starts) != len(stops):\n",
    "        assert len(starts) - len(stops) == 1\n",
    "        if starts[-1] == position.time[-1]:\n",
    "            starts = starts[:-1]\n",
    "        else:\n",
    "            stops = np.hstack([stops, position.time[-1]])\n",
    "        \n",
    "    return nept.Epoch(starts, stops-starts).merge(gap=0.0)"
   ]
  },
  {
   "cell_type": "code",
   "execution_count": null,
   "metadata": {
    "collapsed": true
   },
   "outputs": [],
   "source": [
    "def rest_threshold(position, rest_thresh):\n",
    "    \"\"\"Finds times where position is below a certain rest threshold\n",
    "\n",
    "    Parameters\n",
    "    ----------\n",
    "    position: nept.Position\n",
    "    rest_thresh: float\n",
    "\n",
    "    Returns\n",
    "    -------\n",
    "    rest_epoch: nept.Epoch\n",
    "\n",
    "    \"\"\"\n",
    "    speed = position.speed()\n",
    "    idx = np.where(np.diff(np.squeeze(speed.data) <= rest_thresh))[0]\n",
    "    \n",
    "    starts = position.time[idx[::2]]\n",
    "    stops = position.time[idx[1::2]]\n",
    "    \n",
    "#     # missing start\n",
    "#     if len(starts) != len(stops):\n",
    "#         assert len(starts) - len(stops) == 1\n",
    "#         if starts[-1] == position.time[-1]:\n",
    "#             starts = starts[:-1]\n",
    "#         else:\n",
    "#             stops = np.hstack([stops, position.time[idx[0]+1]])\n",
    "            \n",
    "    print(starts,stops)\n",
    "    return nept.Epoch(starts, stops-starts).merge(gap=0.0)"
   ]
  },
  {
   "cell_type": "code",
   "execution_count": null,
   "metadata": {},
   "outputs": [],
   "source": [
    "times = np.array([0.0, 1.0, 2.0, 3.0, 4.0, 5.0])\n",
    "data = np.array([0.0, 0.5, 1.0, 0.7, 1.7, 2.0])\n",
    "\n",
    "position = nept.Position(data, times)\n",
    "\n",
    "run_epoch = speed_threshold(position, speed_thresh=0.5)\n",
    "rest_epoch = rest_threshold(position, rest_thresh=0.6)\n",
    "\n",
    "# assert np.allclose(run_epoch.starts, np.array([2., 5.]))\n",
    "# assert np.allclose(run_epoch.stops, np.array([3., 6.]))"
   ]
  },
  {
   "cell_type": "code",
   "execution_count": null,
   "metadata": {},
   "outputs": [],
   "source": [
    "run_epoch.starts, run_epoch.stops"
   ]
  },
  {
   "cell_type": "code",
   "execution_count": null,
   "metadata": {},
   "outputs": [],
   "source": [
    "rest_epoch.starts, rest_epoch.stops"
   ]
  },
  {
   "cell_type": "code",
   "execution_count": null,
   "metadata": {},
   "outputs": [],
   "source": [
    "speed = position.speed()"
   ]
  },
  {
   "cell_type": "code",
   "execution_count": null,
   "metadata": {},
   "outputs": [],
   "source": [
    "speed = position.speed()\n",
    "\n",
    "plt.plot(speed.time, speed.data, \"k.\")\n",
    "plt.show()"
   ]
  },
  {
   "cell_type": "code",
   "execution_count": null,
   "metadata": {},
   "outputs": [],
   "source": [
    "speed.data"
   ]
  },
  {
   "cell_type": "code",
   "execution_count": null,
   "metadata": {
    "collapsed": true
   },
   "outputs": [],
   "source": []
  },
  {
   "cell_type": "code",
   "execution_count": null,
   "metadata": {},
   "outputs": [],
   "source": [
    "def rest_thresh(position, thresh):\n",
    "       return speed_thresh(position, thresh, direction=\"lesser\")\n",
    "   \n",
    "def run_thresh(position, thresh):\n",
    "       return speed_thresh(position, thresh, direction=\"greater\")\n",
    "   \n",
    "def speed_thresh(position, thresh, direction):\n",
    "   \n",
    "    speed = position.speed()\n",
    "    if direction == \"lesser\":\n",
    "        changes = np.diff(np.hstack(([0], (np.squeeze(speed.data) <= thresh).astype(int))))\n",
    "    elif direction == \"greater\":\n",
    "        changes = np.diff(np.hstack(([0], (np.squeeze(speed.data) >= thresh).astype(int))))\n",
    "    else:\n",
    "        raise ValueError(\"Must be 'lesser' or 'greater'\")\n",
    "\n",
    "    starts = np.where(changes == 1)[0]\n",
    "    stops = np.where(changes == -1)[0]\n",
    "\n",
    "    if len(starts) != len(stops):\n",
    "        assert len(starts) - len(stops) == 1\n",
    "        stops = np.hstack((stops, position.n_samples - 1))\n",
    "\n",
    "    if starts[-1] == stops[-1]:\n",
    "        starts = starts[:-1]\n",
    "        stops = stops[:-1]\n",
    "\n",
    "    data = np.vstack([position.time[starts], position.time[stops]]).T\n",
    "    return nept.Epoch(data)"
   ]
  },
  {
   "cell_type": "code",
   "execution_count": null,
   "metadata": {
    "collapsed": true
   },
   "outputs": [],
   "source": []
  },
  {
   "cell_type": "code",
   "execution_count": null,
   "metadata": {
    "collapsed": true
   },
   "outputs": [],
   "source": []
  }
 ],
 "metadata": {
  "kernelspec": {
   "display_name": "Python 3",
   "language": "python",
   "name": "python3"
  },
  "language_info": {
   "codemirror_mode": {
    "name": "ipython",
    "version": 3
   },
   "file_extension": ".py",
   "mimetype": "text/x-python",
   "name": "python",
   "nbconvert_exporter": "python",
   "pygments_lexer": "ipython3",
   "version": "3.6.5"
  }
 },
 "nbformat": 4,
 "nbformat_minor": 2
}
