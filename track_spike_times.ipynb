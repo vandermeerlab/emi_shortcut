{
 "cells": [
  {
   "cell_type": "markdown",
   "metadata": {},
   "source": [
    "This code extracts the spike times associated with particular tracks in the shortcut experiment."
   ]
  },
  {
   "cell_type": "code",
   "execution_count": null,
   "metadata": {
    "collapsed": false
   },
   "outputs": [],
   "source": [
    "%matplotlib inline\n",
    "import numpy as np\n",
    "import matplotlib.pyplot as plt\n",
    "from shapely.geometry import Point, LineString\n",
    "\n",
    "import nept\n",
    "\n",
    "from loading_data import get_data\n",
    "from utils_maze import spikes_by_position\n",
    "from utils_plotting import plot_intersects, plot_zone\n",
    "\n",
    "import info.r063d2 as r063d2\n",
    "import info.r063d3 as r063d3\n",
    "import info.r063d4 as r063d4\n",
    "import info.r063d5 as r063d5\n",
    "import info.r063d6 as r063d6\n",
    "import info.r066d1 as r066d1\n",
    "import info.r066d2 as r066d2\n",
    "import info.r066d4 as r066d4\n",
    "import info.r066d5 as r066d5\n",
    "import info.r066d6 as r066d6\n",
    "import info.r067d1 as r067d1\n",
    "import info.r067d2 as r067d2\n",
    "import info.r067d3 as r067d3\n",
    "import info.r067d4 as r067d4\n",
    "import info.r067d5 as r067d5\n",
    "import info.r067d6 as r067d6\n",
    "import info.r068d1 as r068d1\n",
    "import info.r068d2 as r068d2\n",
    "import info.r068d3 as r068d3\n",
    "import info.r068d4 as r068d4\n",
    "import info.r068d5 as r068d5\n",
    "import info.r068d6 as r068d6\n",
    "\n",
    "import info.r063d7 as r063d7\n",
    "import info.r063d8 as r063d8\n",
    "import info.r066d7 as r066d7\n",
    "import info.r066d8 as r066d8\n",
    "import info.r067d7 as r067d7\n",
    "import info.r067d8 as r067d8\n",
    "import info.r068d7 as r068d7\n",
    "import info.r068d8 as r068d8"
   ]
  },
  {
   "cell_type": "code",
   "execution_count": null,
   "metadata": {
    "collapsed": false
   },
   "outputs": [],
   "source": [
    "# output_path = 'C:/Users/Emily/Code/emi_shortcut/cache/pickledd'\n",
    "output_path = 'E:/code/emi_shortcut/cache/pickled'\n",
    "info = r068d2"
   ]
  },
  {
   "cell_type": "code",
   "execution_count": null,
   "metadata": {
    "collapsed": false
   },
   "outputs": [],
   "source": [
    "events, position, spikes, lfp, lfp_theta = get_data(info)"
   ]
  },
  {
   "cell_type": "code",
   "execution_count": null,
   "metadata": {
    "collapsed": false
   },
   "outputs": [],
   "source": [
    "# Plot to check\n",
    "plt.plot(position.x, position.y, 'b.', ms=1)\n",
    "plt.show()"
   ]
  },
  {
   "cell_type": "markdown",
   "metadata": {},
   "source": [
    "## Constructing track specifics\n",
    "Here, we specify the ideal linear trajectorys, and expand those linear lines to zones by about the track width, which includes the rat positions."
   ]
  },
  {
   "cell_type": "code",
   "execution_count": null,
   "metadata": {
    "collapsed": false
   },
   "outputs": [],
   "source": [
    "u_line = LineString(info.u_trajectory)\n",
    "shortcut_line = LineString(info.shortcut_trajectory)\n",
    "novel_line = LineString(info.novel_trajectory)\n",
    "\n",
    "expand_by = 6\n",
    "\n",
    "u_start = Point(info.u_trajectory[0])\n",
    "u_stop = Point(info.u_trajectory[-1])\n",
    "shortcut_start = Point(info.shortcut_trajectory[0])\n",
    "shortcut_stop = Point(info.shortcut_trajectory[-1])\n",
    "novel_start = Point(info.novel_trajectory[0])\n",
    "novel_stop = Point(info.novel_trajectory[-1])\n",
    "pedestal_center = Point(info.path_pts['pedestal'][0], info.path_pts['pedestal'][1])\n",
    "pedestal = pedestal_center.buffer(expand_by*2.2)"
   ]
  },
  {
   "cell_type": "code",
   "execution_count": null,
   "metadata": {
    "collapsed": false
   },
   "outputs": [],
   "source": [
    "zone = dict()\n",
    "zone['u'] = nept.expand_line(u_start, u_stop, u_line, expand_by)\n",
    "zone['shortcut'] = nept.expand_line(shortcut_start, shortcut_stop, shortcut_line, expand_by)\n",
    "zone['novel'] = nept.expand_line(novel_start, novel_stop, novel_line, expand_by)\n",
    "zone['ushort'] = zone['u'].intersection(zone['shortcut'])\n",
    "zone['unovel'] = zone['u'].intersection(zone['novel'])\n",
    "zone['uped'] = zone['u'].intersection(pedestal)\n",
    "zone['shortped'] = zone['shortcut'].intersection(pedestal)\n",
    "zone['novelped'] = zone['novel'].intersection(pedestal)\n",
    "zone['pedestal'] = pedestal"
   ]
  },
  {
   "cell_type": "code",
   "execution_count": null,
   "metadata": {
    "collapsed": false,
    "scrolled": false
   },
   "outputs": [],
   "source": [
    "plt.plot(position.x, position.y, 'y.', ms=1)\n",
    "plt.plot(u_line.xy[0], u_line.xy[1], 'k.')\n",
    "plt.plot(shortcut_line.xy[0], shortcut_line.xy[1], 'r.')\n",
    "plt.plot(novel_line.xy[0], novel_line.xy[1], 'g.')\n",
    "for zones in zone:\n",
    "    if zone[zones].geom_type == 'MultiPolygon':\n",
    "        plot_intersects(zone[zones])\n",
    "    elif zone[zones].geom_type == 'Polygon':\n",
    "        plot_zone(zone[zones])\n",
    "    else:\n",
    "        continue"
   ]
  },
  {
   "cell_type": "markdown",
   "metadata": {},
   "source": [
    "Below checks that the positions can be separated by zones. Just a proof-of-concept, this output is not used in the analysis but it is related to how we sort the spikes times later. "
   ]
  },
  {
   "cell_type": "code",
   "execution_count": null,
   "metadata": {
    "collapsed": false
   },
   "outputs": [],
   "source": [
    "u_idx = []\n",
    "shortcut_idx = []\n",
    "novel_idx = []\n",
    "ped_idx = []\n",
    "other_idx = []\n",
    "for i, (x, y) in enumerate(zip(position.x, position.y)):\n",
    "    point = Point([x, y])\n",
    "    if pedestal.contains(point) or zone['uped'].contains(point) or zone['shortped'].contains(point) or zone['novelped'].contains(point):\n",
    "        ped_idx.append(i)\n",
    "        continue\n",
    "    elif zone['u'].contains(point) or zone['ushort'].contains(point) or zone['unovel'].contains(point):\n",
    "        u_idx.append(i)\n",
    "        continue\n",
    "    elif zone['shortcut'].contains(point):\n",
    "        shortcut_idx.append(i)\n",
    "        continue\n",
    "    elif zone['novel'].contains(point):\n",
    "        novel_idx.append(i)\n",
    "        continue\n",
    "    else:\n",
    "        other_idx.append(i)"
   ]
  },
  {
   "cell_type": "code",
   "execution_count": null,
   "metadata": {
    "collapsed": false,
    "scrolled": false
   },
   "outputs": [],
   "source": [
    "u_position = position[u_idx]\n",
    "shortcut_position = position[shortcut_idx]\n",
    "novel_position = position[novel_idx]\n",
    "pedestal_position = position[ped_idx]\n",
    "other_position = position[other_idx]\n",
    "\n",
    "plt.plot(u_position.x, u_position.y, 'b.')\n",
    "plt.plot(shortcut_position.x, shortcut_position.y, 'g.')\n",
    "plt.plot(novel_position.x, novel_position.y, 'r.')\n",
    "plt.plot(pedestal_position.x, pedestal_position.y, 'm.')\n",
    "plt.plot(other_position.x, other_position.y, 'k.')\n",
    "plt.show()"
   ]
  },
  {
   "cell_type": "code",
   "execution_count": null,
   "metadata": {
    "collapsed": false
   },
   "outputs": [],
   "source": [
    "print(len(other_position.time)) # Want minimum number of spikes in this category, essentially unaccounted for."
   ]
  },
  {
   "cell_type": "markdown",
   "metadata": {},
   "source": [
    "## Finished! "
   ]
  },
  {
   "cell_type": "code",
   "execution_count": null,
   "metadata": {
    "collapsed": true
   },
   "outputs": [],
   "source": []
  },
  {
   "cell_type": "code",
   "execution_count": null,
   "metadata": {
    "collapsed": true
   },
   "outputs": [],
   "source": []
  },
  {
   "cell_type": "code",
   "execution_count": null,
   "metadata": {
    "collapsed": true
   },
   "outputs": [],
   "source": []
  }
 ],
 "metadata": {
  "anaconda-cloud": {},
  "kernelspec": {
   "display_name": "Python [default]",
   "language": "python",
   "name": "python3"
  },
  "language_info": {
   "codemirror_mode": {
    "name": "ipython",
    "version": 3
   },
   "file_extension": ".py",
   "mimetype": "text/x-python",
   "name": "python",
   "nbconvert_exporter": "python",
   "pygments_lexer": "ipython3",
   "version": "3.5.2"
  }
 },
 "nbformat": 4,
 "nbformat_minor": 0
}
