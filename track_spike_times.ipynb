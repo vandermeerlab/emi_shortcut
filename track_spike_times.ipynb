{
 "cells": [
  {
   "cell_type": "markdown",
   "metadata": {},
   "source": [
    "This code extracts the spike times associated with particular tracks in the shortcut experiment. First, import all necessary packages -- including vdmlab. This includes an \"info\" file that contains session-specific information."
   ]
  },
  {
   "cell_type": "code",
   "execution_count": null,
   "metadata": {
    "collapsed": false,
    "scrolled": false
   },
   "outputs": [],
   "source": [
    "%matplotlib inline\n",
    "import numpy as np\n",
    "import matplotlib.pyplot as plt\n",
    "from shapely.geometry import Point, LineString\n",
    "\n",
    "import vdmlab as vdm\n",
    "\n",
    "from maze_functions import spikes_by_position\n",
    "from plotting_functions import plot_intersects, plot_zone\n",
    "\n",
    "import sys\n",
    "sys.path.append('E:\\\\code\\\\python-vdmlab\\\\projects\\\\emily_shortcut\\\\info')\n",
    "import info.R063d2_info as r063d2\n",
    "import info.R063d3_info as r063d3\n",
    "import info.R063d4_info as r063d4\n",
    "import info.R063d5_info as r063d5\n",
    "import info.R063d6_info as r063d6\n",
    "import info.R066d1_info as r066d1\n",
    "import info.R066d2_info as r066d2\n",
    "import info.R066d4_info as r066d4"
   ]
  },
  {
   "cell_type": "code",
   "execution_count": null,
   "metadata": {
    "collapsed": true
   },
   "outputs": [],
   "source": [
    "# output_path = 'C:\\\\Users\\\\Emily\\\\Code\\\\python-vdmlab\\\\projects\\\\emily_shortcut\\\\cache\\\\matlab\\\\spike_pos\\\\'\n",
    "output_path = 'E:\\\\code\\\\python-vdmlab\\\\projects\\\\emily_shortcut\\\\cache\\\\matlab\\\\spike_pos\\\\'\n",
    "info = r063d4"
   ]
  },
  {
   "cell_type": "code",
   "execution_count": null,
   "metadata": {
    "collapsed": false
   },
   "outputs": [],
   "source": [
    "pos = info.get_pos(info.pxl_to_cm)\n",
    "spikes = info.get_spikes()"
   ]
  },
  {
   "cell_type": "code",
   "execution_count": null,
   "metadata": {
    "collapsed": false,
    "scrolled": true
   },
   "outputs": [],
   "source": [
    "# Plot to check\n",
    "plt.plot(pos['x'], pos['y'], 'b.', ms=1)\n",
    "plt.show()"
   ]
  },
  {
   "cell_type": "markdown",
   "metadata": {},
   "source": [
    "## Constructing track specifics\n",
    "Here, we specify the ideal linear trajectorys, and expand those linear lines to zones by about the track width, which includes the rat positions."
   ]
  },
  {
   "cell_type": "code",
   "execution_count": null,
   "metadata": {
    "collapsed": false
   },
   "outputs": [],
   "source": [
    "u_line = LineString(info.u_trajectory)\n",
    "shortcut_line = LineString(info.shortcut_trajectory)\n",
    "novel_line = LineString(info.novel_trajectory)\n",
    "\n",
    "expand_by = 2\n",
    "\n",
    "u_start = Point(info.u_trajectory[0])\n",
    "u_stop = Point(info.u_trajectory[-1])\n",
    "shortcut_start = Point(info.shortcut_trajectory[0])\n",
    "shortcut_stop = Point(info.shortcut_trajectory[-1])\n",
    "novel_start = Point(info.novel_trajectory[0])\n",
    "novel_stop = Point(info.novel_trajectory[-1])\n",
    "pedestal_center = Point(info.path_pts['pedestal'][0], info.path_pts['pedestal'][1])\n",
    "pedestal = pedestal_center.buffer(expand_by*2.2)"
   ]
  },
  {
   "cell_type": "code",
   "execution_count": null,
   "metadata": {
    "collapsed": false
   },
   "outputs": [],
   "source": [
    "zone = dict()\n",
    "zone['u'] = vdm.expand_line(u_start, u_stop, u_line, expand_by)\n",
    "zone['shortcut'] = vdm.expand_line(shortcut_start, shortcut_stop, shortcut_line, expand_by)\n",
    "zone['novel'] = vdm.expand_line(novel_start, novel_stop, novel_line, expand_by)\n",
    "zone['ushort'] = zone['u'].intersection(zone['shortcut'])\n",
    "zone['unovel'] = zone['u'].intersection(zone['novel'])\n",
    "zone['uped'] = zone['u'].intersection(pedestal)\n",
    "zone['shortped'] = zone['shortcut'].intersection(pedestal)\n",
    "zone['novelped'] = zone['novel'].intersection(pedestal)\n",
    "zone['pedestal'] = pedestal"
   ]
  },
  {
   "cell_type": "code",
   "execution_count": null,
   "metadata": {
    "collapsed": false,
    "scrolled": true
   },
   "outputs": [],
   "source": [
    "plt.plot(pos['x'], pos['y'], 'y.', ms=1)\n",
    "plt.plot(u_line.xy[0], u_line.xy[1], 'k.')\n",
    "plt.plot(shortcut_line.xy[0], shortcut_line.xy[1], 'r.')\n",
    "plt.plot(novel_line.xy[0], novel_line.xy[1], 'g.')\n",
    "for zones in zone:\n",
    "    if zone[zones].geom_type == 'MultiPolygon':\n",
    "        plot_intersects(zone[zones])\n",
    "    elif zone[zones].geom_type == 'Polygon':\n",
    "        plot_zone(zone[zones])\n",
    "    else:\n",
    "        continue"
   ]
  },
  {
   "cell_type": "markdown",
   "metadata": {},
   "source": [
    "Below checks that the positions can be separated by zones. Just a proof-of-concept, this output is not used in the analysis but it is related to how we sort the spikes times later. "
   ]
  },
  {
   "cell_type": "code",
   "execution_count": null,
   "metadata": {
    "collapsed": false
   },
   "outputs": [],
   "source": [
    "u_idx = []\n",
    "shortcut_idx = []\n",
    "novel_idx = []\n",
    "ped_idx = []\n",
    "other_idx = []\n",
    "for pos_idx in range(len(pos['time'])):\n",
    "    point = Point([pos['x'][pos_idx], pos['y'][pos_idx]])\n",
    "    if pedestal.contains(point) or zone['uped'].contains(point) or zone['shortped'].contains(point) or zone['novelped'].contains(point):\n",
    "        ped_idx.append(pos_idx)\n",
    "        continue\n",
    "    elif zone['u'].contains(point) or zone['ushort'].contains(point) or zone['unovel'].contains(point):\n",
    "        u_idx.append(pos_idx)\n",
    "        continue\n",
    "    elif zone['shortcut'].contains(point):\n",
    "        shortcut_idx.append(pos_idx)\n",
    "        continue\n",
    "    elif zone['novel'].contains(point):\n",
    "        novel_idx.append(pos_idx)\n",
    "        continue\n",
    "    else:\n",
    "        other_idx.append(pos_idx)"
   ]
  },
  {
   "cell_type": "code",
   "execution_count": null,
   "metadata": {
    "collapsed": false
   },
   "outputs": [],
   "source": [
    "u_pos = vdm.idx_in_pos(pos, u_idx)\n",
    "shortcut_pos = vdm.idx_in_pos(pos, shortcut_idx)\n",
    "novel_pos = vdm.idx_in_pos(pos, novel_idx)\n",
    "ped_pos = vdm.idx_in_pos(pos, ped_idx)\n",
    "other_pos = vdm.idx_in_pos(pos, other_idx)\n",
    "\n",
    "plt.plot(u_pos['x'], u_pos['y'], 'b.')\n",
    "plt.plot(shortcut_pos['x'], shortcut_pos['y'], 'g.')\n",
    "plt.plot(novel_pos['x'], novel_pos['y'], 'r.')\n",
    "plt.plot(ped_pos['x'], ped_pos['y'], 'm.')\n",
    "plt.plot(other_pos['x'], other_pos['y'], 'k.')\n",
    "plt.show()"
   ]
  },
  {
   "cell_type": "code",
   "execution_count": null,
   "metadata": {
    "collapsed": false
   },
   "outputs": [],
   "source": [
    "print(len(other_pos['time'])) # Want minimum number of spikes in this category, essentially unaccounted for."
   ]
  },
  {
   "cell_type": "markdown",
   "metadata": {},
   "source": [
    "## Finished! \n",
    "Ready to use in *track_spikes.py* and/or *shortcut_behavior.py*"
   ]
  },
  {
   "cell_type": "code",
   "execution_count": null,
   "metadata": {
    "collapsed": true
   },
   "outputs": [],
   "source": []
  },
  {
   "cell_type": "code",
   "execution_count": null,
   "metadata": {
    "collapsed": true
   },
   "outputs": [],
   "source": []
  },
  {
   "cell_type": "code",
   "execution_count": null,
   "metadata": {
    "collapsed": true
   },
   "outputs": [],
   "source": []
  }
 ],
 "metadata": {
  "kernelspec": {
   "display_name": "Python 3",
   "language": "python",
   "name": "python3"
  },
  "language_info": {
   "codemirror_mode": {
    "name": "ipython",
    "version": 3
   },
   "file_extension": ".py",
   "mimetype": "text/x-python",
   "name": "python",
   "nbconvert_exporter": "python",
   "pygments_lexer": "ipython3",
   "version": "3.5.2"
  }
 },
 "nbformat": 4,
 "nbformat_minor": 0
}
