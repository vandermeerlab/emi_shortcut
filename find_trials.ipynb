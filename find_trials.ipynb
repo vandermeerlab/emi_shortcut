{
 "cells": [
  {
   "cell_type": "code",
   "execution_count": null,
   "metadata": {
    "collapsed": true
   },
   "outputs": [],
   "source": [
    "%matplotlib inline\n",
    "import os\n",
    "import numpy as np\n",
    "import matplotlib.pyplot as plt\n",
    "from shapely.geometry import Point, LineString\n",
    "\n",
    "import vdmlab as vdm\n",
    "\n",
    "from load_data import get_pos, get_events\n",
    "from analyze_maze import get_trial_idx, get_zones\n",
    "from analyze_plotting import plot_proportions, plot_bydurations, plot_bytrial\n",
    "\n",
    "import sys\n",
    "sys.path.append('E:\\\\code\\\\python-vdmlab\\\\projects\\\\emily_shortcut\\\\info')\n",
    "import info.r063d2 as r063d2\n",
    "import info.r063d3 as r063d3\n",
    "import info.r063d4 as r063d4\n",
    "import info.r063d5 as r063d5\n",
    "import info.r063d6 as r063d6\n",
    "import info.r066d1 as r066d1\n",
    "import info.r066d2 as r066d2\n",
    "import info.r066d4 as r066d4\n",
    "import info.r066d5 as r066d5\n",
    "import info.r066d6 as r066d6\n",
    "import info.r067d1 as r067d1\n",
    "import info.r067d2 as r067d2\n",
    "import info.r067d3 as r067d3\n",
    "import info.r067d4 as r067d4\n",
    "import info.r067d5 as r067d5\n",
    "import info.r067d6 as r067d6\n",
    "import info.r068d1 as r068d1\n",
    "import info.r068d2 as r068d2\n",
    "import info.r068d3 as r068d3\n",
    "import info.r068d4 as r068d4\n",
    "import info.r068d5 as r068d5\n",
    "import info.r068d6 as r068d6\n",
    "\n",
    "# import info.r063d7 as r063d7\n",
    "# import info.r063d8 as r063d8\n",
    "# import info.r066d7 as r066d7\n",
    "# import info.r066d8 as r066d8\n",
    "# import info.r067d7 as r067d7\n",
    "# import info.r067d8 as r067d8\n",
    "# import info.r068d7 as r068d7\n",
    "# import info.r068d8 as r068d8"
   ]
  },
  {
   "cell_type": "code",
   "execution_count": null,
   "metadata": {
    "collapsed": true
   },
   "outputs": [],
   "source": [
    "# output_path = 'C:/Users/Emily/Code/emi_shortcut/plots/behavior'\n",
    "output_path = 'E:/code/emi_shortcut/plots/behavior'\n",
    "info = r067d1"
   ]
  },
  {
   "cell_type": "code",
   "execution_count": null,
   "metadata": {
    "collapsed": true
   },
   "outputs": [],
   "source": [
    "position = get_pos(info.pos_mat, info.pxl_to_cm)"
   ]
  },
  {
   "cell_type": "code",
   "execution_count": null,
   "metadata": {
    "collapsed": false
   },
   "outputs": [],
   "source": [
    "# Plot to check\n",
    "plt.plot(position.x, position.y, 'b.', ms=1)\n",
    "plt.show()"
   ]
  },
  {
   "cell_type": "code",
   "execution_count": null,
   "metadata": {
    "collapsed": false
   },
   "outputs": [],
   "source": [
    "t_start = info.task_times['phase3'].start\n",
    "t_stop = info.task_times['phase3'].stop\n",
    "sliced_pos = position.time_slice(t_start, t_stop)"
   ]
  },
  {
   "cell_type": "code",
   "execution_count": null,
   "metadata": {
    "collapsed": false
   },
   "outputs": [],
   "source": [
    "plt.plot(sliced_pos.x, sliced_pos.y, 'g.', ms=2)\n",
    "plt.show()"
   ]
  },
  {
   "cell_type": "code",
   "execution_count": null,
   "metadata": {
    "collapsed": false
   },
   "outputs": [],
   "source": [
    "durations = dict(u=[], shortcut=[], novel=[])\n",
    "num_sessions = 0\n",
    "\n",
    "trials = []\n",
    "# Slicing events to only Phase 3\n",
    "events = get_events(info.event_mat)\n",
    "\n",
    "feeder1_times = []\n",
    "for feeder1 in events['feeder1']:\n",
    "    if t_start < feeder1 < t_stop:\n",
    "        feeder1_times.append(feeder1)\n",
    "\n",
    "feeder2_times = []\n",
    "for feeder2 in events['feeder2']:\n",
    "    if t_start < feeder2 < t_stop:\n",
    "        feeder2_times.append(feeder2)\n",
    "\n",
    "path_pos = get_zones(info, sliced_pos)\n",
    "\n",
    "trials_idx = get_trial_idx(path_pos['u'].time, path_pos['shortcut'].time, path_pos['novel'].time,\n",
    "                           feeder1_times, feeder2_times, t_stop)\n",
    "\n",
    "trials.append(trials_idx)\n",
    "\n",
    "num_sessions += 1\n",
    "\n",
    "for key in durations:\n",
    "    for trial in trials_idx[key]:\n",
    "        durations[key].append(trials_idx['stop_trials'][trial[0]] - trials_idx['start_trials'][trial[0]])\n",
    "\n",
    "durations['num_sessions'] = num_sessions\n",
    "\n",
    "shortcuts = []\n",
    "us = []\n",
    "novels = []\n",
    "togethers = []\n",
    "\n",
    "for trial in trials:\n",
    "    shortcuts.append(len(trial['shortcut'])/float(len(trial['start_trials'])))\n",
    "    us.append(len(trial['u'])/float(len(trial['start_trials'])))\n",
    "    novels.append(len(trial['novel'])/float(len(trial['start_trials'])))\n",
    "    togethers.append(sorted(trial['u'] + trial['shortcut'] + trial['novel']))"
   ]
  },
  {
   "cell_type": "code",
   "execution_count": null,
   "metadata": {
    "collapsed": false
   },
   "outputs": [],
   "source": [
    "novel_trials = []\n",
    "for trial in trials[0]['novel']:\n",
    "    novel_trials.append(trial[0])\n",
    "shortcut_trials = []\n",
    "for trial in trials[0]['shortcut']:\n",
    "    shortcut_trials.append(trial[0])\n",
    "u_trials = []\n",
    "for trial in trials[0]['u']:\n",
    "    u_trials.append(trial[0])"
   ]
  },
  {
   "cell_type": "code",
   "execution_count": null,
   "metadata": {
    "collapsed": false
   },
   "outputs": [],
   "source": [
    "novel_trials"
   ]
  },
  {
   "cell_type": "code",
   "execution_count": null,
   "metadata": {
    "collapsed": true
   },
   "outputs": [],
   "source": [
    "import seaborn as sns"
   ]
  },
  {
   "cell_type": "code",
   "execution_count": null,
   "metadata": {
    "collapsed": false
   },
   "outputs": [],
   "source": [
    "fig, ax = plt.subplots()\n",
    "for trial in novel_trials:\n",
    "    if trial + 1 < len(trials[0]['start_trials']):\n",
    "        trial_start = vdm.find_nearest_idx(sliced_pos.time, trials[0]['start_trials'][trial])\n",
    "        trial_stop = vdm.find_nearest_idx(sliced_pos.time, trials[0]['start_trials'][trial+1])\n",
    "        ax.plot(sliced_pos.x[trial_start:trial_stop], sliced_pos.y[trial_start:trial_stop], '#d55e00', ms=2)\n",
    "sns.despine(left=True, bottom=True)\n",
    "plt.setp(ax, xticks=[], xticklabels=[], yticks=[], yticklabels=[])\n",
    "# plt.show()\n",
    "filename = info.session_id + '_novel-behavior.pdf'\n",
    "savepath = os.path.join(output_path, filename)\n",
    "plt.savefig(savepath, bbox_inches='tight', transparent=True)\n",
    "plt.close()"
   ]
  },
  {
   "cell_type": "code",
   "execution_count": null,
   "metadata": {
    "collapsed": false
   },
   "outputs": [],
   "source": [
    "fig, ax = plt.subplots()\n",
    "for trial in shortcut_trials:\n",
    "    if trial + 1 < len(trials[0]['start_trials']):\n",
    "        trial_start = vdm.find_nearest_idx(sliced_pos.time, trials[0]['start_trials'][trial])\n",
    "        trial_stop = vdm.find_nearest_idx(sliced_pos.time, trials[0]['start_trials'][trial+1])\n",
    "        plt.plot(sliced_pos.x[trial_start:trial_stop], sliced_pos.y[trial_start:trial_stop], '#009e73', ms=2)\n",
    "sns.despine(left=True, bottom=True)\n",
    "plt.setp(ax, xticks=[], xticklabels=[], yticks=[], yticklabels=[])\n",
    "# plt.show()\n",
    "filename = info.session_id + '_shortcut-behavior.pdf'\n",
    "savepath = os.path.join(output_path, filename)\n",
    "plt.savefig(savepath, bbox_inches='tight', transparent=True)\n",
    "plt.close()"
   ]
  },
  {
   "cell_type": "code",
   "execution_count": null,
   "metadata": {
    "collapsed": false
   },
   "outputs": [],
   "source": [
    "fig, ax = plt.subplots()\n",
    "for trial in u_trials:\n",
    "    if trial + 1 < len(trials[0]['start_trials']):\n",
    "        trial_start = vdm.find_nearest_idx(sliced_pos.time, trials[0]['start_trials'][trial])\n",
    "        trial_stop = vdm.find_nearest_idx(sliced_pos.time, trials[0]['start_trials'][trial+1])\n",
    "        plt.plot(sliced_pos.x[trial_start:trial_stop], sliced_pos.y[trial_start:trial_stop], '#0072b2', ms=2)\n",
    "sns.despine(left=True, bottom=True)\n",
    "plt.setp(ax, xticks=[], xticklabels=[], yticks=[], yticklabels=[])\n",
    "# plt.show()\n",
    "filename = info.session_id + '_u-behavior.pdf'\n",
    "savepath = os.path.join(output_path, filename)\n",
    "plt.savefig(savepath, bbox_inches='tight', transparent=True)\n",
    "plt.close()"
   ]
  },
  {
   "cell_type": "code",
   "execution_count": null,
   "metadata": {
    "collapsed": true
   },
   "outputs": [],
   "source": []
  }
 ],
 "metadata": {
  "kernelspec": {
   "display_name": "Python 3",
   "language": "python",
   "name": "python3"
  },
  "language_info": {
   "codemirror_mode": {
    "name": "ipython",
    "version": 3
   },
   "file_extension": ".py",
   "mimetype": "text/x-python",
   "name": "python",
   "nbconvert_exporter": "python",
   "pygments_lexer": "ipython3",
   "version": "3.5.2"
  }
 },
 "nbformat": 4,
 "nbformat_minor": 0
}
