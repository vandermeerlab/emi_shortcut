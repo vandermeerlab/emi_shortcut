{
 "cells": [
  {
   "cell_type": "code",
   "execution_count": null,
   "metadata": {
    "ExecuteTime": {
     "end_time": "2018-07-17T18:19:57.338672Z",
     "start_time": "2018-07-17T18:19:56.345423Z"
    },
    "collapsed": true
   },
   "outputs": [],
   "source": [
    "%matplotlib inline\n",
    "import matplotlib.pyplot as plt\n",
    "import numpy as np\n",
    "import os\n",
    "import nept\n",
    "\n",
    "from loading_data import get_data\n",
    "from analyze_tuning_curves import get_tuning_curves\n",
    "from analyze_decode import get_decoded\n",
    "from run import analysis_infos\n",
    "from utils_maze import get_trials"
   ]
  },
  {
   "cell_type": "code",
   "execution_count": null,
   "metadata": {
    "ExecuteTime": {
     "end_time": "2018-07-17T18:19:57.344645Z",
     "start_time": "2018-07-17T18:19:57.340646Z"
    },
    "collapsed": true
   },
   "outputs": [],
   "source": [
    "thisdir = os.getcwd()\n",
    "pickle_filepath = os.path.join(thisdir, \"cache\", \"pickled\")\n",
    "output_filepath = os.path.join(thisdir, \"plots\", \"session-diagnostics\")"
   ]
  },
  {
   "cell_type": "code",
   "execution_count": null,
   "metadata": {
    "ExecuteTime": {
     "end_time": "2018-07-17T18:19:57.353656Z",
     "start_time": "2018-07-17T18:19:57.346643Z"
    },
    "collapsed": true
   },
   "outputs": [],
   "source": [
    "# import info.r067d7 as r067d7\n",
    "# import info.r068d6 as r068d6\n",
    "\n",
    "# infos = [r067d7, r068d6]"
   ]
  },
  {
   "cell_type": "code",
   "execution_count": null,
   "metadata": {
    "ExecuteTime": {
     "end_time": "2018-07-17T18:19:57.364656Z",
     "start_time": "2018-07-17T18:19:57.355637Z"
    },
    "collapsed": true
   },
   "outputs": [],
   "source": [
    "def plot_tuning_curves(neurons, xx, yy):\n",
    "    multiple_tuning_curves = np.zeros(neurons.tuning_shape)\n",
    "    cmap = plt.cm.get_cmap('bone_r', 25)\n",
    "    plt.figure()\n",
    "\n",
    "    for i in range(neurons.n_neurons):\n",
    "        multiple_tuning_curves += neurons.tuning_curves[i]\n",
    "\n",
    "    pp = plt.pcolormesh(xx, yy, multiple_tuning_curves, vmax=100., cmap=cmap)\n",
    "    plt.colorbar(pp)\n",
    "    plt.axis('off')\n",
    "    plt.tight_layout()\n",
    "    title = info.session_id + '-tuning_curve-all'\n",
    "    plt.title(title)\n",
    "    plt.tight_layout()\n",
    "#     plt.show()\n",
    "    plt.savefig(os.path.join(output_filepath, title + \".png\"))\n",
    "    plt.close()"
   ]
  },
  {
   "cell_type": "code",
   "execution_count": null,
   "metadata": {
    "ExecuteTime": {
     "end_time": "2018-07-17T18:19:57.375627Z",
     "start_time": "2018-07-17T18:19:57.366631Z"
    },
    "collapsed": true
   },
   "outputs": [],
   "source": [
    "def plot_num_swr(info):\n",
    "    n_swrs = []\n",
    "\n",
    "    task_times = [\"prerecord\", \"phase1\", \"pauseA\", \"phase2\", \"pauseB\", \"phase3\", \"postrecord\"]\n",
    "    for task_time in task_times:\n",
    "        sliced_lfp = lfp.time_slice(info.task_times[task_time].start, info.task_times[task_time].stop)\n",
    "\n",
    "        z_thresh = 3.0\n",
    "        merge_thresh = 0.02\n",
    "        min_length = 0.05\n",
    "        swrs = nept.detect_swr_hilbert(sliced_lfp, fs=info.fs, z_thresh=z_thresh,\n",
    "                                       merge_thresh=merge_thresh, min_length=min_length)\n",
    "\n",
    "        n_swrs.append(swrs.n_epochs)\n",
    "\n",
    "    fig, ax = plt.subplots()\n",
    "    ind = np.arange(len(task_times))\n",
    "\n",
    "    plt.bar(ind, n_swrs)\n",
    "    ax.set_xticks(ind)\n",
    "    ax.set_xticklabels(task_times, rotation=75, fontsize=14)\n",
    "    ax.spines['right'].set_visible(False)\n",
    "    ax.spines['top'].set_visible(False)\n",
    "    ax.yaxis.set_ticks_position('left')\n",
    "    ax.xaxis.set_ticks_position('bottom')\n",
    "    plt.axhline(y=10, color='r', linestyle=':')\n",
    "    title = info.session_id + '-n_swrs'\n",
    "    plt.title(title)\n",
    "    plt.tight_layout()\n",
    "#     plt.show()\n",
    "    plt.savefig(os.path.join(output_filepath, title + \".png\"))\n",
    "    plt.close()"
   ]
  },
  {
   "cell_type": "code",
   "execution_count": null,
   "metadata": {
    "ExecuteTime": {
     "end_time": "2018-07-17T18:19:57.408624Z",
     "start_time": "2018-07-17T18:19:57.377625Z"
    },
    "collapsed": true
   },
   "outputs": [],
   "source": [
    "def plot_decode_error_by_position(decode, xedges, yedges):\n",
    "    if len(decode[\"errors\"]) == 0:\n",
    "        print(\"no errors to plot. Skipping...\")\n",
    "    else:\n",
    "        error_hist_byactual = np.zeros((len(yedges), len(xedges)))\n",
    "        n_hist_byactual = np.ones((len(yedges), len(xedges)))\n",
    "        error_x = []\n",
    "        error_y = []\n",
    "\n",
    "        for error, x, y in zip(decode['errors'], decode['position'].x, decode['position'].y):\n",
    "            x_idx = nept.find_nearest_idx(xedges, x)\n",
    "            y_idx = nept.find_nearest_idx(yedges, y)\n",
    "            error_hist_byactual[y_idx][x_idx] += error\n",
    "            n_hist_byactual[y_idx][x_idx] += 1\n",
    "\n",
    "        error_byactual = error_hist_byactual / n_hist_byactual\n",
    "\n",
    "        pp = plt.pcolormesh(xx, yy, error_byactual, vmin=0., vmax=50., cmap='Greys')\n",
    "        plt.colorbar(pp)\n",
    "        plt.axis('off')\n",
    "        title = info.session_id + '-errors-by-position'\n",
    "        plt.title(title)\n",
    "        plt.tight_layout()\n",
    "    #     plt.show()\n",
    "        plt.savefig(os.path.join(output_filepath, title + \".png\"))\n",
    "        plt.close()"
   ]
  },
  {
   "cell_type": "code",
   "execution_count": null,
   "metadata": {
    "ExecuteTime": {
     "end_time": "2018-07-17T18:19:57.418601Z",
     "start_time": "2018-07-17T18:19:57.410606Z"
    },
    "collapsed": true
   },
   "outputs": [],
   "source": [
    "infos = analysis_infos"
   ]
  },
  {
   "cell_type": "code",
   "execution_count": null,
   "metadata": {
    "ExecuteTime": {
     "end_time": "2018-07-17T18:19:57.431594Z",
     "start_time": "2018-07-17T18:19:57.420600Z"
    },
    "collapsed": true
   },
   "outputs": [],
   "source": [
    "session_ids = []\n",
    "\n",
    "n_neurons = []\n",
    "bins_decoded = []\n",
    "mean_decode_errors = []"
   ]
  },
  {
   "cell_type": "code",
   "execution_count": null,
   "metadata": {
    "ExecuteTime": {
     "end_time": "2018-07-17T18:35:37.990348Z",
     "start_time": "2018-07-17T18:19:57.433593Z"
    },
    "collapsed": true,
    "scrolled": false
   },
   "outputs": [],
   "source": [
    "for info in infos:\n",
    "    print(info.session_id)\n",
    "    events, position, spikes, lfp, lfp_theta = get_data(info)\n",
    "\n",
    "    phase = \"phase3\"\n",
    "\n",
    "    position = position.time_slice(info.task_times[phase].start, info.task_times[phase].stop)\n",
    "    spikes = [spiketrain.time_slice(info.task_times[phase].start, info.task_times[phase].stop) for spiketrain in spikes]\n",
    "\n",
    "    xedges, yedges = nept.get_xyedges(position, binsize=8)\n",
    "    xx, yy = np.meshgrid(xedges, yedges)\n",
    "\n",
    "    neurons = get_tuning_curves(info, position, spikes, xedges, yedges, speed_limit=0.5,\n",
    "                                phase_id=\"phase3\", cache=False)\n",
    "    \n",
    "    n_neurons.append(neurons.n_neurons)\n",
    "    session_ids.append(info.session_id)\n",
    "    \n",
    "    args = dict(info=info,\n",
    "            dt=0.025,\n",
    "            gaussian_std=0.0075,\n",
    "            min_neurons=2,\n",
    "            min_spikes=1,\n",
    "            min_swr=3,\n",
    "            neurons=neurons,\n",
    "            normalized=False,\n",
    "            run_time=True,\n",
    "            speed_limit=10.,\n",
    "            t_smooth=0.8,\n",
    "            shuffle_id=False,\n",
    "            window=0.025,\n",
    "            decoding_times=info.task_times['phase3'],\n",
    "            min_proportion_decoded=0.1,\n",
    "            decode_sequences=False,\n",
    "            random_shuffle=False,\n",
    "            )\n",
    "\n",
    "    decode = dict()\n",
    "    (decode['decoded'], \n",
    "     decode['decoded_epochs'], \n",
    "     decode['errors'], \n",
    "     decode['position'], \n",
    "     decode['likelihood'], \n",
    "     decode['percent_decoded']) = get_decoded(**args)\n",
    "    \n",
    "    bins_decoded.append(decode['percent_decoded'])\n",
    "    mean_decode_errors.append(np.mean(decode['errors']))\n",
    "    \n",
    "    plot_tuning_curves(neurons, xx, yy)\n",
    "    \n",
    "    plot_num_swr(info)\n",
    "    \n",
    "    plot_decode_error_by_position(decode, xedges, yedges)"
   ]
  },
  {
   "cell_type": "code",
   "execution_count": null,
   "metadata": {
    "ExecuteTime": {
     "end_time": "2018-07-17T18:35:38.188536Z",
     "start_time": "2018-07-17T18:35:37.990348Z"
    },
    "collapsed": true
   },
   "outputs": [],
   "source": [
    "fig, ax = plt.subplots()\n",
    "ind = np.arange(len(session_ids))\n",
    "\n",
    "plt.bar(ind, n_neurons)\n",
    "ax.set_xticks(ind)\n",
    "ax.set_xticklabels(session_ids, rotation=90, fontsize=10)\n",
    "ax.spines['right'].set_visible(False)\n",
    "ax.spines['top'].set_visible(False)\n",
    "ax.yaxis.set_ticks_position('left')\n",
    "ax.xaxis.set_ticks_position('bottom')\n",
    "plt.title(\"Number of active neurons\")\n",
    "plt.axhline(y=40, color='r', linestyle=':')\n",
    "title = 'all-n_active-neurons.png'\n",
    "plt.title(title)\n",
    "plt.tight_layout()\n",
    "# plt.show()\n",
    "plt.savefig(os.path.join(output_filepath, title))\n",
    "plt.close()"
   ]
  },
  {
   "cell_type": "code",
   "execution_count": null,
   "metadata": {
    "ExecuteTime": {
     "end_time": "2018-07-17T18:35:38.387811Z",
     "start_time": "2018-07-17T18:35:38.188536Z"
    },
    "collapsed": true,
    "scrolled": true
   },
   "outputs": [],
   "source": [
    "fig, ax = plt.subplots()\n",
    "ind = np.arange(len(session_ids))\n",
    "\n",
    "plt.bar(ind, bins_decoded)\n",
    "ax.set_xticks(ind)\n",
    "ax.set_xticklabels(session_ids, rotation=90, fontsize=10)\n",
    "ax.spines['right'].set_visible(False)\n",
    "ax.spines['top'].set_visible(False)\n",
    "ax.yaxis.set_ticks_position('left')\n",
    "ax.xaxis.set_ticks_position('bottom')\n",
    "plt.title(\"Perent of bins decoded\")\n",
    "plt.axhline(y=25, color='r', linestyle=':')\n",
    "title = 'all-percent_decoded.png'\n",
    "plt.title(title)\n",
    "plt.tight_layout()\n",
    "# plt.show()\n",
    "plt.savefig(os.path.join(output_filepath, title))\n",
    "plt.close()"
   ]
  },
  {
   "cell_type": "code",
   "execution_count": null,
   "metadata": {
    "ExecuteTime": {
     "end_time": "2018-07-17T18:35:38.600445Z",
     "start_time": "2018-07-17T18:35:38.387811Z"
    },
    "collapsed": true
   },
   "outputs": [],
   "source": [
    "fig, ax = plt.subplots()\n",
    "ind = np.arange(len(session_ids))\n",
    "\n",
    "plt.bar(ind, mean_decode_errors)\n",
    "ax.set_xticks(ind)\n",
    "ax.set_xticklabels(session_ids, rotation=90, fontsize=10)\n",
    "ax.spines['right'].set_visible(False)\n",
    "ax.spines['top'].set_visible(False)\n",
    "ax.yaxis.set_ticks_position('left')\n",
    "ax.xaxis.set_ticks_position('bottom')\n",
    "plt.title(\"Mean decoding errors (cm)\")\n",
    "title = 'all-mean_decoding_errors.png'\n",
    "plt.title(title)\n",
    "plt.tight_layout()\n",
    "# plt.show()\n",
    "plt.savefig(os.path.join(output_filepath, title))\n",
    "plt.close()"
   ]
  },
  {
   "cell_type": "code",
   "execution_count": null,
   "metadata": {
    "collapsed": true
   },
   "outputs": [],
   "source": []
  },
  {
   "cell_type": "code",
   "execution_count": null,
   "metadata": {
    "collapsed": true
   },
   "outputs": [],
   "source": []
  },
  {
   "cell_type": "code",
   "execution_count": null,
   "metadata": {
    "ExecuteTime": {
     "end_time": "2018-07-17T18:35:38.760955Z",
     "start_time": "2018-07-17T18:35:38.600445Z"
    },
    "collapsed": true
   },
   "outputs": [],
   "source": [
    "import cv2"
   ]
  },
  {
   "cell_type": "code",
   "execution_count": null,
   "metadata": {
    "ExecuteTime": {
     "end_time": "2018-07-17T18:35:38.760955Z",
     "start_time": "2018-07-17T18:19:56.374Z"
    },
    "collapsed": true
   },
   "outputs": [],
   "source": [
    "image_path = os.path.join(output_filepath, 'R068d5-tuning_curve-all.png')"
   ]
  },
  {
   "cell_type": "code",
   "execution_count": null,
   "metadata": {
    "ExecuteTime": {
     "end_time": "2018-07-17T18:35:38.761979Z",
     "start_time": "2018-07-17T18:19:56.377Z"
    },
    "collapsed": true
   },
   "outputs": [],
   "source": [
    "image = cv2.imread(image_path, 0)"
   ]
  },
  {
   "cell_type": "code",
   "execution_count": null,
   "metadata": {
    "ExecuteTime": {
     "end_time": "2018-07-17T18:35:38.761979Z",
     "start_time": "2018-07-17T18:19:56.378Z"
    },
    "collapsed": true
   },
   "outputs": [],
   "source": [
    "ret, thresh1 = cv2.threshold(image, 127, 255, cv2.THRESH_BINARY)"
   ]
  },
  {
   "cell_type": "code",
   "execution_count": null,
   "metadata": {
    "ExecuteTime": {
     "end_time": "2018-07-17T18:35:38.761979Z",
     "start_time": "2018-07-17T18:19:56.381Z"
    },
    "collapsed": true
   },
   "outputs": [],
   "source": [
    "plt.subplot()\n",
    "plt.imshow(thresh1,'gray')\n",
    "plt.xticks([])\n",
    "plt.yticks([])\n",
    "\n",
    "plt.show()"
   ]
  },
  {
   "cell_type": "code",
   "execution_count": null,
   "metadata": {
    "collapsed": true
   },
   "outputs": [],
   "source": []
  },
  {
   "cell_type": "code",
   "execution_count": null,
   "metadata": {
    "collapsed": true
   },
   "outputs": [],
   "source": []
  },
  {
   "cell_type": "code",
   "execution_count": null,
   "metadata": {
    "collapsed": true
   },
   "outputs": [],
   "source": []
  }
 ],
 "metadata": {
  "kernelspec": {
   "display_name": "Python 3",
   "language": "python",
   "name": "python3"
  },
  "language_info": {
   "codemirror_mode": {
    "name": "ipython",
    "version": 3
   },
   "file_extension": ".py",
   "mimetype": "text/x-python",
   "name": "python",
   "nbconvert_exporter": "python",
   "pygments_lexer": "ipython3",
   "version": "3.6.5"
  },
  "toc": {
   "colors": {
    "hover_highlight": "#DAA520",
    "running_highlight": "#FF0000",
    "selected_highlight": "#FFD700"
   },
   "moveMenuLeft": true,
   "nav_menu": {
    "height": "12px",
    "width": "252px"
   },
   "navigate_menu": true,
   "number_sections": true,
   "sideBar": true,
   "threshold": 4.0,
   "toc_cell": false,
   "toc_section_display": "block",
   "toc_window_display": false
  }
 },
 "nbformat": 4,
 "nbformat_minor": 2
}
