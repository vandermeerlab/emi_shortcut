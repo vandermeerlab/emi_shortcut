{
 "cells": [
  {
   "cell_type": "code",
   "execution_count": null,
   "metadata": {
    "ExecuteTime": {
     "end_time": "2018-10-17T19:05:09.701982Z",
     "start_time": "2018-10-17T19:05:08.624246Z"
    },
    "collapsed": true
   },
   "outputs": [],
   "source": [
    "import matplotlib.pyplot as plt\n",
    "import matplotlib.gridspec as gridspec\n",
    "from matplotlib.patches import Patch\n",
    "import numpy as np\n",
    "import warnings\n",
    "import random\n",
    "import scipy\n",
    "import pickle\n",
    "import os\n",
    "import nept\n",
    "import scalebar\n",
    "\n",
    "from loading_data import get_data\n",
    "from analyze_tuning_curves import get_only_tuning_curves\n",
    "from utils_maze import get_zones\n",
    "from utils_maze import get_bin_centers\n",
    "\n",
    "thisdir = os.getcwd()\n",
    "pickle_filepath = os.path.join(thisdir, \"cache\", \"pickled\")\n",
    "output_filepath = os.path.join(thisdir, \"plots\", \"trials\", \"decoding\", \"classy\", \"compare_task-times\")\n",
    "if not os.path.exists(output_filepath):\n",
    "    os.makedirs(output_filepath)\n",
    "\n",
    "# Set random seeds\n",
    "random.seed(0)\n",
    "np.random.seed(0)"
   ]
  },
  {
   "cell_type": "code",
   "execution_count": null,
   "metadata": {
    "ExecuteTime": {
     "end_time": "2018-10-17T19:05:09.708996Z",
     "start_time": "2018-10-17T19:05:09.702982Z"
    },
    "collapsed": true
   },
   "outputs": [],
   "source": [
    "colours = dict()\n",
    "colours[\"u\"] = \"#2b8cbe\"\n",
    "colours[\"shortcut\"] = \"#31a354\"\n",
    "colours[\"novel\"] = \"#d95f0e\"\n",
    "colours[\"other\"] = \"#bdbdbd\"\n",
    "\n",
    "task_labels = [\"prerecord\", \"pauseA\", \"pauseB\", \"postrecord\"]\n",
    "zone_labels = [\"u\", \"shortcut\", \"novel\", \"other\"]"
   ]
  },
  {
   "cell_type": "code",
   "execution_count": null,
   "metadata": {
    "ExecuteTime": {
     "end_time": "2018-10-17T19:07:12.639007Z",
     "start_time": "2018-10-17T19:07:12.383385Z"
    },
    "collapsed": true
   },
   "outputs": [],
   "source": [
    "from analyze_classy_decode import Session, TaskTime"
   ]
  },
  {
   "cell_type": "code",
   "execution_count": null,
   "metadata": {
    "ExecuteTime": {
     "end_time": "2018-10-17T19:12:45.641631Z",
     "start_time": "2018-10-17T19:12:45.628639Z"
    },
    "collapsed": true
   },
   "outputs": [],
   "source": [
    "# import info.r063d2 as r063d2\n",
    "# import info.r063d3 as r063d3\n",
    "# infos = [r063d2, r063d3]"
   ]
  },
  {
   "cell_type": "code",
   "execution_count": null,
   "metadata": {
    "collapsed": true
   },
   "outputs": [],
   "source": [
    "from run import analysis_infos\n",
    "infos = analysis_infos"
   ]
  },
  {
   "cell_type": "code",
   "execution_count": null,
   "metadata": {
    "ExecuteTime": {
     "end_time": "2018-10-17T19:21:37.687172Z",
     "start_time": "2018-10-17T19:21:36.549196Z"
    },
    "scrolled": true
   },
   "outputs": [],
   "source": [
    "for info in infos:\n",
    "    print(info.session_id)\n",
    "    true_path = os.path.join(pickle_filepath, info.session_id + \"_likelihoods_true.pkl\")\n",
    "    \n",
    "    with open(true_path, 'rb') as fileobj:\n",
    "        true_session = pickle.load(fileobj)\n",
    "        \n",
    "    passthresh_path = os.path.join(pickle_filepath, info.session_id + \"_likelihoods_true_passthresh.pkl\")\n",
    "    \n",
    "    with open(passthresh_path, 'rb') as fileobj:\n",
    "        passthresh_session = pickle.load(fileobj)\n",
    "    \n",
    "    n_shuffles = 100\n",
    "    shuffled_path = os.path.join(pickle_filepath,\n",
    "                                 info.session_id + \"_likelihoods_shuffled-%03d.pkl\" % n_shuffles)\n",
    "\n",
    "    with open(shuffled_path, 'rb') as fileobj:\n",
    "        shuffled_session = pickle.load(fileobj)\n",
    "\n",
    "    filepath = None\n",
    "    maze_highlight = \"#fed976\"\n",
    "\n",
    "    zones = getattr(true_session, \"prerecord\").zones\n",
    "\n",
    "    xx, yy = np.meshgrid(info.xedges, info.yedges)\n",
    "    xcenters, ycenters = get_bin_centers(info)\n",
    "    xxx, yyy = np.meshgrid(xcenters, ycenters)\n",
    "\n",
    "    fig = plt.figure(figsize=(12, 8))\n",
    "    gs = gridspec.GridSpec(4, 5)\n",
    "    gs.update(wspace=0.2, hspace=0.5)\n",
    "\n",
    "    ax1 = plt.subplot(gs[0, 0])\n",
    "    task_label = \"postrecord\"\n",
    "    tuning_curves = getattr(true_session, task_label).tuning_curves\n",
    "\n",
    "    raw_tuning_curves = np.nansum(tuning_curves, axis=(0,1))\n",
    "    raw_tuning_curves[np.isnan(raw_tuning_curves)] = 0\n",
    "\n",
    "    pp = ax1.pcolormesh(xx, yy, raw_tuning_curves, cmap='bone_r')\n",
    "    ax1.set_title(\"Raw TCs\", fontsize=14)\n",
    "    ax1.axis('off')\n",
    "\n",
    "    ax2 = plt.subplot(gs[0, 1])\n",
    "    avg_tuning_curves = np.nansum(tuning_curves/tuning_curves.shape[1], axis=(0,1))\n",
    "    avg_tuning_curves[np.isnan(avg_tuning_curves)] = 0\n",
    "\n",
    "    pp2 = ax2.pcolormesh(xx, yy, avg_tuning_curves, cmap='bone_r')\n",
    "    ax2.set_title(\"Average TCs\", fontsize=14)\n",
    "    ax2.axis('off')\n",
    "\n",
    "    ax3 = plt.subplot(gs[0, 2])\n",
    "    norm_tuning_curves = np.nansum(\n",
    "        tuning_curves/np.nansum(tuning_curves, axis=(2,3))[..., np.newaxis, np.newaxis], axis=(0,1))\n",
    "    norm_tuning_curves[np.isnan(norm_tuning_curves)] = 0\n",
    "\n",
    "    pp3 = ax3.pcolormesh(xx, yy, norm_tuning_curves, cmap='bone_r')\n",
    "    ax3.set_title(\"Normalized TCs\", fontsize=14)\n",
    "    ax3.axis('off')\n",
    "    \n",
    "    ax4 = plt.subplot(gs[0, 3])\n",
    "    shuffled_tuning_curves = getattr(shuffled_session, task_label).tuning_curves\n",
    "    shuff_tuning_curves = np.nansum(shuffled_tuning_curves, axis=(0,1))\n",
    "    shuff_tuning_curves[np.isnan(shuff_tuning_curves)] = 0\n",
    "    \n",
    "    pp4 = ax4.pcolormesh(xx, yy, shuff_tuning_curves, cmap='bone_r')\n",
    "    ax4.set_title(\"Shuffled TCs\", fontsize=14)\n",
    "    ax4.axis('off')\n",
    "\n",
    "    vmax = 0.1\n",
    "    for i, task_label in enumerate(task_labels):\n",
    "        ax5 = plt.subplot(gs[1, i])\n",
    "        likelihood = np.nanmean(np.array(getattr(true_session, task_label).likelihoods), axis=(0, 1))\n",
    "        likelihood[np.isnan(likelihood)] = 0\n",
    "\n",
    "        ax5.plot(true_session.position.x, true_session.position.y, \".\", color=maze_highlight, ms=1, alpha=0.2)\n",
    "        ax5.set_title(task_label + \"\\n All SWRs\", fontsize=14)\n",
    "        ax5.axis('off')\n",
    "        likelihoods = ax5.pcolormesh(xx, yy, likelihood, vmax=vmax, cmap='bone_r')\n",
    "        for label in [\"u\", \"shortcut\", \"novel\"]:\n",
    "            ax5.contour(xxx, yyy, zones[label], levels=0, linewidths=2, colors=colours[label])\n",
    "        if getattr(true_session, task_label).swrs is not None:\n",
    "            ax5.text(np.max(true_session.position.x)/4, -10, \n",
    "                     \"# swr: \"+str(getattr(true_session, task_label).swrs.n_epochs), \n",
    "                     fontsize=10)\n",
    "        else:\n",
    "            ax5.text(np.max(true_session.position.x)/4, -10, \n",
    "                     \"# swr: 0\", \n",
    "                     fontsize=10)\n",
    "\n",
    "    for i, task_label in enumerate(task_labels):\n",
    "        ax6 = plt.subplot(gs[2, i])\n",
    "        likelihood = np.nanmean(np.array(getattr(passthresh_session, task_label).likelihoods), axis=(0, 1))\n",
    "        likelihood[np.isnan(likelihood)] = 0\n",
    "\n",
    "        ax6.plot(passthresh_session.position.x, passthresh_session.position.y, \".\", color=maze_highlight, ms=1, alpha=0.2)\n",
    "        ax6.set_title(\"Passthresh\", fontsize=14)\n",
    "        ax6.axis('off')\n",
    "        likelihoods = ax6.pcolormesh(xx, yy, likelihood, vmax=vmax, cmap='bone_r')\n",
    "        for label in [\"u\", \"shortcut\", \"novel\"]:\n",
    "            ax6.contour(xxx, yyy, zones[label], levels=0, linewidths=2, colors=colours[label])\n",
    "        if getattr(passthresh_session, task_label).swrs is not None:\n",
    "            ax6.text(np.max(passthresh_session.position.x)/4, -10, \n",
    "                     \"# swr: \"+str(getattr(passthresh_session, task_label).swrs.n_epochs), \n",
    "                     fontsize=10)\n",
    "        else:\n",
    "            ax6.text(np.max(passthresh_session.position.x)/4, -10, \n",
    "                     \"# swr: 0\", \n",
    "                     fontsize=10)\n",
    "\n",
    "    for i, task_label in enumerate(task_labels):\n",
    "        maxes = np.vstack([getattr(passthresh_session, task_label).maxes(zone_label) for zone_label in zone_labels])\n",
    "        max_of_maxes = np.max(maxes, axis=0)\n",
    "\n",
    "        max_counts = [np.sum(getattr(passthresh_session, task_label).maxes(zone_label) == max_of_maxes, axis=1)[0] \n",
    "                      for zone_label in zone_labels]\n",
    "\n",
    "        ax7 = plt.subplot(gs[3, i])\n",
    "        ax7.bar(np.arange(len(zone_labels)),\n",
    "                max_counts,\n",
    "                color=[colours[zone_label] for zone_label in zone_labels], edgecolor='k')\n",
    "        ax7.set_title(\"Max\", fontsize=14)\n",
    "        ax7.set_xticks(np.arange(len(zone_labels)))\n",
    "        ax7.set_xticklabels(zone_labels, rotation=90)\n",
    "        ax7.spines['right'].set_visible(False)\n",
    "        ax7.spines['top'].set_visible(False)\n",
    "        ax7.spines['left'].set_visible(False)\n",
    "        ax7.tick_params(left=False)\n",
    "        ax7.tick_params(labelleft=False)\n",
    "\n",
    "    cbar = fig.colorbar(likelihoods, cax=ax6)\n",
    "    cbar.ax.tick_params(labelsize=10)\n",
    "\n",
    "    plt.tight_layout()\n",
    "    \n",
    "    filename = info.session_id + \"_summary-likelihoods.png\"\n",
    "    plt.savefig(os.path.join(output_filepath, filename))\n",
    "    plt.close()\n",
    "    \n",
    "#     plt.show()"
   ]
  },
  {
   "cell_type": "code",
   "execution_count": null,
   "metadata": {
    "collapsed": true
   },
   "outputs": [],
   "source": []
  }
 ],
 "metadata": {
  "kernelspec": {
   "display_name": "Python 3",
   "language": "python",
   "name": "python3"
  },
  "language_info": {
   "codemirror_mode": {
    "name": "ipython",
    "version": 3
   },
   "file_extension": ".py",
   "mimetype": "text/x-python",
   "name": "python",
   "nbconvert_exporter": "python",
   "pygments_lexer": "ipython3",
   "version": "3.6.5"
  },
  "toc": {
   "colors": {
    "hover_highlight": "#DAA520",
    "running_highlight": "#FF0000",
    "selected_highlight": "#FFD700"
   },
   "moveMenuLeft": true,
   "nav_menu": {
    "height": "12px",
    "width": "252px"
   },
   "navigate_menu": true,
   "number_sections": true,
   "sideBar": true,
   "threshold": 4,
   "toc_cell": false,
   "toc_section_display": "block",
   "toc_window_display": false
  }
 },
 "nbformat": 4,
 "nbformat_minor": 2
}
