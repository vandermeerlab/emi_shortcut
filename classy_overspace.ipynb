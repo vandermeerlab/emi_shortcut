{
 "cells": [
  {
   "cell_type": "code",
   "execution_count": null,
   "metadata": {
    "collapsed": true
   },
   "outputs": [],
   "source": [
    "import matplotlib.pyplot as plt\n",
    "import matplotlib.gridspec as gridspec\n",
    "from matplotlib.patches import Patch\n",
    "import numpy as np\n",
    "import warnings\n",
    "import random\n",
    "import scipy\n",
    "import pickle\n",
    "import os\n",
    "import nept\n",
    "import scalebar\n",
    "\n",
    "from loading_data import get_data\n",
    "from analyze_tuning_curves import get_only_tuning_curves\n",
    "from utils_maze import get_zones\n",
    "from utils_maze import get_bin_centers\n",
    "\n",
    "thisdir = os.getcwd()\n",
    "pickle_filepath = os.path.join(thisdir, \"cache\", \"pickled\")\n",
    "output_filepath = os.path.join(thisdir, \"plots\", \"trials\", \"decoding\", \"shuffled\")\n",
    "if not os.path.exists(output_filepath):\n",
    "    os.makedirs(output_filepath)\n",
    "\n",
    "# Set random seeds\n",
    "random.seed(0)\n",
    "np.random.seed(0)"
   ]
  },
  {
   "cell_type": "code",
   "execution_count": null,
   "metadata": {
    "collapsed": true
   },
   "outputs": [],
   "source": [
    "colours = dict()\n",
    "colours[\"u\"] = \"#2b8cbe\"\n",
    "colours[\"shortcut\"] = \"#31a354\"\n",
    "colours[\"novel\"] = \"#d95f0e\"\n",
    "colours[\"other\"] = \"#bdbdbd\"\n",
    "\n",
    "task_labels = [\"prerecord\", \"pauseA\", \"pauseB\", \"postrecord\"]\n",
    "zone_labels = [\"u\", \"shortcut\", \"novel\", \"other\"]"
   ]
  },
  {
   "cell_type": "code",
   "execution_count": null,
   "metadata": {},
   "outputs": [],
   "source": [
    "session = true_session\n",
    "\n",
    "vmax = 0.2\n",
    "maze_highlight = \"#fed976\"\n",
    "\n",
    "zones = getattr(session, task_label).zones\n",
    "\n",
    "xx, yy = np.meshgrid(info.xedges, info.yedges)\n",
    "xcenters, ycenters = get_bin_centers(info)\n",
    "xxx, yyy = np.meshgrid(xcenters, ycenters)\n",
    "\n",
    "\n",
    "\n",
    "fig = plt.figure(figsize=(12, 8))\n",
    "gs = gridspec.GridSpec(4, 5)\n",
    "gs.update(wspace=0.3, hspace=0.3)\n",
    "\n",
    "ax1 = plt.subplot(gs[0, 1])\n",
    "task_label = \"postrecord\"\n",
    "tuning_curves = getattr(session, task_label).tuning_curves\n",
    "\n",
    "raw_tuning_curves = np.nansum(tuning_curves, axis=(0,1))\n",
    "raw_tuning_curves[np.isnan(raw_tuning_curves)] = 0\n",
    "\n",
    "pp = ax1.pcolormesh(xx, yy, raw_tuning_curves, cmap='bone_r')\n",
    "ax1.set_title(\"Raw TCs\", fontsize=14)\n",
    "ax1.axis('off')\n",
    "\n",
    "ax2 = plt.subplot(gs[0, 2])\n",
    "norm_tuning_curves = np.nansum(\n",
    "    tuning_curves/np.nansum(tuning_curves, axis=(2,3))[..., np.newaxis, np.newaxis], axis=(0,1))\n",
    "norm_tuning_curves[np.isnan(norm_tuning_curves)] = 0\n",
    "\n",
    "pp2 = ax2.pcolormesh(xx, yy, norm_tuning_curves, cmap='bone_r')\n",
    "ax2.set_title(\"Normalized TCs\", fontsize=14)\n",
    "ax2.axis('off')\n",
    "\n",
    "ax3 = plt.subplot(gs[0, 3])\n",
    "avg_tuning_curves = np.nansum(tuning_curves/tuning_curves.shape[1], axis=(0,1))\n",
    "avg_tuning_curves[np.isnan(avg_tuning_curves)] = 0\n",
    "\n",
    "pp3 = ax3.pcolormesh(xx, yy, avg_tuning_curves, cmap='bone_r')\n",
    "ax3.set_title(\"Average TCs\", fontsize=14)\n",
    "ax3.axis('off')\n",
    "\n",
    "for i, task_label in enumerate(task_labels):\n",
    "    ax = plt.subplot(gs[1, i])\n",
    "    likelihood = np.nanmean(np.array(getattr(session, task_label).likelihoods), axis=(0, 1))\n",
    "    likelihood[np.isnan(likelihood)] = 0\n",
    "\n",
    "    ax.plot(session.position.x, session.position.y, \".\", color=maze_highlight, ms=1, alpha=0.2)\n",
    "    ax.set_title(\"All SWRs \" + task_label, fontsize=14)\n",
    "    ax.axis('off')\n",
    "    likelihoods = ax.pcolormesh(xx, yy, likelihood, vmax=vmax, cmap='bone_r')\n",
    "    for label in [\"u\", \"shortcut\", \"novel\"]:\n",
    "        ax.contour(xxx, yyy, zones[label], levels=0, linewidths=2, colors=colours[label])\n",
    "\n",
    "fig.colorbar(likelihoods)\n",
    "\n",
    "plt.tight_layout()\n",
    "plt.show()"
   ]
  },
  {
   "cell_type": "code",
   "execution_count": null,
   "metadata": {},
   "outputs": [],
   "source": [
    "norm_tuning_curves.shape"
   ]
  },
  {
   "cell_type": "code",
   "execution_count": null,
   "metadata": {},
   "outputs": [],
   "source": [
    "multiple_tuning_curves.shape"
   ]
  },
  {
   "cell_type": "code",
   "execution_count": null,
   "metadata": {},
   "outputs": [],
   "source": [
    "tc = session.pauseA.tuning_curves"
   ]
  },
  {
   "cell_type": "code",
   "execution_count": null,
   "metadata": {},
   "outputs": [],
   "source": [
    "tc.shape"
   ]
  },
  {
   "cell_type": "code",
   "execution_count": null,
   "metadata": {},
   "outputs": [],
   "source": [
    "tt = tc / np.nansum(tc, axis=(2,3))[..., np.newaxis, np.newaxis]"
   ]
  },
  {
   "cell_type": "code",
   "execution_count": null,
   "metadata": {},
   "outputs": [],
   "source": [
    "ty = tc / tc.shape[1]"
   ]
  },
  {
   "cell_type": "code",
   "execution_count": null,
   "metadata": {},
   "outputs": [],
   "source": [
    "multiple_tuning_curves = np.zeros((tc.shape[2], tc.shape[3]))\n",
    "\n",
    "for i in range(tc.shape[1]):\n",
    "    multiple_tuning_curves += tc[0, i, :, :]"
   ]
  },
  {
   "cell_type": "code",
   "execution_count": null,
   "metadata": {},
   "outputs": [],
   "source": [
    "multiple_tuning_curves[np.isnan(multiple_tuning_curves)] = 0"
   ]
  },
  {
   "cell_type": "code",
   "execution_count": null,
   "metadata": {},
   "outputs": [],
   "source": [
    "plt.pcolormesh(xx, yy, multiple_tuning_curves, vmax=500, cmap='bone_r')\n",
    "plt.show()"
   ]
  },
  {
   "cell_type": "code",
   "execution_count": null,
   "metadata": {
    "collapsed": true
   },
   "outputs": [],
   "source": [
    "from analyze_classy_decode import Session, TaskTime"
   ]
  },
  {
   "cell_type": "code",
   "execution_count": null,
   "metadata": {},
   "outputs": [],
   "source": [
    "import info.r063d2 as info\n",
    "\n",
    "true_path = os.path.join(pickle_filepath, info.session_id + \"_likelihoods_true.pkl\")\n",
    "\n",
    "with open(true_path, 'rb') as fileobj:\n",
    "    true_session = pickle.load(fileobj)\n",
    "\n",
    "for task_label in task_labels:\n",
    "    title = \"Posterior for \" + task_label + \" all SWRs\"\n",
    "    plot_likelihood_overspace(info, true_session, task_label, colours, title)"
   ]
  },
  {
   "cell_type": "code",
   "execution_count": null,
   "metadata": {},
   "outputs": [],
   "source": [
    "# Fixing random state for reproducibility\n",
    "np.random.seed(0)\n",
    "\n",
    "# fake up some data\n",
    "spread = np.random.rand(50) * 100\n",
    "center = np.ones(25) * 50\n",
    "flier_high = np.random.rand(10) * 100 + 100\n",
    "flier_low = np.random.rand(10) * -100\n",
    "data = np.concatenate((spread, center, flier_high, flier_low))\n",
    "\n",
    "fig, axs = plt.subplots(2, 4)\n",
    "\n",
    "# basic plot\n",
    "axs[0, 0].plot(data)\n",
    "axs[0, 0].set_title('basic plot')\n",
    "\n",
    "# notched plot\n",
    "axs[0, 1].plot(data)\n",
    "axs[0, 1].set_title('notched plot')\n",
    "\n",
    "# change outlier point symbols\n",
    "axs[0, 2].plot(data)\n",
    "axs[0, 2].set_title('change outlier\\npoint symbols')\n",
    "\n",
    "# don't show outlier points\n",
    "axs[1, 0].plot(data)\n",
    "axs[1, 0].set_title(\"don't show\\noutlier points\")\n",
    "\n",
    "# horizontal boxes\n",
    "axs[1, 1].plot(data)\n",
    "axs[1, 1].set_title('horizontal boxes')\n",
    "\n",
    "# change whisker length\n",
    "axs[1, 2].plot(data)\n",
    "axs[1, 2].set_title('change whisker length')\n",
    "\n",
    "fig.subplots_adjust(left=0.08, right=0.98, bottom=0.05, top=0.9,\n",
    "                    hspace=0.4, wspace=0.3)\n",
    "\n",
    "plt.show()"
   ]
  },
  {
   "cell_type": "code",
   "execution_count": null,
   "metadata": {
    "collapsed": true
   },
   "outputs": [],
   "source": []
  }
 ],
 "metadata": {
  "kernelspec": {
   "display_name": "Python 3",
   "language": "python",
   "name": "python3"
  },
  "language_info": {
   "codemirror_mode": {
    "name": "ipython",
    "version": 3
   },
   "file_extension": ".py",
   "mimetype": "text/x-python",
   "name": "python",
   "nbconvert_exporter": "python",
   "pygments_lexer": "ipython3",
   "version": "3.6.5"
  }
 },
 "nbformat": 4,
 "nbformat_minor": 2
}
