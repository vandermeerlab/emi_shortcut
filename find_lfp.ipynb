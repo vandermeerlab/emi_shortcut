{
 "cells": [
  {
   "cell_type": "code",
   "execution_count": null,
   "metadata": {
    "collapsed": true
   },
   "outputs": [],
   "source": [
    "import numpy as np\n",
    "import matplotlib.pyplot as plt\n",
    "import os\n",
    "\n",
    "from startup import load_csc"
   ]
  },
  {
   "cell_type": "code",
   "execution_count": null,
   "metadata": {
    "collapsed": true
   },
   "outputs": [],
   "source": [
    "import info.R063d2_info as r063d2\n",
    "import info.R063d3_info as r063d3\n",
    "import info.R063d4_info as r063d4\n",
    "import info.R063d5_info as r063d5\n",
    "import info.R063d6_info as r063d6\n",
    "import info.R066d1_info as r066d1\n",
    "import info.R066d2_info as r066d2\n",
    "import info.R066d3_info as r066d3\n",
    "import info.R066d4_info as r066d4"
   ]
  },
  {
   "cell_type": "code",
   "execution_count": null,
   "metadata": {
    "collapsed": false
   },
   "outputs": [],
   "source": [
    "info = r066d3"
   ]
  },
  {
   "cell_type": "code",
   "execution_count": null,
   "metadata": {
    "collapsed": false
   },
   "outputs": [],
   "source": [
    "lfp_path = 'C:\\\\Users\\\\EmilyWork\\\\Desktop\\\\lfps'\n",
    "\n",
    "csc01 = load_csc(os.path.join(lfp_path, 'R066-2014-12-01-csc01.mat'))\n",
    "csc02 = load_csc(os.path.join(lfp_path, 'R066-2014-12-01-csc02.mat'))\n",
    "csc03 = load_csc(os.path.join(lfp_path, 'R066-2014-12-01-csc03.mat'))\n",
    "# csc04 = load_csc(os.path.join(lfp_path, 'R066-2014-11-28-csc04.mat'))\n",
    "csc05 = load_csc(os.path.join(lfp_path, 'R066-2014-12-01-csc05.mat'))\n",
    "csc06 = load_csc(os.path.join(lfp_path, 'R066-2014-12-01-csc06.mat'))\n",
    "csc07 = load_csc(os.path.join(lfp_path, 'R066-2014-12-01-csc07.mat'))\n",
    "csc08 = load_csc(os.path.join(lfp_path, 'R066-2014-12-01-csc08.mat'))\n",
    "csc09 = load_csc(os.path.join(lfp_path, 'R066-2014-12-01-csc09.mat'))\n",
    "csc10 = load_csc(os.path.join(lfp_path, 'R066-2014-12-01-csc10.mat'))\n",
    "csc11 = load_csc(os.path.join(lfp_path, 'R066-2014-12-01-csc11.mat'))\n",
    "csc12 = load_csc(os.path.join(lfp_path, 'R066-2014-12-01-csc12.mat'))\n",
    "csc13 = load_csc(os.path.join(lfp_path, 'R066-2014-12-01-csc13.mat'))\n",
    "# csc14 = load_csc(os.path.join(lfp_path, 'R066-2014-12-01-csc14.mat'))\n",
    "csc15 = load_csc(os.path.join(lfp_path, 'R066-2014-12-01-csc15.mat'))\n",
    "# csc16 = load_csc(os.path.join(lfp_path, 'R066-2014-12-01-csc16.mat'))"
   ]
  },
  {
   "cell_type": "code",
   "execution_count": null,
   "metadata": {
    "collapsed": true
   },
   "outputs": [],
   "source": [
    "swr_start = info.sequence['shortcut']['swr_start'][0]\n",
    "swr_stop = info.sequence['shortcut']['swr_stop'][0]"
   ]
  },
  {
   "cell_type": "code",
   "execution_count": null,
   "metadata": {
    "collapsed": false
   },
   "outputs": [],
   "source": [
    "# plt.plot(csc01['time'], csc01['data']+0.001, 'k')\n",
    "# plt.plot(csc02['time'], csc02['data']+0.002, 'k')\n",
    "plt.plot(csc03['time'], csc03['data']+0.003, 'k')\n",
    "# plt.plot(csc04['time'], csc04['data']+0.004, 'k')\n",
    "plt.plot(csc05['time'], csc05['data']+0.005, 'm')\n",
    "plt.plot(csc06['time'], csc06['data']+0.006, 'k')\n",
    "plt.plot(csc07['time'], csc07['data']+0.007, 'k')\n",
    "plt.plot(csc08['time'], csc08['data']+0.008, 'k')\n",
    "plt.plot(csc09['time'], csc09['data']+0.009, 'k')\n",
    "plt.plot(csc10['time'], csc10['data']+0.010, 'c')\n",
    "plt.plot(csc11['time'], csc11['data']+0.011, 'k')\n",
    "plt.plot(csc12['time'], csc12['data']+0.012, 'k')\n",
    "plt.plot(csc13['time'], csc13['data']+0.013, 'k')\n",
    "# plt.plot(csc14['time'], csc14['data']+0.014, 'k')\n",
    "plt.plot(csc15['time'], csc15['data']+0.015, 'g')\n",
    "# plt.plot(csc16['time'], csc16['data']+0.016, 'k')\n",
    "plt.xlim([swr_start, swr_stop])\n",
    "plt.show()"
   ]
  },
  {
   "cell_type": "code",
   "execution_count": null,
   "metadata": {
    "collapsed": false
   },
   "outputs": [],
   "source": [
    "lfp_path = 'E:\\code\\python-vdmlab\\projects\\emily_shortcut\\cache\\data'\n",
    "csc12 = load_csc(os.path.join(lfp_path, 'R066-2014-11-29-csc12.mat'))\n",
    "plt.plot(csc12['time'], csc12['data']+0.012, 'k')\n",
    "plt.xlim([swr_start, swr_stop])\n",
    "plt.show()"
   ]
  },
  {
   "cell_type": "code",
   "execution_count": null,
   "metadata": {
    "collapsed": true
   },
   "outputs": [],
   "source": []
  }
 ],
 "metadata": {
  "kernelspec": {
   "display_name": "Python 3",
   "language": "python",
   "name": "python3"
  },
  "language_info": {
   "codemirror_mode": {
    "name": "ipython",
    "version": 3
   },
   "file_extension": ".py",
   "mimetype": "text/x-python",
   "name": "python",
   "nbconvert_exporter": "python",
   "pygments_lexer": "ipython3",
   "version": "3.5.2"
  }
 },
 "nbformat": 4,
 "nbformat_minor": 0
}
