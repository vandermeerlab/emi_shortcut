{
 "cells": [
  {
   "cell_type": "code",
   "execution_count": null,
   "metadata": {
    "collapsed": true
   },
   "outputs": [],
   "source": [
    "import numpy as np\n",
    "import matplotlib.pyplot as plt\n",
    "import os\n",
    "\n",
    "from startup import load_lfp"
   ]
  },
  {
   "cell_type": "code",
   "execution_count": null,
   "metadata": {
    "collapsed": false
   },
   "outputs": [],
   "source": [
    "import info.R063d2_info as r063d2\n",
    "import info.R063d3_info as r063d3\n",
    "import info.R063d4_info as r063d4\n",
    "import info.R063d5_info as r063d5\n",
    "import info.R063d6_info as r063d6\n",
    "import info.R066d1_info as r066d1\n",
    "import info.R066d2_info as r066d2\n",
    "import info.R066d3_info as r066d3\n",
    "import info.R066d4_info as r066d4\n",
    "import info.R067d1_info as r067d1\n",
    "import info.R067d2_info as r067d2\n",
    "import info.R067d3_info as r067d3\n",
    "import info.R067d4_info as r067d4\n",
    "import info.R068d1_info as r068d1\n"
   ]
  },
  {
   "cell_type": "code",
   "execution_count": null,
   "metadata": {
    "collapsed": false
   },
   "outputs": [],
   "source": [
    "info = r068d1"
   ]
  },
  {
   "cell_type": "code",
   "execution_count": null,
   "metadata": {
    "collapsed": true
   },
   "outputs": [],
   "source": [
    "# lfp_path = 'C:\\\\Users\\\\Emily\\\\Code\\\\emi_shortcut\\\\cache\\\\data'\n",
    "lfp_path = 'E:\\\\code\\\\emi_shortcut\\\\cache\\\\data'"
   ]
  },
  {
   "cell_type": "code",
   "execution_count": null,
   "metadata": {
    "collapsed": false
   },
   "outputs": [],
   "source": [
    "session = info.session\n",
    "tetrodes = ['01', '02', '03', '04', '05', '06', '07', '08',\n",
    "            '09', '10', '11', '12', '13', '14', '15', '16']\n",
    "lfps = []\n",
    "for tetrode in tetrodes:\n",
    "    csc_mat = session + '-csc' + tetrode + '.mat'\n",
    "    lfps.append(load_lfp(os.path.join(lfp_path, csc_mat)))"
   ]
  },
  {
   "cell_type": "code",
   "execution_count": null,
   "metadata": {
    "collapsed": false
   },
   "outputs": [],
   "source": [
    "swr_start = info.task_times['postrecord'].start\n",
    "swr_stop = info.task_times['postrecord'].start + 10"
   ]
  },
  {
   "cell_type": "code",
   "execution_count": null,
   "metadata": {
    "collapsed": false
   },
   "outputs": [],
   "source": [
    "colours = ['k', 'k', 'k', 'k', 'c']\n",
    "skip = 0.001\n",
    "for i, lfp in enumerate(lfps):\n",
    "    plt.plot(lfp.time, lfp.data+skip, color=colours[i % len(colours)])\n",
    "    skip += 0.001\n",
    "plt.xlim([swr_start, swr_stop])\n",
    "plt.ylim([0, 0.017])\n",
    "plt.show()"
   ]
  },
  {
   "cell_type": "code",
   "execution_count": null,
   "metadata": {
    "collapsed": true
   },
   "outputs": [],
   "source": []
  }
 ],
 "metadata": {
  "kernelspec": {
   "display_name": "Python 3",
   "language": "python",
   "name": "python3"
  },
  "language_info": {
   "codemirror_mode": {
    "name": "ipython",
    "version": 3
   },
   "file_extension": ".py",
   "mimetype": "text/x-python",
   "name": "python",
   "nbconvert_exporter": "python",
   "pygments_lexer": "ipython3",
   "version": "3.5.2"
  }
 },
 "nbformat": 4,
 "nbformat_minor": 0
}
