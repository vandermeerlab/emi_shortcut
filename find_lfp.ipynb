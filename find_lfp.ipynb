{
 "cells": [
  {
   "cell_type": "code",
   "execution_count": null,
   "metadata": {
    "collapsed": true
   },
   "outputs": [],
   "source": [
    "# %matplotlib inline\n",
    "import numpy as np\n",
    "import matplotlib.pyplot as plt\n",
    "import os\n",
    "import nept"
   ]
  },
  {
   "cell_type": "code",
   "execution_count": null,
   "metadata": {
    "collapsed": false
   },
   "outputs": [],
   "source": [
    "import info.r063d2 as r063d2\n",
    "import info.r063d3 as r063d3\n",
    "import info.r063d4 as r063d4\n",
    "import info.r063d5 as r063d5\n",
    "import info.r063d6 as r063d6\n",
    "import info.r063d7 as r063d7\n",
    "import info.r063d8 as r063d8\n",
    "\n",
    "import info.r066d1 as r066d1\n",
    "import info.r066d2 as r066d2\n",
    "import info.r066d3 as r066d3\n",
    "import info.r066d4 as r066d4\n",
    "import info.r066d5 as r066d5\n",
    "import info.r066d6 as r066d6\n",
    "import info.r066d7 as r066d7\n",
    "import info.r066d8 as r066d8\n",
    "\n",
    "import info.r067d1 as r067d1\n",
    "import info.r067d2 as r067d2\n",
    "import info.r067d3 as r067d3\n",
    "import info.r067d4 as r067d4\n",
    "import info.r067d5 as r067d5\n",
    "import info.r067d6 as r067d6\n",
    "import info.r067d7 as r067d7\n",
    "import info.r067d8 as r067d8\n",
    "\n",
    "import info.r068d1 as r068d1\n",
    "import info.r068d2 as r068d2\n",
    "import info.r068d3 as r068d3\n",
    "import info.r068d4 as r068d4\n",
    "import info.r068d5 as r068d5\n",
    "import info.r068d6 as r068d6\n",
    "import info.r068d7 as r068d7\n",
    "import info.r068d8 as r068d8"
   ]
  },
  {
   "cell_type": "code",
   "execution_count": null,
   "metadata": {
    "collapsed": true
   },
   "outputs": [],
   "source": [
    "info = r063d2"
   ]
  },
  {
   "cell_type": "code",
   "execution_count": null,
   "metadata": {
    "collapsed": true
   },
   "outputs": [],
   "source": [
    "# lfp_path = 'C:/Users/Emily/Code/emi_shortcut/cache/data/data-working'\n",
    "lfp_path = 'E:/code/emi_shortcut/cache/data/data-working'"
   ]
  },
  {
   "cell_type": "code",
   "execution_count": null,
   "metadata": {
    "collapsed": false
   },
   "outputs": [],
   "source": [
    "session = info.session\n",
    "tetrodes = ['01', '02', '03', '04', '05', '06', '07', '08',\n",
    "            '09', '10', '11', '12', '13', '14', '15', '16']\n",
    "electrode = 'a'\n",
    "lfps = []\n",
    "for tetrode in tetrodes:\n",
    "    lfp_filename = session + '-csc' + tetrode + electrode + '.ncs'\n",
    "    lfp_filepath = lfp_path, info.rat_id, session+'_recording', lfp_filename\n",
    "    lfps.append(nept.load_lfp(os.path.join(lfp_filepath)))"
   ]
  },
  {
   "cell_type": "code",
   "execution_count": null,
   "metadata": {
    "collapsed": false
   },
   "outputs": [],
   "source": [
    "swr_start = info.task_times['postrecord'].start\n",
    "swr_stop = info.task_times['postrecord'].start + 10"
   ]
  },
  {
   "cell_type": "code",
   "execution_count": null,
   "metadata": {
    "collapsed": false
   },
   "outputs": [],
   "source": [
    "colours = ['k', 'k', 'k', 'k', 'c']\n",
    "skip = 0.001\n",
    "for i, lfp in enumerate(lfps):\n",
    "    plt.plot(lfp.time, lfp.data+skip, color=colours[i % len(colours)])\n",
    "    skip += 0.001\n",
    "plt.xlim([swr_start, swr_stop])\n",
    "plt.ylim([0, 0.017])\n",
    "plt.show()"
   ]
  },
  {
   "cell_type": "code",
   "execution_count": null,
   "metadata": {
    "collapsed": true
   },
   "outputs": [],
   "source": []
  },
  {
   "cell_type": "code",
   "execution_count": null,
   "metadata": {
    "collapsed": true
   },
   "outputs": [],
   "source": []
  }
 ],
 "metadata": {
  "anaconda-cloud": {},
  "kernelspec": {
   "display_name": "Python [default]",
   "language": "python",
   "name": "python3"
  },
  "language_info": {
   "codemirror_mode": {
    "name": "ipython",
    "version": 3
   },
   "file_extension": ".py",
   "mimetype": "text/x-python",
   "name": "python",
   "nbconvert_exporter": "python",
   "pygments_lexer": "ipython3",
   "version": "3.5.2"
  }
 },
 "nbformat": 4,
 "nbformat_minor": 0
}
