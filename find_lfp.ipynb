{
 "cells": [
  {
   "cell_type": "code",
   "execution_count": null,
   "metadata": {
    "ExecuteTime": {
     "end_time": "2018-06-01T16:41:34.112302Z",
     "start_time": "2018-06-01T16:41:33.436840Z"
    }
   },
   "outputs": [],
   "source": [
    "# %matplotlib inline\n",
    "import numpy as np\n",
    "import matplotlib.pyplot as plt\n",
    "import os\n",
    "import nept"
   ]
  },
  {
   "cell_type": "code",
   "execution_count": null,
   "metadata": {
    "ExecuteTime": {
     "end_time": "2018-06-01T16:41:34.226384Z",
     "start_time": "2018-06-01T16:41:34.114304Z"
    }
   },
   "outputs": [],
   "source": [
    "import info.r063d2 as r063d2\n",
    "import info.r063d3 as r063d3\n",
    "import info.r063d4 as r063d4\n",
    "import info.r063d5 as r063d5\n",
    "import info.r063d6 as r063d6\n",
    "import info.r063d7 as r063d7\n",
    "import info.r063d8 as r063d8\n",
    "\n",
    "import info.r066d1 as r066d1\n",
    "import info.r066d2 as r066d2\n",
    "import info.r066d3 as r066d3\n",
    "import info.r066d4 as r066d4\n",
    "import info.r066d5 as r066d5\n",
    "import info.r066d6 as r066d6\n",
    "import info.r066d7 as r066d7\n",
    "import info.r066d8 as r066d8\n",
    "\n",
    "import info.r067d1 as r067d1\n",
    "import info.r067d2 as r067d2\n",
    "import info.r067d3 as r067d3\n",
    "import info.r067d4 as r067d4\n",
    "import info.r067d5 as r067d5\n",
    "import info.r067d6 as r067d6\n",
    "import info.r067d7 as r067d7\n",
    "import info.r067d8 as r067d8\n",
    "\n",
    "import info.r068d1 as r068d1\n",
    "import info.r068d2 as r068d2\n",
    "import info.r068d3 as r068d3\n",
    "import info.r068d4 as r068d4\n",
    "import info.r068d5 as r068d5\n",
    "import info.r068d6 as r068d6\n",
    "import info.r068d7 as r068d7\n",
    "import info.r068d8 as r068d8"
   ]
  },
  {
   "cell_type": "code",
   "execution_count": null,
   "metadata": {
    "ExecuteTime": {
     "end_time": "2018-06-01T16:41:34.230887Z",
     "start_time": "2018-06-01T16:41:34.227885Z"
    }
   },
   "outputs": [],
   "source": [
    "info = r066d8"
   ]
  },
  {
   "cell_type": "code",
   "execution_count": null,
   "metadata": {
    "ExecuteTime": {
     "end_time": "2018-06-01T16:41:34.241895Z",
     "start_time": "2018-06-01T16:41:34.232888Z"
    }
   },
   "outputs": [],
   "source": [
    "# lfp_path = 'C:/Users/Emily/Code/emi_shortcut/cache/data/data-working'\n",
    "lfp_path = 'E:/code/emi_shortcut/cache/data/data-working'"
   ]
  },
  {
   "cell_type": "code",
   "execution_count": null,
   "metadata": {
    "ExecuteTime": {
     "end_time": "2018-06-01T16:41:34.253903Z",
     "start_time": "2018-06-01T16:41:34.243896Z"
    }
   },
   "outputs": [],
   "source": [
    "session = info.session\n",
    "tetrodes = [\"%.2d\" % i for i in np.arange(1,17)]\n",
    "electrode = 'a'"
   ]
  },
  {
   "cell_type": "code",
   "execution_count": null,
   "metadata": {
    "ExecuteTime": {
     "end_time": "2018-06-01T16:41:34.264911Z",
     "start_time": "2018-06-01T16:41:34.255404Z"
    }
   },
   "outputs": [],
   "source": [
    "lfp_filename = session + '-CSC' + tetrodes[0] + electrode + '.ncs'\n",
    "lfp_filepath = os.path.join(lfp_path, info.rat_id, session+'_recording', lfp_filename)"
   ]
  },
  {
   "cell_type": "code",
   "execution_count": null,
   "metadata": {
    "ExecuteTime": {
     "end_time": "2018-06-01T16:41:34.421540Z",
     "start_time": "2018-06-01T16:41:34.266913Z"
    }
   },
   "outputs": [],
   "source": [
    "session = info.session\n",
    "tetrodes = [\"%.2d\" % i for i in np.arange(1,17)]\n",
    "electrode = 'a'\n",
    "lfps = []\n",
    "for tetrode in tetrodes:\n",
    "    lfp_filename = session + '-csc' + tetrode + electrode + '.ncs'\n",
    "    lfp_filepath = os.path.join(lfp_path, \n",
    "                                info.rat_id, \n",
    "                                session+'_recording', \n",
    "                                lfp_filename)\n",
    "    lfps.append(nept.load_lfp(lfp_filepath))"
   ]
  },
  {
   "cell_type": "code",
   "execution_count": null,
   "metadata": {
    "ExecuteTime": {
     "end_time": "2018-06-01T16:41:34.422024Z",
     "start_time": "2018-06-01T16:41:33.456Z"
    }
   },
   "outputs": [],
   "source": [
    "start = info.task_times['pauseB'].stop - 8\n",
    "stop = info.task_times['pauseB'].stop"
   ]
  },
  {
   "cell_type": "code",
   "execution_count": null,
   "metadata": {
    "ExecuteTime": {
     "end_time": "2018-06-01T16:41:34.424025Z",
     "start_time": "2018-06-01T16:41:33.459Z"
    }
   },
   "outputs": [],
   "source": [
    "sliced_lfps = []\n",
    "for lfp in lfps:\n",
    "    sliced_lfps.append(lfp.time_slice(start, stop))"
   ]
  },
  {
   "cell_type": "code",
   "execution_count": null,
   "metadata": {
    "ExecuteTime": {
     "end_time": "2018-06-01T16:41:34.425025Z",
     "start_time": "2018-06-01T16:41:33.461Z"
    },
    "scrolled": false
   },
   "outputs": [],
   "source": [
    "for i, lfp in enumerate(sliced_lfps):\n",
    "    print(i+1)\n",
    "    plt.plot(lfp.time, lfp.data, ms=1)\n",
    "    plt.ylim(-0.0003, 0.0003)\n",
    "    plt.show()"
   ]
  },
  {
   "cell_type": "code",
   "execution_count": null,
   "metadata": {},
   "outputs": [],
   "source": []
  },
  {
   "cell_type": "code",
   "execution_count": null,
   "metadata": {},
   "outputs": [],
   "source": []
  }
 ],
 "metadata": {
  "anaconda-cloud": {},
  "kernelspec": {
   "display_name": "Python 3",
   "language": "python",
   "name": "python3"
  },
  "language_info": {
   "codemirror_mode": {
    "name": "ipython",
    "version": 3
   },
   "file_extension": ".py",
   "mimetype": "text/x-python",
   "name": "python",
   "nbconvert_exporter": "python",
   "pygments_lexer": "ipython3",
   "version": "3.6.5"
  },
  "toc": {
   "colors": {
    "hover_highlight": "#DAA520",
    "running_highlight": "#FF0000",
    "selected_highlight": "#FFD700"
   },
   "moveMenuLeft": true,
   "nav_menu": {
    "height": "12px",
    "width": "252px"
   },
   "navigate_menu": true,
   "number_sections": true,
   "sideBar": true,
   "threshold": 4,
   "toc_cell": false,
   "toc_section_display": "block",
   "toc_window_display": false
  }
 },
 "nbformat": 4,
 "nbformat_minor": 1
}
