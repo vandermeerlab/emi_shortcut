{
 "cells": [
  {
   "cell_type": "code",
   "execution_count": null,
   "metadata": {
    "collapsed": true
   },
   "outputs": [],
   "source": [
    "import matplotlib.pyplot as plt\n",
    "import numpy as np\n",
    "import os\n",
    "import nept\n",
    "import scipy\n",
    "\n",
    "from loading_data import get_data, extract_xy, median_filter\n",
    "from utils_maze import get_trials"
   ]
  },
  {
   "cell_type": "code",
   "execution_count": null,
   "metadata": {},
   "outputs": [],
   "source": [
    "thisdir = os.getcwd()\n",
    "dataloc = os.path.join(thisdir, 'cache', 'data')\n",
    "pickle_filepath = os.path.join(thisdir, \"cache\", \"pickled\")\n",
    "output_filepath = os.path.join(thisdir, \"plots\")"
   ]
  },
  {
   "cell_type": "code",
   "execution_count": null,
   "metadata": {},
   "outputs": [],
   "source": [
    "import info.r066d6 as r066d6\n",
    "info = r066d6"
   ]
  },
  {
   "cell_type": "code",
   "execution_count": null,
   "metadata": {},
   "outputs": [],
   "source": [
    "events, position, _, _, _ = get_data(info)"
   ]
  },
  {
   "cell_type": "code",
   "execution_count": null,
   "metadata": {},
   "outputs": [],
   "source": [
    "# Load raw position from file\n",
    "filename = os.path.join(dataloc, info.position_filename)\n",
    "nvt_data = nept.load_nvt(filename)\n",
    "targets = nvt_data['targets']\n",
    "times = nvt_data['time']"
   ]
  },
  {
   "cell_type": "code",
   "execution_count": null,
   "metadata": {},
   "outputs": [],
   "source": [
    "# Initialize x, y arrays\n",
    "x = np.zeros(targets.shape)\n",
    "y = np.zeros(targets.shape)\n",
    "\n",
    "# X and Y are stored in a custom bitfield. See Neuralynx data file format documentation for details.\n",
    "# Briefly, each record contains up to 50 targets, each stored in 32bit field.\n",
    "# X field at [20:31] and Y at [4:15].\n",
    "# TODO: make into a separate function in nept\n",
    "for target in range(targets.shape[1]):\n",
    "    this_sample = targets[:, target]\n",
    "    for sample in range(targets.shape[0]):\n",
    "        # When the bitfield is equal to zero there is no valid data for that field\n",
    "        # and remains zero for the rest of the bitfields in the record.\n",
    "        if this_sample[target] == 0:\n",
    "            break\n",
    "        x[sample, target], y[sample, target] = extract_xy(int(this_sample[sample]))\n",
    "\n",
    "# Replacing targets with no samples with nan instead of 0\n",
    "x[x == 0] = np.nan\n",
    "y[y == 0] = np.nan\n",
    "\n",
    "# # Scale the positions\n",
    "x = x / info.scale_targets[0]\n",
    "y = y / info.scale_targets[1]"
   ]
  },
  {
   "cell_type": "code",
   "execution_count": null,
   "metadata": {},
   "outputs": [],
   "source": [
    "plt.plot(times, y, \"b.\")\n",
    "plt.show()"
   ]
  },
  {
   "cell_type": "code",
   "execution_count": null,
   "metadata": {},
   "outputs": [],
   "source": [
    "print(\"Feeder1\")\n",
    "xmode, xcount = scipy.stats.mode(x, axis=None, nan_policy='omit')\n",
    "ymode, ycount = scipy.stats.mode(y, axis=None, nan_policy='omit')\n",
    "print(\"xy:\", xmode, ymode)"
   ]
  },
  {
   "cell_type": "code",
   "execution_count": null,
   "metadata": {},
   "outputs": [],
   "source": [
    "print(\"Feeder2\")\n",
    "xxmode, xxcount = scipy.stats.mode(x[x != xmode], axis=None, nan_policy='omit')\n",
    "yymode, yycount = scipy.stats.mode(y[y != ymode], axis=None, nan_policy='omit')\n",
    "print(\"xy:\", xxmode, yymode)"
   ]
  },
  {
   "cell_type": "code",
   "execution_count": null,
   "metadata": {},
   "outputs": [],
   "source": [
    "plt.plot(position.x, position.y, \"y.\", ms=2)\n",
    "cornerx = 70\n",
    "cornery = 20\n",
    "plt.plot(cornerx, cornery, \"r.\", ms=10)\n",
    "plt.plot(cornerx, cornery+(35*3), \"r.\", ms=10)\n",
    "plt.plot(cornerx+(35*4), cornery, \"r.\", ms=10)\n",
    "\n",
    "plt.plot(208., 18.66, \"c.\", ms=10)\n",
    "plt.plot(174.67, 155.33, \"c.\", ms=10)\n",
    "\n",
    "plt.plot(74, 25, \"k.\", ms=10)\n",
    "plt.plot(74, 115, \"k.\", ms=10)\n",
    "plt.plot(175, 125, \"k.\", ms=10)\n",
    "\n",
    "plt.plot(115, 60, \"k.\", ms=10)\n",
    "\n",
    "plt.plot(175, 80, \"k.\", ms=10)\n",
    "plt.plot(110, 90, \"k.\", ms=10)\n",
    "\n",
    "plt.plot(175, 125, \"k.\", ms=10)\n",
    "plt.plot(65, 160, \"k.\", ms=10)\n",
    "\n",
    "plt.plot(130, 17.5, \"k.\", ms=10)\n",
    "plt.show()"
   ]
  },
  {
   "cell_type": "code",
   "execution_count": null,
   "metadata": {
    "scrolled": true
   },
   "outputs": [],
   "source": [
    "led_padding = 1\n",
    "# Finding which feeder led is on over time\n",
    "leds = []\n",
    "leds.extend([(event, 'led1') for event in events['led1']])\n",
    "leds.extend([(event, 'led2') for event in events['led2']])\n",
    "sorted_leds = sorted(leds)\n",
    "\n",
    "# Get an array of feeder locations when that feeder is actively flashing\n",
    "feeder_x_location = np.empty(times.shape[0]) * np.nan\n",
    "feeder_y_location = np.empty(times.shape[0]) * np.nan\n",
    "\n",
    "ledoff = events[\"ledoff\"]\n",
    "off_idx = 0\n",
    "\n",
    "for time, label in sorted_leds:\n",
    "    x_location = info.path_pts['feeder1'][0] if label == 'led1' else info.path_pts['feeder2'][0]\n",
    "    y_location = info.path_pts['feeder1'][1] if label == 'led1' else info.path_pts['feeder2'][1]\n",
    "    \n",
    "    # Find next off idx\n",
    "    while ledoff[off_idx] < time and off_idx < len(ledoff):\n",
    "        off_idx += 1\n",
    "    \n",
    "    # Discount the last event when last off missing\n",
    "    if off_idx >= len(ledoff):\n",
    "        break\n",
    "\n",
    "    start = nept.find_nearest_idx(times, time)\n",
    "    stop = nept.find_nearest_idx(times, ledoff[off_idx])\n",
    "    feeder_x_location[start:stop+led_padding] = x_location\n",
    "    feeder_y_location[start:stop+led_padding] = y_location\n",
    "\n",
    "\n",
    "# Removing the contaminated samples that are closest to the feeder location\n",
    "def remove_feeder_contamination(original_targets, current_feeder, dist_to_feeder=40):\n",
    "    targets = np.array(original_targets)\n",
    "    for i, (target, feeder) in enumerate(zip(targets, current_feeder)):\n",
    "        if not np.isnan(feeder):\n",
    "            dist = np.abs(target - feeder) < dist_to_feeder\n",
    "            target[dist] = np.nan\n",
    "        targets[i] = target\n",
    "    return targets\n",
    "\n",
    "x = remove_feeder_contamination(x, feeder_x_location)\n",
    "y = remove_feeder_contamination(y, feeder_y_location)\n",
    "\n",
    "\n",
    "# Removing the problem samples that are furthest from the previous location\n",
    "def remove_based_on_std(original_targets, std_thresh=2):\n",
    "    targets = np.array(original_targets)\n",
    "    stds = np.nanstd(targets, axis=1)[:, np.newaxis]\n",
    "    \n",
    "    # find idx where there is a large variation between targets\n",
    "    problem_samples = np.where(stds > std_thresh)[0]\n",
    "    \n",
    "    for i in problem_samples:\n",
    "        # find the previous mean to help determine which target is an issue\n",
    "        previous_idx = i-1\n",
    "        previous_mean = np.nanmean(targets[previous_idx])\n",
    "        \n",
    "        # if previous sample is nan, compare current sample to the one before that\n",
    "        while np.isnan(previous_mean):\n",
    "            previous_idx -= 1\n",
    "            previous_mean = np.nanmean(targets[previous_idx])\n",
    "        \n",
    "        # remove problem target\n",
    "        idx = np.nanargmax(np.abs(targets[i] - previous_mean))\n",
    "        targets[i][idx] = np.nan\n",
    "    \n",
    "    return targets\n",
    "\n",
    "x = remove_based_on_std(x)\n",
    "y = remove_based_on_std(y)\n",
    "\n",
    "# Calculating the mean of the remaining targets\n",
    "xx = np.nanmean(x, axis=1)\n",
    "yy = np.nanmean(y, axis=1)\n",
    "ttimes = times\n",
    "\n",
    "# Finding nan idx\n",
    "x_nan_idx = np.isnan(xx)\n",
    "y_nan_idx = np.isnan(yy)\n",
    "nan_idx = x_nan_idx | y_nan_idx\n",
    "\n",
    "# Removing nan samples\n",
    "xx = xx[~nan_idx]\n",
    "yy = yy[~nan_idx]\n",
    "ttimes = ttimes[~nan_idx]\n",
    "\n",
    "# Apply a median filter\n",
    "xx, yy = median_filter(xx, yy, kernel=11)\n",
    "\n",
    "position = nept.Position(np.hstack(np.array([xx, yy])[..., np.newaxis]), ttimes)\n",
    "\n",
    "plt.plot(position.x, position.y, \"k.\", ms=2)\n",
    "plt.show()"
   ]
  },
  {
   "cell_type": "code",
   "execution_count": null,
   "metadata": {},
   "outputs": [],
   "source": [
    "plt.plot(position.time, position.y, \"k.\", ms=2)\n",
    "plt.show()"
   ]
  },
  {
   "cell_type": "code",
   "execution_count": null,
   "metadata": {
    "collapsed": true
   },
   "outputs": [],
   "source": []
  },
  {
   "cell_type": "code",
   "execution_count": null,
   "metadata": {},
   "outputs": [],
   "source": [
    "trial_epochs = get_trials(events, info.task_times[\"phase3\"])\n",
    "trial_idx = 1\n",
    "start = trial_epochs[trial_idx].start\n",
    "stop = trial_epochs[trial_idx].stop\n",
    "\n",
    "trial = position.time_slice(start, stop)\n",
    "plt.plot(trial.x, trial.y, \"k.\")\n",
    "plt.show()"
   ]
  },
  {
   "cell_type": "code",
   "execution_count": null,
   "metadata": {
    "collapsed": true
   },
   "outputs": [],
   "source": []
  }
 ],
 "metadata": {
  "kernelspec": {
   "display_name": "Python 3",
   "language": "python",
   "name": "python3"
  },
  "language_info": {
   "codemirror_mode": {
    "name": "ipython",
    "version": 3
   },
   "file_extension": ".py",
   "mimetype": "text/x-python",
   "name": "python",
   "nbconvert_exporter": "python",
   "pygments_lexer": "ipython3",
   "version": "3.6.5"
  }
 },
 "nbformat": 4,
 "nbformat_minor": 2
}
