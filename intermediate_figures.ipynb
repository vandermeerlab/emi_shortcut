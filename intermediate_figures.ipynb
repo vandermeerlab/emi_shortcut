{
 "cells": [
  {
   "cell_type": "code",
   "execution_count": null,
   "metadata": {
    "collapsed": true
   },
   "outputs": [],
   "source": [
    "%matplotlib inline\n",
    "import matplotlib.pyplot as plt\n",
    "import numpy as np\n",
    "import pickle\n",
    "import os\n",
    "import pandas as pd\n",
    "from collections import OrderedDict\n",
    "from shapely.geometry import Point, LineString\n",
    "import scalebar\n",
    "\n",
    "import nept\n",
    "import scalebar\n",
    "\n",
    "from loading_data import get_data\n",
    "from utils_maze import get_xyedges, find_zones, speed_threshold\n",
    "from analyze_decode import get_edges, point_in_zones\n",
    "\n",
    "import info.r066d1 as info"
   ]
  },
  {
   "cell_type": "code",
   "execution_count": null,
   "metadata": {
    "collapsed": true
   },
   "outputs": [],
   "source": [
    "output_filepath = 'E:/code/emi_shortcut/plots/intermediate'\n",
    "pickle_filepath = 'E:/code/emi_shortcut/cache/pickled'"
   ]
  },
  {
   "cell_type": "code",
   "execution_count": null,
   "metadata": {
    "collapsed": true
   },
   "outputs": [],
   "source": [
    "import info.r063d2 as info"
   ]
  },
  {
   "cell_type": "code",
   "execution_count": null,
   "metadata": {
    "collapsed": true
   },
   "outputs": [],
   "source": []
  },
  {
   "cell_type": "code",
   "execution_count": null,
   "metadata": {
    "collapsed": false
   },
   "outputs": [],
   "source": [
    "events, position, spikes, lfp, lfp_theta = get_data(info)\n",
    "xedges, yedges = nept.get_xyedges(position)\n",
    "\n",
    "experiment_time = 'pauseA'\n",
    "filename = '_decode-' + experiment_time + '.pkl'\n",
    "decode_filename = info.session_id + filename\n",
    "pickled_decoded = os.path.join(pickle_filepath, decode_filename)\n",
    "\n",
    "with open(pickled_decoded, 'rb') as fileobj:\n",
    "    decode = pickle.load(fileobj)"
   ]
  },
  {
   "cell_type": "code",
   "execution_count": null,
   "metadata": {
    "collapsed": false
   },
   "outputs": [],
   "source": [
    "xx, yy = np.meshgrid(xedges, yedges)\n",
    "histogram, xs, ys = np.histogram2d(decode['decoded'].x, decode['decoded'].y, bins=xx.shape)\n",
    "\n",
    "cmap = plt.cm.get_cmap('pink_r', 11) \n",
    "pp = plt.pcolormesh(yy, xx, histogram, cmap=cmap)\n",
    "plt.colorbar(pp)\n",
    "plt.axis('off')\n",
    "plt.show()"
   ]
  },
  {
   "cell_type": "code",
   "execution_count": null,
   "metadata": {
    "collapsed": true
   },
   "outputs": [],
   "source": []
  },
  {
   "cell_type": "code",
   "execution_count": null,
   "metadata": {
    "collapsed": true
   },
   "outputs": [],
   "source": []
  },
  {
   "cell_type": "code",
   "execution_count": null,
   "metadata": {
    "collapsed": false
   },
   "outputs": [],
   "source": [
    "neurons_filename = info.session_id + '_neurons.pkl'\n",
    "pickled_neurons = os.path.join(pickle_filepath, neurons_filename)\n",
    "with open(pickled_neurons, 'rb') as fileobj:\n",
    "    neurons = pickle.load(fileobj)\n",
    "    \n",
    "experiment_time = 'phase3'\n",
    "speed_limit = 0.4\n",
    "shuffle_id = False\n",
    "min_length = 3"
   ]
  },
  {
   "cell_type": "code",
   "execution_count": null,
   "metadata": {
    "collapsed": false
   },
   "outputs": [],
   "source": [
    "print('decoding:', info.session_id)\n",
    "\n",
    "track_times = ['phase1', 'phase2', 'phase3', 'tracks']\n",
    "pedestal_times = ['pauseA', 'pauseB', 'prerecord', 'postrecord']\n",
    "\n",
    "events, position, spikes, lfp, lfp_theta = get_data(info)\n",
    "xedges, yedges = nept.get_xyedges(position)"
   ]
  },
  {
   "cell_type": "code",
   "execution_count": null,
   "metadata": {
    "collapsed": true
   },
   "outputs": [],
   "source": [
    "exp_start = info.task_times[experiment_time].start\n",
    "exp_stop = info.task_times[experiment_time].stop\n",
    "\n",
    "decode_spikes = neurons.time_slice(exp_start, exp_stop)"
   ]
  },
  {
   "cell_type": "code",
   "execution_count": null,
   "metadata": {
    "collapsed": false,
    "scrolled": true
   },
   "outputs": [],
   "source": [
    "xx, yy = np.meshgrid(xedges, yedges)\n",
    "\n",
    "for i, tc in enumerate(neurons.tuning_curves[:5]):\n",
    "    print(i)\n",
    "    pp = plt.pcolormesh(xx, yy, tc, cmap='pink_r')\n",
    "    plt.colorbar(pp)\n",
    "    plt.axis('off')\n",
    "    plt.show()"
   ]
  },
  {
   "cell_type": "code",
   "execution_count": null,
   "metadata": {
    "collapsed": true
   },
   "outputs": [],
   "source": []
  },
  {
   "cell_type": "code",
   "execution_count": null,
   "metadata": {
    "collapsed": false,
    "scrolled": false
   },
   "outputs": [],
   "source": [
    "fields = [3, 14, 27, 30]\n",
    "for tc_idx in fields:\n",
    "    filename = info.session_id + '-tuning_curve-' + str(tc_idx) + '.png' \n",
    "    pp = plt.pcolormesh(xx, yy, neurons.tuning_curves[tc_idx], cmap='pink_r')\n",
    "    plt.colorbar(pp)\n",
    "    plt.axis('off')\n",
    "    plt.show()\n",
    "#     plt.savefig(os.path.join(output_filepath, filename), transpatent=True)\n",
    "#     plt.close()"
   ]
  },
  {
   "cell_type": "code",
   "execution_count": null,
   "metadata": {
    "collapsed": false
   },
   "outputs": [],
   "source": [
    "multiple_tuning_curves = np.zeros(neurons.tuning_shape)\n",
    "multiple_tuning_curves += neurons.tuning_curves[3]\n",
    "multiple_tuning_curves += neurons.tuning_curves[14]\n",
    "multiple_tuning_curves += neurons.tuning_curves[27]\n",
    "multiple_tuning_curves += neurons.tuning_curves[30]\n",
    "\n",
    "pp = plt.pcolormesh(xx, yy, multiple_tuning_curves, cmap='pink_r')\n",
    "plt.colorbar(pp)\n",
    "plt.axis('off')\n",
    "plt.show()\n",
    "# plt.savefig(os.path.join(output_filepath, info.session_id + '-tuning_curve-3.png'))\n",
    "# plt.savefig(os.path.join(output_filepath, info.session_id + '-tuning_curve-3-14.png'))\n",
    "# plt.savefig(os.path.join(output_filepath, info.session_id + '-tuning_curve-3-14-27.png'))\n",
    "# plt.savefig(os.path.join(output_filepath, info.session_id + '-tuning_curve-3-14-27-30.png'))\n",
    "# plt.close()"
   ]
  },
  {
   "cell_type": "code",
   "execution_count": null,
   "metadata": {
    "collapsed": false
   },
   "outputs": [],
   "source": [
    "all_tuning_curves = np.zeros(neurons.tuning_shape)\n",
    "for i in range(neurons.n_neurons):\n",
    "    all_tuning_curves += neurons.tuning_curves[i]\n",
    "\n",
    "pp = plt.pcolormesh(xx, yy, all_tuning_curves, cmap='pink_r')\n",
    "plt.colorbar(pp)\n",
    "plt.axis('off')\n",
    "# plt.show()\n",
    "plt.savefig(os.path.join(output_filepath, info.session_id + '-tuning_curve-all.png'))\n",
    "plt.close()"
   ]
  },
  {
   "cell_type": "code",
   "execution_count": null,
   "metadata": {
    "collapsed": true
   },
   "outputs": [],
   "source": [
    "exp_start = info.task_times[experiment_time].start\n",
    "exp_stop = info.task_times[experiment_time].stop\n",
    "\n",
    "spikes = neurons.time_slice(exp_start, exp_stop)"
   ]
  },
  {
   "cell_type": "code",
   "execution_count": null,
   "metadata": {
    "collapsed": false
   },
   "outputs": [],
   "source": [
    "if experiment_time in track_times:\n",
    "    run_position = speed_threshold(position, speed_limit=speed_limit)\n",
    "else:\n",
    "    run_position = position\n",
    "    \n",
    "exp_position = run_position.time_slice(exp_start, exp_stop)"
   ]
  },
  {
   "cell_type": "code",
   "execution_count": null,
   "metadata": {
    "collapsed": false
   },
   "outputs": [],
   "source": [
    "xx, yy = np.meshgrid(xedges, yedges)\n",
    "histogram, xs, ys = np.histogram2d(exp_position.x, exp_position.y, \n",
    "                                   bins=xx.shape)\n",
    "\n",
    "cmap = plt.cm.get_cmap('pink_r', 11)\n",
    "pp = plt.pcolormesh(yy, xx, histogram, cmap=cmap)\n",
    "plt.colorbar(pp)\n",
    "plt.axis('off')\n",
    "plt.show()\n",
    "# plt.savefig(os.path.join(output_filepath, info.session_id + '-position2d.png'))\n",
    "# plt.close()"
   ]
  },
  {
   "cell_type": "code",
   "execution_count": null,
   "metadata": {
    "collapsed": true
   },
   "outputs": [],
   "source": [
    "if shuffle_id:\n",
    "    random.shuffle(tuning_curve)"
   ]
  },
  {
   "cell_type": "code",
   "execution_count": null,
   "metadata": {
    "collapsed": true
   },
   "outputs": [],
   "source": [
    "if experiment_time in track_times:\n",
    "    epochs_interest = nept.Epoch(np.hstack([exp_start, exp_stop]))\n",
    "elif experiment_time in pedestal_times:\n",
    "    sliced_lfp = lfp.time_slice(exp_start, exp_stop)\n",
    "\n",
    "    z_thresh = 3.0\n",
    "    power_thresh = 5.0\n",
    "    merge_thresh = 0.02\n",
    "    min_length = 0.01\n",
    "    swrs = nept.detect_swr_hilbert(sliced_lfp, fs=info.fs, thresh=(140.0, 250.0), z_thresh=z_thresh,\n",
    "                                  power_thresh=power_thresh, merge_thresh=merge_thresh, min_length=min_length)\n",
    "\n",
    "    epochs_interest = nept.find_multi_in_epochs(decode_spikes, swrs, min_involved=4)\n",
    "    if epochs_interest.n_epochs == 0:\n",
    "        epochs_interest = nept.find_multi_in_epochs(decode_spikes, swrs, min_involved=1)\n",
    "else:\n",
    "    raise ValueError(\"unrecognized experimental phase. Must be in ['prerecord', 'phase1', 'pauseA', 'phase2', \"\n",
    "                     \"'pauseB', phase3', 'postrecord'].\")"
   ]
  },
  {
   "cell_type": "code",
   "execution_count": null,
   "metadata": {
    "collapsed": false
   },
   "outputs": [],
   "source": [
    "counts_binsize = 0.025\n",
    "time_edges = get_edges(exp_position, counts_binsize, lastbin=True)\n",
    "counts = nept.get_counts(decode_spikes, time_edges, gaussian_std=0.005)"
   ]
  },
  {
   "cell_type": "code",
   "execution_count": null,
   "metadata": {
    "collapsed": false
   },
   "outputs": [],
   "source": [
    "# pp = plt.pcolormesh(counts.data, cmap='pink_r')\n",
    "# plt.colorbar(pp)\n",
    "# plt.axis('off')\n",
    "# plt.show()"
   ]
  },
  {
   "cell_type": "code",
   "execution_count": null,
   "metadata": {
    "collapsed": false
   },
   "outputs": [],
   "source": [
    "tc_shape = neurons.tuning_curves.shape\n",
    "decoding_tc = neurons.tuning_curves.reshape(tc_shape[0], \n",
    "                                            tc_shape[1] * tc_shape[2])\n",
    "\n",
    "likelihood = nept.bayesian_prob(counts, decoding_tc, counts_binsize)"
   ]
  },
  {
   "cell_type": "code",
   "execution_count": null,
   "metadata": {
    "collapsed": false
   },
   "outputs": [],
   "source": [
    "xcenters = (xedges[1:] + xedges[:-1]) / 2.\n",
    "ycenters = (yedges[1:] + yedges[:-1]) / 2.\n",
    "xy_centers = nept.cartesian(xcenters, ycenters)\n",
    "\n",
    "time_centers = (time_edges[1:] + time_edges[:-1]) / 2.\n",
    "\n",
    "decoded = nept.decode_location(likelihood, xy_centers, time_centers)\n",
    "nan_idx = np.logical_and(np.isnan(decoded.x), np.isnan(decoded.y))\n",
    "decoded = decoded[~nan_idx]"
   ]
  },
  {
   "cell_type": "code",
   "execution_count": null,
   "metadata": {
    "collapsed": false
   },
   "outputs": [],
   "source": [
    "xx, yy = np.meshgrid(xedges, yedges)\n",
    "histogram, xs, ys = np.histogram2d(decoded.x, decoded.y, bins=xx.shape)\n",
    "\n",
    "pp = plt.pcolormesh(yy, xx, histogram, cmap='pink_r')\n",
    "plt.colorbar(pp)\n",
    "plt.axis('off')\n",
    "plt.show()\n",
    "# plt.savefig(os.path.join(output_filepath, info.session_id + '-decoded2d.png'))\n",
    "# plt.close()"
   ]
  },
  {
   "cell_type": "code",
   "execution_count": null,
   "metadata": {
    "collapsed": false
   },
   "outputs": [],
   "source": [
    "if not decoded.isempty:\n",
    "    sequences = nept.remove_teleports(decoded, speed_thresh=40, min_length=min_length)\n",
    "    decoded_epochs = sequences.intersect(epochs_interest)\n",
    "    decoded = decoded[decoded_epochs]\n",
    "else:\n",
    "    raise ValueError(\"decoded cannot be empty.\")"
   ]
  },
  {
   "cell_type": "code",
   "execution_count": null,
   "metadata": {
    "collapsed": false
   },
   "outputs": [],
   "source": [
    "zones = find_zones(info, remove_feeder=True, expand_by=8)\n",
    "decoded_zones = point_in_zones(decoded, zones)"
   ]
  },
  {
   "cell_type": "code",
   "execution_count": null,
   "metadata": {
    "collapsed": false
   },
   "outputs": [],
   "source": [
    "keys = ['u', 'shortcut', 'novel']\n",
    "errors = dict()\n",
    "actual_position = dict()\n",
    "if experiment_time in ['phase1', 'phase2', 'phase3', 'tracks']:\n",
    "    for trajectory in keys:\n",
    "        actual_x = np.interp(decoded_zones[trajectory].time, exp_position.time, exp_position.x)\n",
    "        actual_y = np.interp(decoded_zones[trajectory].time, exp_position.time, exp_position.y)\n",
    "        actual_position[trajectory] = nept.Position(np.hstack((actual_x[..., np.newaxis],\n",
    "                                                              actual_y[..., np.newaxis])),\n",
    "                                                   decoded_zones[trajectory].time)\n",
    "\n",
    "        if actual_position[trajectory].n_samples > 0:\n",
    "            errors[trajectory] = actual_position[trajectory].distance(decoded_zones[trajectory])\n",
    "else:\n",
    "    for trajectory in decoded_zones:\n",
    "        errors[trajectory] = []\n",
    "        actual_position[trajectory] = []\n",
    "\n",
    "output = dict()\n",
    "output['zones'] = decoded_zones\n",
    "output['errors'] = errors\n",
    "output['times'] = len(time_centers)\n",
    "output['actual'] = actual_position\n",
    "output['decoded'] = decoded"
   ]
  },
  {
   "cell_type": "code",
   "execution_count": null,
   "metadata": {
    "collapsed": false
   },
   "outputs": [],
   "source": [
    "xx, yy = np.meshgrid(xedges, yedges)\n",
    "histogram, xs, ys = np.histogram2d(output['decoded'].x, output['decoded'].y, bins=xx.shape)\n",
    "\n",
    "pp = plt.pcolormesh(yy, xx, histogram, cmap='pink_r')\n",
    "plt.colorbar(pp)\n",
    "plt.axis('off')\n",
    "plt.show()"
   ]
  },
  {
   "cell_type": "code",
   "execution_count": null,
   "metadata": {
    "collapsed": false
   },
   "outputs": [],
   "source": [
    "print('u error mean', np.mean(output['errors']['u']))\n",
    "print('shortcut error mean', np.mean(output['errors']['shortcut']))\n",
    "print('novel error mean', np.mean(output['errors']['novel']))"
   ]
  },
  {
   "cell_type": "code",
   "execution_count": null,
   "metadata": {
    "collapsed": true
   },
   "outputs": [],
   "source": []
  },
  {
   "cell_type": "code",
   "execution_count": null,
   "metadata": {
    "collapsed": false
   },
   "outputs": [],
   "source": [
    "len(xedges)"
   ]
  },
  {
   "cell_type": "code",
   "execution_count": null,
   "metadata": {
    "collapsed": false
   },
   "outputs": [],
   "source": [
    "r = nept.find_nearest_idx(xedges, 99.)"
   ]
  },
  {
   "cell_type": "code",
   "execution_count": null,
   "metadata": {
    "collapsed": false
   },
   "outputs": [],
   "source": [
    "r"
   ]
  },
  {
   "cell_type": "code",
   "execution_count": null,
   "metadata": {
    "collapsed": false
   },
   "outputs": [],
   "source": [
    "run_position = speed_threshold(position, speed_limit=0.4)"
   ]
  },
  {
   "cell_type": "code",
   "execution_count": null,
   "metadata": {
    "collapsed": false
   },
   "outputs": [],
   "source": [
    "histogram, xs, ys = np.histogram2d(run_position.x, run_position.y, bins=xx.shape)\n",
    "\n",
    "pp = plt.pcolormesh(yy, xx, histogram, cmap='pink_r')\n",
    "plt.colorbar(pp)\n",
    "plt.axis('off')\n",
    "plt.show()"
   ]
  },
  {
   "cell_type": "code",
   "execution_count": null,
   "metadata": {
    "collapsed": false
   },
   "outputs": [],
   "source": [
    "histogram[21][2]"
   ]
  },
  {
   "cell_type": "code",
   "execution_count": null,
   "metadata": {
    "collapsed": false
   },
   "outputs": [],
   "source": [
    "\n",
    "actual_x = np.interp(decoded.time, exp_position.time, exp_position.x)\n",
    "actual_y = np.interp(decoded.time, exp_position.time, exp_position.y)\n",
    "actual_pos = nept.Position(np.hstack((actual_x[..., np.newaxis], actual_y[..., np.newaxis])), decoded.time)\n",
    "err = actual_pos.distance(decoded)\n"
   ]
  },
  {
   "cell_type": "code",
   "execution_count": null,
   "metadata": {
    "collapsed": true
   },
   "outputs": [],
   "source": []
  },
  {
   "cell_type": "code",
   "execution_count": null,
   "metadata": {
    "collapsed": false
   },
   "outputs": [],
   "source": [
    "np.where(histogram > 2500)"
   ]
  },
  {
   "cell_type": "code",
   "execution_count": null,
   "metadata": {
    "collapsed": true
   },
   "outputs": [],
   "source": []
  },
  {
   "cell_type": "code",
   "execution_count": null,
   "metadata": {
    "collapsed": false
   },
   "outputs": [],
   "source": [
    "histogram, xs, ys = np.histogram2d(actual_pos.x, actual_pos.y, bins=xx.shape)\n",
    "\n",
    "pp = plt.pcolormesh(yy, xx, histogram, cmap='pink_r')\n",
    "plt.colorbar(pp)\n",
    "plt.axis('off')\n",
    "plt.show()"
   ]
  },
  {
   "cell_type": "code",
   "execution_count": null,
   "metadata": {
    "collapsed": true
   },
   "outputs": [],
   "source": [
    "xedges, yedges = nept.get_xyedges(actual_pos)\n",
    "xx, yy = np.meshgrid(xedges, yedges)"
   ]
  },
  {
   "cell_type": "code",
   "execution_count": null,
   "metadata": {
    "collapsed": false
   },
   "outputs": [],
   "source": [
    "error_hist_byactual = np.zeros((len(yedges), len(xedges)))\n",
    "n_hist_byactual = np.ones((len(yedges), len(xedges)))\n",
    "\n",
    "error_x = []\n",
    "error_y = []\n",
    "for error, x, y in zip(err, actual_pos.x, actual_pos.y):\n",
    "    x_idx = nept.find_nearest_idx(xedges, x)\n",
    "    y_idx = nept.find_nearest_idx(yedges, y)\n",
    "    error_hist_byactual[y_idx][x_idx] += error\n",
    "    n_hist_byactual[y_idx][x_idx] += 1\n",
    "\n",
    "error_byactual = error_hist_byactual / n_hist_byactual"
   ]
  },
  {
   "cell_type": "code",
   "execution_count": null,
   "metadata": {
    "collapsed": false
   },
   "outputs": [],
   "source": [
    "pp = plt.pcolormesh(xx, yy, n_hist_byactual, cmap='pink_r')\n",
    "plt.colorbar(pp)\n",
    "plt.axis('off')\n",
    "plt.show()"
   ]
  },
  {
   "cell_type": "code",
   "execution_count": null,
   "metadata": {
    "collapsed": false
   },
   "outputs": [],
   "source": [
    "pp = plt.pcolormesh(xx, yy, error_hist_byactual, cmap='pink_r')\n",
    "plt.colorbar(pp)\n",
    "plt.axis('off')\n",
    "plt.show()"
   ]
  },
  {
   "cell_type": "code",
   "execution_count": null,
   "metadata": {
    "collapsed": false
   },
   "outputs": [],
   "source": [
    "pp = plt.pcolormesh(xx, yy, error_byactual, cmap='pink_r')\n",
    "plt.colorbar(pp)\n",
    "plt.axis('off')\n",
    "# plt.show()\n",
    "\n",
    "filename = 'error_actual.png'\n",
    "plt.savefig(os.path.join(output_filepath, filename), transparent=True)\n",
    "plt.close()"
   ]
  },
  {
   "cell_type": "code",
   "execution_count": null,
   "metadata": {
    "collapsed": true
   },
   "outputs": [],
   "source": []
  },
  {
   "cell_type": "code",
   "execution_count": null,
   "metadata": {
    "collapsed": true
   },
   "outputs": [],
   "source": []
  },
  {
   "cell_type": "code",
   "execution_count": null,
   "metadata": {
    "collapsed": false
   },
   "outputs": [],
   "source": [
    "histogram, xs, ys = np.histogram2d(decoded.x, decoded.y, bins=xx.shape)\n",
    "\n",
    "pp = plt.pcolormesh(yy, xx, histogram, cmap='pink_r')\n",
    "plt.colorbar(pp)\n",
    "plt.axis('off')\n",
    "plt.show()"
   ]
  },
  {
   "cell_type": "code",
   "execution_count": null,
   "metadata": {
    "collapsed": true
   },
   "outputs": [],
   "source": [
    "xedges, yedges = nept.get_xyedges(decoded)\n",
    "xx, yy = np.meshgrid(xedges, yedges)"
   ]
  },
  {
   "cell_type": "code",
   "execution_count": null,
   "metadata": {
    "collapsed": false
   },
   "outputs": [],
   "source": [
    "error_hist_bydecode = np.zeros((len(yedges), len(xedges)))\n",
    "n_hist_bydecode = np.ones((len(yedges), len(xedges)))\n",
    "\n",
    "error_x = []\n",
    "error_y = []\n",
    "for error, x, y in zip(err, decoded.x, decoded.y):\n",
    "    x_idx = nept.find_nearest_idx(xedges, x)\n",
    "    y_idx = nept.find_nearest_idx(yedges, y)\n",
    "    error_hist_bydecode[y_idx][x_idx] += error\n",
    "    n_hist_bydecode[y_idx][x_idx] += 1\n",
    "\n",
    "error_bydecode = error_hist_bydecode / n_hist_bydecode"
   ]
  },
  {
   "cell_type": "code",
   "execution_count": null,
   "metadata": {
    "collapsed": false
   },
   "outputs": [],
   "source": [
    "pp = plt.pcolormesh(xx, yy, error_hist_bydecode, cmap='pink_r')\n",
    "plt.colorbar(pp)\n",
    "plt.axis('off')\n",
    "plt.show()"
   ]
  },
  {
   "cell_type": "code",
   "execution_count": null,
   "metadata": {
    "collapsed": false
   },
   "outputs": [],
   "source": [
    "pp = plt.pcolormesh(xx, yy, n_hist_bydecode, cmap='pink_r')\n",
    "plt.colorbar(pp)\n",
    "plt.axis('off')\n",
    "plt.show()"
   ]
  },
  {
   "cell_type": "code",
   "execution_count": null,
   "metadata": {
    "collapsed": false
   },
   "outputs": [],
   "source": [
    "pp = plt.pcolormesh(xx, yy, error_bydecode, cmap='pink_r')\n",
    "plt.colorbar(pp)\n",
    "plt.axis('off')\n",
    "plt.show()\n",
    "\n",
    "# filename = 'error_decoded.png'\n",
    "# plt.savefig(os.path.join(output_filepath, filename), transparent=True)\n",
    "# plt.close()"
   ]
  },
  {
   "cell_type": "code",
   "execution_count": null,
   "metadata": {
    "collapsed": true
   },
   "outputs": [],
   "source": []
  },
  {
   "cell_type": "code",
   "execution_count": null,
   "metadata": {
    "collapsed": true
   },
   "outputs": [],
   "source": []
  },
  {
   "cell_type": "code",
   "execution_count": null,
   "metadata": {
    "collapsed": true
   },
   "outputs": [],
   "source": []
  },
  {
   "cell_type": "code",
   "execution_count": null,
   "metadata": {
    "collapsed": false
   },
   "outputs": [],
   "source": [
    "events, position, spikes, lfp, lfp_theta = get_data(info)\n",
    "xedges, yedges = nept.get_xyedges(position)\n",
    "\n",
    "run_pos = speed_threshold(position, speed_limit=speed_limit)\n",
    "\n",
    "position_2d, pos_xedges, pos_yedges = np.histogram2d(run_pos.y, run_pos.x, bins=[yedges, xedges])\n",
    "position_2d *= sampling_rate\n",
    "shape = position_2d.shape"
   ]
  },
  {
   "cell_type": "code",
   "execution_count": null,
   "metadata": {
    "collapsed": false,
    "scrolled": true
   },
   "outputs": [],
   "source": [
    "fig = plt.figure(figsize=(6, 4))\n",
    "ax = plt.subplot(111)\n",
    "pp = plt.pcolormesh(xx, yy, position_2d, cmap='pink_r')\n",
    "plt.colorbar(pp)\n",
    "plt.axis('off')\n",
    "plt.show()"
   ]
  },
  {
   "cell_type": "code",
   "execution_count": null,
   "metadata": {
    "collapsed": false,
    "scrolled": true
   },
   "outputs": [],
   "source": [
    "position_2d[21][2]"
   ]
  },
  {
   "cell_type": "code",
   "execution_count": null,
   "metadata": {
    "collapsed": true
   },
   "outputs": [],
   "source": []
  },
  {
   "cell_type": "code",
   "execution_count": null,
   "metadata": {
    "collapsed": true
   },
   "outputs": [],
   "source": []
  },
  {
   "cell_type": "code",
   "execution_count": null,
   "metadata": {
    "collapsed": false
   },
   "outputs": [],
   "source": [
    "fig = plt.figure(figsize=(6, 4))\n",
    "ax = plt.subplot(111)\n",
    "plt.plot(decoded.time, decoded.x, '#9970ab', ms=1)\n",
    "plt.plot(position.time, position.x, 'k', ms=3)\n",
    "plt.xlim(26100, 26150)\n",
    "scalebar.add_scalebar(ax, matchy=False, bbox_transform=fig.transFigure,\n",
    "                      bbox_to_anchor=(0.9, 0.1), units='ms')\n",
    "plt.axis('off')\n",
    "plt.show()\n",
    "# plt.savefig(os.path.join(output_filepath, info.session_id + '-decoded-x.png'), transparent=True)\n",
    "# plt.close()"
   ]
  },
  {
   "cell_type": "code",
   "execution_count": null,
   "metadata": {
    "collapsed": false
   },
   "outputs": [],
   "source": [
    "fig = plt.figure(figsize=(6, 4))\n",
    "ax = plt.subplot(111)\n",
    "plt.plot(decoded.time, decoded.y, '#5aae61', ms=1)\n",
    "plt.plot(position.time, position.y, 'k', ms=3)\n",
    "plt.xlim(26100, 26150)\n",
    "scalebar.add_scalebar(ax, matchy=False, bbox_transform=fig.transFigure,\n",
    "                         bbox_to_anchor=(0.9, 0.1), units='ms')\n",
    "plt.axis('off')\n",
    "plt.show()\n",
    "# plt.savefig(os.path.join(output_filepath, info.session_id + '-decoded-y.png'), transparent=True)\n",
    "# plt.close()"
   ]
  },
  {
   "cell_type": "code",
   "execution_count": null,
   "metadata": {
    "collapsed": true
   },
   "outputs": [],
   "source": []
  },
  {
   "cell_type": "code",
   "execution_count": null,
   "metadata": {
    "collapsed": true
   },
   "outputs": [],
   "source": []
  },
  {
   "cell_type": "code",
   "execution_count": null,
   "metadata": {
    "collapsed": true
   },
   "outputs": [],
   "source": []
  },
  {
   "cell_type": "code",
   "execution_count": null,
   "metadata": {
    "collapsed": true
   },
   "outputs": [],
   "source": []
  },
  {
   "cell_type": "code",
   "execution_count": null,
   "metadata": {
    "collapsed": true
   },
   "outputs": [],
   "source": []
  },
  {
   "cell_type": "code",
   "execution_count": null,
   "metadata": {
    "collapsed": true
   },
   "outputs": [],
   "source": []
  },
  {
   "cell_type": "code",
   "execution_count": null,
   "metadata": {
    "collapsed": true
   },
   "outputs": [],
   "source": [
    "%matplotlib inline\n",
    "import matplotlib.pyplot as plt\n",
    "import numpy as np\n",
    "import pickle\n",
    "import os\n",
    "import pandas as pd\n",
    "from collections import OrderedDict\n",
    "from shapely.geometry import Point, LineString\n",
    "\n",
    "import nept\n",
    "\n",
    "from loading_data import get_data\n",
    "from utils_maze import get_xyedges, find_zones, speed_threshold\n",
    "from analyze_decode import get_edges, point_in_zones\n",
    "\n",
    "output_filepath = 'E:/code/emi_shortcut/plots/intermediate'\n",
    "pickle_filepath = 'E:/code/emi_shortcut/cache/pickled'\n",
    "\n",
    "from utils_fields import categorize_fields\n",
    "from analyze_tuning_curves import get_odd_firing_idx\n",
    "from plot_sequence_raster import plot_sequence"
   ]
  },
  {
   "cell_type": "code",
   "execution_count": null,
   "metadata": {
    "collapsed": false
   },
   "outputs": [],
   "source": [
    "events, position, spikes, lfp, lfp_theta = get_data(info)\n",
    "xedges, yedges = nept.get_xyedges(position)\n",
    "zones = find_zones(info, remove_feeder=True, expand_by=8)\n",
    "\n",
    "neurons_filename = info.session_id + '_neurons.pkl'\n",
    "pickled_neurons = os.path.join(pickle_filepath, neurons_filename)\n",
    "with open(pickled_neurons, 'rb') as fileobj:\n",
    "    neurons = pickle.load(fileobj)\n",
    "    \n",
    "xcenters = (xedges[1:] + xedges[:-1]) / 2.\n",
    "ycenters = (yedges[1:] + yedges[:-1]) / 2.\n",
    "xy_centers = nept.cartesian(xcenters, ycenters)"
   ]
  },
  {
   "cell_type": "code",
   "execution_count": null,
   "metadata": {
    "collapsed": true
   },
   "outputs": [],
   "source": []
  },
  {
   "cell_type": "code",
   "execution_count": null,
   "metadata": {
    "collapsed": true
   },
   "outputs": [],
   "source": [
    "field_thresh = 1.0\n",
    "fields_tunings = categorize_fields(neurons.tuning_curves, zones, xedges, yedges, \n",
    "                                   field_thresh=field_thresh)\n",
    "\n",
    "u_line = LineString(info.u_trajectory)\n",
    "\n",
    "u_dist = []\n",
    "for neuron in fields_tunings['u']:\n",
    "    yy = ycenters[np.where(fields_tunings['u'][neuron] == fields_tunings['u'][neuron].max())[0][0]]\n",
    "    xx = xcenters[np.where(fields_tunings['u'][neuron] == fields_tunings['u'][neuron].max())[1][0]]\n",
    "\n",
    "    pt = Point(xx, yy)\n",
    "    if zones['u'].contains(pt):\n",
    "        u_dist.append((u_line.project(pt), neuron))\n",
    "        \n",
    "ordered_dist_u = sorted(u_dist, key=lambda x:x[0])\n",
    "sort_idx = []\n",
    "for neuron in ordered_dist_u:\n",
    "    sort_idx.append(neuron[1])\n",
    "    \n",
    "sort_spikes = []\n",
    "sort_tuning_curves = []\n",
    "for neuron in sort_idx:\n",
    "    sort_tuning_curves.append(fields_tunings['u'][neuron])\n",
    "    sort_spikes.append(neurons.spikes[neuron])\n",
    "    \n",
    "odd_firing_idx = get_odd_firing_idx(sort_tuning_curves, max_mean_firing=2)\n",
    "\n",
    "ordered_spikes = []\n",
    "ordered_fields =[]\n",
    "for i, neuron in enumerate(sort_spikes):\n",
    "    if i not in odd_firing_idx:\n",
    "        ordered_spikes.append(neuron)\n",
    "        ordered_fields.append(sort_tuning_curves[i])"
   ]
  },
  {
   "cell_type": "code",
   "execution_count": null,
   "metadata": {
    "collapsed": false
   },
   "outputs": [],
   "source": [
    "plt.plot(position.x, position.y, 'k.', ms=1)\n",
    "plt.show()"
   ]
  },
  {
   "cell_type": "code",
   "execution_count": null,
   "metadata": {
    "collapsed": false
   },
   "outputs": [],
   "source": [
    "seq = 1\n",
    "times = 'swr'\n",
    "filename = info.session_id + '_swr.png'\n",
    "plot_sequence(ordered_spikes,\n",
    "              info.sequence['u'][times].starts[seq], \n",
    "              info.sequence['u'][times].stops[seq],\n",
    "              ms_fraction=250,\n",
    "              lfp=lfp,\n",
    "              position=None,\n",
    "              savepath=os.path.join(output_filepath, filename))"
   ]
  },
  {
   "cell_type": "code",
   "execution_count": null,
   "metadata": {
    "collapsed": false
   },
   "outputs": [],
   "source": [
    "seq = 1\n",
    "times = 'run'\n",
    "filename = info.session_id + '_run.png'\n",
    "plot_sequence(ordered_spikes,\n",
    "              info.sequence['u'][times].starts[seq], \n",
    "              info.sequence['u'][times].stops[seq],\n",
    "              ms_fraction=150,\n",
    "              lfp=None,\n",
    "              position=position,\n",
    "              savepath=os.path.join(output_filepath, filename))"
   ]
  },
  {
   "cell_type": "code",
   "execution_count": null,
   "metadata": {
    "collapsed": false
   },
   "outputs": [],
   "source": [
    "xx, yy = np.meshgrid(xedges, yedges)\n",
    "\n",
    "all_tuning_curves = np.zeros(neurons.tuning_shape)\n",
    "for i in range(neurons.n_neurons):\n",
    "    all_tuning_curves += neurons.tuning_curves[i]\n",
    "\n",
    "pp = plt.pcolormesh(xx, yy, all_tuning_curves, cmap='pink_r')\n",
    "plt.colorbar(pp)\n",
    "plt.axis('off')\n",
    "# plt.show()\n",
    "plt.savefig(os.path.join(output_filepath, info.session_id+'_tuning.png'))"
   ]
  },
  {
   "cell_type": "code",
   "execution_count": null,
   "metadata": {
    "collapsed": true
   },
   "outputs": [],
   "source": []
  },
  {
   "cell_type": "code",
   "execution_count": null,
   "metadata": {
    "collapsed": true
   },
   "outputs": [],
   "source": []
  },
  {
   "cell_type": "code",
   "execution_count": null,
   "metadata": {
    "collapsed": false
   },
   "outputs": [],
   "source": [
    "fig = plt.figure(figsize=(4, 3))\n",
    "ax = plt.subplot(111)\n",
    "start = info.sequence['u']['swr'].starts[1]\n",
    "stop = info.sequence['u']['swr'].stops[1]\n",
    "start_idx = nept.find_nearest_idx(lfp.time, start)\n",
    "stop_idx = nept.find_nearest_idx(lfp.time, stop)\n",
    "plt.plot(lfp.time[start_idx:stop_idx], lfp.data[start_idx:stop_idx], 'k', lw=0.8)\n",
    "plt.axis('off')\n",
    "scalebar.add_scalebar(ax, matchy=False, bbox_transform=fig.transFigure, bbox_to_anchor=(0.9, 0.2), units='ms')\n",
    "plt.show()\n",
    "# plt.savefig(os.path.join(output_filepath, info.session_id + '-swr1.png'), transparent=True)\n",
    "# plt.close()"
   ]
  },
  {
   "cell_type": "code",
   "execution_count": null,
   "metadata": {
    "collapsed": false
   },
   "outputs": [],
   "source": [
    "fig = plt.figure(figsize=(4, 3))\n",
    "ax = plt.subplot(111)\n",
    "start = info.sequence['u']['swr'].starts[0]\n",
    "stop = info.sequence['u']['swr'].stops[0]\n",
    "start_idx = nept.find_nearest_idx(lfp.time, start)\n",
    "stop_idx = nept.find_nearest_idx(lfp.time, stop)\n",
    "plt.plot(lfp.time[start_idx:stop_idx], lfp.data[start_idx:stop_idx], 'k', lw=0.8)\n",
    "plt.axis('off')\n",
    "scalebar.add_scalebar(ax, matchy=False, bbox_transform=fig.transFigure, bbox_to_anchor=(0.9, 0.1), units='ms')\n",
    "plt.show()\n",
    "# plt.savefig(os.path.join(output_filepath, info.session_id + '-swr2.png'), transparent=True)\n",
    "# plt.close()"
   ]
  },
  {
   "cell_type": "code",
   "execution_count": null,
   "metadata": {
    "collapsed": true
   },
   "outputs": [],
   "source": []
  },
  {
   "cell_type": "code",
   "execution_count": null,
   "metadata": {
    "collapsed": true
   },
   "outputs": [],
   "source": [
    "field_thresh = 1.0\n",
    "fields_tunings = categorize_fields(neurons.tuning_curves, zones, xedges, yedges, \n",
    "                                   field_thresh=field_thresh)\n",
    "\n",
    "u_line = LineString(info.u_trajectory)\n",
    "\n",
    "u_dist = []\n",
    "for neuron in fields_tunings['u']:\n",
    "    yy = ycenters[np.where(fields_tunings['u'][neuron] == fields_tunings['u'][neuron].max())[0][0]]\n",
    "    xx = xcenters[np.where(fields_tunings['u'][neuron] == fields_tunings['u'][neuron].max())[1][0]]\n",
    "\n",
    "    pt = Point(xx, yy)\n",
    "    if zones['u'].contains(pt):\n",
    "        u_dist.append((u_line.project(pt), neuron))\n",
    "        \n",
    "ordered_dist_u = sorted(u_dist, key=lambda x:x[0])\n",
    "sort_idx = []\n",
    "for neuron in ordered_dist_u:\n",
    "    sort_idx.append(neuron[1])\n",
    "    \n",
    "sort_spikes = []\n",
    "sort_tuning_curves = []\n",
    "for neuron in sort_idx:\n",
    "    sort_tuning_curves.append(fields_tunings['u'][neuron])\n",
    "    sort_spikes.append(decode_spikes[neuron])\n",
    "    \n",
    "odd_firing_idx = get_odd_firing_idx(sort_tuning_curves, max_mean_firing=2)\n",
    "\n",
    "ordered_spikes = []\n",
    "ordered_fields =[]\n",
    "for i, neuron in enumerate(sort_spikes):\n",
    "    if i not in odd_firing_idx:\n",
    "        ordered_spikes.append(neuron)\n",
    "        ordered_fields.append(sort_tuning_curves[i])"
   ]
  },
  {
   "cell_type": "code",
   "execution_count": null,
   "metadata": {
    "collapsed": true
   },
   "outputs": [],
   "source": [
    "counts_binsize = 0.025\n",
    "time_edges = get_edges(exp_position, counts_binsize, lastbin=True)\n",
    "counts = nept.get_counts(ordered_spikes, time_edges, gaussian_std=0.005)"
   ]
  },
  {
   "cell_type": "code",
   "execution_count": null,
   "metadata": {
    "collapsed": false
   },
   "outputs": [],
   "source": [
    "start = info.sequence['u']['run'].starts[1]\n",
    "stop = info.sequence['u']['run'].stops[1]\n",
    "\n",
    "fig = plt.figure(figsize=(10, 6))\n",
    "ax = plt.subplot(111)\n",
    "pp = plt.pcolormesh(counts.time_slice(start, stop).data.T, cmap='pink_r')\n",
    "plt.colorbar(pp)\n",
    "ax.set_xticks([])\n",
    "ax.spines['top'].set_visible(False)\n",
    "ax.spines['right'].set_visible(False)\n",
    "ax.spines['bottom'].set_visible(False)\n",
    "ax.get_yaxis().tick_left()\n",
    "plt.show()\n",
    "# plt.savefig(os.path.join(output_filepath, info.session_id + '-binned-spikes.png'), transparent=True)\n",
    "# plt.close()"
   ]
  },
  {
   "cell_type": "code",
   "execution_count": null,
   "metadata": {
    "collapsed": false
   },
   "outputs": [],
   "source": [
    "print(info.sequence['u']['run'].starts[1], info.sequence['u']['run'].stops[1])\n",
    "\n",
    "seq = 1\n",
    "times = 'run'\n",
    "filename = info.session_id + '_run.png'\n",
    "plot_sequence(ordered_spikes,\n",
    "              info.sequence['u'][times].starts[seq], \n",
    "              info.sequence['u'][times].stops[seq],\n",
    "              ms_fraction=150,\n",
    "              lfp=None,\n",
    "              position=position)"
   ]
  },
  {
   "cell_type": "code",
   "execution_count": null,
   "metadata": {
    "collapsed": false
   },
   "outputs": [],
   "source": [
    "start_idx, stop_idx"
   ]
  },
  {
   "cell_type": "code",
   "execution_count": null,
   "metadata": {
    "collapsed": false
   },
   "outputs": [],
   "source": [
    "counts"
   ]
  },
  {
   "cell_type": "code",
   "execution_count": null,
   "metadata": {
    "collapsed": true
   },
   "outputs": [],
   "source": []
  }
 ],
 "metadata": {
  "anaconda-cloud": {},
  "kernelspec": {
   "display_name": "Python [default]",
   "language": "python",
   "name": "python3"
  },
  "language_info": {
   "codemirror_mode": {
    "name": "ipython",
    "version": 3
   },
   "file_extension": ".py",
   "mimetype": "text/x-python",
   "name": "python",
   "nbconvert_exporter": "python",
   "pygments_lexer": "ipython3",
   "version": "3.5.2"
  }
 },
 "nbformat": 4,
 "nbformat_minor": 0
}
