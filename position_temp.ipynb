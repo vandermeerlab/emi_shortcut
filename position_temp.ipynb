{
 "cells": [
  {
   "cell_type": "code",
   "execution_count": null,
   "metadata": {
    "ExecuteTime": {
     "end_time": "2018-05-29T14:02:12.360198Z",
     "start_time": "2018-05-29T14:02:06.837047Z"
    },
    "collapsed": true
   },
   "outputs": [],
   "source": [
    "%matplotlib inline\n",
    "import matplotlib.pyplot as plt\n",
    "import numpy as np\n",
    "import os\n",
    "import nept\n",
    "\n",
    "from matplotlib import animation\n",
    "from IPython.display import HTML\n",
    "\n",
    "from startup import extract_xy, sort_led_locations, correct_targets, median_filter, remove_jumps_to_feeder\n",
    "from loading_data import get_data, unzip_nvt_file, zip_nvt_file\n",
    "from analyze_decode_bytrial import get_trials"
   ]
  },
  {
   "cell_type": "code",
   "execution_count": null,
   "metadata": {
    "ExecuteTime": {
     "end_time": "2018-05-29T14:02:12.367537Z",
     "start_time": "2018-05-29T14:02:12.360198Z"
    },
    "collapsed": true
   },
   "outputs": [],
   "source": [
    "import warnings\n",
    "warnings.filterwarnings(\"ignore\")"
   ]
  },
  {
   "cell_type": "code",
   "execution_count": null,
   "metadata": {
    "ExecuteTime": {
     "end_time": "2018-05-29T14:02:12.381545Z",
     "start_time": "2018-05-29T14:02:12.369537Z"
    },
    "collapsed": true
   },
   "outputs": [],
   "source": [
    "thisdir = os.getcwd()\n",
    "dataloc = os.path.join(thisdir, 'cache', 'data')\n",
    "pickle_filepath = os.path.join(thisdir, \"cache\", \"pickled\")\n",
    "output_filepath = os.path.join(thisdir, \"plots\", \"correcting_position\")"
   ]
  },
  {
   "cell_type": "code",
   "execution_count": null,
   "metadata": {
    "ExecuteTime": {
     "end_time": "2018-05-29T14:20:54.079820Z",
     "start_time": "2018-05-29T14:20:54.076818Z"
    },
    "collapsed": true
   },
   "outputs": [],
   "source": [
    "import info.r063d2 as info"
   ]
  },
  {
   "cell_type": "code",
   "execution_count": null,
   "metadata": {
    "ExecuteTime": {
     "end_time": "2018-05-29T14:20:58.822799Z",
     "start_time": "2018-05-29T14:20:54.358777Z"
    },
    "collapsed": true
   },
   "outputs": [],
   "source": [
    "events, position, spikes, lfp, lfp_theta = get_data(info)\n",
    "xedges, yedges = nept.get_xyedges(position)\n",
    "\n",
    "trial_epochs = get_trials(events, info.task_times[\"phase3\"])\n",
    "trial_idx = 2\n",
    "start = trial_epochs[trial_idx].start\n",
    "stop = trial_epochs[trial_idx].stop"
   ]
  },
  {
   "cell_type": "code",
   "execution_count": null,
   "metadata": {
    "ExecuteTime": {
     "end_time": "2018-05-29T14:21:11.766045Z",
     "start_time": "2018-05-29T14:21:11.236670Z"
    },
    "collapsed": true
   },
   "outputs": [],
   "source": [
    "plt.plot(position.x, position.y, \"b.\")\n",
    "plt.show()"
   ]
  },
  {
   "cell_type": "code",
   "execution_count": null,
   "metadata": {
    "collapsed": true
   },
   "outputs": [],
   "source": []
  },
  {
   "cell_type": "code",
   "execution_count": null,
   "metadata": {
    "collapsed": true
   },
   "outputs": [],
   "source": []
  },
  {
   "cell_type": "code",
   "execution_count": null,
   "metadata": {
    "collapsed": true
   },
   "outputs": [],
   "source": []
  },
  {
   "cell_type": "code",
   "execution_count": null,
   "metadata": {
    "ExecuteTime": {
     "end_time": "2018-05-29T14:02:12.971446Z",
     "start_time": "2018-05-29T14:02:12.966385Z"
    },
    "collapsed": true
   },
   "outputs": [],
   "source": [
    "variance_thresh = 4"
   ]
  },
  {
   "cell_type": "code",
   "execution_count": null,
   "metadata": {
    "ExecuteTime": {
     "end_time": "2018-05-29T14:02:13.394746Z",
     "start_time": "2018-05-29T14:02:12.973447Z"
    },
    "collapsed": true
   },
   "outputs": [],
   "source": [
    "position_filename = os.path.join(dataloc, info.position_filename)\n",
    "# events = nept.load_events(os.path.join(dataloc, info.event_filename), info.event_labels)\n",
    "nvt_data = nept.load_nvt(position_filename)"
   ]
  },
  {
   "cell_type": "code",
   "execution_count": null,
   "metadata": {
    "ExecuteTime": {
     "end_time": "2018-05-29T14:02:13.398748Z",
     "start_time": "2018-05-29T14:02:13.396747Z"
    },
    "collapsed": true
   },
   "outputs": [],
   "source": [
    "targets = nvt_data['targets']\n",
    "times = nvt_data['time']"
   ]
  },
  {
   "cell_type": "code",
   "execution_count": null,
   "metadata": {
    "ExecuteTime": {
     "end_time": "2018-05-29T14:02:13.411757Z",
     "start_time": "2018-05-29T14:02:13.399749Z"
    },
    "collapsed": true
   },
   "outputs": [],
   "source": [
    "def animate_trial(x, y, time, start, stop):\n",
    "    \n",
    "    position = nept.Position(np.hstack(np.array([x, y])[..., np.newaxis]), \n",
    "                             time)\n",
    "    \n",
    "    position = position.time_slice(start, stop)\n",
    "    \n",
    "    fig, ax = plt.subplots()\n",
    "\n",
    "    xx, yy = np.meshgrid(xedges, yedges)\n",
    "\n",
    "    pad_amount = 5\n",
    "    ax.set_xlim((np.floor(np.min(position.x))-pad_amount, np.ceil(np.max(position.x))+pad_amount))\n",
    "    ax.set_ylim((np.floor(np.min(position.y))-pad_amount, np.ceil(np.max(position.y))+pad_amount))\n",
    "\n",
    "    plt.plot(position.x, position.y, \".\", color=\"#bdbdbd\")\n",
    "\n",
    "    n_timebins = position.n_samples\n",
    "    rat_position, = ax.plot([], [], \"<\", color=\"r\")\n",
    "\n",
    "    fig.tight_layout()\n",
    "\n",
    "\n",
    "    def init():\n",
    "        rat_position.set_data([], [])\n",
    "        return rat_position\n",
    "\n",
    "\n",
    "    def animate(i):\n",
    "        rat_position.set_data(position.x[i], position.y[i])\n",
    "        return rat_position\n",
    "\n",
    "    anim = animation.FuncAnimation(fig, animate, frames=n_timebins, interval=80, \n",
    "                                   blit=False, repeat=True)\n",
    "    return anim"
   ]
  },
  {
   "cell_type": "code",
   "execution_count": null,
   "metadata": {
    "ExecuteTime": {
     "end_time": "2018-05-29T14:02:13.424768Z",
     "start_time": "2018-05-29T14:02:13.413759Z"
    },
    "collapsed": true
   },
   "outputs": [],
   "source": [
    "# Initialize x, y arrays\n",
    "x = np.zeros(targets.shape)\n",
    "y = np.zeros(targets.shape)"
   ]
  },
  {
   "cell_type": "code",
   "execution_count": null,
   "metadata": {
    "ExecuteTime": {
     "end_time": "2018-05-29T14:02:15.253336Z",
     "start_time": "2018-05-29T14:02:13.427769Z"
    },
    "collapsed": true
   },
   "outputs": [],
   "source": [
    "# X and Y are stored in a custom bitfield. See Neuralynx data file format documentation for details.\n",
    "# Briefly, each record contains up to 50 targets, each stored in 32bit field.\n",
    "# X field at [20:31] and Y at [4:15].\n",
    "# TODO: make into a separate function in nept\n",
    "for target in range(targets.shape[1]):\n",
    "    this_sample = targets[:, target]\n",
    "    for sample in range(targets.shape[0]):\n",
    "        # When the bitfield is equal to zero there is no valid data for that field\n",
    "        # and remains zero for the rest of the bitfields in the record.\n",
    "        if this_sample[target] == 0:\n",
    "            break\n",
    "        x[sample, target], y[sample, target] = extract_xy(int(this_sample[sample]))"
   ]
  },
  {
   "cell_type": "code",
   "execution_count": null,
   "metadata": {
    "ExecuteTime": {
     "end_time": "2018-05-29T14:02:15.893895Z",
     "start_time": "2018-05-29T14:02:15.253336Z"
    },
    "collapsed": true
   },
   "outputs": [],
   "source": [
    "# How many targets are taken for each timepoint?\n",
    "n_targets = []\n",
    "\n",
    "for i in range(len(targets)):\n",
    "    this_row = x[i]\n",
    "    n_targets.append(len(np.where(this_row > 0.)[0]))\n",
    "\n",
    "fig, ax = plt.subplots()\n",
    "plt.hist(n_targets, bins=[1,2,3,4,5], align=\"left\")\n",
    "plt.xticks([1, 2, 3, 4], [\"1\", \"2\", \"3\", \"4+\"])\n",
    "plt.xlabel(\"Number of targets\")\n",
    "plt.ylabel(\"Number of samples\")\n",
    "ax.spines['right'].set_visible(False)\n",
    "ax.spines['top'].set_visible(False)\n",
    "ax.yaxis.set_ticks_position('left')\n",
    "ax.xaxis.set_ticks_position('bottom')\n",
    "plt.tight_layout()\n",
    "# plt.savefig(os.path.join(output_filepath, \"n_targets.png\"))\n",
    "plt.show()"
   ]
  },
  {
   "cell_type": "code",
   "execution_count": null,
   "metadata": {
    "ExecuteTime": {
     "end_time": "2018-05-29T14:02:24.006003Z",
     "start_time": "2018-05-29T14:02:15.895895Z"
    },
    "collapsed": true
   },
   "outputs": [],
   "source": [
    "plt.plot(times, y, \"g.\", ms=3)\n",
    "plt.xlabel(\"time\")\n",
    "plt.ylabel(\"y\")\n",
    "ax.spines['right'].set_visible(False)\n",
    "ax.spines['top'].set_visible(False)\n",
    "ax.yaxis.set_ticks_position('left')\n",
    "ax.xaxis.set_ticks_position('bottom')\n",
    "plt.tight_layout()\n",
    "# plt.savefig(os.path.join(output_filepath, \"raw.png\"))\n",
    "plt.show()"
   ]
  },
  {
   "cell_type": "code",
   "execution_count": null,
   "metadata": {
    "ExecuteTime": {
     "end_time": "2018-05-29T14:02:24.070047Z",
     "start_time": "2018-05-29T14:02:24.008003Z"
    },
    "collapsed": true
   },
   "outputs": [],
   "source": [
    "# Replacing targets with no samples with nan instead of 0\n",
    "x[x == 0] = np.nan\n",
    "y[y == 0] = np.nan"
   ]
  },
  {
   "cell_type": "code",
   "execution_count": null,
   "metadata": {
    "ExecuteTime": {
     "end_time": "2018-05-29T14:02:24.156108Z",
     "start_time": "2018-05-29T14:02:24.072048Z"
    },
    "collapsed": true
   },
   "outputs": [],
   "source": [
    "# Scale the positions\n",
    "x = x / info.scale_targets[0]\n",
    "y = y / info.scale_targets[1]"
   ]
  },
  {
   "cell_type": "code",
   "execution_count": null,
   "metadata": {
    "ExecuteTime": {
     "end_time": "2018-05-29T14:02:24.978707Z",
     "start_time": "2018-05-29T14:02:24.157108Z"
    },
    "collapsed": true
   },
   "outputs": [],
   "source": [
    "# Removing the sample that is more than std + buffer from the mean of the targets for both x and y\n",
    "epsilon = 0.01\n",
    "targets_x_mean = np.nanmean(x, axis=1)[:, np.newaxis]\n",
    "targets_x_std = np.nanstd(x, axis=1)[:, np.newaxis] + epsilon\n",
    "keep_x_idx = np.abs(x - targets_x_mean) < targets_x_std\n",
    "x[~keep_x_idx] = np.nan\n",
    "\n",
    "targets_y_mean = np.nanmean(y, axis=1)[:, np.newaxis]\n",
    "targets_y_std = np.nanstd(y, axis=1)[:, np.newaxis] + epsilon\n",
    "keep_y_idx = np.abs(y - targets_y_mean) < targets_y_std\n",
    "y[~keep_y_idx] = np.nan"
   ]
  },
  {
   "cell_type": "code",
   "execution_count": null,
   "metadata": {
    "ExecuteTime": {
     "end_time": "2018-05-29T14:02:25.241777Z",
     "start_time": "2018-05-29T14:02:24.978707Z"
    },
    "collapsed": true
   },
   "outputs": [],
   "source": [
    "# Get the feeder locations\n",
    "feeder_x, feeder_y = sort_led_locations(info, events, times)"
   ]
  },
  {
   "cell_type": "code",
   "execution_count": null,
   "metadata": {
    "ExecuteTime": {
     "end_time": "2018-05-29T14:02:25.583019Z",
     "start_time": "2018-05-29T14:02:25.242778Z"
    },
    "collapsed": true
   },
   "outputs": [],
   "source": [
    "# One target is contaminated when the distance between the targets is large\n",
    "target_x_var = np.nanvar(x, axis=1)\n",
    "target_y_var = np.nanvar(y, axis=1)"
   ]
  },
  {
   "cell_type": "code",
   "execution_count": null,
   "metadata": {
    "ExecuteTime": {
     "end_time": "2018-05-29T14:02:25.588023Z",
     "start_time": "2018-05-29T14:02:25.585021Z"
    },
    "collapsed": true
   },
   "outputs": [],
   "source": [
    "# Contaminated samples are using the feeder LED instead of the implant LEDs\n",
    "contaminated_x_idx = target_x_var > variance_thresh\n",
    "contaminated_y_idx = target_y_var > variance_thresh"
   ]
  },
  {
   "cell_type": "code",
   "execution_count": null,
   "metadata": {
    "ExecuteTime": {
     "end_time": "2018-05-29T14:02:25.599030Z",
     "start_time": "2018-05-29T14:02:25.589023Z"
    },
    "collapsed": true
   },
   "outputs": [],
   "source": [
    "# Initialize cleaned xy arrays with first target\n",
    "# xx = np.array(x[:, 0])\n",
    "# yy = np.array(y[:, 0])"
   ]
  },
  {
   "cell_type": "code",
   "execution_count": null,
   "metadata": {
    "ExecuteTime": {
     "end_time": "2018-05-29T14:02:25.895258Z",
     "start_time": "2018-05-29T14:02:25.600031Z"
    },
    "collapsed": true
   },
   "outputs": [],
   "source": [
    "# Removing the contaminated samples that are closest to the feeder location  \n",
    "x_arrays = x[contaminated_x_idx]\n",
    "x_values = feeder_x[contaminated_x_idx]\n",
    "for array, value in zip(x_arrays, x_values):\n",
    "    nidx = np.nanargmin(np.abs(array - value))\n",
    "    array[nidx] = np.nan\n",
    "x[contaminated_x_idx] = x_arrays\n",
    "\n",
    "y_arrays = y[contaminated_y_idx]\n",
    "y_values = feeder_y[contaminated_y_idx]\n",
    "for array, value in zip(y_arrays, y_values):\n",
    "    nidx = np.nanargmin(np.abs(array - value))\n",
    "    array[nidx] = np.nan\n",
    "y[contaminated_y_idx] = y_arrays"
   ]
  },
  {
   "cell_type": "code",
   "execution_count": null,
   "metadata": {
    "ExecuteTime": {
     "end_time": "2018-05-29T14:05:06.881512Z",
     "start_time": "2018-05-29T14:05:06.629352Z"
    },
    "collapsed": true
   },
   "outputs": [],
   "source": [
    "# Calculating the mean of the remaining targets\n",
    "xx = np.nanmean(x, axis=1)\n",
    "yy = np.nanmean(y, axis=1)"
   ]
  },
  {
   "cell_type": "code",
   "execution_count": null,
   "metadata": {
    "ExecuteTime": {
     "end_time": "2018-05-29T14:05:07.137696Z",
     "start_time": "2018-05-29T14:05:06.886514Z"
    },
    "collapsed": true
   },
   "outputs": [],
   "source": [
    "plt.plot(times, xx, \"r.\", ms=3)\n",
    "plt.show()"
   ]
  },
  {
   "cell_type": "code",
   "execution_count": null,
   "metadata": {
    "ExecuteTime": {
     "end_time": "2018-05-29T14:05:07.225755Z",
     "start_time": "2018-05-29T14:05:07.139713Z"
    },
    "collapsed": true
   },
   "outputs": [],
   "source": [
    "idx = 26000\n",
    "plt.plot(times[idx:idx+600], xx[idx:idx+600], \"r.\", ms=3)\n",
    "plt.show()"
   ]
  },
  {
   "cell_type": "code",
   "execution_count": null,
   "metadata": {
    "ExecuteTime": {
     "end_time": "2018-05-29T14:05:24.073080Z",
     "start_time": "2018-05-29T14:05:09.151494Z"
    },
    "collapsed": true,
    "scrolled": false
   },
   "outputs": [],
   "source": [
    "# Remove jumps to feeder location\n",
    "nojump_x, nojump_y, ttimes = remove_jumps_to_feeder(xx, yy, times, info, jump_thresh=10, dist_thresh=6.)"
   ]
  },
  {
   "cell_type": "code",
   "execution_count": null,
   "metadata": {
    "ExecuteTime": {
     "end_time": "2018-05-29T14:05:24.078084Z",
     "start_time": "2018-05-29T14:05:24.074081Z"
    },
    "collapsed": true
   },
   "outputs": [],
   "source": [
    "print(\"total removed:\", len(xx) - len(nojump_x))"
   ]
  },
  {
   "cell_type": "code",
   "execution_count": null,
   "metadata": {
    "ExecuteTime": {
     "end_time": "2018-05-29T14:05:35.823490Z",
     "start_time": "2018-05-29T14:05:35.590308Z"
    },
    "collapsed": true
   },
   "outputs": [],
   "source": [
    "plt.plot(ttimes, nojump_y, \"b.\", ms=3)\n",
    "plt.show()"
   ]
  },
  {
   "cell_type": "code",
   "execution_count": null,
   "metadata": {
    "ExecuteTime": {
     "end_time": "2018-05-29T14:06:02.571682Z",
     "start_time": "2018-05-29T14:06:02.470629Z"
    },
    "collapsed": true
   },
   "outputs": [],
   "source": [
    "idx = 80000\n",
    "plt.plot(ttimes[idx:idx+5000], nojump_x[idx:idx+5000], \"r.\", ms=3)\n",
    "plt.show()"
   ]
  },
  {
   "cell_type": "code",
   "execution_count": null,
   "metadata": {
    "collapsed": true
   },
   "outputs": [],
   "source": []
  },
  {
   "cell_type": "code",
   "execution_count": null,
   "metadata": {
    "ExecuteTime": {
     "end_time": "2018-05-29T14:10:04.026880Z",
     "start_time": "2018-05-29T14:10:03.885764Z"
    },
    "collapsed": true
   },
   "outputs": [],
   "source": [
    "position = nept.Position(np.hstack(np.array([xx, yy])[..., np.newaxis]), ttimes)\n",
    "position = position.time_slice(start, stop)\n",
    "\n",
    "plt.plot(position.x, position.y, \"k.\")\n",
    "plt.show()"
   ]
  },
  {
   "cell_type": "code",
   "execution_count": null,
   "metadata": {
    "collapsed": true
   },
   "outputs": [],
   "source": []
  },
  {
   "cell_type": "code",
   "execution_count": null,
   "metadata": {
    "collapsed": true
   },
   "outputs": [],
   "source": []
  },
  {
   "cell_type": "code",
   "execution_count": null,
   "metadata": {
    "collapsed": true
   },
   "outputs": [],
   "source": []
  },
  {
   "cell_type": "code",
   "execution_count": null,
   "metadata": {
    "collapsed": true
   },
   "outputs": [],
   "source": []
  },
  {
   "cell_type": "code",
   "execution_count": null,
   "metadata": {
    "ExecuteTime": {
     "end_time": "2018-05-29T14:06:55.823425Z",
     "start_time": "2018-05-29T14:06:06.952475Z"
    },
    "collapsed": true
   },
   "outputs": [],
   "source": [
    "# Check out animation for single trial\n",
    "anim = animate_trial(nojump_x, nojump_y, ttimes, start, stop)\n",
    "HTML(anim.to_html5_video())"
   ]
  },
  {
   "cell_type": "code",
   "execution_count": null,
   "metadata": {
    "ExecuteTime": {
     "end_time": "2018-05-29T14:06:55.926498Z",
     "start_time": "2018-05-29T14:06:55.825427Z"
    },
    "collapsed": true
   },
   "outputs": [],
   "source": [
    "# Apply a median filter\n",
    "xx, yy = median_filter(nojump_x, nojump_y)"
   ]
  },
  {
   "cell_type": "code",
   "execution_count": null,
   "metadata": {
    "ExecuteTime": {
     "end_time": "2018-05-29T14:06:56.185682Z",
     "start_time": "2018-05-29T14:06:55.928499Z"
    },
    "collapsed": true
   },
   "outputs": [],
   "source": [
    "plt.plot(ttimes, yy, \"k.\", ms=3)\n",
    "plt.show()"
   ]
  },
  {
   "cell_type": "code",
   "execution_count": null,
   "metadata": {
    "ExecuteTime": {
     "end_time": "2018-05-29T14:06:56.191686Z",
     "start_time": "2018-05-29T14:06:56.187683Z"
    },
    "collapsed": true
   },
   "outputs": [],
   "source": [
    "yy[:10] == nojump_y[:10]"
   ]
  },
  {
   "cell_type": "code",
   "execution_count": null,
   "metadata": {
    "ExecuteTime": {
     "end_time": "2018-05-29T14:06:56.207697Z",
     "start_time": "2018-05-29T14:06:56.192687Z"
    },
    "collapsed": true
   },
   "outputs": [],
   "source": [
    "# Construct a nept.Position object\n",
    "position = nept.Position(np.hstack(np.array([xx, yy])[..., np.newaxis]), ttimes)"
   ]
  },
  {
   "cell_type": "code",
   "execution_count": null,
   "metadata": {
    "ExecuteTime": {
     "end_time": "2018-05-29T14:06:56.214704Z",
     "start_time": "2018-05-29T14:06:56.208699Z"
    },
    "collapsed": true
   },
   "outputs": [],
   "source": [
    "# writer = animation.writers['ffmpeg'](fps=18)\n",
    "# dpi = 600\n",
    "# anim.save(os.path.join(output_filepath, \"updated_corrected-position-animation.mp4\"), writer=writer, dpi=dpi)\n",
    "\n",
    "# plt.close()"
   ]
  },
  {
   "cell_type": "code",
   "execution_count": null,
   "metadata": {
    "ExecuteTime": {
     "end_time": "2018-05-29T14:07:44.882234Z",
     "start_time": "2018-05-29T14:06:56.215720Z"
    },
    "collapsed": true
   },
   "outputs": [],
   "source": [
    "# Check out animation for single trial\n",
    "anim = animate_trial(position.x, position.y, position.time, start, stop)\n",
    "HTML(anim.to_html5_video())"
   ]
  },
  {
   "cell_type": "code",
   "execution_count": null,
   "metadata": {
    "ExecuteTime": {
     "end_time": "2018-05-29T14:07:45.143419Z",
     "start_time": "2018-05-29T14:07:44.884235Z"
    },
    "collapsed": true
   },
   "outputs": [],
   "source": [
    "plt.plot(position.time, position.x, \"k.\", ms=3)\n",
    "plt.show()"
   ]
  },
  {
   "cell_type": "code",
   "execution_count": null,
   "metadata": {
    "ExecuteTime": {
     "end_time": "2018-05-29T14:07:45.387593Z",
     "start_time": "2018-05-29T14:07:45.144419Z"
    },
    "collapsed": true
   },
   "outputs": [],
   "source": [
    "plt.plot(position.time, position.y, \"b.\", ms=3)\n",
    "plt.xlabel(\"time\")\n",
    "plt.ylabel(\"y\")\n",
    "ax.spines['right'].set_visible(False)\n",
    "ax.spines['top'].set_visible(False)\n",
    "ax.yaxis.set_ticks_position('left')\n",
    "ax.xaxis.set_ticks_position('bottom')\n",
    "plt.tight_layout()\n",
    "# plt.savefig(os.path.join(output_filepath, \"updated_corrected-position.png\"))\n",
    "plt.show()"
   ]
  },
  {
   "cell_type": "code",
   "execution_count": null,
   "metadata": {
    "ExecuteTime": {
     "end_time": "2018-05-29T14:04:20.172403Z",
     "start_time": "2018-05-29T14:04:20.167399Z"
    },
    "collapsed": true
   },
   "outputs": [],
   "source": [
    "position.n_samples"
   ]
  },
  {
   "cell_type": "code",
   "execution_count": null,
   "metadata": {
    "collapsed": true
   },
   "outputs": [],
   "source": []
  }
 ],
 "metadata": {
  "kernelspec": {
   "display_name": "Python 3",
   "language": "python",
   "name": "python3"
  },
  "language_info": {
   "codemirror_mode": {
    "name": "ipython",
    "version": 3
   },
   "file_extension": ".py",
   "mimetype": "text/x-python",
   "name": "python",
   "nbconvert_exporter": "python",
   "pygments_lexer": "ipython3",
   "version": "3.6.5"
  },
  "toc": {
   "colors": {
    "hover_highlight": "#DAA520",
    "running_highlight": "#FF0000",
    "selected_highlight": "#FFD700"
   },
   "moveMenuLeft": true,
   "nav_menu": {
    "height": "12px",
    "width": "252px"
   },
   "navigate_menu": true,
   "number_sections": true,
   "sideBar": true,
   "threshold": 4,
   "toc_cell": false,
   "toc_section_display": "block",
   "toc_window_display": false
  }
 },
 "nbformat": 4,
 "nbformat_minor": 2
}
