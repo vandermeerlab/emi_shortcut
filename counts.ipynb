{
 "cells": [
  {
   "cell_type": "code",
   "execution_count": null,
   "metadata": {
    "ExecuteTime": {
     "end_time": "2017-03-09T16:49:46.825957",
     "start_time": "2017-03-09T16:49:46.141972"
    },
    "collapsed": true
   },
   "outputs": [],
   "source": [
    "%matplotlib inline\n",
    "import numpy as np\n",
    "import matplotlib.pyplot as plt\n",
    "import nept"
   ]
  },
  {
   "cell_type": "code",
   "execution_count": null,
   "metadata": {
    "collapsed": true
   },
   "outputs": [],
   "source": []
  },
  {
   "cell_type": "code",
   "execution_count": null,
   "metadata": {
    "ExecuteTime": {
     "end_time": "2017-03-09T16:49:57.984125",
     "start_time": "2017-03-09T16:49:57.973617"
    },
    "collapsed": false
   },
   "outputs": [],
   "source": [
    "spikes = np.array([nept.SpikeTrain(np.array([1., 1.1, 1.2]))])\n",
    "x = np.array([6, 5, 4, 3, 2])\n",
    "y = np.array([6, 5, 4, 3, 2])\n",
    "time = np.array([1, 2, 3, 4, 5])\n",
    "position = nept.Position([x, y], time)\n",
    "xedges, yedges = nept.get_xyedges(position)\n",
    "tuning_curves = nept.tuning_curve_2d(position, spikes, xedges, yedges, \n",
    "                                     occupied_thresh=0., gaussian_sigma=None)\n",
    "neurons = nept.Neurons(spikes, tuning_curves)"
   ]
  },
  {
   "cell_type": "code",
   "execution_count": null,
   "metadata": {
    "ExecuteTime": {
     "end_time": "2017-03-09T16:17:59.218736",
     "start_time": "2017-03-09T16:17:59.214753"
    },
    "collapsed": false
   },
   "outputs": [],
   "source": [
    "neurons.tuning_curves"
   ]
  },
  {
   "cell_type": "code",
   "execution_count": null,
   "metadata": {
    "ExecuteTime": {
     "end_time": "2017-03-09T16:47:19.852523",
     "start_time": "2017-03-09T16:47:19.847516"
    },
    "collapsed": false
   },
   "outputs": [],
   "source": [
    "window_size = 1.\n",
    "window_advance = 0.5\n",
    "time_edges = nept.get_edges(position, window_advance, lastbin=True)\n",
    "counts = nept.bin_spikes(neurons.spikes, position, window_size, window_advance,\n",
    "                         gaussian_std=None, normalized=True)"
   ]
  },
  {
   "cell_type": "code",
   "execution_count": null,
   "metadata": {
    "collapsed": true
   },
   "outputs": [],
   "source": []
  },
  {
   "cell_type": "code",
   "execution_count": null,
   "metadata": {
    "collapsed": true
   },
   "outputs": [],
   "source": []
  },
  {
   "cell_type": "code",
   "execution_count": null,
   "metadata": {
    "ExecuteTime": {
     "end_time": "2017-03-09T16:50:23.291956",
     "start_time": "2017-03-09T16:50:23.285952"
    },
    "collapsed": false
   },
   "outputs": [],
   "source": [
    "window_size = 1.\n",
    "data = np.array([[1.5], [1.5], [0.],\n",
    "                 [0.], [0.], [0.],\n",
    "                 [0.], [0.], [0.]])\n",
    "time = np.array([1, 1.5, 2, 2.5, 3, 3.5, 4, 4.5, 5])\n",
    "counts = nept.AnalogSignal(data, time)\n",
    "time_edges = np.array([1, 1.5, 2, 2.5, 3, 3.5, 4, 4.5, 5])"
   ]
  },
  {
   "cell_type": "code",
   "execution_count": null,
   "metadata": {
    "ExecuteTime": {
     "end_time": "2017-03-09T16:50:32.851459",
     "start_time": "2017-03-09T16:50:32.846456"
    },
    "collapsed": true
   },
   "outputs": [],
   "source": [
    "window_size = 1.\n",
    "data = np.array([[3.], [0.], [0.], [0.], [0.]])\n",
    "time = np.array([1, 2, 3, 4, 5])\n",
    "counts = nept.AnalogSignal(data, time)\n",
    "time_edges = np.array([1, 2, 3, 4, 5])"
   ]
  },
  {
   "cell_type": "code",
   "execution_count": null,
   "metadata": {
    "ExecuteTime": {
     "end_time": "2017-03-09T16:50:33.266451",
     "start_time": "2017-03-09T16:50:33.261447"
    },
    "collapsed": false
   },
   "outputs": [],
   "source": [
    "counts.data"
   ]
  },
  {
   "cell_type": "code",
   "execution_count": null,
   "metadata": {
    "ExecuteTime": {
     "end_time": "2017-03-09T16:50:35.362585",
     "start_time": "2017-03-09T16:50:35.357583"
    },
    "collapsed": false
   },
   "outputs": [],
   "source": [
    "min_neurons = 1\n",
    "min_spikes = 1\n",
    "\n",
    "tc_shape = tuning_curves.shape\n",
    "decoding_tc = tuning_curves.reshape(tc_shape[0], tc_shape[1] * tc_shape[2])\n",
    "\n",
    "likelihood = nept.bayesian_prob(counts, decoding_tc, window_size, min_neurons=min_neurons, min_spikes=min_spikes)"
   ]
  },
  {
   "cell_type": "code",
   "execution_count": null,
   "metadata": {
    "ExecuteTime": {
     "end_time": "2017-03-09T16:50:35.722974",
     "start_time": "2017-03-09T16:50:35.717952"
    },
    "collapsed": false
   },
   "outputs": [],
   "source": [
    "likelihood"
   ]
  },
  {
   "cell_type": "code",
   "execution_count": null,
   "metadata": {
    "ExecuteTime": {
     "end_time": "2017-03-09T16:50:36.280883",
     "start_time": "2017-03-09T16:50:36.270375"
    },
    "collapsed": false
   },
   "outputs": [],
   "source": [
    "epochs_interest = nept.Epoch(np.hstack([1., 5.]))\n",
    "\n",
    "xcenters = (xedges[1:] + xedges[:-1]) / 2.\n",
    "ycenters = (yedges[1:] + yedges[:-1]) / 2.\n",
    "xy_centers = nept.cartesian(xcenters, ycenters)\n",
    "\n",
    "decoded = nept.decode_location(likelihood, xy_centers, time_edges)\n",
    "\n",
    "nan_idx = np.logical_and(np.isnan(decoded.x), np.isnan(decoded.y))\n",
    "decoded = decoded[~nan_idx]\n",
    "decoded.time"
   ]
  },
  {
   "cell_type": "code",
   "execution_count": null,
   "metadata": {
    "ExecuteTime": {
     "end_time": "2017-03-09T16:50:37.609857",
     "start_time": "2017-03-09T16:50:37.606372"
    },
    "collapsed": true
   },
   "outputs": [],
   "source": [
    "# sequence_speed = 0.5\n",
    "# sequence_len = 4\n",
    "\n",
    "# sequences = nept.remove_teleports(decoded, speed_thresh=sequence_speed, min_length=sequence_len)\n",
    "# decoded_epochs = epochs_interest.intersect(sequences)\n",
    "# decoded_epochs = decoded_epochs.expand(0.05)\n",
    "\n",
    "# decoded = decoded[decoded_epochs]"
   ]
  },
  {
   "cell_type": "code",
   "execution_count": null,
   "metadata": {
    "ExecuteTime": {
     "end_time": "2017-03-09T16:50:38.170850",
     "start_time": "2017-03-09T16:50:38.165846"
    },
    "collapsed": false
   },
   "outputs": [],
   "source": [
    "actual_x = np.interp(decoded.time, position.time, position.x)\n",
    "actual_y = np.interp(decoded.time, position.time, position.y)\n",
    "actual_position = nept.Position(np.hstack((actual_x[..., np.newaxis],\n",
    "                                           actual_y[..., np.newaxis])), decoded.time)\n",
    "errors = actual_position.distance(decoded)"
   ]
  },
  {
   "cell_type": "code",
   "execution_count": null,
   "metadata": {
    "ExecuteTime": {
     "end_time": "2017-03-09T16:50:29.009490",
     "start_time": "2017-03-09T16:50:29.005987"
    },
    "collapsed": false
   },
   "outputs": [],
   "source": [
    "print(errors)\n",
    "print(np.mean(errors))"
   ]
  },
  {
   "cell_type": "code",
   "execution_count": null,
   "metadata": {
    "ExecuteTime": {
     "end_time": "2017-03-09T16:50:40.921458",
     "start_time": "2017-03-09T16:50:40.917455"
    },
    "collapsed": false
   },
   "outputs": [],
   "source": [
    "print(errors)\n",
    "print(np.mean(errors))"
   ]
  },
  {
   "cell_type": "code",
   "execution_count": null,
   "metadata": {
    "collapsed": true
   },
   "outputs": [],
   "source": []
  },
  {
   "cell_type": "code",
   "execution_count": null,
   "metadata": {
    "collapsed": true
   },
   "outputs": [],
   "source": []
  },
  {
   "cell_type": "code",
   "execution_count": null,
   "metadata": {
    "collapsed": true
   },
   "outputs": [],
   "source": []
  },
  {
   "cell_type": "code",
   "execution_count": null,
   "metadata": {
    "collapsed": true
   },
   "outputs": [],
   "source": []
  }
 ],
 "metadata": {
  "kernelspec": {
   "display_name": "Python 3",
   "language": "python",
   "name": "python3"
  },
  "language_info": {
   "codemirror_mode": {
    "name": "ipython",
    "version": 3
   },
   "file_extension": ".py",
   "mimetype": "text/x-python",
   "name": "python",
   "nbconvert_exporter": "python",
   "pygments_lexer": "ipython3",
   "version": "3.5.2"
  },
  "toc": {
   "colors": {
    "hover_highlight": "#DAA520",
    "running_highlight": "#FF0000",
    "selected_highlight": "#FFD700"
   },
   "moveMenuLeft": true,
   "nav_menu": {
    "height": "12px",
    "width": "252px"
   },
   "navigate_menu": true,
   "number_sections": true,
   "sideBar": true,
   "threshold": 4,
   "toc_cell": false,
   "toc_section_display": "block",
   "toc_window_display": false
  }
 },
 "nbformat": 4,
 "nbformat_minor": 0
}
