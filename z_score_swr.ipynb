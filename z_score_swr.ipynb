{
 "cells": [
  {
   "cell_type": "code",
   "execution_count": null,
   "metadata": {
    "ExecuteTime": {
     "end_time": "2018-11-27T19:42:53.863608Z",
     "start_time": "2018-11-27T19:42:52.657317Z"
    }
   },
   "outputs": [],
   "source": [
    "import matplotlib.pyplot as plt\n",
    "import numpy as np\n",
    "import os\n",
    "import scipy\n",
    "import nept\n",
    "\n",
    "from loading_data import get_data\n",
    "\n",
    "thisdir = os.getcwd()\n",
    "pickle_filepath = os.path.join(thisdir, \"cache\", \"pickled\")\n",
    "output_filepath = os.path.join(thisdir, \"plots\", \"zscore\")\n",
    "if not os.path.exists(output_filepath):\n",
    "    os.makedirs(output_filepath)"
   ]
  },
  {
   "cell_type": "code",
   "execution_count": null,
   "metadata": {
    "ExecuteTime": {
     "end_time": "2018-11-27T19:42:53.931335Z",
     "start_time": "2018-11-27T19:42:53.863608Z"
    }
   },
   "outputs": [],
   "source": [
    "import info.r063d2 as r063d2\n",
    "import info.r068d5 as info\n",
    "infos = [r063d2, info]"
   ]
  },
  {
   "cell_type": "code",
   "execution_count": null,
   "metadata": {
    "ExecuteTime": {
     "end_time": "2018-11-27T19:42:54.494929Z",
     "start_time": "2018-11-27T19:42:53.932318Z"
    }
   },
   "outputs": [],
   "source": [
    "events, position, spikes, lfp, lfp_theta = get_data(info)"
   ]
  },
  {
   "cell_type": "code",
   "execution_count": null,
   "metadata": {
    "ExecuteTime": {
     "end_time": "2018-11-27T20:12:33.465345Z",
     "start_time": "2018-11-27T20:12:24.296081Z"
    }
   },
   "outputs": [],
   "source": [
    "start = info.task_times[\"prerecord\"].start\n",
    "stop = info.task_times[\"prerecord\"].stop\n",
    "\n",
    "# parameters\n",
    "z_thresh = 1\n",
    "merge_thresh = 0.01\n",
    "min_length = 0.03\n",
    "fs = info.fs\n",
    "thresh = (140.0, 250.0)\n",
    "min_involved = 4\n",
    "\n",
    "rest_labels = [\"prerecord\", \"pauseA\", \"pauseB\", \"postrecord\"]\n",
    "rest_starts = [info.task_times[task_label].start for task_label in rest_labels]\n",
    "rest_stops = [info.task_times[task_label].stop for task_label in rest_labels]\n",
    "rest_lfp = lfp.time_slice(rest_starts, rest_stops)\n",
    "\n",
    "swrs = nept.detect_swr_hilbert(rest_lfp, fs, thresh, z_thresh, merge_thresh=merge_thresh, min_length=min_length)\n",
    "swrs = nept.find_multi_in_epochs(spikes, swrs, min_involved=min_involved)\n",
    "\n",
    "swrs = swrs.time_slice(start, stop)\n",
    "\n",
    "print(swrs.n_epochs)\n",
    "sliced_lfp = lfp.time_slice(start, stop)\n",
    "\n",
    "all_spikes = np.sort(np.concatenate([spiketrain.time for spiketrain in spikes]))\n",
    "sliced_all_spikes = all_spikes[(start <= all_spikes) & (all_spikes <= stop)]\n",
    "\n",
    "dt = 0.02\n",
    "std = 0.01\n",
    "firing_thresh = 20\n",
    "bin_edges = nept.get_edges(sliced_all_spikes, dt)\n",
    "\n",
    "convolved_spikes = np.histogram(sliced_all_spikes, bins=bin_edges)[0].astype(float)\n",
    "convolved_spikes = nept.gaussian_filter(convolved_spikes, std=std, dt=dt)"
   ]
  },
  {
   "cell_type": "code",
   "execution_count": null,
   "metadata": {
    "ExecuteTime": {
     "end_time": "2018-11-27T20:08:19.138340Z",
     "start_time": "2018-11-27T20:08:19.134360Z"
    }
   },
   "outputs": [],
   "source": [
    "zspikes = scipy.stats.zscore(convolved_spikes)"
   ]
  },
  {
   "cell_type": "code",
   "execution_count": null,
   "metadata": {
    "ExecuteTime": {
     "end_time": "2018-11-27T20:08:31.820815Z",
     "start_time": "2018-11-27T20:08:31.702589Z"
    }
   },
   "outputs": [],
   "source": [
    "plt.plot(zspikes)\n",
    "plt.show()"
   ]
  },
  {
   "cell_type": "code",
   "execution_count": null,
   "metadata": {
    "ExecuteTime": {
     "end_time": "2018-11-27T20:15:33.370286Z",
     "start_time": "2018-11-27T20:15:33.366288Z"
    }
   },
   "outputs": [],
   "source": [
    "z_spikes_thresh = 1\n",
    "# Finding locations where the power changes\n",
    "detect = zspikes > z_spikes_thresh\n",
    "detect = np.hstack([0, detect, 0])  # pad to detect first or last element change\n",
    "signal_change = np.diff(detect.astype(int))"
   ]
  },
  {
   "cell_type": "code",
   "execution_count": null,
   "metadata": {
    "ExecuteTime": {
     "end_time": "2018-11-27T20:15:33.612494Z",
     "start_time": "2018-11-27T20:15:33.606497Z"
    }
   },
   "outputs": [],
   "source": [
    "start_swr_idx = np.where(signal_change == 1)[0]\n",
    "stop_swr_idx = np.where(signal_change == -1)[0] - 1\n",
    "\n",
    "# Getting times associated with these power changes\n",
    "start_time = lfp.time[start_swr_idx]\n",
    "stop_time = lfp.time[stop_swr_idx]\n",
    "\n",
    "# Removing doubles\n",
    "start_times = start_time[(stop_time - start_time) != 0]\n",
    "stop_times = stop_time[(stop_time - start_time) != 0]\n",
    "\n",
    "mua = nept.Epoch(np.array([start_times, stop_times]))"
   ]
  },
  {
   "cell_type": "code",
   "execution_count": null,
   "metadata": {
    "ExecuteTime": {
     "end_time": "2018-11-27T20:15:33.868179Z",
     "start_time": "2018-11-27T20:15:33.863180Z"
    }
   },
   "outputs": [],
   "source": [
    "print(\"n_swrs before mua thresh:\", swrs.n_epochs)"
   ]
  },
  {
   "cell_type": "code",
   "execution_count": null,
   "metadata": {
    "ExecuteTime": {
     "end_time": "2018-11-27T20:15:37.078718Z",
     "start_time": "2018-11-27T20:15:34.182805Z"
    }
   },
   "outputs": [],
   "source": [
    "swrs_mua = swrs.overlaps(mua)"
   ]
  },
  {
   "cell_type": "code",
   "execution_count": null,
   "metadata": {
    "ExecuteTime": {
     "end_time": "2018-11-27T20:15:37.085077Z",
     "start_time": "2018-11-27T20:15:37.078718Z"
    }
   },
   "outputs": [],
   "source": [
    "print(\"n_swrs after mua thresh:\", swrs_mua.n_epochs)"
   ]
  },
  {
   "cell_type": "code",
   "execution_count": null,
   "metadata": {},
   "outputs": [],
   "source": []
  },
  {
   "cell_type": "code",
   "execution_count": null,
   "metadata": {},
   "outputs": [],
   "source": []
  },
  {
   "cell_type": "code",
   "execution_count": null,
   "metadata": {},
   "outputs": [],
   "source": []
  },
  {
   "cell_type": "code",
   "execution_count": null,
   "metadata": {},
   "outputs": [],
   "source": [
    "\n",
    "\n",
    "# swr params\n",
    "swr_params = dict()\n",
    "swr_params[\"z_thresh\"] = 3\n",
    "swr_params[\"power_thresh\"] = 3\n",
    "swr_params[\"merge_thresh\"] = 0.02\n",
    "swr_params[\"min_length\"] = 0.05\n",
    "swr_params[\"swr_thresh\"] = (140.0, 250.0)\n",
    "swr_params[\"min_involved\"] = 4\n",
    "\n",
    "swrs = nept.detect_swr_hilbert(lfp,\n",
    "                               fs=info.fs,\n",
    "                               thresh=swr_params[\"swr_thresh\"],\n",
    "                               z_thresh=swr_params[\"z_thresh\"],\n",
    "                               power_thresh=swr_params[\"power_thresh\"],\n",
    "                               merge_thresh=swr_params[\"merge_thresh\"],\n",
    "                               min_length=swr_params[\"min_length\"])\n",
    "swrs = nept.find_multi_in_epochs(spikes, swrs, min_involved=swr_params[\"min_involved\"])"
   ]
  },
  {
   "cell_type": "code",
   "execution_count": null,
   "metadata": {},
   "outputs": [],
   "source": [
    "swrs.n_epochs"
   ]
  },
  {
   "cell_type": "code",
   "execution_count": null,
   "metadata": {},
   "outputs": [],
   "source": []
  },
  {
   "cell_type": "code",
   "execution_count": null,
   "metadata": {},
   "outputs": [],
   "source": [
    "def butter_bandpass(signal, thresh, fs, order=4):\n",
    "    \"\"\"Filters signal using butterworth filter.\n",
    "\n",
    "    Parameters\n",
    "    ----------\n",
    "    signal : nept.LFP\n",
    "    fs : int\n",
    "        Eg. 2000. Should get this from experiment-specifics.\n",
    "    thresh : tuple\n",
    "        With format (lowcut, highcut).\n",
    "        Typically (140.0, 250.0) for sharp-wave ripple detection.\n",
    "    order : int\n",
    "        Default set to 4.\n",
    "\n",
    "    Returns\n",
    "    -------\n",
    "    filtered_butter : np.array\n",
    "\n",
    "    \"\"\"\n",
    "    signal = np.squeeze(signal)\n",
    "    nyquist = 0.5 * fs\n",
    "\n",
    "    b, a = scipy.signal.butter(order, [thresh[0]/nyquist, thresh[1]/nyquist], btype='band')\n",
    "    filtered_butter = scipy.signal.filtfilt(b, a, signal)\n",
    "\n",
    "    return filtered_butter\n",
    "\n",
    "def next_regular(target):\n",
    "    \"\"\"Finds the next regular number greater than or equal to target.\n",
    "\n",
    "    Regular numbers are composites of the prime factors 2, 3, and 5.\n",
    "    Also known as 5-smooth numbers or Hamming numbers, these are the optimal\n",
    "    size for inputs to fast-fourier transforms (FFTPACK).\n",
    "\n",
    "    Parameters\n",
    "    ----------\n",
    "    target : positive int\n",
    "\n",
    "    Returns\n",
    "    -------\n",
    "    match : int\n",
    "\n",
    "    Notes\n",
    "    -----\n",
    "    This function was taken from the scipy.signal.signaltools module.\n",
    "    See http://scipy.org/scipylib/\n",
    "    \"\"\"\n",
    "    if target <= 6:\n",
    "        print(target)\n",
    "        return target\n",
    "\n",
    "    # Quickly check if it's already a power of 2\n",
    "    if not (target & (target-1)):\n",
    "        return target\n",
    "\n",
    "    match = float('inf')  # Anything found will be smaller\n",
    "    p5 = 1\n",
    "    while p5 < target:\n",
    "        p35 = p5\n",
    "        while p35 < target:\n",
    "            # Ceiling integer division, avoiding conversion to float\n",
    "            # (quotient = ceil(target / p35))\n",
    "            quotient = -(-target // p35)\n",
    "\n",
    "            # Quickly find next power of 2 >= quotient\n",
    "            p2 = 2**((quotient - 1).bit_length())\n",
    "\n",
    "            N = p2 * p35\n",
    "            if N == target:\n",
    "                return N\n",
    "            elif N < match:\n",
    "                match = N\n",
    "            p35 *= 3\n",
    "            if p35 == target:\n",
    "                return p35\n",
    "        if p35 < match:\n",
    "            match = p35\n",
    "        p5 *= 5\n",
    "        if p5 == target:\n",
    "            return p5\n",
    "    if p5 < match:\n",
    "        match = p5\n",
    "    return match"
   ]
  },
  {
   "cell_type": "code",
   "execution_count": null,
   "metadata": {},
   "outputs": [],
   "source": [
    "def detect_swr_hilbert_limited_zscore(lfp, \n",
    "                            fs, \n",
    "                            thresh, \n",
    "                            times_for_zscore,\n",
    "                            z_thresh=3,\n",
    "                            merge_thresh=0.02, \n",
    "                            min_length=0.01):\n",
    "    \"\"\"Finds sharp-wave ripple (SWR) times and indices.\n",
    "\n",
    "    Parameters\n",
    "    ----------\n",
    "    lfp : nept.LocalFieldPotential\n",
    "    fs : int\n",
    "        Experiment-specific, something in the range of 2000 typical.\n",
    "    thresh : tuple\n",
    "        With format (lowcut, highcut).\n",
    "        Typically (140.0, 250.0) for sharp-wave ripple detection.\n",
    "    times_for_zscore : nept.Epoch\n",
    "        Containing the epoch for which the zscore will be computed and the z_thresh applied.\n",
    "    z_thresh : int or float\n",
    "        The default is set to 3\n",
    "    merge_thres : int or float\n",
    "        The default is set to 0.02\n",
    "    min_length : float\n",
    "        Any sequence less than this amount is not considered a sharp-wave ripple.\n",
    "        The default is set to 0.01.\n",
    "\n",
    "    Returns\n",
    "    -------\n",
    "    swrs : nept.Epoch\n",
    "        Containing nept.LocalFieldPotential for each SWR event\n",
    "\n",
    "    \"\"\"\n",
    "    # Filtering signal with butterworth fitler\n",
    "    filtered_butter = nept.butter_bandpass(lfp.data, thresh, fs)\n",
    "\n",
    "    # Get LFP power (using Hilbert)\n",
    "    # Zero padding to nearest regular number to speed up fast fourier transforms (FFT) computed in the hilbert function.\n",
    "    # Regular numbers are composites of the prime factors 2, 3, and 5.\n",
    "    hilbert_n = nept.next_regular(lfp.n_samples)\n",
    "    power = np.abs(scipy.signal.hilbert(filtered_butter, N=hilbert_n))\n",
    "    \n",
    "    # removing the zero padding now that the power is computed\n",
    "    power_lfp = nept.AnalogSignal(power[:lfp.n_samples], lfp.time)\n",
    "\n",
    "    # Apply zscore thresh to restricted data to find power thresh\n",
    "    sliced_power_lfp = power_lfp.time_slice(times_for_zscore.start, times_for_zscore.stop)\n",
    "    zpower = scipy.stats.zscore(np.squeeze(sliced_power_lfp.data))\n",
    "    \n",
    "    zthresh_idx = (np.abs(zpower-z_thresh)).argmin()\n",
    "    power_thresh = sliced_power_lfp.data[zthresh_idx][0]\n",
    "    print(power_thresh)\n",
    "\n",
    "    # Finding locations where the power changes\n",
    "    detect = np.squeeze(power_lfp.data) > power_thresh\n",
    "    detect = np.hstack([0, detect, 0])  # pad to detect first or last element change\n",
    "    signal_change = np.diff(detect.astype(int))\n",
    "\n",
    "    start_swr_idx = np.where(signal_change == 1)[0]\n",
    "    stop_swr_idx = np.where(signal_change == -1)[0] - 1\n",
    "\n",
    "    # Getting times associated with these power changes\n",
    "    start_time = lfp.time[start_swr_idx]\n",
    "    stop_time = lfp.time[stop_swr_idx]\n",
    "\n",
    "    # Merging ranges that are closer - in time - than the merge_threshold.\n",
    "    no_double = start_time[1:] - stop_time[:-1]\n",
    "    merge_idx = np.where(no_double < merge_thresh)[0]\n",
    "    start_merged = np.delete(start_time, merge_idx + 1)\n",
    "    stop_merged = np.delete(stop_time, merge_idx)\n",
    "    start_merged_idx = np.delete(start_swr_idx, merge_idx + 1)\n",
    "    stop_merged_idx = np.delete(stop_swr_idx, merge_idx)\n",
    "\n",
    "    # Removing ranges that are shorter - in time - than the min_length value.\n",
    "    swr_len = stop_merged - start_merged\n",
    "    short_idx = np.where(swr_len < min_length)[0]\n",
    "    start_merged = np.delete(start_merged, short_idx)\n",
    "    stop_merged = np.delete(stop_merged, short_idx)\n",
    "    start_merged_idx = np.delete(start_merged_idx, short_idx)\n",
    "    stop_merged_idx = np.delete(stop_merged_idx, short_idx)\n",
    "\n",
    "    swrs = nept.Epoch(np.array([start_merged, stop_merged]))\n",
    "\n",
    "    return swrs"
   ]
  },
  {
   "cell_type": "code",
   "execution_count": null,
   "metadata": {},
   "outputs": [],
   "source": [
    "temp_swrs = detect_swr_hilbert_limited_zscore(lfp,\n",
    "                                              fs=info.fs,\n",
    "                                              thresh=swr_params[\"swr_thresh\"],\n",
    "                                              times_for_zscore=nept.Epoch([info.task_times[\"pauseB\"].start, info.task_times[\"pauseB\"].stop]),\n",
    "                                              z_thresh=swr_params[\"z_thresh\"],\n",
    "                                              merge_thresh=swr_params[\"merge_thresh\"],\n",
    "                                              min_length=swr_params[\"min_length\"])\n",
    "temp_swrs = nept.find_multi_in_epochs(spikes, temp_swrs, min_involved=swr_params[\"min_involved\"])"
   ]
  },
  {
   "cell_type": "code",
   "execution_count": null,
   "metadata": {},
   "outputs": [],
   "source": [
    "temp_swrs.n_epochs"
   ]
  },
  {
   "cell_type": "code",
   "execution_count": null,
   "metadata": {
    "scrolled": true
   },
   "outputs": [],
   "source": [
    "buffer = 0.1\n",
    "swr_highlight = \"#fc4e2a\"\n",
    "\n",
    "for i in range(10):\n",
    "    start = temp_swrs.starts[i]\n",
    "    stop = temp_swrs.stops[i]\n",
    " \n",
    "    start_idx = nept.find_nearest_idx(lfp.time, start - buffer)\n",
    "    stop_idx = nept.find_nearest_idx(lfp.time, stop + buffer)\n",
    "    plt.plot(lfp.time[start_idx:stop_idx], lfp.data[start_idx:stop_idx], color=\"k\", lw=0.3, alpha=0.9)\n",
    "\n",
    "    start_idx = nept.find_nearest_idx(lfp.time, start)\n",
    "    stop_idx = nept.find_nearest_idx(lfp.time, stop)\n",
    "    plt.plot(lfp.time[start_idx:stop_idx], lfp.data[start_idx:stop_idx], color=swr_highlight, lw=0.6)\n",
    "    plt.axis(\"off\")\n",
    "    plt.show()"
   ]
  },
  {
   "cell_type": "code",
   "execution_count": null,
   "metadata": {
    "scrolled": true
   },
   "outputs": [],
   "source": [
    "buffer = 0.1\n",
    "swr_highlight = \"#fc4e2a\"\n",
    "\n",
    "for i in range(10):\n",
    "    start = swrs.starts[i]\n",
    "    stop = swrs.stops[i]\n",
    " \n",
    "    start_idx = nept.find_nearest_idx(lfp.time, start - buffer)\n",
    "    stop_idx = nept.find_nearest_idx(lfp.time, stop + buffer)\n",
    "    plt.plot(lfp.time[start_idx:stop_idx], lfp.data[start_idx:stop_idx], color=\"k\", lw=0.3, alpha=0.9)\n",
    "\n",
    "    start_idx = nept.find_nearest_idx(lfp.time, start)\n",
    "    stop_idx = nept.find_nearest_idx(lfp.time, stop)\n",
    "    plt.plot(lfp.time[start_idx:stop_idx], lfp.data[start_idx:stop_idx], color=swr_highlight, lw=0.6)\n",
    "    plt.axis(\"off\")\n",
    "    plt.show()"
   ]
  },
  {
   "cell_type": "code",
   "execution_count": null,
   "metadata": {},
   "outputs": [],
   "source": []
  },
  {
   "cell_type": "code",
   "execution_count": null,
   "metadata": {},
   "outputs": [],
   "source": [
    "plt.plot(lfp.time, lfp.data)\n",
    "plt.show()"
   ]
  },
  {
   "cell_type": "code",
   "execution_count": null,
   "metadata": {},
   "outputs": [],
   "source": [
    "sliced_lfp = lfp.time_slice(info.task_times[\"pauseB\"].start, info.task_times[\"pauseB\"].stop)\n",
    "plt.plot(sliced_lfp.time, sliced_lfp.data)\n",
    "plt.show()"
   ]
  },
  {
   "cell_type": "code",
   "execution_count": null,
   "metadata": {},
   "outputs": [],
   "source": [
    "sliced_lfp = lfp.time_slice(info.task_times[\"phase1\"].start, info.task_times[\"phase1\"].stop)\n",
    "plt.plot(sliced_lfp.time, sliced_lfp.data)\n",
    "plt.show()"
   ]
  },
  {
   "cell_type": "code",
   "execution_count": null,
   "metadata": {},
   "outputs": [],
   "source": []
  },
  {
   "cell_type": "code",
   "execution_count": null,
   "metadata": {},
   "outputs": [],
   "source": [
    "fs=info.fs\n",
    "thresh=swr_params[\"swr_thresh\"]\n",
    "    \n",
    "# Filtering signal with butterworth fitler\n",
    "filtered_butter = butter_bandpass(lfp.data, thresh, fs)\n",
    "\n",
    "plt.plot(filtered_butter[:1000])\n",
    "plt.show()"
   ]
  },
  {
   "cell_type": "code",
   "execution_count": null,
   "metadata": {},
   "outputs": [],
   "source": [
    "times_for_zscore = nept.Epoch([info.task_times[\"pauseB\"].start, info.task_times[\"pauseB\"].stop])\n",
    "z_thresh = 3\n",
    "\n",
    "# Get LFP power (using Hilbert)\n",
    "# Zero padding to nearest regular number to speed up fast fourier transforms (FFT) computed in the hilbert function.\n",
    "# Regular numbers are composites of the prime factors 2, 3, and 5.\n",
    "hilbert_n = next_regular(lfp.n_samples)\n",
    "power = np.abs(scipy.signal.hilbert(filtered_butter, N=hilbert_n))\n",
    "\n",
    "# removing the zero padding now that the power is computed\n",
    "power_lfp = nept.AnalogSignal(power[:lfp.n_samples], lfp.time)\n",
    "\n",
    "# Apply zscore thresh to restricted data to find power thresh\n",
    "sliced_power_lfp = power_lfp.time_slice(times_for_zscore.start, times_for_zscore.stop)\n",
    "zpower = scipy.stats.zscore(np.squeeze(sliced_power_lfp.data))\n",
    "\n",
    "zthresh_idx = (np.abs(zpower-z_thresh)).argmin()\n",
    "power_thresh = sliced_power_lfp.data[zthresh_idx][0]"
   ]
  },
  {
   "cell_type": "code",
   "execution_count": null,
   "metadata": {},
   "outputs": [],
   "source": [
    "plt.plot(power_lfp.time, power_lfp.data)\n",
    "plt.axhline(power_thresh)\n",
    "plt.show()"
   ]
  },
  {
   "cell_type": "code",
   "execution_count": null,
   "metadata": {},
   "outputs": [],
   "source": [
    "power_thresh"
   ]
  },
  {
   "cell_type": "code",
   "execution_count": null,
   "metadata": {},
   "outputs": [],
   "source": []
  }
 ],
 "metadata": {
  "kernelspec": {
   "display_name": "Python 3",
   "language": "python",
   "name": "python3"
  },
  "language_info": {
   "codemirror_mode": {
    "name": "ipython",
    "version": 3
   },
   "file_extension": ".py",
   "mimetype": "text/x-python",
   "name": "python",
   "nbconvert_exporter": "python",
   "pygments_lexer": "ipython3",
   "version": "3.6.5"
  },
  "toc": {
   "colors": {
    "hover_highlight": "#DAA520",
    "running_highlight": "#FF0000",
    "selected_highlight": "#FFD700"
   },
   "moveMenuLeft": true,
   "nav_menu": {
    "height": "12px",
    "width": "252px"
   },
   "navigate_menu": true,
   "number_sections": true,
   "sideBar": true,
   "threshold": 4,
   "toc_cell": false,
   "toc_section_display": "block",
   "toc_window_display": false
  }
 },
 "nbformat": 4,
 "nbformat_minor": 2
}
