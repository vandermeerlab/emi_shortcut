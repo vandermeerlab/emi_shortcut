{
 "cells": [
  {
   "cell_type": "code",
   "execution_count": null,
   "metadata": {
    "collapsed": true
   },
   "outputs": [],
   "source": [
    "%matplotlib inline\n",
    "import matplotlib.pyplot as plt\n",
    "import numpy as np\n",
    "import os\n",
    "import nept\n",
    "\n",
    "from loading_data import get_data\n",
    "from analyze_classy_decode import detect_swr_hilbert_limited_zscore"
   ]
  },
  {
   "cell_type": "code",
   "execution_count": null,
   "metadata": {
    "collapsed": true
   },
   "outputs": [],
   "source": [
    "thisdir = os.getcwd()\n",
    "pickle_filepath = os.path.join(thisdir, \"cache\", \"pickled\")\n",
    "output_filepath = os.path.join(thisdir, \"plots\", \"oksequenceless\")\n",
    "if not os.path.exists(output_filepath):\n",
    "    os.makedirs(output_filepath)"
   ]
  },
  {
   "cell_type": "code",
   "execution_count": null,
   "metadata": {
    "collapsed": true
   },
   "outputs": [],
   "source": [
    "import info.r063d2 as r063d2\n",
    "import info.r063d3 as r063d3\n",
    "infos = [r063d2, r063d3]\n",
    "\n",
    "# from run import analysis_infos\n",
    "# infos = analysis_infos"
   ]
  },
  {
   "cell_type": "code",
   "execution_count": null,
   "metadata": {
    "collapsed": true
   },
   "outputs": [],
   "source": [
    "info = r063d2"
   ]
  },
  {
   "cell_type": "code",
   "execution_count": null,
   "metadata": {
    "collapsed": true
   },
   "outputs": [],
   "source": [
    "# swr params\n",
    "merge_thresh = 0.02\n",
    "min_length = 0.05\n",
    "swr_thresh = (140.0, 250.0)\n",
    "\n",
    "task_times = [\"prerecord\", \"pauseA\", \"pauseB\", \"postrecord\"]\n",
    "maze_segments = [\"u\", \"shortcut\", \"novel\", \"other\"]"
   ]
  },
  {
   "cell_type": "code",
   "execution_count": null,
   "metadata": {},
   "outputs": [],
   "source": [
    "print(info.session_id)\n",
    "events, position, spikes, lfp, _ = get_data(info)\n",
    "\n",
    "# Find SWRs for the whole session\n",
    "swrs = detect_swr_hilbert_limited_zscore(info, \n",
    "                                         lfp=lfp,\n",
    "                                         fs=info.fs, \n",
    "                                         thresh=swr_thresh,\n",
    "                                         times_for_zscore=nept.Epoch([info.task_times[\"pauseB\"].start,\n",
    "                                                                      info.task_times[\"pauseB\"].stop]),\n",
    "                                         merge_thresh=merge_thresh, \n",
    "                                         min_length=min_length)\n",
    "swrs = nept.find_multi_in_epochs(spikes, swrs, min_involved=4)\n",
    "\n",
    "rest_epochs = nept.rest_threshold(position, thresh=12., t_smooth=0.8)"
   ]
  },
  {
   "cell_type": "code",
   "execution_count": null,
   "metadata": {},
   "outputs": [],
   "source": [
    "# Restrict SWRs to those during epochs of interest during rest    \n",
    "phase_swrs = dict()\n",
    "n_swrs = {task_time: 0 for task_time in task_times}\n",
    "\n",
    "for task_time in task_times:\n",
    "    epochs_of_interest = info.task_times[task_time].intersect(rest_epochs)\n",
    "\n",
    "    phase_swrs[task_time] = epochs_of_interest.overlaps(swrs)\n",
    "    phase_swrs[task_time] = phase_swrs[task_time][phase_swrs[task_time].durations >= 0.05]\n",
    "\n",
    "    n_swrs[task_time] += phase_swrs[task_time].n_epochs\n",
    "\n",
    "print(n_swrs)"
   ]
  },
  {
   "cell_type": "code",
   "execution_count": null,
   "metadata": {
    "collapsed": true
   },
   "outputs": [],
   "source": []
  },
  {
   "cell_type": "code",
   "execution_count": null,
   "metadata": {
    "collapsed": true
   },
   "outputs": [],
   "source": []
  },
  {
   "cell_type": "code",
   "execution_count": null,
   "metadata": {
    "collapsed": true
   },
   "outputs": [],
   "source": []
  }
 ],
 "metadata": {
  "kernelspec": {
   "display_name": "Python 3",
   "language": "python",
   "name": "python3"
  },
  "language_info": {
   "codemirror_mode": {
    "name": "ipython",
    "version": 3
   },
   "file_extension": ".py",
   "mimetype": "text/x-python",
   "name": "python",
   "nbconvert_exporter": "python",
   "pygments_lexer": "ipython3",
   "version": "3.6.5"
  }
 },
 "nbformat": 4,
 "nbformat_minor": 2
}
