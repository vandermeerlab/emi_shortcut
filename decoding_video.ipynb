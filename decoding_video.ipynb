{
 "cells": [
  {
   "cell_type": "code",
   "execution_count": null,
   "metadata": {
    "ExecuteTime": {
     "end_time": "2018-07-03T13:54:12.657077Z",
     "start_time": "2018-07-03T13:54:05.320894Z"
    }
   },
   "outputs": [],
   "source": [
    "%matplotlib inline\n",
    "import matplotlib.pyplot as plt\n",
    "from matplotlib import gridspec\n",
    "import numpy as np\n",
    "import itertools\n",
    "import scipy\n",
    "import os\n",
    "import nept\n",
    "\n",
    "from matplotlib import animation, rc\n",
    "from IPython.display import HTML\n",
    "\n",
    "from loading_data import get_data\n",
    "from analyze_tuning_curves import get_only_tuning_curves\n",
    "from analyze_decode_bytrial import decode_trial\n",
    "from analyze_decode import get_decoded_zones\n",
    "from utils_maze import find_zones, get_trials"
   ]
  },
  {
   "cell_type": "code",
   "execution_count": null,
   "metadata": {
    "ExecuteTime": {
     "end_time": "2018-07-03T13:54:12.663073Z",
     "start_time": "2018-07-03T13:54:12.659075Z"
    }
   },
   "outputs": [],
   "source": [
    "thisdir = os.getcwd()\n",
    "pickle_filepath = os.path.join(thisdir, \"cache\", \"pickled\")\n",
    "output_filepath = os.path.join(thisdir, \"plots\", \"decode-video\")"
   ]
  },
  {
   "cell_type": "code",
   "execution_count": null,
   "metadata": {
    "ExecuteTime": {
     "end_time": "2018-07-03T13:54:12.672068Z",
     "start_time": "2018-07-03T13:54:12.665072Z"
    }
   },
   "outputs": [],
   "source": [
    "import info.r068d6 as info"
   ]
  },
  {
   "cell_type": "code",
   "execution_count": null,
   "metadata": {
    "ExecuteTime": {
     "end_time": "2018-07-03T13:54:13.304578Z",
     "start_time": "2018-07-03T13:54:12.674066Z"
    }
   },
   "outputs": [],
   "source": [
    "events, position, spikes, lfp, _ = get_data(info)\n",
    "\n",
    "phase = \"phase3\"\n",
    "\n",
    "position_initial = position.time_slice(info.task_times[phase].start, info.task_times[phase].stop)\n",
    "spikes = [spiketrain.time_slice(info.task_times[phase].start, info.task_times[phase].stop) for spiketrain in spikes]"
   ]
  },
  {
   "cell_type": "code",
   "execution_count": null,
   "metadata": {
    "ExecuteTime": {
     "end_time": "2018-07-03T13:54:13.313573Z",
     "start_time": "2018-07-03T13:54:13.304578Z"
    }
   },
   "outputs": [],
   "source": [
    "xedges, yedges = nept.get_xyedges(position_initial, binsize=4)\n",
    "\n",
    "trial_epochs = get_trials(events, info.task_times[phase])"
   ]
  },
  {
   "cell_type": "code",
   "execution_count": null,
   "metadata": {
    "ExecuteTime": {
     "end_time": "2018-07-03T13:54:16.136888Z",
     "start_time": "2018-07-03T13:54:13.315570Z"
    }
   },
   "outputs": [],
   "source": [
    "# for trial_idx in range(trial_epochs.n_epochs):\n",
    "for trial_idx in [18]:\n",
    "    trial_start = trial_epochs.starts[trial_idx]\n",
    "    trial_stop = trial_epochs.stops[trial_idx]\n",
    "\n",
    "    trial_times = nept.Epoch([trial_start, trial_stop])\n",
    "    sliced_spikes, tuning_curves = get_only_tuning_curves(info, position, spikes, xedges, yedges, phase=\"phase3\")\n",
    "\n",
    "    decoding_times = trial_times\n",
    "    shuffle_id = False\n",
    "    speed_limit = 0.167\n",
    "    t_smooth = 0.5\n",
    "    dt = 0.025\n",
    "    window = 0.025\n",
    "    gaussian_std = 0.0075\n",
    "    normalized = False\n",
    "    min_neurons = 2\n",
    "    min_spikes = 1\n",
    "\n",
    "    position = position_initial.time_slice(decoding_times.start, decoding_times.stop)\n",
    "    \n",
    "    # limit position to only times when the subject is moving faster than a certain threshold\n",
    "    run_epoch = nept.run_threshold(position, thresh=speed_limit, t_smooth=t_smooth)\n",
    "    position = position[run_epoch]\n",
    "\n",
    "    epochs_interest = nept.Epoch(np.array([position.time[0], position.time[-1]]))\n",
    "\n",
    "    counts = nept.bin_spikes(sliced_spikes, position.time, dt=dt, window=window,\n",
    "                             gaussian_std=gaussian_std, normalized=normalized)\n",
    "    \n",
    "    n_active_neurons = np.sum(counts.data >= 1, axis=1)\n",
    "\n",
    "    tc_shape = tuning_curves.shape\n",
    "    decoding_tc = tuning_curves.reshape(tc_shape[0], tc_shape[1] * tc_shape[2])\n",
    "\n",
    "    likelihood = nept.bayesian_prob(counts, decoding_tc, window, min_neurons=min_neurons, min_spikes=min_spikes)"
   ]
  },
  {
   "cell_type": "code",
   "execution_count": null,
   "metadata": {
    "ExecuteTime": {
     "end_time": "2018-07-03T13:54:16.145885Z",
     "start_time": "2018-07-03T13:54:16.137888Z"
    }
   },
   "outputs": [],
   "source": [
    "likelihood"
   ]
  },
  {
   "cell_type": "code",
   "execution_count": null,
   "metadata": {},
   "outputs": [],
   "source": []
  },
  {
   "cell_type": "code",
   "execution_count": null,
   "metadata": {
    "ExecuteTime": {
     "end_time": "2018-07-03T13:54:16.156878Z",
     "start_time": "2018-07-03T13:54:16.147883Z"
    }
   },
   "outputs": [],
   "source": [
    "trial_epochs.n_epochs"
   ]
  },
  {
   "cell_type": "code",
   "execution_count": null,
   "metadata": {
    "ExecuteTime": {
     "end_time": "2018-07-03T13:54:16.702143Z",
     "start_time": "2018-07-03T13:54:16.158877Z"
    }
   },
   "outputs": [],
   "source": [
    "# for trial_idx in range(trial_epochs.n_epochs):\n",
    "for trial_idx in [18]:\n",
    "    trial_start = trial_epochs.starts[trial_idx]\n",
    "    trial_stop = trial_epochs.stops[trial_idx]\n",
    "\n",
    "    trial_times = nept.Epoch([trial_start, trial_stop])\n",
    "    sliced_spikes, tuning_curves = get_only_tuning_curves(info, position, spikes, xedges, yedges, phase=\"phase3\")\n",
    "\n",
    "    decoding_times = trial_times\n",
    "    shuffle_id = False\n",
    "    speed_limit = 4.\n",
    "    t_smooth = 0.5\n",
    "    dt = 0.025\n",
    "    window = 0.025\n",
    "    gaussian_std = 0.0075\n",
    "    normalized = False\n",
    "    min_neurons = 2\n",
    "    min_spikes = 1\n",
    "\n",
    "    position = position_initial.time_slice(decoding_times.start, decoding_times.stop)\n",
    "    \n",
    "    # limit position to only times when the subject is moving faster than a certain threshold\n",
    "    run_epoch = nept.run_threshold(position, thresh=speed_limit, t_smooth=t_smooth)\n",
    "    position = position[run_epoch]\n",
    "\n",
    "    epochs_interest = nept.Epoch(np.array([position.time[0], position.time[-1]]))\n",
    "\n",
    "    counts = nept.bin_spikes(sliced_spikes, position.time, dt=dt, window=window,\n",
    "                             gaussian_std=gaussian_std, normalized=normalized)\n",
    "    \n",
    "    n_active_neurons = np.sum(counts.data >= 1, axis=1)\n",
    "\n",
    "    tc_shape = tuning_curves.shape\n",
    "    decoding_tc = tuning_curves.reshape(tc_shape[0], tc_shape[1] * tc_shape[2])\n",
    "\n",
    "    likelihood = nept.bayesian_prob(counts, decoding_tc, window, min_neurons=min_neurons, min_spikes=min_spikes)\n",
    "    \n",
    "    xcenters = (xedges[1:] + xedges[:-1]) / 2.\n",
    "    ycenters = (yedges[1:] + yedges[:-1]) / 2.\n",
    "    xy_centers = nept.cartesian(xcenters, ycenters)\n",
    "    decoded_position = nept.decode_location(likelihood, xy_centers, counts.time)\n",
    "    \n",
    "    likelihood = likelihood.reshape(np.shape(likelihood)[0], tc_shape[1], tc_shape[2])\n",
    "#     likelihood[np.isnan(likelihood)] = 0.\n",
    "\n",
    "    f_xy = scipy.interpolate.interp1d(position.time, position.data.T, kind=\"nearest\")\n",
    "    counts_xy = f_xy(decoded_position.time)\n",
    "    true_position = nept.Position(np.hstack((counts_xy[0][..., np.newaxis],\n",
    "                                             counts_xy[1][..., np.newaxis])),\n",
    "                                  decoded_position.time)\n",
    "    \n",
    "    errors = true_position.distance(decoded_position)\n",
    "    print(np.nanmean(errors))\n",
    "    \n",
    "\n",
    "    fig = plt.figure(figsize=(12, 10))\n",
    "    gs = gridspec.GridSpec(5, 4) \n",
    "    \n",
    "    ax1 = plt.subplot2grid((5, 4), (0, 0), colspan=3, rowspan=3)\n",
    "\n",
    "    xx, yy = np.meshgrid(xedges, yedges)\n",
    "\n",
    "    pad_amount = 5\n",
    "    ax1.set_xlim((np.floor(np.min(true_position.x))-pad_amount, np.ceil(np.max(true_position.x))+pad_amount))\n",
    "    ax1.set_ylim((np.floor(np.min(true_position.y))-pad_amount, np.ceil(np.max(true_position.y))+pad_amount))\n",
    "\n",
    "    n_timebins = decoded_position.n_samples\n",
    "\n",
    "    cmap = plt.cm.get_cmap('bone_r')\n",
    "    posterior_position = ax1.pcolormesh(xx[:-1], yy[:-1], likelihood[0], vmin=0, vmax=0.1, cmap=cmap)\n",
    "    colorbar = fig.colorbar(posterior_position, ax=ax1)\n",
    "\n",
    "    estimated_position, = ax1.plot([], [], \"<\", color=\"r\")\n",
    "    rat_position, = ax1.plot([], [], \"<\", color=\"b\")\n",
    "    \n",
    "    ax2 = plt.subplot2grid((5, 4), (3, 0), colspan=3)\n",
    "\n",
    "    binwidth = 5.\n",
    "    error_bins = np.arange(-binwidth, np.max(errors)+binwidth, binwidth)\n",
    "    \n",
    "    _, _, errors_bin = ax2.hist([np.clip(errors, error_bins[0], error_bins[-1])], bins=error_bins, rwidth=0.9, color=\"k\")\n",
    "    errors_idx = np.digitize(errors, error_bins)\n",
    "\n",
    "    \n",
    "    xlabels = [str(int(b)) for b in error_bins]\n",
    "    xlabels[0] = \"nan\"\n",
    "    ax2.set_xticklabels(xlabels)\n",
    "    fontsize = 14\n",
    "    ax2.set_xlabel(\"Error (cm)\", fontsize=fontsize)\n",
    "    ax2.set_ylabel(\"# bins\", fontsize=fontsize)\n",
    "    ax2.spines['right'].set_visible(False)\n",
    "    ax2.spines['top'].set_visible(False)\n",
    "    ax2.yaxis.set_ticks_position('left')\n",
    "    ax2.xaxis.set_ticks_position('bottom')\n",
    "    xticks = binwidth * np.arange(0, len(xlabels)-1, 2) - binwidth\n",
    "    xticks[0] = -binwidth/2.\n",
    "    plt.xticks(xticks, fontsize=fontsize)\n",
    "    plt.yticks(fontsize=fontsize)\n",
    "    \n",
    "    ax3 = plt.subplot2grid((5, 4), (4, 0), colspan=3)\n",
    "    \n",
    "    binwidth = 1\n",
    "    n_active_bins = np.arange(-binwidth, np.max(n_active_neurons)+binwidth, binwidth)\n",
    "\n",
    "    _, _, n_neurons_bin = ax3.hist(n_active_neurons, bins=n_active_bins, rwidth=0.9, color=\"k\")\n",
    "#     n_active_idx = np.digitize(n_active_neurons, n_active_bins)\n",
    "    \n",
    "    ax3.set_xlabel(\"Number of active neurons\", fontsize=fontsize)\n",
    "    ax3.set_ylabel(\"# bins\", fontsize=fontsize)\n",
    "    ax3.spines['right'].set_visible(False)\n",
    "    ax3.spines['top'].set_visible(False)\n",
    "    ax3.yaxis.set_ticks_position('left')\n",
    "    ax3.xaxis.set_ticks_position('bottom')\n",
    "    xticks = binwidth * np.arange(len(n_active_bins))\n",
    "    plt.xticks(xticks-binwidth/2)\n",
    "    ax3.set_xticklabels(xticks, fontsize=fontsize)\n",
    "    plt.yticks(fontsize=fontsize)\n",
    "    \n",
    "    fig.tight_layout()\n",
    "\n",
    "\n",
    "    def init():\n",
    "        posterior_position.set_array([])\n",
    "        estimated_position.set_data([], [])\n",
    "        rat_position.set_data([], [])\n",
    "        return (posterior_position, estimated_position, rat_position)\n",
    "\n",
    "\n",
    "    def animate(i):\n",
    "        posterior_position.set_array(likelihood[i].ravel())\n",
    "        estimated_position.set_data(decoded_position.x[i], decoded_position.y[i])\n",
    "        rat_position.set_data(true_position.x[i], true_position.y[i])\n",
    "        \n",
    "        for patch in errors_bin:\n",
    "            patch.set_fc('k')\n",
    "        errors_bin[errors_idx[i]-1].set_fc('r')\n",
    "        \n",
    "        for patch in n_neurons_bin:\n",
    "            patch.set_fc('k')\n",
    "        n_neurons_bin[n_active_neurons[i]].set_fc('r')\n",
    "    \n",
    "        return (posterior_position, estimated_position, rat_position, errors_bin, n_neurons_bin)\n",
    "\n",
    "    anim = animation.FuncAnimation(fig, animate, frames=n_timebins, interval=80, \n",
    "                                   blit=False, repeat=False)\n",
    "\n",
    "\n",
    "#     writer = animation.writers['ffmpeg'](fps=18)\n",
    "#     dpi = 600\n",
    "#     filename = '/errors_'+info.session_id+'_trial'+str(trial_idx)+'.mp4'\n",
    "#     anim.save(output_filepath+filename, writer=writer, dpi=dpi)\n",
    "    \n",
    "#     plt.close()"
   ]
  },
  {
   "cell_type": "code",
   "execution_count": null,
   "metadata": {
    "ExecuteTime": {
     "end_time": "2018-07-03T13:54:16.703141Z",
     "start_time": "2018-07-03T13:54:05.354Z"
    }
   },
   "outputs": [],
   "source": [
    "true_position.n_samples, decoded_position.n_samples"
   ]
  },
  {
   "cell_type": "code",
   "execution_count": null,
   "metadata": {
    "ExecuteTime": {
     "end_time": "2018-07-03T13:54:16.704222Z",
     "start_time": "2018-07-03T13:54:05.357Z"
    }
   },
   "outputs": [],
   "source": [
    "likelihood.shape"
   ]
  },
  {
   "cell_type": "code",
   "execution_count": null,
   "metadata": {},
   "outputs": [],
   "source": []
  },
  {
   "cell_type": "code",
   "execution_count": null,
   "metadata": {},
   "outputs": [],
   "source": []
  },
  {
   "cell_type": "code",
   "execution_count": null,
   "metadata": {
    "ExecuteTime": {
     "end_time": "2018-07-03T13:54:16.704222Z",
     "start_time": "2018-07-03T13:54:05.366Z"
    }
   },
   "outputs": [],
   "source": [
    "# writer = animation.writers['ffmpeg'](fps=18)\n",
    "# dpi = 600\n",
    "# filename = '/errors_'+info.session_id+'_trial'+str(trial_idx)+'.mp4'\n",
    "# anim.save(output_filepath+filename, writer=writer, dpi=dpi)"
   ]
  },
  {
   "cell_type": "code",
   "execution_count": null,
   "metadata": {
    "ExecuteTime": {
     "end_time": "2018-07-03T13:54:16.704222Z",
     "start_time": "2018-07-03T13:54:05.370Z"
    },
    "scrolled": false
   },
   "outputs": [],
   "source": [
    "print(\"Blue is true position; Red is estimated location.\")\n",
    "HTML(anim.to_html5_video())"
   ]
  },
  {
   "cell_type": "code",
   "execution_count": null,
   "metadata": {
    "ExecuteTime": {
     "end_time": "2018-07-03T13:54:16.704222Z",
     "start_time": "2018-07-03T13:54:05.374Z"
    }
   },
   "outputs": [],
   "source": [
    "true_position.distance(decoded_position)"
   ]
  },
  {
   "cell_type": "code",
   "execution_count": null,
   "metadata": {
    "ExecuteTime": {
     "end_time": "2018-07-03T13:54:16.704222Z",
     "start_time": "2018-07-03T13:54:05.377Z"
    },
    "scrolled": false
   },
   "outputs": [],
   "source": [
    "true_position.x[:20]"
   ]
  },
  {
   "cell_type": "code",
   "execution_count": null,
   "metadata": {
    "ExecuteTime": {
     "end_time": "2018-07-03T13:54:16.704222Z",
     "start_time": "2018-07-03T13:54:05.380Z"
    }
   },
   "outputs": [],
   "source": [
    "decoded_position.x[:20]"
   ]
  },
  {
   "cell_type": "code",
   "execution_count": null,
   "metadata": {
    "ExecuteTime": {
     "end_time": "2018-07-03T13:54:16.704222Z",
     "start_time": "2018-07-03T13:54:05.383Z"
    }
   },
   "outputs": [],
   "source": [
    "likelihood"
   ]
  },
  {
   "cell_type": "code",
   "execution_count": null,
   "metadata": {
    "ExecuteTime": {
     "end_time": "2018-07-03T13:54:16.704222Z",
     "start_time": "2018-07-03T13:54:05.386Z"
    }
   },
   "outputs": [],
   "source": [
    "tuning_curves = decoding_tc\n",
    "binsize = window\n",
    "\n",
    "\n",
    "n_time_bins = np.shape(counts.time)[0]\n",
    "n_position_bins = np.shape(tuning_curves)[1]\n",
    "\n",
    "likelihood = np.empty((n_time_bins, n_position_bins)) * np.nan\n",
    "\n",
    "# Ignore warnings when inf created in this loop\n",
    "error_settings = np.seterr(over='ignore')\n",
    "for idx in range(n_position_bins):\n",
    "    valid_idx = tuning_curves[:, idx] > 1  # log of 1 or less is negative or invalid\n",
    "    if np.any(valid_idx):\n",
    "        # event_rate is the lambda in this poisson distribution\n",
    "        event_rate = tuning_curves[valid_idx, idx, np.newaxis].T ** counts.data[:, valid_idx]\n",
    "        prior = np.exp(-binsize * np.nansum(tuning_curves[valid_idx, idx]))\n",
    "\n",
    "        # Below is the same as\n",
    "        # likelihood[:, idx] = np.prod(event_rate, axis=0) * prior * (1/n_position_bins)\n",
    "        # only less likely to have floating point issues, though slower\n",
    "        likelihood[:, idx] = np.exp(np.nansum(np.log(event_rate), axis=1)) * prior * (1/n_position_bins)\n",
    "np.seterr(**error_settings)\n",
    "\n",
    "print(likelihood)\n",
    "\n",
    "# Set any inf value to be largest float\n",
    "largest_float = np.finfo(float).max\n",
    "likelihood[np.isinf(likelihood)] = largest_float\n",
    "likelihood /= np.nansum(likelihood, axis=1)[..., np.newaxis]\n",
    "\n",
    "print(likelihood)\n",
    "\n",
    "# Remove bins with too few neurons that that are active\n",
    "# a neuron is considered active by having at least min_spikes in a bin\n",
    "n_active_neurons = np.sum(counts.data >= min_spikes, axis=1)\n",
    "likelihood[n_active_neurons < min_neurons] = np.nan"
   ]
  },
  {
   "cell_type": "code",
   "execution_count": null,
   "metadata": {
    "ExecuteTime": {
     "end_time": "2018-07-03T13:54:16.704222Z",
     "start_time": "2018-07-03T13:54:05.389Z"
    }
   },
   "outputs": [],
   "source": [
    "n_position_bins"
   ]
  },
  {
   "cell_type": "code",
   "execution_count": null,
   "metadata": {
    "ExecuteTime": {
     "end_time": "2018-07-03T13:54:16.704222Z",
     "start_time": "2018-07-03T13:54:05.397Z"
    }
   },
   "outputs": [],
   "source": [
    "\n",
    "for idx in range(n_position_bins):\n",
    "    if np.nansum(tuning_curves[:, idx]) > 1:\n",
    "        print(idx)"
   ]
  },
  {
   "cell_type": "code",
   "execution_count": null,
   "metadata": {
    "ExecuteTime": {
     "end_time": "2018-07-03T13:54:16.704222Z",
     "start_time": "2018-07-03T13:54:05.400Z"
    }
   },
   "outputs": [],
   "source": [
    "tuning_curves[:, 1113]"
   ]
  },
  {
   "cell_type": "code",
   "execution_count": null,
   "metadata": {},
   "outputs": [],
   "source": []
  },
  {
   "cell_type": "code",
   "execution_count": null,
   "metadata": {},
   "outputs": [],
   "source": []
  },
  {
   "cell_type": "code",
   "execution_count": null,
   "metadata": {},
   "outputs": [],
   "source": []
  },
  {
   "cell_type": "code",
   "execution_count": null,
   "metadata": {
    "ExecuteTime": {
     "end_time": "2018-07-03T13:54:16.704222Z",
     "start_time": "2018-07-03T13:54:05.412Z"
    }
   },
   "outputs": [],
   "source": [
    "valid_idx"
   ]
  },
  {
   "cell_type": "code",
   "execution_count": null,
   "metadata": {
    "ExecuteTime": {
     "end_time": "2018-07-03T13:54:16.704222Z",
     "start_time": "2018-07-03T13:54:05.416Z"
    }
   },
   "outputs": [],
   "source": [
    "tuning_curves[valid_idx, idx]"
   ]
  },
  {
   "cell_type": "code",
   "execution_count": null,
   "metadata": {
    "ExecuteTime": {
     "end_time": "2018-07-03T13:54:16.704222Z",
     "start_time": "2018-07-03T13:54:05.420Z"
    }
   },
   "outputs": [],
   "source": [
    "counts.data"
   ]
  },
  {
   "cell_type": "code",
   "execution_count": null,
   "metadata": {
    "ExecuteTime": {
     "end_time": "2018-07-03T13:54:16.704222Z",
     "start_time": "2018-07-03T13:54:05.423Z"
    }
   },
   "outputs": [],
   "source": [
    "n_active_neurons.shape"
   ]
  },
  {
   "cell_type": "code",
   "execution_count": null,
   "metadata": {},
   "outputs": [],
   "source": []
  },
  {
   "cell_type": "code",
   "execution_count": null,
   "metadata": {},
   "outputs": [],
   "source": []
  },
  {
   "cell_type": "code",
   "execution_count": null,
   "metadata": {},
   "outputs": [],
   "source": []
  },
  {
   "cell_type": "code",
   "execution_count": null,
   "metadata": {},
   "outputs": [],
   "source": []
  },
  {
   "cell_type": "code",
   "execution_count": null,
   "metadata": {
    "ExecuteTime": {
     "end_time": "2018-07-03T13:54:16.704222Z",
     "start_time": "2018-07-03T13:54:05.438Z"
    }
   },
   "outputs": [],
   "source": [
    "trial_idx = 18\n",
    "trial_start = trial_epochs.starts[trial_idx]\n",
    "trial_stop = trial_epochs.stops[trial_idx]\n",
    "\n",
    "trial_times = nept.Epoch([trial_start, trial_stop])\n",
    "sliced_spikes, tuning_curves = get_only_tuning_curves(info, position, spikes, xedges, yedges, phase=\"phase3\")\n",
    "\n",
    "decoding_times = trial_times\n",
    "shuffle_id = False\n",
    "speed_limit = 4.\n",
    "t_smooth = 0.5\n",
    "dt = 0.025\n",
    "window = 0.025\n",
    "gaussian_std = 0.0075\n",
    "normalized = False\n",
    "min_neurons = 2\n",
    "min_spikes = 1\n",
    "\n",
    "position = position_initial.time_slice(decoding_times.start, decoding_times.stop)\n",
    "\n",
    "# limit position to only times when the subject is moving faster than a certain threshold\n",
    "run_epoch = nept.run_threshold(position, thresh=speed_limit, t_smooth=t_smooth)\n",
    "position = position[run_epoch]\n",
    "\n",
    "epochs_interest = nept.Epoch(np.array([position.time[0], position.time[-1]]))\n",
    "\n",
    "counts = nept.bin_spikes(sliced_spikes, position.time, dt=dt, window=window,\n",
    "                         gaussian_std=gaussian_std, normalized=normalized)\n",
    "\n",
    "n_active_neurons = np.sum(counts.data >= 1, axis=1)\n",
    "\n",
    "tc_shape = tuning_curves.shape\n",
    "decoding_tc = tuning_curves.reshape(tc_shape[0], tc_shape[1] * tc_shape[2])\n",
    "\n",
    "likelihood = nept.bayesian_prob(counts, decoding_tc, window, min_neurons=min_neurons, min_spikes=min_spikes)"
   ]
  },
  {
   "cell_type": "code",
   "execution_count": null,
   "metadata": {
    "ExecuteTime": {
     "end_time": "2018-07-03T13:54:16.704222Z",
     "start_time": "2018-07-03T13:54:05.446Z"
    }
   },
   "outputs": [],
   "source": [
    "xcenters = (xedges[1:] + xedges[:-1]) / 2.\n",
    "ycenters = (yedges[1:] + yedges[:-1]) / 2.\n",
    "xy_centers = nept.cartesian(xcenters, ycenters)\n",
    "decoded_position = nept.decode_location(likelihood, xy_centers, counts.time)\n",
    "\n",
    "likelihood = likelihood.reshape(np.shape(likelihood)[0], tc_shape[1], tc_shape[2])\n",
    "#     likelihood[np.isnan(likelihood)] = 0.\n",
    "\n",
    "f_xy = scipy.interpolate.interp1d(position.time, position.data.T, kind=\"nearest\")\n",
    "counts_xy = f_xy(decoded_position.time)\n",
    "true_position = nept.Position(np.hstack((counts_xy[0][..., np.newaxis],\n",
    "                                         counts_xy[1][..., np.newaxis])),\n",
    "                              decoded_position.time)\n",
    "\n",
    "errors = true_position.distance(decoded_position)\n",
    "print(np.nanmean(errors))"
   ]
  },
  {
   "cell_type": "code",
   "execution_count": null,
   "metadata": {
    "ExecuteTime": {
     "end_time": "2018-07-03T13:54:16.719847Z",
     "start_time": "2018-07-03T13:54:05.454Z"
    }
   },
   "outputs": [],
   "source": [
    "sum_likelihood = np.nansum(likelihood, axis=0)"
   ]
  },
  {
   "cell_type": "code",
   "execution_count": null,
   "metadata": {
    "ExecuteTime": {
     "end_time": "2018-07-03T13:54:16.719847Z",
     "start_time": "2018-07-03T13:54:05.458Z"
    }
   },
   "outputs": [],
   "source": [
    "fig, ax = plt.subplots()\n",
    "\n",
    "xx, yy = np.meshgrid(xedges, yedges)\n",
    "\n",
    "pad_amount = 5\n",
    "ax.set_xlim((np.floor(np.min(true_position.x))-pad_amount, np.ceil(np.max(true_position.x))+pad_amount))\n",
    "ax.set_ylim((np.floor(np.min(true_position.y))-pad_amount, np.ceil(np.max(true_position.y))+pad_amount))\n",
    "\n",
    "n_timebins = len(likelihood)\n",
    "\n",
    "cmap = plt.cm.get_cmap('bone_r')\n",
    "posterior_position = ax.pcolormesh(xx[:-1], yy[:-1], sum_likelihood, vmin=0, vmax=0.1, cmap=cmap)\n",
    "colorbar = plt.colorbar(posterior_position, ax=ax)"
   ]
  },
  {
   "cell_type": "code",
   "execution_count": null,
   "metadata": {},
   "outputs": [],
   "source": []
  },
  {
   "cell_type": "code",
   "execution_count": null,
   "metadata": {},
   "outputs": [],
   "source": []
  }
 ],
 "metadata": {
  "kernelspec": {
   "display_name": "Python 3",
   "language": "python",
   "name": "python3"
  },
  "language_info": {
   "codemirror_mode": {
    "name": "ipython",
    "version": 3
   },
   "file_extension": ".py",
   "mimetype": "text/x-python",
   "name": "python",
   "nbconvert_exporter": "python",
   "pygments_lexer": "ipython3",
   "version": "3.6.5"
  },
  "toc": {
   "colors": {
    "hover_highlight": "#DAA520",
    "running_highlight": "#FF0000",
    "selected_highlight": "#FFD700"
   },
   "moveMenuLeft": true,
   "nav_menu": {
    "height": "12px",
    "width": "252px"
   },
   "navigate_menu": true,
   "number_sections": true,
   "sideBar": true,
   "threshold": 4,
   "toc_cell": false,
   "toc_section_display": "block",
   "toc_window_display": false
  }
 },
 "nbformat": 4,
 "nbformat_minor": 2
}
