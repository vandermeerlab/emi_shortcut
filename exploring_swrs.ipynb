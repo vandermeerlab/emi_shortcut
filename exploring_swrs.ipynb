{
 "cells": [
  {
   "cell_type": "code",
   "execution_count": null,
   "metadata": {
    "collapsed": true
   },
   "outputs": [],
   "source": [
    "%matplotlib inline\n",
    "import matplotlib.pyplot as plt\n",
    "import numpy as np\n",
    "import os\n",
    "import nept\n",
    "import seaborn as sns\n",
    "\n",
    "import scalebar\n",
    "\n",
    "from loading_data import get_data\n",
    "from plot_sequence_raster import plot_sequence\n",
    "from run import spike_sorted_infos\n",
    "from analyze_tuning_curves import get_tuning_curves\n",
    "from utils_maze import speed_threshold\n",
    "from analyze_decode_bytrial import get_trials"
   ]
  },
  {
   "cell_type": "code",
   "execution_count": null,
   "metadata": {
    "collapsed": true
   },
   "outputs": [],
   "source": [
    "from matplotlib import animation\n",
    "from IPython.display import HTML"
   ]
  },
  {
   "cell_type": "code",
   "execution_count": null,
   "metadata": {
    "collapsed": true
   },
   "outputs": [],
   "source": [
    "thisdir = os.getcwd()\n",
    "pickle_filepath = os.path.join(thisdir, \"cache\", \"pickled\")\n",
    "output_filepath = os.path.join(thisdir, \"plots\", \"exploring_swrs\")"
   ]
  },
  {
   "cell_type": "code",
   "execution_count": null,
   "metadata": {
    "collapsed": true
   },
   "outputs": [],
   "source": [
    "import info.r068d5 as r068d5\n",
    "infos = [r068d5]"
   ]
  },
  {
   "cell_type": "code",
   "execution_count": null,
   "metadata": {
    "collapsed": true
   },
   "outputs": [],
   "source": [
    "# infos = spike_sorted_infos"
   ]
  },
  {
   "cell_type": "code",
   "execution_count": null,
   "metadata": {
    "collapsed": true
   },
   "outputs": [],
   "source": [
    "def plot_swrs_stats(data, task_times, title, ylabel, savepath=None):\n",
    "    fig, ax = plt.subplots()\n",
    "    ind = np.arange(len(task_times))\n",
    "\n",
    "    plt.bar(ind, data)\n",
    "\n",
    "    ax.set_xticks(ind)\n",
    "    ax.set_xticklabels(task_times, rotation=75, fontsize=14)\n",
    "    \n",
    "    plt.ylabel(ylabel)\n",
    "    plt.title(title)\n",
    "    \n",
    "    ax.spines['right'].set_visible(False)\n",
    "    ax.spines['top'].set_visible(False)\n",
    "    ax.yaxis.set_ticks_position('left')\n",
    "    ax.xaxis.set_ticks_position('bottom')\n",
    "    # plt.axhline(y=10, color='r', linestyle=':')\n",
    "    plt.tight_layout()\n",
    "\n",
    "    if savepath is not None:\n",
    "        plt.savefig(savepath + \".png\")\n",
    "        plt.close(\"all\")\n",
    "    else:\n",
    "        plt.show()"
   ]
  },
  {
   "cell_type": "code",
   "execution_count": null,
   "metadata": {
    "collapsed": true,
    "scrolled": false
   },
   "outputs": [],
   "source": [
    "def plot_swr(swrs, lfp, position, spikes, buffer=0.15, n_plots=10, savepath=None):\n",
    "    if swrs.n_epochs < n_plots:\n",
    "        starts = swrs.starts\n",
    "        stops = swrs.stops\n",
    "    else:\n",
    "        starts = swrs.starts[:n_plots]\n",
    "        stops = swrs.stops[:n_plots]\n",
    "        \n",
    "    for i, (start, stop) in enumerate(zip(starts, stops)):\n",
    "        start_time = start - buffer\n",
    "        stop_time = stop + buffer\n",
    "\n",
    "        rows = len(spikes)\n",
    "        add_rows = int(rows / 8)\n",
    "\n",
    "        ms = 800 / rows\n",
    "        mew = 0.7\n",
    "        spike_loc = 1\n",
    "\n",
    "        fig = plt.figure(figsize=(8, 8))\n",
    "        ax1 = plt.subplot2grid((rows+add_rows, 2), (0, 0), rowspan=rows)\n",
    "\n",
    "        for idx, neuron_spikes in enumerate(spikes):\n",
    "            ax1.plot(neuron_spikes.time, np.ones(len(neuron_spikes.time))+(idx*spike_loc), '|',\n",
    "                     color='k', ms=ms, mew=mew)\n",
    "        ax1.set_xticks([])\n",
    "        ax1.set_xlim([start_time, stop_time])\n",
    "        ax1.set_ylim([0.5, len(spikes)*spike_loc+0.5])\n",
    "\n",
    "        ax2 = plt.subplot2grid((rows+add_rows, 2), (rows, 0), rowspan=add_rows, sharex=ax1)\n",
    "        start_idx = nept.find_nearest_idx(lfp.time, start_time)\n",
    "        stop_idx = nept.find_nearest_idx(lfp.time, stop_time)\n",
    "        ax2.plot(lfp.time[start_idx:stop_idx], lfp.data[start_idx:stop_idx], '#3288bd', lw=0.3)\n",
    "        start_idx = nept.find_nearest_idx(lfp.time, start)\n",
    "        stop_idx = nept.find_nearest_idx(lfp.time, stop)\n",
    "        ax2.plot(lfp.time[start_idx:stop_idx], lfp.data[start_idx:stop_idx], 'r', lw=0.4)\n",
    "        ax2.set_xticks([])\n",
    "        ax2.set_xlim([start_time, stop_time])\n",
    "        ax2.set_yticks([])\n",
    "\n",
    "        scalebar.add_scalebar(ax2, matchy=False, bbox_transform=fig.transFigure,\n",
    "                              bbox_to_anchor=(0.5, 0.05), units='ms')\n",
    "\n",
    "        ax3 = plt.subplot2grid((rows+add_rows, 2), (0, 1), rowspan=int(0.5*rows))\n",
    "        start_idx = nept.find_nearest_idx(position.time, start_time)\n",
    "        stop_idx = nept.find_nearest_idx(position.time, stop_time)\n",
    "        ax3.plot(position.x, position.y, '.', color=\"#bdbdbd\", ms=2)\n",
    "        ax3.plot(position.x[start_idx:stop_idx], position.y[start_idx:stop_idx], 'k.')\n",
    "        ax3.set_xlim(np.min(position.x), np.max(position.x))\n",
    "        ax3.set_ylim(np.min(position.y), np.max(position.y))\n",
    "        ax3.axis('off')\n",
    "\n",
    "        sns.despine(bottom=True)\n",
    "        plt.tight_layout(h_pad=0.003)\n",
    "\n",
    "        if savepath is not None:\n",
    "            plt.savefig(savepath + str(i) + \".png\", bbox_inches='tight')\n",
    "            plt.close(\"all\")\n",
    "        else:\n",
    "            plt.show()"
   ]
  },
  {
   "cell_type": "code",
   "execution_count": null,
   "metadata": {
    "collapsed": true
   },
   "outputs": [],
   "source": []
  },
  {
   "cell_type": "code",
   "execution_count": null,
   "metadata": {
    "collapsed": true
   },
   "outputs": [],
   "source": [
    "\n",
    "for info in infos:\n",
    "    events, position, spikes, lfp, _ = get_data(info)\n",
    "    \n",
    "    trial_epochs = get_trials(events, info.task_times[\"phase3\"])\n",
    "    \n",
    "    trial_idx = 10   \n",
    "    trial_start = trial_epochs.starts[trial_idx]\n",
    "    trial_stop = trial_epochs.stops[trial_idx]\n",
    "    trial_times = nept.Epoch([trial_start, trial_stop])\n",
    "    \n",
    "    phase = info.task_times[\"phase1\"]\n",
    "    sliced_position = position.time_slice(trial_times.start, trial_times.stop)\n",
    "    resting_epochs = speed_threshold(sliced_position, speed_limit=4., rest=True)\n",
    "    rest_position = sliced_position[resting_epochs]\n",
    "\n",
    "    sliced_lfp = lfp.time_slice(resting_epochs.starts, resting_epochs.stops)\n",
    "    sliced_spikes = [spiketrain.time_slice(resting_epochs.starts, resting_epochs.stops) for spiketrain in spikes]"
   ]
  },
  {
   "cell_type": "code",
   "execution_count": null,
   "metadata": {},
   "outputs": [],
   "source": [
    "plt.plot(sliced_position.time, sliced_position.y, \"k.\")\n",
    "plt.plot(rest_position.time, rest_position.y, \"b.\")\n",
    "plt.show()"
   ]
  },
  {
   "cell_type": "code",
   "execution_count": null,
   "metadata": {
    "collapsed": true
   },
   "outputs": [],
   "source": [
    "xedges, yedges = nept.get_xyedges(position)\n",
    "\n",
    "fig, ax = plt.subplots()\n",
    "\n",
    "xx, yy = np.meshgrid(xedges, yedges)\n",
    "\n",
    "pad_amount = 5\n",
    "ax.set_xlim((np.floor(np.min(rest_position.x))-pad_amount, np.ceil(np.max(rest_position.x))+pad_amount))\n",
    "ax.set_ylim((np.floor(np.min(rest_position.y))-pad_amount, np.ceil(np.max(rest_position.y))+pad_amount))\n",
    "\n",
    "plt.plot(sliced_position.x, sliced_position.y, '.', color=\"#bdbdbd\")\n",
    "rat_position, = ax.plot([], [], \"<\", color=\"b\")\n",
    "\n",
    "fig.tight_layout()\n",
    "\n",
    "\n",
    "def init():\n",
    "    rat_position.set_data([], [])\n",
    "    return rat_position\n",
    "\n",
    "\n",
    "def animate(i):\n",
    "    rat_position.set_data(rest_position.x[i], rest_position.y[i])\n",
    "    return rat_position\n",
    "\n",
    "anim = animation.FuncAnimation(fig, animate, frames=rest_position.n_samples, interval=80, \n",
    "                               blit=False, repeat=False)"
   ]
  },
  {
   "cell_type": "code",
   "execution_count": null,
   "metadata": {
    "collapsed": true
   },
   "outputs": [],
   "source": [
    "HTML(anim.to_html5_video())"
   ]
  },
  {
   "cell_type": "code",
   "execution_count": null,
   "metadata": {
    "collapsed": true
   },
   "outputs": [],
   "source": []
  },
  {
   "cell_type": "code",
   "execution_count": null,
   "metadata": {
    "collapsed": true
   },
   "outputs": [],
   "source": []
  },
  {
   "cell_type": "code",
   "execution_count": null,
   "metadata": {},
   "outputs": [],
   "source": [
    "info = r068d5\n",
    "remove_interneurons = False\n",
    "resting_only = True\n",
    "\n",
    "print(info.session_id)\n",
    "events, position, spikes, lfp, _ = get_data(info)\n",
    "\n",
    "condition = \"\"\n",
    "\n",
    "if remove_interneurons:\n",
    "    max_mean_firing = 5\n",
    "    interneurons = np.zeros(len(spikes), dtype=bool)\n",
    "    for i, spike in enumerate(spikes):\n",
    "        if len(spike.time) / info.session_length >= max_mean_firing:\n",
    "            interneurons[i] = True\n",
    "    spikes = spikes[~interneurons]\n",
    "    condition = condition + \"_no-interneurons\"\n",
    "\n",
    "# task_times = [\"prerecord\", \"phase1\", \"pauseA\", \"phase2\", \"pauseB\", \"phase3\", \"postrecord\"]\n",
    "task_times = [\"pauseB\"]"
   ]
  },
  {
   "cell_type": "code",
   "execution_count": null,
   "metadata": {},
   "outputs": [],
   "source": [
    "n_swrs = np.zeros(len(task_times))\n",
    "phase_duration = np.zeros(len(task_times))\n",
    "\n",
    "for i, task_time in enumerate(task_times):\n",
    "    if remove_interneurons:\n",
    "        condition = \"_no-interneurons\"\n",
    "    else:\n",
    "        condition = \"\"\n",
    "        \n",
    "    epochs_of_interest = info.task_times[task_time]\n",
    "\n",
    "    phase_duration[i] = epochs_of_interest.durations[0] / 60.\n",
    "\n",
    "    if resting_only:\n",
    "        sliced_position = position.time_slice(epochs_of_interest.start, epochs_of_interest.stop)\n",
    "        plt.plot(sliced_position.x, sliced_position.y, \"k.\")\n",
    "        plt.show()\n",
    "        epochs_of_interest = speed_threshold(sliced_position, speed_limit=4., rest=True)\n",
    "        condition = condition + \"_rest\"\n",
    "        print(condition)\n",
    "\n",
    "    sliced_lfp = lfp.time_slice(epochs_of_interest.starts, epochs_of_interest.stops)\n",
    "    sliced_spikes = [spiketrain.time_slice(epochs_of_interest.starts, epochs_of_interest.stops) for spiketrain in\n",
    "                     spikes]\n",
    "\n",
    "    z_thresh = 2.0\n",
    "    power_thresh = 3.0\n",
    "    merge_thresh = 0.02\n",
    "    min_length = 0.05\n",
    "    swrs = nept.detect_swr_hilbert(sliced_lfp, fs=info.fs, thresh=(140.0, 250.0), z_thresh=z_thresh,\n",
    "                                   power_thresh=power_thresh, merge_thresh=merge_thresh, min_length=min_length)\n",
    "\n",
    "    multi_swrs = nept.find_multi_in_epochs(sliced_spikes, swrs, min_involved=4)\n",
    "\n",
    "    n_swrs[i] = multi_swrs.n_epochs"
   ]
  },
  {
   "cell_type": "code",
   "execution_count": null,
   "metadata": {},
   "outputs": [],
   "source": [
    "print(\"n_swrs:\", n_swrs)\n",
    "print(\"swr_rate:\", n_swrs / phase_duration)"
   ]
  },
  {
   "cell_type": "code",
   "execution_count": null,
   "metadata": {
    "collapsed": true
   },
   "outputs": [],
   "source": []
  },
  {
   "cell_type": "code",
   "execution_count": null,
   "metadata": {
    "collapsed": true
   },
   "outputs": [],
   "source": []
  },
  {
   "cell_type": "code",
   "execution_count": null,
   "metadata": {
    "collapsed": true
   },
   "outputs": [],
   "source": []
  }
 ],
 "metadata": {
  "kernelspec": {
   "display_name": "Python 3",
   "language": "python",
   "name": "python3"
  },
  "language_info": {
   "codemirror_mode": {
    "name": "ipython",
    "version": 3
   },
   "file_extension": ".py",
   "mimetype": "text/x-python",
   "name": "python",
   "nbconvert_exporter": "python",
   "pygments_lexer": "ipython3",
   "version": "3.6.5"
  }
 },
 "nbformat": 4,
 "nbformat_minor": 2
}
