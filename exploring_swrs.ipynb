{
 "cells": [
  {
   "cell_type": "code",
   "execution_count": null,
   "metadata": {
    "ExecuteTime": {
     "end_time": "2018-06-11T15:59:15.873835Z",
     "start_time": "2018-06-11T15:59:12.743623Z"
    }
   },
   "outputs": [],
   "source": [
    "%matplotlib inline\n",
    "import matplotlib.pyplot as plt\n",
    "import numpy as np\n",
    "import os\n",
    "import nept\n",
    "import seaborn as sns\n",
    "\n",
    "import scalebar\n",
    "\n",
    "from loading_data import get_data\n",
    "from plot_sequence_raster import plot_sequence\n",
    "from run import spike_sorted_infos\n",
    "from analyze_tuning_curves import get_tuning_curves\n",
    "from utils_maze import get_trials"
   ]
  },
  {
   "cell_type": "code",
   "execution_count": null,
   "metadata": {
    "ExecuteTime": {
     "end_time": "2018-06-11T15:59:16.025748Z",
     "start_time": "2018-06-11T15:59:15.876834Z"
    }
   },
   "outputs": [],
   "source": [
    "from matplotlib import animation\n",
    "from IPython.display import HTML"
   ]
  },
  {
   "cell_type": "code",
   "execution_count": null,
   "metadata": {
    "ExecuteTime": {
     "end_time": "2018-06-11T15:59:16.032746Z",
     "start_time": "2018-06-11T15:59:16.027748Z"
    }
   },
   "outputs": [],
   "source": [
    "thisdir = os.getcwd()\n",
    "pickle_filepath = os.path.join(thisdir, \"cache\", \"pickled\")\n",
    "output_filepath = os.path.join(thisdir, \"plots\", \"exploring_swrs\")"
   ]
  },
  {
   "cell_type": "code",
   "execution_count": null,
   "metadata": {
    "ExecuteTime": {
     "end_time": "2018-06-11T15:59:16.048735Z",
     "start_time": "2018-06-11T15:59:16.043739Z"
    }
   },
   "outputs": [],
   "source": [
    "import info.r068d5 as r068d5\n",
    "import info.r068d6 as r068d6\n",
    "# infos = [r068d6]\n",
    "info = r068d6"
   ]
  },
  {
   "cell_type": "code",
   "execution_count": null,
   "metadata": {
    "ExecuteTime": {
     "end_time": "2018-06-11T15:59:17.082144Z",
     "start_time": "2018-06-11T15:59:17.079147Z"
    }
   },
   "outputs": [],
   "source": [
    "# infos = spike_sorted_infos"
   ]
  },
  {
   "cell_type": "code",
   "execution_count": null,
   "metadata": {
    "ExecuteTime": {
     "end_time": "2018-06-11T15:59:17.432944Z",
     "start_time": "2018-06-11T15:59:17.429946Z"
    }
   },
   "outputs": [],
   "source": [
    "resting_only = True"
   ]
  },
  {
   "cell_type": "code",
   "execution_count": null,
   "metadata": {
    "ExecuteTime": {
     "end_time": "2018-06-11T15:59:23.152358Z",
     "start_time": "2018-06-11T15:59:18.541311Z"
    }
   },
   "outputs": [],
   "source": [
    "print(info.session_id)\n",
    "events, position, spikes, lfp, _ = get_data(info)\n",
    "\n",
    "# Remove interneurons\n",
    "max_mean_firing = 5\n",
    "interneurons = np.zeros(len(spikes), dtype=bool)\n",
    "for i, spike in enumerate(spikes):\n",
    "    if len(spike.time) / info.session_length >= max_mean_firing:\n",
    "        interneurons[i] = True\n",
    "spikes = spikes[~interneurons]\n",
    "\n",
    "# task_times = [\"prerecord\", \"phase1\", \"pauseA\", \"phase2\", \"pauseB\", \"phase3\", \"postrecord\"]\n",
    "task_times = [\"prerecord\"]\n",
    "\n",
    "n_swrs = np.zeros(len(task_times))\n",
    "phase_duration = np.zeros(len(task_times))"
   ]
  },
  {
   "cell_type": "code",
   "execution_count": null,
   "metadata": {
    "ExecuteTime": {
     "end_time": "2018-06-11T15:59:26.904215Z",
     "start_time": "2018-06-11T15:59:23.153358Z"
    }
   },
   "outputs": [],
   "source": [
    "plot_example_swr_rasters = False\n",
    "plot_swr_spike_counts = False\n",
    "\n",
    "for i, task_time in enumerate(task_times):\n",
    "    condition = \"\"\n",
    "\n",
    "    z_thresh = 2.0\n",
    "    power_thresh = 3.0\n",
    "    merge_thresh = 0.02\n",
    "    min_length = 0.05\n",
    "    swrs = nept.detect_swr_hilbert(lfp, fs=info.fs, thresh=(140.0, 250.0), z_thresh=z_thresh,\n",
    "                                   power_thresh=power_thresh, merge_thresh=merge_thresh, min_length=min_length)\n",
    "    print(swrs.n_epochs)\n",
    "    total = swrs\n",
    "\n",
    "    # Restrict SWRs to those during epochs of interest\n",
    "    epochs_of_interest = info.task_times[task_time]\n",
    "    print(epochs_of_interest.n_epochs)\n",
    "\n",
    "    if resting_only:\n",
    "        position_of_interest = position.time_slice(epochs_of_interest.start, epochs_of_interest.stop)\n",
    "        epochs_of_interest = nept.rest_threshold(position_of_interest, thresh=4.)\n",
    "        print(\"nnn\", epochs_of_interest.n_epochs)\n",
    "        rest = epochs_of_interest\n",
    "        condition = condition + \"_rest\"\n",
    "    else:\n",
    "        position_of_interest = position\n",
    "\n",
    "    phase_duration[i] = epochs_of_interest.durations[0] / 60.\n",
    "\n",
    "    swrs = swrs.intersect(epochs_of_interest)\n",
    "    print(\"here\", swrs.n_epochs)\n",
    "\n",
    "    # Restrict SWRs to those with 4 or more participating neurons\n",
    "    sliced_spikes = [spiketrain.time_slice(epochs_of_interest.starts, epochs_of_interest.stops) for spiketrain in\n",
    "                     spikes]\n",
    "    swrs = nept.find_multi_in_epochs(sliced_spikes, swrs, min_involved=4)\n",
    "    print(swrs.n_epochs)\n",
    "\n",
    "#     if plot_swr_spike_counts:\n",
    "#         filename = info.session_id + \"_\" + str(i) + task_time + \"_swr-spike-count\"\n",
    "#         savepath = os.path.join(output_filepath, \"summary\", filename)\n",
    "#         plot_spike_counts(swrs, spikes, task_time, savepath=savepath)\n",
    "\n",
    "#     n_swrs[i] = swrs.n_epochs\n",
    "\n",
    "#     if plot_example_swr_rasters:\n",
    "#         filename = info.session_id + \"_\" + str(i) + task_time + \"_swr-raster\"\n",
    "#         savepath = os.path.join(output_filepath, filename)\n",
    "#         plot_swr(swrs, lfp, position, sliced_spikes, savepath=savepath)"
   ]
  },
  {
   "cell_type": "code",
   "execution_count": null,
   "metadata": {
    "ExecuteTime": {
     "end_time": "2018-06-11T15:59:26.912210Z",
     "start_time": "2018-06-11T15:59:26.906213Z"
    }
   },
   "outputs": [],
   "source": [
    "n_swrs"
   ]
  },
  {
   "cell_type": "code",
   "execution_count": null,
   "metadata": {
    "ExecuteTime": {
     "end_time": "2018-06-11T15:59:27.077116Z",
     "start_time": "2018-06-11T15:59:26.914209Z"
    }
   },
   "outputs": [],
   "source": [
    "position_epoch = position.time_slice(epochs_of_interest.starts, epochs_of_interest.stops)\n",
    "plt.plot(position_epoch.time, position_epoch.y, \"k.\", ms=3)\n",
    "# plt.plot(position_epoch.x, position_epoch.y, \"k.\", ms=3)"
   ]
  },
  {
   "cell_type": "code",
   "execution_count": null,
   "metadata": {
    "ExecuteTime": {
     "end_time": "2018-06-11T15:59:27.177058Z",
     "start_time": "2018-06-11T15:59:27.078115Z"
    }
   },
   "outputs": [],
   "source": [
    "plt.plot(rest.starts, np.zeros(len(rest.starts)), \".\", color=\"g\")\n",
    "plt.plot(rest.stops, np.zeros(len(rest.stops))+0.005, \".\", color=\"b\")\n",
    "plt.plot(total.starts, np.zeros(len(total.starts))+0.01, \".\", color=\"c\")\n",
    "plt.plot(total.stops, np.zeros(len(total.stops))+0.015, \".\", color=\"m\")\n",
    "plt.xlim(rest.start, rest.stop)\n",
    "plt.show()"
   ]
  },
  {
   "cell_type": "code",
   "execution_count": null,
   "metadata": {},
   "outputs": [],
   "source": []
  },
  {
   "cell_type": "code",
   "execution_count": null,
   "metadata": {},
   "outputs": [],
   "source": []
  },
  {
   "cell_type": "code",
   "execution_count": null,
   "metadata": {},
   "outputs": [],
   "source": []
  },
  {
   "cell_type": "code",
   "execution_count": null,
   "metadata": {
    "ExecuteTime": {
     "end_time": "2018-06-05T14:14:58.198995Z",
     "start_time": "2018-06-05T14:14:57.741143Z"
    }
   },
   "outputs": [],
   "source": [
    "spike_counts = []\n",
    "\n",
    "for i in range(swrs.n_epochs):\n",
    "    start = swrs.starts[i]\n",
    "    stop = swrs.stops[i]\n",
    "    n_spikes_swr = np.sum([len(spiketrain.time_slice(start, stop).time) for spiketrain in spikes])\n",
    "\n",
    "    len_swr = stop - start\n",
    "\n",
    "    start_pre = swrs.starts[i] - len_swr\n",
    "    stop_pre = swrs.starts[i]\n",
    "    n_spikes_swr_pre = np.sum([len(spiketrain.time_slice(start_pre, stop_pre).time) for spiketrain in spikes])\n",
    "\n",
    "    start_post = swrs.stops[i]\n",
    "    stop_post = swrs.stops[i] + len_swr\n",
    "    n_spikes_swr_post = np.sum([len(spiketrain.time_slice(start_post, stop_post).time) for spiketrain in spikes])\n",
    "\n",
    "    spike_counts.append([n_spikes_swr_pre, n_spikes_swr, n_spikes_swr_post])\n",
    "\n",
    "fig, ax = plt.subplots()\n",
    "cmap = plt.cm.get_cmap('Greys')\n",
    "\n",
    "pp = ax.pcolormesh(spike_counts, vmax=100., cmap=cmap)\n",
    "\n",
    "ax.set_xticklabels('')\n",
    "ax.set_xticks(np.arange(3)+.5)\n",
    "ax.set_xticklabels(['pre','SWR','post'])\n",
    "\n",
    "title = info.session_id + ' SWR spike count ' + task_time\n",
    "plt.title(title)\n",
    "\n",
    "fig.colorbar(pp)\n",
    "plt.show()"
   ]
  },
  {
   "cell_type": "code",
   "execution_count": null,
   "metadata": {
    "ExecuteTime": {
     "end_time": "2018-06-05T14:14:58.216985Z",
     "start_time": "2018-06-05T14:14:58.200994Z"
    }
   },
   "outputs": [],
   "source": [
    "def plotthis(idx):\n",
    "    print(spike_counts[idx])\n",
    "    starts = swrs.starts[idx]\n",
    "    stops = swrs.stops[idx]\n",
    "    \n",
    "    print(starts, stops)\n",
    "\n",
    "    buffer=0.1\n",
    "\n",
    "    start_time = starts - buffer\n",
    "    stop_time = stops + buffer\n",
    "\n",
    "    rows = len(spikes)\n",
    "    add_rows = int(rows / 8)\n",
    "\n",
    "    ms = 800 / rows\n",
    "    mew = 0.7\n",
    "    spike_loc = 1\n",
    "\n",
    "    fig = plt.figure(figsize=(8, 8))\n",
    "    ax1 = plt.subplot2grid((rows + add_rows, 2), (0, 0), rowspan=rows)\n",
    "\n",
    "    # Plotting the spike raster\n",
    "    for idx, neuron_spikes in enumerate(spikes):\n",
    "        ax1.plot(neuron_spikes.time, np.ones(len(neuron_spikes.time)) + (idx * spike_loc), '|',\n",
    "                 color='k', ms=ms, mew=mew)\n",
    "\n",
    "    ax1.set_xticks([])\n",
    "    ax1.set_xlim([start_time, stop_time])\n",
    "    ax1.set_ylim([0.5, len(spikes) * spike_loc + 0.5])\n",
    "\n",
    "    # Plotting the LFP\n",
    "    ax2 = plt.subplot2grid((rows + add_rows, 2), (rows, 0), rowspan=add_rows, sharex=ax1)\n",
    "\n",
    "    start_idx = nept.find_nearest_idx(lfp.time, start_time)\n",
    "    stop_idx = nept.find_nearest_idx(lfp.time, stop_time)\n",
    "    ax2.plot(lfp.time[start_idx:stop_idx], lfp.data[start_idx:stop_idx], '#3288bd', lw=0.3)\n",
    "\n",
    "    start_idx = nept.find_nearest_idx(lfp.time, start)\n",
    "    stop_idx = nept.find_nearest_idx(lfp.time, stop)\n",
    "    print(start_time, stop_time)\n",
    "    print(lfp.time[start_idx:stop_idx][0], lfp.time[start_idx:stop_idx][-1])\n",
    "    ax2.plot(lfp.time[start_idx:stop_idx], lfp.data[start_idx:stop_idx], 'r', lw=0.4)\n",
    "\n",
    "    ax2.set_xticks([])\n",
    "    ax2.set_xlim([start_time, stop_time])\n",
    "    ax2.set_yticks([])\n",
    "\n",
    "    scalebar.add_scalebar(ax2, matchy=False, bbox_transform=fig.transFigure,\n",
    "                          bbox_to_anchor=(0.5, 0.05), units='ms')\n",
    "\n",
    "    # Plotting the position\n",
    "    ax3 = plt.subplot2grid((rows + add_rows, 2), (0, 1), rowspan=int(0.5 * rows))\n",
    "    ax3.plot(position.x, position.y, '.', color=\"#bdbdbd\", ms=2)\n",
    "\n",
    "    start_idx = nept.find_nearest_idx(position.time, start_time)\n",
    "    stop_idx = nept.find_nearest_idx(position.time, stop_time)\n",
    "\n",
    "    cmap = plt.get_cmap('Oranges')\n",
    "    colours = cmap(np.linspace(0.25, 0.75, stop_idx - start_idx))\n",
    "\n",
    "    for j, (x, y) in enumerate(zip(position.x[start_idx:stop_idx], position.y[start_idx:stop_idx])):\n",
    "        ax3.plot(x, y, \".\", color=colours[j])\n",
    "\n",
    "    ax3.set_xlim(np.min(position.x), np.max(position.x))\n",
    "    ax3.set_ylim(np.min(position.y), np.max(position.y))\n",
    "    ax3.axis('off')\n",
    "\n",
    "    # Cleaning up the plot\n",
    "    sns.despine(bottom=True)\n",
    "    plt.tight_layout(h_pad=0.003)\n",
    "\n",
    "    plt.show()"
   ]
  },
  {
   "cell_type": "code",
   "execution_count": null,
   "metadata": {
    "ExecuteTime": {
     "end_time": "2018-06-05T14:14:58.229977Z",
     "start_time": "2018-06-05T14:14:58.218983Z"
    }
   },
   "outputs": [],
   "source": [
    "spike_counts"
   ]
  },
  {
   "cell_type": "code",
   "execution_count": null,
   "metadata": {
    "ExecuteTime": {
     "end_time": "2018-06-05T14:14:58.239971Z",
     "start_time": "2018-06-05T14:14:58.230977Z"
    }
   },
   "outputs": [],
   "source": [
    "ratio = [(swr[0]+swr[2])/swr[1] for swr in spike_counts]\n",
    "print(np.where(np.array(ratio) <0.2)[0])"
   ]
  },
  {
   "cell_type": "code",
   "execution_count": null,
   "metadata": {
    "ExecuteTime": {
     "end_time": "2018-06-05T14:14:59.377346Z",
     "start_time": "2018-06-05T14:14:58.240970Z"
    }
   },
   "outputs": [],
   "source": [
    "idx = 20\n",
    "plotthis(idx)"
   ]
  },
  {
   "cell_type": "code",
   "execution_count": null,
   "metadata": {},
   "outputs": [],
   "source": []
  },
  {
   "cell_type": "code",
   "execution_count": null,
   "metadata": {},
   "outputs": [],
   "source": []
  }
 ],
 "metadata": {
  "kernelspec": {
   "display_name": "Python 3",
   "language": "python",
   "name": "python3"
  },
  "language_info": {
   "codemirror_mode": {
    "name": "ipython",
    "version": 3
   },
   "file_extension": ".py",
   "mimetype": "text/x-python",
   "name": "python",
   "nbconvert_exporter": "python",
   "pygments_lexer": "ipython3",
   "version": "3.6.5"
  },
  "toc": {
   "colors": {
    "hover_highlight": "#DAA520",
    "running_highlight": "#FF0000",
    "selected_highlight": "#FFD700"
   },
   "moveMenuLeft": true,
   "nav_menu": {
    "height": "12px",
    "width": "252px"
   },
   "navigate_menu": true,
   "number_sections": true,
   "sideBar": true,
   "threshold": 4,
   "toc_cell": false,
   "toc_section_display": "block",
   "toc_window_display": false
  }
 },
 "nbformat": 4,
 "nbformat_minor": 2
}
