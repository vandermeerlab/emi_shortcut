{
 "cells": [
  {
   "cell_type": "code",
   "execution_count": null,
   "metadata": {
    "ExecuteTime": {
     "end_time": "2018-06-01T17:22:40.860501Z",
     "start_time": "2018-06-01T17:22:39.654143Z"
    },
    "collapsed": true
   },
   "outputs": [],
   "source": [
    "%matplotlib inline\n",
    "import matplotlib.pyplot as plt\n",
    "import numpy as np\n",
    "import os\n",
    "import nept\n",
    "import seaborn as sns\n",
    "\n",
    "import scalebar\n",
    "\n",
    "from loading_data import get_data\n",
    "from plot_sequence_raster import plot_sequence\n",
    "from run import spike_sorted_infos\n",
    "from analyze_tuning_curves import get_tuning_curves\n",
    "from utils_maze import speed_threshold\n",
    "from analyze_decode_bytrial import get_trials"
   ]
  },
  {
   "cell_type": "code",
   "execution_count": null,
   "metadata": {
    "ExecuteTime": {
     "end_time": "2018-06-01T17:22:40.978585Z",
     "start_time": "2018-06-01T17:22:40.862502Z"
    },
    "collapsed": true
   },
   "outputs": [],
   "source": [
    "from matplotlib import animation\n",
    "from IPython.display import HTML"
   ]
  },
  {
   "cell_type": "code",
   "execution_count": null,
   "metadata": {
    "ExecuteTime": {
     "end_time": "2018-06-01T17:22:40.984090Z",
     "start_time": "2018-06-01T17:22:40.980086Z"
    },
    "collapsed": true
   },
   "outputs": [],
   "source": [
    "thisdir = os.getcwd()\n",
    "pickle_filepath = os.path.join(thisdir, \"cache\", \"pickled\")\n",
    "output_filepath = os.path.join(thisdir, \"plots\", \"exploring_swrs\")"
   ]
  },
  {
   "cell_type": "code",
   "execution_count": null,
   "metadata": {
    "ExecuteTime": {
     "end_time": "2018-06-01T17:22:40.996097Z",
     "start_time": "2018-06-01T17:22:40.986091Z"
    },
    "collapsed": true
   },
   "outputs": [],
   "source": [
    "import info.r068d5 as r068d5\n",
    "infos = [r068d5]"
   ]
  },
  {
   "cell_type": "code",
   "execution_count": null,
   "metadata": {
    "ExecuteTime": {
     "end_time": "2018-06-01T17:22:41.009608Z",
     "start_time": "2018-06-01T17:22:40.998099Z"
    },
    "collapsed": true
   },
   "outputs": [],
   "source": [
    "# infos = spike_sorted_infos"
   ]
  },
  {
   "cell_type": "code",
   "execution_count": null,
   "metadata": {},
   "outputs": [],
   "source": [
    "from exploring_swrs import plot_swr_stats, plot_swr"
   ]
  },
  {
   "cell_type": "code",
   "execution_count": null,
   "metadata": {},
   "outputs": [],
   "source": [
    "print(info.session_id)\n",
    "events, position, spikes, lfp, _ = get_data(info)\n",
    "\n",
    "if remove_interneurons:\n",
    "    max_mean_firing = 5\n",
    "    interneurons = np.zeros(len(spikes), dtype=bool)\n",
    "    for i, spike in enumerate(spikes):\n",
    "        if len(spike.time) / info.session_length >= max_mean_firing:\n",
    "            interneurons[i] = True\n",
    "    spikes = spikes[~interneurons]\n",
    "\n",
    "task_times = [\"prerecord\", \"phase1\", \"pauseA\", \"phase2\", \"pauseB\", \"phase3\", \"postrecord\"]\n",
    "\n",
    "n_swrs = np.zeros(len(task_times))\n",
    "phase_duration = np.zeros(len(task_times))"
   ]
  },
  {
   "cell_type": "code",
   "execution_count": null,
   "metadata": {
    "collapsed": true
   },
   "outputs": [],
   "source": [
    "task_time = \"pauseA\"\n",
    "\n",
    "epochs_of_interest = info.task_times[task_time]\n",
    "\n",
    "phase_duration[i] = epochs_of_interest.durations[0] / 60.\n",
    "\n"
   ]
  },
  {
   "cell_type": "code",
   "execution_count": null,
   "metadata": {
    "collapsed": true
   },
   "outputs": [],
   "source": [
    "sliced_position = position.time_slice(epochs_of_interest.start, epochs_of_interest.stop)\n",
    "epochs_of_interest = speed_threshold(sliced_position, speed_limit=4., rest=True)\n",
    "condition = condition + \"_rest\"\n"
   ]
  },
  {
   "cell_type": "code",
   "execution_count": null,
   "metadata": {
    "collapsed": true
   },
   "outputs": [],
   "source": [
    "sliced_lfp = lfp.time_slice(epochs_of_interest.starts, epochs_of_interest.stops)\n",
    "sliced_spikes = [spiketrain.time_slice(epochs_of_interest.starts, epochs_of_interest.stops) for spiketrain in\n",
    "                 spikes]\n",
    "sliced_position = position.time_slice(epochs_of_interest.starts, epochs_of_interest.stops)"
   ]
  },
  {
   "cell_type": "code",
   "execution_count": null,
   "metadata": {},
   "outputs": [],
   "source": [
    "plt.plot(sliced_position.x, sliced_position.y, \"g.\")\n",
    "plt.show()"
   ]
  },
  {
   "cell_type": "code",
   "execution_count": null,
   "metadata": {
    "collapsed": true
   },
   "outputs": [],
   "source": [
    "z_thresh = 2.0\n",
    "power_thresh = 3.0\n",
    "merge_thresh = 0.02\n",
    "min_length = 0.05\n",
    "swrs = nept.detect_swr_hilbert(sliced_lfp, fs=info.fs, thresh=(140.0, 250.0), z_thresh=z_thresh,\n",
    "                               power_thresh=power_thresh, merge_thresh=merge_thresh, min_length=min_length)\n",
    "\n",
    "multi_swrs = nept.find_multi_in_epochs(sliced_spikes, swrs, min_involved=4)\n",
    "\n",
    "n_swrs[i] = multi_swrs.n_epochs"
   ]
  },
  {
   "cell_type": "code",
   "execution_count": null,
   "metadata": {},
   "outputs": [],
   "source": [
    "print(n_swrs)"
   ]
  },
  {
   "cell_type": "code",
   "execution_count": null,
   "metadata": {},
   "outputs": [],
   "source": [
    "multi_swrs"
   ]
  },
  {
   "cell_type": "code",
   "execution_count": null,
   "metadata": {},
   "outputs": [],
   "source": [
    "\n",
    "def plot_spike_counts(swrs, savepath=None):\n",
    "    spike_counts = []\n",
    "\n",
    "    for i in range(swrs.n_epochs):\n",
    "        start = swrs.starts[i]\n",
    "        stop = swrs.stops[i]\n",
    "        n_spikes_swr = np.sum([len(spiketrain.time_slice(start, stop).time) for spiketrain in spikes])\n",
    "\n",
    "        len_swr = stop - start\n",
    "\n",
    "        start_pre = swrs.starts[i] - len_swr\n",
    "        stop_pre = swrs.starts[i]\n",
    "        n_spikes_swr_pre = np.sum([len(spiketrain.time_slice(start_pre, stop_pre).time) for spiketrain in spikes])\n",
    "\n",
    "        start_post = swrs.stops[i]\n",
    "        stop_post = swrs.stops[i] + len_swr\n",
    "        n_spikes_swr_post = np.sum([len(spiketrain.time_slice(start_post, stop_post).time) for spiketrain in spikes])\n",
    "\n",
    "        spike_counts.append([n_spikes_swr_pre, n_spikes_swr, n_spikes_swr_post])\n",
    "\n",
    "    fig, ax = plt.subplots()\n",
    "    cmap = plt.cm.get_cmap('Greys')\n",
    "\n",
    "    pp = ax.pcolormesh(spike_counts, vmax=100., cmap=cmap)\n",
    "\n",
    "    ax.set_xticklabels('')\n",
    "    ax.set_xticks(np.arange(3)+.5)\n",
    "    ax.set_xticklabels(['pre','SWR','post'])\n",
    "\n",
    "    title = info.session_id + ' SWR spike count ' + task_time\n",
    "    plt.title(title)\n",
    "    print(title)\n",
    "\n",
    "    fig.colorbar(pp)\n",
    "\n",
    "    if savepath is not None:\n",
    "        plt.savefig(savepath)\n",
    "    else:\n",
    "        plt.show()"
   ]
  },
  {
   "cell_type": "code",
   "execution_count": null,
   "metadata": {},
   "outputs": [],
   "source": [
    "savepath = os.path.join(output_filepath, \"summary\", info.session_id + \"_\" + task_time + \"_swr-spike-count\")\n",
    "plot_spike_counts(multi_swrs)"
   ]
  },
  {
   "cell_type": "code",
   "execution_count": null,
   "metadata": {},
   "outputs": [],
   "source": [
    "np.arange(len(data))+1.astype(str)"
   ]
  },
  {
   "cell_type": "code",
   "execution_count": null,
   "metadata": {
    "collapsed": true
   },
   "outputs": [],
   "source": []
  },
  {
   "cell_type": "code",
   "execution_count": null,
   "metadata": {
    "ExecuteTime": {
     "end_time": "2018-06-01T17:24:00.022947Z",
     "start_time": "2018-06-01T17:22:41.051637Z"
    },
    "collapsed": true
   },
   "outputs": [],
   "source": [
    "for info in infos:\n",
    "    events, position, spikes, lfp, _ = get_data(info)\n",
    "    \n",
    "    trial_epochs = get_trials(events, info.task_times[\"phase3\"])\n",
    "    \n",
    "    trial_idx = 10   \n",
    "    trial_start = trial_epochs.starts[trial_idx]\n",
    "    trial_stop = trial_epochs.stops[trial_idx]\n",
    "    trial_times = nept.Epoch([trial_start, trial_stop])\n",
    "    \n",
    "    phase = info.task_times[\"phase3\"]\n",
    "    sliced_position = position.time_slice(trial_times.start, trial_times.stop)\n",
    "    resting_epochs = speed_threshold(sliced_position, speed_limit=4., rest=True)\n",
    "    rest_position = sliced_position[resting_epochs]\n",
    "\n",
    "    sliced_lfp = lfp.time_slice(resting_epochs.starts, resting_epochs.stops)\n",
    "    sliced_spikes = [spiketrain.time_slice(resting_epochs.starts, resting_epochs.stops) for spiketrain in spikes]"
   ]
  },
  {
   "cell_type": "code",
   "execution_count": null,
   "metadata": {
    "collapsed": true
   },
   "outputs": [],
   "source": []
  },
  {
   "cell_type": "code",
   "execution_count": null,
   "metadata": {
    "ExecuteTime": {
     "end_time": "2018-06-01T17:24:00.145035Z",
     "start_time": "2018-06-01T17:24:00.024949Z"
    }
   },
   "outputs": [],
   "source": [
    "plt.plot(sliced_position.time, sliced_position.y, \"k.\")\n",
    "plt.plot(rest_position.time, rest_position.y, \"b.\")\n",
    "plt.show()"
   ]
  },
  {
   "cell_type": "code",
   "execution_count": null,
   "metadata": {
    "ExecuteTime": {
     "end_time": "2018-06-01T17:24:00.293640Z",
     "start_time": "2018-06-01T17:24:00.147036Z"
    }
   },
   "outputs": [],
   "source": [
    "xedges, yedges = nept.get_xyedges(position)\n",
    "\n",
    "fig, ax = plt.subplots()\n",
    "\n",
    "xx, yy = np.meshgrid(xedges, yedges)\n",
    "\n",
    "pad_amount = 5\n",
    "ax.set_xlim((np.floor(np.min(rest_position.x))-pad_amount, np.ceil(np.max(rest_position.x))+pad_amount))\n",
    "ax.set_ylim((np.floor(np.min(rest_position.y))-pad_amount, np.ceil(np.max(rest_position.y))+pad_amount))\n",
    "\n",
    "plt.plot(sliced_position.x, sliced_position.y, '.', color=\"#bdbdbd\")\n",
    "rat_position, = ax.plot([], [], \"<\", color=\"b\")\n",
    "\n",
    "fig.tight_layout()\n",
    "\n",
    "\n",
    "def init():\n",
    "    rat_position.set_data([], [])\n",
    "    return rat_position\n",
    "\n",
    "\n",
    "def animate(i):\n",
    "    rat_position.set_data(rest_position.x[i], rest_position.y[i])\n",
    "    return rat_position\n",
    "\n",
    "anim = animation.FuncAnimation(fig, animate, frames=rest_position.n_samples, interval=80, \n",
    "                               blit=False, repeat=False)"
   ]
  },
  {
   "cell_type": "code",
   "execution_count": null,
   "metadata": {
    "ExecuteTime": {
     "end_time": "2018-06-01T17:24:07.364673Z",
     "start_time": "2018-06-01T17:24:00.295642Z"
    }
   },
   "outputs": [],
   "source": [
    "HTML(anim.to_html5_video())"
   ]
  },
  {
   "cell_type": "code",
   "execution_count": null,
   "metadata": {
    "collapsed": true
   },
   "outputs": [],
   "source": []
  },
  {
   "cell_type": "code",
   "execution_count": null,
   "metadata": {
    "ExecuteTime": {
     "end_time": "2018-06-01T17:25:28.096681Z",
     "start_time": "2018-06-01T17:24:07.366674Z"
    }
   },
   "outputs": [],
   "source": [
    "info = r068d5\n",
    "remove_interneurons = False\n",
    "resting_only = True\n",
    "\n",
    "print(info.session_id)\n",
    "events, position, spikes, lfp, _ = get_data(info)\n",
    "\n",
    "condition = \"\"\n",
    "\n",
    "if remove_interneurons:\n",
    "    max_mean_firing = 5\n",
    "    interneurons = np.zeros(len(spikes), dtype=bool)\n",
    "    for i, spike in enumerate(spikes):\n",
    "        if len(spike.time) / info.session_length >= max_mean_firing:\n",
    "            interneurons[i] = True\n",
    "    spikes = spikes[~interneurons]\n",
    "    condition = condition + \"_no-interneurons\"\n",
    "\n",
    "# task_times = [\"prerecord\", \"phase1\", \"pauseA\", \"phase2\", \"pauseB\", \"phase3\", \"postrecord\"]\n",
    "task_times = [\"pauseB\"]"
   ]
  },
  {
   "cell_type": "code",
   "execution_count": null,
   "metadata": {
    "ExecuteTime": {
     "end_time": "2018-06-01T17:25:32.047993Z",
     "start_time": "2018-06-01T17:25:28.099182Z"
    }
   },
   "outputs": [],
   "source": [
    "n_swrs = np.zeros(len(task_times))\n",
    "phase_duration = np.zeros(len(task_times))\n",
    "\n",
    "for i, task_time in enumerate(task_times):\n",
    "    if remove_interneurons:\n",
    "        condition = \"_no-interneurons\"\n",
    "    else:\n",
    "        condition = \"\"\n",
    "        \n",
    "    epochs_of_interest = info.task_times[task_time]\n",
    "\n",
    "    phase_duration[i] = epochs_of_interest.durations[0] / 60.\n",
    "\n",
    "    if resting_only:\n",
    "        sliced_position = position.time_slice(epochs_of_interest.start, epochs_of_interest.stop)\n",
    "        plt.plot(sliced_position.x, sliced_position.y, \"k.\")\n",
    "        plt.show()\n",
    "        epochs_of_interest = speed_threshold(sliced_position, speed_limit=4., rest=True)\n",
    "        condition = condition + \"_rest\"\n",
    "        print(condition)\n",
    "\n",
    "    sliced_lfp = lfp.time_slice(epochs_of_interest.starts, epochs_of_interest.stops)\n",
    "    sliced_spikes = [spiketrain.time_slice(epochs_of_interest.starts, epochs_of_interest.stops) for spiketrain in\n",
    "                     spikes]\n",
    "\n",
    "    z_thresh = 2.0\n",
    "    power_thresh = 3.0\n",
    "    merge_thresh = 0.02\n",
    "    min_length = 0.05\n",
    "    swrs = nept.detect_swr_hilbert(sliced_lfp, fs=info.fs, thresh=(140.0, 250.0), z_thresh=z_thresh,\n",
    "                                   power_thresh=power_thresh, merge_thresh=merge_thresh, min_length=min_length)\n",
    "\n",
    "    multi_swrs = nept.find_multi_in_epochs(sliced_spikes, swrs, min_involved=4)\n",
    "\n",
    "    n_swrs[i] = multi_swrs.n_epochs"
   ]
  },
  {
   "cell_type": "code",
   "execution_count": null,
   "metadata": {},
   "outputs": [],
   "source": [
    "plot_swr(multi_swrs, sliced_lfp, position, sliced_spikes)"
   ]
  },
  {
   "cell_type": "code",
   "execution_count": null,
   "metadata": {
    "ExecuteTime": {
     "end_time": "2018-06-01T17:25:32.055499Z",
     "start_time": "2018-06-01T17:25:32.049995Z"
    }
   },
   "outputs": [],
   "source": [
    "print(\"n_swrs:\", n_swrs)\n",
    "print(\"swr_rate:\", n_swrs / phase_duration)"
   ]
  },
  {
   "cell_type": "code",
   "execution_count": null,
   "metadata": {
    "collapsed": true
   },
   "outputs": [],
   "source": []
  },
  {
   "cell_type": "code",
   "execution_count": null,
   "metadata": {
    "collapsed": true
   },
   "outputs": [],
   "source": []
  },
  {
   "cell_type": "code",
   "execution_count": null,
   "metadata": {
    "collapsed": true
   },
   "outputs": [],
   "source": []
  },
  {
   "cell_type": "code",
   "execution_count": null,
   "metadata": {
    "collapsed": true
   },
   "outputs": [],
   "source": []
  },
  {
   "cell_type": "code",
   "execution_count": null,
   "metadata": {
    "collapsed": true
   },
   "outputs": [],
   "source": []
  }
 ],
 "metadata": {
  "kernelspec": {
   "display_name": "Python 3",
   "language": "python",
   "name": "python3"
  },
  "language_info": {
   "codemirror_mode": {
    "name": "ipython",
    "version": 3
   },
   "file_extension": ".py",
   "mimetype": "text/x-python",
   "name": "python",
   "nbconvert_exporter": "python",
   "pygments_lexer": "ipython3",
   "version": "3.6.5"
  },
  "toc": {
   "colors": {
    "hover_highlight": "#DAA520",
    "running_highlight": "#FF0000",
    "selected_highlight": "#FFD700"
   },
   "moveMenuLeft": true,
   "nav_menu": {
    "height": "12px",
    "width": "252px"
   },
   "navigate_menu": true,
   "number_sections": true,
   "sideBar": true,
   "threshold": 4,
   "toc_cell": false,
   "toc_section_display": "block",
   "toc_window_display": false
  }
 },
 "nbformat": 4,
 "nbformat_minor": 2
}
