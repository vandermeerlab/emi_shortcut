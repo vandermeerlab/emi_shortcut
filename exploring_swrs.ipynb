{
 "cells": [
  {
   "cell_type": "code",
   "execution_count": null,
   "metadata": {
    "ExecuteTime": {
     "end_time": "2018-06-20T16:35:29.830875Z",
     "start_time": "2018-06-20T16:35:26.938970Z"
    },
    "collapsed": true
   },
   "outputs": [],
   "source": [
    "%matplotlib inline\n",
    "import matplotlib.pyplot as plt\n",
    "import numpy as np\n",
    "import os\n",
    "import nept\n",
    "import seaborn as sns\n",
    "\n",
    "import scalebar\n",
    "\n",
    "from loading_data import get_data\n",
    "from plot_sequence_raster import plot_sequence\n",
    "from run import spike_sorted_infos\n",
    "from analyze_tuning_curves import get_tuning_curves\n",
    "from utils_maze import get_trials\n",
    "from exploring_swrs import plot_swr_stats"
   ]
  },
  {
   "cell_type": "code",
   "execution_count": null,
   "metadata": {
    "ExecuteTime": {
     "end_time": "2018-06-20T16:35:29.881846Z",
     "start_time": "2018-06-20T16:35:29.832856Z"
    },
    "collapsed": true
   },
   "outputs": [],
   "source": [
    "from exploring_swrs import plot_spike_counts, plot_swr, plot_swrs_stats"
   ]
  },
  {
   "cell_type": "code",
   "execution_count": null,
   "metadata": {
    "ExecuteTime": {
     "end_time": "2018-06-20T16:35:29.981771Z",
     "start_time": "2018-06-20T16:35:29.882827Z"
    },
    "collapsed": true
   },
   "outputs": [],
   "source": [
    "from matplotlib import animation\n",
    "from IPython.display import HTML"
   ]
  },
  {
   "cell_type": "code",
   "execution_count": null,
   "metadata": {
    "ExecuteTime": {
     "end_time": "2018-06-20T16:35:29.987768Z",
     "start_time": "2018-06-20T16:35:29.983769Z"
    },
    "collapsed": true
   },
   "outputs": [],
   "source": [
    "thisdir = os.getcwd()\n",
    "pickle_filepath = os.path.join(thisdir, \"cache\", \"pickled\")\n",
    "output_filepath = os.path.join(thisdir, \"plots\", \"exploring_swrs\")"
   ]
  },
  {
   "cell_type": "code",
   "execution_count": null,
   "metadata": {
    "ExecuteTime": {
     "end_time": "2018-06-20T16:35:29.997761Z",
     "start_time": "2018-06-20T16:35:29.989767Z"
    },
    "collapsed": true
   },
   "outputs": [],
   "source": [
    "import info.r063d5 as r063d5\n",
    "import info.r063d6 as r063d6\n",
    "infos = [r063d5, r063d6]"
   ]
  },
  {
   "cell_type": "code",
   "execution_count": null,
   "metadata": {},
   "outputs": [],
   "source": [
    "task_times = [\"prerecord\", \"phase1\", \"pauseA\", \"phase2\", \"pauseB\", \"phase3\", \"postrecord\"]\n",
    "all_swrs = np.zeros(len(task_times))\n",
    "all_durations = np.zeros(len(task_times))\n",
    "\n",
    "for info in infos:\n",
    "    n_swrs, durations = plot_swr_stats(info, resting_only=True, \n",
    "                                       plot_example_swr_rasters=False, \n",
    "                                       plot_swr_spike_counts=False)\n",
    "    all_swrs += n_swrs\n",
    "    all_durations += durations"
   ]
  },
  {
   "cell_type": "code",
   "execution_count": null,
   "metadata": {},
   "outputs": [],
   "source": [
    "n_swrs, durations"
   ]
  },
  {
   "cell_type": "code",
   "execution_count": null,
   "metadata": {
    "collapsed": true
   },
   "outputs": [],
   "source": [
    "all_swrs += n_swrs"
   ]
  },
  {
   "cell_type": "code",
   "execution_count": null,
   "metadata": {},
   "outputs": [],
   "source": [
    "all_swrs"
   ]
  },
  {
   "cell_type": "code",
   "execution_count": null,
   "metadata": {},
   "outputs": [],
   "source": [
    "plot_swrs_stats(all_swrs, all_durations, task_times, \"title\", \"ylabel\", savepath=None)"
   ]
  },
  {
   "cell_type": "code",
   "execution_count": null,
   "metadata": {
    "collapsed": true
   },
   "outputs": [],
   "source": []
  },
  {
   "cell_type": "code",
   "execution_count": null,
   "metadata": {
    "collapsed": true
   },
   "outputs": [],
   "source": []
  },
  {
   "cell_type": "code",
   "execution_count": null,
   "metadata": {
    "ExecuteTime": {
     "end_time": "2018-06-20T16:35:30.955486Z",
     "start_time": "2018-06-20T16:35:29.999761Z"
    }
   },
   "outputs": [],
   "source": [
    "events, position, spikes, lfp, _ = get_data(info)\n",
    "\n",
    "plt.plot(position.x, position.y, \"k.\", ms=3)\n",
    "plt.show()"
   ]
  },
  {
   "cell_type": "code",
   "execution_count": null,
   "metadata": {
    "collapsed": true
   },
   "outputs": [],
   "source": [
    "def find_multi_in_epochs(spikes, epochs, min_involved):\n",
    "    \"\"\"Finds epochs with minimum number of participating neurons.\n",
    "\n",
    "    Parameters\n",
    "    ----------\n",
    "    spikes: np.array\n",
    "        Of nept.SpikeTrain objects\n",
    "    epochs: nept.Epoch\n",
    "    min_involved: int\n",
    "\n",
    "    Returns\n",
    "    -------\n",
    "    multi_epochs: nept.Epoch\n",
    "\n",
    "    \"\"\"\n",
    "    multi_starts = []\n",
    "    multi_stops = []\n",
    "\n",
    "    for start, stop in zip(epochs.starts, epochs.stops):\n",
    "        sliced_spikes = [spiketrain.time_slice(start, stop) for spiketrain in spikes]\n",
    "        n_spikes = np.asarray([len(spiketrain.time) for spiketrain in sliced_spikes])\n",
    "\n",
    "        n_active = len(n_spikes[n_spikes >= 1])\n",
    "\n",
    "        if n_active >= min_involved:\n",
    "            multi_starts.append(start)\n",
    "            multi_stops.append(stop)\n",
    "        print(n_active, start, stop)\n",
    "\n",
    "    multi_epochs = nept.Epoch(np.hstack([np.array(multi_starts)[..., np.newaxis],\n",
    "                                         np.array(multi_stops)[..., np.newaxis]]))\n",
    "\n",
    "    return multi_epochs"
   ]
  },
  {
   "cell_type": "code",
   "execution_count": null,
   "metadata": {
    "ExecuteTime": {
     "end_time": "2018-06-20T17:27:17.932106Z",
     "start_time": "2018-06-20T17:27:11.131995Z"
    },
    "scrolled": true
   },
   "outputs": [],
   "source": [
    "# Remove interneurons\n",
    "max_mean_firing = 5\n",
    "interneurons = np.zeros(len(spikes), dtype=bool)\n",
    "for i, spike in enumerate(spikes):\n",
    "    if len(spike.time) / info.session_length >= max_mean_firing:\n",
    "        interneurons[i] = True\n",
    "spikes = spikes[~interneurons]\n",
    "\n",
    "z_thresh = 2.0\n",
    "power_thresh = 3.0\n",
    "merge_thresh = 0.02\n",
    "min_length = 0.05\n",
    "swrs = nept.detect_swr_hilbert(lfp, fs=info.fs, thresh=(140.0, 250.0), z_thresh=z_thresh,\n",
    "                               power_thresh=power_thresh, merge_thresh=merge_thresh, min_length=min_length)\n",
    "print(\"Total swrs for this session:\", str(swrs.n_epochs))\n",
    "\n",
    "# Restrict SWRs to those with 4 or more participating neurons\n",
    "swrs = find_multi_in_epochs(spikes, swrs, min_involved=5)\n",
    "print(\"N swrs for this session with at least 5 active neurons:\", str(swrs.n_epochs))\n",
    "\n",
    "# Find rest epochs for entire session\n",
    "rest_epochs = nept.rest_threshold(position, thresh=0.167, t_smooth=0.5)\n",
    "\n",
    "# task_times = [\"prerecord\", \"phase1\", \"pauseA\", \"phase2\", \"pauseB\", \"phase3\", \"postrecord\"]\n",
    "task_times = [\"prerecord\"]\n",
    "\n",
    "n_swrs = np.zeros(len(task_times))\n",
    "duration = np.zeros(len(task_times))"
   ]
  },
  {
   "cell_type": "code",
   "execution_count": null,
   "metadata": {
    "ExecuteTime": {
     "end_time": "2018-06-20T17:27:17.938103Z",
     "start_time": "2018-06-20T17:27:17.934105Z"
    },
    "collapsed": true
   },
   "outputs": [],
   "source": [
    "resting_only = True\n",
    "plot_swr_spike_counts = True\n",
    "plot_example_swr_rasters = True"
   ]
  },
  {
   "cell_type": "code",
   "execution_count": null,
   "metadata": {
    "ExecuteTime": {
     "end_time": "2018-06-20T17:27:41.317808Z",
     "start_time": "2018-06-20T17:27:17.940101Z"
    }
   },
   "outputs": [],
   "source": [
    "for i, task_time in enumerate(task_times):\n",
    "    condition = \"\"\n",
    "\n",
    "    # Restrict SWRs to those during epochs of interest\n",
    "    epochs_of_interest = info.task_times[task_time]\n",
    "\n",
    "    if resting_only:\n",
    "        epochs_of_interest = epochs_of_interest.intersect(rest_epochs)\n",
    "\n",
    "    if epochs_of_interest.n_epochs == 0:\n",
    "        print(\"No epochs of interest identified.\")\n",
    "        duration[i] = 0.\n",
    "    else:\n",
    "        duration[i] = np.sum(epochs_of_interest.durations) / 60.\n",
    "\n",
    "        phase_swrs = swrs.overlaps(epochs_of_interest)\n",
    "        phase_swrs = phase_swrs[phase_swrs.durations >= 0.05]\n",
    "        \n",
    "        n_swrs[i] = phase_swrs.n_epochs\n",
    "        \n",
    "        if phase_swrs.n_epochs > 0:\n",
    "            if plot_swr_spike_counts:\n",
    "                filename = info.session_id + \"_\" + str(i) + task_time + \"_swr-spike-count\"\n",
    "                savepath = os.path.join(output_filepath, \"summary\", filename)\n",
    "                plot_spike_counts(info, phase_swrs, spikes, task_time, savepath=savepath)\n",
    "\n",
    "\n",
    "            if plot_example_swr_rasters:\n",
    "                sliced_spikes = [spiketrain.time_slice(epochs_of_interest.starts, epochs_of_interest.stops)\n",
    "                                 for spiketrain in spikes]\n",
    "\n",
    "                filename = info.session_id + \"_\" + str(i) + task_time + \"_swr-raster\"\n",
    "                savepath = os.path.join(output_filepath, filename)\n",
    "                plot_swr(swrs, lfp, position, sliced_spikes, savepath=savepath)\n",
    "    print(\"N swrs for\", task_time, \":\", str(phase_swrs.n_epochs))"
   ]
  },
  {
   "cell_type": "code",
   "execution_count": null,
   "metadata": {},
   "outputs": [],
   "source": [
    "phase_swrs.starts"
   ]
  },
  {
   "cell_type": "code",
   "execution_count": null,
   "metadata": {
    "scrolled": false
   },
   "outputs": [],
   "source": [
    "start = 3436.879396  \n",
    "stop = 3436.941396\n",
    "s = [spiketrain.time_slice(start, stop) for spiketrain in spikes]\n",
    "n = [len(spiketrain.time) for spiketrain in s]\n",
    "\n",
    "rows = len(spikes)\n",
    "add_rows = int(rows / 8)\n",
    "\n",
    "ms = 800 / rows\n",
    "mew = 0.7\n",
    "spike_loc = 1\n",
    "\n",
    "fig = plt.figure(figsize=(8, 8))\n",
    "ax1 = plt.subplot2grid((rows + add_rows, 2), (0, 0), rowspan=rows)\n",
    "\n",
    "# Plotting the spike raster\n",
    "for idx, neuron_spikes in enumerate(spikes):\n",
    "    ax1.plot(neuron_spikes.time, np.ones(len(neuron_spikes.time)) + (idx * spike_loc), '|',\n",
    "             color='k', ms=ms, mew=mew)\n",
    "\n",
    "ax1.set_xticks([])\n",
    "ax1.set_xlim([start, stop])\n",
    "ax1.set_ylim([0.5, len(spikes) * spike_loc + 0.5])"
   ]
  },
  {
   "cell_type": "code",
   "execution_count": null,
   "metadata": {},
   "outputs": [],
   "source": [
    "i = 1\n",
    "buffer = 0.0\n",
    "start = phase_swrs.starts[i] - buffer\n",
    "stop = phase_swrs.stops[i] + buffer\n",
    "\n",
    "rows = len(spikes)\n",
    "add_rows = int(rows / 8)\n",
    "\n",
    "ms = 800 / rows\n",
    "mew = 0.7\n",
    "spike_loc = 1\n",
    "\n",
    "fig = plt.figure(figsize=(8, 8))\n",
    "ax1 = plt.subplot2grid((rows + add_rows, 2), (0, 0), rowspan=rows)\n",
    "\n",
    "# Plotting the spike raster\n",
    "for idx, neuron_spikes in enumerate(spikes):\n",
    "    ax1.plot(neuron_spikes.time, np.ones(len(neuron_spikes.time)) + (idx * spike_loc), '|',\n",
    "             color='k', ms=ms, mew=mew)\n",
    "\n",
    "ax1.set_xticks([])\n",
    "ax1.set_xlim([start, stop])\n",
    "ax1.set_ylim([0.5, len(spikes) * spike_loc + 0.5])"
   ]
  },
  {
   "cell_type": "code",
   "execution_count": null,
   "metadata": {
    "collapsed": true
   },
   "outputs": [],
   "source": [
    "epochs = nept.Epoch(np.array([[1.0, 4.0, 6.0], [2.0, 5.0, 7.0]]))\n",
    "\n",
    "spikes = [nept.SpikeTrain(np.array([6.7])),\n",
    "          nept.SpikeTrain(np.array([2.0, 6.5])),\n",
    "          nept.SpikeTrain(np.array([2.0, 4.1])),\n",
    "          nept.SpikeTrain(np.array([2.0, 4.3]))]\n",
    "\n",
    "min_involved = 3\n",
    "multi_epochs = nept.find_multi_in_epochs(spikes, epochs, min_involved)\n",
    "\n",
    "assert np.allclose(multi_epochs.starts, np.array([1.]))\n",
    "assert np.allclose(multi_epochs.stops, np.array([2.]))"
   ]
  },
  {
   "cell_type": "code",
   "execution_count": null,
   "metadata": {},
   "outputs": [],
   "source": [
    "multi_epochs.starts, multi_epochs.stops"
   ]
  },
  {
   "cell_type": "code",
   "execution_count": null,
   "metadata": {
    "collapsed": true
   },
   "outputs": [],
   "source": []
  },
  {
   "cell_type": "code",
   "execution_count": null,
   "metadata": {
    "ExecuteTime": {
     "end_time": "2018-06-20T16:51:21.113284Z",
     "start_time": "2018-06-20T16:51:21.105288Z"
    },
    "collapsed": true
   },
   "outputs": [],
   "source": [
    "def plot_swrs_stats(n_swrs, durations, task_times, title, ylabel, savepath=None):\n",
    "    fig, ax = plt.subplots()\n",
    "    ind = np.arange(len(task_times))\n",
    "\n",
    "    rate = n_swrs / durations\n",
    "\n",
    "    plt.bar(ind, rate)\n",
    "\n",
    "    labels = [\"n = {:.0f}\".format(i) for i in n_swrs]\n",
    "    patches = ax.patches\n",
    "    for patch, text in zip(patches, labels):\n",
    "        txt_height = patch.get_height() + (patch.get_height() / 50)\n",
    "        txt_location = patch.get_x() + (patch.get_width() / 2)\n",
    "        ax.text(txt_location, txt_height, text, ha='center', va='bottom', size=10)\n",
    "        \n",
    "    labels = [\"of {:.1f} m\".format(i) for i in durations]\n",
    "    patches = ax.patches\n",
    "    for patch, text in zip(patches, labels):\n",
    "        txt_height = patch.get_height() + (patch.get_height() / 50)\n",
    "        txt_location = patch.get_x() + (patch.get_width() / 2)\n",
    "        ax.text(txt_location, 0.1, text, ha='center', va='bottom', size=10)\n",
    "\n",
    "    ax.set_xticks(ind)\n",
    "    ax.set_xticklabels(task_times, rotation=75, fontsize=14)\n",
    "    \n",
    "    plt.ylabel(ylabel)\n",
    "    plt.title(title)\n",
    "    \n",
    "    ax.spines['right'].set_visible(False)\n",
    "    ax.spines['top'].set_visible(False)\n",
    "    ax.yaxis.set_ticks_position('left')\n",
    "    ax.xaxis.set_ticks_position('bottom')\n",
    "    plt.tight_layout()\n",
    "\n",
    "    if savepath is not None:\n",
    "        plt.savefig(savepath + \".png\")\n",
    "        plt.close(\"all\")\n",
    "    else:\n",
    "        plt.show()"
   ]
  },
  {
   "cell_type": "code",
   "execution_count": null,
   "metadata": {
    "ExecuteTime": {
     "end_time": "2018-06-20T16:51:21.334157Z",
     "start_time": "2018-06-20T16:51:21.329160Z"
    }
   },
   "outputs": [],
   "source": [
    "duration"
   ]
  },
  {
   "cell_type": "code",
   "execution_count": null,
   "metadata": {
    "ExecuteTime": {
     "end_time": "2018-06-20T17:06:36.318843Z",
     "start_time": "2018-06-20T17:06:36.170909Z"
    }
   },
   "outputs": [],
   "source": [
    "plot_swrs_stats(n_swrs, duration, task_times, \"title\", \"ylabel\")"
   ]
  },
  {
   "cell_type": "code",
   "execution_count": null,
   "metadata": {
    "ExecuteTime": {
     "end_time": "2018-06-20T17:06:16.732985Z",
     "start_time": "2018-06-20T17:06:16.728986Z"
    }
   },
   "outputs": [],
   "source": [
    "5/30."
   ]
  },
  {
   "cell_type": "code",
   "execution_count": null,
   "metadata": {},
   "outputs": [],
   "source": [
    "u.n_epochs"
   ]
  },
  {
   "cell_type": "code",
   "execution_count": null,
   "metadata": {
    "collapsed": true
   },
   "outputs": [],
   "source": [
    "pos = position[rest_epochs]"
   ]
  },
  {
   "cell_type": "code",
   "execution_count": null,
   "metadata": {
    "collapsed": true
   },
   "outputs": [],
   "source": [
    "plt.plot(pos.time, pos.y, \"k.\", ms=3)\n",
    "plt.show()"
   ]
  },
  {
   "cell_type": "code",
   "execution_count": null,
   "metadata": {
    "collapsed": true
   },
   "outputs": [],
   "source": [
    "plot_spike_counts(info, swrs, spikes, \"pauseA\")"
   ]
  },
  {
   "cell_type": "code",
   "execution_count": null,
   "metadata": {
    "collapsed": true
   },
   "outputs": [],
   "source": [
    "plot_swr(swrs, lfp, position, spikes, buffer=0.15, n_plots=5)"
   ]
  },
  {
   "cell_type": "code",
   "execution_count": null,
   "metadata": {
    "collapsed": true
   },
   "outputs": [],
   "source": [
    "trial_epochs = get_trials(events, info.task_times[\"phase3\"])\n",
    "start = trial_epochs[0].start\n",
    "stop = trial_epochs[0].stop\n",
    "\n",
    "full_trial = position.time_slice(start, stop)\n",
    "trial = pos.time_slice(start, stop)\n",
    "plt.plot(full_trial.time, full_trial.x, \"y.\")\n",
    "plt.plot(trial.time, trial.x, \"k.\")\n",
    "plt.show()\n",
    "plt.plot(full_trial.time, full_trial.y, \"y.\")\n",
    "plt.plot(trial.time, trial.y, \"k.\")\n",
    "plt.show()"
   ]
  },
  {
   "cell_type": "code",
   "execution_count": null,
   "metadata": {
    "collapsed": true
   },
   "outputs": [],
   "source": []
  }
 ],
 "metadata": {
  "kernelspec": {
   "display_name": "Python 3",
   "language": "python",
   "name": "python3"
  },
  "language_info": {
   "codemirror_mode": {
    "name": "ipython",
    "version": 3
   },
   "file_extension": ".py",
   "mimetype": "text/x-python",
   "name": "python",
   "nbconvert_exporter": "python",
   "pygments_lexer": "ipython3",
   "version": "3.6.5"
  },
  "toc": {
   "colors": {
    "hover_highlight": "#DAA520",
    "running_highlight": "#FF0000",
    "selected_highlight": "#FFD700"
   },
   "moveMenuLeft": true,
   "nav_menu": {
    "height": "12px",
    "width": "252px"
   },
   "navigate_menu": true,
   "number_sections": true,
   "sideBar": true,
   "threshold": 4,
   "toc_cell": false,
   "toc_section_display": "block",
   "toc_window_display": false
  }
 },
 "nbformat": 4,
 "nbformat_minor": 2
}
