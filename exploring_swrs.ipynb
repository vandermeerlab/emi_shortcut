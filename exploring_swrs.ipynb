{
 "cells": [
  {
   "cell_type": "code",
   "execution_count": null,
   "metadata": {
    "ExecuteTime": {
     "end_time": "2018-06-11T15:59:15.873835Z",
     "start_time": "2018-06-11T15:59:12.743623Z"
    },
    "collapsed": true
   },
   "outputs": [],
   "source": [
    "%matplotlib inline\n",
    "import matplotlib.pyplot as plt\n",
    "import numpy as np\n",
    "import os\n",
    "import nept\n",
    "import seaborn as sns\n",
    "\n",
    "import scalebar\n",
    "\n",
    "from loading_data import get_data\n",
    "from plot_sequence_raster import plot_sequence\n",
    "from run import spike_sorted_infos\n",
    "from analyze_tuning_curves import get_tuning_curves\n",
    "from utils_maze import get_trials"
   ]
  },
  {
   "cell_type": "code",
   "execution_count": null,
   "metadata": {},
   "outputs": [],
   "source": [
    "from exploring_swrs import plot_spike_counts, plot_swr"
   ]
  },
  {
   "cell_type": "code",
   "execution_count": null,
   "metadata": {
    "ExecuteTime": {
     "end_time": "2018-06-11T15:59:16.025748Z",
     "start_time": "2018-06-11T15:59:15.876834Z"
    },
    "collapsed": true
   },
   "outputs": [],
   "source": [
    "from matplotlib import animation\n",
    "from IPython.display import HTML"
   ]
  },
  {
   "cell_type": "code",
   "execution_count": null,
   "metadata": {
    "ExecuteTime": {
     "end_time": "2018-06-11T15:59:16.032746Z",
     "start_time": "2018-06-11T15:59:16.027748Z"
    },
    "collapsed": true
   },
   "outputs": [],
   "source": [
    "thisdir = os.getcwd()\n",
    "pickle_filepath = os.path.join(thisdir, \"cache\", \"pickled\")\n",
    "output_filepath = os.path.join(thisdir, \"plots\", \"exploring_swrs\")"
   ]
  },
  {
   "cell_type": "code",
   "execution_count": null,
   "metadata": {
    "ExecuteTime": {
     "end_time": "2018-06-11T15:59:16.048735Z",
     "start_time": "2018-06-11T15:59:16.043739Z"
    },
    "collapsed": true
   },
   "outputs": [],
   "source": [
    "import info.r063d5 as r063d5\n",
    "import info.r063d6 as r063d6\n",
    "info = r063d6"
   ]
  },
  {
   "cell_type": "code",
   "execution_count": null,
   "metadata": {},
   "outputs": [],
   "source": [
    "events, position, spikes, lfp, _ = get_data(info)\n",
    "\n",
    "plt.plot(position.x, position.y, \"k.\", ms=3)\n",
    "plt.show()"
   ]
  },
  {
   "cell_type": "code",
   "execution_count": null,
   "metadata": {},
   "outputs": [],
   "source": [
    "# Remove interneurons\n",
    "max_mean_firing = 5\n",
    "interneurons = np.zeros(len(spikes), dtype=bool)\n",
    "for i, spike in enumerate(spikes):\n",
    "    if len(spike.time) / info.session_length >= max_mean_firing:\n",
    "        interneurons[i] = True\n",
    "spikes = spikes[~interneurons]\n",
    "\n",
    "z_thresh = 2.0\n",
    "power_thresh = 3.0\n",
    "merge_thresh = 0.02\n",
    "min_length = 0.05\n",
    "swrs = nept.detect_swr_hilbert(lfp, fs=info.fs, thresh=(140.0, 250.0), z_thresh=z_thresh,\n",
    "                               power_thresh=power_thresh, merge_thresh=merge_thresh, min_length=min_length)\n",
    "print(\"Total swrs for this session:\", str(swrs.n_epochs))\n",
    "\n",
    "# Restrict SWRs to those with 4 or more participating neurons\n",
    "swrs = nept.find_multi_in_epochs(spikes, swrs, min_involved=4)\n",
    "print(\"N swrs for this session with at least 4 active neurons:\", str(swrs.n_epochs))\n",
    "\n",
    "# Find rest epochs for entire session\n",
    "rest_epochs = nept.rest_threshold(position, thresh=0.5)\n",
    "\n",
    "# task_times = [\"prerecord\", \"phase1\", \"pauseA\", \"phase2\", \"pauseB\", \"phase3\", \"postrecord\"]\n",
    "task_times = [\"phase3\"]\n",
    "\n",
    "n_swrs = np.zeros(len(task_times))\n",
    "duration = np.zeros(len(task_times))"
   ]
  },
  {
   "cell_type": "code",
   "execution_count": null,
   "metadata": {},
   "outputs": [],
   "source": [
    "resting_only = True\n",
    "plot_swr_spike_counts = True\n",
    "plot_example_swr_rasters = True"
   ]
  },
  {
   "cell_type": "code",
   "execution_count": null,
   "metadata": {},
   "outputs": [],
   "source": [
    "for i, task_time in enumerate(task_times):\n",
    "    condition = \"\"\n",
    "\n",
    "    # Restrict SWRs to those during epochs of interest\n",
    "    epochs_of_interest = info.task_times[task_time]\n",
    "\n",
    "    if resting_only:\n",
    "        condition += \"_rest\"\n",
    "        epochs_of_interest = epochs_of_interest.intersect(rest_epochs)\n",
    "\n",
    "    if epochs_of_interest.n_epochs == 0:\n",
    "        print(\"No epochs of interest identified.\")\n",
    "    else:\n",
    "        duration[i] = np.sum(epochs_of_interest.durations) / 60.\n",
    "\n",
    "        phase_swrs = swrs.overlaps(epochs_of_interest)\n",
    "        phase_swrs = phase_swrs[phase_swrs.durations >= 0.05]\n",
    "        \n",
    "        n_swrs[i] = phase_swrs.n_epochs\n",
    "        \n",
    "        if phase_swrs.n_epochs > 0:\n",
    "            if plot_swr_spike_counts:\n",
    "                filename = info.session_id + \"_\" + str(i) + task_time + \"_swr-spike-count\"\n",
    "                savepath = os.path.join(output_filepath, \"summary\", filename)\n",
    "                plot_spike_counts(info, phase_swrs, spikes, task_time, savepath=savepath)\n",
    "\n",
    "\n",
    "            if plot_example_swr_rasters:\n",
    "                sliced_spikes = [spiketrain.time_slice(epochs_of_interest.starts, epochs_of_interest.stops)\n",
    "                                 for spiketrain in spikes]\n",
    "\n",
    "                filename = info.session_id + \"_\" + str(i) + task_time + \"_swr-raster\"\n",
    "                savepath = os.path.join(output_filepath, filename)\n",
    "                plot_swr(swrs, lfp, position, sliced_spikes, savepath=savepath)\n",
    "    print(\"N swrs for\", task_time, \":\", str(phase_swrs.n_epochs))"
   ]
  },
  {
   "cell_type": "code",
   "execution_count": null,
   "metadata": {},
   "outputs": [],
   "source": [
    "phase_swrs.durations"
   ]
  },
  {
   "cell_type": "code",
   "execution_count": null,
   "metadata": {},
   "outputs": [],
   "source": [
    "rest_epochs.starts"
   ]
  },
  {
   "cell_type": "code",
   "execution_count": null,
   "metadata": {},
   "outputs": [],
   "source": [
    "u = epochs_of_interest.intersect(rest_epochs)"
   ]
  },
  {
   "cell_type": "code",
   "execution_count": null,
   "metadata": {},
   "outputs": [],
   "source": [
    "u.n_epochs"
   ]
  },
  {
   "cell_type": "code",
   "execution_count": null,
   "metadata": {},
   "outputs": [],
   "source": [
    "pos = position[rest_epochs]"
   ]
  },
  {
   "cell_type": "code",
   "execution_count": null,
   "metadata": {},
   "outputs": [],
   "source": [
    "plt.plot(pos.time, pos.y, \"k.\", ms=3)\n",
    "plt.show()"
   ]
  },
  {
   "cell_type": "code",
   "execution_count": null,
   "metadata": {},
   "outputs": [],
   "source": [
    "plot_spike_counts(info, swrs, spikes, \"pauseA\")"
   ]
  },
  {
   "cell_type": "code",
   "execution_count": null,
   "metadata": {
    "scrolled": false
   },
   "outputs": [],
   "source": [
    "plot_swr(swrs, lfp, position, spikes, buffer=0.15, n_plots=5)"
   ]
  },
  {
   "cell_type": "code",
   "execution_count": null,
   "metadata": {},
   "outputs": [],
   "source": [
    "trial_epochs = get_trials(events, info.task_times[\"phase3\"])\n",
    "start = trial_epochs[0].start\n",
    "stop = trial_epochs[0].stop\n",
    "\n",
    "full_trial = position.time_slice(start, stop)\n",
    "trial = pos.time_slice(start, stop)\n",
    "plt.plot(full_trial.time, full_trial.x, \"y.\")\n",
    "plt.plot(trial.time, trial.x, \"k.\")\n",
    "plt.show()\n",
    "plt.plot(full_trial.time, full_trial.y, \"y.\")\n",
    "plt.plot(trial.time, trial.y, \"k.\")\n",
    "plt.show()"
   ]
  },
  {
   "cell_type": "code",
   "execution_count": null,
   "metadata": {
    "collapsed": true
   },
   "outputs": [],
   "source": []
  }
 ],
 "metadata": {
  "kernelspec": {
   "display_name": "Python 3",
   "language": "python",
   "name": "python3"
  },
  "language_info": {
   "codemirror_mode": {
    "name": "ipython",
    "version": 3
   },
   "file_extension": ".py",
   "mimetype": "text/x-python",
   "name": "python",
   "nbconvert_exporter": "python",
   "pygments_lexer": "ipython3",
   "version": "3.6.5"
  },
  "toc": {
   "colors": {
    "hover_highlight": "#DAA520",
    "running_highlight": "#FF0000",
    "selected_highlight": "#FFD700"
   },
   "moveMenuLeft": true,
   "nav_menu": {
    "height": "12px",
    "width": "252px"
   },
   "navigate_menu": true,
   "number_sections": true,
   "sideBar": true,
   "threshold": 4,
   "toc_cell": false,
   "toc_section_display": "block",
   "toc_window_display": false
  }
 },
 "nbformat": 4,
 "nbformat_minor": 2
}
