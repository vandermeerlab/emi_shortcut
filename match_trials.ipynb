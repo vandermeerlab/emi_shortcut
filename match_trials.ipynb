{
 "cells": [
  {
   "cell_type": "code",
   "execution_count": null,
   "metadata": {
    "ExecuteTime": {
     "end_time": "2018-08-30T19:11:20.057925Z",
     "start_time": "2018-08-30T19:11:14.607553Z"
    }
   },
   "outputs": [],
   "source": [
    "%matplotlib inline\n",
    "import matplotlib.pyplot as plt\n",
    "import numpy as np\n",
    "import os\n",
    "import nept\n",
    "\n",
    "from loading_data import get_data\n",
    "from utils_maze import get_bin_centers, get_subset_zones, get_xy_idx"
   ]
  },
  {
   "cell_type": "code",
   "execution_count": null,
   "metadata": {
    "ExecuteTime": {
     "end_time": "2018-08-30T19:11:20.063067Z",
     "start_time": "2018-08-30T19:11:20.057925Z"
    }
   },
   "outputs": [],
   "source": [
    "thisdir = os.getcwd()\n",
    "pickle_filepath = os.path.join(thisdir, \"cache\", \"pickled\")\n",
    "output_filepath = os.path.join(thisdir, \"plots\", \"trials\")\n",
    "if not os.path.exists(output_filepath):\n",
    "    os.makedirs(output_filepath)"
   ]
  },
  {
   "cell_type": "code",
   "execution_count": null,
   "metadata": {
    "ExecuteTime": {
     "end_time": "2018-08-30T19:11:20.825757Z",
     "start_time": "2018-08-30T19:11:20.065082Z"
    }
   },
   "outputs": [],
   "source": [
    "import info.r063d2 as r063d2\n",
    "import info.r063d8 as r063d8\n",
    "import info.r068d3 as r068d3\n",
    "import info.r068d5 as r068d5\n",
    "# infos = [r068d5]\n",
    "from run import analysis_infos\n",
    "infos = analysis_infos"
   ]
  },
  {
   "cell_type": "code",
   "execution_count": null,
   "metadata": {
    "ExecuteTime": {
     "end_time": "2018-08-30T19:11:20.848142Z",
     "start_time": "2018-08-30T19:11:20.825757Z"
    }
   },
   "outputs": [],
   "source": [
    "def trials_by_trajectory(info, sliced_position, zone, min_epoch=1., min_distance=20., \n",
    "                         merge_gap=1.5, min_coverage=True):\n",
    "    if min_coverage:\n",
    "        min_coverage = np.sum(zone) / 4\n",
    "    else:\n",
    "        min_coverage = 1\n",
    "        \n",
    "    x_idxs, y_idxs = get_xy_idx(info, sliced_position)\n",
    "\n",
    "    in_zone = zone[y_idxs, x_idxs]\n",
    "    \n",
    "    jumps = np.diff(in_zone.astype(int))\n",
    "    jumps = np.insert(jumps,0,0)\n",
    "\n",
    "    starts = sliced_position.time[jumps == 1]\n",
    "    np.insert(starts, 0, sliced_position.time[0])\n",
    "    stops = sliced_position.time[jumps == -1]\n",
    "    np.insert(stops, 0, sliced_position.time[-1])\n",
    "\n",
    "    if len(starts) < len(stops):\n",
    "        stops = stops[1:]\n",
    "    elif len(starts) > len(stops):\n",
    "        starts = starts[:-1]\n",
    "\n",
    "    zone_epochs = nept.Epoch([starts, stops]).merge(gap=merge_gap)\n",
    "\n",
    "    dur_idx = zone_epochs.durations >= min_epoch\n",
    "    \n",
    "    start_idxs = [nept.find_nearest_idx(sliced_position.time, start) for start in zone_epochs.starts]\n",
    "    stop_idxs = [nept.find_nearest_idx(sliced_position.time, stop) for stop in zone_epochs.stops]\n",
    "\n",
    "    dist_idx = np.zeros(zone_epochs.n_epochs).astype(bool)\n",
    "    for i, (start_idx, stop_idx) in enumerate(zip(start_idxs, stop_idxs)):\n",
    "        dist_idx[i] = sliced_position[start_idx].distance(sliced_position[stop_idx])[0] > min_distance\n",
    "\n",
    "    trial_epochs = nept.Epoch([zone_epochs.starts[dur_idx&dist_idx], zone_epochs.stops[dur_idx&dist_idx]])\n",
    "\n",
    "    trial_starts = []\n",
    "    trial_stops = []\n",
    "    for start, stop in zip(trial_epochs.starts, trial_epochs.stops):\n",
    "        pp = sliced_position.time_slice(start, stop)\n",
    "        x_idx, y_idx = get_xy_idx(info, pp)\n",
    "\n",
    "        if (len(np.unique([(x, y) for (x, y) in zip(x_idx, y_idx)])) > min_coverage):\n",
    "            trial_starts.append(start)\n",
    "            trial_stops.append(stop)\n",
    "    return nept.Epoch([trial_starts, trial_stops])"
   ]
  },
  {
   "cell_type": "code",
   "execution_count": null,
   "metadata": {
    "ExecuteTime": {
     "end_time": "2018-08-30T19:11:20.863107Z",
     "start_time": "2018-08-30T19:11:20.852115Z"
    }
   },
   "outputs": [],
   "source": [
    "def find_matched_trials(fewest_epochs, trials_to_match):\n",
    "    starts = []\n",
    "    stops = []\n",
    "    centers = trials_to_match.centers\n",
    "    for trial_center in fewest_epochs.centers:\n",
    "        idx = np.nanargmin(np.abs(centers - trial_center))\n",
    "        starts.append(trials_to_match[idx].start)\n",
    "        stops.append(trials_to_match[idx].stop)\n",
    "        centers[idx] = np.nan\n",
    "    return nept.Epoch([starts, stops])"
   ]
  },
  {
   "cell_type": "code",
   "execution_count": null,
   "metadata": {
    "ExecuteTime": {
     "end_time": "2018-08-30T19:11:20.875100Z",
     "start_time": "2018-08-30T19:11:20.865107Z"
    }
   },
   "outputs": [],
   "source": [
    "def get_matched_trials(info, sliced_position):\n",
    "    u_zone, shortcut_zone, novel_zone = get_subset_zones(info, sliced_position)\n",
    "    \n",
    "    u_epochs = trials_by_trajectory(info, sliced_position, u_zone)\n",
    "    shortcut_epochs = trials_by_trajectory(info, sliced_position, shortcut_zone)\n",
    "    novel_epochs = trials_by_trajectory(info, sliced_position, novel_zone, min_distance=0.)\n",
    "    trial_epochs = [u_epochs, shortcut_epochs, novel_epochs]\n",
    "\n",
    "    fewest_trials = trial_epochs[np.argmin([epoch.n_epochs for epoch in trial_epochs])]\n",
    "    \n",
    "    matched_trials = nept.Epoch([], [])\n",
    "    for trial_epoch in trial_epochs:\n",
    "        matched_trials = matched_trials.join(find_matched_trials(fewest_trials, trial_epoch))\n",
    "        \n",
    "    return matched_trials"
   ]
  },
  {
   "cell_type": "code",
   "execution_count": null,
   "metadata": {
    "ExecuteTime": {
     "end_time": "2018-08-30T19:20:06.768366Z",
     "start_time": "2018-08-30T19:11:21.479807Z"
    },
    "scrolled": false
   },
   "outputs": [],
   "source": [
    "for info in infos:\n",
    "    events, position, spikes, lfp, _ = get_data(info)\n",
    "    sliced_position = position.time_slice(info.task_times[\"phase3\"].start, info.task_times[\"phase3\"].stop)\n",
    "    matched_trials = get_matched_trials(info, sliced_position)\n",
    "    print(info.session_id, matched_trials.n_epochs)\n",
    "    \n",
    "    for i, (trial_start, trial_stop) in enumerate(zip(matched_trials.starts, matched_trials.stops)):\n",
    "        trial_position = sliced_position.time_slice(trial_start, trial_stop)\n",
    "\n",
    "        plt.plot(position.x, position.y, \"y.\")\n",
    "        plt.plot(trial_position.x, trial_position.y, \"k.\", ms=4)\n",
    "        plt.savefig(os.path.join(output_filepath, info.session_id+\"_trial-\"+str(i)+\".png\"))\n",
    "        plt.close()\n",
    "#         plt.show()"
   ]
  },
  {
   "cell_type": "code",
   "execution_count": null,
   "metadata": {},
   "outputs": [],
   "source": []
  },
  {
   "cell_type": "code",
   "execution_count": null,
   "metadata": {},
   "outputs": [],
   "source": []
  },
  {
   "cell_type": "code",
   "execution_count": null,
   "metadata": {
    "ExecuteTime": {
     "end_time": "2018-08-30T19:08:06.397256Z",
     "start_time": "2018-08-30T19:08:06.391260Z"
    }
   },
   "outputs": [],
   "source": [
    "def get_all_trials(info, sliced_position):\n",
    "    u_zone, shortcut_zone, novel_zone = get_subset_zones(info, sliced_position)\n",
    "    \n",
    "    u_epochs = trials_by_trajectory(info, sliced_position, u_zone)\n",
    "    shortcut_epochs = trials_by_trajectory(info, sliced_position, shortcut_zone)\n",
    "    novel_epochs = trials_by_trajectory(info, sliced_position, novel_zone, min_distance=0.)\n",
    "    trial_epochs = [u_epochs, shortcut_epochs, novel_epochs]\n",
    "#     trial_epochs = [shortcut_epochs]\n",
    "    \n",
    "    combined_trials = nept.Epoch([], [])\n",
    "    for trial_epoch in trial_epochs:\n",
    "        combined_trials = combined_trials.join(trial_epoch)\n",
    "    \n",
    "    return combined_trials"
   ]
  },
  {
   "cell_type": "code",
   "execution_count": null,
   "metadata": {
    "ExecuteTime": {
     "end_time": "2018-08-30T19:08:56.336915Z",
     "start_time": "2018-08-30T19:08:44.225271Z"
    },
    "scrolled": true
   },
   "outputs": [],
   "source": [
    "for info in infos:\n",
    "    events, position, spikes, lfp, _ = get_data(info)\n",
    "    sliced_position = position.time_slice(info.task_times[\"phase3\"].start, info.task_times[\"phase3\"].stop)\n",
    "    combined_trials = get_all_trials(info, sliced_position)\n",
    "    \n",
    "    print(combined_trials.n_epochs)\n",
    "    \n",
    "    for i, (trial_start, trial_stop) in enumerate(zip(combined_trials.starts, combined_trials.stops)):\n",
    "        trial_position = sliced_position.time_slice(trial_start, trial_stop)\n",
    "\n",
    "        plt.plot(position.x, position.y, \"y.\")\n",
    "        plt.plot(trial_position.x, trial_position.y, \"k.\", ms=4)\n",
    "#         plt.savefig(os.path.join(output_filepath, info.session_id+\"_trial-\"+str(i)+\".png\"))\n",
    "#         plt.close()\n",
    "        plt.show()"
   ]
  },
  {
   "cell_type": "code",
   "execution_count": null,
   "metadata": {},
   "outputs": [],
   "source": []
  },
  {
   "cell_type": "code",
   "execution_count": null,
   "metadata": {},
   "outputs": [],
   "source": []
  }
 ],
 "metadata": {
  "kernelspec": {
   "display_name": "Python 3",
   "language": "python",
   "name": "python3"
  },
  "language_info": {
   "codemirror_mode": {
    "name": "ipython",
    "version": 3
   },
   "file_extension": ".py",
   "mimetype": "text/x-python",
   "name": "python",
   "nbconvert_exporter": "python",
   "pygments_lexer": "ipython3",
   "version": "3.6.5"
  },
  "toc": {
   "colors": {
    "hover_highlight": "#DAA520",
    "running_highlight": "#FF0000",
    "selected_highlight": "#FFD700"
   },
   "moveMenuLeft": true,
   "nav_menu": {
    "height": "12px",
    "width": "252px"
   },
   "navigate_menu": true,
   "number_sections": true,
   "sideBar": true,
   "threshold": 4,
   "toc_cell": false,
   "toc_section_display": "block",
   "toc_window_display": false
  }
 },
 "nbformat": 4,
 "nbformat_minor": 2
}
