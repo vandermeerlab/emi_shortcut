{
 "cells": [
  {
   "cell_type": "code",
   "execution_count": null,
   "metadata": {
    "ExecuteTime": {
     "end_time": "2018-08-28T15:17:22.650345Z",
     "start_time": "2018-08-28T15:17:16.316473Z"
    },
    "collapsed": true
   },
   "outputs": [],
   "source": [
    "%matplotlib inline\n",
    "import matplotlib.pyplot as plt\n",
    "import numpy as np\n",
    "import os\n",
    "import nept\n",
    "\n",
    "from loading_data import get_data\n",
    "from utils_maze import get_bin_centers, get_subset_zones, get_xy_idx"
   ]
  },
  {
   "cell_type": "code",
   "execution_count": null,
   "metadata": {
    "ExecuteTime": {
     "end_time": "2018-08-28T15:17:22.656359Z",
     "start_time": "2018-08-28T15:17:22.652345Z"
    },
    "collapsed": true
   },
   "outputs": [],
   "source": [
    "thisdir = os.getcwd()\n",
    "pickle_filepath = os.path.join(thisdir, \"cache\", \"pickled\")\n",
    "output_filepath = os.path.join(thisdir, \"plots\", \"trials\")\n",
    "if not os.path.exists(output_filepath):\n",
    "    os.makedirs(output_filepath)"
   ]
  },
  {
   "cell_type": "code",
   "execution_count": null,
   "metadata": {
    "ExecuteTime": {
     "end_time": "2018-08-28T15:17:22.827251Z",
     "start_time": "2018-08-28T15:17:22.658341Z"
    },
    "collapsed": true
   },
   "outputs": [],
   "source": [
    "import info.r063d7 as r063d7\n",
    "infos = [r063d7]\n",
    "from run import analysis_infos\n",
    "# infos = analysis_infos"
   ]
  },
  {
   "cell_type": "code",
   "execution_count": null,
   "metadata": {
    "ExecuteTime": {
     "end_time": "2018-08-28T17:51:14.264242Z",
     "start_time": "2018-08-28T17:51:14.255266Z"
    },
    "collapsed": true
   },
   "outputs": [],
   "source": [
    "def trials_by_trajectory(info, sliced_position, zone, min_epoch=1.5, min_distance=20., merge_gap=1.5):\n",
    "    x_idxs, y_idxs = get_xy_idx(info, sliced_position)\n",
    "\n",
    "    in_zone = zone[y_idxs, x_idxs]\n",
    "    jumps = np.diff(in_zone.astype(int))\n",
    "    jumps = np.insert(jumps,0,0)\n",
    "\n",
    "    starts = sliced_position.time[jumps == 1]\n",
    "    np.insert(starts, 0, sliced_position.time[0])\n",
    "    stops = sliced_position.time[jumps == -1]\n",
    "    np.insert(stops, 0, sliced_position.time[-1])\n",
    "\n",
    "    zone_epochs = nept.Epoch([starts, stops]).merge(gap=merge_gap)\n",
    "\n",
    "    dur_idx = zone_epochs.durations >= min_epoch\n",
    "    \n",
    "    start_idxs = [nept.find_nearest_idx(sliced_position.time, start) for start in zone_epochs.starts]\n",
    "    stop_idxs = [nept.find_nearest_idx(sliced_position.time, stop) for stop in zone_epochs.stops]\n",
    "\n",
    "    dist_idx = np.zeros(zone_epochs.n_epochs).astype(bool)\n",
    "    for i, (start_idx, stop_idx) in enumerate(zip(start_idxs, stop_idxs)):\n",
    "        dist_idx[i] = sliced_position[start_idx].distance(sliced_position[stop_idx])[0] > min_distance\n",
    "\n",
    "    return nept.Epoch([zone_epochs.starts[dur_idx&dist_idx], zone_epochs.stops[dur_idx&dist_idx]])"
   ]
  },
  {
   "cell_type": "code",
   "execution_count": null,
   "metadata": {
    "ExecuteTime": {
     "end_time": "2018-08-28T18:18:38.179379Z",
     "start_time": "2018-08-28T18:18:38.174381Z"
    },
    "collapsed": true
   },
   "outputs": [],
   "source": [
    "def find_matched_trials(fewest_epochs, trials_to_match):\n",
    "    starts = []\n",
    "    stops = []\n",
    "    centers = trials_to_match.centers\n",
    "    for trial_center in fewest_epochs.centers:\n",
    "        idx = np.nanargmin(np.abs(centers - trial_center))\n",
    "        starts.append(trials_to_match[idx].start)\n",
    "        stops.append(trials_to_match[idx].stop)\n",
    "        centers[idx] = np.nan\n",
    "    return nept.Epoch([starts, stops])"
   ]
  },
  {
   "cell_type": "code",
   "execution_count": null,
   "metadata": {
    "collapsed": true
   },
   "outputs": [],
   "source": [
    "def get_matched_trials(info, sliced_position):\n",
    "    u_zone, shortcut_zone, novel_zone = get_subset_zones(info, sliced_position)\n",
    "    \n",
    "    \n",
    "    \n",
    "    u_epochs = trials_by_trajectory(info, sliced_position, u_zone)\n",
    "    shortcut_epochs = trials_by_trajectory(info, sliced_position, shortcut_zone)\n",
    "    novel_epochs = trials_by_trajectory(info, sliced_position, novel_zone, min_distance=0.)\n",
    "    trial_epochs = [u_epochs, shortcut_epochs, novel_epochs]\n",
    "\n",
    "    fewest_trials = trial_epochs[np.argmin([epoch.n_epochs for epoch in trial_epochs])]\n",
    "    \n",
    "    matched_trials = nept.Epoch([], [])\n",
    "    for trial_epoch in trial_epochs:\n",
    "        matched_trials = matched_trials.join(find_matched_trials(fewest_trials, trial_epoch))\n",
    "        \n",
    "    return matched_trials"
   ]
  },
  {
   "cell_type": "code",
   "execution_count": null,
   "metadata": {},
   "outputs": [],
   "source": [
    "for info in infos:\n",
    "    events, position, spikes, lfp, _ = get_data(info)\n",
    "    sliced_position = position.time_slice(info.task_times[\"phase3\"].start, info.task_times[\"phase3\"].stop)\n",
    "    matched_trials = get_matched_trials(info, sliced_position)\n",
    "    print(info.session_id, matched_trials.n_epochs)\n",
    "    \n",
    "    for i, (trial_start, trial_stop) in enumerate(zip(matched_trials.starts, matched_trials.stops)):\n",
    "        tt = sliced_position.time_slice(trial_start, trial_stop)\n",
    "\n",
    "        plt.plot(position.x, position.y, \"y.\")\n",
    "        plt.plot(tt.x, tt.y, \"k.\", ms=4)\n",
    "        plt.savefig(os.path.join(output_filepath, info.session_id+\"_trial-\"+str(i)+\".png\"))"
   ]
  },
  {
   "cell_type": "code",
   "execution_count": null,
   "metadata": {},
   "outputs": [],
   "source": [
    "matched_trials.n_epochs"
   ]
  },
  {
   "cell_type": "code",
   "execution_count": null,
   "metadata": {},
   "outputs": [],
   "source": [
    "for trial_start, trial_stop in zip(matched_trials.starts, matched_trials.stops):\n",
    "    print(trial_start, trial_stop)\n",
    "    tt = sliced_position.time_slice(trial_start, trial_stop)\n",
    "\n",
    "    plt.plot(position.x, position.y, \"y.\")\n",
    "    plt.plot(tt.x, tt.y, \"k.\", ms=4)\n",
    "    plt.show()"
   ]
  },
  {
   "cell_type": "code",
   "execution_count": null,
   "metadata": {
    "collapsed": true
   },
   "outputs": [],
   "source": []
  },
  {
   "cell_type": "code",
   "execution_count": null,
   "metadata": {
    "collapsed": true
   },
   "outputs": [],
   "source": []
  },
  {
   "cell_type": "code",
   "execution_count": null,
   "metadata": {
    "collapsed": true
   },
   "outputs": [],
   "source": []
  },
  {
   "cell_type": "code",
   "execution_count": null,
   "metadata": {
    "ExecuteTime": {
     "end_time": "2018-08-28T17:51:15.494552Z",
     "start_time": "2018-08-28T17:51:14.891163Z"
    },
    "collapsed": true
   },
   "outputs": [],
   "source": [
    "events, position, spikes, lfp, _ = get_data(info)\n",
    "\n",
    "u_zone, shortcut_zone, novel_zone = get_subset_zones(info, position)\n",
    "\n",
    "sliced_position = position.time_slice(info.task_times[\"phase3\"].start, info.task_times[\"phase3\"].stop)"
   ]
  },
  {
   "cell_type": "code",
   "execution_count": null,
   "metadata": {
    "ExecuteTime": {
     "end_time": "2018-08-28T17:58:20.929205Z",
     "start_time": "2018-08-28T17:58:20.115853Z"
    },
    "collapsed": true
   },
   "outputs": [],
   "source": [
    "u_epochs = trials_by_trajectory(info, sliced_position, u_zone)\n",
    "shortcut_epochs = trials_by_trajectory(info, sliced_position, shortcut_zone)\n",
    "novel_epochs = trials_by_trajectory(info, sliced_position, novel_zone, min_distance=0.)\n",
    "trial_epochs = [u_epochs, shortcut_epochs, novel_epochs]"
   ]
  },
  {
   "cell_type": "code",
   "execution_count": null,
   "metadata": {
    "ExecuteTime": {
     "end_time": "2018-08-28T17:59:19.568147Z",
     "start_time": "2018-08-28T17:59:19.563149Z"
    }
   },
   "outputs": [],
   "source": [
    "fewest_trials = trial_epochs[np.argmin([epoch.n_epochs for epoch in trial_epochs])]\n",
    "n_trials = fewest_trials.n_epochs"
   ]
  },
  {
   "cell_type": "code",
   "execution_count": null,
   "metadata": {
    "ExecuteTime": {
     "end_time": "2018-08-28T18:19:46.075936Z",
     "start_time": "2018-08-28T18:19:46.070959Z"
    }
   },
   "outputs": [],
   "source": [
    "matched_trials = nept.Epoch([], [])\n",
    "for trial_epoch in trial_epochs:\n",
    "    matched_trials = matched_trials.join(find_matched_trials(fewest_trials, trial_epoch))"
   ]
  },
  {
   "cell_type": "code",
   "execution_count": null,
   "metadata": {
    "scrolled": true
   },
   "outputs": [],
   "source": [
    "for trial_start, trial_stop in zip(matched_trials.starts, matched_trials.stops):\n",
    "    print(trial_start, trial_stop)\n",
    "    tt = sliced_position.time_slice(trial_start, trial_stop)\n",
    "\n",
    "    plt.plot(position.x, position.y, \"y.\")\n",
    "    plt.plot(tt.x, tt.y, \"k.\", ms=4)\n",
    "    plt.show()"
   ]
  },
  {
   "cell_type": "code",
   "execution_count": null,
   "metadata": {},
   "outputs": [],
   "source": [
    "n_trials"
   ]
  },
  {
   "cell_type": "code",
   "execution_count": null,
   "metadata": {
    "collapsed": true
   },
   "outputs": [],
   "source": []
  },
  {
   "cell_type": "code",
   "execution_count": null,
   "metadata": {
    "collapsed": true
   },
   "outputs": [],
   "source": []
  },
  {
   "cell_type": "code",
   "execution_count": null,
   "metadata": {
    "collapsed": true
   },
   "outputs": [],
   "source": []
  },
  {
   "cell_type": "code",
   "execution_count": null,
   "metadata": {
    "ExecuteTime": {
     "end_time": "2018-08-28T17:51:43.511640Z",
     "start_time": "2018-08-28T17:51:15.496552Z"
    },
    "scrolled": true
   },
   "outputs": [],
   "source": [
    "for zone in [u_zone, shortcut_zone]:\n",
    "    zone_epochs = trials_by_trajectory(info, sliced_position, zone)\n",
    "    print(zone_epochs.n_epochs)\n",
    "    tt = sliced_position.time_slice(zone_epochs.starts, zone_epochs.stops)\n",
    "\n",
    "    plt.plot(position.x, position.y, \"c.\")\n",
    "    plt.plot(tt.x, tt.y, \"k.\", ms=4)\n",
    "    plt.show()\n",
    "    \n",
    "    for trial_start, trial_stop in zip(zone_epochs.starts, zone_epochs.stops):\n",
    "        print(trial_start, trial_stop)\n",
    "        tt = sliced_position.time_slice(trial_start, trial_stop)\n",
    "\n",
    "        plt.plot(position.x, position.y, \"y.\")\n",
    "        plt.plot(tt.x, tt.y, \"k.\", ms=4)\n",
    "        plt.show()\n",
    "        \n",
    "# Novel trajectory called separately because trial entry and exit are from the same location\n",
    "zone_epochs = trials_by_trajectory(info, sliced_position, novel_zone, min_distance=0.)\n",
    "print(zone_epochs.n_epochs)\n",
    "tt = sliced_position.time_slice(zone_epochs.starts, zone_epochs.stops)\n",
    "\n",
    "plt.plot(position.x, position.y, \"c.\")\n",
    "plt.plot(tt.x, tt.y, \"k.\", ms=4)\n",
    "plt.show()\n",
    "\n",
    "for trial_start, trial_stop in zip(zone_epochs.starts, zone_epochs.stops):\n",
    "    print(trial_start, trial_stop)\n",
    "    tt = sliced_position.time_slice(trial_start, trial_stop)\n",
    "\n",
    "    plt.plot(position.x, position.y, \"y.\")\n",
    "    plt.plot(tt.x, tt.y, \"k.\", ms=4)\n",
    "    plt.show()"
   ]
  },
  {
   "cell_type": "code",
   "execution_count": null,
   "metadata": {},
   "outputs": [],
   "source": [
    "matched_trials.n_epochs / n_trials"
   ]
  },
  {
   "cell_type": "code",
   "execution_count": null,
   "metadata": {},
   "outputs": [],
   "source": [
    "uu"
   ]
  },
  {
   "cell_type": "code",
   "execution_count": null,
   "metadata": {
    "collapsed": true
   },
   "outputs": [],
   "source": []
  },
  {
   "cell_type": "code",
   "execution_count": null,
   "metadata": {
    "ExecuteTime": {
     "end_time": "2018-08-28T18:18:56.118001Z",
     "start_time": "2018-08-28T18:18:56.109988Z"
    },
    "collapsed": true
   },
   "outputs": [],
   "source": [
    "matched_u = matched_trials(shortcut_epochs, u_epochs)\n",
    "matched_shortcut = matched_trials(shortcut_epochs, shortcut_epochs)\n",
    "matched_novel = matched_trials(shortcut_epochs, novel_epochs)"
   ]
  },
  {
   "cell_type": "code",
   "execution_count": null,
   "metadata": {
    "ExecuteTime": {
     "end_time": "2018-08-28T18:18:45.548038Z",
     "start_time": "2018-08-28T18:18:41.887533Z"
    },
    "scrolled": true
   },
   "outputs": [],
   "source": [
    "for trial_start, trial_stop in zip(matched_u.starts, matched_u.stops):\n",
    "    print(trial_start, trial_stop)\n",
    "    tt = sliced_position.time_slice(trial_start, trial_stop)\n",
    "\n",
    "    plt.plot(position.x, position.y, \"y.\")\n",
    "    plt.plot(tt.x, tt.y, \"k.\", ms=4)\n",
    "    plt.show()"
   ]
  },
  {
   "cell_type": "code",
   "execution_count": null,
   "metadata": {
    "scrolled": true
   },
   "outputs": [],
   "source": [
    "for trial_start, trial_stop in zip(matched_shortcut.starts, matched_shortcut.stops):\n",
    "    print(trial_start, trial_stop)\n",
    "    tt = sliced_position.time_slice(trial_start, trial_stop)\n",
    "\n",
    "    plt.plot(position.x, position.y, \"y.\")\n",
    "    plt.plot(tt.x, tt.y, \"k.\", ms=4)\n",
    "    plt.show()"
   ]
  },
  {
   "cell_type": "code",
   "execution_count": null,
   "metadata": {
    "ExecuteTime": {
     "end_time": "2018-08-28T18:19:00.013335Z",
     "start_time": "2018-08-28T18:18:56.359506Z"
    },
    "scrolled": true
   },
   "outputs": [],
   "source": [
    "for trial_start, trial_stop in zip(matched_novel.starts, matched_novel.stops):\n",
    "    print(trial_start, trial_stop)\n",
    "    tt = sliced_position.time_slice(trial_start, trial_stop)\n",
    "\n",
    "    plt.plot(position.x, position.y, \"y.\")\n",
    "    plt.plot(tt.x, tt.y, \"k.\", ms=4)\n",
    "    plt.show()"
   ]
  },
  {
   "cell_type": "code",
   "execution_count": null,
   "metadata": {
    "collapsed": true
   },
   "outputs": [],
   "source": []
  },
  {
   "cell_type": "code",
   "execution_count": null,
   "metadata": {
    "ExecuteTime": {
     "end_time": "2018-08-28T15:18:04.763761Z",
     "start_time": "2018-08-28T15:18:04.311001Z"
    }
   },
   "outputs": [],
   "source": [
    "s = 8613.776451  \n",
    "e = 8614.877779999999\n",
    "\n",
    "whatsupwiththistrial = position.time_slice(s-10, e+10)\n",
    "plt.plot(position.x, position.y, \"m.\")\n",
    "plt.plot(whatsupwiththistrial.x, whatsupwiththistrial.y, \"k.\")\n",
    "plt.show()"
   ]
  },
  {
   "cell_type": "code",
   "execution_count": null,
   "metadata": {
    "collapsed": true
   },
   "outputs": [],
   "source": []
  },
  {
   "cell_type": "code",
   "execution_count": null,
   "metadata": {
    "ExecuteTime": {
     "end_time": "2018-08-28T15:18:04.966627Z",
     "start_time": "2018-08-28T15:18:04.765742Z"
    }
   },
   "outputs": [],
   "source": [
    "xx, yy = np.meshgrid(info.xedges, info.yedges)\n",
    "\n",
    "plt.figure()\n",
    "pp = plt.pcolormesh(xx, yy, u_zone, cmap=\"PuBuGn\")\n",
    "plt.plot(position.x, position.y, \"k.\", ms=2)\n",
    "plt.tight_layout()\n",
    "plt.show()"
   ]
  },
  {
   "cell_type": "code",
   "execution_count": null,
   "metadata": {
    "collapsed": true
   },
   "outputs": [],
   "source": []
  },
  {
   "cell_type": "code",
   "execution_count": null,
   "metadata": {
    "ExecuteTime": {
     "end_time": "2018-08-28T15:18:04.971624Z",
     "start_time": "2018-08-28T15:18:04.967627Z"
    },
    "collapsed": true
   },
   "outputs": [],
   "source": [
    "from utils_maze import get_trials"
   ]
  },
  {
   "cell_type": "code",
   "execution_count": null,
   "metadata": {
    "ExecuteTime": {
     "end_time": "2018-08-28T15:18:35.804532Z",
     "start_time": "2018-08-28T15:18:04.973623Z"
    }
   },
   "outputs": [],
   "source": [
    "phase = info.task_times[\"phase3\"]\n",
    "trials = get_trials(events, phase)\n",
    "\n",
    "for trial_start, trial_stop in zip(trials.starts, trials.stops):\n",
    "\n",
    "    tt = sliced_position.time_slice(trial_start, trial_stop)\n",
    "\n",
    "    plt.plot(position.x, position.y, \"y.\")\n",
    "    plt.plot(tt.x, tt.y, \"k.\", ms=4)\n",
    "    plt.show()"
   ]
  },
  {
   "cell_type": "code",
   "execution_count": null,
   "metadata": {
    "ExecuteTime": {
     "end_time": "2018-08-28T15:18:35.811528Z",
     "start_time": "2018-08-28T15:18:35.805531Z"
    }
   },
   "outputs": [],
   "source": [
    "trials.n_epochs"
   ]
  },
  {
   "cell_type": "code",
   "execution_count": null,
   "metadata": {
    "collapsed": true
   },
   "outputs": [],
   "source": []
  }
 ],
 "metadata": {
  "kernelspec": {
   "display_name": "Python 3",
   "language": "python",
   "name": "python3"
  },
  "language_info": {
   "codemirror_mode": {
    "name": "ipython",
    "version": 3
   },
   "file_extension": ".py",
   "mimetype": "text/x-python",
   "name": "python",
   "nbconvert_exporter": "python",
   "pygments_lexer": "ipython3",
   "version": "3.6.5"
  },
  "toc": {
   "colors": {
    "hover_highlight": "#DAA520",
    "running_highlight": "#FF0000",
    "selected_highlight": "#FFD700"
   },
   "moveMenuLeft": true,
   "nav_menu": {
    "height": "12px",
    "width": "252px"
   },
   "navigate_menu": true,
   "number_sections": true,
   "sideBar": true,
   "threshold": 4,
   "toc_cell": false,
   "toc_section_display": "block",
   "toc_window_display": false
  }
 },
 "nbformat": 4,
 "nbformat_minor": 2
}
