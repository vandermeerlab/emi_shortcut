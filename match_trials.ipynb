{
 "cells": [
  {
   "cell_type": "code",
   "execution_count": null,
   "metadata": {
    "ExecuteTime": {
     "end_time": "2018-08-27T19:11:31.735394Z",
     "start_time": "2018-08-27T19:11:30.601959Z"
    }
   },
   "outputs": [],
   "source": [
    "%matplotlib inline\n",
    "import matplotlib.pyplot as plt\n",
    "import numpy as np\n",
    "import os\n",
    "import nept\n",
    "\n",
    "from loading_data import get_data\n",
    "from utils_maze import get_bin_centers, get_subset_zones, get_xy_idx"
   ]
  },
  {
   "cell_type": "code",
   "execution_count": null,
   "metadata": {
    "ExecuteTime": {
     "end_time": "2018-08-27T19:11:31.741384Z",
     "start_time": "2018-08-27T19:11:31.737385Z"
    }
   },
   "outputs": [],
   "source": [
    "thisdir = os.getcwd()\n",
    "pickle_filepath = os.path.join(thisdir, \"cache\", \"pickled\")\n",
    "output_filepath = os.path.join(thisdir, \"plots\", \"trials\")\n",
    "if not os.path.exists(output_filepath):\n",
    "    os.makedirs(output_filepath)"
   ]
  },
  {
   "cell_type": "code",
   "execution_count": null,
   "metadata": {
    "ExecuteTime": {
     "end_time": "2018-08-27T19:11:31.779370Z",
     "start_time": "2018-08-27T19:11:31.743366Z"
    }
   },
   "outputs": [],
   "source": [
    "import info.r063d7 as info"
   ]
  },
  {
   "cell_type": "code",
   "execution_count": null,
   "metadata": {
    "ExecuteTime": {
     "end_time": "2018-08-27T19:11:31.788357Z",
     "start_time": "2018-08-27T19:11:31.781344Z"
    }
   },
   "outputs": [],
   "source": [
    "def trials_by_trajectory(info, sliced_position, zone, min_epoch=1., min_distance=20., merge_gap=1.):\n",
    "    x_idxs, y_idxs = get_xy_idx(info, sliced_position)\n",
    "\n",
    "    in_zone = zone[y_idxs, x_idxs]\n",
    "    jumps = np.diff(in_zone.astype(int))\n",
    "    jumps = np.insert(jumps,0,0)\n",
    "\n",
    "    starts = sliced_position.time[jumps == 1]\n",
    "    np.insert(starts, 0, sliced_position.time[0])\n",
    "    stops = sliced_position.time[jumps == -1]\n",
    "    np.insert(stops, 0, sliced_position.time[-1])\n",
    "\n",
    "    zone_epochs = nept.Epoch([starts, stops]).merge(gap=merge_gap)\n",
    "\n",
    "    dur_idx = zone_epochs.durations >= min_epoch\n",
    "    \n",
    "    start_idxs = [nept.find_nearest_idx(sliced_position.time, start) for start in zone_epochs.starts]\n",
    "    stop_idxs = [nept.find_nearest_idx(sliced_position.time, stop) for stop in zone_epochs.stops]\n",
    "\n",
    "    dist_idx = np.zeros(zone_epochs.n_epochs).astype(bool)\n",
    "    for i, (start_idx, stop_idx) in enumerate(zip(start_idxs, stop_idxs)):\n",
    "        dist_idx[i] = sliced_position[start_idx].distance(sliced_position[stop_idx])[0] > min_distance\n",
    "\n",
    "    return nept.Epoch([zone_epochs.starts[dur_idx&dist_idx], zone_epochs.stops[dur_idx&dist_idx]])"
   ]
  },
  {
   "cell_type": "code",
   "execution_count": null,
   "metadata": {
    "ExecuteTime": {
     "end_time": "2018-08-27T19:11:32.306070Z",
     "start_time": "2018-08-27T19:11:31.789340Z"
    }
   },
   "outputs": [],
   "source": [
    "events, position, spikes, lfp, _ = get_data(info)\n",
    "\n",
    "u_zone, shortcut_zone, novel_zone = get_subset_zones(info, position)\n",
    "\n",
    "sliced_position = position.time_slice(info.task_times[\"phase3\"].start, info.task_times[\"phase3\"].stop)"
   ]
  },
  {
   "cell_type": "code",
   "execution_count": null,
   "metadata": {
    "ExecuteTime": {
     "end_time": "2018-08-27T19:12:13.162134Z",
     "start_time": "2018-08-27T19:11:32.307062Z"
    },
    "scrolled": false
   },
   "outputs": [],
   "source": [
    "for zone in [u_zone, shortcut_zone]:\n",
    "    zone_epochs = trials_by_trajectory(info, sliced_position, zone)\n",
    "    print(zone_epochs.n_epochs)\n",
    "    tt = sliced_position.time_slice(zone_epochs.starts, zone_epochs.stops)\n",
    "\n",
    "    plt.plot(position.x, position.y, \"c.\")\n",
    "    plt.plot(tt.x, tt.y, \"k.\", ms=4)\n",
    "    plt.show()\n",
    "    \n",
    "    for trial_start, trial_stop in zip(zone_epochs.starts, zone_epochs.stops):\n",
    "        print(trial_start, trial_stop)\n",
    "        tt = sliced_position.time_slice(trial_start, trial_stop)\n",
    "\n",
    "        plt.plot(position.x, position.y, \"y.\")\n",
    "        plt.plot(tt.x, tt.y, \"k.\", ms=4)\n",
    "        plt.show()\n",
    "        \n",
    "# Novel trajectory called separately because trial entry and exit are from the same location\n",
    "zone_epochs = trials_by_trajectory(info, sliced_position, novel_zone, min_distance=0.)\n",
    "print(zone_epochs.n_epochs)\n",
    "tt = sliced_position.time_slice(zone_epochs.starts, zone_epochs.stops)\n",
    "\n",
    "plt.plot(position.x, position.y, \"c.\")\n",
    "plt.plot(tt.x, tt.y, \"k.\", ms=4)\n",
    "plt.show()\n",
    "\n",
    "for trial_start, trial_stop in zip(zone_epochs.starts, zone_epochs.stops):\n",
    "    print(trial_start, trial_stop)\n",
    "    tt = sliced_position.time_slice(trial_start, trial_stop)\n",
    "\n",
    "    plt.plot(position.x, position.y, \"y.\")\n",
    "    plt.plot(tt.x, tt.y, \"k.\", ms=4)\n",
    "    plt.show()"
   ]
  },
  {
   "cell_type": "code",
   "execution_count": null,
   "metadata": {},
   "outputs": [],
   "source": []
  },
  {
   "cell_type": "code",
   "execution_count": null,
   "metadata": {},
   "outputs": [],
   "source": []
  },
  {
   "cell_type": "code",
   "execution_count": null,
   "metadata": {
    "ExecuteTime": {
     "end_time": "2018-08-27T19:12:45.662158Z",
     "start_time": "2018-08-27T19:12:45.203402Z"
    }
   },
   "outputs": [],
   "source": [
    "s = 8613.776451  \n",
    "e = 8614.877779999999\n",
    "\n",
    "whatsupwiththistrial = position.time_slice(s-10, e+10)\n",
    "plt.plot(position.x, position.y, \"m.\")\n",
    "plt.plot(whatsupwiththistrial.x, whatsupwiththistrial.y, \"k.\")\n",
    "plt.show()"
   ]
  },
  {
   "cell_type": "code",
   "execution_count": null,
   "metadata": {},
   "outputs": [],
   "source": []
  },
  {
   "cell_type": "code",
   "execution_count": null,
   "metadata": {
    "ExecuteTime": {
     "end_time": "2018-08-27T19:12:14.120604Z",
     "start_time": "2018-08-27T19:12:13.921700Z"
    }
   },
   "outputs": [],
   "source": [
    "xx, yy = np.meshgrid(info.xedges, info.yedges)\n",
    "\n",
    "plt.figure()\n",
    "pp = plt.pcolormesh(xx, yy, u_zone, cmap=\"PuBuGn\")\n",
    "plt.plot(position.x, position.y, \"k.\", ms=2)\n",
    "plt.tight_layout()\n",
    "plt.show()"
   ]
  },
  {
   "cell_type": "code",
   "execution_count": null,
   "metadata": {},
   "outputs": [],
   "source": []
  },
  {
   "cell_type": "code",
   "execution_count": null,
   "metadata": {
    "ExecuteTime": {
     "end_time": "2018-08-27T19:12:14.125600Z",
     "start_time": "2018-08-27T19:12:14.121586Z"
    }
   },
   "outputs": [],
   "source": [
    "from utils_maze import get_trials"
   ]
  },
  {
   "cell_type": "code",
   "execution_count": null,
   "metadata": {
    "ExecuteTime": {
     "end_time": "2018-08-27T19:12:45.194425Z",
     "start_time": "2018-08-27T19:12:14.126583Z"
    }
   },
   "outputs": [],
   "source": [
    "phase = info.task_times[\"phase3\"]\n",
    "trials = get_trials(events, phase)\n",
    "\n",
    "for trial_start, trial_stop in zip(trials.starts, trials.stops):\n",
    "\n",
    "    tt = sliced_position.time_slice(trial_start, trial_stop)\n",
    "\n",
    "    plt.plot(position.x, position.y, \"y.\")\n",
    "    plt.plot(tt.x, tt.y, \"k.\", ms=4)\n",
    "    plt.show()"
   ]
  },
  {
   "cell_type": "code",
   "execution_count": null,
   "metadata": {
    "ExecuteTime": {
     "end_time": "2018-08-27T19:12:45.201403Z",
     "start_time": "2018-08-27T19:12:45.196406Z"
    }
   },
   "outputs": [],
   "source": [
    "trials.n_epochs"
   ]
  },
  {
   "cell_type": "code",
   "execution_count": null,
   "metadata": {},
   "outputs": [],
   "source": []
  }
 ],
 "metadata": {
  "kernelspec": {
   "display_name": "Python 3",
   "language": "python",
   "name": "python3"
  },
  "language_info": {
   "codemirror_mode": {
    "name": "ipython",
    "version": 3
   },
   "file_extension": ".py",
   "mimetype": "text/x-python",
   "name": "python",
   "nbconvert_exporter": "python",
   "pygments_lexer": "ipython3",
   "version": "3.6.5"
  },
  "toc": {
   "colors": {
    "hover_highlight": "#DAA520",
    "running_highlight": "#FF0000",
    "selected_highlight": "#FFD700"
   },
   "moveMenuLeft": true,
   "nav_menu": {
    "height": "12px",
    "width": "252px"
   },
   "navigate_menu": true,
   "number_sections": true,
   "sideBar": true,
   "threshold": 4,
   "toc_cell": false,
   "toc_section_display": "block",
   "toc_window_display": false
  }
 },
 "nbformat": 4,
 "nbformat_minor": 2
}
