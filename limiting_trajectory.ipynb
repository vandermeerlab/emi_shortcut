{
 "cells": [
  {
   "cell_type": "code",
   "execution_count": null,
   "metadata": {
    "collapsed": false
   },
   "outputs": [],
   "source": [
    "%matplotlib inline\n",
    "import numpy as np\n",
    "import matplotlib.pyplot as plt\n",
    "from shapely.geometry import Point, LineString\n",
    "import os\n",
    "\n",
    "import vdmlab as vdm\n",
    "\n",
    "from loading_data import get_data\n",
    "from utils_maze import spikes_by_position\n",
    "from utils_plotting import plot_intersects, plot_zone\n",
    "from startup import load_shortcut_position"
   ]
  },
  {
   "cell_type": "code",
   "execution_count": null,
   "metadata": {
    "collapsed": false
   },
   "outputs": [],
   "source": [
    "import info.r068d8 as info"
   ]
  },
  {
   "cell_type": "code",
   "execution_count": null,
   "metadata": {
    "collapsed": false
   },
   "outputs": [],
   "source": [
    "events, position, spikes, lfp, lfp_theta = get_data(info)"
   ]
  },
  {
   "cell_type": "code",
   "execution_count": null,
   "metadata": {
    "collapsed": false
   },
   "outputs": [],
   "source": [
    "u_line = LineString(info.u_trajectory)\n",
    "shortcut_line = LineString(info.shortcut_trajectory)\n",
    "novel_line = LineString(info.novel_trajectory)\n",
    "\n",
    "expand_by = 6\n",
    "\n",
    "u_start = Point(info.u_trajectory[0])\n",
    "u_stop = Point(info.u_trajectory[-1])\n",
    "shortcut_start = Point(info.shortcut_trajectory[0])\n",
    "shortcut_stop = Point(info.shortcut_trajectory[-1])\n",
    "novel_start = Point(info.novel_trajectory[0])\n",
    "novel_stop = Point(info.novel_trajectory[-1])\n",
    "pedestal_center = Point(info.path_pts['pedestal'][0], info.path_pts['pedestal'][1])\n",
    "pedestal = pedestal_center.buffer(expand_by*2.2)"
   ]
  },
  {
   "cell_type": "code",
   "execution_count": null,
   "metadata": {
    "collapsed": true
   },
   "outputs": [],
   "source": [
    "zone = dict()\n",
    "zone['u'] = vdm.expand_line(u_start, u_stop, u_line, expand_by)\n",
    "zone['shortcut'] = vdm.expand_line(shortcut_start, shortcut_stop, shortcut_line, expand_by)\n",
    "zone['novel'] = vdm.expand_line(novel_start, novel_stop, novel_line, expand_by)\n",
    "zone['ushort'] = zone['u'].intersection(zone['shortcut'])\n",
    "zone['unovel'] = zone['u'].intersection(zone['novel'])\n",
    "zone['uped'] = zone['u'].intersection(pedestal)\n",
    "zone['shortped'] = zone['shortcut'].intersection(pedestal)\n",
    "zone['novelped'] = zone['novel'].intersection(pedestal)\n",
    "zone['pedestal'] = pedestal"
   ]
  },
  {
   "cell_type": "code",
   "execution_count": null,
   "metadata": {
    "collapsed": false
   },
   "outputs": [],
   "source": [
    "plt.plot(position.x, position.y, 'y.', ms=1)\n",
    "plt.plot(u_line.xy[0], u_line.xy[1], 'k.')\n",
    "plt.plot(shortcut_line.xy[0], shortcut_line.xy[1], 'r.')\n",
    "plt.plot(novel_line.xy[0], novel_line.xy[1], 'g.')\n",
    "for zones in zone:\n",
    "    if zone[zones].geom_type == 'MultiPolygon':\n",
    "        plot_intersects(zone[zones])\n",
    "    elif zone[zones].geom_type == 'Polygon':\n",
    "        plot_zone(zone[zones])\n",
    "    else:\n",
    "        continue"
   ]
  },
  {
   "cell_type": "code",
   "execution_count": null,
   "metadata": {
    "collapsed": true
   },
   "outputs": [],
   "source": []
  },
  {
   "cell_type": "code",
   "execution_count": null,
   "metadata": {
    "collapsed": true
   },
   "outputs": [],
   "source": [
    "u_idx = []\n",
    "shortcut_idx = []\n",
    "novel_idx = []\n",
    "ped_idx = []\n",
    "other_idx = []\n",
    "for i, (x, y) in enumerate(zip(position.x, position.y)):\n",
    "    point = Point([x, y])\n",
    "    if pedestal.contains(point) or zone['uped'].contains(point) or zone['shortped'].contains(point) or zone['novelped'].contains(point):\n",
    "        ped_idx.append(i)\n",
    "        continue\n",
    "    elif zone['u'].contains(point) or zone['ushort'].contains(point) or zone['unovel'].contains(point):\n",
    "        u_idx.append(i)\n",
    "        continue\n",
    "    elif zone['shortcut'].contains(point):\n",
    "        shortcut_idx.append(i)\n",
    "        continue\n",
    "    elif zone['novel'].contains(point):\n",
    "        novel_idx.append(i)\n",
    "        continue\n",
    "    else:\n",
    "        other_idx.append(i)"
   ]
  },
  {
   "cell_type": "code",
   "execution_count": null,
   "metadata": {
    "collapsed": false
   },
   "outputs": [],
   "source": [
    "u_position = position[u_idx]\n",
    "shortcut_position = position[shortcut_idx]\n",
    "novel_position = position[novel_idx]\n",
    "pedestal_position = position[ped_idx]\n",
    "other_position = position[other_idx]\n",
    "\n",
    "plt.plot(u_position.x, u_position.y, 'b.')\n",
    "plt.plot(shortcut_position.x, shortcut_position.y, 'g.')\n",
    "plt.plot(novel_position.x, novel_position.y, 'r.')\n",
    "plt.plot(pedestal_position.x, pedestal_position.y, 'm.')\n",
    "plt.plot(other_position.x, other_position.y, 'k.')\n",
    "plt.show()"
   ]
  },
  {
   "cell_type": "code",
   "execution_count": null,
   "metadata": {
    "collapsed": true
   },
   "outputs": [],
   "source": []
  }
 ],
 "metadata": {
  "anaconda-cloud": {},
  "kernelspec": {
   "display_name": "Python [conda env:py3]",
   "language": "python",
   "name": "conda-env-py3-py"
  },
  "language_info": {
   "codemirror_mode": {
    "name": "ipython",
    "version": 3
   },
   "file_extension": ".py",
   "mimetype": "text/x-python",
   "name": "python",
   "nbconvert_exporter": "python",
   "pygments_lexer": "ipython3",
   "version": "3.5.2"
  }
 },
 "nbformat": 4,
 "nbformat_minor": 1
}
