{
 "cells": [
  {
   "cell_type": "code",
   "execution_count": null,
   "metadata": {
    "collapsed": true
   },
   "outputs": [],
   "source": [
    "%matplotlib inline\n",
    "import os\n",
    "import numpy as np\n",
    "import matplotlib.pyplot as plt\n",
    "from shapely.geometry import Point, LineString\n",
    "\n",
    "import vdmlab as vdm\n",
    "\n",
    "from load_data import get_spikes\n",
    "\n",
    "import sys\n",
    "sys.path.append('E:\\\\code\\\\python-vdmlab\\\\projects\\\\emily_shortcut\\\\info')\n",
    "import info.r063d2 as r063d2\n",
    "import info.r063d3 as r063d3\n",
    "import info.r063d4 as r063d4\n",
    "import info.r063d5 as r063d5\n",
    "import info.r063d6 as r063d6\n",
    "import info.r066d1 as r066d1\n",
    "import info.r066d2 as r066d2\n",
    "import info.r066d3 as r066d3\n",
    "import info.r066d4 as r066d4\n",
    "import info.r066d5 as r066d5\n",
    "import info.r066d6 as r066d6\n",
    "import info.r067d1 as r067d1\n",
    "import info.r067d2 as r067d2\n",
    "import info.r067d3 as r067d3\n",
    "import info.r067d4 as r067d4\n",
    "import info.r067d5 as r067d5\n",
    "import info.r067d6 as r067d6\n",
    "import info.r068d1 as r068d1\n",
    "import info.r068d2 as r068d2\n",
    "import info.r068d3 as r068d3\n",
    "import info.r068d4 as r068d4\n",
    "import info.r068d5 as r068d5\n",
    "import info.r068d6 as r068d6"
   ]
  },
  {
   "cell_type": "code",
   "execution_count": null,
   "metadata": {
    "collapsed": false
   },
   "outputs": [],
   "source": [
    "all_sessions = [r063d2, r063d3, r063d4, r063d5, r063d6, \n",
    "                r066d1, r066d2, r066d3, r066d4, r066d5, r066d6,\n",
    "                r067d1, r067d2, r067d3, r067d4, r067d5, r067d6,\n",
    "                r068d1, r068d2, r068d3, r068d4, r068d5, r068d6]\n",
    "\n",
    "n_neurons = []\n",
    "for info in all_sessions:\n",
    "    n_neurons.append((info.session_id, len(get_spikes(info.spike_mat))))"
   ]
  },
  {
   "cell_type": "code",
   "execution_count": null,
   "metadata": {
    "collapsed": false
   },
   "outputs": [],
   "source": [
    "n_neurons"
   ]
  },
  {
   "cell_type": "code",
   "execution_count": null,
   "metadata": {
    "collapsed": true
   },
   "outputs": [],
   "source": []
  }
 ],
 "metadata": {
  "kernelspec": {
   "display_name": "Python 3",
   "language": "python",
   "name": "python3"
  },
  "language_info": {
   "codemirror_mode": {
    "name": "ipython",
    "version": 3
   },
   "file_extension": ".py",
   "mimetype": "text/x-python",
   "name": "python",
   "nbconvert_exporter": "python",
   "pygments_lexer": "ipython3",
   "version": "3.5.2"
  }
 },
 "nbformat": 4,
 "nbformat_minor": 0
}
