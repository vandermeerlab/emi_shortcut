{
 "cells": [
  {
   "cell_type": "code",
   "execution_count": null,
   "metadata": {
    "collapsed": true
   },
   "outputs": [],
   "source": [
    "%matplotlib inline\n",
    "import os\n",
    "import numpy as np\n",
    "import matplotlib.pyplot as plt\n",
    "import vdmlab as vdm\n",
    "from analyze_maze import find_zones\n",
    "from analyze_fields import get_unique_fields, categorize_fields"
   ]
  },
  {
   "cell_type": "code",
   "execution_count": null,
   "metadata": {
    "collapsed": false
   },
   "outputs": [],
   "source": [
    "from load_data import get_pos, get_spikes, get_lfp\n",
    "import info.r063d3 as info"
   ]
  },
  {
   "cell_type": "code",
   "execution_count": null,
   "metadata": {
    "collapsed": true
   },
   "outputs": [],
   "source": [
    "pos = get_pos(info.pos_mat, info.pxl_to_cm)\n",
    "lfp = get_lfp(info.good_swr[0])\n",
    "spikes = get_spikes(info.spike_mat)"
   ]
  },
  {
   "cell_type": "code",
   "execution_count": null,
   "metadata": {
    "collapsed": false
   },
   "outputs": [],
   "source": [
    "print(len(spikes))"
   ]
  },
  {
   "cell_type": "code",
   "execution_count": null,
   "metadata": {
    "collapsed": false
   },
   "outputs": [],
   "source": [
    "times = info.task_times['phase3']"
   ]
  },
  {
   "cell_type": "code",
   "execution_count": null,
   "metadata": {
    "collapsed": true
   },
   "outputs": [],
   "source": [
    "sliced_spikes = [spiketrain.time_slice(times.start, times.stop) for spiketrain in spikes]"
   ]
  },
  {
   "cell_type": "code",
   "execution_count": null,
   "metadata": {
    "collapsed": false
   },
   "outputs": [],
   "source": [
    "sliced_pos = pos.time_slice(times.start, times.stop)"
   ]
  },
  {
   "cell_type": "code",
   "execution_count": null,
   "metadata": {
    "collapsed": false
   },
   "outputs": [],
   "source": [
    "plt.plot(sliced_pos.x, sliced_pos.y, 'g.')\n",
    "plt.show()"
   ]
  },
  {
   "cell_type": "code",
   "execution_count": null,
   "metadata": {
    "collapsed": false
   },
   "outputs": [],
   "source": [
    "binsize = 3\n",
    "xedges = np.arange(sliced_pos.x.min(), sliced_pos.x.max() + binsize, binsize)\n",
    "yedges = np.arange(sliced_pos.y.min(), sliced_pos.y.max() + binsize, binsize)\n",
    "tuning_curves = vdm.tuning_curve_2d(sliced_pos, sliced_spikes, xedges, yedges, gaussian_sigma=0.1)"
   ]
  },
  {
   "cell_type": "code",
   "execution_count": null,
   "metadata": {
    "collapsed": false
   },
   "outputs": [],
   "source": [
    "xx, yy = np.meshgrid(xedges, yedges)\n",
    "for i, neuron in enumerate(tuning_curves[0:3]):\n",
    "    pp = plt.pcolormesh(xx, yy, neuron, cmap='YlGn')\n",
    "    plt.colorbar(pp)\n",
    "    plt.axis('off')\n",
    "    plt.plot()\n",
    "#     plt.close()"
   ]
  },
  {
   "cell_type": "code",
   "execution_count": null,
   "metadata": {
    "collapsed": false
   },
   "outputs": [],
   "source": [
    "fields_tunings['shortcut'].keys()"
   ]
  },
  {
   "cell_type": "code",
   "execution_count": null,
   "metadata": {
    "collapsed": false
   },
   "outputs": [],
   "source": [
    "this_field = 2\n",
    "pp = plt.pcolormesh(xx, yy, fields_tunings['shortcut'][this_field], cmap='YlGn')\n",
    "plt.colorbar(pp)\n",
    "plt.axis('off')\n",
    "plt.plot()"
   ]
  },
  {
   "cell_type": "code",
   "execution_count": null,
   "metadata": {
    "collapsed": true
   },
   "outputs": [],
   "source": [
    "unique_fields = dict()\n",
    "unique_fields['u'] = get_unique_fields(fields_tunings['u'],\n",
    "                                       fields_tunings['shortcut'],\n",
    "                                       fields_tunings['novel'])\n",
    "unique_fields['shortcut'] = get_unique_fields(fields_tunings['shortcut'],\n",
    "                                              fields_tunings['novel'],\n",
    "                                              fields_tunings['u'])\n",
    "unique_fields['novel'] = get_unique_fields(fields_tunings['novel'],\n",
    "                                           fields_tunings['u'],\n",
    "                                           fields_tunings['shortcut'])"
   ]
  },
  {
   "cell_type": "code",
   "execution_count": null,
   "metadata": {
    "collapsed": false
   },
   "outputs": [],
   "source": [
    "unique_fields['u'].keys()"
   ]
  },
  {
   "cell_type": "code",
   "execution_count": null,
   "metadata": {
    "collapsed": false
   },
   "outputs": [],
   "source": [
    "for key in unique_fields['u']:\n",
    "    pp = plt.pcolormesh(xx, yy, unique_fields['u'][key], cmap='YlGn')\n",
    "    plt.colorbar(pp)\n",
    "    plt.axis('off')\n",
    "    plt.show()"
   ]
  },
  {
   "cell_type": "code",
   "execution_count": null,
   "metadata": {
    "collapsed": true
   },
   "outputs": [],
   "source": []
  },
  {
   "cell_type": "code",
   "execution_count": null,
   "metadata": {
    "collapsed": true
   },
   "outputs": [],
   "source": []
  }
 ],
 "metadata": {
  "kernelspec": {
   "display_name": "Python 3",
   "language": "python",
   "name": "python3"
  },
  "language_info": {
   "codemirror_mode": {
    "name": "ipython",
    "version": 3
   },
   "file_extension": ".py",
   "mimetype": "text/x-python",
   "name": "python",
   "nbconvert_exporter": "python",
   "pygments_lexer": "ipython3",
   "version": "3.5.2"
  }
 },
 "nbformat": 4,
 "nbformat_minor": 0
}
