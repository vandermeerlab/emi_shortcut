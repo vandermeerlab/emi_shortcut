{
 "cells": [
  {
   "cell_type": "code",
   "execution_count": null,
   "metadata": {
    "ExecuteTime": {
     "end_time": "2018-08-07T16:33:47.014971Z",
     "start_time": "2018-08-07T16:33:45.864570Z"
    },
    "collapsed": true
   },
   "outputs": [],
   "source": [
    "%matplotlib inline\n",
    "import matplotlib.pyplot as plt\n",
    "import numpy as np\n",
    "import os\n",
    "import pickle\n",
    "from shapely.geometry import Point, LineString\n",
    "import nept\n",
    "\n",
    "from loading_data import get_data\n",
    "from utils_maze import get_bin_centers, find_zones\n",
    "from utils_plotting import plot_errors, plot_over_space, make_animation"
   ]
  },
  {
   "cell_type": "code",
   "execution_count": null,
   "metadata": {
    "ExecuteTime": {
     "end_time": "2018-08-07T16:33:47.020601Z",
     "start_time": "2018-08-07T16:33:47.014971Z"
    },
    "collapsed": true
   },
   "outputs": [],
   "source": [
    "thisdir = os.getcwd()\n",
    "pickle_filepath = os.path.join(thisdir, \"cache\", \"pickled\")\n",
    "output_filepath = os.path.join(thisdir, \"plots\", \"decode-checks\")\n",
    "if not os.path.exists(output_filepath):\n",
    "    os.makedirs(output_filepath)"
   ]
  },
  {
   "cell_type": "code",
   "execution_count": null,
   "metadata": {
    "ExecuteTime": {
     "end_time": "2018-08-07T17:49:44.621465Z",
     "start_time": "2018-08-07T17:49:44.616467Z"
    },
    "collapsed": true
   },
   "outputs": [],
   "source": [
    "import info.r063d2 as r063d2\n",
    "import info.r063d6 as r063d6\n",
    "infos = [r063d2, r063d6]\n",
    "\n",
    "from run import analysis_infos, r063_infos\n",
    "# infos = analysis_infos\n",
    "# infos = r063_infos"
   ]
  },
  {
   "cell_type": "code",
   "execution_count": null,
   "metadata": {
    "ExecuteTime": {
     "end_time": "2018-08-07T17:49:44.855388Z",
     "start_time": "2018-08-07T17:49:44.849391Z"
    },
    "collapsed": true
   },
   "outputs": [],
   "source": [
    "def load_decoded(info, pickle_filepath, binsize=12):\n",
    "    decoded_filename = info.session_id + '_decoded_binsize' + str(binsize) + 'cm.pkl'\n",
    "    pickled_decoded = os.path.join(pickle_filepath, decoded_filename)\n",
    "    \n",
    "    with open(pickled_decoded, 'rb') as fileobj:\n",
    "        decoded = pickle.load(fileobj)\n",
    "    \n",
    "    return decoded\n",
    "\n",
    "def load_decoded_shuffled(info, pickle_filepath, binsize=12):\n",
    "    shuffled_filename = info.session_id + '_decoded-shuffled_binsize' + str(binsize) + 'cm.pkl'\n",
    "    shuffled_decoded = os.path.join(pickle_filepath, shuffled_filename)\n",
    "    \n",
    "    with open(shuffled_decoded, 'rb') as fileobj:\n",
    "        shuffled = pickle.load(fileobj)\n",
    "        \n",
    "    return shuffled"
   ]
  },
  {
   "cell_type": "code",
   "execution_count": null,
   "metadata": {
    "ExecuteTime": {
     "end_time": "2018-08-07T17:49:45.118469Z",
     "start_time": "2018-08-07T17:49:45.114471Z"
    },
    "collapsed": true
   },
   "outputs": [],
   "source": [
    "binsize = 12"
   ]
  },
  {
   "cell_type": "code",
   "execution_count": null,
   "metadata": {
    "ExecuteTime": {
     "end_time": "2018-08-07T17:50:04.620734Z",
     "start_time": "2018-08-07T17:50:04.616737Z"
    },
    "collapsed": true
   },
   "outputs": [],
   "source": [
    "savefig = False"
   ]
  },
  {
   "cell_type": "code",
   "execution_count": null,
   "metadata": {
    "ExecuteTime": {
     "end_time": "2018-08-07T17:50:05.899067Z",
     "start_time": "2018-08-07T17:50:05.102017Z"
    },
    "collapsed": true
   },
   "outputs": [],
   "source": [
    "# proportion decoded\n",
    "proportions_decoded = []\n",
    "session_ids = []\n",
    "for info in infos:\n",
    "    session_ids.append(info.session_id)\n",
    "    \n",
    "    decoded = load_decoded(info, pickle_filepath, binsize=binsize)\n",
    "\n",
    "    proportion_decoded = []\n",
    "    for trial, n_timebins in zip(decoded[\"decoded\"], decoded[\"n_timebins\"]):\n",
    "        proportion_decoded.append(trial.n_samples/n_timebins)\n",
    "    proportions_decoded.append(np.mean(proportion_decoded))\n",
    "\n",
    "filename = \"proportion-decoded_binsize\"+str(binsize)+\"cm.png\"\n",
    "filepath = os.path.join(output_filepath, \"proportion\")\n",
    "if not os.path.exists(filepath):\n",
    "    os.makedirs(filepath)\n",
    "\n",
    "y_pos = np.arange(len(session_ids))\n",
    "plt.bar(y_pos, proportions_decoded, align='center', alpha=0.7)\n",
    "plt.xticks(y_pos, session_ids, rotation=90, fontsize=10)\n",
    "plt.ylabel('Proportion')\n",
    "plt.title(\"Samples decoded with %d cm bins\" % binsize)\n",
    "plt.tight_layout()\n",
    "\n",
    "if savefig:\n",
    "    plt.savefig(os.path.join(filepath, filename))\n",
    "    plt.close()\n",
    "else:\n",
    "    plt.show()"
   ]
  },
  {
   "cell_type": "code",
   "execution_count": null,
   "metadata": {
    "ExecuteTime": {
     "end_time": "2018-08-07T16:30:00.004076Z",
     "start_time": "2018-08-07T16:29:49.105966Z"
    },
    "collapsed": true
   },
   "outputs": [],
   "source": [
    "# Individual likelihoods/errors over space\n",
    "for info in infos:\n",
    "    xx, yy = np.meshgrid(info.xedges, info.yedges)\n",
    "    \n",
    "    decoded = load_decoded(info, pickle_filepath, binsize=binsize)\n",
    "\n",
    "    filename = info.session_id+\"-likelihoods_byactual-\"+str(binsize)+\"cm.png\"\n",
    "    filepath = os.path.join(output_filepath, \"likelihoods\")\n",
    "    if not os.path.exists(filepath):\n",
    "        os.makedirs(filepath)\n",
    "\n",
    "    title = info.session_id+\" posterior\"\n",
    "    likelihood_byactual = plot_over_space(info, decoded[\"likelihoods\"], decoded[\"actual\"], title, os.path.join(filepath, filename))\n",
    "\n",
    "    filename = info.session_id+\"-errors_byactual-\"+str(binsize)+\"cm.png\"\n",
    "    filepath = os.path.join(output_filepath, \"errors\", \"over-space\")\n",
    "    if not os.path.exists(filepath):\n",
    "        os.makedirs(filepath)\n",
    "\n",
    "    title = info.session_id+\" error\"\n",
    "    errors_byactual = plot_over_space(info, decoded[\"errors\"], decoded[\"actual\"], title, os.path.join(filepath, filename))"
   ]
  },
  {
   "cell_type": "code",
   "execution_count": null,
   "metadata": {
    "ExecuteTime": {
     "end_time": "2018-08-07T16:30:38.284974Z",
     "start_time": "2018-08-07T16:30:36.457275Z"
    },
    "collapsed": true
   },
   "outputs": [],
   "source": [
    "# Combined errors\n",
    "n_sessions = 0\n",
    "combined_decoded_errors = []\n",
    "combined_shuffled_errors = []\n",
    "for info in infos:\n",
    "    n_sessions += 1\n",
    "    decoded = load_decoded(info, pickle_filepath, binsize=binsize)\n",
    "    combined_decoded_errors.append(decoded[\"errors\"])\n",
    "\n",
    "    shuffled = load_decoded_shuffled(info, pickle_filepath, binsize=binsize)\n",
    "    combined_shuffled_errors.append(shuffled[\"errors\"])\n",
    "\n",
    "filename = \"combined-errors_binsize\"+str(binsize)+\"cm.png\"\n",
    "filepath = os.path.join(output_filepath, \"errors\")\n",
    "if not os.path.exists(filepath):\n",
    "    os.makedirs(filepath)\n",
    "\n",
    "plot_errors(combined_decoded_errors, combined_shuffled_errors, n_sessions=n_sessions, \n",
    "            filename=os.path.join(filepath, filename))"
   ]
  },
  {
   "cell_type": "code",
   "execution_count": null,
   "metadata": {
    "ExecuteTime": {
     "end_time": "2018-08-07T16:30:42.925193Z",
     "start_time": "2018-08-07T16:30:38.520635Z"
    },
    "collapsed": true
   },
   "outputs": [],
   "source": [
    "# Individual errors\n",
    "for info in infos:\n",
    "    decoded = load_decoded(info, pickle_filepath, binsize=binsize)\n",
    "\n",
    "    shuffled = load_decoded_shuffled(info, pickle_filepath, binsize=binsize)\n",
    "\n",
    "    filename = info.session_id+\"-errors_binsize\"+str(binsize)+\"cm.png\"\n",
    "    filepath = os.path.join(output_filepath, \"errors\")\n",
    "    if not os.path.exists(filepath):\n",
    "        os.makedirs(filepath)\n",
    "\n",
    "    plot_errors([decoded[\"errors\"]], [shuffled[\"errors\"]], n_sessions=1, \n",
    "                filename=os.path.join(filepath, filename))"
   ]
  },
  {
   "cell_type": "code",
   "execution_count": null,
   "metadata": {
    "ExecuteTime": {
     "start_time": "2018-08-06T18:40:21.935Z"
    },
    "collapsed": true
   },
   "outputs": [],
   "source": [
    "# animation\n",
    "for info in infos:\n",
    "    decoded = load_decoded(info, pickle_filepath, binsize=binsize)\n",
    "    \n",
    "    filepath = os.path.join(output_filepath, \"animations\")\n",
    "    if not os.path.exists(filepath):\n",
    "        os.makedirs(filepath)\n",
    "    \n",
    "    trial_idx = 2\n",
    "    make_animation(info, decoded, trial_idx, filepath)"
   ]
  },
  {
   "cell_type": "code",
   "execution_count": null,
   "metadata": {
    "collapsed": true
   },
   "outputs": [],
   "source": []
  },
  {
   "cell_type": "code",
   "execution_count": null,
   "metadata": {
    "ExecuteTime": {
     "end_time": "2018-08-06T18:28:36.191220Z",
     "start_time": "2018-08-06T18:20:36.308986Z"
    },
    "collapsed": true
   },
   "outputs": [],
   "source": [
    "binsizes = [2, 12, 30]\n",
    "# Individual mean/median errors\n",
    "for info in infos:\n",
    "    mean_errors = []\n",
    "    median_errors = []\n",
    "    \n",
    "    mean_errors_shuffled = []\n",
    "    median_errors_shuffled = []\n",
    "    \n",
    "    for bins in binsizes:\n",
    "        combine_errors = []\n",
    "        combine_errors_shuffled = []\n",
    "        \n",
    "        decoded = load_decoded(info, pickle_filepath, binsize=bins)\n",
    "\n",
    "        shuffled = load_decoded_shuffled(info, pickle_filepath, binsize=bins)\n",
    "            \n",
    "        for error in decoded[\"errors\"]:\n",
    "            combine_errors.extend(error)\n",
    "        mean_errors.append(np.mean(combine_errors))\n",
    "        median_errors.append(np.median(combine_errors))\n",
    "        \n",
    "        for error in shuffled[\"errors\"]:\n",
    "            combine_errors_shuffled.extend(error)\n",
    "        mean_errors_shuffled.append(np.mean(combine_errors_shuffled))\n",
    "        median_errors_shuffled.append(np.median(combine_errors_shuffled))\n",
    "        \n",
    "    filename = info.session_id+\"-mean-errors.png\"\n",
    "    filepath = os.path.join(output_filepath, \"errors\", \"average\")\n",
    "    if not os.path.exists(filepath):\n",
    "        os.makedirs(filepath)\n",
    "        \n",
    "    plt.plot(binsizes, mean_errors)\n",
    "    plt.xlabel(\"Binsize (cm)\")\n",
    "    plt.ylabel(\"Mean error\")\n",
    "    plt.title(info.session_id+\" mean decode error (cm)\")\n",
    "    plt.savefig(os.path.join(filepath, filename))\n",
    "    plt.close()\n",
    "    \n",
    "    filename = info.session_id+\"-median-errors.png\"\n",
    "    filepath = os.path.join(output_filepath, \"errors\", \"average\")\n",
    "    if not os.path.exists(filepath):\n",
    "        os.makedirs(filepath)\n",
    "    \n",
    "    plt.plot(binsizes, median_errors)\n",
    "    plt.xlabel(\"Binsize (cm)\")\n",
    "    plt.ylabel(\"Median error\")\n",
    "    plt.title(info.session_id+\" median decode error (cm)\")\n",
    "    plt.savefig(os.path.join(filepath, filename))\n",
    "    plt.close()"
   ]
  },
  {
   "cell_type": "code",
   "execution_count": null,
   "metadata": {
    "collapsed": true
   },
   "outputs": [],
   "source": []
  },
  {
   "cell_type": "code",
   "execution_count": null,
   "metadata": {
    "collapsed": true
   },
   "outputs": [],
   "source": []
  },
  {
   "cell_type": "code",
   "execution_count": null,
   "metadata": {
    "collapsed": true
   },
   "outputs": [],
   "source": []
  },
  {
   "cell_type": "code",
   "execution_count": null,
   "metadata": {
    "ExecuteTime": {
     "end_time": "2018-08-07T14:01:06.846551Z",
     "start_time": "2018-08-07T14:01:06.840555Z"
    },
    "collapsed": true
   },
   "outputs": [],
   "source": [
    "def point_in_zones(position, zones_mask):\n",
    "    \"\"\"Assigns points if contained in maze zones\n",
    "\n",
    "    Parameters\n",
    "    ----------\n",
    "    position : nept.Position\n",
    "    zones : dict\n",
    "        With u, shortcut, novel as keys\n",
    "\n",
    "    Returns\n",
    "    -------\n",
    "    sorted_zones : dict\n",
    "        With u, shortcut, novel, other as keys, each a nept.Position object\n",
    "\n",
    "    \"\"\"\n",
    "    u_data = []\n",
    "    u_times = []\n",
    "    shortcut_data = []\n",
    "    shortcut_times = []\n",
    "    novel_data = []\n",
    "    novel_times = []\n",
    "    other_data = []\n",
    "    other_times = []\n",
    "\n",
    "    if not position.isempty:\n",
    "        for x, y, time in zip(position.x, position.y, position.time):\n",
    "            x_idx = nept.find_nearest_idx(x, xcenters)\n",
    "            y_idx = nept.find_nearest_idx(y, ycenters)\n",
    "            \n",
    "            if zones_mask[\"novel\"][y_idx][x_idx]:\n",
    "                novel_data.append([x, y])\n",
    "                novel_times.append(time)\n",
    "                continue\n",
    "            elif zones_mask[\"shortcut\"][y_idx][x_idx]:\n",
    "                shortcut_data.append([x, y])\n",
    "                shortcut_times.append(time)\n",
    "                continue\n",
    "            elif zones_mask[\"u\"][y_idx][x_idx]:\n",
    "                u_data.append([x, y])\n",
    "                u_times.append(time)\n",
    "                continue\n",
    "            else:\n",
    "                other_data.append([x, y])\n",
    "                other_times.append(time)\n",
    "\n",
    "    sorted_zones = dict()\n",
    "    sorted_zones['u'] = nept.Position(u_data, u_times)\n",
    "    sorted_zones['shortcut'] = nept.Position(shortcut_data, shortcut_times)\n",
    "    sorted_zones['novel'] = nept.Position(novel_data, novel_times)\n",
    "    sorted_zones['other'] = nept.Position(other_data, other_times)\n",
    "\n",
    "    return sorted_zones"
   ]
  },
  {
   "cell_type": "code",
   "execution_count": null,
   "metadata": {
    "ExecuteTime": {
     "end_time": "2018-08-07T14:01:06.838555Z",
     "start_time": "2018-08-07T14:00:03.025678Z"
    }
   },
   "outputs": [],
   "source": [
    "# decoded time spent in each zone\n",
    "\n",
    "for info in infos:\n",
    "    print(info.session_id)\n",
    "    \n",
    "    decoded = load_decoded(info, pickle_filepath, binsize=binsize)\n",
    "    \n",
    "    events, position, spikes, _, _ = get_data(info)\n",
    "\n",
    "    binned_maze_shape = (len(info.yedges)-1, len(info.xedges)-1)\n",
    "    xx, yy = np.meshgrid(info.xedges, info.yedges)\n",
    "\n",
    "    zones = find_zones(info, remove_feeder=True, expand_by=15, subset=False)\n",
    "\n",
    "    xcenters, ycenters = get_bin_centers(info)\n",
    "\n",
    "    u_zone = np.zeros(binned_maze_shape).astype(bool)\n",
    "    shortcut_zone = np.zeros(binned_maze_shape).astype(bool)\n",
    "    novel_zone = np.zeros(binned_maze_shape).astype(bool)\n",
    "\n",
    "    for i, x in enumerate(xcenters):\n",
    "        for j, y in enumerate(ycenters):\n",
    "            if zones[\"u\"].contains(Point(x,y)):\n",
    "                u_zone[j][i] = True\n",
    "            elif zones[\"shortcut\"].contains(Point(x,y)):\n",
    "                shortcut_zone[j][i] = True\n",
    "            elif zones[\"novel\"].contains(Point(x,y)):\n",
    "                novel_zone[j][i] = True\n",
    "\n",
    "    sliced_position = position.time_slice(info.task_times[\"phase3\"].start, info.task_times[\"phase3\"].stop)\n",
    "    occupancy = nept.get_occupancy(sliced_position, info.yedges, info.xedges)\n",
    "\n",
    "    phase1_position = position.time_slice(info.task_times[\"phase1\"].start, info.task_times[\"phase1\"].stop)\n",
    "    phase1_occupancy = nept.get_occupancy(phase1_position, info.yedges, info.xedges)\n",
    "    phase2_position = position.time_slice(info.task_times[\"phase2\"].start, info.task_times[\"phase2\"].stop)\n",
    "    phase2_occupancy = nept.get_occupancy(phase2_position, info.yedges, info.xedges)\n",
    "    u_pos = np.zeros(binned_maze_shape).astype(bool)\n",
    "    u_pos[occupancy > 0.] = True\n",
    "    u_pos[phase1_occupancy > 0.] = True\n",
    "    u_pos[phase2_occupancy > 0.] = True\n",
    "    u_area = np.zeros(binned_maze_shape).astype(bool)\n",
    "    u_area[u_pos & u_zone] = True\n",
    "\n",
    "    shortcut_pos = np.zeros(binned_maze_shape).astype(bool)\n",
    "    shortcut_pos[(occupancy > 0.) & (~u_area)] = True\n",
    "    shortcut_area = np.zeros(binned_maze_shape).astype(bool)\n",
    "    shortcut_area[shortcut_pos & shortcut_zone] = True\n",
    "\n",
    "    novel_pos = np.zeros(binned_maze_shape).astype(bool)\n",
    "    novel_pos[(occupancy > 0.) & (~u_area)] = True\n",
    "    novel_area = np.zeros(binned_maze_shape).astype(bool)\n",
    "    novel_area[novel_pos & novel_zone] = True\n",
    "    \n",
    "    \n",
    "    zones_mask = dict()\n",
    "    zones_mask[\"novel\"] = novel_area\n",
    "    zones_mask[\"shortcut\"] = shortcut_area\n",
    "    zones_mask[\"u\"] = u_area\n",
    "\n",
    "    us = 0\n",
    "    shortcuts = 0\n",
    "    novels = 0\n",
    "\n",
    "    for trial in decoded[\"decoded\"]:\n",
    "        doesthiswork = point_in_zones(trial, zones_mask)\n",
    "\n",
    "        us += doesthiswork[\"u\"].n_samples\n",
    "        shortcuts += doesthiswork[\"shortcut\"].n_samples\n",
    "        novels += doesthiswork[\"novel\"].n_samples\n",
    "\n",
    "        n_samples = [us, shortcuts, novels]\n",
    "\n",
    "    y_pos = np.arange(len(keys))\n",
    "    plt.bar(y_pos, n_samples, align='center', alpha=0.7, color=[\"b\", \"g\", \"r\"])\n",
    "    plt.xticks(y_pos, ['u', 'shortcut', 'novel'])\n",
    "    plt.ylabel('Number')\n",
    "    plt.title(\"Samples decoded with %d cm bins\" % binsize)\n",
    "    plt.tight_layout()\n",
    "    plt.show()"
   ]
  },
  {
   "cell_type": "code",
   "execution_count": null,
   "metadata": {},
   "outputs": [],
   "source": [
    "# actual time spent in each zone\n",
    "for info in infos:\n",
    "    us = 0\n",
    "    shortcuts = 0\n",
    "    novels = 0\n",
    "\n",
    "    for trial in decoded[\"actual\"]:\n",
    "        doesthiswork = point_in_zones(trial, zones_mask)\n",
    "\n",
    "        us += doesthiswork[\"u\"].n_samples\n",
    "        shortcuts += doesthiswork[\"shortcut\"].n_samples\n",
    "        novels += doesthiswork[\"novel\"].n_samples\n",
    "\n",
    "        n_samples = [us, shortcuts, novels]\n",
    "\n",
    "    y_pos = np.arange(len(keys))\n",
    "    plt.bar(y_pos, n_samples, align='center', alpha=0.7, color=[\"b\", \"g\", \"r\"])\n",
    "    plt.xticks(y_pos, ['u', 'shortcut', 'novel'])\n",
    "    plt.ylabel('Number')\n",
    "    plt.title(\"Samples decoded with %d cm bins\" % binsize)\n",
    "    plt.tight_layout()\n",
    "    plt.show()"
   ]
  },
  {
   "cell_type": "code",
   "execution_count": null,
   "metadata": {
    "collapsed": true
   },
   "outputs": [],
   "source": []
  },
  {
   "cell_type": "code",
   "execution_count": null,
   "metadata": {
    "ExecuteTime": {
     "end_time": "2018-08-07T14:01:06.880531Z",
     "start_time": "2018-08-07T14:01:06.866540Z"
    },
    "collapsed": true
   },
   "outputs": [],
   "source": [
    "xcenters"
   ]
  },
  {
   "cell_type": "code",
   "execution_count": null,
   "metadata": {
    "ExecuteTime": {
     "end_time": "2018-08-07T14:01:06.892525Z",
     "start_time": "2018-08-07T14:01:06.882531Z"
    },
    "collapsed": true
   },
   "outputs": [],
   "source": [
    "u_decoded = []\n",
    "shortcut_decoded = []\n",
    "novel_decoded = []\n",
    "u_actual = []\n",
    "shortcut_actual = []\n",
    "novel_actual = []\n",
    "\n",
    "for i in range(len(decoded[\"decoded\"][0])):\n",
    "    x_idx = nept.find_nearest_idx(decoded[\"decoded\"][0].x[i], xcenters)\n",
    "    y_idx = nept.find_nearest_idx(decoded[\"decoded\"][0].y[i], ycenters)\n",
    "\n",
    "    if novel_area[y_idx][x_idx]:\n",
    "        novel_decoded.append([decoded[\"decoded\"][0].x[i], decoded[\"decoded\"][0].y[i], decoded[\"decoded\"][0].time[i]])\n",
    "    elif shortcut_area[y_idx][x_idx]:\n",
    "    elif u_area[y_idx][x_idx]:"
   ]
  },
  {
   "cell_type": "code",
   "execution_count": null,
   "metadata": {
    "collapsed": true
   },
   "outputs": [],
   "source": []
  },
  {
   "cell_type": "code",
   "execution_count": null,
   "metadata": {
    "ExecuteTime": {
     "end_time": "2018-08-07T14:01:13.145209Z",
     "start_time": "2018-08-07T14:01:12.913342Z"
    },
    "collapsed": true
   },
   "outputs": [],
   "source": [
    "combined = np.zeros(binned_maze_shape)\n",
    "combined[u_area] = 1\n",
    "combined[shortcut_area] = 2\n",
    "combined[novel_area] = 3\n",
    "\n",
    "plt.figure()\n",
    "pp = plt.pcolormesh(xx, yy, combined, cmap=\"PuBuGn\")\n",
    "plt.plot(position.x, position.y, \"k.\", ms=2)\n",
    "plt.plot(decoded[\"decoded\"][0].x[i], decoded[\"decoded\"][0].y[i], \"r.\", ms=10)\n",
    "plt.tight_layout()\n",
    "plt.show()"
   ]
  },
  {
   "cell_type": "code",
   "execution_count": null,
   "metadata": {
    "collapsed": true
   },
   "outputs": [],
   "source": []
  },
  {
   "cell_type": "code",
   "execution_count": null,
   "metadata": {
    "collapsed": true
   },
   "outputs": [],
   "source": []
  }
 ],
 "metadata": {
  "kernelspec": {
   "display_name": "Python 3",
   "language": "python",
   "name": "python3"
  },
  "language_info": {
   "codemirror_mode": {
    "name": "ipython",
    "version": 3
   },
   "file_extension": ".py",
   "mimetype": "text/x-python",
   "name": "python",
   "nbconvert_exporter": "python",
   "pygments_lexer": "ipython3",
   "version": "3.6.5"
  },
  "toc": {
   "colors": {
    "hover_highlight": "#DAA520",
    "running_highlight": "#FF0000",
    "selected_highlight": "#FFD700"
   },
   "moveMenuLeft": true,
   "nav_menu": {
    "height": "12px",
    "width": "252px"
   },
   "navigate_menu": true,
   "number_sections": true,
   "sideBar": true,
   "threshold": 4,
   "toc_cell": false,
   "toc_section_display": "block",
   "toc_window_display": false
  }
 },
 "nbformat": 4,
 "nbformat_minor": 2
}
