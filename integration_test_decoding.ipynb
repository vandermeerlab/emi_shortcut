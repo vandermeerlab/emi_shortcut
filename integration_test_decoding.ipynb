{
 "cells": [
  {
   "cell_type": "code",
   "execution_count": null,
   "metadata": {
    "ExecuteTime": {
     "end_time": "2018-01-18T19:31:52.316929Z",
     "start_time": "2018-01-18T19:31:51.316192Z"
    }
   },
   "outputs": [],
   "source": [
    "%matplotlib inline\n",
    "import matplotlib.pyplot as plt\n",
    "import numpy as np\n",
    "import os\n",
    "import nept"
   ]
  },
  {
   "cell_type": "code",
   "execution_count": null,
   "metadata": {
    "ExecuteTime": {
     "end_time": "2018-01-18T19:31:52.875142Z",
     "start_time": "2018-01-18T19:31:52.867155Z"
    },
    "collapsed": true
   },
   "outputs": [],
   "source": [
    "min_neurons = 1\n",
    "min_spikes = 1\n",
    "t_start = 0\n",
    "t_stop = 100\n",
    "normalized = False\n",
    "sequence_speed = 3.\n",
    "sequence_len = 1.\n",
    "min_epochs=3\n",
    "window=0.0125\n",
    "dt=0.0125\n",
    "gaussian_std=0.0075"
   ]
  },
  {
   "cell_type": "code",
   "execution_count": null,
   "metadata": {
    "collapsed": true
   },
   "outputs": [],
   "source": []
  },
  {
   "cell_type": "code",
   "execution_count": null,
   "metadata": {
    "ExecuteTime": {
     "end_time": "2018-01-18T19:31:54.089953Z",
     "start_time": "2018-01-18T19:31:54.081965Z"
    }
   },
   "outputs": [],
   "source": [
    "# Position\n",
    "test_time = np.arange(0, 10, 0.034)\n",
    "test_x = np.linspace(0, 200, len(test_time))\n",
    "test_y = np.linspace(0, 200, len(test_time))\n",
    "\n",
    "test_data = np.array([test_x, test_y]).T\n",
    "test_position = nept.Position(test_data, test_time)"
   ]
  },
  {
   "cell_type": "code",
   "execution_count": null,
   "metadata": {
    "ExecuteTime": {
     "end_time": "2018-01-18T19:31:54.906637Z",
     "start_time": "2018-01-18T19:31:54.737501Z"
    }
   },
   "outputs": [],
   "source": [
    "plt.plot(test_position.time, test_position.x)\n",
    "plt.plot(test_position.time, test_position.y)\n",
    "plt.show()"
   ]
  },
  {
   "cell_type": "code",
   "execution_count": null,
   "metadata": {
    "ExecuteTime": {
     "end_time": "2018-01-18T19:31:55.617590Z",
     "start_time": "2018-01-18T19:31:55.441966Z"
    }
   },
   "outputs": [],
   "source": [
    "plt.plot(test_position.x, test_position.y, 'o')\n",
    "plt.show()"
   ]
  },
  {
   "cell_type": "code",
   "execution_count": null,
   "metadata": {
    "ExecuteTime": {
     "end_time": "2018-01-18T19:31:56.398331Z",
     "start_time": "2018-01-18T19:31:56.393829Z"
    }
   },
   "outputs": [],
   "source": [
    "xedges, yedges = nept.get_xyedges(test_position, binsize=2)"
   ]
  },
  {
   "cell_type": "code",
   "execution_count": null,
   "metadata": {
    "ExecuteTime": {
     "end_time": "2018-01-18T19:31:58.982060Z",
     "start_time": "2018-01-18T19:31:58.978057Z"
    },
    "collapsed": true
   },
   "outputs": [],
   "source": [
    "def make_spikes(low_val, high_val):\n",
    "    return nept.SpikeTrain(test_position.time[(low_val < test_position.y)*(test_position.y < high_val)])"
   ]
  },
  {
   "cell_type": "code",
   "execution_count": null,
   "metadata": {
    "ExecuteTime": {
     "end_time": "2018-01-18T19:32:00.664076Z",
     "start_time": "2018-01-18T19:32:00.634073Z"
    }
   },
   "outputs": [],
   "source": [
    "test_spikes = np.array([make_spikes(0, 25),\n",
    "                        make_spikes(25, 50),\n",
    "                        make_spikes(50, 75),\n",
    "                        make_spikes(75, 100),\n",
    "                        make_spikes(100, 125),\n",
    "                        make_spikes(125, 150),\n",
    "                        make_spikes(150, 175),\n",
    "                        make_spikes(175, 200)])\n",
    "\n",
    "test_tuning_curves = nept.tuning_curve_2d(test_position, test_spikes, xedges, yedges, \n",
    "                                          occupied_thresh=1., gaussian_std=0.)"
   ]
  },
  {
   "cell_type": "code",
   "execution_count": null,
   "metadata": {
    "ExecuteTime": {
     "end_time": "2018-01-18T19:32:02.015471Z",
     "start_time": "2018-01-18T19:32:02.009949Z"
    }
   },
   "outputs": [],
   "source": [
    "np.mean(np.diff(test_spikes[0].time))"
   ]
  },
  {
   "cell_type": "code",
   "execution_count": null,
   "metadata": {
    "ExecuteTime": {
     "end_time": "2018-01-18T19:32:02.959279Z",
     "start_time": "2018-01-18T19:32:02.954275Z"
    }
   },
   "outputs": [],
   "source": [
    "len(test_spikes)"
   ]
  },
  {
   "cell_type": "code",
   "execution_count": null,
   "metadata": {
    "ExecuteTime": {
     "end_time": "2018-01-18T19:32:03.921469Z",
     "start_time": "2018-01-18T19:32:03.745826Z"
    }
   },
   "outputs": [],
   "source": [
    "plt.plot(test_position.time, test_position.y)\n",
    "for idx, spiketrain in enumerate(test_spikes):\n",
    "    plt.plot(spiketrain.time, np.ones(len(spiketrain.time))+idx*30, '|', color='b', ms=20, mew=2)\n",
    "plt.xlim(0, 0.2)"
   ]
  },
  {
   "cell_type": "code",
   "execution_count": null,
   "metadata": {
    "ExecuteTime": {
     "end_time": "2018-01-18T19:32:05.279501Z",
     "start_time": "2018-01-18T19:32:05.265992Z"
    }
   },
   "outputs": [],
   "source": [
    "test_tuning_curves = nept.tuning_curve_2d(test_position, test_spikes, xedges, yedges)"
   ]
  },
  {
   "cell_type": "code",
   "execution_count": null,
   "metadata": {
    "ExecuteTime": {
     "end_time": "2018-01-18T19:32:08.021659Z",
     "start_time": "2018-01-18T19:32:06.369988Z"
    },
    "scrolled": true
   },
   "outputs": [],
   "source": [
    "xx, yy = np.meshgrid(xedges, yedges)\n",
    "for idx, tc in enumerate(test_tuning_curves):\n",
    "    print('Neuron:', idx + 1)\n",
    "    pp = plt.pcolormesh(xx, yy, tc, vmin=0., cmap='pink_r')\n",
    "    plt.colorbar(pp)\n",
    "    plt.axis('off')\n",
    "    plt.show()"
   ]
  },
  {
   "cell_type": "code",
   "execution_count": null,
   "metadata": {
    "ExecuteTime": {
     "end_time": "2017-09-05T12:39:14.844062",
     "start_time": "2017-09-05T12:39:14.841560"
    }
   },
   "outputs": [],
   "source": [
    "test_neurons = nept.Neurons(test_spikes, test_tuning_curves)"
   ]
  },
  {
   "cell_type": "code",
   "execution_count": null,
   "metadata": {
    "ExecuteTime": {
     "end_time": "2017-09-05T12:39:14.857572",
     "start_time": "2017-09-05T12:39:14.846064"
    }
   },
   "outputs": [],
   "source": [
    "sliced_spikes = test_neurons.time_slice(t_start, t_stop)\n",
    "sliced_spikes = sliced_spikes.spikes\n",
    "\n",
    "position = test_position.time_slice(t_start, t_stop)\n",
    "\n",
    "tuning_curves = test_neurons.tuning_curves"
   ]
  },
  {
   "cell_type": "code",
   "execution_count": null,
   "metadata": {
    "ExecuteTime": {
     "end_time": "2017-09-05T12:39:14.868579",
     "start_time": "2017-09-05T12:39:14.859073"
    },
    "collapsed": true
   },
   "outputs": [],
   "source": [
    "epochs_interest = nept.Epoch(np.array([position.time[0], position.time[-1]]))"
   ]
  },
  {
   "cell_type": "code",
   "execution_count": null,
   "metadata": {
    "ExecuteTime": {
     "end_time": "2017-09-05T12:39:14.882089",
     "start_time": "2017-09-05T12:39:14.870581"
    }
   },
   "outputs": [],
   "source": [
    "window = 0.125\n",
    "dt = 0.125\n",
    "gaussian_std = 0.1\n",
    "normalized = True\n",
    "\n",
    "counts = nept.bin_spikes(sliced_spikes, position.time, dt=dt, window=window,\n",
    "                         gaussian_std=gaussian_std, normalized=normalized)"
   ]
  },
  {
   "cell_type": "code",
   "execution_count": null,
   "metadata": {
    "ExecuteTime": {
     "end_time": "2017-09-05T12:39:15.220330",
     "start_time": "2017-09-05T12:39:14.884091"
    }
   },
   "outputs": [],
   "source": [
    "pp = plt.pcolormesh(counts.data.T, cmap='pink_r')\n",
    "plt.colorbar(pp)\n",
    "plt.show()"
   ]
  },
  {
   "cell_type": "code",
   "execution_count": null,
   "metadata": {
    "ExecuteTime": {
     "end_time": "2017-09-05T12:39:15.225834",
     "start_time": "2017-09-05T12:39:15.222331"
    }
   },
   "outputs": [],
   "source": [
    "tc_shape = tuning_curves.shape\n",
    "decoding_tc = tuning_curves.reshape(tc_shape[0], tc_shape[1] * tc_shape[2])"
   ]
  },
  {
   "cell_type": "code",
   "execution_count": null,
   "metadata": {
    "ExecuteTime": {
     "end_time": "2017-09-05T12:39:15.311394",
     "start_time": "2017-09-05T12:39:15.227836"
    }
   },
   "outputs": [],
   "source": [
    "likelihood = nept.bayesian_prob(counts, decoding_tc, window, \n",
    "                                min_neurons=min_neurons, min_spikes=min_spikes)"
   ]
  },
  {
   "cell_type": "code",
   "execution_count": null,
   "metadata": {
    "ExecuteTime": {
     "end_time": "2017-09-05T12:39:15.330908",
     "start_time": "2017-09-05T12:39:15.327923"
    }
   },
   "outputs": [],
   "source": [
    "xcenters = (xedges[1:] + xedges[:-1]) / 2.\n",
    "ycenters = (yedges[1:] + yedges[:-1]) / 2.\n",
    "xy_centers = nept.cartesian(xcenters, ycenters)"
   ]
  },
  {
   "cell_type": "code",
   "execution_count": null,
   "metadata": {
    "ExecuteTime": {
     "end_time": "2017-09-05T12:39:15.784724",
     "start_time": "2017-09-05T12:39:15.766732"
    }
   },
   "outputs": [],
   "source": [
    "decoded = nept.decode_location(likelihood, xy_centers, counts.time)\n",
    "nan_idx = np.logical_and(np.isnan(decoded.x), np.isnan(decoded.y))\n",
    "decoded = decoded[~nan_idx]\n",
    "\n",
    "print('decoded:', decoded.n_samples)"
   ]
  },
  {
   "cell_type": "code",
   "execution_count": null,
   "metadata": {
    "ExecuteTime": {
     "end_time": "2017-09-05T12:39:16.148692",
     "start_time": "2017-09-05T12:39:16.143708"
    }
   },
   "outputs": [],
   "source": [
    "position.n_samples"
   ]
  },
  {
   "cell_type": "code",
   "execution_count": null,
   "metadata": {
    "ExecuteTime": {
     "end_time": "2017-09-05T12:39:16.536775",
     "start_time": "2017-09-05T12:39:16.527769"
    }
   },
   "outputs": [],
   "source": [
    "sequences = nept.remove_teleports(decoded, speed_thresh=sequence_speed, min_length=sequence_len)\n",
    "decoded_epochs = epochs_interest.intersect(sequences)\n",
    "decoded_epochs = decoded_epochs.expand(0.0)\n",
    "\n",
    "decoded = decoded[decoded_epochs]\n",
    "\n",
    "print('decoded sequences:', decoded.n_samples)"
   ]
  },
  {
   "cell_type": "code",
   "execution_count": null,
   "metadata": {
    "ExecuteTime": {
     "end_time": "2017-09-05T12:39:16.883881",
     "start_time": "2017-09-05T12:39:16.879398"
    }
   },
   "outputs": [],
   "source": [
    "actual_x = np.interp(decoded.time, position.time, position.x)\n",
    "actual_y = np.interp(decoded.time, position.time, position.y)\n",
    "actual_position = nept.Position(np.hstack((actual_x[..., np.newaxis],\n",
    "                                           actual_y[..., np.newaxis])), decoded.time)"
   ]
  },
  {
   "cell_type": "code",
   "execution_count": null,
   "metadata": {
    "ExecuteTime": {
     "end_time": "2017-09-05T12:39:17.289861",
     "start_time": "2017-09-05T12:39:17.286859"
    }
   },
   "outputs": [],
   "source": [
    "errors = actual_position.distance(decoded)"
   ]
  },
  {
   "cell_type": "code",
   "execution_count": null,
   "metadata": {
    "ExecuteTime": {
     "end_time": "2017-09-05T12:39:17.670369",
     "start_time": "2017-09-05T12:39:17.663864"
    },
    "scrolled": true
   },
   "outputs": [],
   "source": [
    "errors"
   ]
  },
  {
   "cell_type": "code",
   "execution_count": null,
   "metadata": {
    "ExecuteTime": {
     "end_time": "2017-09-05T12:39:18.027215",
     "start_time": "2017-09-05T12:39:18.023212"
    }
   },
   "outputs": [],
   "source": [
    "print(np.mean(errors))"
   ]
  },
  {
   "cell_type": "code",
   "execution_count": null,
   "metadata": {
    "collapsed": true
   },
   "outputs": [],
   "source": []
  },
  {
   "cell_type": "code",
   "execution_count": null,
   "metadata": {
    "ExecuteTime": {
     "end_time": "2017-09-05T12:39:18.916789",
     "start_time": "2017-09-05T12:39:18.734667"
    }
   },
   "outputs": [],
   "source": [
    "start = decoded_epochs.start\n",
    "stop = decoded_epochs.stop\n",
    "\n",
    "dec = decoded.time_slice(start, stop)\n",
    "pos = test_position.time_slice(start, stop)\n",
    "\n",
    "plt.plot(pos.x, pos.y, '.', ms=7, color='g', markerfacecolor='none')\n",
    "plt.plot(dec.x, dec.y, '.', ms=7, color='r', markerfacecolor='none')\n",
    "\n",
    "plt.show()"
   ]
  },
  {
   "cell_type": "code",
   "execution_count": null,
   "metadata": {
    "ExecuteTime": {
     "end_time": "2017-09-05T12:39:19.316440",
     "start_time": "2017-09-05T12:39:19.142817"
    }
   },
   "outputs": [],
   "source": [
    "plt.plot(decoded.time, decoded.x, '.')\n",
    "plt.plot(test_position.time, test_position.x, '.')\n",
    "plt.show()"
   ]
  },
  {
   "cell_type": "code",
   "execution_count": null,
   "metadata": {
    "ExecuteTime": {
     "end_time": "2017-09-05T12:39:20.106949",
     "start_time": "2017-09-05T12:39:19.935327"
    }
   },
   "outputs": [],
   "source": [
    "plt.plot(decoded.time, decoded.y, '.')\n",
    "plt.plot(test_position.time, test_position.y, '.')\n",
    "plt.show()"
   ]
  },
  {
   "cell_type": "code",
   "execution_count": null,
   "metadata": {
    "collapsed": true
   },
   "outputs": [],
   "source": []
  },
  {
   "cell_type": "code",
   "execution_count": null,
   "metadata": {
    "collapsed": true
   },
   "outputs": [],
   "source": []
  }
 ],
 "metadata": {
  "kernelspec": {
   "display_name": "Python 3",
   "language": "python",
   "name": "python3"
  },
  "language_info": {
   "codemirror_mode": {
    "name": "ipython",
    "version": 3
   },
   "file_extension": ".py",
   "mimetype": "text/x-python",
   "name": "python",
   "nbconvert_exporter": "python",
   "pygments_lexer": "ipython3",
   "version": "3.6.1"
  },
  "toc": {
   "colors": {
    "hover_highlight": "#DAA520",
    "running_highlight": "#FF0000",
    "selected_highlight": "#FFD700"
   },
   "moveMenuLeft": true,
   "nav_menu": {
    "height": "12px",
    "width": "252px"
   },
   "navigate_menu": true,
   "number_sections": true,
   "sideBar": true,
   "threshold": 4,
   "toc_cell": false,
   "toc_section_display": "block",
   "toc_window_display": false
  }
 },
 "nbformat": 4,
 "nbformat_minor": 2
}
