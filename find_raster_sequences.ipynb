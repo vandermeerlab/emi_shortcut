{
 "cells": [
  {
   "cell_type": "code",
   "execution_count": 6,
   "metadata": {
    "collapsed": false
   },
   "outputs": [],
   "source": [
    "# %matplotlib inline\n",
    "import numpy as np\n",
    "import matplotlib.pyplot as plt\n",
    "from shapely.geometry import Point, LineString\n",
    "import pickle\n",
    "import seaborn as sns\n",
    "import os\n",
    "\n",
    "import vdmlab as vdm\n",
    "\n",
    "from load_data import get_pos, get_spikes, get_lfp\n",
    "from analyze_tuning_curves import get_tc_1d, get_odd_firing_idx, find_ideal\n",
    "\n",
    "import info.r063d3\n",
    "import info.r066d4"
   ]
  },
  {
   "cell_type": "code",
   "execution_count": 7,
   "metadata": {
    "collapsed": true
   },
   "outputs": [],
   "source": [
    "sns.set_style('white')\n",
    "sns.set_style('ticks')"
   ]
  },
  {
   "cell_type": "code",
   "execution_count": 8,
   "metadata": {
    "collapsed": true
   },
   "outputs": [],
   "source": [
    "pickle_filepath = 'E:\\\\code\\\\emi_shortcut\\\\cache\\\\pickled\\\\'\n",
    "output_filepath = 'E:\\\\code\\\\emi_shortcut\\\\plots\\\\sequence\\\\'\n",
    "# pickle_filepath = 'C:\\\\Users\\\\Emily\\\\Code\\\\emily_shortcut\\\\cache\\\\pickled\\\\'\n",
    "# output_filepath = 'C:\\\\Users\\\\Emily\\\\Code\\\\emily_shortcut\\\\plots\\\\sequence\\\\'"
   ]
  },
  {
   "cell_type": "code",
   "execution_count": 9,
   "metadata": {
    "collapsed": true
   },
   "outputs": [],
   "source": [
    "info = info.r063d3"
   ]
  },
  {
   "cell_type": "code",
   "execution_count": 11,
   "metadata": {
    "collapsed": false
   },
   "outputs": [
    {
     "name": "stdout",
     "output_type": "stream",
     "text": [
      "R063d3\n"
     ]
    }
   ],
   "source": [
    "print(info.session_id)\n",
    "pos = get_pos(info.pos_mat, info.pxl_to_cm)\n",
    "csc = get_lfp(info.good_swr[0])\n",
    "spikes = get_spikes(info.spike_mat)"
   ]
  },
  {
   "cell_type": "code",
   "execution_count": 13,
   "metadata": {
    "collapsed": false
   },
   "outputs": [
    {
     "name": "stdout",
     "output_type": "stream",
     "text": [
      "1 of 116 neurons completed!\n",
      "2 of 116 neurons completed!\n",
      "3 of 116 neurons completed!\n",
      "4 of 116 neurons completed!\n",
      "5 of 116 neurons completed!\n",
      "6 of 116 neurons completed!\n",
      "7 of 116 neurons completed!\n",
      "8 of 116 neurons completed!\n",
      "9 of 116 neurons completed!\n",
      "10 of 116 neurons completed!\n",
      "11 of 116 neurons completed!\n",
      "12 of 116 neurons completed!\n",
      "13 of 116 neurons completed!\n",
      "14 of 116 neurons completed!\n",
      "15 of 116 neurons completed!\n",
      "16 of 116 neurons completed!\n",
      "17 of 116 neurons completed!\n",
      "18 of 116 neurons completed!\n",
      "19 of 116 neurons completed!\n",
      "20 of 116 neurons completed!\n",
      "21 of 116 neurons completed!\n",
      "22 of 116 neurons completed!\n",
      "23 of 116 neurons completed!\n",
      "24 of 116 neurons completed!\n",
      "25 of 116 neurons completed!\n",
      "26 of 116 neurons completed!\n",
      "27 of 116 neurons completed!\n",
      "28 of 116 neurons completed!\n",
      "29 of 116 neurons completed!\n",
      "30 of 116 neurons completed!\n",
      "31 of 116 neurons completed!\n",
      "32 of 116 neurons completed!\n",
      "33 of 116 neurons completed!\n",
      "34 of 116 neurons completed!\n",
      "35 of 116 neurons completed!\n",
      "36 of 116 neurons completed!\n",
      "37 of 116 neurons completed!\n",
      "38 of 116 neurons completed!\n",
      "39 of 116 neurons completed!\n",
      "40 of 116 neurons completed!\n",
      "41 of 116 neurons completed!\n",
      "42 of 116 neurons completed!\n",
      "43 of 116 neurons completed!\n",
      "44 of 116 neurons completed!\n",
      "45 of 116 neurons completed!\n",
      "46 of 116 neurons completed!\n",
      "47 of 116 neurons completed!\n",
      "48 of 116 neurons completed!\n",
      "49 of 116 neurons completed!\n",
      "50 of 116 neurons completed!\n",
      "51 of 116 neurons completed!\n",
      "52 of 116 neurons completed!\n",
      "53 of 116 neurons completed!\n",
      "54 of 116 neurons completed!\n",
      "55 of 116 neurons completed!\n",
      "56 of 116 neurons completed!\n",
      "57 of 116 neurons completed!\n",
      "58 of 116 neurons completed!\n",
      "59 of 116 neurons completed!\n",
      "60 of 116 neurons completed!\n",
      "61 of 116 neurons completed!\n",
      "62 of 116 neurons completed!\n",
      "63 of 116 neurons completed!\n",
      "64 of 116 neurons completed!\n",
      "65 of 116 neurons completed!\n",
      "66 of 116 neurons completed!\n",
      "67 of 116 neurons completed!\n",
      "68 of 116 neurons completed!\n",
      "69 of 116 neurons completed!\n",
      "70 of 116 neurons completed!\n",
      "71 of 116 neurons completed!\n",
      "72 of 116 neurons completed!\n",
      "73 of 116 neurons completed!\n",
      "74 of 116 neurons completed!\n",
      "75 of 116 neurons completed!\n",
      "76 of 116 neurons completed!\n",
      "77 of 116 neurons completed!\n",
      "78 of 116 neurons completed!\n",
      "79 of 116 neurons completed!\n",
      "80 of 116 neurons completed!\n",
      "81 of 116 neurons completed!\n",
      "82 of 116 neurons completed!\n",
      "83 of 116 neurons completed!\n",
      "84 of 116 neurons completed!\n",
      "85 of 116 neurons completed!\n",
      "86 of 116 neurons completed!\n",
      "87 of 116 neurons completed!\n",
      "88 of 116 neurons completed!\n",
      "89 of 116 neurons completed!\n",
      "90 of 116 neurons completed!\n",
      "91 of 116 neurons completed!\n",
      "92 of 116 neurons completed!\n",
      "93 of 116 neurons completed!\n",
      "94 of 116 neurons completed!\n",
      "95 of 116 neurons completed!\n",
      "96 of 116 neurons completed!\n",
      "97 of 116 neurons completed!\n",
      "98 of 116 neurons completed!\n",
      "99 of 116 neurons completed!\n",
      "100 of 116 neurons completed!\n",
      "101 of 116 neurons completed!\n",
      "102 of 116 neurons completed!\n",
      "103 of 116 neurons completed!\n",
      "104 of 116 neurons completed!\n",
      "105 of 116 neurons completed!\n",
      "106 of 116 neurons completed!\n",
      "107 of 116 neurons completed!\n",
      "108 of 116 neurons completed!\n",
      "109 of 116 neurons completed!\n",
      "110 of 116 neurons completed!\n",
      "111 of 116 neurons completed!\n",
      "112 of 116 neurons completed!\n",
      "113 of 116 neurons completed!\n",
      "114 of 116 neurons completed!\n",
      "115 of 116 neurons completed!\n",
      "116 of 116 neurons completed!\n",
      "Tuning curve with no filter.\n",
      "Tuning curve with no filter.\n",
      "Tuning curve with no filter.\n"
     ]
    },
    {
     "ename": "FileNotFoundError",
     "evalue": "[Errno 2] No such file or directory: 'E:\\\\code\\\\emi_shortcut\\\\cache\\\\pickled\\\\'",
     "output_type": "error",
     "traceback": [
      "\u001b[0;31m---------------------------------------------------------------------------\u001b[0m",
      "\u001b[0;31mFileNotFoundError\u001b[0m                         Traceback (most recent call last)",
      "\u001b[0;32m<ipython-input-13-22295a0d2e4a>\u001b[0m in \u001b[0;36m<module>\u001b[0;34m()\u001b[0m\n\u001b[0;32m----> 1\u001b[0;31m \u001b[0mtc\u001b[0m \u001b[0;34m=\u001b[0m \u001b[0mget_tc_1d\u001b[0m\u001b[0;34m(\u001b[0m\u001b[0minfo\u001b[0m\u001b[0;34m,\u001b[0m \u001b[0mpos\u001b[0m\u001b[0;34m,\u001b[0m \u001b[0mspikes\u001b[0m\u001b[0;34m,\u001b[0m \u001b[0mpickle_filepath\u001b[0m\u001b[0;34m,\u001b[0m \u001b[0mbinsize\u001b[0m\u001b[0;34m=\u001b[0m\u001b[0;36m3\u001b[0m\u001b[0;34m,\u001b[0m \u001b[0mexpand_by\u001b[0m\u001b[0;34m=\u001b[0m\u001b[0;36m6\u001b[0m\u001b[0;34m)\u001b[0m\u001b[0;34m\u001b[0m\u001b[0m\n\u001b[0m\u001b[1;32m      2\u001b[0m \u001b[0mswr_times\u001b[0m\u001b[0;34m,\u001b[0m \u001b[0mswr_idx\u001b[0m\u001b[0;34m,\u001b[0m \u001b[0mfiltered_butter\u001b[0m \u001b[0;34m=\u001b[0m \u001b[0mvdm\u001b[0m\u001b[0;34m.\u001b[0m\u001b[0mdetect_swr_hilbert\u001b[0m\u001b[0;34m(\u001b[0m\u001b[0mcsc\u001b[0m\u001b[0;34m,\u001b[0m \u001b[0mfs\u001b[0m\u001b[0;34m=\u001b[0m\u001b[0minfo\u001b[0m\u001b[0;34m.\u001b[0m\u001b[0mfs\u001b[0m\u001b[0;34m)\u001b[0m\u001b[0;34m\u001b[0m\u001b[0m\n",
      "\u001b[0;32mE:\\code\\emi_shortcut\\analyze_tuning_curves.py\u001b[0m in \u001b[0;36mget_tc_1d\u001b[0;34m(info, position, spikes, pickled_tc, binsize, expand_by, sampling_rate)\u001b[0m\n\u001b[1;32m    163\u001b[0m         \u001b[0mtuning_curves\u001b[0m\u001b[0;34m[\u001b[0m\u001b[0;34m'novel'\u001b[0m\u001b[0;34m]\u001b[0m \u001b[0;34m=\u001b[0m \u001b[0;32mNone\u001b[0m\u001b[0;34m\u001b[0m\u001b[0m\n\u001b[1;32m    164\u001b[0m \u001b[0;34m\u001b[0m\u001b[0m\n\u001b[0;32m--> 165\u001b[0;31m     \u001b[0;32mwith\u001b[0m \u001b[0mopen\u001b[0m\u001b[0;34m(\u001b[0m\u001b[0mpickled_tc\u001b[0m\u001b[0;34m,\u001b[0m \u001b[0;34m'wb'\u001b[0m\u001b[0;34m)\u001b[0m \u001b[0;32mas\u001b[0m \u001b[0mfileobj\u001b[0m\u001b[0;34m:\u001b[0m\u001b[0;34m\u001b[0m\u001b[0m\n\u001b[0m\u001b[1;32m    166\u001b[0m         \u001b[0mpickle\u001b[0m\u001b[0;34m.\u001b[0m\u001b[0mdump\u001b[0m\u001b[0;34m(\u001b[0m\u001b[0mtuning_curves\u001b[0m\u001b[0;34m,\u001b[0m \u001b[0mfileobj\u001b[0m\u001b[0;34m)\u001b[0m\u001b[0;34m\u001b[0m\u001b[0m\n\u001b[1;32m    167\u001b[0m \u001b[0;34m\u001b[0m\u001b[0m\n",
      "\u001b[0;31mFileNotFoundError\u001b[0m: [Errno 2] No such file or directory: 'E:\\\\code\\\\emi_shortcut\\\\cache\\\\pickled\\\\'"
     ]
    }
   ],
   "source": [
    "tc = get_tc_1d(info, pos, spikes, pickle_filepath, binsize=3, expand_by=6)\n",
    "swr_times, swr_idx, filtered_butter = vdm.detect_swr_hilbert(csc, fs=info.fs)"
   ]
  },
  {
   "cell_type": "code",
   "execution_count": null,
   "metadata": {
    "collapsed": true
   },
   "outputs": [],
   "source": []
  },
  {
   "cell_type": "code",
   "execution_count": null,
   "metadata": {
    "collapsed": true
   },
   "outputs": [],
   "source": [
    "colours = ['#bd0026', '#fc4e2a', '#ef3b2c', '#ec7014', '#fe9929', \n",
    "           '#78c679', '#41ab5d', '#238443', '#66c2a4', '#41b6c4', \n",
    "           '#1d91c0', '#8c6bb1', '#225ea8', '#88419d', '#ae017e', \n",
    "           '#dd3497', '#f768a1', '#fcbba1', '#fc9272', '#fb6a4a', \n",
    "           '#e31a1c', '#fb6a4a', '#993404', '#b30000', '#800026',\n",
    "           '#bd0026', '#fc4e2a', '#fb6a4a', '#ef3b2c', '#ec7014', \n",
    "           '#fe9929', '#78c679', '#41ab5d', '#238443', '#66c2a4', \n",
    "           '#41b6c4', '#1d91c0', '#8c6bb1', '#225ea8', '#88419d', \n",
    "           '#ae017e', '#dd3497', '#f768a1', '#fcbba1', '#fc9272', \n",
    "           '#fb6a4a', '#e31a1c', '#fb6a4a', '#993404', '#b30000']"
   ]
  },
  {
   "cell_type": "code",
   "execution_count": null,
   "metadata": {
    "collapsed": false
   },
   "outputs": [],
   "source": [
    "all_u_fields = vdm.find_fields(tc['u'], hz_thresh=8, min_length=3, max_length=15)\n",
    "all_shortcut_fields = vdm.find_fields(tc['shortcut'], hz_thresh=8, min_length=3, max_length=15)\n",
    "all_novel_fields = vdm.find_fields(tc['novel'], hz_thresh=8, min_length=3, max_length=15)\n",
    "\n",
    "u_fields = vdm.get_single_field(all_u_fields)\n",
    "shortcut_fields = vdm.get_single_field(all_shortcut_fields)\n",
    "novel_fields = vdm.get_single_field(all_novel_fields)"
   ]
  },
  {
   "cell_type": "code",
   "execution_count": null,
   "metadata": {
    "collapsed": false
   },
   "outputs": [],
   "source": [
    "this_tc = tc['shortcut']\n",
    "\n",
    "sort_idx = vdm.get_sort_idx(this_tc)\n",
    "\n",
    "odd_firing_idx = get_odd_firing_idx(this_tc, max_mean_firing=10)\n",
    "\n",
    "these_fields = []\n",
    "for key in shortcut_fields:\n",
    "    these_fields.append(key)\n",
    "\n",
    "field_spikes = []\n",
    "field_tc = []\n",
    "for idx in sort_idx:\n",
    "    if idx not in odd_firing_idx:\n",
    "        if idx in these_fields:\n",
    "            field_spikes.append(spikes['time'][idx])\n",
    "            field_tc.append(this_tc[idx])"
   ]
  },
  {
   "cell_type": "code",
   "execution_count": null,
   "metadata": {
    "collapsed": false
   },
   "outputs": [],
   "source": [
    "t_start = info.task_times['prerecord'][0]\n",
    "t_stop = info.task_times['postrecord'][1]\n",
    "linear, zone = linearize(info, pos, t_start, t_stop, expand_by=2)"
   ]
  },
  {
   "cell_type": "code",
   "execution_count": null,
   "metadata": {
    "collapsed": true
   },
   "outputs": [],
   "source": [
    "this_linear = linear['shortcut']"
   ]
  },
  {
   "cell_type": "code",
   "execution_count": null,
   "metadata": {
    "collapsed": false
   },
   "outputs": [],
   "source": [
    "print(len(these_fields))"
   ]
  },
  {
   "cell_type": "code",
   "execution_count": null,
   "metadata": {
    "collapsed": true
   },
   "outputs": [],
   "source": [
    "# swr = 1991\n",
    "# # for swr in [2090, 2196]:\n",
    "\n",
    "# print(swr)\n",
    "ms = 10\n",
    "loc = 1\n",
    "\n",
    "# start_time = info.task_times['postrecord'][0]\n",
    "# stop_time = info.task_times['postrecord'][1]\n",
    "\n",
    "# start_time_swr = info.task_times['postrecord'][0]\n",
    "# stop_time_swr = info.task_times['postrecord'][0]+1\n",
    "\n",
    "start_time = 15529\n",
    "stop_time = 15573\n",
    "\n",
    "start_time_swr = 16763.8\n",
    "stop_time_swr = 16764.8\n",
    "\n",
    "# start_time_swr = 16843.9\n",
    "# stop_time_swr = 16844.2\n",
    "\n",
    "\n",
    "# for i, (start_time, stop_time, start_time_swr, stop_time_swr) in enumerate(zip(info.sequence['run_start'], \n",
    "#                                                                                info.sequence['run_stop'], \n",
    "#                                                                                info.sequence['swr_start'], \n",
    "#                                                                                info.sequence['swr_stop'])):\n",
    "spike_loc = 2\n",
    "\n",
    "rows = len(field_spikes)+1\n",
    "cols = 7\n",
    "fig = plt.figure()\n",
    "ax1 = plt.subplot2grid((rows, cols), (0, 1), rowspan=rows, colspan=4)\n",
    "ax2 = plt.subplot2grid((rows, cols), (0, 5), rowspan=rows, colspan=2)\n",
    "\n",
    "max_position = np.zeros(len(this_linear['time']))\n",
    "max_position.fill(np.max(this_linear['position']/90))\n",
    "ax1.plot(this_linear['time'], max_position, color='#bdbdbd', lw=1)\n",
    "ax1.plot(this_linear['time'], this_linear['position']/90, 'b.', ms=4)\n",
    "ax1.plot(csc['time'], csc['data']*800+1.25, 'k', lw=1)\n",
    "\n",
    "for sw_start, sw_stop in zip(swr_idx['start'], swr_idx['stop']):\n",
    "    ax1.plot(csc['time'][sw_start:sw_stop], csc['data'][sw_start:sw_stop]*800+1.25, 'r', lw=2)\n",
    "    \n",
    "for idx, neuron_spikes in enumerate(field_spikes):\n",
    "    ax1.plot(neuron_spikes, np.ones(len(neuron_spikes))+(idx*spike_loc+3), '|', \n",
    "             color=colours[int(np.floor((idx*spike_loc+3)/spike_loc))], ms=ms, mew=2)\n",
    "ax1.set_xlim([start_time, stop_time])\n",
    "ax1.set_ylim([0, len(field_spikes)*spike_loc+3])\n",
    "vdm.add_scalebar(ax1, matchy=False, loc=loc)\n",
    "# plt.setp(ax1, xticks=[], xticklabels=[], yticks=[])\n",
    "\n",
    "ax2.plot(csc['time'], csc['data']*1000+1.25, 'k', lw=1)\n",
    "ax2.plot(csc['time'], filtered_butter*1000+0.5, 'b', lw=1)\n",
    "for sw_start, sw_stop in zip(swr_idx['start'], swr_idx['stop']):\n",
    "    ax2.plot(csc['time'][sw_start:sw_stop], csc['data'][sw_start:sw_stop]*1000+1.25, 'r', lw=2)\n",
    "\n",
    "for j, neuron_spikes in enumerate(field_spikes):\n",
    "    ax2.plot(neuron_spikes, np.ones(len(neuron_spikes))+(j*spike_loc+3), '|', \n",
    "             color=colours[int(np.floor((j*spike_loc+3)/spike_loc))], ms=ms, mew=2)\n",
    "ax2.set_xlim([start_time_swr, stop_time_swr])\n",
    "ax2.set_ylim([0, len(field_spikes)*spike_loc+3])\n",
    "vdm.add_scalebar(ax2, matchy=False, loc=loc)\n",
    "# plt.setp(ax2, xticks=[], xticklabels=[], yticks=[])\n",
    "\n",
    "x = list(range(0, len(field_tc[0])))\n",
    "\n",
    "for ax_loc in range(0, rows-1):\n",
    "    ax = plt.subplot2grid((rows, cols), (ax_loc, 0))\n",
    "\n",
    "    idx = rows - ax_loc - 1\n",
    "    ax.plot(field_tc[idx-1], color=colours[idx-1])\n",
    "    ax.fill_between(x, 0, field_tc[idx-1], facecolor=colours[idx-1])\n",
    "    max_loc = np.where(field_tc[idx-1] == np.max(field_tc[idx-1]))[0][0]\n",
    "    ax.text(max_loc-3, 1, str(int(np.ceil(np.max(field_tc[idx-1])))))\n",
    "    ax.spines['right'].set_visible(False)\n",
    "    ax.spines['top'].set_visible(False)\n",
    "    plt.setp(ax, xticks=[], xticklabels=[], yticks=[])\n",
    "\n",
    "sns.despine()\n",
    "plt.show()\n",
    "#     filename = info.session_id + '_sequence-swr' + str(i) + '.png'\n",
    "#     print(filename)\n",
    "#     savepath = os.path.join(output_filepath, filename)\n",
    "#     plt.savefig(savepath, dpi=300, bbox_inches='tight')\n",
    "#     plt.close()"
   ]
  },
  {
   "cell_type": "code",
   "execution_count": null,
   "metadata": {
    "collapsed": true
   },
   "outputs": [],
   "source": []
  }
 ],
 "metadata": {
  "kernelspec": {
   "display_name": "Python 3",
   "language": "python",
   "name": "python3"
  },
  "language_info": {
   "codemirror_mode": {
    "name": "ipython",
    "version": 3
   },
   "file_extension": ".py",
   "mimetype": "text/x-python",
   "name": "python",
   "nbconvert_exporter": "python",
   "pygments_lexer": "ipython3",
   "version": "3.5.2"
  }
 },
 "nbformat": 4,
 "nbformat_minor": 0
}
