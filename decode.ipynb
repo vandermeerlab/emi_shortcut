{
 "cells": [
  {
   "cell_type": "code",
   "execution_count": null,
   "metadata": {
    "ExecuteTime": {
     "end_time": "2017-04-17T12:54:03.471083",
     "start_time": "2017-04-17T12:54:02.734981"
    },
    "collapsed": true
   },
   "outputs": [],
   "source": [
    "import os\n",
    "import numpy as np\n",
    "import pickle\n",
    "from shapely.geometry import Point, LineString\n",
    "import matplotlib.pyplot as plt\n",
    "%matplotlib inline\n",
    "\n",
    "import nept\n",
    "\n",
    "from loading_data import get_data\n",
    "from utils_maze import find_zones, speed_threshold\n",
    "\n",
    "thisdir = os.path.realpath(os.getcwd())\n",
    "pickle_filepath = os.path.join(thisdir, 'cache', 'pickled')\n",
    "\n",
    "from analyze_decode import get_likelihoods, get_decoded"
   ]
  },
  {
   "cell_type": "code",
   "execution_count": null,
   "metadata": {
    "ExecuteTime": {
     "end_time": "2017-04-17T12:55:41.881574",
     "start_time": "2017-04-17T12:55:41.862580"
    },
    "collapsed": true
   },
   "outputs": [],
   "source": [
    "from run import spike_sorted_infos, info\n",
    "\n",
    "session = info.r063d2\n",
    "\n",
    "neurons_filename = session.session_id + '_neurons.pkl'\n",
    "pickled_neurons = os.path.join(pickle_filepath, neurons_filename)\n",
    "with open(pickled_neurons, 'rb') as fileobj:\n",
    "    neurons = pickle.load(fileobj)\n",
    " \n",
    "# For whole phase 3\n",
    "t_start = session.task_times[\"phase3\"].start\n",
    "t_stop = session.task_times[\"phase3\"].stop\n",
    "#t_start, t_stop = (5580, 5630)\n",
    "\n",
    "dargs = dict(sequence_speed=5.,\n",
    "             sequence_len=3,\n",
    "             min_epochs=3)\n",
    "largs = dict(speed_limit=0.4,\n",
    "             min_swr=3,\n",
    "             min_neurons=2,\n",
    "             min_spikes=1,\n",
    "             experiment_time=\"phase3\",\n",
    "             neurons=neurons,\n",
    "             shuffle_id=False,\n",
    "             info=session)"
   ]
  },
  {
   "cell_type": "code",
   "execution_count": null,
   "metadata": {
    "ExecuteTime": {
     "end_time": "2017-04-17T12:55:42.128640",
     "start_time": "2017-04-17T12:55:42.117616"
    },
    "collapsed": true
   },
   "outputs": [],
   "source": [
    "def analyze(window_size, window_advance, gaussian_std):\n",
    "    _largs = largs.copy()\n",
    "    _largs[\"window_size\"] = window_size\n",
    "    _largs[\"window_advance\"] = window_advance\n",
    "    _largs[\"gaussian_std\"] = gaussian_std\n",
    "    d = {}\n",
    "    \n",
    "    gl = get_likelihoods(**_largs)\n",
    "    d['likelihood'] = gl[0]\n",
    "    # print(gl[1])  # time_edges\n",
    "    d['decoded'], d['decoded_epochs'], d['errors'] = get_decoded(*gl, **dargs)\n",
    "    \n",
    "    print('window %.4f advancing in %.4f with %s std: %.3f' % (\n",
    "        window_size, window_advance, gaussian_std, np.mean(d['errors'])))\n",
    "    \n",
    "    return d"
   ]
  },
  {
   "cell_type": "code",
   "execution_count": null,
   "metadata": {
    "ExecuteTime": {
     "end_time": "2017-04-17T12:57:53.513559",
     "start_time": "2017-04-17T12:55:42.414693"
    },
    "collapsed": false,
    "scrolled": false
   },
   "outputs": [],
   "source": [
    "nooverlap = analyze(0.0125, 0.0125, 0.0075)\n",
    "overlap = analyze(0.025, 0.0125, None)\n",
    "both = analyze(0.025, 0.0125, 0.005)"
   ]
  },
  {
   "cell_type": "code",
   "execution_count": null,
   "metadata": {
    "ExecuteTime": {
     "end_time": "2017-04-17T12:57:53.518577",
     "start_time": "2017-04-17T12:57:53.514575"
    },
    "collapsed": false
   },
   "outputs": [],
   "source": [
    "print(nooverlap[\"errors\"].shape)\n",
    "print(overlap[\"errors\"].shape)\n",
    "print(both[\"errors\"].shape)"
   ]
  },
  {
   "cell_type": "code",
   "execution_count": null,
   "metadata": {
    "ExecuteTime": {
     "end_time": "2017-04-17T12:57:54.201942",
     "start_time": "2017-04-17T12:57:53.519578"
    },
    "collapsed": false
   },
   "outputs": [],
   "source": [
    "def hist(d):\n",
    "    plt.figure()\n",
    "    plt.hist(d[\"errors\"])\n",
    "\n",
    "hist(nooverlap)\n",
    "hist(overlap)\n",
    "hist(both)"
   ]
  },
  {
   "cell_type": "code",
   "execution_count": null,
   "metadata": {
    "ExecuteTime": {
     "end_time": "2017-04-17T12:57:54.210264",
     "start_time": "2017-04-17T12:57:54.201942"
    },
    "collapsed": true
   },
   "outputs": [],
   "source": [
    "def p(d, left, right):\n",
    "    t = d['decoded'].time\n",
    "    error = d['errors']\n",
    "    errorsig = nept.AnalogSignal(error, t).time_slice(left, right)\n",
    "    print(\"n_points: %d, mean error: %.3f\" % (\n",
    "        errorsig.n_samples, np.mean(errorsig.data)))\n",
    "    plt.plot(t, error, ls=\"none\", marker=\".\")\n",
    "    plt.xlim(left, right)\n",
    "    \n",
    "def comp(d1, d2, left, right):\n",
    "    plt.figure()\n",
    "    p(d1, left, right)\n",
    "    p(d2, left, right)"
   ]
  },
  {
   "cell_type": "code",
   "execution_count": null,
   "metadata": {
    "ExecuteTime": {
     "end_time": "2017-04-17T12:57:54.474452",
     "start_time": "2017-04-17T12:57:54.211265"
    },
    "collapsed": false
   },
   "outputs": [],
   "source": [
    "comp(overlap, nooverlap, 5400, 8200)"
   ]
  },
  {
   "cell_type": "code",
   "execution_count": null,
   "metadata": {
    "ExecuteTime": {
     "end_time": "2017-04-17T12:57:54.719366",
     "start_time": "2017-04-17T12:57:54.476453"
    },
    "collapsed": false
   },
   "outputs": [],
   "source": [
    "comp(both, nooverlap, 5400, 8200)"
   ]
  },
  {
   "cell_type": "code",
   "execution_count": null,
   "metadata": {
    "ExecuteTime": {
     "end_time": "2017-04-17T12:57:55.014591",
     "start_time": "2017-04-17T12:57:54.720366"
    },
    "collapsed": false
   },
   "outputs": [],
   "source": [
    "comp(overlap, nooverlap, t_start+20, t_start+120)"
   ]
  },
  {
   "cell_type": "code",
   "execution_count": null,
   "metadata": {
    "collapsed": true
   },
   "outputs": [],
   "source": []
  }
 ],
 "metadata": {
  "kernelspec": {
   "display_name": "Python 3",
   "language": "python",
   "name": "python3"
  },
  "language_info": {
   "codemirror_mode": {
    "name": "ipython",
    "version": 3
   },
   "file_extension": ".py",
   "mimetype": "text/x-python",
   "name": "python",
   "nbconvert_exporter": "python",
   "pygments_lexer": "ipython3",
   "version": "3.5.2"
  },
  "toc": {
   "colors": {
    "hover_highlight": "#DAA520",
    "running_highlight": "#FF0000",
    "selected_highlight": "#FFD700"
   },
   "moveMenuLeft": true,
   "nav_menu": {
    "height": "12px",
    "width": "252px"
   },
   "navigate_menu": true,
   "number_sections": true,
   "sideBar": true,
   "threshold": 4,
   "toc_cell": false,
   "toc_section_display": "block",
   "toc_window_display": false
  }
 },
 "nbformat": 4,
 "nbformat_minor": 2
}
