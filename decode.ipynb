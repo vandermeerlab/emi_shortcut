{
 "cells": [
  {
   "cell_type": "code",
   "execution_count": null,
   "metadata": {
    "collapsed": true
   },
   "outputs": [],
   "source": [
    "# %matplotlib inline\n",
    "import numpy as np\n",
    "import matplotlib.pyplot as plt\n",
    "from shapely.geometry import Point, LineString\n",
    "import pickle\n",
    "import seaborn as sns\n",
    "import os\n",
    "\n",
    "import vdmlab as vdm\n",
    "\n",
    "from tuning_curves_functions import get_tc, get_odd_firing_idx, linearize\n",
    "\n",
    "import info.R063d3_info as r063d3\n",
    "import info.R066d4_info as r066d4"
   ]
  },
  {
   "cell_type": "code",
   "execution_count": null,
   "metadata": {
    "collapsed": true
   },
   "outputs": [],
   "source": [
    "pickle_filepath = 'E:\\\\code\\\\python-vdmlab\\\\projects\\\\emily_shortcut\\\\cache\\\\pickled\\\\'\n",
    "output_filepath = 'E:\\\\code\\\\python-vdmlab\\\\projects\\\\emily_shortcut\\\\plots\\\\sequence\\\\'\n",
    "# pickle_filepath = 'C:\\\\Users\\\\Emily\\\\Code\\\\python-vdmlab\\\\projects\\\\emily_shortcut\\\\cache\\\\pickled\\\\'\n",
    "# output_filepath = 'C:\\\\Users\\\\Emily\\\\Code\\\\python-vdmlab\\\\projects\\\\emily_shortcut\\\\plots\\\\sequence\\\\'"
   ]
  },
  {
   "cell_type": "code",
   "execution_count": null,
   "metadata": {
    "collapsed": true
   },
   "outputs": [],
   "source": [
    "info = r063d3"
   ]
  },
  {
   "cell_type": "code",
   "execution_count": null,
   "metadata": {
    "collapsed": false
   },
   "outputs": [],
   "source": [
    "print(info.session_id)\n",
    "pos = info.get_pos(info.pxl_to_cm)\n",
    "\n",
    "t_start = info.task_times['phase2'][0]\n",
    "t_stop = info.task_times['phase2'][1]\n",
    "\n",
    "t_start_idx = vdm.find_nearest_idx(pos['time'], t_start)\n",
    "t_end_idx = vdm.find_nearest_idx(pos['time'], t_stop)\n",
    "\n",
    "sliced_pos = dict()\n",
    "sliced_pos['x'] = pos['x'][t_start_idx:t_end_idx]\n",
    "sliced_pos['y'] = pos['y'][t_start_idx:t_end_idx]\n",
    "sliced_pos['time'] = pos['time'][t_start_idx:t_end_idx]\n",
    "\n",
    "linear, zone = linearize(info, pos)\n",
    "\n",
    "spikes = info.get_spikes()\n",
    "\n",
    "tc = get_tc(info, sliced_pos, pickle_filepath)\n",
    "\n",
    "# sort_idx = vdm.get_sort_idx(tc['u'])\n",
    "# odd_firing_idx = get_odd_firing_idx(tc['u'])\n",
    "\n",
    "# ordered_spikes = spikes['time'][sort_idx]"
   ]
  },
  {
   "cell_type": "code",
   "execution_count": null,
   "metadata": {
    "collapsed": true
   },
   "outputs": [],
   "source": []
  },
  {
   "cell_type": "code",
   "execution_count": null,
   "metadata": {
    "collapsed": true
   },
   "outputs": [],
   "source": [
    "linear = linear['u']\n",
    "tc = np.array(tc['u'])\n",
    "\n",
    "dt = np.median(np.diff(linear['time']))\n",
    "edges = np.hstack((linear['time']-(dt/2), linear['time'][-1]))\n",
    "subsample = 6\n",
    "edges = edges[::subsample]\n",
    "counts = vdm.get_counts(spikes['time'], edges)"
   ]
  },
  {
   "cell_type": "code",
   "execution_count": null,
   "metadata": {
    "collapsed": true
   },
   "outputs": [],
   "source": [
    "plt.pcolormesh(counts[:,:100])\n",
    "plt.colorbar()\n",
    "plt.show()"
   ]
  },
  {
   "cell_type": "code",
   "execution_count": null,
   "metadata": {
    "collapsed": true
   },
   "outputs": [],
   "source": [
    "centers = edges[:-1] + np.median(np.diff(edges))/2\n",
    "prob = vdm.bayesian_prob(counts, tc, centers)"
   ]
  },
  {
   "cell_type": "code",
   "execution_count": null,
   "metadata": {
    "collapsed": true
   },
   "outputs": [],
   "source": [
    "plt.pcolormesh(prob[200::-1])\n",
    "plt.colorbar()\n",
    "plt.show()"
   ]
  },
  {
   "cell_type": "code",
   "execution_count": null,
   "metadata": {
    "collapsed": false
   },
   "outputs": [],
   "source": [
    "decoded_position = vdm.decode_location(prob, linear)\n",
    "\n",
    "decoded = dict()\n",
    "decoded['time'] = centers\n",
    "decoded['position'] = decoded_position\n",
    "\n",
    "actual_idx = vdm.find_nearest_indices(linear['time'], decoded['time'])\n",
    "actual_location = linear['position'][actual_idx]\n",
    "\n",
    "# decoded['position'][np.isnan(decoded['position'])] = 0\n",
    "decode_error = np.abs(actual_location - decoded['position'])\n",
    "print(np.mean(decode_error))"
   ]
  },
  {
   "cell_type": "code",
   "execution_count": null,
   "metadata": {
    "collapsed": false
   },
   "outputs": [],
   "source": [
    "plt.plot(decoded['time'], decoded['position'], 'b.')\n",
    "plt.plot(linear['time'], linear['position'], 'r.')\n",
    "plt.show()"
   ]
  },
  {
   "cell_type": "code",
   "execution_count": null,
   "metadata": {
    "collapsed": true
   },
   "outputs": [],
   "source": []
  },
  {
   "cell_type": "code",
   "execution_count": null,
   "metadata": {
    "collapsed": false
   },
   "outputs": [],
   "source": [
    "def find_jumps(decoded, min_idx_length=3, max_idx_jump=20):\n",
    "    \"\"\"Finds intervals of decoded position that are within jump limits.\n",
    "    \n",
    "    Parameters\n",
    "    ----------\n",
    "    decoded : np.array\n",
    "        Estimate of decoded location (floats) for each time bin.\n",
    "    min_idx_length : int\n",
    "        Minimum number of bins to be considered a sequence.\n",
    "    max_idx_jump : int\n",
    "        Maximum number of bins to break a sequence.\n",
    "    \n",
    "    Returns\n",
    "    -------\n",
    "    sequences : dict\n",
    "        With time (tuple of floats), index (tuple of ints) as keys.\n",
    "        Where start, stop are [0], [1] of each tuple.\n",
    "    \n",
    "    \"\"\"\n",
    "    previous_position = -100\n",
    "    start_idx = []\n",
    "    sequences = dict(time=[], index=[])\n",
    "\n",
    "    for idx, position in enumerate(decoded['position']):\n",
    "        this_jump = np.abs(position - previous_position)\n",
    "        if this_jump <= max_idx_jump:\n",
    "            if len(start_idx) < 1:\n",
    "                start_idx.append(idx-1)\n",
    "            else:\n",
    "                if ((idx-1) - start_idx[0]) >= min_idx_length:\n",
    "                    sequences['time'].append((decoded['time'][start_idx[0]], decoded['time'][idx-1]))\n",
    "                    sequences['index'].append((start_idx[0], idx-1))\n",
    "                    start_idx = []\n",
    "        previous_position = position\n",
    "    \n",
    "    return sequences\n",
    "        "
   ]
  },
  {
   "cell_type": "code",
   "execution_count": null,
   "metadata": {
    "collapsed": false
   },
   "outputs": [],
   "source": [
    "print(sequences['time'][:10], sequences['index'][:10])"
   ]
  },
  {
   "cell_type": "code",
   "execution_count": null,
   "metadata": {
    "collapsed": true
   },
   "outputs": [],
   "source": [
    "plt.plot(linear['time'], linear['position'], 'r.')\n",
    "for seq in sequences['index']:\n",
    "    plt.plot(decoded['time'][seq[0]:seq[1]], decoded['position'][seq[0]:seq[1]], 'b.')\n",
    "\n",
    "plt.show()"
   ]
  },
  {
   "cell_type": "code",
   "execution_count": null,
   "metadata": {
    "collapsed": false
   },
   "outputs": [],
   "source": [
    "avg_error = []\n",
    "decoded['position'][np.isnan(decoded['position'])] = 0\n",
    "for seq in sequences['index']:\n",
    "    decode_error = np.abs(actual_location[seq[0]:seq[1]] - decoded['position'][seq[0]:seq[1]])\n",
    "    avg_error.append(np.mean(decode_error))\n",
    "print(np.mean(avg_error))"
   ]
  },
  {
   "cell_type": "code",
   "execution_count": null,
   "metadata": {
    "collapsed": true
   },
   "outputs": [],
   "source": []
  },
  {
   "cell_type": "code",
   "execution_count": null,
   "metadata": {
    "collapsed": true
   },
   "outputs": [],
   "source": []
  },
  {
   "cell_type": "code",
   "execution_count": null,
   "metadata": {
    "collapsed": false
   },
   "outputs": [],
   "source": [
    "dt = np.median(np.diff(linear['u']['time']))\n",
    "\n",
    "edges = np.hstack(((linear['u']['time']-dt)/2, linear['u']['time'][-1]))\n",
    "subsample = 6\n",
    "edges = edges[np.arange(1, len(edges)+1, 6)]\n",
    "\n",
    "centers = (edges[:-1] + dt)/2"
   ]
  },
  {
   "cell_type": "code",
   "execution_count": null,
   "metadata": {
    "collapsed": true
   },
   "outputs": [],
   "source": []
  },
  {
   "cell_type": "code",
   "execution_count": null,
   "metadata": {
    "collapsed": false
   },
   "outputs": [],
   "source": [
    "position_z = linear['u']\n",
    "num_bins = 101\n",
    "\n",
    "linear_start = np.min(position_z['time'])\n",
    "linear_stop = np.max(position_z['time'])\n",
    "edges = np.linspace(linear_start, linear_stop, num=num_bins)\n",
    "centers = np.array((edges[1:] + edges[:-1]) / 2.)\n",
    "\n",
    "# occupancy = np.zeros(len(centers))"
   ]
  },
  {
   "cell_type": "code",
   "execution_count": null,
   "metadata": {
    "collapsed": false
   },
   "outputs": [],
   "source": [
    "intervals = dict()\n",
    "intervals['start'] = edges[:-2]\n",
    "intervals['stop'] = edges[1:-1]\n",
    "\n",
    "counts = vdm.spike_counts(spikes['time'], intervals)"
   ]
  },
  {
   "cell_type": "code",
   "execution_count": null,
   "metadata": {
    "collapsed": false
   },
   "outputs": [],
   "source": [
    "print(np.min(counts), np.max(counts))"
   ]
  },
  {
   "cell_type": "code",
   "execution_count": null,
   "metadata": {
    "collapsed": false
   },
   "outputs": [],
   "source": [
    "print(np.shape(counts))"
   ]
  },
  {
   "cell_type": "code",
   "execution_count": null,
   "metadata": {
    "collapsed": false
   },
   "outputs": [],
   "source": [
    "print(intervals['start'][0:5], intervals['stop'][0:5])"
   ]
  },
  {
   "cell_type": "code",
   "execution_count": null,
   "metadata": {
    "collapsed": true
   },
   "outputs": [],
   "source": [
    "plt.plot(counts)\n",
    "plt.show()"
   ]
  },
  {
   "cell_type": "markdown",
   "metadata": {},
   "source": [
    "# From matlab"
   ]
  },
  {
   "cell_type": "code",
   "execution_count": null,
   "metadata": {
    "collapsed": false
   },
   "outputs": [],
   "source": [
    "import scipy.io as sio\n",
    "loading_decoder = sio.loadmat('C:\\\\Users\\\\Emily\\\\Desktop\\\\_decoding.mat')"
   ]
  },
  {
   "cell_type": "code",
   "execution_count": null,
   "metadata": {
    "collapsed": true
   },
   "outputs": [],
   "source": [
    "decode = dict(time=[])\n",
    "decode['spikes'] = loading_decoder['pyspikes'][0]\n",
    "decode['ztime'] = loading_decoder['pyztime'][0]\n",
    "decode['zdata'] = loading_decoder['pyzdata'][0]\n",
    "decode['tc'] = loading_decoder['pytc']"
   ]
  },
  {
   "cell_type": "code",
   "execution_count": null,
   "metadata": {
    "collapsed": false
   },
   "outputs": [],
   "source": [
    "print(np.shape(decode['tc']))"
   ]
  },
  {
   "cell_type": "code",
   "execution_count": null,
   "metadata": {
    "collapsed": false
   },
   "outputs": [],
   "source": [
    "dt = np.median(np.diff(decode['ztime']))\n",
    "\n",
    "edges = np.hstack((decode['ztime']-(dt/2), decode['ztime'][-1]))\n",
    "subsample = 6\n",
    "edges = edges[::subsample]"
   ]
  },
  {
   "cell_type": "code",
   "execution_count": null,
   "metadata": {
    "collapsed": false
   },
   "outputs": [],
   "source": [
    "print(len(edges), np.min(edges), np.max(edges))"
   ]
  },
  {
   "cell_type": "code",
   "execution_count": null,
   "metadata": {
    "collapsed": true
   },
   "outputs": [],
   "source": [
    "this_dt = np.median(np.diff(edges))"
   ]
  },
  {
   "cell_type": "code",
   "execution_count": null,
   "metadata": {
    "collapsed": false
   },
   "outputs": [],
   "source": [
    "print(this_dt, dt)"
   ]
  },
  {
   "cell_type": "code",
   "execution_count": null,
   "metadata": {
    "collapsed": false
   },
   "outputs": [],
   "source": [
    "decode['ztime'][:10]"
   ]
  },
  {
   "cell_type": "code",
   "execution_count": null,
   "metadata": {
    "collapsed": false
   },
   "outputs": [],
   "source": [
    "print(len(centers), np.min(centers), np.max(centers))"
   ]
  },
  {
   "cell_type": "code",
   "execution_count": null,
   "metadata": {
    "collapsed": false
   },
   "outputs": [],
   "source": [
    "from scipy import signal\n",
    "gaussian_std = 0.02 / this_dt\n",
    "gaussian_window = 1.0 / this_dt\n",
    "\n",
    "gaussian_filter = signal.gaussian(gaussian_window, gaussian_std)\n",
    "gaussian_filter /= np.sum(gaussian_filter)"
   ]
  },
  {
   "cell_type": "code",
   "execution_count": null,
   "metadata": {
    "collapsed": false
   },
   "outputs": [],
   "source": [
    "q = np.zeros((int(len(decode['spikes'])), int(len(edges)-1)))\n",
    "for idx, neuron_spikes in enumerate(decode['spikes']):\n",
    "    q[idx] = np.histogram(neuron_spikes, bins=edges)[0]\n",
    "    if gaussian_std > this_dt:\n",
    "        q[idx] = np.convolve(q[idx], gaussian_filter, mode='same')"
   ]
  },
  {
   "cell_type": "code",
   "execution_count": null,
   "metadata": {
    "collapsed": true
   },
   "outputs": [],
   "source": [
    "plt.plot(gaussian_filter)\n",
    "plt.show()"
   ]
  },
  {
   "cell_type": "code",
   "execution_count": null,
   "metadata": {
    "collapsed": false
   },
   "outputs": [],
   "source": [
    "plt.pcolormesh(q[:,:100])\n",
    "plt.colorbar()\n",
    "plt.show()"
   ]
  },
  {
   "cell_type": "code",
   "execution_count": null,
   "metadata": {
    "collapsed": false
   },
   "outputs": [],
   "source": [
    "print(np.shape(np.histogram(neuron_spikes, bins=edges)[0]))"
   ]
  },
  {
   "cell_type": "code",
   "execution_count": null,
   "metadata": {
    "collapsed": false
   },
   "outputs": [],
   "source": [
    "print(linear['u'].keys())"
   ]
  },
  {
   "cell_type": "code",
   "execution_count": null,
   "metadata": {
    "collapsed": true
   },
   "outputs": [],
   "source": []
  },
  {
   "cell_type": "code",
   "execution_count": null,
   "metadata": {
    "collapsed": false
   },
   "outputs": [],
   "source": [
    "def get_counts(spikes, edges, gaussian_std=0.02, gaussian_window=1.0):\n",
    "    \"\"\"Finds the number of spikes in each bin.\n",
    "    \n",
    "    Parameters\n",
    "    ----------\n",
    "    spikes : np.array\n",
    "        Where each inner array contains the spike times (floats) for an individual neuron.\n",
    "    edges : np.array\n",
    "        Bin edges for computing spike counts.\n",
    "    gaussian_std : float\n",
    "        Standard deviation for gaussian filter. Default set to 0.02. Normalized by bin size (dt).\n",
    "        Only uses filter if this value is greater than dt.\n",
    "    gaussian_window : float\n",
    "        Window for gaussian filter. Default set to 1.0. Normalized by bin size (dt).\n",
    "        Only uses filter if gaussian_std is greater than dt.\n",
    "    \n",
    "    Returns\n",
    "    -------\n",
    "    counts : np.array\n",
    "        Where each inner array is the number of spikes (int) in each bin for an individual neuron. \n",
    "    \n",
    "    \"\"\"\n",
    "    dt = np.median(np.diff(edges))\n",
    "    \n",
    "    apply_filter = False\n",
    "    gaussian_std /= dt\n",
    "    gaussian_window /= dt\n",
    "    \n",
    "    if gaussian_std > dt:\n",
    "        apply_filter = True\n",
    "    \n",
    "    if apply_filter:\n",
    "        gaussian_filter = signal.gaussian(gaussian_window, gaussian_std)\n",
    "        gaussian_filter /= np.sum(gaussian_filter)\n",
    "        \n",
    "    counts = np.zeros((int(len(spikes)), int(len(edges)-1)))\n",
    "    for idx, neuron_spikes in enumerate(spikes):\n",
    "        counts[idx] = np.histogram(neuron_spikes, bins=edges)[0]\n",
    "        if apply_filter:\n",
    "            counts[idx] = np.convolve(counts[idx], gaussian_filter, mode='same')\n",
    "    return counts"
   ]
  },
  {
   "cell_type": "code",
   "execution_count": null,
   "metadata": {
    "collapsed": false
   },
   "outputs": [],
   "source": [
    "# linear = dict()\n",
    "# linear['position'] = decode['zdata']\n",
    "# linear['time'] = decode['ztime']\n",
    "# spikes = dict()\n",
    "# spikes['time'] = decode['spikes']\n",
    "# tc = decode['tc']\n",
    "\n",
    "linear = linear['u']\n",
    "tc = np.array(tc['u'])\n",
    "\n",
    "dt = np.median(np.diff(linear['time']))\n",
    "edges = np.hstack((linear['time']-(dt/2), linear['time'][-1]))\n",
    "subsample = 6\n",
    "edges = edges[::subsample]\n",
    "counts = get_counts(spikes['time'], edges)"
   ]
  },
  {
   "cell_type": "code",
   "execution_count": null,
   "metadata": {
    "collapsed": true
   },
   "outputs": [],
   "source": [
    "plt.pcolormesh(counts[:,:100])\n",
    "plt.colorbar()\n",
    "plt.show()"
   ]
  },
  {
   "cell_type": "code",
   "execution_count": null,
   "metadata": {
    "collapsed": false
   },
   "outputs": [],
   "source": [
    "def bayesian_prob(counts, tuning_curves, centers, min_neurons=1, min_spikes=1):\n",
    "    \"\"\"Computes the bayesian probability of location based on spike counts.\n",
    "    \n",
    "    Parameters\n",
    "    ----------\n",
    "    counts : np.array\n",
    "        Where each inner array is the number of spikes (int) in each bin for an individual neuron. \n",
    "    tuning_curves : np.array\n",
    "        Where each inner array is the tuning curve (floats) for an individual neuron. \n",
    "    centers : np.array\n",
    "        Bin centers from computing spike counts, based on edges given to get_counts().\n",
    "    min_neurons : int\n",
    "        Mininum number of neurons active in a given bin. Default is 1.\n",
    "    min_spikes : int\n",
    "        Mininum number of spikes in a given bin. Default is 1.\n",
    "    \n",
    "    Returns\n",
    "    -------\n",
    "    prob : np.array\n",
    "        Where each inner array is the probability (floats) for an individual neuron by location bins. \n",
    "    \n",
    "    Notes\n",
    "    -----\n",
    "    If a bin does not meet the min_neuron/min_spikes requirement, that bin's probability \n",
    "    is set to nan. To convert it to 0s instead, use : prob[np.isnan(prob)] = 0 on the output.\n",
    "    \n",
    "    \"\"\"\n",
    "    length = np.shape(counts)[1]\n",
    "    num_bins = np.shape(tuning_curves)[1]\n",
    "    bin_size = np.median(np.diff(centers))\n",
    "    \n",
    "    prob = np.empty((length, num_bins)) * np.nan\n",
    "    for idx in range(num_bins):\n",
    "        # What does tempprod represent?\n",
    "        tempprod = np.nansum(np.log(tuning_curves[:, idx][..., np.newaxis] ** counts), axis=0)\n",
    "\n",
    "        # What does tempsum represent?\n",
    "        tempsum = np.exp(-bin_size * np.nansum(tuning_curves[:, idx]))\n",
    "\n",
    "        prob[:, idx] = np.exp(tempprod) * tempsum * (1/num_bins)\n",
    "\n",
    "\n",
    "    prob /= np.sum(prob, axis=1)[..., np.newaxis]\n",
    "    \n",
    "    num_active_neurons = np.sum(counts > min_spikes, axis=0)\n",
    "    prob[num_active_neurons < min_neurons] = np.nan\n",
    "    return prob\n"
   ]
  },
  {
   "cell_type": "code",
   "execution_count": null,
   "metadata": {
    "collapsed": true
   },
   "outputs": [],
   "source": [
    "centers = edges[:-1] + np.median(np.diff(edges))/2\n",
    "prob = bayesian_prob(counts, tc, centers)\n",
    "\n",
    "plt.pcolormesh(prob[200::-1])\n",
    "plt.colorbar()\n",
    "plt.show()"
   ]
  },
  {
   "cell_type": "code",
   "execution_count": null,
   "metadata": {
    "collapsed": false
   },
   "outputs": [],
   "source": [
    "def decode_location(prob, linear):\n",
    "    \"\"\"Finds the decoded location based on a linear (1D) trajectory.\n",
    "    \n",
    "    Parameters\n",
    "    ----------\n",
    "    prob : np.array\n",
    "        Where each inner array is the probability (floats) for an individual neuron by location bins.\n",
    "    linear : dict\n",
    "        With position (floats), time (floats) as keys.\n",
    "    \n",
    "    Returns\n",
    "    -------\n",
    "    decoded : np.array\n",
    "        Estimate of decoded location (floats) for each time bin.\n",
    "    \n",
    "    \"\"\"\n",
    "    max_decoded_idx = np.argmax(prob, axis=1)\n",
    "    decoded = max_decoded_idx * (np.max(linear['position'])-np.min(linear['position'])) / (np.shape(prob)[1]-1)\n",
    "    decoded += np.min(linear['position'])\n",
    "\n",
    "    nan_idx = np.sum(np.isnan(prob), axis=1) == (np.shape(prob)[1]-1)\n",
    "    decoded[nan_idx] = np.nan\n",
    "    \n",
    "    return decoded"
   ]
  },
  {
   "cell_type": "code",
   "execution_count": null,
   "metadata": {
    "collapsed": true
   },
   "outputs": [],
   "source": [
    "def find_nearest_indices(array, vals):\n",
    "    \"\"\"Finds nearest index in array to value.\n",
    "    \n",
    "    Parameters\n",
    "    ----------\n",
    "    array : np.array\n",
    "        This is the array you wish to index into.\n",
    "    vals : np.array\n",
    "        This is the array that you are getting your indices from.\n",
    "    \n",
    "    Returns\n",
    "    -------\n",
    "    Indices into array that is closest to vals.\n",
    "    \n",
    "    Notes\n",
    "    -----\n",
    "    Wrapper around find_nearest_idx().\n",
    "    \n",
    "    \"\"\"\n",
    "    return np.array([vdm.find_nearest_idx(array, val) for val in vals], dtype=int)"
   ]
  },
  {
   "cell_type": "code",
   "execution_count": null,
   "metadata": {
    "collapsed": false
   },
   "outputs": [],
   "source": [
    "decoded = decode_location(prob, linear)\n",
    "\n",
    "actual_idx = find_nearest_indices(linear['time'], centers)\n",
    "actual_location = linear['position'][actual_idx]\n",
    "\n",
    "decoded[np.isnan(decoded)] = 0\n",
    "decode_error = np.abs(actual_location - decoded)\n",
    "np.mean(decode_error)"
   ]
  },
  {
   "cell_type": "code",
   "execution_count": null,
   "metadata": {
    "collapsed": false
   },
   "outputs": [],
   "source": [
    "print(decoded)"
   ]
  },
  {
   "cell_type": "code",
   "execution_count": null,
   "metadata": {
    "collapsed": false
   },
   "outputs": [],
   "source": [
    "np.shape(decoded)"
   ]
  },
  {
   "cell_type": "code",
   "execution_count": null,
   "metadata": {
    "collapsed": true
   },
   "outputs": [],
   "source": [
    "plt.plot(centers, decoded)\n",
    "plt.plot(linear['time'], linear['position'], 'r.')\n",
    "plt.show()"
   ]
  },
  {
   "cell_type": "code",
   "execution_count": null,
   "metadata": {
    "collapsed": true
   },
   "outputs": [],
   "source": [
    "import nengo\n",
    "smoothed_decoded = nengo.Lowpass(0.002).filtfilt(decoded)"
   ]
  },
  {
   "cell_type": "code",
   "execution_count": null,
   "metadata": {
    "collapsed": false
   },
   "outputs": [],
   "source": [
    "decode_error = np.abs(actual_location - smoothed_decoded)\n",
    "print(np.mean(decode_error))\n",
    "\n",
    "plt.plot(centers, smoothed_decoded)\n",
    "plt.plot(linear['time'], linear['position'], 'r.')\n",
    "plt.show()"
   ]
  },
  {
   "cell_type": "code",
   "execution_count": null,
   "metadata": {
    "collapsed": true
   },
   "outputs": [],
   "source": []
  },
  {
   "cell_type": "code",
   "execution_count": null,
   "metadata": {
    "collapsed": true
   },
   "outputs": [],
   "source": []
  },
  {
   "cell_type": "code",
   "execution_count": null,
   "metadata": {
    "collapsed": true
   },
   "outputs": [],
   "source": []
  },
  {
   "cell_type": "code",
   "execution_count": null,
   "metadata": {
    "collapsed": false
   },
   "outputs": [],
   "source": [
    "for thisposition in linear['time'][10000:10200]:\n",
    "    x = vdm.find_nearest_idx(pos['time'], thisposition)\n",
    "    plt.plot(pos['time'][x], pos['x'][x], 'b.')\n",
    "    plt.plot(pos['time'][x], pos['y'][x], 'g.')\n",
    "\n",
    "# plt.plot(pos['x'], pos['y'], 'b')\n",
    "# plt.xlim(linear['time'][10000], linear['time'][12000])\n",
    "plt.show()"
   ]
  },
  {
   "cell_type": "code",
   "execution_count": null,
   "metadata": {
    "collapsed": true
   },
   "outputs": [],
   "source": [
    "plt.plot(linear['time'], linear['position'], 'b.')\n",
    "plt.show()"
   ]
  },
  {
   "cell_type": "code",
   "execution_count": null,
   "metadata": {
    "collapsed": true
   },
   "outputs": [],
   "source": []
  },
  {
   "cell_type": "code",
   "execution_count": null,
   "metadata": {
    "collapsed": true
   },
   "outputs": [],
   "source": [
    "centers = edges[:-1] + np.median(np.diff(edges))/2"
   ]
  },
  {
   "cell_type": "code",
   "execution_count": null,
   "metadata": {
    "collapsed": false
   },
   "outputs": [],
   "source": [
    "print(np.shape(decode['tc'])[1])"
   ]
  },
  {
   "cell_type": "code",
   "execution_count": null,
   "metadata": {
    "collapsed": false
   },
   "outputs": [],
   "source": [
    "min_neurons = 1\n",
    "min_spikes = 1\n",
    "\n",
    "length = np.shape(q)[1]\n",
    "num_bins = np.shape(decode['tc'])[1]\n",
    "bin_size = np.median(np.diff(centers))\n",
    "\n",
    "# occ_uniform = np.ones((1, num_bins))[0] * bin_size\n",
    "\n"
   ]
  },
  {
   "cell_type": "code",
   "execution_count": null,
   "metadata": {
    "collapsed": false
   },
   "outputs": [],
   "source": [
    "q.shape"
   ]
  },
  {
   "cell_type": "code",
   "execution_count": null,
   "metadata": {
    "collapsed": false
   },
   "outputs": [],
   "source": [
    "prob = np.empty((length, num_bins)) * np.nan\n",
    "for idx in range(num_bins):\n",
    "    # What does tempprod represent?\n",
    "    tempprod = np.nansum(np.log(decode['tc'][:,idx][..., np.newaxis] ** q), axis=0)\n",
    "    \n",
    "    # What does tempsum represent?\n",
    "    tempsum = np.exp(-bin_size * np.nansum(decode['tc'][:, idx]))\n",
    "    \n",
    "    prob[:, idx] = np.exp(tempprod) * tempsum * (1/num_bins)\n",
    "    \n",
    "\n",
    "prob /= np.sum(prob, axis=1)[..., np.newaxis]\n",
    "# prob[np.isnan(prob)] = 0 add to docstring\n"
   ]
  },
  {
   "cell_type": "code",
   "execution_count": null,
   "metadata": {
    "collapsed": true
   },
   "outputs": [],
   "source": [
    "num_active_neurons = np.sum(q > min_spikes, axis=0)\n",
    "prob[num_active_neurons < min_neurons] = np.nan"
   ]
  },
  {
   "cell_type": "code",
   "execution_count": null,
   "metadata": {
    "collapsed": false
   },
   "outputs": [],
   "source": [
    "plt.pcolormesh(prob[200::-1])\n",
    "plt.colorbar()\n",
    "plt.show()"
   ]
  },
  {
   "cell_type": "code",
   "execution_count": null,
   "metadata": {
    "collapsed": false
   },
   "outputs": [],
   "source": [
    "max_decoded_idx = np.argmax(prob, axis=1)"
   ]
  },
  {
   "cell_type": "code",
   "execution_count": null,
   "metadata": {
    "collapsed": false
   },
   "outputs": [],
   "source": [
    "print(np.min(decode['zdata']), np.max(decode['zdata']))\n",
    "print(0, np.shape(prob)[1]-1)\n",
    "print(np.min(decoded), np.max(decoded))"
   ]
  },
  {
   "cell_type": "code",
   "execution_count": null,
   "metadata": {
    "collapsed": true
   },
   "outputs": [],
   "source": [
    "decoded = max_decoded_idx * (np.max(decode['zdata'])-np.min(decode['zdata'])) / (np.shape(prob)[1]-1)\n",
    "decoded += np.min(decode['zdata'])"
   ]
  },
  {
   "cell_type": "code",
   "execution_count": null,
   "metadata": {
    "collapsed": true
   },
   "outputs": [],
   "source": [
    "nan_idx = np.sum(np.isnan(prob), axis=1) == (np.shape(prob)[1]-1)"
   ]
  },
  {
   "cell_type": "code",
   "execution_count": null,
   "metadata": {
    "collapsed": false
   },
   "outputs": [],
   "source": [
    "decoded[nan_idx] = np.nan"
   ]
  },
  {
   "cell_type": "code",
   "execution_count": null,
   "metadata": {
    "collapsed": false
   },
   "outputs": [],
   "source": [
    "def find_nearest_indices(array, vals):\n",
    "    return np.array([vdm.find_nearest_idx(array, val) for val in vals], dtype=int)"
   ]
  },
  {
   "cell_type": "code",
   "execution_count": null,
   "metadata": {
    "collapsed": false
   },
   "outputs": [],
   "source": [
    "rat_location_idx = find_nearest_indices(decode['ztime'], centers)"
   ]
  },
  {
   "cell_type": "code",
   "execution_count": null,
   "metadata": {
    "collapsed": false
   },
   "outputs": [],
   "source": [
    "np.shape(rat_location_idx)"
   ]
  },
  {
   "cell_type": "code",
   "execution_count": null,
   "metadata": {
    "collapsed": true
   },
   "outputs": [],
   "source": [
    "rat_location = decode['zdata'][rat_location_idx]"
   ]
  },
  {
   "cell_type": "code",
   "execution_count": null,
   "metadata": {
    "collapsed": false
   },
   "outputs": [],
   "source": [
    "decode_error = np.abs(rat_location - decoded)"
   ]
  },
  {
   "cell_type": "code",
   "execution_count": null,
   "metadata": {
    "collapsed": false
   },
   "outputs": [],
   "source": [
    "plt.plot(decode_error)\n",
    "plt.show()"
   ]
  },
  {
   "cell_type": "code",
   "execution_count": null,
   "metadata": {
    "collapsed": false
   },
   "outputs": [],
   "source": [
    "np.mean(decode_error)"
   ]
  },
  {
   "cell_type": "code",
   "execution_count": null,
   "metadata": {
    "collapsed": true
   },
   "outputs": [],
   "source": []
  },
  {
   "cell_type": "code",
   "execution_count": null,
   "metadata": {
    "collapsed": false
   },
   "outputs": [],
   "source": [
    "plt.plot(centers, decoded)\n",
    "plt.plot(decode['ztime'], decode['zdata'], 'r.')\n",
    "plt.show()"
   ]
  },
  {
   "cell_type": "code",
   "execution_count": null,
   "metadata": {
    "collapsed": true
   },
   "outputs": [],
   "source": [
    "import nengo\n",
    "smoothed_decoded = nengo.Lowpass(0.001).filtfilt(decoded)"
   ]
  },
  {
   "cell_type": "code",
   "execution_count": null,
   "metadata": {
    "collapsed": false
   },
   "outputs": [],
   "source": [
    "print(np.mean(np.abs(rat_location - smoothed_decoded)))"
   ]
  },
  {
   "cell_type": "code",
   "execution_count": null,
   "metadata": {
    "collapsed": true
   },
   "outputs": [],
   "source": [
    "plt.plot(centers, smoothed_decoded)\n",
    "plt.plot(decode['ztime'], decode['zdata'], 'r.')\n",
    "plt.show()"
   ]
  },
  {
   "cell_type": "code",
   "execution_count": null,
   "metadata": {
    "collapsed": false
   },
   "outputs": [],
   "source": [
    "a = np.random.rand(4, 2)\n",
    "a[:, 1] = np.nan\n",
    "print(a)\n",
    "np.argmax(a, axis=0)"
   ]
  },
  {
   "cell_type": "code",
   "execution_count": null,
   "metadata": {
    "collapsed": false
   },
   "outputs": [],
   "source": [
    "np.sum(np.isnan([np.nan, 2, np.nan]))"
   ]
  },
  {
   "cell_type": "code",
   "execution_count": null,
   "metadata": {
    "collapsed": true
   },
   "outputs": [],
   "source": []
  },
  {
   "cell_type": "code",
   "execution_count": null,
   "metadata": {
    "collapsed": false
   },
   "outputs": [],
   "source": [
    "intervals = dict()\n",
    "intervals['start'] = edges[:-2]\n",
    "intervals['stop'] = edges[1:-1]\n",
    "\n",
    "counts = vdm.spike_counts(decode['spikes'], intervals)"
   ]
  },
  {
   "cell_type": "code",
   "execution_count": null,
   "metadata": {
    "collapsed": false
   },
   "outputs": [],
   "source": [
    "len(intervals['start'])"
   ]
  },
  {
   "cell_type": "code",
   "execution_count": null,
   "metadata": {
    "collapsed": false
   },
   "outputs": [],
   "source": [
    "print(len(counts), np.min(counts), np.max(counts))"
   ]
  },
  {
   "cell_type": "code",
   "execution_count": null,
   "metadata": {
    "collapsed": true
   },
   "outputs": [],
   "source": []
  },
  {
   "cell_type": "code",
   "execution_count": null,
   "metadata": {
    "collapsed": true
   },
   "outputs": [],
   "source": []
  },
  {
   "cell_type": "code",
   "execution_count": null,
   "metadata": {
    "collapsed": true
   },
   "outputs": [],
   "source": []
  },
  {
   "cell_type": "code",
   "execution_count": null,
   "metadata": {
    "collapsed": true
   },
   "outputs": [],
   "source": []
  }
 ],
 "metadata": {
  "kernelspec": {
   "display_name": "Python 3",
   "language": "python",
   "name": "python3"
  },
  "language_info": {
   "codemirror_mode": {
    "name": "ipython",
    "version": 3
   },
   "file_extension": ".py",
   "mimetype": "text/x-python",
   "name": "python",
   "nbconvert_exporter": "python",
   "pygments_lexer": "ipython3",
   "version": "3.5.2"
  }
 },
 "nbformat": 4,
 "nbformat_minor": 0
}
