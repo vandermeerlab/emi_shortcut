{
 "cells": [
  {
   "cell_type": "code",
   "execution_count": null,
   "metadata": {},
   "outputs": [],
   "source": [
    "import os\n",
    "import numpy as np\n",
    "import pickle\n",
    "from shapely.geometry import Point, LineString\n",
    "import matplotlib.pyplot as plt\n",
    "%matplotlib inline\n",
    "\n",
    "import nept\n",
    "\n",
    "from loading_data import get_data\n",
    "from utils_maze import find_zones, speed_threshold\n",
    "\n",
    "cwd = os.getcwd()\n",
    "pickle_filepath = os.path.join(cwd, \"cache\", \"pickled\")\n",
    "output_filepath = os.path.join(cwd, \"plots\", \"intermediate\")\n",
    "\n",
    "from analyze_decode import get_decoded"
   ]
  },
  {
   "cell_type": "code",
   "execution_count": null,
   "metadata": {},
   "outputs": [],
   "source": [
    "from run import spike_sorted_infos, info\n",
    "\n",
    "session = info.r063d2\n",
    "\n",
    "neurons_filename = session.session_id + '_neurons.pkl'\n",
    "pickled_neurons = os.path.join(pickle_filepath, neurons_filename)\n",
    "with open(pickled_neurons, 'rb') as fileobj:\n",
    "    neurons = pickle.load(fileobj)\n",
    "\n",
    "track_times = ['phase1', 'phase2', 'phase3', 'tracks']\n",
    "pedestal_times = ['pauseA', 'pauseB', 'prerecord', 'postrecord']\n",
    "    \n",
    "experiment_time = \"phase3\"\n",
    "t_start = session.task_times[experiment_time].start+0.0125\n",
    "t_stop = session.task_times[experiment_time].stop\n",
    "#t_start, t_stop = (5580, 5630)\n",
    "\n",
    "args = dict(speed_limit=0.4,\n",
    "            min_swr=3,\n",
    "            min_neurons=2,\n",
    "            min_spikes=1,\n",
    "            t_start=t_start,\n",
    "            t_stop=t_stop,\n",
    "            neurons=neurons,\n",
    "            shuffle_id=False,\n",
    "            info=session,\n",
    "            normalized=False,\n",
    "            sequence_speed=5.,\n",
    "            sequence_len=3,\n",
    "            min_epochs=3)\n",
    "if experiment_time in track_times:\n",
    "    args[\"run_time\"] = True"
   ]
  },
  {
   "cell_type": "code",
   "execution_count": null,
   "metadata": {},
   "outputs": [],
   "source": [
    "def analyze(window_size, window_advance, gaussian_std):\n",
    "    _args = args.copy()\n",
    "    _args[\"window\"] = window_size\n",
    "    _args[\"dt\"] = window_advance\n",
    "    _args[\"gaussian_std\"] = gaussian_std\n",
    "    d = {}\n",
    "\n",
    "    d['decoded'], d['decoded_epochs'], d['errors'], d['position'] = get_decoded(**_args)\n",
    "    \n",
    "    print('window %.4f advancing in %.4f with %s std: %.3f' % (\n",
    "        window_size, window_advance, gaussian_std, np.mean(d['errors'])))\n",
    "    \n",
    "    return d"
   ]
  },
  {
   "cell_type": "code",
   "execution_count": null,
   "metadata": {},
   "outputs": [],
   "source": [
    "nooverlap = analyze(0.025, 0.025, None)\n",
    "overlap = analyze(0.025, 0.0125, None)"
   ]
  },
  {
   "cell_type": "code",
   "execution_count": null,
   "metadata": {},
   "outputs": [],
   "source": [
    "print(overlap['errors'][:20])\n",
    "print(nooverlap['errors'][:20])"
   ]
  },
  {
   "cell_type": "code",
   "execution_count": null,
   "metadata": {},
   "outputs": [],
   "source": [
    "nooverlap_offset = analyze(0.025, 0.025, None)"
   ]
  },
  {
   "cell_type": "code",
   "execution_count": null,
   "metadata": {},
   "outputs": [],
   "source": [
    "print(nooverlap_offset['errors'][:20])"
   ]
  },
  {
   "cell_type": "code",
   "execution_count": null,
   "metadata": {},
   "outputs": [],
   "source": [
    ""
   ]
  },
  {
   "cell_type": "code",
   "execution_count": null,
   "metadata": {},
   "outputs": [],
   "source": [
    "nooverlap = analyze(0.0125, 0.0125, 0.0075)\n",
    "overlap = analyze(0.025, 0.0125, None)"
   ]
  },
  {
   "cell_type": "code",
   "execution_count": null,
   "metadata": {},
   "outputs": [],
   "source": [
    "print(nooverlap[\"errors\"].shape)\n",
    "print(overlap[\"errors\"].shape)"
   ]
  },
  {
   "cell_type": "code",
   "execution_count": null,
   "metadata": {},
   "outputs": [],
   "source": [
    "def hist(d):\n",
    "    plt.figure()\n",
    "    plt.hist(d[\"errors\"])\n",
    "\n",
    "hist(nooverlap)\n",
    "hist(overlap)"
   ]
  },
  {
   "cell_type": "code",
   "execution_count": null,
   "metadata": {},
   "outputs": [],
   "source": [
    "def p(d, left, right):\n",
    "    t = d['decoded'].time\n",
    "    error = d['errors']\n",
    "    errorsig = nept.AnalogSignal(error, t).time_slice(left, right)\n",
    "    print(\"n_points: %d, mean error: %.3f\" % (\n",
    "        errorsig.n_samples, np.mean(errorsig.data)))\n",
    "    plt.plot(t, error, ls=\"none\", marker=\".\")\n",
    "    plt.xlim(left, right)\n",
    "    \n",
    "def comp(d1, d2, left, right):\n",
    "    plt.figure()\n",
    "    p(d1, left, right)\n",
    "    p(d2, left, right)"
   ]
  },
  {
   "cell_type": "code",
   "execution_count": null,
   "metadata": {},
   "outputs": [],
   "source": [
    "comp(overlap, nooverlap, 5400, 8200)"
   ]
  },
  {
   "cell_type": "code",
   "execution_count": null,
   "metadata": {},
   "outputs": [],
   "source": [
    "comp(both, nooverlap, 5400, 8200)"
   ]
  },
  {
   "cell_type": "code",
   "execution_count": null,
   "metadata": {},
   "outputs": [],
   "source": [
    "comp(overlap, nooverlap, t_start+20, t_start+120)"
   ]
  },
  {
   "cell_type": "code",
   "execution_count": null,
   "metadata": {},
   "outputs": [],
   "source": [
    ""
   ]
  }
 ],
 "metadata": {
  "kernelspec": {
   "display_name": "Python 3",
   "language": "python",
   "name": "python3"
  },
  "language_info": {
   "codemirror_mode": {
    "name": "ipython",
    "version": 3.0
   },
   "file_extension": ".py",
   "mimetype": "text/x-python",
   "name": "python",
   "nbconvert_exporter": "python",
   "pygments_lexer": "ipython3",
   "version": "3.6.1"
  },
  "toc": {
   "colors": {
    "hover_highlight": "#DAA520",
    "running_highlight": "#FF0000",
    "selected_highlight": "#FFD700"
   },
   "moveMenuLeft": true,
   "nav_menu": {
    "height": "12px",
    "width": "252px"
   },
   "navigate_menu": true,
   "number_sections": true,
   "sideBar": true,
   "threshold": 4.0,
   "toc_cell": false,
   "toc_section_display": "block",
   "toc_window_display": false
  }
 },
 "nbformat": 4,
 "nbformat_minor": 2
}