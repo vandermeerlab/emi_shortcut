{
 "cells": [
  {
   "cell_type": "code",
   "execution_count": 2,
   "metadata": {
    "collapsed": false
   },
   "outputs": [],
   "source": [
    "%matplotlib inline\n",
    "import numpy as np\n",
    "import matplotlib.pyplot as plt\n",
    "from shapely.geometry import Point, LineString\n",
    "import pickle\n",
    "import seaborn as sns\n",
    "import os\n",
    "\n",
    "import vdmlab as vdm"
   ]
  },
  {
   "cell_type": "code",
   "execution_count": null,
   "metadata": {
    "collapsed": true
   },
   "outputs": [],
   "source": []
  },
  {
   "cell_type": "code",
   "execution_count": 6,
   "metadata": {
    "collapsed": false
   },
   "outputs": [],
   "source": [
    "def get_summary(decoded, times):\n",
    "    decode = dict(u=[], shortcut=[], novel=[])\n",
    "    for key in decoded:\n",
    "        for session in range(len(times)):\n",
    "            decode[key].append(len(decoded_1[key][session].time)/times[session])\n",
    "    return decode"
   ]
  },
  {
   "cell_type": "code",
   "execution_count": 23,
   "metadata": {
    "collapsed": true
   },
   "outputs": [],
   "source": [
    "weighted_mean1 = dict(u=1, shortcut=1, novel=1)\n",
    "weighted_sem1 = dict(u=0.1, shortcut=0.1, novel=0.1)\n",
    "weighted_mean2 = dict(u=3, shortcut=2, novel=3)\n",
    "weighted_sem2 = dict(u=0.1, shortcut=0.1, novel=0.1)\n",
    "\n",
    "means = [weighted_mean1, weighted_mean2, weighted_mean1]\n",
    "sems = [weighted_sem1, weighted_sem2, weighted_sem1]"
   ]
  },
  {
   "cell_type": "code",
   "execution_count": 24,
   "metadata": {
    "collapsed": false
   },
   "outputs": [
    {
     "data": {
      "image/png": "[encoded data removed]",
      "text/plain": [
       "<matplotlib.figure.Figure at 0x1a6c5e5fc18>"
      ]
     },
     "metadata": {},
     "output_type": "display_data"
    }
   ],
   "source": [
    "fig, (ax1, ax2, ax3) = plt.subplots(1, 3, sharey=True, figsize=(4.5, 2.5))\n",
    "\n",
    "ind = np.arange(1)\n",
    "width = 0.5\n",
    "colours = dict(u='#0072b2', shortcut='#009e73', novel='#d55e00')\n",
    "\n",
    "for ax, trajectory in zip([ax1, ax2, ax3], ['u', 'shortcut', 'novel']):\n",
    "    count = 0\n",
    "    for mean, sem in zip(means, sems):\n",
    "        ax.bar(ind+(count*width), mean[trajectory], width, color=colours[trajectory], \n",
    "               yerr=sem[trajectory], ecolor='k')\n",
    "        count += 1\n",
    "#     ax.bar(ind, weighted_mean1[trajectory], width,\n",
    "#            color=colours[trajectory], yerr=weighted_sem1[trajectory], ecolor='k')\n",
    "#     ax.bar(ind + width, weighted_mean2[trajectory], width,\n",
    "#            color=colours[trajectory], yerr=weighted_sem2[trajectory], ecolor='k')"
   ]
  },
  {
   "cell_type": "code",
   "execution_count": null,
   "metadata": {
    "collapsed": true
   },
   "outputs": [],
   "source": []
  }
 ],
 "metadata": {
  "kernelspec": {
   "display_name": "Python 3",
   "language": "python",
   "name": "python3"
  },
  "language_info": {
   "codemirror_mode": {
    "name": "ipython",
    "version": 3
   },
   "file_extension": ".py",
   "mimetype": "text/x-python",
   "name": "python",
   "nbconvert_exporter": "python",
   "pygments_lexer": "ipython3",
   "version": "3.5.2"
  }
 },
 "nbformat": 4,
 "nbformat_minor": 0
}
