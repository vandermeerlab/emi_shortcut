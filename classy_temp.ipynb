{
 "cells": [
  {
   "cell_type": "code",
   "execution_count": null,
   "metadata": {
    "ExecuteTime": {
     "end_time": "2018-09-27T20:06:20.646091Z",
     "start_time": "2018-09-27T20:06:19.515055Z"
    }
   },
   "outputs": [],
   "source": [
    "%matplotlib inline\n",
    "import matplotlib.pyplot as plt\n",
    "import matplotlib.gridspec as gridspec\n",
    "from matplotlib.patches import Patch\n",
    "import numpy as np\n",
    "import warnings\n",
    "import random\n",
    "import scipy\n",
    "import pickle\n",
    "import os\n",
    "import nept\n",
    "import scalebar\n",
    "\n",
    "from loading_data import get_data\n",
    "from analyze_tuning_curves import get_only_tuning_curves\n",
    "from utils_maze import get_zones\n",
    "from analyze_decode_swrs import (plot_summary_individual,\n",
    "                                 plot_likelihood_overspace,\n",
    "                                 plot_combined,\n",
    "                                 plot_stacked_summary)\n",
    "\n",
    "from utils_maze import get_bin_centers\n",
    "from analyze_classy_decode import bin_spikes\n",
    "\n",
    "thisdir = os.getcwd()\n",
    "pickle_filepath = os.path.join(thisdir, \"cache\", \"pickled\")\n",
    "output_filepath = os.path.join(thisdir, \"plots\", \"trials\", \"decoding\", \"classy\")\n",
    "if not os.path.exists(output_filepath):\n",
    "    os.makedirs(output_filepath)\n",
    "\n",
    "# Set random seeds\n",
    "random.seed(0)\n",
    "np.random.seed(0)"
   ]
  },
  {
   "cell_type": "code",
   "execution_count": null,
   "metadata": {
    "ExecuteTime": {
     "end_time": "2018-09-27T20:06:20.656103Z",
     "start_time": "2018-09-27T20:06:20.648106Z"
    }
   },
   "outputs": [],
   "source": [
    "class Session:\n",
    "    \"\"\"A collection of LikelihoodsAtTaskTime for each session\n",
    "\n",
    "        Parameters\n",
    "        ----------\n",
    "        task_times : dict of TaskTime\n",
    "\n",
    "    \"\"\"\n",
    "\n",
    "    def __init__(self, position, task_labels, zones):\n",
    "        self.position = position\n",
    "        for task_label in task_labels:\n",
    "            setattr(self, task_label, TaskTime([], [], [], zones))\n",
    "\n",
    "    def pickle(self, save_path):\n",
    "        with open(save_path, 'wb') as fileobj:\n",
    "            print(\"Saving \" + save_path)\n",
    "            pickle.dump(self, fileobj)\n",
    "\n",
    "    def n_tasktimes(self):\n",
    "        return len(task_labels)\n",
    "\n",
    "\n",
    "class TaskTime:\n",
    "    \"\"\"A set of decoded likelihoods for a given task time\n",
    "\n",
    "        Parameters\n",
    "        ----------\n",
    "        likelihoods : np.array\n",
    "            With shape (ntimebins, nxbins, nybins)\n",
    "        zones : dict of Zones\n",
    "\n",
    "        Attributes\n",
    "        ----------\n",
    "        likelihoods : np.array\n",
    "            With shape (ntimebins, nxbins, nybins)\n",
    "\n",
    "    \"\"\"\n",
    "\n",
    "    def __init__(self, tuning_curves, swrs, likelihoods, zones):\n",
    "        self.tuning_curves = tuning_curves\n",
    "        self.swrs = swrs\n",
    "        self.likelihoods = likelihoods\n",
    "        self.zones = zones\n",
    "\n",
    "    def sums(self, zone_label):\n",
    "        if len(self.likelihoods) > 0:\n",
    "            return np.nansum(self.likelihoods[:, :, self.zones[zone_label]], axis=2)\n",
    "        else:\n",
    "            return np.nan\n",
    "\n",
    "    def means(self, zone_label):\n",
    "        if len(self.likelihoods) > 0:\n",
    "            return np.nanmean(self.likelihoods[:, :, self.zones[zone_label]], axis=2)\n",
    "        else:\n",
    "            return np.nan\n",
    "\n",
    "    def maxs(self, zone_label):\n",
    "        if len(self.likelihoods) > 0:\n",
    "            return np.nanmax(self.likelihoods[:, :, self.zones[zone_label]], axis=2)\n",
    "        else:\n",
    "            return np.nan"
   ]
  },
  {
   "cell_type": "code",
   "execution_count": null,
   "metadata": {
    "ExecuteTime": {
     "end_time": "2018-09-27T20:06:20.693081Z",
     "start_time": "2018-09-27T20:06:20.657084Z"
    }
   },
   "outputs": [],
   "source": [
    "import info.r068d7 as r068d7\n",
    "info = r068d7"
   ]
  },
  {
   "cell_type": "code",
   "execution_count": null,
   "metadata": {
    "ExecuteTime": {
     "end_time": "2018-09-27T20:06:20.699061Z",
     "start_time": "2018-09-27T20:06:20.695063Z"
    }
   },
   "outputs": [],
   "source": [
    "n_shuffles = 2\n",
    "percentile_thresh = 99\n",
    "\n",
    "task_labels = [\"prerecord\", \"pauseA\", \"pauseB\", \"postrecord\"]\n",
    "zone_labels = [\"u\", \"shortcut\", \"novel\", \"other\"]\n",
    "\n",
    "swr_params = dict()\n",
    "swr_params[\"z_thresh\"] = 2.0\n",
    "swr_params[\"power_thresh\"] = 3.0\n",
    "swr_params[\"merge_thresh\"] = 0.02\n",
    "swr_params[\"min_length\"] = 0.05\n",
    "swr_params[\"swr_thresh\"] = (140.0, 250.0)\n",
    "swr_params[\"min_involved\"] = 4\n",
    "\n",
    "colours = dict()\n",
    "colours[\"u\"] = \"#2b8cbe\"\n",
    "colours[\"shortcut\"] = \"#31a354\"\n",
    "colours[\"novel\"] = \"#d95f0e\"\n",
    "colours[\"other\"] = \"#bdbdbd\""
   ]
  },
  {
   "cell_type": "code",
   "execution_count": null,
   "metadata": {
    "ExecuteTime": {
     "end_time": "2018-09-27T20:06:20.713071Z",
     "start_time": "2018-09-27T20:06:20.701060Z"
    }
   },
   "outputs": [],
   "source": [
    "def get_likelihoods(info, swr_params, task_labels, zone_labels, n_shuffles=0, save_path=None):\n",
    "\n",
    "    _, position, spikes, lfp, _ = get_data(info)\n",
    "\n",
    "    zones = dict()\n",
    "    zones[\"u\"], zones[\"shortcut\"], zones[\"novel\"] = get_zones(info, position, subset=True)\n",
    "    combined_zones = zones[\"u\"] + zones[\"shortcut\"] + zones[\"novel\"]\n",
    "    zones[\"other\"] = ~combined_zones\n",
    "\n",
    "    sliced_position = position.time_slice(info.task_times[\"phase3\"].starts, info.task_times[\"phase3\"].stops)\n",
    "    session = Session(sliced_position, task_labels, zones)\n",
    "\n",
    "    tuning_curves_fromdata = get_only_tuning_curves(info, position, spikes, info.task_times[\"phase3\"])\n",
    "\n",
    "    tc_shape = tuning_curves_fromdata.shape\n",
    "\n",
    "    swrs = nept.detect_swr_hilbert(lfp,\n",
    "                                   fs=info.fs,\n",
    "                                   thresh=swr_params[\"swr_thresh\"],\n",
    "                                   z_thresh=swr_params[\"z_thresh\"],\n",
    "                                   power_thresh=swr_params[\"power_thresh\"],\n",
    "                                   merge_thresh=swr_params[\"merge_thresh\"],\n",
    "                                   min_length=swr_params[\"min_length\"])\n",
    "    swrs = nept.find_multi_in_epochs(spikes, swrs, min_involved=swr_params[\"min_involved\"])\n",
    "\n",
    "    rest_epochs = nept.rest_threshold(position, thresh=12., t_smooth=0.8)\n",
    "\n",
    "    if n_shuffles > 0:\n",
    "        n_passes = n_shuffles\n",
    "    else:\n",
    "        n_passes = 1\n",
    "\n",
    "    for task_label in task_labels:\n",
    "        epochs_of_interest = info.task_times[task_label].intersect(rest_epochs)\n",
    "\n",
    "        phase_swrs = epochs_of_interest.overlaps(swrs)\n",
    "        phase_swrs = phase_swrs[phase_swrs.durations >= 0.05]\n",
    "\n",
    "        phase_likelihoods = np.zeros((n_passes, phase_swrs.n_epochs, tc_shape[1], tc_shape[2]))\n",
    "        phase_tuningcurves = np.zeros((n_passes, tc_shape[0], tc_shape[1], tc_shape[2]))\n",
    "        for n_pass in range(n_passes):\n",
    "\n",
    "            if n_shuffles > 0:\n",
    "                tuning_curves = np.random.permutation(tuning_curves_fromdata)\n",
    "            else:\n",
    "                tuning_curves = tuning_curves_fromdata\n",
    "\n",
    "            phase_tuningcurves[n_pass, ] = tuning_curves\n",
    "            tuning_curves = tuning_curves.reshape(tc_shape[0], tc_shape[1] * tc_shape[2])\n",
    "\n",
    "            for n_timebin, (start, stop) in enumerate(zip(phase_swrs.starts,\n",
    "                                                          phase_swrs.stops)):\n",
    "                t_window = stop-start  # 0.1 for running, 0.025 for swr\n",
    "\n",
    "                sliced_spikes = [spiketrain.time_slice(start, stop) for spiketrain in spikes]\n",
    "\n",
    "                counts = bin_spikes(sliced_spikes, np.array([start, stop]), dt=t_window, window=t_window,\n",
    "                                    gaussian_std=0.0075, normalized=False)\n",
    "\n",
    "                likelihood = nept.bayesian_prob(counts, tuning_curves, binsize=t_window,\n",
    "                                                min_neurons=3, min_spikes=1)\n",
    "\n",
    "                phase_likelihoods[n_pass, n_timebin] = likelihood.reshape(tc_shape[1], tc_shape[2])\n",
    "\n",
    "        tasktime = getattr(session, task_label)\n",
    "        tasktime.likelihoods = phase_likelihoods\n",
    "        tasktime.tuning_curves = phase_tuningcurves\n",
    "        tasktime.swrs = phase_swrs\n",
    "\n",
    "    if save_path is not None:\n",
    "        session.pickle(save_path)\n",
    "\n",
    "    return session"
   ]
  },
  {
   "cell_type": "code",
   "execution_count": null,
   "metadata": {
    "ExecuteTime": {
     "end_time": "2018-09-27T20:06:47.127644Z",
     "start_time": "2018-09-27T20:06:20.715051Z"
    }
   },
   "outputs": [],
   "source": [
    "plot_individual = False\n",
    "update_cache = True\n",
    "dont_save_pickle = False\n",
    "\n",
    "\n",
    "print(info.session_id)\n",
    "\n",
    "# Get true data\n",
    "true_path = os.path.join(pickle_filepath, info.session_id+\"_likelihoods_true.pkl\")\n",
    "\n",
    "# Remove previous pickle if update_cache\n",
    "if update_cache:\n",
    "    if os.path.exists(true_path):\n",
    "        os.remove(true_path)\n",
    "\n",
    "# Load pickle if it exists, otherwise compute and pickle\n",
    "if os.path.exists(true_path):\n",
    "    print(\"Loading pickled true likelihoods...\")\n",
    "    compute_likelihoods = False\n",
    "    with open(true_path, 'rb') as fileobj:\n",
    "        true_session = pickle.load(fileobj)\n",
    "else:\n",
    "    if dont_save_pickle:\n",
    "        true_path = None\n",
    "    true_session = get_likelihoods(info,\n",
    "                                   swr_params,\n",
    "                                   task_labels,\n",
    "                                   zone_labels,\n",
    "                                   save_path=true_path)\n",
    "\n",
    "# Get shuffled data\n",
    "shuffled_path = os.path.join(pickle_filepath,\n",
    "                             info.session_id+\"_likelihoods_shuffled-%03d.pkl\" % n_shuffles)\n",
    "\n",
    "# Remove previous pickle if update_cache\n",
    "if update_cache:\n",
    "    if os.path.exists(shuffled_path):\n",
    "        os.remove(shuffled_path)\n",
    "\n",
    "# Load pickle if it exists, otherwise compute and pickle\n",
    "if os.path.exists(shuffled_path):\n",
    "    print(\"Loading pickled shuffled likelihoods...\")\n",
    "    with open(shuffled_path, 'rb') as fileobj:\n",
    "        shuffled_session = pickle.load(fileobj)\n",
    "else:\n",
    "    if dont_save_pickle:\n",
    "        shuffled_path = None\n",
    "    shuffled_session = get_likelihoods(info,\n",
    "                                       swr_params,\n",
    "                                       task_labels,\n",
    "                                       zone_labels,\n",
    "                                       n_shuffles=n_shuffles,\n",
    "                                       save_path=shuffled_path)"
   ]
  },
  {
   "cell_type": "code",
   "execution_count": null,
   "metadata": {},
   "outputs": [],
   "source": []
  },
  {
   "cell_type": "code",
   "execution_count": null,
   "metadata": {
    "ExecuteTime": {
     "end_time": "2018-09-27T20:25:04.538001Z",
     "start_time": "2018-09-27T20:25:04.530007Z"
    }
   },
   "outputs": [],
   "source": [
    "def plot_likelihood_overspace(info, session, task_labels):\n",
    "    for task_label in task_labels:\n",
    "        zones = getattr(session, task_label).zones\n",
    "        likelihood = np.nanmean(np.array(getattr(session, task_label).likelihoods[:]), axis=1)\n",
    "        print(likelihood.shape)\n",
    "\n",
    "        likelihood[np.isnan(likelihood)] = 0\n",
    "\n",
    "        xx, yy = np.meshgrid(info.xedges, info.yedges)\n",
    "        xcenters, ycenters = get_bin_centers(info)\n",
    "        xxx, yyy = np.meshgrid(xcenters, ycenters)\n",
    "\n",
    "        maze_highlight = \"#fed976\"\n",
    "        plt.plot(session.position.x, session.position.y, \".\", color=maze_highlight, ms=1, alpha=0.2)\n",
    "        pp = plt.pcolormesh(xx, yy, likelihood[0], cmap='bone_r')\n",
    "        for label in [\"u\", \"shortcut\", \"novel\"]:\n",
    "            plt.contour(xxx, yyy, zones[label], levels=0, linewidths=2, colors=colours[label])\n",
    "        plt.colorbar(pp)\n",
    "        plt.axis('off')\n",
    "        plt.show()"
   ]
  },
  {
   "cell_type": "code",
   "execution_count": null,
   "metadata": {
    "ExecuteTime": {
     "end_time": "2018-09-27T20:25:05.925698Z",
     "start_time": "2018-09-27T20:25:05.138281Z"
    }
   },
   "outputs": [],
   "source": [
    "plot_likelihood_overspace(info, shuffled_session, task_labels)"
   ]
  },
  {
   "cell_type": "code",
   "execution_count": null,
   "metadata": {
    "ExecuteTime": {
     "end_time": "2018-09-27T20:06:47.322532Z",
     "start_time": "2018-09-27T20:06:19.562Z"
    }
   },
   "outputs": [],
   "source": [
    "1/0"
   ]
  },
  {
   "cell_type": "code",
   "execution_count": null,
   "metadata": {},
   "outputs": [],
   "source": []
  },
  {
   "cell_type": "code",
   "execution_count": null,
   "metadata": {},
   "outputs": [],
   "source": []
  },
  {
   "cell_type": "code",
   "execution_count": null,
   "metadata": {},
   "outputs": [],
   "source": []
  },
  {
   "cell_type": "code",
   "execution_count": null,
   "metadata": {},
   "outputs": [],
   "source": []
  },
  {
   "cell_type": "code",
   "execution_count": null,
   "metadata": {
    "ExecuteTime": {
     "end_time": "2018-09-27T20:06:47.324531Z",
     "start_time": "2018-09-27T20:06:19.568Z"
    }
   },
   "outputs": [],
   "source": [
    "\n",
    "for zone_label in zone_labels:\n",
    "    sums = {task_label: [] for task_label in task_labels}\n",
    "    for session in sessions:\n",
    "        for task_label in task_labels:\n",
    "            sums[task_label].extend(getattr(session, task_label).sums(zone_label))\n",
    "    print(np.array(sums[task_label]).shape)\n",
    "    \n",
    "    means = [np.nanmean(sums[task_label])\n",
    "             if len(sums[task_label]) > 0 else 0.0\n",
    "             for task_label in task_labels]\n",
    "    print(means)\n",
    "    sems = [np.nanmean(scipy.stats.sem(np.array(sums[task_label]), axis=0,\n",
    "                                       nan_policy=\"omit\"))\n",
    "            if len(sums[task_label]) > 1 else 0.0\n",
    "            for task_label in task_labels]"
   ]
  },
  {
   "cell_type": "code",
   "execution_count": null,
   "metadata": {
    "ExecuteTime": {
     "end_time": "2018-09-27T20:06:47.325530Z",
     "start_time": "2018-09-27T20:06:19.572Z"
    }
   },
   "outputs": [],
   "source": [
    "sums"
   ]
  },
  {
   "cell_type": "code",
   "execution_count": null,
   "metadata": {},
   "outputs": [],
   "source": []
  },
  {
   "cell_type": "code",
   "execution_count": null,
   "metadata": {},
   "outputs": [],
   "source": []
  },
  {
   "cell_type": "code",
   "execution_count": null,
   "metadata": {
    "ExecuteTime": {
     "end_time": "2018-09-27T20:06:47.326530Z",
     "start_time": "2018-09-27T20:06:19.583Z"
    }
   },
   "outputs": [],
   "source": [
    "[np.nanmean(scipy.stats.sem(sums[task_label], axis=0,\n",
    "                                           nan_policy=\"omit\"))\n",
    "                if len(sums[task_label]) > 1 else 0.0\n",
    "                for task_label in task_labels]"
   ]
  },
  {
   "cell_type": "code",
   "execution_count": null,
   "metadata": {
    "ExecuteTime": {
     "end_time": "2018-09-27T20:06:47.327529Z",
     "start_time": "2018-09-27T20:06:19.588Z"
    }
   },
   "outputs": [],
   "source": [
    "[np.nanmean(sums[task_label])\n",
    "                 if len(sums[task_label]) > 0 else 0.0\n",
    "                 for task_label in task_labels]"
   ]
  },
  {
   "cell_type": "code",
   "execution_count": null,
   "metadata": {},
   "outputs": [],
   "source": []
  },
  {
   "cell_type": "code",
   "execution_count": null,
   "metadata": {},
   "outputs": [],
   "source": []
  },
  {
   "cell_type": "code",
   "execution_count": null,
   "metadata": {
    "ExecuteTime": {
     "end_time": "2018-09-27T20:06:47.327529Z",
     "start_time": "2018-09-27T20:06:19.599Z"
    }
   },
   "outputs": [],
   "source": [
    "sessions = [session, session]"
   ]
  },
  {
   "cell_type": "code",
   "execution_count": null,
   "metadata": {
    "ExecuteTime": {
     "end_time": "2018-09-27T20:06:47.328528Z",
     "start_time": "2018-09-27T20:06:19.604Z"
    }
   },
   "outputs": [],
   "source": [
    "combined_means = {zone_label: [] for zone_label in zone_labels}\n",
    "trajectory_means = {zone_label: [] for zone_label in zone_labels}\n",
    "for session in sessions:\n",
    "    zone_label = \"u\"\n",
    "#     for zone_label in zone_labels:\n",
    "    task_label = \"pauseA\"\n",
    "#         for task_label in task_labels:\n",
    "    combined_means[zone_label].append(getattr(session, task_label).sums(zone_label))\n",
    "#         print([np.nanmean(getattr(session, task_label).sums(zone_label))\n",
    "#                                         if len(getattr(session, task_label).sums(zone_label)) > 0 else 0.0\n",
    "#                                         for task_label in task_labels])"
   ]
  },
  {
   "cell_type": "code",
   "execution_count": null,
   "metadata": {
    "ExecuteTime": {
     "end_time": "2018-09-27T20:06:47.329528Z",
     "start_time": "2018-09-27T20:06:19.609Z"
    }
   },
   "outputs": [],
   "source": [
    "combined_means[\"u\"]"
   ]
  },
  {
   "cell_type": "code",
   "execution_count": null,
   "metadata": {
    "ExecuteTime": {
     "end_time": "2018-09-27T20:06:47.330528Z",
     "start_time": "2018-09-27T20:06:19.615Z"
    }
   },
   "outputs": [],
   "source": [
    "session.pauseA.likelihoods.shape"
   ]
  },
  {
   "cell_type": "code",
   "execution_count": null,
   "metadata": {
    "ExecuteTime": {
     "end_time": "2018-09-27T20:06:47.331527Z",
     "start_time": "2018-09-27T20:06:19.618Z"
    }
   },
   "outputs": [],
   "source": [
    "_, position, spikes, lfp, _ = get_data(info)"
   ]
  },
  {
   "cell_type": "code",
   "execution_count": null,
   "metadata": {
    "ExecuteTime": {
     "end_time": "2018-09-27T20:06:47.331527Z",
     "start_time": "2018-09-27T20:06:19.623Z"
    }
   },
   "outputs": [],
   "source": [
    "buffer = 0.1\n",
    "for start, stop in zip(session.pauseA.swrs[0].start, session.pauseA.swrs[0].stop):\n",
    "    sliced_lfp = lfp.time_slice(start-buffer, stop+buffer)\n",
    "    swr_trace = lfp.time_slice(start, stop)\n",
    "    \n",
    "    plt.plot(sliced_lfp)"
   ]
  },
  {
   "cell_type": "code",
   "execution_count": null,
   "metadata": {
    "ExecuteTime": {
     "end_time": "2018-09-27T20:06:47.332527Z",
     "start_time": "2018-09-27T20:06:19.628Z"
    }
   },
   "outputs": [],
   "source": [
    "swr_highlight = \"#fc4e2a\"\n",
    "for swr_idx in range(session.pauseA.swrs.n_epochs):\n",
    "    \n",
    "    start = session.pauseA.swrs[swr_idx].start\n",
    "    stop = session.pauseA.swrs[swr_idx].stop\n",
    "    \n",
    "    start_idx = nept.find_nearest_idx(lfp.time, start - buffer)\n",
    "    stop_idx = nept.find_nearest_idx(lfp.time, stop + buffer)\n",
    "    plt.plot(lfp.time[start_idx:stop_idx], lfp.data[start_idx:stop_idx], color=\"k\", lw=0.3, alpha=0.9)\n",
    "\n",
    "    start_idx = nept.find_nearest_idx(lfp.time, start)\n",
    "    stop_idx = nept.find_nearest_idx(lfp.time, stop)\n",
    "    plt.plot(lfp.time[start_idx:stop_idx], lfp.data[start_idx:stop_idx], color=swr_highlight, lw=0.6)\n",
    "    plt.axis(\"off\")\n",
    "    plt.show()"
   ]
  },
  {
   "cell_type": "code",
   "execution_count": null,
   "metadata": {
    "ExecuteTime": {
     "end_time": "2018-09-27T20:06:47.333527Z",
     "start_time": "2018-09-27T20:06:19.633Z"
    }
   },
   "outputs": [],
   "source": [
    "add_rows = int(len(sliced_spikes) / 8)\n",
    "\n",
    "ms = 600 / len(sliced_spikes)\n",
    "mew = 0.7\n",
    "spike_loc = 1\n",
    "\n",
    "sliced_spikes = [spiketrain.time_slice(start-buffer, stop+buffer) for spiketrain in spikes]\n",
    "\n",
    "for idx, neuron_spikes in enumerate(sliced_spikes):\n",
    "    plt.plot(neuron_spikes.time, np.ones(len(neuron_spikes.time)) + (idx * spike_loc), '|',\n",
    "             color='k', ms=ms, mew=mew)\n",
    "plt.axis('off')\n",
    "plt.show()"
   ]
  },
  {
   "cell_type": "code",
   "execution_count": null,
   "metadata": {},
   "outputs": [],
   "source": []
  },
  {
   "cell_type": "code",
   "execution_count": null,
   "metadata": {
    "ExecuteTime": {
     "end_time": "2018-09-27T20:06:47.334525Z",
     "start_time": "2018-09-27T20:06:19.640Z"
    }
   },
   "outputs": [],
   "source": [
    "session.pauseA.likelihoods.shape"
   ]
  },
  {
   "cell_type": "code",
   "execution_count": null,
   "metadata": {
    "ExecuteTime": {
     "end_time": "2018-09-27T20:06:47.335525Z",
     "start_time": "2018-09-27T20:06:19.646Z"
    }
   },
   "outputs": [],
   "source": [
    "session.pauseA.swrs[0].starts"
   ]
  },
  {
   "cell_type": "code",
   "execution_count": null,
   "metadata": {
    "ExecuteTime": {
     "end_time": "2018-09-27T20:06:47.338523Z",
     "start_time": "2018-09-27T20:06:19.652Z"
    }
   },
   "outputs": [],
   "source": [
    "session.pauseA.swrs.n_epochs"
   ]
  },
  {
   "cell_type": "code",
   "execution_count": null,
   "metadata": {
    "ExecuteTime": {
     "end_time": "2018-09-27T20:06:47.339524Z",
     "start_time": "2018-09-27T20:06:19.656Z"
    }
   },
   "outputs": [],
   "source": [
    "session.pauseA.likelihoods.shape"
   ]
  },
  {
   "cell_type": "code",
   "execution_count": null,
   "metadata": {
    "ExecuteTime": {
     "end_time": "2018-09-27T20:06:47.340523Z",
     "start_time": "2018-09-27T20:06:19.660Z"
    }
   },
   "outputs": [],
   "source": [
    "session.pauseA.sums(\"u\").shape"
   ]
  },
  {
   "cell_type": "code",
   "execution_count": null,
   "metadata": {
    "ExecuteTime": {
     "end_time": "2018-09-27T20:06:47.341522Z",
     "start_time": "2018-09-27T20:06:19.665Z"
    }
   },
   "outputs": [],
   "source": [
    "session.pauseA.zones[\"u\"].shape"
   ]
  },
  {
   "cell_type": "code",
   "execution_count": null,
   "metadata": {
    "ExecuteTime": {
     "end_time": "2018-09-27T20:06:47.342521Z",
     "start_time": "2018-09-27T20:06:19.673Z"
    }
   },
   "outputs": [],
   "source": [
    "np.nansum(session.pauseA.likelihoods[:, :, session.pauseA.zones[\"u\"]], axis=2)"
   ]
  },
  {
   "cell_type": "code",
   "execution_count": null,
   "metadata": {
    "ExecuteTime": {
     "end_time": "2018-09-27T20:06:47.343520Z",
     "start_time": "2018-09-27T20:06:19.680Z"
    }
   },
   "outputs": [],
   "source": [
    "for i in range(session.pauseA.swrs.n_epochs):\n",
    "    a = session.pauseA.likelihoods[:, i][0]"
   ]
  },
  {
   "cell_type": "code",
   "execution_count": null,
   "metadata": {
    "ExecuteTime": {
     "end_time": "2018-09-27T20:06:47.344520Z",
     "start_time": "2018-09-27T20:06:19.688Z"
    }
   },
   "outputs": [],
   "source": [
    "xx, yy = get_bin_centers(info)\n",
    "print(xx.shape, yy.shape)"
   ]
  },
  {
   "cell_type": "code",
   "execution_count": null,
   "metadata": {
    "ExecuteTime": {
     "end_time": "2018-09-27T20:06:47.344520Z",
     "start_time": "2018-09-27T20:06:19.694Z"
    }
   },
   "outputs": [],
   "source": [
    "p = plt.pcolormesh(xx, yy, a)\n",
    "plt.show()"
   ]
  },
  {
   "cell_type": "code",
   "execution_count": null,
   "metadata": {
    "ExecuteTime": {
     "end_time": "2018-09-27T20:06:47.345520Z",
     "start_time": "2018-09-27T20:06:19.699Z"
    }
   },
   "outputs": [],
   "source": [
    "likelihood_shuffled = getattr(shuffled_session, task_label).likelihoods[:, swr_idx]"
   ]
  },
  {
   "cell_type": "code",
   "execution_count": null,
   "metadata": {
    "ExecuteTime": {
     "end_time": "2018-09-27T20:06:47.347518Z",
     "start_time": "2018-09-27T20:06:19.704Z"
    }
   },
   "outputs": [],
   "source": [
    "zones = getattr(session, task_label).zones"
   ]
  },
  {
   "cell_type": "code",
   "execution_count": null,
   "metadata": {
    "ExecuteTime": {
     "end_time": "2018-09-27T20:06:47.347518Z",
     "start_time": "2018-09-27T20:06:19.709Z"
    }
   },
   "outputs": [],
   "source": [
    "likelihood_shuffled.shape"
   ]
  },
  {
   "cell_type": "code",
   "execution_count": null,
   "metadata": {
    "ExecuteTime": {
     "end_time": "2018-09-27T20:06:47.348518Z",
     "start_time": "2018-09-27T20:06:19.713Z"
    }
   },
   "outputs": [],
   "source": [
    "shuffled_means = [scipy.stats.sem(np.nansum(likelihood_shuffled[:, zones[zone_label]], axis=1))\n",
    "                  for zone_label in zone_labels]"
   ]
  },
  {
   "cell_type": "code",
   "execution_count": null,
   "metadata": {
    "ExecuteTime": {
     "end_time": "2018-09-27T20:06:47.349517Z",
     "start_time": "2018-09-27T20:06:19.718Z"
    }
   },
   "outputs": [],
   "source": [
    "scipy.stats.sem(np.nansum(likelihood_shuffled[:, zones[\"other\"]], axis=1), nan_policy=\"omit\")"
   ]
  },
  {
   "cell_type": "code",
   "execution_count": null,
   "metadata": {
    "ExecuteTime": {
     "end_time": "2018-09-27T20:06:47.353515Z",
     "start_time": "2018-09-27T20:06:19.723Z"
    }
   },
   "outputs": [],
   "source": [
    "shuffled_means"
   ]
  },
  {
   "cell_type": "code",
   "execution_count": null,
   "metadata": {
    "ExecuteTime": {
     "end_time": "2018-09-27T20:06:47.354514Z",
     "start_time": "2018-09-27T20:06:19.728Z"
    }
   },
   "outputs": [],
   "source": [
    "n = np.arange(len(means))\n",
    "plt.bar(n, means,\n",
    "        color=[colours[\"u\"], colours[\"shortcut\"], colours[\"novel\"], colours[\"other\"]], edgecolor='k')\n",
    "plt.set_xticks(n)\n",
    "plt.set_xticklabels([], rotation=90)\n",
    "plt.set_ylim([0, 1.])\n",
    "plt.set_title(\"True proportion\", fontsize=14)"
   ]
  },
  {
   "cell_type": "code",
   "execution_count": null,
   "metadata": {
    "ExecuteTime": {
     "end_time": "2018-09-27T20:06:47.355513Z",
     "start_time": "2018-09-27T20:06:19.732Z"
    }
   },
   "outputs": [],
   "source": [
    "session.prerecord.likelihoods.shape"
   ]
  },
  {
   "cell_type": "code",
   "execution_count": null,
   "metadata": {
    "ExecuteTime": {
     "end_time": "2018-09-27T20:06:47.357512Z",
     "start_time": "2018-09-27T20:06:19.738Z"
    }
   },
   "outputs": [],
   "source": [
    "session.prerecord.swrs.n_epochs"
   ]
  },
  {
   "cell_type": "code",
   "execution_count": null,
   "metadata": {
    "ExecuteTime": {
     "end_time": "2018-09-27T20:06:47.358511Z",
     "start_time": "2018-09-27T20:06:19.743Z"
    }
   },
   "outputs": [],
   "source": [
    "def plot_summary_individual(info, session_true, session_shuffled, zone_labels, task_labels, colours, filepath=None):\n",
    "    \n",
    "    _, position, spikes, lfp, _ = get_data(info)\n",
    "    \n",
    "    buffer = 0.1\n",
    "\n",
    "    for task_label in task_labels:\n",
    "        print(task_label)\n",
    "        swrs = getattr(session, task_label).swrs\n",
    "        zones = getattr(session, task_label).zones\n",
    "\n",
    "        for swr_idx in range(swrs.n_epochs):\n",
    "            print(\"swr:\" + str(swr_idx))\n",
    "            start = swrs[swr_idx].start\n",
    "            stop = swrs[swr_idx].stop\n",
    "\n",
    "            sliced_spikes = [spiketrain.time_slice(start-buffer, stop+buffer) for spiketrain in spikes]\n",
    "\n",
    "            add_rows = int(len(sliced_spikes) / 8)\n",
    "\n",
    "            ms = 600 / len(sliced_spikes)\n",
    "            mew = 0.7\n",
    "            spike_loc = 1\n",
    "\n",
    "            fig = plt.figure(figsize=(8, 8))\n",
    "            gs1 = gridspec.GridSpec(3, 2)\n",
    "            gs1.update(wspace=0.3, hspace=0.3)\n",
    "\n",
    "            ax1 = plt.subplot(gs1[1:, 0])\n",
    "            for idx, neuron_spikes in enumerate(sliced_spikes):\n",
    "                ax1.plot(neuron_spikes.time, np.ones(len(neuron_spikes.time)) + (idx * spike_loc), '|',\n",
    "                         color='k', ms=ms, mew=mew)\n",
    "            ax1.axis('off')\n",
    "\n",
    "            ax2 = plt.subplot(gs1[0, 0], sharex=ax1)\n",
    "\n",
    "            swr_highlight = \"#fc4e2a\"\n",
    "            start_idx = nept.find_nearest_idx(lfp.time, start - buffer)\n",
    "            stop_idx = nept.find_nearest_idx(lfp.time, stop + buffer)\n",
    "            ax2.plot(lfp.time[start_idx:stop_idx], lfp.data[start_idx:stop_idx], color=\"k\", lw=0.3, alpha=0.9)\n",
    "\n",
    "            start_idx = nept.find_nearest_idx(lfp.time, start)\n",
    "            stop_idx = nept.find_nearest_idx(lfp.time, stop)\n",
    "            ax2.plot(lfp.time[start_idx:stop_idx], lfp.data[start_idx:stop_idx], color=swr_highlight, lw=0.6)\n",
    "            ax2.axis(\"off\")\n",
    "\n",
    "            ax1.axvline(lfp.time[start_idx], linewidth=1, color=swr_highlight)\n",
    "            ax1.axvline(lfp.time[stop_idx], linewidth=1, color=swr_highlight)\n",
    "            ax1.axvspan(lfp.time[start_idx], lfp.time[stop_idx], alpha=0.2, color=swr_highlight)\n",
    "\n",
    "            scalebar.add_scalebar(ax2, matchy=False, bbox_transform=fig.transFigure,\n",
    "                                  bbox_to_anchor=(0.25, 0.05), units='ms')\n",
    "            \n",
    "            likelihood_true = np.array(getattr(session_true, task_label).likelihoods[:, swr_idx])\n",
    "\n",
    "            likelihood_true[np.isnan(likelihood_true)] = 0\n",
    "\n",
    "            xx, yy = np.meshgrid(info.xedges, info.yedges)\n",
    "            xcenters, ycenters = get_bin_centers(info)\n",
    "            xxx, yyy = np.meshgrid(xcenters, ycenters)\n",
    "\n",
    "            maze_highlight = \"#fed976\"\n",
    "            ax3 = plt.subplot(gs1[0, 1])\n",
    "            sliced_position = position.time_slice(info.task_times[\"phase3\"].starts, info.task_times[\"phase3\"].stops)\n",
    "            ax3.plot(sliced_position.x, sliced_position.y, \".\", color=maze_highlight, ms=1, alpha=0.2)\n",
    "            pp = ax3.pcolormesh(xx, yy, likelihood_true[0], cmap='bone_r')\n",
    "            for label in [\"u\", \"shortcut\", \"novel\"]:\n",
    "                ax3.contour(xxx, yyy, zones[label], levels=0, linewidths=2, colors=colours[label])\n",
    "            plt.colorbar(pp)\n",
    "            ax3.axis('off')\n",
    "            \n",
    "            likelihood_true = getattr(session_true, task_label).likelihoods[:, swr_idx]\n",
    "            \n",
    "            means_true = [np.nanmean(np.nansum(likelihood_true[:, zones[zone_label]], axis=1))\n",
    "                          for zone_label in zone_labels]\n",
    "\n",
    "            ax4 = plt.subplot(gs1[1:2, 1])\n",
    "            n = np.arange(len(zone_labels))\n",
    "            ax4.bar(n, means_true,\n",
    "                    color=[colours[zone_label] for zone_label in zone_labels], edgecolor='k')\n",
    "            ax4.set_xticks(n)\n",
    "            ax4.set_xticklabels([], rotation=90)\n",
    "            ax4.set_ylim([0, 1.])\n",
    "            ax4.set_title(\"True proportion\", fontsize=14)\n",
    "            \n",
    "            likelihood_shuffled = getattr(session_shuffled, task_label).likelihoods[:, swr_idx]\n",
    "            \n",
    "            means_shuffled = [np.nanmean(np.nansum(likelihood_shuffled[:, zones[zone_label]], axis=1))                    \n",
    "                              for zone_label in zone_labels]\n",
    "            sems_shuffled = [scipy.stats.sem(np.nansum(likelihood_shuffled[:, zones[zone_label]], axis=1))                                          \n",
    "                             for zone_label in zone_labels]\n",
    "\n",
    "            ax5 = plt.subplot(gs1[2:, 1], sharey=ax4)\n",
    "            n = np.arange(len(zone_labels))\n",
    "            ax5.bar(n, means_shuffled,\n",
    "                    yerr=sems_shuffled,\n",
    "                    color=[colours[zone_label] for zone_label in zone_labels], edgecolor='k')\n",
    "            ax5.set_xticks(n)                                                                                                                                            \n",
    "            ax5.set_xticklabels(zone_labels, rotation=90)\n",
    "            ax5.set_ylim([0, 1.])\n",
    "            ax5.set_title(\"Shuffled proportion\", fontsize=14)\n",
    "\n",
    "            plt.tight_layout()\n",
    "\n",
    "            if filepath is not None:\n",
    "                filename = info.session_id+\"_\"+task_label+\"_summary-swr\"+str(swr_idx)+\".png\"\n",
    "                plt.savefig(os.path.join(output_filepath, filename))\n",
    "                plt.close()\n",
    "            else:\n",
    "                plt.show()"
   ]
  },
  {
   "cell_type": "code",
   "execution_count": null,
   "metadata": {
    "ExecuteTime": {
     "end_time": "2018-09-27T20:06:47.359511Z",
     "start_time": "2018-09-27T20:06:19.749Z"
    },
    "scrolled": true
   },
   "outputs": [],
   "source": [
    "plot_summary_individual(info, true_session, shuffled_session, zone_labels, task_labels, colours)"
   ]
  },
  {
   "cell_type": "code",
   "execution_count": null,
   "metadata": {},
   "outputs": [],
   "source": []
  }
 ],
 "metadata": {
  "kernelspec": {
   "display_name": "Python 3",
   "language": "python",
   "name": "python3"
  },
  "language_info": {
   "codemirror_mode": {
    "name": "ipython",
    "version": 3
   },
   "file_extension": ".py",
   "mimetype": "text/x-python",
   "name": "python",
   "nbconvert_exporter": "python",
   "pygments_lexer": "ipython3",
   "version": "3.6.5"
  },
  "toc": {
   "colors": {
    "hover_highlight": "#DAA520",
    "running_highlight": "#FF0000",
    "selected_highlight": "#FFD700"
   },
   "moveMenuLeft": true,
   "nav_menu": {
    "height": "12px",
    "width": "252px"
   },
   "navigate_menu": true,
   "number_sections": true,
   "sideBar": true,
   "threshold": 4,
   "toc_cell": false,
   "toc_section_display": "block",
   "toc_window_display": false
  }
 },
 "nbformat": 4,
 "nbformat_minor": 2
}
