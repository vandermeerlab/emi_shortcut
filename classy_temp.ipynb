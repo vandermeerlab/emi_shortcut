{
 "cells": [
  {
   "cell_type": "code",
   "execution_count": null,
   "metadata": {
    "ExecuteTime": {
     "end_time": "2018-11-13T17:08:48.723152Z",
     "start_time": "2018-11-13T17:08:47.613415Z"
    },
    "collapsed": true
   },
   "outputs": [],
   "source": [
    "%matplotlib inline\n",
    "import matplotlib.pyplot as plt\n",
    "import os\n",
    "import numpy as np\n",
    "\n",
    "from analyze_decode_swrs import get_decoded_swr_plots"
   ]
  },
  {
   "cell_type": "code",
   "execution_count": null,
   "metadata": {
    "ExecuteTime": {
     "end_time": "2018-11-13T17:08:48.756109Z",
     "start_time": "2018-11-13T17:08:48.725127Z"
    },
    "collapsed": true
   },
   "outputs": [],
   "source": [
    "import info.r063d6 as r063d6\n",
    "import info.r063d7 as r063d7\n",
    "infos = [r063d6, r063d7]"
   ]
  },
  {
   "cell_type": "code",
   "execution_count": null,
   "metadata": {
    "ExecuteTime": {
     "end_time": "2018-11-13T17:27:14.215235Z",
     "start_time": "2018-11-13T17:08:48.757108Z"
    },
    "collapsed": true
   },
   "outputs": [],
   "source": [
    "from run import (analysis_infos,\n",
    "                 r063_infos, r066_infos, r067_infos, r068_infos,\n",
    "                 days1234_infos, days5678_infos,\n",
    "                 day1_infos, day2_infos, day3_infos, day4_infos, day5_infos, day6_infos, day7_infos, day8_infos)\n",
    "\n",
    "# import info.r066d2 as r066d2\n",
    "# import info.r068d8 as r068d8\n",
    "# infos = [r068d8, r066d2]\n",
    "# group = \"test\"\n",
    "# get_decoded_swr_plots(infos, group=group, update_cache=True)\n",
    "\n",
    "info_groups = dict()\n",
    "# info_groups[\"All\"] = analysis_infos\n",
    "info_groups[\"R063\"] = r063_infos\n",
    "info_groups[\"R066\"] = r066_infos\n",
    "info_groups[\"R067\"] = r067_infos\n",
    "info_groups[\"R068\"] = r068_infos\n",
    "# info_groups[\"Days1234\"] = days1234_infos\n",
    "# info_groups[\"Days5678\"] = days5678_infos\n",
    "# info_groups[\"Day1\"] = day1_infos\n",
    "# info_groups[\"Day2\"] = day2_infos\n",
    "# info_groups[\"Day3\"] = day3_infos\n",
    "# info_groups[\"Day4\"] = day4_infos\n",
    "# info_groups[\"Day5\"] = day5_infos\n",
    "# info_groups[\"Day6\"] = day6_infos\n",
    "# info_groups[\"Day7\"] = day7_infos\n",
    "# info_groups[\"Day8\"] = day8_infos\n",
    "\n",
    "# get_decoded_swr_plots(analysis_infos, group=\"All\", z_thresh=1., power_thresh=2., update_cache=True)\n",
    "\n",
    "\n",
    "get_decoded_swr_plots(infos, group=\"All\", z_thresh=2., power_thresh=3., update_cache=True)"
   ]
  },
  {
   "cell_type": "code",
   "execution_count": null,
   "metadata": {
    "ExecuteTime": {
     "end_time": "2018-11-13T17:27:14.223231Z",
     "start_time": "2018-11-13T17:27:14.217235Z"
    },
    "collapsed": true
   },
   "outputs": [],
   "source": [
    "u = []\n",
    "len(u)"
   ]
  },
  {
   "cell_type": "code",
   "execution_count": null,
   "metadata": {
    "collapsed": true
   },
   "outputs": [],
   "source": []
  },
  {
   "cell_type": "code",
   "execution_count": null,
   "metadata": {
    "collapsed": true
   },
   "outputs": [],
   "source": []
  },
  {
   "cell_type": "code",
   "execution_count": null,
   "metadata": {
    "ExecuteTime": {
     "end_time": "2018-11-13T18:21:37.793483Z",
     "start_time": "2018-11-13T17:27:14.225230Z"
    },
    "collapsed": true
   },
   "outputs": [],
   "source": [
    "for infos, group in zip(info_groups.values(), info_groups.keys()):\n",
    "    get_decoded_swr_plots(infos, group, z_thresh=1., power_thresh=2., update_cache=False)\n",
    "\n",
    "for power_thresh in [3, 4, 5]:\n",
    "    get_decoded_swr_plots(analysis_infos, group=\"All\", power_thresh=power_thresh, update_cache=True)\n",
    "\n",
    "    for infos, group in zip(info_groups.values(), info_groups.keys()):\n",
    "        get_decoded_swr_plots(infos, group, power_thresh=power_thresh, update_cache=False)"
   ]
  },
  {
   "cell_type": "code",
   "execution_count": null,
   "metadata": {
    "collapsed": true
   },
   "outputs": [],
   "source": []
  },
  {
   "cell_type": "code",
   "execution_count": null,
   "metadata": {
    "collapsed": true
   },
   "outputs": [],
   "source": []
  },
  {
   "cell_type": "code",
   "execution_count": null,
   "metadata": {},
   "outputs": [],
   "source": [
    "10+10+15+5"
   ]
  },
  {
   "cell_type": "code",
   "execution_count": null,
   "metadata": {
    "collapsed": true
   },
   "outputs": [],
   "source": []
  }
 ],
 "metadata": {
  "kernelspec": {
   "display_name": "Python 3",
   "language": "python",
   "name": "python3"
  },
  "language_info": {
   "codemirror_mode": {
    "name": "ipython",
    "version": 3
   },
   "file_extension": ".py",
   "mimetype": "text/x-python",
   "name": "python",
   "nbconvert_exporter": "python",
   "pygments_lexer": "ipython3",
   "version": "3.6.5"
  },
  "toc": {
   "colors": {
    "hover_highlight": "#DAA520",
    "running_highlight": "#FF0000",
    "selected_highlight": "#FFD700"
   },
   "moveMenuLeft": true,
   "nav_menu": {
    "height": "12px",
    "width": "252px"
   },
   "navigate_menu": true,
   "number_sections": true,
   "sideBar": true,
   "threshold": 4,
   "toc_cell": false,
   "toc_section_display": "block",
   "toc_window_display": false
  }
 },
 "nbformat": 4,
 "nbformat_minor": 2
}
