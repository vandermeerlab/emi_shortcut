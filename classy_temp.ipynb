{
 "cells": [
  {
   "cell_type": "code",
   "execution_count": null,
   "metadata": {
    "ExecuteTime": {
     "end_time": "2018-09-24T18:39:35.608324Z",
     "start_time": "2018-09-24T18:39:35.603327Z"
    }
   },
   "outputs": [],
   "source": [
    "zone_labels = [\"u\", \"shortcut\", \"novel\", \"other\"]\n",
    "\n",
    "a = {zone_label: [] for zone_label in zone_labels}"
   ]
  },
  {
   "cell_type": "code",
   "execution_count": null,
   "metadata": {
    "ExecuteTime": {
     "end_time": "2018-09-24T18:39:35.628314Z",
     "start_time": "2018-09-24T18:39:35.614321Z"
    }
   },
   "outputs": [],
   "source": [
    "a[\"u\"] = [1.,2.,3.]"
   ]
  },
  {
   "cell_type": "code",
   "execution_count": null,
   "metadata": {
    "ExecuteTime": {
     "end_time": "2018-09-24T18:39:35.652299Z",
     "start_time": "2018-09-24T18:39:35.630311Z"
    }
   },
   "outputs": [],
   "source": [
    "a"
   ]
  },
  {
   "cell_type": "code",
   "execution_count": null,
   "metadata": {
    "ExecuteTime": {
     "end_time": "2018-09-24T18:39:35.673287Z",
     "start_time": "2018-09-24T18:39:35.654298Z"
    }
   },
   "outputs": [],
   "source": [
    "for zone in a:\n",
    "    print(zone)\n",
    "    print(a[zone])"
   ]
  },
  {
   "cell_type": "code",
   "execution_count": null,
   "metadata": {},
   "outputs": [],
   "source": []
  },
  {
   "cell_type": "code",
   "execution_count": null,
   "metadata": {
    "ExecuteTime": {
     "end_time": "2018-09-24T18:39:42.803525Z",
     "start_time": "2018-09-24T18:39:35.675286Z"
    }
   },
   "outputs": [],
   "source": [
    "%matplotlib inline\n",
    "import matplotlib.pyplot as plt\n",
    "import numpy as np\n",
    "import warnings\n",
    "import random\n",
    "import scipy\n",
    "import pickle\n",
    "import os\n",
    "import nept\n",
    "\n",
    "from loading_data import get_data\n",
    "from analyze_tuning_curves import get_only_tuning_curves\n",
    "from utils_maze import get_zones\n",
    "from analyze_decode_swrs import (plot_summary_individual,\n",
    "                                 plot_likelihood_overspace,\n",
    "                                 plot_combined,\n",
    "                                 plot_stacked_summary)\n",
    "\n",
    "thisdir = os.getcwd()\n",
    "pickle_filepath = os.path.join(thisdir, \"cache\", \"pickled\")\n",
    "output_filepath = os.path.join(thisdir, \"plots\", \"trials\", \"decoding\", \"shuffled\")\n",
    "if not os.path.exists(output_filepath):\n",
    "    os.makedirs(output_filepath)\n",
    "\n",
    "# Set random seeds\n",
    "random.seed(0)\n",
    "np.random.seed(0)"
   ]
  },
  {
   "cell_type": "code",
   "execution_count": null,
   "metadata": {
    "ExecuteTime": {
     "end_time": "2018-09-24T19:26:40.047635Z",
     "start_time": "2018-09-24T19:26:40.037641Z"
    }
   },
   "outputs": [],
   "source": [
    "class Session:\n",
    "    \"\"\"A collection of LikelihoodsAtTaskTime for each session\n",
    "\n",
    "        Parameters\n",
    "        ----------\n",
    "        task_times : dict of TaskTime\n",
    "\n",
    "    \"\"\"\n",
    "\n",
    "    def __init__(self, task_labels, zones):\n",
    "        for task_label in task_labels:\n",
    "            setattr(self, task_label, TaskTime([], zones))\n",
    "\n",
    "\n",
    "class TaskTime:\n",
    "    \"\"\"A set of decoded likelihoods for a given task time\n",
    "\n",
    "        Parameters\n",
    "        ----------\n",
    "        likelihoods : np.array\n",
    "            With shape (ntimebins, nxbins, nybins)\n",
    "        zones : dict of Zones\n",
    "\n",
    "        Attributes\n",
    "        ----------\n",
    "        likelihoods : np.array\n",
    "            With shape (ntimebins, nxbins, nybins)\n",
    "\n",
    "    \"\"\"\n",
    "\n",
    "    def __init__(self, likelihoods, zones):\n",
    "        self.likelihoods = likelihoods\n",
    "        for label in zones:\n",
    "            setattr(self, label, Zone(label, zones[label], self.likelihoods))\n",
    "\n",
    "\n",
    "class Zone:\n",
    "    \"\"\"Summary of decoded likelihoods for a given physical zone\n",
    "\n",
    "            Parameters\n",
    "            ----------\n",
    "            label : str\n",
    "            zone : bool\n",
    "\n",
    "            Attributes\n",
    "            ----------\n",
    "            label : str\n",
    "            zone : bool\n",
    "            sum : np.array\n",
    "            mean : np.array\n",
    "            max : np.array\n",
    "\n",
    "        \"\"\"\n",
    "\n",
    "    def __init__(self, label, zone, likelihoods):\n",
    "        self.label = label\n",
    "        self.zone = zone\n",
    "        self.likelihoods = likelihoods\n",
    "\n",
    "    def sum(self):\n",
    "        if len(self.likelihoods) > 0:\n",
    "            print(\"I don't get it\")\n",
    "            return np.nansum(self.likelihoods[:, self.zone], axis=1)\n",
    "            \n",
    "        else:\n",
    "            print(self.likelihoods)\n",
    "            return np.nan\n",
    "            \n",
    "\n",
    "    def mean(self):\n",
    "        if len(self.likelihoods) > 0:\n",
    "            return np.nanmean(self.likelihoods[:, self.zone], axis=1)\n",
    "        else:\n",
    "            return np.nan\n",
    "\n",
    "    def max(self):\n",
    "        if len(self.likelihoods) > 0:\n",
    "            return np.nanmax(self.likelihoods[:, self.zone], axis=1)\n",
    "        else:\n",
    "            return np.nan"
   ]
  },
  {
   "cell_type": "code",
   "execution_count": null,
   "metadata": {
    "ExecuteTime": {
     "end_time": "2018-09-24T19:26:41.704777Z",
     "start_time": "2018-09-24T19:26:40.349463Z"
    }
   },
   "outputs": [],
   "source": [
    "import info.r068d8 as r068d8\n",
    "info = r068d8\n",
    "\n",
    "events, position, spikes, lfp, _ = get_data(info)\n",
    "\n",
    "# Define zones\n",
    "zones = dict()\n",
    "zones[\"u\"], zones[\"shortcut\"], zones[\"novel\"] = get_zones(info, position, subset=True)\n",
    "combined_zones = zones[\"u\"] + zones[\"shortcut\"] + zones[\"novel\"]\n",
    "zones[\"other\"] = ~combined_zones\n",
    "\n",
    "tuning_curves_fromdata = get_only_tuning_curves(info,\n",
    "                                           position,\n",
    "                                           spikes,\n",
    "                                           info.task_times[\"phase3\"])"
   ]
  },
  {
   "cell_type": "code",
   "execution_count": null,
   "metadata": {
    "ExecuteTime": {
     "end_time": "2018-09-24T19:26:41.710790Z",
     "start_time": "2018-09-24T19:26:41.706776Z"
    }
   },
   "outputs": [],
   "source": [
    "task_labels = [\"prerecord\", \"pauseA\", \"pauseB\", \"postrecord\"]\n",
    "zone_labels = [\"u\", \"shortcut\", \"novel\", \"other\"]"
   ]
  },
  {
   "cell_type": "code",
   "execution_count": null,
   "metadata": {
    "ExecuteTime": {
     "end_time": "2018-09-24T19:26:47.051065Z",
     "start_time": "2018-09-24T19:26:41.712773Z"
    }
   },
   "outputs": [],
   "source": [
    "# swr params\n",
    "z_thresh = 2.0\n",
    "power_thresh = 3.0\n",
    "merge_thresh = 0.02\n",
    "min_length = 0.05\n",
    "swr_thresh = (140.0, 250.0)\n",
    "\n",
    "swrs = nept.detect_swr_hilbert(lfp, fs=info.fs, thresh=swr_thresh, z_thresh=z_thresh,\n",
    "                       power_thresh=power_thresh, merge_thresh=merge_thresh, min_length=min_length)\n",
    "swrs = nept.find_multi_in_epochs(spikes, swrs, min_involved=4)\n",
    "\n",
    "rest_epochs = nept.rest_threshold(position, thresh=12., t_smooth=0.8)\n",
    "\n",
    "# Restrict SWRs to those during epochs of interest during rest\n",
    "phase_swrs = dict()\n",
    "\n",
    "for task_time in task_labels:\n",
    "    epochs_of_interest = info.task_times[task_time].intersect(rest_epochs)\n",
    "\n",
    "    phase_swrs[task_time] = epochs_of_interest.overlaps(swrs)\n",
    "    phase_swrs[task_time] = phase_swrs[task_time][phase_swrs[task_time].durations >= 0.05]"
   ]
  },
  {
   "cell_type": "code",
   "execution_count": null,
   "metadata": {
    "ExecuteTime": {
     "end_time": "2018-09-24T19:26:47.057062Z",
     "start_time": "2018-09-24T19:26:47.053064Z"
    }
   },
   "outputs": [],
   "source": [
    "from analyze_classy_decode import bin_spikes"
   ]
  },
  {
   "cell_type": "code",
   "execution_count": null,
   "metadata": {
    "ExecuteTime": {
     "end_time": "2018-09-24T19:45:10.440445Z",
     "start_time": "2018-09-24T19:45:09.353843Z"
    }
   },
   "outputs": [],
   "source": [
    "tc_shape = tuning_curves_fromdata.shape\n",
    "tuning_curves = tuning_curves_fromdata.reshape(tc_shape[0], tc_shape[1] * tc_shape[2])\n",
    "\n",
    "session = Session(task_labels, zones)\n",
    "\n",
    "for i, task_label in enumerate(task_labels):\n",
    "    phase_likelihoods = np.empty((phase_swrs[task_label].n_epochs, tc_shape[1], tc_shape[2]))\n",
    "    for j, (start, stop) in enumerate(zip(phase_swrs[task_label].starts, phase_swrs[task_label].stops)):\n",
    "        t_window = stop-start  # 0.1 for running, 0.025 for swr\n",
    "\n",
    "        sliced_spikes = [spiketrain.time_slice(start, stop) for spiketrain in spikes]\n",
    "\n",
    "        counts = bin_spikes(sliced_spikes, np.array([start, stop]), dt=t_window, window=t_window,\n",
    "                            gaussian_std=0.0075, normalized=False)\n",
    "\n",
    "        likelihood = nept.bayesian_prob(counts, tuning_curves, binsize=t_window, min_neurons=3, min_spikes=1)\n",
    "\n",
    "        phase_likelihoods[j] = likelihood.reshape(tc_shape[1], tc_shape[2])\n",
    "\n",
    "    tasktime = getattr(session, task_label)\n",
    "    tasktime.likelihoods = phase_likelihoods\n",
    "    \n",
    "    for zone_label in zone_labels:\n",
    "        zone = getattr(tasktime, zone_label)\n",
    "        zone.likelihoods = phase_likelihoods"
   ]
  },
  {
   "cell_type": "code",
   "execution_count": null,
   "metadata": {
    "ExecuteTime": {
     "end_time": "2018-09-24T19:45:11.253897Z",
     "start_time": "2018-09-24T19:45:11.249899Z"
    }
   },
   "outputs": [],
   "source": [
    "len(session.pauseA.likelihoods)"
   ]
  },
  {
   "cell_type": "code",
   "execution_count": null,
   "metadata": {
    "ExecuteTime": {
     "end_time": "2018-09-24T19:45:11.904976Z",
     "start_time": "2018-09-24T19:45:11.899978Z"
    }
   },
   "outputs": [],
   "source": [
    "session.pauseA.shortcut.sum()"
   ]
  },
  {
   "cell_type": "code",
   "execution_count": null,
   "metadata": {
    "ExecuteTime": {
     "end_time": "2018-09-24T19:23:32.767473Z",
     "start_time": "2018-09-24T19:23:32.759460Z"
    }
   },
   "outputs": [],
   "source": [
    "trythis = session.pauseA.likelihoods\n",
    "trythat = session.pauseA.shortcut.zone"
   ]
  },
  {
   "cell_type": "code",
   "execution_count": null,
   "metadata": {
    "ExecuteTime": {
     "end_time": "2018-09-24T19:23:32.779448Z",
     "start_time": "2018-09-24T19:23:32.769454Z"
    }
   },
   "outputs": [],
   "source": [
    "trythis.shape, trythat.shape"
   ]
  },
  {
   "cell_type": "code",
   "execution_count": null,
   "metadata": {
    "ExecuteTime": {
     "end_time": "2018-09-24T19:23:32.790442Z",
     "start_time": "2018-09-24T19:23:32.780448Z"
    }
   },
   "outputs": [],
   "source": [
    "np.nansum(trythis[:, trythat], axis=1)"
   ]
  },
  {
   "cell_type": "code",
   "execution_count": null,
   "metadata": {},
   "outputs": [],
   "source": []
  },
  {
   "cell_type": "code",
   "execution_count": null,
   "metadata": {},
   "outputs": [],
   "source": []
  },
  {
   "cell_type": "code",
   "execution_count": null,
   "metadata": {},
   "outputs": [],
   "source": []
  },
  {
   "cell_type": "code",
   "execution_count": null,
   "metadata": {},
   "outputs": [],
   "source": []
  },
  {
   "cell_type": "code",
   "execution_count": null,
   "metadata": {},
   "outputs": [],
   "source": []
  }
 ],
 "metadata": {
  "kernelspec": {
   "display_name": "Python 3",
   "language": "python",
   "name": "python3"
  },
  "language_info": {
   "codemirror_mode": {
    "name": "ipython",
    "version": 3
   },
   "file_extension": ".py",
   "mimetype": "text/x-python",
   "name": "python",
   "nbconvert_exporter": "python",
   "pygments_lexer": "ipython3",
   "version": "3.6.5"
  },
  "toc": {
   "colors": {
    "hover_highlight": "#DAA520",
    "running_highlight": "#FF0000",
    "selected_highlight": "#FFD700"
   },
   "moveMenuLeft": true,
   "nav_menu": {
    "height": "12px",
    "width": "252px"
   },
   "navigate_menu": true,
   "number_sections": true,
   "sideBar": true,
   "threshold": 4,
   "toc_cell": false,
   "toc_section_display": "block",
   "toc_window_display": false
  }
 },
 "nbformat": 4,
 "nbformat_minor": 2
}
