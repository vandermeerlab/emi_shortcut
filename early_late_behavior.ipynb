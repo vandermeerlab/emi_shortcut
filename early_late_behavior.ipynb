{
 "cells": [
  {
   "cell_type": "code",
   "execution_count": null,
   "metadata": {
    "collapsed": false
   },
   "outputs": [],
   "source": [
    "%matplotlib inline\n",
    "import matplotlib.pyplot as plt\n",
    "import os\n",
    "import numpy as np\n",
    "import scipy\n",
    "import seaborn as sns\n",
    "import pandas as pd\n",
    "\n",
    "from loading_data import get_data\n",
    "from utils_maze import get_xyedges, get_trial_idx, get_zones\n",
    "from utils_plotting import plot_proportions, plot_bydurations, plot_bytrial\n",
    "\n",
    "import vdmlab as vdm\n",
    "\n",
    "sns.set_style('white')\n",
    "sns.set_style('ticks')"
   ]
  },
  {
   "cell_type": "code",
   "execution_count": null,
   "metadata": {
    "collapsed": true
   },
   "outputs": [],
   "source": [
    "pickle_filepath = 'E:/code/emi_shortcut/cache/pickled'\n",
    "output_filepath = 'E:/code/emi_shortcut/plots/intermediate'"
   ]
  },
  {
   "cell_type": "code",
   "execution_count": null,
   "metadata": {
    "collapsed": false
   },
   "outputs": [],
   "source": [
    "from run import days1234_infos, days5678_infos"
   ]
  },
  {
   "cell_type": "code",
   "execution_count": null,
   "metadata": {
    "collapsed": true
   },
   "outputs": [],
   "source": [
    "def combine_behavior(infos):\n",
    "    durations = dict(u=[], shortcut=[], novel=[])\n",
    "    n_sessions = 0\n",
    "\n",
    "    trials = []\n",
    "\n",
    "    for info in infos:\n",
    "        print(info.session_id)\n",
    "\n",
    "        events, position, spikes, lfp, lfp_theta = get_data(info)\n",
    "\n",
    "        t_start = info.task_times['phase3'].start\n",
    "        t_stop = info.task_times['phase3'].stop\n",
    "\n",
    "        sliced_pos = position.time_slice(t_start, t_stop)\n",
    "\n",
    "        feeder1_times = []\n",
    "        for feeder1 in events['feeder1']:\n",
    "            if t_start < feeder1 < t_stop:\n",
    "                feeder1_times.append(feeder1)\n",
    "\n",
    "        feeder2_times = []\n",
    "        for feeder2 in events['feeder2']:\n",
    "            if t_start < feeder2 < t_stop:\n",
    "                feeder2_times.append(feeder2)\n",
    "\n",
    "        path_pos = get_zones(info, sliced_pos)\n",
    "\n",
    "        trials_idx = get_trial_idx(path_pos['u'].time, path_pos['shortcut'].time, path_pos['novel'].time,\n",
    "                                   feeder1_times, feeder2_times, t_stop)\n",
    "\n",
    "        trials.append(trials_idx)\n",
    "\n",
    "        n_sessions += 1\n",
    "\n",
    "        for key in durations:\n",
    "            for trial in trials_idx[key]:\n",
    "                durations[key].append(trials_idx['stop_trials'][trial[0]] - trials_idx['start_trials'][trial[0]])\n",
    "    \n",
    "    return durations, trials, n_sessions"
   ]
  },
  {
   "cell_type": "code",
   "execution_count": null,
   "metadata": {
    "collapsed": false
   },
   "outputs": [],
   "source": [
    "total_n_sessions = 0\n",
    "\n",
    "durations_together = dict(trajectory=[], value=[], time=[])\n",
    "trials_together = dict(trajectory=[], value=[], time=[])\n",
    "\n",
    "durations, trials, n_sessions = combine_behavior(days1234_infos)\n",
    "total_n_sessions += n_sessions\n",
    "\n",
    "for key in durations:\n",
    "    for val in durations[key]:\n",
    "        durations_together['trajectory'].append(key)\n",
    "        durations_together['value'].append(val)\n",
    "        durations_together['time'].append('early 1-4')\n",
    "        \n",
    "for key in numbers:\n",
    "    for trial in trials:\n",
    "        trials_together['trajectory'].append(key)\n",
    "        trials_together['value'].append(len(trial[key])/float(len(trial['start_trials'])))\n",
    "        trials_together['time'].append('early 1-4')\n",
    "\n",
    "durations, trials, n_sessions = combine_behavior(days5678_infos)\n",
    "total_n_sessions += n_sessions\n",
    "\n",
    "for key in durations:\n",
    "    for val in durations[key]:\n",
    "        durations_together['trajectory'].append(key)\n",
    "        durations_together['value'].append(val)\n",
    "        durations_together['time'].append('later 5-8')\n",
    "        \n",
    "for key in numbers:\n",
    "    for trial in trials:\n",
    "        trials_together['trajectory'].append(key)\n",
    "        trials_together['value'].append(len(trial[key])/float(len(trial['start_trials'])))\n",
    "        trials_together['time'].append('later 5-8')\n",
    "\n",
    "\n",
    "df_durations = pd.DataFrame(data=durations_together)\n",
    "df_trials = pd.DataFrame(data=trials_together)"
   ]
  },
  {
   "cell_type": "code",
   "execution_count": null,
   "metadata": {
    "collapsed": false
   },
   "outputs": [],
   "source": [
    "fliersize = 3\n",
    "flierprops = dict(marker='o', markersize=fliersize, linestyle='none')\n",
    "plt.figure(figsize=(8, 5))\n",
    "\n",
    "colour = ['#bf812d', '#35978f']\n",
    "\n",
    "ax = sns.boxplot(x=\"trajectory\", y=\"value\", hue=\"time\", data=df_durations, palette=colour,\n",
    "                 flierprops=flierprops)\n",
    "ax.set(xticklabels=['U', 'Shortcut', 'Novel'])\n",
    "plt.ylabel('Duration of trial (s)')\n",
    "plt.xlabel('(sessions=' + str(total_n_sessions) + ')')\n",
    "plt.ylim(0, 120)\n",
    "sns.despine(left=False)\n",
    "\n",
    "# plt.show()\n",
    "plt.savefig(os.path.join(output_filepath, 'early-late_durations.png'), transparent=True)\n",
    "plt.close()"
   ]
  },
  {
   "cell_type": "code",
   "execution_count": null,
   "metadata": {
    "collapsed": false
   },
   "outputs": [],
   "source": [
    "plt.figure(figsize=(8, 5))\n",
    "\n",
    "colour = ['#bf812d', '#35978f']\n",
    "\n",
    "ax = sns.barplot(x=\"trajectory\", y=\"value\", hue=\"time\", data=df_trials, palette=colour)\n",
    "ax.set(xticklabels=['U', 'Shortcut', 'Novel'])\n",
    "plt.ylabel('Proportion of trials')\n",
    "plt.xlabel('(sessions=' + str(total_n_sessions) + ')')\n",
    "sns.despine(left=False)\n",
    "\n",
    "# plt.show()\n",
    "plt.savefig(os.path.join(output_filepath, 'early-late_proportions.png'), transparent=True)\n",
    "plt.close()"
   ]
  },
  {
   "cell_type": "code",
   "execution_count": null,
   "metadata": {
    "collapsed": true
   },
   "outputs": [],
   "source": []
  },
  {
   "cell_type": "code",
   "execution_count": null,
   "metadata": {
    "collapsed": true
   },
   "outputs": [],
   "source": []
  },
  {
   "cell_type": "code",
   "execution_count": null,
   "metadata": {
    "collapsed": true
   },
   "outputs": [],
   "source": []
  }
 ],
 "metadata": {
  "kernelspec": {
   "display_name": "Python 3",
   "language": "python",
   "name": "python3"
  },
  "language_info": {
   "codemirror_mode": {
    "name": "ipython",
    "version": 3
   },
   "file_extension": ".py",
   "mimetype": "text/x-python",
   "name": "python",
   "nbconvert_exporter": "python",
   "pygments_lexer": "ipython3",
   "version": "3.5.2"
  }
 },
 "nbformat": 4,
 "nbformat_minor": 0
}
