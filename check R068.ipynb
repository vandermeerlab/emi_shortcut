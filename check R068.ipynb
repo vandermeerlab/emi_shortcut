{
 "cells": [
  {
   "cell_type": "code",
   "execution_count": null,
   "metadata": {
    "ExecuteTime": {
     "end_time": "2018-12-11T19:55:59.486195Z",
     "start_time": "2018-12-11T19:55:58.581713Z"
    }
   },
   "outputs": [],
   "source": [
    "%matplotlib inline\n",
    "import matplotlib.pyplot as plt\n",
    "import os\n",
    "import numpy as np\n",
    "import nept"
   ]
  },
  {
   "cell_type": "code",
   "execution_count": null,
   "metadata": {
    "ExecuteTime": {
     "end_time": "2018-12-11T19:58:01.231354Z",
     "start_time": "2018-12-11T19:58:00.627700Z"
    }
   },
   "outputs": [],
   "source": [
    "import info.r068d8 as info\n",
    "\n",
    "dataloc = os.path.abspath(os.path.join(\"E:\\code\\emi_shortcut\", 'cache', 'data'))\n",
    "\n",
    "lfp = nept.load_lfp(os.path.join(dataloc, info.lfp_swr_filename))\n",
    "\n",
    "sliced_lfp = lfp.time_slice(4877, 4880)\n",
    "print(np.median(sliced_lfp.data))"
   ]
  },
  {
   "cell_type": "code",
   "execution_count": null,
   "metadata": {
    "ExecuteTime": {
     "end_time": "2018-12-11T20:00:04.927023Z",
     "start_time": "2018-12-11T20:00:04.764116Z"
    }
   },
   "outputs": [],
   "source": [
    "plt.plot(sliced_lfp.time, sliced_lfp.data, \".\")\n",
    "plt.show()"
   ]
  },
  {
   "cell_type": "code",
   "execution_count": null,
   "metadata": {},
   "outputs": [],
   "source": []
  },
  {
   "cell_type": "code",
   "execution_count": null,
   "metadata": {},
   "outputs": [],
   "source": []
  }
 ],
 "metadata": {
  "kernelspec": {
   "display_name": "Python 3",
   "language": "python",
   "name": "python3"
  },
  "language_info": {
   "codemirror_mode": {
    "name": "ipython",
    "version": 3
   },
   "file_extension": ".py",
   "mimetype": "text/x-python",
   "name": "python",
   "nbconvert_exporter": "python",
   "pygments_lexer": "ipython3",
   "version": "3.6.5"
  },
  "toc": {
   "colors": {
    "hover_highlight": "#DAA520",
    "running_highlight": "#FF0000",
    "selected_highlight": "#FFD700"
   },
   "moveMenuLeft": true,
   "nav_menu": {
    "height": "12px",
    "width": "252px"
   },
   "navigate_menu": true,
   "number_sections": true,
   "sideBar": true,
   "threshold": 4,
   "toc_cell": false,
   "toc_section_display": "block",
   "toc_window_display": false
  }
 },
 "nbformat": 4,
 "nbformat_minor": 2
}
