{
 "cells": [
  {
   "cell_type": "code",
   "execution_count": null,
   "metadata": {
    "ExecuteTime": {
     "end_time": "2018-08-28T15:32:36.743696Z",
     "start_time": "2018-08-28T15:32:35.630898Z"
    },
    "collapsed": true
   },
   "outputs": [],
   "source": [
    "%matplotlib inline\n",
    "import matplotlib.pyplot as plt\n",
    "import numpy as np\n",
    "import scipy\n",
    "import os\n",
    "import nept\n",
    "\n",
    "from loading_data import get_data\n",
    "from utils_maze import get_bin_centers, get_zones, get_trials, get_xy_idx"
   ]
  },
  {
   "cell_type": "code",
   "execution_count": null,
   "metadata": {
    "ExecuteTime": {
     "end_time": "2018-08-28T15:32:36.801665Z",
     "start_time": "2018-08-28T15:32:36.745677Z"
    },
    "collapsed": true
   },
   "outputs": [],
   "source": [
    "import info.r063d7 as r063d7\n",
    "import info.r063d8 as r063d8\n",
    "# infos = [r063d7, r063d8]\n",
    "from run import analysis_infos\n",
    "infos = analysis_infos"
   ]
  },
  {
   "cell_type": "code",
   "execution_count": null,
   "metadata": {
    "ExecuteTime": {
     "end_time": "2018-08-28T15:32:36.807643Z",
     "start_time": "2018-08-28T15:32:36.802664Z"
    },
    "collapsed": true
   },
   "outputs": [],
   "source": [
    "thisdir = os.getcwd()\n",
    "pickle_filepath = os.path.join(thisdir, \"cache\", \"pickled\")\n",
    "output_filepath = os.path.join(thisdir, \"plots\", \"behavior-bytrajectory\")\n",
    "if not os.path.exists(output_filepath):\n",
    "    os.makedirs(output_filepath)"
   ]
  },
  {
   "cell_type": "code",
   "execution_count": null,
   "metadata": {
    "ExecuteTime": {
     "end_time": "2018-08-28T15:32:36.817637Z",
     "start_time": "2018-08-28T15:32:36.809659Z"
    },
    "collapsed": true
   },
   "outputs": [],
   "source": [
    "savefigs = False\n",
    "\n",
    "u_colour = \"#1d91c0\"\n",
    "shortcut_colour = \"#41ab5d\"\n",
    "novel_colour = \"#ef6548\"\n",
    "colours = [u_colour, shortcut_colour, novel_colour]"
   ]
  },
  {
   "cell_type": "code",
   "execution_count": null,
   "metadata": {
    "ExecuteTime": {
     "end_time": "2018-08-28T15:33:08.477554Z",
     "start_time": "2018-08-28T15:32:36.819636Z"
    },
    "collapsed": true
   },
   "outputs": [],
   "source": [
    "min_samples = 50\n",
    "len_min_trials = 30\n",
    "\n",
    "maze_segments = [\"u\", \"shortcut\", \"novel\"]\n",
    "n_sessions = 0\n",
    "\n",
    "all_n_trials = {key: [] for key in maze_segments}\n",
    "all_trial_duration = {key: [] for key in maze_segments}\n",
    "all_trial_order = {key: [] for key in maze_segments}\n",
    "\n",
    "for info in infos:\n",
    "    events, position, _, _, _ = get_data(info)\n",
    "    \n",
    "    n_sessions += 1\n",
    "\n",
    "    phase = info.task_times[\"phase3\"]\n",
    "    trials = get_trials(events, phase)\n",
    "\n",
    "    u_zone, shortcut_zone, novel_zone = get_zones(info, position)\n",
    "\n",
    "    n_trials = {key: 0 for key in maze_segments}\n",
    "    trial_duration = {key: [] for key in maze_segments}\n",
    "    trial_order = {key: np.zeros(len_min_trials) for key in maze_segments}\n",
    "\n",
    "    for i, (trial_start, trial_stop) in enumerate(zip(trials.starts, trials.stops)):\n",
    "        x_idxs, y_idxs = get_xy_idx(info, position.time_slice(trial_start, trial_stop))\n",
    "\n",
    "        if np.sum(novel_zone[y_idxs, x_idxs]) > min_samples:\n",
    "            n_trials[\"novel\"] += 1\n",
    "            trial_duration[\"novel\"].append(trial_stop-trial_start)\n",
    "            if i < len_min_trials:\n",
    "                trial_order[\"novel\"][i] = 1.0\n",
    "        elif np.sum(shortcut_zone[y_idxs, x_idxs]) > min_samples:\n",
    "            n_trials[\"shortcut\"] += 1\n",
    "            trial_duration[\"shortcut\"].append(trial_stop-trial_start)\n",
    "            if i < len_min_trials:\n",
    "                trial_order[\"shortcut\"][i] = 1.0\n",
    "        elif np.sum(u_zone[y_idxs, x_idxs]) > min_samples:\n",
    "            n_trials[\"u\"] += 1\n",
    "            trial_duration[\"u\"].append(trial_stop-trial_start)\n",
    "            if i < len_min_trials:\n",
    "                trial_order[\"u\"][i] = 1.0\n",
    "    for maze_segment in maze_segments:\n",
    "        all_n_trials[maze_segment].append(n_trials[maze_segment])\n",
    "        all_trial_duration[maze_segment].extend(trial_duration[maze_segment])\n",
    "        all_trial_order[maze_segment].append(trial_order[maze_segment])"
   ]
  },
  {
   "cell_type": "code",
   "execution_count": null,
   "metadata": {
    "ExecuteTime": {
     "end_time": "2018-08-28T15:33:08.587134Z",
     "start_time": "2018-08-28T15:33:08.477554Z"
    }
   },
   "outputs": [],
   "source": [
    "fig, ax = plt.subplots()\n",
    "n_bars = np.arange(3)\n",
    "n_trials = np.sum([np.mean(all_n_trials[maze_segment]) for maze_segment in maze_segments])\n",
    "plt.bar(n_bars, [np.mean(all_n_trials[maze_segment])/n_trials for maze_segment in maze_segments], color=colours,\n",
    "        yerr=[scipy.stats.sem(all_n_trials[maze_segment])/n_trials for maze_segment in maze_segments])\n",
    "plt.xticks(n_bars, maze_segments)\n",
    "\n",
    "if n_sessions == 1:\n",
    "    title = \"Proporiton for \" + info.session_id\n",
    "else:\n",
    "    title = \"Proporiton for all sessions\"\n",
    "    \n",
    "plt.title(title)\n",
    "plt.ylabel(\"Proportion of trials\")\n",
    "ax.spines['right'].set_visible(False)\n",
    "ax.spines['top'].set_visible(False)\n",
    "\n",
    "plt.tight_layout()\n",
    "\n",
    "if savefigs:\n",
    "    plt.savefig(os.path.join(output_filepath, title+\".png\"))\n",
    "    plt.close()\n",
    "else:\n",
    "    plt.show()"
   ]
  },
  {
   "cell_type": "code",
   "execution_count": null,
   "metadata": {
    "ExecuteTime": {
     "end_time": "2018-08-28T15:33:08.689077Z",
     "start_time": "2018-08-28T15:33:08.588134Z"
    }
   },
   "outputs": [],
   "source": [
    "fig, ax = plt.subplots()\n",
    "bp = plt.boxplot([all_trial_duration[maze_segment] for maze_segment in maze_segments], patch_artist=True)\n",
    "\n",
    "## change outline color, fill color and linewidth of the boxes\n",
    "for box in bp['boxes']:\n",
    "    # change outline color\n",
    "    box.set(color='#543005', linewidth=2)\n",
    "    # change fill color\n",
    "    box.set(facecolor = '#35978f')\n",
    "\n",
    "## change color and linewidth of the whiskers\n",
    "for whisker in bp['whiskers']:\n",
    "    whisker.set(color='#543005', linewidth=2)\n",
    "\n",
    "## change color and linewidth of the caps\n",
    "for cap in bp['caps']:\n",
    "    cap.set(color='#543005', linewidth=2)\n",
    "\n",
    "## change color and linewidth of the medians\n",
    "for median in bp['medians']:\n",
    "    median.set(color='#80cdc1', linewidth=2)\n",
    "\n",
    "## change the style of fliers and their fill\n",
    "for flier in bp['fliers']:\n",
    "    flier.set(marker='o', color='#e7298a', alpha=0.5)\n",
    "    \n",
    "ax.set_xticklabels(maze_segments)\n",
    "ax.spines['right'].set_visible(False)\n",
    "ax.spines['top'].set_visible(False)\n",
    "\n",
    "if n_sessions == 1:\n",
    "    title = \"Trial duration for \" + info.session_id\n",
    "else:\n",
    "    title = \"Trial duration for all sessions\"\n",
    "    \n",
    "plt.title(title)\n",
    "plt.ylim(0, 150)\n",
    "\n",
    "plt.tight_layout()\n",
    "if savefigs:\n",
    "    plt.savefig(os.path.join(output_filepath, title+\".png\"))\n",
    "    plt.close()\n",
    "else:\n",
    "    plt.show()"
   ]
  },
  {
   "cell_type": "code",
   "execution_count": null,
   "metadata": {
    "ExecuteTime": {
     "end_time": "2018-08-28T15:33:08.842348Z",
     "start_time": "2018-08-28T15:33:08.690075Z"
    }
   },
   "outputs": [],
   "source": [
    "trials = np.arange(30)\n",
    "\n",
    "fig, ax = plt.subplots(figsize=(7,5))\n",
    "\n",
    "u_mean = np.mean(all_trial_order[\"u\"], axis=0)\n",
    "u_sem = scipy.stats.sem(all_trial_order[\"u\"], axis=0)\n",
    "plt.plot(u_mean, \"b\")\n",
    "ax.fill_between(trials, u_mean - u_sem,\n",
    "                        u_mean + u_sem,\n",
    "                        color=u_colour, interpolate=True, alpha=0.2)\n",
    "\n",
    "shortcut_mean = np.mean(all_trial_order[\"shortcut\"], axis=0)\n",
    "shortcut_sem = scipy.stats.sem(all_trial_order[\"shortcut\"], axis=0)\n",
    "plt.plot(shortcut_mean, \"g\")\n",
    "ax.fill_between(trials, shortcut_mean - shortcut_sem,\n",
    "                        shortcut_mean + shortcut_sem,\n",
    "                        color=shortcut_colour, interpolate=True, alpha=0.2)\n",
    "\n",
    "novel_mean = np.mean(all_trial_order[\"novel\"], axis=0)\n",
    "novel_sem = scipy.stats.sem(all_trial_order[\"novel\"], axis=0)\n",
    "plt.plot(novel_mean, \"r\")\n",
    "ax.fill_between(trials, novel_mean - novel_sem,\n",
    "                        novel_mean + novel_sem,\n",
    "                        color=novel_colour, interpolate=True, alpha=0.2)\n",
    "\n",
    "ax.legend(maze_segments, bbox_to_anchor=(1.2, 1.0))\n",
    "ax.spines['right'].set_visible(False)\n",
    "ax.spines['top'].set_visible(False)\n",
    "\n",
    "if n_sessions == 1:\n",
    "    title = \"Choice over time for \" + info.session_id\n",
    "else:\n",
    "    title = \"Choice over time for all sessions\"\n",
    "plt.title(title)\n",
    "\n",
    "plt.tight_layout()\n",
    "if savefigs:\n",
    "    plt.savefig(os.path.join(output_filepath, title+\".png\"))\n",
    "    plt.close()\n",
    "else:\n",
    "    plt.show()"
   ]
  },
  {
   "cell_type": "code",
   "execution_count": null,
   "metadata": {
    "collapsed": true
   },
   "outputs": [],
   "source": []
  },
  {
   "cell_type": "code",
   "execution_count": null,
   "metadata": {
    "collapsed": true
   },
   "outputs": [],
   "source": []
  },
  {
   "cell_type": "code",
   "execution_count": null,
   "metadata": {
    "ExecuteTime": {
     "end_time": "2018-08-28T15:33:14.141622Z",
     "start_time": "2018-08-28T15:33:08.843316Z"
    },
    "scrolled": true
   },
   "outputs": [],
   "source": [
    "trials = get_trials(events, phase)\n",
    "for trial_start, trial_stop in zip(trials.starts[:10], trials.stops[:10]):\n",
    "\n",
    "    tt = position.time_slice(trial_start, trial_stop)\n",
    "\n",
    "    plt.plot(position.x, position.y, \"y.\")\n",
    "    plt.plot(tt.x, tt.y, \"k.\", ms=4)\n",
    "    plt.show()"
   ]
  },
  {
   "cell_type": "code",
   "execution_count": null,
   "metadata": {
    "collapsed": true
   },
   "outputs": [],
   "source": []
  },
  {
   "cell_type": "code",
   "execution_count": null,
   "metadata": {},
   "outputs": [],
   "source": [
    "7. + 9.97 + 15. + 9.09"
   ]
  },
  {
   "cell_type": "code",
   "execution_count": null,
   "metadata": {},
   "outputs": [],
   "source": [
    "60-41.06"
   ]
  },
  {
   "cell_type": "code",
   "execution_count": null,
   "metadata": {
    "collapsed": true
   },
   "outputs": [],
   "source": []
  }
 ],
 "metadata": {
  "kernelspec": {
   "display_name": "Python 3",
   "language": "python",
   "name": "python3"
  },
  "language_info": {
   "codemirror_mode": {
    "name": "ipython",
    "version": 3
   },
   "file_extension": ".py",
   "mimetype": "text/x-python",
   "name": "python",
   "nbconvert_exporter": "python",
   "pygments_lexer": "ipython3",
   "version": "3.6.5"
  },
  "toc": {
   "colors": {
    "hover_highlight": "#DAA520",
    "running_highlight": "#FF0000",
    "selected_highlight": "#FFD700"
   },
   "moveMenuLeft": true,
   "nav_menu": {
    "height": "12px",
    "width": "252px"
   },
   "navigate_menu": true,
   "number_sections": true,
   "sideBar": true,
   "threshold": 4,
   "toc_cell": false,
   "toc_section_display": "block",
   "toc_window_display": false
  }
 },
 "nbformat": 4,
 "nbformat_minor": 2
}
