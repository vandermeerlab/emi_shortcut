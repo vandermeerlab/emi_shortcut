{
 "cells": [
  {
   "cell_type": "code",
   "execution_count": null,
   "metadata": {
    "collapsed": true
   },
   "outputs": [],
   "source": [
    "%matplotlib inline\n",
    "import matplotlib.pyplot as plt\n",
    "import numpy as np\n",
    "import os\n",
    "import nept\n",
    "\n",
    "from loading_data import get_data\n",
    "from utils_maze import get_bin_centers, get_subset_zones, get_trials, get_xy_idx"
   ]
  },
  {
   "cell_type": "code",
   "execution_count": null,
   "metadata": {
    "collapsed": true
   },
   "outputs": [],
   "source": [
    "import info.r063d7 as r063d7\n",
    "import info.r063d8 as r063d8\n",
    "# infos = [r063d7, r063d8]\n",
    "from run import analysis_infos\n",
    "infos = analysis_infos"
   ]
  },
  {
   "cell_type": "code",
   "execution_count": null,
   "metadata": {},
   "outputs": [],
   "source": [
    "min_samples = 50\n",
    "len_min_trials = 30\n",
    "\n",
    "maze_segments = [\"u\", \"shortcut\", \"novel\"]\n",
    "\n",
    "all_n_trials = {key: [] for key in maze_segments}\n",
    "all_trial_duration = {key: [] for key in maze_segments}\n",
    "all_trial_order = {key: [] for key in maze_segments}\n",
    "\n",
    "for info in infos:\n",
    "    events, position, _, _, _ = get_data(info)\n",
    "\n",
    "    phase = info.task_times[\"phase3\"]\n",
    "    trials = get_trials(events, phase)\n",
    "\n",
    "    u_zone, shortcut_zone, novel_zone = get_subset_zones(info, position)\n",
    "\n",
    "    n_trials = {key: 0 for key in maze_segments}\n",
    "    trial_duration = {key: [] for key in maze_segments}\n",
    "    trial_order = {key: np.zeros(len_min_trials) for key in maze_segments}\n",
    "\n",
    "    for i, (trial_start, trial_stop) in enumerate(zip(trials.starts, trials.stops)):\n",
    "        x_idxs, y_idxs = get_xy_idx(info, position.time_slice(trial_start, trial_stop))\n",
    "\n",
    "        if np.sum(novel_zone[y_idxs, x_idxs]) > min_samples:\n",
    "            n_trials[\"novel\"] += 1\n",
    "            trial_duration[\"novel\"].append(trial_stop-trial_start)\n",
    "            if i < len_min_trials:\n",
    "                trial_order[\"novel\"][i] = 1.0\n",
    "        elif np.sum(shortcut_zone[y_idxs, x_idxs]) > min_samples:\n",
    "            n_trials[\"shortcut\"] += 1\n",
    "            trial_duration[\"shortcut\"].append(trial_stop-trial_start)\n",
    "            if i < len_min_trials:\n",
    "                trial_order[\"shortcut\"][i] = 1.0\n",
    "        elif np.sum(u_zone[y_idxs, x_idxs]) > min_samples:\n",
    "            n_trials[\"u\"] += 1\n",
    "            trial_duration[\"u\"].append(trial_stop-trial_start)\n",
    "            if i < len_min_trials:\n",
    "                trial_order[\"u\"][i] = 1.0\n",
    "    for maze_segment in maze_segments:\n",
    "        all_n_trials[maze_segment].append(n_trials[maze_segment])\n",
    "        all_trial_duration[maze_segment].extend(trial_duration[maze_segment])\n",
    "        all_trial_order[maze_segment].append(trial_order[maze_segment])"
   ]
  },
  {
   "cell_type": "code",
   "execution_count": null,
   "metadata": {
    "collapsed": true
   },
   "outputs": [],
   "source": []
  },
  {
   "cell_type": "code",
   "execution_count": null,
   "metadata": {
    "collapsed": true
   },
   "outputs": [],
   "source": []
  },
  {
   "cell_type": "code",
   "execution_count": null,
   "metadata": {},
   "outputs": [],
   "source": [
    "n_bars = np.arange(3)\n",
    "plt.bar(n_bars, [n_trials[maze_segment] for maze_segment in maze_segments])\n",
    "plt.xticks(n_bars, maze_segments)\n",
    "plt.title(\"N trials for \"+ info.session_id)\n",
    "plt.show()"
   ]
  },
  {
   "cell_type": "code",
   "execution_count": null,
   "metadata": {},
   "outputs": [],
   "source": [
    "n_bars = np.arange(3)\n",
    "plt.bar(n_bars, [np.mean(all_n_trials[maze_segment]) for maze_segment in maze_segments])\n",
    "plt.xticks(n_bars, maze_segments)\n",
    "plt.title(\"N trials for \"+ info.session_id)\n",
    "plt.show()"
   ]
  },
  {
   "cell_type": "code",
   "execution_count": null,
   "metadata": {},
   "outputs": [],
   "source": [
    "plt.boxplot([trial_duration[maze_segment] for maze_segment in maze_segments])\n",
    "plt.show()"
   ]
  },
  {
   "cell_type": "code",
   "execution_count": null,
   "metadata": {},
   "outputs": [],
   "source": [
    "fig, ax = plt.subplots()\n",
    "bp = plt.boxplot([trial_duration[maze_segment] for maze_segment in maze_segments], patch_artist=True)\n",
    "\n",
    "## change outline color, fill color and linewidth of the boxes\n",
    "for box in bp['boxes']:\n",
    "    # change outline color\n",
    "    box.set(color='#7570b3', linewidth=2)\n",
    "    # change fill color\n",
    "    box.set(facecolor = '#1b9e77')\n",
    "\n",
    "## change color and linewidth of the whiskers\n",
    "for whisker in bp['whiskers']:\n",
    "    whisker.set(color='#7570b3', linewidth=2)\n",
    "\n",
    "## change color and linewidth of the caps\n",
    "for cap in bp['caps']:\n",
    "    cap.set(color='#7570b3', linewidth=2)\n",
    "\n",
    "## change color and linewidth of the medians\n",
    "for median in bp['medians']:\n",
    "    median.set(color='#b2df8a', linewidth=2)\n",
    "\n",
    "## change the style of fliers and their fill\n",
    "for flier in bp['fliers']:\n",
    "    flier.set(marker='o', color='#e7298a', alpha=0.5)\n",
    "    \n",
    "ax.set_xticklabels(maze_segments)\n",
    "plt.title(\"Trial duration for \"+ info.session_id)\n",
    "plt.show()"
   ]
  },
  {
   "cell_type": "code",
   "execution_count": null,
   "metadata": {},
   "outputs": [],
   "source": [
    "fig, ax = plt.subplots()\n",
    "bp = plt.boxplot([all_trial_duration[maze_segment] for maze_segment in maze_segments], patch_artist=True)\n",
    "\n",
    "## change outline color, fill color and linewidth of the boxes\n",
    "for box in bp['boxes']:\n",
    "    # change outline color\n",
    "    box.set(color='#7570b3', linewidth=2)\n",
    "    # change fill color\n",
    "    box.set(facecolor = '#1b9e77')\n",
    "\n",
    "## change color and linewidth of the whiskers\n",
    "for whisker in bp['whiskers']:\n",
    "    whisker.set(color='#7570b3', linewidth=2)\n",
    "\n",
    "## change color and linewidth of the caps\n",
    "for cap in bp['caps']:\n",
    "    cap.set(color='#7570b3', linewidth=2)\n",
    "\n",
    "## change color and linewidth of the medians\n",
    "for median in bp['medians']:\n",
    "    median.set(color='#b2df8a', linewidth=2)\n",
    "\n",
    "## change the style of fliers and their fill\n",
    "for flier in bp['fliers']:\n",
    "    flier.set(marker='o', color='#e7298a', alpha=0.5)\n",
    "    \n",
    "ax.set_xticklabels(maze_segments)\n",
    "plt.title(\"Trial duration for all sessions\")\n",
    "plt.show()"
   ]
  },
  {
   "cell_type": "code",
   "execution_count": null,
   "metadata": {},
   "outputs": [],
   "source": [
    "plt.plot(np.mean(all_trial_order[\"u\"], axis=0), \"b\")\n",
    "plt.plot(np.mean(all_trial_order[\"shortcut\"], axis=0), \"g\")\n",
    "plt.plot(np.mean(all_trial_order[\"novel\"], axis=0), \"r\")\n",
    "plt.legend(maze_segments)\n",
    "plt.title(\"Choice over time\")\n",
    "plt.show()"
   ]
  },
  {
   "cell_type": "code",
   "execution_count": null,
   "metadata": {
    "collapsed": true
   },
   "outputs": [],
   "source": []
  },
  {
   "cell_type": "code",
   "execution_count": null,
   "metadata": {
    "scrolled": true
   },
   "outputs": [],
   "source": [
    "for trial_start, trial_stop in zip(trials.starts[:10], trials.stops[:10]):\n",
    "\n",
    "    tt = position.time_slice(trial_start, trial_stop)\n",
    "\n",
    "    plt.plot(position.x, position.y, \"y.\")\n",
    "    plt.plot(tt.x, tt.y, \"k.\", ms=4)\n",
    "    plt.show()"
   ]
  },
  {
   "cell_type": "code",
   "execution_count": null,
   "metadata": {
    "collapsed": true
   },
   "outputs": [],
   "source": []
  },
  {
   "cell_type": "code",
   "execution_count": null,
   "metadata": {
    "collapsed": true
   },
   "outputs": [],
   "source": []
  }
 ],
 "metadata": {
  "kernelspec": {
   "display_name": "Python 3",
   "language": "python",
   "name": "python3"
  },
  "language_info": {
   "codemirror_mode": {
    "name": "ipython",
    "version": 3
   },
   "file_extension": ".py",
   "mimetype": "text/x-python",
   "name": "python",
   "nbconvert_exporter": "python",
   "pygments_lexer": "ipython3",
   "version": "3.6.5"
  }
 },
 "nbformat": 4,
 "nbformat_minor": 2
}
