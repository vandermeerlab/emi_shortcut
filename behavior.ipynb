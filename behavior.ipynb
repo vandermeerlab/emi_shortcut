{
 "cells": [
  {
   "cell_type": "code",
   "execution_count": null,
   "metadata": {
    "collapsed": true
   },
   "outputs": [],
   "source": [
    "%matplotlib inline\n",
    "import numpy as np\n",
    "import matplotlib.pyplot as plt\n",
    "\n",
    "import os\n",
    "import numpy as np\n",
    "import vdmlab as vdm\n",
    "\n",
    "from maze_functions import get_trial_idx, get_zones\n",
    "from plotting_functions import plot_proportions, plot_bydurations, plot_bytrial\n",
    "\n",
    "import info.R063d2_info as r063d2\n",
    "import info.R063d3_info as r063d3\n",
    "import info.R063d4_info as r063d4\n",
    "import info.R063d5_info as r063d5\n",
    "import info.R063d6_info as r063d6\n",
    "import info.R066d1_info as r066d1\n",
    "import info.R066d2_info as r066d2\n",
    "import info.R066d4_info as r066d4"
   ]
  },
  {
   "cell_type": "code",
   "execution_count": null,
   "metadata": {
    "collapsed": true
   },
   "outputs": [],
   "source": [
    "# pickle_filepath = 'E:\\\\code\\\\python-vdmlab\\\\projects\\\\emily_shortcut\\\\cache\\\\pickled\\\\'\n",
    "# output_filepath = 'E:\\\\code\\\\python-vdmlab\\\\projects\\\\emily_shortcut\\\\plots\\\\sequence\\\\'\n",
    "pickle_filepath = 'C:\\\\Users\\\\Emily\\\\Code\\\\python-vdmlab\\\\projects\\\\emily_shortcut\\\\cache\\\\pickled\\\\'\n",
    "output_filepath = 'C:\\\\Users\\\\Emily\\\\Code\\\\python-vdmlab\\\\projects\\\\emily_shortcut\\\\plots\\\\sequence\\\\'"
   ]
  },
  {
   "cell_type": "code",
   "execution_count": null,
   "metadata": {
    "collapsed": false
   },
   "outputs": [],
   "source": [
    "infos = [r063d2, r063d3]\n",
    "# infos = [r063d2, r063d3, r063d4, r063d5, r063d6, r066d1, r066d2, r066d4]\n",
    "\n",
    "durations = dict(u=[], shortcut=[], novel=[])\n",
    "num_sessions = 0\n",
    "\n",
    "trials = []\n",
    "\n",
    "for info in infos:\n",
    "    print(info.session_id)\n",
    "    t_start = info.task_times['phase3'][0]\n",
    "    t_stop = info.task_times['phase3'][1]\n",
    "\n",
    "    pos = info.get_pos(info.pxl_to_cm)\n",
    "    # Slicing position to only Phase 3\n",
    "    t_start_idx = vdm.find_nearest_idx(np.array(pos['time']), t_start)\n",
    "    t_end_idx = vdm.find_nearest_idx(np.array(pos['time']), t_stop)\n",
    "\n",
    "    sliced_pos = dict()\n",
    "    sliced_pos['x'] = pos['x'][t_start_idx:t_end_idx]\n",
    "    sliced_pos['y'] = pos['y'][t_start_idx:t_end_idx]\n",
    "    sliced_pos['time'] = pos['time'][t_start_idx:t_end_idx]\n",
    "\n",
    "    # Slicing events to only Phase 3\n",
    "    events = info.get_events()\n",
    "    \n",
    "    feeder1_times = []\n",
    "    for feeder1 in events['feeder1']:\n",
    "        if t_start < feeder1 < t_stop:\n",
    "            feeder1_times.append(feeder1)\n",
    "            \n",
    "    feeder2_times = []\n",
    "    for feeder2 in events['feeder2']:\n",
    "        if t_start < feeder2 < t_stop:\n",
    "            feeder2_times.append(feeder2)\n",
    "\n",
    "    spike_pos = get_zones(info, sliced_pos)\n",
    "\n",
    "    trials_idx = get_trial_idx(spike_pos['u']['time'], spike_pos['shortcut']['time'], spike_pos['novel']['time'],\n",
    "                               feeder1_times, feeder2_times, t_stop)\n",
    "\n",
    "    trials.append(trials_idx)\n",
    "\n",
    "    num_sessions += 1\n",
    "\n",
    "    for key in durations:\n",
    "        for trial in trials_idx[key]:\n",
    "            durations[key].append(trials_idx['stop_trials'][trial[0]] - trials_idx['start_trials'][trial[0]])\n",
    "\n",
    "durations['num_sessions'] = num_sessions\n",
    "\n",
    "\n",
    "shortcuts = []\n",
    "us = []\n",
    "novels = []\n",
    "togethers = []\n",
    "\n",
    "for trial in trials:\n",
    "    shortcuts.append(len(trial['shortcut'])/float(len(trial['start_trials'])))\n",
    "    us.append(len(trial['u'])/float(len(trial['start_trials'])))\n",
    "    novels.append(len(trial['novel'])/float(len(trial['start_trials'])))\n",
    "    togethers.append(sorted(trial['u'] + trial['shortcut'] + trial['novel']))"
   ]
  },
  {
   "cell_type": "code",
   "execution_count": null,
   "metadata": {
    "collapsed": false
   },
   "outputs": [],
   "source": [
    "plt.plot(spike_pos['u']['x'], spike_pos['u']['y'], 'b.')\n",
    "plt.plot(spike_pos['shortcut']['x'], spike_pos['shortcut']['y'], 'g.')\n",
    "plt.plot(spike_pos['novel']['x'], spike_pos['novel']['y'], 'r.')\n",
    "plt.show()"
   ]
  },
  {
   "cell_type": "code",
   "execution_count": null,
   "metadata": {
    "collapsed": false
   },
   "outputs": [],
   "source": [
    "print(trials_idx)"
   ]
  },
  {
   "cell_type": "code",
   "execution_count": null,
   "metadata": {
    "collapsed": false
   },
   "outputs": [],
   "source": [
    "print(feeder1_times, feeder2_times)"
   ]
  },
  {
   "cell_type": "code",
   "execution_count": null,
   "metadata": {
    "collapsed": true
   },
   "outputs": [],
   "source": []
  },
  {
   "cell_type": "code",
   "execution_count": null,
   "metadata": {
    "collapsed": false
   },
   "outputs": [],
   "source": [
    "savepath = os.path.join(output_filepath, 'shortcut_behaviour_proportions.png')\n",
    "plot_proportions(us, shortcuts, novels, savepath, savefig=False)\n",
    "\n",
    "savepath = os.path.join(output_filepath, 'shortcut_behavior_durations.png')\n",
    "plot_bydurations(durations, savepath, savefig=False)\n",
    "\n",
    "savepath = os.path.join(output_filepath, 'shortcut_behaviour_bytrial.png')\n",
    "plot_bytrial(togethers, savepath, savefig=False)"
   ]
  },
  {
   "cell_type": "code",
   "execution_count": null,
   "metadata": {
    "collapsed": true
   },
   "outputs": [],
   "source": []
  }
 ],
 "metadata": {
  "kernelspec": {
   "display_name": "Python 3",
   "language": "python",
   "name": "python3"
  },
  "language_info": {
   "codemirror_mode": {
    "name": "ipython",
    "version": 3
   },
   "file_extension": ".py",
   "mimetype": "text/x-python",
   "name": "python",
   "nbconvert_exporter": "python",
   "pygments_lexer": "ipython3",
   "version": "3.5.2"
  }
 },
 "nbformat": 4,
 "nbformat_minor": 0
}
